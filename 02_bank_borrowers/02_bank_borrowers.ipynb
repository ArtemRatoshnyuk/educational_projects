{
 "cells": [
  {
   "cell_type": "markdown",
   "metadata": {},
   "source": [
    "# Исследование надежности заемщиков."
   ]
  },
  {
   "cell_type": "markdown",
   "metadata": {},
   "source": [
    "**Заказчик** — кредитный отдел банка"
   ]
  },
  {
   "cell_type": "markdown",
   "metadata": {},
   "source": [
    "**Цель Заказчика.** Снижение рисков по кредитным операциям посредством настройки системы оценки способности потенциального заёмщика своевременно возвращать кредит банку.\n",
    "\n",
    "**Цель исследования.** Для построения модели кредитного скоринга определить влияние семейного положения и количества детей клиента на факт погашения им кредита в установленный срок\n",
    "\n",
    "**Задачи**\n",
    "* Определить наличие зависимости между количеством детей и возвратом кредита в срок\n",
    "* Определить наличие зависимости между семейным положением и возвратом кредита в срок\n",
    "* Определить наличие зависимости между уровнем дохода и возвратом кредита в срок\n",
    "* Выявить влияние целей кредита на своевременность его возврата\n",
    "\n",
    "**Входные данные от Заказчика.** Файл в формате .csv со статистикой о платёжеспособности клиентов.\n",
    "\n",
    "**Ожидаемый результат.** Определены факторы, коррелирующие со способностью заёмщика своевременно вернуть кредит банку"
   ]
  },
  {
   "cell_type": "markdown",
   "metadata": {},
   "source": [
    "### Шаг 1. Обзор данных"
   ]
  },
  {
   "cell_type": "markdown",
   "metadata": {},
   "source": [
    "1. Открыть таблицу \n",
    "2. Изучить структуру данных по десяти первым строкам\n",
    "3. Изучить структуру данных методом info()"
   ]
  },
  {
   "cell_type": "markdown",
   "metadata": {},
   "source": [
    "**Описание данных**\n",
    "- **children** — количество детей в семье\n",
    "- **days_employed** — общий трудовой стаж в днях\n",
    "- **dob_years** — возраст клиента в годах\n",
    "- **education** — уровень образования клиента\n",
    "- **education_id** — идентификатор уровня образования\n",
    "- **family_status** — семейное положение\n",
    "- **family_status_id** — идентификатор семейного положения\n",
    "- **gender** — пол клиента\n",
    "- **income_type** — тип занятости\n",
    "- **debt** — имел ли задолженность по возврату кредитов\n",
    "- **total_income** — ежемесячный доход\n",
    "- **purpose** — цель получения кредита"
   ]
  },
  {
   "cell_type": "code",
   "execution_count": 1,
   "metadata": {},
   "outputs": [],
   "source": [
    "#Импорт библиотеки\n",
    "import pandas as pd"
   ]
  },
  {
   "cell_type": "code",
   "execution_count": 2,
   "metadata": {},
   "outputs": [],
   "source": [
    "#Чтение файла\n",
    "df = pd.read_csv('/datasets/data.csv')"
   ]
  },
  {
   "cell_type": "code",
   "execution_count": 3,
   "metadata": {},
   "outputs": [
    {
     "data": {
      "text/html": [
       "<div>\n",
       "<style scoped>\n",
       "    .dataframe tbody tr th:only-of-type {\n",
       "        vertical-align: middle;\n",
       "    }\n",
       "\n",
       "    .dataframe tbody tr th {\n",
       "        vertical-align: top;\n",
       "    }\n",
       "\n",
       "    .dataframe thead th {\n",
       "        text-align: right;\n",
       "    }\n",
       "</style>\n",
       "<table border=\"1\" class=\"dataframe\">\n",
       "  <thead>\n",
       "    <tr style=\"text-align: right;\">\n",
       "      <th></th>\n",
       "      <th>children</th>\n",
       "      <th>days_employed</th>\n",
       "      <th>dob_years</th>\n",
       "      <th>education</th>\n",
       "      <th>education_id</th>\n",
       "      <th>family_status</th>\n",
       "      <th>family_status_id</th>\n",
       "      <th>gender</th>\n",
       "      <th>income_type</th>\n",
       "      <th>debt</th>\n",
       "      <th>total_income</th>\n",
       "      <th>purpose</th>\n",
       "    </tr>\n",
       "  </thead>\n",
       "  <tbody>\n",
       "    <tr>\n",
       "      <td>0</td>\n",
       "      <td>1</td>\n",
       "      <td>-8437.673028</td>\n",
       "      <td>42</td>\n",
       "      <td>высшее</td>\n",
       "      <td>0</td>\n",
       "      <td>женат / замужем</td>\n",
       "      <td>0</td>\n",
       "      <td>F</td>\n",
       "      <td>сотрудник</td>\n",
       "      <td>0</td>\n",
       "      <td>253875.639453</td>\n",
       "      <td>покупка жилья</td>\n",
       "    </tr>\n",
       "    <tr>\n",
       "      <td>1</td>\n",
       "      <td>1</td>\n",
       "      <td>-4024.803754</td>\n",
       "      <td>36</td>\n",
       "      <td>среднее</td>\n",
       "      <td>1</td>\n",
       "      <td>женат / замужем</td>\n",
       "      <td>0</td>\n",
       "      <td>F</td>\n",
       "      <td>сотрудник</td>\n",
       "      <td>0</td>\n",
       "      <td>112080.014102</td>\n",
       "      <td>приобретение автомобиля</td>\n",
       "    </tr>\n",
       "    <tr>\n",
       "      <td>2</td>\n",
       "      <td>0</td>\n",
       "      <td>-5623.422610</td>\n",
       "      <td>33</td>\n",
       "      <td>Среднее</td>\n",
       "      <td>1</td>\n",
       "      <td>женат / замужем</td>\n",
       "      <td>0</td>\n",
       "      <td>M</td>\n",
       "      <td>сотрудник</td>\n",
       "      <td>0</td>\n",
       "      <td>145885.952297</td>\n",
       "      <td>покупка жилья</td>\n",
       "    </tr>\n",
       "    <tr>\n",
       "      <td>3</td>\n",
       "      <td>3</td>\n",
       "      <td>-4124.747207</td>\n",
       "      <td>32</td>\n",
       "      <td>среднее</td>\n",
       "      <td>1</td>\n",
       "      <td>женат / замужем</td>\n",
       "      <td>0</td>\n",
       "      <td>M</td>\n",
       "      <td>сотрудник</td>\n",
       "      <td>0</td>\n",
       "      <td>267628.550329</td>\n",
       "      <td>дополнительное образование</td>\n",
       "    </tr>\n",
       "    <tr>\n",
       "      <td>4</td>\n",
       "      <td>0</td>\n",
       "      <td>340266.072047</td>\n",
       "      <td>53</td>\n",
       "      <td>среднее</td>\n",
       "      <td>1</td>\n",
       "      <td>гражданский брак</td>\n",
       "      <td>1</td>\n",
       "      <td>F</td>\n",
       "      <td>пенсионер</td>\n",
       "      <td>0</td>\n",
       "      <td>158616.077870</td>\n",
       "      <td>сыграть свадьбу</td>\n",
       "    </tr>\n",
       "    <tr>\n",
       "      <td>5</td>\n",
       "      <td>0</td>\n",
       "      <td>-926.185831</td>\n",
       "      <td>27</td>\n",
       "      <td>высшее</td>\n",
       "      <td>0</td>\n",
       "      <td>гражданский брак</td>\n",
       "      <td>1</td>\n",
       "      <td>M</td>\n",
       "      <td>компаньон</td>\n",
       "      <td>0</td>\n",
       "      <td>255763.565419</td>\n",
       "      <td>покупка жилья</td>\n",
       "    </tr>\n",
       "    <tr>\n",
       "      <td>6</td>\n",
       "      <td>0</td>\n",
       "      <td>-2879.202052</td>\n",
       "      <td>43</td>\n",
       "      <td>высшее</td>\n",
       "      <td>0</td>\n",
       "      <td>женат / замужем</td>\n",
       "      <td>0</td>\n",
       "      <td>F</td>\n",
       "      <td>компаньон</td>\n",
       "      <td>0</td>\n",
       "      <td>240525.971920</td>\n",
       "      <td>операции с жильем</td>\n",
       "    </tr>\n",
       "    <tr>\n",
       "      <td>7</td>\n",
       "      <td>0</td>\n",
       "      <td>-152.779569</td>\n",
       "      <td>50</td>\n",
       "      <td>СРЕДНЕЕ</td>\n",
       "      <td>1</td>\n",
       "      <td>женат / замужем</td>\n",
       "      <td>0</td>\n",
       "      <td>M</td>\n",
       "      <td>сотрудник</td>\n",
       "      <td>0</td>\n",
       "      <td>135823.934197</td>\n",
       "      <td>образование</td>\n",
       "    </tr>\n",
       "    <tr>\n",
       "      <td>8</td>\n",
       "      <td>2</td>\n",
       "      <td>-6929.865299</td>\n",
       "      <td>35</td>\n",
       "      <td>ВЫСШЕЕ</td>\n",
       "      <td>0</td>\n",
       "      <td>гражданский брак</td>\n",
       "      <td>1</td>\n",
       "      <td>F</td>\n",
       "      <td>сотрудник</td>\n",
       "      <td>0</td>\n",
       "      <td>95856.832424</td>\n",
       "      <td>на проведение свадьбы</td>\n",
       "    </tr>\n",
       "    <tr>\n",
       "      <td>9</td>\n",
       "      <td>0</td>\n",
       "      <td>-2188.756445</td>\n",
       "      <td>41</td>\n",
       "      <td>среднее</td>\n",
       "      <td>1</td>\n",
       "      <td>женат / замужем</td>\n",
       "      <td>0</td>\n",
       "      <td>M</td>\n",
       "      <td>сотрудник</td>\n",
       "      <td>0</td>\n",
       "      <td>144425.938277</td>\n",
       "      <td>покупка жилья для семьи</td>\n",
       "    </tr>\n",
       "  </tbody>\n",
       "</table>\n",
       "</div>"
      ],
      "text/plain": [
       "   children  days_employed  dob_years education  education_id  \\\n",
       "0         1   -8437.673028         42    высшее             0   \n",
       "1         1   -4024.803754         36   среднее             1   \n",
       "2         0   -5623.422610         33   Среднее             1   \n",
       "3         3   -4124.747207         32   среднее             1   \n",
       "4         0  340266.072047         53   среднее             1   \n",
       "5         0    -926.185831         27    высшее             0   \n",
       "6         0   -2879.202052         43    высшее             0   \n",
       "7         0    -152.779569         50   СРЕДНЕЕ             1   \n",
       "8         2   -6929.865299         35    ВЫСШЕЕ             0   \n",
       "9         0   -2188.756445         41   среднее             1   \n",
       "\n",
       "      family_status  family_status_id gender income_type  debt   total_income  \\\n",
       "0   женат / замужем                 0      F   сотрудник     0  253875.639453   \n",
       "1   женат / замужем                 0      F   сотрудник     0  112080.014102   \n",
       "2   женат / замужем                 0      M   сотрудник     0  145885.952297   \n",
       "3   женат / замужем                 0      M   сотрудник     0  267628.550329   \n",
       "4  гражданский брак                 1      F   пенсионер     0  158616.077870   \n",
       "5  гражданский брак                 1      M   компаньон     0  255763.565419   \n",
       "6   женат / замужем                 0      F   компаньон     0  240525.971920   \n",
       "7   женат / замужем                 0      M   сотрудник     0  135823.934197   \n",
       "8  гражданский брак                 1      F   сотрудник     0   95856.832424   \n",
       "9   женат / замужем                 0      M   сотрудник     0  144425.938277   \n",
       "\n",
       "                      purpose  \n",
       "0               покупка жилья  \n",
       "1     приобретение автомобиля  \n",
       "2               покупка жилья  \n",
       "3  дополнительное образование  \n",
       "4             сыграть свадьбу  \n",
       "5               покупка жилья  \n",
       "6           операции с жильем  \n",
       "7                 образование  \n",
       "8       на проведение свадьбы  \n",
       "9     покупка жилья для семьи  "
      ]
     },
     "metadata": {},
     "output_type": "display_data"
    }
   ],
   "source": [
    "#Выгрузка первых десяти строк таблицы \n",
    "display(df.head(10))"
   ]
  },
  {
   "cell_type": "code",
   "execution_count": 4,
   "metadata": {
    "scrolled": true
   },
   "outputs": [
    {
     "name": "stdout",
     "output_type": "stream",
     "text": [
      "<class 'pandas.core.frame.DataFrame'>\n",
      "RangeIndex: 21525 entries, 0 to 21524\n",
      "Data columns (total 12 columns):\n",
      "children            21525 non-null int64\n",
      "days_employed       19351 non-null float64\n",
      "dob_years           21525 non-null int64\n",
      "education           21525 non-null object\n",
      "education_id        21525 non-null int64\n",
      "family_status       21525 non-null object\n",
      "family_status_id    21525 non-null int64\n",
      "gender              21525 non-null object\n",
      "income_type         21525 non-null object\n",
      "debt                21525 non-null int64\n",
      "total_income        19351 non-null float64\n",
      "purpose             21525 non-null object\n",
      "dtypes: float64(2), int64(5), object(5)\n",
      "memory usage: 2.0+ MB\n"
     ]
    }
   ],
   "source": [
    "#Получение общей информации по таблице\n",
    "df.info()"
   ]
  },
  {
   "cell_type": "markdown",
   "metadata": {},
   "source": [
    "Общие выводы по качеству имеющихся данных\n",
    "1. Таблица содержит 12 столбцов и 21 525 строк\n",
    "2. Заголовки столбцов корректны и отражают суть данных\n",
    "3. Столбцы \"days_employed\" и \"total_income\" содержат пропуски\n",
    "4. В столбцах \"days_employed\", \"family_status\", \"total_income\" не корректный тип данных\n",
    "5. В столбце \"education\" встречаются неявные дубли. Есть вероятность повторения этой ситуации в других столбцах."
   ]
  },
  {
   "cell_type": "markdown",
   "metadata": {},
   "source": [
    "### Шаг 2.1 Заполнение пропусков\n",
    "\n",
    "По информации из таблицы пропуски есть в столбцах days_employed и total_income. Пропуски имеют тип NaN. Количество пропусков одинаковое и составляет 10% от общего числа значений. Сопоставление значений в столбце \"total_income\" при наличии пропуска в столбце \"days_employed\" показало, что пропуски присутствуют только в обоих столбцах одновременно. Это говорит о системной ошибке заполнения данных.\n",
    "\n",
    "Группировка по типам занятости показала, что каждый из типов значительно отличается от другого по средним значениям трудового стажа и уровня дохода. В тоже время, есть значительное отклонение медианных от средних значений, что говорит о наличии \"артефактов\" и \"выбросов\".\n",
    "\n",
    "Таким образом, наименьшее снижение точности дальнейшего исследования обеспечит заполнение пропусков медианными значениями для каждой группы занятости."
   ]
  },
  {
   "cell_type": "code",
   "execution_count": 5,
   "metadata": {
    "scrolled": true
   },
   "outputs": [
    {
     "data": {
      "text/plain": [
       "children               0\n",
       "days_employed       2174\n",
       "dob_years              0\n",
       "education              0\n",
       "education_id           0\n",
       "family_status          0\n",
       "family_status_id       0\n",
       "gender                 0\n",
       "income_type            0\n",
       "debt                   0\n",
       "total_income        2174\n",
       "purpose                0\n",
       "dtype: int64"
      ]
     },
     "execution_count": 5,
     "metadata": {},
     "output_type": "execute_result"
    }
   ],
   "source": [
    "# Проверка на общее количество пропусков\n",
    "df.isna().sum()"
   ]
  },
  {
   "cell_type": "code",
   "execution_count": 6,
   "metadata": {},
   "outputs": [
    {
     "name": "stdout",
     "output_type": "stream",
     "text": [
      "Всего в дадафрейме 21525 строк\n",
      "В столбце days_employed пропущено 2174 строк, что составляет 10%\n",
      "В столбце total_income пропущено 2174 строк, что составляет 10%\n"
     ]
    }
   ],
   "source": [
    "# Выявление доли пропусков по столбцам\n",
    "total_str = int(df.shape[0])\n",
    "null_days_employed = int(df['days_employed'].isna().sum())\n",
    "null_total_income = int(df['total_income'].isna().sum())\n",
    "\n",
    "print(f'Всего в дадафрейме {total_str} строк')\n",
    "print(f'В столбце days_employed пропущено {null_days_employed} строк, что составляет {null_days_employed / total_str:.0%}')\n",
    "print(f'В столбце total_income пропущено {null_total_income} строк, что составляет {null_total_income / total_str:.0%}')"
   ]
  },
  {
   "cell_type": "code",
   "execution_count": 7,
   "metadata": {},
   "outputs": [
    {
     "name": "stdout",
     "output_type": "stream",
     "text": [
      "[nan]\n"
     ]
    }
   ],
   "source": [
    "# Сопоставление значений в столбце \"уровень дохода\" при наличии пропуска в столбце \"трудовой стаж\"\n",
    "print(df[df['days_employed'].isna() == True]['total_income'].unique())"
   ]
  },
  {
   "cell_type": "code",
   "execution_count": 8,
   "metadata": {
    "scrolled": false
   },
   "outputs": [
    {
     "data": {
      "text/html": [
       "<div>\n",
       "<style scoped>\n",
       "    .dataframe tbody tr th:only-of-type {\n",
       "        vertical-align: middle;\n",
       "    }\n",
       "\n",
       "    .dataframe tbody tr th {\n",
       "        vertical-align: top;\n",
       "    }\n",
       "\n",
       "    .dataframe thead tr th {\n",
       "        text-align: left;\n",
       "    }\n",
       "\n",
       "    .dataframe thead tr:last-of-type th {\n",
       "        text-align: right;\n",
       "    }\n",
       "</style>\n",
       "<table border=\"1\" class=\"dataframe\">\n",
       "  <thead>\n",
       "    <tr>\n",
       "      <th></th>\n",
       "      <th colspan=\"2\" halign=\"left\">days_employed</th>\n",
       "      <th colspan=\"2\" halign=\"left\">total_income</th>\n",
       "    </tr>\n",
       "    <tr>\n",
       "      <th></th>\n",
       "      <th>mean</th>\n",
       "      <th>median</th>\n",
       "      <th>mean</th>\n",
       "      <th>median</th>\n",
       "    </tr>\n",
       "    <tr>\n",
       "      <th>income_type</th>\n",
       "      <th></th>\n",
       "      <th></th>\n",
       "      <th></th>\n",
       "      <th></th>\n",
       "    </tr>\n",
       "  </thead>\n",
       "  <tbody>\n",
       "    <tr>\n",
       "      <td>безработный</td>\n",
       "      <td>366413.652744</td>\n",
       "      <td>366413.652744</td>\n",
       "      <td>131339.751676</td>\n",
       "      <td>131339.751676</td>\n",
       "    </tr>\n",
       "    <tr>\n",
       "      <td>в декрете</td>\n",
       "      <td>-3296.759962</td>\n",
       "      <td>-3296.759962</td>\n",
       "      <td>53829.130729</td>\n",
       "      <td>53829.130729</td>\n",
       "    </tr>\n",
       "    <tr>\n",
       "      <td>госслужащий</td>\n",
       "      <td>-3399.896902</td>\n",
       "      <td>-2689.368353</td>\n",
       "      <td>170898.309923</td>\n",
       "      <td>150447.935283</td>\n",
       "    </tr>\n",
       "    <tr>\n",
       "      <td>компаньон</td>\n",
       "      <td>-2111.524398</td>\n",
       "      <td>-1547.382223</td>\n",
       "      <td>202417.461462</td>\n",
       "      <td>172357.950966</td>\n",
       "    </tr>\n",
       "    <tr>\n",
       "      <td>пенсионер</td>\n",
       "      <td>365003.491245</td>\n",
       "      <td>365213.306266</td>\n",
       "      <td>137127.465690</td>\n",
       "      <td>118514.486412</td>\n",
       "    </tr>\n",
       "    <tr>\n",
       "      <td>предприниматель</td>\n",
       "      <td>-520.848083</td>\n",
       "      <td>-520.848083</td>\n",
       "      <td>499163.144947</td>\n",
       "      <td>499163.144947</td>\n",
       "    </tr>\n",
       "    <tr>\n",
       "      <td>сотрудник</td>\n",
       "      <td>-2326.499216</td>\n",
       "      <td>-1574.202821</td>\n",
       "      <td>161380.260488</td>\n",
       "      <td>142594.396847</td>\n",
       "    </tr>\n",
       "    <tr>\n",
       "      <td>студент</td>\n",
       "      <td>-578.751554</td>\n",
       "      <td>-578.751554</td>\n",
       "      <td>98201.625314</td>\n",
       "      <td>98201.625314</td>\n",
       "    </tr>\n",
       "  </tbody>\n",
       "</table>\n",
       "</div>"
      ],
      "text/plain": [
       "                 days_employed                  total_income               \n",
       "                          mean         median           mean         median\n",
       "income_type                                                                \n",
       "безработный      366413.652744  366413.652744  131339.751676  131339.751676\n",
       "в декрете         -3296.759962   -3296.759962   53829.130729   53829.130729\n",
       "госслужащий       -3399.896902   -2689.368353  170898.309923  150447.935283\n",
       "компаньон         -2111.524398   -1547.382223  202417.461462  172357.950966\n",
       "пенсионер        365003.491245  365213.306266  137127.465690  118514.486412\n",
       "предприниматель    -520.848083    -520.848083  499163.144947  499163.144947\n",
       "сотрудник         -2326.499216   -1574.202821  161380.260488  142594.396847\n",
       "студент            -578.751554    -578.751554   98201.625314   98201.625314"
      ]
     },
     "metadata": {},
     "output_type": "display_data"
    }
   ],
   "source": [
    "# Определение средних и медианных значений для различных групп занятости\n",
    "display(df.groupby('income_type').agg({'days_employed':['mean', 'median'], 'total_income':['mean', 'median']}))"
   ]
  },
  {
   "cell_type": "code",
   "execution_count": 9,
   "metadata": {},
   "outputs": [],
   "source": [
    "# Замена пропусков на медианные значение по каждлй группе занятости\n",
    "# Создвем список групп занятости\n",
    "list_income_type = df['income_type'].unique()\n",
    "median_days_employed = []\n",
    "median_total_income = []\n",
    "\n",
    "# По списку групп занятости заполняем медианные значения трудового стажа и средней зарплаты\n",
    "for lists in list_income_type:\n",
    "    median_days_employed.append(df[df['income_type'] == lists]['days_employed'].median())\n",
    "    median_total_income.append(df[df['income_type'] == lists]['total_income'].median())\n",
    "\n",
    "# Заменяем пропуски на медианнве значения по каждой группы звнятости для каждого из столбцов\n",
    "for i in range(len(list_income_type)):\n",
    "    df.loc[(df['days_employed'].isna() == True)&(df['income_type'] == list_income_type[i]), 'days_employed'] = median_days_employed[i]\n",
    "    df.loc[(df['total_income'].isna() == True)&(df['income_type'] == list_income_type[i]), 'total_income'] = median_total_income[i]\n"
   ]
  },
  {
   "cell_type": "code",
   "execution_count": 10,
   "metadata": {},
   "outputs": [
    {
     "data": {
      "text/plain": [
       "children            0\n",
       "days_employed       0\n",
       "dob_years           0\n",
       "education           0\n",
       "education_id        0\n",
       "family_status       0\n",
       "family_status_id    0\n",
       "gender              0\n",
       "income_type         0\n",
       "debt                0\n",
       "total_income        0\n",
       "purpose             0\n",
       "dtype: int64"
      ]
     },
     "execution_count": 10,
     "metadata": {},
     "output_type": "execute_result"
    }
   ],
   "source": [
    "# Проверим наличие пропусков в таблице\n",
    "df.isna().sum()"
   ]
  },
  {
   "cell_type": "markdown",
   "metadata": {},
   "source": [
    "### Шаг 2.2 Проверка данных на аномалии и исправления.\n",
    "\n",
    "В столбце `days_employed` встречаются артефакты (аномалии) — значения, которые не отражают действительность и появились в результате ошибки. \n",
    "Речь идет об отрицательных значениях количества дней трудового стажа. Кроме того, значения для пенсионеров и безработных явно выбиваются из значений других категорий.\n",
    "\n",
    "Такая ошибки скорее всего возникли либо в результате получения данных из разных систем, либо в результате различных форматов получаемых данных.\n",
    "\n",
    "Учитывая то, понять логику формирования значений по трудовому стажу для пенсионеров и безработных не представляется возможным, **ограничимся только заменой отрицательных значений на положительные**."
   ]
  },
  {
   "cell_type": "code",
   "execution_count": 11,
   "metadata": {},
   "outputs": [
    {
     "data": {
      "text/html": [
       "<div>\n",
       "<style scoped>\n",
       "    .dataframe tbody tr th:only-of-type {\n",
       "        vertical-align: middle;\n",
       "    }\n",
       "\n",
       "    .dataframe tbody tr th {\n",
       "        vertical-align: top;\n",
       "    }\n",
       "\n",
       "    .dataframe thead tr th {\n",
       "        text-align: left;\n",
       "    }\n",
       "\n",
       "    .dataframe thead tr:last-of-type th {\n",
       "        text-align: right;\n",
       "    }\n",
       "</style>\n",
       "<table border=\"1\" class=\"dataframe\">\n",
       "  <thead>\n",
       "    <tr>\n",
       "      <th></th>\n",
       "      <th colspan=\"2\" halign=\"left\">days_employed</th>\n",
       "    </tr>\n",
       "    <tr>\n",
       "      <th></th>\n",
       "      <th>mean</th>\n",
       "      <th>median</th>\n",
       "    </tr>\n",
       "    <tr>\n",
       "      <th>income_type</th>\n",
       "      <th></th>\n",
       "      <th></th>\n",
       "    </tr>\n",
       "  </thead>\n",
       "  <tbody>\n",
       "    <tr>\n",
       "      <td>безработный</td>\n",
       "      <td>366413.652744</td>\n",
       "      <td>366413.652744</td>\n",
       "    </tr>\n",
       "    <tr>\n",
       "      <td>в декрете</td>\n",
       "      <td>3296.759962</td>\n",
       "      <td>3296.759962</td>\n",
       "    </tr>\n",
       "    <tr>\n",
       "      <td>госслужащий</td>\n",
       "      <td>3328.308350</td>\n",
       "      <td>2689.368353</td>\n",
       "    </tr>\n",
       "    <tr>\n",
       "      <td>компаньон</td>\n",
       "      <td>2055.165652</td>\n",
       "      <td>1547.382223</td>\n",
       "    </tr>\n",
       "    <tr>\n",
       "      <td>пенсионер</td>\n",
       "      <td>365025.963652</td>\n",
       "      <td>365213.306266</td>\n",
       "    </tr>\n",
       "    <tr>\n",
       "      <td>предприниматель</td>\n",
       "      <td>520.848083</td>\n",
       "      <td>520.848083</td>\n",
       "    </tr>\n",
       "    <tr>\n",
       "      <td>сотрудник</td>\n",
       "      <td>2251.736421</td>\n",
       "      <td>1574.202821</td>\n",
       "    </tr>\n",
       "    <tr>\n",
       "      <td>студент</td>\n",
       "      <td>578.751554</td>\n",
       "      <td>578.751554</td>\n",
       "    </tr>\n",
       "  </tbody>\n",
       "</table>\n",
       "</div>"
      ],
      "text/plain": [
       "                 days_employed               \n",
       "                          mean         median\n",
       "income_type                                  \n",
       "безработный      366413.652744  366413.652744\n",
       "в декрете          3296.759962    3296.759962\n",
       "госслужащий        3328.308350    2689.368353\n",
       "компаньон          2055.165652    1547.382223\n",
       "пенсионер        365025.963652  365213.306266\n",
       "предприниматель     520.848083     520.848083\n",
       "сотрудник          2251.736421    1574.202821\n",
       "студент             578.751554     578.751554"
      ]
     },
     "metadata": {},
     "output_type": "display_data"
    }
   ],
   "source": [
    "# Функция для замены отрицательного числа на полодительное\n",
    "def to_plus(x):\n",
    "    if x < 0:\n",
    "        x *= -1\n",
    "    return x\n",
    "\n",
    "# Замена отрицательных значений на положительные\n",
    "df[\"days_employed\"] = df[\"days_employed\"].apply(to_plus)\n",
    "\n",
    "# Проверка корректности проведенной замены\n",
    "display(df.groupby('income_type').agg({'days_employed':['mean', 'median']}))"
   ]
  },
  {
   "cell_type": "markdown",
   "metadata": {},
   "source": [
    "### Шаг 2.3. Изменение типов данных.\n",
    "\n",
    "В столбце `total_income` заменим вещественный тип данных на целочисленный с помощью метода `astype()`"
   ]
  },
  {
   "cell_type": "code",
   "execution_count": 12,
   "metadata": {},
   "outputs": [
    {
     "name": "stdout",
     "output_type": "stream",
     "text": [
      "<class 'pandas.core.frame.DataFrame'>\n",
      "RangeIndex: 21525 entries, 0 to 21524\n",
      "Data columns (total 12 columns):\n",
      "children            21525 non-null int64\n",
      "days_employed       21525 non-null float64\n",
      "dob_years           21525 non-null int64\n",
      "education           21525 non-null object\n",
      "education_id        21525 non-null int64\n",
      "family_status       21525 non-null object\n",
      "family_status_id    21525 non-null int64\n",
      "gender              21525 non-null object\n",
      "income_type         21525 non-null object\n",
      "debt                21525 non-null int64\n",
      "total_income        21525 non-null float64\n",
      "purpose             21525 non-null object\n",
      "dtypes: float64(2), int64(5), object(5)\n",
      "memory usage: 2.0+ MB\n"
     ]
    }
   ],
   "source": [
    "# Проверка типа данных в столбце total_income\n",
    "df.info()"
   ]
  },
  {
   "cell_type": "code",
   "execution_count": 13,
   "metadata": {},
   "outputs": [],
   "source": [
    "# Замена вещественного типа данных на целочисленный с помощью метода astype()\n",
    "df['total_income'] = df['total_income'].astype('int')"
   ]
  },
  {
   "cell_type": "code",
   "execution_count": 14,
   "metadata": {},
   "outputs": [
    {
     "name": "stdout",
     "output_type": "stream",
     "text": [
      "<class 'pandas.core.frame.DataFrame'>\n",
      "RangeIndex: 21525 entries, 0 to 21524\n",
      "Data columns (total 12 columns):\n",
      "children            21525 non-null int64\n",
      "days_employed       21525 non-null float64\n",
      "dob_years           21525 non-null int64\n",
      "education           21525 non-null object\n",
      "education_id        21525 non-null int64\n",
      "family_status       21525 non-null object\n",
      "family_status_id    21525 non-null int64\n",
      "gender              21525 non-null object\n",
      "income_type         21525 non-null object\n",
      "debt                21525 non-null int64\n",
      "total_income        21525 non-null int64\n",
      "purpose             21525 non-null object\n",
      "dtypes: float64(1), int64(6), object(5)\n",
      "memory usage: 2.0+ MB\n"
     ]
    }
   ],
   "source": [
    "# Повторая проверка типа данных в столбце total_income\n",
    "df.info()"
   ]
  },
  {
   "cell_type": "markdown",
   "metadata": {},
   "source": [
    "### Шаг 2.4. Удаление дубликатов.\n",
    "\n",
    "1. Удалить строки-дубликаты методом `drop_duplicates()`"
   ]
  },
  {
   "cell_type": "code",
   "execution_count": 15,
   "metadata": {},
   "outputs": [
    {
     "data": {
      "text/plain": [
       "54"
      ]
     },
     "execution_count": 15,
     "metadata": {},
     "output_type": "execute_result"
    }
   ],
   "source": [
    "#Проверка наличия дубликатов в таблице\n",
    "df.duplicated().sum()"
   ]
  },
  {
   "cell_type": "code",
   "execution_count": 16,
   "metadata": {},
   "outputs": [],
   "source": [
    "# Удаление явных дубликатов\n",
    "df = df.drop_duplicates().reset_index(drop=True)"
   ]
  },
  {
   "cell_type": "code",
   "execution_count": 17,
   "metadata": {},
   "outputs": [
    {
     "data": {
      "text/plain": [
       "0"
      ]
     },
     "execution_count": 17,
     "metadata": {},
     "output_type": "execute_result"
    }
   ],
   "source": [
    "#Повторная проверка наличия дубликатов в таблице\n",
    "df.duplicated().sum()"
   ]
  },
  {
   "cell_type": "markdown",
   "metadata": {},
   "source": [
    "2. Обработать неявные дубликаты. \n",
    "\n",
    "При первом просмотре таблицы стало ясно, что в столбце `education` есть одни и те же значения, но записанные с использованием заглавных и строчных букв. Эти названия будут приведены в одному регистру. После этого будут проверены остальные столбцы на наличие дубликатов методом `unique()`."
   ]
  },
  {
   "cell_type": "code",
   "execution_count": 18,
   "metadata": {},
   "outputs": [],
   "source": [
    "# Напишем функцию для смены регистра и применим ее к столбцу education, family_status, \n",
    "def to_lower(x):\n",
    "    return x.lower()\n",
    "df[\"education\"] = df[\"education\"].apply(to_lower)"
   ]
  },
  {
   "cell_type": "code",
   "execution_count": 19,
   "metadata": {},
   "outputs": [
    {
     "name": "stdout",
     "output_type": "stream",
     "text": [
      "[-1  0  1  2  3  4  5 20]\n",
      "[ 0 19 20 21 22 23 24 25 26 27 28 29 30 31 32 33 34 35 36 37 38 39 40 41\n",
      " 42 43 44 45 46 47 48 49 50 51 52 53 54 55 56 57 58 59 60 61 62 63 64 65\n",
      " 66 67 68 69 70 71 72 73 74 75]\n",
      "['высшее' 'начальное' 'неоконченное высшее' 'среднее' 'ученая степень']\n",
      "['F' 'M' 'XNA']\n",
      "['безработный' 'в декрете' 'госслужащий' 'компаньон' 'пенсионер'\n",
      " 'предприниматель' 'сотрудник' 'студент']\n",
      "[0 1]\n"
     ]
    }
   ],
   "source": [
    "# Проверим наличие дублей в стобцах: education, gender, income_type\n",
    "list_columns = ['children', 'dob_years', 'education', 'gender', 'income_type', 'debt']\n",
    "for list_column in list_columns:\n",
    "    print(df[list_column].sort_values().unique())"
   ]
  },
  {
   "cell_type": "markdown",
   "metadata": {},
   "source": [
    "Среди исследованных столбцов, столбцы `children` и `gender` содержат неопределенное значения: `-1` и `XNA` соответственно\n",
    "\n",
    "Вероятно, это ошибочно введенные данные. Значение `XNA` принадлежит одной строке.\n",
    "\n",
    "Поскольку определить половую принадлежность заемщика не представляется возможным, то данная строка должна быть удалена\n",
    "\n",
    "Значение `-1` принадлежит 47 строкам. Поэтому будет эффективно заменить его на `0`"
   ]
  },
  {
   "cell_type": "code",
   "execution_count": 20,
   "metadata": {},
   "outputs": [
    {
     "data": {
      "text/plain": [
       "F      14189\n",
       "M       7281\n",
       "XNA        1\n",
       "Name: gender, dtype: int64"
      ]
     },
     "execution_count": 20,
     "metadata": {},
     "output_type": "execute_result"
    }
   ],
   "source": [
    "df['gender'].value_counts()"
   ]
  },
  {
   "cell_type": "code",
   "execution_count": 21,
   "metadata": {},
   "outputs": [
    {
     "data": {
      "text/html": [
       "<div>\n",
       "<style scoped>\n",
       "    .dataframe tbody tr th:only-of-type {\n",
       "        vertical-align: middle;\n",
       "    }\n",
       "\n",
       "    .dataframe tbody tr th {\n",
       "        vertical-align: top;\n",
       "    }\n",
       "\n",
       "    .dataframe thead th {\n",
       "        text-align: right;\n",
       "    }\n",
       "</style>\n",
       "<table border=\"1\" class=\"dataframe\">\n",
       "  <thead>\n",
       "    <tr style=\"text-align: right;\">\n",
       "      <th></th>\n",
       "      <th>children</th>\n",
       "      <th>days_employed</th>\n",
       "      <th>dob_years</th>\n",
       "      <th>education</th>\n",
       "      <th>education_id</th>\n",
       "      <th>family_status</th>\n",
       "      <th>family_status_id</th>\n",
       "      <th>gender</th>\n",
       "      <th>income_type</th>\n",
       "      <th>debt</th>\n",
       "      <th>total_income</th>\n",
       "      <th>purpose</th>\n",
       "    </tr>\n",
       "  </thead>\n",
       "  <tbody>\n",
       "    <tr>\n",
       "      <td>10690</td>\n",
       "      <td>0</td>\n",
       "      <td>2358.600502</td>\n",
       "      <td>24</td>\n",
       "      <td>неоконченное высшее</td>\n",
       "      <td>2</td>\n",
       "      <td>гражданский брак</td>\n",
       "      <td>1</td>\n",
       "      <td>XNA</td>\n",
       "      <td>компаньон</td>\n",
       "      <td>0</td>\n",
       "      <td>203905</td>\n",
       "      <td>покупка недвижимости</td>\n",
       "    </tr>\n",
       "  </tbody>\n",
       "</table>\n",
       "</div>"
      ],
      "text/plain": [
       "       children  days_employed  dob_years            education  education_id  \\\n",
       "10690         0    2358.600502         24  неоконченное высшее             2   \n",
       "\n",
       "          family_status  family_status_id gender income_type  debt  \\\n",
       "10690  гражданский брак                 1    XNA   компаньон     0   \n",
       "\n",
       "       total_income               purpose  \n",
       "10690        203905  покупка недвижимости  "
      ]
     },
     "execution_count": 21,
     "metadata": {},
     "output_type": "execute_result"
    }
   ],
   "source": [
    "df[df['gender'] == 'XNA']"
   ]
  },
  {
   "cell_type": "code",
   "execution_count": 22,
   "metadata": {},
   "outputs": [
    {
     "data": {
      "text/plain": [
       " 0     14107\n",
       " 1      4809\n",
       " 2      2052\n",
       " 3       330\n",
       " 20       76\n",
       "-1        47\n",
       " 4        41\n",
       " 5         9\n",
       "Name: children, dtype: int64"
      ]
     },
     "execution_count": 22,
     "metadata": {},
     "output_type": "execute_result"
    }
   ],
   "source": [
    "df['children'].value_counts()"
   ]
  },
  {
   "cell_type": "code",
   "execution_count": 23,
   "metadata": {},
   "outputs": [],
   "source": [
    "# Заменить количество детей с -1 на 0\n",
    "df['children'] = df['children'].replace(-1, 0)"
   ]
  },
  {
   "cell_type": "code",
   "execution_count": 24,
   "metadata": {},
   "outputs": [
    {
     "data": {
      "text/plain": [
       "0     14154\n",
       "1      4809\n",
       "2      2052\n",
       "3       330\n",
       "20       76\n",
       "4        41\n",
       "5         9\n",
       "Name: children, dtype: int64"
      ]
     },
     "execution_count": 24,
     "metadata": {},
     "output_type": "execute_result"
    }
   ],
   "source": [
    "df['children'].value_counts()"
   ]
  },
  {
   "cell_type": "code",
   "execution_count": 25,
   "metadata": {},
   "outputs": [],
   "source": [
    "# Удаление строки с признаком XNA\n",
    "df = df[df['gender'] != 'XNA'].reset_index(drop=True)"
   ]
  },
  {
   "cell_type": "code",
   "execution_count": 26,
   "metadata": {},
   "outputs": [
    {
     "data": {
      "text/plain": [
       "F    14189\n",
       "M     7281\n",
       "Name: gender, dtype: int64"
      ]
     },
     "execution_count": 26,
     "metadata": {},
     "output_type": "execute_result"
    }
   ],
   "source": [
    "# Контрольная проверка отсутствия строки с признаком XNA\n",
    "df['gender'].value_counts()"
   ]
  },
  {
   "cell_type": "markdown",
   "metadata": {},
   "source": [
    "**Дубликаты удалены.** \n",
    "* Для поиска дубликатов был выбран метод `unique()`\n",
    "* Для удаления дубликатов был применен метод `apply()`\n",
    "* Причина появление неявных дубликатов скорее всего возникла в результате ручного ввода не категорированных данных. Это системная ошибка."
   ]
  },
  {
   "cell_type": "markdown",
   "metadata": {},
   "source": [
    "### Шаг 2.5. Формирование дополнительных датафреймов словарей, декомпозиция исходного датафрейма.\n",
    "\n",
    "1. Создать два новых датафрейма со столбцами:\n",
    " * в первом датафрейме `df_education` - `education_id` и `education`;\n",
    " * во втором датафрейме `df_family` - `family_status_id` и `family_status`.\n",
    "\n",
    "\n",
    "2. Удалить из исходного датафрейма столбцы `education` и `family_status`"
   ]
  },
  {
   "cell_type": "code",
   "execution_count": 27,
   "metadata": {},
   "outputs": [
    {
     "data": {
      "text/html": [
       "<div>\n",
       "<style scoped>\n",
       "    .dataframe tbody tr th:only-of-type {\n",
       "        vertical-align: middle;\n",
       "    }\n",
       "\n",
       "    .dataframe tbody tr th {\n",
       "        vertical-align: top;\n",
       "    }\n",
       "\n",
       "    .dataframe thead th {\n",
       "        text-align: right;\n",
       "    }\n",
       "</style>\n",
       "<table border=\"1\" class=\"dataframe\">\n",
       "  <thead>\n",
       "    <tr style=\"text-align: right;\">\n",
       "      <th></th>\n",
       "      <th>education_id</th>\n",
       "      <th>education</th>\n",
       "    </tr>\n",
       "  </thead>\n",
       "  <tbody>\n",
       "    <tr>\n",
       "      <td>0</td>\n",
       "      <td>0</td>\n",
       "      <td>высшее</td>\n",
       "    </tr>\n",
       "    <tr>\n",
       "      <td>1</td>\n",
       "      <td>1</td>\n",
       "      <td>среднее</td>\n",
       "    </tr>\n",
       "    <tr>\n",
       "      <td>2</td>\n",
       "      <td>2</td>\n",
       "      <td>неоконченное высшее</td>\n",
       "    </tr>\n",
       "    <tr>\n",
       "      <td>3</td>\n",
       "      <td>3</td>\n",
       "      <td>начальное</td>\n",
       "    </tr>\n",
       "    <tr>\n",
       "      <td>4</td>\n",
       "      <td>4</td>\n",
       "      <td>ученая степень</td>\n",
       "    </tr>\n",
       "  </tbody>\n",
       "</table>\n",
       "</div>"
      ],
      "text/plain": [
       "   education_id            education\n",
       "0             0               высшее\n",
       "1             1              среднее\n",
       "2             2  неоконченное высшее\n",
       "3             3            начальное\n",
       "4             4       ученая степень"
      ]
     },
     "metadata": {},
     "output_type": "display_data"
    }
   ],
   "source": [
    "# Создание датафрейма df_education\n",
    "\n",
    "education_id_unique = df['education_id'].unique()\n",
    "education_unique = []\n",
    "\n",
    "for i in education_id_unique:\n",
    "    education_unique.append(list(df[df['education_id'] == i]['education'])[0])\n",
    "\n",
    "df_education = pd.DataFrame({'education_id': education_id_unique, 'education': education_unique})\n",
    "\n",
    "display(df_education)"
   ]
  },
  {
   "cell_type": "code",
   "execution_count": 28,
   "metadata": {},
   "outputs": [
    {
     "data": {
      "text/html": [
       "<div>\n",
       "<style scoped>\n",
       "    .dataframe tbody tr th:only-of-type {\n",
       "        vertical-align: middle;\n",
       "    }\n",
       "\n",
       "    .dataframe tbody tr th {\n",
       "        vertical-align: top;\n",
       "    }\n",
       "\n",
       "    .dataframe thead th {\n",
       "        text-align: right;\n",
       "    }\n",
       "</style>\n",
       "<table border=\"1\" class=\"dataframe\">\n",
       "  <thead>\n",
       "    <tr style=\"text-align: right;\">\n",
       "      <th></th>\n",
       "      <th>family_status_id</th>\n",
       "      <th>family_status</th>\n",
       "    </tr>\n",
       "  </thead>\n",
       "  <tbody>\n",
       "    <tr>\n",
       "      <td>0</td>\n",
       "      <td>0</td>\n",
       "      <td>женат / замужем</td>\n",
       "    </tr>\n",
       "    <tr>\n",
       "      <td>1</td>\n",
       "      <td>1</td>\n",
       "      <td>гражданский брак</td>\n",
       "    </tr>\n",
       "    <tr>\n",
       "      <td>2</td>\n",
       "      <td>2</td>\n",
       "      <td>вдовец / вдова</td>\n",
       "    </tr>\n",
       "    <tr>\n",
       "      <td>3</td>\n",
       "      <td>3</td>\n",
       "      <td>в разводе</td>\n",
       "    </tr>\n",
       "    <tr>\n",
       "      <td>4</td>\n",
       "      <td>4</td>\n",
       "      <td>Не женат / не замужем</td>\n",
       "    </tr>\n",
       "  </tbody>\n",
       "</table>\n",
       "</div>"
      ],
      "text/plain": [
       "   family_status_id          family_status\n",
       "0                 0        женат / замужем\n",
       "1                 1       гражданский брак\n",
       "2                 2         вдовец / вдова\n",
       "3                 3              в разводе\n",
       "4                 4  Не женат / не замужем"
      ]
     },
     "metadata": {},
     "output_type": "display_data"
    }
   ],
   "source": [
    "# Создание датафрейма df_family\n",
    "\n",
    "family_status_id_unique = df['family_status_id'].sort_values().unique()\n",
    "family_status_unique = []\n",
    "\n",
    "for i in family_status_id_unique:\n",
    "    family_status_unique.append(list(df[df['family_status_id'] == i]['family_status'])[0])\n",
    "\n",
    "df_family = pd.DataFrame({'family_status_id': family_status_id_unique, 'family_status': family_status_unique})\n",
    "\n",
    "display(df_family)"
   ]
  },
  {
   "cell_type": "code",
   "execution_count": 29,
   "metadata": {},
   "outputs": [
    {
     "data": {
      "text/html": [
       "<div>\n",
       "<style scoped>\n",
       "    .dataframe tbody tr th:only-of-type {\n",
       "        vertical-align: middle;\n",
       "    }\n",
       "\n",
       "    .dataframe tbody tr th {\n",
       "        vertical-align: top;\n",
       "    }\n",
       "\n",
       "    .dataframe thead th {\n",
       "        text-align: right;\n",
       "    }\n",
       "</style>\n",
       "<table border=\"1\" class=\"dataframe\">\n",
       "  <thead>\n",
       "    <tr style=\"text-align: right;\">\n",
       "      <th></th>\n",
       "      <th>children</th>\n",
       "      <th>days_employed</th>\n",
       "      <th>dob_years</th>\n",
       "      <th>education_id</th>\n",
       "      <th>family_status_id</th>\n",
       "      <th>gender</th>\n",
       "      <th>income_type</th>\n",
       "      <th>debt</th>\n",
       "      <th>total_income</th>\n",
       "      <th>purpose</th>\n",
       "    </tr>\n",
       "  </thead>\n",
       "  <tbody>\n",
       "    <tr>\n",
       "      <td>0</td>\n",
       "      <td>1</td>\n",
       "      <td>8437.673028</td>\n",
       "      <td>42</td>\n",
       "      <td>0</td>\n",
       "      <td>0</td>\n",
       "      <td>F</td>\n",
       "      <td>сотрудник</td>\n",
       "      <td>0</td>\n",
       "      <td>253875</td>\n",
       "      <td>покупка жилья</td>\n",
       "    </tr>\n",
       "    <tr>\n",
       "      <td>1</td>\n",
       "      <td>1</td>\n",
       "      <td>4024.803754</td>\n",
       "      <td>36</td>\n",
       "      <td>1</td>\n",
       "      <td>0</td>\n",
       "      <td>F</td>\n",
       "      <td>сотрудник</td>\n",
       "      <td>0</td>\n",
       "      <td>112080</td>\n",
       "      <td>приобретение автомобиля</td>\n",
       "    </tr>\n",
       "    <tr>\n",
       "      <td>2</td>\n",
       "      <td>0</td>\n",
       "      <td>5623.422610</td>\n",
       "      <td>33</td>\n",
       "      <td>1</td>\n",
       "      <td>0</td>\n",
       "      <td>M</td>\n",
       "      <td>сотрудник</td>\n",
       "      <td>0</td>\n",
       "      <td>145885</td>\n",
       "      <td>покупка жилья</td>\n",
       "    </tr>\n",
       "    <tr>\n",
       "      <td>3</td>\n",
       "      <td>3</td>\n",
       "      <td>4124.747207</td>\n",
       "      <td>32</td>\n",
       "      <td>1</td>\n",
       "      <td>0</td>\n",
       "      <td>M</td>\n",
       "      <td>сотрудник</td>\n",
       "      <td>0</td>\n",
       "      <td>267628</td>\n",
       "      <td>дополнительное образование</td>\n",
       "    </tr>\n",
       "    <tr>\n",
       "      <td>4</td>\n",
       "      <td>0</td>\n",
       "      <td>340266.072047</td>\n",
       "      <td>53</td>\n",
       "      <td>1</td>\n",
       "      <td>1</td>\n",
       "      <td>F</td>\n",
       "      <td>пенсионер</td>\n",
       "      <td>0</td>\n",
       "      <td>158616</td>\n",
       "      <td>сыграть свадьбу</td>\n",
       "    </tr>\n",
       "  </tbody>\n",
       "</table>\n",
       "</div>"
      ],
      "text/plain": [
       "   children  days_employed  dob_years  education_id  family_status_id gender  \\\n",
       "0         1    8437.673028         42             0                 0      F   \n",
       "1         1    4024.803754         36             1                 0      F   \n",
       "2         0    5623.422610         33             1                 0      M   \n",
       "3         3    4124.747207         32             1                 0      M   \n",
       "4         0  340266.072047         53             1                 1      F   \n",
       "\n",
       "  income_type  debt  total_income                     purpose  \n",
       "0   сотрудник     0        253875               покупка жилья  \n",
       "1   сотрудник     0        112080     приобретение автомобиля  \n",
       "2   сотрудник     0        145885               покупка жилья  \n",
       "3   сотрудник     0        267628  дополнительное образование  \n",
       "4   пенсионер     0        158616             сыграть свадьбу  "
      ]
     },
     "metadata": {},
     "output_type": "display_data"
    }
   ],
   "source": [
    "# Удаляем из исходного датафрейма столбцы education и family_status\n",
    "df = df.drop(['education', 'family_status'], axis=1)\n",
    "display(df.head())"
   ]
  },
  {
   "cell_type": "markdown",
   "metadata": {},
   "source": [
    "### Шаг 2.6. Категоризация дохода."
   ]
  },
  {
   "cell_type": "markdown",
   "metadata": {},
   "source": [
    "**Cоздать новый столбец с категориями** `total_income_category` на основании указанных диаразонов:\n",
    "\n",
    "* 0–30000 — 'E';\n",
    "* 30001–50000 — 'D';\n",
    "* 50001–200000 — 'C';\n",
    "* 200001–1000000 — 'B';\n",
    "* 1000001 и выше — 'A'."
   ]
  },
  {
   "cell_type": "code",
   "execution_count": 30,
   "metadata": {},
   "outputs": [],
   "source": [
    "# Создадим функцию для формирвания категорий\n",
    "def total_income_category(sum_incom):\n",
    "    if sum_incom <= 30000:\n",
    "        return 'E'\n",
    "    elif sum_incom <= 50000:\n",
    "        return 'D'\n",
    "    elif sum_incom <= 200000:\n",
    "        return 'C'\n",
    "    elif sum_incom <= 1000000:\n",
    "        return 'B'\n",
    "    return 'A'\n",
    "\n",
    "# Создадим новый столбец\n",
    "df['total_income_category'] = df['total_income'].apply(total_income_category)"
   ]
  },
  {
   "cell_type": "markdown",
   "metadata": {},
   "source": [
    "### Шаг 2.7. Категоризация целей кредита."
   ]
  },
  {
   "cell_type": "markdown",
   "metadata": {},
   "source": [
    "**Создать новый столбец** `purpose_category` с указанными ниже категориями:\n",
    "\n",
    "* ‘операции с автомобилем’,\n",
    "* ‘операции с недвижимостью’,\n",
    "* ‘проведение свадьбы’,\n",
    "* ‘получение образования’."
   ]
  },
  {
   "cell_type": "code",
   "execution_count": 31,
   "metadata": {},
   "outputs": [],
   "source": [
    "# Создадим функцию для формирвания категорий\n",
    "def purpose_category(categor):\n",
    "    if 'автомоб' in categor:\n",
    "        return 'операции с автомобилем'\n",
    "    elif 'жиль' in categor or 'недвиж' in categor:\n",
    "        return 'операции с недвижимостью'\n",
    "    elif 'свадьб' in categor:\n",
    "        return 'проведение свадьбы'\n",
    "    elif 'образован' in categor:\n",
    "        return 'получение образования'\n",
    "\n",
    "# Создадим новый столбец\n",
    "df['purpose_category'] = df['purpose'].apply(purpose_category)   "
   ]
  },
  {
   "cell_type": "markdown",
   "metadata": {},
   "source": [
    "### Категоризация возраста."
   ]
  },
  {
   "cell_type": "markdown",
   "metadata": {},
   "source": [
    "**Создать новый столбец с категориями** `dob_years_category` на основании указанных диапазонов:\n",
    "\n",
    "* 'до 20 лет';\n",
    "* 'от 21 до 40 лет';\n",
    "* 'от 41 до 60 лет';\n",
    "* 'старше 61 лет'."
   ]
  },
  {
   "cell_type": "code",
   "execution_count": 32,
   "metadata": {},
   "outputs": [],
   "source": [
    "# Создадим функцию для формирвания категорий\n",
    "def dob_years_category(agg):\n",
    "    if agg <= 20:\n",
    "        return 'до 20 лет'\n",
    "    elif agg <= 40:\n",
    "        return 'от 21 до 40 лет'\n",
    "    elif agg <= 60:\n",
    "        return 'от 41 до 60 лет'\n",
    "    return 'старше 61 лет'\n",
    "\n",
    "# Создадим новый столбец\n",
    "df['dob_years_category'] = df['dob_years'].apply(dob_years_category)"
   ]
  },
  {
   "cell_type": "code",
   "execution_count": 33,
   "metadata": {},
   "outputs": [
    {
     "data": {
      "text/html": [
       "<div>\n",
       "<style scoped>\n",
       "    .dataframe tbody tr th:only-of-type {\n",
       "        vertical-align: middle;\n",
       "    }\n",
       "\n",
       "    .dataframe tbody tr th {\n",
       "        vertical-align: top;\n",
       "    }\n",
       "\n",
       "    .dataframe thead th {\n",
       "        text-align: right;\n",
       "    }\n",
       "</style>\n",
       "<table border=\"1\" class=\"dataframe\">\n",
       "  <thead>\n",
       "    <tr style=\"text-align: right;\">\n",
       "      <th></th>\n",
       "      <th>children</th>\n",
       "      <th>days_employed</th>\n",
       "      <th>dob_years</th>\n",
       "      <th>education_id</th>\n",
       "      <th>family_status_id</th>\n",
       "      <th>gender</th>\n",
       "      <th>income_type</th>\n",
       "      <th>debt</th>\n",
       "      <th>total_income</th>\n",
       "      <th>purpose</th>\n",
       "      <th>total_income_category</th>\n",
       "      <th>purpose_category</th>\n",
       "      <th>dob_years_category</th>\n",
       "    </tr>\n",
       "  </thead>\n",
       "  <tbody>\n",
       "    <tr>\n",
       "      <td>0</td>\n",
       "      <td>1</td>\n",
       "      <td>8437.673028</td>\n",
       "      <td>42</td>\n",
       "      <td>0</td>\n",
       "      <td>0</td>\n",
       "      <td>F</td>\n",
       "      <td>сотрудник</td>\n",
       "      <td>0</td>\n",
       "      <td>253875</td>\n",
       "      <td>покупка жилья</td>\n",
       "      <td>B</td>\n",
       "      <td>операции с недвижимостью</td>\n",
       "      <td>от 41 до 60 лет</td>\n",
       "    </tr>\n",
       "    <tr>\n",
       "      <td>1</td>\n",
       "      <td>1</td>\n",
       "      <td>4024.803754</td>\n",
       "      <td>36</td>\n",
       "      <td>1</td>\n",
       "      <td>0</td>\n",
       "      <td>F</td>\n",
       "      <td>сотрудник</td>\n",
       "      <td>0</td>\n",
       "      <td>112080</td>\n",
       "      <td>приобретение автомобиля</td>\n",
       "      <td>C</td>\n",
       "      <td>операции с автомобилем</td>\n",
       "      <td>от 21 до 40 лет</td>\n",
       "    </tr>\n",
       "    <tr>\n",
       "      <td>2</td>\n",
       "      <td>0</td>\n",
       "      <td>5623.422610</td>\n",
       "      <td>33</td>\n",
       "      <td>1</td>\n",
       "      <td>0</td>\n",
       "      <td>M</td>\n",
       "      <td>сотрудник</td>\n",
       "      <td>0</td>\n",
       "      <td>145885</td>\n",
       "      <td>покупка жилья</td>\n",
       "      <td>C</td>\n",
       "      <td>операции с недвижимостью</td>\n",
       "      <td>от 21 до 40 лет</td>\n",
       "    </tr>\n",
       "    <tr>\n",
       "      <td>3</td>\n",
       "      <td>3</td>\n",
       "      <td>4124.747207</td>\n",
       "      <td>32</td>\n",
       "      <td>1</td>\n",
       "      <td>0</td>\n",
       "      <td>M</td>\n",
       "      <td>сотрудник</td>\n",
       "      <td>0</td>\n",
       "      <td>267628</td>\n",
       "      <td>дополнительное образование</td>\n",
       "      <td>B</td>\n",
       "      <td>получение образования</td>\n",
       "      <td>от 21 до 40 лет</td>\n",
       "    </tr>\n",
       "    <tr>\n",
       "      <td>4</td>\n",
       "      <td>0</td>\n",
       "      <td>340266.072047</td>\n",
       "      <td>53</td>\n",
       "      <td>1</td>\n",
       "      <td>1</td>\n",
       "      <td>F</td>\n",
       "      <td>пенсионер</td>\n",
       "      <td>0</td>\n",
       "      <td>158616</td>\n",
       "      <td>сыграть свадьбу</td>\n",
       "      <td>C</td>\n",
       "      <td>проведение свадьбы</td>\n",
       "      <td>от 41 до 60 лет</td>\n",
       "    </tr>\n",
       "  </tbody>\n",
       "</table>\n",
       "</div>"
      ],
      "text/plain": [
       "   children  days_employed  dob_years  education_id  family_status_id gender  \\\n",
       "0         1    8437.673028         42             0                 0      F   \n",
       "1         1    4024.803754         36             1                 0      F   \n",
       "2         0    5623.422610         33             1                 0      M   \n",
       "3         3    4124.747207         32             1                 0      M   \n",
       "4         0  340266.072047         53             1                 1      F   \n",
       "\n",
       "  income_type  debt  total_income                     purpose  \\\n",
       "0   сотрудник     0        253875               покупка жилья   \n",
       "1   сотрудник     0        112080     приобретение автомобиля   \n",
       "2   сотрудник     0        145885               покупка жилья   \n",
       "3   сотрудник     0        267628  дополнительное образование   \n",
       "4   пенсионер     0        158616             сыграть свадьбу   \n",
       "\n",
       "  total_income_category          purpose_category dob_years_category  \n",
       "0                     B  операции с недвижимостью    от 41 до 60 лет  \n",
       "1                     C    операции с автомобилем    от 21 до 40 лет  \n",
       "2                     C  операции с недвижимостью    от 21 до 40 лет  \n",
       "3                     B     получение образования    от 21 до 40 лет  \n",
       "4                     C        проведение свадьбы    от 41 до 60 лет  "
      ]
     },
     "metadata": {},
     "output_type": "display_data"
    }
   ],
   "source": [
    "# Проверим наличие новых столбцов\n",
    "display(df.head())"
   ]
  },
  {
   "cell_type": "markdown",
   "metadata": {},
   "source": [
    "### Выводы по разделу предобработка данных\n",
    "\n",
    "В рамках подготовки датафрейма были выявлены и заполнены медианными значениями пропуски. Изменены (обработаны) аномальные значения. В столбцах установлен корректный тип данных. Удалены как явные, так и не явные дубликаты. Созданы новые таблицы-словари, что позволило убрать из текущей таблицы лишние столбцы, а также добавлены столбцы с новыми категориями."
   ]
  },
  {
   "cell_type": "markdown",
   "metadata": {},
   "source": [
    "### Ответы на вопросы.\n",
    "\n",
    "В рамках решаемых задач необходимо раскрыть следующие вопросы:\n",
    "* Определить наличие зависимости между количеством детей и возвратом кредита в срок\n",
    "* Определить наличие зависимости между семейным положением и возвратом кредита в срок\n",
    "* Определить наличие зависимости между уровнем дохода и возвратом кредита в срок\n",
    "* Выявить влияние целей кредита на своевременность его возврата"
   ]
  },
  {
   "cell_type": "markdown",
   "metadata": {},
   "source": [
    "##### Вопрос 1:\n",
    "**Определение  наличия или отсутствия зависимости между количеством детей и возвратом кредита в срок**"
   ]
  },
  {
   "cell_type": "code",
   "execution_count": 34,
   "metadata": {},
   "outputs": [
    {
     "data": {
      "text/html": [
       "<div>\n",
       "<style scoped>\n",
       "    .dataframe tbody tr th:only-of-type {\n",
       "        vertical-align: middle;\n",
       "    }\n",
       "\n",
       "    .dataframe tbody tr th {\n",
       "        vertical-align: top;\n",
       "    }\n",
       "\n",
       "    .dataframe thead th {\n",
       "        text-align: right;\n",
       "    }\n",
       "</style>\n",
       "<table border=\"1\" class=\"dataframe\">\n",
       "  <thead>\n",
       "    <tr style=\"text-align: right;\">\n",
       "      <th>debt</th>\n",
       "      <th>0</th>\n",
       "      <th>1</th>\n",
       "      <th>2</th>\n",
       "    </tr>\n",
       "    <tr>\n",
       "      <th>children</th>\n",
       "      <th></th>\n",
       "      <th></th>\n",
       "      <th></th>\n",
       "    </tr>\n",
       "  </thead>\n",
       "  <tbody>\n",
       "    <tr>\n",
       "      <td>0</td>\n",
       "      <td>13089.0</td>\n",
       "      <td>1064.0</td>\n",
       "      <td>0.924822</td>\n",
       "    </tr>\n",
       "    <tr>\n",
       "      <td>1</td>\n",
       "      <td>4365.0</td>\n",
       "      <td>444.0</td>\n",
       "      <td>0.907673</td>\n",
       "    </tr>\n",
       "    <tr>\n",
       "      <td>2</td>\n",
       "      <td>1858.0</td>\n",
       "      <td>194.0</td>\n",
       "      <td>0.905458</td>\n",
       "    </tr>\n",
       "    <tr>\n",
       "      <td>3</td>\n",
       "      <td>303.0</td>\n",
       "      <td>27.0</td>\n",
       "      <td>0.918182</td>\n",
       "    </tr>\n",
       "    <tr>\n",
       "      <td>4</td>\n",
       "      <td>37.0</td>\n",
       "      <td>4.0</td>\n",
       "      <td>0.902439</td>\n",
       "    </tr>\n",
       "    <tr>\n",
       "      <td>5</td>\n",
       "      <td>9.0</td>\n",
       "      <td>NaN</td>\n",
       "      <td>NaN</td>\n",
       "    </tr>\n",
       "    <tr>\n",
       "      <td>20</td>\n",
       "      <td>68.0</td>\n",
       "      <td>8.0</td>\n",
       "      <td>0.894737</td>\n",
       "    </tr>\n",
       "  </tbody>\n",
       "</table>\n",
       "</div>"
      ],
      "text/plain": [
       "debt            0       1         2\n",
       "children                           \n",
       "0         13089.0  1064.0  0.924822\n",
       "1          4365.0   444.0  0.907673\n",
       "2          1858.0   194.0  0.905458\n",
       "3           303.0    27.0  0.918182\n",
       "4            37.0     4.0  0.902439\n",
       "5             9.0     NaN       NaN\n",
       "20           68.0     8.0  0.894737"
      ]
     },
     "metadata": {},
     "output_type": "display_data"
    }
   ],
   "source": [
    "# Создадим сводную таблицу для определения влияния количества детей \n",
    "# в семье на возвращаемость кредита. Последний столбец – доля возвращаемости\n",
    "\n",
    "df_child = df.pivot_table(index='children', columns='debt', values='income_type', aggfunc='count')\n",
    "df_child[2] = df_child[0] / (df_child[0] + df_child[1])\n",
    "display(df_child)"
   ]
  },
  {
   "cell_type": "markdown",
   "metadata": {},
   "source": [
    "##### Вывод 1:\n",
    "Люди, не имеющие детей на 2% чаще возвращают кредит, чем люди с детьми"
   ]
  },
  {
   "cell_type": "markdown",
   "metadata": {},
   "source": [
    "##### Вопрос 2:\n",
    "Определение наличия зависимости между семейным положением и возвратом кредита в срок"
   ]
  },
  {
   "cell_type": "code",
   "execution_count": 35,
   "metadata": {},
   "outputs": [
    {
     "data": {
      "text/html": [
       "<div>\n",
       "<style scoped>\n",
       "    .dataframe tbody tr th:only-of-type {\n",
       "        vertical-align: middle;\n",
       "    }\n",
       "\n",
       "    .dataframe tbody tr th {\n",
       "        vertical-align: top;\n",
       "    }\n",
       "\n",
       "    .dataframe thead th {\n",
       "        text-align: right;\n",
       "    }\n",
       "</style>\n",
       "<table border=\"1\" class=\"dataframe\">\n",
       "  <thead>\n",
       "    <tr style=\"text-align: right;\">\n",
       "      <th></th>\n",
       "      <th>family_status_id</th>\n",
       "      <th>family_status</th>\n",
       "      <th>0</th>\n",
       "      <th>1</th>\n",
       "      <th>2</th>\n",
       "    </tr>\n",
       "  </thead>\n",
       "  <tbody>\n",
       "    <tr>\n",
       "      <td>0</td>\n",
       "      <td>0</td>\n",
       "      <td>женат / замужем</td>\n",
       "      <td>11413</td>\n",
       "      <td>931</td>\n",
       "      <td>0.924579</td>\n",
       "    </tr>\n",
       "    <tr>\n",
       "      <td>1</td>\n",
       "      <td>1</td>\n",
       "      <td>гражданский брак</td>\n",
       "      <td>3774</td>\n",
       "      <td>388</td>\n",
       "      <td>0.906776</td>\n",
       "    </tr>\n",
       "    <tr>\n",
       "      <td>2</td>\n",
       "      <td>2</td>\n",
       "      <td>вдовец / вдова</td>\n",
       "      <td>896</td>\n",
       "      <td>63</td>\n",
       "      <td>0.934307</td>\n",
       "    </tr>\n",
       "    <tr>\n",
       "      <td>3</td>\n",
       "      <td>3</td>\n",
       "      <td>в разводе</td>\n",
       "      <td>1110</td>\n",
       "      <td>85</td>\n",
       "      <td>0.928870</td>\n",
       "    </tr>\n",
       "    <tr>\n",
       "      <td>4</td>\n",
       "      <td>4</td>\n",
       "      <td>Не женат / не замужем</td>\n",
       "      <td>2536</td>\n",
       "      <td>274</td>\n",
       "      <td>0.902491</td>\n",
       "    </tr>\n",
       "  </tbody>\n",
       "</table>\n",
       "</div>"
      ],
      "text/plain": [
       "   family_status_id          family_status      0    1         2\n",
       "0                 0        женат / замужем  11413  931  0.924579\n",
       "1                 1       гражданский брак   3774  388  0.906776\n",
       "2                 2         вдовец / вдова    896   63  0.934307\n",
       "3                 3              в разводе   1110   85  0.928870\n",
       "4                 4  Не женат / не замужем   2536  274  0.902491"
      ]
     },
     "metadata": {},
     "output_type": "display_data"
    }
   ],
   "source": [
    "# Создадим сводную таблицу для определения влияния семейного положения \n",
    "# на возвращаемость кредита. Последний столбец – доля возвращаемости\n",
    "\n",
    "df_fam = df.pivot_table(index='family_status_id', columns='debt', values='income_type', aggfunc='count')\n",
    "df_fam[2] = df_fam[0] / (df_fam[0] + df_fam[1])\n",
    "\n",
    "# Добавим столбец с описанием семейного статуса из справочной таблицы df_family\n",
    "\n",
    "df_fam = df_family.merge(df_fam, on='family_status_id', how='left')\n",
    "display(df_fam)"
   ]
  },
  {
   "cell_type": "markdown",
   "metadata": {},
   "source": [
    "##### Вывод 2:\n",
    "Женатые и разведенные на 2% чаще возвращают кредит, чем незамужние, вдовцы или люди, находящиеся в гражданском браке"
   ]
  },
  {
   "cell_type": "markdown",
   "metadata": {},
   "source": [
    "##### Вопрос 3:\n",
    "Определение наличия зависимости между уровнем дохода и возвратом кредита в срок"
   ]
  },
  {
   "cell_type": "code",
   "execution_count": 36,
   "metadata": {},
   "outputs": [
    {
     "data": {
      "text/html": [
       "<div>\n",
       "<style scoped>\n",
       "    .dataframe tbody tr th:only-of-type {\n",
       "        vertical-align: middle;\n",
       "    }\n",
       "\n",
       "    .dataframe tbody tr th {\n",
       "        vertical-align: top;\n",
       "    }\n",
       "\n",
       "    .dataframe thead th {\n",
       "        text-align: right;\n",
       "    }\n",
       "</style>\n",
       "<table border=\"1\" class=\"dataframe\">\n",
       "  <thead>\n",
       "    <tr style=\"text-align: right;\">\n",
       "      <th>debt</th>\n",
       "      <th>0</th>\n",
       "      <th>1</th>\n",
       "      <th>2</th>\n",
       "    </tr>\n",
       "    <tr>\n",
       "      <th>total_income_category</th>\n",
       "      <th></th>\n",
       "      <th></th>\n",
       "      <th></th>\n",
       "    </tr>\n",
       "  </thead>\n",
       "  <tbody>\n",
       "    <tr>\n",
       "      <td>A</td>\n",
       "      <td>23</td>\n",
       "      <td>2</td>\n",
       "      <td>0.920000</td>\n",
       "    </tr>\n",
       "    <tr>\n",
       "      <td>B</td>\n",
       "      <td>4685</td>\n",
       "      <td>356</td>\n",
       "      <td>0.929379</td>\n",
       "    </tr>\n",
       "    <tr>\n",
       "      <td>C</td>\n",
       "      <td>14672</td>\n",
       "      <td>1360</td>\n",
       "      <td>0.915170</td>\n",
       "    </tr>\n",
       "    <tr>\n",
       "      <td>D</td>\n",
       "      <td>329</td>\n",
       "      <td>21</td>\n",
       "      <td>0.940000</td>\n",
       "    </tr>\n",
       "    <tr>\n",
       "      <td>E</td>\n",
       "      <td>20</td>\n",
       "      <td>2</td>\n",
       "      <td>0.909091</td>\n",
       "    </tr>\n",
       "  </tbody>\n",
       "</table>\n",
       "</div>"
      ],
      "text/plain": [
       "debt                       0     1         2\n",
       "total_income_category                       \n",
       "A                         23     2  0.920000\n",
       "B                       4685   356  0.929379\n",
       "C                      14672  1360  0.915170\n",
       "D                        329    21  0.940000\n",
       "E                         20     2  0.909091"
      ]
     },
     "metadata": {},
     "output_type": "display_data"
    }
   ],
   "source": [
    "# Создадим сводную таблицу для определения влияния уровня дохода \n",
    "# на возвращаемость кредита. Последний столбец – доля возвращаемости\n",
    "df_rev = df.pivot_table(index='total_income_category', columns='debt', values='income_type', aggfunc='count')\n",
    "df_rev[2] = df_rev[0] / (df_rev[0] + df_rev[1])\n",
    "display(df_rev)"
   ]
  },
  {
   "cell_type": "markdown",
   "metadata": {},
   "source": [
    "##### Вывод 3:\n",
    "Люди с доходом от 30 000 р. до 50 000 р. (нижний уровень) 2% чаще возвращают кредит, чем люди с более высоким уровнем дохода"
   ]
  },
  {
   "cell_type": "markdown",
   "metadata": {},
   "source": [
    "##### Вопрос 4:\n",
    "Выявление влияния целей кредита на своевременность его возврата"
   ]
  },
  {
   "cell_type": "code",
   "execution_count": 37,
   "metadata": {},
   "outputs": [
    {
     "data": {
      "text/html": [
       "<div>\n",
       "<style scoped>\n",
       "    .dataframe tbody tr th:only-of-type {\n",
       "        vertical-align: middle;\n",
       "    }\n",
       "\n",
       "    .dataframe tbody tr th {\n",
       "        vertical-align: top;\n",
       "    }\n",
       "\n",
       "    .dataframe thead th {\n",
       "        text-align: right;\n",
       "    }\n",
       "</style>\n",
       "<table border=\"1\" class=\"dataframe\">\n",
       "  <thead>\n",
       "    <tr style=\"text-align: right;\">\n",
       "      <th>debt</th>\n",
       "      <th>0</th>\n",
       "      <th>1</th>\n",
       "      <th>2</th>\n",
       "    </tr>\n",
       "    <tr>\n",
       "      <th>purpose_category</th>\n",
       "      <th></th>\n",
       "      <th></th>\n",
       "      <th></th>\n",
       "    </tr>\n",
       "  </thead>\n",
       "  <tbody>\n",
       "    <tr>\n",
       "      <td>операции с автомобилем</td>\n",
       "      <td>3905</td>\n",
       "      <td>403</td>\n",
       "      <td>0.906453</td>\n",
       "    </tr>\n",
       "    <tr>\n",
       "      <td>операции с недвижимостью</td>\n",
       "      <td>10031</td>\n",
       "      <td>782</td>\n",
       "      <td>0.927680</td>\n",
       "    </tr>\n",
       "    <tr>\n",
       "      <td>получение образования</td>\n",
       "      <td>3644</td>\n",
       "      <td>370</td>\n",
       "      <td>0.907823</td>\n",
       "    </tr>\n",
       "    <tr>\n",
       "      <td>проведение свадьбы</td>\n",
       "      <td>2149</td>\n",
       "      <td>186</td>\n",
       "      <td>0.920343</td>\n",
       "    </tr>\n",
       "  </tbody>\n",
       "</table>\n",
       "</div>"
      ],
      "text/plain": [
       "debt                          0    1         2\n",
       "purpose_category                              \n",
       "операции с автомобилем     3905  403  0.906453\n",
       "операции с недвижимостью  10031  782  0.927680\n",
       "получение образования      3644  370  0.907823\n",
       "проведение свадьбы         2149  186  0.920343"
      ]
     },
     "metadata": {},
     "output_type": "display_data"
    }
   ],
   "source": [
    "# Создадим сводную таблицу для определения влияния целей кредита \n",
    "# на его возвращаемость. Последний столбец – доля возвращаемости\n",
    "\n",
    "df_purpose = df.pivot_table(index='purpose_category', columns='debt', values='income_type', aggfunc='count')\n",
    "df_purpose[2] = df_purpose[0] / (df_purpose[0] + df_purpose[1])\n",
    "display(df_purpose)"
   ]
  },
  {
   "cell_type": "markdown",
   "metadata": {},
   "source": [
    "##### Вывод 4:\n",
    "Люди, взявшие кредит на операции с недвижимостью и на проведение свадьбы, возвращают его на 2% чаще, чем люди, взявшие его на операции с автомобилем или на получение образования"
   ]
  },
  {
   "cell_type": "markdown",
   "metadata": {},
   "source": [
    "##### Дополнительные метрики\n",
    "1. Влияние типа занятости\n",
    "2. Влияние возраста\n",
    "3. Влияние пола"
   ]
  },
  {
   "cell_type": "code",
   "execution_count": 38,
   "metadata": {},
   "outputs": [
    {
     "data": {
      "text/html": [
       "<div>\n",
       "<style scoped>\n",
       "    .dataframe tbody tr th:only-of-type {\n",
       "        vertical-align: middle;\n",
       "    }\n",
       "\n",
       "    .dataframe tbody tr th {\n",
       "        vertical-align: top;\n",
       "    }\n",
       "\n",
       "    .dataframe thead th {\n",
       "        text-align: right;\n",
       "    }\n",
       "</style>\n",
       "<table border=\"1\" class=\"dataframe\">\n",
       "  <thead>\n",
       "    <tr style=\"text-align: right;\">\n",
       "      <th>debt</th>\n",
       "      <th>0</th>\n",
       "      <th>1</th>\n",
       "      <th>2</th>\n",
       "    </tr>\n",
       "    <tr>\n",
       "      <th>income_type</th>\n",
       "      <th></th>\n",
       "      <th></th>\n",
       "      <th></th>\n",
       "    </tr>\n",
       "  </thead>\n",
       "  <tbody>\n",
       "    <tr>\n",
       "      <td>безработный</td>\n",
       "      <td>1.0</td>\n",
       "      <td>1.0</td>\n",
       "      <td>0.500000</td>\n",
       "    </tr>\n",
       "    <tr>\n",
       "      <td>в декрете</td>\n",
       "      <td>NaN</td>\n",
       "      <td>1.0</td>\n",
       "      <td>NaN</td>\n",
       "    </tr>\n",
       "    <tr>\n",
       "      <td>госслужащий</td>\n",
       "      <td>1371.0</td>\n",
       "      <td>86.0</td>\n",
       "      <td>0.940975</td>\n",
       "    </tr>\n",
       "    <tr>\n",
       "      <td>компаньон</td>\n",
       "      <td>4703.0</td>\n",
       "      <td>376.0</td>\n",
       "      <td>0.925970</td>\n",
       "    </tr>\n",
       "    <tr>\n",
       "      <td>пенсионер</td>\n",
       "      <td>3621.0</td>\n",
       "      <td>216.0</td>\n",
       "      <td>0.943706</td>\n",
       "    </tr>\n",
       "    <tr>\n",
       "      <td>предприниматель</td>\n",
       "      <td>2.0</td>\n",
       "      <td>NaN</td>\n",
       "      <td>NaN</td>\n",
       "    </tr>\n",
       "    <tr>\n",
       "      <td>сотрудник</td>\n",
       "      <td>10030.0</td>\n",
       "      <td>1061.0</td>\n",
       "      <td>0.904337</td>\n",
       "    </tr>\n",
       "    <tr>\n",
       "      <td>студент</td>\n",
       "      <td>1.0</td>\n",
       "      <td>NaN</td>\n",
       "      <td>NaN</td>\n",
       "    </tr>\n",
       "  </tbody>\n",
       "</table>\n",
       "</div>"
      ],
      "text/plain": [
       "debt                   0       1         2\n",
       "income_type                               \n",
       "безработный          1.0     1.0  0.500000\n",
       "в декрете            NaN     1.0       NaN\n",
       "госслужащий       1371.0    86.0  0.940975\n",
       "компаньон         4703.0   376.0  0.925970\n",
       "пенсионер         3621.0   216.0  0.943706\n",
       "предприниматель      2.0     NaN       NaN\n",
       "сотрудник        10030.0  1061.0  0.904337\n",
       "студент              1.0     NaN       NaN"
      ]
     },
     "metadata": {},
     "output_type": "display_data"
    }
   ],
   "source": [
    "df_incom = df.pivot_table(index='income_type', columns='debt', values='dob_years', aggfunc='count')\n",
    "df_incom[2] = df_incom[0] / (df_incom[0] + df_incom[1])\n",
    "display(df_incom)"
   ]
  },
  {
   "cell_type": "code",
   "execution_count": 39,
   "metadata": {},
   "outputs": [
    {
     "data": {
      "text/html": [
       "<div>\n",
       "<style scoped>\n",
       "    .dataframe tbody tr th:only-of-type {\n",
       "        vertical-align: middle;\n",
       "    }\n",
       "\n",
       "    .dataframe tbody tr th {\n",
       "        vertical-align: top;\n",
       "    }\n",
       "\n",
       "    .dataframe thead th {\n",
       "        text-align: right;\n",
       "    }\n",
       "</style>\n",
       "<table border=\"1\" class=\"dataframe\">\n",
       "  <thead>\n",
       "    <tr style=\"text-align: right;\">\n",
       "      <th>debt</th>\n",
       "      <th>0</th>\n",
       "      <th>1</th>\n",
       "      <th>2</th>\n",
       "    </tr>\n",
       "    <tr>\n",
       "      <th>dob_years_category</th>\n",
       "      <th></th>\n",
       "      <th></th>\n",
       "      <th></th>\n",
       "    </tr>\n",
       "  </thead>\n",
       "  <tbody>\n",
       "    <tr>\n",
       "      <td>до 20 лет</td>\n",
       "      <td>153</td>\n",
       "      <td>13</td>\n",
       "      <td>0.921687</td>\n",
       "    </tr>\n",
       "    <tr>\n",
       "      <td>от 21 до 40 лет</td>\n",
       "      <td>8441</td>\n",
       "      <td>944</td>\n",
       "      <td>0.899414</td>\n",
       "    </tr>\n",
       "    <tr>\n",
       "      <td>от 41 до 60 лет</td>\n",
       "      <td>9104</td>\n",
       "      <td>683</td>\n",
       "      <td>0.930214</td>\n",
       "    </tr>\n",
       "    <tr>\n",
       "      <td>старше 61 лет</td>\n",
       "      <td>2031</td>\n",
       "      <td>101</td>\n",
       "      <td>0.952627</td>\n",
       "    </tr>\n",
       "  </tbody>\n",
       "</table>\n",
       "</div>"
      ],
      "text/plain": [
       "debt                   0    1         2\n",
       "dob_years_category                     \n",
       "до 20 лет            153   13  0.921687\n",
       "от 21 до 40 лет     8441  944  0.899414\n",
       "от 41 до 60 лет     9104  683  0.930214\n",
       "старше 61 лет       2031  101  0.952627"
      ]
     },
     "metadata": {},
     "output_type": "display_data"
    }
   ],
   "source": [
    "df_agg = df.pivot_table(index='dob_years_category', columns='debt', values='income_type', aggfunc='count')\n",
    "df_agg[2] = df_agg[0] / (df_agg[0] + df_agg[1])\n",
    "display(df_agg)"
   ]
  },
  {
   "cell_type": "code",
   "execution_count": 40,
   "metadata": {},
   "outputs": [
    {
     "data": {
      "text/html": [
       "<div>\n",
       "<style scoped>\n",
       "    .dataframe tbody tr th:only-of-type {\n",
       "        vertical-align: middle;\n",
       "    }\n",
       "\n",
       "    .dataframe tbody tr th {\n",
       "        vertical-align: top;\n",
       "    }\n",
       "\n",
       "    .dataframe thead th {\n",
       "        text-align: right;\n",
       "    }\n",
       "</style>\n",
       "<table border=\"1\" class=\"dataframe\">\n",
       "  <thead>\n",
       "    <tr style=\"text-align: right;\">\n",
       "      <th>debt</th>\n",
       "      <th>0</th>\n",
       "      <th>1</th>\n",
       "      <th>2</th>\n",
       "    </tr>\n",
       "    <tr>\n",
       "      <th>gender</th>\n",
       "      <th></th>\n",
       "      <th></th>\n",
       "      <th></th>\n",
       "    </tr>\n",
       "  </thead>\n",
       "  <tbody>\n",
       "    <tr>\n",
       "      <td>F</td>\n",
       "      <td>13195</td>\n",
       "      <td>994</td>\n",
       "      <td>0.929946</td>\n",
       "    </tr>\n",
       "    <tr>\n",
       "      <td>M</td>\n",
       "      <td>6534</td>\n",
       "      <td>747</td>\n",
       "      <td>0.897404</td>\n",
       "    </tr>\n",
       "  </tbody>\n",
       "</table>\n",
       "</div>"
      ],
      "text/plain": [
       "debt        0    1         2\n",
       "gender                      \n",
       "F       13195  994  0.929946\n",
       "M        6534  747  0.897404"
      ]
     },
     "metadata": {},
     "output_type": "display_data"
    }
   ],
   "source": [
    "df_gend = df.pivot_table(index='gender', columns='debt', values='income_type', aggfunc='count')\n",
    "df_gend[2] = df_gend[0] / (df_gend[0] + df_gend[1])\n",
    "display(df_gend)"
   ]
  },
  {
   "cell_type": "markdown",
   "metadata": {},
   "source": [
    "## Общий вывод:"
   ]
  },
  {
   "cell_type": "markdown",
   "metadata": {},
   "source": [
    "Исследование не выявило явных зависимостей между вводными параметрами и степенью возвращаемости кредитов:\n",
    "* Люди, не имеющие детей на 2% чаще возвращают кредит, чем люди с детьми\n",
    "* Женатые и разведенные на 2% чаще возвращают кредит, чем незамужние, вдовцы или люди, находящиеся в гражданском браке\n",
    "* Люди с доходом от 30 000 р. до 50 000 р. (нижний уровень) 2% чаще возвращают кредит, чем люди с более высоким уровнем дохода\n",
    "* Люди, взявшие кредит на операции с недвижимостью и на проведение свадьбы, возвращают его на 2% чаще, чем люди, взявшие его на операции с автомобилем или на получение образования\n",
    "\n",
    "Тем не менее, можно утверждать, что заемщик женатый или разведенный клиент, не имеющий детей с доходом до 50 000 р, планирующий операции с недвижимостью имеет более высокую вероятность возврата кредита, чем какой-либо иной клиент\n",
    "\n",
    "Дополнительные разрезы показали, что наибольший процент возврата по типу занятости – у госслужащих и у пенсионеров. Женщины возвращают на 3% чаще мужчин. Среди возрастных категорий самая высокая возворащаемость у людей старше 60 лет"
   ]
  },
  {
   "cell_type": "code",
   "execution_count": null,
   "metadata": {},
   "outputs": [],
   "source": []
  }
 ],
 "metadata": {
  "ExecuteTimeLog": [
   {
    "duration": 649,
    "start_time": "2022-02-28T19:39:14.915Z"
   },
   {
    "duration": 8,
    "start_time": "2022-02-28T19:47:27.408Z"
   },
   {
    "duration": 11,
    "start_time": "2022-02-28T19:48:20.356Z"
   },
   {
    "duration": 21,
    "start_time": "2022-02-28T19:49:33.765Z"
   },
   {
    "duration": 13,
    "start_time": "2022-02-28T19:50:49.045Z"
   },
   {
    "duration": 4,
    "start_time": "2022-02-28T19:51:11.083Z"
   },
   {
    "duration": 13,
    "start_time": "2022-02-28T19:51:24.586Z"
   },
   {
    "duration": 18,
    "start_time": "2022-02-28T19:52:07.919Z"
   },
   {
    "duration": 21,
    "start_time": "2022-02-28T19:52:18.433Z"
   },
   {
    "duration": 18,
    "start_time": "2022-02-28T19:52:30.338Z"
   },
   {
    "duration": 17,
    "start_time": "2022-02-28T19:53:28.087Z"
   },
   {
    "duration": 58,
    "start_time": "2022-02-28T19:53:37.786Z"
   },
   {
    "duration": 7,
    "start_time": "2022-02-28T19:54:21.107Z"
   },
   {
    "duration": 13,
    "start_time": "2022-02-28T19:54:35.340Z"
   },
   {
    "duration": 6,
    "start_time": "2022-02-28T19:54:46.786Z"
   },
   {
    "duration": 4,
    "start_time": "2022-02-28T19:55:01.666Z"
   },
   {
    "duration": 7,
    "start_time": "2022-02-28T19:55:15.530Z"
   },
   {
    "duration": 9,
    "start_time": "2022-02-28T19:55:34.953Z"
   },
   {
    "duration": 7,
    "start_time": "2022-02-28T19:55:47.493Z"
   },
   {
    "duration": 19,
    "start_time": "2022-02-28T19:57:11.219Z"
   },
   {
    "duration": 21,
    "start_time": "2022-02-28T19:57:25.980Z"
   },
   {
    "duration": 14,
    "start_time": "2022-02-28T19:57:36.257Z"
   },
   {
    "duration": 9,
    "start_time": "2022-02-28T19:58:57.958Z"
   },
   {
    "duration": 9,
    "start_time": "2022-02-28T19:59:49.748Z"
   },
   {
    "duration": 11,
    "start_time": "2022-02-28T20:00:20.058Z"
   },
   {
    "duration": 13,
    "start_time": "2022-02-28T20:01:40.669Z"
   },
   {
    "duration": 27,
    "start_time": "2022-02-28T20:08:47.857Z"
   },
   {
    "duration": 26,
    "start_time": "2022-02-28T20:21:58.152Z"
   },
   {
    "duration": 23,
    "start_time": "2022-02-28T20:25:42.239Z"
   },
   {
    "duration": 22,
    "start_time": "2022-02-28T20:27:41.864Z"
   },
   {
    "duration": 25,
    "start_time": "2022-02-28T20:28:59.430Z"
   },
   {
    "duration": 21,
    "start_time": "2022-02-28T20:29:11.302Z"
   },
   {
    "duration": 21,
    "start_time": "2022-02-28T20:29:26.144Z"
   },
   {
    "duration": 57,
    "start_time": "2022-02-28T20:30:32.434Z"
   },
   {
    "duration": 12,
    "start_time": "2022-02-28T20:30:32.493Z"
   },
   {
    "duration": 40,
    "start_time": "2022-02-28T20:30:32.507Z"
   },
   {
    "duration": 10,
    "start_time": "2022-02-28T20:30:32.548Z"
   },
   {
    "duration": 16,
    "start_time": "2022-02-28T20:30:32.560Z"
   },
   {
    "duration": 31,
    "start_time": "2022-02-28T20:30:32.578Z"
   },
   {
    "duration": 26,
    "start_time": "2022-02-28T20:30:32.612Z"
   },
   {
    "duration": 35,
    "start_time": "2022-02-28T20:30:32.640Z"
   },
   {
    "duration": 24,
    "start_time": "2022-02-28T20:30:32.677Z"
   },
   {
    "duration": 12,
    "start_time": "2022-02-28T20:30:32.703Z"
   },
   {
    "duration": 15,
    "start_time": "2022-02-28T20:30:32.717Z"
   },
   {
    "duration": 20,
    "start_time": "2022-02-28T20:30:32.735Z"
   },
   {
    "duration": 17,
    "start_time": "2022-02-28T20:30:32.757Z"
   },
   {
    "duration": 39,
    "start_time": "2022-02-28T20:30:32.776Z"
   },
   {
    "duration": 17,
    "start_time": "2022-02-28T20:30:32.817Z"
   },
   {
    "duration": 15,
    "start_time": "2022-02-28T20:30:32.836Z"
   },
   {
    "duration": 81,
    "start_time": "2022-02-28T20:30:32.853Z"
   },
   {
    "duration": 8,
    "start_time": "2022-02-28T20:30:32.935Z"
   },
   {
    "duration": 19,
    "start_time": "2022-02-28T20:30:32.946Z"
   },
   {
    "duration": 10,
    "start_time": "2022-02-28T20:30:32.967Z"
   },
   {
    "duration": 29,
    "start_time": "2022-02-28T20:30:32.978Z"
   },
   {
    "duration": 17,
    "start_time": "2022-02-28T20:30:33.008Z"
   },
   {
    "duration": 12,
    "start_time": "2022-02-28T20:30:33.027Z"
   },
   {
    "duration": 8,
    "start_time": "2022-02-28T20:30:33.041Z"
   },
   {
    "duration": 36,
    "start_time": "2022-02-28T20:30:33.051Z"
   },
   {
    "duration": 25,
    "start_time": "2022-02-28T20:30:33.089Z"
   },
   {
    "duration": 14,
    "start_time": "2022-02-28T20:30:33.116Z"
   },
   {
    "duration": 12,
    "start_time": "2022-02-28T20:30:33.132Z"
   },
   {
    "duration": 35,
    "start_time": "2022-02-28T20:30:33.146Z"
   },
   {
    "duration": 21,
    "start_time": "2022-02-28T20:30:33.183Z"
   },
   {
    "duration": 16,
    "start_time": "2022-02-28T20:30:33.207Z"
   },
   {
    "duration": 45,
    "start_time": "2022-02-28T20:30:33.225Z"
   },
   {
    "duration": 23,
    "start_time": "2022-02-28T20:30:33.272Z"
   },
   {
    "duration": 20,
    "start_time": "2022-02-28T20:30:33.297Z"
   },
   {
    "duration": 22,
    "start_time": "2022-02-28T20:30:33.319Z"
   },
   {
    "duration": 20,
    "start_time": "2022-02-28T20:30:33.343Z"
   },
   {
    "duration": 51,
    "start_time": "2022-02-28T20:30:33.365Z"
   },
   {
    "duration": 22,
    "start_time": "2022-02-28T20:30:33.418Z"
   },
   {
    "duration": 666,
    "start_time": "2022-03-10T12:58:44.678Z"
   },
   {
    "duration": 11,
    "start_time": "2022-03-10T12:58:45.348Z"
   },
   {
    "duration": 17,
    "start_time": "2022-03-10T12:58:45.361Z"
   },
   {
    "duration": 14,
    "start_time": "2022-03-10T12:58:45.379Z"
   },
   {
    "duration": 10,
    "start_time": "2022-03-10T12:58:45.395Z"
   },
   {
    "duration": 18,
    "start_time": "2022-03-10T12:58:45.406Z"
   },
   {
    "duration": 16,
    "start_time": "2022-03-10T12:58:45.425Z"
   },
   {
    "duration": 14,
    "start_time": "2022-03-10T12:58:45.444Z"
   },
   {
    "duration": 19,
    "start_time": "2022-03-10T12:58:45.460Z"
   },
   {
    "duration": 10,
    "start_time": "2022-03-10T12:58:45.481Z"
   },
   {
    "duration": 4,
    "start_time": "2022-03-10T12:58:45.493Z"
   },
   {
    "duration": 40,
    "start_time": "2022-03-10T12:58:45.498Z"
   },
   {
    "duration": 16,
    "start_time": "2022-03-10T12:58:45.539Z"
   },
   {
    "duration": 16,
    "start_time": "2022-03-10T12:58:45.556Z"
   },
   {
    "duration": 15,
    "start_time": "2022-03-10T12:58:45.574Z"
   },
   {
    "duration": 10,
    "start_time": "2022-03-10T12:58:45.590Z"
   },
   {
    "duration": 84,
    "start_time": "2022-03-10T12:58:45.602Z"
   },
   {
    "duration": 7,
    "start_time": "2022-03-10T12:58:45.688Z"
   },
   {
    "duration": 13,
    "start_time": "2022-03-10T12:58:45.697Z"
   },
   {
    "duration": 31,
    "start_time": "2022-03-10T12:58:45.711Z"
   },
   {
    "duration": 5,
    "start_time": "2022-03-10T12:58:45.744Z"
   },
   {
    "duration": 11,
    "start_time": "2022-03-10T12:58:45.751Z"
   },
   {
    "duration": 9,
    "start_time": "2022-03-10T12:58:45.764Z"
   },
   {
    "duration": 8,
    "start_time": "2022-03-10T12:58:45.774Z"
   },
   {
    "duration": 21,
    "start_time": "2022-03-10T12:58:45.783Z"
   },
   {
    "duration": 44,
    "start_time": "2022-03-10T12:58:45.807Z"
   },
   {
    "duration": 13,
    "start_time": "2022-03-10T12:58:45.853Z"
   },
   {
    "duration": 13,
    "start_time": "2022-03-10T12:58:45.868Z"
   },
   {
    "duration": 15,
    "start_time": "2022-03-10T12:58:45.882Z"
   },
   {
    "duration": 13,
    "start_time": "2022-03-10T12:58:45.898Z"
   },
   {
    "duration": 31,
    "start_time": "2022-03-10T12:58:45.913Z"
   },
   {
    "duration": 30,
    "start_time": "2022-03-10T12:58:45.945Z"
   },
   {
    "duration": 24,
    "start_time": "2022-03-10T12:58:45.977Z"
   },
   {
    "duration": 41,
    "start_time": "2022-03-10T12:58:46.003Z"
   },
   {
    "duration": 21,
    "start_time": "2022-03-10T12:58:46.045Z"
   },
   {
    "duration": 20,
    "start_time": "2022-03-10T12:58:46.068Z"
   },
   {
    "duration": 21,
    "start_time": "2022-03-10T12:58:46.089Z"
   },
   {
    "duration": 20,
    "start_time": "2022-03-10T12:58:46.138Z"
   },
   {
    "duration": 860,
    "start_time": "2022-03-12T16:14:13.656Z"
   },
   {
    "duration": 63,
    "start_time": "2022-03-12T16:14:15.210Z"
   },
   {
    "duration": 41,
    "start_time": "2022-03-12T16:14:17.186Z"
   },
   {
    "duration": 27,
    "start_time": "2022-03-12T16:36:33.546Z"
   },
   {
    "duration": 3,
    "start_time": "2022-03-12T16:37:30.254Z"
   },
   {
    "duration": 87,
    "start_time": "2022-03-12T16:37:30.262Z"
   },
   {
    "duration": 19,
    "start_time": "2022-03-12T16:37:30.352Z"
   },
   {
    "duration": 19,
    "start_time": "2022-03-12T16:37:30.388Z"
   },
   {
    "duration": 22,
    "start_time": "2022-03-12T16:37:30.410Z"
   },
   {
    "duration": 10,
    "start_time": "2022-03-12T16:37:30.435Z"
   },
   {
    "duration": 40,
    "start_time": "2022-03-12T16:37:30.447Z"
   },
   {
    "duration": 29,
    "start_time": "2022-03-12T16:37:30.491Z"
   },
   {
    "duration": 188,
    "start_time": "2022-03-12T16:37:30.524Z"
   },
   {
    "duration": 11,
    "start_time": "2022-03-12T16:37:30.716Z"
   },
   {
    "duration": 31,
    "start_time": "2022-03-12T16:37:30.729Z"
   },
   {
    "duration": 38,
    "start_time": "2022-03-12T16:37:30.762Z"
   },
   {
    "duration": 17,
    "start_time": "2022-03-12T16:37:30.803Z"
   },
   {
    "duration": 19,
    "start_time": "2022-03-12T16:37:30.823Z"
   },
   {
    "duration": 44,
    "start_time": "2022-03-12T16:37:30.845Z"
   },
   {
    "duration": 34,
    "start_time": "2022-03-12T16:37:30.892Z"
   },
   {
    "duration": 23,
    "start_time": "2022-03-12T16:37:30.928Z"
   },
   {
    "duration": 43,
    "start_time": "2022-03-12T16:37:30.953Z"
   },
   {
    "duration": 93,
    "start_time": "2022-03-12T16:37:30.999Z"
   },
   {
    "duration": 13,
    "start_time": "2022-03-12T16:37:31.095Z"
   },
   {
    "duration": 21,
    "start_time": "2022-03-12T16:37:31.111Z"
   },
   {
    "duration": 17,
    "start_time": "2022-03-12T16:37:31.135Z"
   },
   {
    "duration": 35,
    "start_time": "2022-03-12T16:37:31.155Z"
   },
   {
    "duration": 23,
    "start_time": "2022-03-12T16:37:31.196Z"
   },
   {
    "duration": 14,
    "start_time": "2022-03-12T16:37:31.222Z"
   },
   {
    "duration": 23,
    "start_time": "2022-03-12T16:37:31.238Z"
   },
   {
    "duration": 30,
    "start_time": "2022-03-12T16:37:31.264Z"
   },
   {
    "duration": 29,
    "start_time": "2022-03-12T16:37:31.297Z"
   },
   {
    "duration": 20,
    "start_time": "2022-03-12T16:37:31.329Z"
   },
   {
    "duration": 45,
    "start_time": "2022-03-12T16:37:31.351Z"
   },
   {
    "duration": 24,
    "start_time": "2022-03-12T16:37:31.400Z"
   },
   {
    "duration": 18,
    "start_time": "2022-03-12T16:37:31.427Z"
   },
   {
    "duration": 36,
    "start_time": "2022-03-12T16:37:31.448Z"
   },
   {
    "duration": 56,
    "start_time": "2022-03-12T16:37:31.486Z"
   },
   {
    "duration": 33,
    "start_time": "2022-03-12T16:37:31.545Z"
   },
   {
    "duration": 41,
    "start_time": "2022-03-12T16:37:31.581Z"
   },
   {
    "duration": 30,
    "start_time": "2022-03-12T16:37:31.624Z"
   },
   {
    "duration": 60,
    "start_time": "2022-03-12T16:37:31.656Z"
   },
   {
    "duration": 30,
    "start_time": "2022-03-12T16:37:31.718Z"
   },
   {
    "duration": 62,
    "start_time": "2022-03-12T16:37:31.750Z"
   },
   {
    "duration": 34,
    "start_time": "2022-03-12T16:59:18.649Z"
   },
   {
    "duration": 3,
    "start_time": "2022-03-12T17:18:26.179Z"
   },
   {
    "duration": 62,
    "start_time": "2022-03-12T17:18:26.187Z"
   },
   {
    "duration": 35,
    "start_time": "2022-03-12T17:18:26.252Z"
   },
   {
    "duration": 23,
    "start_time": "2022-03-12T17:18:26.291Z"
   },
   {
    "duration": 21,
    "start_time": "2022-03-12T17:18:26.317Z"
   },
   {
    "duration": 46,
    "start_time": "2022-03-12T17:18:26.341Z"
   },
   {
    "duration": 9,
    "start_time": "2022-03-12T17:18:26.391Z"
   },
   {
    "duration": 38,
    "start_time": "2022-03-12T17:18:26.403Z"
   },
   {
    "duration": 264,
    "start_time": "2022-03-12T17:18:26.447Z"
   },
   {
    "duration": 13,
    "start_time": "2022-03-12T17:18:26.715Z"
   },
   {
    "duration": 27,
    "start_time": "2022-03-12T17:18:26.731Z"
   },
   {
    "duration": 14,
    "start_time": "2022-03-12T17:18:26.787Z"
   },
   {
    "duration": 5,
    "start_time": "2022-03-12T17:18:26.803Z"
   },
   {
    "duration": 18,
    "start_time": "2022-03-12T17:18:26.810Z"
   },
   {
    "duration": 21,
    "start_time": "2022-03-12T17:18:26.831Z"
   },
   {
    "duration": 25,
    "start_time": "2022-03-12T17:18:26.887Z"
   },
   {
    "duration": 22,
    "start_time": "2022-03-12T17:18:26.915Z"
   },
   {
    "duration": 13,
    "start_time": "2022-03-12T17:18:26.940Z"
   },
   {
    "duration": 73,
    "start_time": "2022-03-12T17:18:26.987Z"
   },
   {
    "duration": 30,
    "start_time": "2022-03-12T17:18:27.062Z"
   },
   {
    "duration": 23,
    "start_time": "2022-03-12T17:18:27.094Z"
   },
   {
    "duration": 13,
    "start_time": "2022-03-12T17:18:27.119Z"
   },
   {
    "duration": 5,
    "start_time": "2022-03-12T17:18:27.134Z"
   },
   {
    "duration": 53,
    "start_time": "2022-03-12T17:18:27.144Z"
   },
   {
    "duration": 11,
    "start_time": "2022-03-12T17:18:27.200Z"
   },
   {
    "duration": 10,
    "start_time": "2022-03-12T17:18:27.213Z"
   },
   {
    "duration": 28,
    "start_time": "2022-03-12T17:18:27.225Z"
   },
   {
    "duration": 53,
    "start_time": "2022-03-12T17:18:27.255Z"
   },
   {
    "duration": 18,
    "start_time": "2022-03-12T17:18:27.311Z"
   },
   {
    "duration": 15,
    "start_time": "2022-03-12T17:18:27.331Z"
   },
   {
    "duration": 45,
    "start_time": "2022-03-12T17:18:27.349Z"
   },
   {
    "duration": 13,
    "start_time": "2022-03-12T17:18:27.397Z"
   },
   {
    "duration": 22,
    "start_time": "2022-03-12T17:18:27.412Z"
   },
   {
    "duration": 59,
    "start_time": "2022-03-12T17:18:27.437Z"
   },
   {
    "duration": 36,
    "start_time": "2022-03-12T17:18:27.499Z"
   },
   {
    "duration": 60,
    "start_time": "2022-03-12T17:18:27.538Z"
   },
   {
    "duration": 30,
    "start_time": "2022-03-12T17:18:27.600Z"
   },
   {
    "duration": 29,
    "start_time": "2022-03-12T17:18:27.633Z"
   },
   {
    "duration": 29,
    "start_time": "2022-03-12T17:18:27.688Z"
   },
   {
    "duration": 28,
    "start_time": "2022-03-12T17:18:27.720Z"
   },
   {
    "duration": 4,
    "start_time": "2022-03-12T17:19:13.228Z"
   },
   {
    "duration": 62,
    "start_time": "2022-03-12T17:19:13.235Z"
   },
   {
    "duration": 20,
    "start_time": "2022-03-12T17:19:13.300Z"
   },
   {
    "duration": 17,
    "start_time": "2022-03-12T17:19:13.322Z"
   },
   {
    "duration": 11,
    "start_time": "2022-03-12T17:19:13.342Z"
   },
   {
    "duration": 10,
    "start_time": "2022-03-12T17:19:13.388Z"
   },
   {
    "duration": 12,
    "start_time": "2022-03-12T17:19:13.401Z"
   },
   {
    "duration": 36,
    "start_time": "2022-03-12T17:19:13.417Z"
   },
   {
    "duration": 161,
    "start_time": "2022-03-12T17:19:13.491Z"
   },
   {
    "duration": 11,
    "start_time": "2022-03-12T17:19:13.655Z"
   },
   {
    "duration": 50,
    "start_time": "2022-03-12T17:19:13.668Z"
   },
   {
    "duration": 14,
    "start_time": "2022-03-12T17:19:13.721Z"
   },
   {
    "duration": 5,
    "start_time": "2022-03-12T17:19:13.737Z"
   },
   {
    "duration": 45,
    "start_time": "2022-03-12T17:19:13.745Z"
   },
   {
    "duration": 24,
    "start_time": "2022-03-12T17:19:13.793Z"
   },
   {
    "duration": 25,
    "start_time": "2022-03-12T17:19:13.820Z"
   },
   {
    "duration": 59,
    "start_time": "2022-03-12T17:19:13.847Z"
   },
   {
    "duration": 13,
    "start_time": "2022-03-12T17:19:13.909Z"
   },
   {
    "duration": 105,
    "start_time": "2022-03-12T17:19:13.924Z"
   },
   {
    "duration": 10,
    "start_time": "2022-03-12T17:19:14.032Z"
   },
   {
    "duration": 46,
    "start_time": "2022-03-12T17:19:14.045Z"
   },
   {
    "duration": 10,
    "start_time": "2022-03-12T17:19:14.094Z"
   },
   {
    "duration": 17,
    "start_time": "2022-03-12T17:19:14.107Z"
   },
   {
    "duration": 25,
    "start_time": "2022-03-12T17:19:14.130Z"
   },
   {
    "duration": 34,
    "start_time": "2022-03-12T17:19:14.159Z"
   },
   {
    "duration": 15,
    "start_time": "2022-03-12T17:19:14.196Z"
   },
   {
    "duration": 36,
    "start_time": "2022-03-12T17:19:14.214Z"
   },
   {
    "duration": 62,
    "start_time": "2022-03-12T17:19:14.253Z"
   },
   {
    "duration": 28,
    "start_time": "2022-03-12T17:19:14.318Z"
   },
   {
    "duration": 40,
    "start_time": "2022-03-12T17:19:14.350Z"
   },
   {
    "duration": 14,
    "start_time": "2022-03-12T17:19:14.392Z"
   },
   {
    "duration": 16,
    "start_time": "2022-03-12T17:19:14.408Z"
   },
   {
    "duration": 18,
    "start_time": "2022-03-12T17:19:14.427Z"
   },
   {
    "duration": 79,
    "start_time": "2022-03-12T17:19:14.447Z"
   },
   {
    "duration": 33,
    "start_time": "2022-03-12T17:19:14.528Z"
   },
   {
    "duration": 53,
    "start_time": "2022-03-12T17:19:14.564Z"
   },
   {
    "duration": 33,
    "start_time": "2022-03-12T17:19:14.619Z"
   },
   {
    "duration": 61,
    "start_time": "2022-03-12T17:19:14.654Z"
   },
   {
    "duration": 32,
    "start_time": "2022-03-12T17:19:14.717Z"
   },
   {
    "duration": 61,
    "start_time": "2022-03-12T17:19:14.752Z"
   },
   {
    "duration": 3,
    "start_time": "2022-03-12T17:40:22.134Z"
   },
   {
    "duration": 63,
    "start_time": "2022-03-12T17:40:22.140Z"
   },
   {
    "duration": 19,
    "start_time": "2022-03-12T17:40:22.207Z"
   },
   {
    "duration": 16,
    "start_time": "2022-03-12T17:40:22.228Z"
   },
   {
    "duration": 11,
    "start_time": "2022-03-12T17:40:22.246Z"
   },
   {
    "duration": 8,
    "start_time": "2022-03-12T17:40:22.288Z"
   },
   {
    "duration": 20,
    "start_time": "2022-03-12T17:40:22.299Z"
   },
   {
    "duration": 29,
    "start_time": "2022-03-12T17:40:22.322Z"
   },
   {
    "duration": 170,
    "start_time": "2022-03-12T17:40:22.353Z"
   },
   {
    "duration": 12,
    "start_time": "2022-03-12T17:40:22.525Z"
   },
   {
    "duration": 52,
    "start_time": "2022-03-12T17:40:22.540Z"
   },
   {
    "duration": 14,
    "start_time": "2022-03-12T17:40:22.595Z"
   },
   {
    "duration": 5,
    "start_time": "2022-03-12T17:40:22.611Z"
   },
   {
    "duration": 19,
    "start_time": "2022-03-12T17:40:22.618Z"
   },
   {
    "duration": 54,
    "start_time": "2022-03-12T17:40:22.639Z"
   },
   {
    "duration": 26,
    "start_time": "2022-03-12T17:40:22.696Z"
   },
   {
    "duration": 23,
    "start_time": "2022-03-12T17:40:22.724Z"
   },
   {
    "duration": 48,
    "start_time": "2022-03-12T17:40:22.750Z"
   },
   {
    "duration": 92,
    "start_time": "2022-03-12T17:40:22.804Z"
   },
   {
    "duration": 12,
    "start_time": "2022-03-12T17:40:22.899Z"
   },
   {
    "duration": 18,
    "start_time": "2022-03-12T17:40:22.913Z"
   },
   {
    "duration": 8,
    "start_time": "2022-03-12T17:40:22.934Z"
   },
   {
    "duration": 4,
    "start_time": "2022-03-12T17:40:22.945Z"
   },
   {
    "duration": 9,
    "start_time": "2022-03-12T17:40:22.986Z"
   },
   {
    "duration": 13,
    "start_time": "2022-03-12T17:40:22.997Z"
   },
   {
    "duration": 10,
    "start_time": "2022-03-12T17:40:23.012Z"
   },
   {
    "duration": 63,
    "start_time": "2022-03-12T17:40:23.025Z"
   },
   {
    "duration": 25,
    "start_time": "2022-03-12T17:40:23.090Z"
   },
   {
    "duration": 17,
    "start_time": "2022-03-12T17:40:23.117Z"
   },
   {
    "duration": 13,
    "start_time": "2022-03-12T17:40:23.137Z"
   },
   {
    "duration": 47,
    "start_time": "2022-03-12T17:40:23.152Z"
   },
   {
    "duration": 15,
    "start_time": "2022-03-12T17:40:23.202Z"
   },
   {
    "duration": 17,
    "start_time": "2022-03-12T17:40:23.219Z"
   },
   {
    "duration": 58,
    "start_time": "2022-03-12T17:40:23.238Z"
   },
   {
    "duration": 34,
    "start_time": "2022-03-12T17:40:23.299Z"
   },
   {
    "duration": 53,
    "start_time": "2022-03-12T17:40:23.335Z"
   },
   {
    "duration": 31,
    "start_time": "2022-03-12T17:40:23.391Z"
   },
   {
    "duration": 30,
    "start_time": "2022-03-12T17:40:23.424Z"
   },
   {
    "duration": 31,
    "start_time": "2022-03-12T17:40:23.487Z"
   },
   {
    "duration": 30,
    "start_time": "2022-03-12T17:40:23.520Z"
   },
   {
    "duration": 4,
    "start_time": "2022-03-12T17:47:29.890Z"
   },
   {
    "duration": 60,
    "start_time": "2022-03-12T17:47:29.901Z"
   },
   {
    "duration": 27,
    "start_time": "2022-03-12T17:47:29.964Z"
   },
   {
    "duration": 17,
    "start_time": "2022-03-12T17:47:29.995Z"
   },
   {
    "duration": 13,
    "start_time": "2022-03-12T17:47:30.016Z"
   },
   {
    "duration": 11,
    "start_time": "2022-03-12T17:47:30.032Z"
   },
   {
    "duration": 13,
    "start_time": "2022-03-12T17:47:30.089Z"
   },
   {
    "duration": 31,
    "start_time": "2022-03-12T17:47:30.105Z"
   },
   {
    "duration": 179,
    "start_time": "2022-03-12T17:47:30.140Z"
   },
   {
    "duration": 13,
    "start_time": "2022-03-12T17:47:30.322Z"
   },
   {
    "duration": 56,
    "start_time": "2022-03-12T17:47:30.337Z"
   },
   {
    "duration": 16,
    "start_time": "2022-03-12T17:47:30.395Z"
   },
   {
    "duration": 5,
    "start_time": "2022-03-12T17:47:30.413Z"
   },
   {
    "duration": 25,
    "start_time": "2022-03-12T17:47:30.421Z"
   },
   {
    "duration": 56,
    "start_time": "2022-03-12T17:47:30.448Z"
   },
   {
    "duration": 27,
    "start_time": "2022-03-12T17:47:30.507Z"
   },
   {
    "duration": 24,
    "start_time": "2022-03-12T17:47:30.536Z"
   },
   {
    "duration": 14,
    "start_time": "2022-03-12T17:47:30.587Z"
   },
   {
    "duration": 98,
    "start_time": "2022-03-12T17:47:30.603Z"
   },
   {
    "duration": 10,
    "start_time": "2022-03-12T17:47:30.704Z"
   },
   {
    "duration": 45,
    "start_time": "2022-03-12T17:47:30.717Z"
   },
   {
    "duration": 35,
    "start_time": "2022-03-12T17:47:30.764Z"
   },
   {
    "duration": 12,
    "start_time": "2022-03-12T17:47:30.801Z"
   },
   {
    "duration": 36,
    "start_time": "2022-03-12T17:47:30.817Z"
   },
   {
    "duration": 12,
    "start_time": "2022-03-12T17:47:30.856Z"
   },
   {
    "duration": 23,
    "start_time": "2022-03-12T17:47:30.870Z"
   },
   {
    "duration": 37,
    "start_time": "2022-03-12T17:47:30.895Z"
   },
   {
    "duration": 26,
    "start_time": "2022-03-12T17:47:30.934Z"
   },
   {
    "duration": 34,
    "start_time": "2022-03-12T17:47:30.962Z"
   },
   {
    "duration": 26,
    "start_time": "2022-03-12T17:47:30.998Z"
   },
   {
    "duration": 23,
    "start_time": "2022-03-12T17:47:31.027Z"
   },
   {
    "duration": 29,
    "start_time": "2022-03-12T17:47:31.053Z"
   },
   {
    "duration": 51,
    "start_time": "2022-03-12T17:47:31.085Z"
   },
   {
    "duration": 39,
    "start_time": "2022-03-12T17:47:31.139Z"
   },
   {
    "duration": 36,
    "start_time": "2022-03-12T17:47:31.181Z"
   },
   {
    "duration": 30,
    "start_time": "2022-03-12T17:47:31.219Z"
   },
   {
    "duration": 55,
    "start_time": "2022-03-12T17:47:31.252Z"
   },
   {
    "duration": 28,
    "start_time": "2022-03-12T17:47:31.310Z"
   },
   {
    "duration": 53,
    "start_time": "2022-03-12T17:47:31.340Z"
   },
   {
    "duration": 28,
    "start_time": "2022-03-12T17:47:31.396Z"
   },
   {
    "duration": 533,
    "start_time": "2022-03-13T03:01:50.867Z"
   },
   {
    "duration": 47,
    "start_time": "2022-03-13T03:01:51.401Z"
   },
   {
    "duration": 16,
    "start_time": "2022-03-13T03:01:51.449Z"
   },
   {
    "duration": 10,
    "start_time": "2022-03-13T03:01:51.466Z"
   },
   {
    "duration": 7,
    "start_time": "2022-03-13T03:01:51.478Z"
   },
   {
    "duration": 10,
    "start_time": "2022-03-13T03:01:51.487Z"
   },
   {
    "duration": 7,
    "start_time": "2022-03-13T03:01:51.498Z"
   },
   {
    "duration": 15,
    "start_time": "2022-03-13T03:01:51.506Z"
   },
   {
    "duration": 88,
    "start_time": "2022-03-13T03:01:51.524Z"
   },
   {
    "duration": 8,
    "start_time": "2022-03-13T03:01:51.614Z"
   },
   {
    "duration": 17,
    "start_time": "2022-03-13T03:01:51.623Z"
   },
   {
    "duration": 8,
    "start_time": "2022-03-13T03:01:51.642Z"
   },
   {
    "duration": 5,
    "start_time": "2022-03-13T03:01:51.651Z"
   },
   {
    "duration": 10,
    "start_time": "2022-03-13T03:01:51.657Z"
   },
   {
    "duration": 37,
    "start_time": "2022-03-13T03:01:51.669Z"
   },
   {
    "duration": 15,
    "start_time": "2022-03-13T03:01:51.707Z"
   },
   {
    "duration": 13,
    "start_time": "2022-03-13T03:01:51.724Z"
   },
   {
    "duration": 9,
    "start_time": "2022-03-13T03:01:51.739Z"
   },
   {
    "duration": 66,
    "start_time": "2022-03-13T03:01:51.750Z"
   },
   {
    "duration": 6,
    "start_time": "2022-03-13T03:01:51.818Z"
   },
   {
    "duration": 10,
    "start_time": "2022-03-13T03:01:51.826Z"
   },
   {
    "duration": 5,
    "start_time": "2022-03-13T03:01:51.838Z"
   },
   {
    "duration": 5,
    "start_time": "2022-03-13T03:01:51.845Z"
   },
   {
    "duration": 6,
    "start_time": "2022-03-13T03:01:51.851Z"
   },
   {
    "duration": 7,
    "start_time": "2022-03-13T03:01:51.859Z"
   },
   {
    "duration": 39,
    "start_time": "2022-03-13T03:01:51.868Z"
   },
   {
    "duration": 13,
    "start_time": "2022-03-13T03:01:51.910Z"
   },
   {
    "duration": 13,
    "start_time": "2022-03-13T03:01:51.925Z"
   },
   {
    "duration": 10,
    "start_time": "2022-03-13T03:01:51.940Z"
   },
   {
    "duration": 8,
    "start_time": "2022-03-13T03:01:51.951Z"
   },
   {
    "duration": 8,
    "start_time": "2022-03-13T03:01:51.960Z"
   },
   {
    "duration": 39,
    "start_time": "2022-03-13T03:01:51.969Z"
   },
   {
    "duration": 15,
    "start_time": "2022-03-13T03:01:52.009Z"
   },
   {
    "duration": 21,
    "start_time": "2022-03-13T03:01:52.025Z"
   },
   {
    "duration": 19,
    "start_time": "2022-03-13T03:01:52.048Z"
   },
   {
    "duration": 15,
    "start_time": "2022-03-13T03:01:52.068Z"
   },
   {
    "duration": 35,
    "start_time": "2022-03-13T03:01:52.085Z"
   },
   {
    "duration": 16,
    "start_time": "2022-03-13T03:01:52.121Z"
   },
   {
    "duration": 15,
    "start_time": "2022-03-13T03:01:52.139Z"
   },
   {
    "duration": 14,
    "start_time": "2022-03-13T03:01:52.156Z"
   }
  ],
  "kernelspec": {
   "display_name": "Python 3",
   "language": "python",
   "name": "python3"
  },
  "language_info": {
   "codemirror_mode": {
    "name": "ipython",
    "version": 3
   },
   "file_extension": ".py",
   "mimetype": "text/x-python",
   "name": "python",
   "nbconvert_exporter": "python",
   "pygments_lexer": "ipython3",
   "version": "3.7.3"
  },
  "toc": {
   "base_numbering": 1,
   "nav_menu": {},
   "number_sections": true,
   "sideBar": true,
   "skip_h1_title": true,
   "title_cell": "Table of Contents",
   "title_sidebar": "Contents",
   "toc_cell": false,
   "toc_position": {},
   "toc_section_display": true,
   "toc_window_display": false
  }
 },
 "nbformat": 4,
 "nbformat_minor": 5
}
