{
 "cells": [
  {
   "cell_type": "markdown",
   "metadata": {
    "toc": true
   },
   "source": [
    "<h1>Содержание<span class=\"tocSkip\"></span></h1>\n",
    "<div class=\"toc\"><ul class=\"toc-item\"><li><span><a href=\"#Подготовка-данных\" data-toc-modified-id=\"Подготовка-данных-1\"><span class=\"toc-item-num\">1&nbsp;&nbsp;</span>Подготовка данных</a></span></li><li><span><a href=\"#Анализ-данных\" data-toc-modified-id=\"Анализ-данных-2\"><span class=\"toc-item-num\">2&nbsp;&nbsp;</span>Анализ данных</a></span></li><li><span><a href=\"#Модель\" data-toc-modified-id=\"Модель-3\"><span class=\"toc-item-num\">3&nbsp;&nbsp;</span>Модель</a></span></li><li><span><a href=\"#Чек-лист-готовности-проекта\" data-toc-modified-id=\"Чек-лист-готовности-проекта-4\"><span class=\"toc-item-num\">4&nbsp;&nbsp;</span>Чек-лист готовности проекта</a></span></li></ul></div>"
   ]
  },
  {
   "cell_type": "markdown",
   "metadata": {},
   "source": [
    "# Восстановление золота из руды"
   ]
  },
  {
   "cell_type": "markdown",
   "metadata": {},
   "source": [
    "Подготовьте прототип модели машинного обучения для «Цифры». Компания разрабатывает решения для эффективной работы промышленных предприятий.\n",
    "\n",
    "Модель должна предсказать коэффициент восстановления золота из золотосодержащей руды. Используйте данные с параметрами добычи и очистки. \n",
    "\n",
    "Модель поможет оптимизировать производство, чтобы не запускать предприятие с убыточными характеристиками.\n",
    "\n",
    "Вам нужно:\n",
    "\n",
    "1. Подготовить данные;\n",
    "2. Провести исследовательский анализ данных;\n",
    "3. Построить и обучить модель.\n",
    "\n",
    "Чтобы выполнить проект, обращайтесь к библиотекам *pandas*, *matplotlib* и *sklearn.* Вам поможет их документация."
   ]
  },
  {
   "cell_type": "markdown",
   "metadata": {},
   "source": [
    "**Заказчик.** Консалтинговая компания «Цифра» в интересах золотодобывающего предприятия\n",
    "\n",
    "**Цель Заказчика.** Оптимизировать производство и исключить возможность запуска предприятия с убыточными характеристиками.\n",
    "\n",
    "**Цель исследования.** Построить модель для предсказания коэффициента восстановления золота из золотосодержащей руды.\n",
    "\n",
    "**Задачи:**\n",
    "\n",
    "- Загрузить и подготовить данные.\n",
    "- Проанализировать данные\n",
    "- Построить модель\n",
    "\n",
    "**Этапы:**\n",
    "\n",
    "- Проверить корректность расчета эффективности обогащения.\n",
    "- Проанализировать признаки, недоступные в тестовой выборке.\n",
    "- Провести предобработку данных.\n",
    "- Изучить степень изменения концентрация металлов (Au, Ag, Pb) на различных этапах очистки.\n",
    "- Сравнить распределение размеров гранул сырья на обучающей и тестовой выборках.\n",
    "- Исследовать суммарную концентрацию всех веществ на разных стадиях.\n",
    "- Написать функцию для вычисления итоговой sMAPE.\n",
    "- Обучить разные модели и оценить их качество кросс-валидацией.\n",
    "\n",
    "\n",
    "**Входные данные от Заказчика.** Три файла в формате .csv с сырыми данными различных параметров работы обагатительного производства.\n",
    "\n",
    "**Ожидаемый результат.** Подготовлен прототип модели машинного обучения для прогнозирования коэффициента восстановления золота из золотосодержащей руды."
   ]
  },
  {
   "cell_type": "markdown",
   "metadata": {},
   "source": [
    "## Подготовка данных"
   ]
  },
  {
   "cell_type": "markdown",
   "metadata": {},
   "source": [
    "1. Вычислить эффективности обогащения на обучающей выборке для признака `rougher.output.recovery`.\n",
    "2. Найти MAE между полученными расчётами и значением признака.\n",
    "3. Проанализировать признаки, недоступные в тестовой выборке. Определить тип параметров\n",
    "4. Провести предобработку данных."
   ]
  },
  {
   "cell_type": "markdown",
   "metadata": {},
   "source": [
    "**Описание данных**\n",
    "\n",
    "- `date` – дата и время замера\n",
    "\n",
    "**Исходные данные для первой метрики**\n",
    "- `rougher.input.feed_au` – сырье золота для флотации\n",
    "- `rougher.output.concentrate_au` – концентрат золота, полученный в результате флотации\n",
    "- `rougher.output.tail_au` – хвост золота, полученный в результате флотации\n",
    "\n",
    "**Исходные данные для второй метрики**\n",
    "- `final.output.concentrate_au` – финальный полученный концентрат золота\n",
    "- `final.output.tail_au` – финальный полученный хвост золота\n",
    "- `primary_cleaner.output.concentrate_au` – концентрат  золота, полученный в результате первичной очистки\n",
    "\n",
    "**Целевые показатели**\n",
    "- `final.output.recovery` - эффективность обогащения финального концентрата (первая метрика)\n",
    "- `rougher.output.recovery` - эффективность обогащения чернового концентрата (вторая мтрика)\n",
    "\n",
    "**Прочие показатели**\n",
    "\n",
    "- `rougher.input.feed…` - блок показателей  сырье для флотации (серебро, свинец, соль, размер гранул)\n",
    "- `rougher.output.concentrate…` - блок показателей концентрат, полученный в результате флотации (серебро, свинец, соль)\n",
    "- `rougher.output.tail…` - блок показателей хвост, полученный в результате флотации (серебро, свинец, соль)\n",
    "- `final.output.concentrate…` - блок показателей финального полученного концентрата (серебро, свинец, соль)\n",
    "- `final.output.tail…` - блок показателей финального полученного хвоста (серебро, свинец, соль)\n",
    "- `primary_cleaner.output.concentrate…` - блок показателей концентрат, полученный в результате первичной очистки (серебро, свинец, соль)\n",
    "- `primary_cleaner.input…` - блок показателей сырье для первичной очистки (сульфат, депрессант, ксантогенат, размер гранул)\n",
    "- `primary_cleaner.output.tail…` - блок показателей хвост, полученный в результате первичной очистки (серебро, свинец, соль, золото)\n",
    "- `primary_cleaner.state.floatbank…` - блок показателей  параметры флотационной установки для первичной очистки (воздух, жидкость, номер установки)\n",
    "- `rougher.calculation.sulfate_to_au_concentrate` – характеристики сульфата при флотации для получения концентрата золота\n",
    "- `rougher.calculation.floatbank…` - блок показателей  параметры сульфата флотационной установки для флотации (номер установки)\n",
    "- `rougher.input.floatbank…` - блок показателей реагенты при флотации для флотационной установки (сульфат, ксантогенат, номер установки)\n",
    "- `rougher.state.floatbank…` - блок показателей  параметры флотационной установки для флотации (воздух, жидкость, номер установки)\n",
    "- `secondary_cleaner.output.tail…` - блок показателей хвост, полученный в результате вторичной очистки (серебро, свинец, соль, золото)\n",
    "- `secondary_cleaner.state.floatbank…` - блок показателей  параметры флотационной установки для вторичной очистки (воздух, жидкость, номер установки)"
   ]
  },
  {
   "cell_type": "code",
   "execution_count": 2,
   "metadata": {},
   "outputs": [],
   "source": [
    "# Импотрт библиотек\n",
    "import pandas as pd\n",
    "import numpy as np\n",
    "import seaborn as sns\n",
    "import matplotlib.pyplot as plt\n",
    "\n",
    "from scipy import stats as st\n",
    "from numpy.random import RandomState\n",
    "\n",
    "from sklearn.tree import DecisionTreeClassifier\n",
    "from sklearn.tree import DecisionTreeRegressor\n",
    "\n",
    "from sklearn.ensemble import RandomForestClassifier\n",
    "from sklearn.ensemble import RandomForestRegressor\n",
    "\n",
    "from sklearn.linear_model import LogisticRegression\n",
    "from sklearn.linear_model import LinearRegression\n",
    "\n",
    "from sklearn.model_selection import cross_val_score # кросс-вылидация\n",
    "from sklearn.model_selection import GridSearchCV\n",
    "from sklearn.model_selection import train_test_split\n",
    "from sklearn.preprocessing import StandardScaler # стандартизация\n",
    "from sklearn.utils import shuffle # перемешивание\n",
    "from sklearn.dummy import DummyClassifier # Наивная модель\n",
    "from sklearn.dummy import DummyRegressor\n",
    "\n",
    "from sklearn.metrics import accuracy_score\n",
    "from sklearn.metrics import mean_squared_error\n",
    "from sklearn.metrics import mean_absolute_error\n",
    "\n",
    "from sklearn.metrics import confusion_matrix # матрица \"правда / ложь\"\n",
    "from sklearn.metrics import precision_score\n",
    "from sklearn.metrics import recall_score\n",
    "from sklearn.metrics import f1_score\n",
    "from sklearn.metrics import r2_score\n",
    "\n",
    "from sklearn.metrics import precision_recall_curve\n",
    "from sklearn.metrics import roc_curve # график\n",
    "from sklearn.metrics import roc_auc_score # площадь фигуры по графику"
   ]
  },
  {
   "cell_type": "code",
   "execution_count": 3,
   "metadata": {},
   "outputs": [],
   "source": [
    "# Введем константу\n",
    "state = RandomState(12345)"
   ]
  },
  {
   "cell_type": "code",
   "execution_count": 4,
   "metadata": {},
   "outputs": [],
   "source": [
    "# Функция исследования датасета\n",
    "def info_df(df_name):\n",
    "    display(df_name.head())\n",
    "    st = df_name.shape[0]\n",
    "    col = df_name.shape[1]\n",
    "    zerro = df_name.isna().sum()\n",
    "    print(f'Размер таблиы: {col} столбцов и {st} строк')\n",
    "    print(f'Больше всего - {max(zerro)} пропусков в столбце {max(zerro.index)}')\n",
    "    print(f'Общее количество пропусков - {zerro.sum()}')\n",
    "    print(f'Количество явных дубликатов: {df_name.duplicated().sum()}')\n",
    "    print()\n",
    "    print(df_name.info())"
   ]
  },
  {
   "cell_type": "code",
   "execution_count": 5,
   "metadata": {
    "scrolled": true
   },
   "outputs": [],
   "source": [
    "# Прочитаем файлы\n",
    "df = pd.read_csv('/datasets/gold_recovery_full_new.csv')\n",
    "df_train = pd.read_csv('/datasets/gold_recovery_train_new.csv')\n",
    "df_test = pd.read_csv('/datasets/gold_recovery_test_new.csv')"
   ]
  },
  {
   "cell_type": "code",
   "execution_count": 6,
   "metadata": {},
   "outputs": [
    {
     "data": {
      "text/html": [
       "<div>\n",
       "<style scoped>\n",
       "    .dataframe tbody tr th:only-of-type {\n",
       "        vertical-align: middle;\n",
       "    }\n",
       "\n",
       "    .dataframe tbody tr th {\n",
       "        vertical-align: top;\n",
       "    }\n",
       "\n",
       "    .dataframe thead th {\n",
       "        text-align: right;\n",
       "    }\n",
       "</style>\n",
       "<table border=\"1\" class=\"dataframe\">\n",
       "  <thead>\n",
       "    <tr style=\"text-align: right;\">\n",
       "      <th></th>\n",
       "      <th>date</th>\n",
       "      <th>final.output.concentrate_ag</th>\n",
       "      <th>final.output.concentrate_pb</th>\n",
       "      <th>final.output.concentrate_sol</th>\n",
       "      <th>final.output.concentrate_au</th>\n",
       "      <th>final.output.recovery</th>\n",
       "      <th>final.output.tail_ag</th>\n",
       "      <th>final.output.tail_pb</th>\n",
       "      <th>final.output.tail_sol</th>\n",
       "      <th>final.output.tail_au</th>\n",
       "      <th>...</th>\n",
       "      <th>secondary_cleaner.state.floatbank4_a_air</th>\n",
       "      <th>secondary_cleaner.state.floatbank4_a_level</th>\n",
       "      <th>secondary_cleaner.state.floatbank4_b_air</th>\n",
       "      <th>secondary_cleaner.state.floatbank4_b_level</th>\n",
       "      <th>secondary_cleaner.state.floatbank5_a_air</th>\n",
       "      <th>secondary_cleaner.state.floatbank5_a_level</th>\n",
       "      <th>secondary_cleaner.state.floatbank5_b_air</th>\n",
       "      <th>secondary_cleaner.state.floatbank5_b_level</th>\n",
       "      <th>secondary_cleaner.state.floatbank6_a_air</th>\n",
       "      <th>secondary_cleaner.state.floatbank6_a_level</th>\n",
       "    </tr>\n",
       "  </thead>\n",
       "  <tbody>\n",
       "    <tr>\n",
       "      <th>0</th>\n",
       "      <td>2016-01-15 00:00:00</td>\n",
       "      <td>6.055403</td>\n",
       "      <td>9.889648</td>\n",
       "      <td>5.507324</td>\n",
       "      <td>42.192020</td>\n",
       "      <td>70.541216</td>\n",
       "      <td>10.411962</td>\n",
       "      <td>0.895447</td>\n",
       "      <td>16.904297</td>\n",
       "      <td>2.143149</td>\n",
       "      <td>...</td>\n",
       "      <td>14.016835</td>\n",
       "      <td>-502.488007</td>\n",
       "      <td>12.099931</td>\n",
       "      <td>-504.715942</td>\n",
       "      <td>9.925633</td>\n",
       "      <td>-498.310211</td>\n",
       "      <td>8.079666</td>\n",
       "      <td>-500.470978</td>\n",
       "      <td>14.151341</td>\n",
       "      <td>-605.841980</td>\n",
       "    </tr>\n",
       "    <tr>\n",
       "      <th>1</th>\n",
       "      <td>2016-01-15 01:00:00</td>\n",
       "      <td>6.029369</td>\n",
       "      <td>9.968944</td>\n",
       "      <td>5.257781</td>\n",
       "      <td>42.701629</td>\n",
       "      <td>69.266198</td>\n",
       "      <td>10.462676</td>\n",
       "      <td>0.927452</td>\n",
       "      <td>16.634514</td>\n",
       "      <td>2.224930</td>\n",
       "      <td>...</td>\n",
       "      <td>13.992281</td>\n",
       "      <td>-505.503262</td>\n",
       "      <td>11.950531</td>\n",
       "      <td>-501.331529</td>\n",
       "      <td>10.039245</td>\n",
       "      <td>-500.169983</td>\n",
       "      <td>7.984757</td>\n",
       "      <td>-500.582168</td>\n",
       "      <td>13.998353</td>\n",
       "      <td>-599.787184</td>\n",
       "    </tr>\n",
       "    <tr>\n",
       "      <th>2</th>\n",
       "      <td>2016-01-15 02:00:00</td>\n",
       "      <td>6.055926</td>\n",
       "      <td>10.213995</td>\n",
       "      <td>5.383759</td>\n",
       "      <td>42.657501</td>\n",
       "      <td>68.116445</td>\n",
       "      <td>10.507046</td>\n",
       "      <td>0.953716</td>\n",
       "      <td>16.208849</td>\n",
       "      <td>2.257889</td>\n",
       "      <td>...</td>\n",
       "      <td>14.015015</td>\n",
       "      <td>-502.520901</td>\n",
       "      <td>11.912783</td>\n",
       "      <td>-501.133383</td>\n",
       "      <td>10.070913</td>\n",
       "      <td>-500.129135</td>\n",
       "      <td>8.013877</td>\n",
       "      <td>-500.517572</td>\n",
       "      <td>14.028663</td>\n",
       "      <td>-601.427363</td>\n",
       "    </tr>\n",
       "    <tr>\n",
       "      <th>3</th>\n",
       "      <td>2016-01-15 03:00:00</td>\n",
       "      <td>6.047977</td>\n",
       "      <td>9.977019</td>\n",
       "      <td>4.858634</td>\n",
       "      <td>42.689819</td>\n",
       "      <td>68.347543</td>\n",
       "      <td>10.422762</td>\n",
       "      <td>0.883763</td>\n",
       "      <td>16.532835</td>\n",
       "      <td>2.146849</td>\n",
       "      <td>...</td>\n",
       "      <td>14.036510</td>\n",
       "      <td>-500.857308</td>\n",
       "      <td>11.999550</td>\n",
       "      <td>-501.193686</td>\n",
       "      <td>9.970366</td>\n",
       "      <td>-499.201640</td>\n",
       "      <td>7.977324</td>\n",
       "      <td>-500.255908</td>\n",
       "      <td>14.005551</td>\n",
       "      <td>-599.996129</td>\n",
       "    </tr>\n",
       "    <tr>\n",
       "      <th>4</th>\n",
       "      <td>2016-01-15 04:00:00</td>\n",
       "      <td>6.148599</td>\n",
       "      <td>10.142511</td>\n",
       "      <td>4.939416</td>\n",
       "      <td>42.774141</td>\n",
       "      <td>66.927016</td>\n",
       "      <td>10.360302</td>\n",
       "      <td>0.792826</td>\n",
       "      <td>16.525686</td>\n",
       "      <td>2.055292</td>\n",
       "      <td>...</td>\n",
       "      <td>14.027298</td>\n",
       "      <td>-499.838632</td>\n",
       "      <td>11.953070</td>\n",
       "      <td>-501.053894</td>\n",
       "      <td>9.925709</td>\n",
       "      <td>-501.686727</td>\n",
       "      <td>7.894242</td>\n",
       "      <td>-500.356035</td>\n",
       "      <td>13.996647</td>\n",
       "      <td>-601.496691</td>\n",
       "    </tr>\n",
       "  </tbody>\n",
       "</table>\n",
       "<p>5 rows × 87 columns</p>\n",
       "</div>"
      ],
      "text/plain": [
       "                  date  final.output.concentrate_ag  \\\n",
       "0  2016-01-15 00:00:00                     6.055403   \n",
       "1  2016-01-15 01:00:00                     6.029369   \n",
       "2  2016-01-15 02:00:00                     6.055926   \n",
       "3  2016-01-15 03:00:00                     6.047977   \n",
       "4  2016-01-15 04:00:00                     6.148599   \n",
       "\n",
       "   final.output.concentrate_pb  final.output.concentrate_sol  \\\n",
       "0                     9.889648                      5.507324   \n",
       "1                     9.968944                      5.257781   \n",
       "2                    10.213995                      5.383759   \n",
       "3                     9.977019                      4.858634   \n",
       "4                    10.142511                      4.939416   \n",
       "\n",
       "   final.output.concentrate_au  final.output.recovery  final.output.tail_ag  \\\n",
       "0                    42.192020              70.541216             10.411962   \n",
       "1                    42.701629              69.266198             10.462676   \n",
       "2                    42.657501              68.116445             10.507046   \n",
       "3                    42.689819              68.347543             10.422762   \n",
       "4                    42.774141              66.927016             10.360302   \n",
       "\n",
       "   final.output.tail_pb  final.output.tail_sol  final.output.tail_au  ...  \\\n",
       "0              0.895447              16.904297              2.143149  ...   \n",
       "1              0.927452              16.634514              2.224930  ...   \n",
       "2              0.953716              16.208849              2.257889  ...   \n",
       "3              0.883763              16.532835              2.146849  ...   \n",
       "4              0.792826              16.525686              2.055292  ...   \n",
       "\n",
       "   secondary_cleaner.state.floatbank4_a_air  \\\n",
       "0                                 14.016835   \n",
       "1                                 13.992281   \n",
       "2                                 14.015015   \n",
       "3                                 14.036510   \n",
       "4                                 14.027298   \n",
       "\n",
       "   secondary_cleaner.state.floatbank4_a_level  \\\n",
       "0                                 -502.488007   \n",
       "1                                 -505.503262   \n",
       "2                                 -502.520901   \n",
       "3                                 -500.857308   \n",
       "4                                 -499.838632   \n",
       "\n",
       "   secondary_cleaner.state.floatbank4_b_air  \\\n",
       "0                                 12.099931   \n",
       "1                                 11.950531   \n",
       "2                                 11.912783   \n",
       "3                                 11.999550   \n",
       "4                                 11.953070   \n",
       "\n",
       "   secondary_cleaner.state.floatbank4_b_level  \\\n",
       "0                                 -504.715942   \n",
       "1                                 -501.331529   \n",
       "2                                 -501.133383   \n",
       "3                                 -501.193686   \n",
       "4                                 -501.053894   \n",
       "\n",
       "   secondary_cleaner.state.floatbank5_a_air  \\\n",
       "0                                  9.925633   \n",
       "1                                 10.039245   \n",
       "2                                 10.070913   \n",
       "3                                  9.970366   \n",
       "4                                  9.925709   \n",
       "\n",
       "   secondary_cleaner.state.floatbank5_a_level  \\\n",
       "0                                 -498.310211   \n",
       "1                                 -500.169983   \n",
       "2                                 -500.129135   \n",
       "3                                 -499.201640   \n",
       "4                                 -501.686727   \n",
       "\n",
       "   secondary_cleaner.state.floatbank5_b_air  \\\n",
       "0                                  8.079666   \n",
       "1                                  7.984757   \n",
       "2                                  8.013877   \n",
       "3                                  7.977324   \n",
       "4                                  7.894242   \n",
       "\n",
       "   secondary_cleaner.state.floatbank5_b_level  \\\n",
       "0                                 -500.470978   \n",
       "1                                 -500.582168   \n",
       "2                                 -500.517572   \n",
       "3                                 -500.255908   \n",
       "4                                 -500.356035   \n",
       "\n",
       "   secondary_cleaner.state.floatbank6_a_air  \\\n",
       "0                                 14.151341   \n",
       "1                                 13.998353   \n",
       "2                                 14.028663   \n",
       "3                                 14.005551   \n",
       "4                                 13.996647   \n",
       "\n",
       "   secondary_cleaner.state.floatbank6_a_level  \n",
       "0                                 -605.841980  \n",
       "1                                 -599.787184  \n",
       "2                                 -601.427363  \n",
       "3                                 -599.996129  \n",
       "4                                 -601.496691  \n",
       "\n",
       "[5 rows x 87 columns]"
      ]
     },
     "metadata": {},
     "output_type": "display_data"
    },
    {
     "name": "stdout",
     "output_type": "stream",
     "text": [
      "Размер таблиы: 87 столбцов и 19439 строк\n",
      "Больше всего - 1748 пропусков в столбце secondary_cleaner.state.floatbank6_a_level\n",
      "Общее количество пропусков - 4481\n",
      "Количество явных дубликатов: 0\n",
      "\n",
      "<class 'pandas.core.frame.DataFrame'>\n",
      "RangeIndex: 19439 entries, 0 to 19438\n",
      "Data columns (total 87 columns):\n",
      " #   Column                                              Non-Null Count  Dtype  \n",
      "---  ------                                              --------------  -----  \n",
      " 0   date                                                19439 non-null  object \n",
      " 1   final.output.concentrate_ag                         19438 non-null  float64\n",
      " 2   final.output.concentrate_pb                         19438 non-null  float64\n",
      " 3   final.output.concentrate_sol                        19228 non-null  float64\n",
      " 4   final.output.concentrate_au                         19439 non-null  float64\n",
      " 5   final.output.recovery                               19439 non-null  float64\n",
      " 6   final.output.tail_ag                                19438 non-null  float64\n",
      " 7   final.output.tail_pb                                19338 non-null  float64\n",
      " 8   final.output.tail_sol                               19433 non-null  float64\n",
      " 9   final.output.tail_au                                19439 non-null  float64\n",
      " 10  primary_cleaner.input.sulfate                       19415 non-null  float64\n",
      " 11  primary_cleaner.input.depressant                    19402 non-null  float64\n",
      " 12  primary_cleaner.input.feed_size                     19439 non-null  float64\n",
      " 13  primary_cleaner.input.xanthate                      19335 non-null  float64\n",
      " 14  primary_cleaner.output.concentrate_ag               19439 non-null  float64\n",
      " 15  primary_cleaner.output.concentrate_pb               19323 non-null  float64\n",
      " 16  primary_cleaner.output.concentrate_sol              19069 non-null  float64\n",
      " 17  primary_cleaner.output.concentrate_au               19439 non-null  float64\n",
      " 18  primary_cleaner.output.tail_ag                      19435 non-null  float64\n",
      " 19  primary_cleaner.output.tail_pb                      19418 non-null  float64\n",
      " 20  primary_cleaner.output.tail_sol                     19377 non-null  float64\n",
      " 21  primary_cleaner.output.tail_au                      19439 non-null  float64\n",
      " 22  primary_cleaner.state.floatbank8_a_air              19435 non-null  float64\n",
      " 23  primary_cleaner.state.floatbank8_a_level            19438 non-null  float64\n",
      " 24  primary_cleaner.state.floatbank8_b_air              19435 non-null  float64\n",
      " 25  primary_cleaner.state.floatbank8_b_level            19438 non-null  float64\n",
      " 26  primary_cleaner.state.floatbank8_c_air              19437 non-null  float64\n",
      " 27  primary_cleaner.state.floatbank8_c_level            19438 non-null  float64\n",
      " 28  primary_cleaner.state.floatbank8_d_air              19436 non-null  float64\n",
      " 29  primary_cleaner.state.floatbank8_d_level            19438 non-null  float64\n",
      " 30  rougher.calculation.sulfate_to_au_concentrate       19437 non-null  float64\n",
      " 31  rougher.calculation.floatbank10_sulfate_to_au_feed  19437 non-null  float64\n",
      " 32  rougher.calculation.floatbank11_sulfate_to_au_feed  19437 non-null  float64\n",
      " 33  rougher.calculation.au_pb_ratio                     19439 non-null  float64\n",
      " 34  rougher.input.feed_ag                               19439 non-null  float64\n",
      " 35  rougher.input.feed_pb                               19339 non-null  float64\n",
      " 36  rougher.input.feed_rate                             19428 non-null  float64\n",
      " 37  rougher.input.feed_size                             19294 non-null  float64\n",
      " 38  rougher.input.feed_sol                              19340 non-null  float64\n",
      " 39  rougher.input.feed_au                               19439 non-null  float64\n",
      " 40  rougher.input.floatbank10_sulfate                   19405 non-null  float64\n",
      " 41  rougher.input.floatbank10_xanthate                  19431 non-null  float64\n",
      " 42  rougher.input.floatbank11_sulfate                   19395 non-null  float64\n",
      " 43  rougher.input.floatbank11_xanthate                  18986 non-null  float64\n",
      " 44  rougher.output.concentrate_ag                       19439 non-null  float64\n",
      " 45  rougher.output.concentrate_pb                       19439 non-null  float64\n",
      " 46  rougher.output.concentrate_sol                      19416 non-null  float64\n",
      " 47  rougher.output.concentrate_au                       19439 non-null  float64\n",
      " 48  rougher.output.recovery                             19439 non-null  float64\n",
      " 49  rougher.output.tail_ag                              19438 non-null  float64\n",
      " 50  rougher.output.tail_pb                              19439 non-null  float64\n",
      " 51  rougher.output.tail_sol                             19439 non-null  float64\n",
      " 52  rougher.output.tail_au                              19439 non-null  float64\n",
      " 53  rougher.state.floatbank10_a_air                     19438 non-null  float64\n",
      " 54  rougher.state.floatbank10_a_level                   19438 non-null  float64\n",
      " 55  rougher.state.floatbank10_b_air                     19438 non-null  float64\n",
      " 56  rougher.state.floatbank10_b_level                   19438 non-null  float64\n",
      " 57  rougher.state.floatbank10_c_air                     19438 non-null  float64\n",
      " 58  rougher.state.floatbank10_c_level                   19438 non-null  float64\n",
      " 59  rougher.state.floatbank10_d_air                     19439 non-null  float64\n",
      " 60  rougher.state.floatbank10_d_level                   19439 non-null  float64\n",
      " 61  rougher.state.floatbank10_e_air                     19003 non-null  float64\n",
      " 62  rougher.state.floatbank10_e_level                   19439 non-null  float64\n",
      " 63  rougher.state.floatbank10_f_air                     19439 non-null  float64\n",
      " 64  rougher.state.floatbank10_f_level                   19439 non-null  float64\n",
      " 65  secondary_cleaner.output.tail_ag                    19437 non-null  float64\n",
      " 66  secondary_cleaner.output.tail_pb                    19427 non-null  float64\n",
      " 67  secondary_cleaner.output.tail_sol                   17691 non-null  float64\n",
      " 68  secondary_cleaner.output.tail_au                    19439 non-null  float64\n",
      " 69  secondary_cleaner.state.floatbank2_a_air            19219 non-null  float64\n",
      " 70  secondary_cleaner.state.floatbank2_a_level          19438 non-null  float64\n",
      " 71  secondary_cleaner.state.floatbank2_b_air            19416 non-null  float64\n",
      " 72  secondary_cleaner.state.floatbank2_b_level          19438 non-null  float64\n",
      " 73  secondary_cleaner.state.floatbank3_a_air            19426 non-null  float64\n",
      " 74  secondary_cleaner.state.floatbank3_a_level          19438 non-null  float64\n",
      " 75  secondary_cleaner.state.floatbank3_b_air            19438 non-null  float64\n",
      " 76  secondary_cleaner.state.floatbank3_b_level          19438 non-null  float64\n",
      " 77  secondary_cleaner.state.floatbank4_a_air            19433 non-null  float64\n",
      " 78  secondary_cleaner.state.floatbank4_a_level          19438 non-null  float64\n",
      " 79  secondary_cleaner.state.floatbank4_b_air            19438 non-null  float64\n",
      " 80  secondary_cleaner.state.floatbank4_b_level          19438 non-null  float64\n",
      " 81  secondary_cleaner.state.floatbank5_a_air            19438 non-null  float64\n",
      " 82  secondary_cleaner.state.floatbank5_a_level          19438 non-null  float64\n",
      " 83  secondary_cleaner.state.floatbank5_b_air            19438 non-null  float64\n",
      " 84  secondary_cleaner.state.floatbank5_b_level          19438 non-null  float64\n",
      " 85  secondary_cleaner.state.floatbank6_a_air            19437 non-null  float64\n",
      " 86  secondary_cleaner.state.floatbank6_a_level          19438 non-null  float64\n",
      "dtypes: float64(86), object(1)\n",
      "memory usage: 12.9+ MB\n",
      "None\n"
     ]
    }
   ],
   "source": [
    "info_df(df)"
   ]
  },
  {
   "cell_type": "code",
   "execution_count": 7,
   "metadata": {},
   "outputs": [
    {
     "data": {
      "text/html": [
       "<div>\n",
       "<style scoped>\n",
       "    .dataframe tbody tr th:only-of-type {\n",
       "        vertical-align: middle;\n",
       "    }\n",
       "\n",
       "    .dataframe tbody tr th {\n",
       "        vertical-align: top;\n",
       "    }\n",
       "\n",
       "    .dataframe thead th {\n",
       "        text-align: right;\n",
       "    }\n",
       "</style>\n",
       "<table border=\"1\" class=\"dataframe\">\n",
       "  <thead>\n",
       "    <tr style=\"text-align: right;\">\n",
       "      <th></th>\n",
       "      <th>date</th>\n",
       "      <th>final.output.concentrate_ag</th>\n",
       "      <th>final.output.concentrate_pb</th>\n",
       "      <th>final.output.concentrate_sol</th>\n",
       "      <th>final.output.concentrate_au</th>\n",
       "      <th>final.output.recovery</th>\n",
       "      <th>final.output.tail_ag</th>\n",
       "      <th>final.output.tail_pb</th>\n",
       "      <th>final.output.tail_sol</th>\n",
       "      <th>final.output.tail_au</th>\n",
       "      <th>...</th>\n",
       "      <th>secondary_cleaner.state.floatbank4_a_air</th>\n",
       "      <th>secondary_cleaner.state.floatbank4_a_level</th>\n",
       "      <th>secondary_cleaner.state.floatbank4_b_air</th>\n",
       "      <th>secondary_cleaner.state.floatbank4_b_level</th>\n",
       "      <th>secondary_cleaner.state.floatbank5_a_air</th>\n",
       "      <th>secondary_cleaner.state.floatbank5_a_level</th>\n",
       "      <th>secondary_cleaner.state.floatbank5_b_air</th>\n",
       "      <th>secondary_cleaner.state.floatbank5_b_level</th>\n",
       "      <th>secondary_cleaner.state.floatbank6_a_air</th>\n",
       "      <th>secondary_cleaner.state.floatbank6_a_level</th>\n",
       "    </tr>\n",
       "  </thead>\n",
       "  <tbody>\n",
       "    <tr>\n",
       "      <th>0</th>\n",
       "      <td>2016-01-15 00:00:00</td>\n",
       "      <td>6.055403</td>\n",
       "      <td>9.889648</td>\n",
       "      <td>5.507324</td>\n",
       "      <td>42.192020</td>\n",
       "      <td>70.541216</td>\n",
       "      <td>10.411962</td>\n",
       "      <td>0.895447</td>\n",
       "      <td>16.904297</td>\n",
       "      <td>2.143149</td>\n",
       "      <td>...</td>\n",
       "      <td>14.016835</td>\n",
       "      <td>-502.488007</td>\n",
       "      <td>12.099931</td>\n",
       "      <td>-504.715942</td>\n",
       "      <td>9.925633</td>\n",
       "      <td>-498.310211</td>\n",
       "      <td>8.079666</td>\n",
       "      <td>-500.470978</td>\n",
       "      <td>14.151341</td>\n",
       "      <td>-605.841980</td>\n",
       "    </tr>\n",
       "    <tr>\n",
       "      <th>1</th>\n",
       "      <td>2016-01-15 01:00:00</td>\n",
       "      <td>6.029369</td>\n",
       "      <td>9.968944</td>\n",
       "      <td>5.257781</td>\n",
       "      <td>42.701629</td>\n",
       "      <td>69.266198</td>\n",
       "      <td>10.462676</td>\n",
       "      <td>0.927452</td>\n",
       "      <td>16.634514</td>\n",
       "      <td>2.224930</td>\n",
       "      <td>...</td>\n",
       "      <td>13.992281</td>\n",
       "      <td>-505.503262</td>\n",
       "      <td>11.950531</td>\n",
       "      <td>-501.331529</td>\n",
       "      <td>10.039245</td>\n",
       "      <td>-500.169983</td>\n",
       "      <td>7.984757</td>\n",
       "      <td>-500.582168</td>\n",
       "      <td>13.998353</td>\n",
       "      <td>-599.787184</td>\n",
       "    </tr>\n",
       "    <tr>\n",
       "      <th>2</th>\n",
       "      <td>2016-01-15 02:00:00</td>\n",
       "      <td>6.055926</td>\n",
       "      <td>10.213995</td>\n",
       "      <td>5.383759</td>\n",
       "      <td>42.657501</td>\n",
       "      <td>68.116445</td>\n",
       "      <td>10.507046</td>\n",
       "      <td>0.953716</td>\n",
       "      <td>16.208849</td>\n",
       "      <td>2.257889</td>\n",
       "      <td>...</td>\n",
       "      <td>14.015015</td>\n",
       "      <td>-502.520901</td>\n",
       "      <td>11.912783</td>\n",
       "      <td>-501.133383</td>\n",
       "      <td>10.070913</td>\n",
       "      <td>-500.129135</td>\n",
       "      <td>8.013877</td>\n",
       "      <td>-500.517572</td>\n",
       "      <td>14.028663</td>\n",
       "      <td>-601.427363</td>\n",
       "    </tr>\n",
       "    <tr>\n",
       "      <th>3</th>\n",
       "      <td>2016-01-15 03:00:00</td>\n",
       "      <td>6.047977</td>\n",
       "      <td>9.977019</td>\n",
       "      <td>4.858634</td>\n",
       "      <td>42.689819</td>\n",
       "      <td>68.347543</td>\n",
       "      <td>10.422762</td>\n",
       "      <td>0.883763</td>\n",
       "      <td>16.532835</td>\n",
       "      <td>2.146849</td>\n",
       "      <td>...</td>\n",
       "      <td>14.036510</td>\n",
       "      <td>-500.857308</td>\n",
       "      <td>11.999550</td>\n",
       "      <td>-501.193686</td>\n",
       "      <td>9.970366</td>\n",
       "      <td>-499.201640</td>\n",
       "      <td>7.977324</td>\n",
       "      <td>-500.255908</td>\n",
       "      <td>14.005551</td>\n",
       "      <td>-599.996129</td>\n",
       "    </tr>\n",
       "    <tr>\n",
       "      <th>4</th>\n",
       "      <td>2016-01-15 04:00:00</td>\n",
       "      <td>6.148599</td>\n",
       "      <td>10.142511</td>\n",
       "      <td>4.939416</td>\n",
       "      <td>42.774141</td>\n",
       "      <td>66.927016</td>\n",
       "      <td>10.360302</td>\n",
       "      <td>0.792826</td>\n",
       "      <td>16.525686</td>\n",
       "      <td>2.055292</td>\n",
       "      <td>...</td>\n",
       "      <td>14.027298</td>\n",
       "      <td>-499.838632</td>\n",
       "      <td>11.953070</td>\n",
       "      <td>-501.053894</td>\n",
       "      <td>9.925709</td>\n",
       "      <td>-501.686727</td>\n",
       "      <td>7.894242</td>\n",
       "      <td>-500.356035</td>\n",
       "      <td>13.996647</td>\n",
       "      <td>-601.496691</td>\n",
       "    </tr>\n",
       "  </tbody>\n",
       "</table>\n",
       "<p>5 rows × 87 columns</p>\n",
       "</div>"
      ],
      "text/plain": [
       "                  date  final.output.concentrate_ag  \\\n",
       "0  2016-01-15 00:00:00                     6.055403   \n",
       "1  2016-01-15 01:00:00                     6.029369   \n",
       "2  2016-01-15 02:00:00                     6.055926   \n",
       "3  2016-01-15 03:00:00                     6.047977   \n",
       "4  2016-01-15 04:00:00                     6.148599   \n",
       "\n",
       "   final.output.concentrate_pb  final.output.concentrate_sol  \\\n",
       "0                     9.889648                      5.507324   \n",
       "1                     9.968944                      5.257781   \n",
       "2                    10.213995                      5.383759   \n",
       "3                     9.977019                      4.858634   \n",
       "4                    10.142511                      4.939416   \n",
       "\n",
       "   final.output.concentrate_au  final.output.recovery  final.output.tail_ag  \\\n",
       "0                    42.192020              70.541216             10.411962   \n",
       "1                    42.701629              69.266198             10.462676   \n",
       "2                    42.657501              68.116445             10.507046   \n",
       "3                    42.689819              68.347543             10.422762   \n",
       "4                    42.774141              66.927016             10.360302   \n",
       "\n",
       "   final.output.tail_pb  final.output.tail_sol  final.output.tail_au  ...  \\\n",
       "0              0.895447              16.904297              2.143149  ...   \n",
       "1              0.927452              16.634514              2.224930  ...   \n",
       "2              0.953716              16.208849              2.257889  ...   \n",
       "3              0.883763              16.532835              2.146849  ...   \n",
       "4              0.792826              16.525686              2.055292  ...   \n",
       "\n",
       "   secondary_cleaner.state.floatbank4_a_air  \\\n",
       "0                                 14.016835   \n",
       "1                                 13.992281   \n",
       "2                                 14.015015   \n",
       "3                                 14.036510   \n",
       "4                                 14.027298   \n",
       "\n",
       "   secondary_cleaner.state.floatbank4_a_level  \\\n",
       "0                                 -502.488007   \n",
       "1                                 -505.503262   \n",
       "2                                 -502.520901   \n",
       "3                                 -500.857308   \n",
       "4                                 -499.838632   \n",
       "\n",
       "   secondary_cleaner.state.floatbank4_b_air  \\\n",
       "0                                 12.099931   \n",
       "1                                 11.950531   \n",
       "2                                 11.912783   \n",
       "3                                 11.999550   \n",
       "4                                 11.953070   \n",
       "\n",
       "   secondary_cleaner.state.floatbank4_b_level  \\\n",
       "0                                 -504.715942   \n",
       "1                                 -501.331529   \n",
       "2                                 -501.133383   \n",
       "3                                 -501.193686   \n",
       "4                                 -501.053894   \n",
       "\n",
       "   secondary_cleaner.state.floatbank5_a_air  \\\n",
       "0                                  9.925633   \n",
       "1                                 10.039245   \n",
       "2                                 10.070913   \n",
       "3                                  9.970366   \n",
       "4                                  9.925709   \n",
       "\n",
       "   secondary_cleaner.state.floatbank5_a_level  \\\n",
       "0                                 -498.310211   \n",
       "1                                 -500.169983   \n",
       "2                                 -500.129135   \n",
       "3                                 -499.201640   \n",
       "4                                 -501.686727   \n",
       "\n",
       "   secondary_cleaner.state.floatbank5_b_air  \\\n",
       "0                                  8.079666   \n",
       "1                                  7.984757   \n",
       "2                                  8.013877   \n",
       "3                                  7.977324   \n",
       "4                                  7.894242   \n",
       "\n",
       "   secondary_cleaner.state.floatbank5_b_level  \\\n",
       "0                                 -500.470978   \n",
       "1                                 -500.582168   \n",
       "2                                 -500.517572   \n",
       "3                                 -500.255908   \n",
       "4                                 -500.356035   \n",
       "\n",
       "   secondary_cleaner.state.floatbank6_a_air  \\\n",
       "0                                 14.151341   \n",
       "1                                 13.998353   \n",
       "2                                 14.028663   \n",
       "3                                 14.005551   \n",
       "4                                 13.996647   \n",
       "\n",
       "   secondary_cleaner.state.floatbank6_a_level  \n",
       "0                                 -605.841980  \n",
       "1                                 -599.787184  \n",
       "2                                 -601.427363  \n",
       "3                                 -599.996129  \n",
       "4                                 -601.496691  \n",
       "\n",
       "[5 rows x 87 columns]"
      ]
     },
     "metadata": {},
     "output_type": "display_data"
    },
    {
     "name": "stdout",
     "output_type": "stream",
     "text": [
      "Размер таблиы: 87 столбцов и 14149 строк\n",
      "Больше всего - 1605 пропусков в столбце secondary_cleaner.state.floatbank6_a_level\n",
      "Общее количество пропусков - 4100\n",
      "Количество явных дубликатов: 0\n",
      "\n",
      "<class 'pandas.core.frame.DataFrame'>\n",
      "RangeIndex: 14149 entries, 0 to 14148\n",
      "Data columns (total 87 columns):\n",
      " #   Column                                              Non-Null Count  Dtype  \n",
      "---  ------                                              --------------  -----  \n",
      " 0   date                                                14149 non-null  object \n",
      " 1   final.output.concentrate_ag                         14148 non-null  float64\n",
      " 2   final.output.concentrate_pb                         14148 non-null  float64\n",
      " 3   final.output.concentrate_sol                        13938 non-null  float64\n",
      " 4   final.output.concentrate_au                         14149 non-null  float64\n",
      " 5   final.output.recovery                               14149 non-null  float64\n",
      " 6   final.output.tail_ag                                14149 non-null  float64\n",
      " 7   final.output.tail_pb                                14049 non-null  float64\n",
      " 8   final.output.tail_sol                               14144 non-null  float64\n",
      " 9   final.output.tail_au                                14149 non-null  float64\n",
      " 10  primary_cleaner.input.sulfate                       14129 non-null  float64\n",
      " 11  primary_cleaner.input.depressant                    14117 non-null  float64\n",
      " 12  primary_cleaner.input.feed_size                     14149 non-null  float64\n",
      " 13  primary_cleaner.input.xanthate                      14049 non-null  float64\n",
      " 14  primary_cleaner.output.concentrate_ag               14149 non-null  float64\n",
      " 15  primary_cleaner.output.concentrate_pb               14063 non-null  float64\n",
      " 16  primary_cleaner.output.concentrate_sol              13863 non-null  float64\n",
      " 17  primary_cleaner.output.concentrate_au               14149 non-null  float64\n",
      " 18  primary_cleaner.output.tail_ag                      14148 non-null  float64\n",
      " 19  primary_cleaner.output.tail_pb                      14134 non-null  float64\n",
      " 20  primary_cleaner.output.tail_sol                     14103 non-null  float64\n",
      " 21  primary_cleaner.output.tail_au                      14149 non-null  float64\n",
      " 22  primary_cleaner.state.floatbank8_a_air              14145 non-null  float64\n",
      " 23  primary_cleaner.state.floatbank8_a_level            14148 non-null  float64\n",
      " 24  primary_cleaner.state.floatbank8_b_air              14145 non-null  float64\n",
      " 25  primary_cleaner.state.floatbank8_b_level            14148 non-null  float64\n",
      " 26  primary_cleaner.state.floatbank8_c_air              14147 non-null  float64\n",
      " 27  primary_cleaner.state.floatbank8_c_level            14148 non-null  float64\n",
      " 28  primary_cleaner.state.floatbank8_d_air              14146 non-null  float64\n",
      " 29  primary_cleaner.state.floatbank8_d_level            14148 non-null  float64\n",
      " 30  rougher.calculation.sulfate_to_au_concentrate       14148 non-null  float64\n",
      " 31  rougher.calculation.floatbank10_sulfate_to_au_feed  14148 non-null  float64\n",
      " 32  rougher.calculation.floatbank11_sulfate_to_au_feed  14148 non-null  float64\n",
      " 33  rougher.calculation.au_pb_ratio                     14149 non-null  float64\n",
      " 34  rougher.input.feed_ag                               14149 non-null  float64\n",
      " 35  rougher.input.feed_pb                               14049 non-null  float64\n",
      " 36  rougher.input.feed_rate                             14141 non-null  float64\n",
      " 37  rougher.input.feed_size                             14005 non-null  float64\n",
      " 38  rougher.input.feed_sol                              14071 non-null  float64\n",
      " 39  rougher.input.feed_au                               14149 non-null  float64\n",
      " 40  rougher.input.floatbank10_sulfate                   14120 non-null  float64\n",
      " 41  rougher.input.floatbank10_xanthate                  14141 non-null  float64\n",
      " 42  rougher.input.floatbank11_sulfate                   14113 non-null  float64\n",
      " 43  rougher.input.floatbank11_xanthate                  13721 non-null  float64\n",
      " 44  rougher.output.concentrate_ag                       14149 non-null  float64\n",
      " 45  rougher.output.concentrate_pb                       14149 non-null  float64\n",
      " 46  rougher.output.concentrate_sol                      14127 non-null  float64\n",
      " 47  rougher.output.concentrate_au                       14149 non-null  float64\n",
      " 48  rougher.output.recovery                             14149 non-null  float64\n",
      " 49  rougher.output.tail_ag                              14148 non-null  float64\n",
      " 50  rougher.output.tail_pb                              14149 non-null  float64\n",
      " 51  rougher.output.tail_sol                             14149 non-null  float64\n",
      " 52  rougher.output.tail_au                              14149 non-null  float64\n",
      " 53  rougher.state.floatbank10_a_air                     14148 non-null  float64\n",
      " 54  rougher.state.floatbank10_a_level                   14148 non-null  float64\n",
      " 55  rougher.state.floatbank10_b_air                     14148 non-null  float64\n",
      " 56  rougher.state.floatbank10_b_level                   14148 non-null  float64\n",
      " 57  rougher.state.floatbank10_c_air                     14148 non-null  float64\n",
      " 58  rougher.state.floatbank10_c_level                   14148 non-null  float64\n",
      " 59  rougher.state.floatbank10_d_air                     14149 non-null  float64\n",
      " 60  rougher.state.floatbank10_d_level                   14149 non-null  float64\n",
      " 61  rougher.state.floatbank10_e_air                     13713 non-null  float64\n",
      " 62  rougher.state.floatbank10_e_level                   14149 non-null  float64\n",
      " 63  rougher.state.floatbank10_f_air                     14149 non-null  float64\n",
      " 64  rougher.state.floatbank10_f_level                   14149 non-null  float64\n",
      " 65  secondary_cleaner.output.tail_ag                    14147 non-null  float64\n",
      " 66  secondary_cleaner.output.tail_pb                    14139 non-null  float64\n",
      " 67  secondary_cleaner.output.tail_sol                   12544 non-null  float64\n",
      " 68  secondary_cleaner.output.tail_au                    14149 non-null  float64\n",
      " 69  secondary_cleaner.state.floatbank2_a_air            13932 non-null  float64\n",
      " 70  secondary_cleaner.state.floatbank2_a_level          14148 non-null  float64\n",
      " 71  secondary_cleaner.state.floatbank2_b_air            14128 non-null  float64\n",
      " 72  secondary_cleaner.state.floatbank2_b_level          14148 non-null  float64\n",
      " 73  secondary_cleaner.state.floatbank3_a_air            14145 non-null  float64\n",
      " 74  secondary_cleaner.state.floatbank3_a_level          14148 non-null  float64\n",
      " 75  secondary_cleaner.state.floatbank3_b_air            14148 non-null  float64\n",
      " 76  secondary_cleaner.state.floatbank3_b_level          14148 non-null  float64\n",
      " 77  secondary_cleaner.state.floatbank4_a_air            14143 non-null  float64\n",
      " 78  secondary_cleaner.state.floatbank4_a_level          14148 non-null  float64\n",
      " 79  secondary_cleaner.state.floatbank4_b_air            14148 non-null  float64\n",
      " 80  secondary_cleaner.state.floatbank4_b_level          14148 non-null  float64\n",
      " 81  secondary_cleaner.state.floatbank5_a_air            14148 non-null  float64\n",
      " 82  secondary_cleaner.state.floatbank5_a_level          14148 non-null  float64\n",
      " 83  secondary_cleaner.state.floatbank5_b_air            14148 non-null  float64\n",
      " 84  secondary_cleaner.state.floatbank5_b_level          14148 non-null  float64\n",
      " 85  secondary_cleaner.state.floatbank6_a_air            14147 non-null  float64\n",
      " 86  secondary_cleaner.state.floatbank6_a_level          14148 non-null  float64\n",
      "dtypes: float64(86), object(1)\n",
      "memory usage: 9.4+ MB\n",
      "None\n"
     ]
    }
   ],
   "source": [
    "info_df(df_train)"
   ]
  },
  {
   "cell_type": "code",
   "execution_count": 8,
   "metadata": {
    "scrolled": true
   },
   "outputs": [
    {
     "data": {
      "text/html": [
       "<div>\n",
       "<style scoped>\n",
       "    .dataframe tbody tr th:only-of-type {\n",
       "        vertical-align: middle;\n",
       "    }\n",
       "\n",
       "    .dataframe tbody tr th {\n",
       "        vertical-align: top;\n",
       "    }\n",
       "\n",
       "    .dataframe thead th {\n",
       "        text-align: right;\n",
       "    }\n",
       "</style>\n",
       "<table border=\"1\" class=\"dataframe\">\n",
       "  <thead>\n",
       "    <tr style=\"text-align: right;\">\n",
       "      <th></th>\n",
       "      <th>date</th>\n",
       "      <th>primary_cleaner.input.sulfate</th>\n",
       "      <th>primary_cleaner.input.depressant</th>\n",
       "      <th>primary_cleaner.input.feed_size</th>\n",
       "      <th>primary_cleaner.input.xanthate</th>\n",
       "      <th>primary_cleaner.state.floatbank8_a_air</th>\n",
       "      <th>primary_cleaner.state.floatbank8_a_level</th>\n",
       "      <th>primary_cleaner.state.floatbank8_b_air</th>\n",
       "      <th>primary_cleaner.state.floatbank8_b_level</th>\n",
       "      <th>primary_cleaner.state.floatbank8_c_air</th>\n",
       "      <th>...</th>\n",
       "      <th>secondary_cleaner.state.floatbank4_a_air</th>\n",
       "      <th>secondary_cleaner.state.floatbank4_a_level</th>\n",
       "      <th>secondary_cleaner.state.floatbank4_b_air</th>\n",
       "      <th>secondary_cleaner.state.floatbank4_b_level</th>\n",
       "      <th>secondary_cleaner.state.floatbank5_a_air</th>\n",
       "      <th>secondary_cleaner.state.floatbank5_a_level</th>\n",
       "      <th>secondary_cleaner.state.floatbank5_b_air</th>\n",
       "      <th>secondary_cleaner.state.floatbank5_b_level</th>\n",
       "      <th>secondary_cleaner.state.floatbank6_a_air</th>\n",
       "      <th>secondary_cleaner.state.floatbank6_a_level</th>\n",
       "    </tr>\n",
       "  </thead>\n",
       "  <tbody>\n",
       "    <tr>\n",
       "      <th>0</th>\n",
       "      <td>2016-09-01 00:59:59</td>\n",
       "      <td>210.800909</td>\n",
       "      <td>14.993118</td>\n",
       "      <td>8.080000</td>\n",
       "      <td>1.005021</td>\n",
       "      <td>1398.981301</td>\n",
       "      <td>-500.225577</td>\n",
       "      <td>1399.144926</td>\n",
       "      <td>-499.919735</td>\n",
       "      <td>1400.102998</td>\n",
       "      <td>...</td>\n",
       "      <td>12.023554</td>\n",
       "      <td>-497.795834</td>\n",
       "      <td>8.016656</td>\n",
       "      <td>-501.289139</td>\n",
       "      <td>7.946562</td>\n",
       "      <td>-432.317850</td>\n",
       "      <td>4.872511</td>\n",
       "      <td>-500.037437</td>\n",
       "      <td>26.705889</td>\n",
       "      <td>-499.709414</td>\n",
       "    </tr>\n",
       "    <tr>\n",
       "      <th>1</th>\n",
       "      <td>2016-09-01 01:59:59</td>\n",
       "      <td>215.392455</td>\n",
       "      <td>14.987471</td>\n",
       "      <td>8.080000</td>\n",
       "      <td>0.990469</td>\n",
       "      <td>1398.777912</td>\n",
       "      <td>-500.057435</td>\n",
       "      <td>1398.055362</td>\n",
       "      <td>-499.778182</td>\n",
       "      <td>1396.151033</td>\n",
       "      <td>...</td>\n",
       "      <td>12.058140</td>\n",
       "      <td>-498.695773</td>\n",
       "      <td>8.130979</td>\n",
       "      <td>-499.634209</td>\n",
       "      <td>7.958270</td>\n",
       "      <td>-525.839648</td>\n",
       "      <td>4.878850</td>\n",
       "      <td>-500.162375</td>\n",
       "      <td>25.019940</td>\n",
       "      <td>-499.819438</td>\n",
       "    </tr>\n",
       "    <tr>\n",
       "      <th>2</th>\n",
       "      <td>2016-09-01 02:59:59</td>\n",
       "      <td>215.259946</td>\n",
       "      <td>12.884934</td>\n",
       "      <td>7.786667</td>\n",
       "      <td>0.996043</td>\n",
       "      <td>1398.493666</td>\n",
       "      <td>-500.868360</td>\n",
       "      <td>1398.860436</td>\n",
       "      <td>-499.764529</td>\n",
       "      <td>1398.075709</td>\n",
       "      <td>...</td>\n",
       "      <td>11.962366</td>\n",
       "      <td>-498.767484</td>\n",
       "      <td>8.096893</td>\n",
       "      <td>-500.827423</td>\n",
       "      <td>8.071056</td>\n",
       "      <td>-500.801673</td>\n",
       "      <td>4.905125</td>\n",
       "      <td>-499.828510</td>\n",
       "      <td>24.994862</td>\n",
       "      <td>-500.622559</td>\n",
       "    </tr>\n",
       "    <tr>\n",
       "      <th>3</th>\n",
       "      <td>2016-09-01 03:59:59</td>\n",
       "      <td>215.336236</td>\n",
       "      <td>12.006805</td>\n",
       "      <td>7.640000</td>\n",
       "      <td>0.863514</td>\n",
       "      <td>1399.618111</td>\n",
       "      <td>-498.863574</td>\n",
       "      <td>1397.440120</td>\n",
       "      <td>-499.211024</td>\n",
       "      <td>1400.129303</td>\n",
       "      <td>...</td>\n",
       "      <td>12.033091</td>\n",
       "      <td>-498.350935</td>\n",
       "      <td>8.074946</td>\n",
       "      <td>-499.474407</td>\n",
       "      <td>7.897085</td>\n",
       "      <td>-500.868509</td>\n",
       "      <td>4.931400</td>\n",
       "      <td>-499.963623</td>\n",
       "      <td>24.948919</td>\n",
       "      <td>-498.709987</td>\n",
       "    </tr>\n",
       "    <tr>\n",
       "      <th>4</th>\n",
       "      <td>2016-09-01 04:59:59</td>\n",
       "      <td>199.099327</td>\n",
       "      <td>10.682530</td>\n",
       "      <td>7.530000</td>\n",
       "      <td>0.805575</td>\n",
       "      <td>1401.268123</td>\n",
       "      <td>-500.808305</td>\n",
       "      <td>1398.128818</td>\n",
       "      <td>-499.504543</td>\n",
       "      <td>1402.172226</td>\n",
       "      <td>...</td>\n",
       "      <td>12.025367</td>\n",
       "      <td>-500.786497</td>\n",
       "      <td>8.054678</td>\n",
       "      <td>-500.397500</td>\n",
       "      <td>8.107890</td>\n",
       "      <td>-509.526725</td>\n",
       "      <td>4.957674</td>\n",
       "      <td>-500.360026</td>\n",
       "      <td>25.003331</td>\n",
       "      <td>-500.856333</td>\n",
       "    </tr>\n",
       "  </tbody>\n",
       "</table>\n",
       "<p>5 rows × 53 columns</p>\n",
       "</div>"
      ],
      "text/plain": [
       "                  date  primary_cleaner.input.sulfate  \\\n",
       "0  2016-09-01 00:59:59                     210.800909   \n",
       "1  2016-09-01 01:59:59                     215.392455   \n",
       "2  2016-09-01 02:59:59                     215.259946   \n",
       "3  2016-09-01 03:59:59                     215.336236   \n",
       "4  2016-09-01 04:59:59                     199.099327   \n",
       "\n",
       "   primary_cleaner.input.depressant  primary_cleaner.input.feed_size  \\\n",
       "0                         14.993118                         8.080000   \n",
       "1                         14.987471                         8.080000   \n",
       "2                         12.884934                         7.786667   \n",
       "3                         12.006805                         7.640000   \n",
       "4                         10.682530                         7.530000   \n",
       "\n",
       "   primary_cleaner.input.xanthate  primary_cleaner.state.floatbank8_a_air  \\\n",
       "0                        1.005021                             1398.981301   \n",
       "1                        0.990469                             1398.777912   \n",
       "2                        0.996043                             1398.493666   \n",
       "3                        0.863514                             1399.618111   \n",
       "4                        0.805575                             1401.268123   \n",
       "\n",
       "   primary_cleaner.state.floatbank8_a_level  \\\n",
       "0                               -500.225577   \n",
       "1                               -500.057435   \n",
       "2                               -500.868360   \n",
       "3                               -498.863574   \n",
       "4                               -500.808305   \n",
       "\n",
       "   primary_cleaner.state.floatbank8_b_air  \\\n",
       "0                             1399.144926   \n",
       "1                             1398.055362   \n",
       "2                             1398.860436   \n",
       "3                             1397.440120   \n",
       "4                             1398.128818   \n",
       "\n",
       "   primary_cleaner.state.floatbank8_b_level  \\\n",
       "0                               -499.919735   \n",
       "1                               -499.778182   \n",
       "2                               -499.764529   \n",
       "3                               -499.211024   \n",
       "4                               -499.504543   \n",
       "\n",
       "   primary_cleaner.state.floatbank8_c_air  ...  \\\n",
       "0                             1400.102998  ...   \n",
       "1                             1396.151033  ...   \n",
       "2                             1398.075709  ...   \n",
       "3                             1400.129303  ...   \n",
       "4                             1402.172226  ...   \n",
       "\n",
       "   secondary_cleaner.state.floatbank4_a_air  \\\n",
       "0                                 12.023554   \n",
       "1                                 12.058140   \n",
       "2                                 11.962366   \n",
       "3                                 12.033091   \n",
       "4                                 12.025367   \n",
       "\n",
       "   secondary_cleaner.state.floatbank4_a_level  \\\n",
       "0                                 -497.795834   \n",
       "1                                 -498.695773   \n",
       "2                                 -498.767484   \n",
       "3                                 -498.350935   \n",
       "4                                 -500.786497   \n",
       "\n",
       "   secondary_cleaner.state.floatbank4_b_air  \\\n",
       "0                                  8.016656   \n",
       "1                                  8.130979   \n",
       "2                                  8.096893   \n",
       "3                                  8.074946   \n",
       "4                                  8.054678   \n",
       "\n",
       "   secondary_cleaner.state.floatbank4_b_level  \\\n",
       "0                                 -501.289139   \n",
       "1                                 -499.634209   \n",
       "2                                 -500.827423   \n",
       "3                                 -499.474407   \n",
       "4                                 -500.397500   \n",
       "\n",
       "   secondary_cleaner.state.floatbank5_a_air  \\\n",
       "0                                  7.946562   \n",
       "1                                  7.958270   \n",
       "2                                  8.071056   \n",
       "3                                  7.897085   \n",
       "4                                  8.107890   \n",
       "\n",
       "   secondary_cleaner.state.floatbank5_a_level  \\\n",
       "0                                 -432.317850   \n",
       "1                                 -525.839648   \n",
       "2                                 -500.801673   \n",
       "3                                 -500.868509   \n",
       "4                                 -509.526725   \n",
       "\n",
       "   secondary_cleaner.state.floatbank5_b_air  \\\n",
       "0                                  4.872511   \n",
       "1                                  4.878850   \n",
       "2                                  4.905125   \n",
       "3                                  4.931400   \n",
       "4                                  4.957674   \n",
       "\n",
       "   secondary_cleaner.state.floatbank5_b_level  \\\n",
       "0                                 -500.037437   \n",
       "1                                 -500.162375   \n",
       "2                                 -499.828510   \n",
       "3                                 -499.963623   \n",
       "4                                 -500.360026   \n",
       "\n",
       "   secondary_cleaner.state.floatbank6_a_air  \\\n",
       "0                                 26.705889   \n",
       "1                                 25.019940   \n",
       "2                                 24.994862   \n",
       "3                                 24.948919   \n",
       "4                                 25.003331   \n",
       "\n",
       "   secondary_cleaner.state.floatbank6_a_level  \n",
       "0                                 -499.709414  \n",
       "1                                 -499.819438  \n",
       "2                                 -500.622559  \n",
       "3                                 -498.709987  \n",
       "4                                 -500.856333  \n",
       "\n",
       "[5 rows x 53 columns]"
      ]
     },
     "metadata": {},
     "output_type": "display_data"
    },
    {
     "name": "stdout",
     "output_type": "stream",
     "text": [
      "Размер таблиы: 53 столбцов и 5290 строк\n",
      "Больше всего - 25 пропусков в столбце secondary_cleaner.state.floatbank6_a_level\n",
      "Общее количество пропусков - 90\n",
      "Количество явных дубликатов: 0\n",
      "\n",
      "<class 'pandas.core.frame.DataFrame'>\n",
      "RangeIndex: 5290 entries, 0 to 5289\n",
      "Data columns (total 53 columns):\n",
      " #   Column                                      Non-Null Count  Dtype  \n",
      "---  ------                                      --------------  -----  \n",
      " 0   date                                        5290 non-null   object \n",
      " 1   primary_cleaner.input.sulfate               5286 non-null   float64\n",
      " 2   primary_cleaner.input.depressant            5285 non-null   float64\n",
      " 3   primary_cleaner.input.feed_size             5290 non-null   float64\n",
      " 4   primary_cleaner.input.xanthate              5286 non-null   float64\n",
      " 5   primary_cleaner.state.floatbank8_a_air      5290 non-null   float64\n",
      " 6   primary_cleaner.state.floatbank8_a_level    5290 non-null   float64\n",
      " 7   primary_cleaner.state.floatbank8_b_air      5290 non-null   float64\n",
      " 8   primary_cleaner.state.floatbank8_b_level    5290 non-null   float64\n",
      " 9   primary_cleaner.state.floatbank8_c_air      5290 non-null   float64\n",
      " 10  primary_cleaner.state.floatbank8_c_level    5290 non-null   float64\n",
      " 11  primary_cleaner.state.floatbank8_d_air      5290 non-null   float64\n",
      " 12  primary_cleaner.state.floatbank8_d_level    5290 non-null   float64\n",
      " 13  rougher.input.feed_ag                       5290 non-null   float64\n",
      " 14  rougher.input.feed_pb                       5290 non-null   float64\n",
      " 15  rougher.input.feed_rate                     5287 non-null   float64\n",
      " 16  rougher.input.feed_size                     5289 non-null   float64\n",
      " 17  rougher.input.feed_sol                      5269 non-null   float64\n",
      " 18  rougher.input.feed_au                       5290 non-null   float64\n",
      " 19  rougher.input.floatbank10_sulfate           5285 non-null   float64\n",
      " 20  rougher.input.floatbank10_xanthate          5290 non-null   float64\n",
      " 21  rougher.input.floatbank11_sulfate           5282 non-null   float64\n",
      " 22  rougher.input.floatbank11_xanthate          5265 non-null   float64\n",
      " 23  rougher.state.floatbank10_a_air             5290 non-null   float64\n",
      " 24  rougher.state.floatbank10_a_level           5290 non-null   float64\n",
      " 25  rougher.state.floatbank10_b_air             5290 non-null   float64\n",
      " 26  rougher.state.floatbank10_b_level           5290 non-null   float64\n",
      " 27  rougher.state.floatbank10_c_air             5290 non-null   float64\n",
      " 28  rougher.state.floatbank10_c_level           5290 non-null   float64\n",
      " 29  rougher.state.floatbank10_d_air             5290 non-null   float64\n",
      " 30  rougher.state.floatbank10_d_level           5290 non-null   float64\n",
      " 31  rougher.state.floatbank10_e_air             5290 non-null   float64\n",
      " 32  rougher.state.floatbank10_e_level           5290 non-null   float64\n",
      " 33  rougher.state.floatbank10_f_air             5290 non-null   float64\n",
      " 34  rougher.state.floatbank10_f_level           5290 non-null   float64\n",
      " 35  secondary_cleaner.state.floatbank2_a_air    5287 non-null   float64\n",
      " 36  secondary_cleaner.state.floatbank2_a_level  5290 non-null   float64\n",
      " 37  secondary_cleaner.state.floatbank2_b_air    5288 non-null   float64\n",
      " 38  secondary_cleaner.state.floatbank2_b_level  5290 non-null   float64\n",
      " 39  secondary_cleaner.state.floatbank3_a_air    5281 non-null   float64\n",
      " 40  secondary_cleaner.state.floatbank3_a_level  5290 non-null   float64\n",
      " 41  secondary_cleaner.state.floatbank3_b_air    5290 non-null   float64\n",
      " 42  secondary_cleaner.state.floatbank3_b_level  5290 non-null   float64\n",
      " 43  secondary_cleaner.state.floatbank4_a_air    5290 non-null   float64\n",
      " 44  secondary_cleaner.state.floatbank4_a_level  5290 non-null   float64\n",
      " 45  secondary_cleaner.state.floatbank4_b_air    5290 non-null   float64\n",
      " 46  secondary_cleaner.state.floatbank4_b_level  5290 non-null   float64\n",
      " 47  secondary_cleaner.state.floatbank5_a_air    5290 non-null   float64\n",
      " 48  secondary_cleaner.state.floatbank5_a_level  5290 non-null   float64\n",
      " 49  secondary_cleaner.state.floatbank5_b_air    5290 non-null   float64\n",
      " 50  secondary_cleaner.state.floatbank5_b_level  5290 non-null   float64\n",
      " 51  secondary_cleaner.state.floatbank6_a_air    5290 non-null   float64\n",
      " 52  secondary_cleaner.state.floatbank6_a_level  5290 non-null   float64\n",
      "dtypes: float64(52), object(1)\n",
      "memory usage: 2.1+ MB\n",
      "None\n"
     ]
    }
   ],
   "source": [
    "info_df(df_test)"
   ]
  },
  {
   "cell_type": "code",
   "execution_count": 9,
   "metadata": {
    "scrolled": false
   },
   "outputs": [
    {
     "name": "stdout",
     "output_type": "stream",
     "text": [
      "Средняя фактическая эффективность обогащения 82.70, средняя расчетная - 82.70\n",
      "Среднее абсолютное отклонение расчета эффективности обогащения 0.00\n"
     ]
    }
   ],
   "source": [
    "# Вычислим эффективность обогащения на обучающей выборке для признака rougher.output.recovery\n",
    "# Найдем MAE между полученными расчётами и значением признака\n",
    "\n",
    "df_train['rougher.output.recovery_test'] = (\n",
    "    (df_train['rougher.output.concentrate_au'] * (df_train['rougher.input.feed_au'] - df_train['rougher.output.tail_au'])) / \n",
    "    (df_train['rougher.input.feed_au'] * (df_train['rougher.output.concentrate_au'] - df_train['rougher.output.tail_au']))\n",
    ") * 100\n",
    "\n",
    "rougher_true = df_train['rougher.output.recovery']\n",
    "rougher_pred = df_train['rougher.output.recovery_test']\n",
    "mae_rougher = mean_absolute_error(rougher_true, rougher_pred)\n",
    "\n",
    "print(f'Средняя фактическая эффективность обогащения {rougher_true.mean():.2f}, средняя расчетная - {rougher_pred.mean():.2f}')\n",
    "print(f'Среднее абсолютное отклонение расчета эффективности обогащения {mae_rougher:.2f}')\n",
    "\n",
    "df_train.drop('rougher.output.recovery_test', axis=1, inplace=True)"
   ]
  },
  {
   "cell_type": "markdown",
   "metadata": {},
   "source": [
    "**Выводы**\n",
    "\n",
    "1. Анализ имеющихся данных показал, что тестовая выборка имеет значительно меньшее количество столбцов. При этом, отсутствуют не только оба целевых показателя, но и значимое количество параметров для работы модели. \n",
    "2. Дата-сеты содержат пропуски – до 22% общего количества данных.\n",
    "3. Нет точного понимания, какие параметры оказывают влияние на целевые показатели.\n",
    "4. Анализ корректности расчета одного из двух целевых показателей (`rougher.output.recovery`) подтвердил правильность расчета. Среднее абсолютное отклонение составляет ноль.\n",
    "\n",
    "В рамках подготовки данных для дальнейшей работы необходимо:\n",
    "- добавить из общего дата-сета в тестовую выборку целевые показаьели. В качестве индекса будет использован столбец `date`\n",
    "- Удалить из обучающей выборке столбцы, которых нет в тестовой\n",
    "- Удалить пропуски методом `ffill`\n",
    "- на обучающей выборке выявим корреляцию между параметрами. На основании уровня корреляции отберем прогнозные признаки.\n",
    "- разделим обучающую и тестовую выборки на прогнозные и целевые таблицы"
   ]
  },
  {
   "cell_type": "code",
   "execution_count": 10,
   "metadata": {},
   "outputs": [],
   "source": [
    "# Добавим в тестовую выборку целевые показатели\n",
    "df_pre_target = df.loc[:, ['date', 'final.output.recovery', 'rougher.output.recovery']]\n",
    "df_test_new = df_test.merge(df_pre_target, on='date', how='left')\n",
    "\n",
    "# Составим список столбцов тестовой выборки\n",
    "columns_test = list(df_test_new.columns)\n",
    "\n",
    "# Удалим из обучающей выборки столбцы, которых нет в тестовой\n",
    "df_train = df_train.loc[:, columns_test]"
   ]
  },
  {
   "cell_type": "code",
   "execution_count": 11,
   "metadata": {},
   "outputs": [
    {
     "data": {
      "text/html": [
       "<div>\n",
       "<style scoped>\n",
       "    .dataframe tbody tr th:only-of-type {\n",
       "        vertical-align: middle;\n",
       "    }\n",
       "\n",
       "    .dataframe tbody tr th {\n",
       "        vertical-align: top;\n",
       "    }\n",
       "\n",
       "    .dataframe thead th {\n",
       "        text-align: right;\n",
       "    }\n",
       "</style>\n",
       "<table border=\"1\" class=\"dataframe\">\n",
       "  <thead>\n",
       "    <tr style=\"text-align: right;\">\n",
       "      <th></th>\n",
       "      <th>date</th>\n",
       "      <th>primary_cleaner.input.sulfate</th>\n",
       "      <th>primary_cleaner.input.depressant</th>\n",
       "      <th>primary_cleaner.input.feed_size</th>\n",
       "      <th>primary_cleaner.input.xanthate</th>\n",
       "      <th>primary_cleaner.state.floatbank8_a_air</th>\n",
       "      <th>primary_cleaner.state.floatbank8_a_level</th>\n",
       "      <th>primary_cleaner.state.floatbank8_b_air</th>\n",
       "      <th>primary_cleaner.state.floatbank8_b_level</th>\n",
       "      <th>primary_cleaner.state.floatbank8_c_air</th>\n",
       "      <th>...</th>\n",
       "      <th>secondary_cleaner.state.floatbank4_b_air</th>\n",
       "      <th>secondary_cleaner.state.floatbank4_b_level</th>\n",
       "      <th>secondary_cleaner.state.floatbank5_a_air</th>\n",
       "      <th>secondary_cleaner.state.floatbank5_a_level</th>\n",
       "      <th>secondary_cleaner.state.floatbank5_b_air</th>\n",
       "      <th>secondary_cleaner.state.floatbank5_b_level</th>\n",
       "      <th>secondary_cleaner.state.floatbank6_a_air</th>\n",
       "      <th>secondary_cleaner.state.floatbank6_a_level</th>\n",
       "      <th>final.output.recovery</th>\n",
       "      <th>rougher.output.recovery</th>\n",
       "    </tr>\n",
       "  </thead>\n",
       "  <tbody>\n",
       "    <tr>\n",
       "      <th>0</th>\n",
       "      <td>2016-09-01 00:59:59</td>\n",
       "      <td>210.800909</td>\n",
       "      <td>14.993118</td>\n",
       "      <td>8.080000</td>\n",
       "      <td>1.005021</td>\n",
       "      <td>1398.981301</td>\n",
       "      <td>-500.225577</td>\n",
       "      <td>1399.144926</td>\n",
       "      <td>-499.919735</td>\n",
       "      <td>1400.102998</td>\n",
       "      <td>...</td>\n",
       "      <td>8.016656</td>\n",
       "      <td>-501.289139</td>\n",
       "      <td>7.946562</td>\n",
       "      <td>-432.317850</td>\n",
       "      <td>4.872511</td>\n",
       "      <td>-500.037437</td>\n",
       "      <td>26.705889</td>\n",
       "      <td>-499.709414</td>\n",
       "      <td>70.273583</td>\n",
       "      <td>89.993421</td>\n",
       "    </tr>\n",
       "    <tr>\n",
       "      <th>1</th>\n",
       "      <td>2016-09-01 01:59:59</td>\n",
       "      <td>215.392455</td>\n",
       "      <td>14.987471</td>\n",
       "      <td>8.080000</td>\n",
       "      <td>0.990469</td>\n",
       "      <td>1398.777912</td>\n",
       "      <td>-500.057435</td>\n",
       "      <td>1398.055362</td>\n",
       "      <td>-499.778182</td>\n",
       "      <td>1396.151033</td>\n",
       "      <td>...</td>\n",
       "      <td>8.130979</td>\n",
       "      <td>-499.634209</td>\n",
       "      <td>7.958270</td>\n",
       "      <td>-525.839648</td>\n",
       "      <td>4.878850</td>\n",
       "      <td>-500.162375</td>\n",
       "      <td>25.019940</td>\n",
       "      <td>-499.819438</td>\n",
       "      <td>68.910432</td>\n",
       "      <td>88.089657</td>\n",
       "    </tr>\n",
       "    <tr>\n",
       "      <th>2</th>\n",
       "      <td>2016-09-01 02:59:59</td>\n",
       "      <td>215.259946</td>\n",
       "      <td>12.884934</td>\n",
       "      <td>7.786667</td>\n",
       "      <td>0.996043</td>\n",
       "      <td>1398.493666</td>\n",
       "      <td>-500.868360</td>\n",
       "      <td>1398.860436</td>\n",
       "      <td>-499.764529</td>\n",
       "      <td>1398.075709</td>\n",
       "      <td>...</td>\n",
       "      <td>8.096893</td>\n",
       "      <td>-500.827423</td>\n",
       "      <td>8.071056</td>\n",
       "      <td>-500.801673</td>\n",
       "      <td>4.905125</td>\n",
       "      <td>-499.828510</td>\n",
       "      <td>24.994862</td>\n",
       "      <td>-500.622559</td>\n",
       "      <td>68.143213</td>\n",
       "      <td>88.412756</td>\n",
       "    </tr>\n",
       "    <tr>\n",
       "      <th>3</th>\n",
       "      <td>2016-09-01 03:59:59</td>\n",
       "      <td>215.336236</td>\n",
       "      <td>12.006805</td>\n",
       "      <td>7.640000</td>\n",
       "      <td>0.863514</td>\n",
       "      <td>1399.618111</td>\n",
       "      <td>-498.863574</td>\n",
       "      <td>1397.440120</td>\n",
       "      <td>-499.211024</td>\n",
       "      <td>1400.129303</td>\n",
       "      <td>...</td>\n",
       "      <td>8.074946</td>\n",
       "      <td>-499.474407</td>\n",
       "      <td>7.897085</td>\n",
       "      <td>-500.868509</td>\n",
       "      <td>4.931400</td>\n",
       "      <td>-499.963623</td>\n",
       "      <td>24.948919</td>\n",
       "      <td>-498.709987</td>\n",
       "      <td>67.776393</td>\n",
       "      <td>87.360133</td>\n",
       "    </tr>\n",
       "    <tr>\n",
       "      <th>4</th>\n",
       "      <td>2016-09-01 04:59:59</td>\n",
       "      <td>199.099327</td>\n",
       "      <td>10.682530</td>\n",
       "      <td>7.530000</td>\n",
       "      <td>0.805575</td>\n",
       "      <td>1401.268123</td>\n",
       "      <td>-500.808305</td>\n",
       "      <td>1398.128818</td>\n",
       "      <td>-499.504543</td>\n",
       "      <td>1402.172226</td>\n",
       "      <td>...</td>\n",
       "      <td>8.054678</td>\n",
       "      <td>-500.397500</td>\n",
       "      <td>8.107890</td>\n",
       "      <td>-509.526725</td>\n",
       "      <td>4.957674</td>\n",
       "      <td>-500.360026</td>\n",
       "      <td>25.003331</td>\n",
       "      <td>-500.856333</td>\n",
       "      <td>61.467078</td>\n",
       "      <td>83.236367</td>\n",
       "    </tr>\n",
       "  </tbody>\n",
       "</table>\n",
       "<p>5 rows × 55 columns</p>\n",
       "</div>"
      ],
      "text/plain": [
       "                  date  primary_cleaner.input.sulfate  \\\n",
       "0  2016-09-01 00:59:59                     210.800909   \n",
       "1  2016-09-01 01:59:59                     215.392455   \n",
       "2  2016-09-01 02:59:59                     215.259946   \n",
       "3  2016-09-01 03:59:59                     215.336236   \n",
       "4  2016-09-01 04:59:59                     199.099327   \n",
       "\n",
       "   primary_cleaner.input.depressant  primary_cleaner.input.feed_size  \\\n",
       "0                         14.993118                         8.080000   \n",
       "1                         14.987471                         8.080000   \n",
       "2                         12.884934                         7.786667   \n",
       "3                         12.006805                         7.640000   \n",
       "4                         10.682530                         7.530000   \n",
       "\n",
       "   primary_cleaner.input.xanthate  primary_cleaner.state.floatbank8_a_air  \\\n",
       "0                        1.005021                             1398.981301   \n",
       "1                        0.990469                             1398.777912   \n",
       "2                        0.996043                             1398.493666   \n",
       "3                        0.863514                             1399.618111   \n",
       "4                        0.805575                             1401.268123   \n",
       "\n",
       "   primary_cleaner.state.floatbank8_a_level  \\\n",
       "0                               -500.225577   \n",
       "1                               -500.057435   \n",
       "2                               -500.868360   \n",
       "3                               -498.863574   \n",
       "4                               -500.808305   \n",
       "\n",
       "   primary_cleaner.state.floatbank8_b_air  \\\n",
       "0                             1399.144926   \n",
       "1                             1398.055362   \n",
       "2                             1398.860436   \n",
       "3                             1397.440120   \n",
       "4                             1398.128818   \n",
       "\n",
       "   primary_cleaner.state.floatbank8_b_level  \\\n",
       "0                               -499.919735   \n",
       "1                               -499.778182   \n",
       "2                               -499.764529   \n",
       "3                               -499.211024   \n",
       "4                               -499.504543   \n",
       "\n",
       "   primary_cleaner.state.floatbank8_c_air  ...  \\\n",
       "0                             1400.102998  ...   \n",
       "1                             1396.151033  ...   \n",
       "2                             1398.075709  ...   \n",
       "3                             1400.129303  ...   \n",
       "4                             1402.172226  ...   \n",
       "\n",
       "   secondary_cleaner.state.floatbank4_b_air  \\\n",
       "0                                  8.016656   \n",
       "1                                  8.130979   \n",
       "2                                  8.096893   \n",
       "3                                  8.074946   \n",
       "4                                  8.054678   \n",
       "\n",
       "   secondary_cleaner.state.floatbank4_b_level  \\\n",
       "0                                 -501.289139   \n",
       "1                                 -499.634209   \n",
       "2                                 -500.827423   \n",
       "3                                 -499.474407   \n",
       "4                                 -500.397500   \n",
       "\n",
       "   secondary_cleaner.state.floatbank5_a_air  \\\n",
       "0                                  7.946562   \n",
       "1                                  7.958270   \n",
       "2                                  8.071056   \n",
       "3                                  7.897085   \n",
       "4                                  8.107890   \n",
       "\n",
       "   secondary_cleaner.state.floatbank5_a_level  \\\n",
       "0                                 -432.317850   \n",
       "1                                 -525.839648   \n",
       "2                                 -500.801673   \n",
       "3                                 -500.868509   \n",
       "4                                 -509.526725   \n",
       "\n",
       "   secondary_cleaner.state.floatbank5_b_air  \\\n",
       "0                                  4.872511   \n",
       "1                                  4.878850   \n",
       "2                                  4.905125   \n",
       "3                                  4.931400   \n",
       "4                                  4.957674   \n",
       "\n",
       "   secondary_cleaner.state.floatbank5_b_level  \\\n",
       "0                                 -500.037437   \n",
       "1                                 -500.162375   \n",
       "2                                 -499.828510   \n",
       "3                                 -499.963623   \n",
       "4                                 -500.360026   \n",
       "\n",
       "   secondary_cleaner.state.floatbank6_a_air  \\\n",
       "0                                 26.705889   \n",
       "1                                 25.019940   \n",
       "2                                 24.994862   \n",
       "3                                 24.948919   \n",
       "4                                 25.003331   \n",
       "\n",
       "   secondary_cleaner.state.floatbank6_a_level  final.output.recovery  \\\n",
       "0                                 -499.709414              70.273583   \n",
       "1                                 -499.819438              68.910432   \n",
       "2                                 -500.622559              68.143213   \n",
       "3                                 -498.709987              67.776393   \n",
       "4                                 -500.856333              61.467078   \n",
       "\n",
       "   rougher.output.recovery  \n",
       "0                89.993421  \n",
       "1                88.089657  \n",
       "2                88.412756  \n",
       "3                87.360133  \n",
       "4                83.236367  \n",
       "\n",
       "[5 rows x 55 columns]"
      ]
     },
     "metadata": {},
     "output_type": "display_data"
    },
    {
     "name": "stdout",
     "output_type": "stream",
     "text": [
      "Размер таблиы: 55 столбцов и 5290 строк\n",
      "Больше всего - 25 пропусков в столбце secondary_cleaner.state.floatbank6_a_level\n",
      "Общее количество пропусков - 90\n",
      "Количество явных дубликатов: 0\n",
      "\n",
      "<class 'pandas.core.frame.DataFrame'>\n",
      "Int64Index: 5290 entries, 0 to 5289\n",
      "Data columns (total 55 columns):\n",
      " #   Column                                      Non-Null Count  Dtype  \n",
      "---  ------                                      --------------  -----  \n",
      " 0   date                                        5290 non-null   object \n",
      " 1   primary_cleaner.input.sulfate               5286 non-null   float64\n",
      " 2   primary_cleaner.input.depressant            5285 non-null   float64\n",
      " 3   primary_cleaner.input.feed_size             5290 non-null   float64\n",
      " 4   primary_cleaner.input.xanthate              5286 non-null   float64\n",
      " 5   primary_cleaner.state.floatbank8_a_air      5290 non-null   float64\n",
      " 6   primary_cleaner.state.floatbank8_a_level    5290 non-null   float64\n",
      " 7   primary_cleaner.state.floatbank8_b_air      5290 non-null   float64\n",
      " 8   primary_cleaner.state.floatbank8_b_level    5290 non-null   float64\n",
      " 9   primary_cleaner.state.floatbank8_c_air      5290 non-null   float64\n",
      " 10  primary_cleaner.state.floatbank8_c_level    5290 non-null   float64\n",
      " 11  primary_cleaner.state.floatbank8_d_air      5290 non-null   float64\n",
      " 12  primary_cleaner.state.floatbank8_d_level    5290 non-null   float64\n",
      " 13  rougher.input.feed_ag                       5290 non-null   float64\n",
      " 14  rougher.input.feed_pb                       5290 non-null   float64\n",
      " 15  rougher.input.feed_rate                     5287 non-null   float64\n",
      " 16  rougher.input.feed_size                     5289 non-null   float64\n",
      " 17  rougher.input.feed_sol                      5269 non-null   float64\n",
      " 18  rougher.input.feed_au                       5290 non-null   float64\n",
      " 19  rougher.input.floatbank10_sulfate           5285 non-null   float64\n",
      " 20  rougher.input.floatbank10_xanthate          5290 non-null   float64\n",
      " 21  rougher.input.floatbank11_sulfate           5282 non-null   float64\n",
      " 22  rougher.input.floatbank11_xanthate          5265 non-null   float64\n",
      " 23  rougher.state.floatbank10_a_air             5290 non-null   float64\n",
      " 24  rougher.state.floatbank10_a_level           5290 non-null   float64\n",
      " 25  rougher.state.floatbank10_b_air             5290 non-null   float64\n",
      " 26  rougher.state.floatbank10_b_level           5290 non-null   float64\n",
      " 27  rougher.state.floatbank10_c_air             5290 non-null   float64\n",
      " 28  rougher.state.floatbank10_c_level           5290 non-null   float64\n",
      " 29  rougher.state.floatbank10_d_air             5290 non-null   float64\n",
      " 30  rougher.state.floatbank10_d_level           5290 non-null   float64\n",
      " 31  rougher.state.floatbank10_e_air             5290 non-null   float64\n",
      " 32  rougher.state.floatbank10_e_level           5290 non-null   float64\n",
      " 33  rougher.state.floatbank10_f_air             5290 non-null   float64\n",
      " 34  rougher.state.floatbank10_f_level           5290 non-null   float64\n",
      " 35  secondary_cleaner.state.floatbank2_a_air    5287 non-null   float64\n",
      " 36  secondary_cleaner.state.floatbank2_a_level  5290 non-null   float64\n",
      " 37  secondary_cleaner.state.floatbank2_b_air    5288 non-null   float64\n",
      " 38  secondary_cleaner.state.floatbank2_b_level  5290 non-null   float64\n",
      " 39  secondary_cleaner.state.floatbank3_a_air    5281 non-null   float64\n",
      " 40  secondary_cleaner.state.floatbank3_a_level  5290 non-null   float64\n",
      " 41  secondary_cleaner.state.floatbank3_b_air    5290 non-null   float64\n",
      " 42  secondary_cleaner.state.floatbank3_b_level  5290 non-null   float64\n",
      " 43  secondary_cleaner.state.floatbank4_a_air    5290 non-null   float64\n",
      " 44  secondary_cleaner.state.floatbank4_a_level  5290 non-null   float64\n",
      " 45  secondary_cleaner.state.floatbank4_b_air    5290 non-null   float64\n",
      " 46  secondary_cleaner.state.floatbank4_b_level  5290 non-null   float64\n",
      " 47  secondary_cleaner.state.floatbank5_a_air    5290 non-null   float64\n",
      " 48  secondary_cleaner.state.floatbank5_a_level  5290 non-null   float64\n",
      " 49  secondary_cleaner.state.floatbank5_b_air    5290 non-null   float64\n",
      " 50  secondary_cleaner.state.floatbank5_b_level  5290 non-null   float64\n",
      " 51  secondary_cleaner.state.floatbank6_a_air    5290 non-null   float64\n",
      " 52  secondary_cleaner.state.floatbank6_a_level  5290 non-null   float64\n",
      " 53  final.output.recovery                       5290 non-null   float64\n",
      " 54  rougher.output.recovery                     5290 non-null   float64\n",
      "dtypes: float64(54), object(1)\n",
      "memory usage: 2.3+ MB\n",
      "None\n"
     ]
    }
   ],
   "source": [
    "info_df(df_test_new)"
   ]
  },
  {
   "cell_type": "code",
   "execution_count": 12,
   "metadata": {},
   "outputs": [
    {
     "data": {
      "text/html": [
       "<div>\n",
       "<style scoped>\n",
       "    .dataframe tbody tr th:only-of-type {\n",
       "        vertical-align: middle;\n",
       "    }\n",
       "\n",
       "    .dataframe tbody tr th {\n",
       "        vertical-align: top;\n",
       "    }\n",
       "\n",
       "    .dataframe thead th {\n",
       "        text-align: right;\n",
       "    }\n",
       "</style>\n",
       "<table border=\"1\" class=\"dataframe\">\n",
       "  <thead>\n",
       "    <tr style=\"text-align: right;\">\n",
       "      <th></th>\n",
       "      <th>date</th>\n",
       "      <th>primary_cleaner.input.sulfate</th>\n",
       "      <th>primary_cleaner.input.depressant</th>\n",
       "      <th>primary_cleaner.input.feed_size</th>\n",
       "      <th>primary_cleaner.input.xanthate</th>\n",
       "      <th>primary_cleaner.state.floatbank8_a_air</th>\n",
       "      <th>primary_cleaner.state.floatbank8_a_level</th>\n",
       "      <th>primary_cleaner.state.floatbank8_b_air</th>\n",
       "      <th>primary_cleaner.state.floatbank8_b_level</th>\n",
       "      <th>primary_cleaner.state.floatbank8_c_air</th>\n",
       "      <th>...</th>\n",
       "      <th>secondary_cleaner.state.floatbank4_b_air</th>\n",
       "      <th>secondary_cleaner.state.floatbank4_b_level</th>\n",
       "      <th>secondary_cleaner.state.floatbank5_a_air</th>\n",
       "      <th>secondary_cleaner.state.floatbank5_a_level</th>\n",
       "      <th>secondary_cleaner.state.floatbank5_b_air</th>\n",
       "      <th>secondary_cleaner.state.floatbank5_b_level</th>\n",
       "      <th>secondary_cleaner.state.floatbank6_a_air</th>\n",
       "      <th>secondary_cleaner.state.floatbank6_a_level</th>\n",
       "      <th>final.output.recovery</th>\n",
       "      <th>rougher.output.recovery</th>\n",
       "    </tr>\n",
       "  </thead>\n",
       "  <tbody>\n",
       "    <tr>\n",
       "      <th>0</th>\n",
       "      <td>2016-01-15 00:00:00</td>\n",
       "      <td>127.092003</td>\n",
       "      <td>10.128295</td>\n",
       "      <td>7.25</td>\n",
       "      <td>0.988759</td>\n",
       "      <td>1549.775757</td>\n",
       "      <td>-498.912140</td>\n",
       "      <td>1551.434204</td>\n",
       "      <td>-516.403442</td>\n",
       "      <td>1549.873901</td>\n",
       "      <td>...</td>\n",
       "      <td>12.099931</td>\n",
       "      <td>-504.715942</td>\n",
       "      <td>9.925633</td>\n",
       "      <td>-498.310211</td>\n",
       "      <td>8.079666</td>\n",
       "      <td>-500.470978</td>\n",
       "      <td>14.151341</td>\n",
       "      <td>-605.841980</td>\n",
       "      <td>70.541216</td>\n",
       "      <td>87.107763</td>\n",
       "    </tr>\n",
       "    <tr>\n",
       "      <th>1</th>\n",
       "      <td>2016-01-15 01:00:00</td>\n",
       "      <td>125.629232</td>\n",
       "      <td>10.296251</td>\n",
       "      <td>7.25</td>\n",
       "      <td>1.002663</td>\n",
       "      <td>1576.166671</td>\n",
       "      <td>-500.904965</td>\n",
       "      <td>1575.950626</td>\n",
       "      <td>-499.865889</td>\n",
       "      <td>1575.994189</td>\n",
       "      <td>...</td>\n",
       "      <td>11.950531</td>\n",
       "      <td>-501.331529</td>\n",
       "      <td>10.039245</td>\n",
       "      <td>-500.169983</td>\n",
       "      <td>7.984757</td>\n",
       "      <td>-500.582168</td>\n",
       "      <td>13.998353</td>\n",
       "      <td>-599.787184</td>\n",
       "      <td>69.266198</td>\n",
       "      <td>86.843261</td>\n",
       "    </tr>\n",
       "    <tr>\n",
       "      <th>2</th>\n",
       "      <td>2016-01-15 02:00:00</td>\n",
       "      <td>123.819808</td>\n",
       "      <td>11.316280</td>\n",
       "      <td>7.25</td>\n",
       "      <td>0.991265</td>\n",
       "      <td>1601.556163</td>\n",
       "      <td>-499.997791</td>\n",
       "      <td>1600.386685</td>\n",
       "      <td>-500.607762</td>\n",
       "      <td>1602.003542</td>\n",
       "      <td>...</td>\n",
       "      <td>11.912783</td>\n",
       "      <td>-501.133383</td>\n",
       "      <td>10.070913</td>\n",
       "      <td>-500.129135</td>\n",
       "      <td>8.013877</td>\n",
       "      <td>-500.517572</td>\n",
       "      <td>14.028663</td>\n",
       "      <td>-601.427363</td>\n",
       "      <td>68.116445</td>\n",
       "      <td>86.842308</td>\n",
       "    </tr>\n",
       "    <tr>\n",
       "      <th>3</th>\n",
       "      <td>2016-01-15 03:00:00</td>\n",
       "      <td>122.270188</td>\n",
       "      <td>11.322140</td>\n",
       "      <td>7.25</td>\n",
       "      <td>0.996739</td>\n",
       "      <td>1599.968720</td>\n",
       "      <td>-500.951778</td>\n",
       "      <td>1600.659236</td>\n",
       "      <td>-499.677094</td>\n",
       "      <td>1600.304144</td>\n",
       "      <td>...</td>\n",
       "      <td>11.999550</td>\n",
       "      <td>-501.193686</td>\n",
       "      <td>9.970366</td>\n",
       "      <td>-499.201640</td>\n",
       "      <td>7.977324</td>\n",
       "      <td>-500.255908</td>\n",
       "      <td>14.005551</td>\n",
       "      <td>-599.996129</td>\n",
       "      <td>68.347543</td>\n",
       "      <td>87.226430</td>\n",
       "    </tr>\n",
       "    <tr>\n",
       "      <th>4</th>\n",
       "      <td>2016-01-15 04:00:00</td>\n",
       "      <td>117.988169</td>\n",
       "      <td>11.913613</td>\n",
       "      <td>7.25</td>\n",
       "      <td>1.009869</td>\n",
       "      <td>1601.339707</td>\n",
       "      <td>-498.975456</td>\n",
       "      <td>1601.437854</td>\n",
       "      <td>-500.323246</td>\n",
       "      <td>1599.581894</td>\n",
       "      <td>...</td>\n",
       "      <td>11.953070</td>\n",
       "      <td>-501.053894</td>\n",
       "      <td>9.925709</td>\n",
       "      <td>-501.686727</td>\n",
       "      <td>7.894242</td>\n",
       "      <td>-500.356035</td>\n",
       "      <td>13.996647</td>\n",
       "      <td>-601.496691</td>\n",
       "      <td>66.927016</td>\n",
       "      <td>86.688794</td>\n",
       "    </tr>\n",
       "  </tbody>\n",
       "</table>\n",
       "<p>5 rows × 55 columns</p>\n",
       "</div>"
      ],
      "text/plain": [
       "                  date  primary_cleaner.input.sulfate  \\\n",
       "0  2016-01-15 00:00:00                     127.092003   \n",
       "1  2016-01-15 01:00:00                     125.629232   \n",
       "2  2016-01-15 02:00:00                     123.819808   \n",
       "3  2016-01-15 03:00:00                     122.270188   \n",
       "4  2016-01-15 04:00:00                     117.988169   \n",
       "\n",
       "   primary_cleaner.input.depressant  primary_cleaner.input.feed_size  \\\n",
       "0                         10.128295                             7.25   \n",
       "1                         10.296251                             7.25   \n",
       "2                         11.316280                             7.25   \n",
       "3                         11.322140                             7.25   \n",
       "4                         11.913613                             7.25   \n",
       "\n",
       "   primary_cleaner.input.xanthate  primary_cleaner.state.floatbank8_a_air  \\\n",
       "0                        0.988759                             1549.775757   \n",
       "1                        1.002663                             1576.166671   \n",
       "2                        0.991265                             1601.556163   \n",
       "3                        0.996739                             1599.968720   \n",
       "4                        1.009869                             1601.339707   \n",
       "\n",
       "   primary_cleaner.state.floatbank8_a_level  \\\n",
       "0                               -498.912140   \n",
       "1                               -500.904965   \n",
       "2                               -499.997791   \n",
       "3                               -500.951778   \n",
       "4                               -498.975456   \n",
       "\n",
       "   primary_cleaner.state.floatbank8_b_air  \\\n",
       "0                             1551.434204   \n",
       "1                             1575.950626   \n",
       "2                             1600.386685   \n",
       "3                             1600.659236   \n",
       "4                             1601.437854   \n",
       "\n",
       "   primary_cleaner.state.floatbank8_b_level  \\\n",
       "0                               -516.403442   \n",
       "1                               -499.865889   \n",
       "2                               -500.607762   \n",
       "3                               -499.677094   \n",
       "4                               -500.323246   \n",
       "\n",
       "   primary_cleaner.state.floatbank8_c_air  ...  \\\n",
       "0                             1549.873901  ...   \n",
       "1                             1575.994189  ...   \n",
       "2                             1602.003542  ...   \n",
       "3                             1600.304144  ...   \n",
       "4                             1599.581894  ...   \n",
       "\n",
       "   secondary_cleaner.state.floatbank4_b_air  \\\n",
       "0                                 12.099931   \n",
       "1                                 11.950531   \n",
       "2                                 11.912783   \n",
       "3                                 11.999550   \n",
       "4                                 11.953070   \n",
       "\n",
       "   secondary_cleaner.state.floatbank4_b_level  \\\n",
       "0                                 -504.715942   \n",
       "1                                 -501.331529   \n",
       "2                                 -501.133383   \n",
       "3                                 -501.193686   \n",
       "4                                 -501.053894   \n",
       "\n",
       "   secondary_cleaner.state.floatbank5_a_air  \\\n",
       "0                                  9.925633   \n",
       "1                                 10.039245   \n",
       "2                                 10.070913   \n",
       "3                                  9.970366   \n",
       "4                                  9.925709   \n",
       "\n",
       "   secondary_cleaner.state.floatbank5_a_level  \\\n",
       "0                                 -498.310211   \n",
       "1                                 -500.169983   \n",
       "2                                 -500.129135   \n",
       "3                                 -499.201640   \n",
       "4                                 -501.686727   \n",
       "\n",
       "   secondary_cleaner.state.floatbank5_b_air  \\\n",
       "0                                  8.079666   \n",
       "1                                  7.984757   \n",
       "2                                  8.013877   \n",
       "3                                  7.977324   \n",
       "4                                  7.894242   \n",
       "\n",
       "   secondary_cleaner.state.floatbank5_b_level  \\\n",
       "0                                 -500.470978   \n",
       "1                                 -500.582168   \n",
       "2                                 -500.517572   \n",
       "3                                 -500.255908   \n",
       "4                                 -500.356035   \n",
       "\n",
       "   secondary_cleaner.state.floatbank6_a_air  \\\n",
       "0                                 14.151341   \n",
       "1                                 13.998353   \n",
       "2                                 14.028663   \n",
       "3                                 14.005551   \n",
       "4                                 13.996647   \n",
       "\n",
       "   secondary_cleaner.state.floatbank6_a_level  final.output.recovery  \\\n",
       "0                                 -605.841980              70.541216   \n",
       "1                                 -599.787184              69.266198   \n",
       "2                                 -601.427363              68.116445   \n",
       "3                                 -599.996129              68.347543   \n",
       "4                                 -601.496691              66.927016   \n",
       "\n",
       "   rougher.output.recovery  \n",
       "0                87.107763  \n",
       "1                86.843261  \n",
       "2                86.842308  \n",
       "3                87.226430  \n",
       "4                86.688794  \n",
       "\n",
       "[5 rows x 55 columns]"
      ]
     },
     "metadata": {},
     "output_type": "display_data"
    },
    {
     "name": "stdout",
     "output_type": "stream",
     "text": [
      "Размер таблиы: 55 столбцов и 14149 строк\n",
      "Больше всего - 436 пропусков в столбце secondary_cleaner.state.floatbank6_a_level\n",
      "Общее количество пропусков - 1705\n",
      "Количество явных дубликатов: 0\n",
      "\n",
      "<class 'pandas.core.frame.DataFrame'>\n",
      "RangeIndex: 14149 entries, 0 to 14148\n",
      "Data columns (total 55 columns):\n",
      " #   Column                                      Non-Null Count  Dtype  \n",
      "---  ------                                      --------------  -----  \n",
      " 0   date                                        14149 non-null  object \n",
      " 1   primary_cleaner.input.sulfate               14129 non-null  float64\n",
      " 2   primary_cleaner.input.depressant            14117 non-null  float64\n",
      " 3   primary_cleaner.input.feed_size             14149 non-null  float64\n",
      " 4   primary_cleaner.input.xanthate              14049 non-null  float64\n",
      " 5   primary_cleaner.state.floatbank8_a_air      14145 non-null  float64\n",
      " 6   primary_cleaner.state.floatbank8_a_level    14148 non-null  float64\n",
      " 7   primary_cleaner.state.floatbank8_b_air      14145 non-null  float64\n",
      " 8   primary_cleaner.state.floatbank8_b_level    14148 non-null  float64\n",
      " 9   primary_cleaner.state.floatbank8_c_air      14147 non-null  float64\n",
      " 10  primary_cleaner.state.floatbank8_c_level    14148 non-null  float64\n",
      " 11  primary_cleaner.state.floatbank8_d_air      14146 non-null  float64\n",
      " 12  primary_cleaner.state.floatbank8_d_level    14148 non-null  float64\n",
      " 13  rougher.input.feed_ag                       14149 non-null  float64\n",
      " 14  rougher.input.feed_pb                       14049 non-null  float64\n",
      " 15  rougher.input.feed_rate                     14141 non-null  float64\n",
      " 16  rougher.input.feed_size                     14005 non-null  float64\n",
      " 17  rougher.input.feed_sol                      14071 non-null  float64\n",
      " 18  rougher.input.feed_au                       14149 non-null  float64\n",
      " 19  rougher.input.floatbank10_sulfate           14120 non-null  float64\n",
      " 20  rougher.input.floatbank10_xanthate          14141 non-null  float64\n",
      " 21  rougher.input.floatbank11_sulfate           14113 non-null  float64\n",
      " 22  rougher.input.floatbank11_xanthate          13721 non-null  float64\n",
      " 23  rougher.state.floatbank10_a_air             14148 non-null  float64\n",
      " 24  rougher.state.floatbank10_a_level           14148 non-null  float64\n",
      " 25  rougher.state.floatbank10_b_air             14148 non-null  float64\n",
      " 26  rougher.state.floatbank10_b_level           14148 non-null  float64\n",
      " 27  rougher.state.floatbank10_c_air             14148 non-null  float64\n",
      " 28  rougher.state.floatbank10_c_level           14148 non-null  float64\n",
      " 29  rougher.state.floatbank10_d_air             14149 non-null  float64\n",
      " 30  rougher.state.floatbank10_d_level           14149 non-null  float64\n",
      " 31  rougher.state.floatbank10_e_air             13713 non-null  float64\n",
      " 32  rougher.state.floatbank10_e_level           14149 non-null  float64\n",
      " 33  rougher.state.floatbank10_f_air             14149 non-null  float64\n",
      " 34  rougher.state.floatbank10_f_level           14149 non-null  float64\n",
      " 35  secondary_cleaner.state.floatbank2_a_air    13932 non-null  float64\n",
      " 36  secondary_cleaner.state.floatbank2_a_level  14148 non-null  float64\n",
      " 37  secondary_cleaner.state.floatbank2_b_air    14128 non-null  float64\n",
      " 38  secondary_cleaner.state.floatbank2_b_level  14148 non-null  float64\n",
      " 39  secondary_cleaner.state.floatbank3_a_air    14145 non-null  float64\n",
      " 40  secondary_cleaner.state.floatbank3_a_level  14148 non-null  float64\n",
      " 41  secondary_cleaner.state.floatbank3_b_air    14148 non-null  float64\n",
      " 42  secondary_cleaner.state.floatbank3_b_level  14148 non-null  float64\n",
      " 43  secondary_cleaner.state.floatbank4_a_air    14143 non-null  float64\n",
      " 44  secondary_cleaner.state.floatbank4_a_level  14148 non-null  float64\n",
      " 45  secondary_cleaner.state.floatbank4_b_air    14148 non-null  float64\n",
      " 46  secondary_cleaner.state.floatbank4_b_level  14148 non-null  float64\n",
      " 47  secondary_cleaner.state.floatbank5_a_air    14148 non-null  float64\n",
      " 48  secondary_cleaner.state.floatbank5_a_level  14148 non-null  float64\n",
      " 49  secondary_cleaner.state.floatbank5_b_air    14148 non-null  float64\n",
      " 50  secondary_cleaner.state.floatbank5_b_level  14148 non-null  float64\n",
      " 51  secondary_cleaner.state.floatbank6_a_air    14147 non-null  float64\n",
      " 52  secondary_cleaner.state.floatbank6_a_level  14148 non-null  float64\n",
      " 53  final.output.recovery                       14149 non-null  float64\n",
      " 54  rougher.output.recovery                     14149 non-null  float64\n",
      "dtypes: float64(54), object(1)\n",
      "memory usage: 5.9+ MB\n",
      "None\n"
     ]
    }
   ],
   "source": [
    "info_df(df_train)"
   ]
  },
  {
   "cell_type": "code",
   "execution_count": 13,
   "metadata": {},
   "outputs": [
    {
     "name": "stdout",
     "output_type": "stream",
     "text": [
      "Количество пропусков в полном датасете 0\n",
      "Количество пропусков в обучающей выборке 0\n",
      "Количество пропусков в тестовой выборка 0\n",
      "Количество пропусков в полной тестовой выборка 0\n"
     ]
    }
   ],
   "source": [
    "# Заменим пропуски методом ffill\n",
    "df = df.fillna(method=\"ffill\")\n",
    "print(f'Количество пропусков в полном датасете {df.isna().sum().sum()}')\n",
    "\n",
    "df_train = df_train.fillna(method=\"ffill\")\n",
    "print(f'Количество пропусков в обучающей выборке {df_train.isna().sum().sum()}')\n",
    "\n",
    "df_test = df_test.fillna(method=\"ffill\")\n",
    "print(f'Количество пропусков в тестовой выборка {df_test.isna().sum().sum()}')\n",
    "\n",
    "df_test_new = df_test_new.fillna(method=\"ffill\")\n",
    "print(f'Количество пропусков в полной тестовой выборка {df_test_new.isna().sum().sum()}')"
   ]
  },
  {
   "cell_type": "code",
   "execution_count": 14,
   "metadata": {
    "scrolled": true
   },
   "outputs": [
    {
     "name": "stdout",
     "output_type": "stream",
     "text": [
      "Количество параметров:  19\n"
     ]
    },
    {
     "data": {
      "text/html": [
       "<div>\n",
       "<style scoped>\n",
       "    .dataframe tbody tr th:only-of-type {\n",
       "        vertical-align: middle;\n",
       "    }\n",
       "\n",
       "    .dataframe tbody tr th {\n",
       "        vertical-align: top;\n",
       "    }\n",
       "\n",
       "    .dataframe thead th {\n",
       "        text-align: right;\n",
       "    }\n",
       "</style>\n",
       "<table border=\"1\" class=\"dataframe\">\n",
       "  <thead>\n",
       "    <tr style=\"text-align: right;\">\n",
       "      <th></th>\n",
       "      <th>final.output.recovery</th>\n",
       "      <th>rougher.output.recovery</th>\n",
       "    </tr>\n",
       "  </thead>\n",
       "  <tbody>\n",
       "    <tr>\n",
       "      <th>primary_cleaner.input.sulfate</th>\n",
       "      <td>0.384798</td>\n",
       "      <td>0.272823</td>\n",
       "    </tr>\n",
       "    <tr>\n",
       "      <th>primary_cleaner.input.depressant</th>\n",
       "      <td>0.155639</td>\n",
       "      <td>0.041395</td>\n",
       "    </tr>\n",
       "    <tr>\n",
       "      <th>primary_cleaner.input.xanthate</th>\n",
       "      <td>0.214886</td>\n",
       "      <td>0.106701</td>\n",
       "    </tr>\n",
       "    <tr>\n",
       "      <th>rougher.input.feed_ag</th>\n",
       "      <td>0.310574</td>\n",
       "      <td>0.176421</td>\n",
       "    </tr>\n",
       "    <tr>\n",
       "      <th>rougher.input.feed_pb</th>\n",
       "      <td>0.205706</td>\n",
       "      <td>0.173314</td>\n",
       "    </tr>\n",
       "    <tr>\n",
       "      <th>rougher.input.feed_rate</th>\n",
       "      <td>0.169602</td>\n",
       "      <td>0.086685</td>\n",
       "    </tr>\n",
       "    <tr>\n",
       "      <th>rougher.input.feed_sol</th>\n",
       "      <td>0.261590</td>\n",
       "      <td>0.184105</td>\n",
       "    </tr>\n",
       "    <tr>\n",
       "      <th>rougher.input.feed_au</th>\n",
       "      <td>0.308561</td>\n",
       "      <td>0.156173</td>\n",
       "    </tr>\n",
       "    <tr>\n",
       "      <th>rougher.input.floatbank10_xanthate</th>\n",
       "      <td>0.328838</td>\n",
       "      <td>0.238468</td>\n",
       "    </tr>\n",
       "    <tr>\n",
       "      <th>rougher.input.floatbank11_xanthate</th>\n",
       "      <td>0.305498</td>\n",
       "      <td>0.216100</td>\n",
       "    </tr>\n",
       "    <tr>\n",
       "      <th>rougher.state.floatbank10_a_air</th>\n",
       "      <td>0.228755</td>\n",
       "      <td>0.173309</td>\n",
       "    </tr>\n",
       "    <tr>\n",
       "      <th>rougher.state.floatbank10_c_air</th>\n",
       "      <td>-0.183531</td>\n",
       "      <td>-0.100282</td>\n",
       "    </tr>\n",
       "    <tr>\n",
       "      <th>rougher.state.floatbank10_d_air</th>\n",
       "      <td>-0.179362</td>\n",
       "      <td>-0.088645</td>\n",
       "    </tr>\n",
       "    <tr>\n",
       "      <th>secondary_cleaner.state.floatbank2_a_air</th>\n",
       "      <td>0.147045</td>\n",
       "      <td>0.157805</td>\n",
       "    </tr>\n",
       "    <tr>\n",
       "      <th>secondary_cleaner.state.floatbank3_a_air</th>\n",
       "      <td>0.187641</td>\n",
       "      <td>0.190365</td>\n",
       "    </tr>\n",
       "    <tr>\n",
       "      <th>secondary_cleaner.state.floatbank4_a_air</th>\n",
       "      <td>0.209659</td>\n",
       "      <td>0.250773</td>\n",
       "    </tr>\n",
       "    <tr>\n",
       "      <th>secondary_cleaner.state.floatbank4_b_air</th>\n",
       "      <td>0.170796</td>\n",
       "      <td>0.240501</td>\n",
       "    </tr>\n",
       "    <tr>\n",
       "      <th>secondary_cleaner.state.floatbank5_a_air</th>\n",
       "      <td>0.098198</td>\n",
       "      <td>0.189475</td>\n",
       "    </tr>\n",
       "    <tr>\n",
       "      <th>secondary_cleaner.state.floatbank5_b_air</th>\n",
       "      <td>0.068281</td>\n",
       "      <td>0.171910</td>\n",
       "    </tr>\n",
       "  </tbody>\n",
       "</table>\n",
       "</div>"
      ],
      "text/plain": [
       "                                          final.output.recovery  \\\n",
       "primary_cleaner.input.sulfate                          0.384798   \n",
       "primary_cleaner.input.depressant                       0.155639   \n",
       "primary_cleaner.input.xanthate                         0.214886   \n",
       "rougher.input.feed_ag                                  0.310574   \n",
       "rougher.input.feed_pb                                  0.205706   \n",
       "rougher.input.feed_rate                                0.169602   \n",
       "rougher.input.feed_sol                                 0.261590   \n",
       "rougher.input.feed_au                                  0.308561   \n",
       "rougher.input.floatbank10_xanthate                     0.328838   \n",
       "rougher.input.floatbank11_xanthate                     0.305498   \n",
       "rougher.state.floatbank10_a_air                        0.228755   \n",
       "rougher.state.floatbank10_c_air                       -0.183531   \n",
       "rougher.state.floatbank10_d_air                       -0.179362   \n",
       "secondary_cleaner.state.floatbank2_a_air               0.147045   \n",
       "secondary_cleaner.state.floatbank3_a_air               0.187641   \n",
       "secondary_cleaner.state.floatbank4_a_air               0.209659   \n",
       "secondary_cleaner.state.floatbank4_b_air               0.170796   \n",
       "secondary_cleaner.state.floatbank5_a_air               0.098198   \n",
       "secondary_cleaner.state.floatbank5_b_air               0.068281   \n",
       "\n",
       "                                          rougher.output.recovery  \n",
       "primary_cleaner.input.sulfate                            0.272823  \n",
       "primary_cleaner.input.depressant                         0.041395  \n",
       "primary_cleaner.input.xanthate                           0.106701  \n",
       "rougher.input.feed_ag                                    0.176421  \n",
       "rougher.input.feed_pb                                    0.173314  \n",
       "rougher.input.feed_rate                                  0.086685  \n",
       "rougher.input.feed_sol                                   0.184105  \n",
       "rougher.input.feed_au                                    0.156173  \n",
       "rougher.input.floatbank10_xanthate                       0.238468  \n",
       "rougher.input.floatbank11_xanthate                       0.216100  \n",
       "rougher.state.floatbank10_a_air                          0.173309  \n",
       "rougher.state.floatbank10_c_air                         -0.100282  \n",
       "rougher.state.floatbank10_d_air                         -0.088645  \n",
       "secondary_cleaner.state.floatbank2_a_air                 0.157805  \n",
       "secondary_cleaner.state.floatbank3_a_air                 0.190365  \n",
       "secondary_cleaner.state.floatbank4_a_air                 0.250773  \n",
       "secondary_cleaner.state.floatbank4_b_air                 0.240501  \n",
       "secondary_cleaner.state.floatbank5_a_air                 0.189475  \n",
       "secondary_cleaner.state.floatbank5_b_air                 0.171910  "
      ]
     },
     "execution_count": 14,
     "metadata": {},
     "output_type": "execute_result"
    }
   ],
   "source": [
    "# Определисм параметры для разделения выборок\n",
    "df_train_corr = df_train.corr().loc[:, ['final.output.recovery', 'rougher.output.recovery']]\n",
    "df_train_corr_short = df_train_corr.loc[\n",
    "    ((df_train_corr['final.output.recovery'] > 0.15)|\n",
    "    (df_train_corr['final.output.recovery'] < -0.15)|\n",
    "    (df_train_corr['rougher.output.recovery'] > 0.15)|\n",
    "    (df_train_corr['rougher.output.recovery'] < -0.15))&\n",
    "    ((df_train_corr['final.output.recovery'] != 1)&\n",
    "    (df_train_corr['rougher.output.recovery'] != 1))\n",
    "]\n",
    "print('Количество параметров: ', df_train_corr_short.shape[0])\n",
    "df_train_corr_short_params = list(df_train_corr_short.index)\n",
    "df_train_corr_short"
   ]
  },
  {
   "cell_type": "markdown",
   "metadata": {},
   "source": [
    "Разделение и стандартизация выборок будет проведено после анализа данных"
   ]
  },
  {
   "cell_type": "markdown",
   "metadata": {},
   "source": [
    "## Анализ данных"
   ]
  },
  {
   "cell_type": "markdown",
   "metadata": {},
   "source": [
    "1. Изучить степень изменения концентрация металлов (Au, Ag, Pb) на различных этапах очистки.\n",
    "2. Сравнить распределения размеров гранул сырья на обучающей и тестовой выборках.\n",
    "3. Исследовать суммарную концентрацию всех веществ на разных стадиях: \n",
    "    - в сырье, \n",
    "    - в черновом концентрате\n",
    "    - в финальном концентрате"
   ]
  },
  {
   "cell_type": "code",
   "execution_count": 15,
   "metadata": {},
   "outputs": [
    {
     "data": {
      "text/html": [
       "<div>\n",
       "<style scoped>\n",
       "    .dataframe tbody tr th:only-of-type {\n",
       "        vertical-align: middle;\n",
       "    }\n",
       "\n",
       "    .dataframe tbody tr th {\n",
       "        vertical-align: top;\n",
       "    }\n",
       "\n",
       "    .dataframe thead th {\n",
       "        text-align: right;\n",
       "    }\n",
       "</style>\n",
       "<table border=\"1\" class=\"dataframe\">\n",
       "  <thead>\n",
       "    <tr style=\"text-align: right;\">\n",
       "      <th></th>\n",
       "      <th>phase</th>\n",
       "      <th>au_conc</th>\n",
       "      <th>ag_conc</th>\n",
       "      <th>pb_conc</th>\n",
       "      <th></th>\n",
       "      <th>au_tail</th>\n",
       "      <th>ag_tail</th>\n",
       "      <th>pb_tail</th>\n",
       "    </tr>\n",
       "  </thead>\n",
       "  <tbody>\n",
       "    <tr>\n",
       "      <th>0</th>\n",
       "      <td>rougher</td>\n",
       "      <td>19.772000</td>\n",
       "      <td>11.994759</td>\n",
       "      <td>7.606272</td>\n",
       "      <td></td>\n",
       "      <td>1.816391</td>\n",
       "      <td>5.589064</td>\n",
       "      <td>0.645782</td>\n",
       "    </tr>\n",
       "    <tr>\n",
       "      <th>1</th>\n",
       "      <td>primary_cleaner</td>\n",
       "      <td>32.119400</td>\n",
       "      <td>8.442408</td>\n",
       "      <td>9.810317</td>\n",
       "      <td></td>\n",
       "      <td>3.914179</td>\n",
       "      <td>16.145888</td>\n",
       "      <td>3.433558</td>\n",
       "    </tr>\n",
       "    <tr>\n",
       "      <th>2</th>\n",
       "      <td>secondary_cleaner</td>\n",
       "      <td>44.076513</td>\n",
       "      <td>5.168387</td>\n",
       "      <td>9.978821</td>\n",
       "      <td></td>\n",
       "      <td>4.339625</td>\n",
       "      <td>14.586720</td>\n",
       "      <td>5.776428</td>\n",
       "    </tr>\n",
       "  </tbody>\n",
       "</table>\n",
       "</div>"
      ],
      "text/plain": [
       "               phase    au_conc    ag_conc   pb_conc     au_tail    ag_tail  \\\n",
       "0            rougher  19.772000  11.994759  7.606272    1.816391   5.589064   \n",
       "1    primary_cleaner  32.119400   8.442408  9.810317    3.914179  16.145888   \n",
       "2  secondary_cleaner  44.076513   5.168387  9.978821    4.339625  14.586720   \n",
       "\n",
       "    pb_tail  \n",
       "0  0.645782  \n",
       "1  3.433558  \n",
       "2  5.776428  "
      ]
     },
     "execution_count": 15,
     "metadata": {},
     "output_type": "execute_result"
    }
   ],
   "source": [
    "# Сравним степень изменения концентрация металлов на различных этапах очистки\n",
    "au_conc = []\n",
    "ag_conc = []\n",
    "pb_conc = []\n",
    "au_tail = []\n",
    "ag_tail = []\n",
    "pb_tail = []\n",
    "\n",
    "au_conc.append(df['rougher.output.concentrate_au'].mean())\n",
    "au_conc.append(df['primary_cleaner.output.concentrate_au'].mean())\n",
    "au_conc.append(df['final.output.concentrate_au'].mean())\n",
    "\n",
    "ag_conc.append(df['rougher.output.concentrate_ag'].mean())\n",
    "ag_conc.append(df['primary_cleaner.output.concentrate_ag'].mean())\n",
    "ag_conc.append(df['final.output.concentrate_ag'].mean())\n",
    "\n",
    "pb_conc.append(df['rougher.output.concentrate_pb'].mean())\n",
    "pb_conc.append(df['primary_cleaner.output.concentrate_pb'].mean())\n",
    "pb_conc.append(df['final.output.concentrate_pb'].mean())\n",
    "\n",
    "au_tail.append(df['rougher.output.tail_au'].mean())\n",
    "au_tail.append(df['primary_cleaner.output.tail_au'].mean())\n",
    "au_tail.append(df['secondary_cleaner.output.tail_au'].mean())\n",
    "\n",
    "ag_tail.append(df['rougher.output.tail_ag'].mean())\n",
    "ag_tail.append(df['primary_cleaner.output.tail_ag'].mean())\n",
    "ag_tail.append(df['secondary_cleaner.output.tail_ag'].mean())\n",
    "\n",
    "pb_tail.append(df['rougher.output.tail_pb'].mean())\n",
    "pb_tail.append(df['primary_cleaner.output.tail_pb'].mean())\n",
    "pb_tail.append(df['secondary_cleaner.output.tail_pb'].mean())\n",
    "\n",
    "df_phases = pd.DataFrame(\n",
    "    {'phase': ['rougher', 'primary_cleaner', 'secondary_cleaner'], \n",
    "     'au_conc': au_conc, \n",
    "     'ag_conc': ag_conc, \n",
    "     'pb_conc': pb_conc,\n",
    "     '':'',\n",
    "     'au_tail': au_tail, \n",
    "     'ag_tail': ag_tail, \n",
    "     'pb_tail': pb_tail,\n",
    "    }\n",
    ")\n",
    "df_phases"
   ]
  },
  {
   "cell_type": "code",
   "execution_count": 16,
   "metadata": {},
   "outputs": [
    {
     "name": "stdout",
     "output_type": "stream",
     "text": [
      "Среднее значение размера гранул сырья на обучающей выборке - 60.24\n",
      "Среднее значение размера гранул сырья на тестовой выборке - 55.95\n"
     ]
    },
    {
     "data": {
      "image/png": "[encoded data removed]",
      "text/plain": [
       "<Figure size 504x360 with 1 Axes>"
      ]
     },
     "metadata": {
      "needs_background": "light"
     },
     "output_type": "display_data"
    }
   ],
   "source": [
    "# Сравним распределения размеров гранул первичного сырья на обучающей и тестовой выборках\n",
    "feed_size_train = df_train['rougher.input.feed_size']\n",
    "feed_size_test = df_test_new['rougher.input.feed_size']\n",
    "print(f'Среднее значение размера гранул сырья на обучающей выборке - {feed_size_train.mean():.2f}')\n",
    "print(f'Среднее значение размера гранул сырья на тестовой выборке - {feed_size_test.mean():.2f}')\n",
    "\n",
    "plt.figure(figsize=(7, 5))\n",
    "sns.kdeplot(data=feed_size_train, label='feed_size_train')\n",
    "sns.kdeplot(data=feed_size_test, label='feed_size_test')\n",
    "plt.xlabel(\"Test results\")\n",
    "plt.title('train_vs_test')\n",
    "plt.legend()\n",
    "plt.show()"
   ]
  },
  {
   "cell_type": "code",
   "execution_count": 17,
   "metadata": {},
   "outputs": [
    {
     "name": "stdout",
     "output_type": "stream",
     "text": [
      "Среднее значение размера гранул ОЧИЩЕННОГО сырья на обучающей выборке - 7.32\n",
      "Среднее значение размера гранул ОЧИЩЕННОГО сырья на тестовой выборке - 7.27\n"
     ]
    },
    {
     "data": {
      "image/png": "[encoded data removed]",
      "text/plain": [
       "<Figure size 504x360 with 1 Axes>"
      ]
     },
     "metadata": {
      "needs_background": "light"
     },
     "output_type": "display_data"
    }
   ],
   "source": [
    "# Сравним распределения размеров гранул очищенного сырья на обучающей и тестовой выборках\n",
    "feed_size_train_clean = df_train['primary_cleaner.input.feed_size']\n",
    "feed_size_test_clean = df_test_new['primary_cleaner.input.feed_size']\n",
    "print(f'Среднее значение размера гранул ОЧИЩЕННОГО сырья на обучающей выборке - {feed_size_train_clean.mean():.2f}')\n",
    "print(f'Среднее значение размера гранул ОЧИЩЕННОГО сырья на тестовой выборке - {feed_size_test_clean.mean():.2f}')\n",
    "\n",
    "plt.figure(figsize=(7, 5))\n",
    "sns.kdeplot(data=feed_size_train_clean, label='feed_size_train_clean')\n",
    "sns.kdeplot(data=feed_size_test_clean, label='feed_size_test_clean')\n",
    "plt.xlabel(\"Test results\")\n",
    "plt.title('train_vs_test')\n",
    "plt.legend()\n",
    "plt.show()"
   ]
  },
  {
   "cell_type": "code",
   "execution_count": 18,
   "metadata": {
    "scrolled": true
   },
   "outputs": [
    {
     "data": {
      "image/png": "[encoded data removed]",
      "text/plain": [
       "<Figure size 504x360 with 1 Axes>"
      ]
     },
     "metadata": {
      "needs_background": "light"
     },
     "output_type": "display_data"
    }
   ],
   "source": [
    "# Исследуем суммарную концентрацию всех веществ на разных стадиях производства\n",
    "substance_feed = df['rougher.input.feed_au'].mean() + df['rougher.input.feed_ag'].mean() + df['rougher.input.feed_pb'].mean()\n",
    "substance_rough = df['rougher.output.concentrate_au'].mean() + df['rougher.output.concentrate_ag'].mean() + df['rougher.output.concentrate_pb'].mean()\n",
    "substance_final = df['final.output.concentrate_au'].mean() + df['final.output.concentrate_ag'].mean() + df['final.output.concentrate_pb'].mean()\n",
    "\n",
    "roud = []\n",
    "roud.append(substance_feed)\n",
    "roud.append(substance_rough)\n",
    "roud.append(substance_final)\n",
    "roud = pd.Series(roud)\n",
    "\n",
    "plt.figure(figsize=(7, 5))\n",
    "roud.plot(kind='bar')\n",
    "plt.title('substance_roud')\n",
    "plt.show()"
   ]
  },
  {
   "cell_type": "code",
   "execution_count": 19,
   "metadata": {
    "scrolled": true
   },
   "outputs": [
    {
     "name": "stdout",
     "output_type": "stream",
     "text": [
      "Всего в общей выборке 490 строк с нулевой концентрацией вещества\n",
      "После удалениея некорректных замеров в обучающей выборке 13795 строк\n",
      "После удалениея некорректных замеров в тестовой выборке 5154 строк\n"
     ]
    }
   ],
   "source": [
    "# Выявим замеры, где концентрация вещества равна 0\n",
    "df['substance_feed'] = df['rougher.input.feed_au'] + df['rougher.input.feed_ag'] + df['rougher.input.feed_pb']\n",
    "df['substance_rough'] = df['rougher.output.concentrate_au'] + df['rougher.output.concentrate_ag'] + df['rougher.output.concentrate_pb']\n",
    "df['substance_final'] = df['final.output.concentrate_au'] + df['final.output.concentrate_ag'] + df['final.output.concentrate_pb']\n",
    "substance_zerro = list(df.loc[(df['substance_feed'] == 0)|(df['substance_rough'] == 0)|(df['substance_final'] == 0), 'date'])\n",
    "print(f'Всего в общей выборке {len(substance_zerro)} строк с нулевой концентрацией вещества')\n",
    "\n",
    "# Удалим строки с некорректными замерамии из обучающей и тестовой выборок\n",
    "df_train = df_train.query('date not in @substance_zerro')\n",
    "df_test_new = df_test_new.query('date not in @substance_zerro')\n",
    "\n",
    "print(f'После удалениея некорректных замеров в обучающей выборке {df_train.shape[0]} строк')\n",
    "print(f'После удалениея некорректных замеров в тестовой выборке {df_test_new.shape[0]} строк')\n"
   ]
  },
  {
   "cell_type": "code",
   "execution_count": 20,
   "metadata": {},
   "outputs": [],
   "source": [
    "# Разделим выборки\n",
    "features_train_rough = df_train.loc[:, df_train_corr_short_params]\n",
    "features_test_rough = df_test_new.loc[:, df_train_corr_short_params]\n",
    "target_train_rough = df_train['rougher.output.recovery']\n",
    "target_test_rough = df_test_new['rougher.output.recovery']\n",
    "\n",
    "features_train_fin = df_train.loc[:, df_train_corr_short_params]\n",
    "features_test_fin = df_test_new.loc[:, df_train_corr_short_params]\n",
    "target_train_fin = df_train['final.output.recovery']\n",
    "target_test_fin = df_test_new['final.output.recovery']"
   ]
  },
  {
   "cell_type": "code",
   "execution_count": 21,
   "metadata": {},
   "outputs": [],
   "source": [
    "# Стандартизируем данные\n",
    "pd.options.mode.chained_assignment = None\n",
    "\n",
    "def scaler(features_train, features_test):\n",
    "    scaler = StandardScaler()\n",
    "    scaler.fit(features_train)\n",
    "    features_train = scaler.transform(features_train)\n",
    "    features_test = scaler.transform(features_test)\n",
    "    return features_train, features_test\n",
    "\n",
    "features_train_rough, features_test_rough = scaler(features_train_rough, features_test_rough)\n",
    "features_train_fin, features_test_fin = scaler(features_train_fin, features_test_fin)"
   ]
  },
  {
   "cell_type": "markdown",
   "metadata": {},
   "source": [
    "**Выводы**\n",
    "\n",
    "Для анализа изменения степени концентрации исследованы результаты уровни концентраций металлов в результате флотации, первичной очистки и финальной очистки.\n",
    "\n",
    "Анализ показал, что изменение степени концентрации металлов в зависимости от производственного цикла разнонаправленное. Так, в продукте очистки концентрация золота стабильно растет. Свинец имеет стабильную концентрацию, а серебро, напротив, снижается.\n",
    "\n",
    "В хвостах наблюдается иная картина. Исчезает разнонаправленность – концентрация всех металлов стабильно растет по ходу производственного процесса. Самое высокое абсолютное значение роста у серебра. Во-первых, этот факт закономерен если учесть снижение концентрации серебра в продукте переработки. Во-вторых, данный факт говорит и настройке производственного процесса, исключающего выделение серебра.\n",
    "\n",
    "Исследование размера гранул на обучающей и тестовой выборках показало их незначительно отклонение в первичном сырье и практически полную идентичность после первичной очистки. Это говорит о допустимости использования имеющейся разбивки на обучающую и тестовую выборки.\n",
    "\n",
    "Исследование суммарной концентрации всех веществ на разных стадиях показало ее стабильный рост по ходу производственного процесса с 20% в сырье до 60% в финальном концентрате"
   ]
  },
  {
   "cell_type": "markdown",
   "metadata": {},
   "source": [
    "## Модель"
   ]
  },
  {
   "cell_type": "markdown",
   "metadata": {},
   "source": [
    "1. Написать функцию для вычисления итоговой sMAPE.\n",
    "2. Обучить разные модели и оценить их качество кросс-валидацией.\n",
    "3. Выбрать лучшую модель и проверить её на тестовой выборке"
   ]
  },
  {
   "cell_type": "code",
   "execution_count": 22,
   "metadata": {},
   "outputs": [],
   "source": [
    "#  Функция для вычисления итоговой sMAPE\n",
    "def smape(true_rough, pred_rough, true_fin, pred_fin): \n",
    "    rough = 100/len(true_rough) * np.sum(2 * np.abs(pred_rough - true_rough) / (np.abs(true_rough) + np.abs(pred_rough)))\n",
    "    fin = 100/len(true_fin) * np.sum(2 * np.abs(pred_fin - true_fin) / (np.abs(true_fin) + np.abs(pred_fin)))\n",
    "    return 0.25 * rough + 0.75 * fin"
   ]
  },
  {
   "cell_type": "code",
   "execution_count": 23,
   "metadata": {},
   "outputs": [
    {
     "name": "stdout",
     "output_type": "stream",
     "text": [
      "На модели логистической регрессии средний уровень sMAPE = 8.4537\n"
     ]
    }
   ],
   "source": [
    "# Обучим модели методом логистической регрессии с использованем кросс-валидация (5 частей)\n",
    "smape_regres_list = []\n",
    "all_line = len(df_train)\n",
    "sample_size = int(all_line/5)\n",
    "for i in range(0, all_line, sample_size):\n",
    "    if i+sample_size >= all_line:\n",
    "        break\n",
    "    else:\n",
    "        valid_indexes = list(range(i, i+sample_size)) \n",
    "        train_indexes = list(range(0, i)) + list(range(i+sample_size, all_line))\n",
    "\n",
    "        # Создадим выборки методом кросс-валидация для показателя rough и обучим модель\n",
    "        features_train_rough_short = features_train_rough[train_indexes]\n",
    "        target_train_rough_short = target_train_rough.loc[target_train_rough.index[train_indexes]]\n",
    "        features_valid_rough_short = features_train_rough[valid_indexes]\n",
    "        target_valid_rough_short = target_train_rough.loc[target_train_rough.index[valid_indexes]]\n",
    "    \n",
    "        model_regres_rough = LinearRegression()\n",
    "        model_regres_rough.fit(features_train_rough_short, target_train_rough_short)\n",
    "        predict_test_rough = model_regres_rough.predict(features_valid_rough_short)\n",
    "\n",
    "        # Создадим выборки методом кросс-валидация для показателя fin и обучим модель\n",
    "        features_train_fin_short = features_train_fin[train_indexes]\n",
    "        target_train_fin_short = target_train_fin.loc[target_train_fin.index[train_indexes]]\n",
    "        features_valid_fin_short = features_train_fin[valid_indexes]\n",
    "        target_valid_fin_short = target_train_fin.loc[target_train_fin.index[valid_indexes]]\n",
    "\n",
    "        model_regres_fin = LinearRegression()\n",
    "        model_regres_fin.fit(features_train_fin_short, target_train_fin_short)\n",
    "        predict_test_fin = model_regres_fin.predict(features_valid_fin_short)\n",
    "\n",
    "        # Проверим качество модели\n",
    "        smape_regres = smape(target_valid_rough_short, predict_test_rough, target_valid_fin_short, predict_test_fin)\n",
    "        smape_regres_list.append(smape_regres)\n",
    "    \n",
    "# Рассчитаем среднее качество модели\n",
    "fin_smape_regres = sum(smape_regres_list) / len(smape_regres_list)\n",
    "print(f'На модели логистической регрессии средний уровень sMAPE = {fin_smape_regres:.4f}')\n"
   ]
  },
  {
   "cell_type": "markdown",
   "metadata": {},
   "source": [
    "**Дерево решений**\n",
    "\n",
    "Обучим модели на параметре `max_depth` от 5 до 10 с использованием кросс-валидация (5 частей)\n",
    "\n",
    "Проверим методом `итоговой sMAPE`. Лучшую модель сохраним для дальнейшего сравнения"
   ]
  },
  {
   "cell_type": "code",
   "execution_count": 24,
   "metadata": {},
   "outputs": [
    {
     "name": "stdout",
     "output_type": "stream",
     "text": [
      "На модели Дерево с глубиной 5 средний уровень sMAPE = 8.7389\n",
      "На модели Дерево с глубиной 6 средний уровень sMAPE = 8.9799\n",
      "На модели Дерево с глубиной 7 средний уровень sMAPE = 9.1946\n",
      "На модели Дерево с глубиной 8 средний уровень sMAPE = 9.8210\n",
      "На модели Дерево с глубиной 9 средний уровень sMAPE = 10.3764\n",
      "На модели Дерево с глубиной 10 средний уровень sMAPE = 10.7111\n"
     ]
    }
   ],
   "source": [
    "best_model_tree = None\n",
    "best_result_smape_tree = 10000000\n",
    "best_depth_tree = 0\n",
    "\n",
    "for depth in range(5, 11):\n",
    "    smape_tree_list = []\n",
    "    for i in range(0, all_line, sample_size):\n",
    "        if i+sample_size >= all_line:\n",
    "            break\n",
    "        else:\n",
    "            valid_indexes = list(range(i, i+sample_size)) \n",
    "            train_indexes = list(range(0, i)) + list(range(i+sample_size, all_line))\n",
    "\n",
    "            # Создадим выборки методом кросс-валидация для показателя rough и обучим модель\n",
    "            features_train_rough_short = features_train_rough[train_indexes]\n",
    "            target_train_rough_short = target_train_rough.loc[target_train_rough.index[train_indexes]]\n",
    "            features_valid_rough_short = features_train_rough[valid_indexes]\n",
    "            target_valid_rough_short = target_train_rough.loc[target_train_rough.index[valid_indexes]]\n",
    "\n",
    "            model_tree_rough = DecisionTreeRegressor(max_depth=depth, random_state=state)\n",
    "            model_tree_rough.fit(features_train_rough_short, target_train_rough_short)\n",
    "            predict_test_rough = model_tree_rough.predict(features_valid_rough_short)\n",
    "    \n",
    "            # Создадим выборки методом кросс-валидация для показателя fin и обучим модель\n",
    "            features_train_fin_short = features_train_fin[train_indexes]\n",
    "            target_train_fin_short = target_train_fin.loc[target_train_fin.index[train_indexes]]\n",
    "            features_valid_fin_short = features_train_fin[valid_indexes]\n",
    "            target_valid_fin_short = target_train_fin.loc[target_train_fin.index[valid_indexes]]\n",
    "\n",
    "            model_tree_fin = DecisionTreeRegressor(max_depth=depth, random_state=state)\n",
    "            model_tree_fin.fit(features_train_fin_short, target_train_fin_short)\n",
    "            predict_test_fin = model_tree_fin.predict(features_valid_fin_short)\n",
    "            \n",
    "            # Проверим качество модели\n",
    "            smape_tree = smape(target_valid_rough_short, predict_test_rough, target_valid_fin_short, predict_test_fin)\n",
    "            smape_tree_list.append(smape_tree)\n",
    "\n",
    "    # Рассчитаем среднее качество модели\n",
    "    fin_smape_tree = sum(smape_tree_list) / len(smape_tree_list)\n",
    "    print(f'На модели Дерево с глубиной {depth} средний уровень sMAPE = {fin_smape_tree:.4f}')\n",
    "    \n",
    "    if best_result_smape_tree > fin_smape_tree:\n",
    "        best_result_smape_tree = fin_smape_tree\n",
    "        best_depth_tree = depth\n",
    "        best_model_tree_rough = model_tree_rough\n",
    "        best_model_tree_fin = model_tree_fin\n"
   ]
  },
  {
   "cell_type": "markdown",
   "metadata": {},
   "source": [
    "**Случайный лес**\n",
    "\n",
    "Обучим модели с использованием росс-валидация (3 частей) со следующими гиперпараметрами:\n",
    "\n",
    "- с лучшей глубиной по модели Дерево решений\n",
    "- с количеством деревьев: от 10 до 30 с шагом 10.\n",
    "\n",
    "Проверим методом `итоговой sMAPE`. Лучшую модель сохраним для дальнейшего сравнения"
   ]
  },
  {
   "cell_type": "code",
   "execution_count": 25,
   "metadata": {},
   "outputs": [
    {
     "name": "stdout",
     "output_type": "stream",
     "text": [
      "На модели Случайный Лес с глубиной 5 и числом деревьев 10 средний уровень sMAPE = 19.4611\n",
      "На модели Случайный Лес с глубиной 5 и числом деревьев 20 средний уровень sMAPE = 19.5601\n",
      "На модели Случайный Лес с глубиной 5 и числом деревьев 30 средний уровень sMAPE = 19.4898\n"
     ]
    }
   ],
   "source": [
    "best_model_forest = None\n",
    "best_result_smape_forest = 10000000\n",
    "best_est_forest = 0\n",
    "\n",
    "sample_size = int(all_line/3)\n",
    "for est in range(10, 31, 10):\n",
    "    smape_forest_list = []\n",
    "    for i in range(0, all_line, sample_size):\n",
    "        if i+sample_size >= all_line:\n",
    "            break\n",
    "        else:\n",
    "            valid_indexes = list(range(i, i+sample_size)) \n",
    "            train_indexes = list(range(0, i)) + list(range(i+sample_size, all_line))\n",
    "\n",
    "            # Создадим выборки методом кросс-валидация для показателя rough и обучим модель\n",
    "            features_train_rough_short = features_train_rough[train_indexes]\n",
    "            target_train_rough_short = target_train_rough.loc[target_train_rough.index[train_indexes]]\n",
    "            features_valid_rough_short = features_train_rough[valid_indexes]\n",
    "            target_valid_rough_short = target_train_rough.loc[target_train_rough.index[valid_indexes]]\n",
    "\n",
    "            model_forest_rough = RandomForestRegressor(random_state=state,\n",
    "                                                     n_estimators=est,\n",
    "                                                     max_depth=best_depth_tree)\n",
    "            model_forest_rough.fit(features_train_rough_short, target_train_rough_short)\n",
    "            predict_test_rough = model_forest_rough.predict(features_valid_rough_short)\n",
    "    \n",
    "            # Создадим выборки методом кросс-валидация для показателя fin и обучим модель\n",
    "            features_train_fin_short = features_train_fin[train_indexes]\n",
    "            target_train_fin_short = target_train_fin.loc[target_train_fin.index[train_indexes]]\n",
    "            features_valid_fin_short = features_train_fin[valid_indexes]\n",
    "            target_valid_fin_short = target_train_fin.loc[target_train_fin.index[valid_indexes]]\n",
    "\n",
    "            model_forest_fin = RandomForestRegressor(random_state=state,\n",
    "                                                     n_estimators=est,\n",
    "                                                     max_depth=best_depth_tree)\n",
    "            model_forest_fin.fit(features_train_rough_short, target_train_rough_short)\n",
    "            predict_test_fin = model_forest_fin.predict(features_valid_rough_short)\n",
    "            \n",
    "            # Проверим качество модели\n",
    "            smape_forest = smape(target_valid_rough_short, predict_test_rough, target_valid_fin_short, predict_test_fin)\n",
    "            smape_forest_list.append(smape_forest)\n",
    "\n",
    "    # Рассчитаем среднее качество модели\n",
    "    fin_smape_forest = sum(smape_forest_list) / len(smape_forest_list)\n",
    "    print(f'На модели Случайный Лес с глубиной {best_depth_tree} и числом деревьев {est} средний уровень sMAPE = {fin_smape_forest:.4f}')\n",
    "    \n",
    "    if best_result_smape_forest > fin_smape_forest:\n",
    "        best_result_smape_forest = fin_smape_forest\n",
    "        best_est_forest = est\n",
    "        best_model_forest_rough = model_forest_rough\n",
    "        best_model_forest_fin = model_forest_fin\n"
   ]
  },
  {
   "cell_type": "code",
   "execution_count": 26,
   "metadata": {},
   "outputs": [
    {
     "name": "stdout",
     "output_type": "stream",
     "text": [
      "Лучшая модель Решающее дерево с глубиной 5 на тестовой выборке показала уровень sMAPE = 7.2710\n"
     ]
    }
   ],
   "source": [
    "# Проверим работу лучшей модели на тестовой выборке\n",
    "\n",
    "predict_test_rough_best = best_model_tree_rough.predict(features_test_rough)\n",
    "predict_test_fin_best = best_model_tree_fin.predict(features_test_fin)\n",
    "smape_best = smape(target_test_rough, predict_test_rough_best, target_test_fin, predict_test_fin_best)\n",
    "\n",
    "print(f'Лучшая модель Решающее дерево с глубиной {best_depth_tree} на тестовой выборке показала уровень sMAPE = {smape_best:.4f}')"
   ]
  },
  {
   "cell_type": "code",
   "execution_count": 27,
   "metadata": {},
   "outputs": [
    {
     "name": "stdout",
     "output_type": "stream",
     "text": [
      "Лучший параметр глубины по показателю rougher.output.recovery - 6\n",
      "Лучший параметр глубины по показателю finale.output.recovery - 5\n",
      "Улучшенная модель Решающее дерево на тестовой выборке показала уровень sMAPE = 7.6550\n"
     ]
    }
   ],
   "source": [
    "# Подберем лучшие параметры Решающего дерева методом GridSearchCV\n",
    "clf = DecisionTreeRegressor(random_state=state)\n",
    "parametrs = {'max_depth': range(5, 11)}\n",
    "\n",
    "model_tree_rough_1 = GridSearchCV(clf, parametrs, cv=5)\n",
    "model_tree_rough_1.fit(features_train_rough, target_train_rough)\n",
    "best_depth_tree_rough_1 = model_tree_rough_1.best_params_.get('max_depth')\n",
    "print(f'Лучший параметр глубины по показателю rougher.output.recovery - {best_depth_tree_rough_1}')\n",
    "\n",
    "model_tree_fin_1 = GridSearchCV(clf, parametrs, cv=5)\n",
    "model_tree_fin_1.fit(features_train_fin, target_train_fin)\n",
    "best_depth_tree_fin_1 = model_tree_fin_1.best_params_.get('max_depth')\n",
    "print(f'Лучший параметр глубины по показателю finale.output.recovery - {best_depth_tree_fin_1}')\n",
    "\n",
    "# Обучим и проверим модель с подобранными параметрами\n",
    "model_tree_rough_ok = DecisionTreeRegressor(max_depth=best_depth_tree_rough_1, random_state=state)\n",
    "model_tree_rough_ok.fit(features_train_rough, target_train_rough)\n",
    "predict_test_rough_ok = model_tree_rough_ok.predict(features_test_rough)\n",
    "\n",
    "model_tree_fin_ok = DecisionTreeRegressor(max_depth=best_depth_tree_fin_1, random_state=state)\n",
    "model_tree_fin_ok.fit(features_train_fin, target_train_fin)\n",
    "predict_test_fin_ok = model_tree_fin_ok.predict(features_test_fin)\n",
    "\n",
    "smape_ok = smape(target_test_rough, predict_test_rough_ok, target_test_fin, predict_test_fin_ok)\n",
    "print(f'Улучшенная модель Решающее дерево на тестовой выборке показала уровень sMAPE = {smape_ok:.4f}')\n"
   ]
  },
  {
   "cell_type": "code",
   "execution_count": 28,
   "metadata": {},
   "outputs": [
    {
     "name": "stdout",
     "output_type": "stream",
     "text": [
      "На константной модели значение sMAPE = 7.7666\n",
      "Результат наивного алгоритма = 7.7666\n"
     ]
    }
   ],
   "source": [
    "# Создадим константную модель\n",
    "target_test_rough_const = pd.Series(target_train_rough.mean(), index=target_test_rough.index)\n",
    "target_test_fin_const = pd.Series(target_train_fin.mean(), index=target_test_fin.index)\n",
    "smape_const = smape(target_test_rough, target_test_rough_const, target_test_fin, target_test_fin_const)\n",
    "print(f'На константной модели значение sMAPE = {smape_const:.4f}')\n",
    "\n",
    "#Проверка \"наивным\" алгоритмом\n",
    "naive_model_rough = DummyRegressor(strategy=\"mean\")\n",
    "naive_model_rough.fit(features_train_rough, target_train_rough)\n",
    "naive_test_rough = naive_model_rough.predict (features_test_rough)\n",
    "\n",
    "naive_model_fin = DummyRegressor(strategy=\"mean\")\n",
    "naive_model_fin.fit(features_train_fin, target_train_fin)\n",
    "naive_test_fin = naive_model_fin.predict (features_test_fin)\n",
    "\n",
    "smape_naive = smape(target_test_rough, naive_test_rough, target_test_fin, naive_test_fin)\n",
    "print(f'Результат наивного алгоритма = {smape_naive:.4f}')"
   ]
  },
  {
   "cell_type": "markdown",
   "metadata": {},
   "source": [
    "**Выводы**\n",
    "\n",
    "Для упрощения расчета метрики создана функция, позволяющая считать `итоговый sMAPE`\n",
    "\n",
    "С использованием метода кросс-валидациии ранее созданная и стандартизированная обучающая выборка использована для обучения модели. Поскольку целевых показателя два - `rougher.output.recovery` и `final.output.recovery`, то сформировано два блока выборок и на каждой итерации обучалось две модели.\n",
    "\n",
    "Обучено три модели:\n",
    "- `Логистическая регрессия`. Число уровней `кросс-валидации` – 5. Лучшее значение `итоговый sMAPE` - **8.4537**\n",
    "- `Дерево решений`. Число уровней `кросс-валидации` – 5. Параметры максимальной глубины от 5 до 10. Лучшее значение `итоговый sMAPE` - **8.7389** (при глубине – 5)\n",
    "- Случайный лес с лучшим параметром глубины решения по предыдущей модели (5). Число уровней `кросс-валидации` – 3. Параметры `числа деревьев` от 10 до 30 с шагом 10. Лучшее значение `итоговый sMAPE` - **19.4611** (при числе деревьев – 10)\n",
    "\n",
    "Лучшая модель, **Решающее дерево с максимальной глубиной 5**, проверена на тестовой выборке, где показала значение `итоговый sMAPE` - **7.2710**\n",
    "\n",
    "Модель `Решающее дерево` с автоматическим перебором параметров по сетке `GridSearchCV` уточнила лучшие параметры: по показателю `rougher.output.recovery` – 6, а по показателю `finale.output.recovery` – 5. Однако по данной модели на тестовой выборке значение `итоговый sMAPE` - **7.6550**\n",
    "\n",
    "**Резюме**\n",
    "\n",
    "Для прогнозирования коэффициента восстановления золота из золотосодержащей руды наиболее эффективно использовать модель, Решающее дерево с максимальной глубиной 5.\n"
   ]
  },
  {
   "cell_type": "markdown",
   "metadata": {},
   "source": [
    "## Чек-лист готовности проекта"
   ]
  },
  {
   "cell_type": "markdown",
   "metadata": {},
   "source": [
    "- [x]  Jupyter Notebook открыт\n",
    "- [x]  Весь код выполняется без ошибок\n",
    "- [x]  Ячейки с кодом расположены в порядке выполнения\n",
    "- [x]  Выполнен шаг 1: данные подготовлены\n",
    "    - [x]  Проверена формула вычисления эффективности обогащения\n",
    "    - [x]  Проанализированы признаки, недоступные в тестовой выборке\n",
    "    - [x]  Проведена предобработка данных\n",
    "- [x]  Выполнен шаг 2: данные проанализированы\n",
    "    - [x]  Исследовано изменение концентрации элементов на каждом этапе\n",
    "    - [x]  Проанализированы распределения размеров гранул на обучающей и тестовой выборках\n",
    "    - [x]  Исследованы суммарные концентрации\n",
    "- [x]  Выполнен шаг 3: построена модель прогнозирования\n",
    "    - [x]  Написана функция для вычисления итогового *sMAPE*\n",
    "    - [x]  Обучено и проверено несколько моделей\n",
    "    - [x]  Выбрана лучшая модель, её качество проверено на тестовой выборке"
   ]
  },
  {
   "cell_type": "code",
   "execution_count": null,
   "metadata": {},
   "outputs": [],
   "source": []
  }
 ],
 "metadata": {
  "ExecuteTimeLog": [
   {
    "duration": 1689,
    "start_time": "2022-06-03T21:14:58.980Z"
   },
   {
    "duration": 3,
    "start_time": "2022-06-03T21:15:00.671Z"
   },
   {
    "duration": 20,
    "start_time": "2022-06-03T21:15:00.675Z"
   },
   {
    "duration": 202,
    "start_time": "2022-06-03T21:15:00.696Z"
   },
   {
    "duration": 0,
    "start_time": "2022-06-03T21:15:00.900Z"
   },
   {
    "duration": 0,
    "start_time": "2022-06-03T21:15:00.902Z"
   },
   {
    "duration": 0,
    "start_time": "2022-06-03T21:15:00.903Z"
   },
   {
    "duration": 0,
    "start_time": "2022-06-03T21:15:00.904Z"
   },
   {
    "duration": 0,
    "start_time": "2022-06-03T21:15:00.905Z"
   },
   {
    "duration": 0,
    "start_time": "2022-06-03T21:15:00.906Z"
   },
   {
    "duration": 0,
    "start_time": "2022-06-03T21:15:00.907Z"
   },
   {
    "duration": 0,
    "start_time": "2022-06-03T21:15:00.933Z"
   },
   {
    "duration": 0,
    "start_time": "2022-06-03T21:15:00.936Z"
   },
   {
    "duration": 0,
    "start_time": "2022-06-03T21:15:00.937Z"
   },
   {
    "duration": 0,
    "start_time": "2022-06-03T21:15:00.938Z"
   },
   {
    "duration": 0,
    "start_time": "2022-06-03T21:15:00.939Z"
   },
   {
    "duration": 0,
    "start_time": "2022-06-03T21:15:00.940Z"
   },
   {
    "duration": 0,
    "start_time": "2022-06-03T21:15:00.941Z"
   },
   {
    "duration": 0,
    "start_time": "2022-06-03T21:15:00.942Z"
   },
   {
    "duration": 0,
    "start_time": "2022-06-03T21:15:00.943Z"
   },
   {
    "duration": 0,
    "start_time": "2022-06-03T21:15:00.944Z"
   },
   {
    "duration": 0,
    "start_time": "2022-06-03T21:15:00.945Z"
   },
   {
    "duration": 0,
    "start_time": "2022-06-03T21:15:00.946Z"
   },
   {
    "duration": 4237,
    "start_time": "2022-06-03T21:17:56.518Z"
   },
   {
    "duration": 9,
    "start_time": "2022-06-03T21:18:02.756Z"
   },
   {
    "duration": 397,
    "start_time": "2022-06-03T21:18:02.767Z"
   },
   {
    "duration": 222,
    "start_time": "2022-06-03T21:18:03.166Z"
   },
   {
    "duration": 783,
    "start_time": "2022-06-03T21:18:03.390Z"
   },
   {
    "duration": 174,
    "start_time": "2022-06-03T21:18:04.176Z"
   },
   {
    "duration": 182,
    "start_time": "2022-06-03T21:18:04.359Z"
   },
   {
    "duration": 59,
    "start_time": "2022-06-03T21:18:04.542Z"
   },
   {
    "duration": 63,
    "start_time": "2022-06-03T21:18:04.603Z"
   },
   {
    "duration": 5,
    "start_time": "2022-06-03T21:18:04.668Z"
   },
   {
    "duration": 101,
    "start_time": "2022-06-03T21:18:04.675Z"
   },
   {
    "duration": 55,
    "start_time": "2022-06-03T21:18:04.781Z"
   },
   {
    "duration": 308,
    "start_time": "2022-06-03T21:18:04.838Z"
   },
   {
    "duration": 19,
    "start_time": "2022-06-03T21:18:05.150Z"
   },
   {
    "duration": 28,
    "start_time": "2022-06-03T21:18:05.170Z"
   },
   {
    "duration": 29,
    "start_time": "2022-06-03T21:18:05.200Z"
   },
   {
    "duration": 550,
    "start_time": "2022-06-03T21:18:05.231Z"
   },
   {
    "duration": 484,
    "start_time": "2022-06-03T21:18:05.783Z"
   },
   {
    "duration": 134,
    "start_time": "2022-06-03T21:18:06.268Z"
   },
   {
    "duration": 4,
    "start_time": "2022-06-03T21:18:06.404Z"
   },
   {
    "duration": 2354,
    "start_time": "2022-06-03T21:18:06.409Z"
   },
   {
    "duration": 14325,
    "start_time": "2022-06-03T21:18:08.772Z"
   },
   {
    "duration": 51456,
    "start_time": "2022-06-03T21:18:23.099Z"
   },
   {
    "duration": 15,
    "start_time": "2022-06-03T21:19:14.559Z"
   },
   {
    "duration": 64,
    "start_time": "2022-06-04T10:03:03.495Z"
   },
   {
    "duration": 39,
    "start_time": "2022-06-04T10:10:14.463Z"
   },
   {
    "duration": 1596,
    "start_time": "2022-06-04T12:52:44.513Z"
   },
   {
    "duration": 4,
    "start_time": "2022-06-04T12:52:46.112Z"
   },
   {
    "duration": 4,
    "start_time": "2022-06-04T12:52:46.125Z"
   },
   {
    "duration": 2101,
    "start_time": "2022-06-04T12:52:46.131Z"
   },
   {
    "duration": 141,
    "start_time": "2022-06-04T12:52:48.235Z"
   },
   {
    "duration": 178,
    "start_time": "2022-06-04T12:52:48.377Z"
   },
   {
    "duration": 52,
    "start_time": "2022-06-04T12:52:48.556Z"
   },
   {
    "duration": 24,
    "start_time": "2022-06-04T12:52:48.625Z"
   },
   {
    "duration": 17,
    "start_time": "2022-06-04T12:52:48.651Z"
   },
   {
    "duration": 92,
    "start_time": "2022-06-04T12:52:48.670Z"
   },
   {
    "duration": 133,
    "start_time": "2022-06-04T12:52:48.763Z"
   },
   {
    "duration": 6,
    "start_time": "2022-06-04T12:56:49.745Z"
   },
   {
    "duration": 6,
    "start_time": "2022-06-04T12:56:49.752Z"
   },
   {
    "duration": 10,
    "start_time": "2022-06-04T12:56:49.760Z"
   },
   {
    "duration": 679,
    "start_time": "2022-06-04T12:56:49.795Z"
   },
   {
    "duration": 143,
    "start_time": "2022-06-04T12:56:50.476Z"
   },
   {
    "duration": 175,
    "start_time": "2022-06-04T12:56:50.621Z"
   },
   {
    "duration": 60,
    "start_time": "2022-06-04T12:56:50.798Z"
   },
   {
    "duration": 19,
    "start_time": "2022-06-04T12:56:50.859Z"
   },
   {
    "duration": 19,
    "start_time": "2022-06-04T12:56:50.879Z"
   },
   {
    "duration": 77,
    "start_time": "2022-06-04T12:56:50.899Z"
   },
   {
    "duration": 134,
    "start_time": "2022-06-04T12:56:50.978Z"
   },
   {
    "duration": 42,
    "start_time": "2022-06-04T12:56:51.113Z"
   },
   {
    "duration": 127,
    "start_time": "2022-06-04T12:56:51.157Z"
   },
   {
    "duration": 8,
    "start_time": "2022-06-04T12:56:51.286Z"
   },
   {
    "duration": 37,
    "start_time": "2022-06-04T12:56:51.295Z"
   },
   {
    "duration": 1468,
    "start_time": "2022-06-04T15:48:27.202Z"
   },
   {
    "duration": 3,
    "start_time": "2022-06-04T15:48:28.672Z"
   },
   {
    "duration": 12,
    "start_time": "2022-06-04T15:48:28.676Z"
   },
   {
    "duration": 3449,
    "start_time": "2022-06-04T15:48:28.690Z"
   },
   {
    "duration": 138,
    "start_time": "2022-06-04T15:48:32.147Z"
   },
   {
    "duration": 165,
    "start_time": "2022-06-04T15:48:32.287Z"
   },
   {
    "duration": 92,
    "start_time": "2022-06-04T15:48:32.455Z"
   },
   {
    "duration": 23,
    "start_time": "2022-06-04T15:48:32.549Z"
   },
   {
    "duration": 24,
    "start_time": "2022-06-04T15:48:32.574Z"
   },
   {
    "duration": 74,
    "start_time": "2022-06-04T15:48:32.601Z"
   },
   {
    "duration": 122,
    "start_time": "2022-06-04T15:48:32.677Z"
   },
   {
    "duration": 69,
    "start_time": "2022-06-04T15:48:32.801Z"
   },
   {
    "duration": 143,
    "start_time": "2022-06-04T15:48:32.872Z"
   },
   {
    "duration": 37,
    "start_time": "2022-06-04T15:48:33.017Z"
   },
   {
    "duration": 475,
    "start_time": "2022-06-04T15:48:33.056Z"
   },
   {
    "duration": 544,
    "start_time": "2022-06-04T15:48:33.533Z"
   },
   {
    "duration": 116,
    "start_time": "2022-06-04T15:48:34.079Z"
   },
   {
    "duration": 41,
    "start_time": "2022-06-04T15:48:34.198Z"
   },
   {
    "duration": 12,
    "start_time": "2022-06-04T15:48:34.240Z"
   },
   {
    "duration": 27,
    "start_time": "2022-06-04T15:48:34.254Z"
   },
   {
    "duration": 6,
    "start_time": "2022-06-04T17:16:37.638Z"
   },
   {
    "duration": 5,
    "start_time": "2022-06-04T19:43:02.856Z"
   },
   {
    "duration": 5,
    "start_time": "2022-06-04T20:53:44.975Z"
   },
   {
    "duration": 8,
    "start_time": "2022-06-04T20:53:44.982Z"
   },
   {
    "duration": 5,
    "start_time": "2022-06-04T20:53:44.992Z"
   },
   {
    "duration": 3444,
    "start_time": "2022-06-04T20:53:44.999Z"
   },
   {
    "duration": 160,
    "start_time": "2022-06-04T20:53:48.445Z"
   },
   {
    "duration": 154,
    "start_time": "2022-06-04T20:53:48.606Z"
   },
   {
    "duration": 46,
    "start_time": "2022-06-04T20:53:48.762Z"
   },
   {
    "duration": 29,
    "start_time": "2022-06-04T20:53:48.810Z"
   },
   {
    "duration": 16,
    "start_time": "2022-06-04T20:53:48.841Z"
   },
   {
    "duration": 71,
    "start_time": "2022-06-04T20:53:48.859Z"
   },
   {
    "duration": 116,
    "start_time": "2022-06-04T20:53:48.932Z"
   },
   {
    "duration": 35,
    "start_time": "2022-06-04T20:53:49.049Z"
   },
   {
    "duration": 118,
    "start_time": "2022-06-04T20:53:49.087Z"
   },
   {
    "duration": 31,
    "start_time": "2022-06-04T20:53:49.207Z"
   },
   {
    "duration": 468,
    "start_time": "2022-06-04T20:53:49.239Z"
   },
   {
    "duration": 509,
    "start_time": "2022-06-04T20:53:49.708Z"
   },
   {
    "duration": 103,
    "start_time": "2022-06-04T20:53:50.218Z"
   },
   {
    "duration": 26,
    "start_time": "2022-06-04T20:53:50.327Z"
   },
   {
    "duration": 8,
    "start_time": "2022-06-04T20:53:50.355Z"
   },
   {
    "duration": 25,
    "start_time": "2022-06-04T20:53:50.365Z"
   },
   {
    "duration": 4,
    "start_time": "2022-06-04T20:53:50.392Z"
   },
   {
    "duration": 153,
    "start_time": "2022-06-04T20:53:50.397Z"
   },
   {
    "duration": 0,
    "start_time": "2022-06-04T20:53:50.552Z"
   },
   {
    "duration": 0,
    "start_time": "2022-06-04T20:53:50.553Z"
   },
   {
    "duration": 0,
    "start_time": "2022-06-04T20:53:50.554Z"
   },
   {
    "duration": 0,
    "start_time": "2022-06-04T20:53:50.556Z"
   },
   {
    "duration": 0,
    "start_time": "2022-06-04T20:53:50.557Z"
   },
   {
    "duration": 5,
    "start_time": "2022-06-04T20:57:16.181Z"
   },
   {
    "duration": 17,
    "start_time": "2022-06-04T20:57:16.188Z"
   },
   {
    "duration": 7,
    "start_time": "2022-06-04T20:57:16.207Z"
   },
   {
    "duration": 767,
    "start_time": "2022-06-04T20:57:16.215Z"
   },
   {
    "duration": 127,
    "start_time": "2022-06-04T20:57:16.984Z"
   },
   {
    "duration": 177,
    "start_time": "2022-06-04T20:57:17.112Z"
   },
   {
    "duration": 76,
    "start_time": "2022-06-04T20:57:17.291Z"
   },
   {
    "duration": 15,
    "start_time": "2022-06-04T20:57:17.369Z"
   },
   {
    "duration": 16,
    "start_time": "2022-06-04T20:57:17.386Z"
   },
   {
    "duration": 72,
    "start_time": "2022-06-04T20:57:17.404Z"
   },
   {
    "duration": 123,
    "start_time": "2022-06-04T20:57:17.477Z"
   },
   {
    "duration": 43,
    "start_time": "2022-06-04T20:57:17.602Z"
   },
   {
    "duration": 113,
    "start_time": "2022-06-04T20:57:17.647Z"
   },
   {
    "duration": 21,
    "start_time": "2022-06-04T20:57:17.761Z"
   },
   {
    "duration": 422,
    "start_time": "2022-06-04T20:57:17.784Z"
   },
   {
    "duration": 493,
    "start_time": "2022-06-04T20:57:18.207Z"
   },
   {
    "duration": 187,
    "start_time": "2022-06-04T20:57:18.702Z"
   },
   {
    "duration": 26,
    "start_time": "2022-06-04T20:57:18.890Z"
   },
   {
    "duration": 8,
    "start_time": "2022-06-04T20:57:18.926Z"
   },
   {
    "duration": 26,
    "start_time": "2022-06-04T20:57:18.935Z"
   },
   {
    "duration": 3,
    "start_time": "2022-06-04T20:57:18.963Z"
   },
   {
    "duration": 967,
    "start_time": "2022-06-04T20:57:18.968Z"
   },
   {
    "duration": 6635,
    "start_time": "2022-06-04T20:57:19.937Z"
   },
   {
    "duration": 16922,
    "start_time": "2022-06-04T20:57:26.574Z"
   },
   {
    "duration": 7,
    "start_time": "2022-06-04T20:57:43.498Z"
   },
   {
    "duration": 8392,
    "start_time": "2022-06-04T20:57:43.506Z"
   },
   {
    "duration": 12,
    "start_time": "2022-06-04T20:57:51.899Z"
   },
   {
    "duration": 6,
    "start_time": "2022-06-04T21:12:17.575Z"
   },
   {
    "duration": 14,
    "start_time": "2022-06-04T21:12:17.583Z"
   },
   {
    "duration": 7,
    "start_time": "2022-06-04T21:12:17.599Z"
   },
   {
    "duration": 704,
    "start_time": "2022-06-04T21:12:17.612Z"
   },
   {
    "duration": 128,
    "start_time": "2022-06-04T21:12:18.318Z"
   },
   {
    "duration": 158,
    "start_time": "2022-06-04T21:12:18.448Z"
   },
   {
    "duration": 56,
    "start_time": "2022-06-04T21:12:18.608Z"
   },
   {
    "duration": 16,
    "start_time": "2022-06-04T21:12:18.665Z"
   },
   {
    "duration": 17,
    "start_time": "2022-06-04T21:12:18.682Z"
   },
   {
    "duration": 72,
    "start_time": "2022-06-04T21:12:18.700Z"
   },
   {
    "duration": 116,
    "start_time": "2022-06-04T21:12:18.774Z"
   },
   {
    "duration": 39,
    "start_time": "2022-06-04T21:12:18.892Z"
   },
   {
    "duration": 110,
    "start_time": "2022-06-04T21:12:18.934Z"
   },
   {
    "duration": 22,
    "start_time": "2022-06-04T21:12:19.045Z"
   },
   {
    "duration": 421,
    "start_time": "2022-06-04T21:12:19.068Z"
   },
   {
    "duration": 443,
    "start_time": "2022-06-04T21:12:19.491Z"
   },
   {
    "duration": 104,
    "start_time": "2022-06-04T21:12:19.936Z"
   },
   {
    "duration": 27,
    "start_time": "2022-06-04T21:12:20.041Z"
   },
   {
    "duration": 7,
    "start_time": "2022-06-04T21:12:20.070Z"
   },
   {
    "duration": 25,
    "start_time": "2022-06-04T21:12:20.079Z"
   },
   {
    "duration": 4,
    "start_time": "2022-06-04T21:12:20.126Z"
   },
   {
    "duration": 1396,
    "start_time": "2022-06-04T21:12:20.132Z"
   },
   {
    "duration": 6520,
    "start_time": "2022-06-04T21:12:21.530Z"
   },
   {
    "duration": 16827,
    "start_time": "2022-06-04T21:12:28.051Z"
   },
   {
    "duration": 7,
    "start_time": "2022-06-04T21:12:44.880Z"
   },
   {
    "duration": 8464,
    "start_time": "2022-06-04T21:12:44.889Z"
   },
   {
    "duration": 13,
    "start_time": "2022-06-04T21:12:53.355Z"
   },
   {
    "duration": 84,
    "start_time": "2022-06-05T15:09:27.656Z"
   },
   {
    "duration": 1367,
    "start_time": "2022-06-05T15:09:51.671Z"
   },
   {
    "duration": 2,
    "start_time": "2022-06-05T15:09:53.040Z"
   },
   {
    "duration": 9,
    "start_time": "2022-06-05T15:09:53.044Z"
   },
   {
    "duration": 1874,
    "start_time": "2022-06-05T15:09:53.055Z"
   },
   {
    "duration": 147,
    "start_time": "2022-06-05T15:09:54.930Z"
   },
   {
    "duration": 165,
    "start_time": "2022-06-05T15:09:55.079Z"
   },
   {
    "duration": 51,
    "start_time": "2022-06-05T15:09:55.245Z"
   },
   {
    "duration": 43,
    "start_time": "2022-06-05T15:09:55.298Z"
   },
   {
    "duration": 18,
    "start_time": "2022-06-05T15:09:55.343Z"
   },
   {
    "duration": 65,
    "start_time": "2022-06-05T15:09:55.363Z"
   },
   {
    "duration": 120,
    "start_time": "2022-06-05T15:09:55.430Z"
   },
   {
    "duration": 34,
    "start_time": "2022-06-05T15:09:55.552Z"
   },
   {
    "duration": 117,
    "start_time": "2022-06-05T15:09:55.588Z"
   },
   {
    "duration": 29,
    "start_time": "2022-06-05T15:09:55.707Z"
   },
   {
    "duration": 379,
    "start_time": "2022-06-05T15:09:55.738Z"
   },
   {
    "duration": 412,
    "start_time": "2022-06-05T15:09:56.119Z"
   },
   {
    "duration": 117,
    "start_time": "2022-06-05T15:09:56.533Z"
   },
   {
    "duration": 27,
    "start_time": "2022-06-05T15:09:56.651Z"
   },
   {
    "duration": 8,
    "start_time": "2022-06-05T15:09:56.679Z"
   },
   {
    "duration": 40,
    "start_time": "2022-06-05T15:09:56.689Z"
   },
   {
    "duration": 4,
    "start_time": "2022-06-05T15:09:56.730Z"
   },
   {
    "duration": 1597,
    "start_time": "2022-06-05T15:09:56.736Z"
   },
   {
    "duration": 7132,
    "start_time": "2022-06-05T15:09:58.336Z"
   },
   {
    "duration": 18152,
    "start_time": "2022-06-05T15:10:05.469Z"
   },
   {
    "duration": 11,
    "start_time": "2022-06-05T15:10:23.623Z"
   },
   {
    "duration": 9001,
    "start_time": "2022-06-05T15:10:23.636Z"
   },
   {
    "duration": 12,
    "start_time": "2022-06-05T15:10:32.639Z"
   }
  ],
  "kernelspec": {
   "display_name": "Python 3",
   "language": "python",
   "name": "python3"
  },
  "language_info": {
   "codemirror_mode": {
    "name": "ipython",
    "version": 3
   },
   "file_extension": ".py",
   "mimetype": "text/x-python",
   "name": "python",
   "nbconvert_exporter": "python",
   "pygments_lexer": "ipython3",
   "version": "3.7.3"
  },
  "toc": {
   "base_numbering": 1,
   "nav_menu": {},
   "number_sections": true,
   "sideBar": true,
   "skip_h1_title": true,
   "title_cell": "Содержание",
   "title_sidebar": "Contents",
   "toc_cell": true,
   "toc_position": {
    "height": "calc(100% - 180px)",
    "left": "10px",
    "top": "150px",
    "width": "165px"
   },
   "toc_section_display": true,
   "toc_window_display": true
  }
 },
 "nbformat": 4,
 "nbformat_minor": 2
}
