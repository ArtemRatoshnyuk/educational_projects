{
 "cells": [
  {
   "cell_type": "markdown",
   "metadata": {},
   "source": [
    "# Выбор локации для скважины"
   ]
  },
  {
   "cell_type": "markdown",
   "metadata": {},
   "source": [
    "Допустим, вы работаете в добывающей компании «ГлавРосГосНефть». Нужно решить, где бурить новую скважину.\n",
    "\n",
    "Вам предоставлены пробы нефти в трёх регионах: в каждом 10 000 месторождений, где измерили качество нефти и объём её запасов. Постройте модель машинного обучения, которая поможет определить регион, где добыча принесёт наибольшую прибыль. Проанализируйте возможную прибыль и риски техникой *Bootstrap.*\n",
    "\n",
    "Шаги для выбора локации:\n",
    "\n",
    "- В избранном регионе ищут месторождения, для каждого определяют значения признаков;\n",
    "- Строят модель и оценивают объём запасов;\n",
    "- Выбирают месторождения с самым высокими оценками значений. Количество месторождений зависит от бюджета компании и стоимости разработки одной скважины;\n",
    "- Прибыль равна суммарной прибыли отобранных месторождений."
   ]
  },
  {
   "cell_type": "markdown",
   "metadata": {},
   "source": [
    "**Заказчик.** Добывающая компания «ГлавРосГосНефть»\n",
    "\n",
    "**Цель Заказчика.** Определить наиболее эффективное место для бурения скважины.\n",
    "\n",
    "**Цель исследования.** Построить модель для определения региона, где добыча принесёт наибольшую прибыль.\n",
    "\n",
    "**Задачи:**\n",
    "\n",
    "- Загрузить и подготовить данные.\n",
    "- Обучить и проверьте модель для каждого региона\n",
    "- Подготовить данные к расчёту прибыли\n",
    "- Создать функцию для расчёта прибыли по выбранным скважинам и предсказаниям модели\n",
    "- Посчитать риски и прибыль для каждого региона\n",
    "\n",
    "**Условия:**\n",
    "\n",
    "- Для обучения модели подходит только линейная регрессия \n",
    "- При разведке региона исследовать 500 точек, из которых с помощью машинного обучения выбрать 200 лучших для разработки.\n",
    "- Бюджет на разработку скважин в регионе — 10 млрд рублей.\n",
    "- При нынешних ценах один баррель сырья приносит 450 рублей дохода. Доход с каждой единицы продукта составляет 450 тыс. рублей, поскольку объём указан в тысячах баррелей.\n",
    "- После оценки рисков оставить только те регионы, в которых вероятность убытков меньше 2.5%. Среди них выбрать регион с наибольшей средней прибылью.\n",
    "\n",
    "\n",
    "**Входные данные от Заказчика.** Три файла в формате .csv с указанием различных параметров разработки скважин и объемов запаса в каждой скважине.\n",
    "\n",
    "**Ожидаемый результат.** Определено и обосновано место для бурения скважины."
   ]
  },
  {
   "cell_type": "markdown",
   "metadata": {},
   "source": [
    "## Загрузка и подготовка данных"
   ]
  },
  {
   "cell_type": "markdown",
   "metadata": {},
   "source": [
    "1. Открыть таблицу \n",
    "2. Изучить структуру данных по десяти первым строкам\n",
    "3. Изучить структуру данных методом `info()`\n",
    "4. Выявить пропуски и дубликаты"
   ]
  },
  {
   "cell_type": "markdown",
   "metadata": {},
   "source": [
    "**Описание данных**\n",
    "\n",
    "**Признаки**\n",
    "\n",
    "- `id` — уникальный идентификатор скважины\n",
    "- `f0`, `f1`, `f2` — значимые признаки точек\n",
    "\n",
    "**Условно целевой признак**\n",
    "\n",
    "- `product` — объём запасов в скважине (тыс. баррелей)"
   ]
  },
  {
   "cell_type": "code",
   "execution_count": 32,
   "metadata": {},
   "outputs": [],
   "source": [
    "# Импотрт библиотек\n",
    "import pandas as pd\n",
    "import numpy as np\n",
    "import seaborn as sns\n",
    "import matplotlib.pyplot as plt\n",
    "\n",
    "from scipy import stats as st\n",
    "from numpy.random import RandomState\n",
    "\n",
    "from sklearn.tree import DecisionTreeClassifier\n",
    "from sklearn.tree import DecisionTreeRegressor\n",
    "\n",
    "from sklearn.ensemble import RandomForestClassifier\n",
    "from sklearn.ensemble import RandomForestRegressor\n",
    "\n",
    "from sklearn.linear_model import LogisticRegression\n",
    "from sklearn.linear_model import LinearRegression\n",
    "\n",
    "from sklearn.model_selection import cross_val_score # кросс-вылидация\n",
    "from sklearn.model_selection import train_test_split\n",
    "from sklearn.preprocessing import StandardScaler # стандартизация\n",
    "from sklearn.utils import shuffle # перемешивание\n",
    "from sklearn.dummy import DummyClassifier # Наивная модель\n",
    "\n",
    "from sklearn.metrics import accuracy_score\n",
    "from sklearn.metrics import mean_squared_error\n",
    "from sklearn.metrics import mean_absolute_error\n",
    "\n",
    "from sklearn.metrics import confusion_matrix # матрица \"правда / ложь\"\n",
    "from sklearn.metrics import precision_score\n",
    "from sklearn.metrics import recall_score\n",
    "from sklearn.metrics import f1_score\n",
    "from sklearn.metrics import r2_score\n",
    "\n",
    "from sklearn.metrics import precision_recall_curve\n",
    "from sklearn.metrics import roc_curve # график\n",
    "from sklearn.metrics import roc_auc_score # площадь фигуры по графику"
   ]
  },
  {
   "cell_type": "code",
   "execution_count": 33,
   "metadata": {},
   "outputs": [],
   "source": [
    "# Введем константу\n",
    "state = RandomState(12345)"
   ]
  },
  {
   "cell_type": "code",
   "execution_count": 34,
   "metadata": {},
   "outputs": [],
   "source": [
    "# Функция исследования датасета\n",
    "def info_df(df_name):\n",
    "    display(df_name.head())\n",
    "    st = df_name.shape[0]\n",
    "    col = df_name.shape[1]\n",
    "    uniq = df_1.shape[0] - len(df_name['id'].unique())\n",
    "    print(f'Размер таблиы: {col} столбцов и {st} строк')\n",
    "    print(f'Количество явных дубликатов: {df_name.duplicated().sum()}')\n",
    "    print(f'Количество НЕ явных дубликатов: {uniq}')\n",
    "    print()\n",
    "    print(df_name.info())\n"
   ]
  },
  {
   "cell_type": "code",
   "execution_count": 35,
   "metadata": {},
   "outputs": [
    {
     "data": {
      "text/html": [
       "<div>\n",
       "<style scoped>\n",
       "    .dataframe tbody tr th:only-of-type {\n",
       "        vertical-align: middle;\n",
       "    }\n",
       "\n",
       "    .dataframe tbody tr th {\n",
       "        vertical-align: top;\n",
       "    }\n",
       "\n",
       "    .dataframe thead th {\n",
       "        text-align: right;\n",
       "    }\n",
       "</style>\n",
       "<table border=\"1\" class=\"dataframe\">\n",
       "  <thead>\n",
       "    <tr style=\"text-align: right;\">\n",
       "      <th></th>\n",
       "      <th>id</th>\n",
       "      <th>f0</th>\n",
       "      <th>f1</th>\n",
       "      <th>f2</th>\n",
       "      <th>product</th>\n",
       "    </tr>\n",
       "  </thead>\n",
       "  <tbody>\n",
       "    <tr>\n",
       "      <th>0</th>\n",
       "      <td>txEyH</td>\n",
       "      <td>0.705745</td>\n",
       "      <td>-0.497823</td>\n",
       "      <td>1.221170</td>\n",
       "      <td>105.280062</td>\n",
       "    </tr>\n",
       "    <tr>\n",
       "      <th>1</th>\n",
       "      <td>2acmU</td>\n",
       "      <td>1.334711</td>\n",
       "      <td>-0.340164</td>\n",
       "      <td>4.365080</td>\n",
       "      <td>73.037750</td>\n",
       "    </tr>\n",
       "    <tr>\n",
       "      <th>2</th>\n",
       "      <td>409Wp</td>\n",
       "      <td>1.022732</td>\n",
       "      <td>0.151990</td>\n",
       "      <td>1.419926</td>\n",
       "      <td>85.265647</td>\n",
       "    </tr>\n",
       "    <tr>\n",
       "      <th>3</th>\n",
       "      <td>iJLyR</td>\n",
       "      <td>-0.032172</td>\n",
       "      <td>0.139033</td>\n",
       "      <td>2.978566</td>\n",
       "      <td>168.620776</td>\n",
       "    </tr>\n",
       "    <tr>\n",
       "      <th>4</th>\n",
       "      <td>Xdl7t</td>\n",
       "      <td>1.988431</td>\n",
       "      <td>0.155413</td>\n",
       "      <td>4.751769</td>\n",
       "      <td>154.036647</td>\n",
       "    </tr>\n",
       "  </tbody>\n",
       "</table>\n",
       "</div>"
      ],
      "text/plain": [
       "      id        f0        f1        f2     product\n",
       "0  txEyH  0.705745 -0.497823  1.221170  105.280062\n",
       "1  2acmU  1.334711 -0.340164  4.365080   73.037750\n",
       "2  409Wp  1.022732  0.151990  1.419926   85.265647\n",
       "3  iJLyR -0.032172  0.139033  2.978566  168.620776\n",
       "4  Xdl7t  1.988431  0.155413  4.751769  154.036647"
      ]
     },
     "metadata": {},
     "output_type": "display_data"
    },
    {
     "name": "stdout",
     "output_type": "stream",
     "text": [
      "Размер таблиы: 5 столбцов и 100000 строк\n",
      "Количество явных дубликатов: 0\n",
      "Количество НЕ явных дубликатов: 10\n",
      "\n",
      "<class 'pandas.core.frame.DataFrame'>\n",
      "RangeIndex: 100000 entries, 0 to 99999\n",
      "Data columns (total 5 columns):\n",
      " #   Column   Non-Null Count   Dtype  \n",
      "---  ------   --------------   -----  \n",
      " 0   id       100000 non-null  object \n",
      " 1   f0       100000 non-null  float64\n",
      " 2   f1       100000 non-null  float64\n",
      " 3   f2       100000 non-null  float64\n",
      " 4   product  100000 non-null  float64\n",
      "dtypes: float64(4), object(1)\n",
      "memory usage: 3.8+ MB\n",
      "None\n"
     ]
    }
   ],
   "source": [
    "df_1 = pd.read_csv('/datasets/geo_data_0.csv')\n",
    "info_df(df_1)"
   ]
  },
  {
   "cell_type": "code",
   "execution_count": 36,
   "metadata": {},
   "outputs": [
    {
     "data": {
      "text/html": [
       "<div>\n",
       "<style scoped>\n",
       "    .dataframe tbody tr th:only-of-type {\n",
       "        vertical-align: middle;\n",
       "    }\n",
       "\n",
       "    .dataframe tbody tr th {\n",
       "        vertical-align: top;\n",
       "    }\n",
       "\n",
       "    .dataframe thead th {\n",
       "        text-align: right;\n",
       "    }\n",
       "</style>\n",
       "<table border=\"1\" class=\"dataframe\">\n",
       "  <thead>\n",
       "    <tr style=\"text-align: right;\">\n",
       "      <th></th>\n",
       "      <th>id</th>\n",
       "      <th>f0</th>\n",
       "      <th>f1</th>\n",
       "      <th>f2</th>\n",
       "      <th>product</th>\n",
       "    </tr>\n",
       "  </thead>\n",
       "  <tbody>\n",
       "    <tr>\n",
       "      <th>0</th>\n",
       "      <td>kBEdx</td>\n",
       "      <td>-15.001348</td>\n",
       "      <td>-8.276000</td>\n",
       "      <td>-0.005876</td>\n",
       "      <td>3.179103</td>\n",
       "    </tr>\n",
       "    <tr>\n",
       "      <th>1</th>\n",
       "      <td>62mP7</td>\n",
       "      <td>14.272088</td>\n",
       "      <td>-3.475083</td>\n",
       "      <td>0.999183</td>\n",
       "      <td>26.953261</td>\n",
       "    </tr>\n",
       "    <tr>\n",
       "      <th>2</th>\n",
       "      <td>vyE1P</td>\n",
       "      <td>6.263187</td>\n",
       "      <td>-5.948386</td>\n",
       "      <td>5.001160</td>\n",
       "      <td>134.766305</td>\n",
       "    </tr>\n",
       "    <tr>\n",
       "      <th>3</th>\n",
       "      <td>KcrkZ</td>\n",
       "      <td>-13.081196</td>\n",
       "      <td>-11.506057</td>\n",
       "      <td>4.999415</td>\n",
       "      <td>137.945408</td>\n",
       "    </tr>\n",
       "    <tr>\n",
       "      <th>4</th>\n",
       "      <td>AHL4O</td>\n",
       "      <td>12.702195</td>\n",
       "      <td>-8.147433</td>\n",
       "      <td>5.004363</td>\n",
       "      <td>134.766305</td>\n",
       "    </tr>\n",
       "  </tbody>\n",
       "</table>\n",
       "</div>"
      ],
      "text/plain": [
       "      id         f0         f1        f2     product\n",
       "0  kBEdx -15.001348  -8.276000 -0.005876    3.179103\n",
       "1  62mP7  14.272088  -3.475083  0.999183   26.953261\n",
       "2  vyE1P   6.263187  -5.948386  5.001160  134.766305\n",
       "3  KcrkZ -13.081196 -11.506057  4.999415  137.945408\n",
       "4  AHL4O  12.702195  -8.147433  5.004363  134.766305"
      ]
     },
     "metadata": {},
     "output_type": "display_data"
    },
    {
     "name": "stdout",
     "output_type": "stream",
     "text": [
      "Размер таблиы: 5 столбцов и 100000 строк\n",
      "Количество явных дубликатов: 0\n",
      "Количество НЕ явных дубликатов: 4\n",
      "\n",
      "<class 'pandas.core.frame.DataFrame'>\n",
      "RangeIndex: 100000 entries, 0 to 99999\n",
      "Data columns (total 5 columns):\n",
      " #   Column   Non-Null Count   Dtype  \n",
      "---  ------   --------------   -----  \n",
      " 0   id       100000 non-null  object \n",
      " 1   f0       100000 non-null  float64\n",
      " 2   f1       100000 non-null  float64\n",
      " 3   f2       100000 non-null  float64\n",
      " 4   product  100000 non-null  float64\n",
      "dtypes: float64(4), object(1)\n",
      "memory usage: 3.8+ MB\n",
      "None\n"
     ]
    }
   ],
   "source": [
    "df_2 = pd.read_csv('/datasets/geo_data_1.csv')\n",
    "info_df(df_2)"
   ]
  },
  {
   "cell_type": "code",
   "execution_count": 37,
   "metadata": {},
   "outputs": [
    {
     "data": {
      "text/html": [
       "<div>\n",
       "<style scoped>\n",
       "    .dataframe tbody tr th:only-of-type {\n",
       "        vertical-align: middle;\n",
       "    }\n",
       "\n",
       "    .dataframe tbody tr th {\n",
       "        vertical-align: top;\n",
       "    }\n",
       "\n",
       "    .dataframe thead th {\n",
       "        text-align: right;\n",
       "    }\n",
       "</style>\n",
       "<table border=\"1\" class=\"dataframe\">\n",
       "  <thead>\n",
       "    <tr style=\"text-align: right;\">\n",
       "      <th></th>\n",
       "      <th>id</th>\n",
       "      <th>f0</th>\n",
       "      <th>f1</th>\n",
       "      <th>f2</th>\n",
       "      <th>product</th>\n",
       "    </tr>\n",
       "  </thead>\n",
       "  <tbody>\n",
       "    <tr>\n",
       "      <th>0</th>\n",
       "      <td>fwXo0</td>\n",
       "      <td>-1.146987</td>\n",
       "      <td>0.963328</td>\n",
       "      <td>-0.828965</td>\n",
       "      <td>27.758673</td>\n",
       "    </tr>\n",
       "    <tr>\n",
       "      <th>1</th>\n",
       "      <td>WJtFt</td>\n",
       "      <td>0.262778</td>\n",
       "      <td>0.269839</td>\n",
       "      <td>-2.530187</td>\n",
       "      <td>56.069697</td>\n",
       "    </tr>\n",
       "    <tr>\n",
       "      <th>2</th>\n",
       "      <td>ovLUW</td>\n",
       "      <td>0.194587</td>\n",
       "      <td>0.289035</td>\n",
       "      <td>-5.586433</td>\n",
       "      <td>62.871910</td>\n",
       "    </tr>\n",
       "    <tr>\n",
       "      <th>3</th>\n",
       "      <td>q6cA6</td>\n",
       "      <td>2.236060</td>\n",
       "      <td>-0.553760</td>\n",
       "      <td>0.930038</td>\n",
       "      <td>114.572842</td>\n",
       "    </tr>\n",
       "    <tr>\n",
       "      <th>4</th>\n",
       "      <td>WPMUX</td>\n",
       "      <td>-0.515993</td>\n",
       "      <td>1.716266</td>\n",
       "      <td>5.899011</td>\n",
       "      <td>149.600746</td>\n",
       "    </tr>\n",
       "  </tbody>\n",
       "</table>\n",
       "</div>"
      ],
      "text/plain": [
       "      id        f0        f1        f2     product\n",
       "0  fwXo0 -1.146987  0.963328 -0.828965   27.758673\n",
       "1  WJtFt  0.262778  0.269839 -2.530187   56.069697\n",
       "2  ovLUW  0.194587  0.289035 -5.586433   62.871910\n",
       "3  q6cA6  2.236060 -0.553760  0.930038  114.572842\n",
       "4  WPMUX -0.515993  1.716266  5.899011  149.600746"
      ]
     },
     "metadata": {},
     "output_type": "display_data"
    },
    {
     "name": "stdout",
     "output_type": "stream",
     "text": [
      "Размер таблиы: 5 столбцов и 100000 строк\n",
      "Количество явных дубликатов: 0\n",
      "Количество НЕ явных дубликатов: 4\n",
      "\n",
      "<class 'pandas.core.frame.DataFrame'>\n",
      "RangeIndex: 100000 entries, 0 to 99999\n",
      "Data columns (total 5 columns):\n",
      " #   Column   Non-Null Count   Dtype  \n",
      "---  ------   --------------   -----  \n",
      " 0   id       100000 non-null  object \n",
      " 1   f0       100000 non-null  float64\n",
      " 2   f1       100000 non-null  float64\n",
      " 3   f2       100000 non-null  float64\n",
      " 4   product  100000 non-null  float64\n",
      "dtypes: float64(4), object(1)\n",
      "memory usage: 3.8+ MB\n",
      "None\n"
     ]
    }
   ],
   "source": [
    "df_3 = pd.read_csv('/datasets/geo_data_2.csv')\n",
    "info_df(df_3)"
   ]
  },
  {
   "cell_type": "markdown",
   "metadata": {},
   "source": [
    "Каждая из трех таблиц содержит столбец с указанием id скважины, три столбца с параметрами и столбец с целевым параметром – объемом запасов нефти в скважине.\n",
    "\n",
    "Каждая таблица содержит 100 000 строк\n",
    "\n",
    "Все таблицы лишены пропусков и имеют корректные типы данных.\n",
    "\n",
    "Во всех таблицах есть не явные дубликаты – строки с одинаковым id, но с разными данными. \n",
    "\n",
    "Учитывая крайне малое число таких строк, то вероятнее всего, это результат технической ошибки и у нас нет возможности определить, какая строка верная.\n",
    "\n",
    "Однако, в рамках решения задачи прогнозирования эффективности добычи нет смысла в персонализации скважин региона. Излишняя детализация данных сужает возможности обучения модели за счет чрезмерной кластеризации. Поэтому для решения текущей задачи, нам не потребуется информация об id скважины.\n",
    "\n",
    "В этой связи, менять строки с не явными дубликатами не имеет смысла."
   ]
  },
  {
   "cell_type": "code",
   "execution_count": 38,
   "metadata": {},
   "outputs": [],
   "source": [
    "# Разделим данные на признаки и целевые занчения\n",
    "\n",
    "def features_target(df):\n",
    "    features = df.drop(['id', 'product'], axis=1)\n",
    "    target = df_1['product']\n",
    "    return features, target\n",
    "\n",
    "features_1, target_1 = features_target(df_1)\n",
    "features_2, target_2 = features_target(df_1)\n",
    "features_3, target_3 = features_target(df_1)"
   ]
  },
  {
   "cell_type": "markdown",
   "metadata": {},
   "source": [
    "**Вывод**\n",
    "\n",
    "В результате анализа имеющихся данных выявлено присутствие неявных дубликатов, удалять которые не представляется целесообразным.  \n",
    "\n",
    "Все три таблицы, описывающие скважины разных регионов разделены на таблицы признаков и целей, что финализирует процесс подготовки данных для дальнейшей работы."
   ]
  },
  {
   "cell_type": "markdown",
   "metadata": {},
   "source": [
    "## Обучение и проверка модели"
   ]
  },
  {
   "cell_type": "markdown",
   "metadata": {},
   "source": [
    "1. Разбить данные на обучающую и валидационную выборки в соотношении 75:25.\n",
    "2. Обучить модель и сделать предсказания на валидационной выборке.\n",
    "3. Сохранить предсказания и правильные ответы.\n",
    "4. Напечатать на экране средний запас предсказанного сырья и RMSE модели.\n",
    "5. Проанализировать результаты."
   ]
  },
  {
   "cell_type": "code",
   "execution_count": 39,
   "metadata": {},
   "outputs": [
    {
     "name": "stdout",
     "output_type": "stream",
     "text": [
      "features_train_ 1 - 75000 строк\n",
      "features_valid_ 1 - 25000 строк\n",
      "\n",
      "features_train_ 2 - 75000 строк\n",
      "features_valid_ 2 - 25000 строк\n",
      "\n",
      "features_train_ 3 - 75000 строк\n",
      "features_valid_ 3 - 25000 строк\n",
      "\n"
     ]
    }
   ],
   "source": [
    "# Разобьем данные на обучающую и валидационную выборки в соотношении 75:25\n",
    "\n",
    "def train_valid(features, target, reg):\n",
    "    features_train, features_valid, target_train, target_valid = train_test_split(features, target,\n",
    "                                                                                  test_size=.25,\n",
    "                                                                                  random_state=state)\n",
    "    print(f'features_train_ {reg} - {features_train.shape[0]} строк')\n",
    "    print(f'features_valid_ {reg} - {features_valid.shape[0]} строк')\n",
    "    print()\n",
    "    return features_train, features_valid, target_train, target_valid\n",
    "\n",
    "features_train_1, features_valid_1, target_train_1, target_valid_1 = train_valid(features_1, target_1, 1)\n",
    "features_train_2, features_valid_2, target_train_2, target_valid_2 = train_valid(features_2, target_2, 2)\n",
    "features_train_3, features_valid_3, target_train_3, target_valid_3 = train_valid(features_3, target_3, 3)"
   ]
  },
  {
   "cell_type": "code",
   "execution_count": 40,
   "metadata": {},
   "outputs": [],
   "source": [
    "# Стандартизируем данные\n",
    "\n",
    "numeric = ['f0', 'f1', 'f2']\n",
    "pd.options.mode.chained_assignment = None\n",
    "\n",
    "def scaler(features_train, features_valid):\n",
    "    scaler = StandardScaler()\n",
    "    scaler.fit(features_train[numeric])\n",
    "\n",
    "    features_train[numeric] = scaler.transform(features_train[numeric])\n",
    "    features_valid[numeric] = scaler.transform(features_valid[numeric])\n",
    "    return features_train, features_valid\n",
    "\n",
    "features_train_1, features_valid_1 = scaler(features_train_1, features_valid_1)\n",
    "features_train_2, features_valid_2 = scaler(features_train_2, features_valid_2)\n",
    "features_train_3, features_valid_3 = scaler(features_train_3, features_valid_3)"
   ]
  },
  {
   "cell_type": "code",
   "execution_count": 41,
   "metadata": {},
   "outputs": [
    {
     "name": "stdout",
     "output_type": "stream",
     "text": [
      "По региону 1 среднее значение предсказанного запаса сырья 92.5926, RMSE 37.5794\n",
      "\n",
      "По региону 2 среднее значение предсказанного запаса сырья 92.4013, RMSE 37.9172\n",
      "\n",
      "По региону 3 среднее значение предсказанного запаса сырья 92.5257, RMSE 37.7631\n",
      "\n"
     ]
    }
   ],
   "source": [
    "# Обучим модель метолдом линейной регрессии и сделаем предсказания на валидационной выборке\n",
    "# методом mean_squared_error определим RMSE модели\n",
    "# выведем на печать среднее значение запаса предсказанного сырья\n",
    "\n",
    "model = LinearRegression()\n",
    "\n",
    "# Регион 1\n",
    "model.fit(features_train_1, target_train_1)\n",
    "predict_valid_1 = model.predict(features_valid_1)\n",
    "rmse_valid_1 = mean_squared_error(predict_valid_1, target_valid_1) ** 0.5\n",
    "predict_mean_product_1 = sum(predict_valid_1) / len(predict_valid_1)\n",
    "\n",
    "print(f'По региону {1} среднее значение предсказанного запаса сырья {predict_mean_product_1:.4f},\\\n",
    " RMSE {rmse_valid_1:.4f}')\n",
    "print()\n",
    "\n",
    "# Регион 2\n",
    "model.fit(features_train_2, target_train_2)\n",
    "predict_valid_2 = model.predict(features_valid_2)\n",
    "rmse_valid_2 = mean_squared_error(predict_valid_2, target_valid_2) ** 0.5\n",
    "predict_mean_product_2 = sum(predict_valid_2) / len(predict_valid_2)\n",
    "print(f'По региону {2} среднее значение предсказанного запаса сырья {predict_mean_product_2:.4f},\\\n",
    " RMSE {rmse_valid_2:.4f}')\n",
    "print()\n",
    "\n",
    "# Регион 3\n",
    "model.fit(features_train_3, target_train_3)\n",
    "predict_valid_3 = model.predict(features_valid_3)\n",
    "rmse_valid_3 = mean_squared_error(predict_valid_3, target_valid_3) ** 0.5\n",
    "predict_mean_product_3 = sum(predict_valid_3) / len(predict_valid_3)\n",
    "print(f'По региону {3} среднее значение предсказанного запаса сырья {predict_mean_product_3:.4f},\\\n",
    " RMSE {rmse_valid_3:.4f}')\n",
    "print()"
   ]
  },
  {
   "cell_type": "markdown",
   "metadata": {},
   "source": [
    "**Вывод**\n",
    "\n",
    "В результате обучения модели методом линейной регрессии построен прогноз на валидационной выборке. По всем регионам среднее прогнозируемое значение запасов сырья в одной скважине примерно одинаковое (отклонения не превышают 0.2%. При этом значение среднеквадратичного отклонения составляет очень высокую величину и достигает 40% от уровня прогноза, что говорит о низкой точности сделанных прогнозов."
   ]
  },
  {
   "cell_type": "markdown",
   "metadata": {},
   "source": [
    "## Подготовка к расчёту прибыли"
   ]
  },
  {
   "cell_type": "markdown",
   "metadata": {},
   "source": [
    "1. Все ключевые значения для расчётов сохранить в отдельных переменных.\n",
    "2. Рассчитать достаточный объём сырья для безубыточной разработки новой скважины. Сравнить полученный объём сырья со средним запасом в каждом регионе.\n",
    "3. Сделать выводы по этапу подготовки расчёта прибыли."
   ]
  },
  {
   "cell_type": "code",
   "execution_count": 42,
   "metadata": {},
   "outputs": [],
   "source": [
    "# Введем переменные\n",
    "profit_prod = 450000\n",
    "budget = 10000000000\n",
    "point_dirty = 500\n",
    "point_clean = 200"
   ]
  },
  {
   "cell_type": "code",
   "execution_count": 43,
   "metadata": {},
   "outputs": [
    {
     "name": "stdout",
     "output_type": "stream",
     "text": [
      "Минимальный безубыточный объем 111 тыс. баррелей на скважину\n",
      "Минимальный безубыточная выручка 50 млн.руб. на скважину\n"
     ]
    }
   ],
   "source": [
    "# Точка безубыточности\n",
    "profit_prod_point_min = budget / (profit_prod * point_clean)\n",
    "profit_point_min = profit_prod_point_min * profit_prod\n",
    "print(f'Минимальный безубыточный объем {profit_prod_point_min:.0f} тыс. баррелей на скважину')\n",
    "print(f'Минимальный безубыточная выручка {profit_point_min / 1000000:.0f} млн.руб. на скважину')"
   ]
  },
  {
   "cell_type": "markdown",
   "metadata": {},
   "source": [
    "**Вывод**\n",
    "\n",
    "Располагаемые данные говорят о том, что при разработке в регионе 200 скважин, безубыточный объем составляет 111 тыс.барр с каждой скважины. Учитывая полученные в результате прогноза средние значения запасов сырья скважин на уровне 92.5 тыс.барр, можно говорить о недостаточном фактическом объеме запасов сырья. \n",
    "\n",
    "Однако, высокий уровень среднеквадратичного отклонения говорит об имеющейся вероятности нахождения скважин с большими запасами, которые смогут преодолеть указанный уровень безубыточности."
   ]
  },
  {
   "cell_type": "markdown",
   "metadata": {},
   "source": [
    "## Расчёт прибыли и рисков "
   ]
  },
  {
   "cell_type": "markdown",
   "metadata": {},
   "source": [
    "1. Выбрать скважины с максимальными значениями предсказаний.\n",
    "2. Просуммировать целевое значение объёма сырья, соответствующее этим предсказаниям.\n",
    "3. Рассчитать прибыль для полученного объёма сырья.\n",
    "4. Применить технику Bootstrap с 1000 выборок, для поиска распределения прибыли.\n",
    "5. Найти среднюю прибыль, 95%-й доверительный интервал и риск убытков (отрицательной прибыли).\n",
    "6. Сделать выводы. Предложить регион для разработки скважин и обосновать выбор."
   ]
  },
  {
   "cell_type": "code",
   "execution_count": 44,
   "metadata": {},
   "outputs": [],
   "source": [
    "# Преобразование predict_valid в Series\n",
    "\n",
    "def transformations(target_valid, predict_valid):\n",
    "    target_index = list(target_valid.index)\n",
    "    predict_valid_ser = pd.Series(data=predict_valid, index=target_index)\n",
    "    predict_valid = predict_valid_ser\n",
    "    return predict_valid\n",
    "\n",
    "predict_valid_1 = transformations(target_valid_1, predict_valid_1)\n",
    "predict_valid_2 = transformations(target_valid_2, predict_valid_2)\n",
    "predict_valid_3 = transformations(target_valid_3, predict_valid_3)"
   ]
  },
  {
   "cell_type": "code",
   "execution_count": 45,
   "metadata": {},
   "outputs": [
    {
     "name": "stdout",
     "output_type": "stream",
     "text": [
      "Прибыль 200 скважин с максимальными значениями в регионе 1: 3321 млн.руб.\n",
      "Прибыль 200 скважин с максимальными значениями в регионе 2: 3267 млн.руб.\n",
      "Прибыль 200 скважин с максимальными значениями в регионе 3: 3181 млн.руб.\n"
     ]
    }
   ],
   "source": [
    "# Расчетаем прибыль по скважинам, предсказанными моделью\n",
    "\n",
    "def profit_predict(target_valid, predict_valid, point, reg):\n",
    "    bsest_point_list = predict_valid.sort_values(ascending=False)[:point]\n",
    "    best_point_product = target_valid[bsest_point_list.index]\n",
    "    profit_predict = sum(best_point_product) * profit_prod - budget\n",
    "    print(f'Прибыль {point} скважин с максимальными значениями в регионе {reg}: {profit_predict / 1000000:.0f} млн.руб.')\n",
    "    \n",
    "profit_predict_1 = profit_predict(target_valid_1, predict_valid_1, point_clean, 1)\n",
    "profit_predict_2 = profit_predict(target_valid_2, predict_valid_2, point_clean, 2)\n",
    "profit_predict_3 = profit_predict(target_valid_3, predict_valid_3, point_clean, 3)"
   ]
  },
  {
   "cell_type": "code",
   "execution_count": 46,
   "metadata": {
    "scrolled": true
   },
   "outputs": [],
   "source": [
    "# Короткий расчет прибыли\n",
    "def profit_predict_all(predict, point):\n",
    "    best_point_list = sorted(predict, reverse=True)[:point]\n",
    "    return sum(best_point_list) * profit_prod - budget\n",
    "\n",
    "# Ффункция для построенимя гистограммы\n",
    "def hist_pattern(df, bi, title):\n",
    "    df.hist(bins=bi, figsize=(10,7))\n",
    "    plt.title(title)\n",
    "    return plt.show()\n",
    "\n",
    "# Расчет основных метрик и построения графика\n",
    "def values_predict(predict_valid, reg):\n",
    "    values = []\n",
    "    for i in range(1000):\n",
    "        subsample = predict_valid.sample(n=point_dirty, replace=True, random_state=state)\n",
    "        profit_predict = profit_predict_all(subsample, point_clean)\n",
    "        values.append(profit_predict)\n",
    "\n",
    "    values = pd.Series(values)\n",
    "    low = values.quantile(0.025)\n",
    "    upp = values.quantile(0.975)\n",
    "    \n",
    "    print(f'Регион {reg}:')\n",
    "    print(f'Средняя прибыль: {values.mean() / 1000000:.0f} млн.руб.')\n",
    "    print(f'Минимальная прибыль: {low / 1000000:.0f} млн.руб.')\n",
    "    print(f'Максимальная прибыль: {upp / 1000000:.0f} млн.руб.')\n",
    "    print(f'95%-ый доверительный интервал: от {low / 1000000:.0f} до {upp / 1000000:.0f} млн.руб.')\n",
    "\n",
    "    # Вероятность убытка\n",
    "    minus_profit = values[values < (profit_point_min * point_clean - budget)]\n",
    "    probab_minus = len(minus_profit) / len(values)\n",
    "    print(f'Вероятность убытка {probab_minus:.4%}')\n",
    "    print()   \n",
    "          \n",
    "    # Построим гистограмму\n",
    "    hist_pattern(values, 100, f'region {reg}')"
   ]
  },
  {
   "cell_type": "code",
   "execution_count": 47,
   "metadata": {},
   "outputs": [
    {
     "name": "stdout",
     "output_type": "stream",
     "text": [
      "Регион 1:\n",
      "Средняя прибыль: 355 млн.руб.\n",
      "Минимальная прибыль: 129 млн.руб.\n",
      "Максимальная прибыль: 590 млн.руб.\n",
      "95%-ый доверительный интервал: от 129 до 590 млн.руб.\n",
      "Вероятность убытка 0.1000%\n",
      "\n"
     ]
    },
    {
     "data": {
      "image/png": "[encoded data removed]",
      "text/plain": [
       "<Figure size 720x504 with 1 Axes>"
      ]
     },
     "metadata": {
      "needs_background": "light"
     },
     "output_type": "display_data"
    }
   ],
   "source": [
    "values_predict(predict_valid_1, 1)"
   ]
  },
  {
   "cell_type": "code",
   "execution_count": 48,
   "metadata": {
    "scrolled": true
   },
   "outputs": [
    {
     "name": "stdout",
     "output_type": "stream",
     "text": [
      "Регион 2:\n",
      "Средняя прибыль: 338 млн.руб.\n",
      "Минимальная прибыль: 118 млн.руб.\n",
      "Максимальная прибыль: 558 млн.руб.\n",
      "95%-ый доверительный интервал: от 118 до 558 млн.руб.\n",
      "Вероятность убытка 0.1000%\n",
      "\n"
     ]
    },
    {
     "data": {
      "image/png": "[encoded data removed]",
      "text/plain": [
       "<Figure size 720x504 with 1 Axes>"
      ]
     },
     "metadata": {
      "needs_background": "light"
     },
     "output_type": "display_data"
    }
   ],
   "source": [
    "values_predict(predict_valid_2, 2)"
   ]
  },
  {
   "cell_type": "code",
   "execution_count": 49,
   "metadata": {},
   "outputs": [
    {
     "name": "stdout",
     "output_type": "stream",
     "text": [
      "Регион 3:\n",
      "Средняя прибыль: 360 млн.руб.\n",
      "Минимальная прибыль: 158 млн.руб.\n",
      "Максимальная прибыль: 591 млн.руб.\n",
      "95%-ый доверительный интервал: от 158 до 591 млн.руб.\n",
      "Вероятность убытка 0.0000%\n",
      "\n"
     ]
    },
    {
     "data": {
      "image/png": "[encoded data removed]",
      "text/plain": [
       "<Figure size 720x504 with 1 Axes>"
      ]
     },
     "metadata": {
      "needs_background": "light"
     },
     "output_type": "display_data"
    }
   ],
   "source": [
    "values_predict(predict_valid_3, 3)"
   ]
  },
  {
   "cell_type": "markdown",
   "metadata": {},
   "source": [
    "**Вывод**\n",
    "\n",
    "Построив модель отбора лучших скважин региона их списка прогнозных данных, мы достигли значений, значительно превышающих безубыточный уровень. \n",
    "\n",
    "Учитывая имеющийся уровень среднеквадратичного отклонения, мы не можем полагаться на показатели лучших скважин одной выборки. Поэтому, методом Bootstrap были сформированы 1000 выборок, по которым выявлено среднее значения прибыли региона. Все полученные значения выше безубыточного уровня. Ни один регион не показал вероятность убытка выше 2%\n",
    "\n",
    "**Наивысший уровень прибыли достигается в третьем регионе**. Таким образом, разработку надо вести именно в этом регионе."
   ]
  },
  {
   "cell_type": "code",
   "execution_count": null,
   "metadata": {},
   "outputs": [],
   "source": []
  }
 ],
 "metadata": {
  "ExecuteTimeLog": [
   {
    "duration": 1394,
    "start_time": "2022-05-26T19:42:27.654Z"
   },
   {
    "duration": 3,
    "start_time": "2022-05-26T19:42:29.050Z"
   },
   {
    "duration": 7,
    "start_time": "2022-05-26T19:42:29.055Z"
   },
   {
    "duration": 447,
    "start_time": "2022-05-26T19:42:29.064Z"
   },
   {
    "duration": 262,
    "start_time": "2022-05-26T19:42:29.512Z"
   },
   {
    "duration": 270,
    "start_time": "2022-05-26T19:42:29.775Z"
   },
   {
    "duration": 8,
    "start_time": "2022-05-26T19:42:30.046Z"
   },
   {
    "duration": 33,
    "start_time": "2022-05-26T19:42:30.056Z"
   },
   {
    "duration": 344,
    "start_time": "2022-05-26T19:42:30.090Z"
   },
   {
    "duration": 6,
    "start_time": "2022-05-26T19:42:30.437Z"
   },
   {
    "duration": 99,
    "start_time": "2022-05-26T19:42:30.528Z"
   },
   {
    "duration": 46,
    "start_time": "2022-05-26T19:42:30.629Z"
   },
   {
    "duration": 7,
    "start_time": "2022-05-26T19:42:30.677Z"
   },
   {
    "duration": 422,
    "start_time": "2022-05-26T19:42:30.685Z"
   },
   {
    "duration": 418,
    "start_time": "2022-05-26T19:42:31.109Z"
   },
   {
    "duration": 420,
    "start_time": "2022-05-26T19:42:31.529Z"
   },
   {
    "duration": 308,
    "start_time": "2022-05-26T19:47:29.328Z"
   },
   {
    "duration": 278,
    "start_time": "2022-05-26T19:47:35.650Z"
   },
   {
    "duration": 1531,
    "start_time": "2022-05-27T19:56:28.517Z"
   },
   {
    "duration": 3,
    "start_time": "2022-05-27T19:56:30.050Z"
   },
   {
    "duration": 5,
    "start_time": "2022-05-27T19:56:30.058Z"
   },
   {
    "duration": 573,
    "start_time": "2022-05-27T19:56:30.065Z"
   },
   {
    "duration": 644,
    "start_time": "2022-05-27T19:56:30.640Z"
   },
   {
    "duration": 609,
    "start_time": "2022-05-27T19:56:31.285Z"
   },
   {
    "duration": 12,
    "start_time": "2022-05-27T19:56:31.896Z"
   },
   {
    "duration": 36,
    "start_time": "2022-05-27T19:56:31.910Z"
   },
   {
    "duration": 57,
    "start_time": "2022-05-27T19:56:31.947Z"
   },
   {
    "duration": 360,
    "start_time": "2022-05-27T19:56:32.006Z"
   },
   {
    "duration": 4,
    "start_time": "2022-05-27T19:56:32.369Z"
   },
   {
    "duration": 90,
    "start_time": "2022-05-27T19:56:32.374Z"
   },
   {
    "duration": 118,
    "start_time": "2022-05-27T19:56:32.466Z"
   },
   {
    "duration": 8,
    "start_time": "2022-05-27T19:56:32.586Z"
   },
   {
    "duration": 439,
    "start_time": "2022-05-27T19:56:32.595Z"
   },
   {
    "duration": 390,
    "start_time": "2022-05-27T19:56:33.036Z"
   },
   {
    "duration": 399,
    "start_time": "2022-05-27T19:56:33.427Z"
   },
   {
    "duration": 21,
    "start_time": "2022-05-27T21:26:20.573Z"
   },
   {
    "duration": 14,
    "start_time": "2022-05-27T21:26:22.428Z"
   },
   {
    "duration": 6,
    "start_time": "2022-05-27T21:28:07.380Z"
   },
   {
    "duration": 390,
    "start_time": "2022-05-27T21:28:18.176Z"
   },
   {
    "duration": 8,
    "start_time": "2022-05-27T21:41:41.019Z"
   },
   {
    "duration": 516,
    "start_time": "2022-05-27T21:41:46.959Z"
   },
   {
    "duration": 7,
    "start_time": "2022-05-27T21:51:47.708Z"
   },
   {
    "duration": 387,
    "start_time": "2022-05-27T21:51:49.572Z"
   },
   {
    "duration": 6,
    "start_time": "2022-05-27T22:00:48.763Z"
   },
   {
    "duration": 373,
    "start_time": "2022-05-27T22:00:50.096Z"
   },
   {
    "duration": 6,
    "start_time": "2022-05-27T22:02:01.718Z"
   },
   {
    "duration": 371,
    "start_time": "2022-05-27T22:02:04.291Z"
   },
   {
    "duration": 527,
    "start_time": "2022-05-27T22:02:19.066Z"
   },
   {
    "duration": 406,
    "start_time": "2022-05-27T22:02:28.792Z"
   },
   {
    "duration": 6,
    "start_time": "2022-05-27T22:04:32.669Z"
   },
   {
    "duration": 6,
    "start_time": "2022-05-27T22:04:32.680Z"
   },
   {
    "duration": 4,
    "start_time": "2022-05-27T22:04:32.697Z"
   },
   {
    "duration": 210,
    "start_time": "2022-05-27T22:04:32.703Z"
   },
   {
    "duration": 193,
    "start_time": "2022-05-27T22:04:32.915Z"
   },
   {
    "duration": 186,
    "start_time": "2022-05-27T22:04:33.110Z"
   },
   {
    "duration": 7,
    "start_time": "2022-05-27T22:04:33.298Z"
   },
   {
    "duration": 26,
    "start_time": "2022-05-27T22:04:33.307Z"
   },
   {
    "duration": 60,
    "start_time": "2022-05-27T22:04:33.334Z"
   },
   {
    "duration": 369,
    "start_time": "2022-05-27T22:04:33.396Z"
   },
   {
    "duration": 4,
    "start_time": "2022-05-27T22:04:33.767Z"
   },
   {
    "duration": 95,
    "start_time": "2022-05-27T22:04:33.773Z"
   },
   {
    "duration": 26,
    "start_time": "2022-05-27T22:04:33.871Z"
   },
   {
    "duration": 20,
    "start_time": "2022-05-27T22:04:33.900Z"
   },
   {
    "duration": 6,
    "start_time": "2022-05-27T22:04:33.922Z"
   },
   {
    "duration": 423,
    "start_time": "2022-05-27T22:04:33.929Z"
   },
   {
    "duration": 408,
    "start_time": "2022-05-27T22:04:34.359Z"
   },
   {
    "duration": 414,
    "start_time": "2022-05-27T22:04:34.769Z"
   }
  ],
  "kernelspec": {
   "display_name": "Python 3",
   "language": "python",
   "name": "python3"
  },
  "language_info": {
   "codemirror_mode": {
    "name": "ipython",
    "version": 3
   },
   "file_extension": ".py",
   "mimetype": "text/x-python",
   "name": "python",
   "nbconvert_exporter": "python",
   "pygments_lexer": "ipython3",
   "version": "3.7.3"
  },
  "toc": {
   "base_numbering": 1,
   "nav_menu": {},
   "number_sections": true,
   "sideBar": true,
   "skip_h1_title": true,
   "title_cell": "Table of Contents",
   "title_sidebar": "Contents",
   "toc_cell": false,
   "toc_position": {},
   "toc_section_display": true,
   "toc_window_display": false
  }
 },
 "nbformat": 4,
 "nbformat_minor": 2
}
