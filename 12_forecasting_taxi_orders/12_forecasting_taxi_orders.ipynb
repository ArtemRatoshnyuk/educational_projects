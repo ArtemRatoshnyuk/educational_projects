{
 "cells": [
  {
   "cell_type": "markdown",
   "metadata": {},
   "source": [
    "#  Прогнозирование заказов такси"
   ]
  },
  {
   "cell_type": "markdown",
   "metadata": {},
   "source": [
    "Компания «Чётенькое такси» собрала исторические данные о заказах такси в аэропортах. Чтобы привлекать больше водителей в период пиковой нагрузки, нужно спрогнозировать количество заказов такси на следующий час. Постройте модель для такого предсказания.\n",
    "\n",
    "Значение метрики *RMSE* на тестовой выборке должно быть не больше 48.\n",
    "\n",
    "Вам нужно:\n",
    "\n",
    "1. Загрузить данные и выполнить их ресемплирование по одному часу.\n",
    "2. Проанализировать данные.\n",
    "3. Обучить разные модели с различными гиперпараметрами. Сделать тестовую выборку размером 10% от исходных данных.\n",
    "4. Проверить данные на тестовой выборке и сделать выводы.\n",
    "\n",
    "\n",
    "Данные лежат в файле `taxi.csv`. Количество заказов находится в столбце `num_orders` (от англ. *number of orders*, «число заказов»)."
   ]
  },
  {
   "cell_type": "markdown",
   "metadata": {},
   "source": [
    "**Заказчик.** Компания «Чётенькое такси»\n",
    "\n",
    "**Цель Заказчика.** Прогнозирование количества заказов такси на следующий час для большего привлечения водителей в аэропорт в период пиковой нагрузки.\n",
    "\n",
    "**Цель исследования.** Построить модель для прогнозирования количества заказов такси на следующий час при значение метрики RMSE на тестовой выборке не больше 48.\n",
    "\n",
    "**Задачи:**\n",
    "\n",
    "- Загрузить данные и выполнить их ресемплирование по одному часу.\n",
    "- Проанализировать данные.\n",
    "- Обучить разные модели с различными гиперпараметрами. Сделать тестовую выборку размером 10% от исходных данных.\n",
    "- Проверить данные на тестовой выборке и сделать выводы\n",
    "\n",
    "**Входные данные от Заказчика.** Файл в формате .csv с данными о количестве заказов\n",
    "\n",
    "**Ожидаемый результат.** Построена модель для предсказания количества заказов такси на следующий час, со значением метрики RMSE менее 48."
   ]
  },
  {
   "cell_type": "markdown",
   "metadata": {},
   "source": [
    "## Подготовка"
   ]
  },
  {
   "cell_type": "markdown",
   "metadata": {},
   "source": [
    "**Признаки**\n",
    "\n",
    "- `datetime` — интервал времени\n",
    "\n",
    "**Цеоевой признак**\n",
    "\n",
    "- `num_orders` — количество заказов"
   ]
  },
  {
   "cell_type": "code",
   "execution_count": 24,
   "metadata": {},
   "outputs": [],
   "source": [
    "# Импотрт библиотек\n",
    "import pandas as pd\n",
    "import numpy as np\n",
    "import seaborn as sns\n",
    "import matplotlib.pyplot as plt\n",
    "from numpy.random import RandomState\n",
    "\n",
    "from sklearn.tree import DecisionTreeRegressor\n",
    "from sklearn.ensemble import RandomForestRegressor\n",
    "from sklearn.linear_model import LinearRegression\n",
    "\n",
    "from sklearn.model_selection import cross_val_score # кросс-вылидация\n",
    "from sklearn.model_selection import GridSearchCV # кросс-вылидация\n",
    "from sklearn.model_selection import TimeSeriesSplit\n",
    "from sklearn.model_selection import train_test_split\n",
    "from sklearn.preprocessing import StandardScaler # стандартизация\n",
    "from sklearn.dummy import DummyRegressor\n",
    "from sklearn.metrics import mean_squared_error\n",
    "\n",
    "from statsmodels.tsa.seasonal import seasonal_decompose # Сезонность и тренд временного ряда\n"
   ]
  },
  {
   "cell_type": "code",
   "execution_count": 25,
   "metadata": {},
   "outputs": [
    {
     "data": {
      "text/html": [
       "<div>\n",
       "<style scoped>\n",
       "    .dataframe tbody tr th:only-of-type {\n",
       "        vertical-align: middle;\n",
       "    }\n",
       "\n",
       "    .dataframe tbody tr th {\n",
       "        vertical-align: top;\n",
       "    }\n",
       "\n",
       "    .dataframe thead th {\n",
       "        text-align: right;\n",
       "    }\n",
       "</style>\n",
       "<table border=\"1\" class=\"dataframe\">\n",
       "  <thead>\n",
       "    <tr style=\"text-align: right;\">\n",
       "      <th></th>\n",
       "      <th>num_orders</th>\n",
       "    </tr>\n",
       "    <tr>\n",
       "      <th>datetime</th>\n",
       "      <th></th>\n",
       "    </tr>\n",
       "  </thead>\n",
       "  <tbody>\n",
       "    <tr>\n",
       "      <th>2018-03-01 00:00:00</th>\n",
       "      <td>9</td>\n",
       "    </tr>\n",
       "    <tr>\n",
       "      <th>2018-03-01 00:10:00</th>\n",
       "      <td>14</td>\n",
       "    </tr>\n",
       "    <tr>\n",
       "      <th>2018-03-01 00:20:00</th>\n",
       "      <td>28</td>\n",
       "    </tr>\n",
       "    <tr>\n",
       "      <th>2018-03-01 00:30:00</th>\n",
       "      <td>20</td>\n",
       "    </tr>\n",
       "    <tr>\n",
       "      <th>2018-03-01 00:40:00</th>\n",
       "      <td>32</td>\n",
       "    </tr>\n",
       "  </tbody>\n",
       "</table>\n",
       "</div>"
      ],
      "text/plain": [
       "                     num_orders\n",
       "datetime                       \n",
       "2018-03-01 00:00:00           9\n",
       "2018-03-01 00:10:00          14\n",
       "2018-03-01 00:20:00          28\n",
       "2018-03-01 00:30:00          20\n",
       "2018-03-01 00:40:00          32"
      ]
     },
     "execution_count": 25,
     "metadata": {},
     "output_type": "execute_result"
    }
   ],
   "source": [
    "# Прочитаем файл и переведем временной ряд в индекс \n",
    "try:\n",
    "    df = pd.read_csv('/datasets/taxi.csv', index_col=[0], parse_dates=[0])\n",
    "    \n",
    "except FileNotFoundError:\n",
    "    df = pd.read_csv('C:\\\\Users\\\\Aser\\\\Первый ноутбук\\\\Projects\\\\data\\\\taxi.csv', \n",
    "                     index_col=[0], parse_dates=[0])\n",
    "\n",
    "df.head()"
   ]
  },
  {
   "cell_type": "code",
   "execution_count": 26,
   "metadata": {},
   "outputs": [
    {
     "data": {
      "text/plain": [
       "True"
      ]
     },
     "execution_count": 26,
     "metadata": {},
     "output_type": "execute_result"
    }
   ],
   "source": [
    "# Проверим временной ряд на монотонность\n",
    "df.index.is_monotonic"
   ]
  },
  {
   "cell_type": "code",
   "execution_count": 27,
   "metadata": {
    "scrolled": true
   },
   "outputs": [
    {
     "data": {
      "text/html": [
       "<div>\n",
       "<style scoped>\n",
       "    .dataframe tbody tr th:only-of-type {\n",
       "        vertical-align: middle;\n",
       "    }\n",
       "\n",
       "    .dataframe tbody tr th {\n",
       "        vertical-align: top;\n",
       "    }\n",
       "\n",
       "    .dataframe thead th {\n",
       "        text-align: right;\n",
       "    }\n",
       "</style>\n",
       "<table border=\"1\" class=\"dataframe\">\n",
       "  <thead>\n",
       "    <tr style=\"text-align: right;\">\n",
       "      <th></th>\n",
       "      <th>num_orders</th>\n",
       "    </tr>\n",
       "    <tr>\n",
       "      <th>datetime</th>\n",
       "      <th></th>\n",
       "    </tr>\n",
       "  </thead>\n",
       "  <tbody>\n",
       "    <tr>\n",
       "      <th>2018-03-01 00:00:00</th>\n",
       "      <td>124</td>\n",
       "    </tr>\n",
       "    <tr>\n",
       "      <th>2018-03-01 01:00:00</th>\n",
       "      <td>85</td>\n",
       "    </tr>\n",
       "    <tr>\n",
       "      <th>2018-03-01 02:00:00</th>\n",
       "      <td>71</td>\n",
       "    </tr>\n",
       "    <tr>\n",
       "      <th>2018-03-01 03:00:00</th>\n",
       "      <td>66</td>\n",
       "    </tr>\n",
       "    <tr>\n",
       "      <th>2018-03-01 04:00:00</th>\n",
       "      <td>43</td>\n",
       "    </tr>\n",
       "  </tbody>\n",
       "</table>\n",
       "</div>"
      ],
      "text/plain": [
       "                     num_orders\n",
       "datetime                       \n",
       "2018-03-01 00:00:00         124\n",
       "2018-03-01 01:00:00          85\n",
       "2018-03-01 02:00:00          71\n",
       "2018-03-01 03:00:00          66\n",
       "2018-03-01 04:00:00          43"
      ]
     },
     "execution_count": 27,
     "metadata": {},
     "output_type": "execute_result"
    }
   ],
   "source": [
    "# Выполним ресемплированиеданных по одному часу\n",
    "\n",
    "df = df.resample('1H').sum()\n",
    "df.head()"
   ]
  },
  {
   "cell_type": "markdown",
   "metadata": {},
   "source": [
    "**Выводы**\n",
    "\n",
    "В предложенном файле временной рад монотонные, что не требует дополнительно сортировки. Ресемплирование проведено по интервалу в 1 час"
   ]
  },
  {
   "cell_type": "markdown",
   "metadata": {},
   "source": [
    "## Анализ"
   ]
  },
  {
   "cell_type": "code",
   "execution_count": 28,
   "metadata": {
    "scrolled": true
   },
   "outputs": [
    {
     "name": "stdout",
     "output_type": "stream",
     "text": [
      "<class 'pandas.core.frame.DataFrame'>\n",
      "DatetimeIndex: 4416 entries, 2018-03-01 00:00:00 to 2018-08-31 23:00:00\n",
      "Freq: H\n",
      "Data columns (total 1 columns):\n",
      " #   Column      Non-Null Count  Dtype\n",
      "---  ------      --------------  -----\n",
      " 0   num_orders  4416 non-null   int64\n",
      "dtypes: int64(1)\n",
      "memory usage: 69.0 KB\n"
     ]
    }
   ],
   "source": [
    "# Изучим данные методом info\n",
    "df.info()"
   ]
  },
  {
   "cell_type": "code",
   "execution_count": 29,
   "metadata": {},
   "outputs": [
    {
     "data": {
      "text/plain": [
       "<Figure size 504x720 with 0 Axes>"
      ]
     },
     "metadata": {},
     "output_type": "display_data"
    },
    {
     "data": {
      "image/png": "[encoded data removed]",
      "text/plain": [
       "<Figure size 432x288 with 1 Axes>"
      ]
     },
     "metadata": {
      "needs_background": "light"
     },
     "output_type": "display_data"
    }
   ],
   "source": [
    "plt.figure(figsize=(7, 10))\n",
    "df.plot()\n",
    "plt.show()"
   ]
  },
  {
   "cell_type": "code",
   "execution_count": 30,
   "metadata": {},
   "outputs": [
    {
     "data": {
      "text/plain": [
       "<AxesSubplot:xlabel='datetime'>"
      ]
     },
     "execution_count": 30,
     "metadata": {},
     "output_type": "execute_result"
    },
    {
     "data": {
      "image/png": "[encoded data removed]",
      "text/plain": [
       "<Figure size 432x288 with 1 Axes>"
      ]
     },
     "metadata": {
      "needs_background": "light"
     },
     "output_type": "display_data"
    }
   ],
   "source": [
    "df['rolling_mean'] = df.rolling(7).mean()\n",
    "df.plot()"
   ]
  },
  {
   "cell_type": "code",
   "execution_count": 31,
   "metadata": {},
   "outputs": [
    {
     "data": {
      "image/png": "[encoded data removed]",
      "text/plain": [
       "<Figure size 504x360 with 1 Axes>"
      ]
     },
     "metadata": {
      "needs_background": "light"
     },
     "output_type": "display_data"
    }
   ],
   "source": [
    "decomposid = seasonal_decompose(df['num_orders'])\n",
    "\n",
    "plt.figure(figsize=(7, 5))\n",
    "plt.subplot()\n",
    "decomposid.trend.plot(ax=plt.gca())\n",
    "decomposid.seasonal.plot(ax=plt.gca())\n",
    "plt.title('Trend - Seasonal')\n",
    "plt.tight_layout()"
   ]
  },
  {
   "cell_type": "code",
   "execution_count": 32,
   "metadata": {},
   "outputs": [
    {
     "data": {
      "text/plain": [
       "Text(0.5, 1.0, 'season_short')"
      ]
     },
     "execution_count": 32,
     "metadata": {},
     "output_type": "execute_result"
    },
    {
     "data": {
      "image/png": "[encoded data removed]",
      "text/plain": [
       "<Figure size 504x360 with 1 Axes>"
      ]
     },
     "metadata": {
      "needs_background": "light"
     },
     "output_type": "display_data"
    }
   ],
   "source": [
    "plt.figure(figsize=(7, 5))\n",
    "plt.subplot()\n",
    "decomposid.seasonal['2018-03-01':'2018-03-15'].plot(ax=plt.gca())\n",
    "plt.title('season_short')"
   ]
  },
  {
   "cell_type": "markdown",
   "metadata": {},
   "source": [
    "**Выводы**\n",
    "\n",
    "Файл содержит 1 столбец с количеством заказов в течение часа. Всего 4416 строк, числового типа, без пропусков.\n",
    "\n",
    "Графики распределения по времени и скользящей средней показывают на наличие восходящего тренда\n",
    "\n",
    "При этом, сезонность постоянная, на коротком временном интервале видно, что ряд стационарный, из чего следует, что можно строить прогноз"
   ]
  },
  {
   "cell_type": "markdown",
   "metadata": {},
   "source": [
    "## Обучение"
   ]
  },
  {
   "cell_type": "code",
   "execution_count": 33,
   "metadata": {},
   "outputs": [],
   "source": [
    "# введем константу\n",
    "state = RandomState(12345)"
   ]
  },
  {
   "cell_type": "code",
   "execution_count": 34,
   "metadata": {},
   "outputs": [],
   "source": [
    "# Выделим тестовую выборку\n",
    "train, test = train_test_split(df, test_size=.1, shuffle=False, random_state=state)"
   ]
  },
  {
   "cell_type": "code",
   "execution_count": 35,
   "metadata": {},
   "outputs": [
    {
     "name": "stdout",
     "output_type": "stream",
     "text": [
      "Качество константной модели по RMSE 87.1528\n"
     ]
    }
   ],
   "source": [
    "# Оценим качество прогноза константной моделью\n",
    "pred_median = [train['num_orders'].median() for i in range(len(test['num_orders']))]\n",
    "rmse_pred_median = (mean_squared_error(test['num_orders'], pred_median)) ** 0.5\n",
    "print(f'Качество константной модели по RMSE {rmse_pred_median:.4f}')"
   ]
  },
  {
   "cell_type": "code",
   "execution_count": 36,
   "metadata": {},
   "outputs": [
    {
     "name": "stdout",
     "output_type": "stream",
     "text": [
      "Качество модели по предыдущим значениям по RMSE 58.8565\n"
     ]
    }
   ],
   "source": [
    "# Оценим качество прогноза моделью по предыдущим значениям\n",
    "pred_previous = test['num_orders'].shift(fill_value=int(train.iloc[-1, 0]))\n",
    "rmse_pred_previous = (mean_squared_error(test['num_orders'], pred_previous)) ** 0.5\n",
    "print(f'Качество модели по предыдущим значениям по RMSE {rmse_pred_previous:.4f}')"
   ]
  },
  {
   "cell_type": "code",
   "execution_count": 37,
   "metadata": {},
   "outputs": [],
   "source": [
    "# Уберем столбец со сколбзящей средней\n",
    "df.drop(['rolling_mean'], axis=1, inplace=True)"
   ]
  },
  {
   "cell_type": "code",
   "execution_count": 38,
   "metadata": {},
   "outputs": [],
   "source": [
    "# Напшем функцию создания признаков\n",
    "def make_features(df, max_lag, rolling_mean_size):\n",
    "    df_new = df.copy()\n",
    "    df_new['month'] = df_new.index.month\n",
    "    df_new['day_week'] = df_new.index.dayofweek\n",
    "    df_new['day'] = df_new.index.day\n",
    "    df_new['hour'] = df_new.index.hour\n",
    "    \n",
    "    for i in range (1, max_lag+1):\n",
    "        a = 'lag_' + str(i)\n",
    "        df_new[a] = df_new['num_orders'].shift(i)\n",
    "    \n",
    "    df_new['rolling_mean'] = df_new['num_orders'].shift().rolling(rolling_mean_size).mean()\n",
    "    \n",
    "    # кодирование\n",
    "    df_new = pd.get_dummies(df_new, columns=['month'], drop_first=True)\n",
    "    df_new = pd.get_dummies(df_new, columns=['day_week'], drop_first=True)\n",
    "    df_new = pd.get_dummies(df_new, columns=['day'], drop_first=True)\n",
    "    df_new = pd.get_dummies(df_new, columns=['hour'], drop_first=True)\n",
    "    \n",
    "    return df_new"
   ]
  },
  {
   "cell_type": "code",
   "execution_count": 39,
   "metadata": {
    "scrolled": true
   },
   "outputs": [
    {
     "name": "stdout",
     "output_type": "stream",
     "text": [
      "При количестве сдвигов 2 и окне 2 среднрий показатель RMSE 881684292775.7340\n",
      "При количестве сдвигов 3 и окне 2 среднрий показатель RMSE 648707827296.1135\n",
      "При количестве сдвигов 4 и окне 2 среднрий показатель RMSE 556890442070.7235\n",
      "При количестве сдвигов 5 и окне 2 среднрий показатель RMSE 893410592533.0752\n",
      "При количестве сдвигов 6 и окне 2 среднрий показатель RMSE 823249853757.8511\n",
      "При количестве сдвигов 7 и окне 2 среднрий показатель RMSE 123962827603.6376\n",
      "При количестве сдвигов 2 и окне 3 среднрий показатель RMSE 739765718000.2014\n",
      "При количестве сдвигов 3 и окне 3 среднрий показатель RMSE 41908229613.7252\n",
      "При количестве сдвигов 4 и окне 3 среднрий показатель RMSE 284379725128.3466\n",
      "При количестве сдвигов 5 и окне 3 среднрий показатель RMSE 91485648044.9439\n",
      "При количестве сдвигов 6 и окне 3 среднрий показатель RMSE 36446376889.7391\n",
      "При количестве сдвигов 7 и окне 3 среднрий показатель RMSE 28.9830\n",
      "При количестве сдвигов 2 и окне 4 среднрий показатель RMSE 1792841576975.5938\n",
      "При количестве сдвигов 3 и окне 4 среднрий показатель RMSE 1846140535267.9414\n",
      "При количестве сдвигов 4 и окне 4 среднрий показатель RMSE 247557211437.4430\n",
      "При количестве сдвигов 5 и окне 4 среднрий показатель RMSE 399122415544.4035\n",
      "При количестве сдвигов 6 и окне 4 среднрий показатель RMSE 471395147646.4861\n",
      "При количестве сдвигов 7 и окне 4 среднрий показатель RMSE 159133788957.9502\n",
      "При количестве сдвигов 2 и окне 5 среднрий показатель RMSE 2691116259169.3433\n",
      "При количестве сдвигов 3 и окне 5 среднрий показатель RMSE 577047468697.5774\n",
      "При количестве сдвигов 4 и окне 5 среднрий показатель RMSE 525444641886.4540\n",
      "При количестве сдвигов 5 и окне 5 среднрий показатель RMSE 22520865041.0650\n",
      "При количестве сдвигов 6 и окне 5 среднрий показатель RMSE 380317829874.3948\n",
      "При количестве сдвигов 7 и окне 5 среднрий показатель RMSE 95364991952.6327\n",
      "При количестве сдвигов 2 и окне 6 среднрий показатель RMSE 1452355026434.9761\n",
      "При количестве сдвигов 3 и окне 6 среднрий показатель RMSE 134299213337.0473\n",
      "При количестве сдвигов 4 и окне 6 среднрий показатель RMSE 1739851313886.5771\n",
      "При количестве сдвигов 5 и окне 6 среднрий показатель RMSE 1221240612487.7703\n",
      "При количестве сдвигов 6 и окне 6 среднрий показатель RMSE 1575366025389.2585\n",
      "При количестве сдвигов 7 и окне 6 среднрий показатель RMSE 146633738934.3081\n",
      "При количестве сдвигов 2 и окне 7 среднрий показатель RMSE 4305664195564.8516\n",
      "При количестве сдвигов 3 и окне 7 среднрий показатель RMSE 436518494197.8671\n",
      "При количестве сдвигов 4 и окне 7 среднрий показатель RMSE 1652635399353.0518\n",
      "При количестве сдвигов 5 и окне 7 среднрий показатель RMSE 421955445701.7972\n",
      "При количестве сдвигов 6 и окне 7 среднрий показатель RMSE 1140165380574.5708\n",
      "При количестве сдвигов 7 и окне 7 среднрий показатель RMSE 508745687533.5157\n",
      "\n",
      "Лучший средний показатель RMSE 28.9830 при количестве сдвигов 7 и окне 3\n"
     ]
    }
   ],
   "source": [
    "# Определим лучшие параметры методом кросс-валидации\n",
    "\n",
    "best_rmse_reg = 1000\n",
    "best_lag_reg = 0\n",
    "best_roll_reg = 0\n",
    "\n",
    "for roll in range(2, 8):\n",
    "    for lag in range(2, 8):\n",
    "\n",
    "        df_cv = make_features(df, lag, roll)\n",
    "        train, test = train_test_split(df_cv, test_size=.1, shuffle=False, random_state=state)\n",
    "        train = train.dropna()\n",
    "        test = test.dropna()\n",
    "\n",
    "        featere_train = np.array(train.drop(['num_orders'], axis=1))\n",
    "        target_train = np.array(train['num_orders'])\n",
    "        \n",
    "        featere_test = test.drop(['num_orders'], axis=1)\n",
    "        target_test = test['num_orders']\n",
    "\n",
    "        rmse_list = []\n",
    "\n",
    "        # Проверим параметры кросс-валидацией\n",
    "        tscv = TimeSeriesSplit()\n",
    "        for train_index, test_index in tscv.split(featere_train):\n",
    "            X_train, X_test = featere_train[train_index], featere_train[test_index]\n",
    "            y_train, y_test = target_train[train_index], target_train[test_index]\n",
    "    \n",
    "            model = LinearRegression()\n",
    "            model.fit(X_train, y_train)\n",
    "        \n",
    "            answer = model.predict(X_test)\n",
    "            rmse = (mean_squared_error(y_test, answer)) ** 0.5\n",
    "            rmse_list.append(rmse)\n",
    "    \n",
    "        # Рассчитаем среднее качество модели\n",
    "        fin_rmse = sum(rmse_list) / len(rmse_list)\n",
    "\n",
    "        if best_rmse_reg > fin_rmse:\n",
    "            best_rmse_reg = fin_rmse\n",
    "            best_lag_reg = lag\n",
    "            best_roll_reg = roll\n",
    "        \n",
    "        print(f'При количестве сдвигов {lag} и окне {roll} среднрий показатель RMSE {fin_rmse:.4f}')\n",
    "        df_cv = df_cv.loc[:, ['num_orders']]\n",
    "print()\n",
    "print(f'Лучший средний показатель RMSE {best_rmse_reg:.4f} при количестве сдвигов {best_lag_reg} и окне {best_roll_reg}')"
   ]
  },
  {
   "cell_type": "code",
   "execution_count": 40,
   "metadata": {},
   "outputs": [],
   "source": [
    "# Построим модель с лучшими праметрами\n",
    "df_pred = make_features(df, best_lag_reg, best_roll_reg)\n",
    "\n",
    "train, test = train_test_split(df_pred, test_size=.1, shuffle=False, random_state=state)\n",
    "train = train.dropna()\n",
    "test = test.dropna()\n",
    "    \n",
    "featere_train = train.drop(['num_orders'], axis=1)\n",
    "target_train = train['num_orders']\n",
    "        \n",
    "featere_test = test.drop(['num_orders'], axis=1)\n",
    "target_test = test['num_orders']\n"
   ]
  },
  {
   "cell_type": "code",
   "execution_count": 41,
   "metadata": {},
   "outputs": [],
   "source": [
    "best_model = None\n",
    "best_rmse = 1000"
   ]
  },
  {
   "cell_type": "code",
   "execution_count": 42,
   "metadata": {},
   "outputs": [
    {
     "name": "stdout",
     "output_type": "stream",
     "text": [
      "Лучший показатель RMSE 44.7452 при количестве сдвигов 7 и окне 3\n"
     ]
    }
   ],
   "source": [
    "# Построим прогноз на линейной моделе с лучшими праметрами\n",
    "\n",
    "model_reg = LinearRegression()\n",
    "model_reg.fit(featere_train, target_train)\n",
    "        \n",
    "answer_reg = model_reg.predict(featere_test)\n",
    "rmse_reg = (mean_squared_error(target_test, answer_reg)) ** 0.5\n",
    "\n",
    "print(f'Лучший показатель RMSE {rmse_reg:.4f} при количестве сдвигов {best_lag_reg} и окне {best_roll_reg}')\n",
    "\n",
    "if best_rmse > rmse_reg:\n",
    "    best_rmse = rmse_reg\n",
    "    best_model = model_reg"
   ]
  },
  {
   "cell_type": "code",
   "execution_count": 43,
   "metadata": {
    "scrolled": true
   },
   "outputs": [
    {
     "name": "stdout",
     "output_type": "stream",
     "text": [
      "Лучший параметр глубины - 5\n",
      "Лучший показатель RMSE 53.8281 при глубине дерева 5\n"
     ]
    }
   ],
   "source": [
    "# Подберем лучшие параметры Решающего дерева методом TimeSeriesSplit\n",
    "\n",
    "best_rmse_tree = 1000\n",
    "best_depth_tree = 0\n",
    "\n",
    "featere_train_1 = np.array(featere_train)\n",
    "target_train_1 = np.array(target_train)\n",
    "\n",
    "for dep in range(5, 16):\n",
    "    rmse_list = []\n",
    "\n",
    "    \n",
    "    # Проверим параметры кросс-валидацией\n",
    "    tscv = TimeSeriesSplit()\n",
    "    for train_index, test_index in tscv.split(featere_train_1):\n",
    "        X_train, X_test = featere_train_1[train_index], featere_train_1[test_index]\n",
    "        y_train, y_test = target_train_1[train_index], target_train_1[test_index]\n",
    "    \n",
    "        model = DecisionTreeRegressor(max_depth=dep, random_state=state)\n",
    "        model.fit(X_train, y_train)\n",
    "        \n",
    "        answer = model.predict(X_test)\n",
    "        rmse = (mean_squared_error(y_test, answer)) ** 0.5\n",
    "        rmse_list.append(rmse)\n",
    "    \n",
    "    # Рассчитаем среднее качество модели\n",
    "    fin_rmse = sum(rmse_list) / len(rmse_list)\n",
    "\n",
    "    if best_rmse_tree > fin_rmse:\n",
    "        best_rmse_tree = fin_rmse\n",
    "        best_depth_tree = dep\n",
    "\n",
    "print(f'Лучший параметр глубины - {best_depth_tree}')\n",
    "\n",
    "# Обучим и проверим модель с подобранными параметрами\n",
    "model_tree_ok = DecisionTreeRegressor(max_depth=best_depth_tree, random_state=state)\n",
    "model_tree_ok.fit(featere_train, target_train)\n",
    "    \n",
    "answer_tree_ok = model_tree_ok.predict(featere_test)\n",
    "rmse_tree = (mean_squared_error(target_test, answer_tree_ok)) ** 0.5\n",
    "\n",
    "print(f'Лучший показатель RMSE {rmse_tree:.4f} при глубине дерева {best_depth_tree}')\n",
    "\n",
    "if best_rmse > rmse_tree:\n",
    "    best_rmse = rmse_tree\n",
    "    best_model = model_tree_ok"
   ]
  },
  {
   "cell_type": "code",
   "execution_count": 44,
   "metadata": {},
   "outputs": [
    {
     "name": "stdout",
     "output_type": "stream",
     "text": [
      "Лучший параметр числа деревьев - 60\n",
      "Лучший показатель RMSE 53.3384 при числе деревьев 60\n"
     ]
    }
   ],
   "source": [
    "# Подберем лучшие параметры Случайного леса методом TimeSeriesSplit\n",
    "\n",
    "best_rmse_forest = 1000\n",
    "best_est_forest = 0\n",
    "\n",
    "for est in range(10, 61, 10):\n",
    "    rmse_list = []\n",
    "\n",
    "    # Проверим параметры кросс-валидацией\n",
    "    tscv = TimeSeriesSplit()\n",
    "    for train_index, test_index in tscv.split(featere_train_1):\n",
    "        X_train, X_test = featere_train_1[train_index], featere_train_1[test_index]\n",
    "        y_train, y_test = target_train_1[train_index], target_train_1[test_index]\n",
    "    \n",
    "        model = RandomForestRegressor(max_depth=best_depth_tree, n_estimators=est, random_state=state)\n",
    "        model.fit(X_train, y_train)\n",
    "        \n",
    "        answer = model.predict(X_test)\n",
    "        rmse = (mean_squared_error(y_test, answer)) ** 0.5\n",
    "        rmse_list.append(rmse)\n",
    "    \n",
    "    # Рассчитаем среднее качество модели\n",
    "    fin_rmse = sum(rmse_list) / len(rmse_list)\n",
    "\n",
    "    if best_rmse_forest > fin_rmse:\n",
    "        best_rmse_forest = fin_rmse\n",
    "        best_est_forest = est\n",
    "\n",
    "print(f'Лучший параметр числа деревьев - {best_est_forest}')\n",
    "\n",
    "# Обучим и проверим модель с подобранными параметрами\n",
    "model_forest_ok = RandomForestRegressor(max_depth=best_depth_tree, n_estimators=best_est_forest, random_state=state)\n",
    "model_forest_ok.fit(featere_train, target_train)\n",
    "    \n",
    "answer_forest_ok = model_forest_ok.predict(featere_test)\n",
    "rmse_forest = (mean_squared_error(target_test, answer_forest_ok)) ** 0.5\n",
    "\n",
    "print(f'Лучший показатель RMSE {rmse_forest:.4f} при числе деревьев {best_est_forest}')\n",
    "\n",
    "if best_rmse > rmse_forest:\n",
    "    best_rmse = rmse_forest\n",
    "    best_model = model_forest_ok"
   ]
  },
  {
   "cell_type": "markdown",
   "metadata": {},
   "source": [
    "Лучший показатель RMSE **44.7452**\n",
    "\n",
    "Достигается на датасете с **количеством сдвигов 7 и окне 3**\n",
    "\n",
    "Достигается на моделе `Линейная регрессия`"
   ]
  },
  {
   "cell_type": "markdown",
   "metadata": {},
   "source": [
    "## Тестирование"
   ]
  },
  {
   "cell_type": "code",
   "execution_count": 45,
   "metadata": {
    "scrolled": true
   },
   "outputs": [
    {
     "name": "stdout",
     "output_type": "stream",
     "text": [
      "Лучшфя модель LinearRegression()\n",
      "На лучшей моделе достигается значение показателя RMSE 44.7452\n"
     ]
    }
   ],
   "source": [
    "df_test = make_features(df, best_lag_reg, best_roll_reg)\n",
    "\n",
    "train, test = train_test_split(df_test, test_size=.1, shuffle=False, random_state=state)\n",
    "train = train.dropna()\n",
    "test = test.dropna()\n",
    "    \n",
    "featere_train = train.drop(['num_orders'], axis=1)\n",
    "target_train = train['num_orders']\n",
    "        \n",
    "featere_test = test.drop(['num_orders'], axis=1)\n",
    "target_test = test['num_orders']\n",
    "\n",
    "predict = best_model.predict(featere_test)\n",
    "rmse = (mean_squared_error(target_test, predict)) ** 0.5\n",
    "\n",
    "print(f'Лучшфя модель {best_model}')\n",
    "print(f'На лучшей моделе достигается значение показателя RMSE {rmse:.4f}')\n"
   ]
  },
  {
   "cell_type": "code",
   "execution_count": 46,
   "metadata": {},
   "outputs": [
    {
     "data": {
      "image/png": "[encoded data removed]",
      "text/plain": [
       "<Figure size 504x360 with 1 Axes>"
      ]
     },
     "metadata": {
      "needs_background": "light"
     },
     "output_type": "display_data"
    }
   ],
   "source": [
    "# Построим график сопоставлнеия реальных и прогнозных значений\n",
    "\n",
    "plt.figure(figsize=(7, 5))\n",
    "sns.kdeplot(data=list(target_test), label='true')\n",
    "sns.kdeplot(data=list(predict), label='predict')\n",
    "plt.xlabel(\"Test results\")\n",
    "plt.title('true_vs_predict')\n",
    "plt.legend()\n",
    "plt.show()"
   ]
  },
  {
   "cell_type": "code",
   "execution_count": 47,
   "metadata": {},
   "outputs": [
    {
     "data": {
      "image/png": "[encoded data removed]",
      "text/plain": [
       "<Figure size 504x360 with 1 Axes>"
      ]
     },
     "metadata": {
      "needs_background": "light"
     },
     "output_type": "display_data"
    }
   ],
   "source": [
    "# Построим график временноо ряда\n",
    "\n",
    "predict_1 = pd.Series(predict)\n",
    "predict_1.index = target_test.index\n",
    "\n",
    "plt.figure(figsize=(7, 5))\n",
    "target_test.plot(label='true', legend=True)\n",
    "predict_1.plot(label='predict', legend=True)\n",
    "plt.title('true_vs_predict')\n",
    "plt.show()"
   ]
  },
  {
   "cell_type": "markdown",
   "metadata": {},
   "source": [
    "**Выводы**\n",
    "\n",
    "Предложенная модель `Линейной регрессии` для предсказания количества заказов такси на следующий час, обеспечивает точность по метрики RMSE 44.7452\n",
    "\n",
    "Для достижения этого показателя необходимо сформировать данные с учетом 7 сдвигов и размером окна 3 для параметра скользящее среднее\n",
    "\n",
    "Лучший показатель достигается на моделе `Линйной регрессии`"
   ]
  },
  {
   "cell_type": "code",
   "execution_count": null,
   "metadata": {},
   "outputs": [],
   "source": []
  }
 ],
 "metadata": {
  "ExecuteTimeLog": [
   {
    "duration": 1567,
    "start_time": "2022-07-16T09:08:47.464Z"
   },
   {
    "duration": 208,
    "start_time": "2022-07-16T09:08:49.033Z"
   },
   {
    "duration": 3,
    "start_time": "2022-07-16T09:08:49.243Z"
   },
   {
    "duration": 14,
    "start_time": "2022-07-16T09:08:49.248Z"
   },
   {
    "duration": 9,
    "start_time": "2022-07-16T09:08:49.264Z"
   },
   {
    "duration": 232,
    "start_time": "2022-07-16T09:08:49.275Z"
   },
   {
    "duration": 241,
    "start_time": "2022-07-16T09:08:49.511Z"
   },
   {
    "duration": 471,
    "start_time": "2022-07-16T09:08:49.754Z"
   },
   {
    "duration": 207,
    "start_time": "2022-07-16T09:08:50.227Z"
   },
   {
    "duration": 3,
    "start_time": "2022-07-16T09:08:50.437Z"
   },
   {
    "duration": 6,
    "start_time": "2022-07-16T09:08:50.442Z"
   },
   {
    "duration": 98,
    "start_time": "2022-07-16T09:08:50.450Z"
   },
   {
    "duration": 4,
    "start_time": "2022-07-16T09:08:50.550Z"
   },
   {
    "duration": 12,
    "start_time": "2022-07-16T09:08:50.556Z"
   },
   {
    "duration": 6,
    "start_time": "2022-07-16T09:08:50.569Z"
   },
   {
    "duration": 1160,
    "start_time": "2022-07-16T09:08:50.577Z"
   },
   {
    "duration": 276,
    "start_time": "2022-07-16T09:08:51.742Z"
   },
   {
    "duration": 1276,
    "start_time": "2022-07-16T09:08:52.027Z"
   },
   {
    "duration": 30,
    "start_time": "2022-07-16T09:08:53.305Z"
   },
   {
    "duration": 1530,
    "start_time": "2022-07-17T07:52:20.400Z"
   },
   {
    "duration": 122,
    "start_time": "2022-07-17T07:52:21.932Z"
   },
   {
    "duration": 4,
    "start_time": "2022-07-17T07:52:22.055Z"
   },
   {
    "duration": 20,
    "start_time": "2022-07-17T07:52:22.062Z"
   },
   {
    "duration": 10,
    "start_time": "2022-07-17T07:52:22.084Z"
   },
   {
    "duration": 238,
    "start_time": "2022-07-17T07:52:22.096Z"
   },
   {
    "duration": 243,
    "start_time": "2022-07-17T07:52:22.336Z"
   },
   {
    "duration": 484,
    "start_time": "2022-07-17T07:52:22.581Z"
   },
   {
    "duration": 187,
    "start_time": "2022-07-17T07:52:23.067Z"
   },
   {
    "duration": 3,
    "start_time": "2022-07-17T07:52:23.256Z"
   },
   {
    "duration": 10,
    "start_time": "2022-07-17T07:52:23.261Z"
   },
   {
    "duration": 92,
    "start_time": "2022-07-17T07:52:23.273Z"
   },
   {
    "duration": 4,
    "start_time": "2022-07-17T07:52:23.367Z"
   },
   {
    "duration": 9,
    "start_time": "2022-07-17T07:52:23.373Z"
   },
   {
    "duration": 8,
    "start_time": "2022-07-17T07:52:23.383Z"
   },
   {
    "duration": 1222,
    "start_time": "2022-07-17T07:52:23.392Z"
   },
   {
    "duration": 262,
    "start_time": "2022-07-17T07:52:24.616Z"
   },
   {
    "duration": 1580,
    "start_time": "2022-07-17T07:52:24.880Z"
   },
   {
    "duration": 177,
    "start_time": "2022-07-17T07:52:26.461Z"
   },
   {
    "duration": 106,
    "start_time": "2022-07-17T08:07:07.196Z"
   },
   {
    "duration": 1197,
    "start_time": "2022-07-17T08:07:10.944Z"
   },
   {
    "duration": 24,
    "start_time": "2022-07-17T08:07:44.938Z"
   },
   {
    "duration": 1800,
    "start_time": "2022-07-17T08:08:04.536Z"
   },
   {
    "duration": 203,
    "start_time": "2022-07-17T08:08:38.933Z"
   },
   {
    "duration": 5878,
    "start_time": "2022-07-17T08:08:53.034Z"
   },
   {
    "duration": 15953,
    "start_time": "2022-07-17T08:09:13.891Z"
   },
   {
    "duration": 3063,
    "start_time": "2022-07-17T08:10:57.454Z"
   },
   {
    "duration": 21,
    "start_time": "2022-07-17T08:11:04.938Z"
   },
   {
    "duration": 66,
    "start_time": "2022-07-17T08:49:59.634Z"
   },
   {
    "duration": 173,
    "start_time": "2022-07-17T08:51:32.666Z"
   },
   {
    "duration": 1771,
    "start_time": "2022-07-17T14:15:58.584Z"
   },
   {
    "duration": 5,
    "start_time": "2022-07-17T14:40:24.391Z"
   },
   {
    "duration": 167,
    "start_time": "2022-07-17T14:40:24.406Z"
   },
   {
    "duration": 4,
    "start_time": "2022-07-17T14:40:24.575Z"
   },
   {
    "duration": 26,
    "start_time": "2022-07-17T14:40:24.580Z"
   },
   {
    "duration": 11,
    "start_time": "2022-07-17T14:40:24.609Z"
   },
   {
    "duration": 288,
    "start_time": "2022-07-17T14:40:24.622Z"
   },
   {
    "duration": 344,
    "start_time": "2022-07-17T14:40:24.912Z"
   },
   {
    "duration": 540,
    "start_time": "2022-07-17T14:40:25.258Z"
   },
   {
    "duration": 249,
    "start_time": "2022-07-17T14:40:25.801Z"
   },
   {
    "duration": 5,
    "start_time": "2022-07-17T14:40:26.053Z"
   },
   {
    "duration": 11,
    "start_time": "2022-07-17T14:40:26.064Z"
   },
   {
    "duration": 110,
    "start_time": "2022-07-17T14:40:26.077Z"
   },
   {
    "duration": 5,
    "start_time": "2022-07-17T14:40:26.189Z"
   },
   {
    "duration": 12,
    "start_time": "2022-07-17T14:40:26.195Z"
   },
   {
    "duration": 10,
    "start_time": "2022-07-17T14:40:26.209Z"
   },
   {
    "duration": 2851,
    "start_time": "2022-07-17T14:40:26.220Z"
   },
   {
    "duration": 88,
    "start_time": "2022-07-17T14:40:29.074Z"
   },
   {
    "duration": 94,
    "start_time": "2022-07-17T14:40:29.165Z"
   },
   {
    "duration": 250,
    "start_time": "2022-07-17T14:40:29.267Z"
   },
   {
    "duration": 3445,
    "start_time": "2022-07-17T14:40:29.518Z"
   },
   {
    "duration": 29,
    "start_time": "2022-07-17T14:40:32.964Z"
   },
   {
    "duration": 205,
    "start_time": "2022-07-17T14:40:32.995Z"
   },
   {
    "duration": 1716,
    "start_time": "2022-07-18T18:15:36.299Z"
   },
   {
    "duration": 139,
    "start_time": "2022-07-18T18:15:38.016Z"
   },
   {
    "duration": 3,
    "start_time": "2022-07-18T18:15:38.156Z"
   },
   {
    "duration": 15,
    "start_time": "2022-07-18T18:15:38.161Z"
   },
   {
    "duration": 12,
    "start_time": "2022-07-18T18:15:38.178Z"
   },
   {
    "duration": 200,
    "start_time": "2022-07-18T18:15:38.191Z"
   },
   {
    "duration": 216,
    "start_time": "2022-07-18T18:15:38.392Z"
   },
   {
    "duration": 494,
    "start_time": "2022-07-18T18:15:38.610Z"
   },
   {
    "duration": 176,
    "start_time": "2022-07-18T18:15:39.105Z"
   },
   {
    "duration": 3,
    "start_time": "2022-07-18T18:15:39.283Z"
   },
   {
    "duration": 17,
    "start_time": "2022-07-18T18:15:39.287Z"
   },
   {
    "duration": 77,
    "start_time": "2022-07-18T18:15:39.305Z"
   },
   {
    "duration": 5,
    "start_time": "2022-07-18T18:15:39.383Z"
   },
   {
    "duration": 15,
    "start_time": "2022-07-18T18:15:39.389Z"
   },
   {
    "duration": 5,
    "start_time": "2022-07-18T18:15:39.405Z"
   },
   {
    "duration": 1998,
    "start_time": "2022-07-18T18:15:39.413Z"
   },
   {
    "duration": 90,
    "start_time": "2022-07-18T18:15:41.412Z"
   },
   {
    "duration": 10,
    "start_time": "2022-07-18T18:15:41.504Z"
   },
   {
    "duration": 743,
    "start_time": "2022-07-18T18:15:41.516Z"
   },
   {
    "duration": 4594,
    "start_time": "2022-07-18T18:15:42.261Z"
   },
   {
    "duration": 113,
    "start_time": "2022-07-18T18:15:46.856Z"
   },
   {
    "duration": 1,
    "start_time": "2022-07-18T18:15:46.970Z"
   },
   {
    "duration": 22,
    "start_time": "2022-07-18T18:18:01.337Z"
   },
   {
    "duration": 5,
    "start_time": "2022-07-18T19:31:39.382Z"
   },
   {
    "duration": 2,
    "start_time": "2022-07-18T19:33:14.798Z"
   },
   {
    "duration": 2,
    "start_time": "2022-07-18T19:34:06.118Z"
   },
   {
    "duration": 12,
    "start_time": "2022-07-18T19:35:37.328Z"
   },
   {
    "duration": 4,
    "start_time": "2022-07-18T19:35:52.190Z"
   },
   {
    "duration": 5,
    "start_time": "2022-07-18T19:39:55.034Z"
   },
   {
    "duration": 53,
    "start_time": "2022-07-18T19:39:55.040Z"
   },
   {
    "duration": 4,
    "start_time": "2022-07-18T19:39:55.094Z"
   },
   {
    "duration": 13,
    "start_time": "2022-07-18T19:39:55.099Z"
   },
   {
    "duration": 13,
    "start_time": "2022-07-18T19:39:55.113Z"
   },
   {
    "duration": 252,
    "start_time": "2022-07-18T19:39:55.128Z"
   },
   {
    "duration": 221,
    "start_time": "2022-07-18T19:39:55.382Z"
   },
   {
    "duration": 357,
    "start_time": "2022-07-18T19:39:55.605Z"
   },
   {
    "duration": 172,
    "start_time": "2022-07-18T19:39:55.964Z"
   },
   {
    "duration": 3,
    "start_time": "2022-07-18T19:39:56.138Z"
   },
   {
    "duration": 13,
    "start_time": "2022-07-18T19:39:56.142Z"
   },
   {
    "duration": 79,
    "start_time": "2022-07-18T19:39:56.156Z"
   },
   {
    "duration": 6,
    "start_time": "2022-07-18T19:39:56.237Z"
   },
   {
    "duration": 4,
    "start_time": "2022-07-18T19:39:56.246Z"
   },
   {
    "duration": 6,
    "start_time": "2022-07-18T19:39:56.251Z"
   },
   {
    "duration": 34354,
    "start_time": "2022-07-18T19:39:56.258Z"
   },
   {
    "duration": 207,
    "start_time": "2022-07-18T19:40:30.613Z"
   },
   {
    "duration": 10,
    "start_time": "2022-07-18T19:40:30.822Z"
   },
   {
    "duration": 171,
    "start_time": "2022-07-18T19:40:30.833Z"
   },
   {
    "duration": 1557,
    "start_time": "2022-07-18T19:40:31.006Z"
   },
   {
    "duration": 9712,
    "start_time": "2022-07-18T19:40:32.565Z"
   },
   {
    "duration": 43,
    "start_time": "2022-07-18T19:40:42.278Z"
   },
   {
    "duration": 317,
    "start_time": "2022-07-18T19:40:42.323Z"
   },
   {
    "duration": 226,
    "start_time": "2022-07-18T20:01:52.983Z"
   },
   {
    "duration": 5,
    "start_time": "2022-07-18T20:03:12.427Z"
   },
   {
    "duration": 48,
    "start_time": "2022-07-18T20:03:12.434Z"
   },
   {
    "duration": 3,
    "start_time": "2022-07-18T20:03:12.484Z"
   },
   {
    "duration": 12,
    "start_time": "2022-07-18T20:03:12.489Z"
   },
   {
    "duration": 10,
    "start_time": "2022-07-18T20:03:12.502Z"
   },
   {
    "duration": 231,
    "start_time": "2022-07-18T20:03:12.513Z"
   },
   {
    "duration": 231,
    "start_time": "2022-07-18T20:03:12.746Z"
   },
   {
    "duration": 379,
    "start_time": "2022-07-18T20:03:12.978Z"
   },
   {
    "duration": 189,
    "start_time": "2022-07-18T20:03:13.361Z"
   },
   {
    "duration": 3,
    "start_time": "2022-07-18T20:03:13.551Z"
   },
   {
    "duration": 9,
    "start_time": "2022-07-18T20:03:13.555Z"
   },
   {
    "duration": 89,
    "start_time": "2022-07-18T20:03:13.565Z"
   },
   {
    "duration": 5,
    "start_time": "2022-07-18T20:03:13.656Z"
   },
   {
    "duration": 5,
    "start_time": "2022-07-18T20:03:13.662Z"
   },
   {
    "duration": 6,
    "start_time": "2022-07-18T20:03:13.668Z"
   },
   {
    "duration": 30033,
    "start_time": "2022-07-18T20:03:13.675Z"
   },
   {
    "duration": 200,
    "start_time": "2022-07-18T20:03:43.710Z"
   },
   {
    "duration": 3,
    "start_time": "2022-07-18T20:03:43.911Z"
   },
   {
    "duration": 189,
    "start_time": "2022-07-18T20:03:43.915Z"
   },
   {
    "duration": 1532,
    "start_time": "2022-07-18T20:03:44.106Z"
   },
   {
    "duration": 9448,
    "start_time": "2022-07-18T20:03:45.640Z"
   },
   {
    "duration": 112,
    "start_time": "2022-07-18T20:03:55.090Z"
   },
   {
    "duration": 332,
    "start_time": "2022-07-18T20:03:55.205Z"
   },
   {
    "duration": 192,
    "start_time": "2022-07-18T20:03:55.539Z"
   },
   {
    "duration": 1993,
    "start_time": "2022-07-19T21:00:35.782Z"
   },
   {
    "duration": 408,
    "start_time": "2022-07-19T21:00:37.779Z"
   },
   {
    "duration": 6,
    "start_time": "2022-07-19T21:00:38.189Z"
   },
   {
    "duration": 19,
    "start_time": "2022-07-19T21:00:38.200Z"
   },
   {
    "duration": 14,
    "start_time": "2022-07-19T21:00:38.222Z"
   },
   {
    "duration": 334,
    "start_time": "2022-07-19T21:00:38.239Z"
   },
   {
    "duration": 341,
    "start_time": "2022-07-19T21:00:38.575Z"
   },
   {
    "duration": 609,
    "start_time": "2022-07-19T21:00:38.918Z"
   },
   {
    "duration": 277,
    "start_time": "2022-07-19T21:00:39.529Z"
   },
   {
    "duration": 4,
    "start_time": "2022-07-19T21:00:39.809Z"
   },
   {
    "duration": 13,
    "start_time": "2022-07-19T21:00:39.814Z"
   },
   {
    "duration": 145,
    "start_time": "2022-07-19T21:00:39.839Z"
   },
   {
    "duration": 12,
    "start_time": "2022-07-19T21:00:39.986Z"
   },
   {
    "duration": 11,
    "start_time": "2022-07-19T21:00:40.000Z"
   },
   {
    "duration": 20,
    "start_time": "2022-07-19T21:00:40.013Z"
   },
   {
    "duration": 75925,
    "start_time": "2022-07-19T21:00:40.036Z"
   },
   {
    "duration": 125,
    "start_time": "2022-07-19T21:01:55.972Z"
   },
   {
    "duration": 4,
    "start_time": "2022-07-19T21:01:56.099Z"
   },
   {
    "duration": 652,
    "start_time": "2022-07-19T21:01:56.105Z"
   },
   {
    "duration": 263,
    "start_time": "2022-07-19T21:01:56.768Z"
   },
   {
    "duration": 0,
    "start_time": "2022-07-19T21:01:57.033Z"
   },
   {
    "duration": 0,
    "start_time": "2022-07-19T21:01:57.034Z"
   },
   {
    "duration": 0,
    "start_time": "2022-07-19T21:01:57.036Z"
   },
   {
    "duration": 0,
    "start_time": "2022-07-19T21:01:57.055Z"
   },
   {
    "duration": 31,
    "start_time": "2022-07-19T21:09:00.266Z"
   },
   {
    "duration": 1072,
    "start_time": "2022-07-19T21:11:47.186Z"
   },
   {
    "duration": 8089,
    "start_time": "2022-07-19T21:12:36.390Z"
   },
   {
    "duration": 5,
    "start_time": "2022-07-19T21:14:36.792Z"
   },
   {
    "duration": 81,
    "start_time": "2022-07-19T21:14:36.818Z"
   },
   {
    "duration": 5,
    "start_time": "2022-07-19T21:14:36.901Z"
   },
   {
    "duration": 14,
    "start_time": "2022-07-19T21:14:36.908Z"
   },
   {
    "duration": 40,
    "start_time": "2022-07-19T21:14:36.924Z"
   },
   {
    "duration": 333,
    "start_time": "2022-07-19T21:14:36.969Z"
   },
   {
    "duration": 353,
    "start_time": "2022-07-19T21:14:37.307Z"
   },
   {
    "duration": 464,
    "start_time": "2022-07-19T21:14:37.668Z"
   },
   {
    "duration": 308,
    "start_time": "2022-07-19T21:14:38.134Z"
   },
   {
    "duration": 7,
    "start_time": "2022-07-19T21:14:38.449Z"
   },
   {
    "duration": 57,
    "start_time": "2022-07-19T21:14:38.463Z"
   },
   {
    "duration": 112,
    "start_time": "2022-07-19T21:14:38.522Z"
   },
   {
    "duration": 23,
    "start_time": "2022-07-19T21:14:38.644Z"
   },
   {
    "duration": 40,
    "start_time": "2022-07-19T21:14:38.669Z"
   },
   {
    "duration": 9,
    "start_time": "2022-07-19T21:14:38.712Z"
   },
   {
    "duration": 153129,
    "start_time": "2022-07-19T21:14:38.723Z"
   },
   {
    "duration": 126,
    "start_time": "2022-07-19T21:17:11.855Z"
   },
   {
    "duration": 5,
    "start_time": "2022-07-19T21:17:11.983Z"
   },
   {
    "duration": 190,
    "start_time": "2022-07-19T21:17:11.990Z"
   },
   {
    "duration": 1135,
    "start_time": "2022-07-19T21:17:12.186Z"
   },
   {
    "duration": 7888,
    "start_time": "2022-07-19T21:17:13.323Z"
   },
   {
    "duration": 149,
    "start_time": "2022-07-19T21:17:21.213Z"
   },
   {
    "duration": 289,
    "start_time": "2022-07-19T21:17:21.376Z"
   },
   {
    "duration": 361,
    "start_time": "2022-07-19T21:17:21.666Z"
   }
  ],
  "kernelspec": {
   "display_name": "Python 3",
   "language": "python",
   "name": "python3"
  },
  "language_info": {
   "codemirror_mode": {
    "name": "ipython",
    "version": 3
   },
   "file_extension": ".py",
   "mimetype": "text/x-python",
   "name": "python",
   "nbconvert_exporter": "python",
   "pygments_lexer": "ipython3",
   "version": "3.7.3"
  },
  "toc": {
   "base_numbering": 1,
   "nav_menu": {},
   "number_sections": true,
   "sideBar": true,
   "skip_h1_title": true,
   "title_cell": "Содержание",
   "title_sidebar": "Contents",
   "toc_cell": true,
   "toc_position": {},
   "toc_section_display": true,
   "toc_window_display": false
  }
 },
 "nbformat": 4,
 "nbformat_minor": 2
}
