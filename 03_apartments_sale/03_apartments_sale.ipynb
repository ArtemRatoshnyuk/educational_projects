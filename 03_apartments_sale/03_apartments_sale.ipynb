{
 "cells": [
  {
   "cell_type": "markdown",
   "metadata": {
    "toc": true
   },
   "source": [
    "<h1>Содержание<span class=\"tocSkip\"></span></h1>\n",
    "<div class=\"toc\"><ul class=\"toc-item\"><li><span><a href=\"#Изучение-данных-из-файла\" data-toc-modified-id=\"Изучение-данных-из-файла-1\"><span class=\"toc-item-num\">1&nbsp;&nbsp;</span>Изучение данных из файла</a></span><ul class=\"toc-item\"><li><span><a href=\"#Вывод\" data-toc-modified-id=\"Вывод-1.1\"><span class=\"toc-item-num\">1.1&nbsp;&nbsp;</span>Вывод</a></span></li></ul></li><li><span><a href=\"#Предобработка-данных\" data-toc-modified-id=\"Предобработка-данных-2\"><span class=\"toc-item-num\">2&nbsp;&nbsp;</span>Предобработка данных</a></span><ul class=\"toc-item\"><li><span><a href=\"#Формирование-корректных-названий-столбцов\" data-toc-modified-id=\"Формирование-корректных-названий-столбцов-2.1\"><span class=\"toc-item-num\">2.1&nbsp;&nbsp;</span>Формирование корректных названий столбцов</a></span></li><li><span><a href=\"#Удаление-дубликатов\" data-toc-modified-id=\"Удаление-дубликатов-2.2\"><span class=\"toc-item-num\">2.2&nbsp;&nbsp;</span>Удаление дубликатов</a></span></li><li><span><a href=\"#Выявление-и-заполнение-пропусков\" data-toc-modified-id=\"Выявление-и-заполнение-пропусков-2.3\"><span class=\"toc-item-num\">2.3&nbsp;&nbsp;</span>Выявление и заполнение пропусков</a></span></li><li><span><a href=\"#Установка-в-столбцах-корректный-тип-данных\" data-toc-modified-id=\"Установка-в-столбцах-корректный-тип-данных-2.4\"><span class=\"toc-item-num\">2.4&nbsp;&nbsp;</span>Установка в столбцах корректный тип данных</a></span></li><li><span><a href=\"#Выявление-и-исключение-аномальных-значений\" data-toc-modified-id=\"Выявление-и-исключение-аномальных-значений-2.5\"><span class=\"toc-item-num\">2.5&nbsp;&nbsp;</span>Выявление и исключение аномальных значений</a></span></li><li><span><a href=\"#Выводы-по-разделу-предобработка-данных\" data-toc-modified-id=\"Выводы-по-разделу-предобработка-данных-2.6\"><span class=\"toc-item-num\">2.6&nbsp;&nbsp;</span>Выводы по разделу предобработка данных</a></span></li></ul></li><li><span><a href=\"#Расчёты-и-добавление-результатов-в-таблицу\" data-toc-modified-id=\"Расчёты-и-добавление-результатов-в-таблицу-3\"><span class=\"toc-item-num\">3&nbsp;&nbsp;</span>Расчёты и добавление результатов в таблицу</a></span><ul class=\"toc-item\"><li><span><a href=\"#Выводы-по-разделу-расчёты-и-добавление\" data-toc-modified-id=\"Выводы-по-разделу-расчёты-и-добавление-3.1\"><span class=\"toc-item-num\">3.1&nbsp;&nbsp;</span>Выводы по разделу расчёты и добавление</a></span></li></ul></li><li><span><a href=\"#Исследовательский-анализ-данных\" data-toc-modified-id=\"Исследовательский-анализ-данных-4\"><span class=\"toc-item-num\">4&nbsp;&nbsp;</span>Исследовательский анализ данных</a></span><ul class=\"toc-item\"><li><span><a href=\"#Гистограммы\" data-toc-modified-id=\"Гистограммы-4.1\"><span class=\"toc-item-num\">4.1&nbsp;&nbsp;</span>Гистограммы</a></span></li><li><span><a href=\"#Скорость-продажи-квартиры\" data-toc-modified-id=\"Скорость-продажи-квартиры-4.2\"><span class=\"toc-item-num\">4.2&nbsp;&nbsp;</span>Скорость продажи квартиры</a></span></li><li><span><a href=\"#Факторы-влияющие-на-цену-квартиры\" data-toc-modified-id=\"Факторы-влияющие-на-цену-квартиры-4.3\"><span class=\"toc-item-num\">4.3&nbsp;&nbsp;</span>Факторы влияющие на цену квартиры</a></span></li><li><span><a href=\"#На-основании-десяти-населённых-пунктов-с-наибольшим-числом-объявлений-определить-среднюю-цену-квадратного-метра\" data-toc-modified-id=\"На-основании-десяти-населённых-пунктов-с-наибольшим-числом-объявлений-определить-среднюю-цену-квадратного-метра-4.4\"><span class=\"toc-item-num\">4.4&nbsp;&nbsp;</span>На основании десяти населённых пунктов с наибольшим числом объявлений определить среднюю цену квадратного метра</a></span></li><li><span><a href=\"#Изучение-цен-на-квартиры-в-Санкт-Перебурге\" data-toc-modified-id=\"Изучение-цен-на-квартиры-в-Санкт-Перебурге-4.5\"><span class=\"toc-item-num\">4.5&nbsp;&nbsp;</span>Изучение цен на квартиры в Санкт-Перебурге</a></span></li><li><span><a href=\"#Выводы-по-исследовательскому-анализу-данных\" data-toc-modified-id=\"Выводы-по-исследовательскому-анализу-данных-4.6\"><span class=\"toc-item-num\">4.6&nbsp;&nbsp;</span>Выводы по исследовательскому анализу данных</a></span></li></ul></li><li><span><a href=\"#Общий-вывод\" data-toc-modified-id=\"Общий-вывод-5\"><span class=\"toc-item-num\">5&nbsp;&nbsp;</span>Общий вывод</a></span></li><li><span><a href=\"#Чек-лист-готовности-проекта\" data-toc-modified-id=\"Чек-лист-готовности-проекта-6\"><span class=\"toc-item-num\">6&nbsp;&nbsp;</span>Чек-лист готовности проекта</a></span></li></ul></div>"
   ]
  },
  {
   "cell_type": "markdown",
   "metadata": {},
   "source": [
    "# Исследование объявлений о продаже квартир\n",
    "\n",
    "В вашем распоряжении данные сервиса Яндекc Недвижимость — архив объявлений о продаже квартир в Санкт-Петербурге и соседних населённых пунктах за несколько лет. Нужно научиться определять рыночную стоимость объектов недвижимости. Ваша задача — установить параметры. Это позволит построить автоматизированную систему: она отследит аномалии и мошенническую деятельность. \n",
    "\n",
    "По каждой квартире на продажу доступны два вида данных. Первые вписаны пользователем, вторые получены автоматически на основе картографических данных. Например, расстояние до центра, аэропорта, ближайшего парка и водоёма. \n",
    "\n",
    "**Цель Заказчика.** Построение автоматизированной системы для отслеживания аномалий вызванных мошеннической деятельностью.\n",
    "\n",
    "**Цель исследования.** Определять рыночную стоимость объектов недвижимости по параметрам, указанных в объявлениях о продаже квартир.\n",
    "\n",
    "**Задачи**\n",
    "* Определить зависимость цены квартиры от следующих параметров: площадь, цена, число комнат, высота потолков.\n",
    "* Определить скорость продажи квартир, изучить долгие и быстрые продажи.\n",
    "* Определить зависимость цены квартиры от этажа, этажности дома, удаленности от центра и иных параметров.\n",
    "* Выявит зависимость цены квартиры от даты размещения объявления: дня недели, месяца и года.\n",
    "* На основании десяти населённых пунктов с наибольшим числом объявлений посчитать среднюю цену квадратного метра и выделить населённые пункты с самой высокой и низкой стоимостью жилья.\n",
    "* На основании данных о стоимости квартир и их удаленности от центра выявить границу центра города.\n",
    "* Определить факторы, влияющие на стоимость квартир в центре города, сопоставить их, с факторами, влияющими на стоимость остальных квартир.\n",
    "\n",
    "\n",
    "**Входные данные от Заказчика.** Файл в формате .csv, содержащий данные сервиса Яндекс Недвижимость, а именно, архив объявлений о продаже квартир в Санкт-Петербурге и соседних населённых пунктах за несколько лет.\n",
    "\n",
    "**Ожидаемый результат.** Выявлены параметры, влияющие на рыночную стоимость недвижимости"
   ]
  },
  {
   "cell_type": "markdown",
   "metadata": {},
   "source": [
    "## Изучение данных из файла"
   ]
  },
  {
   "cell_type": "markdown",
   "metadata": {},
   "source": [
    "1. Открыть таблицу \n",
    "2. Изучить структуру данных по десяти первым строкам\n",
    "3. Изучить структуру данных методом info()"
   ]
  },
  {
   "cell_type": "markdown",
   "metadata": {},
   "source": [
    "**Описание данных**\n",
    "- `airports_nearest` — расстояние до ближайшего аэропорта в метрах (м)\n",
    "- `balcony` — число балконов\n",
    "- `ceiling_height` — высота потолков (м)\n",
    "- `cityCenters_nearest` — расстояние до центра города (м)\n",
    "- `days_exposition` — сколько дней было размещено объявление (от публикации до снятия)\n",
    "- `first_day_exposition` — дата публикации\n",
    "- `floor` — этаж\n",
    "- `floors_total` — всего этажей в доме\n",
    "- `is_apartment` — апартаменты (булев тип)\n",
    "- `kitchen_area` — площадь кухни в квадратных метрах (м²)\n",
    "- `last_price` — цена на момент снятия с публикации\n",
    "- `living_area` — жилая площадь в квадратных метрах (м²)\n",
    "- `locality_name` — название населённого пункта\n",
    "- `open_plan` — свободная планировка (булев тип)\n",
    "- `parks_around3000` — число парков в радиусе 3 км\n",
    "- `parks_nearest` — расстояние до ближайшего парка (м)\n",
    "- `ponds_around3000` — число водоёмов в радиусе 3 км\n",
    "- `ponds_nearest` — расстояние до ближайшего водоёма (м)\n",
    "- `rooms` — число комнат\n",
    "- `studio` — квартира-студия (булев тип)\n",
    "- `total_area` — площадь квартиры в квадратных метрах (м²)\n",
    "- `total_images` — число фотографий квартиры в объявлении"
   ]
  },
  {
   "cell_type": "code",
   "execution_count": 71,
   "metadata": {},
   "outputs": [],
   "source": [
    "#Импорт библиотеки\n",
    "import pandas as pd\n",
    "import numpy as np\n",
    "import seaborn as sms\n",
    "import matplotlib.pyplot as plt"
   ]
  },
  {
   "cell_type": "code",
   "execution_count": 72,
   "metadata": {},
   "outputs": [],
   "source": [
    "#Прочитать датафрейм\n",
    "df = pd.read_csv('real_estate_data.csv', sep='\\t')"
   ]
  },
  {
   "cell_type": "code",
   "execution_count": 73,
   "metadata": {},
   "outputs": [
    {
     "data": {
      "text/html": [
       "<div>\n",
       "<style scoped>\n",
       "    .dataframe tbody tr th:only-of-type {\n",
       "        vertical-align: middle;\n",
       "    }\n",
       "\n",
       "    .dataframe tbody tr th {\n",
       "        vertical-align: top;\n",
       "    }\n",
       "\n",
       "    .dataframe thead th {\n",
       "        text-align: right;\n",
       "    }\n",
       "</style>\n",
       "<table border=\"1\" class=\"dataframe\">\n",
       "  <thead>\n",
       "    <tr style=\"text-align: right;\">\n",
       "      <th></th>\n",
       "      <th>total_images</th>\n",
       "      <th>last_price</th>\n",
       "      <th>total_area</th>\n",
       "      <th>first_day_exposition</th>\n",
       "      <th>rooms</th>\n",
       "      <th>ceiling_height</th>\n",
       "      <th>floors_total</th>\n",
       "      <th>living_area</th>\n",
       "      <th>floor</th>\n",
       "      <th>is_apartment</th>\n",
       "      <th>...</th>\n",
       "      <th>kitchen_area</th>\n",
       "      <th>balcony</th>\n",
       "      <th>locality_name</th>\n",
       "      <th>airports_nearest</th>\n",
       "      <th>cityCenters_nearest</th>\n",
       "      <th>parks_around3000</th>\n",
       "      <th>parks_nearest</th>\n",
       "      <th>ponds_around3000</th>\n",
       "      <th>ponds_nearest</th>\n",
       "      <th>days_exposition</th>\n",
       "    </tr>\n",
       "  </thead>\n",
       "  <tbody>\n",
       "    <tr>\n",
       "      <th>0</th>\n",
       "      <td>20</td>\n",
       "      <td>13000000.0</td>\n",
       "      <td>108.0</td>\n",
       "      <td>2019-03-07T00:00:00</td>\n",
       "      <td>3</td>\n",
       "      <td>2.70</td>\n",
       "      <td>16.0</td>\n",
       "      <td>51.0</td>\n",
       "      <td>8</td>\n",
       "      <td>NaN</td>\n",
       "      <td>...</td>\n",
       "      <td>25.0</td>\n",
       "      <td>NaN</td>\n",
       "      <td>Санкт-Петербург</td>\n",
       "      <td>18863.0</td>\n",
       "      <td>16028.0</td>\n",
       "      <td>1.0</td>\n",
       "      <td>482.0</td>\n",
       "      <td>2.0</td>\n",
       "      <td>755.0</td>\n",
       "      <td>NaN</td>\n",
       "    </tr>\n",
       "    <tr>\n",
       "      <th>1</th>\n",
       "      <td>7</td>\n",
       "      <td>3350000.0</td>\n",
       "      <td>40.4</td>\n",
       "      <td>2018-12-04T00:00:00</td>\n",
       "      <td>1</td>\n",
       "      <td>NaN</td>\n",
       "      <td>11.0</td>\n",
       "      <td>18.6</td>\n",
       "      <td>1</td>\n",
       "      <td>NaN</td>\n",
       "      <td>...</td>\n",
       "      <td>11.0</td>\n",
       "      <td>2.0</td>\n",
       "      <td>посёлок Шушары</td>\n",
       "      <td>12817.0</td>\n",
       "      <td>18603.0</td>\n",
       "      <td>0.0</td>\n",
       "      <td>NaN</td>\n",
       "      <td>0.0</td>\n",
       "      <td>NaN</td>\n",
       "      <td>81.0</td>\n",
       "    </tr>\n",
       "    <tr>\n",
       "      <th>2</th>\n",
       "      <td>10</td>\n",
       "      <td>5196000.0</td>\n",
       "      <td>56.0</td>\n",
       "      <td>2015-08-20T00:00:00</td>\n",
       "      <td>2</td>\n",
       "      <td>NaN</td>\n",
       "      <td>5.0</td>\n",
       "      <td>34.3</td>\n",
       "      <td>4</td>\n",
       "      <td>NaN</td>\n",
       "      <td>...</td>\n",
       "      <td>8.3</td>\n",
       "      <td>0.0</td>\n",
       "      <td>Санкт-Петербург</td>\n",
       "      <td>21741.0</td>\n",
       "      <td>13933.0</td>\n",
       "      <td>1.0</td>\n",
       "      <td>90.0</td>\n",
       "      <td>2.0</td>\n",
       "      <td>574.0</td>\n",
       "      <td>558.0</td>\n",
       "    </tr>\n",
       "    <tr>\n",
       "      <th>3</th>\n",
       "      <td>0</td>\n",
       "      <td>64900000.0</td>\n",
       "      <td>159.0</td>\n",
       "      <td>2015-07-24T00:00:00</td>\n",
       "      <td>3</td>\n",
       "      <td>NaN</td>\n",
       "      <td>14.0</td>\n",
       "      <td>NaN</td>\n",
       "      <td>9</td>\n",
       "      <td>NaN</td>\n",
       "      <td>...</td>\n",
       "      <td>NaN</td>\n",
       "      <td>0.0</td>\n",
       "      <td>Санкт-Петербург</td>\n",
       "      <td>28098.0</td>\n",
       "      <td>6800.0</td>\n",
       "      <td>2.0</td>\n",
       "      <td>84.0</td>\n",
       "      <td>3.0</td>\n",
       "      <td>234.0</td>\n",
       "      <td>424.0</td>\n",
       "    </tr>\n",
       "    <tr>\n",
       "      <th>4</th>\n",
       "      <td>2</td>\n",
       "      <td>10000000.0</td>\n",
       "      <td>100.0</td>\n",
       "      <td>2018-06-19T00:00:00</td>\n",
       "      <td>2</td>\n",
       "      <td>3.03</td>\n",
       "      <td>14.0</td>\n",
       "      <td>32.0</td>\n",
       "      <td>13</td>\n",
       "      <td>NaN</td>\n",
       "      <td>...</td>\n",
       "      <td>41.0</td>\n",
       "      <td>NaN</td>\n",
       "      <td>Санкт-Петербург</td>\n",
       "      <td>31856.0</td>\n",
       "      <td>8098.0</td>\n",
       "      <td>2.0</td>\n",
       "      <td>112.0</td>\n",
       "      <td>1.0</td>\n",
       "      <td>48.0</td>\n",
       "      <td>121.0</td>\n",
       "    </tr>\n",
       "  </tbody>\n",
       "</table>\n",
       "<p>5 rows × 22 columns</p>\n",
       "</div>"
      ],
      "text/plain": [
       "   total_images  last_price  total_area first_day_exposition  rooms  \\\n",
       "0            20  13000000.0       108.0  2019-03-07T00:00:00      3   \n",
       "1             7   3350000.0        40.4  2018-12-04T00:00:00      1   \n",
       "2            10   5196000.0        56.0  2015-08-20T00:00:00      2   \n",
       "3             0  64900000.0       159.0  2015-07-24T00:00:00      3   \n",
       "4             2  10000000.0       100.0  2018-06-19T00:00:00      2   \n",
       "\n",
       "   ceiling_height  floors_total  living_area  floor is_apartment  ...  \\\n",
       "0            2.70          16.0         51.0      8          NaN  ...   \n",
       "1             NaN          11.0         18.6      1          NaN  ...   \n",
       "2             NaN           5.0         34.3      4          NaN  ...   \n",
       "3             NaN          14.0          NaN      9          NaN  ...   \n",
       "4            3.03          14.0         32.0     13          NaN  ...   \n",
       "\n",
       "   kitchen_area  balcony    locality_name  airports_nearest  \\\n",
       "0          25.0      NaN  Санкт-Петербург           18863.0   \n",
       "1          11.0      2.0   посёлок Шушары           12817.0   \n",
       "2           8.3      0.0  Санкт-Петербург           21741.0   \n",
       "3           NaN      0.0  Санкт-Петербург           28098.0   \n",
       "4          41.0      NaN  Санкт-Петербург           31856.0   \n",
       "\n",
       "  cityCenters_nearest  parks_around3000  parks_nearest  ponds_around3000  \\\n",
       "0             16028.0               1.0          482.0               2.0   \n",
       "1             18603.0               0.0            NaN               0.0   \n",
       "2             13933.0               1.0           90.0               2.0   \n",
       "3              6800.0               2.0           84.0               3.0   \n",
       "4              8098.0               2.0          112.0               1.0   \n",
       "\n",
       "   ponds_nearest  days_exposition  \n",
       "0          755.0              NaN  \n",
       "1            NaN             81.0  \n",
       "2          574.0            558.0  \n",
       "3          234.0            424.0  \n",
       "4           48.0            121.0  \n",
       "\n",
       "[5 rows x 22 columns]"
      ]
     },
     "metadata": {},
     "output_type": "display_data"
    }
   ],
   "source": [
    "#Выгрузка первых 5 строк таблицы \n",
    "display(df.head())"
   ]
  },
  {
   "cell_type": "code",
   "execution_count": 74,
   "metadata": {
    "scrolled": true
   },
   "outputs": [
    {
     "name": "stdout",
     "output_type": "stream",
     "text": [
      "<class 'pandas.core.frame.DataFrame'>\n",
      "RangeIndex: 23699 entries, 0 to 23698\n",
      "Data columns (total 22 columns):\n",
      " #   Column                Non-Null Count  Dtype  \n",
      "---  ------                --------------  -----  \n",
      " 0   total_images          23699 non-null  int64  \n",
      " 1   last_price            23699 non-null  float64\n",
      " 2   total_area            23699 non-null  float64\n",
      " 3   first_day_exposition  23699 non-null  object \n",
      " 4   rooms                 23699 non-null  int64  \n",
      " 5   ceiling_height        14504 non-null  float64\n",
      " 6   floors_total          23613 non-null  float64\n",
      " 7   living_area           21796 non-null  float64\n",
      " 8   floor                 23699 non-null  int64  \n",
      " 9   is_apartment          2775 non-null   object \n",
      " 10  studio                23699 non-null  bool   \n",
      " 11  open_plan             23699 non-null  bool   \n",
      " 12  kitchen_area          21421 non-null  float64\n",
      " 13  balcony               12180 non-null  float64\n",
      " 14  locality_name         23650 non-null  object \n",
      " 15  airports_nearest      18157 non-null  float64\n",
      " 16  cityCenters_nearest   18180 non-null  float64\n",
      " 17  parks_around3000      18181 non-null  float64\n",
      " 18  parks_nearest         8079 non-null   float64\n",
      " 19  ponds_around3000      18181 non-null  float64\n",
      " 20  ponds_nearest         9110 non-null   float64\n",
      " 21  days_exposition       20518 non-null  float64\n",
      "dtypes: bool(2), float64(14), int64(3), object(3)\n",
      "memory usage: 3.7+ MB\n"
     ]
    }
   ],
   "source": [
    "df.info()"
   ]
  },
  {
   "cell_type": "markdown",
   "metadata": {},
   "source": [
    "### Вывод"
   ]
  },
  {
   "cell_type": "markdown",
   "metadata": {},
   "source": [
    "1. Таблица содержит 21 столбца и 23 699 строк\n",
    "2. Не все заголовки столбцов корректны и отражают суть данных. В частности, требуют замены `cityCenters_nearest`, `parks_around3000`, `ponds_around3000`\n",
    "3. Пропуски содержат следующие столбцы:\n",
    " - `ceiling_height`, \n",
    " - `floors_total`,\n",
    " - `living_area`,\n",
    " - `is_apartment`,\n",
    " - `kitchen_area`,\n",
    " - `balcony`,\n",
    " - `locality_name`,\n",
    " - `airports_nearest`,\n",
    " - `cityCenters_nearest`,\n",
    " - `parks_around3000`,\n",
    " - `parks_nearest`,\n",
    " - `ponds_around3000`,\n",
    " - `ponds_nearest`,\n",
    " - `days_exposition`\n",
    "4. В столбцах `first_day_exposition`, `floors_total`, `is_apartment`, `balcony`, `parks_around3000`, `ponds_around3000` не корректный тип данных\n",
    "5. В столбце `locality_name` встречаются неявные дубли."
   ]
  },
  {
   "cell_type": "markdown",
   "metadata": {},
   "source": [
    "## Предобработка данных"
   ]
  },
  {
   "cell_type": "markdown",
   "metadata": {},
   "source": [
    "1. Сформировать корректные имена столбцов\n",
    "2. Удалить дубликаты\n",
    "3. Выявить и заполнить пропуски\n",
    "4. Установить в столбцах корректный тип данных\n",
    "5. Выявить и исключить аномальные значения"
   ]
  },
  {
   "cell_type": "markdown",
   "metadata": {},
   "source": [
    "### Формирование корректных названий столбцов"
   ]
  },
  {
   "cell_type": "markdown",
   "metadata": {},
   "source": [
    "Ряд заголовков столбцов имеют не корректные названия. \n",
    "В частности, требуют замены `cityCenters_nearest`, `parks_around3000`, `ponds_around3000`"
   ]
  },
  {
   "cell_type": "code",
   "execution_count": 75,
   "metadata": {},
   "outputs": [
    {
     "data": {
      "text/plain": [
       "Index(['total_images', 'last_price', 'total_area', 'first_day_exposition',\n",
       "       'rooms', 'ceiling_height', 'floors_total', 'living_area', 'floor',\n",
       "       'is_apartment', 'studio', 'open_plan', 'kitchen_area', 'balcony',\n",
       "       'locality_name', 'airports_nearest', 'cityCenters_nearest',\n",
       "       'parks_around3000', 'parks_nearest', 'ponds_around3000',\n",
       "       'ponds_nearest', 'days_exposition'],\n",
       "      dtype='object')"
      ]
     },
     "execution_count": 75,
     "metadata": {},
     "output_type": "execute_result"
    }
   ],
   "source": [
    "#Исходный список столбцов\n",
    "df.columns"
   ]
  },
  {
   "cell_type": "code",
   "execution_count": 76,
   "metadata": {},
   "outputs": [],
   "source": [
    "#Исправление названий столбцов\n",
    "df = df.rename(columns={'cityCenters_nearest': 'city_centers_nearest', 'parks_around3000': 'parks_around_3000', 'ponds_around3000': 'ponds_around_3000'})"
   ]
  },
  {
   "cell_type": "code",
   "execution_count": 77,
   "metadata": {
    "scrolled": true
   },
   "outputs": [
    {
     "data": {
      "text/plain": [
       "Index(['total_images', 'last_price', 'total_area', 'first_day_exposition',\n",
       "       'rooms', 'ceiling_height', 'floors_total', 'living_area', 'floor',\n",
       "       'is_apartment', 'studio', 'open_plan', 'kitchen_area', 'balcony',\n",
       "       'locality_name', 'airports_nearest', 'city_centers_nearest',\n",
       "       'parks_around_3000', 'parks_nearest', 'ponds_around_3000',\n",
       "       'ponds_nearest', 'days_exposition'],\n",
       "      dtype='object')"
      ]
     },
     "execution_count": 77,
     "metadata": {},
     "output_type": "execute_result"
    }
   ],
   "source": [
    "#Исправленный список столбцов\n",
    "df.columns"
   ]
  },
  {
   "cell_type": "markdown",
   "metadata": {},
   "source": [
    "### Удаление дубликатов"
   ]
  },
  {
   "cell_type": "markdown",
   "metadata": {},
   "source": [
    "В связи с тем, что при запылении пропусков потребуется обращение к категориям населенных пунктов, то устранение неявных дубликатов должно быть приоритетной задачей\n",
    "1. Выявить и удалить явные дубликаты\n",
    "2. Выявить и удалить НЕ явные дубликаты"
   ]
  },
  {
   "cell_type": "code",
   "execution_count": 78,
   "metadata": {},
   "outputs": [
    {
     "data": {
      "text/plain": [
       "0"
      ]
     },
     "execution_count": 78,
     "metadata": {},
     "output_type": "execute_result"
    }
   ],
   "source": [
    "#Выявление явных дубликатов\n",
    "df.duplicated().sum()"
   ]
  },
  {
   "cell_type": "markdown",
   "metadata": {},
   "source": [
    "Явных дубликатов нет. Переходим к выявлению и удалению НЕ явных дубликатов"
   ]
  },
  {
   "cell_type": "code",
   "execution_count": 79,
   "metadata": {},
   "outputs": [
    {
     "data": {
      "text/plain": [
       "array(['Бокситогорск', 'Волосово', 'Волхов', 'Всеволожск', 'Выборг',\n",
       "       'Высоцк', 'Гатчина', 'Зеленогорск', 'Ивангород', 'Каменногорск',\n",
       "       'Кингисепп', 'Кириши', 'Кировск', 'Колпино', 'Коммунар',\n",
       "       'Красное Село', 'Кронштадт', 'Кудрово', 'Лодейное Поле',\n",
       "       'Ломоносов', 'Луга', 'Любань', 'Мурино', 'Никольское',\n",
       "       'Новая Ладога', 'Отрадное', 'Павловск', 'Петергоф', 'Пикалёво',\n",
       "       'Подпорожье', 'Приморск', 'Приозерск', 'Пушкин', 'Санкт-Петербург',\n",
       "       'Светогорск', 'Сертолово', 'Сестрорецк', 'Сланцы', 'Сосновый Бор',\n",
       "       'Сясьстрой', 'Тихвин', 'Тосно', 'Шлиссельбург',\n",
       "       'городской поселок Большая Ижора', 'городской поселок Янино-1',\n",
       "       'городской посёлок Будогощь', 'городской посёлок Виллози',\n",
       "       'городской посёлок Лесогорский', 'городской посёлок Мга',\n",
       "       'городской посёлок Назия'], dtype=object)"
      ]
     },
     "execution_count": 79,
     "metadata": {},
     "output_type": "execute_result"
    }
   ],
   "source": [
    "#Выявление НЕ явных дубликатов\n",
    "df['locality_name'].sort_values().unique()[:50]"
   ]
  },
  {
   "cell_type": "code",
   "execution_count": 80,
   "metadata": {},
   "outputs": [],
   "source": [
    "#списки \"лишних\" символов в названии населенных пунктов (от несколко слов к одному слову)\n",
    "bed_list_location_1 = [\n",
    "    'посёлок при железнодорожной станции',\n",
    "    'садоводческое некоммерческое товарищество'\n",
    "    ]\n",
    "    \n",
    "bed_list_location_2 = [        \n",
    "    'поселок городского типа',\n",
    "    'посёлок городского типа'\n",
    "    ]\n",
    "       \n",
    "bed_list_location_3 = [\n",
    "    'городской поселок', \n",
    "    'городской посёлок', \n",
    "    'коттеджный поселок', \n",
    "    'коттеджный посёлок', \n",
    "    'поселок станции',\n",
    "    'посёлок станции',\n",
    "    'садовое товарищество'\n",
    "    ]\n",
    "\n",
    "bed_list_location_4 = [\n",
    "    'деревня', \n",
    "    'поселок',\n",
    "    'посёлок',\n",
    "    'село'\n",
    "    ]\n",
    "\n",
    "#список списков\n",
    "list_list = [bed_list_location_1, bed_list_location_2, bed_list_location_3, bed_list_location_4]\n",
    "\n",
    "#удаление \"лишних\" символов в названии населенных пунктов (несколко слов)\n",
    "\n",
    "for listes in list_list:\n",
    "    for i in listes:\n",
    "\n",
    "        #индексы строк (названий населенных пунктов)\n",
    "        index_location = list(df.loc[df['locality_name'].str.contains(i)==True, 'locality_name'].index)\n",
    "\n",
    "        #значения строк (названий населенных пунктов)\n",
    "        old_location = list(df.loc[df['locality_name'].str.contains(i)==True, 'locality_name'])\n",
    "\n",
    "        #новые значения строк (названий населенных пунктов)\n",
    "        new_location = []\n",
    "        for j in old_location:\n",
    "            new_location.append(j[len(i)+1:])\n",
    "\n",
    "        #замена названий населенных пунктов\n",
    "        for j in range(len(old_location)):\n",
    "            df.loc[index_location[j], 'locality_name'] = new_location[j]\n"
   ]
  },
  {
   "cell_type": "code",
   "execution_count": 81,
   "metadata": {
    "scrolled": true
   },
   "outputs": [
    {
     "data": {
      "text/plain": [
       "array(['Агалатово', 'Александровская', 'Алексеевка', 'Аннино', 'Аро',\n",
       "       'Барышево', 'Батово', 'Бегуницы', 'Белогорка', 'Белоостров',\n",
       "       'Бокситогорск', 'Большая Вруда', 'Большая Ижора',\n",
       "       'Большая Пустомержа', 'Большие Колпаны', 'Большое Рейзино',\n",
       "       'Большой Сабск', 'Бор', 'Борисова Грива', 'Бугры', 'Будогощь',\n",
       "       'Ваганово', 'Важины', 'Вартемяги', 'Вахнова Кара', 'Вещево',\n",
       "       'Виллози', 'Вознесенье', 'Возрождение', 'Войсковицы', 'Войскорово',\n",
       "       'Володарское', 'Волосово', 'Волхов', 'Всеволожск', 'Выборг',\n",
       "       'Вырица', 'Выскатка', 'Высокоключевой', 'Высоцк', 'Гаврилово',\n",
       "       'Гарболово', 'Гатчина', 'Гладкое', 'Глажево', 'Глебычево',\n",
       "       'Глинка', 'Гончарово', 'Горбунки', 'Гостилицы'], dtype=object)"
      ]
     },
     "execution_count": 81,
     "metadata": {},
     "output_type": "execute_result"
    }
   ],
   "source": [
    "#проверка на отсутсвие НЕ явных дубликатов\n",
    "df['locality_name'].sort_values().unique()[:50]"
   ]
  },
  {
   "cell_type": "markdown",
   "metadata": {},
   "source": [
    "### Выявление и заполнение пропусков"
   ]
  },
  {
   "cell_type": "markdown",
   "metadata": {},
   "source": [
    "1. Выявить наличие пропусков\n",
    "2. Определить методы из заполнения"
   ]
  },
  {
   "cell_type": "code",
   "execution_count": 82,
   "metadata": {},
   "outputs": [
    {
     "data": {
      "text/plain": [
       "total_images                0\n",
       "last_price                  0\n",
       "total_area                  0\n",
       "first_day_exposition        0\n",
       "rooms                       0\n",
       "ceiling_height           9195\n",
       "floors_total               86\n",
       "living_area              1903\n",
       "floor                       0\n",
       "is_apartment            20924\n",
       "studio                      0\n",
       "open_plan                   0\n",
       "kitchen_area             2278\n",
       "balcony                 11519\n",
       "locality_name              49\n",
       "airports_nearest         5542\n",
       "city_centers_nearest     5519\n",
       "parks_around_3000        5518\n",
       "parks_nearest           15620\n",
       "ponds_around_3000        5518\n",
       "ponds_nearest           14589\n",
       "days_exposition          3181\n",
       "dtype: int64"
      ]
     },
     "execution_count": 82,
     "metadata": {},
     "output_type": "execute_result"
    }
   ],
   "source": [
    "# Определим наличие пропусков\n",
    "df.isna().sum()"
   ]
  },
  {
   "cell_type": "markdown",
   "metadata": {},
   "source": [
    "Пропуски присутсвуют в столбцах: `ceiling_height`, `floors_total`, `living_area`, `is_apartment`, `kitchen_area`, `balcony`, `locality_name`, `airports_nearest`, `city_centers_nearest`, `parks_around_3000`, `parks_nearest`, `ponds_around_3000`, `ponds_nearest`, `days_exposition`\n",
    "\n",
    "1. Незаполненные значения `floors_total` вероятно говорят о том, что квартира находится на крайнем этаже. Поэтому есть смысл **прировнять его к `floor`**\n",
    "2. Незаполненные значения столбцов `ceiling_height`, `living_area` и `kitchen_area` можно **заполнить медианными значениями**.\n",
    "3. Незаполнениые значения столбов `balcony`, `parks_around_3000` и `ponds_around_3000` говорят об отсутсвии балконов, парков и водоемов. Поэтомуесть смысл **заменить их на ноль**.\n",
    "4. Незаполнениые значения `locality_name` заменить ни чем нельзя, поэтому **эти строки будут удалены**.\n",
    "5. Незаполнениые значения столбов `is_apartment`, `parks_nearest`, `ponds_nearest` и `days_exposition` говорят о том, что это квартира, до перка или водоема очень далеко, продажа не состоялась. Поэтому **с этими пропусками делать ни чего не надо**.\n",
    "6. Незаполнениые значения столбов `airports_nearest` и `city_centers_nearest` говорят о некорректных данных **для Санкт-Петербурга** (такие строки надо **удалить**), но **для остальных населенных пунктов установить медианное значение для каждого населенного пункта**."
   ]
  },
  {
   "cell_type": "markdown",
   "metadata": {},
   "source": [
    "1. Заполнение значений столбца `floors_total`"
   ]
  },
  {
   "cell_type": "code",
   "execution_count": 83,
   "metadata": {},
   "outputs": [],
   "source": [
    "# Замена пропусков на значение текущего этажа\n",
    "# Создвем список индексов строк с пропусками этажности дома\n",
    "list_floors_total_ind = list(df.loc[(df['floors_total'].isna() == True), 'floor'].index)\n",
    "\n",
    "# По списку индексов засеняем пропуск этажности на значение текущего этажа\n",
    "for lists in list_floors_total_ind:\n",
    "    df.loc[lists, 'floors_total'] = df.loc[lists, 'floor']\n"
   ]
  },
  {
   "cell_type": "markdown",
   "metadata": {},
   "source": [
    "2. Заполнение значений столбцов `ceiling_height`, `living_area` и `kitchen_area`"
   ]
  },
  {
   "cell_type": "code",
   "execution_count": 84,
   "metadata": {},
   "outputs": [],
   "source": [
    "# Замена на медианное значение\n",
    "list_median = ['ceiling_height', 'living_area', 'kitchen_area']\n",
    "for i in list_median:\n",
    "    df[i] = df[i].fillna(df[i].median())"
   ]
  },
  {
   "cell_type": "markdown",
   "metadata": {},
   "source": [
    "3. Заполнение значений столбцов `balcony`, `parks_around_3000` и `ponds_around_3000`"
   ]
  },
  {
   "cell_type": "code",
   "execution_count": 85,
   "metadata": {},
   "outputs": [],
   "source": [
    "# Замена на нулевое значение\n",
    "list_0 = ['balcony', 'parks_around_3000', 'ponds_around_3000']\n",
    "for i in list_0:\n",
    "    df[i] = df[i].fillna(0)"
   ]
  },
  {
   "cell_type": "markdown",
   "metadata": {},
   "source": [
    "4. Удаление строк с незаполнеными значениями `locality_name`"
   ]
  },
  {
   "cell_type": "code",
   "execution_count": 86,
   "metadata": {},
   "outputs": [],
   "source": [
    "# Удаление строк\n",
    "df = df.dropna(subset=['locality_name'])"
   ]
  },
  {
   "cell_type": "markdown",
   "metadata": {},
   "source": [
    "6. Незаполнениые значения столбов `airports_nearest` и `city_centers_nearest` для 10 наиболее частотных населенных пунктов (в которых было более 90 объявлений) установить медианное значение для каждого населенного пункта. Для остальных населенных пунктов установить нулевые значения."
   ]
  },
  {
   "cell_type": "markdown",
   "metadata": {},
   "source": [
    "Определим список населенных пунктов, в которых было более 90 объявлнеий о продаже"
   ]
  },
  {
   "cell_type": "code",
   "execution_count": 87,
   "metadata": {},
   "outputs": [
    {
     "data": {
      "text/html": [
       "<div>\n",
       "<style scoped>\n",
       "    .dataframe tbody tr th:only-of-type {\n",
       "        vertical-align: middle;\n",
       "    }\n",
       "\n",
       "    .dataframe tbody tr th {\n",
       "        vertical-align: top;\n",
       "    }\n",
       "\n",
       "    .dataframe thead th {\n",
       "        text-align: right;\n",
       "    }\n",
       "</style>\n",
       "<table border=\"1\" class=\"dataframe\">\n",
       "  <thead>\n",
       "    <tr style=\"text-align: right;\">\n",
       "      <th></th>\n",
       "      <th>airports_nearest_count</th>\n",
       "      <th>airports_nearest_median</th>\n",
       "    </tr>\n",
       "    <tr>\n",
       "      <th>locality_name</th>\n",
       "      <th></th>\n",
       "      <th></th>\n",
       "    </tr>\n",
       "  </thead>\n",
       "  <tbody>\n",
       "    <tr>\n",
       "      <th>Колпино</th>\n",
       "      <td>337</td>\n",
       "      <td>26232.0</td>\n",
       "    </tr>\n",
       "    <tr>\n",
       "      <th>Красное Село</th>\n",
       "      <td>176</td>\n",
       "      <td>25715.5</td>\n",
       "    </tr>\n",
       "    <tr>\n",
       "      <th>Кронштадт</th>\n",
       "      <td>95</td>\n",
       "      <td>67850.0</td>\n",
       "    </tr>\n",
       "    <tr>\n",
       "      <th>Ломоносов</th>\n",
       "      <td>132</td>\n",
       "      <td>48415.5</td>\n",
       "    </tr>\n",
       "    <tr>\n",
       "      <th>Парголово</th>\n",
       "      <td>327</td>\n",
       "      <td>53426.0</td>\n",
       "    </tr>\n",
       "    <tr>\n",
       "      <th>Петергоф</th>\n",
       "      <td>201</td>\n",
       "      <td>39231.0</td>\n",
       "    </tr>\n",
       "    <tr>\n",
       "      <th>Пушкин</th>\n",
       "      <td>369</td>\n",
       "      <td>15766.0</td>\n",
       "    </tr>\n",
       "    <tr>\n",
       "      <th>Санкт-Петербург</th>\n",
       "      <td>15636</td>\n",
       "      <td>26757.5</td>\n",
       "    </tr>\n",
       "    <tr>\n",
       "      <th>Сестрорецк</th>\n",
       "      <td>183</td>\n",
       "      <td>56692.0</td>\n",
       "    </tr>\n",
       "    <tr>\n",
       "      <th>Шушары</th>\n",
       "      <td>436</td>\n",
       "      <td>17427.0</td>\n",
       "    </tr>\n",
       "  </tbody>\n",
       "</table>\n",
       "</div>"
      ],
      "text/plain": [
       "                 airports_nearest_count  airports_nearest_median\n",
       "locality_name                                                   \n",
       "Колпино                             337                  26232.0\n",
       "Красное Село                        176                  25715.5\n",
       "Кронштадт                            95                  67850.0\n",
       "Ломоносов                           132                  48415.5\n",
       "Парголово                           327                  53426.0\n",
       "Петергоф                            201                  39231.0\n",
       "Пушкин                              369                  15766.0\n",
       "Санкт-Петербург                   15636                  26757.5\n",
       "Сестрорецк                          183                  56692.0\n",
       "Шушары                              436                  17427.0"
      ]
     },
     "metadata": {},
     "output_type": "display_data"
    }
   ],
   "source": [
    "# Нагоядное представление разброса объявлений (по параментру удаленности от аэропорта)\n",
    "df1= df.pivot_table(index='locality_name', values='airports_nearest', aggfunc=(['count', 'median']))\n",
    "df1.columns = ['airports_nearest_count', 'airports_nearest_median']\n",
    "display(df1[df1['airports_nearest_count'] > 90])"
   ]
  },
  {
   "cell_type": "code",
   "execution_count": 88,
   "metadata": {},
   "outputs": [
    {
     "data": {
      "text/html": [
       "<div>\n",
       "<style scoped>\n",
       "    .dataframe tbody tr th:only-of-type {\n",
       "        vertical-align: middle;\n",
       "    }\n",
       "\n",
       "    .dataframe tbody tr th {\n",
       "        vertical-align: top;\n",
       "    }\n",
       "\n",
       "    .dataframe thead th {\n",
       "        text-align: right;\n",
       "    }\n",
       "</style>\n",
       "<table border=\"1\" class=\"dataframe\">\n",
       "  <thead>\n",
       "    <tr style=\"text-align: right;\">\n",
       "      <th></th>\n",
       "      <th>city_centers_nearest_count</th>\n",
       "      <th>city_centers_nearest_median</th>\n",
       "    </tr>\n",
       "    <tr>\n",
       "      <th>locality_name</th>\n",
       "      <th></th>\n",
       "      <th></th>\n",
       "    </tr>\n",
       "  </thead>\n",
       "  <tbody>\n",
       "    <tr>\n",
       "      <th>Колпино</th>\n",
       "      <td>337</td>\n",
       "      <td>32018.0</td>\n",
       "    </tr>\n",
       "    <tr>\n",
       "      <th>Красное Село</th>\n",
       "      <td>176</td>\n",
       "      <td>29140.5</td>\n",
       "    </tr>\n",
       "    <tr>\n",
       "      <th>Кронштадт</th>\n",
       "      <td>95</td>\n",
       "      <td>49575.0</td>\n",
       "    </tr>\n",
       "    <tr>\n",
       "      <th>Ломоносов</th>\n",
       "      <td>132</td>\n",
       "      <td>51677.0</td>\n",
       "    </tr>\n",
       "    <tr>\n",
       "      <th>Парголово</th>\n",
       "      <td>327</td>\n",
       "      <td>19311.0</td>\n",
       "    </tr>\n",
       "    <tr>\n",
       "      <th>Петергоф</th>\n",
       "      <td>201</td>\n",
       "      <td>33771.0</td>\n",
       "    </tr>\n",
       "    <tr>\n",
       "      <th>Пушкин</th>\n",
       "      <td>368</td>\n",
       "      <td>27930.5</td>\n",
       "    </tr>\n",
       "    <tr>\n",
       "      <th>Санкт-Петербург</th>\n",
       "      <td>15660</td>\n",
       "      <td>12244.5</td>\n",
       "    </tr>\n",
       "    <tr>\n",
       "      <th>Сестрорецк</th>\n",
       "      <td>183</td>\n",
       "      <td>34821.0</td>\n",
       "    </tr>\n",
       "    <tr>\n",
       "      <th>Шушары</th>\n",
       "      <td>436</td>\n",
       "      <td>24212.0</td>\n",
       "    </tr>\n",
       "  </tbody>\n",
       "</table>\n",
       "</div>"
      ],
      "text/plain": [
       "                 city_centers_nearest_count  city_centers_nearest_median\n",
       "locality_name                                                           \n",
       "Колпино                                 337                      32018.0\n",
       "Красное Село                            176                      29140.5\n",
       "Кронштадт                                95                      49575.0\n",
       "Ломоносов                               132                      51677.0\n",
       "Парголово                               327                      19311.0\n",
       "Петергоф                                201                      33771.0\n",
       "Пушкин                                  368                      27930.5\n",
       "Санкт-Петербург                       15660                      12244.5\n",
       "Сестрорецк                              183                      34821.0\n",
       "Шушары                                  436                      24212.0"
      ]
     },
     "metadata": {},
     "output_type": "display_data"
    }
   ],
   "source": [
    "# Нагоядное представление разброса объявлений (по параментру удаленности от центра города)\n",
    "df2= df.pivot_table(index='locality_name', values='city_centers_nearest', aggfunc=(['count', 'median']))\n",
    "df2.columns = ['city_centers_nearest_count', 'city_centers_nearest_median']\n",
    "display(df2[df2['city_centers_nearest_count'] > 90])"
   ]
  },
  {
   "cell_type": "markdown",
   "metadata": {},
   "source": [
    "Списки одинаковые, поэтому будем испльзовать только один из них.\n",
    "\n",
    "По списку `list_locality_name` заполнеие медианными значениями всех пропусков для каждого населенного пункта"
   ]
  },
  {
   "cell_type": "code",
   "execution_count": 89,
   "metadata": {},
   "outputs": [],
   "source": [
    "# По списку list_locality_name замена пропусков на медианные значение по каждому населенному пункту\n",
    "\n",
    "# Создание списка населенных пунтов (list_locality_name), в которых было более 100 объявлнеий о продаже\n",
    "list_locality_name = list(df1[df1['airports_nearest_count'] > 90].index)\n",
    "\n",
    "# Создаем пустые списки для их заполненеия медианными значениями\n",
    "median_airports_nearest = []\n",
    "median_city_centers_nearest = []\n",
    "\n",
    "# По списку населенных пунктов заполняем медианные значения отдаленности от аэропорта и от центра города\n",
    "for lists in list_locality_name:\n",
    "    median_airports_nearest.append(df[df['locality_name'] == lists]['airports_nearest'].median())\n",
    "    median_city_centers_nearest.append(df[df['locality_name'] == lists]['city_centers_nearest'].median())\n",
    "\n",
    "# Заменяем пропуски на медианные значения по каждому населенному пункту для каждого из столбцов\n",
    "for i in range(len(list_locality_name)):\n",
    "    df.loc[(df['airports_nearest'].isna() == True)&(df['locality_name'] == list_locality_name[i]), 'airports_nearest'] = median_airports_nearest[i]\n",
    "    df.loc[(df['city_centers_nearest'].isna() == True)&(df['locality_name'] == list_locality_name[i]), 'city_centers_nearest'] = median_city_centers_nearest[i]"
   ]
  },
  {
   "cell_type": "markdown",
   "metadata": {},
   "source": [
    "Для остальных населенных пунктов устанавливаем нулевые значения."
   ]
  },
  {
   "cell_type": "code",
   "execution_count": 90,
   "metadata": {},
   "outputs": [],
   "source": [
    "# Замена пропусков на нулевые значения\n",
    "list_0 = ['airports_nearest', 'city_centers_nearest']\n",
    "for lists in list_0:\n",
    "    df[lists] = df[lists].fillna(0)"
   ]
  },
  {
   "cell_type": "code",
   "execution_count": 91,
   "metadata": {},
   "outputs": [
    {
     "data": {
      "text/plain": [
       "total_images                0\n",
       "last_price                  0\n",
       "total_area                  0\n",
       "first_day_exposition        0\n",
       "rooms                       0\n",
       "ceiling_height              0\n",
       "floors_total                0\n",
       "living_area                 0\n",
       "floor                       0\n",
       "is_apartment            20890\n",
       "studio                      0\n",
       "open_plan                   0\n",
       "kitchen_area                0\n",
       "balcony                     0\n",
       "locality_name               0\n",
       "airports_nearest            0\n",
       "city_centers_nearest        0\n",
       "parks_around_3000           0\n",
       "parks_nearest           15586\n",
       "ponds_around_3000           0\n",
       "ponds_nearest           14565\n",
       "days_exposition          3180\n",
       "dtype: int64"
      ]
     },
     "execution_count": 91,
     "metadata": {},
     "output_type": "execute_result"
    }
   ],
   "source": [
    "# Контроль наличия пропусков\n",
    "df.isna().sum()"
   ]
  },
  {
   "cell_type": "markdown",
   "metadata": {},
   "source": [
    "### Установка в столбцах корректный тип данных"
   ]
  },
  {
   "cell_type": "markdown",
   "metadata": {},
   "source": [
    "В столбцах установить следующие тибы данных:\n",
    "* `first_day_exposition` - datetime\n",
    "* `floors_total` -  int\n",
    "* `is_apartment` -  bool\n",
    "* `balcony` - int\n",
    "* `parks_around_3000` - int\n",
    "* `ponds_around_3000` - int"
   ]
  },
  {
   "cell_type": "code",
   "execution_count": 92,
   "metadata": {},
   "outputs": [
    {
     "name": "stdout",
     "output_type": "stream",
     "text": [
      "<class 'pandas.core.frame.DataFrame'>\n",
      "Int64Index: 23650 entries, 0 to 23698\n",
      "Data columns (total 22 columns):\n",
      " #   Column                Non-Null Count  Dtype  \n",
      "---  ------                --------------  -----  \n",
      " 0   total_images          23650 non-null  int64  \n",
      " 1   last_price            23650 non-null  float64\n",
      " 2   total_area            23650 non-null  float64\n",
      " 3   first_day_exposition  23650 non-null  object \n",
      " 4   rooms                 23650 non-null  int64  \n",
      " 5   ceiling_height        23650 non-null  float64\n",
      " 6   floors_total          23650 non-null  float64\n",
      " 7   living_area           23650 non-null  float64\n",
      " 8   floor                 23650 non-null  int64  \n",
      " 9   is_apartment          2760 non-null   object \n",
      " 10  studio                23650 non-null  bool   \n",
      " 11  open_plan             23650 non-null  bool   \n",
      " 12  kitchen_area          23650 non-null  float64\n",
      " 13  balcony               23650 non-null  float64\n",
      " 14  locality_name         23650 non-null  object \n",
      " 15  airports_nearest      23650 non-null  float64\n",
      " 16  city_centers_nearest  23650 non-null  float64\n",
      " 17  parks_around_3000     23650 non-null  float64\n",
      " 18  parks_nearest         8064 non-null   float64\n",
      " 19  ponds_around_3000     23650 non-null  float64\n",
      " 20  ponds_nearest         9085 non-null   float64\n",
      " 21  days_exposition       20470 non-null  float64\n",
      "dtypes: bool(2), float64(14), int64(3), object(3)\n",
      "memory usage: 3.8+ MB\n"
     ]
    }
   ],
   "source": [
    "df.info()"
   ]
  },
  {
   "cell_type": "code",
   "execution_count": 93,
   "metadata": {},
   "outputs": [],
   "source": [
    "# Формирование в столбце first_day_exposition типа данных datetime\n",
    "df['first_day_exposition'] = pd.to_datetime(df['first_day_exposition'], format='%Y-%m-%dT%H:%M:%S')"
   ]
  },
  {
   "cell_type": "code",
   "execution_count": 94,
   "metadata": {},
   "outputs": [],
   "source": [
    "# Формирование в столбце is_apartment булевого типа данных\n",
    "df['is_apartment'] = df['is_apartment'].fillna(True)\n",
    "df['is_apartment'] = df['is_apartment'].astype('bool')"
   ]
  },
  {
   "cell_type": "code",
   "execution_count": 95,
   "metadata": {},
   "outputs": [],
   "source": [
    "# Формирование в остальных столбцах типа данных int\n",
    "list_int = ['floors_total', 'balcony', 'parks_around_3000', 'ponds_around_3000']\n",
    "for i in list_int:\n",
    "    df[i] = df[i].astype('int')"
   ]
  },
  {
   "cell_type": "code",
   "execution_count": 96,
   "metadata": {},
   "outputs": [
    {
     "name": "stdout",
     "output_type": "stream",
     "text": [
      "<class 'pandas.core.frame.DataFrame'>\n",
      "Int64Index: 23650 entries, 0 to 23698\n",
      "Data columns (total 22 columns):\n",
      " #   Column                Non-Null Count  Dtype         \n",
      "---  ------                --------------  -----         \n",
      " 0   total_images          23650 non-null  int64         \n",
      " 1   last_price            23650 non-null  float64       \n",
      " 2   total_area            23650 non-null  float64       \n",
      " 3   first_day_exposition  23650 non-null  datetime64[ns]\n",
      " 4   rooms                 23650 non-null  int64         \n",
      " 5   ceiling_height        23650 non-null  float64       \n",
      " 6   floors_total          23650 non-null  int64         \n",
      " 7   living_area           23650 non-null  float64       \n",
      " 8   floor                 23650 non-null  int64         \n",
      " 9   is_apartment          23650 non-null  bool          \n",
      " 10  studio                23650 non-null  bool          \n",
      " 11  open_plan             23650 non-null  bool          \n",
      " 12  kitchen_area          23650 non-null  float64       \n",
      " 13  balcony               23650 non-null  int64         \n",
      " 14  locality_name         23650 non-null  object        \n",
      " 15  airports_nearest      23650 non-null  float64       \n",
      " 16  city_centers_nearest  23650 non-null  float64       \n",
      " 17  parks_around_3000     23650 non-null  int64         \n",
      " 18  parks_nearest         8064 non-null   float64       \n",
      " 19  ponds_around_3000     23650 non-null  int64         \n",
      " 20  ponds_nearest         9085 non-null   float64       \n",
      " 21  days_exposition       20470 non-null  float64       \n",
      "dtypes: bool(3), datetime64[ns](1), float64(10), int64(7), object(1)\n",
      "memory usage: 3.7+ MB\n"
     ]
    }
   ],
   "source": [
    "df.info()"
   ]
  },
  {
   "cell_type": "markdown",
   "metadata": {},
   "source": [
    "### Выявление и исключение аномальных значений"
   ]
  },
  {
   "cell_type": "markdown",
   "metadata": {},
   "source": [
    "На основании приведенной ниже выборки можно сдвлеть вывод, что аномальные выбросы есть по столбцу `ceiling_height`"
   ]
  },
  {
   "cell_type": "code",
   "execution_count": 97,
   "metadata": {},
   "outputs": [
    {
     "name": "stdout",
     "output_type": "stream",
     "text": [
      "total_images 50\n",
      "last_price 763000000.0\n",
      "total_area 900.0\n",
      "first_day_exposition 2019-05-03 00:00:00\n",
      "rooms 19\n",
      "ceiling_height 100.0\n",
      "floors_total 60\n",
      "living_area 409.7\n",
      "floor 33\n",
      "is_apartment True\n",
      "studio True\n",
      "open_plan True\n",
      "kitchen_area 112.0\n",
      "balcony 5\n",
      "locality_name ок\n",
      "airports_nearest 84869.0\n",
      "city_centers_nearest 65968.0\n",
      "parks_around_3000 3\n",
      "parks_nearest 3190.0\n",
      "ponds_around_3000 3\n",
      "ponds_nearest 1344.0\n",
      "days_exposition 1580.0\n"
     ]
    }
   ],
   "source": [
    "# Выявление максимальных значенией по каждому столбцу\n",
    "for i in list(df.columns):\n",
    "    print(i, df[i].max())"
   ]
  },
  {
   "cell_type": "code",
   "execution_count": 98,
   "metadata": {
    "scrolled": true
   },
   "outputs": [
    {
     "data": {
      "text/html": [
       "<div>\n",
       "<style scoped>\n",
       "    .dataframe tbody tr th:only-of-type {\n",
       "        vertical-align: middle;\n",
       "    }\n",
       "\n",
       "    .dataframe tbody tr th {\n",
       "        vertical-align: top;\n",
       "    }\n",
       "\n",
       "    .dataframe thead th {\n",
       "        text-align: right;\n",
       "    }\n",
       "</style>\n",
       "<table border=\"1\" class=\"dataframe\">\n",
       "  <thead>\n",
       "    <tr style=\"text-align: right;\">\n",
       "      <th></th>\n",
       "      <th>total_images</th>\n",
       "      <th>last_price</th>\n",
       "      <th>total_area</th>\n",
       "      <th>first_day_exposition</th>\n",
       "      <th>rooms</th>\n",
       "      <th>ceiling_height</th>\n",
       "      <th>floors_total</th>\n",
       "      <th>living_area</th>\n",
       "      <th>floor</th>\n",
       "      <th>is_apartment</th>\n",
       "      <th>...</th>\n",
       "      <th>kitchen_area</th>\n",
       "      <th>balcony</th>\n",
       "      <th>locality_name</th>\n",
       "      <th>airports_nearest</th>\n",
       "      <th>city_centers_nearest</th>\n",
       "      <th>parks_around_3000</th>\n",
       "      <th>parks_nearest</th>\n",
       "      <th>ponds_around_3000</th>\n",
       "      <th>ponds_nearest</th>\n",
       "      <th>days_exposition</th>\n",
       "    </tr>\n",
       "  </thead>\n",
       "  <tbody>\n",
       "    <tr>\n",
       "      <th>355</th>\n",
       "      <td>17</td>\n",
       "      <td>3600000.0</td>\n",
       "      <td>55.2</td>\n",
       "      <td>2018-07-12</td>\n",
       "      <td>2</td>\n",
       "      <td>25.0</td>\n",
       "      <td>5</td>\n",
       "      <td>32.0</td>\n",
       "      <td>2</td>\n",
       "      <td>False</td>\n",
       "      <td>...</td>\n",
       "      <td>9.1</td>\n",
       "      <td>2</td>\n",
       "      <td>Гатчина</td>\n",
       "      <td>0.0</td>\n",
       "      <td>0.0</td>\n",
       "      <td>0</td>\n",
       "      <td>NaN</td>\n",
       "      <td>0</td>\n",
       "      <td>NaN</td>\n",
       "      <td>259.0</td>\n",
       "    </tr>\n",
       "    <tr>\n",
       "      <th>3148</th>\n",
       "      <td>14</td>\n",
       "      <td>2900000.0</td>\n",
       "      <td>75.0</td>\n",
       "      <td>2018-11-12</td>\n",
       "      <td>3</td>\n",
       "      <td>32.0</td>\n",
       "      <td>3</td>\n",
       "      <td>53.0</td>\n",
       "      <td>2</td>\n",
       "      <td>True</td>\n",
       "      <td>...</td>\n",
       "      <td>8.0</td>\n",
       "      <td>0</td>\n",
       "      <td>Волхов</td>\n",
       "      <td>0.0</td>\n",
       "      <td>0.0</td>\n",
       "      <td>0</td>\n",
       "      <td>NaN</td>\n",
       "      <td>0</td>\n",
       "      <td>NaN</td>\n",
       "      <td>NaN</td>\n",
       "    </tr>\n",
       "    <tr>\n",
       "      <th>4643</th>\n",
       "      <td>0</td>\n",
       "      <td>4300000.0</td>\n",
       "      <td>45.0</td>\n",
       "      <td>2018-02-01</td>\n",
       "      <td>2</td>\n",
       "      <td>25.0</td>\n",
       "      <td>9</td>\n",
       "      <td>30.0</td>\n",
       "      <td>2</td>\n",
       "      <td>True</td>\n",
       "      <td>...</td>\n",
       "      <td>7.0</td>\n",
       "      <td>1</td>\n",
       "      <td>Санкт-Петербург</td>\n",
       "      <td>12016.0</td>\n",
       "      <td>13256.0</td>\n",
       "      <td>1</td>\n",
       "      <td>658.0</td>\n",
       "      <td>1</td>\n",
       "      <td>331.0</td>\n",
       "      <td>181.0</td>\n",
       "    </tr>\n",
       "    <tr>\n",
       "      <th>4876</th>\n",
       "      <td>7</td>\n",
       "      <td>3000000.0</td>\n",
       "      <td>25.0</td>\n",
       "      <td>2017-09-27</td>\n",
       "      <td>0</td>\n",
       "      <td>27.0</td>\n",
       "      <td>25</td>\n",
       "      <td>17.0</td>\n",
       "      <td>17</td>\n",
       "      <td>True</td>\n",
       "      <td>...</td>\n",
       "      <td>9.1</td>\n",
       "      <td>2</td>\n",
       "      <td>Мурино</td>\n",
       "      <td>0.0</td>\n",
       "      <td>0.0</td>\n",
       "      <td>0</td>\n",
       "      <td>NaN</td>\n",
       "      <td>0</td>\n",
       "      <td>NaN</td>\n",
       "      <td>28.0</td>\n",
       "    </tr>\n",
       "    <tr>\n",
       "      <th>5076</th>\n",
       "      <td>0</td>\n",
       "      <td>3850000.0</td>\n",
       "      <td>30.5</td>\n",
       "      <td>2018-10-03</td>\n",
       "      <td>1</td>\n",
       "      <td>24.0</td>\n",
       "      <td>5</td>\n",
       "      <td>19.5</td>\n",
       "      <td>1</td>\n",
       "      <td>True</td>\n",
       "      <td>...</td>\n",
       "      <td>5.5</td>\n",
       "      <td>0</td>\n",
       "      <td>Санкт-Петербург</td>\n",
       "      <td>29686.0</td>\n",
       "      <td>8389.0</td>\n",
       "      <td>3</td>\n",
       "      <td>397.0</td>\n",
       "      <td>1</td>\n",
       "      <td>578.0</td>\n",
       "      <td>7.0</td>\n",
       "    </tr>\n",
       "    <tr>\n",
       "      <th>5246</th>\n",
       "      <td>0</td>\n",
       "      <td>2500000.0</td>\n",
       "      <td>54.0</td>\n",
       "      <td>2017-10-13</td>\n",
       "      <td>2</td>\n",
       "      <td>27.0</td>\n",
       "      <td>5</td>\n",
       "      <td>30.0</td>\n",
       "      <td>3</td>\n",
       "      <td>True</td>\n",
       "      <td>...</td>\n",
       "      <td>9.0</td>\n",
       "      <td>2</td>\n",
       "      <td>Мины</td>\n",
       "      <td>0.0</td>\n",
       "      <td>0.0</td>\n",
       "      <td>0</td>\n",
       "      <td>NaN</td>\n",
       "      <td>0</td>\n",
       "      <td>NaN</td>\n",
       "      <td>540.0</td>\n",
       "    </tr>\n",
       "    <tr>\n",
       "      <th>5669</th>\n",
       "      <td>4</td>\n",
       "      <td>4400000.0</td>\n",
       "      <td>50.0</td>\n",
       "      <td>2017-08-08</td>\n",
       "      <td>2</td>\n",
       "      <td>26.0</td>\n",
       "      <td>9</td>\n",
       "      <td>21.3</td>\n",
       "      <td>3</td>\n",
       "      <td>True</td>\n",
       "      <td>...</td>\n",
       "      <td>7.0</td>\n",
       "      <td>2</td>\n",
       "      <td>Санкт-Петербург</td>\n",
       "      <td>28981.0</td>\n",
       "      <td>10912.0</td>\n",
       "      <td>1</td>\n",
       "      <td>305.0</td>\n",
       "      <td>0</td>\n",
       "      <td>NaN</td>\n",
       "      <td>267.0</td>\n",
       "    </tr>\n",
       "    <tr>\n",
       "      <th>5807</th>\n",
       "      <td>17</td>\n",
       "      <td>8150000.0</td>\n",
       "      <td>80.0</td>\n",
       "      <td>2019-01-09</td>\n",
       "      <td>2</td>\n",
       "      <td>27.0</td>\n",
       "      <td>36</td>\n",
       "      <td>41.0</td>\n",
       "      <td>13</td>\n",
       "      <td>True</td>\n",
       "      <td>...</td>\n",
       "      <td>12.0</td>\n",
       "      <td>5</td>\n",
       "      <td>Санкт-Петербург</td>\n",
       "      <td>18732.0</td>\n",
       "      <td>20444.0</td>\n",
       "      <td>0</td>\n",
       "      <td>NaN</td>\n",
       "      <td>3</td>\n",
       "      <td>80.0</td>\n",
       "      <td>38.0</td>\n",
       "    </tr>\n",
       "    <tr>\n",
       "      <th>5863</th>\n",
       "      <td>20</td>\n",
       "      <td>5650000.0</td>\n",
       "      <td>45.0</td>\n",
       "      <td>2018-08-15</td>\n",
       "      <td>1</td>\n",
       "      <td>8.3</td>\n",
       "      <td>16</td>\n",
       "      <td>19.3</td>\n",
       "      <td>14</td>\n",
       "      <td>True</td>\n",
       "      <td>...</td>\n",
       "      <td>8.3</td>\n",
       "      <td>1</td>\n",
       "      <td>Санкт-Петербург</td>\n",
       "      <td>13069.0</td>\n",
       "      <td>10763.0</td>\n",
       "      <td>0</td>\n",
       "      <td>NaN</td>\n",
       "      <td>1</td>\n",
       "      <td>613.0</td>\n",
       "      <td>14.0</td>\n",
       "    </tr>\n",
       "    <tr>\n",
       "      <th>6246</th>\n",
       "      <td>6</td>\n",
       "      <td>3300000.0</td>\n",
       "      <td>44.4</td>\n",
       "      <td>2019-03-25</td>\n",
       "      <td>2</td>\n",
       "      <td>25.0</td>\n",
       "      <td>5</td>\n",
       "      <td>31.3</td>\n",
       "      <td>5</td>\n",
       "      <td>True</td>\n",
       "      <td>...</td>\n",
       "      <td>5.7</td>\n",
       "      <td>0</td>\n",
       "      <td>Кронштадт</td>\n",
       "      <td>68923.0</td>\n",
       "      <td>50649.0</td>\n",
       "      <td>1</td>\n",
       "      <td>417.0</td>\n",
       "      <td>2</td>\n",
       "      <td>73.0</td>\n",
       "      <td>NaN</td>\n",
       "    </tr>\n",
       "    <tr>\n",
       "      <th>9379</th>\n",
       "      <td>5</td>\n",
       "      <td>3950000.0</td>\n",
       "      <td>42.0</td>\n",
       "      <td>2017-03-26</td>\n",
       "      <td>3</td>\n",
       "      <td>25.0</td>\n",
       "      <td>5</td>\n",
       "      <td>30.0</td>\n",
       "      <td>2</td>\n",
       "      <td>True</td>\n",
       "      <td>...</td>\n",
       "      <td>5.2</td>\n",
       "      <td>0</td>\n",
       "      <td>Санкт-Петербург</td>\n",
       "      <td>11647.0</td>\n",
       "      <td>13581.0</td>\n",
       "      <td>0</td>\n",
       "      <td>NaN</td>\n",
       "      <td>0</td>\n",
       "      <td>NaN</td>\n",
       "      <td>NaN</td>\n",
       "    </tr>\n",
       "    <tr>\n",
       "      <th>10773</th>\n",
       "      <td>8</td>\n",
       "      <td>3800000.0</td>\n",
       "      <td>58.0</td>\n",
       "      <td>2017-10-13</td>\n",
       "      <td>2</td>\n",
       "      <td>27.0</td>\n",
       "      <td>10</td>\n",
       "      <td>30.1</td>\n",
       "      <td>3</td>\n",
       "      <td>False</td>\n",
       "      <td>...</td>\n",
       "      <td>8.1</td>\n",
       "      <td>2</td>\n",
       "      <td>Мурино</td>\n",
       "      <td>0.0</td>\n",
       "      <td>0.0</td>\n",
       "      <td>0</td>\n",
       "      <td>NaN</td>\n",
       "      <td>0</td>\n",
       "      <td>NaN</td>\n",
       "      <td>71.0</td>\n",
       "    </tr>\n",
       "    <tr>\n",
       "      <th>11285</th>\n",
       "      <td>0</td>\n",
       "      <td>1950000.0</td>\n",
       "      <td>37.0</td>\n",
       "      <td>2019-03-20</td>\n",
       "      <td>1</td>\n",
       "      <td>25.0</td>\n",
       "      <td>5</td>\n",
       "      <td>17.0</td>\n",
       "      <td>4</td>\n",
       "      <td>False</td>\n",
       "      <td>...</td>\n",
       "      <td>9.0</td>\n",
       "      <td>2</td>\n",
       "      <td>Луга</td>\n",
       "      <td>0.0</td>\n",
       "      <td>0.0</td>\n",
       "      <td>0</td>\n",
       "      <td>NaN</td>\n",
       "      <td>0</td>\n",
       "      <td>NaN</td>\n",
       "      <td>18.0</td>\n",
       "    </tr>\n",
       "    <tr>\n",
       "      <th>14382</th>\n",
       "      <td>9</td>\n",
       "      <td>1700000.0</td>\n",
       "      <td>35.0</td>\n",
       "      <td>2015-12-04</td>\n",
       "      <td>1</td>\n",
       "      <td>25.0</td>\n",
       "      <td>5</td>\n",
       "      <td>20.0</td>\n",
       "      <td>2</td>\n",
       "      <td>False</td>\n",
       "      <td>...</td>\n",
       "      <td>8.0</td>\n",
       "      <td>1</td>\n",
       "      <td>Новый Свет</td>\n",
       "      <td>0.0</td>\n",
       "      <td>0.0</td>\n",
       "      <td>0</td>\n",
       "      <td>NaN</td>\n",
       "      <td>0</td>\n",
       "      <td>NaN</td>\n",
       "      <td>206.0</td>\n",
       "    </tr>\n",
       "    <tr>\n",
       "      <th>15061</th>\n",
       "      <td>19</td>\n",
       "      <td>5600000.0</td>\n",
       "      <td>56.4</td>\n",
       "      <td>2018-05-11</td>\n",
       "      <td>2</td>\n",
       "      <td>14.0</td>\n",
       "      <td>14</td>\n",
       "      <td>32.4</td>\n",
       "      <td>5</td>\n",
       "      <td>True</td>\n",
       "      <td>...</td>\n",
       "      <td>9.1</td>\n",
       "      <td>2</td>\n",
       "      <td>Санкт-Петербург</td>\n",
       "      <td>14814.0</td>\n",
       "      <td>13610.0</td>\n",
       "      <td>0</td>\n",
       "      <td>NaN</td>\n",
       "      <td>0</td>\n",
       "      <td>NaN</td>\n",
       "      <td>315.0</td>\n",
       "    </tr>\n",
       "    <tr>\n",
       "      <th>17496</th>\n",
       "      <td>15</td>\n",
       "      <td>6700000.0</td>\n",
       "      <td>92.9</td>\n",
       "      <td>2019-02-19</td>\n",
       "      <td>3</td>\n",
       "      <td>20.0</td>\n",
       "      <td>17</td>\n",
       "      <td>53.2</td>\n",
       "      <td>14</td>\n",
       "      <td>True</td>\n",
       "      <td>...</td>\n",
       "      <td>12.0</td>\n",
       "      <td>5</td>\n",
       "      <td>Санкт-Петербург</td>\n",
       "      <td>16295.0</td>\n",
       "      <td>15092.0</td>\n",
       "      <td>1</td>\n",
       "      <td>967.0</td>\n",
       "      <td>0</td>\n",
       "      <td>NaN</td>\n",
       "      <td>NaN</td>\n",
       "    </tr>\n",
       "    <tr>\n",
       "      <th>17857</th>\n",
       "      <td>1</td>\n",
       "      <td>3900000.0</td>\n",
       "      <td>56.0</td>\n",
       "      <td>2017-12-22</td>\n",
       "      <td>3</td>\n",
       "      <td>27.0</td>\n",
       "      <td>5</td>\n",
       "      <td>33.0</td>\n",
       "      <td>4</td>\n",
       "      <td>False</td>\n",
       "      <td>...</td>\n",
       "      <td>9.1</td>\n",
       "      <td>0</td>\n",
       "      <td>Санкт-Петербург</td>\n",
       "      <td>41030.0</td>\n",
       "      <td>15543.0</td>\n",
       "      <td>0</td>\n",
       "      <td>NaN</td>\n",
       "      <td>0</td>\n",
       "      <td>NaN</td>\n",
       "      <td>73.0</td>\n",
       "    </tr>\n",
       "    <tr>\n",
       "      <th>18545</th>\n",
       "      <td>6</td>\n",
       "      <td>3750000.0</td>\n",
       "      <td>43.0</td>\n",
       "      <td>2019-03-18</td>\n",
       "      <td>2</td>\n",
       "      <td>25.0</td>\n",
       "      <td>5</td>\n",
       "      <td>29.0</td>\n",
       "      <td>3</td>\n",
       "      <td>False</td>\n",
       "      <td>...</td>\n",
       "      <td>9.1</td>\n",
       "      <td>0</td>\n",
       "      <td>Санкт-Петербург</td>\n",
       "      <td>27054.0</td>\n",
       "      <td>8033.0</td>\n",
       "      <td>1</td>\n",
       "      <td>540.0</td>\n",
       "      <td>0</td>\n",
       "      <td>NaN</td>\n",
       "      <td>12.0</td>\n",
       "    </tr>\n",
       "    <tr>\n",
       "      <th>20478</th>\n",
       "      <td>11</td>\n",
       "      <td>8000000.0</td>\n",
       "      <td>45.0</td>\n",
       "      <td>2017-07-18</td>\n",
       "      <td>1</td>\n",
       "      <td>27.0</td>\n",
       "      <td>4</td>\n",
       "      <td>22.0</td>\n",
       "      <td>2</td>\n",
       "      <td>True</td>\n",
       "      <td>...</td>\n",
       "      <td>10.0</td>\n",
       "      <td>1</td>\n",
       "      <td>Санкт-Петербург</td>\n",
       "      <td>18975.0</td>\n",
       "      <td>3246.0</td>\n",
       "      <td>0</td>\n",
       "      <td>NaN</td>\n",
       "      <td>3</td>\n",
       "      <td>449.0</td>\n",
       "      <td>429.0</td>\n",
       "    </tr>\n",
       "    <tr>\n",
       "      <th>20507</th>\n",
       "      <td>12</td>\n",
       "      <td>5950000.0</td>\n",
       "      <td>60.0</td>\n",
       "      <td>2018-02-19</td>\n",
       "      <td>2</td>\n",
       "      <td>22.6</td>\n",
       "      <td>14</td>\n",
       "      <td>35.0</td>\n",
       "      <td>11</td>\n",
       "      <td>True</td>\n",
       "      <td>...</td>\n",
       "      <td>13.0</td>\n",
       "      <td>1</td>\n",
       "      <td>Санкт-Петербург</td>\n",
       "      <td>27028.0</td>\n",
       "      <td>12570.0</td>\n",
       "      <td>0</td>\n",
       "      <td>NaN</td>\n",
       "      <td>0</td>\n",
       "      <td>NaN</td>\n",
       "      <td>40.0</td>\n",
       "    </tr>\n",
       "    <tr>\n",
       "      <th>21377</th>\n",
       "      <td>19</td>\n",
       "      <td>4900000.0</td>\n",
       "      <td>42.0</td>\n",
       "      <td>2017-04-18</td>\n",
       "      <td>1</td>\n",
       "      <td>27.5</td>\n",
       "      <td>24</td>\n",
       "      <td>37.7</td>\n",
       "      <td>19</td>\n",
       "      <td>False</td>\n",
       "      <td>...</td>\n",
       "      <td>11.0</td>\n",
       "      <td>2</td>\n",
       "      <td>Санкт-Петербург</td>\n",
       "      <td>42742.0</td>\n",
       "      <td>9760.0</td>\n",
       "      <td>0</td>\n",
       "      <td>NaN</td>\n",
       "      <td>0</td>\n",
       "      <td>NaN</td>\n",
       "      <td>61.0</td>\n",
       "    </tr>\n",
       "    <tr>\n",
       "      <th>21824</th>\n",
       "      <td>20</td>\n",
       "      <td>2450000.0</td>\n",
       "      <td>44.0</td>\n",
       "      <td>2019-02-12</td>\n",
       "      <td>2</td>\n",
       "      <td>27.0</td>\n",
       "      <td>2</td>\n",
       "      <td>38.0</td>\n",
       "      <td>2</td>\n",
       "      <td>False</td>\n",
       "      <td>...</td>\n",
       "      <td>8.6</td>\n",
       "      <td>2</td>\n",
       "      <td>Большая Ижора</td>\n",
       "      <td>0.0</td>\n",
       "      <td>0.0</td>\n",
       "      <td>0</td>\n",
       "      <td>NaN</td>\n",
       "      <td>0</td>\n",
       "      <td>NaN</td>\n",
       "      <td>NaN</td>\n",
       "    </tr>\n",
       "    <tr>\n",
       "      <th>22309</th>\n",
       "      <td>20</td>\n",
       "      <td>5300000.0</td>\n",
       "      <td>45.0</td>\n",
       "      <td>2017-09-30</td>\n",
       "      <td>1</td>\n",
       "      <td>10.3</td>\n",
       "      <td>16</td>\n",
       "      <td>15.5</td>\n",
       "      <td>15</td>\n",
       "      <td>True</td>\n",
       "      <td>...</td>\n",
       "      <td>9.1</td>\n",
       "      <td>0</td>\n",
       "      <td>Санкт-Петербург</td>\n",
       "      <td>36353.0</td>\n",
       "      <td>11936.0</td>\n",
       "      <td>2</td>\n",
       "      <td>440.0</td>\n",
       "      <td>2</td>\n",
       "      <td>450.0</td>\n",
       "      <td>136.0</td>\n",
       "    </tr>\n",
       "    <tr>\n",
       "      <th>22336</th>\n",
       "      <td>19</td>\n",
       "      <td>9999000.0</td>\n",
       "      <td>92.4</td>\n",
       "      <td>2019-04-05</td>\n",
       "      <td>2</td>\n",
       "      <td>32.0</td>\n",
       "      <td>6</td>\n",
       "      <td>55.5</td>\n",
       "      <td>5</td>\n",
       "      <td>False</td>\n",
       "      <td>...</td>\n",
       "      <td>16.5</td>\n",
       "      <td>4</td>\n",
       "      <td>Санкт-Петербург</td>\n",
       "      <td>18838.0</td>\n",
       "      <td>3506.0</td>\n",
       "      <td>0</td>\n",
       "      <td>NaN</td>\n",
       "      <td>3</td>\n",
       "      <td>511.0</td>\n",
       "      <td>NaN</td>\n",
       "    </tr>\n",
       "    <tr>\n",
       "      <th>22869</th>\n",
       "      <td>0</td>\n",
       "      <td>15000000.0</td>\n",
       "      <td>25.0</td>\n",
       "      <td>2018-07-25</td>\n",
       "      <td>1</td>\n",
       "      <td>100.0</td>\n",
       "      <td>5</td>\n",
       "      <td>14.0</td>\n",
       "      <td>5</td>\n",
       "      <td>True</td>\n",
       "      <td>...</td>\n",
       "      <td>11.0</td>\n",
       "      <td>5</td>\n",
       "      <td>Санкт-Петербург</td>\n",
       "      <td>34963.0</td>\n",
       "      <td>8283.0</td>\n",
       "      <td>1</td>\n",
       "      <td>223.0</td>\n",
       "      <td>3</td>\n",
       "      <td>30.0</td>\n",
       "      <td>19.0</td>\n",
       "    </tr>\n",
       "    <tr>\n",
       "      <th>22938</th>\n",
       "      <td>14</td>\n",
       "      <td>4000000.0</td>\n",
       "      <td>98.0</td>\n",
       "      <td>2018-03-15</td>\n",
       "      <td>4</td>\n",
       "      <td>27.0</td>\n",
       "      <td>2</td>\n",
       "      <td>73.0</td>\n",
       "      <td>2</td>\n",
       "      <td>True</td>\n",
       "      <td>...</td>\n",
       "      <td>9.0</td>\n",
       "      <td>1</td>\n",
       "      <td>Нижняя</td>\n",
       "      <td>0.0</td>\n",
       "      <td>0.0</td>\n",
       "      <td>0</td>\n",
       "      <td>NaN</td>\n",
       "      <td>0</td>\n",
       "      <td>NaN</td>\n",
       "      <td>27.0</td>\n",
       "    </tr>\n",
       "  </tbody>\n",
       "</table>\n",
       "<p>26 rows × 22 columns</p>\n",
       "</div>"
      ],
      "text/plain": [
       "       total_images  last_price  total_area first_day_exposition  rooms  \\\n",
       "355              17   3600000.0        55.2           2018-07-12      2   \n",
       "3148             14   2900000.0        75.0           2018-11-12      3   \n",
       "4643              0   4300000.0        45.0           2018-02-01      2   \n",
       "4876              7   3000000.0        25.0           2017-09-27      0   \n",
       "5076              0   3850000.0        30.5           2018-10-03      1   \n",
       "5246              0   2500000.0        54.0           2017-10-13      2   \n",
       "5669              4   4400000.0        50.0           2017-08-08      2   \n",
       "5807             17   8150000.0        80.0           2019-01-09      2   \n",
       "5863             20   5650000.0        45.0           2018-08-15      1   \n",
       "6246              6   3300000.0        44.4           2019-03-25      2   \n",
       "9379              5   3950000.0        42.0           2017-03-26      3   \n",
       "10773             8   3800000.0        58.0           2017-10-13      2   \n",
       "11285             0   1950000.0        37.0           2019-03-20      1   \n",
       "14382             9   1700000.0        35.0           2015-12-04      1   \n",
       "15061            19   5600000.0        56.4           2018-05-11      2   \n",
       "17496            15   6700000.0        92.9           2019-02-19      3   \n",
       "17857             1   3900000.0        56.0           2017-12-22      3   \n",
       "18545             6   3750000.0        43.0           2019-03-18      2   \n",
       "20478            11   8000000.0        45.0           2017-07-18      1   \n",
       "20507            12   5950000.0        60.0           2018-02-19      2   \n",
       "21377            19   4900000.0        42.0           2017-04-18      1   \n",
       "21824            20   2450000.0        44.0           2019-02-12      2   \n",
       "22309            20   5300000.0        45.0           2017-09-30      1   \n",
       "22336            19   9999000.0        92.4           2019-04-05      2   \n",
       "22869             0  15000000.0        25.0           2018-07-25      1   \n",
       "22938            14   4000000.0        98.0           2018-03-15      4   \n",
       "\n",
       "       ceiling_height  floors_total  living_area  floor  is_apartment  ...  \\\n",
       "355              25.0             5         32.0      2         False  ...   \n",
       "3148             32.0             3         53.0      2          True  ...   \n",
       "4643             25.0             9         30.0      2          True  ...   \n",
       "4876             27.0            25         17.0     17          True  ...   \n",
       "5076             24.0             5         19.5      1          True  ...   \n",
       "5246             27.0             5         30.0      3          True  ...   \n",
       "5669             26.0             9         21.3      3          True  ...   \n",
       "5807             27.0            36         41.0     13          True  ...   \n",
       "5863              8.3            16         19.3     14          True  ...   \n",
       "6246             25.0             5         31.3      5          True  ...   \n",
       "9379             25.0             5         30.0      2          True  ...   \n",
       "10773            27.0            10         30.1      3         False  ...   \n",
       "11285            25.0             5         17.0      4         False  ...   \n",
       "14382            25.0             5         20.0      2         False  ...   \n",
       "15061            14.0            14         32.4      5          True  ...   \n",
       "17496            20.0            17         53.2     14          True  ...   \n",
       "17857            27.0             5         33.0      4         False  ...   \n",
       "18545            25.0             5         29.0      3         False  ...   \n",
       "20478            27.0             4         22.0      2          True  ...   \n",
       "20507            22.6            14         35.0     11          True  ...   \n",
       "21377            27.5            24         37.7     19         False  ...   \n",
       "21824            27.0             2         38.0      2         False  ...   \n",
       "22309            10.3            16         15.5     15          True  ...   \n",
       "22336            32.0             6         55.5      5         False  ...   \n",
       "22869           100.0             5         14.0      5          True  ...   \n",
       "22938            27.0             2         73.0      2          True  ...   \n",
       "\n",
       "       kitchen_area  balcony    locality_name  airports_nearest  \\\n",
       "355             9.1        2          Гатчина               0.0   \n",
       "3148            8.0        0           Волхов               0.0   \n",
       "4643            7.0        1  Санкт-Петербург           12016.0   \n",
       "4876            9.1        2           Мурино               0.0   \n",
       "5076            5.5        0  Санкт-Петербург           29686.0   \n",
       "5246            9.0        2             Мины               0.0   \n",
       "5669            7.0        2  Санкт-Петербург           28981.0   \n",
       "5807           12.0        5  Санкт-Петербург           18732.0   \n",
       "5863            8.3        1  Санкт-Петербург           13069.0   \n",
       "6246            5.7        0        Кронштадт           68923.0   \n",
       "9379            5.2        0  Санкт-Петербург           11647.0   \n",
       "10773           8.1        2           Мурино               0.0   \n",
       "11285           9.0        2             Луга               0.0   \n",
       "14382           8.0        1       Новый Свет               0.0   \n",
       "15061           9.1        2  Санкт-Петербург           14814.0   \n",
       "17496          12.0        5  Санкт-Петербург           16295.0   \n",
       "17857           9.1        0  Санкт-Петербург           41030.0   \n",
       "18545           9.1        0  Санкт-Петербург           27054.0   \n",
       "20478          10.0        1  Санкт-Петербург           18975.0   \n",
       "20507          13.0        1  Санкт-Петербург           27028.0   \n",
       "21377          11.0        2  Санкт-Петербург           42742.0   \n",
       "21824           8.6        2    Большая Ижора               0.0   \n",
       "22309           9.1        0  Санкт-Петербург           36353.0   \n",
       "22336          16.5        4  Санкт-Петербург           18838.0   \n",
       "22869          11.0        5  Санкт-Петербург           34963.0   \n",
       "22938           9.0        1           Нижняя               0.0   \n",
       "\n",
       "      city_centers_nearest  parks_around_3000  parks_nearest  \\\n",
       "355                    0.0                  0            NaN   \n",
       "3148                   0.0                  0            NaN   \n",
       "4643               13256.0                  1          658.0   \n",
       "4876                   0.0                  0            NaN   \n",
       "5076                8389.0                  3          397.0   \n",
       "5246                   0.0                  0            NaN   \n",
       "5669               10912.0                  1          305.0   \n",
       "5807               20444.0                  0            NaN   \n",
       "5863               10763.0                  0            NaN   \n",
       "6246               50649.0                  1          417.0   \n",
       "9379               13581.0                  0            NaN   \n",
       "10773                  0.0                  0            NaN   \n",
       "11285                  0.0                  0            NaN   \n",
       "14382                  0.0                  0            NaN   \n",
       "15061              13610.0                  0            NaN   \n",
       "17496              15092.0                  1          967.0   \n",
       "17857              15543.0                  0            NaN   \n",
       "18545               8033.0                  1          540.0   \n",
       "20478               3246.0                  0            NaN   \n",
       "20507              12570.0                  0            NaN   \n",
       "21377               9760.0                  0            NaN   \n",
       "21824                  0.0                  0            NaN   \n",
       "22309              11936.0                  2          440.0   \n",
       "22336               3506.0                  0            NaN   \n",
       "22869               8283.0                  1          223.0   \n",
       "22938                  0.0                  0            NaN   \n",
       "\n",
       "       ponds_around_3000  ponds_nearest  days_exposition  \n",
       "355                    0            NaN            259.0  \n",
       "3148                   0            NaN              NaN  \n",
       "4643                   1          331.0            181.0  \n",
       "4876                   0            NaN             28.0  \n",
       "5076                   1          578.0              7.0  \n",
       "5246                   0            NaN            540.0  \n",
       "5669                   0            NaN            267.0  \n",
       "5807                   3           80.0             38.0  \n",
       "5863                   1          613.0             14.0  \n",
       "6246                   2           73.0              NaN  \n",
       "9379                   0            NaN              NaN  \n",
       "10773                  0            NaN             71.0  \n",
       "11285                  0            NaN             18.0  \n",
       "14382                  0            NaN            206.0  \n",
       "15061                  0            NaN            315.0  \n",
       "17496                  0            NaN              NaN  \n",
       "17857                  0            NaN             73.0  \n",
       "18545                  0            NaN             12.0  \n",
       "20478                  3          449.0            429.0  \n",
       "20507                  0            NaN             40.0  \n",
       "21377                  0            NaN             61.0  \n",
       "21824                  0            NaN              NaN  \n",
       "22309                  2          450.0            136.0  \n",
       "22336                  3          511.0              NaN  \n",
       "22869                  3           30.0             19.0  \n",
       "22938                  0            NaN             27.0  \n",
       "\n",
       "[26 rows x 22 columns]"
      ]
     },
     "metadata": {},
     "output_type": "display_data"
    }
   ],
   "source": [
    "# 26 строк с высотой потолков более 8 м (в т.ч. в многоэтажных зданиях).\n",
    "display(df[df['ceiling_height'] > 8])"
   ]
  },
  {
   "cell_type": "code",
   "execution_count": 99,
   "metadata": {},
   "outputs": [],
   "source": [
    "# Удаление строк ceiling_height с высотой потолков более 8 м\n",
    "df = df.loc[df['ceiling_height'] <= 8]"
   ]
  },
  {
   "cell_type": "markdown",
   "metadata": {},
   "source": [
    "### Выводы по разделу предобработка данных"
   ]
  },
  {
   "cell_type": "markdown",
   "metadata": {},
   "source": [
    "Ряд заголовков столбцов имели не корректные названия. В их написании были использованы заглавные буквы, не исползовались правила «змеиного регистра». Было изменено название трех столбцов: `cityCenters_nearest`, `parks_around3000`, `ponds_around3000` на, соответственно, `city_centers_nearest`, `parks_around3_000`, `ponds_around_3000`.\n",
    "\n",
    "Выявлено отсутствие явных дубликатов. В тоже время, по столбцу `locality_name` присутствует большое количество НЕ явных дубликатов. Они проявлялись в различных написаниях типов населенных пунктов – поселок, посёлок, городской поселок и т.д. Был сформирован  список всех имеющихся типов населенных пунктов и по этому списку из каждой ячейке столбца locality_name типы населенных пунктов удалены.\n",
    "\n",
    "Пропуски присутствовали в 14 столбцах, требующих разного подхода:\n",
    "- Для столбца `locality_name`, где нельзя восстановить значения, строки с пропусками были удалены.  \n",
    "- Принято решение, что значения `floors_total` говорят о том, что квартира находится на крайнем этаже, в связи с чем пропущенные значения приравнены к значениям столбца `floor`.  \n",
    "- Пропуски в столбцах `ceiling_height`, `living_area` и `kitchen_area` заполнены медианными значениями \n",
    "- Пропуски в столбах `balcony`, `parks_around_3000` и `ponds_around_3000` (которые говорят об отсутствии балконов, парков и водоемов) заменены на ноль. \n",
    "- Незаполненные значения столбов `is_apartment`, `parks_nearest`, `ponds_nearest` и `days_exposition` оставлены как есть.\n",
    "- Незаполненные значения столбов `airports_nearest` и `city_centers_nearest` для Санкт-Петербурга удалены.  Для остальных населенных пунктов произведена замена на медианное значение для каждого населенного пункта.\n",
    "\n",
    "В столбце `first_day_exposition` установлен тип данных datetime, в столбце `is_apartment` -  bool, а в столбцах `floors_total`, `balcony`, `parks_around_3000`, `ponds_around_3000` - int\n",
    "\n",
    "В столбце `ceiling_height` были выявлены аномальные значения. Строки с этими значениями удалены."
   ]
  },
  {
   "cell_type": "markdown",
   "metadata": {},
   "source": [
    "## Расчёты и добавление результатов в таблицу"
   ]
  },
  {
   "cell_type": "markdown",
   "metadata": {},
   "source": [
    "**Рассчиталь и добавить в таблицу слебущие данные:**\n",
    "\n",
    "- цена квадратного метра `unit_price`;\n",
    "- день недели публикации объявления `week_day`;\n",
    "- месяц публикации объявления `month`;\n",
    "- год публикации объявления `year`;\n",
    "- этаж квартиры: первый, последний, другой `type_floor`;\n",
    "- соотношение жилой и общей площади `unit_liev`;\n",
    "- соотношение площади кухни к общей площади `unit_kitchen`;\n",
    "- тип населенного пункта: город, поселок `type_locality`"
   ]
  },
  {
   "cell_type": "code",
   "execution_count": 100,
   "metadata": {},
   "outputs": [],
   "source": [
    "# Добавление столбца с ценой квадратного метра\n",
    "df = df.assign(unit_price = df.last_price / df.total_area)\n",
    "df['unit_price'] = df['unit_price'].astype('int')"
   ]
  },
  {
   "cell_type": "code",
   "execution_count": 101,
   "metadata": {},
   "outputs": [],
   "source": [
    "# Добавление столбцов с днем недели, месяцем и годом\n",
    "df['week_day'] = df['first_day_exposition'].dt.weekday\n",
    "df['month'] = df['first_day_exposition'].dt.month\n",
    "df['year'] = df['first_day_exposition'].dt.year"
   ]
  },
  {
   "cell_type": "code",
   "execution_count": 102,
   "metadata": {},
   "outputs": [],
   "source": [
    "# Создание столбца с типом этажа\n",
    "def type_floor(x, y):\n",
    "    if x == 1:\n",
    "        return 'первый'\n",
    "    elif x == y:\n",
    "        return 'последний'\n",
    "    return 'другой'\n",
    "\n",
    "df['type_floor'] = df.apply(lambda x: type_floor(x.floor, x.floors_total), axis=1)"
   ]
  },
  {
   "cell_type": "code",
   "execution_count": 103,
   "metadata": {},
   "outputs": [],
   "source": [
    "# Создание столбца с удельными значениями площади\n",
    "df = df.assign(unit_liev = df.living_area / df.total_area)\n",
    "df = df.assign(unit_kitchen = df.kitchen_area / df.total_area)"
   ]
  },
  {
   "cell_type": "code",
   "execution_count": 104,
   "metadata": {},
   "outputs": [],
   "source": [
    "# Создание столбца с типом населенного пункта:\n",
    "def type_locality (x):\n",
    "    if x in list_locality_name:\n",
    "        return 'город'\n",
    "    return 'поселок'\n",
    "\n",
    "df['type_locality'] = df['locality_name'].apply(type_locality)"
   ]
  },
  {
   "cell_type": "code",
   "execution_count": 105,
   "metadata": {},
   "outputs": [
    {
     "data": {
      "text/html": [
       "<div>\n",
       "<style scoped>\n",
       "    .dataframe tbody tr th:only-of-type {\n",
       "        vertical-align: middle;\n",
       "    }\n",
       "\n",
       "    .dataframe tbody tr th {\n",
       "        vertical-align: top;\n",
       "    }\n",
       "\n",
       "    .dataframe thead th {\n",
       "        text-align: right;\n",
       "    }\n",
       "</style>\n",
       "<table border=\"1\" class=\"dataframe\">\n",
       "  <thead>\n",
       "    <tr style=\"text-align: right;\">\n",
       "      <th></th>\n",
       "      <th>total_images</th>\n",
       "      <th>last_price</th>\n",
       "      <th>total_area</th>\n",
       "      <th>first_day_exposition</th>\n",
       "      <th>rooms</th>\n",
       "      <th>ceiling_height</th>\n",
       "      <th>floors_total</th>\n",
       "      <th>living_area</th>\n",
       "      <th>floor</th>\n",
       "      <th>is_apartment</th>\n",
       "      <th>...</th>\n",
       "      <th>ponds_nearest</th>\n",
       "      <th>days_exposition</th>\n",
       "      <th>unit_price</th>\n",
       "      <th>week_day</th>\n",
       "      <th>month</th>\n",
       "      <th>year</th>\n",
       "      <th>type_floor</th>\n",
       "      <th>unit_liev</th>\n",
       "      <th>unit_kitchen</th>\n",
       "      <th>type_locality</th>\n",
       "    </tr>\n",
       "  </thead>\n",
       "  <tbody>\n",
       "    <tr>\n",
       "      <th>0</th>\n",
       "      <td>20</td>\n",
       "      <td>13000000.0</td>\n",
       "      <td>108.0</td>\n",
       "      <td>2019-03-07</td>\n",
       "      <td>3</td>\n",
       "      <td>2.70</td>\n",
       "      <td>16</td>\n",
       "      <td>51.0</td>\n",
       "      <td>8</td>\n",
       "      <td>True</td>\n",
       "      <td>...</td>\n",
       "      <td>755.0</td>\n",
       "      <td>NaN</td>\n",
       "      <td>120370</td>\n",
       "      <td>3</td>\n",
       "      <td>3</td>\n",
       "      <td>2019</td>\n",
       "      <td>другой</td>\n",
       "      <td>0.472222</td>\n",
       "      <td>0.231481</td>\n",
       "      <td>город</td>\n",
       "    </tr>\n",
       "    <tr>\n",
       "      <th>1</th>\n",
       "      <td>7</td>\n",
       "      <td>3350000.0</td>\n",
       "      <td>40.4</td>\n",
       "      <td>2018-12-04</td>\n",
       "      <td>1</td>\n",
       "      <td>2.65</td>\n",
       "      <td>11</td>\n",
       "      <td>18.6</td>\n",
       "      <td>1</td>\n",
       "      <td>True</td>\n",
       "      <td>...</td>\n",
       "      <td>NaN</td>\n",
       "      <td>81.0</td>\n",
       "      <td>82920</td>\n",
       "      <td>1</td>\n",
       "      <td>12</td>\n",
       "      <td>2018</td>\n",
       "      <td>первый</td>\n",
       "      <td>0.460396</td>\n",
       "      <td>0.272277</td>\n",
       "      <td>город</td>\n",
       "    </tr>\n",
       "    <tr>\n",
       "      <th>2</th>\n",
       "      <td>10</td>\n",
       "      <td>5196000.0</td>\n",
       "      <td>56.0</td>\n",
       "      <td>2015-08-20</td>\n",
       "      <td>2</td>\n",
       "      <td>2.65</td>\n",
       "      <td>5</td>\n",
       "      <td>34.3</td>\n",
       "      <td>4</td>\n",
       "      <td>True</td>\n",
       "      <td>...</td>\n",
       "      <td>574.0</td>\n",
       "      <td>558.0</td>\n",
       "      <td>92785</td>\n",
       "      <td>3</td>\n",
       "      <td>8</td>\n",
       "      <td>2015</td>\n",
       "      <td>другой</td>\n",
       "      <td>0.612500</td>\n",
       "      <td>0.148214</td>\n",
       "      <td>город</td>\n",
       "    </tr>\n",
       "    <tr>\n",
       "      <th>3</th>\n",
       "      <td>0</td>\n",
       "      <td>64900000.0</td>\n",
       "      <td>159.0</td>\n",
       "      <td>2015-07-24</td>\n",
       "      <td>3</td>\n",
       "      <td>2.65</td>\n",
       "      <td>14</td>\n",
       "      <td>30.0</td>\n",
       "      <td>9</td>\n",
       "      <td>True</td>\n",
       "      <td>...</td>\n",
       "      <td>234.0</td>\n",
       "      <td>424.0</td>\n",
       "      <td>408176</td>\n",
       "      <td>4</td>\n",
       "      <td>7</td>\n",
       "      <td>2015</td>\n",
       "      <td>другой</td>\n",
       "      <td>0.188679</td>\n",
       "      <td>0.057233</td>\n",
       "      <td>город</td>\n",
       "    </tr>\n",
       "    <tr>\n",
       "      <th>4</th>\n",
       "      <td>2</td>\n",
       "      <td>10000000.0</td>\n",
       "      <td>100.0</td>\n",
       "      <td>2018-06-19</td>\n",
       "      <td>2</td>\n",
       "      <td>3.03</td>\n",
       "      <td>14</td>\n",
       "      <td>32.0</td>\n",
       "      <td>13</td>\n",
       "      <td>True</td>\n",
       "      <td>...</td>\n",
       "      <td>48.0</td>\n",
       "      <td>121.0</td>\n",
       "      <td>100000</td>\n",
       "      <td>1</td>\n",
       "      <td>6</td>\n",
       "      <td>2018</td>\n",
       "      <td>другой</td>\n",
       "      <td>0.320000</td>\n",
       "      <td>0.410000</td>\n",
       "      <td>город</td>\n",
       "    </tr>\n",
       "  </tbody>\n",
       "</table>\n",
       "<p>5 rows × 30 columns</p>\n",
       "</div>"
      ],
      "text/plain": [
       "   total_images  last_price  total_area first_day_exposition  rooms  \\\n",
       "0            20  13000000.0       108.0           2019-03-07      3   \n",
       "1             7   3350000.0        40.4           2018-12-04      1   \n",
       "2            10   5196000.0        56.0           2015-08-20      2   \n",
       "3             0  64900000.0       159.0           2015-07-24      3   \n",
       "4             2  10000000.0       100.0           2018-06-19      2   \n",
       "\n",
       "   ceiling_height  floors_total  living_area  floor  is_apartment  ...  \\\n",
       "0            2.70            16         51.0      8          True  ...   \n",
       "1            2.65            11         18.6      1          True  ...   \n",
       "2            2.65             5         34.3      4          True  ...   \n",
       "3            2.65            14         30.0      9          True  ...   \n",
       "4            3.03            14         32.0     13          True  ...   \n",
       "\n",
       "   ponds_nearest  days_exposition  unit_price  week_day month  year  \\\n",
       "0          755.0              NaN      120370         3     3  2019   \n",
       "1            NaN             81.0       82920         1    12  2018   \n",
       "2          574.0            558.0       92785         3     8  2015   \n",
       "3          234.0            424.0      408176         4     7  2015   \n",
       "4           48.0            121.0      100000         1     6  2018   \n",
       "\n",
       "   type_floor  unit_liev  unit_kitchen  type_locality  \n",
       "0      другой   0.472222      0.231481          город  \n",
       "1      первый   0.460396      0.272277          город  \n",
       "2      другой   0.612500      0.148214          город  \n",
       "3      другой   0.188679      0.057233          город  \n",
       "4      другой   0.320000      0.410000          город  \n",
       "\n",
       "[5 rows x 30 columns]"
      ]
     },
     "metadata": {},
     "output_type": "display_data"
    }
   ],
   "source": [
    "display(df.head())"
   ]
  },
  {
   "cell_type": "markdown",
   "metadata": {},
   "source": [
    "### Выводы по разделу расчёты и добавление"
   ]
  },
  {
   "cell_type": "markdown",
   "metadata": {},
   "source": [
    "Созданы новые столбцы со следующими удельными показателями - цена квадратного метра `unit_price`, соотношение жилой и общей площади `unit_liev`, соотношение площади кухни к общей площади `unit_kitchen`. \n",
    "\n",
    "Проведена категоризация и введены следующие категории – тип этажа квартиры: первый, последний, другой `type_floor`, тип населенного пункта: город, поселок `type_locality`. \n",
    "\n",
    "Также созданы столбцы с указанием времени публикации - день недели публикации объявления `week_day`, месяц публикации `month`, год публикации `year`. \n",
    "\n",
    "Эти дополнения помогут обеспечить анализ данных."
   ]
  },
  {
   "cell_type": "markdown",
   "metadata": {},
   "source": [
    "## Исследовательский анализ данных"
   ]
  },
  {
   "cell_type": "markdown",
   "metadata": {},
   "source": [
    "1. Построить гистограммы продаж для параметров площадь, цена, число комнат и высота потолков\n",
    "2. Определить скорость продажи квартир, изучить долгие и быстрые продажи.\n",
    "3. Определить зависимость цены квартиры от следующих параметров: \n",
    "      - площадь, число комнат, высота потолков.\n",
    "      - этаж, этажностm дома, удаленностm от центра.\n",
    "      - даты размещения объявления: дня недели, месяца и года. \n",
    "4. На основании десяти населённых пунктов с наибольшим числом объявлений посчитать среднюю цену квадратного метра и выделить населённые пункты с самой высокой и низкой стоимостью жилья.\n",
    "5. Изучение цен на квартиры в Санкт-Перебурге\n",
    "      - На основании данных о стоимости квартир и их удаленности от центра выявить границу центра города.\n",
    "      - Определить факторы, влияющие на стоимость квартир в центре города, сопоставить их, с факторами, влияющими на стоимость остальных квартир."
   ]
  },
  {
   "cell_type": "markdown",
   "metadata": {},
   "source": [
    "### Гистограммы"
   ]
  },
  {
   "cell_type": "markdown",
   "metadata": {},
   "source": [
    "Построим гистограммы продаж для параметров площадь, цена, число комнат и высота потолков"
   ]
  },
  {
   "cell_type": "code",
   "execution_count": 106,
   "metadata": {},
   "outputs": [
    {
     "data": {
      "image/png": "[encoded data removed]",
      "text/plain": [
       "<Figure size 720x504 with 1 Axes>"
      ]
     },
     "metadata": {
      "needs_background": "light"
     },
     "output_type": "display_data"
    }
   ],
   "source": [
    "# Гисторграмма площади\n",
    "df['total_area'].hist(bins=50, range=(0, 150), figsize=(10,7))\n",
    "plt.title('total_area')\n",
    "plt.show()"
   ]
  },
  {
   "cell_type": "code",
   "execution_count": 107,
   "metadata": {},
   "outputs": [
    {
     "data": {
      "image/png": "[encoded data removed]",
      "text/plain": [
       "<Figure size 720x504 with 1 Axes>"
      ]
     },
     "metadata": {
      "needs_background": "light"
     },
     "output_type": "display_data"
    }
   ],
   "source": [
    "# Гисторграмма цены\n",
    "df['last_price'].hist(bins=100, range=(0, 20000000), figsize=(10,7))\n",
    "plt.title('last_price')\n",
    "plt.show()"
   ]
  },
  {
   "cell_type": "code",
   "execution_count": 108,
   "metadata": {},
   "outputs": [
    {
     "data": {
      "image/png": "[encoded data removed]",
      "text/plain": [
       "<Figure size 720x504 with 1 Axes>"
      ]
     },
     "metadata": {
      "needs_background": "light"
     },
     "output_type": "display_data"
    }
   ],
   "source": [
    "# Гисторграмма число комант\n",
    "df['rooms'].hist(bins=8, range=(0, 8), figsize=(10,7))\n",
    "plt.title('rooms')\n",
    "plt.show()"
   ]
  },
  {
   "cell_type": "code",
   "execution_count": null,
   "metadata": {},
   "outputs": [],
   "source": [
    "q1 = df[\"rooms\"].quantile(0.25)\n",
    "q3 = df[\"rooms\"].quantile(0.75)\n",
    "iqr = q3-q1 #Interquartile range\n",
    "low  = q1-1.5*iqr\n",
    "high = q3+1.5*iqr"
   ]
  },
  {
   "cell_type": "code",
   "execution_count": 109,
   "metadata": {},
   "outputs": [
    {
     "data": {
      "image/png": "[encoded data removed]",
      "text/plain": [
       "<Figure size 720x504 with 1 Axes>"
      ]
     },
     "metadata": {
      "needs_background": "light"
     },
     "output_type": "display_data"
    }
   ],
   "source": [
    "# Гисторграмма высота потолков\n",
    "df['ceiling_height'].hist(bins=30, range=(2, 4), figsize=(10,7))\n",
    "plt.title('ceiling_height')\n",
    "plt.show()"
   ]
  },
  {
   "cell_type": "markdown",
   "metadata": {},
   "source": [
    "**Выводы**\n",
    "\n",
    "На основании гистограмм продаж по параметрам площадь, цена, число комнат и высота потолков можно сказать, что гистограмма по цене имеет наиболее нормальное распределение. Это, вероятно, связно с большим числом значения параметра. \n",
    "\n",
    "Далее наблюдается сокращение количества значений в следующем порядке – площадь, высота потолков, число комнат.\n",
    "\n",
    "Тем не менее, можно с уверенностью сказать, что наиболее продаваемой является двух- или трехкомнатная квартира, площадью от 40 до 50 кв.м,, с высотой потолка 2,6 м, по цене 3 500 000 – 4 500 000 р. "
   ]
  },
  {
   "cell_type": "markdown",
   "metadata": {},
   "source": [
    "### Скорость продажи квартиры"
   ]
  },
  {
   "cell_type": "markdown",
   "metadata": {},
   "source": [
    "Изучим параметр скорости продажи квартиры"
   ]
  },
  {
   "cell_type": "code",
   "execution_count": 110,
   "metadata": {},
   "outputs": [],
   "source": [
    "# Напишем функцию для построенимя типовых гимтограмм\n",
    "def hist_pattern(df, range_max, title):\n",
    "    df.hist(bins=100, range=(0, range_max), figsize=(10,7))\n",
    "    plt.title(title)\n",
    "    return plt.show()"
   ]
  },
  {
   "cell_type": "code",
   "execution_count": 111,
   "metadata": {},
   "outputs": [
    {
     "data": {
      "image/png": "[encoded data removed]",
      "text/plain": [
       "<Figure size 720x504 with 1 Axes>"
      ]
     },
     "metadata": {
      "needs_background": "light"
     },
     "output_type": "display_data"
    }
   ],
   "source": [
    "# Гисторграмма скорости продажи квартиры\n",
    "hist_pattern(df['days_exposition'], 600, 'days_exposition')"
   ]
  },
  {
   "cell_type": "code",
   "execution_count": 112,
   "metadata": {},
   "outputs": [
    {
     "name": "stdout",
     "output_type": "stream",
     "text": [
      "Медианное значение скорости продажи квартиры составляее 95 дней\n",
      "Среднее значение скорости продажи квартиры составляее 181 дней\n"
     ]
    }
   ],
   "source": [
    "# График для полной таблицы\n",
    "a = df['days_exposition'].median()\n",
    "b = df['days_exposition'].mean()\n",
    "print(f'Медианное значение скорости продажи квартиры составляее {a:.0f} дней')\n",
    "print(f'Среднее значение скорости продажи квартиры составляее {b:.0f} дней')"
   ]
  },
  {
   "cell_type": "code",
   "execution_count": 113,
   "metadata": {},
   "outputs": [
    {
     "data": {
      "text/plain": [
       "45.0    879\n",
       "60.0    538\n",
       "7.0     233\n",
       "30.0    208\n",
       "90.0    203\n",
       "4.0     174\n",
       "3.0     158\n",
       "5.0     152\n",
       "14.0    147\n",
       "9.0     142\n",
       "20.0    139\n",
       "8.0     139\n",
       "44.0    138\n",
       "11.0    135\n",
       "18.0    128\n",
       "Name: days_exposition, dtype: int64"
      ]
     },
     "execution_count": 113,
     "metadata": {},
     "output_type": "execute_result"
    }
   ],
   "source": [
    "df['days_exposition'].value_counts().head(15)"
   ]
  },
  {
   "cell_type": "code",
   "execution_count": 114,
   "metadata": {
    "scrolled": true
   },
   "outputs": [
    {
     "name": "stdout",
     "output_type": "stream",
     "text": [
      "Всего 9990 строк\n",
      "Медианное значение скорости продажи квартиры составляее 45 дней\n",
      "Среднее значение скорости продажи квартиры составляее 47 дней\n"
     ]
    }
   ],
   "source": [
    "# График для таблицы с ограничениями по количеству дней продажи\n",
    "df_without_null_limit = df[(df['days_exposition'].isna() == False) & (df['days_exposition'] > 5) & (df['days_exposition'] < 100)]\n",
    "a2 = df_without_null_limit['days_exposition'].median()\n",
    "b2 = df_without_null_limit['days_exposition'].mean()\n",
    "c2 = df_without_null_limit.shape[0]\n",
    "print(f'Всего {c2} строк')\n",
    "print(f'Медианное значение скорости продажи квартиры составляее {a2:.0f} дней')\n",
    "print(f'Среднее значение скорости продажи квартиры составляее {b2:.0f} дней')"
   ]
  },
  {
   "cell_type": "code",
   "execution_count": 115,
   "metadata": {},
   "outputs": [
    {
     "data": {
      "image/png": "[encoded data removed]",
      "text/plain": [
       "<Figure size 720x504 with 1 Axes>"
      ]
     },
     "metadata": {
      "needs_background": "light"
     },
     "output_type": "display_data"
    }
   ],
   "source": [
    "# Гисторграмма скорости продажи квартиры с ограничениями по количеству дней продажи\n",
    "hist_pattern(df_without_null_limit['days_exposition'], 150, 'days_exposition_limited')"
   ]
  },
  {
   "cell_type": "markdown",
   "metadata": {},
   "source": [
    "**Ваводы**\n",
    "\n",
    "Изучив параметр скорости продажи квартиры можно сказать, что выбросы не позволяют увидеть нормально распределение. Медианное значение (95 дней) значительно отличается от среднего (181 день)\n",
    "\n",
    "Наибольшее количество сделок приходится на 45-й, 60-й, 7-й, 30-й и 90-й день, поэтому можно ограничить от 5 дней до  100 дней.\n",
    "\n",
    "В результате число строк сократилось до 9 900, но, вместе с тем сократилось и медианное значение (45 дней) со средним значением (47 дней). Эти два параметра имеют близкие значения, что говорит об отсутствии выбросов"
   ]
  },
  {
   "cell_type": "markdown",
   "metadata": {},
   "source": [
    "### Факторы влияющие на цену квартиры"
   ]
  },
  {
   "cell_type": "markdown",
   "metadata": {},
   "source": [
    "- площадь, размер кухни, число комнат, высота потолков.\n",
    "- этаж, этажность дома, удаленность от центра, количества фото.\n",
    "\n",
    "- дата размещения объявления: день недели, месяца и года"
   ]
  },
  {
   "cell_type": "code",
   "execution_count": 116,
   "metadata": {},
   "outputs": [],
   "source": [
    "# Для анализа влияния цены уберем лишие столбцы \n",
    "df_analis_price = df.loc[:, ['last_price', 'total_images', 'total_area', 'kitchen_area', 'rooms', 'ceiling_height', 'floors_total', 'floor', 'city_centers_nearest', 'week_day', 'month', 'year']]"
   ]
  },
  {
   "cell_type": "code",
   "execution_count": 117,
   "metadata": {},
   "outputs": [
    {
     "data": {
      "text/html": [
       "<div>\n",
       "<style scoped>\n",
       "    .dataframe tbody tr th:only-of-type {\n",
       "        vertical-align: middle;\n",
       "    }\n",
       "\n",
       "    .dataframe tbody tr th {\n",
       "        vertical-align: top;\n",
       "    }\n",
       "\n",
       "    .dataframe thead th {\n",
       "        text-align: right;\n",
       "    }\n",
       "</style>\n",
       "<table border=\"1\" class=\"dataframe\">\n",
       "  <thead>\n",
       "    <tr style=\"text-align: right;\">\n",
       "      <th></th>\n",
       "      <th>last_price</th>\n",
       "      <th>total_images</th>\n",
       "      <th>total_area</th>\n",
       "      <th>kitchen_area</th>\n",
       "      <th>rooms</th>\n",
       "      <th>ceiling_height</th>\n",
       "      <th>floors_total</th>\n",
       "      <th>floor</th>\n",
       "      <th>city_centers_nearest</th>\n",
       "      <th>week_day</th>\n",
       "      <th>month</th>\n",
       "      <th>year</th>\n",
       "    </tr>\n",
       "  </thead>\n",
       "  <tbody>\n",
       "    <tr>\n",
       "      <th>last_price</th>\n",
       "      <td>1.000000</td>\n",
       "      <td>0.104623</td>\n",
       "      <td>0.653842</td>\n",
       "      <td>0.440573</td>\n",
       "      <td>0.363567</td>\n",
       "      <td>0.282505</td>\n",
       "      <td>-0.006854</td>\n",
       "      <td>0.026736</td>\n",
       "      <td>-0.048666</td>\n",
       "      <td>0.001597</td>\n",
       "      <td>0.002781</td>\n",
       "      <td>-0.042946</td>\n",
       "    </tr>\n",
       "    <tr>\n",
       "      <th>total_images</th>\n",
       "      <td>0.104623</td>\n",
       "      <td>1.000000</td>\n",
       "      <td>0.115683</td>\n",
       "      <td>0.107675</td>\n",
       "      <td>0.099727</td>\n",
       "      <td>0.050083</td>\n",
       "      <td>0.009921</td>\n",
       "      <td>0.030173</td>\n",
       "      <td>0.002533</td>\n",
       "      <td>-0.010464</td>\n",
       "      <td>0.005174</td>\n",
       "      <td>0.140846</td>\n",
       "    </tr>\n",
       "    <tr>\n",
       "      <th>total_area</th>\n",
       "      <td>0.653842</td>\n",
       "      <td>0.115683</td>\n",
       "      <td>1.000000</td>\n",
       "      <td>0.569745</td>\n",
       "      <td>0.758775</td>\n",
       "      <td>0.380419</td>\n",
       "      <td>-0.075252</td>\n",
       "      <td>-0.024198</td>\n",
       "      <td>-0.075478</td>\n",
       "      <td>-0.004686</td>\n",
       "      <td>0.005082</td>\n",
       "      <td>-0.079661</td>\n",
       "    </tr>\n",
       "    <tr>\n",
       "      <th>kitchen_area</th>\n",
       "      <td>0.440573</td>\n",
       "      <td>0.107675</td>\n",
       "      <td>0.569745</td>\n",
       "      <td>1.000000</td>\n",
       "      <td>0.258416</td>\n",
       "      <td>0.310061</td>\n",
       "      <td>0.151311</td>\n",
       "      <td>0.126509</td>\n",
       "      <td>-0.060892</td>\n",
       "      <td>-0.010024</td>\n",
       "      <td>0.003708</td>\n",
       "      <td>-0.054424</td>\n",
       "    </tr>\n",
       "    <tr>\n",
       "      <th>rooms</th>\n",
       "      <td>0.363567</td>\n",
       "      <td>0.099727</td>\n",
       "      <td>0.758775</td>\n",
       "      <td>0.258416</td>\n",
       "      <td>1.000000</td>\n",
       "      <td>0.236917</td>\n",
       "      <td>-0.226866</td>\n",
       "      <td>-0.150388</td>\n",
       "      <td>-0.059741</td>\n",
       "      <td>-0.004422</td>\n",
       "      <td>-0.004193</td>\n",
       "      <td>-0.054794</td>\n",
       "    </tr>\n",
       "    <tr>\n",
       "      <th>ceiling_height</th>\n",
       "      <td>0.282505</td>\n",
       "      <td>0.050083</td>\n",
       "      <td>0.380419</td>\n",
       "      <td>0.310061</td>\n",
       "      <td>0.236917</td>\n",
       "      <td>1.000000</td>\n",
       "      <td>-0.082470</td>\n",
       "      <td>-0.046314</td>\n",
       "      <td>-0.127348</td>\n",
       "      <td>-0.021056</td>\n",
       "      <td>-0.003065</td>\n",
       "      <td>-0.053281</td>\n",
       "    </tr>\n",
       "    <tr>\n",
       "      <th>floors_total</th>\n",
       "      <td>-0.006854</td>\n",
       "      <td>0.009921</td>\n",
       "      <td>-0.075252</td>\n",
       "      <td>0.151311</td>\n",
       "      <td>-0.226866</td>\n",
       "      <td>-0.082470</td>\n",
       "      <td>1.000000</td>\n",
       "      <td>0.677827</td>\n",
       "      <td>0.097030</td>\n",
       "      <td>0.012633</td>\n",
       "      <td>0.016311</td>\n",
       "      <td>0.008498</td>\n",
       "    </tr>\n",
       "    <tr>\n",
       "      <th>floor</th>\n",
       "      <td>0.026736</td>\n",
       "      <td>0.030173</td>\n",
       "      <td>-0.024198</td>\n",
       "      <td>0.126509</td>\n",
       "      <td>-0.150388</td>\n",
       "      <td>-0.046314</td>\n",
       "      <td>0.677827</td>\n",
       "      <td>1.000000</td>\n",
       "      <td>0.062375</td>\n",
       "      <td>0.011933</td>\n",
       "      <td>0.019697</td>\n",
       "      <td>0.005231</td>\n",
       "    </tr>\n",
       "    <tr>\n",
       "      <th>city_centers_nearest</th>\n",
       "      <td>-0.048666</td>\n",
       "      <td>0.002533</td>\n",
       "      <td>-0.075478</td>\n",
       "      <td>-0.060892</td>\n",
       "      <td>-0.059741</td>\n",
       "      <td>-0.127348</td>\n",
       "      <td>0.097030</td>\n",
       "      <td>0.062375</td>\n",
       "      <td>1.000000</td>\n",
       "      <td>0.001682</td>\n",
       "      <td>-0.005067</td>\n",
       "      <td>-0.003711</td>\n",
       "    </tr>\n",
       "    <tr>\n",
       "      <th>week_day</th>\n",
       "      <td>0.001597</td>\n",
       "      <td>-0.010464</td>\n",
       "      <td>-0.004686</td>\n",
       "      <td>-0.010024</td>\n",
       "      <td>-0.004422</td>\n",
       "      <td>-0.021056</td>\n",
       "      <td>0.012633</td>\n",
       "      <td>0.011933</td>\n",
       "      <td>0.001682</td>\n",
       "      <td>1.000000</td>\n",
       "      <td>0.011069</td>\n",
       "      <td>-0.003374</td>\n",
       "    </tr>\n",
       "    <tr>\n",
       "      <th>month</th>\n",
       "      <td>0.002781</td>\n",
       "      <td>0.005174</td>\n",
       "      <td>0.005082</td>\n",
       "      <td>0.003708</td>\n",
       "      <td>-0.004193</td>\n",
       "      <td>-0.003065</td>\n",
       "      <td>0.016311</td>\n",
       "      <td>0.019697</td>\n",
       "      <td>-0.005067</td>\n",
       "      <td>0.011069</td>\n",
       "      <td>1.000000</td>\n",
       "      <td>-0.270734</td>\n",
       "    </tr>\n",
       "    <tr>\n",
       "      <th>year</th>\n",
       "      <td>-0.042946</td>\n",
       "      <td>0.140846</td>\n",
       "      <td>-0.079661</td>\n",
       "      <td>-0.054424</td>\n",
       "      <td>-0.054794</td>\n",
       "      <td>-0.053281</td>\n",
       "      <td>0.008498</td>\n",
       "      <td>0.005231</td>\n",
       "      <td>-0.003711</td>\n",
       "      <td>-0.003374</td>\n",
       "      <td>-0.270734</td>\n",
       "      <td>1.000000</td>\n",
       "    </tr>\n",
       "  </tbody>\n",
       "</table>\n",
       "</div>"
      ],
      "text/plain": [
       "                      last_price  total_images  total_area  kitchen_area  \\\n",
       "last_price              1.000000      0.104623    0.653842      0.440573   \n",
       "total_images            0.104623      1.000000    0.115683      0.107675   \n",
       "total_area              0.653842      0.115683    1.000000      0.569745   \n",
       "kitchen_area            0.440573      0.107675    0.569745      1.000000   \n",
       "rooms                   0.363567      0.099727    0.758775      0.258416   \n",
       "ceiling_height          0.282505      0.050083    0.380419      0.310061   \n",
       "floors_total           -0.006854      0.009921   -0.075252      0.151311   \n",
       "floor                   0.026736      0.030173   -0.024198      0.126509   \n",
       "city_centers_nearest   -0.048666      0.002533   -0.075478     -0.060892   \n",
       "week_day                0.001597     -0.010464   -0.004686     -0.010024   \n",
       "month                   0.002781      0.005174    0.005082      0.003708   \n",
       "year                   -0.042946      0.140846   -0.079661     -0.054424   \n",
       "\n",
       "                         rooms  ceiling_height  floors_total     floor  \\\n",
       "last_price            0.363567        0.282505     -0.006854  0.026736   \n",
       "total_images          0.099727        0.050083      0.009921  0.030173   \n",
       "total_area            0.758775        0.380419     -0.075252 -0.024198   \n",
       "kitchen_area          0.258416        0.310061      0.151311  0.126509   \n",
       "rooms                 1.000000        0.236917     -0.226866 -0.150388   \n",
       "ceiling_height        0.236917        1.000000     -0.082470 -0.046314   \n",
       "floors_total         -0.226866       -0.082470      1.000000  0.677827   \n",
       "floor                -0.150388       -0.046314      0.677827  1.000000   \n",
       "city_centers_nearest -0.059741       -0.127348      0.097030  0.062375   \n",
       "week_day             -0.004422       -0.021056      0.012633  0.011933   \n",
       "month                -0.004193       -0.003065      0.016311  0.019697   \n",
       "year                 -0.054794       -0.053281      0.008498  0.005231   \n",
       "\n",
       "                      city_centers_nearest  week_day     month      year  \n",
       "last_price                       -0.048666  0.001597  0.002781 -0.042946  \n",
       "total_images                      0.002533 -0.010464  0.005174  0.140846  \n",
       "total_area                       -0.075478 -0.004686  0.005082 -0.079661  \n",
       "kitchen_area                     -0.060892 -0.010024  0.003708 -0.054424  \n",
       "rooms                            -0.059741 -0.004422 -0.004193 -0.054794  \n",
       "ceiling_height                   -0.127348 -0.021056 -0.003065 -0.053281  \n",
       "floors_total                      0.097030  0.012633  0.016311  0.008498  \n",
       "floor                             0.062375  0.011933  0.019697  0.005231  \n",
       "city_centers_nearest              1.000000  0.001682 -0.005067 -0.003711  \n",
       "week_day                          0.001682  1.000000  0.011069 -0.003374  \n",
       "month                            -0.005067  0.011069  1.000000 -0.270734  \n",
       "year                             -0.003711 -0.003374 -0.270734  1.000000  "
      ]
     },
     "execution_count": 117,
     "metadata": {},
     "output_type": "execute_result"
    }
   ],
   "source": [
    "# Создадим кореляционную таблицу\n",
    "df_analis_price.corr()"
   ]
  },
  {
   "cell_type": "code",
   "execution_count": 118,
   "metadata": {},
   "outputs": [
    {
     "data": {
      "text/plain": [
       "Text(0.5, 1.0, 'correlation_heatmap')"
      ]
     },
     "execution_count": 118,
     "metadata": {},
     "output_type": "execute_result"
    },
    {
     "data": {
      "image/png": "[encoded data removed]",
      "text/plain": [
       "<Figure size 720x504 with 2 Axes>"
      ]
     },
     "metadata": {
      "needs_background": "light"
     },
     "output_type": "display_data"
    }
   ],
   "source": [
    "# Визуализируем матрицу корреляции с помощью графика heatmap\n",
    "plt.figure(figsize=(10, 7))\n",
    "heatmap = sms.heatmap(df_analis_price.corr(), annot = True, fmt='2.1g')\n",
    "heatmap.set_title('correlation_heatmap') "
   ]
  },
  {
   "cell_type": "markdown",
   "metadata": {},
   "source": [
    "**Вывод по анализу факторов, влияющих на цену квартиры**\n",
    "\n",
    "На основании данного корреляционного анализа можно заключить, что наибольшее влияние на цену оказывает площадь квартиры (к=0.653842). Значительно меньшее влияние оказывает площадь кухни (к=0.440573), число комнат (к=0.363567). При этои, ни один фактор не является достаточным и очень зависит от остальных факторов"
   ]
  },
  {
   "cell_type": "markdown",
   "metadata": {},
   "source": [
    "### На основании десяти населённых пунктов с наибольшим числом объявлений определить среднюю цену квадратного метра"
   ]
  },
  {
   "cell_type": "code",
   "execution_count": 119,
   "metadata": {},
   "outputs": [
    {
     "data": {
      "text/html": [
       "<div>\n",
       "<style scoped>\n",
       "    .dataframe tbody tr th:only-of-type {\n",
       "        vertical-align: middle;\n",
       "    }\n",
       "\n",
       "    .dataframe tbody tr th {\n",
       "        vertical-align: top;\n",
       "    }\n",
       "\n",
       "    .dataframe thead th {\n",
       "        text-align: right;\n",
       "    }\n",
       "</style>\n",
       "<table border=\"1\" class=\"dataframe\">\n",
       "  <thead>\n",
       "    <tr style=\"text-align: right;\">\n",
       "      <th></th>\n",
       "      <th>unit_price</th>\n",
       "    </tr>\n",
       "    <tr>\n",
       "      <th>locality_name</th>\n",
       "      <th></th>\n",
       "    </tr>\n",
       "  </thead>\n",
       "  <tbody>\n",
       "    <tr>\n",
       "      <th>Колпино</th>\n",
       "      <td>75424</td>\n",
       "    </tr>\n",
       "    <tr>\n",
       "      <th>Красное Село</th>\n",
       "      <td>72148</td>\n",
       "    </tr>\n",
       "    <tr>\n",
       "      <th>Кронштадт</th>\n",
       "      <td>79770</td>\n",
       "    </tr>\n",
       "    <tr>\n",
       "      <th>Ломоносов</th>\n",
       "      <td>72723</td>\n",
       "    </tr>\n",
       "    <tr>\n",
       "      <th>Парголово</th>\n",
       "      <td>90175</td>\n",
       "    </tr>\n",
       "    <tr>\n",
       "      <th>Петергоф</th>\n",
       "      <td>84757</td>\n",
       "    </tr>\n",
       "    <tr>\n",
       "      <th>Пушкин</th>\n",
       "      <td>103125</td>\n",
       "    </tr>\n",
       "    <tr>\n",
       "      <th>Санкт-Петербург</th>\n",
       "      <td>114826</td>\n",
       "    </tr>\n",
       "    <tr>\n",
       "      <th>Сестрорецк</th>\n",
       "      <td>101757</td>\n",
       "    </tr>\n",
       "    <tr>\n",
       "      <th>Шушары</th>\n",
       "      <td>78676</td>\n",
       "    </tr>\n",
       "  </tbody>\n",
       "</table>\n",
       "</div>"
      ],
      "text/plain": [
       "                 unit_price\n",
       "locality_name              \n",
       "Колпино               75424\n",
       "Красное Село          72148\n",
       "Кронштадт             79770\n",
       "Ломоносов             72723\n",
       "Парголово             90175\n",
       "Петергоф              84757\n",
       "Пушкин               103125\n",
       "Санкт-Петербург      114826\n",
       "Сестрорецк           101757\n",
       "Шушары                78676"
      ]
     },
     "metadata": {},
     "output_type": "display_data"
    }
   ],
   "source": [
    "# Определим стоимсоть квадратоного метра жилья в населенных пунктах с наибольшим колтичеством объявлений\n",
    "df_10_city = df[df['type_locality'] == 'город'].pivot_table(index='locality_name', values='unit_price', aggfunc='mean')\n",
    "df_10_city['unit_price'] = df_10_city['unit_price'].astype('int')\n",
    "display(df_10_city)"
   ]
  },
  {
   "cell_type": "markdown",
   "metadata": {},
   "source": [
    "**Вывод по стоимости жилья в десяти населённых пунктах с наибольшим числом объявлений**\n",
    "\n",
    "По информации о стоимости квадратного метра жилья в населенных пунктах с наибольшим количеством объявлений можно сказать, что самый дорогой квадратный метр в Санкт-Петербурге – почти 115 000 р.\n",
    "\n",
    "Немного дешевле, но больше 100 000 р квадратный метр в Сестрорецке и Пушкине\n",
    "\n",
    "По остальным населенным пункта цена квадратного метра составляет от 72 000 до 90 000 р"
   ]
  },
  {
   "cell_type": "markdown",
   "metadata": {},
   "source": [
    "### Изучение цен на квартиры в Санкт-Перебурге"
   ]
  },
  {
   "cell_type": "markdown",
   "metadata": {},
   "source": [
    "- На основании данных о стоимости квартир и их удаленности от центра выявить границу центра города.\n",
    "- Определить факторы, влияющие на стоимость квартир в центре города, сопоставить их, с факторами, влияющими на стоимость остальных квартир"
   ]
  },
  {
   "cell_type": "code",
   "execution_count": 120,
   "metadata": {},
   "outputs": [
    {
     "data": {
      "text/html": [
       "<div>\n",
       "<style scoped>\n",
       "    .dataframe tbody tr th:only-of-type {\n",
       "        vertical-align: middle;\n",
       "    }\n",
       "\n",
       "    .dataframe tbody tr th {\n",
       "        vertical-align: top;\n",
       "    }\n",
       "\n",
       "    .dataframe thead th {\n",
       "        text-align: right;\n",
       "    }\n",
       "</style>\n",
       "<table border=\"1\" class=\"dataframe\">\n",
       "  <thead>\n",
       "    <tr style=\"text-align: right;\">\n",
       "      <th></th>\n",
       "      <th>total_images</th>\n",
       "      <th>last_price</th>\n",
       "      <th>total_area</th>\n",
       "      <th>first_day_exposition</th>\n",
       "      <th>rooms</th>\n",
       "      <th>ceiling_height</th>\n",
       "      <th>floors_total</th>\n",
       "      <th>living_area</th>\n",
       "      <th>floor</th>\n",
       "      <th>is_apartment</th>\n",
       "      <th>...</th>\n",
       "      <th>days_exposition</th>\n",
       "      <th>unit_price</th>\n",
       "      <th>week_day</th>\n",
       "      <th>month</th>\n",
       "      <th>year</th>\n",
       "      <th>type_floor</th>\n",
       "      <th>unit_liev</th>\n",
       "      <th>unit_kitchen</th>\n",
       "      <th>type_locality</th>\n",
       "      <th>km_centers</th>\n",
       "    </tr>\n",
       "  </thead>\n",
       "  <tbody>\n",
       "    <tr>\n",
       "      <th>0</th>\n",
       "      <td>20</td>\n",
       "      <td>13000000.0</td>\n",
       "      <td>108.0</td>\n",
       "      <td>2019-03-07</td>\n",
       "      <td>3</td>\n",
       "      <td>2.70</td>\n",
       "      <td>16</td>\n",
       "      <td>51.0</td>\n",
       "      <td>8</td>\n",
       "      <td>True</td>\n",
       "      <td>...</td>\n",
       "      <td>NaN</td>\n",
       "      <td>120370</td>\n",
       "      <td>3</td>\n",
       "      <td>3</td>\n",
       "      <td>2019</td>\n",
       "      <td>другой</td>\n",
       "      <td>0.472222</td>\n",
       "      <td>0.231481</td>\n",
       "      <td>город</td>\n",
       "      <td>17</td>\n",
       "    </tr>\n",
       "    <tr>\n",
       "      <th>2</th>\n",
       "      <td>10</td>\n",
       "      <td>5196000.0</td>\n",
       "      <td>56.0</td>\n",
       "      <td>2015-08-20</td>\n",
       "      <td>2</td>\n",
       "      <td>2.65</td>\n",
       "      <td>5</td>\n",
       "      <td>34.3</td>\n",
       "      <td>4</td>\n",
       "      <td>True</td>\n",
       "      <td>...</td>\n",
       "      <td>558.0</td>\n",
       "      <td>92785</td>\n",
       "      <td>3</td>\n",
       "      <td>8</td>\n",
       "      <td>2015</td>\n",
       "      <td>другой</td>\n",
       "      <td>0.612500</td>\n",
       "      <td>0.148214</td>\n",
       "      <td>город</td>\n",
       "      <td>14</td>\n",
       "    </tr>\n",
       "    <tr>\n",
       "      <th>3</th>\n",
       "      <td>0</td>\n",
       "      <td>64900000.0</td>\n",
       "      <td>159.0</td>\n",
       "      <td>2015-07-24</td>\n",
       "      <td>3</td>\n",
       "      <td>2.65</td>\n",
       "      <td>14</td>\n",
       "      <td>30.0</td>\n",
       "      <td>9</td>\n",
       "      <td>True</td>\n",
       "      <td>...</td>\n",
       "      <td>424.0</td>\n",
       "      <td>408176</td>\n",
       "      <td>4</td>\n",
       "      <td>7</td>\n",
       "      <td>2015</td>\n",
       "      <td>другой</td>\n",
       "      <td>0.188679</td>\n",
       "      <td>0.057233</td>\n",
       "      <td>город</td>\n",
       "      <td>7</td>\n",
       "    </tr>\n",
       "    <tr>\n",
       "      <th>4</th>\n",
       "      <td>2</td>\n",
       "      <td>10000000.0</td>\n",
       "      <td>100.0</td>\n",
       "      <td>2018-06-19</td>\n",
       "      <td>2</td>\n",
       "      <td>3.03</td>\n",
       "      <td>14</td>\n",
       "      <td>32.0</td>\n",
       "      <td>13</td>\n",
       "      <td>True</td>\n",
       "      <td>...</td>\n",
       "      <td>121.0</td>\n",
       "      <td>100000</td>\n",
       "      <td>1</td>\n",
       "      <td>6</td>\n",
       "      <td>2018</td>\n",
       "      <td>другой</td>\n",
       "      <td>0.320000</td>\n",
       "      <td>0.410000</td>\n",
       "      <td>город</td>\n",
       "      <td>9</td>\n",
       "    </tr>\n",
       "    <tr>\n",
       "      <th>7</th>\n",
       "      <td>5</td>\n",
       "      <td>7915000.0</td>\n",
       "      <td>71.6</td>\n",
       "      <td>2019-04-18</td>\n",
       "      <td>2</td>\n",
       "      <td>2.65</td>\n",
       "      <td>24</td>\n",
       "      <td>30.0</td>\n",
       "      <td>22</td>\n",
       "      <td>True</td>\n",
       "      <td>...</td>\n",
       "      <td>NaN</td>\n",
       "      <td>110544</td>\n",
       "      <td>3</td>\n",
       "      <td>4</td>\n",
       "      <td>2019</td>\n",
       "      <td>другой</td>\n",
       "      <td>0.418994</td>\n",
       "      <td>0.263966</td>\n",
       "      <td>город</td>\n",
       "      <td>12</td>\n",
       "    </tr>\n",
       "  </tbody>\n",
       "</table>\n",
       "<p>5 rows × 31 columns</p>\n",
       "</div>"
      ],
      "text/plain": [
       "   total_images  last_price  total_area first_day_exposition  rooms  \\\n",
       "0            20  13000000.0       108.0           2019-03-07      3   \n",
       "2            10   5196000.0        56.0           2015-08-20      2   \n",
       "3             0  64900000.0       159.0           2015-07-24      3   \n",
       "4             2  10000000.0       100.0           2018-06-19      2   \n",
       "7             5   7915000.0        71.6           2019-04-18      2   \n",
       "\n",
       "   ceiling_height  floors_total  living_area  floor  is_apartment  ...  \\\n",
       "0            2.70            16         51.0      8          True  ...   \n",
       "2            2.65             5         34.3      4          True  ...   \n",
       "3            2.65            14         30.0      9          True  ...   \n",
       "4            3.03            14         32.0     13          True  ...   \n",
       "7            2.65            24         30.0     22          True  ...   \n",
       "\n",
       "   days_exposition  unit_price  week_day  month  year  type_floor  unit_liev  \\\n",
       "0              NaN      120370         3      3  2019      другой   0.472222   \n",
       "2            558.0       92785         3      8  2015      другой   0.612500   \n",
       "3            424.0      408176         4      7  2015      другой   0.188679   \n",
       "4            121.0      100000         1      6  2018      другой   0.320000   \n",
       "7              NaN      110544         3      4  2019      другой   0.418994   \n",
       "\n",
       "   unit_kitchen  type_locality  km_centers  \n",
       "0      0.231481          город          17  \n",
       "2      0.148214          город          14  \n",
       "3      0.057233          город           7  \n",
       "4      0.410000          город           9  \n",
       "7      0.263966          город          12  \n",
       "\n",
       "[5 rows x 31 columns]"
      ]
     },
     "metadata": {},
     "output_type": "display_data"
    }
   ],
   "source": [
    "# Выдлим жилье в Санкт-Петербурге и устновим для расстояние цельночисленное значение\n",
    "df_spb = df[df['locality_name'] == 'Санкт-Петербург']\n",
    "df_spb = df_spb.assign(km_centers = df_spb.city_centers_nearest / 1000)\n",
    "df_spb['km_centers'] = np.ceil(df_spb['km_centers']).astype(int)\n",
    "\n",
    "display(df_spb.head())"
   ]
  },
  {
   "cell_type": "code",
   "execution_count": 121,
   "metadata": {},
   "outputs": [
    {
     "data": {
      "text/plain": [
       "<AxesSubplot:xlabel='km_centers'>"
      ]
     },
     "execution_count": 121,
     "metadata": {},
     "output_type": "execute_result"
    },
    {
     "data": {
      "image/png": "[encoded data removed]",
      "text/plain": [
       "<Figure size 432x288 with 1 Axes>"
      ]
     },
     "metadata": {
      "needs_background": "light"
     },
     "output_type": "display_data"
    }
   ],
   "source": [
    "# Построить график цены квадратного метра от расстояния до центра\n",
    "df_spb_km = df_spb.groupby('km_centers')['unit_price'].mean().round()\n",
    "df_spb_km.plot()"
   ]
  },
  {
   "cell_type": "code",
   "execution_count": 122,
   "metadata": {
    "scrolled": true
   },
   "outputs": [
    {
     "data": {
      "text/plain": [
       "km_centers\n",
       "1     187324.0\n",
       "2     166603.0\n",
       "3     146662.0\n",
       "4     129364.0\n",
       "5     137475.0\n",
       "6     146979.0\n",
       "7     152277.0\n",
       "8     141399.0\n",
       "9     119904.0\n",
       "10    110002.0\n",
       "11    111652.0\n",
       "12    106783.0\n",
       "13    110187.0\n",
       "14    107179.0\n",
       "15    104992.0\n",
       "Name: unit_price, dtype: float64"
      ]
     },
     "execution_count": 122,
     "metadata": {},
     "output_type": "execute_result"
    }
   ],
   "source": [
    "# Центр - в радиусе 8 км\n",
    "df_spb_km.head(15)"
   ]
  },
  {
   "cell_type": "code",
   "execution_count": 123,
   "metadata": {},
   "outputs": [],
   "source": [
    "# Добавлен столбец \"центр\"\n",
    "def zebtr(x):\n",
    "    if x <= 8:\n",
    "        return 'центр'\n",
    "    return 'другое'\n",
    "\n",
    "df_spb['type_zebtr'] = df_spb['km_centers'].apply(zebtr)"
   ]
  },
  {
   "cell_type": "code",
   "execution_count": 124,
   "metadata": {},
   "outputs": [],
   "source": [
    "# Исключение лишних столбцов\n",
    "df_spb_short = df_spb.loc[:, ['last_price', 'total_images', 'total_area', 'kitchen_area', 'rooms', 'ceiling_height', 'floors_total', 'floor', 'city_centers_nearest', 'week_day', 'month', 'year', 'km_centers', 'type_zebtr']]"
   ]
  },
  {
   "cell_type": "code",
   "execution_count": 125,
   "metadata": {},
   "outputs": [
    {
     "data": {
      "text/html": [
       "<div>\n",
       "<style scoped>\n",
       "    .dataframe tbody tr th:only-of-type {\n",
       "        vertical-align: middle;\n",
       "    }\n",
       "\n",
       "    .dataframe tbody tr th {\n",
       "        vertical-align: top;\n",
       "    }\n",
       "\n",
       "    .dataframe thead th {\n",
       "        text-align: right;\n",
       "    }\n",
       "</style>\n",
       "<table border=\"1\" class=\"dataframe\">\n",
       "  <thead>\n",
       "    <tr style=\"text-align: right;\">\n",
       "      <th></th>\n",
       "      <th>last_price</th>\n",
       "      <th>total_images</th>\n",
       "      <th>total_area</th>\n",
       "      <th>kitchen_area</th>\n",
       "      <th>rooms</th>\n",
       "      <th>ceiling_height</th>\n",
       "      <th>floors_total</th>\n",
       "      <th>floor</th>\n",
       "      <th>city_centers_nearest</th>\n",
       "      <th>week_day</th>\n",
       "      <th>month</th>\n",
       "      <th>year</th>\n",
       "      <th>km_centers</th>\n",
       "    </tr>\n",
       "  </thead>\n",
       "  <tbody>\n",
       "    <tr>\n",
       "      <th>last_price</th>\n",
       "      <td>1.000000</td>\n",
       "      <td>0.131610</td>\n",
       "      <td>0.636412</td>\n",
       "      <td>0.407744</td>\n",
       "      <td>0.333311</td>\n",
       "      <td>0.146584</td>\n",
       "      <td>0.043174</td>\n",
       "      <td>0.125717</td>\n",
       "      <td>-0.048407</td>\n",
       "      <td>0.023344</td>\n",
       "      <td>-0.006142</td>\n",
       "      <td>-0.043098</td>\n",
       "      <td>-0.052234</td>\n",
       "    </tr>\n",
       "    <tr>\n",
       "      <th>total_images</th>\n",
       "      <td>0.131610</td>\n",
       "      <td>1.000000</td>\n",
       "      <td>0.099036</td>\n",
       "      <td>0.138519</td>\n",
       "      <td>0.052797</td>\n",
       "      <td>0.096269</td>\n",
       "      <td>-0.025395</td>\n",
       "      <td>0.009717</td>\n",
       "      <td>0.011867</td>\n",
       "      <td>0.003991</td>\n",
       "      <td>-0.010223</td>\n",
       "      <td>0.138505</td>\n",
       "      <td>0.010867</td>\n",
       "    </tr>\n",
       "    <tr>\n",
       "      <th>total_area</th>\n",
       "      <td>0.636412</td>\n",
       "      <td>0.099036</td>\n",
       "      <td>1.000000</td>\n",
       "      <td>0.522206</td>\n",
       "      <td>0.737218</td>\n",
       "      <td>0.265308</td>\n",
       "      <td>-0.022163</td>\n",
       "      <td>0.104269</td>\n",
       "      <td>-0.105302</td>\n",
       "      <td>0.012228</td>\n",
       "      <td>-0.014788</td>\n",
       "      <td>-0.075839</td>\n",
       "      <td>-0.112292</td>\n",
       "    </tr>\n",
       "    <tr>\n",
       "      <th>kitchen_area</th>\n",
       "      <td>0.407744</td>\n",
       "      <td>0.138519</td>\n",
       "      <td>0.522206</td>\n",
       "      <td>1.000000</td>\n",
       "      <td>0.271387</td>\n",
       "      <td>0.150658</td>\n",
       "      <td>0.083987</td>\n",
       "      <td>0.116462</td>\n",
       "      <td>-0.054632</td>\n",
       "      <td>0.000719</td>\n",
       "      <td>-0.044736</td>\n",
       "      <td>-0.046945</td>\n",
       "      <td>-0.059569</td>\n",
       "    </tr>\n",
       "    <tr>\n",
       "      <th>rooms</th>\n",
       "      <td>0.333311</td>\n",
       "      <td>0.052797</td>\n",
       "      <td>0.737218</td>\n",
       "      <td>0.271387</td>\n",
       "      <td>1.000000</td>\n",
       "      <td>0.231445</td>\n",
       "      <td>-0.183798</td>\n",
       "      <td>-0.039152</td>\n",
       "      <td>-0.176905</td>\n",
       "      <td>-0.006920</td>\n",
       "      <td>-0.020922</td>\n",
       "      <td>-0.061098</td>\n",
       "      <td>-0.181354</td>\n",
       "    </tr>\n",
       "    <tr>\n",
       "      <th>ceiling_height</th>\n",
       "      <td>0.146584</td>\n",
       "      <td>0.096269</td>\n",
       "      <td>0.265308</td>\n",
       "      <td>0.150658</td>\n",
       "      <td>0.231445</td>\n",
       "      <td>1.000000</td>\n",
       "      <td>-0.271013</td>\n",
       "      <td>-0.152105</td>\n",
       "      <td>-0.236754</td>\n",
       "      <td>-0.049892</td>\n",
       "      <td>-0.019450</td>\n",
       "      <td>0.035075</td>\n",
       "      <td>-0.236526</td>\n",
       "    </tr>\n",
       "    <tr>\n",
       "      <th>floors_total</th>\n",
       "      <td>0.043174</td>\n",
       "      <td>-0.025395</td>\n",
       "      <td>-0.022163</td>\n",
       "      <td>0.083987</td>\n",
       "      <td>-0.183798</td>\n",
       "      <td>-0.271013</td>\n",
       "      <td>1.000000</td>\n",
       "      <td>0.672457</td>\n",
       "      <td>0.381728</td>\n",
       "      <td>0.037068</td>\n",
       "      <td>0.021865</td>\n",
       "      <td>-0.043494</td>\n",
       "      <td>0.376853</td>\n",
       "    </tr>\n",
       "    <tr>\n",
       "      <th>floor</th>\n",
       "      <td>0.125717</td>\n",
       "      <td>0.009717</td>\n",
       "      <td>0.104269</td>\n",
       "      <td>0.116462</td>\n",
       "      <td>-0.039152</td>\n",
       "      <td>-0.152105</td>\n",
       "      <td>0.672457</td>\n",
       "      <td>1.000000</td>\n",
       "      <td>0.249387</td>\n",
       "      <td>0.038811</td>\n",
       "      <td>0.023973</td>\n",
       "      <td>-0.032564</td>\n",
       "      <td>0.246338</td>\n",
       "    </tr>\n",
       "    <tr>\n",
       "      <th>city_centers_nearest</th>\n",
       "      <td>-0.048407</td>\n",
       "      <td>0.011867</td>\n",
       "      <td>-0.105302</td>\n",
       "      <td>-0.054632</td>\n",
       "      <td>-0.176905</td>\n",
       "      <td>-0.236754</td>\n",
       "      <td>0.381728</td>\n",
       "      <td>0.249387</td>\n",
       "      <td>1.000000</td>\n",
       "      <td>0.022179</td>\n",
       "      <td>0.003730</td>\n",
       "      <td>0.032062</td>\n",
       "      <td>0.986267</td>\n",
       "    </tr>\n",
       "    <tr>\n",
       "      <th>week_day</th>\n",
       "      <td>0.023344</td>\n",
       "      <td>0.003991</td>\n",
       "      <td>0.012228</td>\n",
       "      <td>0.000719</td>\n",
       "      <td>-0.006920</td>\n",
       "      <td>-0.049892</td>\n",
       "      <td>0.037068</td>\n",
       "      <td>0.038811</td>\n",
       "      <td>0.022179</td>\n",
       "      <td>1.000000</td>\n",
       "      <td>0.026216</td>\n",
       "      <td>0.001066</td>\n",
       "      <td>0.022290</td>\n",
       "    </tr>\n",
       "    <tr>\n",
       "      <th>month</th>\n",
       "      <td>-0.006142</td>\n",
       "      <td>-0.010223</td>\n",
       "      <td>-0.014788</td>\n",
       "      <td>-0.044736</td>\n",
       "      <td>-0.020922</td>\n",
       "      <td>-0.019450</td>\n",
       "      <td>0.021865</td>\n",
       "      <td>0.023973</td>\n",
       "      <td>0.003730</td>\n",
       "      <td>0.026216</td>\n",
       "      <td>1.000000</td>\n",
       "      <td>-0.241543</td>\n",
       "      <td>0.003708</td>\n",
       "    </tr>\n",
       "    <tr>\n",
       "      <th>year</th>\n",
       "      <td>-0.043098</td>\n",
       "      <td>0.138505</td>\n",
       "      <td>-0.075839</td>\n",
       "      <td>-0.046945</td>\n",
       "      <td>-0.061098</td>\n",
       "      <td>0.035075</td>\n",
       "      <td>-0.043494</td>\n",
       "      <td>-0.032564</td>\n",
       "      <td>0.032062</td>\n",
       "      <td>0.001066</td>\n",
       "      <td>-0.241543</td>\n",
       "      <td>1.000000</td>\n",
       "      <td>0.029895</td>\n",
       "    </tr>\n",
       "    <tr>\n",
       "      <th>km_centers</th>\n",
       "      <td>-0.052234</td>\n",
       "      <td>0.010867</td>\n",
       "      <td>-0.112292</td>\n",
       "      <td>-0.059569</td>\n",
       "      <td>-0.181354</td>\n",
       "      <td>-0.236526</td>\n",
       "      <td>0.376853</td>\n",
       "      <td>0.246338</td>\n",
       "      <td>0.986267</td>\n",
       "      <td>0.022290</td>\n",
       "      <td>0.003708</td>\n",
       "      <td>0.029895</td>\n",
       "      <td>1.000000</td>\n",
       "    </tr>\n",
       "  </tbody>\n",
       "</table>\n",
       "</div>"
      ],
      "text/plain": [
       "                      last_price  total_images  total_area  kitchen_area  \\\n",
       "last_price              1.000000      0.131610    0.636412      0.407744   \n",
       "total_images            0.131610      1.000000    0.099036      0.138519   \n",
       "total_area              0.636412      0.099036    1.000000      0.522206   \n",
       "kitchen_area            0.407744      0.138519    0.522206      1.000000   \n",
       "rooms                   0.333311      0.052797    0.737218      0.271387   \n",
       "ceiling_height          0.146584      0.096269    0.265308      0.150658   \n",
       "floors_total            0.043174     -0.025395   -0.022163      0.083987   \n",
       "floor                   0.125717      0.009717    0.104269      0.116462   \n",
       "city_centers_nearest   -0.048407      0.011867   -0.105302     -0.054632   \n",
       "week_day                0.023344      0.003991    0.012228      0.000719   \n",
       "month                  -0.006142     -0.010223   -0.014788     -0.044736   \n",
       "year                   -0.043098      0.138505   -0.075839     -0.046945   \n",
       "km_centers             -0.052234      0.010867   -0.112292     -0.059569   \n",
       "\n",
       "                         rooms  ceiling_height  floors_total     floor  \\\n",
       "last_price            0.333311        0.146584      0.043174  0.125717   \n",
       "total_images          0.052797        0.096269     -0.025395  0.009717   \n",
       "total_area            0.737218        0.265308     -0.022163  0.104269   \n",
       "kitchen_area          0.271387        0.150658      0.083987  0.116462   \n",
       "rooms                 1.000000        0.231445     -0.183798 -0.039152   \n",
       "ceiling_height        0.231445        1.000000     -0.271013 -0.152105   \n",
       "floors_total         -0.183798       -0.271013      1.000000  0.672457   \n",
       "floor                -0.039152       -0.152105      0.672457  1.000000   \n",
       "city_centers_nearest -0.176905       -0.236754      0.381728  0.249387   \n",
       "week_day             -0.006920       -0.049892      0.037068  0.038811   \n",
       "month                -0.020922       -0.019450      0.021865  0.023973   \n",
       "year                 -0.061098        0.035075     -0.043494 -0.032564   \n",
       "km_centers           -0.181354       -0.236526      0.376853  0.246338   \n",
       "\n",
       "                      city_centers_nearest  week_day     month      year  \\\n",
       "last_price                       -0.048407  0.023344 -0.006142 -0.043098   \n",
       "total_images                      0.011867  0.003991 -0.010223  0.138505   \n",
       "total_area                       -0.105302  0.012228 -0.014788 -0.075839   \n",
       "kitchen_area                     -0.054632  0.000719 -0.044736 -0.046945   \n",
       "rooms                            -0.176905 -0.006920 -0.020922 -0.061098   \n",
       "ceiling_height                   -0.236754 -0.049892 -0.019450  0.035075   \n",
       "floors_total                      0.381728  0.037068  0.021865 -0.043494   \n",
       "floor                             0.249387  0.038811  0.023973 -0.032564   \n",
       "city_centers_nearest              1.000000  0.022179  0.003730  0.032062   \n",
       "week_day                          0.022179  1.000000  0.026216  0.001066   \n",
       "month                             0.003730  0.026216  1.000000 -0.241543   \n",
       "year                              0.032062  0.001066 -0.241543  1.000000   \n",
       "km_centers                        0.986267  0.022290  0.003708  0.029895   \n",
       "\n",
       "                      km_centers  \n",
       "last_price             -0.052234  \n",
       "total_images            0.010867  \n",
       "total_area             -0.112292  \n",
       "kitchen_area           -0.059569  \n",
       "rooms                  -0.181354  \n",
       "ceiling_height         -0.236526  \n",
       "floors_total            0.376853  \n",
       "floor                   0.246338  \n",
       "city_centers_nearest    0.986267  \n",
       "week_day                0.022290  \n",
       "month                   0.003708  \n",
       "year                    0.029895  \n",
       "km_centers              1.000000  "
      ]
     },
     "execution_count": 125,
     "metadata": {},
     "output_type": "execute_result"
    }
   ],
   "source": [
    "# Создаем корреляционную таблтцу для ценра\n",
    "df_spb_short[df_spb_short['type_zebtr'] == 'центр'].corr()"
   ]
  },
  {
   "cell_type": "code",
   "execution_count": 126,
   "metadata": {
    "scrolled": false
   },
   "outputs": [
    {
     "data": {
      "text/plain": [
       "Text(0.5, 1.0, 'correlation_heatmap_spb_short_centr')"
      ]
     },
     "execution_count": 126,
     "metadata": {},
     "output_type": "execute_result"
    },
    {
     "data": {
      "image/png": "[encoded data removed]",
      "text/plain": [
       "<Figure size 720x504 with 2 Axes>"
      ]
     },
     "metadata": {
      "needs_background": "light"
     },
     "output_type": "display_data"
    }
   ],
   "source": [
    "# Визуализируем зависимости для центральной выборки графиком heatmap\n",
    "df_spb_short_centr = df_spb_short[df_spb_short['type_zebtr'] == 'центр']\n",
    "plt.figure(figsize=(10, 7))\n",
    "heatmap = sms.heatmap(df_spb_short_centr.corr(), annot = True, fmt='2.1g')\n",
    "heatmap.set_title('correlation_heatmap_spb_short_centr')"
   ]
  },
  {
   "cell_type": "code",
   "execution_count": 127,
   "metadata": {},
   "outputs": [
    {
     "data": {
      "image/png": "[encoded data removed]",
      "text/plain": [
       "<Figure size 720x504 with 169 Axes>"
      ]
     },
     "metadata": {
      "needs_background": "light"
     },
     "output_type": "display_data"
    }
   ],
   "source": [
    "# Визуализируем зависимости для центральной выборки серией графиков scatter\n",
    "pd.plotting.scatter_matrix(df_spb_short_centr, figsize=(10, 7))\n",
    "plt.show()"
   ]
  },
  {
   "cell_type": "code",
   "execution_count": 128,
   "metadata": {},
   "outputs": [
    {
     "data": {
      "text/html": [
       "<div>\n",
       "<style scoped>\n",
       "    .dataframe tbody tr th:only-of-type {\n",
       "        vertical-align: middle;\n",
       "    }\n",
       "\n",
       "    .dataframe tbody tr th {\n",
       "        vertical-align: top;\n",
       "    }\n",
       "\n",
       "    .dataframe thead th {\n",
       "        text-align: right;\n",
       "    }\n",
       "</style>\n",
       "<table border=\"1\" class=\"dataframe\">\n",
       "  <thead>\n",
       "    <tr style=\"text-align: right;\">\n",
       "      <th></th>\n",
       "      <th>last_price</th>\n",
       "      <th>total_images</th>\n",
       "      <th>total_area</th>\n",
       "      <th>kitchen_area</th>\n",
       "      <th>rooms</th>\n",
       "      <th>ceiling_height</th>\n",
       "      <th>floors_total</th>\n",
       "      <th>floor</th>\n",
       "      <th>city_centers_nearest</th>\n",
       "      <th>week_day</th>\n",
       "      <th>month</th>\n",
       "      <th>year</th>\n",
       "      <th>km_centers</th>\n",
       "    </tr>\n",
       "  </thead>\n",
       "  <tbody>\n",
       "    <tr>\n",
       "      <th>last_price</th>\n",
       "      <td>1.000000</td>\n",
       "      <td>0.153274</td>\n",
       "      <td>0.818634</td>\n",
       "      <td>0.589453</td>\n",
       "      <td>0.500419</td>\n",
       "      <td>0.357226</td>\n",
       "      <td>0.129365</td>\n",
       "      <td>0.113209</td>\n",
       "      <td>-0.154836</td>\n",
       "      <td>-0.005860</td>\n",
       "      <td>0.010309</td>\n",
       "      <td>0.011391</td>\n",
       "      <td>-0.151577</td>\n",
       "    </tr>\n",
       "    <tr>\n",
       "      <th>total_images</th>\n",
       "      <td>0.153274</td>\n",
       "      <td>1.000000</td>\n",
       "      <td>0.122229</td>\n",
       "      <td>0.096982</td>\n",
       "      <td>0.095488</td>\n",
       "      <td>0.018949</td>\n",
       "      <td>0.036179</td>\n",
       "      <td>0.045516</td>\n",
       "      <td>-0.001879</td>\n",
       "      <td>-0.008702</td>\n",
       "      <td>0.008527</td>\n",
       "      <td>0.152012</td>\n",
       "      <td>-0.001646</td>\n",
       "    </tr>\n",
       "    <tr>\n",
       "      <th>total_area</th>\n",
       "      <td>0.818634</td>\n",
       "      <td>0.122229</td>\n",
       "      <td>1.000000</td>\n",
       "      <td>0.553282</td>\n",
       "      <td>0.750053</td>\n",
       "      <td>0.291446</td>\n",
       "      <td>0.059017</td>\n",
       "      <td>0.045979</td>\n",
       "      <td>-0.062145</td>\n",
       "      <td>-0.006593</td>\n",
       "      <td>0.010773</td>\n",
       "      <td>-0.046458</td>\n",
       "      <td>-0.060237</td>\n",
       "    </tr>\n",
       "    <tr>\n",
       "      <th>kitchen_area</th>\n",
       "      <td>0.589453</td>\n",
       "      <td>0.096982</td>\n",
       "      <td>0.553282</td>\n",
       "      <td>1.000000</td>\n",
       "      <td>0.173743</td>\n",
       "      <td>0.322286</td>\n",
       "      <td>0.294089</td>\n",
       "      <td>0.205595</td>\n",
       "      <td>-0.005108</td>\n",
       "      <td>-0.011122</td>\n",
       "      <td>0.019067</td>\n",
       "      <td>-0.039202</td>\n",
       "      <td>-0.002260</td>\n",
       "    </tr>\n",
       "    <tr>\n",
       "      <th>rooms</th>\n",
       "      <td>0.500419</td>\n",
       "      <td>0.095488</td>\n",
       "      <td>0.750053</td>\n",
       "      <td>0.173743</td>\n",
       "      <td>1.000000</td>\n",
       "      <td>0.075628</td>\n",
       "      <td>-0.177492</td>\n",
       "      <td>-0.124695</td>\n",
       "      <td>-0.063960</td>\n",
       "      <td>-0.005103</td>\n",
       "      <td>-0.003817</td>\n",
       "      <td>-0.020532</td>\n",
       "      <td>-0.063808</td>\n",
       "    </tr>\n",
       "    <tr>\n",
       "      <th>ceiling_height</th>\n",
       "      <td>0.357226</td>\n",
       "      <td>0.018949</td>\n",
       "      <td>0.291446</td>\n",
       "      <td>0.322286</td>\n",
       "      <td>0.075628</td>\n",
       "      <td>1.000000</td>\n",
       "      <td>0.125112</td>\n",
       "      <td>0.086631</td>\n",
       "      <td>-0.109246</td>\n",
       "      <td>-0.019051</td>\n",
       "      <td>0.009179</td>\n",
       "      <td>-0.057296</td>\n",
       "      <td>-0.107418</td>\n",
       "    </tr>\n",
       "    <tr>\n",
       "      <th>floors_total</th>\n",
       "      <td>0.129365</td>\n",
       "      <td>0.036179</td>\n",
       "      <td>0.059017</td>\n",
       "      <td>0.294089</td>\n",
       "      <td>-0.177492</td>\n",
       "      <td>0.125112</td>\n",
       "      <td>1.000000</td>\n",
       "      <td>0.619300</td>\n",
       "      <td>0.093950</td>\n",
       "      <td>0.019226</td>\n",
       "      <td>0.002206</td>\n",
       "      <td>-0.008364</td>\n",
       "      <td>0.095168</td>\n",
       "    </tr>\n",
       "    <tr>\n",
       "      <th>floor</th>\n",
       "      <td>0.113209</td>\n",
       "      <td>0.045516</td>\n",
       "      <td>0.045979</td>\n",
       "      <td>0.205595</td>\n",
       "      <td>-0.124695</td>\n",
       "      <td>0.086631</td>\n",
       "      <td>0.619300</td>\n",
       "      <td>1.000000</td>\n",
       "      <td>0.069754</td>\n",
       "      <td>0.015785</td>\n",
       "      <td>0.006524</td>\n",
       "      <td>-0.005426</td>\n",
       "      <td>0.070055</td>\n",
       "    </tr>\n",
       "    <tr>\n",
       "      <th>city_centers_nearest</th>\n",
       "      <td>-0.154836</td>\n",
       "      <td>-0.001879</td>\n",
       "      <td>-0.062145</td>\n",
       "      <td>-0.005108</td>\n",
       "      <td>-0.063960</td>\n",
       "      <td>-0.109246</td>\n",
       "      <td>0.093950</td>\n",
       "      <td>0.069754</td>\n",
       "      <td>1.000000</td>\n",
       "      <td>-0.017775</td>\n",
       "      <td>0.018676</td>\n",
       "      <td>0.016698</td>\n",
       "      <td>0.995876</td>\n",
       "    </tr>\n",
       "    <tr>\n",
       "      <th>week_day</th>\n",
       "      <td>-0.005860</td>\n",
       "      <td>-0.008702</td>\n",
       "      <td>-0.006593</td>\n",
       "      <td>-0.011122</td>\n",
       "      <td>-0.005103</td>\n",
       "      <td>-0.019051</td>\n",
       "      <td>0.019226</td>\n",
       "      <td>0.015785</td>\n",
       "      <td>-0.017775</td>\n",
       "      <td>1.000000</td>\n",
       "      <td>-0.004403</td>\n",
       "      <td>-0.005516</td>\n",
       "      <td>-0.017881</td>\n",
       "    </tr>\n",
       "    <tr>\n",
       "      <th>month</th>\n",
       "      <td>0.010309</td>\n",
       "      <td>0.008527</td>\n",
       "      <td>0.010773</td>\n",
       "      <td>0.019067</td>\n",
       "      <td>-0.003817</td>\n",
       "      <td>0.009179</td>\n",
       "      <td>0.002206</td>\n",
       "      <td>0.006524</td>\n",
       "      <td>0.018676</td>\n",
       "      <td>-0.004403</td>\n",
       "      <td>1.000000</td>\n",
       "      <td>-0.291471</td>\n",
       "      <td>0.018727</td>\n",
       "    </tr>\n",
       "    <tr>\n",
       "      <th>year</th>\n",
       "      <td>0.011391</td>\n",
       "      <td>0.152012</td>\n",
       "      <td>-0.046458</td>\n",
       "      <td>-0.039202</td>\n",
       "      <td>-0.020532</td>\n",
       "      <td>-0.057296</td>\n",
       "      <td>-0.008364</td>\n",
       "      <td>-0.005426</td>\n",
       "      <td>0.016698</td>\n",
       "      <td>-0.005516</td>\n",
       "      <td>-0.291471</td>\n",
       "      <td>1.000000</td>\n",
       "      <td>0.016182</td>\n",
       "    </tr>\n",
       "    <tr>\n",
       "      <th>km_centers</th>\n",
       "      <td>-0.151577</td>\n",
       "      <td>-0.001646</td>\n",
       "      <td>-0.060237</td>\n",
       "      <td>-0.002260</td>\n",
       "      <td>-0.063808</td>\n",
       "      <td>-0.107418</td>\n",
       "      <td>0.095168</td>\n",
       "      <td>0.070055</td>\n",
       "      <td>0.995876</td>\n",
       "      <td>-0.017881</td>\n",
       "      <td>0.018727</td>\n",
       "      <td>0.016182</td>\n",
       "      <td>1.000000</td>\n",
       "    </tr>\n",
       "  </tbody>\n",
       "</table>\n",
       "</div>"
      ],
      "text/plain": [
       "                      last_price  total_images  total_area  kitchen_area  \\\n",
       "last_price              1.000000      0.153274    0.818634      0.589453   \n",
       "total_images            0.153274      1.000000    0.122229      0.096982   \n",
       "total_area              0.818634      0.122229    1.000000      0.553282   \n",
       "kitchen_area            0.589453      0.096982    0.553282      1.000000   \n",
       "rooms                   0.500419      0.095488    0.750053      0.173743   \n",
       "ceiling_height          0.357226      0.018949    0.291446      0.322286   \n",
       "floors_total            0.129365      0.036179    0.059017      0.294089   \n",
       "floor                   0.113209      0.045516    0.045979      0.205595   \n",
       "city_centers_nearest   -0.154836     -0.001879   -0.062145     -0.005108   \n",
       "week_day               -0.005860     -0.008702   -0.006593     -0.011122   \n",
       "month                   0.010309      0.008527    0.010773      0.019067   \n",
       "year                    0.011391      0.152012   -0.046458     -0.039202   \n",
       "km_centers             -0.151577     -0.001646   -0.060237     -0.002260   \n",
       "\n",
       "                         rooms  ceiling_height  floors_total     floor  \\\n",
       "last_price            0.500419        0.357226      0.129365  0.113209   \n",
       "total_images          0.095488        0.018949      0.036179  0.045516   \n",
       "total_area            0.750053        0.291446      0.059017  0.045979   \n",
       "kitchen_area          0.173743        0.322286      0.294089  0.205595   \n",
       "rooms                 1.000000        0.075628     -0.177492 -0.124695   \n",
       "ceiling_height        0.075628        1.000000      0.125112  0.086631   \n",
       "floors_total         -0.177492        0.125112      1.000000  0.619300   \n",
       "floor                -0.124695        0.086631      0.619300  1.000000   \n",
       "city_centers_nearest -0.063960       -0.109246      0.093950  0.069754   \n",
       "week_day             -0.005103       -0.019051      0.019226  0.015785   \n",
       "month                -0.003817        0.009179      0.002206  0.006524   \n",
       "year                 -0.020532       -0.057296     -0.008364 -0.005426   \n",
       "km_centers           -0.063808       -0.107418      0.095168  0.070055   \n",
       "\n",
       "                      city_centers_nearest  week_day     month      year  \\\n",
       "last_price                       -0.154836 -0.005860  0.010309  0.011391   \n",
       "total_images                     -0.001879 -0.008702  0.008527  0.152012   \n",
       "total_area                       -0.062145 -0.006593  0.010773 -0.046458   \n",
       "kitchen_area                     -0.005108 -0.011122  0.019067 -0.039202   \n",
       "rooms                            -0.063960 -0.005103 -0.003817 -0.020532   \n",
       "ceiling_height                   -0.109246 -0.019051  0.009179 -0.057296   \n",
       "floors_total                      0.093950  0.019226  0.002206 -0.008364   \n",
       "floor                             0.069754  0.015785  0.006524 -0.005426   \n",
       "city_centers_nearest              1.000000 -0.017775  0.018676  0.016698   \n",
       "week_day                         -0.017775  1.000000 -0.004403 -0.005516   \n",
       "month                             0.018676 -0.004403  1.000000 -0.291471   \n",
       "year                              0.016698 -0.005516 -0.291471  1.000000   \n",
       "km_centers                        0.995876 -0.017881  0.018727  0.016182   \n",
       "\n",
       "                      km_centers  \n",
       "last_price             -0.151577  \n",
       "total_images           -0.001646  \n",
       "total_area             -0.060237  \n",
       "kitchen_area           -0.002260  \n",
       "rooms                  -0.063808  \n",
       "ceiling_height         -0.107418  \n",
       "floors_total            0.095168  \n",
       "floor                   0.070055  \n",
       "city_centers_nearest    0.995876  \n",
       "week_day               -0.017881  \n",
       "month                   0.018727  \n",
       "year                    0.016182  \n",
       "km_centers              1.000000  "
      ]
     },
     "execution_count": 128,
     "metadata": {},
     "output_type": "execute_result"
    }
   ],
   "source": [
    "# Создаем корреляционную таблтцу для НЕ ценра\n",
    "df_spb_short[df_spb_short['type_zebtr'] != 'центр'].corr()"
   ]
  },
  {
   "cell_type": "code",
   "execution_count": 129,
   "metadata": {},
   "outputs": [
    {
     "data": {
      "text/plain": [
       "Text(0.5, 1.0, 'correlation_heatmap_spb_short_not_centr')"
      ]
     },
     "execution_count": 129,
     "metadata": {},
     "output_type": "execute_result"
    },
    {
     "data": {
      "image/png": "[encoded data removed]",
      "text/plain": [
       "<Figure size 720x504 with 2 Axes>"
      ]
     },
     "metadata": {
      "needs_background": "light"
     },
     "output_type": "display_data"
    }
   ],
   "source": [
    "# Визуализируем зависимости для НЕ центральной выборки графиков heatmap\n",
    "df_spb_short_not_centr = df_spb_short[df_spb_short['type_zebtr'] != 'центр']\n",
    "plt.figure(figsize=(10, 7))\n",
    "heatmap = sms.heatmap(df_spb_short_not_centr.corr(), annot = True, fmt='.1g')\n",
    "heatmap.set_title('correlation_heatmap_spb_short_not_centr')"
   ]
  },
  {
   "cell_type": "code",
   "execution_count": 130,
   "metadata": {
    "scrolled": false
   },
   "outputs": [
    {
     "data": {
      "text/html": [
       "<div>\n",
       "<style scoped>\n",
       "    .dataframe tbody tr th:only-of-type {\n",
       "        vertical-align: middle;\n",
       "    }\n",
       "\n",
       "    .dataframe tbody tr th {\n",
       "        vertical-align: top;\n",
       "    }\n",
       "\n",
       "    .dataframe thead th {\n",
       "        text-align: right;\n",
       "    }\n",
       "</style>\n",
       "<table border=\"1\" class=\"dataframe\">\n",
       "  <thead>\n",
       "    <tr style=\"text-align: right;\">\n",
       "      <th></th>\n",
       "      <th>last_price</th>\n",
       "      <th>total_images</th>\n",
       "      <th>total_area</th>\n",
       "      <th>kitchen_area</th>\n",
       "      <th>rooms</th>\n",
       "      <th>ceiling_height</th>\n",
       "      <th>floors_total</th>\n",
       "      <th>floor</th>\n",
       "      <th>city_centers_nearest</th>\n",
       "      <th>week_day</th>\n",
       "      <th>month</th>\n",
       "      <th>year</th>\n",
       "    </tr>\n",
       "  </thead>\n",
       "  <tbody>\n",
       "    <tr>\n",
       "      <th>last_price</th>\n",
       "      <td>1.000000</td>\n",
       "      <td>0.160078</td>\n",
       "      <td>0.718014</td>\n",
       "      <td>0.546515</td>\n",
       "      <td>0.411709</td>\n",
       "      <td>0.227971</td>\n",
       "      <td>0.147454</td>\n",
       "      <td>0.117497</td>\n",
       "      <td>0.334144</td>\n",
       "      <td>-0.019759</td>\n",
       "      <td>0.016406</td>\n",
       "      <td>-0.031510</td>\n",
       "    </tr>\n",
       "    <tr>\n",
       "      <th>total_images</th>\n",
       "      <td>0.160078</td>\n",
       "      <td>1.000000</td>\n",
       "      <td>0.137343</td>\n",
       "      <td>0.076567</td>\n",
       "      <td>0.124255</td>\n",
       "      <td>0.012436</td>\n",
       "      <td>-0.047301</td>\n",
       "      <td>-0.006961</td>\n",
       "      <td>-0.006587</td>\n",
       "      <td>-0.017903</td>\n",
       "      <td>0.005771</td>\n",
       "      <td>0.134771</td>\n",
       "    </tr>\n",
       "    <tr>\n",
       "      <th>total_area</th>\n",
       "      <td>0.718014</td>\n",
       "      <td>0.137343</td>\n",
       "      <td>1.000000</td>\n",
       "      <td>0.467480</td>\n",
       "      <td>0.781140</td>\n",
       "      <td>0.160212</td>\n",
       "      <td>-0.098814</td>\n",
       "      <td>-0.071274</td>\n",
       "      <td>0.111911</td>\n",
       "      <td>-0.004987</td>\n",
       "      <td>0.015421</td>\n",
       "      <td>-0.047166</td>\n",
       "    </tr>\n",
       "    <tr>\n",
       "      <th>kitchen_area</th>\n",
       "      <td>0.546515</td>\n",
       "      <td>0.076567</td>\n",
       "      <td>0.467480</td>\n",
       "      <td>1.000000</td>\n",
       "      <td>0.094341</td>\n",
       "      <td>0.226603</td>\n",
       "      <td>0.261776</td>\n",
       "      <td>0.193426</td>\n",
       "      <td>0.018028</td>\n",
       "      <td>-0.009688</td>\n",
       "      <td>0.022491</td>\n",
       "      <td>-0.013498</td>\n",
       "    </tr>\n",
       "    <tr>\n",
       "      <th>rooms</th>\n",
       "      <td>0.411709</td>\n",
       "      <td>0.124255</td>\n",
       "      <td>0.781140</td>\n",
       "      <td>0.094341</td>\n",
       "      <td>1.000000</td>\n",
       "      <td>0.021298</td>\n",
       "      <td>-0.242560</td>\n",
       "      <td>-0.184483</td>\n",
       "      <td>0.072715</td>\n",
       "      <td>0.009321</td>\n",
       "      <td>0.001652</td>\n",
       "      <td>-0.027943</td>\n",
       "    </tr>\n",
       "    <tr>\n",
       "      <th>ceiling_height</th>\n",
       "      <td>0.227971</td>\n",
       "      <td>0.012436</td>\n",
       "      <td>0.160212</td>\n",
       "      <td>0.226603</td>\n",
       "      <td>0.021298</td>\n",
       "      <td>1.000000</td>\n",
       "      <td>0.036270</td>\n",
       "      <td>0.019322</td>\n",
       "      <td>0.033194</td>\n",
       "      <td>0.009017</td>\n",
       "      <td>-0.012599</td>\n",
       "      <td>-0.034743</td>\n",
       "    </tr>\n",
       "    <tr>\n",
       "      <th>floors_total</th>\n",
       "      <td>0.147454</td>\n",
       "      <td>-0.047301</td>\n",
       "      <td>-0.098814</td>\n",
       "      <td>0.261776</td>\n",
       "      <td>-0.242560</td>\n",
       "      <td>0.036270</td>\n",
       "      <td>1.000000</td>\n",
       "      <td>0.724277</td>\n",
       "      <td>-0.060786</td>\n",
       "      <td>-0.002676</td>\n",
       "      <td>0.034835</td>\n",
       "      <td>-0.003990</td>\n",
       "    </tr>\n",
       "    <tr>\n",
       "      <th>floor</th>\n",
       "      <td>0.117497</td>\n",
       "      <td>-0.006961</td>\n",
       "      <td>-0.071274</td>\n",
       "      <td>0.193426</td>\n",
       "      <td>-0.184483</td>\n",
       "      <td>0.019322</td>\n",
       "      <td>0.724277</td>\n",
       "      <td>1.000000</td>\n",
       "      <td>-0.046274</td>\n",
       "      <td>-0.002076</td>\n",
       "      <td>0.039740</td>\n",
       "      <td>-0.000192</td>\n",
       "    </tr>\n",
       "    <tr>\n",
       "      <th>city_centers_nearest</th>\n",
       "      <td>0.334144</td>\n",
       "      <td>-0.006587</td>\n",
       "      <td>0.111911</td>\n",
       "      <td>0.018028</td>\n",
       "      <td>0.072715</td>\n",
       "      <td>0.033194</td>\n",
       "      <td>-0.060786</td>\n",
       "      <td>-0.046274</td>\n",
       "      <td>1.000000</td>\n",
       "      <td>0.004925</td>\n",
       "      <td>-0.016448</td>\n",
       "      <td>-0.060287</td>\n",
       "    </tr>\n",
       "    <tr>\n",
       "      <th>week_day</th>\n",
       "      <td>-0.019759</td>\n",
       "      <td>-0.017903</td>\n",
       "      <td>-0.004987</td>\n",
       "      <td>-0.009688</td>\n",
       "      <td>0.009321</td>\n",
       "      <td>0.009017</td>\n",
       "      <td>-0.002676</td>\n",
       "      <td>-0.002076</td>\n",
       "      <td>0.004925</td>\n",
       "      <td>1.000000</td>\n",
       "      <td>0.027555</td>\n",
       "      <td>-0.004854</td>\n",
       "    </tr>\n",
       "    <tr>\n",
       "      <th>month</th>\n",
       "      <td>0.016406</td>\n",
       "      <td>0.005771</td>\n",
       "      <td>0.015421</td>\n",
       "      <td>0.022491</td>\n",
       "      <td>0.001652</td>\n",
       "      <td>-0.012599</td>\n",
       "      <td>0.034835</td>\n",
       "      <td>0.039740</td>\n",
       "      <td>-0.016448</td>\n",
       "      <td>0.027555</td>\n",
       "      <td>1.000000</td>\n",
       "      <td>-0.256768</td>\n",
       "    </tr>\n",
       "    <tr>\n",
       "      <th>year</th>\n",
       "      <td>-0.031510</td>\n",
       "      <td>0.134771</td>\n",
       "      <td>-0.047166</td>\n",
       "      <td>-0.013498</td>\n",
       "      <td>-0.027943</td>\n",
       "      <td>-0.034743</td>\n",
       "      <td>-0.003990</td>\n",
       "      <td>-0.000192</td>\n",
       "      <td>-0.060287</td>\n",
       "      <td>-0.004854</td>\n",
       "      <td>-0.256768</td>\n",
       "      <td>1.000000</td>\n",
       "    </tr>\n",
       "  </tbody>\n",
       "</table>\n",
       "</div>"
      ],
      "text/plain": [
       "                      last_price  total_images  total_area  kitchen_area  \\\n",
       "last_price              1.000000      0.160078    0.718014      0.546515   \n",
       "total_images            0.160078      1.000000    0.137343      0.076567   \n",
       "total_area              0.718014      0.137343    1.000000      0.467480   \n",
       "kitchen_area            0.546515      0.076567    0.467480      1.000000   \n",
       "rooms                   0.411709      0.124255    0.781140      0.094341   \n",
       "ceiling_height          0.227971      0.012436    0.160212      0.226603   \n",
       "floors_total            0.147454     -0.047301   -0.098814      0.261776   \n",
       "floor                   0.117497     -0.006961   -0.071274      0.193426   \n",
       "city_centers_nearest    0.334144     -0.006587    0.111911      0.018028   \n",
       "week_day               -0.019759     -0.017903   -0.004987     -0.009688   \n",
       "month                   0.016406      0.005771    0.015421      0.022491   \n",
       "year                   -0.031510      0.134771   -0.047166     -0.013498   \n",
       "\n",
       "                         rooms  ceiling_height  floors_total     floor  \\\n",
       "last_price            0.411709        0.227971      0.147454  0.117497   \n",
       "total_images          0.124255        0.012436     -0.047301 -0.006961   \n",
       "total_area            0.781140        0.160212     -0.098814 -0.071274   \n",
       "kitchen_area          0.094341        0.226603      0.261776  0.193426   \n",
       "rooms                 1.000000        0.021298     -0.242560 -0.184483   \n",
       "ceiling_height        0.021298        1.000000      0.036270  0.019322   \n",
       "floors_total         -0.242560        0.036270      1.000000  0.724277   \n",
       "floor                -0.184483        0.019322      0.724277  1.000000   \n",
       "city_centers_nearest  0.072715        0.033194     -0.060786 -0.046274   \n",
       "week_day              0.009321        0.009017     -0.002676 -0.002076   \n",
       "month                 0.001652       -0.012599      0.034835  0.039740   \n",
       "year                 -0.027943       -0.034743     -0.003990 -0.000192   \n",
       "\n",
       "                      city_centers_nearest  week_day     month      year  \n",
       "last_price                        0.334144 -0.019759  0.016406 -0.031510  \n",
       "total_images                     -0.006587 -0.017903  0.005771  0.134771  \n",
       "total_area                        0.111911 -0.004987  0.015421 -0.047166  \n",
       "kitchen_area                      0.018028 -0.009688  0.022491 -0.013498  \n",
       "rooms                             0.072715  0.009321  0.001652 -0.027943  \n",
       "ceiling_height                    0.033194  0.009017 -0.012599 -0.034743  \n",
       "floors_total                     -0.060786 -0.002676  0.034835 -0.003990  \n",
       "floor                            -0.046274 -0.002076  0.039740 -0.000192  \n",
       "city_centers_nearest              1.000000  0.004925 -0.016448 -0.060287  \n",
       "week_day                          0.004925  1.000000  0.027555 -0.004854  \n",
       "month                            -0.016448  0.027555  1.000000 -0.256768  \n",
       "year                             -0.060287 -0.004854 -0.256768  1.000000  "
      ]
     },
     "execution_count": 130,
     "metadata": {},
     "output_type": "execute_result"
    }
   ],
   "source": [
    "# Изучим зависимость цен в регионе (без СПб)\n",
    "df_reg = df[df['locality_name'] != 'Санкт-Петербург']\n",
    "df_reg_short = df_reg.loc[:, ['last_price', 'total_images', 'total_area', 'kitchen_area', 'rooms', 'ceiling_height', 'floors_total', 'floor', 'city_centers_nearest', 'week_day', 'month', 'year']]\n",
    "df_reg_short.corr()"
   ]
  },
  {
   "cell_type": "code",
   "execution_count": 131,
   "metadata": {},
   "outputs": [
    {
     "data": {
      "text/plain": [
       "Text(0.5, 1.0, 'correlation_heatmap_reg_short')"
      ]
     },
     "execution_count": 131,
     "metadata": {},
     "output_type": "execute_result"
    },
    {
     "data": {
      "image/png": "[encoded data removed]",
      "text/plain": [
       "<Figure size 720x504 with 2 Axes>"
      ]
     },
     "metadata": {
      "needs_background": "light"
     },
     "output_type": "display_data"
    }
   ],
   "source": [
    "# Визуализируем зависимости для регионов графиков heatmap\n",
    "plt.figure(figsize=(10, 7))\n",
    "heatmap = sms.heatmap(df_reg_short.corr(), annot = True, fmt='.1g')\n",
    "heatmap.set_title('correlation_heatmap_reg_short')"
   ]
  },
  {
   "cell_type": "markdown",
   "metadata": {},
   "source": [
    "**Выводы по уравню цен на квартиры в Санкт-Перебурге**\n",
    "\n",
    "На основании данных о стоимости квартир и их удаленности от центра выявлена граница центра города, которая составляет 8 км.\n",
    "\n",
    "Предполагается, что в центре есть зависимость стоимости квартир от иных параметров, чем не в центре, или по региону в целом. Для корреляционного анализа взяты те же самые параметры, какие были исследованы по региону.\n",
    "\n",
    "Определено, что, в центре Санкт-Петербурга наибольшее влияние на цену квартиры оказывает ее площадь (к= 0.636412). Значительно меньшее влияние оказывает площадь кухни (к= 0.407744) и число комнат (к= 0.333311).\n",
    "\n",
    "Если смотреть квартиры за пределами центра, то перечень параметров очень похож – общая площадь (к= 0.818634), площадь кухни (к= 0.589453) и число комнат (к= 0.500419). Однако, степень влияния данных параметров на цену значительно выше, а кроме того, появляется еще параметр высоты потолка (к= 0.357226) и обратная зависимость по удаленности от центра (к= -0.151577)."
   ]
  },
  {
   "cell_type": "markdown",
   "metadata": {},
   "source": [
    "### Выводы по исследовательскому анализу данных"
   ]
  },
  {
   "cell_type": "markdown",
   "metadata": {},
   "source": [
    "Для первичного анализа данных построены гистограммы продаж по параметрам площадь, цена, число комнат и высота потолков. Гистограмма по цене имеет наиболее нормальное распределение. Это, вероятно, связно с большим числом значения параметра. Далее наблюдается сокращение количества значений в следующем порядке – площадь, высота потолков, число комнат. Тем не менее, можно с уверенностью сказать, что наиболее продаваемой является двух- или трехкомнатная квартира, площадью от 40 до 50 кв.м,, с высотой потолка 2,6 м, по цене 3 500 000 – 4 500 000 р.\n",
    "\n",
    "Изучив параметр скорости продажи квартиры можно сказать, что выбросы (слишком быстрая и слишком медленная продажа) не позволяют увидеть нормально распределение. При наличии таких выбросов, медианное значение (95 дней) значительно отличается от среднего (181 день). График показал, что наибольшее количество сделок приходится на 45-й, 60-й, 7-й, 30-й и 90-й день, поэтому можно ограничить анализ скоростью продажи от 5 до 100 дней. В результате наложенных ограничений, число строк таблицы сократилось до 9 900, но, вместе с тем сократились медианное (45 дней) и среднее значения (47 дней). Эти два параметра теперь имеют близкие значения, что говорит об отсутствии выбросов.\n",
    "\n",
    "Сформулирована гипотеза, согласно которой на стоимость квартиры могут влиять значения следующих параметров: общая площадь, размер кухни, число комнат, высота потолков, этаж, этажность дома, удаленность от центра, количества фото, день недели, месяц и год размещения объявления. Для проверки этой гипотезы был проведён корреляционный анализ. На основании данного корреляционного анализа можно заключить, что наибольшее влияние на цену оказывает площадь квартиры (к=0.653842). Значительно меньшее влияние оказывает площадь кухни (к=0.440573) и число комнат (к=0.363567). При этом, ни один фактор не является достаточным и в значительной мере зависит от остальных факторов\n",
    "\n",
    "По информации о стоимости квадратного метра жилья в населенных пунктах с наибольшим количеством объявлений можно сказать, что самый дорогой квадратный метр в Санкт-Петербурге – почти 115 000 р. Немного дешевле, но, тем не менее больше 100 000 р, квадратный метр в Сестрорецке и Пушкине. По остальным населенным пунктам цена квадратного метра составляет от 72 000 до 90 000 р.\n",
    "\n",
    "На основании данных о стоимости квартир и их удаленности от центра выявлена граница центра города в Санкт-Петербурге, которая составляет 8 км. Предполагается, что в центре есть иная зависимость стоимости квартир от других параметров, чем не в центре, или по региону в целом. Для корреляционного анализа взяты те же самые параметры, какие были исследованы по региону. "
   ]
  },
  {
   "cell_type": "markdown",
   "metadata": {},
   "source": [
    "## Общий вывод"
   ]
  },
  {
   "cell_type": "markdown",
   "metadata": {},
   "source": [
    "Наиболее продаваемой является двух- или трехкомнатная квартира, площадью от 40 до 50 кв.м,, с высотой потолка 2,6 м, по цене 3 500 000 – 4 500 000 р.\n",
    "\n",
    "Основная масса квартир продается с 5-го по 100-й день, Наибольшее количество сделок приходится на 7-й, 30-й, 45-й, 60-й 90-й дни экспонирования.\n",
    "\n",
    "Самая высокая стоимость квадратного метра жилья в Санкт-Петербурге – почти 115 000 р. Немного дешевле, но, тем не менее больше 100 000 р, стоит квадратный метр в Сестрорецке и Пушкине. По остальным населенным пунктам цена квадратного метра составляет от 72 000 до 90 000 р.\n",
    "\n",
    "На основании данных о стоимости квартир и их удаленности от центра выявлена граница центра города в Санкт-Петербурге, которая составляет 8 км. \n",
    "\n",
    "Сформулирована гипотеза, согласно которой на стоимость квартиры могут влиять значения следующих параметров: общая площадь, размер кухни, число комнат, высота потолков, этаж, этажность дома, удаленность от центра, количества фото, день недели, месяц и год размещения объявления. Также предполагается, что в центре есть иная зависимость стоимости квартир от других параметров, чем не в центре, или по региону в целом. \n",
    "\n",
    "Для проверки этой гипотезы был проведён корреляционный анализ:\n",
    "- Определено, что, в центре Санкт-Петербурга наибольшее влияние на цену квартиры оказывает ее площадь (к= 0.636412). Значительно меньшее влияние оказывает площадь кухни (к= 0.407744) и число комнат (к= 0.333311). \n",
    "- Если смотреть квартиры за пределами центра, то перечень параметров очень похож – общая площадь (к= 0.818634), площадь кухни (к= 0.589453) и число комнат (к= 0.500419). Однако, степень влияния данных параметров на цену значительно выше, а кроме того, появляется еще параметр высоты потолка (к= 0.357226) и обратная зависимость по удаленности от центра (к= -0.151577).\n",
    "- В тоже время, по региону в целом, как и в центре Санкт-Петербурга, наибольшее влияние на цену оказывает площадь квартиры (к=0.653842), площадь кухни (к=0.440573) и число комнат (к=0.363567). \n",
    "- Регион без Санкт-Петербурга показал аналогичные зависимости, как в регионе в целом - площадь квартиры (к= 0.718014), площадь кухни (к= 0.546515) и число комнат (к= 0.411709)\n",
    "\n",
    "**Выводы:**\n",
    "- в центре Санкт-Петербурга основное влияние имеет именно площадь квартиры\n",
    "- за пределами центра Санкт-Петербурга параметр площади квартиры становится еще более значимым, оказывая основополагающее влияние. Параллельно добавляется существенное влияние параметров площади кузни, числа комнат и высоты потолка. \n",
    "- по региону в целом, влияние оказывают все те же три фактора, но их степень ниже, чем в Санкт-Петербурге (- площадь квартиры, площадь кухни и число комнат). Однако, если из анализа убрать данные по Санкт-Петербургу, то получим зависимости, очень похожие на НЕ центральные питерские квартиры – высокая значимость общей площади квартиры, дополненная высокой значимостью площади кухни и числа комнат.\n",
    "\n",
    "**Резюме**\n",
    "\n",
    "В центре Санкт-Петербургу важнейшим фактором является площадь квартиры. Остальные параметры не играют роли – квартира уже в центре, поэтому ее удаленность не важна, комфорт также вторичен, вероятно в т.ч., что в данном ареале априори очень мало комфортных квартир.\n",
    "\n",
    "За рамками центра столицы региона, у людей появляется потребность в комфорте, поэтому значимым образом увеличивается влияние не только фактора общей площади, но и площади кухни, числа комнат, высоты потолков. Людям не маловажен статус жилья, поэтому в три раза возрастает зависимость цены от удаленности от центра.\n",
    "\n",
    "Такой статус почти полностью исчезает при рассмотрении зависимости цены от различных параметров за пределами столицы региона. В малых городах и поселках имеет важность только общая площадь и число комнат. Ни стремятся только к комфорту, отбрасывая фактуры статуса жилья."
   ]
  },
  {
   "cell_type": "code",
   "execution_count": null,
   "metadata": {},
   "outputs": [],
   "source": []
  }
 ],
 "metadata": {
  "ExecuteTimeLog": [
   {
    "duration": 433,
    "start_time": "2022-03-19T09:33:34.184Z"
   },
   {
    "duration": 87,
    "start_time": "2022-03-19T09:33:34.619Z"
   },
   {
    "duration": 31,
    "start_time": "2022-03-19T09:33:34.707Z"
   },
   {
    "duration": 16,
    "start_time": "2022-03-19T09:33:34.740Z"
   },
   {
    "duration": 3,
    "start_time": "2022-03-19T09:35:20.719Z"
   },
   {
    "duration": 85,
    "start_time": "2022-03-19T09:35:20.725Z"
   },
   {
    "duration": 26,
    "start_time": "2022-03-19T09:35:20.812Z"
   },
   {
    "duration": 20,
    "start_time": "2022-03-19T09:35:20.840Z"
   },
   {
    "duration": 3,
    "start_time": "2022-03-19T09:42:38.877Z"
   },
   {
    "duration": 82,
    "start_time": "2022-03-19T09:42:38.883Z"
   },
   {
    "duration": 25,
    "start_time": "2022-03-19T09:42:38.967Z"
   },
   {
    "duration": 28,
    "start_time": "2022-03-19T09:42:38.993Z"
   },
   {
    "duration": 5,
    "start_time": "2022-03-19T09:42:39.023Z"
   },
   {
    "duration": 12,
    "start_time": "2022-03-19T09:42:39.029Z"
   },
   {
    "duration": 12,
    "start_time": "2022-03-19T09:42:39.043Z"
   },
   {
    "duration": 3,
    "start_time": "2022-03-19T11:17:21.655Z"
   },
   {
    "duration": 78,
    "start_time": "2022-03-19T11:17:21.673Z"
   },
   {
    "duration": 24,
    "start_time": "2022-03-19T11:17:21.753Z"
   },
   {
    "duration": 16,
    "start_time": "2022-03-19T11:17:21.778Z"
   },
   {
    "duration": 4,
    "start_time": "2022-03-19T11:17:21.810Z"
   },
   {
    "duration": 6,
    "start_time": "2022-03-19T11:17:21.816Z"
   },
   {
    "duration": 5,
    "start_time": "2022-03-19T11:17:21.823Z"
   },
   {
    "duration": 27,
    "start_time": "2022-03-19T11:17:21.829Z"
   },
   {
    "duration": 53,
    "start_time": "2022-03-19T11:17:21.857Z"
   },
   {
    "duration": 1792,
    "start_time": "2022-03-19T11:17:21.911Z"
   },
   {
    "duration": 20,
    "start_time": "2022-03-19T11:17:23.706Z"
   },
   {
    "duration": 10,
    "start_time": "2022-03-19T11:17:23.727Z"
   },
   {
    "duration": 30,
    "start_time": "2022-03-19T11:17:23.739Z"
   },
   {
    "duration": 7,
    "start_time": "2022-03-19T11:17:23.771Z"
   },
   {
    "duration": 29,
    "start_time": "2022-03-19T11:17:23.780Z"
   },
   {
    "duration": 10,
    "start_time": "2022-03-19T11:17:23.810Z"
   },
   {
    "duration": 24,
    "start_time": "2022-03-19T11:17:23.822Z"
   },
   {
    "duration": 24,
    "start_time": "2022-03-19T11:17:23.848Z"
   },
   {
    "duration": 121,
    "start_time": "2022-03-19T11:17:23.874Z"
   },
   {
    "duration": 12,
    "start_time": "2022-03-19T11:17:23.997Z"
   },
   {
    "duration": 11,
    "start_time": "2022-03-19T11:17:24.010Z"
   },
   {
    "duration": 15,
    "start_time": "2022-03-19T11:17:24.023Z"
   },
   {
    "duration": 9,
    "start_time": "2022-03-19T11:17:24.039Z"
   },
   {
    "duration": 8,
    "start_time": "2022-03-19T11:17:24.050Z"
   },
   {
    "duration": 8,
    "start_time": "2022-03-19T11:17:24.060Z"
   },
   {
    "duration": 48,
    "start_time": "2022-03-19T11:17:24.070Z"
   },
   {
    "duration": 14,
    "start_time": "2022-03-19T11:17:24.120Z"
   },
   {
    "duration": 41,
    "start_time": "2022-03-19T11:17:24.136Z"
   },
   {
    "duration": 6,
    "start_time": "2022-03-19T11:17:24.213Z"
   },
   {
    "duration": 7,
    "start_time": "2022-03-19T11:17:24.221Z"
   },
   {
    "duration": 12,
    "start_time": "2022-03-19T11:17:24.230Z"
   },
   {
    "duration": 465,
    "start_time": "2022-03-19T11:17:24.244Z"
   },
   {
    "duration": 11,
    "start_time": "2022-03-19T11:17:24.711Z"
   },
   {
    "duration": 19,
    "start_time": "2022-03-19T11:17:24.724Z"
   },
   {
    "duration": 24,
    "start_time": "2022-03-19T11:17:24.745Z"
   },
   {
    "duration": 652,
    "start_time": "2022-03-19T11:17:24.771Z"
   },
   {
    "duration": 283,
    "start_time": "2022-03-19T11:17:25.424Z"
   },
   {
    "duration": 162,
    "start_time": "2022-03-19T11:17:25.708Z"
   },
   {
    "duration": 184,
    "start_time": "2022-03-19T11:17:25.872Z"
   },
   {
    "duration": 274,
    "start_time": "2022-03-19T11:17:26.058Z"
   },
   {
    "duration": 6,
    "start_time": "2022-03-19T11:17:26.333Z"
   },
   {
    "duration": 7,
    "start_time": "2022-03-19T11:17:26.341Z"
   },
   {
    "duration": 14,
    "start_time": "2022-03-19T11:17:26.349Z"
   },
   {
    "duration": 293,
    "start_time": "2022-03-19T11:17:26.365Z"
   },
   {
    "duration": 5,
    "start_time": "2022-03-19T11:17:26.660Z"
   },
   {
    "duration": 43,
    "start_time": "2022-03-19T11:17:26.667Z"
   },
   {
    "duration": 22,
    "start_time": "2022-03-19T11:17:26.712Z"
   },
   {
    "duration": 38,
    "start_time": "2022-03-19T11:17:26.736Z"
   },
   {
    "duration": 162,
    "start_time": "2022-03-19T11:17:26.776Z"
   },
   {
    "duration": 6,
    "start_time": "2022-03-19T11:17:26.939Z"
   },
   {
    "duration": 13,
    "start_time": "2022-03-19T11:17:26.946Z"
   },
   {
    "duration": 13,
    "start_time": "2022-03-19T11:17:26.961Z"
   },
   {
    "duration": 37,
    "start_time": "2022-03-19T11:17:26.975Z"
   },
   {
    "duration": 27,
    "start_time": "2022-03-19T11:17:27.014Z"
   },
   {
    "duration": 25,
    "start_time": "2022-03-19T11:17:27.042Z"
   },
   {
    "duration": 1682,
    "start_time": "2022-03-30T20:26:43.561Z"
   },
   {
    "duration": 135,
    "start_time": "2022-03-30T20:28:41.290Z"
   },
   {
    "duration": 12,
    "start_time": "2022-03-30T20:30:21.024Z"
   },
   {
    "duration": 4,
    "start_time": "2022-03-30T20:30:34.271Z"
   },
   {
    "duration": 103,
    "start_time": "2022-03-30T20:30:34.288Z"
   },
   {
    "duration": 45,
    "start_time": "2022-03-30T20:30:34.394Z"
   },
   {
    "duration": 44,
    "start_time": "2022-03-30T20:30:34.441Z"
   },
   {
    "duration": 6,
    "start_time": "2022-03-30T20:30:34.488Z"
   },
   {
    "duration": 6,
    "start_time": "2022-03-30T20:30:34.497Z"
   },
   {
    "duration": 17,
    "start_time": "2022-03-30T20:30:34.506Z"
   },
   {
    "duration": 76,
    "start_time": "2022-03-30T20:30:34.525Z"
   },
   {
    "duration": 25,
    "start_time": "2022-03-30T20:30:34.604Z"
   },
   {
    "duration": 3036,
    "start_time": "2022-03-30T20:30:34.632Z"
   },
   {
    "duration": 24,
    "start_time": "2022-03-30T20:30:37.673Z"
   },
   {
    "duration": 12,
    "start_time": "2022-03-30T20:30:37.700Z"
   },
   {
    "duration": 78,
    "start_time": "2022-03-30T20:30:37.714Z"
   },
   {
    "duration": 9,
    "start_time": "2022-03-30T20:30:37.794Z"
   },
   {
    "duration": 5,
    "start_time": "2022-03-30T20:30:37.805Z"
   },
   {
    "duration": 16,
    "start_time": "2022-03-30T20:30:37.812Z"
   },
   {
    "duration": 57,
    "start_time": "2022-03-30T20:30:37.830Z"
   },
   {
    "duration": 33,
    "start_time": "2022-03-30T20:30:37.889Z"
   },
   {
    "duration": 166,
    "start_time": "2022-03-30T20:30:37.925Z"
   },
   {
    "duration": 6,
    "start_time": "2022-03-30T20:30:38.093Z"
   },
   {
    "duration": 42,
    "start_time": "2022-03-30T20:30:38.102Z"
   },
   {
    "duration": 18,
    "start_time": "2022-03-30T20:30:38.146Z"
   },
   {
    "duration": 26,
    "start_time": "2022-03-30T20:30:38.166Z"
   },
   {
    "duration": 56,
    "start_time": "2022-03-30T20:30:38.194Z"
   },
   {
    "duration": 44,
    "start_time": "2022-03-30T20:30:38.252Z"
   },
   {
    "duration": 35,
    "start_time": "2022-03-30T20:30:38.299Z"
   },
   {
    "duration": 32,
    "start_time": "2022-03-30T20:30:38.337Z"
   },
   {
    "duration": 59,
    "start_time": "2022-03-30T20:30:38.371Z"
   },
   {
    "duration": 8,
    "start_time": "2022-03-30T20:30:38.435Z"
   },
   {
    "duration": 32,
    "start_time": "2022-03-30T20:30:38.445Z"
   },
   {
    "duration": 39,
    "start_time": "2022-03-30T20:30:38.480Z"
   },
   {
    "duration": 673,
    "start_time": "2022-03-30T20:30:38.521Z"
   },
   {
    "duration": 10,
    "start_time": "2022-03-30T20:30:39.197Z"
   },
   {
    "duration": 27,
    "start_time": "2022-03-30T20:30:39.210Z"
   },
   {
    "duration": 53,
    "start_time": "2022-03-30T20:30:39.239Z"
   },
   {
    "duration": 375,
    "start_time": "2022-03-30T20:30:39.294Z"
   },
   {
    "duration": 415,
    "start_time": "2022-03-30T20:30:39.671Z"
   },
   {
    "duration": 265,
    "start_time": "2022-03-30T20:30:40.088Z"
   },
   {
    "duration": 275,
    "start_time": "2022-03-30T20:30:40.355Z"
   },
   {
    "duration": 470,
    "start_time": "2022-03-30T20:30:40.632Z"
   },
   {
    "duration": 7,
    "start_time": "2022-03-30T20:30:41.105Z"
   },
   {
    "duration": 12,
    "start_time": "2022-03-30T20:30:41.115Z"
   },
   {
    "duration": 50,
    "start_time": "2022-03-30T20:30:41.129Z"
   },
   {
    "duration": 405,
    "start_time": "2022-03-30T20:30:41.181Z"
   },
   {
    "duration": 6,
    "start_time": "2022-03-30T20:30:41.588Z"
   },
   {
    "duration": 39,
    "start_time": "2022-03-30T20:30:41.597Z"
   },
   {
    "duration": 53,
    "start_time": "2022-03-30T20:30:41.638Z"
   },
   {
    "duration": 45,
    "start_time": "2022-03-30T20:30:41.693Z"
   },
   {
    "duration": 204,
    "start_time": "2022-03-30T20:30:41.768Z"
   },
   {
    "duration": 7,
    "start_time": "2022-03-30T20:30:41.974Z"
   },
   {
    "duration": 12,
    "start_time": "2022-03-30T20:30:41.983Z"
   },
   {
    "duration": 16,
    "start_time": "2022-03-30T20:30:41.998Z"
   },
   {
    "duration": 58,
    "start_time": "2022-03-30T20:30:42.016Z"
   },
   {
    "duration": 34,
    "start_time": "2022-03-30T20:30:42.076Z"
   },
   {
    "duration": 57,
    "start_time": "2022-03-30T20:30:42.112Z"
   },
   {
    "duration": 428,
    "start_time": "2022-03-30T20:32:25.194Z"
   },
   {
    "duration": 262,
    "start_time": "2022-03-30T20:33:01.785Z"
   },
   {
    "duration": 292,
    "start_time": "2022-03-30T20:34:09.580Z"
   },
   {
    "duration": 15412,
    "start_time": "2022-03-30T20:50:14.321Z"
   },
   {
    "duration": 12,
    "start_time": "2022-03-31T19:12:12.624Z"
   },
   {
    "duration": 66,
    "start_time": "2022-03-31T19:12:29.001Z"
   },
   {
    "duration": 9,
    "start_time": "2022-03-31T19:12:39.427Z"
   },
   {
    "duration": 2542,
    "start_time": "2022-03-31T19:12:46.675Z"
   },
   {
    "duration": 144,
    "start_time": "2022-03-31T19:12:49.221Z"
   },
   {
    "duration": 50,
    "start_time": "2022-03-31T19:12:49.367Z"
   },
   {
    "duration": 23,
    "start_time": "2022-03-31T19:12:49.420Z"
   },
   {
    "duration": 32,
    "start_time": "2022-03-31T19:12:49.446Z"
   },
   {
    "duration": 27,
    "start_time": "2022-03-31T19:12:49.480Z"
   },
   {
    "duration": 23,
    "start_time": "2022-03-31T19:12:49.509Z"
   },
   {
    "duration": 67,
    "start_time": "2022-03-31T19:12:49.534Z"
   },
   {
    "duration": 22,
    "start_time": "2022-03-31T19:12:49.603Z"
   },
   {
    "duration": 3087,
    "start_time": "2022-03-31T19:12:49.629Z"
   },
   {
    "duration": 32,
    "start_time": "2022-03-31T19:12:52.717Z"
   },
   {
    "duration": 38,
    "start_time": "2022-03-31T19:12:52.751Z"
   },
   {
    "duration": 60,
    "start_time": "2022-03-31T19:12:52.791Z"
   },
   {
    "duration": 21,
    "start_time": "2022-03-31T19:12:52.853Z"
   },
   {
    "duration": 6,
    "start_time": "2022-03-31T19:12:52.875Z"
   },
   {
    "duration": 31,
    "start_time": "2022-03-31T19:12:52.883Z"
   },
   {
    "duration": 39,
    "start_time": "2022-03-31T19:12:52.916Z"
   },
   {
    "duration": 48,
    "start_time": "2022-03-31T19:12:52.957Z"
   },
   {
    "duration": 145,
    "start_time": "2022-03-31T19:12:53.007Z"
   },
   {
    "duration": 5,
    "start_time": "2022-03-31T19:12:53.154Z"
   },
   {
    "duration": 19,
    "start_time": "2022-03-31T19:12:53.161Z"
   },
   {
    "duration": 24,
    "start_time": "2022-03-31T19:12:53.182Z"
   },
   {
    "duration": 12,
    "start_time": "2022-03-31T19:12:53.208Z"
   },
   {
    "duration": 25,
    "start_time": "2022-03-31T19:12:53.221Z"
   },
   {
    "duration": 33,
    "start_time": "2022-03-31T19:12:53.248Z"
   },
   {
    "duration": 28,
    "start_time": "2022-03-31T19:12:53.284Z"
   },
   {
    "duration": 27,
    "start_time": "2022-03-31T19:12:53.314Z"
   },
   {
    "duration": 70,
    "start_time": "2022-03-31T19:12:53.347Z"
   },
   {
    "duration": 9,
    "start_time": "2022-03-31T19:12:53.420Z"
   },
   {
    "duration": 20,
    "start_time": "2022-03-31T19:12:53.431Z"
   },
   {
    "duration": 37,
    "start_time": "2022-03-31T19:12:53.453Z"
   },
   {
    "duration": 1180,
    "start_time": "2022-03-31T19:12:53.493Z"
   },
   {
    "duration": 11,
    "start_time": "2022-03-31T19:12:54.676Z"
   },
   {
    "duration": 21,
    "start_time": "2022-03-31T19:12:54.689Z"
   },
   {
    "duration": 60,
    "start_time": "2022-03-31T19:12:54.713Z"
   },
   {
    "duration": 361,
    "start_time": "2022-03-31T19:12:54.775Z"
   },
   {
    "duration": 438,
    "start_time": "2022-03-31T19:12:55.138Z"
   },
   {
    "duration": 272,
    "start_time": "2022-03-31T19:12:55.579Z"
   },
   {
    "duration": 307,
    "start_time": "2022-03-31T19:12:55.854Z"
   },
   {
    "duration": 12,
    "start_time": "2022-03-31T19:12:56.163Z"
   },
   {
    "duration": 499,
    "start_time": "2022-03-31T19:12:56.177Z"
   },
   {
    "duration": 11,
    "start_time": "2022-03-31T19:12:56.684Z"
   },
   {
    "duration": 28,
    "start_time": "2022-03-31T19:12:56.697Z"
   },
   {
    "duration": 43,
    "start_time": "2022-03-31T19:12:56.727Z"
   },
   {
    "duration": 380,
    "start_time": "2022-03-31T19:12:56.772Z"
   },
   {
    "duration": 8,
    "start_time": "2022-03-31T19:12:57.154Z"
   },
   {
    "duration": 40,
    "start_time": "2022-03-31T19:12:57.175Z"
   },
   {
    "duration": 28,
    "start_time": "2022-03-31T19:12:57.217Z"
   },
   {
    "duration": 69,
    "start_time": "2022-03-31T19:12:57.247Z"
   },
   {
    "duration": 214,
    "start_time": "2022-03-31T19:12:57.318Z"
   },
   {
    "duration": 8,
    "start_time": "2022-03-31T19:12:57.535Z"
   },
   {
    "duration": 29,
    "start_time": "2022-03-31T19:12:57.545Z"
   },
   {
    "duration": 12,
    "start_time": "2022-03-31T19:12:57.576Z"
   },
   {
    "duration": 31,
    "start_time": "2022-03-31T19:12:57.590Z"
   },
   {
    "duration": 56,
    "start_time": "2022-03-31T19:12:57.623Z"
   },
   {
    "duration": 36,
    "start_time": "2022-03-31T19:12:57.681Z"
   },
   {
    "duration": 408,
    "start_time": "2022-03-31T19:13:43.693Z"
   },
   {
    "duration": 1708,
    "start_time": "2022-03-31T19:43:45.811Z"
   },
   {
    "duration": 12434,
    "start_time": "2022-03-31T19:59:09.872Z"
   },
   {
    "duration": 1767,
    "start_time": "2022-03-31T20:02:02.843Z"
   },
   {
    "duration": 2050,
    "start_time": "2022-03-31T20:04:46.598Z"
   },
   {
    "duration": 2323,
    "start_time": "2022-03-31T20:07:52.092Z"
   },
   {
    "duration": 12001,
    "start_time": "2022-03-31T20:16:55.918Z"
   },
   {
    "duration": 12432,
    "start_time": "2022-03-31T20:18:18.328Z"
   },
   {
    "duration": 11877,
    "start_time": "2022-03-31T20:18:41.744Z"
   },
   {
    "duration": 12518,
    "start_time": "2022-03-31T20:23:08.252Z"
   },
   {
    "duration": 12229,
    "start_time": "2022-03-31T20:23:49.833Z"
   },
   {
    "duration": 4,
    "start_time": "2022-03-31T20:25:53.798Z"
   },
   {
    "duration": 98,
    "start_time": "2022-03-31T20:25:53.812Z"
   },
   {
    "duration": 40,
    "start_time": "2022-03-31T20:25:53.934Z"
   },
   {
    "duration": 21,
    "start_time": "2022-03-31T20:25:53.977Z"
   },
   {
    "duration": 6,
    "start_time": "2022-03-31T20:25:54.000Z"
   },
   {
    "duration": 9,
    "start_time": "2022-03-31T20:25:54.008Z"
   },
   {
    "duration": 5,
    "start_time": "2022-03-31T20:25:54.021Z"
   },
   {
    "duration": 76,
    "start_time": "2022-03-31T20:25:54.028Z"
   },
   {
    "duration": 22,
    "start_time": "2022-03-31T20:25:54.106Z"
   },
   {
    "duration": 3150,
    "start_time": "2022-03-31T20:25:54.131Z"
   },
   {
    "duration": 23,
    "start_time": "2022-03-31T20:25:57.283Z"
   },
   {
    "duration": 15,
    "start_time": "2022-03-31T20:25:57.309Z"
   },
   {
    "duration": 73,
    "start_time": "2022-03-31T20:25:57.326Z"
   },
   {
    "duration": 9,
    "start_time": "2022-03-31T20:25:57.401Z"
   },
   {
    "duration": 10,
    "start_time": "2022-03-31T20:25:57.412Z"
   },
   {
    "duration": 12,
    "start_time": "2022-03-31T20:25:57.426Z"
   },
   {
    "duration": 67,
    "start_time": "2022-03-31T20:25:57.440Z"
   },
   {
    "duration": 34,
    "start_time": "2022-03-31T20:25:57.509Z"
   },
   {
    "duration": 156,
    "start_time": "2022-03-31T20:25:57.545Z"
   },
   {
    "duration": 5,
    "start_time": "2022-03-31T20:25:57.704Z"
   },
   {
    "duration": 16,
    "start_time": "2022-03-31T20:25:57.711Z"
   },
   {
    "duration": 47,
    "start_time": "2022-03-31T20:25:57.729Z"
   },
   {
    "duration": 11,
    "start_time": "2022-03-31T20:25:57.778Z"
   },
   {
    "duration": 12,
    "start_time": "2022-03-31T20:25:57.791Z"
   },
   {
    "duration": 12,
    "start_time": "2022-03-31T20:25:57.805Z"
   },
   {
    "duration": 20,
    "start_time": "2022-03-31T20:25:57.819Z"
   },
   {
    "duration": 48,
    "start_time": "2022-03-31T20:25:57.841Z"
   },
   {
    "duration": 82,
    "start_time": "2022-03-31T20:25:57.891Z"
   },
   {
    "duration": 8,
    "start_time": "2022-03-31T20:25:57.976Z"
   },
   {
    "duration": 9,
    "start_time": "2022-03-31T20:25:57.986Z"
   },
   {
    "duration": 16,
    "start_time": "2022-03-31T20:25:57.997Z"
   },
   {
    "duration": 691,
    "start_time": "2022-03-31T20:25:58.015Z"
   },
   {
    "duration": 12,
    "start_time": "2022-03-31T20:25:58.708Z"
   },
   {
    "duration": 19,
    "start_time": "2022-03-31T20:25:58.722Z"
   },
   {
    "duration": 59,
    "start_time": "2022-03-31T20:25:58.744Z"
   },
   {
    "duration": 870,
    "start_time": "2022-03-31T20:25:58.806Z"
   },
   {
    "duration": 434,
    "start_time": "2022-03-31T20:25:59.679Z"
   },
   {
    "duration": 286,
    "start_time": "2022-03-31T20:26:00.116Z"
   },
   {
    "duration": 312,
    "start_time": "2022-03-31T20:26:00.406Z"
   },
   {
    "duration": 4,
    "start_time": "2022-03-31T20:26:00.721Z"
   },
   {
    "duration": 430,
    "start_time": "2022-03-31T20:26:00.727Z"
   },
   {
    "duration": 16,
    "start_time": "2022-03-31T20:26:01.159Z"
   },
   {
    "duration": 10,
    "start_time": "2022-03-31T20:26:01.181Z"
   },
   {
    "duration": 22,
    "start_time": "2022-03-31T20:26:01.193Z"
   },
   {
    "duration": 439,
    "start_time": "2022-03-31T20:26:01.217Z"
   },
   {
    "duration": 17,
    "start_time": "2022-03-31T20:26:01.658Z"
   },
   {
    "duration": 48,
    "start_time": "2022-03-31T20:26:01.677Z"
   },
   {
    "duration": 1712,
    "start_time": "2022-03-31T20:26:01.727Z"
   },
   {
    "duration": 41,
    "start_time": "2022-03-31T20:26:03.441Z"
   },
   {
    "duration": 46,
    "start_time": "2022-03-31T20:26:03.484Z"
   },
   {
    "duration": 221,
    "start_time": "2022-03-31T20:26:03.533Z"
   },
   {
    "duration": 26,
    "start_time": "2022-03-31T20:26:03.757Z"
   },
   {
    "duration": 56,
    "start_time": "2022-03-31T20:26:03.786Z"
   },
   {
    "duration": 16,
    "start_time": "2022-03-31T20:26:03.845Z"
   },
   {
    "duration": 34,
    "start_time": "2022-03-31T20:26:03.864Z"
   },
   {
    "duration": 1826,
    "start_time": "2022-03-31T20:26:03.900Z"
   },
   {
    "duration": 12344,
    "start_time": "2022-03-31T20:26:05.729Z"
   },
   {
    "duration": 38,
    "start_time": "2022-03-31T20:26:18.076Z"
   },
   {
    "duration": 1785,
    "start_time": "2022-03-31T20:26:18.117Z"
   },
   {
    "duration": 39,
    "start_time": "2022-03-31T20:26:19.904Z"
   },
   {
    "duration": 1697,
    "start_time": "2022-03-31T20:26:19.945Z"
   }
  ],
  "kernelspec": {
   "display_name": "Python 3",
   "language": "python",
   "name": "python3"
  },
  "language_info": {
   "codemirror_mode": {
    "name": "ipython",
    "version": 3
   },
   "file_extension": ".py",
   "mimetype": "text/x-python",
   "name": "python",
   "nbconvert_exporter": "python",
   "pygments_lexer": "ipython3",
   "version": "3.7.3"
  },
  "toc": {
   "base_numbering": 1,
   "nav_menu": {},
   "number_sections": true,
   "sideBar": true,
   "skip_h1_title": true,
   "title_cell": "Содержание",
   "title_sidebar": "Contents",
   "toc_cell": true,
   "toc_position": {
    "height": "calc(100% - 180px)",
    "left": "10px",
    "top": "150px",
    "width": "219.188px"
   },
   "toc_section_display": true,
   "toc_window_display": true
  }
 },
 "nbformat": 4,
 "nbformat_minor": 4
}
