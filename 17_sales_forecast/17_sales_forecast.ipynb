{
 "cells": [
  {
   "cell_type": "markdown",
   "id": "2ea79667",
   "metadata": {},
   "source": [
    "# Прогнозирование продаж Интернет-магазина"
   ]
  },
  {
   "cell_type": "markdown",
   "id": "9bab9a18",
   "metadata": {},
   "source": [
    "**Цель Заказчика.** Прогноз продаж на следующий месяц для организации точного объема закупа товара.\n",
    "\n",
    "**Цель исследования.** Построить модель для прогнозирования объема продаж на следующий месяц по метрике `buying_score` с приемлемой точностью. Учесть, что недозакуп приоритетен перед перезакупом\n",
    "\n",
    "**Задачи:**\n",
    "\n",
    "- Загрузить данные и выполнить их ресемплирование по одному месяцу.\n",
    "- Проанализировать данные.\n",
    "- Обучить разные модели с различными гиперпараметрами. Сделать тестовую выборку размером 10% от исходных данных.\n",
    "- Проверить данные на тестовой выборке и сделать выводы\n",
    "\n",
    "**Входные данные от Заказчика.** Файл в формате .csv с данными о количестве продаж\n",
    "\n",
    "**Ожидаемый результат.** Построена модель для предсказания объема продаж на следующий месяц, с приемлемой точностью по метрики `buying_score`.\n"
   ]
  },
  {
   "cell_type": "markdown",
   "id": "850d6f47",
   "metadata": {},
   "source": [
    "**Метрики**\n",
    "\n",
    "Оценка качества прогнозирования по метрике  `$$buying\\,score = (1 + \\hat{y})/(1 + y)$$`. \n",
    "\n",
    "Перезакуп `($$buying\\,score > 1$$)` более вреден, чем недозакуп `($$buying\\,score < 1$$)`.  "
   ]
  },
  {
   "cell_type": "markdown",
   "id": "3ccad35b",
   "metadata": {},
   "source": [
    "**Входящие условия**\n",
    "\n",
    "Предоставлено два датасета, один из которых имеет временной ряд только 15 значений. Такая выборка не позволяет строить достоверный прогноз.\n",
    "\n",
    "Для построения прогнозной модели выбран второй датасет, с количеством данных 174 за два года.\n",
    "\n",
    "Подобную разрежённость значений можно применить только для прогнозирования продаж на один календарный месяц."
   ]
  },
  {
   "cell_type": "code",
   "execution_count": 34,
   "id": "e2287a2b",
   "metadata": {},
   "outputs": [],
   "source": [
    "# Импотрт библиотек\n",
    "\n",
    "import pandas as pd\n",
    "import matplotlib.pyplot as plt\n",
    "import numpy as np\n",
    "import seaborn as sns\n",
    "from numpy.random import RandomState\n",
    "\n",
    "from sklearn.model_selection import train_test_split\n",
    "from sklearn.model_selection import TimeSeriesSplit\n",
    "from sklearn.linear_model import LinearRegression\n",
    "from sklearn.tree import DecisionTreeRegressor\n",
    "from sklearn.ensemble import RandomForestRegressor"
   ]
  },
  {
   "cell_type": "markdown",
   "id": "7c8a1631",
   "metadata": {},
   "source": [
    "## Исследование и подготовка данных"
   ]
  },
  {
   "cell_type": "code",
   "execution_count": 35,
   "id": "fd1348c7",
   "metadata": {
    "scrolled": true
   },
   "outputs": [
    {
     "data": {
      "text/html": [
       "<div>\n",
       "<style scoped>\n",
       "    .dataframe tbody tr th:only-of-type {\n",
       "        vertical-align: middle;\n",
       "    }\n",
       "\n",
       "    .dataframe tbody tr th {\n",
       "        vertical-align: top;\n",
       "    }\n",
       "\n",
       "    .dataframe thead th {\n",
       "        text-align: right;\n",
       "    }\n",
       "</style>\n",
       "<table border=\"1\" class=\"dataframe\">\n",
       "  <thead>\n",
       "    <tr style=\"text-align: right;\">\n",
       "      <th></th>\n",
       "      <th>count</th>\n",
       "    </tr>\n",
       "    <tr>\n",
       "      <th>date</th>\n",
       "      <th></th>\n",
       "    </tr>\n",
       "  </thead>\n",
       "  <tbody>\n",
       "    <tr>\n",
       "      <th>2017-10-30</th>\n",
       "      <td>3</td>\n",
       "    </tr>\n",
       "    <tr>\n",
       "      <th>2017-10-30</th>\n",
       "      <td>1</td>\n",
       "    </tr>\n",
       "    <tr>\n",
       "      <th>2017-10-27</th>\n",
       "      <td>1</td>\n",
       "    </tr>\n",
       "    <tr>\n",
       "      <th>2017-10-22</th>\n",
       "      <td>1</td>\n",
       "    </tr>\n",
       "    <tr>\n",
       "      <th>2017-10-13</th>\n",
       "      <td>1</td>\n",
       "    </tr>\n",
       "  </tbody>\n",
       "</table>\n",
       "</div>"
      ],
      "text/plain": [
       "            count\n",
       "date             \n",
       "2017-10-30      3\n",
       "2017-10-30      1\n",
       "2017-10-27      1\n",
       "2017-10-22      1\n",
       "2017-10-13      1"
      ]
     },
     "execution_count": 35,
     "metadata": {},
     "output_type": "execute_result"
    }
   ],
   "source": [
    "# Прочитаем датасет\n",
    "df = pd.read_csv('C:\\\\Users\\\\User\\\\Downloads\\\\clean_sales_fabric_96_sku_265_warehouse_1.csv', index_col=[0], parse_dates=[0])\n",
    "df.head()"
   ]
  },
  {
   "cell_type": "code",
   "execution_count": 36,
   "id": "40cca986",
   "metadata": {
    "scrolled": true
   },
   "outputs": [
    {
     "data": {
      "text/plain": [
       "(174, 1)"
      ]
     },
     "execution_count": 36,
     "metadata": {},
     "output_type": "execute_result"
    }
   ],
   "source": [
    "df.shape"
   ]
  },
  {
   "cell_type": "code",
   "execution_count": 37,
   "id": "58a726ad",
   "metadata": {
    "scrolled": true
   },
   "outputs": [
    {
     "name": "stdout",
     "output_type": "stream",
     "text": [
      "<class 'pandas.core.frame.DataFrame'>\n",
      "DatetimeIndex: 174 entries, 2017-10-30 to 2018-08-30\n",
      "Data columns (total 1 columns):\n",
      " #   Column  Non-Null Count  Dtype\n",
      "---  ------  --------------  -----\n",
      " 0   count   174 non-null    int64\n",
      "dtypes: int64(1)\n",
      "memory usage: 2.7 KB\n"
     ]
    }
   ],
   "source": [
    "df.info()"
   ]
  },
  {
   "cell_type": "code",
   "execution_count": 38,
   "id": "5470cd2e",
   "metadata": {},
   "outputs": [
    {
     "data": {
      "text/plain": [
       "1    128\n",
       "2     37\n",
       "3      8\n",
       "4      1\n",
       "Name: count, dtype: int64"
      ]
     },
     "execution_count": 38,
     "metadata": {},
     "output_type": "execute_result"
    }
   ],
   "source": [
    "# Проверим на аномалии\n",
    "df['count'].value_counts()"
   ]
  },
  {
   "cell_type": "code",
   "execution_count": 39,
   "id": "b8ff7d85",
   "metadata": {
    "scrolled": true
   },
   "outputs": [
    {
     "name": "stderr",
     "output_type": "stream",
     "text": [
      "C:\\Users\\User\\AppData\\Local\\Temp\\ipykernel_11852\\2490844368.py:2: FutureWarning: is_monotonic is deprecated and will be removed in a future version. Use is_monotonic_increasing instead.\n",
      "  df.index.is_monotonic\n"
     ]
    },
    {
     "data": {
      "text/plain": [
       "False"
      ]
     },
     "execution_count": 39,
     "metadata": {},
     "output_type": "execute_result"
    }
   ],
   "source": [
    "# Проверим временной ряд на монотонность\n",
    "df.index.is_monotonic"
   ]
  },
  {
   "cell_type": "code",
   "execution_count": 40,
   "id": "db76257a",
   "metadata": {},
   "outputs": [
    {
     "data": {
      "text/html": [
       "<div>\n",
       "<style scoped>\n",
       "    .dataframe tbody tr th:only-of-type {\n",
       "        vertical-align: middle;\n",
       "    }\n",
       "\n",
       "    .dataframe tbody tr th {\n",
       "        vertical-align: top;\n",
       "    }\n",
       "\n",
       "    .dataframe thead th {\n",
       "        text-align: right;\n",
       "    }\n",
       "</style>\n",
       "<table border=\"1\" class=\"dataframe\">\n",
       "  <thead>\n",
       "    <tr style=\"text-align: right;\">\n",
       "      <th></th>\n",
       "      <th>count</th>\n",
       "    </tr>\n",
       "    <tr>\n",
       "      <th>date</th>\n",
       "      <th></th>\n",
       "    </tr>\n",
       "  </thead>\n",
       "  <tbody>\n",
       "    <tr>\n",
       "      <th>2015-07-31</th>\n",
       "      <td>1</td>\n",
       "    </tr>\n",
       "    <tr>\n",
       "      <th>2015-08-31</th>\n",
       "      <td>1</td>\n",
       "    </tr>\n",
       "    <tr>\n",
       "      <th>2015-09-30</th>\n",
       "      <td>3</td>\n",
       "    </tr>\n",
       "    <tr>\n",
       "      <th>2015-10-31</th>\n",
       "      <td>2</td>\n",
       "    </tr>\n",
       "    <tr>\n",
       "      <th>2015-11-30</th>\n",
       "      <td>7</td>\n",
       "    </tr>\n",
       "  </tbody>\n",
       "</table>\n",
       "</div>"
      ],
      "text/plain": [
       "            count\n",
       "date             \n",
       "2015-07-31      1\n",
       "2015-08-31      1\n",
       "2015-09-30      3\n",
       "2015-10-31      2\n",
       "2015-11-30      7"
      ]
     },
     "execution_count": 40,
     "metadata": {},
     "output_type": "execute_result"
    }
   ],
   "source": [
    "# Выполним ресемплированиеданных по одному месяцу\n",
    "\n",
    "df = df.resample('1M').sum()\n",
    "df.head()"
   ]
  },
  {
   "cell_type": "code",
   "execution_count": 41,
   "id": "6f482af6",
   "metadata": {},
   "outputs": [
    {
     "name": "stdout",
     "output_type": "stream",
     "text": [
      "<class 'pandas.core.frame.DataFrame'>\n",
      "DatetimeIndex: 38 entries, 2015-07-31 to 2018-08-31\n",
      "Freq: M\n",
      "Data columns (total 1 columns):\n",
      " #   Column  Non-Null Count  Dtype\n",
      "---  ------  --------------  -----\n",
      " 0   count   38 non-null     int64\n",
      "dtypes: int64(1)\n",
      "memory usage: 608.0 bytes\n"
     ]
    }
   ],
   "source": [
    "df.info()"
   ]
  },
  {
   "cell_type": "code",
   "execution_count": 42,
   "id": "46c824a6",
   "metadata": {
    "scrolled": true
   },
   "outputs": [
    {
     "name": "stderr",
     "output_type": "stream",
     "text": [
      "C:\\Users\\User\\AppData\\Local\\Temp\\ipykernel_11852\\1733717891.py:2: FutureWarning: is_monotonic is deprecated and will be removed in a future version. Use is_monotonic_increasing instead.\n",
      "  df.index.is_monotonic\n"
     ]
    },
    {
     "data": {
      "text/plain": [
       "True"
      ]
     },
     "execution_count": 42,
     "metadata": {},
     "output_type": "execute_result"
    }
   ],
   "source": [
    "# Проверим новый временной ряд на монотонность\n",
    "df.index.is_monotonic"
   ]
  },
  {
   "cell_type": "markdown",
   "id": "dad71882",
   "metadata": {},
   "source": [
    "Ряд монотонный. Можно применять его для прогнозирования"
   ]
  },
  {
   "cell_type": "markdown",
   "id": "e0f2bfd4",
   "metadata": {},
   "source": [
    "**Графики временного ряда и временного ряда со скользящей средней**"
   ]
  },
  {
   "cell_type": "code",
   "execution_count": 43,
   "id": "3edda865",
   "metadata": {},
   "outputs": [
    {
     "data": {
      "text/plain": [
       "<Figure size 500x700 with 0 Axes>"
      ]
     },
     "metadata": {},
     "output_type": "display_data"
    },
    {
     "data": {
      "image/png": "[encoded data removed]",
      "text/plain": [
       "<Figure size 640x480 with 1 Axes>"
      ]
     },
     "metadata": {},
     "output_type": "display_data"
    }
   ],
   "source": [
    "plt.figure(figsize=(5, 7))\n",
    "df.plot()\n",
    "plt.show()"
   ]
  },
  {
   "cell_type": "code",
   "execution_count": 44,
   "id": "89c4b1c7",
   "metadata": {
    "scrolled": true
   },
   "outputs": [
    {
     "data": {
      "text/plain": [
       "<Axes: xlabel='date'>"
      ]
     },
     "execution_count": 44,
     "metadata": {},
     "output_type": "execute_result"
    },
    {
     "data": {
      "image/png": "[encoded data removed]",
      "text/plain": [
       "<Figure size 640x480 with 1 Axes>"
      ]
     },
     "metadata": {},
     "output_type": "display_data"
    }
   ],
   "source": [
    "df['rolling_mean'] = df.rolling(3).mean()\n",
    "df.plot()"
   ]
  },
  {
   "cell_type": "markdown",
   "id": "cbe8c0bd",
   "metadata": {},
   "source": [
    "## Построение прогноза"
   ]
  },
  {
   "cell_type": "code",
   "execution_count": 45,
   "id": "3793618d",
   "metadata": {},
   "outputs": [],
   "source": [
    "# функция метрики buying_score\n",
    "def buying_score(fact, predict):\n",
    "    fact_list = fact.tolist()\n",
    "    a = 0\n",
    "    for i in range(len(fact_list)):\n",
    "        a += (1+predict[i]) / (1+fact_list[i])\n",
    "        \n",
    "    return a / len(fact_list)"
   ]
  },
  {
   "cell_type": "code",
   "execution_count": 46,
   "id": "2f536445",
   "metadata": {},
   "outputs": [],
   "source": [
    "# введем константу\n",
    "state = RandomState(12345)"
   ]
  },
  {
   "cell_type": "code",
   "execution_count": 47,
   "id": "b751e949",
   "metadata": {
    "scrolled": true
   },
   "outputs": [],
   "source": [
    "# Выделим тестовую выборку\n",
    "train, test = train_test_split(df, test_size=.1, shuffle=False, random_state=state)"
   ]
  },
  {
   "cell_type": "code",
   "execution_count": 48,
   "id": "5ed05884",
   "metadata": {},
   "outputs": [
    {
     "name": "stdout",
     "output_type": "stream",
     "text": [
      "Качество константной модели по buying_score 0.6614\n"
     ]
    }
   ],
   "source": [
    "# Оценим качество прогноза константной моделью\n",
    "pred_median = [train['count'].median() for i in range(len(test['count']))]\n",
    "bs_pred_median = buying_score(test['count'], pred_median)\n",
    "print(f'Качество константной модели по buying_score {bs_pred_median:.4f}')"
   ]
  },
  {
   "cell_type": "code",
   "execution_count": 49,
   "id": "c893ac03",
   "metadata": {},
   "outputs": [
    {
     "name": "stdout",
     "output_type": "stream",
     "text": [
      "Качество модели по предыдущим значениям по buying_score 1.1006\n"
     ]
    }
   ],
   "source": [
    "# Оценим качество прогноза моделью по предыдущим значениям\n",
    "pred_previous = test['count'].shift(fill_value=int(train.iloc[-1, 0]))\n",
    "bs_pred_previous = buying_score(test['count'], pred_previous)\n",
    "print(f'Качество модели по предыдущим значениям по buying_score {bs_pred_previous:.4f}')"
   ]
  },
  {
   "cell_type": "code",
   "execution_count": 50,
   "id": "8f36d679",
   "metadata": {},
   "outputs": [
    {
     "data": {
      "text/html": [
       "<div>\n",
       "<style scoped>\n",
       "    .dataframe tbody tr th:only-of-type {\n",
       "        vertical-align: middle;\n",
       "    }\n",
       "\n",
       "    .dataframe tbody tr th {\n",
       "        vertical-align: top;\n",
       "    }\n",
       "\n",
       "    .dataframe thead th {\n",
       "        text-align: right;\n",
       "    }\n",
       "</style>\n",
       "<table border=\"1\" class=\"dataframe\">\n",
       "  <thead>\n",
       "    <tr style=\"text-align: right;\">\n",
       "      <th></th>\n",
       "      <th>count</th>\n",
       "      <th>rolling_mean</th>\n",
       "    </tr>\n",
       "    <tr>\n",
       "      <th>date</th>\n",
       "      <th></th>\n",
       "      <th></th>\n",
       "    </tr>\n",
       "  </thead>\n",
       "  <tbody>\n",
       "    <tr>\n",
       "      <th>2015-07-31</th>\n",
       "      <td>1</td>\n",
       "      <td>NaN</td>\n",
       "    </tr>\n",
       "    <tr>\n",
       "      <th>2015-08-31</th>\n",
       "      <td>1</td>\n",
       "      <td>NaN</td>\n",
       "    </tr>\n",
       "    <tr>\n",
       "      <th>2015-09-30</th>\n",
       "      <td>3</td>\n",
       "      <td>1.666667</td>\n",
       "    </tr>\n",
       "    <tr>\n",
       "      <th>2015-10-31</th>\n",
       "      <td>2</td>\n",
       "      <td>2.000000</td>\n",
       "    </tr>\n",
       "    <tr>\n",
       "      <th>2015-11-30</th>\n",
       "      <td>7</td>\n",
       "      <td>4.000000</td>\n",
       "    </tr>\n",
       "  </tbody>\n",
       "</table>\n",
       "</div>"
      ],
      "text/plain": [
       "            count  rolling_mean\n",
       "date                           \n",
       "2015-07-31      1           NaN\n",
       "2015-08-31      1           NaN\n",
       "2015-09-30      3      1.666667\n",
       "2015-10-31      2      2.000000\n",
       "2015-11-30      7      4.000000"
      ]
     },
     "execution_count": 50,
     "metadata": {},
     "output_type": "execute_result"
    }
   ],
   "source": [
    "df.head()"
   ]
  },
  {
   "cell_type": "code",
   "execution_count": 51,
   "id": "028c4713",
   "metadata": {},
   "outputs": [],
   "source": [
    "# Уберем столбец со сколбзящей средней\n",
    "df.drop(['rolling_mean'], axis=1, inplace=True)"
   ]
  },
  {
   "cell_type": "code",
   "execution_count": 52,
   "id": "5025aedf",
   "metadata": {},
   "outputs": [],
   "source": [
    "# Напшем функцию создания признаков\n",
    "def make_features(df, max_lag, rolling_mean_size):\n",
    "    df_new = df.copy()\n",
    "    df_new['year'] = df_new.index.year\n",
    "    df_new['month'] = df_new.index.month\n",
    "    \n",
    "    for i in range (1, max_lag+1):\n",
    "        a = 'lag_' + str(i)\n",
    "        df_new[a] = df_new['count'].shift(i)\n",
    "    \n",
    "    df_new['rolling_mean'] = df_new['count'].shift().rolling(rolling_mean_size).mean()\n",
    "    \n",
    "    # кодирование\n",
    "    df_new = pd.get_dummies(df_new, columns=['year'], drop_first=True)\n",
    "    df_new = pd.get_dummies(df_new, columns=['month'], drop_first=True)\n",
    "    \n",
    "    return df_new"
   ]
  },
  {
   "cell_type": "code",
   "execution_count": 53,
   "id": "844071e1",
   "metadata": {},
   "outputs": [
    {
     "name": "stdout",
     "output_type": "stream",
     "text": [
      "При количестве сдвигов 2 и окне 2 среднрий показатель buying_score 0.5112\n",
      "При количестве сдвигов 3 и окне 2 среднрий показатель buying_score 0.3820\n",
      "При количестве сдвигов 4 и окне 2 среднрий показатель buying_score 0.2611\n",
      "При количестве сдвигов 5 и окне 2 среднрий показатель buying_score 0.7683\n",
      "При количестве сдвигов 6 и окне 2 среднрий показатель buying_score 1.0664\n",
      "При количестве сдвигов 7 и окне 2 среднрий показатель buying_score 0.3585\n",
      "При количестве сдвигов 2 и окне 3 среднрий показатель buying_score 0.3845\n",
      "При количестве сдвигов 3 и окне 3 среднрий показатель buying_score 0.3819\n",
      "При количестве сдвигов 4 и окне 3 среднрий показатель buying_score 0.2609\n",
      "При количестве сдвигов 5 и окне 3 среднрий показатель buying_score 0.7691\n",
      "При количестве сдвигов 6 и окне 3 среднрий показатель buying_score 1.0676\n",
      "При количестве сдвигов 7 и окне 3 среднрий показатель buying_score 0.2203\n",
      "При количестве сдвигов 2 и окне 4 среднрий показатель buying_score 0.2584\n",
      "При количестве сдвигов 3 и окне 4 среднрий показатель buying_score 0.2608\n",
      "При количестве сдвигов 4 и окне 4 среднрий показатель buying_score 0.2609\n",
      "При количестве сдвигов 5 и окне 4 среднрий показатель buying_score 0.7713\n",
      "При количестве сдвигов 6 и окне 4 среднрий показатель buying_score 1.0708\n",
      "При количестве сдвигов 7 и окне 4 среднрий показатель buying_score 0.3822\n",
      "При количестве сдвигов 2 и окне 5 среднрий показатель buying_score -0.0438\n",
      "При количестве сдвигов 3 и окне 5 среднрий показатель buying_score 0.9217\n",
      "При количестве сдвигов 4 и окне 5 среднрий показатель buying_score 0.7231\n",
      "При количестве сдвигов 5 и окне 5 среднрий показатель buying_score 181974385202.5557\n",
      "При количестве сдвигов 6 и окне 5 среднрий показатель buying_score -62387567005.1505\n",
      "При количестве сдвигов 7 и окне 5 среднрий показатель buying_score 0.3835\n",
      "При количестве сдвигов 2 и окне 6 среднрий показатель buying_score 1.0815\n",
      "При количестве сдвигов 3 и окне 6 среднрий показатель buying_score 1.0895\n",
      "При количестве сдвигов 4 и окне 6 среднрий показатель buying_score 1.0945\n",
      "При количестве сдвигов 5 и окне 6 среднрий показатель buying_score 1.0353\n",
      "При количестве сдвигов 6 и окне 6 среднрий показатель buying_score 6885896632.4211\n",
      "При количестве сдвигов 7 и окне 6 среднрий показатель buying_score 155612298706.6657\n",
      "При количестве сдвигов 2 и окне 7 среднрий показатель buying_score 0.6664\n",
      "При количестве сдвигов 3 и окне 7 среднрий показатель buying_score 0.7835\n",
      "При количестве сдвигов 4 и окне 7 среднрий показатель buying_score 0.7843\n",
      "При количестве сдвигов 5 и окне 7 среднрий показатель buying_score 0.8579\n",
      "При количестве сдвигов 6 и окне 7 среднрий показатель buying_score 0.4894\n",
      "При количестве сдвигов 7 и окне 7 среднрий показатель buying_score 0.5280\n",
      "\n",
      "Лучший средний показатель buying_score 0.9217 при количестве сдвигов 3 и окне 5\n"
     ]
    }
   ],
   "source": [
    "# Определим лучшие параметры методом кросс-валидации\n",
    "\n",
    "best_bs_reg = 0\n",
    "best_lag_reg = 0\n",
    "best_roll_reg = 0\n",
    "\n",
    "for roll in range(2, 8):\n",
    "    for lag in range(2, 8):\n",
    "\n",
    "        df_cv = make_features(df, lag, roll)\n",
    "        train, test = train_test_split(df_cv, test_size=.1, shuffle=False, random_state=state)\n",
    "        train = train.dropna()\n",
    "        test = test.dropna()\n",
    "\n",
    "        featere_train = np.array(train.drop(['count'], axis=1))\n",
    "        target_train = np.array(train['count'])\n",
    "        \n",
    "        featere_test = test.drop(['count'], axis=1)\n",
    "        target_test = test['count']\n",
    "\n",
    "        bs_list = []\n",
    "\n",
    "        # Проверим параметры кросс-валидацией\n",
    "        tscv = TimeSeriesSplit()\n",
    "        for train_index, test_index in tscv.split(featere_train):\n",
    "            X_train, X_test = featere_train[train_index], featere_train[test_index]\n",
    "            y_train, y_test = target_train[train_index], target_train[test_index]\n",
    "    \n",
    "            model = LinearRegression()\n",
    "            model.fit(X_train, y_train)\n",
    "        \n",
    "            answer = model.predict(X_test)\n",
    "            bs = buying_score(y_test, answer)\n",
    "            bs_list.append(bs)\n",
    "    \n",
    "        # Рассчитаем среднее качество модели\n",
    "        fin_bs = sum(bs_list) / len(bs_list)\n",
    "\n",
    "        if best_bs_reg < fin_bs and fin_bs < 1:\n",
    "            best_bs_reg = fin_bs\n",
    "            best_lag_reg = lag\n",
    "            best_roll_reg = roll\n",
    "        \n",
    "        print(f'При количестве сдвигов {lag} и окне {roll} среднрий показатель buying_score {fin_bs:.4f}')\n",
    "        df_cv = df_cv.loc[:, ['count']]\n",
    "print()\n",
    "print(f'Лучший средний показатель buying_score {best_bs_reg:.4f} при количестве сдвигов {best_lag_reg} и окне {best_roll_reg}')"
   ]
  },
  {
   "cell_type": "code",
   "execution_count": 54,
   "id": "20c70446",
   "metadata": {},
   "outputs": [],
   "source": [
    "# Построим модель с лучшими праметрами\n",
    "df_pred = make_features(df, best_lag_reg, best_roll_reg)\n",
    "\n",
    "train, test = train_test_split(df_pred, test_size=.1, shuffle=False, random_state=state)\n",
    "train = train.dropna()\n",
    "test = test.dropna()\n",
    "    \n",
    "featere_train = train.drop(['count'], axis=1)\n",
    "target_train = train['count']\n",
    "        \n",
    "featere_test = test.drop(['count'], axis=1)\n",
    "target_test = test['count']\n"
   ]
  },
  {
   "cell_type": "code",
   "execution_count": 55,
   "id": "d620084f",
   "metadata": {},
   "outputs": [],
   "source": [
    "best_model = None\n",
    "best_bs = 0"
   ]
  },
  {
   "cell_type": "code",
   "execution_count": 56,
   "id": "e904b8d1",
   "metadata": {},
   "outputs": [
    {
     "name": "stdout",
     "output_type": "stream",
     "text": [
      "Лучший показатель buying_score 0.7668 при количестве сдвигов 3 и окне 5\n"
     ]
    }
   ],
   "source": [
    "# Построим прогноз на линейной моделе с лучшими праметрами\n",
    "\n",
    "model_reg = LinearRegression()\n",
    "model_reg.fit(featere_train, target_train)\n",
    "        \n",
    "answer_reg = model_reg.predict(featere_test)\n",
    "bs_reg = buying_score(target_test, answer_reg)\n",
    "\n",
    "print(f'Лучший показатель buying_score {bs_reg:.4f} при количестве сдвигов {best_lag_reg} и окне {best_roll_reg}')\n",
    "\n",
    "if best_bs < bs_reg and bs_reg < 1:\n",
    "    best_bs = bs_reg\n",
    "    best_model = model_reg"
   ]
  },
  {
   "cell_type": "code",
   "execution_count": 57,
   "id": "0d229dad",
   "metadata": {},
   "outputs": [
    {
     "name": "stdout",
     "output_type": "stream",
     "text": [
      "Лучший параметр глубины - 7\n",
      "Лучший показатель buying_score 0.9009 при глубине дерева 7\n"
     ]
    }
   ],
   "source": [
    "# Подберем лучшие параметры Решающего дерева методом TimeSeriesSplit\n",
    "\n",
    "best_bs_tree = 0\n",
    "best_depth_tree = 0\n",
    "\n",
    "featere_train_1 = np.array(featere_train)\n",
    "target_train_1 = np.array(target_train)\n",
    "\n",
    "for dep in range(5, 16):\n",
    "    bs_list = []\n",
    "\n",
    "    \n",
    "    # Проверим параметры кросс-валидацией\n",
    "    tscv = TimeSeriesSplit()\n",
    "    for train_index, test_index in tscv.split(featere_train_1):\n",
    "        X_train, X_test = featere_train_1[train_index], featere_train_1[test_index]\n",
    "        y_train, y_test = target_train_1[train_index], target_train_1[test_index]\n",
    "    \n",
    "        model = DecisionTreeRegressor(max_depth=dep, random_state=state)\n",
    "        model.fit(X_train, y_train)\n",
    "        \n",
    "        answer = model.predict(X_test)\n",
    "        bs = buying_score(y_test, answer)\n",
    "        bs_list.append(bs)\n",
    "    \n",
    "    # Рассчитаем среднее качество модели\n",
    "    fin_bs = sum(bs_list) / len(bs_list)\n",
    "\n",
    "    if best_bs_tree < fin_bs and fin_bs < 1:\n",
    "        best_bs_tree = fin_bs\n",
    "        best_depth_tree = dep\n",
    "\n",
    "print(f'Лучший параметр глубины - {best_depth_tree}')\n",
    "\n",
    "# Обучим и проверим модель с подобранными параметрами\n",
    "model_tree_ok = DecisionTreeRegressor(max_depth=best_depth_tree, random_state=state)\n",
    "model_tree_ok.fit(featere_train, target_train)\n",
    "    \n",
    "answer_tree_ok = model_tree_ok.predict(featere_test)\n",
    "bs_tree = buying_score(target_test, answer_tree_ok)\n",
    "\n",
    "print(f'Лучший показатель buying_score {bs_tree:.4f} при глубине дерева {best_depth_tree}')\n",
    "\n",
    "if best_bs < bs_tree and bs_tree < 1:\n",
    "    best_bs = bs_tree\n",
    "    best_model = model_tree_ok"
   ]
  },
  {
   "cell_type": "code",
   "execution_count": 58,
   "id": "144869d0",
   "metadata": {},
   "outputs": [
    {
     "name": "stdout",
     "output_type": "stream",
     "text": [
      "Лучший параметр числа деревьев - 10\n",
      "Лучший показатель buying_score 0.9266 при числе деревьев 10\n"
     ]
    }
   ],
   "source": [
    "# Подберем лучшие параметры Случайного леса методом TimeSeriesSplit\n",
    "\n",
    "best_bs_forest = 0\n",
    "best_est_forest = 0\n",
    "\n",
    "for est in range(10, 61, 10):\n",
    "    bs_list = []\n",
    "\n",
    "    # Проверим параметры кросс-валидацией\n",
    "    tscv = TimeSeriesSplit()\n",
    "    for train_index, test_index in tscv.split(featere_train_1):\n",
    "        X_train, X_test = featere_train_1[train_index], featere_train_1[test_index]\n",
    "        y_train, y_test = target_train_1[train_index], target_train_1[test_index]\n",
    "    \n",
    "        model = RandomForestRegressor(max_depth=best_depth_tree, n_estimators=est, random_state=state)\n",
    "        model.fit(X_train, y_train)\n",
    "        \n",
    "        answer = model.predict(X_test)\n",
    "        bs = buying_score(y_test, answer)\n",
    "        bs_list.append(bs)\n",
    "    \n",
    "    # Рассчитаем среднее качество модели\n",
    "    fin_bs = sum(bs_list) / len(bs_list)\n",
    "\n",
    "    if best_bs_forest < fin_bs and fin_bs < 1:\n",
    "        best_bs_forest = fin_bs\n",
    "        best_est_forest = est\n",
    "\n",
    "print(f'Лучший параметр числа деревьев - {best_est_forest}')\n",
    "\n",
    "# Обучим и проверим модель с подобранными параметрами\n",
    "model_forest_ok = RandomForestRegressor(max_depth=best_depth_tree, n_estimators=best_est_forest, random_state=state)\n",
    "model_forest_ok.fit(featere_train, target_train)\n",
    "    \n",
    "answer_forest_ok = model_forest_ok.predict(featere_test)\n",
    "bs_forest = buying_score(target_test, answer_forest_ok)\n",
    "\n",
    "print(f'Лучший показатель buying_score {bs_forest:.4f} при числе деревьев {best_est_forest}')\n",
    "\n",
    "if best_bs < bs_forest and bs_forest < 1:\n",
    "    best_bs = bs_forest\n",
    "    best_model = model_forest_ok"
   ]
  },
  {
   "cell_type": "markdown",
   "id": "4258bc24",
   "metadata": {},
   "source": [
    "Лучший показатель `buying_score` **0.9266**\n",
    "\n",
    "Достигается на датасете с **количеством сдвигов 3 и окне 5**\n",
    "\n",
    "Достигается на моделе `Случайный лес` с параметрами `число деревьев` **10** и `глубине дерева` **7**"
   ]
  },
  {
   "cell_type": "markdown",
   "id": "d3c7ef89",
   "metadata": {},
   "source": [
    "## Тестирование"
   ]
  },
  {
   "cell_type": "code",
   "execution_count": 59,
   "id": "9118facf",
   "metadata": {},
   "outputs": [
    {
     "name": "stdout",
     "output_type": "stream",
     "text": [
      "Лучшая модель RandomForestRegressor(max_depth=7, n_estimators=10,\n",
      "                      random_state=RandomState(MT19937) at 0x1DE9181D140)\n",
      "На лучшей моделе достигается значение показателя buying_score 0.9266\n"
     ]
    }
   ],
   "source": [
    "df_test = make_features(df, best_lag_reg, best_roll_reg)\n",
    "\n",
    "train, test = train_test_split(df_test, test_size=.1, shuffle=False, random_state=state)\n",
    "train = train.dropna()\n",
    "test = test.dropna()\n",
    "    \n",
    "featere_train = train.drop(['count'], axis=1)\n",
    "target_train = train['count']\n",
    "        \n",
    "featere_test = test.drop(['count'], axis=1)\n",
    "target_test = test['count']\n",
    "\n",
    "predict = best_model.predict(featere_test)\n",
    "bs = buying_score(target_test, predict)\n",
    "\n",
    "print(f'Лучшая модель {best_model}')\n",
    "print(f'На лучшей моделе достигается значение показателя buying_score {bs:.4f}')\n"
   ]
  },
  {
   "cell_type": "code",
   "execution_count": 60,
   "id": "c33f2dfa",
   "metadata": {
    "scrolled": false
   },
   "outputs": [
    {
     "data": {
      "image/png": "[encoded data removed]",
      "text/plain": [
       "<Figure size 700x500 with 1 Axes>"
      ]
     },
     "metadata": {},
     "output_type": "display_data"
    }
   ],
   "source": [
    "# Построим график сопоставлнеия реальных и прогнозных значений\n",
    "\n",
    "plt.figure(figsize=(7, 5))\n",
    "sns.kdeplot(data=list(target_test), label='true')\n",
    "sns.kdeplot(data=list(predict), label='predict')\n",
    "plt.xlabel(\"Test results\")\n",
    "plt.title('true_vs_predict')\n",
    "plt.legend()\n",
    "plt.show()"
   ]
  },
  {
   "cell_type": "code",
   "execution_count": 61,
   "id": "ac01704e",
   "metadata": {
    "scrolled": true
   },
   "outputs": [
    {
     "data": {
      "image/png": "[encoded data removed]",
      "text/plain": [
       "<Figure size 700x500 with 1 Axes>"
      ]
     },
     "metadata": {},
     "output_type": "display_data"
    }
   ],
   "source": [
    "# Построим график временноо ряда\n",
    "\n",
    "predict_1 = pd.Series(predict)\n",
    "predict_1.index = target_test.index\n",
    "\n",
    "plt.figure(figsize=(7, 5))\n",
    "target_test.plot(label='true', legend=True)\n",
    "predict_1.plot(label='predict', legend=True)\n",
    "plt.title('true_vs_predict')\n",
    "plt.show()"
   ]
  },
  {
   "cell_type": "markdown",
   "id": "708be32a",
   "metadata": {},
   "source": [
    "**Выводы**\n",
    "\n",
    "Предложенная модель `Случайного леса` для прогнозирования продаж на следующий месяц, обеспечивает лучшую точность по метрики `buying_score` **0.9266**\n",
    "\n",
    "При этом выдерживается условие приоритета значения метрики `buying_score` на уровне **меньшем единицы**\n",
    "\n",
    "Для достижения этого показателя необходимо сформировать данные с учетом **3** сдвигов и размером окна **5** для параметра скользящее среднее. Параметры `Случайного леса` - число деревьев **10** и глубине дерева **7**\n"
   ]
  }
 ],
 "metadata": {
  "kernelspec": {
   "display_name": "Python 3 (ipykernel)",
   "language": "python",
   "name": "python3"
  },
  "language_info": {
   "codemirror_mode": {
    "name": "ipython",
    "version": 3
   },
   "file_extension": ".py",
   "mimetype": "text/x-python",
   "name": "python",
   "nbconvert_exporter": "python",
   "pygments_lexer": "ipython3",
   "version": "3.10.9"
  }
 },
 "nbformat": 4,
 "nbformat_minor": 5
}
