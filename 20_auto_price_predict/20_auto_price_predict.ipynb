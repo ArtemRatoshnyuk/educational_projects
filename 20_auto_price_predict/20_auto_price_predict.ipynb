{
 "cells": [
  {
   "cell_type": "markdown",
   "id": "c185ecf9",
   "metadata": {},
   "source": [
    "# Прогноз стоимости подержанных автомобилей"
   ]
  },
  {
   "cell_type": "markdown",
   "id": "c463595d",
   "metadata": {},
   "source": [
    "## Содержание\n",
    "\n",
    "**[1. Обзор данных](#1)**\n",
    "\n",
    "- **[1.1 Ввод необходимых функций](#1.1)**\n",
    "- **[1.2 Разведочный анализ данных](#1.2)**\n",
    "- **[1.3 Общие выводы по качеству имеющихся данных](#1.3)**\n",
    "\n",
    "\n",
    "**[2. Подготовка данных](#2)**\n",
    "\n",
    "- **[2.1. Предобработка данных](#2.1)**\n",
    "- **[2.2. Проверка данных на мультиколлинеарность](#2.2)**\n",
    "- **[2.3. Общие выводы по подготовке данных ](#2.3)**\n",
    "\n",
    "\n",
    "**[3. Обучение моделей](#3)**\n",
    "\n",
    "- **[3.1. Пробразование категорий в число](#3.1)**\n",
    "- **[3.2. Проверка метода word_str. Объединение значений символов](#3.2)**\n",
    "- **[3.3. Проверка метода word_int. Сумма значений символов](#3.3)**\n",
    "- **[3.4. Модель линейной регрессии](#3.4)**\n",
    "- **[3.5. Модель Решающего дерева](#3.5)**\n",
    "- **[3.6. Методы улучшения качества моделей](#3.6)**\n",
    "- **[3.7. Общие выводы](#3.7)**\n",
    "\n",
    "\n",
    "**[4. Подготовка контрольного датасета](#4)**"
   ]
  },
  {
   "cell_type": "markdown",
   "id": "0461c7e9",
   "metadata": {},
   "source": [
    "Многие знают про маркетплейсы где продаются б/у вещи, на которых есть возможность недорого купить качественную и полезную вещь. Но всегда волнует вопрос - кто и как устанавливает цену, и какие его характеристики больше всего влияют на итоговую стоимость продажи?! Вопрос становиться особо актуальным, если речь идет про дорогие товары, например про автомобили!\n",
    "\n",
    "Предлагаем вам принять участие в Мастерской, в рамках которой вы сможете поработать с данными о продажах автомобилей на вторичном рынке. Целью вашего проекта будет разработанная модель предсказания стоимости автомобиля на вторичном рынке.\n",
    "\n",
    "Основной критерий победы в соревновании - точность предсказания.\n",
    "\n",
    "**Соревнование на платформе Kaggle.** Стоимость поддержанного автомобиля. Предскажи стоимость автомобиля на вторичном рынке.\n",
    "\n",
    "**Цель Соревнования.** Разработка модели, которая достигнет наилучшего значения показателя `MAPE` (Mean Absolute Percentage Error).\n",
    "\n",
    "**Цель исследования.** Построить модель для определения стоимости автомобиля с высоким качеством предсказания.\n",
    "\n",
    "**Задачи:**\n",
    "- загрузить и ознакомится с данными,\n",
    "- провести предварительную обработку,\n",
    "- сделать полноценный разведочный анализ,\n",
    "- разработать новые синтетические признаки,\n",
    "- проверить на мультиколлинеарность,\n",
    "- сделать отбор финального набора обучающих признаков,\n",
    "- выбрать и обучить модели,\n",
    "- провести итоговую оценку качества предсказания лучшей модели,\n",
    "- сделать анализ важности признаков модели.\n",
    "\n",
    "**Входные данные.** Три файла в формате `.csv` с данными о продаваемых машинах:\n",
    "1. `train.csv` - информация о характеристиках автомобилей (~440000), которые будут использоваться в качестве обучающих данных.\n",
    "2. `test.csv` - информация о характеристиках автомобилей (~110000), которые будут использоваться в качестве тестовых данных.\n",
    "3. `sample_submission.csv` - пример файла предсказаний в правильном формате.\n",
    "\n",
    "**Формальная задача.** Предсказать значение `'sellingprice'` для каждого автомобиля из датасета `test.csv`.\n",
    "\n",
    "**Ожидаемый результат.** Построена модель для определения стоимости автомобиля, со значением метрики `MAPE` не более **15**.\n"
   ]
  },
  {
   "cell_type": "markdown",
   "id": "211f1bf0",
   "metadata": {},
   "source": [
    "## Обзор данных <a id='1'></a>"
   ]
  },
  {
   "cell_type": "markdown",
   "id": "dbd374d1",
   "metadata": {},
   "source": [
    "**Признаки**\n",
    "\n",
    "- `year` – год выпуска автомобиля.\n",
    "- `make` – марка автомобиля.\n",
    "- `model` – модель автомобиля определенной марки.\n",
    "- `trim` – уровень отделки салона автомобиля.\n",
    "- `body` – тип кузова транспортного средства.\n",
    "- `transmission` – тип коробки передач.\n",
    "- `vin` – идентификационный номер транспортного средства.\n",
    "- `state` – состояние, в котором автомобиль выставлен на аукцион.\n",
    "- `condition` – оценка состояние автомобилей на момент аукциона.\n",
    "- `odometer` – расстояние, пройденное автомобилем с момента выпуска.\n",
    "- `color` – цвет кузова автомобиля.\n",
    "- `interior` – цвет салона автомобиля.\n",
    "- `seller` – продавец автомобиля, автосалоны.\n",
    "- `saledate` – дата продажи автомобиля. \n",
    "\n",
    "**Целевой признак**\n",
    "\n",
    "- `sellingprice` – цена, по которой автомобиль был продан на аукционе."
   ]
  },
  {
   "cell_type": "code",
   "execution_count": 1,
   "id": "63918c85",
   "metadata": {},
   "outputs": [],
   "source": [
    "# Импорт библиотек\n",
    "import pandas as pd\n",
    "import os\n",
    "import numpy as np\n",
    "from datetime import datetime, timedelta\n",
    "import seaborn as sns\n",
    "import matplotlib.pyplot as plt\n",
    "from numpy.random import RandomState\n",
    "from time import time\n",
    "\n",
    "from sklearn.tree import DecisionTreeRegressor\n",
    "from sklearn.ensemble import RandomForestRegressor\n",
    "from sklearn.linear_model import LinearRegression\n",
    "from sklearn.cluster import KMeans\n",
    "from sklearn.neighbors import KNeighborsClassifier\n",
    "\n",
    "from sklearn.model_selection import cross_val_score \n",
    "from sklearn.model_selection import GridSearchCV \n",
    "from sklearn.model_selection import train_test_split\n",
    "from sklearn.preprocessing import StandardScaler \n",
    "from sklearn.dummy import DummyRegressor\n",
    "from sklearn.metrics import mean_absolute_percentage_error\n",
    "\n",
    "import lightgbm as lgb\n",
    "from catboost import Pool, CatBoostRegressor"
   ]
  },
  {
   "cell_type": "code",
   "execution_count": 2,
   "id": "a6bf9a80",
   "metadata": {},
   "outputs": [],
   "source": [
    "# Введем константу\n",
    "state = RandomState(12345)"
   ]
  },
  {
   "cell_type": "markdown",
   "id": "ad9b4348",
   "metadata": {},
   "source": [
    "### Ввод необходимых функций <a id='1.1'></a>"
   ]
  },
  {
   "cell_type": "code",
   "execution_count": 3,
   "id": "685039b1",
   "metadata": {},
   "outputs": [],
   "source": [
    "# Функция исследования датасета\n",
    "def info_df(df_name):\n",
    "    st = df_name.shape[0]\n",
    "    col = df_name.shape[1]\n",
    "    zerro = df_name.isna().sum()\n",
    "    vin = len(df_name['vin'].unique())\n",
    "    print(f'Размер таблиы: {col} столбцов и {st} строк')\n",
    "    print(f'Общее количество пропусков - {zerro.sum()}')\n",
    "    print(df_name.isna().sum())\n",
    "    print()\n",
    "    print(f'Количество явных дубликатов: {df_name.duplicated().sum()}')\n",
    "    print(f'Количество уникальных VIN: {vin}')\n",
    "    print()\n",
    "    print(df_name.info())\n",
    "    print()\n",
    "    display(df_name.describe().round(2))"
   ]
  },
  {
   "cell_type": "code",
   "execution_count": 4,
   "id": "2365271b",
   "metadata": {},
   "outputs": [],
   "source": [
    "# Функция построения типовых гистограмм\n",
    "def hist_pattern(df, title):\n",
    "    df.hist(bins=50, figsize=(6,4))\n",
    "    plt.title(title)\n",
    "    return plt.show()\n"
   ]
  },
  {
   "cell_type": "code",
   "execution_count": 5,
   "id": "dd8b67ac",
   "metadata": {},
   "outputs": [],
   "source": [
    "# Функция преобразования слова в число\n",
    "def word_int(word):\n",
    "    list_word = list(word) # Преобразуем слово в список\n",
    "    list_int = [] \n",
    "    \n",
    "    # Преобразуем каждую букву списка в число\n",
    "    for i in range(len(list_word)):\n",
    "        list_int.append((i+1)*ord(list_word[i]))\n",
    "    \n",
    "    return sum(list_int) # вернем сумму чисел"
   ]
  },
  {
   "cell_type": "code",
   "execution_count": 6,
   "id": "b5828aa0",
   "metadata": {},
   "outputs": [],
   "source": [
    "# Функция преобразования слова в строку чисел\n",
    "def word_str(word):\n",
    "    list_word = list(word) # Преобразуем слово в список\n",
    "    list_str = [] \n",
    "    \n",
    "    # Преобразуем каждую букву списка в число строкового типа \n",
    "    for i in range(len(list_word)):\n",
    "        list_str.append(str((i+1)*ord(list_word[i])))\n",
    "    \n",
    "    return int(''.join(list_str)) # вернем строку чисел"
   ]
  },
  {
   "cell_type": "code",
   "execution_count": 7,
   "id": "4b3fa203",
   "metadata": {},
   "outputs": [],
   "source": [
    "# Функция преобразования месяца в время года\n",
    "# 1 - Зима\n",
    "# 2 - Весна\n",
    "# 3 - Лето\n",
    "# 4 - Осень\n",
    "\n",
    "def season(month):\n",
    "    if month in [1, 2, 12]:\n",
    "        return 1\n",
    "    elif month in [3, 4, 5]:\n",
    "        return 2\n",
    "    elif month in [6, 7, 8]:\n",
    "        return 3\n",
    "    elif month in [9, 10, 11]:\n",
    "        return 4\n",
    "        "
   ]
  },
  {
   "cell_type": "markdown",
   "id": "2609b69e",
   "metadata": {},
   "source": [
    "### Разведочный анализ данных <a id='1.2'></a>"
   ]
  },
  {
   "cell_type": "code",
   "execution_count": 8,
   "id": "52da4960",
   "metadata": {},
   "outputs": [],
   "source": [
    "# Чтение файлов\n",
    "path = 'C:\\\\Users\\\\User\\\\first_notebook\\\\Praktikum\\\\auto_prixe_predict\\\\'\n",
    "\n",
    "df_train = pd.read_csv(path + 'train.csv')\n",
    "df_test = pd.read_csv(path + 'test.csv')\n",
    "df_sample = pd.read_csv(path + 'sample_submission.csv')\n"
   ]
  },
  {
   "cell_type": "code",
   "execution_count": 10,
   "id": "328405a5",
   "metadata": {
    "scrolled": false
   },
   "outputs": [
    {
     "data": {
      "text/html": [
       "<div>\n",
       "<style scoped>\n",
       "    .dataframe tbody tr th:only-of-type {\n",
       "        vertical-align: middle;\n",
       "    }\n",
       "\n",
       "    .dataframe tbody tr th {\n",
       "        vertical-align: top;\n",
       "    }\n",
       "\n",
       "    .dataframe thead th {\n",
       "        text-align: right;\n",
       "    }\n",
       "</style>\n",
       "<table border=\"1\" class=\"dataframe\">\n",
       "  <thead>\n",
       "    <tr style=\"text-align: right;\">\n",
       "      <th></th>\n",
       "      <th>year</th>\n",
       "      <th>make</th>\n",
       "      <th>model</th>\n",
       "      <th>trim</th>\n",
       "      <th>body</th>\n",
       "      <th>transmission</th>\n",
       "      <th>vin</th>\n",
       "      <th>state</th>\n",
       "      <th>condition</th>\n",
       "      <th>odometer</th>\n",
       "      <th>color</th>\n",
       "      <th>interior</th>\n",
       "      <th>seller</th>\n",
       "      <th>sellingprice</th>\n",
       "      <th>saledate</th>\n",
       "    </tr>\n",
       "  </thead>\n",
       "  <tbody>\n",
       "    <tr>\n",
       "      <th>0</th>\n",
       "      <td>2011</td>\n",
       "      <td>Ford</td>\n",
       "      <td>Edge</td>\n",
       "      <td>SEL</td>\n",
       "      <td>suv</td>\n",
       "      <td>automatic</td>\n",
       "      <td>2fmdk3jc4bba41556</td>\n",
       "      <td>md</td>\n",
       "      <td>4.2</td>\n",
       "      <td>111041.0</td>\n",
       "      <td>black</td>\n",
       "      <td>black</td>\n",
       "      <td>santander consumer</td>\n",
       "      <td>12500</td>\n",
       "      <td>Tue Jun 02 2015 02:30:00 GMT-0700 (PDT)</td>\n",
       "    </tr>\n",
       "    <tr>\n",
       "      <th>1</th>\n",
       "      <td>2014</td>\n",
       "      <td>Ford</td>\n",
       "      <td>Fusion</td>\n",
       "      <td>SE</td>\n",
       "      <td>Sedan</td>\n",
       "      <td>automatic</td>\n",
       "      <td>3fa6p0h75er208976</td>\n",
       "      <td>mo</td>\n",
       "      <td>3.5</td>\n",
       "      <td>31034.0</td>\n",
       "      <td>black</td>\n",
       "      <td>black</td>\n",
       "      <td>ars/avis budget group</td>\n",
       "      <td>14500</td>\n",
       "      <td>Wed Feb 25 2015 02:00:00 GMT-0800 (PST)</td>\n",
       "    </tr>\n",
       "    <tr>\n",
       "      <th>2</th>\n",
       "      <td>2012</td>\n",
       "      <td>Nissan</td>\n",
       "      <td>Sentra</td>\n",
       "      <td>2.0 SL</td>\n",
       "      <td>sedan</td>\n",
       "      <td>automatic</td>\n",
       "      <td>3n1ab6ap4cl698412</td>\n",
       "      <td>nj</td>\n",
       "      <td>2.2</td>\n",
       "      <td>35619.0</td>\n",
       "      <td>black</td>\n",
       "      <td>black</td>\n",
       "      <td>nissan-infiniti lt</td>\n",
       "      <td>9100</td>\n",
       "      <td>Wed Jun 10 2015 02:30:00 GMT-0700 (PDT)</td>\n",
       "    </tr>\n",
       "  </tbody>\n",
       "</table>\n",
       "</div>"
      ],
      "text/plain": [
       "   year    make   model    trim   body transmission                vin state  \\\n",
       "0  2011    Ford    Edge     SEL    suv    automatic  2fmdk3jc4bba41556    md   \n",
       "1  2014    Ford  Fusion      SE  Sedan    automatic  3fa6p0h75er208976    mo   \n",
       "2  2012  Nissan  Sentra  2.0 SL  sedan    automatic  3n1ab6ap4cl698412    nj   \n",
       "\n",
       "   condition  odometer  color interior                 seller  sellingprice  \\\n",
       "0        4.2  111041.0  black    black     santander consumer         12500   \n",
       "1        3.5   31034.0  black    black  ars/avis budget group         14500   \n",
       "2        2.2   35619.0  black    black     nissan-infiniti lt          9100   \n",
       "\n",
       "                                  saledate  \n",
       "0  Tue Jun 02 2015 02:30:00 GMT-0700 (PDT)  \n",
       "1  Wed Feb 25 2015 02:00:00 GMT-0800 (PST)  \n",
       "2  Wed Jun 10 2015 02:30:00 GMT-0700 (PDT)  "
      ]
     },
     "execution_count": 10,
     "metadata": {},
     "output_type": "execute_result"
    }
   ],
   "source": [
    "df_train.head(3)"
   ]
  },
  {
   "cell_type": "code",
   "execution_count": 11,
   "id": "6e9ef2d1",
   "metadata": {},
   "outputs": [
    {
     "name": "stdout",
     "output_type": "stream",
     "text": [
      "Размер таблиы: 15 столбцов и 440236 строк\n",
      "Общее количество пропусков - 97003\n",
      "year                0\n",
      "make             8043\n",
      "model            8123\n",
      "trim             8337\n",
      "body            10393\n",
      "transmission    51461\n",
      "vin                 0\n",
      "state               0\n",
      "condition        9405\n",
      "odometer           69\n",
      "color             586\n",
      "interior          586\n",
      "seller              0\n",
      "sellingprice        0\n",
      "saledate            0\n",
      "dtype: int64\n",
      "\n",
      "Количество явных дубликатов: 0\n",
      "Количество уникальных VIN: 440236\n",
      "\n",
      "<class 'pandas.core.frame.DataFrame'>\n",
      "RangeIndex: 440236 entries, 0 to 440235\n",
      "Data columns (total 15 columns):\n",
      " #   Column        Non-Null Count   Dtype  \n",
      "---  ------        --------------   -----  \n",
      " 0   year          440236 non-null  int64  \n",
      " 1   make          432193 non-null  object \n",
      " 2   model         432113 non-null  object \n",
      " 3   trim          431899 non-null  object \n",
      " 4   body          429843 non-null  object \n",
      " 5   transmission  388775 non-null  object \n",
      " 6   vin           440236 non-null  object \n",
      " 7   state         440236 non-null  object \n",
      " 8   condition     430831 non-null  float64\n",
      " 9   odometer      440167 non-null  float64\n",
      " 10  color         439650 non-null  object \n",
      " 11  interior      439650 non-null  object \n",
      " 12  seller        440236 non-null  object \n",
      " 13  sellingprice  440236 non-null  int64  \n",
      " 14  saledate      440236 non-null  object \n",
      "dtypes: float64(2), int64(2), object(11)\n",
      "memory usage: 50.4+ MB\n",
      "None\n",
      "\n"
     ]
    },
    {
     "data": {
      "text/html": [
       "<div>\n",
       "<style scoped>\n",
       "    .dataframe tbody tr th:only-of-type {\n",
       "        vertical-align: middle;\n",
       "    }\n",
       "\n",
       "    .dataframe tbody tr th {\n",
       "        vertical-align: top;\n",
       "    }\n",
       "\n",
       "    .dataframe thead th {\n",
       "        text-align: right;\n",
       "    }\n",
       "</style>\n",
       "<table border=\"1\" class=\"dataframe\">\n",
       "  <thead>\n",
       "    <tr style=\"text-align: right;\">\n",
       "      <th></th>\n",
       "      <th>year</th>\n",
       "      <th>condition</th>\n",
       "      <th>odometer</th>\n",
       "      <th>sellingprice</th>\n",
       "    </tr>\n",
       "  </thead>\n",
       "  <tbody>\n",
       "    <tr>\n",
       "      <th>count</th>\n",
       "      <td>440236.00</td>\n",
       "      <td>430831.00</td>\n",
       "      <td>440167.00</td>\n",
       "      <td>440236.00</td>\n",
       "    </tr>\n",
       "    <tr>\n",
       "      <th>mean</th>\n",
       "      <td>2010.04</td>\n",
       "      <td>3.43</td>\n",
       "      <td>68344.42</td>\n",
       "      <td>13592.21</td>\n",
       "    </tr>\n",
       "    <tr>\n",
       "      <th>std</th>\n",
       "      <td>3.98</td>\n",
       "      <td>0.95</td>\n",
       "      <td>53542.20</td>\n",
       "      <td>9751.48</td>\n",
       "    </tr>\n",
       "    <tr>\n",
       "      <th>min</th>\n",
       "      <td>1982.00</td>\n",
       "      <td>1.00</td>\n",
       "      <td>1.00</td>\n",
       "      <td>1.00</td>\n",
       "    </tr>\n",
       "    <tr>\n",
       "      <th>25%</th>\n",
       "      <td>2007.00</td>\n",
       "      <td>2.70</td>\n",
       "      <td>28258.00</td>\n",
       "      <td>6900.00</td>\n",
       "    </tr>\n",
       "    <tr>\n",
       "      <th>50%</th>\n",
       "      <td>2012.00</td>\n",
       "      <td>3.60</td>\n",
       "      <td>52098.00</td>\n",
       "      <td>12100.00</td>\n",
       "    </tr>\n",
       "    <tr>\n",
       "      <th>75%</th>\n",
       "      <td>2013.00</td>\n",
       "      <td>4.20</td>\n",
       "      <td>99272.00</td>\n",
       "      <td>18200.00</td>\n",
       "    </tr>\n",
       "    <tr>\n",
       "      <th>max</th>\n",
       "      <td>2015.00</td>\n",
       "      <td>5.00</td>\n",
       "      <td>999999.00</td>\n",
       "      <td>230000.00</td>\n",
       "    </tr>\n",
       "  </tbody>\n",
       "</table>\n",
       "</div>"
      ],
      "text/plain": [
       "            year  condition   odometer  sellingprice\n",
       "count  440236.00  430831.00  440167.00     440236.00\n",
       "mean     2010.04       3.43   68344.42      13592.21\n",
       "std         3.98       0.95   53542.20       9751.48\n",
       "min      1982.00       1.00       1.00          1.00\n",
       "25%      2007.00       2.70   28258.00       6900.00\n",
       "50%      2012.00       3.60   52098.00      12100.00\n",
       "75%      2013.00       4.20   99272.00      18200.00\n",
       "max      2015.00       5.00  999999.00     230000.00"
      ]
     },
     "metadata": {},
     "output_type": "display_data"
    }
   ],
   "source": [
    "# Обследуем данные\n",
    "info_df(df_train)"
   ]
  },
  {
   "cell_type": "markdown",
   "id": "d5f29e8a",
   "metadata": {},
   "source": [
    "**Расмотрим данные по году выпуска**"
   ]
  },
  {
   "cell_type": "code",
   "execution_count": 12,
   "id": "cf6440db",
   "metadata": {},
   "outputs": [
    {
     "data": {
      "text/plain": [
       "array([2011, 2014, 2012, 2003, 2007, 2013, 2010, 2000, 2005, 2006, 2004,\n",
       "       2008, 2009, 2015, 2002, 2001, 1999, 1998, 1996, 1997, 1994, 1995,\n",
       "       1993, 1989, 1991, 1988, 1987, 1990, 1992, 1985, 1986, 1983, 1984,\n",
       "       1982], dtype=int64)"
      ]
     },
     "execution_count": 12,
     "metadata": {},
     "output_type": "execute_result"
    }
   ],
   "source": [
    "# Исследуем год выпуска\n",
    "df_train['year'].unique()"
   ]
  },
  {
   "cell_type": "code",
   "execution_count": 13,
   "id": "1ea78f8c",
   "metadata": {},
   "outputs": [
    {
     "data": {
      "image/png": "[encoded data removed]",
      "text/plain": [
       "<Figure size 640x480 with 1 Axes>"
      ]
     },
     "metadata": {},
     "output_type": "display_data"
    }
   ],
   "source": [
    "years = df_train['year'].value_counts().index\n",
    "counts = df_train['year'].value_counts().values\n",
    "\n",
    "\n",
    "plt.bar(years, counts)\n",
    "plt.title('year')\n",
    "plt.show()"
   ]
  },
  {
   "cell_type": "code",
   "execution_count": 14,
   "id": "d709ee0c",
   "metadata": {
    "scrolled": false
   },
   "outputs": [
    {
     "data": {
      "text/plain": [
       "<Axes: xlabel='sellingprice', ylabel='year'>"
      ]
     },
     "execution_count": 14,
     "metadata": {},
     "output_type": "execute_result"
    },
    {
     "data": {
      "image/png": "[encoded data removed]",
      "text/plain": [
       "<Figure size 640x480 with 1 Axes>"
      ]
     },
     "metadata": {},
     "output_type": "display_data"
    }
   ],
   "source": [
    "sns.scatterplot(\n",
    "    data=df_train, \n",
    "    x=\"sellingprice\", \n",
    "    y=\"year\", \n",
    "    hue=\"transmission\",\n",
    "    alpha=0.01\n",
    ")"
   ]
  },
  {
   "cell_type": "code",
   "execution_count": 15,
   "id": "9655708a",
   "metadata": {},
   "outputs": [
    {
     "data": {
      "text/plain": [
       "<seaborn.axisgrid.JointGrid at 0x228adceff40>"
      ]
     },
     "execution_count": 15,
     "metadata": {},
     "output_type": "execute_result"
    },
    {
     "data": {
      "image/png": "[encoded data removed]",
      "text/plain": [
       "<Figure size 600x600 with 3 Axes>"
      ]
     },
     "metadata": {},
     "output_type": "display_data"
    }
   ],
   "source": [
    "sns.jointplot(x=\"year\", y=\"sellingprice\", data=df_train, kind='hex', gridsize=30)"
   ]
  },
  {
   "cell_type": "code",
   "execution_count": 16,
   "id": "0ee1b72d",
   "metadata": {},
   "outputs": [],
   "source": [
    "df_train_year = df_train.groupby('year').agg({\n",
    "    'sellingprice': ['mean', 'median']\n",
    "})\n",
    "df_train_year.columns = ['mean_year', 'median_year']\n",
    "df_train_year['year'] = df_train_year.index\n",
    "df_train_year = df_train_year.reset_index(drop=True)"
   ]
  },
  {
   "cell_type": "code",
   "execution_count": 17,
   "id": "a34bf4fd",
   "metadata": {
    "scrolled": true
   },
   "outputs": [
    {
     "data": {
      "text/html": [
       "<div>\n",
       "<style scoped>\n",
       "    .dataframe tbody tr th:only-of-type {\n",
       "        vertical-align: middle;\n",
       "    }\n",
       "\n",
       "    .dataframe tbody tr th {\n",
       "        vertical-align: top;\n",
       "    }\n",
       "\n",
       "    .dataframe thead th {\n",
       "        text-align: right;\n",
       "    }\n",
       "</style>\n",
       "<table border=\"1\" class=\"dataframe\">\n",
       "  <thead>\n",
       "    <tr style=\"text-align: right;\">\n",
       "      <th></th>\n",
       "      <th>mean_year</th>\n",
       "      <th>median_year</th>\n",
       "      <th>year</th>\n",
       "    </tr>\n",
       "  </thead>\n",
       "  <tbody>\n",
       "    <tr>\n",
       "      <th>0</th>\n",
       "      <td>5000.0</td>\n",
       "      <td>5000.0</td>\n",
       "      <td>1982</td>\n",
       "    </tr>\n",
       "    <tr>\n",
       "      <th>1</th>\n",
       "      <td>5250.0</td>\n",
       "      <td>5250.0</td>\n",
       "      <td>1983</td>\n",
       "    </tr>\n",
       "    <tr>\n",
       "      <th>2</th>\n",
       "      <td>2425.0</td>\n",
       "      <td>2400.0</td>\n",
       "      <td>1984</td>\n",
       "    </tr>\n",
       "  </tbody>\n",
       "</table>\n",
       "</div>"
      ],
      "text/plain": [
       "   mean_year  median_year  year\n",
       "0     5000.0       5000.0  1982\n",
       "1     5250.0       5250.0  1983\n",
       "2     2425.0       2400.0  1984"
      ]
     },
     "execution_count": 17,
     "metadata": {},
     "output_type": "execute_result"
    }
   ],
   "source": [
    "df_train_year.head(3)"
   ]
  },
  {
   "cell_type": "code",
   "execution_count": 18,
   "id": "a8e8e1f6",
   "metadata": {},
   "outputs": [],
   "source": [
    "year_gr = df_train_year['year']\n",
    "mean_year = df_train_year['mean_year']\n",
    "median_year = df_train_year['median_year']"
   ]
  },
  {
   "cell_type": "code",
   "execution_count": 19,
   "id": "09b22ed3",
   "metadata": {},
   "outputs": [
    {
     "data": {
      "image/png": "[encoded data removed]",
      "text/plain": [
       "<Figure size 640x480 with 1 Axes>"
      ]
     },
     "metadata": {},
     "output_type": "display_data"
    }
   ],
   "source": [
    "plt.bar(year_gr, mean_year)\n",
    "plt.title('mean_year')\n",
    "plt.show()"
   ]
  },
  {
   "cell_type": "code",
   "execution_count": 20,
   "id": "5c64029d",
   "metadata": {},
   "outputs": [
    {
     "data": {
      "image/png": "[encoded data removed]",
      "text/plain": [
       "<Figure size 640x480 with 1 Axes>"
      ]
     },
     "metadata": {},
     "output_type": "display_data"
    }
   ],
   "source": [
    "plt.bar(year_gr, median_year)\n",
    "plt.title('median_year')\n",
    "plt.show()"
   ]
  },
  {
   "cell_type": "markdown",
   "id": "726690dd",
   "metadata": {},
   "source": [
    "**Расмотрим данные по состоянию автомобиля**"
   ]
  },
  {
   "cell_type": "code",
   "execution_count": 21,
   "id": "5ff6c551",
   "metadata": {},
   "outputs": [
    {
     "data": {
      "text/plain": [
       "array([4.2, 3.5, 2.2, 2.8, 2. , 2.5, 3.4, 4.8, 1.9, 1. , 3.1, 2.7, 3.6,\n",
       "       2.9, 4.1, 2.6, 2.1, 3. , 4.9, 4.7, 4. , 3.3, 3.8, 3.7, 4.5, 4.6,\n",
       "       5. , 4.3, 2.4, 2.3, 3.9, nan, 3.2, 4.4, 1.4, 1.5, 1.7, 1.2, 1.3,\n",
       "       1.6, 1.8, 1.1])"
      ]
     },
     "execution_count": 21,
     "metadata": {},
     "output_type": "execute_result"
    }
   ],
   "source": [
    "# Исследуем состояние автомобиля\n",
    "df_train['condition'].unique()"
   ]
  },
  {
   "cell_type": "code",
   "execution_count": 22,
   "id": "a0596f88",
   "metadata": {
    "scrolled": false
   },
   "outputs": [
    {
     "data": {
      "image/png": "[encoded data removed]",
      "text/plain": [
       "<Figure size 600x400 with 1 Axes>"
      ]
     },
     "metadata": {},
     "output_type": "display_data"
    }
   ],
   "source": [
    "hist_pattern(df_train['condition'], 'condition')"
   ]
  },
  {
   "cell_type": "code",
   "execution_count": 23,
   "id": "c1d50a3b",
   "metadata": {},
   "outputs": [
    {
     "data": {
      "image/png": "[encoded data removed]",
      "text/plain": [
       "<Figure size 640x480 with 1 Axes>"
      ]
     },
     "metadata": {},
     "output_type": "display_data"
    }
   ],
   "source": [
    "condition = df_train['condition'].value_counts().index\n",
    "counts = df_train['condition'].value_counts().values\n",
    "\n",
    "\n",
    "plt.bar(condition, counts)\n",
    "plt.title('condition')\n",
    "plt.show()"
   ]
  },
  {
   "cell_type": "code",
   "execution_count": 24,
   "id": "236bb59d",
   "metadata": {
    "scrolled": true
   },
   "outputs": [
    {
     "data": {
      "text/plain": [
       "<Axes: xlabel='sellingprice', ylabel='condition'>"
      ]
     },
     "execution_count": 24,
     "metadata": {},
     "output_type": "execute_result"
    },
    {
     "data": {
      "image/png": "[encoded data removed]",
      "text/plain": [
       "<Figure size 640x480 with 1 Axes>"
      ]
     },
     "metadata": {},
     "output_type": "display_data"
    }
   ],
   "source": [
    "sns.scatterplot(\n",
    "    data=df_train, \n",
    "    x=\"sellingprice\", \n",
    "    y=\"condition\",\n",
    "    alpha=0.01\n",
    ")"
   ]
  },
  {
   "cell_type": "code",
   "execution_count": 25,
   "id": "d57d9a17",
   "metadata": {},
   "outputs": [
    {
     "data": {
      "text/plain": [
       "<seaborn.axisgrid.JointGrid at 0x228b0034c70>"
      ]
     },
     "execution_count": 25,
     "metadata": {},
     "output_type": "execute_result"
    },
    {
     "data": {
      "image/png": "[encoded data removed]",
      "text/plain": [
       "<Figure size 600x600 with 3 Axes>"
      ]
     },
     "metadata": {},
     "output_type": "display_data"
    }
   ],
   "source": [
    "sns.jointplot(x=\"sellingprice\", y=\"condition\", data=df_train, kind='hex', gridsize=41)"
   ]
  },
  {
   "cell_type": "markdown",
   "id": "0516f72f",
   "metadata": {},
   "source": [
    "**Расмотрим данные по пробегу автомобиля**"
   ]
  },
  {
   "cell_type": "code",
   "execution_count": 26,
   "id": "d004f89d",
   "metadata": {
    "scrolled": false
   },
   "outputs": [
    {
     "data": {
      "image/png": "[encoded data removed]",
      "text/plain": [
       "<Figure size 600x400 with 1 Axes>"
      ]
     },
     "metadata": {},
     "output_type": "display_data"
    }
   ],
   "source": [
    "hist_pattern(df_train['odometer'], 'odometer')"
   ]
  },
  {
   "cell_type": "code",
   "execution_count": 27,
   "id": "12e0418e",
   "metadata": {},
   "outputs": [
    {
     "data": {
      "image/png": "[encoded data removed]",
      "text/plain": [
       "<Figure size 600x400 with 1 Axes>"
      ]
     },
     "metadata": {},
     "output_type": "display_data"
    }
   ],
   "source": [
    "hist_pattern(np.log(df_train['odometer']), 'odometer_log')"
   ]
  },
  {
   "cell_type": "code",
   "execution_count": 28,
   "id": "db56ece1",
   "metadata": {
    "scrolled": false
   },
   "outputs": [
    {
     "data": {
      "text/plain": [
       "<Axes: xlabel='sellingprice', ylabel='odometer'>"
      ]
     },
     "execution_count": 28,
     "metadata": {},
     "output_type": "execute_result"
    },
    {
     "data": {
      "image/png": "[encoded data removed]",
      "text/plain": [
       "<Figure size 640x480 with 1 Axes>"
      ]
     },
     "metadata": {},
     "output_type": "display_data"
    }
   ],
   "source": [
    "sns.scatterplot(\n",
    "    data=df_train, \n",
    "    x=\"sellingprice\", \n",
    "    y=\"odometer\",\n",
    "    alpha=0.01\n",
    ")"
   ]
  },
  {
   "cell_type": "code",
   "execution_count": 29,
   "id": "1da26a41",
   "metadata": {},
   "outputs": [
    {
     "data": {
      "text/plain": [
       "<seaborn.axisgrid.JointGrid at 0x228ba116770>"
      ]
     },
     "execution_count": 29,
     "metadata": {},
     "output_type": "execute_result"
    },
    {
     "data": {
      "image/png": "[encoded data removed]",
      "text/plain": [
       "<Figure size 600x600 with 3 Axes>"
      ]
     },
     "metadata": {},
     "output_type": "display_data"
    }
   ],
   "source": [
    "sns.jointplot(x=\"sellingprice\", y=\"odometer\", data=df_train, kind='hex', gridsize=40)"
   ]
  },
  {
   "cell_type": "markdown",
   "id": "a0ddee64",
   "metadata": {},
   "source": [
    "**Расмотрим данные по цене автомобиля**"
   ]
  },
  {
   "cell_type": "code",
   "execution_count": 30,
   "id": "58e55f33",
   "metadata": {
    "scrolled": false
   },
   "outputs": [
    {
     "data": {
      "image/png": "[encoded data removed]",
      "text/plain": [
       "<Figure size 600x400 with 1 Axes>"
      ]
     },
     "metadata": {},
     "output_type": "display_data"
    }
   ],
   "source": [
    "hist_pattern(df_train['sellingprice'], 'sellingprice')"
   ]
  },
  {
   "cell_type": "code",
   "execution_count": 31,
   "id": "4c473253",
   "metadata": {},
   "outputs": [
    {
     "data": {
      "text/plain": [
       "sellingprice\n",
       "1          2\n",
       "100       16\n",
       "125        1\n",
       "150       18\n",
       "175       10\n",
       "          ..\n",
       "169500     1\n",
       "171500     1\n",
       "173000     1\n",
       "183000     1\n",
       "230000     1\n",
       "Name: count, Length: 1735, dtype: int64"
      ]
     },
     "execution_count": 31,
     "metadata": {},
     "output_type": "execute_result"
    }
   ],
   "source": [
    "# Определим состав признака sellingprice\n",
    "df_train['sellingprice'].value_counts().sort_index()"
   ]
  },
  {
   "cell_type": "code",
   "execution_count": 32,
   "id": "a6bf36b9",
   "metadata": {},
   "outputs": [
    {
     "data": {
      "image/png": "[encoded data removed]",
      "text/plain": [
       "<Figure size 640x480 with 1 Axes>"
      ]
     },
     "metadata": {},
     "output_type": "display_data"
    }
   ],
   "source": [
    "# Изобразим выбросы на графике\n",
    "df_train.loc[:, ['sellingprice']].boxplot()\n",
    "plt.show()"
   ]
  },
  {
   "cell_type": "code",
   "execution_count": 33,
   "id": "7429c4fd",
   "metadata": {},
   "outputs": [
    {
     "name": "stdout",
     "output_type": "stream",
     "text": [
      "Верхний уровень выброса -  42846.64688071322\n"
     ]
    }
   ],
   "source": [
    "# Определим верхний уровень выбросов\n",
    "price_mean = df_train['sellingprice'].mean()\n",
    "price_std = np.std(list(df_train['sellingprice']), ddof=1)\n",
    "sig_max = price_mean + 3 * price_std\n",
    "print('Верхний уровень выброса - ', sig_max)"
   ]
  },
  {
   "cell_type": "code",
   "execution_count": 34,
   "id": "8ee8b984",
   "metadata": {},
   "outputs": [
    {
     "name": "stdout",
     "output_type": "stream",
     "text": [
      "Нижний уровень выброса -  1500.0\n"
     ]
    }
   ],
   "source": [
    "# Определим нижний уровень выбросов\n",
    "print('Нижний уровень выброса - ', df_train['sellingprice'].quantile(0.05))"
   ]
  },
  {
   "cell_type": "code",
   "execution_count": 35,
   "id": "30586b90",
   "metadata": {},
   "outputs": [
    {
     "name": "stdout",
     "output_type": "stream",
     "text": [
      "Количество нижних выбросов 21223\n",
      "Количество верхних выбросов 5446\n"
     ]
    }
   ],
   "source": [
    "price_list = df_train['sellingprice'].value_counts().sort_index()\n",
    "print('Количество нижних выбросов', price_list[price_list.index < 1500].sum())\n",
    "print('Количество верхних выбросов', price_list[price_list.index > 42846].sum())"
   ]
  },
  {
   "cell_type": "markdown",
   "id": "5bcf7641",
   "metadata": {},
   "source": [
    "Судя по графику и значению квантиля 5% – выбросом является цены со значением менее 1 500 (21 223 повторения).\n",
    "\n",
    "Используя правило трех сигм определена верхняя граница выброса – 42 846 (5 446 повторений)"
   ]
  },
  {
   "cell_type": "code",
   "execution_count": 36,
   "id": "45ad3e10",
   "metadata": {},
   "outputs": [
    {
     "data": {
      "text/plain": [
       "odometer\n",
       "1.0         1059\n",
       "2.0           11\n",
       "3.0            6\n",
       "4.0            8\n",
       "5.0            8\n",
       "            ... \n",
       "537334.0       1\n",
       "694978.0       2\n",
       "959276.0       1\n",
       "980113.0       1\n",
       "999999.0      55\n",
       "Name: count, Length: 159364, dtype: int64"
      ]
     },
     "execution_count": 36,
     "metadata": {},
     "output_type": "execute_result"
    }
   ],
   "source": [
    "# Определим состав признака odometer\n",
    "df_train['odometer'].value_counts().sort_index()"
   ]
  },
  {
   "cell_type": "code",
   "execution_count": 37,
   "id": "1c481068",
   "metadata": {
    "scrolled": true
   },
   "outputs": [
    {
     "name": "stdout",
     "output_type": "stream",
     "text": [
      "Количество данных верхнего выброса 62\n"
     ]
    }
   ],
   "source": [
    "odometer_list = df_train['odometer'].value_counts().sort_index()\n",
    "print('Количество данных верхнего выброса', odometer_list[odometer_list.index > 500000].sum())"
   ]
  },
  {
   "cell_type": "code",
   "execution_count": 38,
   "id": "8dae07e4",
   "metadata": {},
   "outputs": [],
   "source": [
    "# Список категориальных признаков\n",
    "list_clusters = ['make', 'model', 'trim', 'body', 'transmission', 'state', 'color', 'interior', 'seller']"
   ]
  },
  {
   "cell_type": "code",
   "execution_count": 39,
   "id": "73f321c0",
   "metadata": {
    "scrolled": true
   },
   "outputs": [
    {
     "name": "stdout",
     "output_type": "stream",
     "text": [
      "make - 93\n",
      "model - 960\n",
      "trim - 1923\n",
      "body - 86\n",
      "transmission - 3\n",
      "state - 38\n",
      "color - 21\n",
      "interior - 18\n",
      "seller - 13025\n"
     ]
    }
   ],
   "source": [
    "# Число уникальных значений в каждлом категориальном столбце\n",
    "for i in list_clusters:\n",
    "    print(i, '-', len(df_train[i].unique()))"
   ]
  },
  {
   "cell_type": "markdown",
   "id": "3aecb857",
   "metadata": {},
   "source": [
    "### Общие выводы по качеству имеющихся данных <a id='1.3'></a>"
   ]
  },
  {
   "cell_type": "markdown",
   "id": "0309d0f0",
   "metadata": {},
   "source": [
    "Датасет содержит `15` столбцов и `440 236` строк. Общее число пропусков `97 003`.\n",
    "\n",
    "Основные показатели датасета имеют отклонения от нормального распределения. \n",
    "\n",
    "Данные по годам выпуска автомобилей (`year`) смещены вправо. В основном, на рынке представлены автомобили с `2010` по `2015` гг. Есть ряд данных до `1995` года, которые могут считаться аномалиями. Стоимость таких автомобилей очень низкая и они будут оказывать отрицательное влияние на обучение модели. Из графика также видно очень незначительное количество автомобилей с ручной коробкой передач. Такой перекос данных также окажет негативное влияние на итоговую оценку. При этом, имеет место зависимость между ценой продажи и годом, что наглядно показано на графике.\n",
    "\n",
    "Параметр состояния автомобиля (`condition`) также коррелирует с ценой продажи, но в отличии от года выпуска имеет более равномерное распределение (низкую степень смещения показывает незначительное отклонение среднего значения от медианы). Это позволит эффективно применить данный параметр для прогнозирования. Необходимо изменить тип данного параметра на действительное число.\n",
    "\n",
    "Данные о пробеге машины (`odometer`) значительно смещены влево. Среднее значительно превышает медианное значение. При этом разброс значений очень значимый. Параметр содержит аномальные значения, которые нельзя удалять для избегания переобучения модели.\n",
    "\n",
    "Цена продажи (`sellingprice`), так же существенно смещена влево. Параметр содержит определенное количество аномальных значений. Значение квантиля `5%` показало, что выбросом являются цены со значением менее `1 500` (`21 223` повторения). Используя правило трех сигм, определена верхняя граница выброса – `42 846` (`5 446` повторений). Тем не менее, для избегания переобучения модели, выбросы удалять не будем.\n",
    "\n",
    "Данные о дате продажи не приведены в тип `data`. Кроме того, есть предположение, что на прогнозирование цены могут влиять параметры месяца, дня недели, времени года.\n",
    "\n",
    "Показатель `vin` можно использовать для уточнения параметров автомобиля, взяв для это `4-9` цифру `vin`.\n",
    "\n",
    "В связи с тем, что на контрольном датасете ни каких удалений делать нельзя, то убирать выбросы из обучающего датасета не целесообразно, поскольку это может привести к переобучению модели."
   ]
  },
  {
   "cell_type": "markdown",
   "id": "afb418e4",
   "metadata": {},
   "source": [
    "## Подготовка данных <a id='2'></a>"
   ]
  },
  {
   "cell_type": "markdown",
   "id": "bf71a888",
   "metadata": {},
   "source": [
    "### Предобработка данных <a id='2.1'></a>"
   ]
  },
  {
   "cell_type": "markdown",
   "id": "299be4ba",
   "metadata": {},
   "source": [
    "**План по предобработке данных**\n",
    "\n",
    "- Преобразуем дату продажи в формат datetime\n",
    "- Создать столбцы месяц, день месяца, день недели, времени года, возраст автомобиля\n",
    "- Преобразовать condition в тип float\n",
    "- Добавить уникальный класс модели по vin\n",
    "- Заполнить пропуски: мелианным значением по году для числовых и no_answ для категориальных\n",
    "- Привести все категориальные признаки в нижний регистр"
   ]
  },
  {
   "cell_type": "code",
   "execution_count": 40,
   "id": "e06d0f08",
   "metadata": {},
   "outputs": [],
   "source": [
    "# Преобразуем дату продажи в формат datetime\n",
    "df_train['saledate'] = df_train['saledate'].apply(lambda x: ' '.join(x.split()[:-2]))\n",
    "df_train['saledate'] = pd.to_datetime(df_train['saledate'], format='%a %b %d %Y %H:%M:%S')\n",
    "\n",
    "# создадим столбцы месяц, день месяца, день недели\n",
    "df_train['month'] = df_train['saledate'].dt.month\n",
    "df_train['month_day'] = df_train['saledate'].dt.day\n",
    "df_train['week_day'] = df_train['saledate'].dt.weekday\n",
    "\n",
    "# создадим стобец времени года\n",
    "df_train['season'] = df_train['month'].apply(season)\n",
    "\n",
    "# создадим стобец возраста автомобиля\n",
    "df_train['age'] = df_train['saledate'].dt.year - df_train['year']\n",
    "\n",
    "# Преобразуем condition в тип float\n",
    "df_train['condition'] = df_train['condition'].astype('float')\n",
    "\n",
    "# Добавим уникальный класс модели по vin\n",
    "df_train['vin_sh'] = df_train['vin'].apply(lambda x: x[3:9])"
   ]
  },
  {
   "cell_type": "code",
   "execution_count": 41,
   "id": "bb3638db",
   "metadata": {},
   "outputs": [],
   "source": [
    "# Заполнение пропусков\n",
    "# Для числовых признаков - медианное занчение по году \n",
    "# Для категориальных признаков - no_answ\n",
    "\n",
    "# Введем значения мединан по году\n",
    "df_train['year_odometer'] = df_train.groupby('year')['odometer'].transform('median')\n",
    "df_train['year_condition'] = df_train.groupby('year')['condition'].transform('median')\n",
    "\n",
    "# Заполним пропуски\n",
    "df_train['odometer'] = df_train['odometer'].fillna(df_train['year_odometer'])\n",
    "df_train['condition'] = df_train['condition'].fillna(df_train['year_condition'])\n",
    "df_train = df_train.fillna('no_answ')\n",
    "\n",
    "# Удалим столбцы\n",
    "df_train.drop(['year_odometer', 'year_condition'], axis=1, inplace=True)"
   ]
  },
  {
   "cell_type": "code",
   "execution_count": 42,
   "id": "d7195e24",
   "metadata": {
    "scrolled": false
   },
   "outputs": [
    {
     "data": {
      "text/plain": [
       "year            0\n",
       "make            0\n",
       "model           0\n",
       "trim            0\n",
       "body            0\n",
       "transmission    0\n",
       "vin             0\n",
       "state           0\n",
       "condition       0\n",
       "odometer        0\n",
       "color           0\n",
       "interior        0\n",
       "seller          0\n",
       "sellingprice    0\n",
       "saledate        0\n",
       "month           0\n",
       "month_day       0\n",
       "week_day        0\n",
       "season          0\n",
       "age             0\n",
       "vin_sh          0\n",
       "dtype: int64"
      ]
     },
     "execution_count": 42,
     "metadata": {},
     "output_type": "execute_result"
    }
   ],
   "source": [
    "# Проверка пропусков\n",
    "df_train.isna().sum()"
   ]
  },
  {
   "cell_type": "code",
   "execution_count": 43,
   "id": "5bb4c1e3",
   "metadata": {},
   "outputs": [
    {
     "data": {
      "text/plain": [
       "['make',\n",
       " 'model',\n",
       " 'trim',\n",
       " 'body',\n",
       " 'transmission',\n",
       " 'state',\n",
       " 'color',\n",
       " 'interior',\n",
       " 'seller',\n",
       " 'vin_sh']"
      ]
     },
     "execution_count": 43,
     "metadata": {},
     "output_type": "execute_result"
    }
   ],
   "source": [
    "# Обновим список категориальных признаков\n",
    "list_clusters.append('vin_sh')\n",
    "list_clusters"
   ]
  },
  {
   "cell_type": "code",
   "execution_count": 44,
   "id": "c0575197",
   "metadata": {},
   "outputs": [],
   "source": [
    "# Все категориальные признаки приведем в нижний регистр\n",
    "for i in list_clusters:\n",
    "    df_train[i] = df_train[i].apply(lambda x: x.lower())"
   ]
  },
  {
   "cell_type": "code",
   "execution_count": 45,
   "id": "21b6eed6",
   "metadata": {},
   "outputs": [
    {
     "data": {
      "text/html": [
       "<div>\n",
       "<style scoped>\n",
       "    .dataframe tbody tr th:only-of-type {\n",
       "        vertical-align: middle;\n",
       "    }\n",
       "\n",
       "    .dataframe tbody tr th {\n",
       "        vertical-align: top;\n",
       "    }\n",
       "\n",
       "    .dataframe thead th {\n",
       "        text-align: right;\n",
       "    }\n",
       "</style>\n",
       "<table border=\"1\" class=\"dataframe\">\n",
       "  <thead>\n",
       "    <tr style=\"text-align: right;\">\n",
       "      <th></th>\n",
       "      <th>year</th>\n",
       "      <th>make</th>\n",
       "      <th>model</th>\n",
       "      <th>trim</th>\n",
       "      <th>body</th>\n",
       "      <th>transmission</th>\n",
       "      <th>vin</th>\n",
       "      <th>state</th>\n",
       "      <th>condition</th>\n",
       "      <th>odometer</th>\n",
       "      <th>...</th>\n",
       "      <th>interior</th>\n",
       "      <th>seller</th>\n",
       "      <th>sellingprice</th>\n",
       "      <th>saledate</th>\n",
       "      <th>month</th>\n",
       "      <th>month_day</th>\n",
       "      <th>week_day</th>\n",
       "      <th>season</th>\n",
       "      <th>age</th>\n",
       "      <th>vin_sh</th>\n",
       "    </tr>\n",
       "  </thead>\n",
       "  <tbody>\n",
       "    <tr>\n",
       "      <th>0</th>\n",
       "      <td>2011</td>\n",
       "      <td>ford</td>\n",
       "      <td>edge</td>\n",
       "      <td>sel</td>\n",
       "      <td>suv</td>\n",
       "      <td>automatic</td>\n",
       "      <td>2fmdk3jc4bba41556</td>\n",
       "      <td>md</td>\n",
       "      <td>4.2</td>\n",
       "      <td>111041.0</td>\n",
       "      <td>...</td>\n",
       "      <td>black</td>\n",
       "      <td>santander consumer</td>\n",
       "      <td>12500</td>\n",
       "      <td>2015-06-02 02:30:00</td>\n",
       "      <td>6</td>\n",
       "      <td>2</td>\n",
       "      <td>1</td>\n",
       "      <td>3</td>\n",
       "      <td>4</td>\n",
       "      <td>dk3jc4</td>\n",
       "    </tr>\n",
       "    <tr>\n",
       "      <th>1</th>\n",
       "      <td>2014</td>\n",
       "      <td>ford</td>\n",
       "      <td>fusion</td>\n",
       "      <td>se</td>\n",
       "      <td>sedan</td>\n",
       "      <td>automatic</td>\n",
       "      <td>3fa6p0h75er208976</td>\n",
       "      <td>mo</td>\n",
       "      <td>3.5</td>\n",
       "      <td>31034.0</td>\n",
       "      <td>...</td>\n",
       "      <td>black</td>\n",
       "      <td>ars/avis budget group</td>\n",
       "      <td>14500</td>\n",
       "      <td>2015-02-25 02:00:00</td>\n",
       "      <td>2</td>\n",
       "      <td>25</td>\n",
       "      <td>2</td>\n",
       "      <td>1</td>\n",
       "      <td>1</td>\n",
       "      <td>6p0h75</td>\n",
       "    </tr>\n",
       "    <tr>\n",
       "      <th>2</th>\n",
       "      <td>2012</td>\n",
       "      <td>nissan</td>\n",
       "      <td>sentra</td>\n",
       "      <td>2.0 sl</td>\n",
       "      <td>sedan</td>\n",
       "      <td>automatic</td>\n",
       "      <td>3n1ab6ap4cl698412</td>\n",
       "      <td>nj</td>\n",
       "      <td>2.2</td>\n",
       "      <td>35619.0</td>\n",
       "      <td>...</td>\n",
       "      <td>black</td>\n",
       "      <td>nissan-infiniti lt</td>\n",
       "      <td>9100</td>\n",
       "      <td>2015-06-10 02:30:00</td>\n",
       "      <td>6</td>\n",
       "      <td>10</td>\n",
       "      <td>2</td>\n",
       "      <td>3</td>\n",
       "      <td>3</td>\n",
       "      <td>ab6ap4</td>\n",
       "    </tr>\n",
       "  </tbody>\n",
       "</table>\n",
       "<p>3 rows × 21 columns</p>\n",
       "</div>"
      ],
      "text/plain": [
       "   year    make   model    trim   body transmission                vin state  \\\n",
       "0  2011    ford    edge     sel    suv    automatic  2fmdk3jc4bba41556    md   \n",
       "1  2014    ford  fusion      se  sedan    automatic  3fa6p0h75er208976    mo   \n",
       "2  2012  nissan  sentra  2.0 sl  sedan    automatic  3n1ab6ap4cl698412    nj   \n",
       "\n",
       "   condition  odometer  ... interior                 seller sellingprice  \\\n",
       "0        4.2  111041.0  ...    black     santander consumer        12500   \n",
       "1        3.5   31034.0  ...    black  ars/avis budget group        14500   \n",
       "2        2.2   35619.0  ...    black     nissan-infiniti lt         9100   \n",
       "\n",
       "             saledate month  month_day  week_day  season  age  vin_sh  \n",
       "0 2015-06-02 02:30:00     6          2         1       3    4  dk3jc4  \n",
       "1 2015-02-25 02:00:00     2         25         2       1    1  6p0h75  \n",
       "2 2015-06-10 02:30:00     6         10         2       3    3  ab6ap4  \n",
       "\n",
       "[3 rows x 21 columns]"
      ]
     },
     "execution_count": 45,
     "metadata": {},
     "output_type": "execute_result"
    }
   ],
   "source": [
    "df_train.head(3)"
   ]
  },
  {
   "cell_type": "code",
   "execution_count": 46,
   "id": "d38be296",
   "metadata": {
    "scrolled": true
   },
   "outputs": [
    {
     "name": "stdout",
     "output_type": "stream",
     "text": [
      "Размер таблиы: 21 столбцов и 440236 строк\n",
      "Общее количество пропусков - 0\n",
      "year            0\n",
      "make            0\n",
      "model           0\n",
      "trim            0\n",
      "body            0\n",
      "transmission    0\n",
      "vin             0\n",
      "state           0\n",
      "condition       0\n",
      "odometer        0\n",
      "color           0\n",
      "interior        0\n",
      "seller          0\n",
      "sellingprice    0\n",
      "saledate        0\n",
      "month           0\n",
      "month_day       0\n",
      "week_day        0\n",
      "season          0\n",
      "age             0\n",
      "vin_sh          0\n",
      "dtype: int64\n",
      "\n",
      "Количество явных дубликатов: 0\n",
      "Количество уникальных VIN: 440236\n",
      "\n",
      "<class 'pandas.core.frame.DataFrame'>\n",
      "RangeIndex: 440236 entries, 0 to 440235\n",
      "Data columns (total 21 columns):\n",
      " #   Column        Non-Null Count   Dtype         \n",
      "---  ------        --------------   -----         \n",
      " 0   year          440236 non-null  int64         \n",
      " 1   make          440236 non-null  object        \n",
      " 2   model         440236 non-null  object        \n",
      " 3   trim          440236 non-null  object        \n",
      " 4   body          440236 non-null  object        \n",
      " 5   transmission  440236 non-null  object        \n",
      " 6   vin           440236 non-null  object        \n",
      " 7   state         440236 non-null  object        \n",
      " 8   condition     440236 non-null  float64       \n",
      " 9   odometer      440236 non-null  float64       \n",
      " 10  color         440236 non-null  object        \n",
      " 11  interior      440236 non-null  object        \n",
      " 12  seller        440236 non-null  object        \n",
      " 13  sellingprice  440236 non-null  int64         \n",
      " 14  saledate      440236 non-null  datetime64[ns]\n",
      " 15  month         440236 non-null  int32         \n",
      " 16  month_day     440236 non-null  int32         \n",
      " 17  week_day      440236 non-null  int32         \n",
      " 18  season        440236 non-null  int64         \n",
      " 19  age           440236 non-null  int64         \n",
      " 20  vin_sh        440236 non-null  object        \n",
      "dtypes: datetime64[ns](1), float64(2), int32(3), int64(4), object(11)\n",
      "memory usage: 65.5+ MB\n",
      "None\n",
      "\n"
     ]
    },
    {
     "data": {
      "text/html": [
       "<div>\n",
       "<style scoped>\n",
       "    .dataframe tbody tr th:only-of-type {\n",
       "        vertical-align: middle;\n",
       "    }\n",
       "\n",
       "    .dataframe tbody tr th {\n",
       "        vertical-align: top;\n",
       "    }\n",
       "\n",
       "    .dataframe thead th {\n",
       "        text-align: right;\n",
       "    }\n",
       "</style>\n",
       "<table border=\"1\" class=\"dataframe\">\n",
       "  <thead>\n",
       "    <tr style=\"text-align: right;\">\n",
       "      <th></th>\n",
       "      <th>year</th>\n",
       "      <th>condition</th>\n",
       "      <th>odometer</th>\n",
       "      <th>sellingprice</th>\n",
       "      <th>saledate</th>\n",
       "      <th>month</th>\n",
       "      <th>month_day</th>\n",
       "      <th>week_day</th>\n",
       "      <th>season</th>\n",
       "      <th>age</th>\n",
       "    </tr>\n",
       "  </thead>\n",
       "  <tbody>\n",
       "    <tr>\n",
       "      <th>count</th>\n",
       "      <td>440236.00</td>\n",
       "      <td>440236.00</td>\n",
       "      <td>440236.00</td>\n",
       "      <td>440236.00</td>\n",
       "      <td>440236</td>\n",
       "      <td>440236.00</td>\n",
       "      <td>440236.00</td>\n",
       "      <td>440236.00</td>\n",
       "      <td>440236.00</td>\n",
       "      <td>440236.00</td>\n",
       "    </tr>\n",
       "    <tr>\n",
       "      <th>mean</th>\n",
       "      <td>2010.04</td>\n",
       "      <td>3.41</td>\n",
       "      <td>68353.18</td>\n",
       "      <td>13592.21</td>\n",
       "      <td>2015-03-06 07:37:27.278414592</td>\n",
       "      <td>3.82</td>\n",
       "      <td>15.42</td>\n",
       "      <td>2.14</td>\n",
       "      <td>1.54</td>\n",
       "      <td>4.86</td>\n",
       "    </tr>\n",
       "    <tr>\n",
       "      <th>min</th>\n",
       "      <td>1982.00</td>\n",
       "      <td>1.00</td>\n",
       "      <td>1.00</td>\n",
       "      <td>1.00</td>\n",
       "      <td>2014-01-01 09:15:00</td>\n",
       "      <td>1.00</td>\n",
       "      <td>1.00</td>\n",
       "      <td>0.00</td>\n",
       "      <td>1.00</td>\n",
       "      <td>-1.00</td>\n",
       "    </tr>\n",
       "    <tr>\n",
       "      <th>25%</th>\n",
       "      <td>2007.00</td>\n",
       "      <td>2.70</td>\n",
       "      <td>28259.00</td>\n",
       "      <td>6900.00</td>\n",
       "      <td>2015-01-21 02:00:00</td>\n",
       "      <td>1.00</td>\n",
       "      <td>8.00</td>\n",
       "      <td>1.00</td>\n",
       "      <td>1.00</td>\n",
       "      <td>2.00</td>\n",
       "    </tr>\n",
       "    <tr>\n",
       "      <th>50%</th>\n",
       "      <td>2012.00</td>\n",
       "      <td>3.60</td>\n",
       "      <td>52103.50</td>\n",
       "      <td>12100.00</td>\n",
       "      <td>2015-02-13 01:15:00</td>\n",
       "      <td>2.00</td>\n",
       "      <td>16.00</td>\n",
       "      <td>2.00</td>\n",
       "      <td>1.00</td>\n",
       "      <td>3.00</td>\n",
       "    </tr>\n",
       "    <tr>\n",
       "      <th>75%</th>\n",
       "      <td>2013.00</td>\n",
       "      <td>4.20</td>\n",
       "      <td>99283.00</td>\n",
       "      <td>18200.00</td>\n",
       "      <td>2015-05-22 02:00:00</td>\n",
       "      <td>6.00</td>\n",
       "      <td>22.00</td>\n",
       "      <td>3.00</td>\n",
       "      <td>2.00</td>\n",
       "      <td>7.00</td>\n",
       "    </tr>\n",
       "    <tr>\n",
       "      <th>max</th>\n",
       "      <td>2015.00</td>\n",
       "      <td>5.00</td>\n",
       "      <td>999999.00</td>\n",
       "      <td>230000.00</td>\n",
       "      <td>2015-07-21 02:30:00</td>\n",
       "      <td>12.00</td>\n",
       "      <td>31.00</td>\n",
       "      <td>6.00</td>\n",
       "      <td>3.00</td>\n",
       "      <td>33.00</td>\n",
       "    </tr>\n",
       "    <tr>\n",
       "      <th>std</th>\n",
       "      <td>3.98</td>\n",
       "      <td>0.95</td>\n",
       "      <td>53544.82</td>\n",
       "      <td>9751.48</td>\n",
       "      <td>NaN</td>\n",
       "      <td>3.25</td>\n",
       "      <td>8.54</td>\n",
       "      <td>1.04</td>\n",
       "      <td>0.78</td>\n",
       "      <td>3.95</td>\n",
       "    </tr>\n",
       "  </tbody>\n",
       "</table>\n",
       "</div>"
      ],
      "text/plain": [
       "            year  condition   odometer  sellingprice  \\\n",
       "count  440236.00  440236.00  440236.00     440236.00   \n",
       "mean     2010.04       3.41   68353.18      13592.21   \n",
       "min      1982.00       1.00       1.00          1.00   \n",
       "25%      2007.00       2.70   28259.00       6900.00   \n",
       "50%      2012.00       3.60   52103.50      12100.00   \n",
       "75%      2013.00       4.20   99283.00      18200.00   \n",
       "max      2015.00       5.00  999999.00     230000.00   \n",
       "std         3.98       0.95   53544.82       9751.48   \n",
       "\n",
       "                            saledate      month  month_day   week_day  \\\n",
       "count                         440236  440236.00  440236.00  440236.00   \n",
       "mean   2015-03-06 07:37:27.278414592       3.82      15.42       2.14   \n",
       "min              2014-01-01 09:15:00       1.00       1.00       0.00   \n",
       "25%              2015-01-21 02:00:00       1.00       8.00       1.00   \n",
       "50%              2015-02-13 01:15:00       2.00      16.00       2.00   \n",
       "75%              2015-05-22 02:00:00       6.00      22.00       3.00   \n",
       "max              2015-07-21 02:30:00      12.00      31.00       6.00   \n",
       "std                              NaN       3.25       8.54       1.04   \n",
       "\n",
       "          season        age  \n",
       "count  440236.00  440236.00  \n",
       "mean        1.54       4.86  \n",
       "min         1.00      -1.00  \n",
       "25%         1.00       2.00  \n",
       "50%         1.00       3.00  \n",
       "75%         2.00       7.00  \n",
       "max         3.00      33.00  \n",
       "std         0.78       3.95  "
      ]
     },
     "metadata": {},
     "output_type": "display_data"
    }
   ],
   "source": [
    "info_df(df_train)"
   ]
  },
  {
   "cell_type": "markdown",
   "id": "0ea5adc7",
   "metadata": {},
   "source": [
    "### Проверка данных на мультиколлинеарность <a id='2.2'></a>"
   ]
  },
  {
   "cell_type": "code",
   "execution_count": 47,
   "id": "4b7829a4",
   "metadata": {
    "scrolled": false
   },
   "outputs": [
    {
     "data": {
      "text/plain": [
       "sellingprice    1.000000\n",
       "year            0.586847\n",
       "condition       0.545219\n",
       "week_day        0.084767\n",
       "season          0.071614\n",
       "month_day      -0.004659\n",
       "month          -0.031276\n",
       "odometer       -0.583119\n",
       "age            -0.584540\n",
       "Name: sellingprice, dtype: float64"
      ]
     },
     "execution_count": 47,
     "metadata": {},
     "output_type": "execute_result"
    }
   ],
   "source": [
    "# Проведем корреляционный анализ\n",
    "df_corr = df_train.drop('vin', axis=1)\n",
    "df_corr.corr(numeric_only=True).loc[:, 'sellingprice'].sort_values(ascending=False)"
   ]
  },
  {
   "cell_type": "code",
   "execution_count": 48,
   "id": "bafb8bb9",
   "metadata": {},
   "outputs": [
    {
     "data": {
      "image/png": "[encoded data removed]",
      "text/plain": [
       "<Figure size 1000x700 with 2 Axes>"
      ]
     },
     "metadata": {},
     "output_type": "display_data"
    }
   ],
   "source": [
    "# Построим тепловую карту\n",
    "plt.figure(figsize=(10, 7))\n",
    "df_plot = sns.heatmap(df_corr.corr(numeric_only=True), cmap=\"YlGnBu\", annot=True, fmt='.1g',\n",
    "                     cbar_kws= {'orientation': 'horizontal'})\n",
    "plt.title('corr')\n",
    "plt.show()"
   ]
  },
  {
   "cell_type": "code",
   "execution_count": 49,
   "id": "2376ff93",
   "metadata": {},
   "outputs": [
    {
     "data": {
      "text/html": [
       "<div>\n",
       "<style scoped>\n",
       "    .dataframe tbody tr th:only-of-type {\n",
       "        vertical-align: middle;\n",
       "    }\n",
       "\n",
       "    .dataframe tbody tr th {\n",
       "        vertical-align: top;\n",
       "    }\n",
       "\n",
       "    .dataframe thead th {\n",
       "        text-align: right;\n",
       "    }\n",
       "</style>\n",
       "<table border=\"1\" class=\"dataframe\">\n",
       "  <thead>\n",
       "    <tr style=\"text-align: right;\">\n",
       "      <th></th>\n",
       "      <th>year</th>\n",
       "      <th>make</th>\n",
       "      <th>model</th>\n",
       "      <th>trim</th>\n",
       "      <th>body</th>\n",
       "      <th>transmission</th>\n",
       "      <th>vin</th>\n",
       "      <th>state</th>\n",
       "      <th>condition</th>\n",
       "      <th>odometer</th>\n",
       "      <th>color</th>\n",
       "      <th>interior</th>\n",
       "      <th>seller</th>\n",
       "      <th>sellingprice</th>\n",
       "      <th>season</th>\n",
       "      <th>vin_sh</th>\n",
       "    </tr>\n",
       "  </thead>\n",
       "  <tbody>\n",
       "    <tr>\n",
       "      <th>0</th>\n",
       "      <td>2011</td>\n",
       "      <td>ford</td>\n",
       "      <td>edge</td>\n",
       "      <td>sel</td>\n",
       "      <td>suv</td>\n",
       "      <td>automatic</td>\n",
       "      <td>2fmdk3jc4bba41556</td>\n",
       "      <td>md</td>\n",
       "      <td>4.2</td>\n",
       "      <td>111041.0</td>\n",
       "      <td>black</td>\n",
       "      <td>black</td>\n",
       "      <td>santander consumer</td>\n",
       "      <td>12500</td>\n",
       "      <td>3</td>\n",
       "      <td>dk3jc4</td>\n",
       "    </tr>\n",
       "    <tr>\n",
       "      <th>1</th>\n",
       "      <td>2014</td>\n",
       "      <td>ford</td>\n",
       "      <td>fusion</td>\n",
       "      <td>se</td>\n",
       "      <td>sedan</td>\n",
       "      <td>automatic</td>\n",
       "      <td>3fa6p0h75er208976</td>\n",
       "      <td>mo</td>\n",
       "      <td>3.5</td>\n",
       "      <td>31034.0</td>\n",
       "      <td>black</td>\n",
       "      <td>black</td>\n",
       "      <td>ars/avis budget group</td>\n",
       "      <td>14500</td>\n",
       "      <td>1</td>\n",
       "      <td>6p0h75</td>\n",
       "    </tr>\n",
       "    <tr>\n",
       "      <th>2</th>\n",
       "      <td>2012</td>\n",
       "      <td>nissan</td>\n",
       "      <td>sentra</td>\n",
       "      <td>2.0 sl</td>\n",
       "      <td>sedan</td>\n",
       "      <td>automatic</td>\n",
       "      <td>3n1ab6ap4cl698412</td>\n",
       "      <td>nj</td>\n",
       "      <td>2.2</td>\n",
       "      <td>35619.0</td>\n",
       "      <td>black</td>\n",
       "      <td>black</td>\n",
       "      <td>nissan-infiniti lt</td>\n",
       "      <td>9100</td>\n",
       "      <td>3</td>\n",
       "      <td>ab6ap4</td>\n",
       "    </tr>\n",
       "  </tbody>\n",
       "</table>\n",
       "</div>"
      ],
      "text/plain": [
       "   year    make   model    trim   body transmission                vin state  \\\n",
       "0  2011    ford    edge     sel    suv    automatic  2fmdk3jc4bba41556    md   \n",
       "1  2014    ford  fusion      se  sedan    automatic  3fa6p0h75er208976    mo   \n",
       "2  2012  nissan  sentra  2.0 sl  sedan    automatic  3n1ab6ap4cl698412    nj   \n",
       "\n",
       "   condition  odometer  color interior                 seller  sellingprice  \\\n",
       "0        4.2  111041.0  black    black     santander consumer         12500   \n",
       "1        3.5   31034.0  black    black  ars/avis budget group         14500   \n",
       "2        2.2   35619.0  black    black     nissan-infiniti lt          9100   \n",
       "\n",
       "   season  vin_sh  \n",
       "0       3  dk3jc4  \n",
       "1       1  6p0h75  \n",
       "2       3  ab6ap4  "
      ]
     },
     "execution_count": 49,
     "metadata": {},
     "output_type": "execute_result"
    }
   ],
   "source": [
    "# Удалим столбцы week_day, month_day, month, age, saledate из признаков\n",
    "df_train.drop(['week_day', 'month_day', 'month', 'age', 'saledate'], axis=1, inplace=True)\n",
    "df_train.head(3)"
   ]
  },
  {
   "cell_type": "code",
   "execution_count": 50,
   "id": "0ee42621",
   "metadata": {},
   "outputs": [
    {
     "data": {
      "text/html": [
       "<div>\n",
       "<style scoped>\n",
       "    .dataframe tbody tr th:only-of-type {\n",
       "        vertical-align: middle;\n",
       "    }\n",
       "\n",
       "    .dataframe tbody tr th {\n",
       "        vertical-align: top;\n",
       "    }\n",
       "\n",
       "    .dataframe thead th {\n",
       "        text-align: right;\n",
       "    }\n",
       "</style>\n",
       "<table border=\"1\" class=\"dataframe\">\n",
       "  <thead>\n",
       "    <tr style=\"text-align: right;\">\n",
       "      <th></th>\n",
       "      <th>year</th>\n",
       "      <th>make</th>\n",
       "      <th>model</th>\n",
       "      <th>trim</th>\n",
       "      <th>body</th>\n",
       "      <th>transmission</th>\n",
       "      <th>state</th>\n",
       "      <th>condition</th>\n",
       "      <th>odometer</th>\n",
       "      <th>color</th>\n",
       "      <th>interior</th>\n",
       "      <th>seller</th>\n",
       "      <th>sellingprice</th>\n",
       "      <th>season</th>\n",
       "      <th>vin_sh</th>\n",
       "    </tr>\n",
       "    <tr>\n",
       "      <th>vin</th>\n",
       "      <th></th>\n",
       "      <th></th>\n",
       "      <th></th>\n",
       "      <th></th>\n",
       "      <th></th>\n",
       "      <th></th>\n",
       "      <th></th>\n",
       "      <th></th>\n",
       "      <th></th>\n",
       "      <th></th>\n",
       "      <th></th>\n",
       "      <th></th>\n",
       "      <th></th>\n",
       "      <th></th>\n",
       "      <th></th>\n",
       "    </tr>\n",
       "  </thead>\n",
       "  <tbody>\n",
       "    <tr>\n",
       "      <th>2fmdk3jc4bba41556</th>\n",
       "      <td>2011</td>\n",
       "      <td>ford</td>\n",
       "      <td>edge</td>\n",
       "      <td>sel</td>\n",
       "      <td>suv</td>\n",
       "      <td>automatic</td>\n",
       "      <td>md</td>\n",
       "      <td>4.2</td>\n",
       "      <td>111041.0</td>\n",
       "      <td>black</td>\n",
       "      <td>black</td>\n",
       "      <td>santander consumer</td>\n",
       "      <td>12500</td>\n",
       "      <td>3</td>\n",
       "      <td>dk3jc4</td>\n",
       "    </tr>\n",
       "    <tr>\n",
       "      <th>3fa6p0h75er208976</th>\n",
       "      <td>2014</td>\n",
       "      <td>ford</td>\n",
       "      <td>fusion</td>\n",
       "      <td>se</td>\n",
       "      <td>sedan</td>\n",
       "      <td>automatic</td>\n",
       "      <td>mo</td>\n",
       "      <td>3.5</td>\n",
       "      <td>31034.0</td>\n",
       "      <td>black</td>\n",
       "      <td>black</td>\n",
       "      <td>ars/avis budget group</td>\n",
       "      <td>14500</td>\n",
       "      <td>1</td>\n",
       "      <td>6p0h75</td>\n",
       "    </tr>\n",
       "    <tr>\n",
       "      <th>3n1ab6ap4cl698412</th>\n",
       "      <td>2012</td>\n",
       "      <td>nissan</td>\n",
       "      <td>sentra</td>\n",
       "      <td>2.0 sl</td>\n",
       "      <td>sedan</td>\n",
       "      <td>automatic</td>\n",
       "      <td>nj</td>\n",
       "      <td>2.2</td>\n",
       "      <td>35619.0</td>\n",
       "      <td>black</td>\n",
       "      <td>black</td>\n",
       "      <td>nissan-infiniti lt</td>\n",
       "      <td>9100</td>\n",
       "      <td>3</td>\n",
       "      <td>ab6ap4</td>\n",
       "    </tr>\n",
       "  </tbody>\n",
       "</table>\n",
       "</div>"
      ],
      "text/plain": [
       "                   year    make   model    trim   body transmission state  \\\n",
       "vin                                                                         \n",
       "2fmdk3jc4bba41556  2011    ford    edge     sel    suv    automatic    md   \n",
       "3fa6p0h75er208976  2014    ford  fusion      se  sedan    automatic    mo   \n",
       "3n1ab6ap4cl698412  2012  nissan  sentra  2.0 sl  sedan    automatic    nj   \n",
       "\n",
       "                   condition  odometer  color interior                 seller  \\\n",
       "vin                                                                             \n",
       "2fmdk3jc4bba41556        4.2  111041.0  black    black     santander consumer   \n",
       "3fa6p0h75er208976        3.5   31034.0  black    black  ars/avis budget group   \n",
       "3n1ab6ap4cl698412        2.2   35619.0  black    black     nissan-infiniti lt   \n",
       "\n",
       "                   sellingprice  season  vin_sh  \n",
       "vin                                              \n",
       "2fmdk3jc4bba41556         12500       3  dk3jc4  \n",
       "3fa6p0h75er208976         14500       1  6p0h75  \n",
       "3n1ab6ap4cl698412          9100       3  ab6ap4  "
      ]
     },
     "execution_count": 50,
     "metadata": {},
     "output_type": "execute_result"
    }
   ],
   "source": [
    "# Столбец vin сделаем индексом\n",
    "df_train = df_train.set_index('vin')\n",
    "df_train.head(3)"
   ]
  },
  {
   "cell_type": "markdown",
   "id": "60ae7d95",
   "metadata": {},
   "source": [
    "### Общие выводы по подготовке данных <a id='2.3'></a>"
   ]
  },
  {
   "cell_type": "markdown",
   "id": "829bc073",
   "metadata": {},
   "source": [
    "Сформирован сбалансированный набор показателей для эффективного прогнозирования цены продажи автомобиля.\n",
    "\n",
    "По результату корреляционного анализа, не выявлена зависимость цены продажи ни с одним из показателей даты кроме сезона.\n",
    "\n",
    "Проверка данных на мультиколлинеарность показала наличие параметров с высоким уровнем пересекающейся корреляции. Снижение уровня мультиколлинеарности было достигнуто удалением следующих параметров: `week_day`, `month_day`, `month`, `age`. Кроме того, отсутствует необходимость в параметре `saledate`.\n",
    "\n",
    "Для обеспечения однозначной идентификации автомобиля, показатель `vin` вынесен в индекс датасета."
   ]
  },
  {
   "cell_type": "markdown",
   "id": "d9aec8b8",
   "metadata": {},
   "source": [
    "## Обучение моделей <a id='3'></a>"
   ]
  },
  {
   "cell_type": "markdown",
   "id": "9b6b4769",
   "metadata": {},
   "source": [
    "### Пробразование категорий в число <a id='3.1'></a>"
   ]
  },
  {
   "cell_type": "code",
   "execution_count": 51,
   "id": "6071026f",
   "metadata": {},
   "outputs": [],
   "source": [
    "# Списки измнения категориальных параметров и добавления числовых\n",
    "list_in = ['make', 'model', 'body', 'transmission',  'state', 'color', 'interior', 'seller', 'trim', 'vin_sh']\n",
    "list_out_i = [item + '_numi' for item in list_in]\n",
    "list_out_s = [item + '_nums' for item in list_in]\n",
    "list_num = ['year', 'condition', 'odometer', 'sellingprice', 'season']"
   ]
  },
  {
   "cell_type": "code",
   "execution_count": 52,
   "id": "f42d3d30",
   "metadata": {},
   "outputs": [
    {
     "name": "stdout",
     "output_type": "stream",
     "text": [
      "CPU times: total: 24.8 s\n",
      "Wall time: 24.8 s\n"
     ]
    }
   ],
   "source": [
    "%%time\n",
    "# Преобразуем make, model, body, transmission,  state, color, interior в число\n",
    "# Метод word_int\n",
    "df_train_short = pd.DataFrame()\n",
    "\n",
    "for i in range(len(list_in)):\n",
    "    df_train_short[list_out_i[i]] = df_train[list_in[i]].apply(word_int)\n",
    "\n",
    "for i in range(len(list_num)):\n",
    "    df_train_short[list_num[i]] = df_train[list_num[i]]\n"
   ]
  },
  {
   "cell_type": "code",
   "execution_count": 53,
   "id": "d79430c1",
   "metadata": {
    "scrolled": true
   },
   "outputs": [
    {
     "data": {
      "text/html": [
       "<div>\n",
       "<style scoped>\n",
       "    .dataframe tbody tr th:only-of-type {\n",
       "        vertical-align: middle;\n",
       "    }\n",
       "\n",
       "    .dataframe tbody tr th {\n",
       "        vertical-align: top;\n",
       "    }\n",
       "\n",
       "    .dataframe thead th {\n",
       "        text-align: right;\n",
       "    }\n",
       "</style>\n",
       "<table border=\"1\" class=\"dataframe\">\n",
       "  <thead>\n",
       "    <tr style=\"text-align: right;\">\n",
       "      <th></th>\n",
       "      <th>make_numi</th>\n",
       "      <th>model_numi</th>\n",
       "      <th>body_numi</th>\n",
       "      <th>transmission_numi</th>\n",
       "      <th>state_numi</th>\n",
       "      <th>color_numi</th>\n",
       "      <th>interior_numi</th>\n",
       "      <th>seller_numi</th>\n",
       "      <th>trim_numi</th>\n",
       "      <th>vin_sh_numi</th>\n",
       "      <th>year</th>\n",
       "      <th>condition</th>\n",
       "      <th>odometer</th>\n",
       "      <th>sellingprice</th>\n",
       "      <th>season</th>\n",
       "    </tr>\n",
       "    <tr>\n",
       "      <th>vin</th>\n",
       "      <th></th>\n",
       "      <th></th>\n",
       "      <th></th>\n",
       "      <th></th>\n",
       "      <th></th>\n",
       "      <th></th>\n",
       "      <th></th>\n",
       "      <th></th>\n",
       "      <th></th>\n",
       "      <th></th>\n",
       "      <th></th>\n",
       "      <th></th>\n",
       "      <th></th>\n",
       "      <th></th>\n",
       "      <th></th>\n",
       "    </tr>\n",
       "  </thead>\n",
       "  <tbody>\n",
       "    <tr>\n",
       "      <th>2fmdk3jc4bba41556</th>\n",
       "      <td>1066</td>\n",
       "      <td>1014</td>\n",
       "      <td>703</td>\n",
       "      <td>4793</td>\n",
       "      <td>309</td>\n",
       "      <td>1536</td>\n",
       "      <td>1536</td>\n",
       "      <td>17831</td>\n",
       "      <td>641</td>\n",
       "      <td>1698</td>\n",
       "      <td>2011</td>\n",
       "      <td>4.2</td>\n",
       "      <td>111041.0</td>\n",
       "      <td>12500</td>\n",
       "      <td>3</td>\n",
       "    </tr>\n",
       "    <tr>\n",
       "      <th>3fa6p0h75er208976</th>\n",
       "      <td>1066</td>\n",
       "      <td>2316</td>\n",
       "      <td>1555</td>\n",
       "      <td>4793</td>\n",
       "      <td>331</td>\n",
       "      <td>1536</td>\n",
       "      <td>1536</td>\n",
       "      <td>23070</td>\n",
       "      <td>317</td>\n",
       "      <td>1431</td>\n",
       "      <td>2014</td>\n",
       "      <td>3.5</td>\n",
       "      <td>31034.0</td>\n",
       "      <td>14500</td>\n",
       "      <td>1</td>\n",
       "    </tr>\n",
       "    <tr>\n",
       "      <th>3n1ab6ap4cl698412</th>\n",
       "      <td>2270</td>\n",
       "      <td>2263</td>\n",
       "      <td>1555</td>\n",
       "      <td>4793</td>\n",
       "      <td>322</td>\n",
       "      <td>1536</td>\n",
       "      <td>1536</td>\n",
       "      <td>16910</td>\n",
       "      <td>1637</td>\n",
       "      <td>1715</td>\n",
       "      <td>2012</td>\n",
       "      <td>2.2</td>\n",
       "      <td>35619.0</td>\n",
       "      <td>9100</td>\n",
       "      <td>3</td>\n",
       "    </tr>\n",
       "  </tbody>\n",
       "</table>\n",
       "</div>"
      ],
      "text/plain": [
       "                   make_numi  model_numi  body_numi  transmission_numi  \\\n",
       "vin                                                                      \n",
       "2fmdk3jc4bba41556       1066        1014        703               4793   \n",
       "3fa6p0h75er208976       1066        2316       1555               4793   \n",
       "3n1ab6ap4cl698412       2270        2263       1555               4793   \n",
       "\n",
       "                   state_numi  color_numi  interior_numi  seller_numi  \\\n",
       "vin                                                                     \n",
       "2fmdk3jc4bba41556         309        1536           1536        17831   \n",
       "3fa6p0h75er208976         331        1536           1536        23070   \n",
       "3n1ab6ap4cl698412         322        1536           1536        16910   \n",
       "\n",
       "                   trim_numi  vin_sh_numi  year  condition  odometer  \\\n",
       "vin                                                                    \n",
       "2fmdk3jc4bba41556        641         1698  2011        4.2  111041.0   \n",
       "3fa6p0h75er208976        317         1431  2014        3.5   31034.0   \n",
       "3n1ab6ap4cl698412       1637         1715  2012        2.2   35619.0   \n",
       "\n",
       "                   sellingprice  season  \n",
       "vin                                      \n",
       "2fmdk3jc4bba41556         12500       3  \n",
       "3fa6p0h75er208976         14500       1  \n",
       "3n1ab6ap4cl698412          9100       3  "
      ]
     },
     "execution_count": 53,
     "metadata": {},
     "output_type": "execute_result"
    }
   ],
   "source": [
    "df_train_short.head(3)"
   ]
  },
  {
   "cell_type": "code",
   "execution_count": 54,
   "id": "3ab36a13",
   "metadata": {},
   "outputs": [
    {
     "name": "stdout",
     "output_type": "stream",
     "text": [
      "CPU times: total: 43.8 s\n",
      "Wall time: 44.2 s\n"
     ]
    }
   ],
   "source": [
    "%%time\n",
    "# Преобразуем make, model, body, transmission,  state, color, interior в число\n",
    "# Метод word_str\n",
    "df_train_long = pd.DataFrame()\n",
    "\n",
    "for i in range(len(list_in)):\n",
    "    df_train_long[list_out_s[i]] = df_train[list_in[i]].apply(word_str)\n",
    "\n",
    "for i in range(len(list_num)):\n",
    "    df_train_long[list_num[i]] = df_train[list_num[i]]\n"
   ]
  },
  {
   "cell_type": "code",
   "execution_count": 55,
   "id": "5646f718",
   "metadata": {},
   "outputs": [
    {
     "data": {
      "text/html": [
       "<div>\n",
       "<style scoped>\n",
       "    .dataframe tbody tr th:only-of-type {\n",
       "        vertical-align: middle;\n",
       "    }\n",
       "\n",
       "    .dataframe tbody tr th {\n",
       "        vertical-align: top;\n",
       "    }\n",
       "\n",
       "    .dataframe thead th {\n",
       "        text-align: right;\n",
       "    }\n",
       "</style>\n",
       "<table border=\"1\" class=\"dataframe\">\n",
       "  <thead>\n",
       "    <tr style=\"text-align: right;\">\n",
       "      <th></th>\n",
       "      <th>make_nums</th>\n",
       "      <th>model_nums</th>\n",
       "      <th>body_nums</th>\n",
       "      <th>transmission_nums</th>\n",
       "      <th>state_nums</th>\n",
       "      <th>color_nums</th>\n",
       "      <th>interior_nums</th>\n",
       "      <th>seller_nums</th>\n",
       "      <th>trim_nums</th>\n",
       "      <th>vin_sh_nums</th>\n",
       "      <th>year</th>\n",
       "      <th>condition</th>\n",
       "      <th>odometer</th>\n",
       "      <th>sellingprice</th>\n",
       "      <th>season</th>\n",
       "    </tr>\n",
       "    <tr>\n",
       "      <th>vin</th>\n",
       "      <th></th>\n",
       "      <th></th>\n",
       "      <th></th>\n",
       "      <th></th>\n",
       "      <th></th>\n",
       "      <th></th>\n",
       "      <th></th>\n",
       "      <th></th>\n",
       "      <th></th>\n",
       "      <th></th>\n",
       "      <th></th>\n",
       "      <th></th>\n",
       "      <th></th>\n",
       "      <th></th>\n",
       "      <th></th>\n",
       "    </tr>\n",
       "  </thead>\n",
       "  <tbody>\n",
       "    <tr>\n",
       "      <th>2fmdk3jc4bba41556</th>\n",
       "      <td>102222342400</td>\n",
       "      <td>101200309404</td>\n",
       "      <td>115234354</td>\n",
       "      <td>97234348444545582812840891</td>\n",
       "      <td>109200</td>\n",
       "      <td>98216291396535</td>\n",
       "      <td>98216291396535</td>\n",
       "      <td>1151943304644856607008081026320108913321430161...</td>\n",
       "      <td>115202324</td>\n",
       "      <td>100214153424495312</td>\n",
       "      <td>2011</td>\n",
       "      <td>4.2</td>\n",
       "      <td>111041.0</td>\n",
       "      <td>12500</td>\n",
       "      <td>3</td>\n",
       "    </tr>\n",
       "    <tr>\n",
       "      <th>3fa6p0h75er208976</th>\n",
       "      <td>102222342400</td>\n",
       "      <td>102234345420555660</td>\n",
       "      <td>115202300388550</td>\n",
       "      <td>97234348444545582812840891</td>\n",
       "      <td>109222</td>\n",
       "      <td>98216291396535</td>\n",
       "      <td>98216291396535</td>\n",
       "      <td>9722834518848570873592028898012871200133914141...</td>\n",
       "      <td>115202</td>\n",
       "      <td>54224144416275318</td>\n",
       "      <td>2014</td>\n",
       "      <td>3.5</td>\n",
       "      <td>31034.0</td>\n",
       "      <td>14500</td>\n",
       "      <td>1</td>\n",
       "    </tr>\n",
       "    <tr>\n",
       "      <th>3n1ab6ap4cl698412</th>\n",
       "      <td>110210345460485660</td>\n",
       "      <td>115202330464570582</td>\n",
       "      <td>115202300388550</td>\n",
       "      <td>97234348444545582812840891</td>\n",
       "      <td>110212</td>\n",
       "      <td>98216291396535</td>\n",
       "      <td>98216291396535</td>\n",
       "      <td>1102103454604856603158409901020115513201365162...</td>\n",
       "      <td>5092144128575648</td>\n",
       "      <td>97196162388560312</td>\n",
       "      <td>2012</td>\n",
       "      <td>2.2</td>\n",
       "      <td>35619.0</td>\n",
       "      <td>9100</td>\n",
       "      <td>3</td>\n",
       "    </tr>\n",
       "  </tbody>\n",
       "</table>\n",
       "</div>"
      ],
      "text/plain": [
       "                            make_nums          model_nums        body_nums  \\\n",
       "vin                                                                          \n",
       "2fmdk3jc4bba41556        102222342400        101200309404        115234354   \n",
       "3fa6p0h75er208976        102222342400  102234345420555660  115202300388550   \n",
       "3n1ab6ap4cl698412  110210345460485660  115202330464570582  115202300388550   \n",
       "\n",
       "                            transmission_nums  state_nums      color_nums  \\\n",
       "vin                                                                         \n",
       "2fmdk3jc4bba41556  97234348444545582812840891      109200  98216291396535   \n",
       "3fa6p0h75er208976  97234348444545582812840891      109222  98216291396535   \n",
       "3n1ab6ap4cl698412  97234348444545582812840891      110212  98216291396535   \n",
       "\n",
       "                    interior_nums  \\\n",
       "vin                                 \n",
       "2fmdk3jc4bba41556  98216291396535   \n",
       "3fa6p0h75er208976  98216291396535   \n",
       "3n1ab6ap4cl698412  98216291396535   \n",
       "\n",
       "                                                         seller_nums  \\\n",
       "vin                                                                    \n",
       "2fmdk3jc4bba41556  1151943304644856607008081026320108913321430161...   \n",
       "3fa6p0h75er208976  9722834518848570873592028898012871200133914141...   \n",
       "3n1ab6ap4cl698412  1102103454604856603158409901020115513201365162...   \n",
       "\n",
       "                          trim_nums         vin_sh_nums  year  condition  \\\n",
       "vin                                                                        \n",
       "2fmdk3jc4bba41556         115202324  100214153424495312  2011        4.2   \n",
       "3fa6p0h75er208976            115202   54224144416275318  2014        3.5   \n",
       "3n1ab6ap4cl698412  5092144128575648   97196162388560312  2012        2.2   \n",
       "\n",
       "                   odometer  sellingprice  season  \n",
       "vin                                                \n",
       "2fmdk3jc4bba41556  111041.0         12500       3  \n",
       "3fa6p0h75er208976   31034.0         14500       1  \n",
       "3n1ab6ap4cl698412   35619.0          9100       3  "
      ]
     },
     "execution_count": 55,
     "metadata": {},
     "output_type": "execute_result"
    }
   ],
   "source": [
    "df_train_long.head(3)"
   ]
  },
  {
   "cell_type": "markdown",
   "id": "c008475d",
   "metadata": {},
   "source": [
    "### Проверка метода word_str. Объединение значений символов <a id='3.2'></a>"
   ]
  },
  {
   "cell_type": "code",
   "execution_count": 56,
   "id": "e87e2bd0",
   "metadata": {
    "scrolled": true
   },
   "outputs": [
    {
     "data": {
      "text/html": [
       "<div>\n",
       "<style scoped>\n",
       "    .dataframe tbody tr th:only-of-type {\n",
       "        vertical-align: middle;\n",
       "    }\n",
       "\n",
       "    .dataframe tbody tr th {\n",
       "        vertical-align: top;\n",
       "    }\n",
       "\n",
       "    .dataframe thead th {\n",
       "        text-align: right;\n",
       "    }\n",
       "</style>\n",
       "<table border=\"1\" class=\"dataframe\">\n",
       "  <thead>\n",
       "    <tr style=\"text-align: right;\">\n",
       "      <th></th>\n",
       "      <th>make_nums</th>\n",
       "      <th>model_nums</th>\n",
       "      <th>body_nums</th>\n",
       "      <th>transmission_nums</th>\n",
       "      <th>state_nums</th>\n",
       "      <th>color_nums</th>\n",
       "      <th>interior_nums</th>\n",
       "      <th>seller_nums</th>\n",
       "      <th>trim_nums</th>\n",
       "      <th>vin_sh_nums</th>\n",
       "      <th>year</th>\n",
       "      <th>condition</th>\n",
       "      <th>odometer</th>\n",
       "      <th>season</th>\n",
       "    </tr>\n",
       "    <tr>\n",
       "      <th>vin</th>\n",
       "      <th></th>\n",
       "      <th></th>\n",
       "      <th></th>\n",
       "      <th></th>\n",
       "      <th></th>\n",
       "      <th></th>\n",
       "      <th></th>\n",
       "      <th></th>\n",
       "      <th></th>\n",
       "      <th></th>\n",
       "      <th></th>\n",
       "      <th></th>\n",
       "      <th></th>\n",
       "      <th></th>\n",
       "    </tr>\n",
       "  </thead>\n",
       "  <tbody>\n",
       "    <tr>\n",
       "      <th>2fmdk3jc4bba41556</th>\n",
       "      <td>102222342400</td>\n",
       "      <td>101200309404</td>\n",
       "      <td>115234354</td>\n",
       "      <td>97234348444545582812840891</td>\n",
       "      <td>109200</td>\n",
       "      <td>98216291396535</td>\n",
       "      <td>98216291396535</td>\n",
       "      <td>1151943304644856607008081026320108913321430161...</td>\n",
       "      <td>115202324</td>\n",
       "      <td>100214153424495312</td>\n",
       "      <td>2011</td>\n",
       "      <td>4.2</td>\n",
       "      <td>111041.0</td>\n",
       "      <td>3</td>\n",
       "    </tr>\n",
       "    <tr>\n",
       "      <th>3fa6p0h75er208976</th>\n",
       "      <td>102222342400</td>\n",
       "      <td>102234345420555660</td>\n",
       "      <td>115202300388550</td>\n",
       "      <td>97234348444545582812840891</td>\n",
       "      <td>109222</td>\n",
       "      <td>98216291396535</td>\n",
       "      <td>98216291396535</td>\n",
       "      <td>9722834518848570873592028898012871200133914141...</td>\n",
       "      <td>115202</td>\n",
       "      <td>54224144416275318</td>\n",
       "      <td>2014</td>\n",
       "      <td>3.5</td>\n",
       "      <td>31034.0</td>\n",
       "      <td>1</td>\n",
       "    </tr>\n",
       "    <tr>\n",
       "      <th>3n1ab6ap4cl698412</th>\n",
       "      <td>110210345460485660</td>\n",
       "      <td>115202330464570582</td>\n",
       "      <td>115202300388550</td>\n",
       "      <td>97234348444545582812840891</td>\n",
       "      <td>110212</td>\n",
       "      <td>98216291396535</td>\n",
       "      <td>98216291396535</td>\n",
       "      <td>1102103454604856603158409901020115513201365162...</td>\n",
       "      <td>5092144128575648</td>\n",
       "      <td>97196162388560312</td>\n",
       "      <td>2012</td>\n",
       "      <td>2.2</td>\n",
       "      <td>35619.0</td>\n",
       "      <td>3</td>\n",
       "    </tr>\n",
       "  </tbody>\n",
       "</table>\n",
       "</div>"
      ],
      "text/plain": [
       "                            make_nums          model_nums        body_nums  \\\n",
       "vin                                                                          \n",
       "2fmdk3jc4bba41556        102222342400        101200309404        115234354   \n",
       "3fa6p0h75er208976        102222342400  102234345420555660  115202300388550   \n",
       "3n1ab6ap4cl698412  110210345460485660  115202330464570582  115202300388550   \n",
       "\n",
       "                            transmission_nums  state_nums      color_nums  \\\n",
       "vin                                                                         \n",
       "2fmdk3jc4bba41556  97234348444545582812840891      109200  98216291396535   \n",
       "3fa6p0h75er208976  97234348444545582812840891      109222  98216291396535   \n",
       "3n1ab6ap4cl698412  97234348444545582812840891      110212  98216291396535   \n",
       "\n",
       "                    interior_nums  \\\n",
       "vin                                 \n",
       "2fmdk3jc4bba41556  98216291396535   \n",
       "3fa6p0h75er208976  98216291396535   \n",
       "3n1ab6ap4cl698412  98216291396535   \n",
       "\n",
       "                                                         seller_nums  \\\n",
       "vin                                                                    \n",
       "2fmdk3jc4bba41556  1151943304644856607008081026320108913321430161...   \n",
       "3fa6p0h75er208976  9722834518848570873592028898012871200133914141...   \n",
       "3n1ab6ap4cl698412  1102103454604856603158409901020115513201365162...   \n",
       "\n",
       "                          trim_nums         vin_sh_nums  year  condition  \\\n",
       "vin                                                                        \n",
       "2fmdk3jc4bba41556         115202324  100214153424495312  2011        4.2   \n",
       "3fa6p0h75er208976            115202   54224144416275318  2014        3.5   \n",
       "3n1ab6ap4cl698412  5092144128575648   97196162388560312  2012        2.2   \n",
       "\n",
       "                   odometer  season  \n",
       "vin                                  \n",
       "2fmdk3jc4bba41556  111041.0       3  \n",
       "3fa6p0h75er208976   31034.0       1  \n",
       "3n1ab6ap4cl698412   35619.0       3  "
      ]
     },
     "metadata": {},
     "output_type": "display_data"
    }
   ],
   "source": [
    "# Разделим таблицу на признаки и целевые результаты\n",
    "features_long = df_train_long.drop(['sellingprice'], axis=1)\n",
    "target_long = df_train_long['sellingprice']\n",
    "\n",
    "display(features_long.head(3))"
   ]
  },
  {
   "cell_type": "code",
   "execution_count": 57,
   "id": "4b725ea7",
   "metadata": {
    "scrolled": true
   },
   "outputs": [
    {
     "name": "stdout",
     "output_type": "stream",
     "text": [
      "Обучающая выборка признаков - (330177, 14)\n",
      "Обучающая выборка целевого признака - (330177,)\n",
      "Тестовая выборка признаков - (110059, 14)\n",
      "Тестовая выборка целевого признака - (110059,)\n"
     ]
    }
   ],
   "source": [
    "# Разделим данные на обучающую и тестовую выборки\n",
    "\n",
    "features_train_l, features_test_l, target_train_l, target_test_l = train_test_split(features_long, target_long,\n",
    "                                                                            test_size=.25,                                                                            \n",
    "                                                                            random_state=state)\n",
    "print(f'Обучающая выборка признаков - {features_train_l.shape}')\n",
    "print(f'Обучающая выборка целевого признака - {target_train_l.shape}')\n",
    "print(f'Тестовая выборка признаков - {features_test_l.shape}')\n",
    "print(f'Тестовая выборка целевого признака - {target_test_l.shape}')"
   ]
  },
  {
   "cell_type": "code",
   "execution_count": 58,
   "id": "5395bb28",
   "metadata": {},
   "outputs": [
    {
     "name": "stdout",
     "output_type": "stream",
     "text": [
      "MAPE на регрессии с преобразованием категорий объединением - 1.9559\n"
     ]
    }
   ],
   "source": [
    "# Проверим качество метода на лмнейной регрессии\n",
    "model_regr_long = LinearRegression()\n",
    "model_regr_long.fit(features_train_l, target_train_l)\n",
    "answer_regr_long = model_regr_long.predict(features_test_l)\n",
    "mape_model_regr_long = mean_absolute_percentage_error(target_test_l, answer_regr_long)\n",
    "print(f'MAPE на регрессии с преобразованием категорий объединением - {mape_model_regr_long:.4f}')"
   ]
  },
  {
   "cell_type": "markdown",
   "id": "7e01fbfd",
   "metadata": {},
   "source": [
    "**Вывод**\n",
    "\n",
    "Качество прогноза очень низкое, поэтому отвергаем метод преобразования `word_str`"
   ]
  },
  {
   "cell_type": "markdown",
   "id": "e9d4470a",
   "metadata": {},
   "source": [
    "### Проверка метода word_int. Сумма значений символов <a id='3.3'></a>"
   ]
  },
  {
   "cell_type": "code",
   "execution_count": 59,
   "id": "cfb26866",
   "metadata": {
    "scrolled": true
   },
   "outputs": [
    {
     "data": {
      "text/html": [
       "<div>\n",
       "<style scoped>\n",
       "    .dataframe tbody tr th:only-of-type {\n",
       "        vertical-align: middle;\n",
       "    }\n",
       "\n",
       "    .dataframe tbody tr th {\n",
       "        vertical-align: top;\n",
       "    }\n",
       "\n",
       "    .dataframe thead th {\n",
       "        text-align: right;\n",
       "    }\n",
       "</style>\n",
       "<table border=\"1\" class=\"dataframe\">\n",
       "  <thead>\n",
       "    <tr style=\"text-align: right;\">\n",
       "      <th></th>\n",
       "      <th>make_numi</th>\n",
       "      <th>model_numi</th>\n",
       "      <th>body_numi</th>\n",
       "      <th>transmission_numi</th>\n",
       "      <th>state_numi</th>\n",
       "      <th>color_numi</th>\n",
       "      <th>interior_numi</th>\n",
       "      <th>seller_numi</th>\n",
       "      <th>trim_numi</th>\n",
       "      <th>vin_sh_numi</th>\n",
       "      <th>year</th>\n",
       "      <th>condition</th>\n",
       "      <th>odometer</th>\n",
       "      <th>season</th>\n",
       "    </tr>\n",
       "    <tr>\n",
       "      <th>vin</th>\n",
       "      <th></th>\n",
       "      <th></th>\n",
       "      <th></th>\n",
       "      <th></th>\n",
       "      <th></th>\n",
       "      <th></th>\n",
       "      <th></th>\n",
       "      <th></th>\n",
       "      <th></th>\n",
       "      <th></th>\n",
       "      <th></th>\n",
       "      <th></th>\n",
       "      <th></th>\n",
       "      <th></th>\n",
       "    </tr>\n",
       "  </thead>\n",
       "  <tbody>\n",
       "    <tr>\n",
       "      <th>2fmdk3jc4bba41556</th>\n",
       "      <td>1066</td>\n",
       "      <td>1014</td>\n",
       "      <td>703</td>\n",
       "      <td>4793</td>\n",
       "      <td>309</td>\n",
       "      <td>1536</td>\n",
       "      <td>1536</td>\n",
       "      <td>17831</td>\n",
       "      <td>641</td>\n",
       "      <td>1698</td>\n",
       "      <td>2011</td>\n",
       "      <td>4.2</td>\n",
       "      <td>111041.0</td>\n",
       "      <td>3</td>\n",
       "    </tr>\n",
       "    <tr>\n",
       "      <th>3fa6p0h75er208976</th>\n",
       "      <td>1066</td>\n",
       "      <td>2316</td>\n",
       "      <td>1555</td>\n",
       "      <td>4793</td>\n",
       "      <td>331</td>\n",
       "      <td>1536</td>\n",
       "      <td>1536</td>\n",
       "      <td>23070</td>\n",
       "      <td>317</td>\n",
       "      <td>1431</td>\n",
       "      <td>2014</td>\n",
       "      <td>3.5</td>\n",
       "      <td>31034.0</td>\n",
       "      <td>1</td>\n",
       "    </tr>\n",
       "    <tr>\n",
       "      <th>3n1ab6ap4cl698412</th>\n",
       "      <td>2270</td>\n",
       "      <td>2263</td>\n",
       "      <td>1555</td>\n",
       "      <td>4793</td>\n",
       "      <td>322</td>\n",
       "      <td>1536</td>\n",
       "      <td>1536</td>\n",
       "      <td>16910</td>\n",
       "      <td>1637</td>\n",
       "      <td>1715</td>\n",
       "      <td>2012</td>\n",
       "      <td>2.2</td>\n",
       "      <td>35619.0</td>\n",
       "      <td>3</td>\n",
       "    </tr>\n",
       "  </tbody>\n",
       "</table>\n",
       "</div>"
      ],
      "text/plain": [
       "                   make_numi  model_numi  body_numi  transmission_numi  \\\n",
       "vin                                                                      \n",
       "2fmdk3jc4bba41556       1066        1014        703               4793   \n",
       "3fa6p0h75er208976       1066        2316       1555               4793   \n",
       "3n1ab6ap4cl698412       2270        2263       1555               4793   \n",
       "\n",
       "                   state_numi  color_numi  interior_numi  seller_numi  \\\n",
       "vin                                                                     \n",
       "2fmdk3jc4bba41556         309        1536           1536        17831   \n",
       "3fa6p0h75er208976         331        1536           1536        23070   \n",
       "3n1ab6ap4cl698412         322        1536           1536        16910   \n",
       "\n",
       "                   trim_numi  vin_sh_numi  year  condition  odometer  season  \n",
       "vin                                                                           \n",
       "2fmdk3jc4bba41556        641         1698  2011        4.2  111041.0       3  \n",
       "3fa6p0h75er208976        317         1431  2014        3.5   31034.0       1  \n",
       "3n1ab6ap4cl698412       1637         1715  2012        2.2   35619.0       3  "
      ]
     },
     "metadata": {},
     "output_type": "display_data"
    }
   ],
   "source": [
    "# Разделим таблицу на признаки и целевые результаты\n",
    "features_short = df_train_short.drop(['sellingprice'], axis=1)\n",
    "target_short = df_train_short['sellingprice']\n",
    "\n",
    "display(features_short.head(3))"
   ]
  },
  {
   "cell_type": "code",
   "execution_count": 60,
   "id": "3c087ff2",
   "metadata": {
    "scrolled": true
   },
   "outputs": [
    {
     "name": "stdout",
     "output_type": "stream",
     "text": [
      "Обучающая выборка признаков - (330177, 14)\n",
      "Обучающая выборка целевого признака - (330177,)\n",
      "Тестовая выборка признаков - (110059, 14)\n",
      "Тестовая выборка целевого признака - (110059,)\n"
     ]
    }
   ],
   "source": [
    "# Разделим данные на обучающую и тестовую выборки\n",
    "\n",
    "features_train_s, features_test_s, target_train_s, target_test_s = train_test_split(features_short, target_short,\n",
    "                                                                            test_size=.25,                                                                            \n",
    "                                                                            random_state=state)\n",
    "print(f'Обучающая выборка признаков - {features_train_s.shape}')\n",
    "print(f'Обучающая выборка целевого признака - {target_train_s.shape}')\n",
    "print(f'Тестовая выборка признаков - {features_test_s.shape}')\n",
    "print(f'Тестовая выборка целевого признака - {target_test_s.shape}')"
   ]
  },
  {
   "cell_type": "code",
   "execution_count": 61,
   "id": "6f79d2f3",
   "metadata": {},
   "outputs": [
    {
     "name": "stdout",
     "output_type": "stream",
     "text": [
      "MAPE на регрессии с преобразованием категорий суммой знаяений символов - 0.6836\n"
     ]
    }
   ],
   "source": [
    "# Проверим качество метода на лмнейной регрессии\n",
    "model_regr_short = LinearRegression()\n",
    "model_regr_short.fit(features_train_s, target_train_s)\n",
    "answer_regr_short = model_regr_short.predict(features_test_s)\n",
    "mape_model_regr_short = mean_absolute_percentage_error(target_test_s, answer_regr_short)\n",
    "print(f'MAPE на регрессии с преобразованием категорий суммой знаяений символов - {mape_model_regr_short:.4f}')"
   ]
  },
  {
   "cell_type": "markdown",
   "id": "024751dd",
   "metadata": {},
   "source": [
    "**Вывод**\n",
    "\n",
    "Качество прогноза выше, поэтому остановимся на методе преобразования `word_int`"
   ]
  },
  {
   "cell_type": "code",
   "execution_count": 62,
   "id": "49a44438",
   "metadata": {
    "scrolled": true
   },
   "outputs": [
    {
     "name": "stdout",
     "output_type": "stream",
     "text": [
      "Обучающая стандартизированная выборка признаков - (330177, 14)\n",
      "Тестовая стандартизированная выборка признаков - (110059, 14)\n"
     ]
    }
   ],
   "source": [
    "# Проведем стандартизацию данных\n",
    "\n",
    "scaler = StandardScaler()\n",
    "scaler.fit(features_train_s)\n",
    "features_train_skaled = scaler.transform(features_train_s)\n",
    "features_test_skaled = scaler.transform(features_test_s)\n",
    "\n",
    "print(f'Обучающая стандартизированная выборка признаков - {features_train_skaled.shape}')\n",
    "print(f'Тестовая стандартизированная выборка признаков - {features_test_skaled.shape}')"
   ]
  },
  {
   "cell_type": "markdown",
   "id": "13e13098",
   "metadata": {},
   "source": [
    "### Модель линейной регрессии <a id='3.4'></a>"
   ]
  },
  {
   "cell_type": "markdown",
   "id": "676e8e39",
   "metadata": {},
   "source": [
    "**Модель линейной регрессии будет применена:**\n",
    "- На исходной выборке\n",
    "- На сокращенной выборке\n",
    "- На стандартизированной  выборке"
   ]
  },
  {
   "cell_type": "code",
   "execution_count": 63,
   "id": "827f7950",
   "metadata": {},
   "outputs": [
    {
     "name": "stdout",
     "output_type": "stream",
     "text": [
      "MAPE на регрессии с преобразованием категорий суммой - 0.6836\n"
     ]
    }
   ],
   "source": [
    "# Обучим модель линейной регрессии\n",
    "model_regr_short = LinearRegression()\n",
    "model_regr_short.fit(features_train_s, target_train_s)\n",
    "answer_regr_short = model_regr_short.predict(features_test_s)\n",
    "mape_model_regr_short = mean_absolute_percentage_error(target_test_s, answer_regr_short)\n",
    "print(f'MAPE на регрессии с преобразованием категорий суммой - {mape_model_regr_short:.4f}')"
   ]
  },
  {
   "cell_type": "code",
   "execution_count": 64,
   "id": "2d4ae4ba",
   "metadata": {},
   "outputs": [
    {
     "data": {
      "image/png": "[encoded data removed]",
      "text/plain": [
       "<Figure size 700x500 with 1 Axes>"
      ]
     },
     "metadata": {},
     "output_type": "display_data"
    }
   ],
   "source": [
    "# Построим таблицу признаков линейной регрессии\n",
    "coefs_reg = pd.DataFrame({\n",
    "    'params': features_train_s.columns,\n",
    "    'coef_reg': model_regr_short.coef_\n",
    "})\n",
    "\n",
    "# Постриои график признаков\n",
    "fig, ax = plt.subplots(figsize=(7,5))\n",
    "coefs_reg.plot.bar(ax=ax)\n",
    "ax.set_title(\"Важность признаков линейной регрессии\")\n",
    "ax.set_ylabel('Важность')\n",
    "ax.set_xticklabels(coefs_reg['params'])\n",
    "ax.get_legend().remove()\n",
    "fig.tight_layout()"
   ]
  },
  {
   "cell_type": "code",
   "execution_count": 65,
   "id": "b47d0ec6",
   "metadata": {},
   "outputs": [
    {
     "name": "stdout",
     "output_type": "stream",
     "text": [
      "Обучающая выборка признаков для регрессии - (330177, 3)\n",
      "Тестовая выборка признаков для регрессии - (110059, 3)\n"
     ]
    }
   ],
   "source": [
    "# Для регрессии важны только три признака. \n",
    "# Изменим feature\n",
    "features_train_s_reg = features_train_s[['year', 'condition', 'season']]\n",
    "features_test_s_reg = features_test_s[['year', 'condition', 'season']]\n",
    "\n",
    "print(f'Обучающая выборка признаков для регрессии - {features_train_s_reg.shape}')\n",
    "print(f'Тестовая выборка признаков для регрессии - {features_test_s_reg.shape}')\n"
   ]
  },
  {
   "cell_type": "code",
   "execution_count": 66,
   "id": "418dcf03",
   "metadata": {},
   "outputs": [
    {
     "name": "stdout",
     "output_type": "stream",
     "text": [
      "MAPE на регрессии на коротком датасете - 0.7004\n"
     ]
    }
   ],
   "source": [
    "# Обучим модель линейной регрессии на коротком датасете\n",
    "model_regr_short_short = LinearRegression()\n",
    "model_regr_short_short.fit(features_train_s_reg, target_train_s)\n",
    "answer_regr_short_short = model_regr_short_short.predict(features_test_s_reg)\n",
    "mape_model_regr_short_short = mean_absolute_percentage_error(target_test_s, answer_regr_short_short)\n",
    "print(f'MAPE на регрессии на коротком датасете - {mape_model_regr_short_short:.4f}')"
   ]
  },
  {
   "cell_type": "code",
   "execution_count": 67,
   "id": "4ebd646d",
   "metadata": {},
   "outputs": [
    {
     "name": "stdout",
     "output_type": "stream",
     "text": [
      "MAPE на регрессии на стандартизирванной выборке - 0.6836\n"
     ]
    }
   ],
   "source": [
    "# Обучим модель линейной регрессии на стандартизирванной выборке\n",
    "model_regr_skaled = LinearRegression()\n",
    "model_regr_skaled.fit(features_train_skaled, target_train_s)\n",
    "answer_regr_skaled = model_regr_skaled.predict(features_test_skaled)\n",
    "mape_model_regr_skaled = mean_absolute_percentage_error(target_test_s, answer_regr_skaled)\n",
    "print(f'MAPE на регрессии на стандартизирванной выборке - {mape_model_regr_skaled:.4f}')"
   ]
  },
  {
   "cell_type": "markdown",
   "id": "47a9115a",
   "metadata": {},
   "source": [
    "### Модель Решающего дерева <a id='3.5'></a>"
   ]
  },
  {
   "cell_type": "markdown",
   "id": "c9c5fe11",
   "metadata": {},
   "source": [
    "**Модель Решающего дерева будет применена:**\n",
    "- На исходной выборке\n",
    "- На сокращенной выборке\n",
    "- На стандартизированной  выборке"
   ]
  },
  {
   "cell_type": "code",
   "execution_count": 68,
   "id": "f8082a0a",
   "metadata": {},
   "outputs": [
    {
     "name": "stdout",
     "output_type": "stream",
     "text": [
      "MAPE на дереве с преобразованием категорий суммой - 0.3540\n"
     ]
    }
   ],
   "source": [
    "# Обучим модель Решающего дерева\n",
    "model_tree_short = DecisionTreeRegressor(max_depth=10, random_state=state)\n",
    "model_tree_short.fit(features_train_s, target_train_s)\n",
    "answer_model_tree_short = model_tree_short.predict(features_test_s)\n",
    "mape_model_tree_short = mean_absolute_percentage_error(target_test_s, answer_model_tree_short)\n",
    "print(f'MAPE на дереве с преобразованием категорий суммой - {mape_model_tree_short:.4f}')"
   ]
  },
  {
   "cell_type": "code",
   "execution_count": 69,
   "id": "b42f3506",
   "metadata": {},
   "outputs": [
    {
     "data": {
      "image/png": "[encoded data removed]",
      "text/plain": [
       "<Figure size 700x500 with 1 Axes>"
      ]
     },
     "metadata": {},
     "output_type": "display_data"
    }
   ],
   "source": [
    "# Построим таблицу признаков Решающего дерева\n",
    "coefs_tree = pd.DataFrame({\n",
    "    'params': features_train_s.columns,\n",
    "    'coef_tree': model_tree_short.feature_importances_\n",
    "})\n",
    "\n",
    "# Постриои график признаков\n",
    "fig, ax = plt.subplots(figsize=(7,5))\n",
    "coefs_tree.plot.bar(ax=ax)\n",
    "ax.set_title(\"Важность признаков Решающего дерева\")\n",
    "ax.set_ylabel('Важность')\n",
    "ax.set_xticklabels(coefs_tree['params'])\n",
    "ax.get_legend().remove()\n",
    "fig.tight_layout()"
   ]
  },
  {
   "cell_type": "code",
   "execution_count": 70,
   "id": "5d14e50c",
   "metadata": {},
   "outputs": [
    {
     "name": "stdout",
     "output_type": "stream",
     "text": [
      "Обучающая выборка признаков для Решающего дерева - (330177, 7)\n",
      "Тестовая выборка признаков для Решающего дерева - (110059, 7)\n"
     ]
    }
   ],
   "source": [
    "# Для Решающего дерева важны семь признаков.\n",
    "# Изменим feature\n",
    "\n",
    "features_train_s_tr = features_train_s[['make_numi', 'model_numi', 'body_numi', 'trim_numi', 'year', 'condition', 'odometer']]\n",
    "features_test_s_tr = features_test_s[['make_numi', 'model_numi', 'body_numi', 'trim_numi', 'year', 'condition', 'odometer']]\n",
    "\n",
    "print(f'Обучающая выборка признаков для Решающего дерева - {features_train_s_tr.shape}')\n",
    "print(f'Тестовая выборка признаков для Решающего дерева - {features_test_s_tr.shape}')\n"
   ]
  },
  {
   "cell_type": "code",
   "execution_count": 71,
   "id": "47b1a38e",
   "metadata": {},
   "outputs": [
    {
     "name": "stdout",
     "output_type": "stream",
     "text": [
      "MAPE на дереве на коротком датасете - 0.3534\n"
     ]
    }
   ],
   "source": [
    "# Обучим модель Решающего дерева на короткот датасете\n",
    "model_tree_short_short = DecisionTreeRegressor(max_depth=10, random_state=state)\n",
    "model_tree_short_short.fit(features_train_s_tr, target_train_s)\n",
    "answer_model_tree_short_short = model_tree_short_short.predict(features_test_s_tr)\n",
    "mape_model_tree_short_short = mean_absolute_percentage_error(target_test_s, answer_model_tree_short_short)\n",
    "print(f'MAPE на дереве на коротком датасете - {mape_model_tree_short_short:.4f}')"
   ]
  },
  {
   "cell_type": "code",
   "execution_count": 72,
   "id": "dfa93f3a",
   "metadata": {},
   "outputs": [
    {
     "name": "stdout",
     "output_type": "stream",
     "text": [
      "MAPE на дереве на стандартизирванной выборке - 0.3539\n"
     ]
    }
   ],
   "source": [
    "# Обучим модель Решающего дерева на стандартизирванной выборке\n",
    "model_tree_skaled = DecisionTreeRegressor(max_depth=10, random_state=state)\n",
    "model_tree_skaled.fit(features_train_skaled, target_train_s)\n",
    "answer_model_tree_skaled = model_tree_skaled.predict(features_test_skaled)\n",
    "mape_model_tree_skaled = mean_absolute_percentage_error(target_test_s, answer_model_tree_skaled)\n",
    "print(f'MAPE на дереве на стандартизирванной выборке - {mape_model_tree_skaled:.4f}')"
   ]
  },
  {
   "cell_type": "markdown",
   "id": "5737b1f6",
   "metadata": {},
   "source": [
    "### Методы улучшения качества моделей <a id='3.6'></a>"
   ]
  },
  {
   "cell_type": "markdown",
   "id": "2674910e",
   "metadata": {},
   "source": [
    "**Улучшение качества моделей:**\n",
    "- с использованием кросс-валидации\n",
    "- с подбором параметра Решающего дерева методом GridSearchCV\n",
    "- с подбором числа деревьев Случайного леса \n",
    "- с использованием Фреймворка LightGBM\n",
    "- с использованием Фреймворка CatBoost"
   ]
  },
  {
   "cell_type": "code",
   "execution_count": 73,
   "id": "538facee",
   "metadata": {},
   "outputs": [
    {
     "name": "stdout",
     "output_type": "stream",
     "text": [
      "На модели линейной регрессии с использованием кросс-валидации средний уровень MAPE = 0.7254\n",
      "CPU times: total: 2.5 s\n",
      "Wall time: 2.22 s\n"
     ]
    }
   ],
   "source": [
    "%%time\n",
    "# Обучим модель методом линейной регрессии с использованием кросс-валидация (3 части)\n",
    "\n",
    "model_line_regr_cross_valid = LinearRegression()\n",
    "scores = cross_val_score(model_line_regr_cross_valid, features_train_s, target_train_s, \n",
    "                         cv=3, scoring='neg_mean_absolute_percentage_error')\n",
    "mape_model_line_regr_cross_valid = -scores.mean()\n",
    "\n",
    "print(f'На модели линейной регрессии с использованием кросс-валидации средний уровень MAPE = {mape_model_line_regr_cross_valid:.4f}')"
   ]
  },
  {
   "cell_type": "code",
   "execution_count": 74,
   "id": "65132efa",
   "metadata": {},
   "outputs": [
    {
     "name": "stdout",
     "output_type": "stream",
     "text": [
      "Лучший параметр глубины - 20\n",
      "Точность модели Решающего дерева методом GridSearchCV по MAPE: 0.2313\n",
      "CPU times: total: 1min 3s\n",
      "Wall time: 1min 3s\n"
     ]
    }
   ],
   "source": [
    "%%time\n",
    "# Подберем лучшие параметры Решающего дерева методом GridSearchCV\n",
    "clf = DecisionTreeRegressor(random_state=state)\n",
    "parametrs = {'max_depth': range(10, 26, 5)}\n",
    "\n",
    "model_tree_regr = GridSearchCV(clf, parametrs, cv=3)\n",
    "model_tree_regr.fit(features_train_s, target_train_s)\n",
    "best_depth_tree_regr = model_tree_regr.best_params_.get('max_depth')\n",
    "print(f'Лучший параметр глубины - {best_depth_tree_regr}')\n",
    "\n",
    "# Обучим и проверим модель с подобранными параметрами\n",
    "model_tree = DecisionTreeRegressor(max_depth=best_depth_tree_regr, random_state=state)\n",
    "model_tree.fit(features_train_s, target_train_s)\n",
    "\n",
    "answer_model_tree = model_tree.predict(features_test_s)\n",
    "mape_model_tree = mean_absolute_percentage_error(target_test_s, answer_model_tree)\n",
    "\n",
    "print(f\"Точность модели Решающего дерева методом GridSearchCV по MAPE: {mape_model_tree:.4f}\")"
   ]
  },
  {
   "cell_type": "code",
   "execution_count": 75,
   "id": "aab08de9",
   "metadata": {},
   "outputs": [
    {
     "name": "stdout",
     "output_type": "stream",
     "text": [
      "Лучший параметр числа деревьев - 20\n",
      "ТТочность модели Случайного леса методом GridSearchCV по MAPE: 0.1968\n",
      "CPU times: total: 10min 25s\n",
      "Wall time: 10min 44s\n"
     ]
    }
   ],
   "source": [
    "%%time\n",
    "# Подберем лучшие параметры Решающего дерева меняя число деревьев методом GridSearchCV\n",
    "clf = RandomForestRegressor(random_state=state, max_depth=best_depth_tree_regr)\n",
    "parametrs = {'n_estimators': range(10, 21, 10)}\n",
    "\n",
    "model_forest = GridSearchCV(clf, parametrs, cv=3)\n",
    "model_forest.fit(features_train_s, target_train_s)\n",
    "best_est_forest = model_forest.best_params_.get('n_estimators')\n",
    "print(f'Лучший параметр числа деревьев - {best_est_forest}')\n",
    "\n",
    "# Обучим и проверим модель с подобранными параметрами\n",
    "model_forest = RandomForestRegressor(max_depth=best_depth_tree_regr, \n",
    "                                     n_estimators=best_est_forest,\n",
    "                                     random_state=state)\n",
    "model_forest.fit(features_train_s, target_train_s)\n",
    "\n",
    "answer_model_forest = model_forest.predict(features_test_s)\n",
    "mape_model_forest = mean_absolute_percentage_error(target_test_s, answer_model_forest)\n",
    "\n",
    "print(f\"ТТочность модели Случайного леса методом GridSearchCV по MAPE: {mape_model_forest:.4f}\")"
   ]
  },
  {
   "cell_type": "code",
   "execution_count": 76,
   "id": "3387ec23",
   "metadata": {
    "scrolled": true
   },
   "outputs": [
    {
     "name": "stdout",
     "output_type": "stream",
     "text": [
      "[1]\tvalid_0's mape: 1.68317\tvalid_0's l2: 8.50218e+07\n",
      "[1000]\tvalid_0's mape: 0.179118\tvalid_0's l2: 4.94762e+06\n",
      "[2000]\tvalid_0's mape: 0.166674\tvalid_0's l2: 4.40548e+06\n",
      "[3000]\tvalid_0's mape: 0.161821\tvalid_0's l2: 4.19497e+06\n",
      "Точность модели LightGBM по MAPE: 0.1618\n"
     ]
    }
   ],
   "source": [
    "# Создадим модель с использованием Фреймворка LightGBM\n",
    "lgb_model = lgb.LGBMModel(objective=\"regression\", n_estimators=3000)\n",
    "lgb_model.fit(features_train_s, target_train_s, eval_set=[(features_test_s, target_test_s),], eval_metric=\"mape\")\n",
    "\n",
    "answerr_lgb_model = lgb_model.predict(features_test_s)\n",
    "mape_lgb_model = mean_absolute_percentage_error(target_test_s, answerr_lgb_model)\n",
    "\n",
    "print(f\"Точность модели LightGBM по MAPE: {mape_lgb_model:.4f}\")\n"
   ]
  },
  {
   "cell_type": "code",
   "execution_count": 77,
   "id": "b4d69bbc",
   "metadata": {
    "scrolled": true
   },
   "outputs": [
    {
     "name": "stdout",
     "output_type": "stream",
     "text": [
      "[1]\tvalid_0's mape: 1.68316\tvalid_0's l2: 8.50121e+07\n",
      "[1000]\tvalid_0's mape: 0.178277\tvalid_0's l2: 4.90121e+06\n",
      "[2000]\tvalid_0's mape: 0.166846\tvalid_0's l2: 4.39035e+06\n",
      "[3000]\tvalid_0's mape: 0.162205\tvalid_0's l2: 4.19563e+06\n",
      "[4000]\tvalid_0's mape: 0.159398\tvalid_0's l2: 4.09222e+06\n",
      "[5000]\tvalid_0's mape: 0.158003\tvalid_0's l2: 4.03107e+06\n",
      "[6000]\tvalid_0's mape: 0.156546\tvalid_0's l2: 3.98317e+06\n",
      "[7000]\tvalid_0's mape: 0.155747\tvalid_0's l2: 3.95475e+06\n",
      "[8000]\tvalid_0's mape: 0.155106\tvalid_0's l2: 3.93465e+06\n",
      "[9000]\tvalid_0's mape: 0.154666\tvalid_0's l2: 3.91994e+06\n",
      "[10000]\tvalid_0's mape: 0.154403\tvalid_0's l2: 3.9082e+06\n",
      "Точность модели LightGBM по MAPE: 0.1544\n"
     ]
    }
   ],
   "source": [
    "# Создадим модель с использованием Фреймворка LightGBM на стандартизированных данных\n",
    "lgb_model_skaled = lgb.LGBMModel(objective=\"regression\", n_estimators=10000)\n",
    "lgb_model_skaled.fit(features_train_skaled, target_train_s, eval_set=[(features_test_skaled, target_test_s),], eval_metric=\"mape\")\n",
    "\n",
    "answerr_lgb_model_skaled = lgb_model_skaled.predict(features_test_skaled)\n",
    "mape_lgb_model_skaled = mean_absolute_percentage_error(target_test_s, answerr_lgb_model_skaled)\n",
    "\n",
    "print(f\"Точность модели LightGBM по MAPE: {mape_lgb_model_skaled:.4f}\")"
   ]
  },
  {
   "cell_type": "code",
   "execution_count": 78,
   "id": "436a60a1",
   "metadata": {},
   "outputs": [
    {
     "name": "stdout",
     "output_type": "stream",
     "text": [
      "0:\tlearn: 1.6349494\ttotal: 801ms\tremaining: 13m 20s\n",
      "100:\tlearn: 0.3496287\ttotal: 37.2s\tremaining: 5m 30s\n",
      "200:\tlearn: 0.2686976\ttotal: 1m 9s\tremaining: 4m 37s\n",
      "300:\tlearn: 0.2481704\ttotal: 1m 41s\tremaining: 3m 55s\n",
      "400:\tlearn: 0.2364655\ttotal: 2m 12s\tremaining: 3m 18s\n",
      "500:\tlearn: 0.2261355\ttotal: 2m 44s\tremaining: 2m 43s\n",
      "600:\tlearn: 0.2183587\ttotal: 3m 16s\tremaining: 2m 10s\n",
      "700:\tlearn: 0.2124048\ttotal: 3m 48s\tremaining: 1m 37s\n",
      "800:\tlearn: 0.2063526\ttotal: 4m 25s\tremaining: 1m 5s\n",
      "900:\tlearn: 0.2010962\ttotal: 4m 57s\tremaining: 32.7s\n",
      "999:\tlearn: 0.1970070\ttotal: 5m 29s\tremaining: 0us\n",
      "[ 5859.13402326  4497.98070075 11883.81326507 ... 20412.65346707\n",
      "  9267.00053702  7210.69767412]\n",
      "\n",
      "MAPE на CatBoost - 0.1801\n",
      "CPU times: total: 8min 54s\n",
      "Wall time: 5min 33s\n"
     ]
    }
   ],
   "source": [
    "%%time\n",
    "# Создадим модель с использованием Фреймворка CatBoost\n",
    "\n",
    "# инициализируем метод Pool\n",
    "train_pool = Pool(features_train_s, target_train_s)\n",
    "test_pool = Pool(features_test_s) \n",
    "\n",
    "# зададим параметры модели\n",
    "cb_model = CatBoostRegressor(iterations=1000, \n",
    "                             depth=10,\n",
    "                             loss_function='MAE',\n",
    "                             eval_metric='MAPE')\n",
    "# обучим модель\n",
    "cb_model.fit(train_pool)\n",
    "\n",
    "# провеоим точность модели\n",
    "cb_preds = cb_model.predict(test_pool)\n",
    "print(cb_preds)\n",
    "print()\n",
    "mape_cb_model = mean_absolute_percentage_error(target_test_s, cb_preds)\n",
    "print(f'MAPE на CatBoost - {mape_cb_model:.4f}')"
   ]
  },
  {
   "cell_type": "markdown",
   "id": "484dd673",
   "metadata": {},
   "source": [
    "### Общие выводы <a id='3.7'></a>"
   ]
  },
  {
   "cell_type": "markdown",
   "id": "87724ca8",
   "metadata": {},
   "source": [
    "Для построения прогноза было использовано два метода подготовки категориальных данных и три метода их обработки.\n",
    "\n",
    "Первый метод подготовки (`word_str`) при прогнозе методом линейной регрессии показал низкую точность прогноза, в результате чего был отвергнут. Все дальнейшие прогнозы выстраивались на данных, подготовленных методом `word_int`.\n",
    "\n",
    "В рамках обработки данных, была применена стандартизация и сокращение числа признаков. `OneHotEncoder` не применялся в связи с чрезмерным разряжением датасета.\n",
    "\n",
    "Далее было произведено улучшение качества моделей:\n",
    "- с использованием `кросс-валидации`\n",
    "- с подбором параметра Решающего дерева методом `GridSearchCV`\n",
    "- с подбором числа деревьев `Случайного леса` \n",
    "- с использованием Фреймворка `LightGBM`\n",
    "- с использованием Фреймворка `CatBoost`\n",
    "\n",
    "`Кросс-валидация` не обеспечила роста качества прогноза на методе линейной регрессии. Метод `GridSearchCV` позволил существенно повысить качество прогноза на `Решающем дереве`. Применив лучшие параметры модели `Решающего дерева` построена модель `Случайного леса`, для которой было подобрано наиболее эффективное число деревьев.\n",
    "\n",
    "Для модели с использованием Фреймворка `ightGBM` были применены как стандартизированный, так о не стандартизированный датасеты, подобрано эффективное количество итераций. Также был проверен прогноз на моделе с использованием Фреймворка `CatBoost`.\n",
    "\n",
    "Наилучший результата показала модель с использованием Фреймворка `ightGBM` на стандартизированном датасете с числом итерации `10 000`со значение `MAPE` **15.30**. На контрольном датасете эта модель показала жначение `MAPE` **15.08**"
   ]
  },
  {
   "cell_type": "markdown",
   "id": "e6ff15f9",
   "metadata": {},
   "source": [
    "## Подготовка контрольного датасета <a id='4'></a>"
   ]
  },
  {
   "cell_type": "markdown",
   "id": "35e0b29c",
   "metadata": {},
   "source": [
    "**Порядок подготовки датасета:**\n",
    "\n",
    "- Преобразовать дату продажи в формат datetime\n",
    "- Добавить столбец с временем года\n",
    "- Преобразовать параметр condition в тип число\n",
    "- Добавить уникальный класс модели по vin \n",
    "- Заполнить пропуски\n",
    "- Категории привести в нижний регистр\n",
    "- Параметр vin преобразовать в индекс\n",
    "- Стандартизировать данные\n",
    "- Сформировать прогноз с применением выбранной модели\n",
    "- Создать и записать датасет ответа"
   ]
  },
  {
   "cell_type": "code",
   "execution_count": 79,
   "id": "5da6ccfb",
   "metadata": {
    "scrolled": true
   },
   "outputs": [
    {
     "data": {
      "text/html": [
       "<div>\n",
       "<style scoped>\n",
       "    .dataframe tbody tr th:only-of-type {\n",
       "        vertical-align: middle;\n",
       "    }\n",
       "\n",
       "    .dataframe tbody tr th {\n",
       "        vertical-align: top;\n",
       "    }\n",
       "\n",
       "    .dataframe thead th {\n",
       "        text-align: right;\n",
       "    }\n",
       "</style>\n",
       "<table border=\"1\" class=\"dataframe\">\n",
       "  <thead>\n",
       "    <tr style=\"text-align: right;\">\n",
       "      <th></th>\n",
       "      <th>year</th>\n",
       "      <th>make</th>\n",
       "      <th>model</th>\n",
       "      <th>trim</th>\n",
       "      <th>body</th>\n",
       "      <th>transmission</th>\n",
       "      <th>vin</th>\n",
       "      <th>state</th>\n",
       "      <th>condition</th>\n",
       "      <th>odometer</th>\n",
       "      <th>color</th>\n",
       "      <th>interior</th>\n",
       "      <th>seller</th>\n",
       "      <th>saledate</th>\n",
       "    </tr>\n",
       "  </thead>\n",
       "  <tbody>\n",
       "    <tr>\n",
       "      <th>0</th>\n",
       "      <td>2005</td>\n",
       "      <td>Cadillac</td>\n",
       "      <td>CTS</td>\n",
       "      <td>Base</td>\n",
       "      <td>Sedan</td>\n",
       "      <td>automatic</td>\n",
       "      <td>1g6dp567450124779</td>\n",
       "      <td>ca</td>\n",
       "      <td>2.7</td>\n",
       "      <td>116970.0</td>\n",
       "      <td>silver</td>\n",
       "      <td>black</td>\n",
       "      <td>lexus of stevens creek</td>\n",
       "      <td>Wed Jan 14 2015 04:30:00 GMT-0800 (PST)</td>\n",
       "    </tr>\n",
       "    <tr>\n",
       "      <th>1</th>\n",
       "      <td>2014</td>\n",
       "      <td>GMC</td>\n",
       "      <td>Savana Cargo</td>\n",
       "      <td>2500</td>\n",
       "      <td>Van</td>\n",
       "      <td>NaN</td>\n",
       "      <td>1gtw7fca7e1902207</td>\n",
       "      <td>pa</td>\n",
       "      <td>4.4</td>\n",
       "      <td>6286.0</td>\n",
       "      <td>white</td>\n",
       "      <td>gray</td>\n",
       "      <td>u-haul</td>\n",
       "      <td>Fri Feb 27 2015 01:00:00 GMT-0800 (PST)</td>\n",
       "    </tr>\n",
       "    <tr>\n",
       "      <th>2</th>\n",
       "      <td>2013</td>\n",
       "      <td>Nissan</td>\n",
       "      <td>Murano</td>\n",
       "      <td>S</td>\n",
       "      <td>SUV</td>\n",
       "      <td>automatic</td>\n",
       "      <td>jn8az1mw6dw303497</td>\n",
       "      <td>oh</td>\n",
       "      <td>4.6</td>\n",
       "      <td>11831.0</td>\n",
       "      <td>gray</td>\n",
       "      <td>black</td>\n",
       "      <td>nissan-infiniti lt</td>\n",
       "      <td>Tue Feb 24 2015 01:30:00 GMT-0800 (PST)</td>\n",
       "    </tr>\n",
       "  </tbody>\n",
       "</table>\n",
       "</div>"
      ],
      "text/plain": [
       "   year      make         model  trim   body transmission                vin  \\\n",
       "0  2005  Cadillac           CTS  Base  Sedan    automatic  1g6dp567450124779   \n",
       "1  2014       GMC  Savana Cargo  2500    Van          NaN  1gtw7fca7e1902207   \n",
       "2  2013    Nissan        Murano     S    SUV    automatic  jn8az1mw6dw303497   \n",
       "\n",
       "  state  condition  odometer   color interior                  seller  \\\n",
       "0    ca        2.7  116970.0  silver    black  lexus of stevens creek   \n",
       "1    pa        4.4    6286.0   white     gray                  u-haul   \n",
       "2    oh        4.6   11831.0    gray    black      nissan-infiniti lt   \n",
       "\n",
       "                                  saledate  \n",
       "0  Wed Jan 14 2015 04:30:00 GMT-0800 (PST)  \n",
       "1  Fri Feb 27 2015 01:00:00 GMT-0800 (PST)  \n",
       "2  Tue Feb 24 2015 01:30:00 GMT-0800 (PST)  "
      ]
     },
     "execution_count": 79,
     "metadata": {},
     "output_type": "execute_result"
    }
   ],
   "source": [
    "df_test.head(3)"
   ]
  },
  {
   "cell_type": "code",
   "execution_count": 80,
   "id": "fba1be55",
   "metadata": {},
   "outputs": [],
   "source": [
    "# Преобразуем дату продажи в формат datetime\n",
    "df_test['saledate'] = df_test['saledate'].apply(lambda x: ' '.join(x.split()[:-2]))\n",
    "df_test['saledate'] = pd.to_datetime(df_test['saledate'], format='%a %b %d %Y %H:%M:%S')\n",
    "\n",
    "# создадим столбцы месяц, время года\n",
    "df_test['month'] = df_test['saledate'].dt.month\n",
    "df_test['season'] = df_test['month'].apply(season)\n",
    "\n",
    "# Преобразуем condition в тип float\n",
    "df_test['condition'] = df_test['condition'].astype('float')\n",
    "\n",
    "# Добавим уникальный класс модели по vin\n",
    "df_test['vin_sh'] = df_test['vin'].apply(lambda x: x[3:9])"
   ]
  },
  {
   "cell_type": "code",
   "execution_count": 81,
   "id": "bb4a369c",
   "metadata": {},
   "outputs": [
    {
     "data": {
      "text/html": [
       "<div>\n",
       "<style scoped>\n",
       "    .dataframe tbody tr th:only-of-type {\n",
       "        vertical-align: middle;\n",
       "    }\n",
       "\n",
       "    .dataframe tbody tr th {\n",
       "        vertical-align: top;\n",
       "    }\n",
       "\n",
       "    .dataframe thead th {\n",
       "        text-align: right;\n",
       "    }\n",
       "</style>\n",
       "<table border=\"1\" class=\"dataframe\">\n",
       "  <thead>\n",
       "    <tr style=\"text-align: right;\">\n",
       "      <th></th>\n",
       "      <th>year</th>\n",
       "      <th>make</th>\n",
       "      <th>model</th>\n",
       "      <th>trim</th>\n",
       "      <th>body</th>\n",
       "      <th>transmission</th>\n",
       "      <th>vin</th>\n",
       "      <th>state</th>\n",
       "      <th>condition</th>\n",
       "      <th>odometer</th>\n",
       "      <th>color</th>\n",
       "      <th>interior</th>\n",
       "      <th>seller</th>\n",
       "      <th>saledate</th>\n",
       "      <th>month</th>\n",
       "      <th>season</th>\n",
       "      <th>vin_sh</th>\n",
       "    </tr>\n",
       "  </thead>\n",
       "  <tbody>\n",
       "    <tr>\n",
       "      <th>0</th>\n",
       "      <td>2005</td>\n",
       "      <td>Cadillac</td>\n",
       "      <td>CTS</td>\n",
       "      <td>Base</td>\n",
       "      <td>Sedan</td>\n",
       "      <td>automatic</td>\n",
       "      <td>1g6dp567450124779</td>\n",
       "      <td>ca</td>\n",
       "      <td>2.7</td>\n",
       "      <td>116970.0</td>\n",
       "      <td>silver</td>\n",
       "      <td>black</td>\n",
       "      <td>lexus of stevens creek</td>\n",
       "      <td>2015-01-14 04:30:00</td>\n",
       "      <td>1</td>\n",
       "      <td>1</td>\n",
       "      <td>dp5674</td>\n",
       "    </tr>\n",
       "    <tr>\n",
       "      <th>1</th>\n",
       "      <td>2014</td>\n",
       "      <td>GMC</td>\n",
       "      <td>Savana Cargo</td>\n",
       "      <td>2500</td>\n",
       "      <td>Van</td>\n",
       "      <td>NaN</td>\n",
       "      <td>1gtw7fca7e1902207</td>\n",
       "      <td>pa</td>\n",
       "      <td>4.4</td>\n",
       "      <td>6286.0</td>\n",
       "      <td>white</td>\n",
       "      <td>gray</td>\n",
       "      <td>u-haul</td>\n",
       "      <td>2015-02-27 01:00:00</td>\n",
       "      <td>2</td>\n",
       "      <td>1</td>\n",
       "      <td>w7fca7</td>\n",
       "    </tr>\n",
       "    <tr>\n",
       "      <th>2</th>\n",
       "      <td>2013</td>\n",
       "      <td>Nissan</td>\n",
       "      <td>Murano</td>\n",
       "      <td>S</td>\n",
       "      <td>SUV</td>\n",
       "      <td>automatic</td>\n",
       "      <td>jn8az1mw6dw303497</td>\n",
       "      <td>oh</td>\n",
       "      <td>4.6</td>\n",
       "      <td>11831.0</td>\n",
       "      <td>gray</td>\n",
       "      <td>black</td>\n",
       "      <td>nissan-infiniti lt</td>\n",
       "      <td>2015-02-24 01:30:00</td>\n",
       "      <td>2</td>\n",
       "      <td>1</td>\n",
       "      <td>az1mw6</td>\n",
       "    </tr>\n",
       "  </tbody>\n",
       "</table>\n",
       "</div>"
      ],
      "text/plain": [
       "   year      make         model  trim   body transmission                vin  \\\n",
       "0  2005  Cadillac           CTS  Base  Sedan    automatic  1g6dp567450124779   \n",
       "1  2014       GMC  Savana Cargo  2500    Van          NaN  1gtw7fca7e1902207   \n",
       "2  2013    Nissan        Murano     S    SUV    automatic  jn8az1mw6dw303497   \n",
       "\n",
       "  state  condition  odometer   color interior                  seller  \\\n",
       "0    ca        2.7  116970.0  silver    black  lexus of stevens creek   \n",
       "1    pa        4.4    6286.0   white     gray                  u-haul   \n",
       "2    oh        4.6   11831.0    gray    black      nissan-infiniti lt   \n",
       "\n",
       "             saledate  month  season  vin_sh  \n",
       "0 2015-01-14 04:30:00      1       1  dp5674  \n",
       "1 2015-02-27 01:00:00      2       1  w7fca7  \n",
       "2 2015-02-24 01:30:00      2       1  az1mw6  "
      ]
     },
     "execution_count": 81,
     "metadata": {},
     "output_type": "execute_result"
    }
   ],
   "source": [
    "df_test.head(3)"
   ]
  },
  {
   "cell_type": "code",
   "execution_count": 82,
   "id": "15d73fe0",
   "metadata": {},
   "outputs": [],
   "source": [
    "# Удалим столбцы month, saledate из признаков\n",
    "df_test.drop(['month', 'saledate'], axis=1, inplace=True)"
   ]
  },
  {
   "cell_type": "code",
   "execution_count": 83,
   "id": "87f500bb",
   "metadata": {},
   "outputs": [],
   "source": [
    "# Заполнение пропусков\n",
    "# Для числовых признаков - 0\n",
    "# Для категориальных признаков - no_answ\n",
    "df_test['odometer'] = df_test['odometer'].fillna(0)\n",
    "df_test['condition'] = df_test['condition'].fillna(0)\n",
    "df_test = df_test.fillna('no_answ')"
   ]
  },
  {
   "cell_type": "code",
   "execution_count": 84,
   "id": "e696dbee",
   "metadata": {},
   "outputs": [],
   "source": [
    "# Все категориальные признаки приведем в нижний регистр\n",
    "for i in list_clusters:\n",
    "    df_test[i] = df_test[i].apply(lambda x: x.lower())"
   ]
  },
  {
   "cell_type": "code",
   "execution_count": 85,
   "id": "a8bb349b",
   "metadata": {},
   "outputs": [],
   "source": [
    "# Столбец vin сделаем индексом\n",
    "df_test = df_test.set_index('vin')"
   ]
  },
  {
   "cell_type": "code",
   "execution_count": 86,
   "id": "b7c59375",
   "metadata": {},
   "outputs": [
    {
     "data": {
      "text/html": [
       "<div>\n",
       "<style scoped>\n",
       "    .dataframe tbody tr th:only-of-type {\n",
       "        vertical-align: middle;\n",
       "    }\n",
       "\n",
       "    .dataframe tbody tr th {\n",
       "        vertical-align: top;\n",
       "    }\n",
       "\n",
       "    .dataframe thead th {\n",
       "        text-align: right;\n",
       "    }\n",
       "</style>\n",
       "<table border=\"1\" class=\"dataframe\">\n",
       "  <thead>\n",
       "    <tr style=\"text-align: right;\">\n",
       "      <th></th>\n",
       "      <th>year</th>\n",
       "      <th>make</th>\n",
       "      <th>model</th>\n",
       "      <th>trim</th>\n",
       "      <th>body</th>\n",
       "      <th>transmission</th>\n",
       "      <th>state</th>\n",
       "      <th>condition</th>\n",
       "      <th>odometer</th>\n",
       "      <th>color</th>\n",
       "      <th>interior</th>\n",
       "      <th>seller</th>\n",
       "      <th>season</th>\n",
       "      <th>vin_sh</th>\n",
       "    </tr>\n",
       "    <tr>\n",
       "      <th>vin</th>\n",
       "      <th></th>\n",
       "      <th></th>\n",
       "      <th></th>\n",
       "      <th></th>\n",
       "      <th></th>\n",
       "      <th></th>\n",
       "      <th></th>\n",
       "      <th></th>\n",
       "      <th></th>\n",
       "      <th></th>\n",
       "      <th></th>\n",
       "      <th></th>\n",
       "      <th></th>\n",
       "      <th></th>\n",
       "    </tr>\n",
       "  </thead>\n",
       "  <tbody>\n",
       "    <tr>\n",
       "      <th>1g6dp567450124779</th>\n",
       "      <td>2005</td>\n",
       "      <td>cadillac</td>\n",
       "      <td>cts</td>\n",
       "      <td>base</td>\n",
       "      <td>sedan</td>\n",
       "      <td>automatic</td>\n",
       "      <td>ca</td>\n",
       "      <td>2.7</td>\n",
       "      <td>116970.0</td>\n",
       "      <td>silver</td>\n",
       "      <td>black</td>\n",
       "      <td>lexus of stevens creek</td>\n",
       "      <td>1</td>\n",
       "      <td>dp5674</td>\n",
       "    </tr>\n",
       "    <tr>\n",
       "      <th>1gtw7fca7e1902207</th>\n",
       "      <td>2014</td>\n",
       "      <td>gmc</td>\n",
       "      <td>savana cargo</td>\n",
       "      <td>2500</td>\n",
       "      <td>van</td>\n",
       "      <td>no_answ</td>\n",
       "      <td>pa</td>\n",
       "      <td>4.4</td>\n",
       "      <td>6286.0</td>\n",
       "      <td>white</td>\n",
       "      <td>gray</td>\n",
       "      <td>u-haul</td>\n",
       "      <td>1</td>\n",
       "      <td>w7fca7</td>\n",
       "    </tr>\n",
       "    <tr>\n",
       "      <th>jn8az1mw6dw303497</th>\n",
       "      <td>2013</td>\n",
       "      <td>nissan</td>\n",
       "      <td>murano</td>\n",
       "      <td>s</td>\n",
       "      <td>suv</td>\n",
       "      <td>automatic</td>\n",
       "      <td>oh</td>\n",
       "      <td>4.6</td>\n",
       "      <td>11831.0</td>\n",
       "      <td>gray</td>\n",
       "      <td>black</td>\n",
       "      <td>nissan-infiniti lt</td>\n",
       "      <td>1</td>\n",
       "      <td>az1mw6</td>\n",
       "    </tr>\n",
       "  </tbody>\n",
       "</table>\n",
       "</div>"
      ],
      "text/plain": [
       "                   year      make         model  trim   body transmission  \\\n",
       "vin                                                                         \n",
       "1g6dp567450124779  2005  cadillac           cts  base  sedan    automatic   \n",
       "1gtw7fca7e1902207  2014       gmc  savana cargo  2500    van      no_answ   \n",
       "jn8az1mw6dw303497  2013    nissan        murano     s    suv    automatic   \n",
       "\n",
       "                  state  condition  odometer   color interior  \\\n",
       "vin                                                             \n",
       "1g6dp567450124779    ca        2.7  116970.0  silver    black   \n",
       "1gtw7fca7e1902207    pa        4.4    6286.0   white     gray   \n",
       "jn8az1mw6dw303497    oh        4.6   11831.0    gray    black   \n",
       "\n",
       "                                   seller  season  vin_sh  \n",
       "vin                                                        \n",
       "1g6dp567450124779  lexus of stevens creek       1  dp5674  \n",
       "1gtw7fca7e1902207                  u-haul       1  w7fca7  \n",
       "jn8az1mw6dw303497      nissan-infiniti lt       1  az1mw6  "
      ]
     },
     "execution_count": 86,
     "metadata": {},
     "output_type": "execute_result"
    }
   ],
   "source": [
    "df_test.head(3)"
   ]
  },
  {
   "cell_type": "code",
   "execution_count": 87,
   "id": "aac8e264",
   "metadata": {},
   "outputs": [],
   "source": [
    "# Преобразуем make, model, body, transmission,  state, color, interior в число\n",
    "# Метод word_int\n",
    "\n",
    "list_num_s = ['year', 'condition', 'odometer', 'season']\n",
    "\n",
    "df_test_short = pd.DataFrame()\n",
    "\n",
    "for i in range(len(list_in)):\n",
    "    df_test_short[list_out_i[i]] = df_test[list_in[i]].apply(word_int)\n",
    "\n",
    "for i in range(len(list_num_s)):\n",
    "    df_test_short[list_num_s[i]] = df_test[list_num_s[i]]\n"
   ]
  },
  {
   "cell_type": "code",
   "execution_count": 88,
   "id": "740cbe8e",
   "metadata": {},
   "outputs": [],
   "source": [
    "# Стандартизируем данные\n",
    "features_valid_skaled = scaler.transform(df_test_short)"
   ]
  },
  {
   "cell_type": "code",
   "execution_count": 89,
   "id": "1b3467bd",
   "metadata": {
    "scrolled": true
   },
   "outputs": [
    {
     "data": {
      "text/html": [
       "<div>\n",
       "<style scoped>\n",
       "    .dataframe tbody tr th:only-of-type {\n",
       "        vertical-align: middle;\n",
       "    }\n",
       "\n",
       "    .dataframe tbody tr th {\n",
       "        vertical-align: top;\n",
       "    }\n",
       "\n",
       "    .dataframe thead th {\n",
       "        text-align: right;\n",
       "    }\n",
       "</style>\n",
       "<table border=\"1\" class=\"dataframe\">\n",
       "  <thead>\n",
       "    <tr style=\"text-align: right;\">\n",
       "      <th></th>\n",
       "      <th>make_numi</th>\n",
       "      <th>model_numi</th>\n",
       "      <th>body_numi</th>\n",
       "      <th>transmission_numi</th>\n",
       "      <th>state_numi</th>\n",
       "      <th>color_numi</th>\n",
       "      <th>interior_numi</th>\n",
       "      <th>seller_numi</th>\n",
       "      <th>trim_numi</th>\n",
       "      <th>vin_sh_numi</th>\n",
       "      <th>year</th>\n",
       "      <th>condition</th>\n",
       "      <th>odometer</th>\n",
       "      <th>season</th>\n",
       "    </tr>\n",
       "    <tr>\n",
       "      <th>vin</th>\n",
       "      <th></th>\n",
       "      <th></th>\n",
       "      <th></th>\n",
       "      <th></th>\n",
       "      <th></th>\n",
       "      <th></th>\n",
       "      <th></th>\n",
       "      <th></th>\n",
       "      <th></th>\n",
       "      <th></th>\n",
       "      <th></th>\n",
       "      <th></th>\n",
       "      <th></th>\n",
       "      <th></th>\n",
       "    </tr>\n",
       "  </thead>\n",
       "  <tbody>\n",
       "    <tr>\n",
       "      <th>1g6dp567450124779</th>\n",
       "      <td>3672</td>\n",
       "      <td>676</td>\n",
       "      <td>1555</td>\n",
       "      <td>4793</td>\n",
       "      <td>293</td>\n",
       "      <td>2310</td>\n",
       "      <td>1536</td>\n",
       "      <td>24849</td>\n",
       "      <td>1041</td>\n",
       "      <td>1286</td>\n",
       "      <td>2005</td>\n",
       "      <td>2.7</td>\n",
       "      <td>116970.0</td>\n",
       "      <td>1</td>\n",
       "    </tr>\n",
       "    <tr>\n",
       "      <th>1gtw7fca7e1902207</th>\n",
       "      <td>618</td>\n",
       "      <td>7677</td>\n",
       "      <td>642</td>\n",
       "      <td>3078</td>\n",
       "      <td>306</td>\n",
       "      <td>1611</td>\n",
       "      <td>1106</td>\n",
       "      <td>2140</td>\n",
       "      <td>492</td>\n",
       "      <td>1746</td>\n",
       "      <td>2014</td>\n",
       "      <td>4.4</td>\n",
       "      <td>6286.0</td>\n",
       "      <td>1</td>\n",
       "    </tr>\n",
       "    <tr>\n",
       "      <th>jn8az1mw6dw303497</th>\n",
       "      <td>2270</td>\n",
       "      <td>2289</td>\n",
       "      <td>703</td>\n",
       "      <td>4793</td>\n",
       "      <td>319</td>\n",
       "      <td>1106</td>\n",
       "      <td>1536</td>\n",
       "      <td>16910</td>\n",
       "      <td>115</td>\n",
       "      <td>1843</td>\n",
       "      <td>2013</td>\n",
       "      <td>4.6</td>\n",
       "      <td>11831.0</td>\n",
       "      <td>1</td>\n",
       "    </tr>\n",
       "  </tbody>\n",
       "</table>\n",
       "</div>"
      ],
      "text/plain": [
       "                   make_numi  model_numi  body_numi  transmission_numi  \\\n",
       "vin                                                                      \n",
       "1g6dp567450124779       3672         676       1555               4793   \n",
       "1gtw7fca7e1902207        618        7677        642               3078   \n",
       "jn8az1mw6dw303497       2270        2289        703               4793   \n",
       "\n",
       "                   state_numi  color_numi  interior_numi  seller_numi  \\\n",
       "vin                                                                     \n",
       "1g6dp567450124779         293        2310           1536        24849   \n",
       "1gtw7fca7e1902207         306        1611           1106         2140   \n",
       "jn8az1mw6dw303497         319        1106           1536        16910   \n",
       "\n",
       "                   trim_numi  vin_sh_numi  year  condition  odometer  season  \n",
       "vin                                                                           \n",
       "1g6dp567450124779       1041         1286  2005        2.7  116970.0       1  \n",
       "1gtw7fca7e1902207        492         1746  2014        4.4    6286.0       1  \n",
       "jn8az1mw6dw303497        115         1843  2013        4.6   11831.0       1  "
      ]
     },
     "execution_count": 89,
     "metadata": {},
     "output_type": "execute_result"
    }
   ],
   "source": [
    "df_test_short.head(3)"
   ]
  },
  {
   "cell_type": "code",
   "execution_count": 90,
   "id": "95ec9d33",
   "metadata": {},
   "outputs": [],
   "source": [
    "# Формирование столбца прогноза\n",
    "df_test_short['predict_price'] = lgb_model_skaled.predict(features_valid_skaled)"
   ]
  },
  {
   "cell_type": "code",
   "execution_count": 91,
   "id": "daa2d89b",
   "metadata": {},
   "outputs": [],
   "source": [
    "df_test_short.reset_index(inplace=True)\n",
    "df_answ = df_test_short[['vin', 'predict_price']]\n",
    "df_answ = df_answ.rename(columns={'predict_price':'sellingprice'})"
   ]
  },
  {
   "cell_type": "code",
   "execution_count": 92,
   "id": "dc38035c",
   "metadata": {
    "scrolled": false
   },
   "outputs": [
    {
     "data": {
      "text/html": [
       "<div>\n",
       "<style scoped>\n",
       "    .dataframe tbody tr th:only-of-type {\n",
       "        vertical-align: middle;\n",
       "    }\n",
       "\n",
       "    .dataframe tbody tr th {\n",
       "        vertical-align: top;\n",
       "    }\n",
       "\n",
       "    .dataframe thead th {\n",
       "        text-align: right;\n",
       "    }\n",
       "</style>\n",
       "<table border=\"1\" class=\"dataframe\">\n",
       "  <thead>\n",
       "    <tr style=\"text-align: right;\">\n",
       "      <th></th>\n",
       "      <th>vin</th>\n",
       "      <th>sellingprice</th>\n",
       "    </tr>\n",
       "  </thead>\n",
       "  <tbody>\n",
       "    <tr>\n",
       "      <th>0</th>\n",
       "      <td>1g6dp567450124779</td>\n",
       "      <td>4498.993822</td>\n",
       "    </tr>\n",
       "    <tr>\n",
       "      <th>1</th>\n",
       "      <td>1gtw7fca7e1902207</td>\n",
       "      <td>22701.603350</td>\n",
       "    </tr>\n",
       "    <tr>\n",
       "      <th>2</th>\n",
       "      <td>jn8az1mw6dw303497</td>\n",
       "      <td>18905.636316</td>\n",
       "    </tr>\n",
       "  </tbody>\n",
       "</table>\n",
       "</div>"
      ],
      "text/plain": [
       "                 vin  sellingprice\n",
       "0  1g6dp567450124779   4498.993822\n",
       "1  1gtw7fca7e1902207  22701.603350\n",
       "2  jn8az1mw6dw303497  18905.636316"
      ]
     },
     "execution_count": 92,
     "metadata": {},
     "output_type": "execute_result"
    }
   ],
   "source": [
    "# Создадим датасет ответа\n",
    "df_answ.head(3)"
   ]
  },
  {
   "cell_type": "code",
   "execution_count": 93,
   "id": "4cbce15d",
   "metadata": {
    "scrolled": false
   },
   "outputs": [
    {
     "data": {
      "text/html": [
       "<div>\n",
       "<style scoped>\n",
       "    .dataframe tbody tr th:only-of-type {\n",
       "        vertical-align: middle;\n",
       "    }\n",
       "\n",
       "    .dataframe tbody tr th {\n",
       "        vertical-align: top;\n",
       "    }\n",
       "\n",
       "    .dataframe thead th {\n",
       "        text-align: right;\n",
       "    }\n",
       "</style>\n",
       "<table border=\"1\" class=\"dataframe\">\n",
       "  <thead>\n",
       "    <tr style=\"text-align: right;\">\n",
       "      <th></th>\n",
       "      <th>vin</th>\n",
       "      <th>sellingprice</th>\n",
       "    </tr>\n",
       "  </thead>\n",
       "  <tbody>\n",
       "    <tr>\n",
       "      <th>0</th>\n",
       "      <td>1g6dp567450124779</td>\n",
       "      <td>13592.209588</td>\n",
       "    </tr>\n",
       "    <tr>\n",
       "      <th>1</th>\n",
       "      <td>1gtw7fca7e1902207</td>\n",
       "      <td>13592.209588</td>\n",
       "    </tr>\n",
       "    <tr>\n",
       "      <th>2</th>\n",
       "      <td>jn8az1mw6dw303497</td>\n",
       "      <td>13592.209588</td>\n",
       "    </tr>\n",
       "    <tr>\n",
       "      <th>3</th>\n",
       "      <td>2g1wf5e34d1160703</td>\n",
       "      <td>13592.209588</td>\n",
       "    </tr>\n",
       "    <tr>\n",
       "      <th>4</th>\n",
       "      <td>1n6aa0ec3dn301209</td>\n",
       "      <td>13592.209588</td>\n",
       "    </tr>\n",
       "  </tbody>\n",
       "</table>\n",
       "</div>"
      ],
      "text/plain": [
       "                 vin  sellingprice\n",
       "0  1g6dp567450124779  13592.209588\n",
       "1  1gtw7fca7e1902207  13592.209588\n",
       "2  jn8az1mw6dw303497  13592.209588\n",
       "3  2g1wf5e34d1160703  13592.209588\n",
       "4  1n6aa0ec3dn301209  13592.209588"
      ]
     },
     "execution_count": 93,
     "metadata": {},
     "output_type": "execute_result"
    }
   ],
   "source": [
    "# Сравним созданный ответ с требуемым\n",
    "df_sample.head()"
   ]
  },
  {
   "cell_type": "code",
   "execution_count": 94,
   "id": "0c2960f1",
   "metadata": {
    "scrolled": true
   },
   "outputs": [],
   "source": [
    "# Запись ответов в csv\n",
    "df_answ.to_csv(path + 'df_answ.csv', index=False)"
   ]
  },
  {
   "cell_type": "markdown",
   "id": "dea0c992",
   "metadata": {},
   "source": [
    "**Общий вывод**\n",
    "\n",
    "В результате проведенной работы сформирована модель машинного обучения, которая позволяет определять стоимость подержанного автомобиля. Модель на контрольном детесете показала точность по метрики `MAPE` на уровне **15.08**."
   ]
  }
 ],
 "metadata": {
  "kernelspec": {
   "display_name": "Python 3 (ipykernel)",
   "language": "python",
   "name": "python3"
  },
  "language_info": {
   "codemirror_mode": {
    "name": "ipython",
    "version": 3
   },
   "file_extension": ".py",
   "mimetype": "text/x-python",
   "name": "python",
   "nbconvert_exporter": "python",
   "pygments_lexer": "ipython3",
   "version": "3.10.9"
  }
 },
 "nbformat": 4,
 "nbformat_minor": 5
}
