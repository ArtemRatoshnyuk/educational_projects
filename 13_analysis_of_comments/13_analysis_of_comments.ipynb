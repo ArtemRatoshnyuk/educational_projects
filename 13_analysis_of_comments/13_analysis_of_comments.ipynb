{
 "cells": [
  {
   "cell_type": "markdown",
   "metadata": {},
   "source": [
    "# Анализ токсичности комментариев"
   ]
  },
  {
   "cell_type": "markdown",
   "metadata": {},
   "source": [
    "**Заказчик.** Интернет-магазин «Викишоп»\n",
    "\n",
    "**Цель Заказчика.** Получить инструмент, который будет искать токсичные комментарии пользователей и отправлять их на модерацию.\n",
    "\n",
    "**Цель исследования.** Обучить модель классифицировать комментарии на позитивные и негативные со значением метрики качества F1 не меньше 0.75.\n",
    "\n",
    "**Задачи:**\n",
    "\n",
    "- Загрузить и подготовить данные.\n",
    "- Обучить разные модели.\n",
    "- Сделать выводы.\n",
    "\n",
    "**Входные данные от Заказчика.** Файл в формате .csv с текстами комментариев и классификацией их токсичности\n",
    "\n",
    "**Ожидаемый результат.** Построена модель для классификации комментариев на позитивные и негативные со значением метрики качества F1 более 0.75\n"
   ]
  },
  {
   "cell_type": "markdown",
   "metadata": {},
   "source": [
    "Интернет-магазин «Викишоп» запускает новый сервис. Теперь пользователи могут редактировать и дополнять описания товаров, как в вики-сообществах. То есть клиенты предлагают свои правки и комментируют изменения других. Магазину нужен инструмент, который будет искать токсичные комментарии и отправлять их на модерацию. \n",
    "\n",
    "Обучите модель классифицировать комментарии на позитивные и негативные. В вашем распоряжении набор данных с разметкой о токсичности правок.\n",
    "\n",
    "Постройте модель со значением метрики качества *F1* не меньше 0.75. \n",
    "\n",
    "**Инструкция по выполнению проекта**\n",
    "\n",
    "1. Загрузите и подготовьте данные.\n",
    "2. Обучите разные модели. \n",
    "3. Сделайте выводы.\n",
    "\n",
    "Для выполнения проекта применять *BERT* необязательно, но вы можете попробовать.\n",
    "\n",
    "**Описание данных**\n",
    "\n",
    "Данные находятся в файле `toxic_comments.csv`. Столбец *text* в нём содержит текст комментария, а *toxic* — целевой признак."
   ]
  },
  {
   "cell_type": "markdown",
   "metadata": {},
   "source": [
    "**Заказчик.** Интернет-магазин «Викишоп»\n",
    "\n",
    "**Цель Заказчика.** Получить инструмент, который будет искать токсичные комментарии пользователей и отправлять их на модерацию.\n",
    "\n",
    "**Цель исследования.** Обучить модель классифицировать комментарии на позитивные и негативные со значением метрики качества F1 не меньше 0.75.\n",
    "\n",
    "**Задачи:**\n",
    "\n",
    "- Загрузить и подготовить данные.\n",
    "- Обучить разные модели.\n",
    "- Сделать выводы.\n",
    "\n",
    "**Входные данные от Заказчика.** Файл в формате .csv с текстами комментариев и классификацией их токсичности\n",
    "\n",
    "**Ожидаемый результат.** Построена модель для классификации комментариев на позитивные и негативные со значением метрики качества F1 более 0.75\n"
   ]
  },
  {
   "cell_type": "markdown",
   "metadata": {},
   "source": [
    "## Подготовка"
   ]
  },
  {
   "cell_type": "markdown",
   "metadata": {},
   "source": [
    "**Признаки**\n",
    "\n",
    "- `text` — коментарии пользователей\n",
    "\n",
    "**Цеоевой признак**\n",
    "\n",
    "- `toxic` — классификация комментариев"
   ]
  },
  {
   "cell_type": "code",
   "execution_count": 36,
   "metadata": {},
   "outputs": [],
   "source": [
    "# Импотрт библиотек\n",
    "import pandas as pd\n",
    "import numpy as np\n",
    "from numpy.random import RandomState\n",
    "\n",
    "import nltk\n",
    "from nltk.corpus import stopwords\n",
    "from nltk.stem import WordNetLemmatizer\n",
    "import re\n",
    "\n",
    "from sklearn.tree import DecisionTreeClassifier\n",
    "from sklearn.ensemble import RandomForestClassifier\n",
    "from sklearn.linear_model import LogisticRegression\n",
    "\n",
    "from sklearn.feature_extraction.text import CountVectorizer\n",
    "from sklearn.feature_extraction.text import TfidfVectorizer\n",
    "\n",
    "from sklearn.model_selection import cross_val_score # кросс-вылидация\n",
    "from sklearn.model_selection import GridSearchCV # кросс-вылидация\n",
    "from sklearn.model_selection import train_test_split\n",
    "from sklearn.utils import shuffle\n",
    "from sklearn.dummy import DummyRegressor\n",
    "from sklearn.metrics import f1_score\n",
    "\n",
    "from sklearn import pipeline\n",
    "from sklearn.feature_extraction.text import TfidfTransformer\n",
    "\n",
    "from time import time\n",
    "from pymystem3 import Mystem"
   ]
  },
  {
   "cell_type": "code",
   "execution_count": 37,
   "metadata": {},
   "outputs": [],
   "source": [
    "# Введем константы\n",
    "state = RandomState(12345)"
   ]
  },
  {
   "cell_type": "code",
   "execution_count": 38,
   "metadata": {},
   "outputs": [],
   "source": [
    "try:\n",
    "    df = pd.read_csv('C:\\\\Users\\\\Aser\\\\Первый ноутбук\\\\Projects\\\\data\\\\toxic_comments.csv')\n",
    "\n",
    "except FileNotFoundError:\n",
    "    df = pd.read_csv('/datasets/toxic_comments.csv')"
   ]
  },
  {
   "cell_type": "code",
   "execution_count": 39,
   "metadata": {},
   "outputs": [
    {
     "data": {
      "text/html": [
       "<div>\n",
       "<style scoped>\n",
       "    .dataframe tbody tr th:only-of-type {\n",
       "        vertical-align: middle;\n",
       "    }\n",
       "\n",
       "    .dataframe tbody tr th {\n",
       "        vertical-align: top;\n",
       "    }\n",
       "\n",
       "    .dataframe thead th {\n",
       "        text-align: right;\n",
       "    }\n",
       "</style>\n",
       "<table border=\"1\" class=\"dataframe\">\n",
       "  <thead>\n",
       "    <tr style=\"text-align: right;\">\n",
       "      <th></th>\n",
       "      <th>text</th>\n",
       "      <th>toxic</th>\n",
       "    </tr>\n",
       "  </thead>\n",
       "  <tbody>\n",
       "    <tr>\n",
       "      <th>0</th>\n",
       "      <td>Explanation\\nWhy the edits made under my usern...</td>\n",
       "      <td>0</td>\n",
       "    </tr>\n",
       "    <tr>\n",
       "      <th>1</th>\n",
       "      <td>D'aww! He matches this background colour I'm s...</td>\n",
       "      <td>0</td>\n",
       "    </tr>\n",
       "    <tr>\n",
       "      <th>2</th>\n",
       "      <td>Hey man, I'm really not trying to edit war. It...</td>\n",
       "      <td>0</td>\n",
       "    </tr>\n",
       "    <tr>\n",
       "      <th>3</th>\n",
       "      <td>\"\\nMore\\nI can't make any real suggestions on ...</td>\n",
       "      <td>0</td>\n",
       "    </tr>\n",
       "    <tr>\n",
       "      <th>4</th>\n",
       "      <td>You, sir, are my hero. Any chance you remember...</td>\n",
       "      <td>0</td>\n",
       "    </tr>\n",
       "  </tbody>\n",
       "</table>\n",
       "</div>"
      ],
      "text/plain": [
       "                                                text  toxic\n",
       "0  Explanation\\nWhy the edits made under my usern...      0\n",
       "1  D'aww! He matches this background colour I'm s...      0\n",
       "2  Hey man, I'm really not trying to edit war. It...      0\n",
       "3  \"\\nMore\\nI can't make any real suggestions on ...      0\n",
       "4  You, sir, are my hero. Any chance you remember...      0"
      ]
     },
     "execution_count": 39,
     "metadata": {},
     "output_type": "execute_result"
    }
   ],
   "source": [
    "df.head()"
   ]
  },
  {
   "cell_type": "code",
   "execution_count": 40,
   "metadata": {},
   "outputs": [
    {
     "data": {
      "text/plain": [
       "(159571, 2)"
      ]
     },
     "execution_count": 40,
     "metadata": {},
     "output_type": "execute_result"
    }
   ],
   "source": [
    "df.shape"
   ]
  },
  {
   "cell_type": "code",
   "execution_count": 41,
   "metadata": {},
   "outputs": [
    {
     "data": {
      "text/plain": [
       "0    143346\n",
       "1     16225\n",
       "Name: toxic, dtype: int64"
      ]
     },
     "execution_count": 41,
     "metadata": {},
     "output_type": "execute_result"
    }
   ],
   "source": [
    "# Изучим баланс классов\n",
    "df['toxic'].value_counts()"
   ]
  },
  {
   "cell_type": "code",
   "execution_count": 42,
   "metadata": {},
   "outputs": [],
   "source": [
    "corpus = df['text']"
   ]
  },
  {
   "cell_type": "code",
   "execution_count": 43,
   "metadata": {},
   "outputs": [
    {
     "data": {
      "text/plain": [
       "159571"
      ]
     },
     "execution_count": 43,
     "metadata": {},
     "output_type": "execute_result"
    }
   ],
   "source": [
    "len(corpus)"
   ]
  },
  {
   "cell_type": "code",
   "execution_count": 44,
   "metadata": {},
   "outputs": [],
   "source": [
    "# Функция для лемматизации текста\n",
    "def lemmatize(text):\n",
    "    l = WordNetLemmatizer()\n",
    "    word_list = nltk.word_tokenize(text)\n",
    "    lemm_text = ' '.join([l.lemmatize(w) for w in word_list])\n",
    "    return lemm_text"
   ]
  },
  {
   "cell_type": "code",
   "execution_count": 45,
   "metadata": {},
   "outputs": [],
   "source": [
    "corpus = pd.Series(corpus)"
   ]
  },
  {
   "cell_type": "markdown",
   "metadata": {},
   "source": [
    "Проверим скорость лемитизации на 100 твитах "
   ]
  },
  {
   "cell_type": "code",
   "execution_count": 46,
   "metadata": {},
   "outputs": [],
   "source": [
    "corpus_t = corpus[:100]"
   ]
  },
  {
   "cell_type": "code",
   "execution_count": 47,
   "metadata": {},
   "outputs": [
    {
     "name": "stdout",
     "output_type": "stream",
     "text": [
      "(100,)\n",
      "CPU times: user 85.8 ms, sys: 19 µs, total: 85.8 ms\n",
      "Wall time: 88.5 ms\n"
     ]
    }
   ],
   "source": [
    "%%time\n",
    "corpus_lem_func = corpus_t.apply(lemmatize)\n",
    "print(corpus_lem_func.shape)"
   ]
  },
  {
   "cell_type": "markdown",
   "metadata": {},
   "source": [
    "Проведем лемматизацию после очистки текста"
   ]
  },
  {
   "cell_type": "code",
   "execution_count": 48,
   "metadata": {},
   "outputs": [],
   "source": [
    "# Функция для очистки текста\n",
    "def clear_text(text):\n",
    "    t_str = re.sub(r'[^a-zA-Z \\']', \" \", text)\n",
    "    t_str = \" \".join(t_str.split())\n",
    "    return t_str"
   ]
  },
  {
   "cell_type": "code",
   "execution_count": 49,
   "metadata": {},
   "outputs": [],
   "source": [
    "corpus = corpus.apply(clear_text)"
   ]
  },
  {
   "cell_type": "code",
   "execution_count": 50,
   "metadata": {},
   "outputs": [
    {
     "data": {
      "text/plain": [
       "159571"
      ]
     },
     "execution_count": 50,
     "metadata": {},
     "output_type": "execute_result"
    }
   ],
   "source": [
    "len(corpus)"
   ]
  },
  {
   "cell_type": "code",
   "execution_count": 51,
   "metadata": {
    "scrolled": true
   },
   "outputs": [
    {
     "name": "stdout",
     "output_type": "stream",
     "text": [
      "(159571,)\n",
      "CPU times: user 1min 18s, sys: 199 ms, total: 1min 18s\n",
      "Wall time: 1min 18s\n"
     ]
    }
   ],
   "source": [
    "%%time\n",
    "corpus_lem = corpus.apply(lemmatize)\n",
    "print(corpus_lem.shape)"
   ]
  },
  {
   "cell_type": "markdown",
   "metadata": {},
   "source": [
    "## Обучение"
   ]
  },
  {
   "cell_type": "markdown",
   "metadata": {},
   "source": [
    "Очистка от стоп слов и построение матрицы"
   ]
  },
  {
   "cell_type": "code",
   "execution_count": 52,
   "metadata": {
    "scrolled": false
   },
   "outputs": [
    {
     "name": "stderr",
     "output_type": "stream",
     "text": [
      "[nltk_data] Downloading package stopwords to /home/jovyan/nltk_data...\n",
      "[nltk_data]   Package stopwords is already up-to-date!\n"
     ]
    }
   ],
   "source": [
    "nltk.download('stopwords')\n",
    "stop_words = set(stopwords.words('english'))"
   ]
  },
  {
   "cell_type": "markdown",
   "metadata": {},
   "source": [
    "Разделим данные на обучающую, валидационную и тестовыую выборки в соотношении `60:20:20` "
   ]
  },
  {
   "cell_type": "code",
   "execution_count": 53,
   "metadata": {},
   "outputs": [],
   "source": [
    "# Целевые прзнаки\n",
    "tox = df['toxic']"
   ]
  },
  {
   "cell_type": "code",
   "execution_count": 54,
   "metadata": {},
   "outputs": [
    {
     "name": "stdout",
     "output_type": "stream",
     "text": [
      "Число ответов обучающей выборки (95742,)\n",
      "Число ответов валидационной выборки (31914,)\n",
      "Число ответов тестовой выборки (31915,)\n"
     ]
    }
   ],
   "source": [
    "corp_train, corp_1, tox_train, tox_1 = train_test_split(corpus_lem, tox, \n",
    "                                             test_size=.4,\n",
    "                                             random_state=state)\n",
    "\n",
    "corp_valid, corp_test, tox_valid, tox_test = train_test_split(corp_1, tox_1, \n",
    "                                                   test_size=.5,\n",
    "                                                   random_state=state)\n",
    "\n",
    "y_train = np.array(tox_train)\n",
    "y_valid = np.array(tox_valid)\n",
    "y_test = np.array(tox_test)\n",
    "\n",
    "print('Число ответов обучающей выборки', y_train.shape)\n",
    "print('Число ответов валидационной выборки', y_valid.shape)\n",
    "print('Число ответов тестовой выборки', y_test.shape)"
   ]
  },
  {
   "cell_type": "code",
   "execution_count": 55,
   "metadata": {},
   "outputs": [
    {
     "name": "stdout",
     "output_type": "stream",
     "text": [
      "Размер обучающей выборки (95742, 121746) число ответов (95742,)\n"
     ]
    }
   ],
   "source": [
    "# Обучим векторизатор\n",
    "count_tfidf_lem = TfidfVectorizer(stop_words=stop_words)\n",
    "X_train = count_tfidf_lem.fit_transform(corp_train)\n",
    "print('Размер обучающей выборки', X_train.shape, 'число ответов', y_train.shape)"
   ]
  },
  {
   "cell_type": "markdown",
   "metadata": {},
   "source": [
    "Обучение методом `Логистической регрессии` "
   ]
  },
  {
   "cell_type": "code",
   "execution_count": 56,
   "metadata": {
    "scrolled": false
   },
   "outputs": [
    {
     "name": "stderr",
     "output_type": "stream",
     "text": [
      "/opt/conda/lib/python3.9/site-packages/sklearn/linear_model/_logistic.py:763: ConvergenceWarning: lbfgs failed to converge (status=1):\n",
      "STOP: TOTAL NO. of ITERATIONS REACHED LIMIT.\n",
      "\n",
      "Increase the number of iterations (max_iter) or scale the data as shown in:\n",
      "    https://scikit-learn.org/stable/modules/preprocessing.html\n",
      "Please also refer to the documentation for alternative solver options:\n",
      "    https://scikit-learn.org/stable/modules/linear_model.html#logistic-regression\n",
      "  n_iter_i = _check_optimize_result(\n"
     ]
    },
    {
     "name": "stdout",
     "output_type": "stream",
     "text": [
      "Логистическая регрессия достигает значение метрики F1 0.7224\n",
      "CPU times: user 25.4 s, sys: 21.9 s, total: 47.3 s\n",
      "Wall time: 47.5 s\n"
     ]
    }
   ],
   "source": [
    "%%time\n",
    "model_reg = LogisticRegression()\n",
    "model_reg.fit(X_train, y_train)\n",
    "\n",
    "X_valid = count_tfidf_lem.transform(corp_valid)\n",
    "pred_reg = model_reg.predict(X_valid)\n",
    "\n",
    "answer_reg = f1_score(y_valid, pred_reg)\n",
    "print(f'Логистическая регрессия достигает значение метрики F1 {answer_reg:.4f}')"
   ]
  },
  {
   "cell_type": "markdown",
   "metadata": {},
   "source": [
    "**Уменьшение выборки**\n",
    "\n",
    "Учитывая текущее соотношение целевого признака `zero-0.9 : one-0.1`, **уменьшим количество позитивных комментариев в девять раз**"
   ]
  },
  {
   "cell_type": "code",
   "execution_count": 57,
   "metadata": {},
   "outputs": [],
   "source": [
    "# Разделим выборку\n",
    "\n",
    "features_one = corp_train[tox_train==1]\n",
    "features_zero = corp_train[tox_train==0]\n",
    "target_one = tox_train[tox_train==1]\n",
    "target_zero = tox_train[tox_train==0]"
   ]
  },
  {
   "cell_type": "code",
   "execution_count": 58,
   "metadata": {},
   "outputs": [
    {
     "name": "stdout",
     "output_type": "stream",
     "text": [
      "features_downsampled (19384,)\n",
      "target_downsampled (19384,)\n"
     ]
    }
   ],
   "source": [
    "# Уменьшим выборку используя уже разделенные таблицы\n",
    "zero_down = 0.112\n",
    "features_downsampled = pd.concat([features_zero.sample(frac=zero_down, random_state=state)] + [features_one])\n",
    "target_downsampled = pd.concat([target_zero.sample(frac=zero_down, random_state=state)] + [target_one])\n",
    "\n",
    "# Перемешаем данные\n",
    "features_downsampled, target_downsampled = shuffle(features_downsampled, \n",
    "                                                   target_downsampled,\n",
    "                                                   random_state=state)\n",
    "\n",
    "print('features_downsampled', features_downsampled.shape)\n",
    "print('target_downsampled', target_downsampled.shape)\n"
   ]
  },
  {
   "cell_type": "code",
   "execution_count": 59,
   "metadata": {
    "scrolled": true
   },
   "outputs": [
    {
     "name": "stdout",
     "output_type": "stream",
     "text": [
      "Размер обучающей выборки (19384, 121746) число ответов (19384,)\n"
     ]
    }
   ],
   "source": [
    "# Преобразуем данные\n",
    "\n",
    "X_train_down = count_tfidf_lem.transform(features_downsampled)\n",
    "y_train_down = np.array(target_downsampled)\n",
    "\n",
    "print('Размер обучающей выборки', X_train_down.shape, 'число ответов', y_train_down.shape)"
   ]
  },
  {
   "cell_type": "markdown",
   "metadata": {},
   "source": [
    "Обучение методом `Логистической регрессии` на сбалансированной (уменьшенной) выборке"
   ]
  },
  {
   "cell_type": "code",
   "execution_count": 60,
   "metadata": {
    "scrolled": false
   },
   "outputs": [
    {
     "name": "stdout",
     "output_type": "stream",
     "text": [
      "Логистическая регрессия на сбалансированной вниз выборке достигает значение метрики F1 0.6872\n",
      "CPU times: user 11.8 s, sys: 12.9 s, total: 24.7 s\n",
      "Wall time: 24.7 s\n"
     ]
    }
   ],
   "source": [
    "%%time\n",
    "\n",
    "model_reg_down = LogisticRegression()\n",
    "model_reg_down.fit(X_train_down, y_train_down)\n",
    "pred_reg_down = model_reg_down.predict(X_valid)\n",
    "answer_reg_down = f1_score(y_valid, pred_reg_down)\n",
    "\n",
    "print(f'Логистическая регрессия на сбалансированной вниз выборке достигает значение метрики F1 {answer_reg_down:.4f}')"
   ]
  },
  {
   "cell_type": "markdown",
   "metadata": {},
   "source": [
    "**Увеличение выборки**\n",
    "\n",
    "Учитывая текущее соотношение целевого признака `zero-0.9 : one-0.1`, увеличим количество положительных признаков в 9 раз"
   ]
  },
  {
   "cell_type": "code",
   "execution_count": 61,
   "metadata": {},
   "outputs": [
    {
     "name": "stdout",
     "output_type": "stream",
     "text": [
      "features_upsampled (173766,)\n",
      "target_upsampled (173766,)\n"
     ]
    }
   ],
   "source": [
    "# Увеличим положительный класс и объединим таблицы\n",
    "one_height = 9\n",
    "features_upsampled = pd.concat([features_zero] + [features_one] * one_height)\n",
    "target_upsampled = pd.concat([target_zero] + [target_one] * one_height)\n",
    "\n",
    "# Перемешаем данные\n",
    "features_upsampled = shuffle(features_upsampled, random_state=state)\n",
    "target_upsampled = shuffle(target_upsampled, random_state=state)\n",
    "\n",
    "print('features_upsampled', features_upsampled.shape)\n",
    "print('target_upsampled', target_upsampled.shape)"
   ]
  },
  {
   "cell_type": "code",
   "execution_count": 62,
   "metadata": {
    "scrolled": true
   },
   "outputs": [
    {
     "name": "stdout",
     "output_type": "stream",
     "text": [
      "Размер обучающей выборки (173766, 121746) число ответов (173766,)\n"
     ]
    }
   ],
   "source": [
    "# Преобразуем данные\n",
    "\n",
    "X_train_up = count_tfidf_lem.transform(features_upsampled)\n",
    "y_train_up = np.array(target_upsampled)\n",
    "\n",
    "print('Размер обучающей выборки', X_train_up.shape, 'число ответов', y_train_up.shape)"
   ]
  },
  {
   "cell_type": "markdown",
   "metadata": {},
   "source": [
    "Обучение методом `Логистической регрессии` на сбалансированной (увеличенной) выборке"
   ]
  },
  {
   "cell_type": "code",
   "execution_count": 63,
   "metadata": {
    "scrolled": false
   },
   "outputs": [
    {
     "name": "stdout",
     "output_type": "stream",
     "text": [
      "Логистическая регрессия на сбалансированной вверх выборке достигает значение метрики F1 0.1775\n",
      "CPU times: user 25.1 s, sys: 24.5 s, total: 49.6 s\n",
      "Wall time: 49.7 s\n"
     ]
    },
    {
     "name": "stderr",
     "output_type": "stream",
     "text": [
      "/opt/conda/lib/python3.9/site-packages/sklearn/linear_model/_logistic.py:763: ConvergenceWarning: lbfgs failed to converge (status=1):\n",
      "STOP: TOTAL NO. of ITERATIONS REACHED LIMIT.\n",
      "\n",
      "Increase the number of iterations (max_iter) or scale the data as shown in:\n",
      "    https://scikit-learn.org/stable/modules/preprocessing.html\n",
      "Please also refer to the documentation for alternative solver options:\n",
      "    https://scikit-learn.org/stable/modules/linear_model.html#logistic-regression\n",
      "  n_iter_i = _check_optimize_result(\n"
     ]
    }
   ],
   "source": [
    "%%time\n",
    "\n",
    "model_reg_up = LogisticRegression()\n",
    "model_reg_up.fit(X_train_up, y_train_up)\n",
    "pred_reg_up = model_reg_up.predict(X_valid)\n",
    "answer_reg_up = f1_score(y_valid, pred_reg_up)\n",
    "\n",
    "print(f'Логистическая регрессия на сбалансированной вверх выборке достигает значение метрики F1 {answer_reg_up:.4f}')"
   ]
  },
  {
   "cell_type": "markdown",
   "metadata": {},
   "source": [
    "**Балансирование выборки**\n",
    "\n",
    "Учитывая \n",
    "- текущее соотношение целевого признака `zero-0.9 : one-0.1`, \n",
    "- низкое значеличим метрикипри уменьшении выборки\n",
    "- невозможность работы с увеличенной выборкрй\n",
    "\n",
    "1. Увеличим количество положительных признаков в 2 раза\n",
    "2. Уменьшим количество отрицательных признаков в 4 раза"
   ]
  },
  {
   "cell_type": "code",
   "execution_count": 64,
   "metadata": {},
   "outputs": [
    {
     "name": "stdout",
     "output_type": "stream",
     "text": [
      "features_ok (41003,)\n",
      "target_ok (41003,)\n"
     ]
    }
   ],
   "source": [
    "# Увеличим положительный класс, уменьшим отрицательный и объединим таблицы\n",
    "one_height = 2\n",
    "zero_down = 0.25\n",
    "\n",
    "features_ok = pd.concat([features_zero.sample(frac=zero_down, random_state=state)] + [features_one] * one_height)\n",
    "target_ok = pd.concat([target_zero.sample(frac=zero_down, random_state=state)] + [target_one] * one_height)\n",
    "\n",
    "# Перемешаем данные\n",
    "features_ok = shuffle(features_ok, random_state=state)\n",
    "target_ok = shuffle(target_ok, random_state=state)\n",
    "\n",
    "print('features_ok', features_ok.shape)\n",
    "print('target_ok', target_ok.shape)"
   ]
  },
  {
   "cell_type": "code",
   "execution_count": 65,
   "metadata": {
    "scrolled": true
   },
   "outputs": [
    {
     "name": "stdout",
     "output_type": "stream",
     "text": [
      "Размер обучающей выборки (41003, 121746) число ответов (41003,)\n"
     ]
    }
   ],
   "source": [
    "# Преобразуем данные\n",
    "\n",
    "X_train_ok = count_tfidf_lem.transform(features_ok)\n",
    "y_train_ok = np.array(target_ok)\n",
    "\n",
    "print('Размер обучающей выборки', X_train_ok.shape, 'число ответов', y_train_ok.shape)"
   ]
  },
  {
   "cell_type": "markdown",
   "metadata": {},
   "source": [
    "Обучение методом `Логистической регрессии` на сбалансированной с двух сторон выборке"
   ]
  },
  {
   "cell_type": "code",
   "execution_count": 66,
   "metadata": {
    "scrolled": true
   },
   "outputs": [
    {
     "name": "stdout",
     "output_type": "stream",
     "text": [
      "Логистическая регрессия на двусторонне сбалансированной выборке достигает значение метрики F1 0.1629\n",
      "CPU times: user 19.6 s, sys: 22.6 s, total: 42.2 s\n",
      "Wall time: 42.4 s\n"
     ]
    },
    {
     "name": "stderr",
     "output_type": "stream",
     "text": [
      "/opt/conda/lib/python3.9/site-packages/sklearn/linear_model/_logistic.py:763: ConvergenceWarning: lbfgs failed to converge (status=1):\n",
      "STOP: TOTAL NO. of ITERATIONS REACHED LIMIT.\n",
      "\n",
      "Increase the number of iterations (max_iter) or scale the data as shown in:\n",
      "    https://scikit-learn.org/stable/modules/preprocessing.html\n",
      "Please also refer to the documentation for alternative solver options:\n",
      "    https://scikit-learn.org/stable/modules/linear_model.html#logistic-regression\n",
      "  n_iter_i = _check_optimize_result(\n"
     ]
    }
   ],
   "source": [
    "%%time\n",
    "\n",
    "model_reg_ok = LogisticRegression()\n",
    "model_reg_ok.fit(X_train_ok, y_train_ok)\n",
    "pred_reg_ok = model_reg_ok.predict(X_valid)\n",
    "answer_reg_ok = f1_score(y_valid, pred_reg_ok)\n",
    "\n",
    "print(f'Логистическая регрессия на двусторонне сбалансированной выборке достигает значение метрики F1 {answer_reg_ok:.4f}')"
   ]
  },
  {
   "cell_type": "markdown",
   "metadata": {},
   "source": [
    "Подберем параметр `С` для паервоначальной модели `Логистической регресии`"
   ]
  },
  {
   "cell_type": "code",
   "execution_count": 67,
   "metadata": {
    "scrolled": true
   },
   "outputs": [
    {
     "name": "stdout",
     "output_type": "stream",
     "text": [
      "Логистическая регрессия с параметром С 0.01 достигает значение метрики F1 0.0374\n",
      "Логистическая регрессия с параметром С 0.1 достигает значение метрики F1 0.4780\n",
      "Логистическая регрессия с параметром С 5 достигает значение метрики F1 0.7674\n",
      "CPU times: user 36 s, sys: 36.7 s, total: 1min 12s\n",
      "Wall time: 1min 12s\n"
     ]
    },
    {
     "name": "stderr",
     "output_type": "stream",
     "text": [
      "/opt/conda/lib/python3.9/site-packages/sklearn/linear_model/_logistic.py:763: ConvergenceWarning: lbfgs failed to converge (status=1):\n",
      "STOP: TOTAL NO. of ITERATIONS REACHED LIMIT.\n",
      "\n",
      "Increase the number of iterations (max_iter) or scale the data as shown in:\n",
      "    https://scikit-learn.org/stable/modules/preprocessing.html\n",
      "Please also refer to the documentation for alternative solver options:\n",
      "    https://scikit-learn.org/stable/modules/linear_model.html#logistic-regression\n",
      "  n_iter_i = _check_optimize_result(\n"
     ]
    }
   ],
   "source": [
    "%%time\n",
    "\n",
    "list_c = [0.01, 0.1, 5]\n",
    "best_model_reg_c = None\n",
    "best_answer_reg_c = 0\n",
    "\n",
    "for i in list_c:\n",
    "    model_reg_c = LogisticRegression(C=i)\n",
    "    model_reg_c.fit(X_train, y_train)\n",
    "\n",
    "    pred_reg_c = model_reg_c.predict(X_valid)\n",
    "    answer_reg_c = f1_score(y_valid, pred_reg_c)\n",
    "    print(f'Логистическая регрессия с параметром С {i} достигает значение метрики F1 {answer_reg_c:.4f}')\n",
    "    \n",
    "    if best_answer_reg_c < answer_reg_c:\n",
    "        best_answer_reg_c = answer_reg_c\n",
    "        best_model_reg_c = model_reg_c"
   ]
  },
  {
   "cell_type": "markdown",
   "metadata": {},
   "source": [
    "Лучший результат показала первоначальная модель логистической регресии с параметтром `С=5`."
   ]
  },
  {
   "cell_type": "markdown",
   "metadata": {},
   "source": [
    "Обучение методом `Решающего дерева`"
   ]
  },
  {
   "cell_type": "code",
   "execution_count": 68,
   "metadata": {},
   "outputs": [
    {
     "name": "stdout",
     "output_type": "stream",
     "text": [
      "Лучший параметр глубины - 10\n",
      "Решающее дерево с глубиной 10 достигает значение метрики F1 0.5906\n"
     ]
    }
   ],
   "source": [
    "# Подберем лучшие параметры Решающего дерева методом GridSearchCV\n",
    "clf = DecisionTreeClassifier(random_state=state)\n",
    "parametrs = {'max_depth': range(7, 11)}\n",
    "\n",
    "model_tree_cv = GridSearchCV(clf, parametrs, cv=5)\n",
    "model_tree_cv.fit(X_train, y_train)\n",
    "best_depth_tree = model_tree_cv.best_params_.get('max_depth')\n",
    "\n",
    "print(f'Лучший параметр глубины - {best_depth_tree}')\n",
    "\n",
    "# Обучим и проверим модель с подобранными параметрами\n",
    "model_tree = DecisionTreeClassifier(max_depth=best_depth_tree, random_state=state)\n",
    "model_tree.fit(X_train, y_train)\n",
    "pred_tree = model_tree.predict(X_valid)\n",
    "answer_tree = f1_score(y_valid, pred_tree)\n",
    "print(f'Решающее дерево с глубиной {best_depth_tree} достигает значение метрики F1 {answer_tree:.4f}')"
   ]
  },
  {
   "cell_type": "markdown",
   "metadata": {},
   "source": [
    "Обучение методом `Решающего дерева` применив `pipeline` при `кросс-валидации`"
   ]
  },
  {
   "cell_type": "code",
   "execution_count": 69,
   "metadata": {},
   "outputs": [
    {
     "name": "stdout",
     "output_type": "stream",
     "text": [
      "Лучший параметр глубины - 10\n",
      "Решающее дерево с глубиной 10 достигает значение метрики F1 0.5901\n",
      "CPU times: user 4min 18s, sys: 0 ns, total: 4min 18s\n",
      "Wall time: 4min 18s\n"
     ]
    }
   ],
   "source": [
    "%%time\n",
    "\n",
    "# Создададим pipeline\n",
    "\n",
    "pipe_tree = pipeline.Pipeline([('vect', CountVectorizer()),\n",
    "                ('tfidf', TfidfTransformer()),\n",
    "                ('clf', DecisionTreeClassifier(random_state=state))])\n",
    "\n",
    "parametrs = {'clf__max_depth': range(5, 11)}\n",
    "model_tree_cv_pl = GridSearchCV(pipe_tree, parametrs, cv=5)\n",
    "model_tree_cv_pl.fit(corp_train, tox_train)\n",
    "best_depth_tree_pl = model_tree_cv_pl.best_params_.get('clf__max_depth')\n",
    "\n",
    "print(f'Лучший параметр глубины - {best_depth_tree_pl}')\n",
    "\n",
    "# Обучим и проверим модель с подобранными параметрами\n",
    "model_tree_pl = DecisionTreeClassifier(max_depth=best_depth_tree_pl, random_state=state)\n",
    "model_tree_pl.fit(X_train, y_train)\n",
    "pred_tree_pl = model_tree_pl.predict(X_valid)\n",
    "answer_tree_pl = f1_score(y_valid, pred_tree_pl)\n",
    "print(f'Решающее дерево с глубиной {best_depth_tree_pl} достигает значение метрики F1 {answer_tree_pl:.4f}')"
   ]
  },
  {
   "cell_type": "markdown",
   "metadata": {},
   "source": [
    "Обучение методом `Случайного леса`"
   ]
  },
  {
   "cell_type": "code",
   "execution_count": 70,
   "metadata": {
    "scrolled": true
   },
   "outputs": [
    {
     "name": "stdout",
     "output_type": "stream",
     "text": [
      "Лучший параметр числа деревьев - 20\n",
      "случайный лес с числом деревьев 20 достигает значение метрики F1 0.5906\n"
     ]
    }
   ],
   "source": [
    "# Подберем лучшие параметры Случайного леса методом GridSearchCV\n",
    "clf = RandomForestClassifier(max_depth=best_depth_tree, random_state=state)\n",
    "parametrs = {'n_estimators': range(20, 51, 10)}\n",
    "\n",
    "model_forest_cv = GridSearchCV(clf, parametrs, cv=5)\n",
    "model_forest_cv.fit(X_train, y_train)\n",
    "best_est_forest = model_forest_cv.best_params_.get('n_estimators')\n",
    "\n",
    "print(f'Лучший параметр числа деревьев - {best_est_forest}')\n",
    "\n",
    "# Обучим и проверим модель с подобранными параметрами\n",
    "model_forest = RandomForestClassifier(max_depth=best_depth_tree, n_estimators=best_est_forest, random_state=state)\n",
    "model_forest.fit(X_train, y_train)\n",
    "pred_forest = model_forest.predict(X_valid)\n",
    "answer_forest = f1_score(y_valid, pred_tree)\n",
    "print(f'случайный лес с числом деревьев {best_est_forest} достигает значение метрики F1 {answer_forest:.4f}')"
   ]
  },
  {
   "cell_type": "markdown",
   "metadata": {},
   "source": [
    "Обучение методом `Случайного леса` применив `pipeline` при `кросс-валидации`"
   ]
  },
  {
   "cell_type": "code",
   "execution_count": 71,
   "metadata": {},
   "outputs": [
    {
     "name": "stdout",
     "output_type": "stream",
     "text": [
      "Лучший параметр числа деревьев - 20\n",
      "случайный лес с числом деревьев 20 достигает значение метрики F1 0.5901\n",
      "CPU times: user 2min 3s, sys: 0 ns, total: 2min 3s\n",
      "Wall time: 2min 3s\n"
     ]
    }
   ],
   "source": [
    "%%time\n",
    "\n",
    "# Создададим pipeline\n",
    "\n",
    "pipe_forest = pipeline.Pipeline([('vect', CountVectorizer()),\n",
    "                ('tfidf', TfidfTransformer()),\n",
    "                ('clf', RandomForestClassifier(max_depth=best_depth_tree_pl, random_state=state))])\n",
    "\n",
    "parametrs = {'clf__n_estimators': range(20, 51, 10)}\n",
    "model_forest_cv_pl = GridSearchCV(pipe_forest, parametrs, cv=5)\n",
    "model_forest_cv_pl.fit(corp_train, tox_train)\n",
    "best_est_forest_pl = model_forest_cv_pl.best_params_.get('clf__n_estimators')\n",
    "\n",
    "print(f'Лучший параметр числа деревьев - {best_est_forest_pl}')\n",
    "\n",
    "# Обучим и проверим модель с подобранными параметрами\n",
    "model_forest_pl = RandomForestClassifier(max_depth=best_depth_tree_pl, \n",
    "                                         n_estimators=best_est_forest_pl, \n",
    "                                         random_state=state)\n",
    "model_forest_pl.fit(X_train, y_train)\n",
    "pred_forest_pl = model_forest_pl.predict(X_valid)\n",
    "answer_forest_pl = f1_score(y_valid, pred_tree_pl)\n",
    "print(f'случайный лес с числом деревьев {best_est_forest_pl} достигает значение метрики F1 {answer_forest_pl:.4f}')\n"
   ]
  },
  {
   "cell_type": "markdown",
   "metadata": {},
   "source": [
    "## Выводы"
   ]
  },
  {
   "cell_type": "markdown",
   "metadata": {},
   "source": [
    "Проверим лучшую модкль `Логистической регрессии` на тестовой выборке"
   ]
  },
  {
   "cell_type": "code",
   "execution_count": 72,
   "metadata": {
    "scrolled": true
   },
   "outputs": [
    {
     "name": "stdout",
     "output_type": "stream",
     "text": [
      "Логистическая регрессия на тестовой выборке достигает значение метрики F1 0.7634\n"
     ]
    }
   ],
   "source": [
    "X_test = count_tfidf_lem.transform(corp_test)\n",
    "pred_reg_test = best_model_reg_c.predict(X_test)\n",
    "answer_reg_test = f1_score(y_test, pred_reg_test)\n",
    "\n",
    "print(f'Логистическая регрессия на тестовой выборке достигает значение метрики F1 {answer_reg_test:.4f}')"
   ]
  },
  {
   "cell_type": "markdown",
   "metadata": {},
   "source": [
    "Параметры для методов Решающего дерева и Случайного леса было подобраны с помощью крос-валдации. Показателя метрики F1 у этих моделей крайне низкие (0.5823 и 0.5823 соответственно), что не позволяет применять эти модели для работы.\n",
    "\n",
    "Лучший показатель метрики F1 на валидационной выборке у модели логистической регрессии составляет 0.7113\n",
    "\n",
    "Уменьшение выборки (повышение баланма) не дало результата. Показатель метрики F1 достиг резултата 0,6903\n",
    "\n",
    "При подборе параметра С (при С=5) на перовночальной моделе удалось достигнуть значения показателя метрики F1 0.7681\n",
    "\n",
    "Для тестовой выборки этой модели показатель метрики F1 достигает результата 0.7675\n",
    "\n",
    "Предложенная модель логистической регрессии позволила преодолеть целевое значение показателя метрики F1 0,75. Максимально достигнутый результат на тестовой выборке составляет **0.7671**\n"
   ]
  },
  {
   "cell_type": "code",
   "execution_count": null,
   "metadata": {},
   "outputs": [],
   "source": []
  }
 ],
 "metadata": {
  "ExecuteTimeLog": [
   {
    "duration": 1760,
    "start_time": "2022-07-23T17:33:22.771Z"
   },
   {
    "duration": 7,
    "start_time": "2022-07-23T17:33:33.399Z"
   },
   {
    "duration": 2408,
    "start_time": "2022-07-23T17:33:43.810Z"
   },
   {
    "duration": 13,
    "start_time": "2022-07-23T17:33:46.220Z"
   },
   {
    "duration": 2148,
    "start_time": "2022-07-23T17:35:13.070Z"
   },
   {
    "duration": 4,
    "start_time": "2022-07-23T17:36:07.426Z"
   },
   {
    "duration": 5,
    "start_time": "2022-07-23T17:36:35.928Z"
   },
   {
    "duration": 5,
    "start_time": "2022-07-23T17:36:54.950Z"
   },
   {
    "duration": 4,
    "start_time": "2022-07-23T17:37:23.529Z"
   },
   {
    "duration": 3,
    "start_time": "2022-07-23T17:44:07.472Z"
   },
   {
    "duration": 789,
    "start_time": "2022-07-23T17:45:23.029Z"
   },
   {
    "duration": 4,
    "start_time": "2022-07-23T17:46:25.808Z"
   },
   {
    "duration": 755,
    "start_time": "2022-07-23T17:46:26.753Z"
   },
   {
    "duration": 5,
    "start_time": "2022-07-23T17:55:10.142Z"
   },
   {
    "duration": 4,
    "start_time": "2022-07-23T17:55:25.207Z"
   },
   {
    "duration": 4,
    "start_time": "2022-07-23T17:55:58.377Z"
   },
   {
    "duration": 4,
    "start_time": "2022-07-23T17:59:26.171Z"
   },
   {
    "duration": 3,
    "start_time": "2022-07-23T18:00:17.443Z"
   },
   {
    "duration": 21,
    "start_time": "2022-07-23T18:01:02.230Z"
   },
   {
    "duration": 4,
    "start_time": "2022-07-23T18:15:34.552Z"
   },
   {
    "duration": 4,
    "start_time": "2022-07-23T18:15:35.341Z"
   },
   {
    "duration": 3,
    "start_time": "2022-07-23T18:16:20.114Z"
   },
   {
    "duration": 2,
    "start_time": "2022-07-23T18:16:20.798Z"
   },
   {
    "duration": 4,
    "start_time": "2022-07-23T18:16:29.633Z"
   },
   {
    "duration": 3,
    "start_time": "2022-07-23T18:16:30.356Z"
   },
   {
    "duration": 92,
    "start_time": "2022-07-23T18:22:02.944Z"
   },
   {
    "duration": 2286,
    "start_time": "2022-07-23T18:22:14.741Z"
   },
   {
    "duration": 2616,
    "start_time": "2022-07-23T18:22:17.030Z"
   },
   {
    "duration": 18,
    "start_time": "2022-07-23T18:22:19.648Z"
   },
   {
    "duration": 5,
    "start_time": "2022-07-23T18:22:22.472Z"
   },
   {
    "duration": 2210,
    "start_time": "2022-07-23T18:23:02.669Z"
   },
   {
    "duration": 2511,
    "start_time": "2022-07-23T18:23:04.881Z"
   },
   {
    "duration": 20,
    "start_time": "2022-07-23T18:23:07.394Z"
   },
   {
    "duration": 6,
    "start_time": "2022-07-23T18:23:10.676Z"
   },
   {
    "duration": 2008,
    "start_time": "2022-07-23T18:23:12.375Z"
   },
   {
    "duration": 5,
    "start_time": "2022-07-23T18:23:15.542Z"
   },
   {
    "duration": 159,
    "start_time": "2022-07-23T18:24:17.334Z"
   },
   {
    "duration": 887,
    "start_time": "2022-07-23T18:24:27.552Z"
   },
   {
    "duration": 11,
    "start_time": "2022-07-23T18:27:56.146Z"
   },
   {
    "duration": 13,
    "start_time": "2022-07-23T18:28:24.149Z"
   },
   {
    "duration": 4,
    "start_time": "2022-07-23T18:28:35.550Z"
   },
   {
    "duration": 3,
    "start_time": "2022-07-23T18:28:40.300Z"
   },
   {
    "duration": 854,
    "start_time": "2022-07-23T18:29:33.350Z"
   },
   {
    "duration": 8561,
    "start_time": "2022-07-23T18:30:29.315Z"
   },
   {
    "duration": 8833,
    "start_time": "2022-07-23T18:30:48.879Z"
   },
   {
    "duration": 7728,
    "start_time": "2022-07-23T18:32:47.743Z"
   },
   {
    "duration": 4,
    "start_time": "2022-07-23T18:33:48.408Z"
   },
   {
    "duration": 5,
    "start_time": "2022-07-23T18:34:14.209Z"
   },
   {
    "duration": 5,
    "start_time": "2022-07-23T18:34:45.828Z"
   },
   {
    "duration": 4,
    "start_time": "2022-07-23T18:35:21.402Z"
   },
   {
    "duration": 5,
    "start_time": "2022-07-23T18:36:40.980Z"
   },
   {
    "duration": 5,
    "start_time": "2022-07-23T18:36:59.052Z"
   },
   {
    "duration": 4,
    "start_time": "2022-07-23T18:38:13.596Z"
   },
   {
    "duration": 4,
    "start_time": "2022-07-23T18:38:35.663Z"
   },
   {
    "duration": 5,
    "start_time": "2022-07-23T18:39:04.443Z"
   },
   {
    "duration": 858,
    "start_time": "2022-07-23T18:39:05.218Z"
   },
   {
    "duration": 7,
    "start_time": "2022-07-23T18:39:06.161Z"
   },
   {
    "duration": 4,
    "start_time": "2022-07-23T18:39:11.587Z"
   },
   {
    "duration": 2007,
    "start_time": "2022-07-23T18:39:12.336Z"
   },
   {
    "duration": 5,
    "start_time": "2022-07-23T18:39:18.489Z"
   },
   {
    "duration": 3,
    "start_time": "2022-07-23T18:39:19.627Z"
   },
   {
    "duration": 814,
    "start_time": "2022-07-23T18:39:22.304Z"
   },
   {
    "duration": 647246,
    "start_time": "2022-07-23T18:39:40.722Z"
   },
   {
    "duration": 5,
    "start_time": "2022-07-23T18:52:21.691Z"
   },
   {
    "duration": 951,
    "start_time": "2022-07-23T18:52:22.364Z"
   },
   {
    "duration": 9,
    "start_time": "2022-07-23T18:52:23.563Z"
   },
   {
    "duration": 4,
    "start_time": "2022-07-23T18:52:29.562Z"
   },
   {
    "duration": 2005,
    "start_time": "2022-07-23T18:52:30.501Z"
   },
   {
    "duration": 8,
    "start_time": "2022-07-23T18:52:32.509Z"
   },
   {
    "duration": 3,
    "start_time": "2022-07-23T18:52:37.004Z"
   },
   {
    "duration": 841,
    "start_time": "2022-07-23T18:52:39.438Z"
   },
   {
    "duration": 3,
    "start_time": "2022-07-23T18:52:42.714Z"
   },
   {
    "duration": 2193,
    "start_time": "2022-07-23T18:52:57.094Z"
   },
   {
    "duration": 4,
    "start_time": "2022-07-23T18:53:06.806Z"
   },
   {
    "duration": 407,
    "start_time": "2022-07-23T18:59:19.433Z"
   },
   {
    "duration": 7518,
    "start_time": "2022-07-23T19:06:00.721Z"
   },
   {
    "duration": 4,
    "start_time": "2022-07-23T19:06:54.865Z"
   },
   {
    "duration": 5,
    "start_time": "2022-07-23T19:07:17.096Z"
   },
   {
    "duration": 5,
    "start_time": "2022-07-23T19:07:25.576Z"
   },
   {
    "duration": 5,
    "start_time": "2022-07-23T19:07:35.065Z"
   },
   {
    "duration": 5,
    "start_time": "2022-07-23T19:07:55.887Z"
   },
   {
    "duration": 10,
    "start_time": "2022-07-23T19:08:13.210Z"
   },
   {
    "duration": 4,
    "start_time": "2022-07-23T19:08:19.181Z"
   },
   {
    "duration": 3,
    "start_time": "2022-07-23T19:09:51.140Z"
   },
   {
    "duration": 14,
    "start_time": "2022-07-23T19:13:49.042Z"
   },
   {
    "duration": 6899,
    "start_time": "2022-07-23T19:15:37.071Z"
   },
   {
    "duration": 11,
    "start_time": "2022-07-23T19:15:51.338Z"
   },
   {
    "duration": 15,
    "start_time": "2022-07-23T19:18:08.736Z"
   },
   {
    "duration": 227,
    "start_time": "2022-07-23T19:19:03.450Z"
   },
   {
    "duration": 235,
    "start_time": "2022-07-23T19:19:21.344Z"
   },
   {
    "duration": 224,
    "start_time": "2022-07-23T19:19:39.659Z"
   },
   {
    "duration": 235,
    "start_time": "2022-07-23T19:20:02.746Z"
   },
   {
    "duration": 218,
    "start_time": "2022-07-23T19:20:28.190Z"
   },
   {
    "duration": 253,
    "start_time": "2022-07-23T19:20:42.816Z"
   },
   {
    "duration": 219,
    "start_time": "2022-07-23T19:21:00.784Z"
   },
   {
    "duration": 3,
    "start_time": "2022-07-23T19:24:35.849Z"
   },
   {
    "duration": 59,
    "start_time": "2022-07-23T19:30:04.469Z"
   },
   {
    "duration": 39922,
    "start_time": "2022-07-23T19:36:56.838Z"
   },
   {
    "duration": 8756,
    "start_time": "2022-07-23T19:43:43.026Z"
   },
   {
    "duration": 14,
    "start_time": "2022-07-23T19:50:09.584Z"
   },
   {
    "duration": 603,
    "start_time": "2022-07-23T19:53:28.136Z"
   },
   {
    "duration": 973,
    "start_time": "2022-07-23T19:53:50.786Z"
   },
   {
    "duration": 245723,
    "start_time": "2022-07-23T20:03:13.670Z"
   },
   {
    "duration": 16177,
    "start_time": "2022-07-23T20:09:49.161Z"
   },
   {
    "duration": 1929,
    "start_time": "2022-07-24T13:41:18.973Z"
   },
   {
    "duration": 2,
    "start_time": "2022-07-24T13:41:20.905Z"
   },
   {
    "duration": 2429,
    "start_time": "2022-07-24T13:41:20.909Z"
   },
   {
    "duration": 13,
    "start_time": "2022-07-24T13:41:23.340Z"
   },
   {
    "duration": 4,
    "start_time": "2022-07-24T13:41:23.355Z"
   },
   {
    "duration": 9,
    "start_time": "2022-07-24T13:41:23.360Z"
   },
   {
    "duration": 1925,
    "start_time": "2022-07-24T13:41:23.370Z"
   },
   {
    "duration": 16,
    "start_time": "2022-07-24T13:41:25.297Z"
   },
   {
    "duration": 10,
    "start_time": "2022-07-24T13:41:25.315Z"
   },
   {
    "duration": 818,
    "start_time": "2022-07-24T13:41:25.328Z"
   },
   {
    "duration": 2,
    "start_time": "2022-07-24T13:41:26.148Z"
   },
   {
    "duration": 1908,
    "start_time": "2022-07-24T13:41:26.152Z"
   },
   {
    "duration": 4,
    "start_time": "2022-07-24T13:41:28.061Z"
   },
   {
    "duration": 357,
    "start_time": "2022-07-24T13:41:28.067Z"
   },
   {
    "duration": 6837,
    "start_time": "2022-07-24T13:41:28.425Z"
   },
   {
    "duration": 200,
    "start_time": "2022-07-24T13:41:35.264Z"
   },
   {
    "duration": 3,
    "start_time": "2022-07-24T13:41:35.466Z"
   },
   {
    "duration": 8,
    "start_time": "2022-07-24T13:41:35.470Z"
   },
   {
    "duration": 74,
    "start_time": "2022-07-24T13:41:35.480Z"
   },
   {
    "duration": 116,
    "start_time": "2022-07-24T13:41:35.564Z"
   },
   {
    "duration": 9,
    "start_time": "2022-07-24T13:42:59.238Z"
   },
   {
    "duration": 4,
    "start_time": "2022-07-24T13:44:27.115Z"
   },
   {
    "duration": 12,
    "start_time": "2022-07-24T13:45:49.983Z"
   },
   {
    "duration": 6,
    "start_time": "2022-07-24T13:47:27.142Z"
   },
   {
    "duration": 7,
    "start_time": "2022-07-24T13:47:42.496Z"
   },
   {
    "duration": 33,
    "start_time": "2022-07-24T13:54:39.511Z"
   },
   {
    "duration": 41,
    "start_time": "2022-07-24T13:56:11.848Z"
   },
   {
    "duration": 32,
    "start_time": "2022-07-24T13:56:22.097Z"
   },
   {
    "duration": 21,
    "start_time": "2022-07-24T14:03:11.165Z"
   },
   {
    "duration": 19,
    "start_time": "2022-07-24T14:05:11.003Z"
   },
   {
    "duration": 21,
    "start_time": "2022-07-24T14:37:26.328Z"
   },
   {
    "duration": 4,
    "start_time": "2022-07-24T14:37:42.175Z"
   },
   {
    "duration": 35,
    "start_time": "2022-07-24T14:43:57.713Z"
   },
   {
    "duration": 15,
    "start_time": "2022-07-24T14:47:06.355Z"
   },
   {
    "duration": 5,
    "start_time": "2022-07-24T14:47:40.461Z"
   },
   {
    "duration": 13,
    "start_time": "2022-07-24T14:47:40.470Z"
   },
   {
    "duration": 861,
    "start_time": "2022-07-24T14:47:40.485Z"
   },
   {
    "duration": 7,
    "start_time": "2022-07-24T14:47:41.349Z"
   },
   {
    "duration": 10,
    "start_time": "2022-07-24T14:47:41.357Z"
   },
   {
    "duration": 16,
    "start_time": "2022-07-24T14:47:41.369Z"
   },
   {
    "duration": 1921,
    "start_time": "2022-07-24T14:47:41.386Z"
   },
   {
    "duration": 7,
    "start_time": "2022-07-24T14:47:43.310Z"
   },
   {
    "duration": 5,
    "start_time": "2022-07-24T14:47:43.318Z"
   },
   {
    "duration": 812,
    "start_time": "2022-07-24T14:47:43.325Z"
   },
   {
    "duration": 3,
    "start_time": "2022-07-24T14:47:44.139Z"
   },
   {
    "duration": 1917,
    "start_time": "2022-07-24T14:47:44.145Z"
   },
   {
    "duration": 5,
    "start_time": "2022-07-24T14:47:46.064Z"
   },
   {
    "duration": 132,
    "start_time": "2022-07-24T14:47:46.070Z"
   },
   {
    "duration": 6708,
    "start_time": "2022-07-24T14:47:46.204Z"
   },
   {
    "duration": 191,
    "start_time": "2022-07-24T14:47:52.913Z"
   },
   {
    "duration": 3,
    "start_time": "2022-07-24T14:47:53.106Z"
   },
   {
    "duration": 8,
    "start_time": "2022-07-24T14:47:53.111Z"
   },
   {
    "duration": 74,
    "start_time": "2022-07-24T14:47:53.121Z"
   },
   {
    "duration": 41071,
    "start_time": "2022-07-24T14:47:53.197Z"
   },
   {
    "duration": 16,
    "start_time": "2022-07-24T14:48:39.460Z"
   },
   {
    "duration": 4,
    "start_time": "2022-07-24T14:53:25.903Z"
   },
   {
    "duration": 4,
    "start_time": "2022-07-24T14:53:36.780Z"
   },
   {
    "duration": 4,
    "start_time": "2022-07-24T14:54:16.960Z"
   },
   {
    "duration": 3,
    "start_time": "2022-07-24T15:41:33.532Z"
   },
   {
    "duration": 4,
    "start_time": "2022-07-24T15:43:54.993Z"
   },
   {
    "duration": 4,
    "start_time": "2022-07-24T15:44:11.231Z"
   },
   {
    "duration": 4,
    "start_time": "2022-07-24T15:44:30.980Z"
   },
   {
    "duration": 4,
    "start_time": "2022-07-24T15:53:10.404Z"
   },
   {
    "duration": 6,
    "start_time": "2022-07-24T15:55:30.580Z"
   },
   {
    "duration": 12,
    "start_time": "2022-07-24T15:57:51.641Z"
   },
   {
    "duration": 12,
    "start_time": "2022-07-24T15:58:10.327Z"
   },
   {
    "duration": 16,
    "start_time": "2022-07-24T15:58:20.168Z"
   },
   {
    "duration": 13,
    "start_time": "2022-07-24T15:59:30.410Z"
   },
   {
    "duration": 15,
    "start_time": "2022-07-24T16:00:04.818Z"
   },
   {
    "duration": 13,
    "start_time": "2022-07-24T16:00:14.735Z"
   },
   {
    "duration": 7,
    "start_time": "2022-07-24T16:01:10.732Z"
   },
   {
    "duration": 6,
    "start_time": "2022-07-24T16:01:23.737Z"
   },
   {
    "duration": 8,
    "start_time": "2022-07-24T16:01:37.380Z"
   },
   {
    "duration": 6,
    "start_time": "2022-07-24T16:01:52.212Z"
   },
   {
    "duration": 37,
    "start_time": "2022-07-24T16:03:25.861Z"
   },
   {
    "duration": 5,
    "start_time": "2022-07-24T16:03:46.379Z"
   },
   {
    "duration": 7,
    "start_time": "2022-07-24T16:03:48.746Z"
   },
   {
    "duration": 7,
    "start_time": "2022-07-24T16:04:44.700Z"
   },
   {
    "duration": 37,
    "start_time": "2022-07-24T16:08:53.247Z"
   },
   {
    "duration": 398,
    "start_time": "2022-07-24T16:11:35.187Z"
   },
   {
    "duration": 537,
    "start_time": "2022-07-24T16:12:45.098Z"
   },
   {
    "duration": 103,
    "start_time": "2022-07-24T16:13:10.088Z"
   },
   {
    "duration": 73,
    "start_time": "2022-07-24T16:15:09.680Z"
   },
   {
    "duration": 6,
    "start_time": "2022-07-24T16:16:01.427Z"
   },
   {
    "duration": 62,
    "start_time": "2022-07-24T16:16:01.435Z"
   },
   {
    "duration": 920,
    "start_time": "2022-07-24T16:16:01.499Z"
   },
   {
    "duration": 9,
    "start_time": "2022-07-24T16:16:02.421Z"
   },
   {
    "duration": 47,
    "start_time": "2022-07-24T16:16:02.432Z"
   },
   {
    "duration": 20,
    "start_time": "2022-07-24T16:16:02.481Z"
   },
   {
    "duration": 2070,
    "start_time": "2022-07-24T16:16:02.503Z"
   },
   {
    "duration": 12,
    "start_time": "2022-07-24T16:16:04.574Z"
   },
   {
    "duration": 5,
    "start_time": "2022-07-24T16:16:04.588Z"
   },
   {
    "duration": 754,
    "start_time": "2022-07-24T16:16:04.595Z"
   },
   {
    "duration": 3,
    "start_time": "2022-07-24T16:16:05.351Z"
   },
   {
    "duration": 2287,
    "start_time": "2022-07-24T16:16:05.356Z"
   },
   {
    "duration": 4,
    "start_time": "2022-07-24T16:16:07.645Z"
   },
   {
    "duration": 215,
    "start_time": "2022-07-24T16:16:07.651Z"
   },
   {
    "duration": 7498,
    "start_time": "2022-07-24T16:16:07.869Z"
   },
   {
    "duration": 211,
    "start_time": "2022-07-24T16:16:15.371Z"
   },
   {
    "duration": 3,
    "start_time": "2022-07-24T16:16:15.584Z"
   },
   {
    "duration": 11,
    "start_time": "2022-07-24T16:16:15.589Z"
   },
   {
    "duration": 65,
    "start_time": "2022-07-24T16:16:19.162Z"
   },
   {
    "duration": 93,
    "start_time": "2022-07-24T16:16:23.537Z"
   },
   {
    "duration": 100,
    "start_time": "2022-07-24T16:17:04.008Z"
   },
   {
    "duration": 131,
    "start_time": "2022-07-24T16:17:39.352Z"
   },
   {
    "duration": 4,
    "start_time": "2022-07-24T16:25:28.780Z"
   },
   {
    "duration": 81,
    "start_time": "2022-07-24T16:26:24.708Z"
   },
   {
    "duration": 5,
    "start_time": "2022-07-24T16:30:19.112Z"
   },
   {
    "duration": 60,
    "start_time": "2022-07-24T16:41:13.427Z"
   },
   {
    "duration": 156,
    "start_time": "2022-07-24T16:41:45.460Z"
   },
   {
    "duration": 57,
    "start_time": "2022-07-24T16:41:54.487Z"
   },
   {
    "duration": 4,
    "start_time": "2022-07-24T16:42:37.978Z"
   },
   {
    "duration": 9,
    "start_time": "2022-07-24T16:42:43.640Z"
   },
   {
    "duration": 6,
    "start_time": "2022-07-24T16:43:09.672Z"
   },
   {
    "duration": 6,
    "start_time": "2022-07-24T16:43:09.684Z"
   },
   {
    "duration": 835,
    "start_time": "2022-07-24T16:43:09.692Z"
   },
   {
    "duration": 8,
    "start_time": "2022-07-24T16:43:10.529Z"
   },
   {
    "duration": 9,
    "start_time": "2022-07-24T16:43:10.539Z"
   },
   {
    "duration": 28,
    "start_time": "2022-07-24T16:43:10.550Z"
   },
   {
    "duration": 2061,
    "start_time": "2022-07-24T16:43:10.582Z"
   },
   {
    "duration": 12,
    "start_time": "2022-07-24T16:43:12.645Z"
   },
   {
    "duration": 58,
    "start_time": "2022-07-24T16:43:12.660Z"
   },
   {
    "duration": 987,
    "start_time": "2022-07-24T16:43:12.722Z"
   },
   {
    "duration": 5,
    "start_time": "2022-07-24T16:43:13.712Z"
   },
   {
    "duration": 2477,
    "start_time": "2022-07-24T16:43:13.718Z"
   },
   {
    "duration": 5,
    "start_time": "2022-07-24T16:43:16.197Z"
   },
   {
    "duration": 10,
    "start_time": "2022-07-24T16:43:16.204Z"
   },
   {
    "duration": 7298,
    "start_time": "2022-07-24T16:43:16.216Z"
   },
   {
    "duration": 222,
    "start_time": "2022-07-24T16:43:23.516Z"
   },
   {
    "duration": 3,
    "start_time": "2022-07-24T16:43:23.740Z"
   },
   {
    "duration": 21,
    "start_time": "2022-07-24T16:43:23.745Z"
   },
   {
    "duration": 60,
    "start_time": "2022-07-24T16:43:23.772Z"
   },
   {
    "duration": 13,
    "start_time": "2022-07-24T16:43:43.879Z"
   },
   {
    "duration": 3,
    "start_time": "2022-07-24T16:44:03.798Z"
   },
   {
    "duration": 6,
    "start_time": "2022-07-24T16:44:21.455Z"
   },
   {
    "duration": 7,
    "start_time": "2022-07-24T16:44:24.231Z"
   },
   {
    "duration": 12,
    "start_time": "2022-07-24T16:44:53.068Z"
   },
   {
    "duration": 7,
    "start_time": "2022-07-24T16:45:15.572Z"
   },
   {
    "duration": 66,
    "start_time": "2022-07-24T16:45:31.358Z"
   },
   {
    "duration": 66,
    "start_time": "2022-07-24T16:45:45.481Z"
   },
   {
    "duration": 7,
    "start_time": "2022-07-24T16:46:29.173Z"
   },
   {
    "duration": 3,
    "start_time": "2022-07-24T16:46:46.839Z"
   },
   {
    "duration": 6,
    "start_time": "2022-07-24T16:47:24.069Z"
   },
   {
    "duration": 85,
    "start_time": "2022-07-24T16:47:30.951Z"
   },
   {
    "duration": 875,
    "start_time": "2022-07-24T16:47:54.921Z"
   },
   {
    "duration": 70,
    "start_time": "2022-07-24T16:47:59.357Z"
   },
   {
    "duration": 4,
    "start_time": "2022-07-24T16:48:56.839Z"
   },
   {
    "duration": 65,
    "start_time": "2022-07-24T16:51:30.058Z"
   },
   {
    "duration": 4,
    "start_time": "2022-07-24T16:51:48.537Z"
   },
   {
    "duration": 137,
    "start_time": "2022-07-24T16:52:04.360Z"
   },
   {
    "duration": 14,
    "start_time": "2022-07-24T16:53:04.984Z"
   },
   {
    "duration": 4,
    "start_time": "2022-07-24T16:53:11.949Z"
   },
   {
    "duration": 6,
    "start_time": "2022-07-24T16:53:12.907Z"
   },
   {
    "duration": 9,
    "start_time": "2022-07-24T16:53:13.846Z"
   },
   {
    "duration": 5,
    "start_time": "2022-07-24T16:53:15.426Z"
   },
   {
    "duration": 4,
    "start_time": "2022-07-24T16:53:16.589Z"
   },
   {
    "duration": 73,
    "start_time": "2022-07-24T16:53:20.052Z"
   },
   {
    "duration": 63,
    "start_time": "2022-07-24T16:53:24.383Z"
   },
   {
    "duration": 4,
    "start_time": "2022-07-24T16:53:26.955Z"
   },
   {
    "duration": 64,
    "start_time": "2022-07-24T16:53:30.128Z"
   },
   {
    "duration": 9,
    "start_time": "2022-07-24T16:55:10.371Z"
   },
   {
    "duration": 4,
    "start_time": "2022-07-24T17:23:36.481Z"
   },
   {
    "duration": 4,
    "start_time": "2022-07-24T17:23:55.634Z"
   },
   {
    "duration": 4,
    "start_time": "2022-07-24T17:25:03.839Z"
   },
   {
    "duration": 5,
    "start_time": "2022-07-24T17:26:40.751Z"
   },
   {
    "duration": 63,
    "start_time": "2022-07-24T17:27:05.580Z"
   },
   {
    "duration": 735,
    "start_time": "2022-07-24T17:28:58.657Z"
   },
   {
    "duration": 52,
    "start_time": "2022-07-24T17:29:21.462Z"
   },
   {
    "duration": 18,
    "start_time": "2022-07-24T17:29:30.907Z"
   },
   {
    "duration": 2033,
    "start_time": "2022-07-24T17:34:00.814Z"
   },
   {
    "duration": 4,
    "start_time": "2022-07-24T17:34:02.849Z"
   },
   {
    "duration": 2513,
    "start_time": "2022-07-24T17:34:02.854Z"
   },
   {
    "duration": 17,
    "start_time": "2022-07-24T17:34:05.370Z"
   },
   {
    "duration": 4,
    "start_time": "2022-07-24T17:34:05.389Z"
   },
   {
    "duration": 12,
    "start_time": "2022-07-24T17:34:05.395Z"
   },
   {
    "duration": 1958,
    "start_time": "2022-07-24T17:34:05.409Z"
   },
   {
    "duration": 10,
    "start_time": "2022-07-24T17:34:07.369Z"
   },
   {
    "duration": 6,
    "start_time": "2022-07-24T17:34:07.381Z"
   },
   {
    "duration": 825,
    "start_time": "2022-07-24T17:34:07.390Z"
   },
   {
    "duration": 4,
    "start_time": "2022-07-24T17:34:08.216Z"
   },
   {
    "duration": 1985,
    "start_time": "2022-07-24T17:34:08.221Z"
   },
   {
    "duration": 4,
    "start_time": "2022-07-24T17:34:10.207Z"
   },
   {
    "duration": 175,
    "start_time": "2022-07-24T17:34:10.212Z"
   },
   {
    "duration": 6619,
    "start_time": "2022-07-24T17:34:10.388Z"
   },
   {
    "duration": 180,
    "start_time": "2022-07-24T17:34:17.009Z"
   },
   {
    "duration": 3,
    "start_time": "2022-07-24T17:34:17.190Z"
   },
   {
    "duration": 8,
    "start_time": "2022-07-24T17:34:17.194Z"
   },
   {
    "duration": 81,
    "start_time": "2022-07-24T17:34:17.204Z"
   },
   {
    "duration": 21,
    "start_time": "2022-07-24T17:34:26.976Z"
   },
   {
    "duration": 50,
    "start_time": "2022-07-24T17:36:12.935Z"
   },
   {
    "duration": 1707,
    "start_time": "2022-07-24T17:36:33.889Z"
   },
   {
    "duration": 4,
    "start_time": "2022-07-24T17:36:35.598Z"
   },
   {
    "duration": 2351,
    "start_time": "2022-07-24T17:36:35.604Z"
   },
   {
    "duration": 13,
    "start_time": "2022-07-24T17:36:37.957Z"
   },
   {
    "duration": 5,
    "start_time": "2022-07-24T17:36:37.972Z"
   },
   {
    "duration": 9,
    "start_time": "2022-07-24T17:36:37.978Z"
   },
   {
    "duration": 1906,
    "start_time": "2022-07-24T17:36:37.989Z"
   },
   {
    "duration": 7,
    "start_time": "2022-07-24T17:36:39.897Z"
   },
   {
    "duration": 7,
    "start_time": "2022-07-24T17:36:39.906Z"
   },
   {
    "duration": 803,
    "start_time": "2022-07-24T17:36:39.914Z"
   },
   {
    "duration": 3,
    "start_time": "2022-07-24T17:36:40.718Z"
   },
   {
    "duration": 1919,
    "start_time": "2022-07-24T17:36:40.723Z"
   },
   {
    "duration": 4,
    "start_time": "2022-07-24T17:36:42.644Z"
   },
   {
    "duration": 143,
    "start_time": "2022-07-24T17:36:42.651Z"
   },
   {
    "duration": 6689,
    "start_time": "2022-07-24T17:36:42.796Z"
   },
   {
    "duration": 180,
    "start_time": "2022-07-24T17:36:49.487Z"
   },
   {
    "duration": 3,
    "start_time": "2022-07-24T17:36:49.668Z"
   },
   {
    "duration": 8,
    "start_time": "2022-07-24T17:36:49.673Z"
   },
   {
    "duration": 80,
    "start_time": "2022-07-24T17:36:49.683Z"
   },
   {
    "duration": 21,
    "start_time": "2022-07-24T17:36:54.471Z"
   },
   {
    "duration": 1796,
    "start_time": "2022-07-24T17:38:03.412Z"
   },
   {
    "duration": 3,
    "start_time": "2022-07-24T17:38:05.210Z"
   },
   {
    "duration": 2381,
    "start_time": "2022-07-24T17:38:05.214Z"
   },
   {
    "duration": 14,
    "start_time": "2022-07-24T17:38:07.597Z"
   },
   {
    "duration": 6,
    "start_time": "2022-07-24T17:38:07.612Z"
   },
   {
    "duration": 8,
    "start_time": "2022-07-24T17:38:07.619Z"
   },
   {
    "duration": 1884,
    "start_time": "2022-07-24T17:38:07.629Z"
   },
   {
    "duration": 9,
    "start_time": "2022-07-24T17:38:09.514Z"
   },
   {
    "duration": 6,
    "start_time": "2022-07-24T17:38:09.525Z"
   },
   {
    "duration": 799,
    "start_time": "2022-07-24T17:38:09.533Z"
   },
   {
    "duration": 3,
    "start_time": "2022-07-24T17:38:10.334Z"
   },
   {
    "duration": 2194,
    "start_time": "2022-07-24T17:38:10.339Z"
   },
   {
    "duration": 6,
    "start_time": "2022-07-24T17:38:12.536Z"
   },
   {
    "duration": 251,
    "start_time": "2022-07-24T17:38:12.544Z"
   },
   {
    "duration": 6982,
    "start_time": "2022-07-24T17:38:12.797Z"
   },
   {
    "duration": 195,
    "start_time": "2022-07-24T17:38:19.781Z"
   },
   {
    "duration": 4,
    "start_time": "2022-07-24T17:38:19.978Z"
   },
   {
    "duration": 13,
    "start_time": "2022-07-24T17:38:19.984Z"
   },
   {
    "duration": 85,
    "start_time": "2022-07-24T17:38:20.004Z"
   },
   {
    "duration": 22,
    "start_time": "2022-07-24T17:38:24.998Z"
   },
   {
    "duration": 116,
    "start_time": "2022-07-24T17:40:05.936Z"
   },
   {
    "duration": 3,
    "start_time": "2022-07-24T17:40:25.936Z"
   },
   {
    "duration": 6,
    "start_time": "2022-07-24T17:40:26.814Z"
   },
   {
    "duration": 7,
    "start_time": "2022-07-24T17:40:27.787Z"
   },
   {
    "duration": 5,
    "start_time": "2022-07-24T17:40:28.798Z"
   },
   {
    "duration": 4,
    "start_time": "2022-07-24T17:40:29.576Z"
   },
   {
    "duration": 69,
    "start_time": "2022-07-24T17:40:30.295Z"
   },
   {
    "duration": 68,
    "start_time": "2022-07-24T17:40:31.393Z"
   },
   {
    "duration": 4,
    "start_time": "2022-07-24T17:40:32.584Z"
   },
   {
    "duration": 5,
    "start_time": "2022-07-24T17:40:36.267Z"
   },
   {
    "duration": 6,
    "start_time": "2022-07-24T17:40:41.745Z"
   },
   {
    "duration": 21,
    "start_time": "2022-07-24T17:40:43.479Z"
   },
   {
    "duration": 5,
    "start_time": "2022-07-24T17:40:45.153Z"
   },
   {
    "duration": 22,
    "start_time": "2022-07-24T17:40:47.110Z"
   },
   {
    "duration": 1827,
    "start_time": "2022-07-24T17:43:21.505Z"
   },
   {
    "duration": 3,
    "start_time": "2022-07-24T17:43:23.334Z"
   },
   {
    "duration": 2424,
    "start_time": "2022-07-24T17:43:23.339Z"
   },
   {
    "duration": 13,
    "start_time": "2022-07-24T17:43:25.765Z"
   },
   {
    "duration": 4,
    "start_time": "2022-07-24T17:43:25.780Z"
   },
   {
    "duration": 10,
    "start_time": "2022-07-24T17:43:25.785Z"
   },
   {
    "duration": 1982,
    "start_time": "2022-07-24T17:43:25.796Z"
   },
   {
    "duration": 8,
    "start_time": "2022-07-24T17:43:27.779Z"
   },
   {
    "duration": 4,
    "start_time": "2022-07-24T17:43:27.788Z"
   },
   {
    "duration": 852,
    "start_time": "2022-07-24T17:43:27.794Z"
   },
   {
    "duration": 3,
    "start_time": "2022-07-24T17:43:28.648Z"
   },
   {
    "duration": 1947,
    "start_time": "2022-07-24T17:43:28.653Z"
   },
   {
    "duration": 3,
    "start_time": "2022-07-24T17:43:30.602Z"
   },
   {
    "duration": 207,
    "start_time": "2022-07-24T17:43:30.608Z"
   },
   {
    "duration": 6711,
    "start_time": "2022-07-24T17:43:30.816Z"
   },
   {
    "duration": 180,
    "start_time": "2022-07-24T17:43:37.528Z"
   },
   {
    "duration": 3,
    "start_time": "2022-07-24T17:43:37.709Z"
   },
   {
    "duration": 7,
    "start_time": "2022-07-24T17:43:37.713Z"
   },
   {
    "duration": 79,
    "start_time": "2022-07-24T17:43:37.721Z"
   },
   {
    "duration": 21,
    "start_time": "2022-07-24T17:43:50.485Z"
   },
   {
    "duration": 4,
    "start_time": "2022-07-24T17:43:54.337Z"
   },
   {
    "duration": 5,
    "start_time": "2022-07-24T17:43:54.953Z"
   },
   {
    "duration": 6,
    "start_time": "2022-07-24T17:43:55.589Z"
   },
   {
    "duration": 4,
    "start_time": "2022-07-24T17:43:56.141Z"
   },
   {
    "duration": 4,
    "start_time": "2022-07-24T17:43:56.845Z"
   },
   {
    "duration": 62,
    "start_time": "2022-07-24T17:43:59.680Z"
   },
   {
    "duration": 66,
    "start_time": "2022-07-24T17:44:04.262Z"
   },
   {
    "duration": 3,
    "start_time": "2022-07-24T17:44:08.142Z"
   },
   {
    "duration": 5,
    "start_time": "2022-07-24T17:44:19.270Z"
   },
   {
    "duration": 5,
    "start_time": "2022-07-24T17:44:34.800Z"
   },
   {
    "duration": 21,
    "start_time": "2022-07-24T17:44:39.158Z"
   },
   {
    "duration": 6,
    "start_time": "2022-07-24T17:44:40.773Z"
   },
   {
    "duration": 22,
    "start_time": "2022-07-24T17:44:43.647Z"
   },
   {
    "duration": 176,
    "start_time": "2022-07-24T17:46:16.701Z"
   },
   {
    "duration": 90,
    "start_time": "2022-07-24T17:46:21.950Z"
   },
   {
    "duration": 61,
    "start_time": "2022-07-24T17:47:06.384Z"
   },
   {
    "duration": 56,
    "start_time": "2022-07-24T17:47:10.084Z"
   },
   {
    "duration": 4,
    "start_time": "2022-07-24T17:58:49.834Z"
   },
   {
    "duration": 4,
    "start_time": "2022-07-24T17:58:49.842Z"
   },
   {
    "duration": 786,
    "start_time": "2022-07-24T17:58:49.848Z"
   },
   {
    "duration": 9,
    "start_time": "2022-07-24T17:58:50.636Z"
   },
   {
    "duration": 18,
    "start_time": "2022-07-24T17:58:50.647Z"
   },
   {
    "duration": 15,
    "start_time": "2022-07-24T17:58:50.667Z"
   },
   {
    "duration": 1938,
    "start_time": "2022-07-24T17:58:50.684Z"
   },
   {
    "duration": 5,
    "start_time": "2022-07-24T17:58:52.625Z"
   },
   {
    "duration": 14,
    "start_time": "2022-07-24T17:58:52.632Z"
   },
   {
    "duration": 884,
    "start_time": "2022-07-24T17:58:52.648Z"
   },
   {
    "duration": 4,
    "start_time": "2022-07-24T17:58:53.535Z"
   },
   {
    "duration": 2060,
    "start_time": "2022-07-24T17:58:53.542Z"
   },
   {
    "duration": 4,
    "start_time": "2022-07-24T17:58:55.605Z"
   },
   {
    "duration": 406049,
    "start_time": "2022-07-24T17:59:08.341Z"
   },
   {
    "duration": 4,
    "start_time": "2022-07-24T18:08:15.686Z"
   },
   {
    "duration": 6648,
    "start_time": "2022-07-24T18:08:16.577Z"
   },
   {
    "duration": 196,
    "start_time": "2022-07-24T18:08:23.227Z"
   },
   {
    "duration": 4,
    "start_time": "2022-07-24T18:08:46.001Z"
   },
   {
    "duration": 4,
    "start_time": "2022-07-24T18:08:54.194Z"
   },
   {
    "duration": 5,
    "start_time": "2022-07-24T18:26:16.531Z"
   },
   {
    "duration": 4,
    "start_time": "2022-07-24T18:27:24.426Z"
   },
   {
    "duration": 7203,
    "start_time": "2022-07-24T18:27:28.897Z"
   },
   {
    "duration": 72109,
    "start_time": "2022-07-24T18:27:57.127Z"
   },
   {
    "duration": 714901,
    "start_time": "2022-07-24T18:29:35.771Z"
   },
   {
    "duration": 68,
    "start_time": "2022-07-24T19:09:35.588Z"
   },
   {
    "duration": 61,
    "start_time": "2022-07-24T19:10:12.183Z"
   },
   {
    "duration": 13,
    "start_time": "2022-07-24T19:13:24.979Z"
   },
   {
    "duration": 724,
    "start_time": "2022-07-24T19:14:05.948Z"
   },
   {
    "duration": 697,
    "start_time": "2022-07-24T19:16:49.623Z"
   },
   {
    "duration": 4,
    "start_time": "2022-07-24T19:17:55.055Z"
   },
   {
    "duration": 717,
    "start_time": "2022-07-24T19:18:24.452Z"
   },
   {
    "duration": 675,
    "start_time": "2022-07-24T19:18:48.012Z"
   },
   {
    "duration": 711,
    "start_time": "2022-07-24T19:19:15.309Z"
   },
   {
    "duration": 696,
    "start_time": "2022-07-24T19:19:20.473Z"
   },
   {
    "duration": 698,
    "start_time": "2022-07-24T19:19:46.327Z"
   },
   {
    "duration": 20,
    "start_time": "2022-07-24T19:25:52.830Z"
   },
   {
    "duration": 9,
    "start_time": "2022-07-24T19:26:41.601Z"
   },
   {
    "duration": 4,
    "start_time": "2022-07-24T19:27:48.265Z"
   },
   {
    "duration": 768,
    "start_time": "2022-07-24T19:28:56.208Z"
   },
   {
    "duration": 703,
    "start_time": "2022-07-24T19:30:42.987Z"
   },
   {
    "duration": 739,
    "start_time": "2022-07-24T19:32:57.253Z"
   },
   {
    "duration": 3206,
    "start_time": "2022-07-24T19:37:30.401Z"
   },
   {
    "duration": 4,
    "start_time": "2022-07-24T19:37:36.240Z"
   },
   {
    "duration": 4,
    "start_time": "2022-07-24T19:38:04.197Z"
   },
   {
    "duration": 11,
    "start_time": "2022-07-24T19:41:11.357Z"
   },
   {
    "duration": 4,
    "start_time": "2022-07-24T19:41:19.740Z"
   },
   {
    "duration": 4418,
    "start_time": "2022-07-24T19:53:48.776Z"
   },
   {
    "duration": 4,
    "start_time": "2022-07-24T19:56:07.701Z"
   },
   {
    "duration": 407,
    "start_time": "2022-07-24T19:58:02.575Z"
   },
   {
    "duration": 360,
    "start_time": "2022-07-24T19:58:54.270Z"
   },
   {
    "duration": 355,
    "start_time": "2022-07-24T19:59:27.685Z"
   },
   {
    "duration": 411,
    "start_time": "2022-07-24T20:00:32.633Z"
   },
   {
    "duration": 367,
    "start_time": "2022-07-24T20:01:14.261Z"
   },
   {
    "duration": 10477,
    "start_time": "2022-07-24T20:02:18.720Z"
   },
   {
    "duration": 4,
    "start_time": "2022-07-24T20:15:31.761Z"
   },
   {
    "duration": 1282,
    "start_time": "2022-07-25T16:16:59.134Z"
   },
   {
    "duration": 2,
    "start_time": "2022-07-25T16:17:00.418Z"
   },
   {
    "duration": 2548,
    "start_time": "2022-07-25T16:17:00.423Z"
   },
   {
    "duration": 13,
    "start_time": "2022-07-25T16:17:02.974Z"
   },
   {
    "duration": 6,
    "start_time": "2022-07-25T16:17:02.989Z"
   },
   {
    "duration": 13,
    "start_time": "2022-07-25T16:17:02.996Z"
   },
   {
    "duration": 1779,
    "start_time": "2022-07-25T16:17:03.010Z"
   },
   {
    "duration": 14,
    "start_time": "2022-07-25T16:17:04.791Z"
   },
   {
    "duration": 7,
    "start_time": "2022-07-25T16:17:04.806Z"
   },
   {
    "duration": 771,
    "start_time": "2022-07-25T16:17:04.815Z"
   },
   {
    "duration": 3,
    "start_time": "2022-07-25T16:17:05.587Z"
   },
   {
    "duration": 1963,
    "start_time": "2022-07-25T16:17:05.592Z"
   },
   {
    "duration": 4,
    "start_time": "2022-07-25T16:17:07.557Z"
   },
   {
    "duration": 497,
    "start_time": "2022-07-25T16:17:07.563Z"
   },
   {
    "duration": 7490,
    "start_time": "2022-07-25T16:17:08.063Z"
   },
   {
    "duration": 195,
    "start_time": "2022-07-25T16:17:15.555Z"
   },
   {
    "duration": 2484,
    "start_time": "2022-07-25T16:17:21.447Z"
   },
   {
    "duration": 16214,
    "start_time": "2022-07-25T16:19:41.016Z"
   },
   {
    "duration": 4,
    "start_time": "2022-07-25T16:20:49.055Z"
   },
   {
    "duration": 130,
    "start_time": "2022-07-25T16:21:53.508Z"
   },
   {
    "duration": 9,
    "start_time": "2022-07-25T16:22:19.702Z"
   },
   {
    "duration": 23,
    "start_time": "2022-07-25T16:24:00.121Z"
   },
   {
    "duration": 11,
    "start_time": "2022-07-25T16:24:42.965Z"
   },
   {
    "duration": 11,
    "start_time": "2022-07-25T16:27:53.085Z"
   },
   {
    "duration": 4,
    "start_time": "2022-07-25T16:28:57.794Z"
   },
   {
    "duration": 71,
    "start_time": "2022-07-25T16:32:27.185Z"
   },
   {
    "duration": 3,
    "start_time": "2022-07-25T17:25:42.785Z"
   },
   {
    "duration": 11,
    "start_time": "2022-07-25T17:26:56.942Z"
   },
   {
    "duration": 20,
    "start_time": "2022-07-25T17:27:33.299Z"
   },
   {
    "duration": 17,
    "start_time": "2022-07-25T17:30:32.239Z"
   },
   {
    "duration": 4,
    "start_time": "2022-07-25T17:31:37.805Z"
   },
   {
    "duration": 4,
    "start_time": "2022-07-25T17:33:11.867Z"
   },
   {
    "duration": 4,
    "start_time": "2022-07-25T17:33:43.980Z"
   },
   {
    "duration": 4,
    "start_time": "2022-07-25T17:34:12.662Z"
   },
   {
    "duration": 6,
    "start_time": "2022-07-25T17:38:23.694Z"
   },
   {
    "duration": 6,
    "start_time": "2022-07-25T17:39:56.667Z"
   },
   {
    "duration": 48,
    "start_time": "2022-07-25T17:40:37.708Z"
   },
   {
    "duration": 4,
    "start_time": "2022-07-25T17:41:21.451Z"
   },
   {
    "duration": 5,
    "start_time": "2022-07-25T17:41:30.689Z"
   },
   {
    "duration": 5,
    "start_time": "2022-07-25T17:41:48.803Z"
   },
   {
    "duration": 4,
    "start_time": "2022-07-25T17:42:00.389Z"
   },
   {
    "duration": 12806,
    "start_time": "2022-07-25T17:42:54.083Z"
   },
   {
    "duration": 5,
    "start_time": "2022-07-25T17:43:09.899Z"
   },
   {
    "duration": 3002,
    "start_time": "2022-07-25T17:49:37.298Z"
   },
   {
    "duration": 12973,
    "start_time": "2022-07-25T17:50:40.370Z"
   },
   {
    "duration": 6,
    "start_time": "2022-07-25T17:52:52.452Z"
   },
   {
    "duration": 697,
    "start_time": "2022-07-25T17:57:05.592Z"
   },
   {
    "duration": 8002,
    "start_time": "2022-07-25T17:57:39.381Z"
   },
   {
    "duration": 3,
    "start_time": "2022-07-25T17:57:47.385Z"
   },
   {
    "duration": 3,
    "start_time": "2022-07-25T17:57:51.742Z"
   },
   {
    "duration": 80,
    "start_time": "2022-07-25T17:58:02.140Z"
   },
   {
    "duration": 35985,
    "start_time": "2022-07-25T17:58:12.351Z"
   },
   {
    "duration": 4,
    "start_time": "2022-07-25T18:03:04.495Z"
   },
   {
    "duration": 4,
    "start_time": "2022-07-25T18:03:30.360Z"
   },
   {
    "duration": 4,
    "start_time": "2022-07-25T18:06:52.866Z"
   },
   {
    "duration": 14,
    "start_time": "2022-07-25T18:06:54.053Z"
   },
   {
    "duration": 4,
    "start_time": "2022-07-25T18:07:46.858Z"
   },
   {
    "duration": 4,
    "start_time": "2022-07-25T18:08:10.202Z"
   },
   {
    "duration": 15,
    "start_time": "2022-07-25T18:09:03.644Z"
   },
   {
    "duration": 13,
    "start_time": "2022-07-25T18:09:40.450Z"
   },
   {
    "duration": 15,
    "start_time": "2022-07-25T18:09:52.586Z"
   },
   {
    "duration": 4,
    "start_time": "2022-07-25T18:10:17.452Z"
   },
   {
    "duration": 5,
    "start_time": "2022-07-25T18:10:25.351Z"
   },
   {
    "duration": 5,
    "start_time": "2022-07-25T18:10:31.452Z"
   },
   {
    "duration": 4,
    "start_time": "2022-07-25T18:10:44.252Z"
   },
   {
    "duration": 13,
    "start_time": "2022-07-25T18:10:51.554Z"
   },
   {
    "duration": 14,
    "start_time": "2022-07-25T18:11:56.892Z"
   },
   {
    "duration": 4,
    "start_time": "2022-07-25T18:12:24.854Z"
   },
   {
    "duration": 5,
    "start_time": "2022-07-25T18:12:36.199Z"
   },
   {
    "duration": 5,
    "start_time": "2022-07-25T18:19:28.665Z"
   },
   {
    "duration": 12,
    "start_time": "2022-07-25T18:19:43.966Z"
   },
   {
    "duration": 14,
    "start_time": "2022-07-25T18:21:29.078Z"
   },
   {
    "duration": 14,
    "start_time": "2022-07-25T18:22:23.293Z"
   },
   {
    "duration": 3,
    "start_time": "2022-07-25T18:23:26.348Z"
   },
   {
    "duration": 5,
    "start_time": "2022-07-25T18:24:45.241Z"
   },
   {
    "duration": 4,
    "start_time": "2022-07-25T18:25:14.671Z"
   },
   {
    "duration": 4,
    "start_time": "2022-07-25T18:25:21.099Z"
   },
   {
    "duration": 4,
    "start_time": "2022-07-25T18:26:48.193Z"
   },
   {
    "duration": 7,
    "start_time": "2022-07-25T18:30:03.067Z"
   },
   {
    "duration": 70,
    "start_time": "2022-07-25T18:32:04.664Z"
   },
   {
    "duration": 4,
    "start_time": "2022-07-25T18:33:42.992Z"
   },
   {
    "duration": 4,
    "start_time": "2022-07-25T18:47:35.780Z"
   },
   {
    "duration": 29,
    "start_time": "2022-07-25T18:48:11.752Z"
   },
   {
    "duration": 9,
    "start_time": "2022-07-25T18:48:37.954Z"
   },
   {
    "duration": 3,
    "start_time": "2022-07-25T18:48:52.409Z"
   },
   {
    "duration": 61,
    "start_time": "2022-07-25T18:48:53.618Z"
   },
   {
    "duration": 8744,
    "start_time": "2022-07-25T18:49:10.217Z"
   },
   {
    "duration": 5,
    "start_time": "2022-07-25T18:49:56.056Z"
   },
   {
    "duration": 3,
    "start_time": "2022-07-25T18:50:02.359Z"
   },
   {
    "duration": 81,
    "start_time": "2022-07-25T18:50:15.015Z"
   },
   {
    "duration": 4,
    "start_time": "2022-07-25T18:55:49.406Z"
   },
   {
    "duration": 120,
    "start_time": "2022-07-25T18:59:15.502Z"
   },
   {
    "duration": 8073,
    "start_time": "2022-07-25T18:59:27.109Z"
   },
   {
    "duration": 15,
    "start_time": "2022-07-25T19:04:54.268Z"
   },
   {
    "duration": 5,
    "start_time": "2022-07-25T19:06:14.779Z"
   },
   {
    "duration": 4,
    "start_time": "2022-07-25T19:08:45.199Z"
   },
   {
    "duration": 4,
    "start_time": "2022-07-25T19:08:53.448Z"
   },
   {
    "duration": 4,
    "start_time": "2022-07-25T19:08:59.726Z"
   },
   {
    "duration": 3,
    "start_time": "2022-07-25T19:09:53.263Z"
   },
   {
    "duration": 3,
    "start_time": "2022-07-25T19:09:59.460Z"
   },
   {
    "duration": 15,
    "start_time": "2022-07-25T19:11:28.374Z"
   },
   {
    "duration": 25,
    "start_time": "2022-07-25T19:12:05.336Z"
   },
   {
    "duration": 839,
    "start_time": "2022-07-25T19:15:47.715Z"
   },
   {
    "duration": 17094,
    "start_time": "2022-07-25T19:19:08.855Z"
   },
   {
    "duration": 76,
    "start_time": "2022-07-25T19:23:35.904Z"
   },
   {
    "duration": 8802,
    "start_time": "2022-07-25T19:25:45.570Z"
   },
   {
    "duration": 55623,
    "start_time": "2022-07-25T19:27:59.509Z"
   },
   {
    "duration": 245825,
    "start_time": "2022-07-25T19:33:22.491Z"
   },
   {
    "duration": 101237,
    "start_time": "2022-07-25T19:38:26.978Z"
   },
   {
    "duration": 15,
    "start_time": "2022-07-25T19:43:13.346Z"
   },
   {
    "duration": 5,
    "start_time": "2022-07-25T20:07:17.715Z"
   },
   {
    "duration": 6,
    "start_time": "2022-07-25T20:07:29.834Z"
   },
   {
    "duration": 4,
    "start_time": "2022-07-25T20:08:38.963Z"
   },
   {
    "duration": 4,
    "start_time": "2022-07-25T20:08:46.754Z"
   },
   {
    "duration": 52,
    "start_time": "2022-07-25T20:15:57.516Z"
   },
   {
    "duration": 49,
    "start_time": "2022-07-25T20:18:18.818Z"
   },
   {
    "duration": 63,
    "start_time": "2022-07-25T20:18:25.778Z"
   },
   {
    "duration": 5100,
    "start_time": "2022-07-25T20:19:37.678Z"
   },
   {
    "duration": 54494,
    "start_time": "2022-07-25T20:21:33.074Z"
   },
   {
    "duration": 172,
    "start_time": "2022-07-25T20:24:08.988Z"
   },
   {
    "duration": 20,
    "start_time": "2022-07-25T20:24:18.908Z"
   },
   {
    "duration": 4,
    "start_time": "2022-07-25T20:25:02.272Z"
   },
   {
    "duration": 36,
    "start_time": "2022-07-25T20:25:23.784Z"
   },
   {
    "duration": 2884,
    "start_time": "2022-07-25T20:25:26.079Z"
   },
   {
    "duration": 48296,
    "start_time": "2022-07-25T20:25:33.666Z"
   },
   {
    "duration": 4,
    "start_time": "2022-07-25T20:27:25.301Z"
   },
   {
    "duration": 36,
    "start_time": "2022-07-25T20:27:41.060Z"
   },
   {
    "duration": 2164,
    "start_time": "2022-07-25T20:27:44.253Z"
   },
   {
    "duration": 44893,
    "start_time": "2022-07-25T20:27:54.320Z"
   },
   {
    "duration": 6,
    "start_time": "2022-07-25T20:29:13.401Z"
   },
   {
    "duration": 8,
    "start_time": "2022-07-25T20:29:13.410Z"
   },
   {
    "duration": 3192,
    "start_time": "2022-07-25T20:29:13.421Z"
   },
   {
    "duration": 11,
    "start_time": "2022-07-25T20:29:16.616Z"
   },
   {
    "duration": 37,
    "start_time": "2022-07-25T20:29:16.629Z"
   },
   {
    "duration": 23,
    "start_time": "2022-07-25T20:29:16.669Z"
   },
   {
    "duration": 5413,
    "start_time": "2022-07-25T20:30:19.101Z"
   },
   {
    "duration": 5,
    "start_time": "2022-07-25T20:30:24.517Z"
   },
   {
    "duration": 3645,
    "start_time": "2022-07-25T20:30:24.524Z"
   },
   {
    "duration": 22,
    "start_time": "2022-07-25T20:30:28.173Z"
   },
   {
    "duration": 21,
    "start_time": "2022-07-25T20:30:28.197Z"
   },
   {
    "duration": 67,
    "start_time": "2022-07-25T20:30:28.221Z"
   },
   {
    "duration": 2273,
    "start_time": "2022-07-25T20:30:28.290Z"
   },
   {
    "duration": 8,
    "start_time": "2022-07-25T20:30:30.565Z"
   },
   {
    "duration": 22,
    "start_time": "2022-07-25T20:30:30.575Z"
   },
   {
    "duration": 992,
    "start_time": "2022-07-25T20:30:30.601Z"
   },
   {
    "duration": 4,
    "start_time": "2022-07-25T20:30:31.596Z"
   },
   {
    "duration": 2368,
    "start_time": "2022-07-25T20:30:31.602Z"
   },
   {
    "duration": 7,
    "start_time": "2022-07-25T20:30:33.971Z"
   },
   {
    "duration": 283,
    "start_time": "2022-07-25T20:30:33.981Z"
   },
   {
    "duration": 8996,
    "start_time": "2022-07-25T20:30:34.266Z"
   },
   {
    "duration": 235,
    "start_time": "2022-07-25T20:30:43.264Z"
   },
   {
    "duration": 3114,
    "start_time": "2022-07-25T20:30:43.501Z"
   },
   {
    "duration": 6,
    "start_time": "2022-07-25T20:30:46.617Z"
   },
   {
    "duration": 19981,
    "start_time": "2022-07-25T20:30:46.625Z"
   },
   {
    "duration": 5,
    "start_time": "2022-07-25T20:31:06.608Z"
   },
   {
    "duration": 705,
    "start_time": "2022-07-25T20:31:06.615Z"
   },
   {
    "duration": 9071,
    "start_time": "2022-07-25T20:31:07.322Z"
   },
   {
    "duration": 5,
    "start_time": "2022-07-25T20:31:16.395Z"
   },
   {
    "duration": 22,
    "start_time": "2022-07-25T20:31:16.402Z"
   },
   {
    "duration": 8571,
    "start_time": "2022-07-25T20:31:16.426Z"
   },
   {
    "duration": 41631,
    "start_time": "2022-07-25T20:31:24.999Z"
   },
   {
    "duration": 19,
    "start_time": "2022-07-25T20:32:12.786Z"
   },
   {
    "duration": 28,
    "start_time": "2022-07-25T20:32:14.716Z"
   },
   {
    "duration": 1224,
    "start_time": "2022-07-25T20:32:19.304Z"
   },
   {
    "duration": 22994,
    "start_time": "2022-07-25T20:32:30.769Z"
   },
   {
    "duration": 55,
    "start_time": "2022-07-25T20:33:02.065Z"
   },
   {
    "duration": 8448,
    "start_time": "2022-07-25T20:33:03.575Z"
   },
   {
    "duration": 58455,
    "start_time": "2022-07-25T20:33:18.992Z"
   },
   {
    "duration": 29,
    "start_time": "2022-07-25T20:34:30.649Z"
   },
   {
    "duration": 2536,
    "start_time": "2022-07-25T20:34:32.760Z"
   },
   {
    "duration": 45203,
    "start_time": "2022-07-25T20:34:40.540Z"
   },
   {
    "duration": 27,
    "start_time": "2022-07-25T20:36:28.743Z"
   },
   {
    "duration": 1961,
    "start_time": "2022-07-25T20:36:30.992Z"
   },
   {
    "duration": 45062,
    "start_time": "2022-07-25T20:36:36.201Z"
   },
   {
    "duration": 5,
    "start_time": "2022-07-25T20:40:22.814Z"
   },
   {
    "duration": 10,
    "start_time": "2022-07-25T20:40:22.824Z"
   },
   {
    "duration": 861,
    "start_time": "2022-07-25T20:40:22.837Z"
   },
   {
    "duration": 8,
    "start_time": "2022-07-25T20:40:23.700Z"
   },
   {
    "duration": 15,
    "start_time": "2022-07-25T20:40:23.710Z"
   },
   {
    "duration": 15,
    "start_time": "2022-07-25T20:40:23.728Z"
   },
   {
    "duration": 4281,
    "start_time": "2022-07-25T20:40:34.422Z"
   },
   {
    "duration": 4,
    "start_time": "2022-07-25T20:40:38.706Z"
   },
   {
    "duration": 3113,
    "start_time": "2022-07-25T20:40:38.712Z"
   },
   {
    "duration": 18,
    "start_time": "2022-07-25T20:40:41.834Z"
   },
   {
    "duration": 11,
    "start_time": "2022-07-25T20:40:41.854Z"
   },
   {
    "duration": 19,
    "start_time": "2022-07-25T20:40:41.866Z"
   },
   {
    "duration": 2077,
    "start_time": "2022-07-25T20:40:41.887Z"
   },
   {
    "duration": 10,
    "start_time": "2022-07-25T20:40:43.966Z"
   },
   {
    "duration": 11,
    "start_time": "2022-07-25T20:40:43.977Z"
   },
   {
    "duration": 967,
    "start_time": "2022-07-25T20:40:43.989Z"
   },
   {
    "duration": 4,
    "start_time": "2022-07-25T20:40:44.958Z"
   },
   {
    "duration": 2277,
    "start_time": "2022-07-25T20:40:44.963Z"
   },
   {
    "duration": 6,
    "start_time": "2022-07-25T20:40:47.242Z"
   },
   {
    "duration": 228,
    "start_time": "2022-07-25T20:40:47.251Z"
   },
   {
    "duration": 8041,
    "start_time": "2022-07-25T20:40:47.481Z"
   },
   {
    "duration": 221,
    "start_time": "2022-07-25T20:40:55.524Z"
   },
   {
    "duration": 2875,
    "start_time": "2022-07-25T20:40:55.747Z"
   },
   {
    "duration": 3,
    "start_time": "2022-07-25T20:40:58.624Z"
   },
   {
    "duration": 19031,
    "start_time": "2022-07-25T20:40:58.629Z"
   },
   {
    "duration": 6,
    "start_time": "2022-07-25T20:41:17.661Z"
   },
   {
    "duration": 673,
    "start_time": "2022-07-25T20:41:17.669Z"
   },
   {
    "duration": 8371,
    "start_time": "2022-07-25T20:41:18.344Z"
   },
   {
    "duration": 9,
    "start_time": "2022-07-25T20:41:26.717Z"
   },
   {
    "duration": 21,
    "start_time": "2022-07-25T20:41:26.728Z"
   },
   {
    "duration": 8364,
    "start_time": "2022-07-25T20:41:26.752Z"
   },
   {
    "duration": 40711,
    "start_time": "2022-07-25T20:41:35.118Z"
   },
   {
    "duration": 22,
    "start_time": "2022-07-25T20:42:15.834Z"
   },
   {
    "duration": 26,
    "start_time": "2022-07-25T20:42:15.858Z"
   },
   {
    "duration": 928,
    "start_time": "2022-07-25T20:42:15.886Z"
   },
   {
    "duration": 21314,
    "start_time": "2022-07-25T20:42:16.817Z"
   },
   {
    "duration": 49,
    "start_time": "2022-07-25T20:42:38.133Z"
   },
   {
    "duration": 7321,
    "start_time": "2022-07-25T20:42:38.184Z"
   },
   {
    "duration": 57617,
    "start_time": "2022-07-25T20:42:45.507Z"
   },
   {
    "duration": 28,
    "start_time": "2022-07-25T20:43:43.125Z"
   },
   {
    "duration": 1705,
    "start_time": "2022-07-25T20:43:43.154Z"
   },
   {
    "duration": 43892,
    "start_time": "2022-07-25T20:43:44.861Z"
   },
   {
    "duration": 231756,
    "start_time": "2022-07-25T20:44:28.755Z"
   },
   {
    "duration": 94817,
    "start_time": "2022-07-25T20:48:20.513Z"
   },
   {
    "duration": 16,
    "start_time": "2022-07-25T20:49:55.332Z"
   },
   {
    "duration": 1478,
    "start_time": "2022-07-27T15:14:17.027Z"
   },
   {
    "duration": 3,
    "start_time": "2022-07-27T15:14:18.507Z"
   },
   {
    "duration": 3282,
    "start_time": "2022-07-27T15:14:18.512Z"
   },
   {
    "duration": 17,
    "start_time": "2022-07-27T15:14:21.797Z"
   },
   {
    "duration": 4,
    "start_time": "2022-07-27T15:14:21.816Z"
   },
   {
    "duration": 12,
    "start_time": "2022-07-27T15:14:21.823Z"
   },
   {
    "duration": 13,
    "start_time": "2022-07-27T15:14:21.836Z"
   },
   {
    "duration": 8,
    "start_time": "2022-07-27T15:14:21.851Z"
   },
   {
    "duration": 6,
    "start_time": "2022-07-27T15:14:21.861Z"
   },
   {
    "duration": 6,
    "start_time": "2022-07-27T15:14:21.871Z"
   },
   {
    "duration": 4,
    "start_time": "2022-07-27T15:14:31.296Z"
   },
   {
    "duration": 1271,
    "start_time": "2022-07-27T15:14:36.771Z"
   },
   {
    "duration": 4,
    "start_time": "2022-07-27T15:15:24.842Z"
   },
   {
    "duration": 4,
    "start_time": "2022-07-27T15:16:43.142Z"
   },
   {
    "duration": 4,
    "start_time": "2022-07-27T15:16:59.624Z"
   },
   {
    "duration": 4,
    "start_time": "2022-07-27T15:17:19.977Z"
   },
   {
    "duration": 4,
    "start_time": "2022-07-27T15:17:35.906Z"
   },
   {
    "duration": 4,
    "start_time": "2022-07-27T15:17:50.096Z"
   },
   {
    "duration": 13,
    "start_time": "2022-07-27T15:21:22.421Z"
   },
   {
    "duration": 5,
    "start_time": "2022-07-27T15:24:29.879Z"
   },
   {
    "duration": 1264,
    "start_time": "2022-07-27T17:22:50.321Z"
   },
   {
    "duration": 3,
    "start_time": "2022-07-27T17:22:51.588Z"
   },
   {
    "duration": 2294,
    "start_time": "2022-07-27T17:22:51.593Z"
   },
   {
    "duration": 12,
    "start_time": "2022-07-27T17:22:53.889Z"
   },
   {
    "duration": 4,
    "start_time": "2022-07-27T17:22:53.902Z"
   },
   {
    "duration": 8,
    "start_time": "2022-07-27T17:22:53.907Z"
   },
   {
    "duration": 2,
    "start_time": "2022-07-27T17:22:53.916Z"
   },
   {
    "duration": 6,
    "start_time": "2022-07-27T17:22:53.919Z"
   },
   {
    "duration": 4,
    "start_time": "2022-07-27T17:22:53.926Z"
   },
   {
    "duration": 4,
    "start_time": "2022-07-27T17:22:53.932Z"
   },
   {
    "duration": 5,
    "start_time": "2022-07-27T17:22:53.937Z"
   },
   {
    "duration": 1156,
    "start_time": "2022-07-27T17:22:53.944Z"
   },
   {
    "duration": 11,
    "start_time": "2022-07-27T17:22:55.101Z"
   },
   {
    "duration": 3,
    "start_time": "2022-07-27T17:22:55.113Z"
   },
   {
    "duration": 7,
    "start_time": "2022-07-27T17:22:55.118Z"
   },
   {
    "duration": 109,
    "start_time": "2022-07-27T17:26:26.627Z"
   },
   {
    "duration": 4,
    "start_time": "2022-07-27T17:34:04.730Z"
   },
   {
    "duration": 5,
    "start_time": "2022-07-27T17:34:37.727Z"
   },
   {
    "duration": 4,
    "start_time": "2022-07-27T17:35:03.778Z"
   },
   {
    "duration": 3,
    "start_time": "2022-07-27T17:35:48.956Z"
   },
   {
    "duration": 10,
    "start_time": "2022-07-27T17:35:49.828Z"
   },
   {
    "duration": 4,
    "start_time": "2022-07-27T17:36:29.643Z"
   },
   {
    "duration": 36,
    "start_time": "2022-07-27T17:37:57.218Z"
   },
   {
    "duration": 10,
    "start_time": "2022-07-27T17:39:09.293Z"
   },
   {
    "duration": 3,
    "start_time": "2022-07-27T17:39:15.624Z"
   },
   {
    "duration": 31,
    "start_time": "2022-07-27T17:39:25.661Z"
   },
   {
    "duration": 7,
    "start_time": "2022-07-27T17:39:46.992Z"
   },
   {
    "duration": 6,
    "start_time": "2022-07-27T17:40:17.644Z"
   },
   {
    "duration": 2,
    "start_time": "2022-07-27T17:47:20.421Z"
   },
   {
    "duration": 2,
    "start_time": "2022-07-27T17:47:23.236Z"
   },
   {
    "duration": 3,
    "start_time": "2022-07-27T17:47:26.820Z"
   },
   {
    "duration": 4,
    "start_time": "2022-07-27T17:47:28.415Z"
   },
   {
    "duration": 3,
    "start_time": "2022-07-27T17:49:24.719Z"
   },
   {
    "duration": 1700,
    "start_time": "2022-07-27T17:49:26.682Z"
   },
   {
    "duration": 4,
    "start_time": "2022-07-27T17:49:30.733Z"
   },
   {
    "duration": 3,
    "start_time": "2022-07-27T17:54:17.448Z"
   },
   {
    "duration": 3,
    "start_time": "2022-07-27T17:56:49.985Z"
   },
   {
    "duration": 5,
    "start_time": "2022-07-27T17:57:48.635Z"
   },
   {
    "duration": 8,
    "start_time": "2022-07-27T17:57:48.643Z"
   },
   {
    "duration": 718,
    "start_time": "2022-07-27T17:57:48.655Z"
   },
   {
    "duration": 6,
    "start_time": "2022-07-27T17:57:49.375Z"
   },
   {
    "duration": 6,
    "start_time": "2022-07-27T17:57:49.383Z"
   },
   {
    "duration": 6,
    "start_time": "2022-07-27T17:57:49.391Z"
   },
   {
    "duration": 18,
    "start_time": "2022-07-27T17:57:49.398Z"
   },
   {
    "duration": 6,
    "start_time": "2022-07-27T17:57:49.417Z"
   },
   {
    "duration": 6,
    "start_time": "2022-07-27T17:57:49.424Z"
   },
   {
    "duration": 6,
    "start_time": "2022-07-27T17:57:49.431Z"
   },
   {
    "duration": 5,
    "start_time": "2022-07-27T17:57:49.438Z"
   },
   {
    "duration": 7,
    "start_time": "2022-07-27T17:57:49.444Z"
   },
   {
    "duration": 22,
    "start_time": "2022-07-27T17:57:49.452Z"
   },
   {
    "duration": 1681,
    "start_time": "2022-07-27T17:57:49.475Z"
   },
   {
    "duration": 3,
    "start_time": "2022-07-27T17:57:55.028Z"
   },
   {
    "duration": 551,
    "start_time": "2022-07-27T17:58:11.428Z"
   },
   {
    "duration": 361,
    "start_time": "2022-07-27T18:01:29.670Z"
   },
   {
    "duration": 2,
    "start_time": "2022-07-27T18:42:04.725Z"
   },
   {
    "duration": 41,
    "start_time": "2022-07-27T18:42:06.391Z"
   },
   {
    "duration": 3996,
    "start_time": "2022-07-27T18:42:07.823Z"
   },
   {
    "duration": 44,
    "start_time": "2022-07-27T18:43:54.918Z"
   },
   {
    "duration": 3633,
    "start_time": "2022-07-27T18:43:58.951Z"
   },
   {
    "duration": 51,
    "start_time": "2022-07-27T18:46:16.636Z"
   },
   {
    "duration": 51,
    "start_time": "2022-07-27T18:46:42.337Z"
   },
   {
    "duration": 50,
    "start_time": "2022-07-27T18:47:01.849Z"
   },
   {
    "duration": 3673,
    "start_time": "2022-07-27T18:47:06.942Z"
   },
   {
    "duration": 30293,
    "start_time": "2022-07-27T18:49:23.922Z"
   },
   {
    "duration": 15,
    "start_time": "2022-07-27T18:56:48.522Z"
   },
   {
    "duration": 21,
    "start_time": "2022-07-27T18:56:49.775Z"
   },
   {
    "duration": 647,
    "start_time": "2022-07-27T18:56:56.067Z"
   },
   {
    "duration": 11060,
    "start_time": "2022-07-27T18:57:10.317Z"
   },
   {
    "duration": 11935,
    "start_time": "2022-07-27T18:57:50.043Z"
   },
   {
    "duration": 38,
    "start_time": "2022-07-27T18:58:15.163Z"
   },
   {
    "duration": 5703,
    "start_time": "2022-07-27T18:58:26.908Z"
   },
   {
    "duration": 47564,
    "start_time": "2022-07-27T18:58:59.721Z"
   },
   {
    "duration": 21,
    "start_time": "2022-07-27T19:00:17.884Z"
   },
   {
    "duration": 1410,
    "start_time": "2022-07-27T19:00:20.786Z"
   },
   {
    "duration": 37228,
    "start_time": "2022-07-27T19:00:29.346Z"
   },
   {
    "duration": 4,
    "start_time": "2022-07-27T19:15:40.604Z"
   },
   {
    "duration": 100,
    "start_time": "2022-07-27T19:22:07.724Z"
   },
   {
    "duration": 107058,
    "start_time": "2022-07-27T19:23:45.229Z"
   },
   {
    "duration": 61558,
    "start_time": "2022-07-27T19:25:52.024Z"
   },
   {
    "duration": 62033,
    "start_time": "2022-07-27T19:28:05.941Z"
   },
   {
    "duration": 102003,
    "start_time": "2022-07-27T19:29:29.171Z"
   },
   {
    "duration": 59516,
    "start_time": "2022-07-27T19:32:23.875Z"
   },
   {
    "duration": 1185,
    "start_time": "2022-07-27T19:37:13.546Z"
   },
   {
    "duration": 5,
    "start_time": "2022-07-27T19:59:24.092Z"
   },
   {
    "duration": 28,
    "start_time": "2022-07-27T19:59:24.101Z"
   },
   {
    "duration": 733,
    "start_time": "2022-07-27T19:59:24.131Z"
   },
   {
    "duration": 13,
    "start_time": "2022-07-27T19:59:24.866Z"
   },
   {
    "duration": 8,
    "start_time": "2022-07-27T19:59:24.881Z"
   },
   {
    "duration": 10,
    "start_time": "2022-07-27T19:59:24.890Z"
   },
   {
    "duration": 7,
    "start_time": "2022-07-27T19:59:24.901Z"
   },
   {
    "duration": 7,
    "start_time": "2022-07-27T19:59:24.909Z"
   },
   {
    "duration": 4,
    "start_time": "2022-07-27T19:59:24.917Z"
   },
   {
    "duration": 8,
    "start_time": "2022-07-27T19:59:24.923Z"
   },
   {
    "duration": 13,
    "start_time": "2022-07-27T19:59:24.933Z"
   },
   {
    "duration": 7,
    "start_time": "2022-07-27T19:59:24.947Z"
   },
   {
    "duration": 5,
    "start_time": "2022-07-27T19:59:24.956Z"
   },
   {
    "duration": 1767,
    "start_time": "2022-07-27T19:59:24.963Z"
   },
   {
    "duration": 4,
    "start_time": "2022-07-27T19:59:26.732Z"
   },
   {
    "duration": 496,
    "start_time": "2022-07-27T19:59:26.738Z"
   },
   {
    "duration": 194,
    "start_time": "2022-07-27T19:59:27.236Z"
   },
   {
    "duration": 3,
    "start_time": "2022-07-27T19:59:27.432Z"
   },
   {
    "duration": 59,
    "start_time": "2022-07-27T19:59:27.437Z"
   },
   {
    "duration": 3729,
    "start_time": "2022-07-27T19:59:27.497Z"
   },
   {
    "duration": 41366,
    "start_time": "2022-07-27T19:59:31.228Z"
   },
   {
    "duration": 16,
    "start_time": "2022-07-27T20:00:12.596Z"
   },
   {
    "duration": 16,
    "start_time": "2022-07-27T20:00:12.614Z"
   },
   {
    "duration": 669,
    "start_time": "2022-07-27T20:00:12.632Z"
   },
   {
    "duration": 20680,
    "start_time": "2022-07-27T20:00:13.304Z"
   },
   {
    "duration": 54,
    "start_time": "2022-07-27T20:00:33.986Z"
   },
   {
    "duration": 5887,
    "start_time": "2022-07-27T20:00:34.042Z"
   },
   {
    "duration": 47044,
    "start_time": "2022-07-27T20:00:39.930Z"
   },
   {
    "duration": 30,
    "start_time": "2022-07-27T20:01:26.976Z"
   },
   {
    "duration": 1351,
    "start_time": "2022-07-27T20:01:27.008Z"
   },
   {
    "duration": 33420,
    "start_time": "2022-07-27T20:01:28.360Z"
   },
   {
    "duration": 61101,
    "start_time": "2022-07-27T20:02:01.781Z"
   },
   {
    "duration": 126213,
    "start_time": "2022-07-27T20:03:02.884Z"
   },
   {
    "duration": 79633,
    "start_time": "2022-07-27T20:05:09.099Z"
   },
   {
    "duration": 1145,
    "start_time": "2022-07-27T20:06:28.733Z"
   },
   {
    "duration": 1253,
    "start_time": "2022-07-28T20:32:44.177Z"
   },
   {
    "duration": 3,
    "start_time": "2022-07-28T20:32:45.432Z"
   },
   {
    "duration": 3628,
    "start_time": "2022-07-28T20:32:45.436Z"
   },
   {
    "duration": 18,
    "start_time": "2022-07-28T20:32:49.066Z"
   },
   {
    "duration": 6,
    "start_time": "2022-07-28T20:32:49.087Z"
   },
   {
    "duration": 11,
    "start_time": "2022-07-28T20:32:49.095Z"
   },
   {
    "duration": 5,
    "start_time": "2022-07-28T20:32:49.108Z"
   },
   {
    "duration": 6,
    "start_time": "2022-07-28T20:32:49.115Z"
   },
   {
    "duration": 12,
    "start_time": "2022-07-28T20:32:49.122Z"
   },
   {
    "duration": 121,
    "start_time": "2022-07-28T20:32:53.433Z"
   },
   {
    "duration": 1091,
    "start_time": "2022-07-28T20:33:49.823Z"
   },
   {
    "duration": 4,
    "start_time": "2022-07-28T20:35:19.729Z"
   },
   {
    "duration": 9,
    "start_time": "2022-07-28T20:47:42.236Z"
   },
   {
    "duration": 4,
    "start_time": "2022-07-28T20:48:20.822Z"
   },
   {
    "duration": 3,
    "start_time": "2022-07-28T20:50:23.172Z"
   },
   {
    "duration": 3,
    "start_time": "2022-07-28T20:51:46.199Z"
   },
   {
    "duration": 9,
    "start_time": "2022-07-28T20:51:47.189Z"
   },
   {
    "duration": 2,
    "start_time": "2022-07-28T20:52:12.102Z"
   },
   {
    "duration": 89,
    "start_time": "2022-07-28T20:52:12.995Z"
   },
   {
    "duration": 4,
    "start_time": "2022-07-28T20:54:02.187Z"
   },
   {
    "duration": 7,
    "start_time": "2022-07-28T20:54:02.196Z"
   },
   {
    "duration": 751,
    "start_time": "2022-07-28T20:54:02.206Z"
   },
   {
    "duration": 8,
    "start_time": "2022-07-28T20:54:02.959Z"
   },
   {
    "duration": 18,
    "start_time": "2022-07-28T20:54:02.968Z"
   },
   {
    "duration": 7,
    "start_time": "2022-07-28T20:54:02.988Z"
   },
   {
    "duration": 4,
    "start_time": "2022-07-28T20:54:02.996Z"
   },
   {
    "duration": 6,
    "start_time": "2022-07-28T20:54:03.001Z"
   },
   {
    "duration": 12,
    "start_time": "2022-07-28T20:54:03.009Z"
   },
   {
    "duration": 4,
    "start_time": "2022-07-28T20:54:03.023Z"
   },
   {
    "duration": 5,
    "start_time": "2022-07-28T20:54:03.029Z"
   },
   {
    "duration": 93,
    "start_time": "2022-07-28T20:54:06.739Z"
   },
   {
    "duration": 5,
    "start_time": "2022-07-28T21:14:06.879Z"
   },
   {
    "duration": 3,
    "start_time": "2022-07-28T21:14:06.890Z"
   },
   {
    "duration": 787,
    "start_time": "2022-07-28T21:14:06.898Z"
   },
   {
    "duration": 6,
    "start_time": "2022-07-28T21:14:07.687Z"
   },
   {
    "duration": 7,
    "start_time": "2022-07-28T21:14:07.694Z"
   },
   {
    "duration": 7,
    "start_time": "2022-07-28T21:14:07.703Z"
   },
   {
    "duration": 2,
    "start_time": "2022-07-28T21:14:07.711Z"
   },
   {
    "duration": 6,
    "start_time": "2022-07-28T21:14:07.715Z"
   },
   {
    "duration": 5,
    "start_time": "2022-07-28T21:14:07.723Z"
   },
   {
    "duration": 3,
    "start_time": "2022-07-28T21:14:07.752Z"
   },
   {
    "duration": 10,
    "start_time": "2022-07-28T21:14:07.757Z"
   },
   {
    "duration": 92,
    "start_time": "2022-07-28T21:14:07.770Z"
   },
   {
    "duration": 3,
    "start_time": "2022-07-28T21:14:07.864Z"
   },
   {
    "duration": 1802,
    "start_time": "2022-07-28T21:14:07.868Z"
   },
   {
    "duration": 6,
    "start_time": "2022-07-28T21:14:09.672Z"
   },
   {
    "duration": 73332,
    "start_time": "2022-07-28T21:14:09.680Z"
   },
   {
    "duration": 673,
    "start_time": "2022-07-28T21:15:23.014Z"
   },
   {
    "duration": 2,
    "start_time": "2022-07-28T21:15:23.689Z"
   },
   {
    "duration": 45,
    "start_time": "2022-07-28T21:15:23.692Z"
   },
   {
    "duration": 4493,
    "start_time": "2022-07-28T21:15:23.738Z"
   },
   {
    "duration": 95,
    "start_time": "2022-07-28T21:16:39.536Z"
   },
   {
    "duration": 11,
    "start_time": "2022-07-28T21:17:20.017Z"
   },
   {
    "duration": 12,
    "start_time": "2022-07-28T21:19:29.708Z"
   },
   {
    "duration": 40,
    "start_time": "2022-07-28T21:22:48.639Z"
   },
   {
    "duration": 142,
    "start_time": "2022-07-28T21:27:52.480Z"
   },
   {
    "duration": 35,
    "start_time": "2022-07-28T21:32:48.673Z"
   },
   {
    "duration": 137,
    "start_time": "2022-07-28T21:33:33.730Z"
   },
   {
    "duration": 118,
    "start_time": "2022-07-28T21:33:50.169Z"
   },
   {
    "duration": 1253,
    "start_time": "2022-07-29T17:37:45.130Z"
   },
   {
    "duration": 3,
    "start_time": "2022-07-29T17:37:46.385Z"
   },
   {
    "duration": 3320,
    "start_time": "2022-07-29T17:37:46.389Z"
   },
   {
    "duration": 13,
    "start_time": "2022-07-29T17:37:49.711Z"
   },
   {
    "duration": 3,
    "start_time": "2022-07-29T17:37:49.726Z"
   },
   {
    "duration": 38,
    "start_time": "2022-07-29T17:37:49.731Z"
   },
   {
    "duration": 3,
    "start_time": "2022-07-29T17:37:49.771Z"
   },
   {
    "duration": 8,
    "start_time": "2022-07-29T17:37:49.775Z"
   },
   {
    "duration": 12,
    "start_time": "2022-07-29T17:37:49.784Z"
   },
   {
    "duration": 12,
    "start_time": "2022-07-29T17:37:49.799Z"
   },
   {
    "duration": 12,
    "start_time": "2022-07-29T17:37:49.813Z"
   },
   {
    "duration": 1269,
    "start_time": "2022-07-29T17:37:49.827Z"
   },
   {
    "duration": 3,
    "start_time": "2022-07-29T17:37:51.098Z"
   },
   {
    "duration": 1906,
    "start_time": "2022-07-29T17:37:51.102Z"
   },
   {
    "duration": 6,
    "start_time": "2022-07-29T17:37:53.010Z"
   },
   {
    "duration": 73908,
    "start_time": "2022-07-29T17:37:53.017Z"
   },
   {
    "duration": 393,
    "start_time": "2022-07-29T17:39:06.926Z"
   },
   {
    "duration": 3,
    "start_time": "2022-07-29T17:39:07.320Z"
   },
   {
    "duration": 64,
    "start_time": "2022-07-29T17:39:07.325Z"
   },
   {
    "duration": 4108,
    "start_time": "2022-07-29T17:39:07.391Z"
   },
   {
    "duration": 284,
    "start_time": "2022-07-29T17:45:57.682Z"
   },
   {
    "duration": 221,
    "start_time": "2022-07-29T17:51:36.054Z"
   },
   {
    "duration": 2328,
    "start_time": "2022-07-29T17:51:55.590Z"
   },
   {
    "duration": 127,
    "start_time": "2022-07-29T17:57:56.046Z"
   },
   {
    "duration": 17,
    "start_time": "2022-07-29T17:58:50.598Z"
   },
   {
    "duration": 5,
    "start_time": "2022-07-29T18:01:59.134Z"
   },
   {
    "duration": 5,
    "start_time": "2022-07-29T18:02:44.992Z"
   },
   {
    "duration": 20,
    "start_time": "2022-07-29T18:04:49.669Z"
   },
   {
    "duration": 21,
    "start_time": "2022-07-29T18:05:05.007Z"
   },
   {
    "duration": 3305,
    "start_time": "2022-07-29T18:06:52.956Z"
   },
   {
    "duration": 3657,
    "start_time": "2022-07-29T18:09:58.362Z"
   },
   {
    "duration": 402,
    "start_time": "2022-07-29T18:10:29.704Z"
   },
   {
    "duration": 4,
    "start_time": "2022-07-29T18:17:20.825Z"
   },
   {
    "duration": 7,
    "start_time": "2022-07-29T18:17:20.834Z"
   },
   {
    "duration": 703,
    "start_time": "2022-07-29T18:17:20.843Z"
   },
   {
    "duration": 7,
    "start_time": "2022-07-29T18:17:21.548Z"
   },
   {
    "duration": 7,
    "start_time": "2022-07-29T18:17:21.557Z"
   },
   {
    "duration": 8,
    "start_time": "2022-07-29T18:17:21.566Z"
   },
   {
    "duration": 16,
    "start_time": "2022-07-29T18:17:21.576Z"
   },
   {
    "duration": 5,
    "start_time": "2022-07-29T18:17:21.596Z"
   },
   {
    "duration": 29,
    "start_time": "2022-07-29T18:17:21.602Z"
   },
   {
    "duration": 8,
    "start_time": "2022-07-29T18:17:21.633Z"
   },
   {
    "duration": 13,
    "start_time": "2022-07-29T18:17:21.643Z"
   },
   {
    "duration": 90,
    "start_time": "2022-07-29T18:17:21.659Z"
   },
   {
    "duration": 3,
    "start_time": "2022-07-29T18:17:21.751Z"
   },
   {
    "duration": 1745,
    "start_time": "2022-07-29T18:17:21.756Z"
   },
   {
    "duration": 3,
    "start_time": "2022-07-29T18:17:23.503Z"
   },
   {
    "duration": 70498,
    "start_time": "2022-07-29T18:17:23.508Z"
   },
   {
    "duration": 5,
    "start_time": "2022-07-29T18:18:34.008Z"
   },
   {
    "duration": 7,
    "start_time": "2022-07-29T18:18:34.015Z"
   },
   {
    "duration": 67,
    "start_time": "2022-07-29T18:18:34.032Z"
   },
   {
    "duration": 4334,
    "start_time": "2022-07-29T18:18:34.101Z"
   },
   {
    "duration": 44737,
    "start_time": "2022-07-29T18:18:38.437Z"
   },
   {
    "duration": 13,
    "start_time": "2022-07-29T18:19:23.176Z"
   },
   {
    "duration": 14,
    "start_time": "2022-07-29T18:19:23.190Z"
   },
   {
    "duration": 681,
    "start_time": "2022-07-29T18:19:23.206Z"
   },
   {
    "duration": 16748,
    "start_time": "2022-07-29T18:19:23.889Z"
   },
   {
    "duration": 47,
    "start_time": "2022-07-29T18:19:40.639Z"
   },
   {
    "duration": 5861,
    "start_time": "2022-07-29T18:19:40.688Z"
   },
   {
    "duration": 51186,
    "start_time": "2022-07-29T18:19:46.551Z"
   },
   {
    "duration": 26,
    "start_time": "2022-07-29T18:20:37.739Z"
   },
   {
    "duration": 1620,
    "start_time": "2022-07-29T18:20:37.769Z"
   },
   {
    "duration": 39358,
    "start_time": "2022-07-29T18:20:39.390Z"
   },
   {
    "duration": 78009,
    "start_time": "2022-07-29T18:21:18.750Z"
   },
   {
    "duration": 135617,
    "start_time": "2022-07-29T18:22:36.761Z"
   },
   {
    "duration": 83255,
    "start_time": "2022-07-29T18:24:52.380Z"
   },
   {
    "duration": 1200,
    "start_time": "2022-07-29T18:26:15.637Z"
   },
   {
    "duration": 1352,
    "start_time": "2022-07-31T12:41:29.344Z"
   },
   {
    "duration": 3,
    "start_time": "2022-07-31T12:41:30.698Z"
   },
   {
    "duration": 2649,
    "start_time": "2022-07-31T12:41:30.703Z"
   },
   {
    "duration": 22,
    "start_time": "2022-07-31T12:41:33.354Z"
   },
   {
    "duration": 12,
    "start_time": "2022-07-31T12:41:33.377Z"
   },
   {
    "duration": 50,
    "start_time": "2022-07-31T12:41:33.390Z"
   },
   {
    "duration": 12,
    "start_time": "2022-07-31T12:41:33.441Z"
   },
   {
    "duration": 43,
    "start_time": "2022-07-31T12:41:33.454Z"
   },
   {
    "duration": 15,
    "start_time": "2022-07-31T12:41:33.498Z"
   },
   {
    "duration": 27,
    "start_time": "2022-07-31T12:41:33.515Z"
   },
   {
    "duration": 35,
    "start_time": "2022-07-31T12:41:33.544Z"
   },
   {
    "duration": 1325,
    "start_time": "2022-07-31T12:41:33.580Z"
   },
   {
    "duration": 3,
    "start_time": "2022-07-31T12:41:34.907Z"
   },
   {
    "duration": 2070,
    "start_time": "2022-07-31T12:41:34.911Z"
   },
   {
    "duration": 3,
    "start_time": "2022-07-31T12:41:36.983Z"
   },
   {
    "duration": 79271,
    "start_time": "2022-07-31T12:41:36.988Z"
   },
   {
    "duration": 349,
    "start_time": "2022-07-31T12:42:56.262Z"
   },
   {
    "duration": 2,
    "start_time": "2022-07-31T12:42:56.613Z"
   },
   {
    "duration": 56,
    "start_time": "2022-07-31T12:42:56.616Z"
   },
   {
    "duration": 4175,
    "start_time": "2022-07-31T12:42:56.674Z"
   },
   {
    "duration": 5,
    "start_time": "2022-07-31T12:45:21.118Z"
   },
   {
    "duration": 122,
    "start_time": "2022-07-31T12:46:14.829Z"
   },
   {
    "duration": 4,
    "start_time": "2022-07-31T12:47:23.383Z"
   },
   {
    "duration": 3,
    "start_time": "2022-07-31T12:47:45.173Z"
   },
   {
    "duration": 464,
    "start_time": "2022-07-31T12:48:16.425Z"
   },
   {
    "duration": 3,
    "start_time": "2022-07-31T12:49:31.123Z"
   },
   {
    "duration": 2599,
    "start_time": "2022-07-31T12:49:31.921Z"
   },
   {
    "duration": 2549,
    "start_time": "2022-07-31T12:49:51.557Z"
   },
   {
    "duration": 5,
    "start_time": "2022-07-31T12:51:36.673Z"
   },
   {
    "duration": 4761,
    "start_time": "2022-07-31T12:57:33.513Z"
   },
   {
    "duration": 5286,
    "start_time": "2022-07-31T12:57:59.928Z"
   },
   {
    "duration": 1295,
    "start_time": "2022-07-31T12:59:50.109Z"
   },
   {
    "duration": 4736,
    "start_time": "2022-07-31T13:00:03.581Z"
   },
   {
    "duration": 5307,
    "start_time": "2022-07-31T13:00:34.953Z"
   },
   {
    "duration": 3054,
    "start_time": "2022-07-31T13:09:35.339Z"
   },
   {
    "duration": 4,
    "start_time": "2022-07-31T13:10:52.316Z"
   },
   {
    "duration": 10,
    "start_time": "2022-07-31T13:10:52.322Z"
   },
   {
    "duration": 903,
    "start_time": "2022-07-31T13:10:52.334Z"
   },
   {
    "duration": 7,
    "start_time": "2022-07-31T13:10:53.238Z"
   },
   {
    "duration": 7,
    "start_time": "2022-07-31T13:10:53.246Z"
   },
   {
    "duration": 17,
    "start_time": "2022-07-31T13:10:53.254Z"
   },
   {
    "duration": 20,
    "start_time": "2022-07-31T13:10:53.273Z"
   },
   {
    "duration": 6,
    "start_time": "2022-07-31T13:10:53.295Z"
   },
   {
    "duration": 5,
    "start_time": "2022-07-31T13:10:53.302Z"
   },
   {
    "duration": 13,
    "start_time": "2022-07-31T13:10:53.309Z"
   },
   {
    "duration": 11,
    "start_time": "2022-07-31T13:10:53.323Z"
   },
   {
    "duration": 96,
    "start_time": "2022-07-31T13:10:53.336Z"
   },
   {
    "duration": 3,
    "start_time": "2022-07-31T13:10:53.433Z"
   },
   {
    "duration": 1983,
    "start_time": "2022-07-31T13:10:53.438Z"
   },
   {
    "duration": 4,
    "start_time": "2022-07-31T13:10:55.423Z"
   },
   {
    "duration": 78823,
    "start_time": "2022-07-31T13:10:55.428Z"
   },
   {
    "duration": 17,
    "start_time": "2022-07-31T13:12:14.253Z"
   },
   {
    "duration": 6,
    "start_time": "2022-07-31T13:12:14.273Z"
   },
   {
    "duration": 53,
    "start_time": "2022-07-31T13:12:14.280Z"
   },
   {
    "duration": 4298,
    "start_time": "2022-07-31T13:12:14.335Z"
   },
   {
    "duration": 47470,
    "start_time": "2022-07-31T13:12:18.635Z"
   },
   {
    "duration": 14,
    "start_time": "2022-07-31T13:13:06.107Z"
   },
   {
    "duration": 15,
    "start_time": "2022-07-31T13:13:06.123Z"
   },
   {
    "duration": 834,
    "start_time": "2022-07-31T13:13:06.140Z"
   },
   {
    "duration": 24706,
    "start_time": "2022-07-31T13:13:06.976Z"
   },
   {
    "duration": 38,
    "start_time": "2022-07-31T13:13:31.684Z"
   },
   {
    "duration": 6454,
    "start_time": "2022-07-31T13:13:31.724Z"
   },
   {
    "duration": 49687,
    "start_time": "2022-07-31T13:13:38.180Z"
   },
   {
    "duration": 108,
    "start_time": "2022-07-31T13:14:27.869Z"
   },
   {
    "duration": 1529,
    "start_time": "2022-07-31T13:14:27.982Z"
   },
   {
    "duration": 42364,
    "start_time": "2022-07-31T13:14:29.513Z"
   },
   {
    "duration": 72797,
    "start_time": "2022-07-31T13:15:11.879Z"
   },
   {
    "duration": 156605,
    "start_time": "2022-07-31T13:16:24.680Z"
   },
   {
    "duration": 258946,
    "start_time": "2022-07-31T13:19:01.287Z"
   },
   {
    "duration": 98316,
    "start_time": "2022-07-31T13:23:20.235Z"
   },
   {
    "duration": 123926,
    "start_time": "2022-07-31T13:24:58.552Z"
   },
   {
    "duration": 1409,
    "start_time": "2022-07-31T13:27:02.480Z"
   }
  ],
  "kernelspec": {
   "display_name": "Python 3",
   "language": "python",
   "name": "python3"
  },
  "language_info": {
   "codemirror_mode": {
    "name": "ipython",
    "version": 3
   },
   "file_extension": ".py",
   "mimetype": "text/x-python",
   "name": "python",
   "nbconvert_exporter": "python",
   "pygments_lexer": "ipython3",
   "version": "3.7.3"
  },
  "toc": {
   "base_numbering": 1,
   "nav_menu": {},
   "number_sections": true,
   "sideBar": true,
   "skip_h1_title": true,
   "title_cell": "Содержание",
   "title_sidebar": "Contents",
   "toc_cell": true,
   "toc_position": {
    "height": "calc(100% - 180px)",
    "left": "10px",
    "top": "150px",
    "width": "302.391px"
   },
   "toc_section_display": true,
   "toc_window_display": false
  }
 },
 "nbformat": 4,
 "nbformat_minor": 2
}
