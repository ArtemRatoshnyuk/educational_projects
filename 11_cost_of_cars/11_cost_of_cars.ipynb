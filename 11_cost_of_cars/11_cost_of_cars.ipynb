{
 "cells": [
  {
   "cell_type": "markdown",
   "metadata": {},
   "source": [
    "# Определение стоимости автомобилей"
   ]
  },
  {
   "cell_type": "markdown",
   "metadata": {},
   "source": [
    "Сервис по продаже автомобилей с пробегом «Не бит, не крашен» разрабатывает приложение для привлечения новых клиентов. В нём можно быстро узнать рыночную стоимость своего автомобиля. В вашем распоряжении исторические данные: технические характеристики, комплектации и цены автомобилей. Вам нужно построить модель для определения стоимости. \n",
    "\n",
    "Заказчику важны:\n",
    "\n",
    "- качество предсказания;\n",
    "- скорость предсказания;\n",
    "- время обучения."
   ]
  },
  {
   "cell_type": "markdown",
   "metadata": {},
   "source": [
    "**Заказчик.** Сервис по продаже автомобилей с пробегом «Не бит, не крашен»\n",
    "\n",
    "**Цель Заказчика.** Разработка приложения в котором можно быстро узнать рыночную стоимость своего автомобиля.\n",
    "\n",
    "**Цель исследования.** Построить модель для определения стоимости автомобиля. Характеричтики модели:\n",
    "- высокое качество предсказания;\n",
    "- высокая скорость предсказания;\n",
    "- короткое время обучения\n",
    "\n",
    "**Задачи:**\n",
    "\n",
    "- Загрузить и подготовить данные.\n",
    "- Обучить разные модели. Для каждой попробовать различные гиперпараметры.\n",
    "- Проанализировать скорость работы и качество моделей.\n",
    "\n",
    "**Входные данные от Заказчика.** Файл в формате .csv с данными о продаваемых машинах\n",
    "\n",
    "**Ожидаемый результат.** Построена модель для определения стоимости автомобиля, со значением метрики RMSE менее 2500 и лучшим временем обучения."
   ]
  },
  {
   "cell_type": "markdown",
   "metadata": {},
   "source": [
    "## Подготовка данных"
   ]
  },
  {
   "cell_type": "markdown",
   "metadata": {},
   "source": [
    "**Признаки**\n",
    "\n",
    "- `DateCrawled` — дата скачивания анкеты из базы\n",
    "- `VehicleType` — тип автомобильного кузова\n",
    "- `RegistrationYear` — год регистрации автомобиля\n",
    "- `Gearbox` — тип коробки передач\n",
    "- `Power` — мощность (л. с.)\n",
    "- `Model` — модель автомобиля\n",
    "- `Kilometer` — пробег (км)\n",
    "- `RegistrationMonth` — месяц регистрации автомобиля\n",
    "- `FuelType` — тип топлива\n",
    "- `Brand` — марка автомобиля\n",
    "- `NotRepaired` — была машина в ремонте или нет\n",
    "- `DateCreated` — дата создания анкеты\n",
    "- `NumberOfPictures` — количество фотографий автомобиля\n",
    "- `PostalCode` — почтовый индекс владельца анкеты (пользователя)\n",
    "- `LastSeen` — дата последней активности пользователя\n",
    "\n",
    "**Цеоевой признак**\n",
    "\n",
    "- `Price` — цена (евро)"
   ]
  },
  {
   "cell_type": "code",
   "execution_count": 16,
   "metadata": {},
   "outputs": [],
   "source": [
    "# Импотрт библиотек\n",
    "import pandas as pd\n",
    "import numpy as np\n",
    "from numpy.random import RandomState\n",
    "import matplotlib.pyplot as plt\n",
    "from time import time\n",
    "\n",
    "from sklearn.tree import DecisionTreeRegressor\n",
    "from sklearn.ensemble import RandomForestRegressor\n",
    "from sklearn.linear_model import LinearRegression\n",
    "\n",
    "from sklearn.model_selection import cross_val_score # кросс-вылидация\n",
    "from sklearn.model_selection import GridSearchCV # кросс-вылидация\n",
    "from sklearn.model_selection import train_test_split\n",
    "from sklearn.preprocessing import StandardScaler # стандартизация\n",
    "from sklearn.dummy import DummyRegressor\n",
    "from sklearn.metrics import mean_squared_error\n",
    "\n",
    "import lightgbm as lgb"
   ]
  },
  {
   "cell_type": "code",
   "execution_count": 17,
   "metadata": {},
   "outputs": [
    {
     "data": {
      "text/html": [
       "<div>\n",
       "<style scoped>\n",
       "    .dataframe tbody tr th:only-of-type {\n",
       "        vertical-align: middle;\n",
       "    }\n",
       "\n",
       "    .dataframe tbody tr th {\n",
       "        vertical-align: top;\n",
       "    }\n",
       "\n",
       "    .dataframe thead th {\n",
       "        text-align: right;\n",
       "    }\n",
       "</style>\n",
       "<table border=\"1\" class=\"dataframe\">\n",
       "  <thead>\n",
       "    <tr style=\"text-align: right;\">\n",
       "      <th></th>\n",
       "      <th>DateCrawled</th>\n",
       "      <th>Price</th>\n",
       "      <th>VehicleType</th>\n",
       "      <th>RegistrationYear</th>\n",
       "      <th>Gearbox</th>\n",
       "      <th>Power</th>\n",
       "      <th>Model</th>\n",
       "      <th>Kilometer</th>\n",
       "      <th>RegistrationMonth</th>\n",
       "      <th>FuelType</th>\n",
       "      <th>Brand</th>\n",
       "      <th>NotRepaired</th>\n",
       "      <th>DateCreated</th>\n",
       "      <th>NumberOfPictures</th>\n",
       "      <th>PostalCode</th>\n",
       "      <th>LastSeen</th>\n",
       "    </tr>\n",
       "  </thead>\n",
       "  <tbody>\n",
       "    <tr>\n",
       "      <th>0</th>\n",
       "      <td>2016-03-24 11:52:17</td>\n",
       "      <td>480</td>\n",
       "      <td>NaN</td>\n",
       "      <td>1993</td>\n",
       "      <td>manual</td>\n",
       "      <td>0</td>\n",
       "      <td>golf</td>\n",
       "      <td>150000</td>\n",
       "      <td>0</td>\n",
       "      <td>petrol</td>\n",
       "      <td>volkswagen</td>\n",
       "      <td>NaN</td>\n",
       "      <td>2016-03-24 00:00:00</td>\n",
       "      <td>0</td>\n",
       "      <td>70435</td>\n",
       "      <td>2016-04-07 03:16:57</td>\n",
       "    </tr>\n",
       "    <tr>\n",
       "      <th>1</th>\n",
       "      <td>2016-03-24 10:58:45</td>\n",
       "      <td>18300</td>\n",
       "      <td>coupe</td>\n",
       "      <td>2011</td>\n",
       "      <td>manual</td>\n",
       "      <td>190</td>\n",
       "      <td>NaN</td>\n",
       "      <td>125000</td>\n",
       "      <td>5</td>\n",
       "      <td>gasoline</td>\n",
       "      <td>audi</td>\n",
       "      <td>yes</td>\n",
       "      <td>2016-03-24 00:00:00</td>\n",
       "      <td>0</td>\n",
       "      <td>66954</td>\n",
       "      <td>2016-04-07 01:46:50</td>\n",
       "    </tr>\n",
       "    <tr>\n",
       "      <th>2</th>\n",
       "      <td>2016-03-14 12:52:21</td>\n",
       "      <td>9800</td>\n",
       "      <td>suv</td>\n",
       "      <td>2004</td>\n",
       "      <td>auto</td>\n",
       "      <td>163</td>\n",
       "      <td>grand</td>\n",
       "      <td>125000</td>\n",
       "      <td>8</td>\n",
       "      <td>gasoline</td>\n",
       "      <td>jeep</td>\n",
       "      <td>NaN</td>\n",
       "      <td>2016-03-14 00:00:00</td>\n",
       "      <td>0</td>\n",
       "      <td>90480</td>\n",
       "      <td>2016-04-05 12:47:46</td>\n",
       "    </tr>\n",
       "    <tr>\n",
       "      <th>3</th>\n",
       "      <td>2016-03-17 16:54:04</td>\n",
       "      <td>1500</td>\n",
       "      <td>small</td>\n",
       "      <td>2001</td>\n",
       "      <td>manual</td>\n",
       "      <td>75</td>\n",
       "      <td>golf</td>\n",
       "      <td>150000</td>\n",
       "      <td>6</td>\n",
       "      <td>petrol</td>\n",
       "      <td>volkswagen</td>\n",
       "      <td>no</td>\n",
       "      <td>2016-03-17 00:00:00</td>\n",
       "      <td>0</td>\n",
       "      <td>91074</td>\n",
       "      <td>2016-03-17 17:40:17</td>\n",
       "    </tr>\n",
       "    <tr>\n",
       "      <th>4</th>\n",
       "      <td>2016-03-31 17:25:20</td>\n",
       "      <td>3600</td>\n",
       "      <td>small</td>\n",
       "      <td>2008</td>\n",
       "      <td>manual</td>\n",
       "      <td>69</td>\n",
       "      <td>fabia</td>\n",
       "      <td>90000</td>\n",
       "      <td>7</td>\n",
       "      <td>gasoline</td>\n",
       "      <td>skoda</td>\n",
       "      <td>no</td>\n",
       "      <td>2016-03-31 00:00:00</td>\n",
       "      <td>0</td>\n",
       "      <td>60437</td>\n",
       "      <td>2016-04-06 10:17:21</td>\n",
       "    </tr>\n",
       "  </tbody>\n",
       "</table>\n",
       "</div>"
      ],
      "text/plain": [
       "           DateCrawled  Price VehicleType  RegistrationYear Gearbox  Power  \\\n",
       "0  2016-03-24 11:52:17    480         NaN              1993  manual      0   \n",
       "1  2016-03-24 10:58:45  18300       coupe              2011  manual    190   \n",
       "2  2016-03-14 12:52:21   9800         suv              2004    auto    163   \n",
       "3  2016-03-17 16:54:04   1500       small              2001  manual     75   \n",
       "4  2016-03-31 17:25:20   3600       small              2008  manual     69   \n",
       "\n",
       "   Model  Kilometer  RegistrationMonth  FuelType       Brand NotRepaired  \\\n",
       "0   golf     150000                  0    petrol  volkswagen         NaN   \n",
       "1    NaN     125000                  5  gasoline        audi         yes   \n",
       "2  grand     125000                  8  gasoline        jeep         NaN   \n",
       "3   golf     150000                  6    petrol  volkswagen          no   \n",
       "4  fabia      90000                  7  gasoline       skoda          no   \n",
       "\n",
       "           DateCreated  NumberOfPictures  PostalCode             LastSeen  \n",
       "0  2016-03-24 00:00:00                 0       70435  2016-04-07 03:16:57  \n",
       "1  2016-03-24 00:00:00                 0       66954  2016-04-07 01:46:50  \n",
       "2  2016-03-14 00:00:00                 0       90480  2016-04-05 12:47:46  \n",
       "3  2016-03-17 00:00:00                 0       91074  2016-03-17 17:40:17  \n",
       "4  2016-03-31 00:00:00                 0       60437  2016-04-06 10:17:21  "
      ]
     },
     "execution_count": 17,
     "metadata": {},
     "output_type": "execute_result"
    }
   ],
   "source": [
    "# Прочитаем файл\n",
    "try:\n",
    "    df = pd.read_csv('/datasets/autos.csv')\n",
    "    \n",
    "except FileNotFoundError:\n",
    "    df = pd.read_csv('C:\\\\Users\\\\Aser\\\\Первый ноутбук\\\\Projects\\\\data\\\\autos.csv')\n",
    "\n",
    "df.head()"
   ]
  },
  {
   "cell_type": "code",
   "execution_count": 18,
   "metadata": {
    "scrolled": true
   },
   "outputs": [
    {
     "name": "stdout",
     "output_type": "stream",
     "text": [
      "<class 'pandas.core.frame.DataFrame'>\n",
      "RangeIndex: 354369 entries, 0 to 354368\n",
      "Data columns (total 16 columns):\n",
      " #   Column             Non-Null Count   Dtype \n",
      "---  ------             --------------   ----- \n",
      " 0   DateCrawled        354369 non-null  object\n",
      " 1   Price              354369 non-null  int64 \n",
      " 2   VehicleType        316879 non-null  object\n",
      " 3   RegistrationYear   354369 non-null  int64 \n",
      " 4   Gearbox            334536 non-null  object\n",
      " 5   Power              354369 non-null  int64 \n",
      " 6   Model              334664 non-null  object\n",
      " 7   Kilometer          354369 non-null  int64 \n",
      " 8   RegistrationMonth  354369 non-null  int64 \n",
      " 9   FuelType           321474 non-null  object\n",
      " 10  Brand              354369 non-null  object\n",
      " 11  NotRepaired        283215 non-null  object\n",
      " 12  DateCreated        354369 non-null  object\n",
      " 13  NumberOfPictures   354369 non-null  int64 \n",
      " 14  PostalCode         354369 non-null  int64 \n",
      " 15  LastSeen           354369 non-null  object\n",
      "dtypes: int64(7), object(9)\n",
      "memory usage: 43.3+ MB\n"
     ]
    }
   ],
   "source": [
    "# Изучим состав данных методом info\n",
    "df.info()"
   ]
  },
  {
   "cell_type": "markdown",
   "metadata": {},
   "source": [
    "Таблица содержит 354 369 строк и 16 столбцов. Типы данных во всех интерессуемых столбцах корректны (столбцы с датами для дальнейшей рабты интереса не представляют). Имеется пропуски данных в пяти столбцах."
   ]
  },
  {
   "cell_type": "code",
   "execution_count": 19,
   "metadata": {
    "scrolled": false
   },
   "outputs": [
    {
     "name": "stdout",
     "output_type": "stream",
     "text": [
      "Коичество явных дубликатов 4\n",
      "Количество пропусков:\n",
      "DateCrawled              0\n",
      "Price                    0\n",
      "VehicleType          37490\n",
      "RegistrationYear         0\n",
      "Gearbox              19833\n",
      "Power                    0\n",
      "Model                19705\n",
      "Kilometer                0\n",
      "RegistrationMonth        0\n",
      "FuelType             32895\n",
      "Brand                    0\n",
      "NotRepaired          71154\n",
      "DateCreated              0\n",
      "NumberOfPictures         0\n",
      "PostalCode               0\n",
      "LastSeen                 0\n",
      "dtype: int64\n"
     ]
    }
   ],
   "source": [
    "# Проверим наличие дубликатов и пропусков\n",
    "print('Коичество явных дубликатов', df.duplicated().sum())\n",
    "print('Количество пропусков:')\n",
    "print(df.isna().sum())"
   ]
  },
  {
   "cell_type": "code",
   "execution_count": 20,
   "metadata": {
    "scrolled": true
   },
   "outputs": [
    {
     "name": "stdout",
     "output_type": "stream",
     "text": [
      "DateCrawled\n",
      "['2016-03-05 14:06:22' '2016-03-05 14:06:23' '2016-03-05 14:06:24' ...\n",
      " '2016-04-07 14:36:55' '2016-04-07 14:36:56' '2016-04-07 14:36:58']\n",
      "Price\n",
      "[    0     1     2 ... 19998 19999 20000]\n",
      "VehicleType\n",
      "['bus' 'convertible' 'coupe' 'other' 'sedan' 'small' 'suv' 'wagon' nan]\n",
      "RegistrationYear\n",
      "[1000 1001 1039 1111 1200 1234 1253 1255 1300 1400 1500 1600 1602 1688\n",
      " 1800 1910 1915 1919 1920 1923 1925 1927 1928 1929 1930 1931 1932 1933\n",
      " 1934 1935 1936 1937 1938 1940 1941 1942 1943 1944 1945 1946 1947 1948\n",
      " 1949 1950 1951 1952 1953 1954 1955 1956 1957 1958 1959 1960 1961 1962\n",
      " 1963 1964 1965 1966 1967 1968 1969 1970 1971 1972 1973 1974 1975 1976\n",
      " 1977 1978 1979 1980 1981 1982 1983 1984 1985 1986 1987 1988 1989 1990\n",
      " 1991 1992 1993 1994 1995 1996 1997 1998 1999 2000 2001 2002 2003 2004\n",
      " 2005 2006 2007 2008 2009 2010 2011 2012 2013 2014 2015 2016 2017 2018\n",
      " 2019 2066 2200 2222 2290 2500 2800 2900 3000 3200 3500 3700 3800 4000\n",
      " 4100 4500 4800 5000 5300 5555 5600 5900 5911 6000 6500 7000 7100 7500\n",
      " 7800 8000 8200 8455 8500 8888 9000 9229 9450 9996 9999]\n",
      "Gearbox\n",
      "['auto' 'manual' nan]\n",
      "Power\n",
      "[    0     1     2     3     4     5     6     7     8     9    10    11\n",
      "    12    13    14    15    16    17    18    19    20    21    22    23\n",
      "    24    25    26    27    28    29    30    31    32    33    34    35\n",
      "    36    37    38    39    40    41    42    43    44    45    46    47\n",
      "    48    49    50    51    52    53    54    55    56    57    58    59\n",
      "    60    61    62    63    64    65    66    67    68    69    70    71\n",
      "    72    73    74    75    76    77    78    79    80    81    82    83\n",
      "    84    85    86    87    88    89    90    91    92    93    94    95\n",
      "    96    97    98    99   100   101   102   103   104   105   106   107\n",
      "   108   109   110   111   112   113   114   115   116   117   118   119\n",
      "   120   121   122   123   124   125   126   127   128   129   130   131\n",
      "   132   133   134   135   136   137   138   139   140   141   142   143\n",
      "   144   145   146   147   148   149   150   151   152   153   154   155\n",
      "   156   157   158   159   160   161   162   163   164   165   166   167\n",
      "   168   169   170   171   172   173   174   175   176   177   178   179\n",
      "   180   181   182   183   184   185   186   187   188   189   190   191\n",
      "   192   193   194   195   196   197   198   199   200   201   202   203\n",
      "   204   205   206   207   208   209   210   211   212   213   214   215\n",
      "   216   217   218   219   220   221   222   223   224   225   226   227\n",
      "   228   229   230   231   232   233   234   235   236   237   238   239\n",
      "   240   241   242   243   244   245   246   247   248   249   250   251\n",
      "   252   253   254   255   256   257   258   259   260   261   262   264\n",
      "   265   266   267   268   269   270   271   272   273   274   275   276\n",
      "   277   278   279   280   281   282   283   284   285   286   287   288\n",
      "   289   290   292   293   294   295   296   297   298   299   300   301\n",
      "   303   304   305   306   307   308   309   310   311   313   314   315\n",
      "   316   317   318   320   321   322   323   324   325   326   327   328\n",
      "   329   330   331   332   333   334   335   336   337   338   339   340\n",
      "   341   343   344   345   346   347   348   349   350   351   352   353\n",
      "   354   355   356   357   358   360   361   362   363   364   365   367\n",
      "   368   370   371   374   375   376   377   379   380   381   382   385\n",
      "   386   387   388   390   392   394   396   398   399   400   401   402\n",
      "   405   408   409   411   416   420   421   425   426   428   430   431\n",
      "   435   440   442   445   449   450   454   457   459   460   475   476\n",
      "   485   487   489   490   500   504   505   507   508   510   514   515\n",
      "   517   519   520   521   525   530   540   541   544   550   551   553\n",
      "   560   572   574   579   580   584   585   599   600   601   602   603\n",
      "   604   606   607   610   612   620   640   645   650   651   671   678\n",
      "   682   685   696   700   702   703   732   743   750   751   754   771\n",
      "   776   800   805   808   850   851   871   900   901   902   903   907\n",
      "   909   923   950   952   953   960   998   999  1000  1001  1002  1003\n",
      "  1004  1005  1011  1012  1016  1017  1021  1024  1054  1055  1056  1062\n",
      "  1079  1082  1090  1100  1102  1103  1105  1111  1115  1120  1149  1151\n",
      "  1158  1160  1162  1164  1199  1200  1202  1221  1223  1230  1239  1240\n",
      "  1241  1250  1252  1256  1275  1288  1299  1300  1312  1317  1324  1339\n",
      "  1351  1360  1362  1363  1367  1390  1394  1398  1399  1400  1401  1403\n",
      "  1405  1416  1432  1433  1436  1500  1501  1502  1503  1506  1521  1548\n",
      "  1595  1596  1597  1598  1600  1625  1631  1653  1659  1689  1700  1701\n",
      "  1703  1704  1707  1753  1771  1779  1780  1781  1783  1793  1796  1799\n",
      "  1800  1801  1870  1895  1896  1900  1910  1920  1922  1933  1937  1968\n",
      "  1986  1988  1992  1993  1995  1998  1999  2000  2004  2005  2007  2009\n",
      "  2016  2017  2018  2172  2200  2201  2331  2340  2389  2402  2461  2598\n",
      "  2729  2789  2792  2799  3000  3199  3454  3500  3750  4400  4507  4700\n",
      "  5000  5411  5420  5575  5809  5815  5867  6006  6010  6011  6012  6018\n",
      "  6045  6062  6226  6512  6920  7508  7511  7512  7515  7518  7529  7544\n",
      "  8011  8259  8404  8500  9000  9007  9010  9011  9012  9013  9710 10000\n",
      " 10110 10218 10311 10317 10520 10522 10710 10910 10912 11011 11025 11111\n",
      " 11509 11530 11635 12012 12510 12512 12684 13616 13636 14009 15001 15016\n",
      " 15017 15020 15033 16011 16051 16311 16312 17011 17019 17410 17700 17932\n",
      " 19208 19211 19312 20000]\n",
      "Model\n",
      "['100' '145' '147' '156' '159' '1_reihe' '1er' '200' '2_reihe' '300c'\n",
      " '3_reihe' '3er' '4_reihe' '500' '5_reihe' '5er' '601' '6_reihe' '6er'\n",
      " '7er' '80' '850' '90' '900' '9000' '911' 'a1' 'a2' 'a3' 'a4' 'a5' 'a6'\n",
      " 'a8' 'a_klasse' 'accord' 'agila' 'alhambra' 'almera' 'altea' 'amarok'\n",
      " 'antara' 'arosa' 'astra' 'auris' 'avensis' 'aveo' 'aygo' 'b_klasse'\n",
      " 'b_max' 'beetle' 'berlingo' 'bora' 'boxster' 'bravo' 'c1' 'c2' 'c3' 'c4'\n",
      " 'c5' 'c_klasse' 'c_max' 'c_reihe' 'caddy' 'calibra' 'captiva' 'carisma'\n",
      " 'carnival' 'cayenne' 'cc' 'ceed' 'charade' 'cherokee' 'citigo' 'civic'\n",
      " 'cl' 'clio' 'clk' 'clubman' 'colt' 'combo' 'cooper' 'cordoba' 'corolla'\n",
      " 'corsa' 'cr_reihe' 'croma' 'crossfire' 'cuore' 'cx_reihe' 'defender'\n",
      " 'delta' 'discovery' 'doblo' 'ducato' 'duster' 'e_klasse' 'elefantino'\n",
      " 'eos' 'escort' 'espace' 'exeo' 'fabia' 'fiesta' 'focus' 'forester'\n",
      " 'forfour' 'fortwo' 'fox' 'freelander' 'fusion' 'g_klasse' 'galant'\n",
      " 'galaxy' 'getz' 'gl' 'glk' 'golf' 'grand' 'i3' 'i_reihe' 'ibiza'\n",
      " 'impreza' 'insignia' 'jazz' 'jetta' 'jimny' 'juke' 'justy' 'ka' 'kadett'\n",
      " 'kaefer' 'kalina' 'kalos' 'kangoo' 'kappa' 'kuga' 'laguna' 'lancer'\n",
      " 'lanos' 'legacy' 'leon' 'lodgy' 'logan' 'lupo' 'lybra' 'm_klasse'\n",
      " 'm_reihe' 'materia' 'matiz' 'megane' 'meriva' 'micra' 'mii' 'modus'\n",
      " 'mondeo' 'move' 'musa' 'mustang' 'mx_reihe' 'navara' 'niva' 'note'\n",
      " 'nubira' 'octavia' 'omega' 'one' 'other' 'outlander' 'pajero' 'panda'\n",
      " 'passat' 'phaeton' 'picanto' 'polo' 'primera' 'ptcruiser' 'punto' 'q3'\n",
      " 'q5' 'q7' 'qashqai' 'r19' 'range_rover' 'range_rover_evoque'\n",
      " 'range_rover_sport' 'rangerover' 'rav' 'rio' 'roadster' 'roomster'\n",
      " 'rx_reihe' 's60' 's_klasse' 's_max' 's_type' 'samara' 'sandero' 'santa'\n",
      " 'scenic' 'scirocco' 'seicento' 'serie_1' 'serie_2' 'serie_3' 'sharan'\n",
      " 'signum' 'sirion' 'sl' 'slk' 'sorento' 'spark' 'spider' 'sportage'\n",
      " 'sprinter' 'stilo' 'superb' 'swift' 'terios' 'tigra' 'tiguan' 'toledo'\n",
      " 'touareg' 'touran' 'transit' 'transporter' 'tt' 'tucson' 'twingo' 'up'\n",
      " 'v40' 'v50' 'v60' 'v70' 'v_klasse' 'vectra' 'verso' 'viano' 'vito'\n",
      " 'vivaro' 'voyager' 'wrangler' 'x_reihe' 'x_trail' 'x_type' 'xc_reihe'\n",
      " 'yaris' 'yeti' 'ypsilon' 'z_reihe' 'zafira' nan]\n",
      "Kilometer\n",
      "[  5000  10000  20000  30000  40000  50000  60000  70000  80000  90000\n",
      " 100000 125000 150000]\n",
      "RegistrationMonth\n",
      "[ 0  1  2  3  4  5  6  7  8  9 10 11 12]\n",
      "FuelType\n",
      "['cng' 'electric' 'gasoline' 'hybrid' 'lpg' 'other' 'petrol' nan]\n",
      "Brand\n",
      "['alfa_romeo' 'audi' 'bmw' 'chevrolet' 'chrysler' 'citroen' 'dacia'\n",
      " 'daewoo' 'daihatsu' 'fiat' 'ford' 'honda' 'hyundai' 'jaguar' 'jeep' 'kia'\n",
      " 'lada' 'lancia' 'land_rover' 'mazda' 'mercedes_benz' 'mini' 'mitsubishi'\n",
      " 'nissan' 'opel' 'peugeot' 'porsche' 'renault' 'rover' 'saab' 'seat'\n",
      " 'skoda' 'smart' 'sonstige_autos' 'subaru' 'suzuki' 'toyota' 'trabant'\n",
      " 'volkswagen' 'volvo']\n",
      "NotRepaired\n",
      "['no' 'yes' nan]\n",
      "DateCreated\n",
      "['2014-03-10 00:00:00' '2015-03-20 00:00:00' '2015-06-18 00:00:00'\n",
      " '2015-08-07 00:00:00' '2015-08-10 00:00:00' '2015-09-04 00:00:00'\n",
      " '2015-09-09 00:00:00' '2015-11-02 00:00:00' '2015-11-08 00:00:00'\n",
      " '2015-11-10 00:00:00' '2015-11-12 00:00:00' '2015-11-17 00:00:00'\n",
      " '2015-11-23 00:00:00' '2015-11-24 00:00:00' '2015-12-05 00:00:00'\n",
      " '2015-12-06 00:00:00' '2015-12-17 00:00:00' '2015-12-27 00:00:00'\n",
      " '2015-12-30 00:00:00' '2016-01-02 00:00:00' '2016-01-03 00:00:00'\n",
      " '2016-01-06 00:00:00' '2016-01-07 00:00:00' '2016-01-08 00:00:00'\n",
      " '2016-01-10 00:00:00' '2016-01-13 00:00:00' '2016-01-15 00:00:00'\n",
      " '2016-01-16 00:00:00' '2016-01-17 00:00:00' '2016-01-18 00:00:00'\n",
      " '2016-01-19 00:00:00' '2016-01-20 00:00:00' '2016-01-22 00:00:00'\n",
      " '2016-01-23 00:00:00' '2016-01-24 00:00:00' '2016-01-25 00:00:00'\n",
      " '2016-01-26 00:00:00' '2016-01-27 00:00:00' '2016-01-28 00:00:00'\n",
      " '2016-01-29 00:00:00' '2016-01-30 00:00:00' '2016-01-31 00:00:00'\n",
      " '2016-02-01 00:00:00' '2016-02-02 00:00:00' '2016-02-03 00:00:00'\n",
      " '2016-02-04 00:00:00' '2016-02-05 00:00:00' '2016-02-06 00:00:00'\n",
      " '2016-02-07 00:00:00' '2016-02-08 00:00:00' '2016-02-09 00:00:00'\n",
      " '2016-02-10 00:00:00' '2016-02-11 00:00:00' '2016-02-12 00:00:00'\n",
      " '2016-02-13 00:00:00' '2016-02-14 00:00:00' '2016-02-15 00:00:00'\n",
      " '2016-02-16 00:00:00' '2016-02-17 00:00:00' '2016-02-18 00:00:00'\n",
      " '2016-02-19 00:00:00' '2016-02-20 00:00:00' '2016-02-21 00:00:00'\n",
      " '2016-02-22 00:00:00' '2016-02-23 00:00:00' '2016-02-24 00:00:00'\n",
      " '2016-02-25 00:00:00' '2016-02-26 00:00:00' '2016-02-27 00:00:00'\n",
      " '2016-02-28 00:00:00' '2016-02-29 00:00:00' '2016-03-01 00:00:00'\n",
      " '2016-03-02 00:00:00' '2016-03-03 00:00:00' '2016-03-04 00:00:00'\n",
      " '2016-03-05 00:00:00' '2016-03-06 00:00:00' '2016-03-07 00:00:00'\n",
      " '2016-03-08 00:00:00' '2016-03-09 00:00:00' '2016-03-10 00:00:00'\n",
      " '2016-03-11 00:00:00' '2016-03-12 00:00:00' '2016-03-13 00:00:00'\n",
      " '2016-03-14 00:00:00' '2016-03-15 00:00:00' '2016-03-16 00:00:00'\n",
      " '2016-03-17 00:00:00' '2016-03-18 00:00:00' '2016-03-19 00:00:00'\n",
      " '2016-03-20 00:00:00' '2016-03-21 00:00:00' '2016-03-22 00:00:00'\n",
      " '2016-03-23 00:00:00' '2016-03-24 00:00:00' '2016-03-25 00:00:00'\n",
      " '2016-03-26 00:00:00' '2016-03-27 00:00:00' '2016-03-28 00:00:00'\n",
      " '2016-03-29 00:00:00' '2016-03-30 00:00:00' '2016-03-31 00:00:00'\n",
      " '2016-04-01 00:00:00' '2016-04-02 00:00:00' '2016-04-03 00:00:00'\n",
      " '2016-04-04 00:00:00' '2016-04-05 00:00:00' '2016-04-06 00:00:00'\n",
      " '2016-04-07 00:00:00']\n",
      "NumberOfPictures\n",
      "[0]\n",
      "PostalCode\n",
      "[ 1067  1068  1069 ... 99994 99996 99998]\n",
      "LastSeen\n",
      "['2016-03-05 14:15:08' '2016-03-05 14:15:16' '2016-03-05 14:15:39' ...\n",
      " '2016-04-07 14:58:49' '2016-04-07 14:58:50' '2016-04-07 14:58:51']\n"
     ]
    }
   ],
   "source": [
    "# Изучим вероятность наличия неявных дубликатов\n",
    "column_list = df.columns\n",
    "for i in column_list:\n",
    "    print(i)\n",
    "    print(df[i].sort_values().unique())"
   ]
  },
  {
   "cell_type": "code",
   "execution_count": 21,
   "metadata": {
    "scrolled": true
   },
   "outputs": [
    {
     "data": {
      "text/plain": [
       "0        10772\n",
       "1         1189\n",
       "2           12\n",
       "3            8\n",
       "4            1\n",
       "         ...  \n",
       "19995       10\n",
       "19997        1\n",
       "19998        6\n",
       "19999      278\n",
       "20000      268\n",
       "Name: Price, Length: 3731, dtype: int64"
      ]
     },
     "execution_count": 21,
     "metadata": {},
     "output_type": "execute_result"
    }
   ],
   "source": [
    "# Определим состав признака Price\n",
    "df['Price'].value_counts().sort_index()"
   ]
  },
  {
   "cell_type": "code",
   "execution_count": 22,
   "metadata": {},
   "outputs": [
    {
     "data": {
      "image/png": "[encoded data removed]",
      "text/plain": [
       "<Figure size 432x288 with 1 Axes>"
      ]
     },
     "metadata": {
      "needs_background": "light"
     },
     "output_type": "display_data"
    }
   ],
   "source": [
    "# Изобразим выбросы на графике\n",
    "df.loc[:, ['Price']].boxplot()\n",
    "plt.show()"
   ]
  },
  {
   "cell_type": "code",
   "execution_count": 23,
   "metadata": {},
   "outputs": [
    {
     "name": "stdout",
     "output_type": "stream",
     "text": [
      "Верхний уровень выброса -  17959.132317533244\n"
     ]
    }
   ],
   "source": [
    "# Определим верхний уровень выбросов\n",
    "price_mean = df['Price'].mean()\n",
    "price_std = np.std(list(df['Price']), ddof=1)\n",
    "sig_max = price_mean + 3 * price_std\n",
    "print('Верхний уровень выброса - ', sig_max)"
   ]
  },
  {
   "cell_type": "code",
   "execution_count": 24,
   "metadata": {},
   "outputs": [
    {
     "name": "stdout",
     "output_type": "stream",
     "text": [
      "Нижний уровень выброса -  200.0\n"
     ]
    }
   ],
   "source": [
    "# Определим нижний уровень выбросов\n",
    "print('Нижний уровень выброса - ', df['Price'].quantile(0.05))"
   ]
  },
  {
   "cell_type": "code",
   "execution_count": 25,
   "metadata": {},
   "outputs": [
    {
     "name": "stdout",
     "output_type": "stream",
     "text": [
      "Количество нижних выбросов 17462\n",
      "Количество верхних выбросов 4831\n"
     ]
    }
   ],
   "source": [
    "price_list = df['Price'].value_counts().sort_index()\n",
    "print('Количество нижних выбросов', price_list[price_list.index < 200].sum())\n",
    "print('Количество верхних выбросов', price_list[price_list.index > 18000].sum())"
   ]
  },
  {
   "cell_type": "markdown",
   "metadata": {},
   "source": [
    "Судя по графику и значению квантиля 5% – выбросом является цены со значением менее 200 (17462 повторения).\n",
    "\n",
    "Используя правило трех сигм определена верхняя граница выброса – 18 000 (4831 повторение)\n",
    "\n",
    "Таким образом, необходимо удалить строки со значением цены менее 200 и более 18000"
   ]
  },
  {
   "cell_type": "code",
   "execution_count": 26,
   "metadata": {},
   "outputs": [
    {
     "data": {
      "text/plain": [
       "0        40225\n",
       "1           34\n",
       "2           10\n",
       "3            9\n",
       "4           30\n",
       "         ...  \n",
       "17932        1\n",
       "19208        1\n",
       "19211        1\n",
       "19312        1\n",
       "20000        1\n",
       "Name: Power, Length: 712, dtype: int64"
      ]
     },
     "execution_count": 26,
     "metadata": {},
     "output_type": "execute_result"
    }
   ],
   "source": [
    "# Определим состав признака Power\n",
    "df['Power'].value_counts().sort_index()"
   ]
  },
  {
   "cell_type": "code",
   "execution_count": 27,
   "metadata": {},
   "outputs": [
    {
     "name": "stdout",
     "output_type": "stream",
     "text": [
      "Количество данных верхнего выброса 302\n"
     ]
    }
   ],
   "source": [
    "power_list = df['Power'].value_counts().sort_index()\n",
    "print('Количество данных верхнего выброса', power_list[power_list.index > 1000].sum())"
   ]
  },
  {
   "cell_type": "code",
   "execution_count": 28,
   "metadata": {},
   "outputs": [
    {
     "data": {
      "text/html": [
       "<div>\n",
       "<style scoped>\n",
       "    .dataframe tbody tr th:only-of-type {\n",
       "        vertical-align: middle;\n",
       "    }\n",
       "\n",
       "    .dataframe tbody tr th {\n",
       "        vertical-align: top;\n",
       "    }\n",
       "\n",
       "    .dataframe thead th {\n",
       "        text-align: right;\n",
       "    }\n",
       "</style>\n",
       "<table border=\"1\" class=\"dataframe\">\n",
       "  <thead>\n",
       "    <tr style=\"text-align: right;\">\n",
       "      <th></th>\n",
       "      <th>Price</th>\n",
       "      <th>RegistrationYear</th>\n",
       "      <th>Power</th>\n",
       "      <th>Kilometer</th>\n",
       "      <th>RegistrationMonth</th>\n",
       "      <th>NumberOfPictures</th>\n",
       "      <th>PostalCode</th>\n",
       "    </tr>\n",
       "  </thead>\n",
       "  <tbody>\n",
       "    <tr>\n",
       "      <th>Price</th>\n",
       "      <td>1.000000</td>\n",
       "      <td>0.026916</td>\n",
       "      <td>0.158872</td>\n",
       "      <td>-0.333199</td>\n",
       "      <td>0.110581</td>\n",
       "      <td>NaN</td>\n",
       "      <td>0.076055</td>\n",
       "    </tr>\n",
       "    <tr>\n",
       "      <th>RegistrationYear</th>\n",
       "      <td>0.026916</td>\n",
       "      <td>1.000000</td>\n",
       "      <td>-0.000828</td>\n",
       "      <td>-0.053447</td>\n",
       "      <td>-0.011619</td>\n",
       "      <td>NaN</td>\n",
       "      <td>-0.003459</td>\n",
       "    </tr>\n",
       "    <tr>\n",
       "      <th>Power</th>\n",
       "      <td>0.158872</td>\n",
       "      <td>-0.000828</td>\n",
       "      <td>1.000000</td>\n",
       "      <td>0.024002</td>\n",
       "      <td>0.043380</td>\n",
       "      <td>NaN</td>\n",
       "      <td>0.021665</td>\n",
       "    </tr>\n",
       "    <tr>\n",
       "      <th>Kilometer</th>\n",
       "      <td>-0.333199</td>\n",
       "      <td>-0.053447</td>\n",
       "      <td>0.024002</td>\n",
       "      <td>1.000000</td>\n",
       "      <td>0.009571</td>\n",
       "      <td>NaN</td>\n",
       "      <td>-0.007698</td>\n",
       "    </tr>\n",
       "    <tr>\n",
       "      <th>RegistrationMonth</th>\n",
       "      <td>0.110581</td>\n",
       "      <td>-0.011619</td>\n",
       "      <td>0.043380</td>\n",
       "      <td>0.009571</td>\n",
       "      <td>1.000000</td>\n",
       "      <td>NaN</td>\n",
       "      <td>0.013995</td>\n",
       "    </tr>\n",
       "    <tr>\n",
       "      <th>NumberOfPictures</th>\n",
       "      <td>NaN</td>\n",
       "      <td>NaN</td>\n",
       "      <td>NaN</td>\n",
       "      <td>NaN</td>\n",
       "      <td>NaN</td>\n",
       "      <td>NaN</td>\n",
       "      <td>NaN</td>\n",
       "    </tr>\n",
       "    <tr>\n",
       "      <th>PostalCode</th>\n",
       "      <td>0.076055</td>\n",
       "      <td>-0.003459</td>\n",
       "      <td>0.021665</td>\n",
       "      <td>-0.007698</td>\n",
       "      <td>0.013995</td>\n",
       "      <td>NaN</td>\n",
       "      <td>1.000000</td>\n",
       "    </tr>\n",
       "  </tbody>\n",
       "</table>\n",
       "</div>"
      ],
      "text/plain": [
       "                      Price  RegistrationYear     Power  Kilometer  \\\n",
       "Price              1.000000          0.026916  0.158872  -0.333199   \n",
       "RegistrationYear   0.026916          1.000000 -0.000828  -0.053447   \n",
       "Power              0.158872         -0.000828  1.000000   0.024002   \n",
       "Kilometer         -0.333199         -0.053447  0.024002   1.000000   \n",
       "RegistrationMonth  0.110581         -0.011619  0.043380   0.009571   \n",
       "NumberOfPictures        NaN               NaN       NaN        NaN   \n",
       "PostalCode         0.076055         -0.003459  0.021665  -0.007698   \n",
       "\n",
       "                   RegistrationMonth  NumberOfPictures  PostalCode  \n",
       "Price                       0.110581               NaN    0.076055  \n",
       "RegistrationYear           -0.011619               NaN   -0.003459  \n",
       "Power                       0.043380               NaN    0.021665  \n",
       "Kilometer                   0.009571               NaN   -0.007698  \n",
       "RegistrationMonth           1.000000               NaN    0.013995  \n",
       "NumberOfPictures                 NaN               NaN         NaN  \n",
       "PostalCode                  0.013995               NaN    1.000000  "
      ]
     },
     "metadata": {},
     "output_type": "display_data"
    }
   ],
   "source": [
    "# Изучим корреляционные зависимости\n",
    "display(df.corr())"
   ]
  },
  {
   "cell_type": "code",
   "execution_count": 29,
   "metadata": {
    "scrolled": true
   },
   "outputs": [
    {
     "data": {
      "text/html": [
       "<div>\n",
       "<style scoped>\n",
       "    .dataframe tbody tr th:only-of-type {\n",
       "        vertical-align: middle;\n",
       "    }\n",
       "\n",
       "    .dataframe tbody tr th {\n",
       "        vertical-align: top;\n",
       "    }\n",
       "\n",
       "    .dataframe thead th {\n",
       "        text-align: right;\n",
       "    }\n",
       "</style>\n",
       "<table border=\"1\" class=\"dataframe\">\n",
       "  <thead>\n",
       "    <tr style=\"text-align: right;\">\n",
       "      <th></th>\n",
       "      <th>Price</th>\n",
       "      <th>RegistrationYear</th>\n",
       "      <th>Power</th>\n",
       "      <th>Kilometer</th>\n",
       "      <th>RegistrationMonth</th>\n",
       "      <th>NumberOfPictures</th>\n",
       "      <th>PostalCode</th>\n",
       "    </tr>\n",
       "  </thead>\n",
       "  <tbody>\n",
       "    <tr>\n",
       "      <th>count</th>\n",
       "      <td>354369.000000</td>\n",
       "      <td>354369.000000</td>\n",
       "      <td>354369.000000</td>\n",
       "      <td>354369.000000</td>\n",
       "      <td>354369.000000</td>\n",
       "      <td>354369.0</td>\n",
       "      <td>354369.000000</td>\n",
       "    </tr>\n",
       "    <tr>\n",
       "      <th>mean</th>\n",
       "      <td>4416.656776</td>\n",
       "      <td>2004.234448</td>\n",
       "      <td>110.094337</td>\n",
       "      <td>128211.172535</td>\n",
       "      <td>5.714645</td>\n",
       "      <td>0.0</td>\n",
       "      <td>50508.689087</td>\n",
       "    </tr>\n",
       "    <tr>\n",
       "      <th>std</th>\n",
       "      <td>4514.158514</td>\n",
       "      <td>90.227958</td>\n",
       "      <td>189.850405</td>\n",
       "      <td>37905.341530</td>\n",
       "      <td>3.726421</td>\n",
       "      <td>0.0</td>\n",
       "      <td>25783.096248</td>\n",
       "    </tr>\n",
       "    <tr>\n",
       "      <th>min</th>\n",
       "      <td>0.000000</td>\n",
       "      <td>1000.000000</td>\n",
       "      <td>0.000000</td>\n",
       "      <td>5000.000000</td>\n",
       "      <td>0.000000</td>\n",
       "      <td>0.0</td>\n",
       "      <td>1067.000000</td>\n",
       "    </tr>\n",
       "    <tr>\n",
       "      <th>25%</th>\n",
       "      <td>1050.000000</td>\n",
       "      <td>1999.000000</td>\n",
       "      <td>69.000000</td>\n",
       "      <td>125000.000000</td>\n",
       "      <td>3.000000</td>\n",
       "      <td>0.0</td>\n",
       "      <td>30165.000000</td>\n",
       "    </tr>\n",
       "    <tr>\n",
       "      <th>50%</th>\n",
       "      <td>2700.000000</td>\n",
       "      <td>2003.000000</td>\n",
       "      <td>105.000000</td>\n",
       "      <td>150000.000000</td>\n",
       "      <td>6.000000</td>\n",
       "      <td>0.0</td>\n",
       "      <td>49413.000000</td>\n",
       "    </tr>\n",
       "    <tr>\n",
       "      <th>75%</th>\n",
       "      <td>6400.000000</td>\n",
       "      <td>2008.000000</td>\n",
       "      <td>143.000000</td>\n",
       "      <td>150000.000000</td>\n",
       "      <td>9.000000</td>\n",
       "      <td>0.0</td>\n",
       "      <td>71083.000000</td>\n",
       "    </tr>\n",
       "    <tr>\n",
       "      <th>max</th>\n",
       "      <td>20000.000000</td>\n",
       "      <td>9999.000000</td>\n",
       "      <td>20000.000000</td>\n",
       "      <td>150000.000000</td>\n",
       "      <td>12.000000</td>\n",
       "      <td>0.0</td>\n",
       "      <td>99998.000000</td>\n",
       "    </tr>\n",
       "  </tbody>\n",
       "</table>\n",
       "</div>"
      ],
      "text/plain": [
       "               Price  RegistrationYear          Power      Kilometer  \\\n",
       "count  354369.000000     354369.000000  354369.000000  354369.000000   \n",
       "mean     4416.656776       2004.234448     110.094337  128211.172535   \n",
       "std      4514.158514         90.227958     189.850405   37905.341530   \n",
       "min         0.000000       1000.000000       0.000000    5000.000000   \n",
       "25%      1050.000000       1999.000000      69.000000  125000.000000   \n",
       "50%      2700.000000       2003.000000     105.000000  150000.000000   \n",
       "75%      6400.000000       2008.000000     143.000000  150000.000000   \n",
       "max     20000.000000       9999.000000   20000.000000  150000.000000   \n",
       "\n",
       "       RegistrationMonth  NumberOfPictures     PostalCode  \n",
       "count      354369.000000          354369.0  354369.000000  \n",
       "mean            5.714645               0.0   50508.689087  \n",
       "std             3.726421               0.0   25783.096248  \n",
       "min             0.000000               0.0    1067.000000  \n",
       "25%             3.000000               0.0   30165.000000  \n",
       "50%             6.000000               0.0   49413.000000  \n",
       "75%             9.000000               0.0   71083.000000  \n",
       "max            12.000000               0.0   99998.000000  "
      ]
     },
     "execution_count": 29,
     "metadata": {},
     "output_type": "execute_result"
    }
   ],
   "source": [
    "# Исследуем файл методом describe()\n",
    "df.describe()"
   ]
  },
  {
   "cell_type": "markdown",
   "metadata": {},
   "source": [
    "**Выводы**\n",
    "\n",
    "Представленный дата-сет содержит 354 369 строк и 16 столбцов. Типы данных во всех столбцах корректны. Имеется 4 явных дубликата и пропуски данных в пяти столбцах – от 19705 до 37490 ячеек. \n",
    "\n",
    "В целевом признаке `Price` есть 17 462 значений с ценой менее 200 и 4 831 зачений более 18000. Эти значеня являются выбросами и при построении модели на эти данные нельзя будет опираться. Их надо удалить.\n",
    "\n",
    "Присутствуют некорректные данные в признаке `RegistrationYear` – например 1000 или 9999 годы. Строки с некорректными данными надо будет удалить, поскольку они не позволяют определить реальный возраст машины.\n",
    "\n",
    "Также некорректные данные есть в признаке `Power` – нулевые или слишком высокие значения. Не смотря на то, что нулевых данных очень много (40 225), и они составляют значимую часть дата-сета, их удалим. Кроме того, удалим все ст роки со значением менее 50 лс. Слишком большие данные надо удалить. Поскольку, серийные автомобили с мощностью выше 1000  лс встречаются кране редко и, вероятнее всего, не продаются через объявления, то строки со значением мощности выше 1000 можно удалить\n",
    "\n",
    "\n",
    "***Необходимо произвести следующие изменения:***\n",
    "\n",
    "- Изменить названия столбцов и привести их к змеиному регистру»\n",
    "- Удалить явные дубликаты\n",
    "- Удалить строки с ценой ниже 200 и выше 18 000\n",
    "- Удалить строки с мощностью ниже 50 лс и выше 1000 лс\n",
    "- Удалить строки со значением года регистрации ранее 1970 и позднее 2020\n",
    "- В столбцах `VehicleType`, `Gearbox`, `Model`, `FuelType`, `NotRepaired` пропуски заменить на `unknow`\n",
    "- Стобцы `DateCrawled`, `DateCreated`, `LastSeen`, `RegistrationMonth`, `PostalCode` удалить из признаков\n",
    "- Выполнить прямое кодирование для столбцов `VehicleType`, `Gearbox`, `Model`, `FuelType`, `Brand`, `NotRepaired`\n",
    "\n",
    "Нормализация данных не требуется"
   ]
  },
  {
   "cell_type": "code",
   "execution_count": 30,
   "metadata": {
    "scrolled": false
   },
   "outputs": [
    {
     "name": "stdout",
     "output_type": "stream",
     "text": [
      "Количество явных дублей -  0\n"
     ]
    },
    {
     "data": {
      "text/html": [
       "<div>\n",
       "<style scoped>\n",
       "    .dataframe tbody tr th:only-of-type {\n",
       "        vertical-align: middle;\n",
       "    }\n",
       "\n",
       "    .dataframe tbody tr th {\n",
       "        vertical-align: top;\n",
       "    }\n",
       "\n",
       "    .dataframe thead th {\n",
       "        text-align: right;\n",
       "    }\n",
       "</style>\n",
       "<table border=\"1\" class=\"dataframe\">\n",
       "  <thead>\n",
       "    <tr style=\"text-align: right;\">\n",
       "      <th></th>\n",
       "      <th>date_crawled</th>\n",
       "      <th>price</th>\n",
       "      <th>vehicle_type</th>\n",
       "      <th>registration_year</th>\n",
       "      <th>gearbox</th>\n",
       "      <th>power</th>\n",
       "      <th>model</th>\n",
       "      <th>kilometer</th>\n",
       "      <th>registration_month</th>\n",
       "      <th>fuel_type</th>\n",
       "      <th>brand</th>\n",
       "      <th>not_repaired</th>\n",
       "      <th>date_created</th>\n",
       "      <th>number_of_pictures</th>\n",
       "      <th>postal_code</th>\n",
       "      <th>last_seen</th>\n",
       "    </tr>\n",
       "  </thead>\n",
       "  <tbody>\n",
       "    <tr>\n",
       "      <th>2</th>\n",
       "      <td>2016-03-14 12:52:21</td>\n",
       "      <td>9800</td>\n",
       "      <td>suv</td>\n",
       "      <td>2004</td>\n",
       "      <td>auto</td>\n",
       "      <td>163</td>\n",
       "      <td>grand</td>\n",
       "      <td>125000</td>\n",
       "      <td>8</td>\n",
       "      <td>gasoline</td>\n",
       "      <td>jeep</td>\n",
       "      <td>unknow</td>\n",
       "      <td>2016-03-14 00:00:00</td>\n",
       "      <td>0</td>\n",
       "      <td>90480</td>\n",
       "      <td>2016-04-05 12:47:46</td>\n",
       "    </tr>\n",
       "    <tr>\n",
       "      <th>3</th>\n",
       "      <td>2016-03-17 16:54:04</td>\n",
       "      <td>1500</td>\n",
       "      <td>small</td>\n",
       "      <td>2001</td>\n",
       "      <td>manual</td>\n",
       "      <td>75</td>\n",
       "      <td>golf</td>\n",
       "      <td>150000</td>\n",
       "      <td>6</td>\n",
       "      <td>petrol</td>\n",
       "      <td>volkswagen</td>\n",
       "      <td>no</td>\n",
       "      <td>2016-03-17 00:00:00</td>\n",
       "      <td>0</td>\n",
       "      <td>91074</td>\n",
       "      <td>2016-03-17 17:40:17</td>\n",
       "    </tr>\n",
       "    <tr>\n",
       "      <th>4</th>\n",
       "      <td>2016-03-31 17:25:20</td>\n",
       "      <td>3600</td>\n",
       "      <td>small</td>\n",
       "      <td>2008</td>\n",
       "      <td>manual</td>\n",
       "      <td>69</td>\n",
       "      <td>fabia</td>\n",
       "      <td>90000</td>\n",
       "      <td>7</td>\n",
       "      <td>gasoline</td>\n",
       "      <td>skoda</td>\n",
       "      <td>no</td>\n",
       "      <td>2016-03-31 00:00:00</td>\n",
       "      <td>0</td>\n",
       "      <td>60437</td>\n",
       "      <td>2016-04-06 10:17:21</td>\n",
       "    </tr>\n",
       "    <tr>\n",
       "      <th>5</th>\n",
       "      <td>2016-04-04 17:36:23</td>\n",
       "      <td>650</td>\n",
       "      <td>sedan</td>\n",
       "      <td>1995</td>\n",
       "      <td>manual</td>\n",
       "      <td>102</td>\n",
       "      <td>3er</td>\n",
       "      <td>150000</td>\n",
       "      <td>10</td>\n",
       "      <td>petrol</td>\n",
       "      <td>bmw</td>\n",
       "      <td>yes</td>\n",
       "      <td>2016-04-04 00:00:00</td>\n",
       "      <td>0</td>\n",
       "      <td>33775</td>\n",
       "      <td>2016-04-06 19:17:07</td>\n",
       "    </tr>\n",
       "    <tr>\n",
       "      <th>6</th>\n",
       "      <td>2016-04-01 20:48:51</td>\n",
       "      <td>2200</td>\n",
       "      <td>convertible</td>\n",
       "      <td>2004</td>\n",
       "      <td>manual</td>\n",
       "      <td>109</td>\n",
       "      <td>2_reihe</td>\n",
       "      <td>150000</td>\n",
       "      <td>8</td>\n",
       "      <td>petrol</td>\n",
       "      <td>peugeot</td>\n",
       "      <td>no</td>\n",
       "      <td>2016-04-01 00:00:00</td>\n",
       "      <td>0</td>\n",
       "      <td>67112</td>\n",
       "      <td>2016-04-05 18:18:39</td>\n",
       "    </tr>\n",
       "  </tbody>\n",
       "</table>\n",
       "</div>"
      ],
      "text/plain": [
       "          date_crawled  price vehicle_type  registration_year gearbox  power  \\\n",
       "2  2016-03-14 12:52:21   9800          suv               2004    auto    163   \n",
       "3  2016-03-17 16:54:04   1500        small               2001  manual     75   \n",
       "4  2016-03-31 17:25:20   3600        small               2008  manual     69   \n",
       "5  2016-04-04 17:36:23    650        sedan               1995  manual    102   \n",
       "6  2016-04-01 20:48:51   2200  convertible               2004  manual    109   \n",
       "\n",
       "     model  kilometer  registration_month fuel_type       brand not_repaired  \\\n",
       "2    grand     125000                   8  gasoline        jeep       unknow   \n",
       "3     golf     150000                   6    petrol  volkswagen           no   \n",
       "4    fabia      90000                   7  gasoline       skoda           no   \n",
       "5      3er     150000                  10    petrol         bmw          yes   \n",
       "6  2_reihe     150000                   8    petrol     peugeot           no   \n",
       "\n",
       "          date_created  number_of_pictures  postal_code            last_seen  \n",
       "2  2016-03-14 00:00:00                   0        90480  2016-04-05 12:47:46  \n",
       "3  2016-03-17 00:00:00                   0        91074  2016-03-17 17:40:17  \n",
       "4  2016-03-31 00:00:00                   0        60437  2016-04-06 10:17:21  \n",
       "5  2016-04-04 00:00:00                   0        33775  2016-04-06 19:17:07  \n",
       "6  2016-04-01 00:00:00                   0        67112  2016-04-05 18:18:39  "
      ]
     },
     "execution_count": 30,
     "metadata": {},
     "output_type": "execute_result"
    }
   ],
   "source": [
    "# Изменим названия столбцов\n",
    "df = df.rename(columns={\n",
    "    'DateCrawled': 'date_crawled', \n",
    "    'Price': 'price', \n",
    "    'VehicleType': 'vehicle_type', \n",
    "    'RegistrationYear': 'registration_year', \n",
    "    'Gearbox': 'gearbox',\n",
    "    'Power': 'power', \n",
    "    'Model': 'model', \n",
    "    'Kilometer': 'kilometer', \n",
    "    'RegistrationMonth': 'registration_month', \n",
    "    'FuelType': 'fuel_type', \n",
    "    'Brand': 'brand',\n",
    "    'NotRepaired': 'not_repaired', \n",
    "    'DateCreated': 'date_created', \n",
    "    'NumberOfPictures': 'number_of_pictures', \n",
    "    'PostalCode': 'postal_code',\n",
    "    'LastSeen': 'last_seen'})\n",
    "\n",
    "# Удалимлим яврые дубли\n",
    "df = df.drop_duplicates().reset_index(drop=True)\n",
    "print('Количество явных дублей - ', df.duplicated().sum())\n",
    "\n",
    "# Удалим строки с \"выбросами\" цен и строки со значением года регистрации ранее 1910 и позднее 2020\n",
    "df = df.loc[\n",
    "    (df['price']>200) & \n",
    "    (df['price']<18000) & \n",
    "    (df['power']>50) & \n",
    "    (df['power']<1000) & \n",
    "    (df['registration_year']>=1970) & \n",
    "    (df['registration_year']<=2020)\n",
    "].copy()\n",
    "\n",
    "# Пропуски заменим на unknow\n",
    "df['vehicle_type'] = df['vehicle_type'].fillna('unknow')\n",
    "df['gearbox'] = df['gearbox'].fillna('unknow')\n",
    "df['model'] = df['model'].fillna('unknow')\n",
    "df['fuel_type'] = df['fuel_type'].fillna('unknow')\n",
    "df['not_repaired'] = df['not_repaired'].fillna('unknow')\n",
    "\n",
    "# Удалим столбцы DateCrawled, DateCreated, LastSeen из признаков\n",
    "#df.drop(['date_crawled', 'date_created', 'last_seen'], axis=1, inplace=True)\n",
    "\n",
    "df.head()"
   ]
  },
  {
   "cell_type": "code",
   "execution_count": 31,
   "metadata": {
    "scrolled": true
   },
   "outputs": [
    {
     "data": {
      "text/html": [
       "<div>\n",
       "<style scoped>\n",
       "    .dataframe tbody tr th:only-of-type {\n",
       "        vertical-align: middle;\n",
       "    }\n",
       "\n",
       "    .dataframe tbody tr th {\n",
       "        vertical-align: top;\n",
       "    }\n",
       "\n",
       "    .dataframe thead th {\n",
       "        text-align: right;\n",
       "    }\n",
       "</style>\n",
       "<table border=\"1\" class=\"dataframe\">\n",
       "  <thead>\n",
       "    <tr style=\"text-align: right;\">\n",
       "      <th></th>\n",
       "      <th>price</th>\n",
       "      <th>vehicle_type</th>\n",
       "      <th>registration_year</th>\n",
       "      <th>gearbox</th>\n",
       "      <th>power</th>\n",
       "      <th>model</th>\n",
       "      <th>kilometer</th>\n",
       "      <th>fuel_type</th>\n",
       "      <th>brand</th>\n",
       "      <th>not_repaired</th>\n",
       "      <th>number_of_pictures</th>\n",
       "    </tr>\n",
       "  </thead>\n",
       "  <tbody>\n",
       "    <tr>\n",
       "      <th>2</th>\n",
       "      <td>9800</td>\n",
       "      <td>suv</td>\n",
       "      <td>2004</td>\n",
       "      <td>auto</td>\n",
       "      <td>163</td>\n",
       "      <td>grand</td>\n",
       "      <td>125000</td>\n",
       "      <td>gasoline</td>\n",
       "      <td>jeep</td>\n",
       "      <td>unknow</td>\n",
       "      <td>0</td>\n",
       "    </tr>\n",
       "    <tr>\n",
       "      <th>3</th>\n",
       "      <td>1500</td>\n",
       "      <td>small</td>\n",
       "      <td>2001</td>\n",
       "      <td>manual</td>\n",
       "      <td>75</td>\n",
       "      <td>golf</td>\n",
       "      <td>150000</td>\n",
       "      <td>petrol</td>\n",
       "      <td>volkswagen</td>\n",
       "      <td>no</td>\n",
       "      <td>0</td>\n",
       "    </tr>\n",
       "    <tr>\n",
       "      <th>4</th>\n",
       "      <td>3600</td>\n",
       "      <td>small</td>\n",
       "      <td>2008</td>\n",
       "      <td>manual</td>\n",
       "      <td>69</td>\n",
       "      <td>fabia</td>\n",
       "      <td>90000</td>\n",
       "      <td>gasoline</td>\n",
       "      <td>skoda</td>\n",
       "      <td>no</td>\n",
       "      <td>0</td>\n",
       "    </tr>\n",
       "    <tr>\n",
       "      <th>5</th>\n",
       "      <td>650</td>\n",
       "      <td>sedan</td>\n",
       "      <td>1995</td>\n",
       "      <td>manual</td>\n",
       "      <td>102</td>\n",
       "      <td>3er</td>\n",
       "      <td>150000</td>\n",
       "      <td>petrol</td>\n",
       "      <td>bmw</td>\n",
       "      <td>yes</td>\n",
       "      <td>0</td>\n",
       "    </tr>\n",
       "    <tr>\n",
       "      <th>6</th>\n",
       "      <td>2200</td>\n",
       "      <td>convertible</td>\n",
       "      <td>2004</td>\n",
       "      <td>manual</td>\n",
       "      <td>109</td>\n",
       "      <td>2_reihe</td>\n",
       "      <td>150000</td>\n",
       "      <td>petrol</td>\n",
       "      <td>peugeot</td>\n",
       "      <td>no</td>\n",
       "      <td>0</td>\n",
       "    </tr>\n",
       "  </tbody>\n",
       "</table>\n",
       "</div>"
      ],
      "text/plain": [
       "   price vehicle_type  registration_year gearbox  power    model  kilometer  \\\n",
       "2   9800          suv               2004    auto    163    grand     125000   \n",
       "3   1500        small               2001  manual     75     golf     150000   \n",
       "4   3600        small               2008  manual     69    fabia      90000   \n",
       "5    650        sedan               1995  manual    102      3er     150000   \n",
       "6   2200  convertible               2004  manual    109  2_reihe     150000   \n",
       "\n",
       "  fuel_type       brand not_repaired  number_of_pictures  \n",
       "2  gasoline        jeep       unknow                   0  \n",
       "3    petrol  volkswagen           no                   0  \n",
       "4  gasoline       skoda           no                   0  \n",
       "5    petrol         bmw          yes                   0  \n",
       "6    petrol     peugeot           no                   0  "
      ]
     },
     "execution_count": 31,
     "metadata": {},
     "output_type": "execute_result"
    }
   ],
   "source": [
    "# Удалим столбцы DateCrawled, DateCreated, LastSeen из признаков\n",
    "df.drop(['date_crawled', 'date_created', 'last_seen', 'registration_month', 'postal_code'], axis=1, inplace=True)\n",
    "df.head()"
   ]
  },
  {
   "cell_type": "code",
   "execution_count": 32,
   "metadata": {
    "scrolled": false
   },
   "outputs": [
    {
     "data": {
      "text/html": [
       "<div>\n",
       "<style scoped>\n",
       "    .dataframe tbody tr th:only-of-type {\n",
       "        vertical-align: middle;\n",
       "    }\n",
       "\n",
       "    .dataframe tbody tr th {\n",
       "        vertical-align: top;\n",
       "    }\n",
       "\n",
       "    .dataframe thead th {\n",
       "        text-align: right;\n",
       "    }\n",
       "</style>\n",
       "<table border=\"1\" class=\"dataframe\">\n",
       "  <thead>\n",
       "    <tr style=\"text-align: right;\">\n",
       "      <th></th>\n",
       "      <th>price</th>\n",
       "      <th>registration_year</th>\n",
       "      <th>power</th>\n",
       "      <th>kilometer</th>\n",
       "      <th>number_of_pictures</th>\n",
       "    </tr>\n",
       "  </thead>\n",
       "  <tbody>\n",
       "    <tr>\n",
       "      <th>count</th>\n",
       "      <td>286927.000000</td>\n",
       "      <td>286927.000000</td>\n",
       "      <td>286927.000000</td>\n",
       "      <td>286927.000000</td>\n",
       "      <td>286927.0</td>\n",
       "    </tr>\n",
       "    <tr>\n",
       "      <th>mean</th>\n",
       "      <td>4741.657373</td>\n",
       "      <td>2003.534683</td>\n",
       "      <td>122.256811</td>\n",
       "      <td>129258.225960</td>\n",
       "      <td>0.0</td>\n",
       "    </tr>\n",
       "    <tr>\n",
       "      <th>std</th>\n",
       "      <td>4240.951599</td>\n",
       "      <td>6.443068</td>\n",
       "      <td>52.383057</td>\n",
       "      <td>35871.893736</td>\n",
       "      <td>0.0</td>\n",
       "    </tr>\n",
       "    <tr>\n",
       "      <th>min</th>\n",
       "      <td>202.000000</td>\n",
       "      <td>1970.000000</td>\n",
       "      <td>51.000000</td>\n",
       "      <td>5000.000000</td>\n",
       "      <td>0.0</td>\n",
       "    </tr>\n",
       "    <tr>\n",
       "      <th>25%</th>\n",
       "      <td>1450.000000</td>\n",
       "      <td>1999.000000</td>\n",
       "      <td>82.000000</td>\n",
       "      <td>125000.000000</td>\n",
       "      <td>0.0</td>\n",
       "    </tr>\n",
       "    <tr>\n",
       "      <th>50%</th>\n",
       "      <td>3250.000000</td>\n",
       "      <td>2004.000000</td>\n",
       "      <td>115.000000</td>\n",
       "      <td>150000.000000</td>\n",
       "      <td>0.0</td>\n",
       "    </tr>\n",
       "    <tr>\n",
       "      <th>75%</th>\n",
       "      <td>6900.000000</td>\n",
       "      <td>2008.000000</td>\n",
       "      <td>150.000000</td>\n",
       "      <td>150000.000000</td>\n",
       "      <td>0.0</td>\n",
       "    </tr>\n",
       "    <tr>\n",
       "      <th>max</th>\n",
       "      <td>17999.000000</td>\n",
       "      <td>2019.000000</td>\n",
       "      <td>999.000000</td>\n",
       "      <td>150000.000000</td>\n",
       "      <td>0.0</td>\n",
       "    </tr>\n",
       "  </tbody>\n",
       "</table>\n",
       "</div>"
      ],
      "text/plain": [
       "               price  registration_year          power      kilometer  \\\n",
       "count  286927.000000      286927.000000  286927.000000  286927.000000   \n",
       "mean     4741.657373        2003.534683     122.256811  129258.225960   \n",
       "std      4240.951599           6.443068      52.383057   35871.893736   \n",
       "min       202.000000        1970.000000      51.000000    5000.000000   \n",
       "25%      1450.000000        1999.000000      82.000000  125000.000000   \n",
       "50%      3250.000000        2004.000000     115.000000  150000.000000   \n",
       "75%      6900.000000        2008.000000     150.000000  150000.000000   \n",
       "max     17999.000000        2019.000000     999.000000  150000.000000   \n",
       "\n",
       "       number_of_pictures  \n",
       "count            286927.0  \n",
       "mean                  0.0  \n",
       "std                   0.0  \n",
       "min                   0.0  \n",
       "25%                   0.0  \n",
       "50%                   0.0  \n",
       "75%                   0.0  \n",
       "max                   0.0  "
      ]
     },
     "execution_count": 32,
     "metadata": {},
     "output_type": "execute_result"
    }
   ],
   "source": [
    "df.describe()"
   ]
  },
  {
   "cell_type": "code",
   "execution_count": 33,
   "metadata": {
    "scrolled": false
   },
   "outputs": [
    {
     "data": {
      "text/html": [
       "<div>\n",
       "<style scoped>\n",
       "    .dataframe tbody tr th:only-of-type {\n",
       "        vertical-align: middle;\n",
       "    }\n",
       "\n",
       "    .dataframe tbody tr th {\n",
       "        vertical-align: top;\n",
       "    }\n",
       "\n",
       "    .dataframe thead th {\n",
       "        text-align: right;\n",
       "    }\n",
       "</style>\n",
       "<table border=\"1\" class=\"dataframe\">\n",
       "  <thead>\n",
       "    <tr style=\"text-align: right;\">\n",
       "      <th></th>\n",
       "      <th>registration_year</th>\n",
       "      <th>power</th>\n",
       "      <th>kilometer</th>\n",
       "      <th>number_of_pictures</th>\n",
       "      <th>vehicle_type_convertible</th>\n",
       "      <th>vehicle_type_coupe</th>\n",
       "      <th>vehicle_type_other</th>\n",
       "      <th>vehicle_type_sedan</th>\n",
       "      <th>vehicle_type_small</th>\n",
       "      <th>vehicle_type_suv</th>\n",
       "      <th>...</th>\n",
       "      <th>brand_smart</th>\n",
       "      <th>brand_sonstige_autos</th>\n",
       "      <th>brand_subaru</th>\n",
       "      <th>brand_suzuki</th>\n",
       "      <th>brand_toyota</th>\n",
       "      <th>brand_trabant</th>\n",
       "      <th>brand_volkswagen</th>\n",
       "      <th>brand_volvo</th>\n",
       "      <th>not_repaired_unknow</th>\n",
       "      <th>not_repaired_yes</th>\n",
       "    </tr>\n",
       "  </thead>\n",
       "  <tbody>\n",
       "    <tr>\n",
       "      <th>2</th>\n",
       "      <td>2004</td>\n",
       "      <td>163</td>\n",
       "      <td>125000</td>\n",
       "      <td>0</td>\n",
       "      <td>0</td>\n",
       "      <td>0</td>\n",
       "      <td>0</td>\n",
       "      <td>0</td>\n",
       "      <td>0</td>\n",
       "      <td>1</td>\n",
       "      <td>...</td>\n",
       "      <td>0</td>\n",
       "      <td>0</td>\n",
       "      <td>0</td>\n",
       "      <td>0</td>\n",
       "      <td>0</td>\n",
       "      <td>0</td>\n",
       "      <td>0</td>\n",
       "      <td>0</td>\n",
       "      <td>1</td>\n",
       "      <td>0</td>\n",
       "    </tr>\n",
       "    <tr>\n",
       "      <th>3</th>\n",
       "      <td>2001</td>\n",
       "      <td>75</td>\n",
       "      <td>150000</td>\n",
       "      <td>0</td>\n",
       "      <td>0</td>\n",
       "      <td>0</td>\n",
       "      <td>0</td>\n",
       "      <td>0</td>\n",
       "      <td>1</td>\n",
       "      <td>0</td>\n",
       "      <td>...</td>\n",
       "      <td>0</td>\n",
       "      <td>0</td>\n",
       "      <td>0</td>\n",
       "      <td>0</td>\n",
       "      <td>0</td>\n",
       "      <td>0</td>\n",
       "      <td>1</td>\n",
       "      <td>0</td>\n",
       "      <td>0</td>\n",
       "      <td>0</td>\n",
       "    </tr>\n",
       "    <tr>\n",
       "      <th>4</th>\n",
       "      <td>2008</td>\n",
       "      <td>69</td>\n",
       "      <td>90000</td>\n",
       "      <td>0</td>\n",
       "      <td>0</td>\n",
       "      <td>0</td>\n",
       "      <td>0</td>\n",
       "      <td>0</td>\n",
       "      <td>1</td>\n",
       "      <td>0</td>\n",
       "      <td>...</td>\n",
       "      <td>0</td>\n",
       "      <td>0</td>\n",
       "      <td>0</td>\n",
       "      <td>0</td>\n",
       "      <td>0</td>\n",
       "      <td>0</td>\n",
       "      <td>0</td>\n",
       "      <td>0</td>\n",
       "      <td>0</td>\n",
       "      <td>0</td>\n",
       "    </tr>\n",
       "    <tr>\n",
       "      <th>5</th>\n",
       "      <td>1995</td>\n",
       "      <td>102</td>\n",
       "      <td>150000</td>\n",
       "      <td>0</td>\n",
       "      <td>0</td>\n",
       "      <td>0</td>\n",
       "      <td>0</td>\n",
       "      <td>1</td>\n",
       "      <td>0</td>\n",
       "      <td>0</td>\n",
       "      <td>...</td>\n",
       "      <td>0</td>\n",
       "      <td>0</td>\n",
       "      <td>0</td>\n",
       "      <td>0</td>\n",
       "      <td>0</td>\n",
       "      <td>0</td>\n",
       "      <td>0</td>\n",
       "      <td>0</td>\n",
       "      <td>0</td>\n",
       "      <td>1</td>\n",
       "    </tr>\n",
       "    <tr>\n",
       "      <th>6</th>\n",
       "      <td>2004</td>\n",
       "      <td>109</td>\n",
       "      <td>150000</td>\n",
       "      <td>0</td>\n",
       "      <td>1</td>\n",
       "      <td>0</td>\n",
       "      <td>0</td>\n",
       "      <td>0</td>\n",
       "      <td>0</td>\n",
       "      <td>0</td>\n",
       "      <td>...</td>\n",
       "      <td>0</td>\n",
       "      <td>0</td>\n",
       "      <td>0</td>\n",
       "      <td>0</td>\n",
       "      <td>0</td>\n",
       "      <td>0</td>\n",
       "      <td>0</td>\n",
       "      <td>0</td>\n",
       "      <td>0</td>\n",
       "      <td>0</td>\n",
       "    </tr>\n",
       "  </tbody>\n",
       "</table>\n",
       "<p>5 rows × 310 columns</p>\n",
       "</div>"
      ],
      "text/plain": [
       "   registration_year  power  kilometer  number_of_pictures  \\\n",
       "2               2004    163     125000                   0   \n",
       "3               2001     75     150000                   0   \n",
       "4               2008     69      90000                   0   \n",
       "5               1995    102     150000                   0   \n",
       "6               2004    109     150000                   0   \n",
       "\n",
       "   vehicle_type_convertible  vehicle_type_coupe  vehicle_type_other  \\\n",
       "2                         0                   0                   0   \n",
       "3                         0                   0                   0   \n",
       "4                         0                   0                   0   \n",
       "5                         0                   0                   0   \n",
       "6                         1                   0                   0   \n",
       "\n",
       "   vehicle_type_sedan  vehicle_type_small  vehicle_type_suv  ...  brand_smart  \\\n",
       "2                   0                   0                 1  ...            0   \n",
       "3                   0                   1                 0  ...            0   \n",
       "4                   0                   1                 0  ...            0   \n",
       "5                   1                   0                 0  ...            0   \n",
       "6                   0                   0                 0  ...            0   \n",
       "\n",
       "   brand_sonstige_autos  brand_subaru  brand_suzuki  brand_toyota  \\\n",
       "2                     0             0             0             0   \n",
       "3                     0             0             0             0   \n",
       "4                     0             0             0             0   \n",
       "5                     0             0             0             0   \n",
       "6                     0             0             0             0   \n",
       "\n",
       "   brand_trabant  brand_volkswagen  brand_volvo  not_repaired_unknow  \\\n",
       "2              0                 0            0                    1   \n",
       "3              0                 1            0                    0   \n",
       "4              0                 0            0                    0   \n",
       "5              0                 0            0                    0   \n",
       "6              0                 0            0                    0   \n",
       "\n",
       "   not_repaired_yes  \n",
       "2                 0  \n",
       "3                 0  \n",
       "4                 0  \n",
       "5                 1  \n",
       "6                 0  \n",
       "\n",
       "[5 rows x 310 columns]"
      ]
     },
     "metadata": {},
     "output_type": "display_data"
    }
   ],
   "source": [
    "# Разделим таблицу на признаки и целевые результаты\n",
    "features = df.drop(['price'], axis=1)\n",
    "target = df['price']\n",
    "\n",
    "# Выполним прямое кодирование\n",
    "features = pd.get_dummies(features, drop_first=True)\n",
    "\n",
    "display(features.head())"
   ]
  },
  {
   "cell_type": "markdown",
   "metadata": {},
   "source": [
    "## Обучение моделей"
   ]
  },
  {
   "cell_type": "code",
   "execution_count": 34,
   "metadata": {},
   "outputs": [],
   "source": [
    "state = RandomState(12345)"
   ]
  },
  {
   "cell_type": "code",
   "execution_count": 35,
   "metadata": {},
   "outputs": [
    {
     "name": "stdout",
     "output_type": "stream",
     "text": [
      "Обучающая выборка признаков - (215195, 310)\n",
      "Обучающая выборка целевого признака - (215195,)\n",
      "Тестовая выборка признаков - (71732, 310)\n",
      "Тестовая выборка целевого признака - (71732,)\n"
     ]
    }
   ],
   "source": [
    "# Разделим данные на обучающую и тестовую выборки\n",
    "\n",
    "features_train, features_test, target_train, target_test = train_test_split(features, target,\n",
    "                                                                            test_size=.25,                                                                            \n",
    "                                                                            random_state=state)\n",
    "print(f'Обучающая выборка признаков - {features_train.shape}')\n",
    "print(f'Обучающая выборка целевого признака - {target_train.shape}')\n",
    "print(f'Тестовая выборка признаков - {features_test.shape}')\n",
    "print(f'Тестовая выборка целевого признака - {target_test.shape}')"
   ]
  },
  {
   "cell_type": "code",
   "execution_count": 36,
   "metadata": {},
   "outputs": [],
   "source": [
    "# Создадим списки для записи результатов тестов\n",
    "model = []\n",
    "model_name = []\n",
    "rmse_result = []\n",
    "time_fit_result = []\n",
    "time_predict_result = []"
   ]
  },
  {
   "cell_type": "code",
   "execution_count": 37,
   "metadata": {
    "scrolled": true
   },
   "outputs": [
    {
     "name": "stdout",
     "output_type": "stream",
     "text": [
      "Точность модели по RMSE: 2353.0919\n",
      "Время обучение модели: 18.2291\n",
      "Скорость предсказания: 0.2969\n"
     ]
    }
   ],
   "source": [
    "# Обучим модель методом линейной регрессии\n",
    "model_name.append('line_regr_light')\n",
    "\n",
    "t1 = time()\n",
    "model_regr_light = LinearRegression()\n",
    "model_regr_light.fit(features_train, target_train)\n",
    "t2 = time()\n",
    "answer_regr_light = model_regr_light.predict(features_test)\n",
    "t3 = time()\n",
    "rmse_model_regr_light = (mean_squared_error(target_test, answer_regr_light))**.5\n",
    "\n",
    "time_fit = t2 - t1\n",
    "time_predict = t3 - t2\n",
    "\n",
    "model.append(model_regr_light)\n",
    "rmse_result.append(round(rmse_model_regr_light, 4))\n",
    "time_fit_result.append(round(time_fit, 4))\n",
    "time_predict_result.append(round(time_predict, 4))\n",
    "print(f\"Точность модели по RMSE: {rmse_model_regr_light:.4f}\")\n",
    "print(f\"Время обучение модели: {time_fit:.4f}\")\n",
    "print(f\"Скорость предсказания: {time_predict:.4f}\")"
   ]
  },
  {
   "cell_type": "code",
   "execution_count": 38,
   "metadata": {},
   "outputs": [
    {
     "name": "stdout",
     "output_type": "stream",
     "text": [
      "На модели логистической регрессии средний уровень RMSE = 2367.5796\n",
      "Точность модели по RMSE: 2353.7421\n",
      "Время обучение модели: 39.5308\n",
      "Скорость предсказания: 0.3104\n"
     ]
    }
   ],
   "source": [
    "# Обучим модель методом линейной регрессии с использованем кросс-валидация (3 частей)\n",
    "model_name.append('line_regr_cross_valid')\n",
    "line_regr_cross_valid_list = []\n",
    "all_line = len(target_train)\n",
    "sample_size = int(all_line//3.1)\n",
    "\n",
    "t1 = time()\n",
    "for i in range(0, all_line, sample_size):\n",
    "    if i+sample_size >= all_line:\n",
    "        break\n",
    "    else:\n",
    "        valid_indexes = list(range(i, i+sample_size)) \n",
    "        train_indexes = list(range(0, i)) + list(range(i+sample_size, all_line))\n",
    "\n",
    "        # Создадим выборки методом кросс-валидация и обучим модель\n",
    "        features_train_short = features_train.loc[features_train.index[train_indexes]]\n",
    "        target_train_short = target_train.loc[target_train.index[train_indexes]]\n",
    "        features_valid_short = features_train.loc[features_train.index[valid_indexes]]\n",
    "        target_valid_short = target_train.loc[target_train.index[valid_indexes]]\n",
    "    \n",
    "        model_line_regr_cross_valid = LinearRegression()\n",
    "        model_line_regr_cross_valid.fit(features_train_short, target_train_short)\n",
    "        predict_test = model_line_regr_cross_valid.predict(features_valid_short)\n",
    "\n",
    "        # Проверим качество модели\n",
    "        rmse_test_short = mean_squared_error(target_valid_short, predict_test)\n",
    "        line_regr_cross_valid_list.append(rmse_test_short)\n",
    "    \n",
    "# Рассчитаем среднее качество модели\n",
    "fin_line_regr_cross_valid_list = (sum(line_regr_cross_valid_list) / len(line_regr_cross_valid_list))**0.5\n",
    "print(f'На модели логистической регрессии средний уровень RMSE = {fin_line_regr_cross_valid_list:.4f}')\n",
    "\n",
    "t2 = time()\n",
    "answer_line_regr_cross_valid = model_line_regr_cross_valid.predict(features_test)\n",
    "t3 = time()\n",
    "rmse_model_line_regr_cross_valid = (mean_squared_error(target_test, answer_line_regr_cross_valid))**0.5\n",
    "\n",
    "time_fit = t2 - t1\n",
    "time_predict = t3 - t2\n",
    "\n",
    "model.append(model_line_regr_cross_valid)\n",
    "rmse_result.append(round(rmse_model_line_regr_cross_valid, 4))\n",
    "time_fit_result.append(round(time_fit, 4))\n",
    "time_predict_result.append(round(time_predict, 4))\n",
    "print(f\"Точность модели по RMSE: {rmse_model_line_regr_cross_valid:.4f}\")\n",
    "print(f\"Время обучение модели: {time_fit:.4f}\")\n",
    "print(f\"Скорость предсказания: {time_predict:.4f}\")"
   ]
  },
  {
   "cell_type": "code",
   "execution_count": 39,
   "metadata": {},
   "outputs": [
    {
     "name": "stdout",
     "output_type": "stream",
     "text": [
      "Лучший параметр глубины - 10\n",
      "Точность модели по RMSE: 1866.2008\n",
      "Время обучение модели: 48.7419\n",
      "Скорость предсказания: 0.1271\n"
     ]
    }
   ],
   "source": [
    "# Подберем лучшие параметры Решающего дерева методом GridSearchCV\n",
    "model_name.append('tree_regr')\n",
    "\n",
    "t1 = time()\n",
    "clf = DecisionTreeRegressor(random_state=state)\n",
    "parametrs = {'max_depth': range(5, 11)}\n",
    "\n",
    "model_tree_regr = GridSearchCV(clf, parametrs, cv=3)\n",
    "model_tree_regr.fit(features_train, target_train)\n",
    "best_depth_tree_regr = model_tree_regr.best_params_.get('max_depth')\n",
    "print(f'Лучший параметр глубины - {best_depth_tree_regr}')\n",
    "\n",
    "# Обучим и проверим модель с подобранными параметрами\n",
    "model_tree = DecisionTreeRegressor(max_depth=best_depth_tree_regr, random_state=state)\n",
    "model_tree.fit(features_train, target_train)\n",
    "\n",
    "t2 = time()\n",
    "answer_model_tree = model_tree.predict(features_test)\n",
    "t3 = time()\n",
    "rmse_model_tree = (mean_squared_error(target_test, answer_model_tree))**0.5\n",
    "\n",
    "time_fit = t2 - t1\n",
    "time_predict = t3 - t2\n",
    "\n",
    "model.append(model_tree)\n",
    "rmse_result.append(round(rmse_model_tree, 4))\n",
    "time_fit_result.append(round(time_fit, 4))\n",
    "time_predict_result.append(round(time_predict, 4))\n",
    "print(f\"Точность модели по RMSE: {rmse_model_tree:.4f}\")\n",
    "print(f\"Время обучение модели: {time_fit:.4f}\")\n",
    "print(f\"Скорость предсказания: {time_predict:.4f}\")"
   ]
  },
  {
   "cell_type": "code",
   "execution_count": 40,
   "metadata": {},
   "outputs": [
    {
     "name": "stdout",
     "output_type": "stream",
     "text": [
      "Лучший параметр числа деревьев - 15\n",
      "Точность модели по RMSE: 1786.5068\n",
      "Время обучение модели: 78.1602\n",
      "Скорость предсказания: 0.2102\n"
     ]
    }
   ],
   "source": [
    "# Улучшим модель Решающего дарава меняя число деревьев\n",
    "model_name.append('forest_regr')\n",
    "\n",
    "best_result_forest = 100000\n",
    "best_est_forest = 0\n",
    "best_model_forest = 0\n",
    "best_rmse_model_forest = 0\n",
    "\n",
    "t1 = time()\n",
    "for est in range(5, 16, 5):\n",
    "    model_forest = RandomForestRegressor(random_state=state,\n",
    "                                   n_estimators=est, \n",
    "                                   max_depth=best_depth_tree_regr)\n",
    "    model_forest.fit(features_train, target_train)\n",
    "    predict_model_forest = model_forest.predict(features_test)\n",
    "    test_model_forest = (mean_squared_error(target_test, predict_model_forest))**0.5\n",
    "    \n",
    "    if best_result_forest > test_model_forest:\n",
    "        best_result_forest = test_model_forest\n",
    "        best_est_forest = est\n",
    "        best_model_forest = model_forest\n",
    "        best_rmse_model_forest = test_model_forest\n",
    "print(f'Лучший параметр числа деревьев - {best_est_forest}')\n",
    "\n",
    "t2 = time()\n",
    "answer_model_forest = best_model_forest.predict(features_test)\n",
    "t3 = time()\n",
    "rmse_model_forest = (mean_squared_error(target_test, answer_model_forest))**0.5\n",
    "\n",
    "time_fit = t2 - t1\n",
    "time_predict = t3 - t2\n",
    "\n",
    "model.append(best_model_forest)\n",
    "rmse_result.append(round(rmse_model_forest, 4))\n",
    "time_fit_result.append(round(time_fit, 4))\n",
    "time_predict_result.append(round(time_predict, 4))\n",
    "print(f\"Точность модели по RMSE: {rmse_model_forest:.4f}\")\n",
    "print(f\"Время обучение модели: {time_fit:.4f}\")\n",
    "print(f\"Скорость предсказания: {time_predict:.4f}\")"
   ]
  },
  {
   "cell_type": "code",
   "execution_count": 41,
   "metadata": {
    "scrolled": true
   },
   "outputs": [
    {
     "name": "stdout",
     "output_type": "stream",
     "text": [
      "Точность модели по RMSE: 4245.3055\n",
      "Время обучение модели: 0.0008\n",
      "Скорость предсказания: 0.0006\n"
     ]
    }
   ],
   "source": [
    "# Проверка \"наивным\" алгоритмом\n",
    "model_name.append('dummy_regr')\n",
    "\n",
    "t1 = time()\n",
    "naive_model = DummyRegressor(strategy=\"mean\")\n",
    "naive_model.fit(features_train, target_train)\n",
    "t2 = time()\n",
    "answer_naive = naive_model.predict (features_test)\n",
    "t3 = time()\n",
    "rmse_naive_model = (mean_squared_error(target_test, answer_naive))**0.5\n",
    "\n",
    "time_fit = t2 - t1\n",
    "time_predict = t3 - t2\n",
    "\n",
    "model.append(naive_model)\n",
    "rmse_result.append(round(rmse_naive_model, 4))\n",
    "time_fit_result.append(round(time_fit, 4))\n",
    "time_predict_result.append(round(time_predict, 4))\n",
    "print(f\"Точность модели по RMSE: {rmse_naive_model:.4f}\")\n",
    "print(f\"Время обучение модели: {time_fit:.4f}\")\n",
    "print(f\"Скорость предсказания: {time_predict:.4f}\")"
   ]
  },
  {
   "cell_type": "code",
   "execution_count": 42,
   "metadata": {},
   "outputs": [
    {
     "name": "stdout",
     "output_type": "stream",
     "text": [
      "[1]\tvalid_0's rmse: 3947.09\tvalid_0's l2: 1.55795e+07\n",
      "[2]\tvalid_0's rmse: 3688.33\tvalid_0's l2: 1.36038e+07\n",
      "[3]\tvalid_0's rmse: 3456.96\tvalid_0's l2: 1.19506e+07\n",
      "[4]\tvalid_0's rmse: 3251.77\tvalid_0's l2: 1.0574e+07\n",
      "[5]\tvalid_0's rmse: 3077.19\tvalid_0's l2: 9.4691e+06\n",
      "[6]\tvalid_0's rmse: 2922.05\tvalid_0's l2: 8.53835e+06\n",
      "[7]\tvalid_0's rmse: 2788.33\tvalid_0's l2: 7.77476e+06\n",
      "[8]\tvalid_0's rmse: 2670.99\tvalid_0's l2: 7.13418e+06\n",
      "[9]\tvalid_0's rmse: 2566.39\tvalid_0's l2: 6.58634e+06\n",
      "[10]\tvalid_0's rmse: 2477.3\tvalid_0's l2: 6.13704e+06\n",
      "Точность модели по RMSE: 2477.3040\n",
      "Время обучение модели: 3.7334\n",
      "Скорость предсказания: 0.3912\n"
     ]
    }
   ],
   "source": [
    "# Создадим модель с испльзоаванием Фреймворка LightGBM\n",
    "model_name.append('lgb_regr')\n",
    "\n",
    "t1 = time()\n",
    "lgb_model = lgb.LGBMModel(objective=\"regression\", n_estimators=10)\n",
    "lgb_model.fit(features_train, target_train, eval_set=[(features_test, target_test),], eval_metric=\"rmse\")\n",
    "\n",
    "t2 = time()\n",
    "answerr_lgb_model = lgb_model.predict(features_test)\n",
    "t3 = time()\n",
    "rmse_lgb_model = (mean_squared_error(target_test, answerr_lgb_model))**0.5\n",
    "\n",
    "time_fit = t2 - t1\n",
    "time_predict = t3 - t2\n",
    "\n",
    "model.append(lgb_model)\n",
    "rmse_result.append(round(rmse_lgb_model, 4))\n",
    "time_fit_result.append(round(time_fit, 4))\n",
    "time_predict_result.append(round(time_predict, 4))\n",
    "print(f\"Точность модели по RMSE: {rmse_lgb_model:.4f}\")\n",
    "print(f\"Время обучение модели: {time_fit:.4f}\")\n",
    "print(f\"Скорость предсказания: {time_predict:.4f}\")"
   ]
  },
  {
   "cell_type": "markdown",
   "metadata": {},
   "source": [
    "## Анализ моделей"
   ]
  },
  {
   "cell_type": "code",
   "execution_count": 43,
   "metadata": {
    "scrolled": true
   },
   "outputs": [
    {
     "data": {
      "text/html": [
       "<div>\n",
       "<style scoped>\n",
       "    .dataframe tbody tr th:only-of-type {\n",
       "        vertical-align: middle;\n",
       "    }\n",
       "\n",
       "    .dataframe tbody tr th {\n",
       "        vertical-align: top;\n",
       "    }\n",
       "\n",
       "    .dataframe thead th {\n",
       "        text-align: right;\n",
       "    }\n",
       "</style>\n",
       "<table border=\"1\" class=\"dataframe\">\n",
       "  <thead>\n",
       "    <tr style=\"text-align: right;\">\n",
       "      <th></th>\n",
       "      <th>indicanor</th>\n",
       "      <th>rmse_result</th>\n",
       "      <th>time_fit</th>\n",
       "      <th>time_predict</th>\n",
       "      <th>model</th>\n",
       "    </tr>\n",
       "  </thead>\n",
       "  <tbody>\n",
       "    <tr>\n",
       "      <th>0</th>\n",
       "      <td>line_regr_light</td>\n",
       "      <td>2353.0919</td>\n",
       "      <td>18.2291</td>\n",
       "      <td>0.2969</td>\n",
       "      <td>LinearRegression()</td>\n",
       "    </tr>\n",
       "    <tr>\n",
       "      <th>1</th>\n",
       "      <td>line_regr_cross_valid</td>\n",
       "      <td>2353.7421</td>\n",
       "      <td>39.5308</td>\n",
       "      <td>0.3104</td>\n",
       "      <td>LinearRegression()</td>\n",
       "    </tr>\n",
       "    <tr>\n",
       "      <th>2</th>\n",
       "      <td>tree_regr</td>\n",
       "      <td>1866.2008</td>\n",
       "      <td>48.7419</td>\n",
       "      <td>0.1271</td>\n",
       "      <td>DecisionTreeRegressor(max_depth=10,\\n         ...</td>\n",
       "    </tr>\n",
       "    <tr>\n",
       "      <th>3</th>\n",
       "      <td>forest_regr</td>\n",
       "      <td>1786.5068</td>\n",
       "      <td>78.1602</td>\n",
       "      <td>0.2102</td>\n",
       "      <td>(DecisionTreeRegressor(max_depth=10, max_featu...</td>\n",
       "    </tr>\n",
       "    <tr>\n",
       "      <th>4</th>\n",
       "      <td>dummy_regr</td>\n",
       "      <td>4245.3055</td>\n",
       "      <td>0.0008</td>\n",
       "      <td>0.0006</td>\n",
       "      <td>DummyRegressor()</td>\n",
       "    </tr>\n",
       "    <tr>\n",
       "      <th>5</th>\n",
       "      <td>lgb_regr</td>\n",
       "      <td>2477.3040</td>\n",
       "      <td>3.7334</td>\n",
       "      <td>0.3912</td>\n",
       "      <td>LGBMModel(n_estimators=10, objective='regressi...</td>\n",
       "    </tr>\n",
       "  </tbody>\n",
       "</table>\n",
       "</div>"
      ],
      "text/plain": [
       "               indicanor  rmse_result  time_fit  time_predict  \\\n",
       "0        line_regr_light    2353.0919   18.2291        0.2969   \n",
       "1  line_regr_cross_valid    2353.7421   39.5308        0.3104   \n",
       "2              tree_regr    1866.2008   48.7419        0.1271   \n",
       "3            forest_regr    1786.5068   78.1602        0.2102   \n",
       "4             dummy_regr    4245.3055    0.0008        0.0006   \n",
       "5               lgb_regr    2477.3040    3.7334        0.3912   \n",
       "\n",
       "                                               model  \n",
       "0                                 LinearRegression()  \n",
       "1                                 LinearRegression()  \n",
       "2  DecisionTreeRegressor(max_depth=10,\\n         ...  \n",
       "3  (DecisionTreeRegressor(max_depth=10, max_featu...  \n",
       "4                                   DummyRegressor()  \n",
       "5  LGBMModel(n_estimators=10, objective='regressi...  "
      ]
     },
     "metadata": {},
     "output_type": "display_data"
    }
   ],
   "source": [
    "# Выведем полученные данные в таблицу\n",
    "result_model = pd.DataFrame({\n",
    "    'indicanor': model_name,\n",
    "    'rmse_result': rmse_result,\n",
    "    'time_fit': time_fit_result,\n",
    "    'time_predict': time_predict_result,\n",
    "    'model': model\n",
    "})\n",
    "\n",
    "display(result_model)"
   ]
  },
  {
   "cell_type": "markdown",
   "metadata": {},
   "source": [
    "**Выводы**\n",
    "\n",
    "По результату обучения нескольких моделей наиболее точный результат дает метод `Случайный лес` с количеством деревьев **15** и глубиной каждого дерева – **10**. Показатель `RMSE` данной модели составляет **1786**. \n",
    "\n",
    "Однако, `Случайный лес` - это одна из самых медленно обучаемых моделей. Учитывая требование заказчика помимо высокой точности предсказания, обеспечить короткое время на обучение модели, представляется целесообразным обратиться к модели `Решающего дерева` с максимальной глубиной **10**.\n",
    "\n",
    "`Решающее дерево` обеспечивает точность `RMSE` на уровне **1866**, что является вторым по точности результатом. При этом, скорость обучения данной модели одна из самых высоких (выше только `линейной регрессии`), а скорость предсказания – самая высокая.\n",
    "\n",
    "**Таким образом**, рекомендовано к использованию модель `Решающего дерева` с максимальной глубиной **10**\n"
   ]
  },
  {
   "cell_type": "code",
   "execution_count": null,
   "metadata": {},
   "outputs": [],
   "source": []
  }
 ],
 "metadata": {
  "ExecuteTimeLog": [
   {
    "duration": 1150,
    "start_time": "2022-07-03T08:39:51.774Z"
   },
   {
    "duration": 2904,
    "start_time": "2022-07-03T08:39:52.926Z"
   },
   {
    "duration": 113,
    "start_time": "2022-07-03T08:39:55.831Z"
   },
   {
    "duration": 587,
    "start_time": "2022-07-03T08:39:55.946Z"
   },
   {
    "duration": 3429,
    "start_time": "2022-07-03T08:39:56.535Z"
   },
   {
    "duration": 13,
    "start_time": "2022-07-03T08:39:59.966Z"
   },
   {
    "duration": 9,
    "start_time": "2022-07-03T08:39:59.981Z"
   },
   {
    "duration": 126,
    "start_time": "2022-07-03T08:39:59.992Z"
   },
   {
    "duration": 1215,
    "start_time": "2022-07-03T08:40:00.120Z"
   },
   {
    "duration": 27,
    "start_time": "2022-07-03T08:40:01.341Z"
   },
   {
    "duration": 942,
    "start_time": "2022-07-03T08:40:01.369Z"
   },
   {
    "duration": 3,
    "start_time": "2022-07-03T08:40:02.313Z"
   },
   {
    "duration": 460,
    "start_time": "2022-07-03T08:40:02.317Z"
   },
   {
    "duration": 347,
    "start_time": "2022-07-03T08:40:08.601Z"
   },
   {
    "duration": 3,
    "start_time": "2022-07-03T08:40:09.983Z"
   },
   {
    "duration": 23552,
    "start_time": "2022-07-03T08:40:18.295Z"
   },
   {
    "duration": 24709,
    "start_time": "2022-07-03T08:41:27.437Z"
   },
   {
    "duration": 210,
    "start_time": "2022-07-03T10:13:08.389Z"
   },
   {
    "duration": 240270,
    "start_time": "2022-07-03T10:42:01.895Z"
   },
   {
    "duration": 124642,
    "start_time": "2022-07-03T10:50:29.114Z"
   },
   {
    "duration": 1193,
    "start_time": "2022-07-03T15:44:28.918Z"
   },
   {
    "duration": 3025,
    "start_time": "2022-07-03T15:44:30.114Z"
   },
   {
    "duration": 117,
    "start_time": "2022-07-03T15:44:33.141Z"
   },
   {
    "duration": 587,
    "start_time": "2022-07-03T15:44:33.261Z"
   },
   {
    "duration": 3416,
    "start_time": "2022-07-03T15:44:33.850Z"
   },
   {
    "duration": 11,
    "start_time": "2022-07-03T15:44:37.268Z"
   },
   {
    "duration": 9,
    "start_time": "2022-07-03T15:44:37.281Z"
   },
   {
    "duration": 127,
    "start_time": "2022-07-03T15:44:37.292Z"
   },
   {
    "duration": 1197,
    "start_time": "2022-07-03T15:44:37.420Z"
   },
   {
    "duration": 36,
    "start_time": "2022-07-03T15:44:38.620Z"
   },
   {
    "duration": 923,
    "start_time": "2022-07-03T15:44:38.657Z"
   },
   {
    "duration": 3,
    "start_time": "2022-07-03T15:44:39.583Z"
   },
   {
    "duration": 450,
    "start_time": "2022-07-03T15:44:39.588Z"
   },
   {
    "duration": 3,
    "start_time": "2022-07-03T15:44:40.041Z"
   },
   {
    "duration": 25499,
    "start_time": "2022-07-03T15:44:40.046Z"
   },
   {
    "duration": 52000,
    "start_time": "2022-07-03T15:45:05.550Z"
   },
   {
    "duration": 70554,
    "start_time": "2022-07-03T15:46:34.414Z"
   },
   {
    "duration": 0,
    "start_time": "2022-07-03T16:31:44.478Z"
   },
   {
    "duration": 114786,
    "start_time": "2022-07-03T16:31:51.656Z"
   },
   {
    "duration": 9,
    "start_time": "2022-07-03T16:34:40.181Z"
   },
   {
    "duration": 164,
    "start_time": "2022-07-03T16:59:54.573Z"
   },
   {
    "duration": 50320,
    "start_time": "2022-07-03T18:24:56.124Z"
   },
   {
    "duration": 19,
    "start_time": "2022-07-03T18:27:04.164Z"
   },
   {
    "duration": 4,
    "start_time": "2022-07-03T18:29:22.188Z"
   },
   {
    "duration": 4,
    "start_time": "2022-07-03T18:29:51.132Z"
   },
   {
    "duration": 6,
    "start_time": "2022-07-03T18:30:37.146Z"
   },
   {
    "duration": 5,
    "start_time": "2022-07-03T18:31:32.088Z"
   },
   {
    "duration": 823,
    "start_time": "2022-07-03T18:31:32.097Z"
   },
   {
    "duration": 123,
    "start_time": "2022-07-03T18:31:32.922Z"
   },
   {
    "duration": 571,
    "start_time": "2022-07-03T18:31:33.047Z"
   },
   {
    "duration": 3374,
    "start_time": "2022-07-03T18:31:33.621Z"
   },
   {
    "duration": 11,
    "start_time": "2022-07-03T18:31:36.997Z"
   },
   {
    "duration": 32,
    "start_time": "2022-07-03T18:31:37.010Z"
   },
   {
    "duration": 85,
    "start_time": "2022-07-03T18:31:37.043Z"
   },
   {
    "duration": 1193,
    "start_time": "2022-07-03T18:31:37.130Z"
   },
   {
    "duration": 42,
    "start_time": "2022-07-03T18:31:38.325Z"
   },
   {
    "duration": 829,
    "start_time": "2022-07-03T18:31:38.371Z"
   },
   {
    "duration": 3,
    "start_time": "2022-07-03T18:31:39.202Z"
   },
   {
    "duration": 458,
    "start_time": "2022-07-03T18:31:39.207Z"
   },
   {
    "duration": 3,
    "start_time": "2022-07-03T18:31:39.668Z"
   },
   {
    "duration": 31770,
    "start_time": "2022-07-03T18:31:39.673Z"
   },
   {
    "duration": 74797,
    "start_time": "2022-07-03T18:32:11.445Z"
   },
   {
    "duration": 71937,
    "start_time": "2022-07-03T18:33:26.245Z"
   },
   {
    "duration": 116896,
    "start_time": "2022-07-03T18:34:38.184Z"
   },
   {
    "duration": 9,
    "start_time": "2022-07-03T18:36:35.082Z"
   },
   {
    "duration": 72762,
    "start_time": "2022-07-03T18:36:35.093Z"
   },
   {
    "duration": 21,
    "start_time": "2022-07-03T18:37:47.857Z"
   },
   {
    "duration": 94,
    "start_time": "2022-07-04T13:16:27.300Z"
   },
   {
    "duration": 41,
    "start_time": "2022-07-04T13:19:41.008Z"
   },
   {
    "duration": 1305,
    "start_time": "2022-07-04T13:19:47.769Z"
   },
   {
    "duration": 1098,
    "start_time": "2022-07-04T13:19:49.076Z"
   },
   {
    "duration": 118,
    "start_time": "2022-07-04T13:19:50.176Z"
   },
   {
    "duration": 549,
    "start_time": "2022-07-04T13:19:50.302Z"
   },
   {
    "duration": 3310,
    "start_time": "2022-07-04T13:19:50.853Z"
   },
   {
    "duration": 14,
    "start_time": "2022-07-04T13:19:54.165Z"
   },
   {
    "duration": 24,
    "start_time": "2022-07-04T13:19:54.181Z"
   },
   {
    "duration": 118,
    "start_time": "2022-07-04T13:19:54.207Z"
   },
   {
    "duration": 1284,
    "start_time": "2022-07-04T13:19:54.327Z"
   },
   {
    "duration": 26,
    "start_time": "2022-07-04T13:19:55.613Z"
   },
   {
    "duration": 110,
    "start_time": "2022-07-04T13:19:55.641Z"
   },
   {
    "duration": 1253,
    "start_time": "2022-07-04T13:19:55.752Z"
   },
   {
    "duration": 4,
    "start_time": "2022-07-04T13:19:57.006Z"
   },
   {
    "duration": 535,
    "start_time": "2022-07-04T13:19:57.011Z"
   },
   {
    "duration": 3,
    "start_time": "2022-07-04T13:19:57.547Z"
   },
   {
    "duration": 62,
    "start_time": "2022-07-04T17:59:49.186Z"
   },
   {
    "duration": 1195,
    "start_time": "2022-07-04T19:41:54.006Z"
   },
   {
    "duration": 1042,
    "start_time": "2022-07-04T19:41:55.203Z"
   },
   {
    "duration": 114,
    "start_time": "2022-07-04T19:41:56.246Z"
   },
   {
    "duration": 552,
    "start_time": "2022-07-04T19:41:56.362Z"
   },
   {
    "duration": 3305,
    "start_time": "2022-07-04T19:41:56.916Z"
   },
   {
    "duration": 12,
    "start_time": "2022-07-04T19:42:00.223Z"
   },
   {
    "duration": 9,
    "start_time": "2022-07-04T19:42:00.236Z"
   },
   {
    "duration": 105,
    "start_time": "2022-07-04T19:42:00.247Z"
   },
   {
    "duration": 96,
    "start_time": "2022-07-04T19:42:00.354Z"
   },
   {
    "duration": 1209,
    "start_time": "2022-07-04T19:42:00.452Z"
   },
   {
    "duration": 25,
    "start_time": "2022-07-04T19:42:01.663Z"
   },
   {
    "duration": 88,
    "start_time": "2022-07-04T19:42:01.690Z"
   },
   {
    "duration": 408,
    "start_time": "2022-07-04T20:26:45.742Z"
   },
   {
    "duration": 106,
    "start_time": "2022-07-04T20:28:58.390Z"
   },
   {
    "duration": 5,
    "start_time": "2022-07-04T20:30:09.283Z"
   },
   {
    "duration": 795,
    "start_time": "2022-07-04T20:30:09.296Z"
   },
   {
    "duration": 130,
    "start_time": "2022-07-04T20:30:10.093Z"
   },
   {
    "duration": 517,
    "start_time": "2022-07-04T20:30:10.225Z"
   },
   {
    "duration": 3110,
    "start_time": "2022-07-04T20:30:10.745Z"
   },
   {
    "duration": 10,
    "start_time": "2022-07-04T20:30:13.857Z"
   },
   {
    "duration": 403,
    "start_time": "2022-07-04T20:30:21.428Z"
   },
   {
    "duration": 48,
    "start_time": "2022-07-04T20:33:47.082Z"
   },
   {
    "duration": 45,
    "start_time": "2022-07-04T20:34:36.051Z"
   },
   {
    "duration": 14,
    "start_time": "2022-07-04T20:38:02.638Z"
   },
   {
    "duration": 9,
    "start_time": "2022-07-04T20:59:48.877Z"
   },
   {
    "duration": 5,
    "start_time": "2022-07-04T21:10:52.149Z"
   },
   {
    "duration": 735,
    "start_time": "2022-07-04T21:10:52.169Z"
   },
   {
    "duration": 124,
    "start_time": "2022-07-04T21:10:52.906Z"
   },
   {
    "duration": 584,
    "start_time": "2022-07-04T21:10:53.032Z"
   },
   {
    "duration": 3437,
    "start_time": "2022-07-04T21:10:53.618Z"
   },
   {
    "duration": 8,
    "start_time": "2022-07-04T21:10:57.057Z"
   },
   {
    "duration": 393,
    "start_time": "2022-07-04T21:10:57.067Z"
   },
   {
    "duration": 45,
    "start_time": "2022-07-04T21:10:57.461Z"
   },
   {
    "duration": 20,
    "start_time": "2022-07-04T21:10:57.508Z"
   },
   {
    "duration": 10,
    "start_time": "2022-07-04T21:10:57.530Z"
   },
   {
    "duration": 7,
    "start_time": "2022-07-04T21:10:57.542Z"
   },
   {
    "duration": 88,
    "start_time": "2022-07-04T21:10:57.551Z"
   },
   {
    "duration": 88,
    "start_time": "2022-07-04T21:10:57.640Z"
   },
   {
    "duration": 1037,
    "start_time": "2022-07-04T21:10:57.729Z"
   },
   {
    "duration": 29,
    "start_time": "2022-07-04T21:10:58.768Z"
   },
   {
    "duration": 107,
    "start_time": "2022-07-04T21:10:58.799Z"
   },
   {
    "duration": 4,
    "start_time": "2022-07-04T21:11:33.131Z"
   },
   {
    "duration": 678,
    "start_time": "2022-07-04T21:11:33.142Z"
   },
   {
    "duration": 108,
    "start_time": "2022-07-04T21:11:33.822Z"
   },
   {
    "duration": 506,
    "start_time": "2022-07-04T21:11:33.932Z"
   },
   {
    "duration": 2976,
    "start_time": "2022-07-04T21:11:34.441Z"
   },
   {
    "duration": 10,
    "start_time": "2022-07-04T21:11:37.419Z"
   },
   {
    "duration": 400,
    "start_time": "2022-07-04T21:11:37.431Z"
   },
   {
    "duration": 46,
    "start_time": "2022-07-04T21:11:37.832Z"
   },
   {
    "duration": 10,
    "start_time": "2022-07-04T21:11:37.880Z"
   },
   {
    "duration": 37,
    "start_time": "2022-07-04T21:11:37.892Z"
   },
   {
    "duration": 7,
    "start_time": "2022-07-04T21:11:37.932Z"
   },
   {
    "duration": 83,
    "start_time": "2022-07-04T21:11:37.941Z"
   },
   {
    "duration": 83,
    "start_time": "2022-07-04T21:11:38.025Z"
   },
   {
    "duration": 1142,
    "start_time": "2022-07-04T21:11:38.109Z"
   },
   {
    "duration": 31,
    "start_time": "2022-07-04T21:11:39.253Z"
   },
   {
    "duration": 89,
    "start_time": "2022-07-04T21:11:39.286Z"
   },
   {
    "duration": 795,
    "start_time": "2022-07-04T21:11:39.377Z"
   },
   {
    "duration": 3,
    "start_time": "2022-07-04T21:11:40.174Z"
   },
   {
    "duration": 395,
    "start_time": "2022-07-04T21:11:40.179Z"
   },
   {
    "duration": 4,
    "start_time": "2022-07-04T21:11:40.575Z"
   },
   {
    "duration": 45044,
    "start_time": "2022-07-04T21:11:40.580Z"
   },
   {
    "duration": 46599,
    "start_time": "2022-07-04T21:12:25.627Z"
   },
   {
    "duration": 62355,
    "start_time": "2022-07-04T21:13:12.228Z"
   },
   {
    "duration": 101616,
    "start_time": "2022-07-04T21:14:14.585Z"
   },
   {
    "duration": 22,
    "start_time": "2022-07-04T21:15:56.203Z"
   },
   {
    "duration": 4608,
    "start_time": "2022-07-04T21:15:56.226Z"
   },
   {
    "duration": 96,
    "start_time": "2022-07-04T21:16:00.836Z"
   },
   {
    "duration": 116,
    "start_time": "2022-07-05T08:10:34.531Z"
   },
   {
    "duration": 1975,
    "start_time": "2022-07-05T08:12:16.504Z"
   },
   {
    "duration": 768,
    "start_time": "2022-07-05T08:12:18.481Z"
   },
   {
    "duration": 125,
    "start_time": "2022-07-05T08:12:19.251Z"
   },
   {
    "duration": 539,
    "start_time": "2022-07-05T08:12:19.378Z"
   },
   {
    "duration": 2982,
    "start_time": "2022-07-05T08:12:19.918Z"
   },
   {
    "duration": 14,
    "start_time": "2022-07-05T08:12:22.902Z"
   },
   {
    "duration": 381,
    "start_time": "2022-07-05T08:12:22.917Z"
   },
   {
    "duration": 54,
    "start_time": "2022-07-05T08:12:23.299Z"
   },
   {
    "duration": 13,
    "start_time": "2022-07-05T08:12:23.355Z"
   },
   {
    "duration": 10,
    "start_time": "2022-07-05T08:12:23.370Z"
   },
   {
    "duration": 9,
    "start_time": "2022-07-05T08:12:23.381Z"
   },
   {
    "duration": 101,
    "start_time": "2022-07-05T08:12:23.391Z"
   },
   {
    "duration": 98,
    "start_time": "2022-07-05T08:12:23.493Z"
   },
   {
    "duration": 1092,
    "start_time": "2022-07-05T08:12:29.141Z"
   },
   {
    "duration": 29,
    "start_time": "2022-07-05T08:12:30.234Z"
   },
   {
    "duration": 78,
    "start_time": "2022-07-05T08:12:30.264Z"
   },
   {
    "duration": 152,
    "start_time": "2022-07-05T08:14:02.522Z"
   },
   {
    "duration": 66,
    "start_time": "2022-07-05T18:22:32.058Z"
   },
   {
    "duration": 1759,
    "start_time": "2022-07-05T18:22:42.693Z"
   },
   {
    "duration": 1256,
    "start_time": "2022-07-05T18:22:44.456Z"
   },
   {
    "duration": 141,
    "start_time": "2022-07-05T18:22:45.714Z"
   },
   {
    "duration": 732,
    "start_time": "2022-07-05T18:22:45.858Z"
   },
   {
    "duration": 4269,
    "start_time": "2022-07-05T18:22:46.591Z"
   },
   {
    "duration": 16,
    "start_time": "2022-07-05T18:22:50.862Z"
   },
   {
    "duration": 526,
    "start_time": "2022-07-05T18:22:50.880Z"
   },
   {
    "duration": 83,
    "start_time": "2022-07-05T18:22:51.408Z"
   },
   {
    "duration": 87,
    "start_time": "2022-07-05T18:22:58.280Z"
   },
   {
    "duration": 10,
    "start_time": "2022-07-05T18:23:00.496Z"
   },
   {
    "duration": 12,
    "start_time": "2022-07-05T18:23:42.141Z"
   },
   {
    "duration": 14,
    "start_time": "2022-07-05T18:25:08.220Z"
   },
   {
    "duration": 4,
    "start_time": "2022-07-05T18:30:09.969Z"
   },
   {
    "duration": 810,
    "start_time": "2022-07-05T18:30:09.978Z"
   },
   {
    "duration": 144,
    "start_time": "2022-07-05T18:30:10.790Z"
   },
   {
    "duration": 584,
    "start_time": "2022-07-05T18:30:10.945Z"
   },
   {
    "duration": 3505,
    "start_time": "2022-07-05T18:30:11.532Z"
   },
   {
    "duration": 17,
    "start_time": "2022-07-05T18:30:15.039Z"
   },
   {
    "duration": 466,
    "start_time": "2022-07-05T18:30:15.058Z"
   },
   {
    "duration": 69,
    "start_time": "2022-07-05T18:30:15.526Z"
   },
   {
    "duration": 11,
    "start_time": "2022-07-05T18:30:15.596Z"
   },
   {
    "duration": 13,
    "start_time": "2022-07-05T18:30:15.609Z"
   },
   {
    "duration": 25,
    "start_time": "2022-07-05T18:30:15.624Z"
   },
   {
    "duration": 9,
    "start_time": "2022-07-05T18:30:15.651Z"
   },
   {
    "duration": 94,
    "start_time": "2022-07-05T18:30:15.662Z"
   },
   {
    "duration": 98,
    "start_time": "2022-07-05T18:30:15.758Z"
   },
   {
    "duration": 1240,
    "start_time": "2022-07-05T18:30:15.858Z"
   },
   {
    "duration": 26,
    "start_time": "2022-07-05T18:30:17.100Z"
   },
   {
    "duration": 82,
    "start_time": "2022-07-05T18:30:17.129Z"
   },
   {
    "duration": 4,
    "start_time": "2022-07-05T18:33:10.999Z"
   },
   {
    "duration": 826,
    "start_time": "2022-07-05T18:33:11.008Z"
   },
   {
    "duration": 135,
    "start_time": "2022-07-05T18:33:11.836Z"
   },
   {
    "duration": 573,
    "start_time": "2022-07-05T18:33:11.972Z"
   },
   {
    "duration": 3636,
    "start_time": "2022-07-05T18:33:12.548Z"
   },
   {
    "duration": 10,
    "start_time": "2022-07-05T18:33:16.185Z"
   },
   {
    "duration": 433,
    "start_time": "2022-07-05T18:33:16.196Z"
   },
   {
    "duration": 64,
    "start_time": "2022-07-05T18:33:16.630Z"
   },
   {
    "duration": 8,
    "start_time": "2022-07-05T18:33:16.695Z"
   },
   {
    "duration": 11,
    "start_time": "2022-07-05T18:33:16.705Z"
   },
   {
    "duration": 31,
    "start_time": "2022-07-05T18:33:16.719Z"
   },
   {
    "duration": 8,
    "start_time": "2022-07-05T18:33:16.751Z"
   },
   {
    "duration": 94,
    "start_time": "2022-07-05T18:33:16.761Z"
   },
   {
    "duration": 98,
    "start_time": "2022-07-05T18:33:16.856Z"
   },
   {
    "duration": 1142,
    "start_time": "2022-07-05T18:33:16.956Z"
   },
   {
    "duration": 22,
    "start_time": "2022-07-05T18:33:18.100Z"
   },
   {
    "duration": 78,
    "start_time": "2022-07-05T18:33:18.124Z"
   },
   {
    "duration": 686,
    "start_time": "2022-07-05T18:33:18.203Z"
   },
   {
    "duration": 5,
    "start_time": "2022-07-05T18:33:18.891Z"
   },
   {
    "duration": 422,
    "start_time": "2022-07-05T18:33:18.898Z"
   },
   {
    "duration": 4,
    "start_time": "2022-07-05T18:33:19.321Z"
   },
   {
    "duration": 32621,
    "start_time": "2022-07-05T18:33:19.326Z"
   },
   {
    "duration": 63604,
    "start_time": "2022-07-05T18:33:51.951Z"
   },
   {
    "duration": 54885,
    "start_time": "2022-07-05T18:34:55.646Z"
   },
   {
    "duration": 88006,
    "start_time": "2022-07-05T18:35:50.532Z"
   },
   {
    "duration": 9,
    "start_time": "2022-07-05T18:37:18.540Z"
   },
   {
    "duration": 4409,
    "start_time": "2022-07-05T18:37:18.551Z"
   },
   {
    "duration": 85,
    "start_time": "2022-07-05T18:37:22.962Z"
   },
   {
    "duration": 1601,
    "start_time": "2022-07-06T18:20:37.573Z"
   },
   {
    "duration": 2912,
    "start_time": "2022-07-06T18:20:39.176Z"
   },
   {
    "duration": 119,
    "start_time": "2022-07-06T18:20:42.089Z"
   },
   {
    "duration": 535,
    "start_time": "2022-07-06T18:20:42.211Z"
   },
   {
    "duration": 3008,
    "start_time": "2022-07-06T18:20:42.748Z"
   },
   {
    "duration": 14,
    "start_time": "2022-07-06T18:20:45.758Z"
   },
   {
    "duration": 388,
    "start_time": "2022-07-06T18:20:45.774Z"
   },
   {
    "duration": 51,
    "start_time": "2022-07-06T18:20:46.164Z"
   },
   {
    "duration": 10,
    "start_time": "2022-07-06T18:20:46.217Z"
   },
   {
    "duration": 13,
    "start_time": "2022-07-06T18:20:46.229Z"
   },
   {
    "duration": 11,
    "start_time": "2022-07-06T18:20:46.243Z"
   },
   {
    "duration": 9,
    "start_time": "2022-07-06T18:20:46.255Z"
   },
   {
    "duration": 117,
    "start_time": "2022-07-06T18:20:46.266Z"
   },
   {
    "duration": 102,
    "start_time": "2022-07-06T18:20:46.386Z"
   },
   {
    "duration": 1183,
    "start_time": "2022-07-06T18:20:46.490Z"
   },
   {
    "duration": 4,
    "start_time": "2022-07-06T18:22:26.389Z"
   },
   {
    "duration": 783,
    "start_time": "2022-07-06T18:22:26.394Z"
   },
   {
    "duration": 110,
    "start_time": "2022-07-06T18:22:27.179Z"
   },
   {
    "duration": 515,
    "start_time": "2022-07-06T18:22:27.291Z"
   },
   {
    "duration": 3084,
    "start_time": "2022-07-06T18:22:27.808Z"
   },
   {
    "duration": 14,
    "start_time": "2022-07-06T18:22:30.893Z"
   },
   {
    "duration": 403,
    "start_time": "2022-07-06T18:22:30.908Z"
   },
   {
    "duration": 50,
    "start_time": "2022-07-06T18:22:31.313Z"
   },
   {
    "duration": 8,
    "start_time": "2022-07-06T18:22:31.364Z"
   },
   {
    "duration": 29,
    "start_time": "2022-07-06T18:22:31.374Z"
   },
   {
    "duration": 7,
    "start_time": "2022-07-06T18:22:31.406Z"
   },
   {
    "duration": 8,
    "start_time": "2022-07-06T18:22:31.414Z"
   },
   {
    "duration": 81,
    "start_time": "2022-07-06T18:22:31.423Z"
   },
   {
    "duration": 78,
    "start_time": "2022-07-06T18:22:31.506Z"
   },
   {
    "duration": 1018,
    "start_time": "2022-07-06T18:22:31.586Z"
   },
   {
    "duration": 30,
    "start_time": "2022-07-06T18:22:32.606Z"
   },
   {
    "duration": 83,
    "start_time": "2022-07-06T18:22:32.638Z"
   },
   {
    "duration": 909,
    "start_time": "2022-07-06T18:22:32.723Z"
   },
   {
    "duration": 2,
    "start_time": "2022-07-06T18:22:33.634Z"
   },
   {
    "duration": 332,
    "start_time": "2022-07-06T18:22:33.638Z"
   },
   {
    "duration": 2,
    "start_time": "2022-07-06T18:22:33.972Z"
   },
   {
    "duration": 18627,
    "start_time": "2022-07-06T18:22:33.976Z"
   },
   {
    "duration": 39900,
    "start_time": "2022-07-06T18:22:52.605Z"
   },
   {
    "duration": 48876,
    "start_time": "2022-07-06T18:23:32.508Z"
   },
   {
    "duration": 78378,
    "start_time": "2022-07-06T18:24:21.386Z"
   },
   {
    "duration": 7,
    "start_time": "2022-07-06T18:25:39.765Z"
   },
   {
    "duration": 4137,
    "start_time": "2022-07-06T18:25:39.773Z"
   },
   {
    "duration": 17,
    "start_time": "2022-07-06T18:25:43.911Z"
   }
  ],
  "kernelspec": {
   "display_name": "Python 3",
   "language": "python",
   "name": "python3"
  },
  "language_info": {
   "codemirror_mode": {
    "name": "ipython",
    "version": 3
   },
   "file_extension": ".py",
   "mimetype": "text/x-python",
   "name": "python",
   "nbconvert_exporter": "python",
   "pygments_lexer": "ipython3",
   "version": "3.7.3"
  },
  "toc": {
   "base_numbering": 1,
   "nav_menu": {},
   "number_sections": true,
   "sideBar": true,
   "skip_h1_title": true,
   "title_cell": "Table of Contents",
   "title_sidebar": "Contents",
   "toc_cell": false,
   "toc_position": {},
   "toc_section_display": true,
   "toc_window_display": false
  }
 },
 "nbformat": 4,
 "nbformat_minor": 2
}
