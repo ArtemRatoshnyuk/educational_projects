{
 "cells": [
  {
   "cell_type": "markdown",
   "metadata": {},
   "source": [
    "# Определение перспективного тарифа для телеком-компании"
   ]
  },
  {
   "cell_type": "markdown",
   "metadata": {},
   "source": [
    "**Содержание**\n",
    "\n",
    "**[1. Обзор данных](#1)**\n",
    "\n",
    "**[1.1 Общие выводы по качеству имеющихся данных](#1f)**\n",
    "\n",
    "\n",
    "**[2. Подготовка данных](#2)**\n",
    "\n",
    "**[2.1. Приведение данных к нужным типам](#2.1)**\n",
    "\n",
    "**[2.2. Введение дополнительных категорий](#2.2)**\n",
    "\n",
    "**[2.3. Подсчет показателей для каждого абонента](#2.3)**\n",
    "\n",
    "**[Выводы по подготовке данных](#2f)**\n",
    "\n",
    "\n",
    "**[3. Анализ данных](#3)**\n",
    "\n",
    "**[3.1. Расчет статистических показателей для голосового трафика](#3.1)**\n",
    "\n",
    "**[3.2. Расчет статистических показателей для сообщений](#3.2)**\n",
    "\n",
    "**[3.3. Расчет статистических показателей для интернет трафика](#3.3)**\n",
    "\n",
    "**[3.4. Сведение показателей среднего количества, дисперсии и стандартного отклонения в общую таблицу](#3.4)**\n",
    "\n",
    "**[3.5. Объединение таблиц и расчет расходов абонентов](#3.5)**\n",
    "\n",
    "**[3.6. Сведение статистических показателей среднемесячных расходов абонентов](#3.6)**\n",
    "\n",
    "**[Выводы по анализу данных](#3f)**\n",
    "\n",
    "\n",
    "**[4. Проверка гипотез](#4)**\n",
    "\n",
    "**[4.1. Проверка статистической гипотезы о сопоставимости выручки различных тарифных планов](#4.1)**\n",
    "\n",
    "**[4.2. Проверка статистической гипотезы о сопоставимости расходов на мобильную связь абонентов различных регионов](#4.2)**\n",
    "\n",
    "**[Выводы по проверке гипотез](#4f)**\n",
    "\n",
    "\n",
    "**[5. Общий вывод](#5)**\n"
   ]
  },
  {
   "cell_type": "markdown",
   "metadata": {},
   "source": [
    "**Заказчик** — Коммерческий департамент компании «Мегалайн» (федеральный оператор сотовой связи)."
   ]
  },
  {
   "cell_type": "markdown",
   "metadata": {},
   "source": [
    "**Цель Заказчика.** Оптимальное распределение рекламного бюджета на основании данных об эффективности тарифных планов.\n",
    "\n",
    "**Цель исследования.** Из исследуемых тарифных планов определение наиболее доходного.\n",
    "\n",
    "**Задачи**\n",
    "* Определить средние за месяц расходы абонента на услуги мобильной связи и провести сравнительный анализ данного показателя для абонентов рассматриваемых тарифных планов\n",
    "* Определить и провести сравнительный анализ среднемесячных показателей голосового трафика абонентов рассматриваемых тарифных планов\n",
    "* Определить и провести сравнительный анализ среднемесячных показателей потребления услуг по отправке сообщений и по передачи данных абонентов рассматриваемых тарифных планов\n",
    "* Проверить статистическую гипотезу о сопоставимости выручки различных тарифных планов\n",
    "* Проверить статистическую гипотезу о сопоставимости расходов на мобильную связь абонентов различных регионов.\n",
    "\n",
    "\n",
    "**Входные данные от Заказчика.** Пять файлов в формате .csv со статистикой о голосовых вызовах, сообщениях, интернет-сессиях абонентов.\n",
    "\n",
    "**Ожидаемый результат.** Определен более эффективных тарифный план"
   ]
  },
  {
   "cell_type": "markdown",
   "metadata": {},
   "source": [
    "## Обзор данных <a id='1'></a>"
   ]
  },
  {
   "cell_type": "markdown",
   "metadata": {},
   "source": [
    "1. Открыть таблицы \n",
    "2. Изучить структуру данных по десяти первым строкам\n",
    "3. Изучить структуру данных методом `info()`"
   ]
  },
  {
   "cell_type": "markdown",
   "metadata": {},
   "source": [
    "**Описание тарифов**\n",
    "\n",
    "**Тариф «Смарт»**\n",
    "- Ежемесячная плата: 550 рублей\n",
    "- Включено 500 минут разговора, 50 сообщений и 15 Гб интернет-трафика\n",
    "- Стоимость услуг сверх тарифного пакета:\n",
    "    * минута разговора: 3 рубля\n",
    "    * сообщение: 3 рубля\n",
    "    * 1 Гб интернет-трафика: 200 рублей\n",
    "\n",
    "**Тариф «Ультра»**\n",
    "- Ежемесячная плата: 1950 рублей\n",
    "- Включено 3000 минут разговора, 1000 сообщений и 30 Гб интернет-трафика\n",
    "- Стоимость услуг сверх тарифного пакета:\n",
    "    * минута разговора: 1 рубль\n",
    "    * сообщение: 1 рубль\n",
    "    * 1 Гб интернет-трафика: 150 рублей\n",
    "    \n",
    "**Уточнения**\n",
    "- продолжительность каждого вызова округляется до минут в большую сторону\n",
    "- размер веб-трафика за месяц округляется до гигабайт в большую сторону\n"
   ]
  },
  {
   "cell_type": "markdown",
   "metadata": {},
   "source": [
    "**Описание данных**\n",
    "\n",
    "**Таблица `users` (информация о пользователях)**:\n",
    "- `ser_id` — уникальный идентификатор пользователя\n",
    "- `first_name` — имя пользователя\n",
    "- `last_name` — фамилия пользователя\n",
    "- `age` — возраст пользователя (годы)\n",
    "- `reg_date` — дата подключения тарифа (день, месяц, год)\n",
    "- `churn_date` — дата прекращения пользования тарифом (если значение пропущено, то тариф ещё действовал на момент выгрузки данных)\n",
    "- `city` — город проживания пользователя\n",
    "- `tariff` — название тарифного плана\n",
    "\n",
    "**Таблица `calls` (информация о звонках)**:\n",
    "- `id` — уникальный номер звонка\n",
    "- `call_date` — дата звонка\n",
    "- `duration` — длительность звонка в минутах\n",
    "- `user_id` — идентификатор пользователя, сделавшего звонок\n",
    "\n",
    "**Таблица `messages` (информация о сообщениях)**:\n",
    "- `id` — уникальный номер сообщения\n",
    "- `message_date` — дата сообщения\n",
    "- `user_id` — идентификатор пользователя, отправившего сообщение\n",
    "\n",
    "**Таблица `internet` (информация об интернет-сессиях)**:\n",
    "- `id` — уникальный номер сессии\n",
    "- `mb_used` — объём потраченного за сессию интернет-трафика (в мегабайтах)\n",
    "- `session_date` — дата интернет-сессии\n",
    "- `user_id` — идентификатор пользователя\n",
    "\n",
    "**Таблица `tariffs` (информация о тарифах)**:\n",
    "- `tariff_name` — название тарифа\n",
    "- `rub_monthly_fee` — ежемесячная абонентская плата в рублях\n",
    "- `minutes_included` — количество минут разговора в месяц, включённых в абонентскую плату\n",
    "- `messages_included` — количество сообщений в месяц, включённых в абонентскую плату\n",
    "- `mb_per_month_included` — объём интернет-трафика, включённого в абонентскую плату (в мегабайтах)\n",
    "- `rub_per_minute` — стоимость минуты разговора сверх тарифного пакета (например, если в тарифе 100 минут разговора в месяц, то со 101 минуты будет взиматься плата)\n",
    "- `rub_per_message` — стоимость отправки сообщения сверх тарифного пакета\n",
    "- `rub_per_gb` — стоимость дополнительного гигабайта интернет-трафика сверх тарифного пакета (1 гигабайт = 1024 мегабайта)"
   ]
  },
  {
   "cell_type": "code",
   "execution_count": 1,
   "metadata": {},
   "outputs": [],
   "source": [
    "# Импотрт библиотек\n",
    "import pandas as pd\n",
    "import numpy as np\n",
    "import seaborn as sms\n",
    "import matplotlib.pyplot as plt\n",
    "from scipy import stats as st"
   ]
  },
  {
   "cell_type": "code",
   "execution_count": 2,
   "metadata": {},
   "outputs": [],
   "source": [
    "# Прочитать файлы\n",
    "df_users = pd.read_csv('/datasets/users.csv')\n",
    "df_calls = pd.read_csv('/datasets/calls.csv')\n",
    "df_messages = pd.read_csv('/datasets/messages.csv')\n",
    "df_internet = pd.read_csv('/datasets/internet.csv')\n",
    "df_tariffs = pd.read_csv('/datasets/tariffs.csv')"
   ]
  },
  {
   "cell_type": "markdown",
   "metadata": {},
   "source": [
    "Поочередно выгрузим первые пять строк каждого файла"
   ]
  },
  {
   "cell_type": "code",
   "execution_count": 3,
   "metadata": {},
   "outputs": [
    {
     "data": {
      "text/html": [
       "<div>\n",
       "<style scoped>\n",
       "    .dataframe tbody tr th:only-of-type {\n",
       "        vertical-align: middle;\n",
       "    }\n",
       "\n",
       "    .dataframe tbody tr th {\n",
       "        vertical-align: top;\n",
       "    }\n",
       "\n",
       "    .dataframe thead th {\n",
       "        text-align: right;\n",
       "    }\n",
       "</style>\n",
       "<table border=\"1\" class=\"dataframe\">\n",
       "  <thead>\n",
       "    <tr style=\"text-align: right;\">\n",
       "      <th></th>\n",
       "      <th>user_id</th>\n",
       "      <th>age</th>\n",
       "      <th>churn_date</th>\n",
       "      <th>city</th>\n",
       "      <th>first_name</th>\n",
       "      <th>last_name</th>\n",
       "      <th>reg_date</th>\n",
       "      <th>tariff</th>\n",
       "    </tr>\n",
       "  </thead>\n",
       "  <tbody>\n",
       "    <tr>\n",
       "      <th>0</th>\n",
       "      <td>1000</td>\n",
       "      <td>52</td>\n",
       "      <td>NaN</td>\n",
       "      <td>Краснодар</td>\n",
       "      <td>Рафаил</td>\n",
       "      <td>Верещагин</td>\n",
       "      <td>2018-05-25</td>\n",
       "      <td>ultra</td>\n",
       "    </tr>\n",
       "    <tr>\n",
       "      <th>1</th>\n",
       "      <td>1001</td>\n",
       "      <td>41</td>\n",
       "      <td>NaN</td>\n",
       "      <td>Москва</td>\n",
       "      <td>Иван</td>\n",
       "      <td>Ежов</td>\n",
       "      <td>2018-11-01</td>\n",
       "      <td>smart</td>\n",
       "    </tr>\n",
       "    <tr>\n",
       "      <th>2</th>\n",
       "      <td>1002</td>\n",
       "      <td>59</td>\n",
       "      <td>NaN</td>\n",
       "      <td>Стерлитамак</td>\n",
       "      <td>Евгений</td>\n",
       "      <td>Абрамович</td>\n",
       "      <td>2018-06-17</td>\n",
       "      <td>smart</td>\n",
       "    </tr>\n",
       "    <tr>\n",
       "      <th>3</th>\n",
       "      <td>1003</td>\n",
       "      <td>23</td>\n",
       "      <td>NaN</td>\n",
       "      <td>Москва</td>\n",
       "      <td>Белла</td>\n",
       "      <td>Белякова</td>\n",
       "      <td>2018-08-17</td>\n",
       "      <td>ultra</td>\n",
       "    </tr>\n",
       "    <tr>\n",
       "      <th>4</th>\n",
       "      <td>1004</td>\n",
       "      <td>68</td>\n",
       "      <td>NaN</td>\n",
       "      <td>Новокузнецк</td>\n",
       "      <td>Татьяна</td>\n",
       "      <td>Авдеенко</td>\n",
       "      <td>2018-05-14</td>\n",
       "      <td>ultra</td>\n",
       "    </tr>\n",
       "  </tbody>\n",
       "</table>\n",
       "</div>"
      ],
      "text/plain": [
       "   user_id  age churn_date         city first_name  last_name    reg_date  \\\n",
       "0     1000   52        NaN    Краснодар     Рафаил  Верещагин  2018-05-25   \n",
       "1     1001   41        NaN       Москва       Иван       Ежов  2018-11-01   \n",
       "2     1002   59        NaN  Стерлитамак    Евгений  Абрамович  2018-06-17   \n",
       "3     1003   23        NaN       Москва      Белла   Белякова  2018-08-17   \n",
       "4     1004   68        NaN  Новокузнецк    Татьяна   Авдеенко  2018-05-14   \n",
       "\n",
       "  tariff  \n",
       "0  ultra  \n",
       "1  smart  \n",
       "2  smart  \n",
       "3  ultra  \n",
       "4  ultra  "
      ]
     },
     "metadata": {},
     "output_type": "display_data"
    }
   ],
   "source": [
    "display(df_users.head())"
   ]
  },
  {
   "cell_type": "code",
   "execution_count": 4,
   "metadata": {},
   "outputs": [
    {
     "data": {
      "text/html": [
       "<div>\n",
       "<style scoped>\n",
       "    .dataframe tbody tr th:only-of-type {\n",
       "        vertical-align: middle;\n",
       "    }\n",
       "\n",
       "    .dataframe tbody tr th {\n",
       "        vertical-align: top;\n",
       "    }\n",
       "\n",
       "    .dataframe thead th {\n",
       "        text-align: right;\n",
       "    }\n",
       "</style>\n",
       "<table border=\"1\" class=\"dataframe\">\n",
       "  <thead>\n",
       "    <tr style=\"text-align: right;\">\n",
       "      <th></th>\n",
       "      <th>id</th>\n",
       "      <th>call_date</th>\n",
       "      <th>duration</th>\n",
       "      <th>user_id</th>\n",
       "    </tr>\n",
       "  </thead>\n",
       "  <tbody>\n",
       "    <tr>\n",
       "      <th>0</th>\n",
       "      <td>1000_0</td>\n",
       "      <td>2018-07-25</td>\n",
       "      <td>0.00</td>\n",
       "      <td>1000</td>\n",
       "    </tr>\n",
       "    <tr>\n",
       "      <th>1</th>\n",
       "      <td>1000_1</td>\n",
       "      <td>2018-08-17</td>\n",
       "      <td>0.00</td>\n",
       "      <td>1000</td>\n",
       "    </tr>\n",
       "    <tr>\n",
       "      <th>2</th>\n",
       "      <td>1000_2</td>\n",
       "      <td>2018-06-11</td>\n",
       "      <td>2.85</td>\n",
       "      <td>1000</td>\n",
       "    </tr>\n",
       "    <tr>\n",
       "      <th>3</th>\n",
       "      <td>1000_3</td>\n",
       "      <td>2018-09-21</td>\n",
       "      <td>13.80</td>\n",
       "      <td>1000</td>\n",
       "    </tr>\n",
       "    <tr>\n",
       "      <th>4</th>\n",
       "      <td>1000_4</td>\n",
       "      <td>2018-12-15</td>\n",
       "      <td>5.18</td>\n",
       "      <td>1000</td>\n",
       "    </tr>\n",
       "  </tbody>\n",
       "</table>\n",
       "</div>"
      ],
      "text/plain": [
       "       id   call_date  duration  user_id\n",
       "0  1000_0  2018-07-25      0.00     1000\n",
       "1  1000_1  2018-08-17      0.00     1000\n",
       "2  1000_2  2018-06-11      2.85     1000\n",
       "3  1000_3  2018-09-21     13.80     1000\n",
       "4  1000_4  2018-12-15      5.18     1000"
      ]
     },
     "metadata": {},
     "output_type": "display_data"
    }
   ],
   "source": [
    "display(df_calls.head())"
   ]
  },
  {
   "cell_type": "code",
   "execution_count": 5,
   "metadata": {},
   "outputs": [
    {
     "data": {
      "text/html": [
       "<div>\n",
       "<style scoped>\n",
       "    .dataframe tbody tr th:only-of-type {\n",
       "        vertical-align: middle;\n",
       "    }\n",
       "\n",
       "    .dataframe tbody tr th {\n",
       "        vertical-align: top;\n",
       "    }\n",
       "\n",
       "    .dataframe thead th {\n",
       "        text-align: right;\n",
       "    }\n",
       "</style>\n",
       "<table border=\"1\" class=\"dataframe\">\n",
       "  <thead>\n",
       "    <tr style=\"text-align: right;\">\n",
       "      <th></th>\n",
       "      <th>id</th>\n",
       "      <th>message_date</th>\n",
       "      <th>user_id</th>\n",
       "    </tr>\n",
       "  </thead>\n",
       "  <tbody>\n",
       "    <tr>\n",
       "      <th>0</th>\n",
       "      <td>1000_0</td>\n",
       "      <td>2018-06-27</td>\n",
       "      <td>1000</td>\n",
       "    </tr>\n",
       "    <tr>\n",
       "      <th>1</th>\n",
       "      <td>1000_1</td>\n",
       "      <td>2018-10-08</td>\n",
       "      <td>1000</td>\n",
       "    </tr>\n",
       "    <tr>\n",
       "      <th>2</th>\n",
       "      <td>1000_2</td>\n",
       "      <td>2018-08-04</td>\n",
       "      <td>1000</td>\n",
       "    </tr>\n",
       "    <tr>\n",
       "      <th>3</th>\n",
       "      <td>1000_3</td>\n",
       "      <td>2018-06-16</td>\n",
       "      <td>1000</td>\n",
       "    </tr>\n",
       "    <tr>\n",
       "      <th>4</th>\n",
       "      <td>1000_4</td>\n",
       "      <td>2018-12-05</td>\n",
       "      <td>1000</td>\n",
       "    </tr>\n",
       "  </tbody>\n",
       "</table>\n",
       "</div>"
      ],
      "text/plain": [
       "       id message_date  user_id\n",
       "0  1000_0   2018-06-27     1000\n",
       "1  1000_1   2018-10-08     1000\n",
       "2  1000_2   2018-08-04     1000\n",
       "3  1000_3   2018-06-16     1000\n",
       "4  1000_4   2018-12-05     1000"
      ]
     },
     "metadata": {},
     "output_type": "display_data"
    }
   ],
   "source": [
    "display(df_messages.head())"
   ]
  },
  {
   "cell_type": "code",
   "execution_count": 6,
   "metadata": {},
   "outputs": [
    {
     "data": {
      "text/html": [
       "<div>\n",
       "<style scoped>\n",
       "    .dataframe tbody tr th:only-of-type {\n",
       "        vertical-align: middle;\n",
       "    }\n",
       "\n",
       "    .dataframe tbody tr th {\n",
       "        vertical-align: top;\n",
       "    }\n",
       "\n",
       "    .dataframe thead th {\n",
       "        text-align: right;\n",
       "    }\n",
       "</style>\n",
       "<table border=\"1\" class=\"dataframe\">\n",
       "  <thead>\n",
       "    <tr style=\"text-align: right;\">\n",
       "      <th></th>\n",
       "      <th>Unnamed: 0</th>\n",
       "      <th>id</th>\n",
       "      <th>mb_used</th>\n",
       "      <th>session_date</th>\n",
       "      <th>user_id</th>\n",
       "    </tr>\n",
       "  </thead>\n",
       "  <tbody>\n",
       "    <tr>\n",
       "      <th>0</th>\n",
       "      <td>0</td>\n",
       "      <td>1000_0</td>\n",
       "      <td>112.95</td>\n",
       "      <td>2018-11-25</td>\n",
       "      <td>1000</td>\n",
       "    </tr>\n",
       "    <tr>\n",
       "      <th>1</th>\n",
       "      <td>1</td>\n",
       "      <td>1000_1</td>\n",
       "      <td>1052.81</td>\n",
       "      <td>2018-09-07</td>\n",
       "      <td>1000</td>\n",
       "    </tr>\n",
       "    <tr>\n",
       "      <th>2</th>\n",
       "      <td>2</td>\n",
       "      <td>1000_2</td>\n",
       "      <td>1197.26</td>\n",
       "      <td>2018-06-25</td>\n",
       "      <td>1000</td>\n",
       "    </tr>\n",
       "    <tr>\n",
       "      <th>3</th>\n",
       "      <td>3</td>\n",
       "      <td>1000_3</td>\n",
       "      <td>550.27</td>\n",
       "      <td>2018-08-22</td>\n",
       "      <td>1000</td>\n",
       "    </tr>\n",
       "    <tr>\n",
       "      <th>4</th>\n",
       "      <td>4</td>\n",
       "      <td>1000_4</td>\n",
       "      <td>302.56</td>\n",
       "      <td>2018-09-24</td>\n",
       "      <td>1000</td>\n",
       "    </tr>\n",
       "  </tbody>\n",
       "</table>\n",
       "</div>"
      ],
      "text/plain": [
       "   Unnamed: 0      id  mb_used session_date  user_id\n",
       "0           0  1000_0   112.95   2018-11-25     1000\n",
       "1           1  1000_1  1052.81   2018-09-07     1000\n",
       "2           2  1000_2  1197.26   2018-06-25     1000\n",
       "3           3  1000_3   550.27   2018-08-22     1000\n",
       "4           4  1000_4   302.56   2018-09-24     1000"
      ]
     },
     "metadata": {},
     "output_type": "display_data"
    }
   ],
   "source": [
    "display(df_internet.head())"
   ]
  },
  {
   "cell_type": "code",
   "execution_count": 7,
   "metadata": {},
   "outputs": [
    {
     "data": {
      "text/html": [
       "<div>\n",
       "<style scoped>\n",
       "    .dataframe tbody tr th:only-of-type {\n",
       "        vertical-align: middle;\n",
       "    }\n",
       "\n",
       "    .dataframe tbody tr th {\n",
       "        vertical-align: top;\n",
       "    }\n",
       "\n",
       "    .dataframe thead th {\n",
       "        text-align: right;\n",
       "    }\n",
       "</style>\n",
       "<table border=\"1\" class=\"dataframe\">\n",
       "  <thead>\n",
       "    <tr style=\"text-align: right;\">\n",
       "      <th></th>\n",
       "      <th>messages_included</th>\n",
       "      <th>mb_per_month_included</th>\n",
       "      <th>minutes_included</th>\n",
       "      <th>rub_monthly_fee</th>\n",
       "      <th>rub_per_gb</th>\n",
       "      <th>rub_per_message</th>\n",
       "      <th>rub_per_minute</th>\n",
       "      <th>tariff_name</th>\n",
       "    </tr>\n",
       "  </thead>\n",
       "  <tbody>\n",
       "    <tr>\n",
       "      <th>0</th>\n",
       "      <td>50</td>\n",
       "      <td>15360</td>\n",
       "      <td>500</td>\n",
       "      <td>550</td>\n",
       "      <td>200</td>\n",
       "      <td>3</td>\n",
       "      <td>3</td>\n",
       "      <td>smart</td>\n",
       "    </tr>\n",
       "    <tr>\n",
       "      <th>1</th>\n",
       "      <td>1000</td>\n",
       "      <td>30720</td>\n",
       "      <td>3000</td>\n",
       "      <td>1950</td>\n",
       "      <td>150</td>\n",
       "      <td>1</td>\n",
       "      <td>1</td>\n",
       "      <td>ultra</td>\n",
       "    </tr>\n",
       "  </tbody>\n",
       "</table>\n",
       "</div>"
      ],
      "text/plain": [
       "   messages_included  mb_per_month_included  minutes_included  \\\n",
       "0                 50                  15360               500   \n",
       "1               1000                  30720              3000   \n",
       "\n",
       "   rub_monthly_fee  rub_per_gb  rub_per_message  rub_per_minute tariff_name  \n",
       "0              550         200                3               3       smart  \n",
       "1             1950         150                1               1       ultra  "
      ]
     },
     "metadata": {},
     "output_type": "display_data"
    }
   ],
   "source": [
    "display(df_tariffs.head())"
   ]
  },
  {
   "cell_type": "markdown",
   "metadata": {},
   "source": [
    "Поочередно исследуем каждый файл методом `info()`"
   ]
  },
  {
   "cell_type": "code",
   "execution_count": 8,
   "metadata": {},
   "outputs": [
    {
     "name": "stdout",
     "output_type": "stream",
     "text": [
      "<class 'pandas.core.frame.DataFrame'>\n",
      "RangeIndex: 500 entries, 0 to 499\n",
      "Data columns (total 8 columns):\n",
      " #   Column      Non-Null Count  Dtype \n",
      "---  ------      --------------  ----- \n",
      " 0   user_id     500 non-null    int64 \n",
      " 1   age         500 non-null    int64 \n",
      " 2   churn_date  38 non-null     object\n",
      " 3   city        500 non-null    object\n",
      " 4   first_name  500 non-null    object\n",
      " 5   last_name   500 non-null    object\n",
      " 6   reg_date    500 non-null    object\n",
      " 7   tariff      500 non-null    object\n",
      "dtypes: int64(2), object(6)\n",
      "memory usage: 31.4+ KB\n"
     ]
    }
   ],
   "source": [
    "df_users.info()"
   ]
  },
  {
   "cell_type": "code",
   "execution_count": 9,
   "metadata": {},
   "outputs": [
    {
     "data": {
      "text/plain": [
       "array(['Архангельск', 'Астрахань', 'Балашиха', 'Барнаул', 'Белгород',\n",
       "       'Брянск', 'Владивосток', 'Владикавказ', 'Владимир', 'Волгоград',\n",
       "       'Волжский', 'Вологда', 'Воронеж', 'Грозный', 'Екатеринбург',\n",
       "       'Иваново', 'Ижевск', 'Иркутск', 'Казань', 'Калининград', 'Калуга',\n",
       "       'Кемерово', 'Киров', 'Кострома', 'Краснодар', 'Красноярск',\n",
       "       'Курган', 'Курск', 'Липецк', 'Магнитогорск', 'Махачкала', 'Москва',\n",
       "       'Мурманск', 'Набережные Челны', 'Нижневартовск', 'Нижний Новгород',\n",
       "       'Нижний Тагил', 'Новокузнецк', 'Новороссийск', 'Новосибирск',\n",
       "       'Омск', 'Оренбург', 'Орёл', 'Пенза', 'Пермь', 'Петрозаводск',\n",
       "       'Подольск', 'Ростов-на-Дону', 'Рязань', 'Самара',\n",
       "       'Санкт-Петербург', 'Саранск', 'Саратов', 'Севастополь', 'Смоленск',\n",
       "       'Сочи', 'Ставрополь', 'Стерлитамак', 'Сургут', 'Тамбов', 'Тверь',\n",
       "       'Тольятти', 'Томск', 'Тула', 'Тюмень', 'Улан-Удэ', 'Ульяновск',\n",
       "       'Уфа', 'Хабаровск', 'Химки', 'Чебоксары', 'Челябинск', 'Череповец',\n",
       "       'Чита', 'Якутск', 'Ярославль'], dtype=object)"
      ]
     },
     "execution_count": 9,
     "metadata": {},
     "output_type": "execute_result"
    }
   ],
   "source": [
    "# Проверим уникальность запитсей в столбце \"city\"\n",
    "df_users['city'].sort_values().unique()"
   ]
  },
  {
   "cell_type": "markdown",
   "metadata": {},
   "source": [
    "Общие выводы по качеству имеющихся данных таблицы `users`\n",
    "1. Таблица содержит 8 столбцов и 500 строк\n",
    "2. Заголовки столбцов корректны и отражают суть данных\n",
    "3. Столбец `churn_date` содержит технические пропуски, которые говорят о действии контракта\n",
    "4. **В столбцах `churn_date`, `reg_date` не корректный тип данных**\n",
    "5. **Требуется проверка на дубликаты**\n",
    "6. В столбцах нет неявных дублей."
   ]
  },
  {
   "cell_type": "code",
   "execution_count": 10,
   "metadata": {},
   "outputs": [
    {
     "name": "stdout",
     "output_type": "stream",
     "text": [
      "<class 'pandas.core.frame.DataFrame'>\n",
      "RangeIndex: 202607 entries, 0 to 202606\n",
      "Data columns (total 4 columns):\n",
      " #   Column     Non-Null Count   Dtype  \n",
      "---  ------     --------------   -----  \n",
      " 0   id         202607 non-null  object \n",
      " 1   call_date  202607 non-null  object \n",
      " 2   duration   202607 non-null  float64\n",
      " 3   user_id    202607 non-null  int64  \n",
      "dtypes: float64(1), int64(1), object(2)\n",
      "memory usage: 6.2+ MB\n"
     ]
    }
   ],
   "source": [
    "df_calls.info()"
   ]
  },
  {
   "cell_type": "markdown",
   "metadata": {},
   "source": [
    "Общие выводы по качеству имеющихся данных таблицы `calls`\n",
    "1. Таблица содержит 4 столбца и 202 607 строк\n",
    "2. Заголовки столбцов корректны и отражают суть данных\n",
    "3. Столбцы не содержат пропусков\n",
    "4. **В столбце `call_date` не корректный тип данных**\n",
    "5. **Требуется проверка на дубликаты**\n",
    "6. В столбцах нет неявных дублей."
   ]
  },
  {
   "cell_type": "code",
   "execution_count": 11,
   "metadata": {},
   "outputs": [
    {
     "name": "stdout",
     "output_type": "stream",
     "text": [
      "<class 'pandas.core.frame.DataFrame'>\n",
      "RangeIndex: 123036 entries, 0 to 123035\n",
      "Data columns (total 3 columns):\n",
      " #   Column        Non-Null Count   Dtype \n",
      "---  ------        --------------   ----- \n",
      " 0   id            123036 non-null  object\n",
      " 1   message_date  123036 non-null  object\n",
      " 2   user_id       123036 non-null  int64 \n",
      "dtypes: int64(1), object(2)\n",
      "memory usage: 2.8+ MB\n"
     ]
    }
   ],
   "source": [
    "df_messages.info()"
   ]
  },
  {
   "cell_type": "markdown",
   "metadata": {},
   "source": [
    "Общие выводы по качеству имеющихся данных таблицы `messages`\n",
    "1. Таблица содержит 3 столбца и 123 036 строк\n",
    "2. Заголовки столбцов корректны и отражают суть данных\n",
    "3. Столбцы не содержат пропусков\n",
    "4. **В столбце `message_date` не корректный тип данных**\n",
    "5. **Требуется проверка на дубликаты**\n",
    "6. В столбцах нет неявных дублей."
   ]
  },
  {
   "cell_type": "code",
   "execution_count": 12,
   "metadata": {},
   "outputs": [
    {
     "name": "stdout",
     "output_type": "stream",
     "text": [
      "<class 'pandas.core.frame.DataFrame'>\n",
      "RangeIndex: 149396 entries, 0 to 149395\n",
      "Data columns (total 5 columns):\n",
      " #   Column        Non-Null Count   Dtype  \n",
      "---  ------        --------------   -----  \n",
      " 0   Unnamed: 0    149396 non-null  int64  \n",
      " 1   id            149396 non-null  object \n",
      " 2   mb_used       149396 non-null  float64\n",
      " 3   session_date  149396 non-null  object \n",
      " 4   user_id       149396 non-null  int64  \n",
      "dtypes: float64(1), int64(2), object(2)\n",
      "memory usage: 5.7+ MB\n"
     ]
    }
   ],
   "source": [
    "df_internet.info()"
   ]
  },
  {
   "cell_type": "markdown",
   "metadata": {},
   "source": [
    "Общие выводы по качеству имеющихся данных таблицы `internet`\n",
    "1. Таблица содержит 5 столбцов и 149 396 строк\n",
    "2. Заголовки столбцов корректны и отражают суть данных\n",
    "3. Столбцы не содержат пропусков\n",
    "4. **В столбце `session_date` не корректный тип данных**\n",
    "5. **Требуется проверка на дубликаты**\n",
    "6. В столбцах нет неявных дублей."
   ]
  },
  {
   "cell_type": "code",
   "execution_count": 13,
   "metadata": {},
   "outputs": [
    {
     "name": "stdout",
     "output_type": "stream",
     "text": [
      "<class 'pandas.core.frame.DataFrame'>\n",
      "RangeIndex: 2 entries, 0 to 1\n",
      "Data columns (total 8 columns):\n",
      " #   Column                 Non-Null Count  Dtype \n",
      "---  ------                 --------------  ----- \n",
      " 0   messages_included      2 non-null      int64 \n",
      " 1   mb_per_month_included  2 non-null      int64 \n",
      " 2   minutes_included       2 non-null      int64 \n",
      " 3   rub_monthly_fee        2 non-null      int64 \n",
      " 4   rub_per_gb             2 non-null      int64 \n",
      " 5   rub_per_message        2 non-null      int64 \n",
      " 6   rub_per_minute         2 non-null      int64 \n",
      " 7   tariff_name            2 non-null      object\n",
      "dtypes: int64(7), object(1)\n",
      "memory usage: 256.0+ bytes\n"
     ]
    }
   ],
   "source": [
    "df_tariffs.info()"
   ]
  },
  {
   "cell_type": "markdown",
   "metadata": {},
   "source": [
    "Общие выводы по качеству имеющихся данных таблицы `tariffs`\n",
    "1. Таблица содержит 7 столбцов и 2 строки\n",
    "2. Заголовки столбцов корректны и отражают суть данных\n",
    "3. Столбцы не содержат пропусков\n",
    "4. Столбцы содержат корректные типы данных\n",
    "5. В столбцах нет дублей."
   ]
  },
  {
   "cell_type": "markdown",
   "metadata": {},
   "source": [
    "### Общие выводы по качеству имеющихся данных <a id='1f'></a>\n",
    "\n",
    "Предоставлено пять таблиц, содержащих данные по использованию услуг мобильной связи пятьюстами абонентами. Таблицы содержит от 3 до 8 столбцов и от 2 до 202 607 строк. Заголовки столбцов корректны и отражают суть данных\n",
    "\n",
    "Только столбец `churn_date` таблицы `users` содержит технические пропуски, которые говорят о действии контракта\n",
    "\n",
    "В следующих столбцах требуется изменение типа данных на `date`:\n",
    "    * `churn_date` (`users`)\n",
    "    * `reg_date` (`users`)\n",
    "    * `call_date` (`calls`)\n",
    "    * `message_date` (`messages`)\n",
    "    * `session_date` (`internet`)\n",
    "\n",
    "В таблицах нет неявныех дублей, но требуется проыерка на наличие дубликатов."
   ]
  },
  {
   "cell_type": "markdown",
   "metadata": {},
   "source": [
    "## Подготовка данных <a id='2'></a>\n",
    "\n",
    "1. Привести данные к нужным типам\n",
    "2. Ввести дополнительные категории:\n",
    "    - месяц\n",
    "    - округленная сумма минут\n",
    "3. Посчитать показатели для каждого абонента:\n",
    "    - количество сделанных звонков и израсходованных минут разговора по месяцам;\n",
    "    - количество отправленных сообщений по месяцам;\n",
    "    - объем израсходованного интернет-трафика по месяцам;\n",
    "    - общую помесячную выручку "
   ]
  },
  {
   "cell_type": "markdown",
   "metadata": {},
   "source": [
    "### Приведение данных к нужным типам <a id='2.1'></a>"
   ]
  },
  {
   "cell_type": "code",
   "execution_count": 14,
   "metadata": {},
   "outputs": [
    {
     "name": "stdout",
     "output_type": "stream",
     "text": [
      "<class 'pandas.core.frame.DataFrame'>\n",
      "RangeIndex: 500 entries, 0 to 499\n",
      "Data columns (total 8 columns):\n",
      " #   Column      Non-Null Count  Dtype         \n",
      "---  ------      --------------  -----         \n",
      " 0   user_id     500 non-null    int64         \n",
      " 1   age         500 non-null    int64         \n",
      " 2   churn_date  38 non-null     datetime64[ns]\n",
      " 3   city        500 non-null    object        \n",
      " 4   first_name  500 non-null    object        \n",
      " 5   last_name   500 non-null    object        \n",
      " 6   reg_date    500 non-null    datetime64[ns]\n",
      " 7   tariff      500 non-null    object        \n",
      "dtypes: datetime64[ns](2), int64(2), object(4)\n",
      "memory usage: 31.4+ KB\n"
     ]
    }
   ],
   "source": [
    "# Изменеие типов данных таблицы users\n",
    "df_users['churn_date'] = pd.to_datetime(df_users['churn_date'], format='%Y-%m-%d')\n",
    "df_users['reg_date'] = pd.to_datetime(df_users['reg_date'], format=('%Y-%m-%d'))\n",
    "df_users.info()"
   ]
  },
  {
   "cell_type": "code",
   "execution_count": 15,
   "metadata": {},
   "outputs": [
    {
     "name": "stdout",
     "output_type": "stream",
     "text": [
      "<class 'pandas.core.frame.DataFrame'>\n",
      "RangeIndex: 202607 entries, 0 to 202606\n",
      "Data columns (total 4 columns):\n",
      " #   Column     Non-Null Count   Dtype         \n",
      "---  ------     --------------   -----         \n",
      " 0   id         202607 non-null  object        \n",
      " 1   call_date  202607 non-null  datetime64[ns]\n",
      " 2   duration   202607 non-null  float64       \n",
      " 3   user_id    202607 non-null  int64         \n",
      "dtypes: datetime64[ns](1), float64(1), int64(1), object(1)\n",
      "memory usage: 6.2+ MB\n"
     ]
    }
   ],
   "source": [
    "# Изменеие типов данных таблицы calls\n",
    "df_calls['call_date'] = pd.to_datetime(df_calls['call_date'], format=('%Y-%m-%d'))\n",
    "df_calls.info()"
   ]
  },
  {
   "cell_type": "code",
   "execution_count": 16,
   "metadata": {},
   "outputs": [
    {
     "name": "stdout",
     "output_type": "stream",
     "text": [
      "<class 'pandas.core.frame.DataFrame'>\n",
      "RangeIndex: 123036 entries, 0 to 123035\n",
      "Data columns (total 3 columns):\n",
      " #   Column        Non-Null Count   Dtype         \n",
      "---  ------        --------------   -----         \n",
      " 0   id            123036 non-null  object        \n",
      " 1   message_date  123036 non-null  datetime64[ns]\n",
      " 2   user_id       123036 non-null  int64         \n",
      "dtypes: datetime64[ns](1), int64(1), object(1)\n",
      "memory usage: 2.8+ MB\n"
     ]
    }
   ],
   "source": [
    "# Изменеие типов данных таблицы messages\n",
    "df_messages['message_date'] = pd.to_datetime(df_messages['message_date'], format=('%Y-%m-%d'))\n",
    "df_messages.info()"
   ]
  },
  {
   "cell_type": "code",
   "execution_count": 17,
   "metadata": {},
   "outputs": [
    {
     "name": "stdout",
     "output_type": "stream",
     "text": [
      "<class 'pandas.core.frame.DataFrame'>\n",
      "RangeIndex: 149396 entries, 0 to 149395\n",
      "Data columns (total 5 columns):\n",
      " #   Column        Non-Null Count   Dtype         \n",
      "---  ------        --------------   -----         \n",
      " 0   Unnamed: 0    149396 non-null  int64         \n",
      " 1   id            149396 non-null  object        \n",
      " 2   mb_used       149396 non-null  float64       \n",
      " 3   session_date  149396 non-null  datetime64[ns]\n",
      " 4   user_id       149396 non-null  int64         \n",
      "dtypes: datetime64[ns](1), float64(1), int64(2), object(1)\n",
      "memory usage: 5.7+ MB\n"
     ]
    }
   ],
   "source": [
    "# Изменеие типов данных таблицы internet\n",
    "df_internet['session_date'] = pd.to_datetime(df_internet['session_date'], format=('%Y-%m-%d'))\n",
    "df_internet.info()"
   ]
  },
  {
   "cell_type": "markdown",
   "metadata": {},
   "source": [
    "### Введение дополнительных категорий <a id='2.2'></a>"
   ]
  },
  {
   "cell_type": "markdown",
   "metadata": {},
   "source": [
    "Добавим в таблицы `calls`, `messages`, `internet` столбцы месяца использования тарифного плана преобразуем значения в новых столбцах в числовой тип."
   ]
  },
  {
   "cell_type": "code",
   "execution_count": 18,
   "metadata": {},
   "outputs": [],
   "source": [
    "# Добавим в таблицу calls столбeц месяца совершения вызова\n",
    "df_calls['month_call'] = df_calls['call_date'].dt.month\n",
    "# Заменим знначения на числовой тип\n",
    "df_calls['month_call'] = df_calls['month_call'].astype('int')"
   ]
  },
  {
   "cell_type": "code",
   "execution_count": 19,
   "metadata": {},
   "outputs": [
    {
     "data": {
      "text/html": [
       "<div>\n",
       "<style scoped>\n",
       "    .dataframe tbody tr th:only-of-type {\n",
       "        vertical-align: middle;\n",
       "    }\n",
       "\n",
       "    .dataframe tbody tr th {\n",
       "        vertical-align: top;\n",
       "    }\n",
       "\n",
       "    .dataframe thead th {\n",
       "        text-align: right;\n",
       "    }\n",
       "</style>\n",
       "<table border=\"1\" class=\"dataframe\">\n",
       "  <thead>\n",
       "    <tr style=\"text-align: right;\">\n",
       "      <th></th>\n",
       "      <th>id</th>\n",
       "      <th>call_date</th>\n",
       "      <th>duration</th>\n",
       "      <th>user_id</th>\n",
       "      <th>month_call</th>\n",
       "    </tr>\n",
       "  </thead>\n",
       "  <tbody>\n",
       "    <tr>\n",
       "      <th>0</th>\n",
       "      <td>1000_0</td>\n",
       "      <td>2018-07-25</td>\n",
       "      <td>0.00</td>\n",
       "      <td>1000</td>\n",
       "      <td>7</td>\n",
       "    </tr>\n",
       "    <tr>\n",
       "      <th>1</th>\n",
       "      <td>1000_1</td>\n",
       "      <td>2018-08-17</td>\n",
       "      <td>0.00</td>\n",
       "      <td>1000</td>\n",
       "      <td>8</td>\n",
       "    </tr>\n",
       "    <tr>\n",
       "      <th>2</th>\n",
       "      <td>1000_2</td>\n",
       "      <td>2018-06-11</td>\n",
       "      <td>2.85</td>\n",
       "      <td>1000</td>\n",
       "      <td>6</td>\n",
       "    </tr>\n",
       "    <tr>\n",
       "      <th>3</th>\n",
       "      <td>1000_3</td>\n",
       "      <td>2018-09-21</td>\n",
       "      <td>13.80</td>\n",
       "      <td>1000</td>\n",
       "      <td>9</td>\n",
       "    </tr>\n",
       "    <tr>\n",
       "      <th>4</th>\n",
       "      <td>1000_4</td>\n",
       "      <td>2018-12-15</td>\n",
       "      <td>5.18</td>\n",
       "      <td>1000</td>\n",
       "      <td>12</td>\n",
       "    </tr>\n",
       "  </tbody>\n",
       "</table>\n",
       "</div>"
      ],
      "text/plain": [
       "       id  call_date  duration  user_id  month_call\n",
       "0  1000_0 2018-07-25      0.00     1000           7\n",
       "1  1000_1 2018-08-17      0.00     1000           8\n",
       "2  1000_2 2018-06-11      2.85     1000           6\n",
       "3  1000_3 2018-09-21     13.80     1000           9\n",
       "4  1000_4 2018-12-15      5.18     1000          12"
      ]
     },
     "metadata": {},
     "output_type": "display_data"
    }
   ],
   "source": [
    "display(df_calls.head())"
   ]
  },
  {
   "cell_type": "code",
   "execution_count": 20,
   "metadata": {},
   "outputs": [],
   "source": [
    "# Добавим в таблицу messages столбeц месяца отправки сообщения\n",
    "df_messages['month_messag'] = df_messages['message_date'].dt.month\n",
    "# Заменим знначения на числовой тип\n",
    "df_messages['month_messag'] = df_messages['month_messag'].astype('int')"
   ]
  },
  {
   "cell_type": "code",
   "execution_count": 21,
   "metadata": {},
   "outputs": [
    {
     "data": {
      "text/html": [
       "<div>\n",
       "<style scoped>\n",
       "    .dataframe tbody tr th:only-of-type {\n",
       "        vertical-align: middle;\n",
       "    }\n",
       "\n",
       "    .dataframe tbody tr th {\n",
       "        vertical-align: top;\n",
       "    }\n",
       "\n",
       "    .dataframe thead th {\n",
       "        text-align: right;\n",
       "    }\n",
       "</style>\n",
       "<table border=\"1\" class=\"dataframe\">\n",
       "  <thead>\n",
       "    <tr style=\"text-align: right;\">\n",
       "      <th></th>\n",
       "      <th>id</th>\n",
       "      <th>message_date</th>\n",
       "      <th>user_id</th>\n",
       "      <th>month_messag</th>\n",
       "    </tr>\n",
       "  </thead>\n",
       "  <tbody>\n",
       "    <tr>\n",
       "      <th>0</th>\n",
       "      <td>1000_0</td>\n",
       "      <td>2018-06-27</td>\n",
       "      <td>1000</td>\n",
       "      <td>6</td>\n",
       "    </tr>\n",
       "    <tr>\n",
       "      <th>1</th>\n",
       "      <td>1000_1</td>\n",
       "      <td>2018-10-08</td>\n",
       "      <td>1000</td>\n",
       "      <td>10</td>\n",
       "    </tr>\n",
       "    <tr>\n",
       "      <th>2</th>\n",
       "      <td>1000_2</td>\n",
       "      <td>2018-08-04</td>\n",
       "      <td>1000</td>\n",
       "      <td>8</td>\n",
       "    </tr>\n",
       "    <tr>\n",
       "      <th>3</th>\n",
       "      <td>1000_3</td>\n",
       "      <td>2018-06-16</td>\n",
       "      <td>1000</td>\n",
       "      <td>6</td>\n",
       "    </tr>\n",
       "    <tr>\n",
       "      <th>4</th>\n",
       "      <td>1000_4</td>\n",
       "      <td>2018-12-05</td>\n",
       "      <td>1000</td>\n",
       "      <td>12</td>\n",
       "    </tr>\n",
       "  </tbody>\n",
       "</table>\n",
       "</div>"
      ],
      "text/plain": [
       "       id message_date  user_id  month_messag\n",
       "0  1000_0   2018-06-27     1000             6\n",
       "1  1000_1   2018-10-08     1000            10\n",
       "2  1000_2   2018-08-04     1000             8\n",
       "3  1000_3   2018-06-16     1000             6\n",
       "4  1000_4   2018-12-05     1000            12"
      ]
     },
     "metadata": {},
     "output_type": "display_data"
    }
   ],
   "source": [
    "display(df_messages.head())"
   ]
  },
  {
   "cell_type": "code",
   "execution_count": 22,
   "metadata": {},
   "outputs": [],
   "source": [
    "# Добавим в таблицу internet столбeц месяца скачивания данных\n",
    "df_internet['month_session'] = df_internet['session_date'].dt.month\n",
    "# Заменим знначения на числовой тип\n",
    "df_internet['month_session'] = df_internet['month_session'].astype('int')"
   ]
  },
  {
   "cell_type": "code",
   "execution_count": 23,
   "metadata": {},
   "outputs": [
    {
     "data": {
      "text/html": [
       "<div>\n",
       "<style scoped>\n",
       "    .dataframe tbody tr th:only-of-type {\n",
       "        vertical-align: middle;\n",
       "    }\n",
       "\n",
       "    .dataframe tbody tr th {\n",
       "        vertical-align: top;\n",
       "    }\n",
       "\n",
       "    .dataframe thead th {\n",
       "        text-align: right;\n",
       "    }\n",
       "</style>\n",
       "<table border=\"1\" class=\"dataframe\">\n",
       "  <thead>\n",
       "    <tr style=\"text-align: right;\">\n",
       "      <th></th>\n",
       "      <th>Unnamed: 0</th>\n",
       "      <th>id</th>\n",
       "      <th>mb_used</th>\n",
       "      <th>session_date</th>\n",
       "      <th>user_id</th>\n",
       "      <th>month_session</th>\n",
       "    </tr>\n",
       "  </thead>\n",
       "  <tbody>\n",
       "    <tr>\n",
       "      <th>0</th>\n",
       "      <td>0</td>\n",
       "      <td>1000_0</td>\n",
       "      <td>112.95</td>\n",
       "      <td>2018-11-25</td>\n",
       "      <td>1000</td>\n",
       "      <td>11</td>\n",
       "    </tr>\n",
       "    <tr>\n",
       "      <th>1</th>\n",
       "      <td>1</td>\n",
       "      <td>1000_1</td>\n",
       "      <td>1052.81</td>\n",
       "      <td>2018-09-07</td>\n",
       "      <td>1000</td>\n",
       "      <td>9</td>\n",
       "    </tr>\n",
       "    <tr>\n",
       "      <th>2</th>\n",
       "      <td>2</td>\n",
       "      <td>1000_2</td>\n",
       "      <td>1197.26</td>\n",
       "      <td>2018-06-25</td>\n",
       "      <td>1000</td>\n",
       "      <td>6</td>\n",
       "    </tr>\n",
       "    <tr>\n",
       "      <th>3</th>\n",
       "      <td>3</td>\n",
       "      <td>1000_3</td>\n",
       "      <td>550.27</td>\n",
       "      <td>2018-08-22</td>\n",
       "      <td>1000</td>\n",
       "      <td>8</td>\n",
       "    </tr>\n",
       "    <tr>\n",
       "      <th>4</th>\n",
       "      <td>4</td>\n",
       "      <td>1000_4</td>\n",
       "      <td>302.56</td>\n",
       "      <td>2018-09-24</td>\n",
       "      <td>1000</td>\n",
       "      <td>9</td>\n",
       "    </tr>\n",
       "  </tbody>\n",
       "</table>\n",
       "</div>"
      ],
      "text/plain": [
       "   Unnamed: 0      id  mb_used session_date  user_id  month_session\n",
       "0           0  1000_0   112.95   2018-11-25     1000             11\n",
       "1           1  1000_1  1052.81   2018-09-07     1000              9\n",
       "2           2  1000_2  1197.26   2018-06-25     1000              6\n",
       "3           3  1000_3   550.27   2018-08-22     1000              8\n",
       "4           4  1000_4   302.56   2018-09-24     1000              9"
      ]
     },
     "metadata": {},
     "output_type": "display_data"
    }
   ],
   "source": [
    "display(df_internet.head())"
   ]
  },
  {
   "cell_type": "markdown",
   "metadata": {},
   "source": [
    "### Подсчет показателей для каждого абонента <a id='2.3'></a>"
   ]
  },
  {
   "cell_type": "markdown",
   "metadata": {},
   "source": [
    "- количество сделанных звонков и израсходованных минут разговора по месяцам;\n",
    "- количество отправленных сообщений по месяцам;\n",
    "- объем израсходованного интернет-трафика по месяцам;\n",
    "- общую помесячную выручку"
   ]
  },
  {
   "cell_type": "markdown",
   "metadata": {},
   "source": [
    "**Количество сделанных звонков и израсходованных минут разговора по месяцам**\n",
    "\n",
    "- Добавим в таблицу `calls` столбeц с округленным вверх значением количества минут\n",
    "- Добавим в таблицу `calls` столбцы `city`, `tariff` из таюлицы `users`"
   ]
  },
  {
   "cell_type": "code",
   "execution_count": 24,
   "metadata": {},
   "outputs": [],
   "source": [
    "# Добавим в таблицу calls столбeц с округленным вверх значением количества минут\n",
    "df_calls['duration_up'] = df_calls['duration']\n",
    "df_calls['duration_up'] = np.ceil(df_calls['duration_up'])\n",
    "\n",
    "# Добавим в таблицу calls столбцы city tariff из таюлицы users\n",
    "df_calls_all = df_calls.merge(df_users, on='user_id', how='left')\n",
    "df_calls_all.drop(['age', 'churn_date', 'first_name', 'last_name', 'reg_date'], axis=1, inplace=True)"
   ]
  },
  {
   "cell_type": "code",
   "execution_count": 25,
   "metadata": {},
   "outputs": [],
   "source": [
    "# Удадим из получекнной таблицы строки с нулевым значение дительности вызова\n",
    "df_calls_all = df_calls_all[df_calls_all['duration'] != 0].copy()"
   ]
  },
  {
   "cell_type": "code",
   "execution_count": 26,
   "metadata": {},
   "outputs": [
    {
     "data": {
      "text/html": [
       "<div>\n",
       "<style scoped>\n",
       "    .dataframe tbody tr th:only-of-type {\n",
       "        vertical-align: middle;\n",
       "    }\n",
       "\n",
       "    .dataframe tbody tr th {\n",
       "        vertical-align: top;\n",
       "    }\n",
       "\n",
       "    .dataframe thead th {\n",
       "        text-align: right;\n",
       "    }\n",
       "</style>\n",
       "<table border=\"1\" class=\"dataframe\">\n",
       "  <thead>\n",
       "    <tr style=\"text-align: right;\">\n",
       "      <th></th>\n",
       "      <th>id</th>\n",
       "      <th>call_date</th>\n",
       "      <th>duration</th>\n",
       "      <th>user_id</th>\n",
       "      <th>month_call</th>\n",
       "      <th>duration_up</th>\n",
       "      <th>city</th>\n",
       "      <th>tariff</th>\n",
       "    </tr>\n",
       "  </thead>\n",
       "  <tbody>\n",
       "    <tr>\n",
       "      <th>2</th>\n",
       "      <td>1000_2</td>\n",
       "      <td>2018-06-11</td>\n",
       "      <td>2.85</td>\n",
       "      <td>1000</td>\n",
       "      <td>6</td>\n",
       "      <td>3.0</td>\n",
       "      <td>Краснодар</td>\n",
       "      <td>ultra</td>\n",
       "    </tr>\n",
       "    <tr>\n",
       "      <th>3</th>\n",
       "      <td>1000_3</td>\n",
       "      <td>2018-09-21</td>\n",
       "      <td>13.80</td>\n",
       "      <td>1000</td>\n",
       "      <td>9</td>\n",
       "      <td>14.0</td>\n",
       "      <td>Краснодар</td>\n",
       "      <td>ultra</td>\n",
       "    </tr>\n",
       "    <tr>\n",
       "      <th>4</th>\n",
       "      <td>1000_4</td>\n",
       "      <td>2018-12-15</td>\n",
       "      <td>5.18</td>\n",
       "      <td>1000</td>\n",
       "      <td>12</td>\n",
       "      <td>6.0</td>\n",
       "      <td>Краснодар</td>\n",
       "      <td>ultra</td>\n",
       "    </tr>\n",
       "    <tr>\n",
       "      <th>7</th>\n",
       "      <td>1000_7</td>\n",
       "      <td>2018-08-22</td>\n",
       "      <td>18.31</td>\n",
       "      <td>1000</td>\n",
       "      <td>8</td>\n",
       "      <td>19.0</td>\n",
       "      <td>Краснодар</td>\n",
       "      <td>ultra</td>\n",
       "    </tr>\n",
       "    <tr>\n",
       "      <th>8</th>\n",
       "      <td>1000_8</td>\n",
       "      <td>2018-09-15</td>\n",
       "      <td>18.44</td>\n",
       "      <td>1000</td>\n",
       "      <td>9</td>\n",
       "      <td>19.0</td>\n",
       "      <td>Краснодар</td>\n",
       "      <td>ultra</td>\n",
       "    </tr>\n",
       "  </tbody>\n",
       "</table>\n",
       "</div>"
      ],
      "text/plain": [
       "       id  call_date  duration  user_id  month_call  duration_up       city  \\\n",
       "2  1000_2 2018-06-11      2.85     1000           6          3.0  Краснодар   \n",
       "3  1000_3 2018-09-21     13.80     1000           9         14.0  Краснодар   \n",
       "4  1000_4 2018-12-15      5.18     1000          12          6.0  Краснодар   \n",
       "7  1000_7 2018-08-22     18.31     1000           8         19.0  Краснодар   \n",
       "8  1000_8 2018-09-15     18.44     1000           9         19.0  Краснодар   \n",
       "\n",
       "  tariff  \n",
       "2  ultra  \n",
       "3  ultra  \n",
       "4  ultra  \n",
       "7  ultra  \n",
       "8  ultra  "
      ]
     },
     "metadata": {},
     "output_type": "display_data"
    }
   ],
   "source": [
    "display(df_calls_all.head())"
   ]
  },
  {
   "cell_type": "markdown",
   "metadata": {},
   "source": [
    "**Для каждого тарифного плана провдем анализ среднемесячного количества и длительности звонков**"
   ]
  },
  {
   "cell_type": "markdown",
   "metadata": {},
   "source": [
    "Сравним количество звонков для тарфов `ultra` и `smart`"
   ]
  },
  {
   "cell_type": "code",
   "execution_count": 27,
   "metadata": {},
   "outputs": [
    {
     "data": {
      "image/png": "[encoded data removed]",
      "text/plain": [
       "<Figure size 720x504 with 2 Axes>"
      ]
     },
     "metadata": {
      "needs_background": "light"
     },
     "output_type": "display_data"
    }
   ],
   "source": [
    "# Для тарифного плана ultra определим среднемесячное количество вызовов \n",
    "# и выведим значение на тепловую карту\n",
    "df_calls_all_ultra_count = df_calls_all[df_calls_all['tariff'] == 'ultra'].pivot_table(index='user_id', columns='month_call', values='duration', aggfunc='count')\n",
    "df_calls_all_ultra_count = df_calls_all_ultra_count.fillna(0)\n",
    "\n",
    "plt.figure(figsize=(10, 7))\n",
    "heatmap = sms.heatmap(df_calls_all_ultra_count)\n",
    "heatmap.set_title('calls_all_ultra_count')\n",
    "plt.show()"
   ]
  },
  {
   "cell_type": "code",
   "execution_count": 28,
   "metadata": {},
   "outputs": [
    {
     "data": {
      "image/png": "[encoded data removed]",
      "text/plain": [
       "<Figure size 720x504 with 2 Axes>"
      ]
     },
     "metadata": {
      "needs_background": "light"
     },
     "output_type": "display_data"
    }
   ],
   "source": [
    "# Для тарифного плана smart определим среднемесячное количество вызовов \n",
    "# и выведим значение на тепловую карту\n",
    "df_calls_all_smart_count = df_calls_all[df_calls_all['tariff'] == 'smart'].pivot_table(index='user_id', columns='month_call', values='duration', aggfunc='count')\n",
    "df_calls_all_smart_count = df_calls_all_smart_count.fillna(0)\n",
    "\n",
    "plt.figure(figsize=(10, 7))\n",
    "heatmap = sms.heatmap(df_calls_all_smart_count)\n",
    "heatmap.set_title('calls_all_smart_count')\n",
    "plt.show()"
   ]
  },
  {
   "cell_type": "markdown",
   "metadata": {},
   "source": [
    "Сравним среднемесячную длительность звонков для тарфов `ultra` и `smart`"
   ]
  },
  {
   "cell_type": "code",
   "execution_count": 29,
   "metadata": {},
   "outputs": [
    {
     "data": {
      "image/png": "[encoded data removed]",
      "text/plain": [
       "<Figure size 720x504 with 2 Axes>"
      ]
     },
     "metadata": {
      "needs_background": "light"
     },
     "output_type": "display_data"
    }
   ],
   "source": [
    "# Для тарифного плана ultra определим среднемесячную длительность вызовов \n",
    "# и выведим значение на тепловую карту\n",
    "df_calls_all_ultra_mean = df_calls_all[df_calls_all['tariff'] == 'ultra'].pivot_table(index='user_id', columns='month_call', values='duration', aggfunc='mean')\n",
    "df_calls_all_ultra_mean = df_calls_all_ultra_mean.fillna(0)\n",
    "\n",
    "plt.figure(figsize=(10, 7))\n",
    "heatmap = sms.heatmap(df_calls_all_ultra_mean)\n",
    "heatmap.set_title('df_calls_all_ultra_mean')\n",
    "plt.show()"
   ]
  },
  {
   "cell_type": "code",
   "execution_count": 30,
   "metadata": {},
   "outputs": [
    {
     "data": {
      "image/png": "[encoded data removed]",
      "text/plain": [
       "<Figure size 720x504 with 2 Axes>"
      ]
     },
     "metadata": {
      "needs_background": "light"
     },
     "output_type": "display_data"
    }
   ],
   "source": [
    "# Для тарифного плана smart определим среднемесячную длительность вызовов \n",
    "# и выведим значение на тепловую карту\n",
    "df_calls_all_smart_mean = df_calls_all[df_calls_all['tariff'] == 'smart'].pivot_table(index='user_id', columns='month_call', values='duration', aggfunc='mean')\n",
    "df_calls_all_smart_mean = df_calls_all_smart_mean.fillna(0)\n",
    "\n",
    "plt.figure(figsize=(10, 7))\n",
    "heatmap = sms.heatmap(df_calls_all_smart_mean)\n",
    "heatmap.set_title('df_calls_all_smart_mean')\n",
    "plt.show()"
   ]
  },
  {
   "cell_type": "markdown",
   "metadata": {},
   "source": [
    "**Количество отправленных сообщений по месяцам**\n",
    "\n",
    "- Добавим в таблицу `messedges` столбцы `city`, `tariff` из таблицы `users`"
   ]
  },
  {
   "cell_type": "code",
   "execution_count": 31,
   "metadata": {},
   "outputs": [],
   "source": [
    "# Добавим в таблицу messages столбцы city tariffиз таблицы users\n",
    "df_messages_all = df_messages.merge(df_users, on='user_id', how='left')\n",
    "df_messages_all.drop(['age', 'churn_date', 'first_name', 'last_name', 'reg_date'], axis=1, inplace=True)"
   ]
  },
  {
   "cell_type": "code",
   "execution_count": 32,
   "metadata": {},
   "outputs": [
    {
     "data": {
      "text/html": [
       "<div>\n",
       "<style scoped>\n",
       "    .dataframe tbody tr th:only-of-type {\n",
       "        vertical-align: middle;\n",
       "    }\n",
       "\n",
       "    .dataframe tbody tr th {\n",
       "        vertical-align: top;\n",
       "    }\n",
       "\n",
       "    .dataframe thead th {\n",
       "        text-align: right;\n",
       "    }\n",
       "</style>\n",
       "<table border=\"1\" class=\"dataframe\">\n",
       "  <thead>\n",
       "    <tr style=\"text-align: right;\">\n",
       "      <th></th>\n",
       "      <th>id</th>\n",
       "      <th>message_date</th>\n",
       "      <th>user_id</th>\n",
       "      <th>month_messag</th>\n",
       "      <th>city</th>\n",
       "      <th>tariff</th>\n",
       "    </tr>\n",
       "  </thead>\n",
       "  <tbody>\n",
       "    <tr>\n",
       "      <th>0</th>\n",
       "      <td>1000_0</td>\n",
       "      <td>2018-06-27</td>\n",
       "      <td>1000</td>\n",
       "      <td>6</td>\n",
       "      <td>Краснодар</td>\n",
       "      <td>ultra</td>\n",
       "    </tr>\n",
       "    <tr>\n",
       "      <th>1</th>\n",
       "      <td>1000_1</td>\n",
       "      <td>2018-10-08</td>\n",
       "      <td>1000</td>\n",
       "      <td>10</td>\n",
       "      <td>Краснодар</td>\n",
       "      <td>ultra</td>\n",
       "    </tr>\n",
       "    <tr>\n",
       "      <th>2</th>\n",
       "      <td>1000_2</td>\n",
       "      <td>2018-08-04</td>\n",
       "      <td>1000</td>\n",
       "      <td>8</td>\n",
       "      <td>Краснодар</td>\n",
       "      <td>ultra</td>\n",
       "    </tr>\n",
       "    <tr>\n",
       "      <th>3</th>\n",
       "      <td>1000_3</td>\n",
       "      <td>2018-06-16</td>\n",
       "      <td>1000</td>\n",
       "      <td>6</td>\n",
       "      <td>Краснодар</td>\n",
       "      <td>ultra</td>\n",
       "    </tr>\n",
       "    <tr>\n",
       "      <th>4</th>\n",
       "      <td>1000_4</td>\n",
       "      <td>2018-12-05</td>\n",
       "      <td>1000</td>\n",
       "      <td>12</td>\n",
       "      <td>Краснодар</td>\n",
       "      <td>ultra</td>\n",
       "    </tr>\n",
       "  </tbody>\n",
       "</table>\n",
       "</div>"
      ],
      "text/plain": [
       "       id message_date  user_id  month_messag       city tariff\n",
       "0  1000_0   2018-06-27     1000             6  Краснодар  ultra\n",
       "1  1000_1   2018-10-08     1000            10  Краснодар  ultra\n",
       "2  1000_2   2018-08-04     1000             8  Краснодар  ultra\n",
       "3  1000_3   2018-06-16     1000             6  Краснодар  ultra\n",
       "4  1000_4   2018-12-05     1000            12  Краснодар  ultra"
      ]
     },
     "metadata": {},
     "output_type": "display_data"
    }
   ],
   "source": [
    "display(df_messages_all.head())"
   ]
  },
  {
   "cell_type": "markdown",
   "metadata": {},
   "source": [
    "**Для каждого тприфного плана провдем анализ количества отправленных сообщений в месяц**"
   ]
  },
  {
   "cell_type": "markdown",
   "metadata": {},
   "source": [
    "Сравним количество отправленных сообщений для тарфов `ultra` и `smart`"
   ]
  },
  {
   "cell_type": "code",
   "execution_count": 33,
   "metadata": {},
   "outputs": [
    {
     "data": {
      "image/png": "[encoded data removed]",
      "text/plain": [
       "<Figure size 720x504 with 2 Axes>"
      ]
     },
     "metadata": {
      "needs_background": "light"
     },
     "output_type": "display_data"
    }
   ],
   "source": [
    "# Для тарифного плана ultra определим количество отправленных сообщений в месяц\n",
    "# и выведим значение на тепловую карту\n",
    "df_messages_all_ultra_count = df_messages_all[df_messages_all['tariff'] == 'ultra'].pivot_table(index='user_id', columns='month_messag', values='city', aggfunc='count')\n",
    "df_messages_all_ultra_count = df_messages_all_ultra_count.fillna(0)\n",
    "\n",
    "plt.figure(figsize=(10, 7))\n",
    "heatmap = sms.heatmap(df_messages_all_ultra_count)\n",
    "heatmap.set_title('df_messages_all_ultra_count')\n",
    "plt.show()"
   ]
  },
  {
   "cell_type": "code",
   "execution_count": 34,
   "metadata": {},
   "outputs": [
    {
     "data": {
      "image/png": "[encoded data removed]",
      "text/plain": [
       "<Figure size 720x504 with 2 Axes>"
      ]
     },
     "metadata": {
      "needs_background": "light"
     },
     "output_type": "display_data"
    }
   ],
   "source": [
    "# Для тарифного плана smart определим количество отправленных сообщений в месяц\n",
    "# и выведим значение на тепловую карту\n",
    "df_messages_all_smart_count = df_messages_all[df_messages_all['tariff'] == 'smart'].pivot_table(index='user_id', columns='month_messag', values='city', aggfunc='count')\n",
    "df_messages_all_smart_count = df_messages_all_smart_count.fillna(0)\n",
    "\n",
    "plt.figure(figsize=(10, 7))\n",
    "heatmap = sms.heatmap(df_messages_all_smart_count)\n",
    "heatmap.set_title('df_messages_all_smart_count')\n",
    "plt.show()"
   ]
  },
  {
   "cell_type": "markdown",
   "metadata": {},
   "source": [
    "**Объем израсходованного интернет-трафика по месяцам;**\n",
    "\n",
    "- Добавим в таблицу `internet` столбцы `city`, `tariff` из таблицы `users`"
   ]
  },
  {
   "cell_type": "code",
   "execution_count": 35,
   "metadata": {},
   "outputs": [],
   "source": [
    "# Добавим в таблицу internet столбцы city tariff из таблицы users\n",
    "df_internet_all = df_internet.merge(df_users, on='user_id', how='left')\n",
    "df_internet_all.drop(['age', 'churn_date', 'first_name', 'last_name', 'reg_date'], axis=1, inplace=True)"
   ]
  },
  {
   "cell_type": "code",
   "execution_count": 36,
   "metadata": {},
   "outputs": [
    {
     "data": {
      "text/html": [
       "<div>\n",
       "<style scoped>\n",
       "    .dataframe tbody tr th:only-of-type {\n",
       "        vertical-align: middle;\n",
       "    }\n",
       "\n",
       "    .dataframe tbody tr th {\n",
       "        vertical-align: top;\n",
       "    }\n",
       "\n",
       "    .dataframe thead th {\n",
       "        text-align: right;\n",
       "    }\n",
       "</style>\n",
       "<table border=\"1\" class=\"dataframe\">\n",
       "  <thead>\n",
       "    <tr style=\"text-align: right;\">\n",
       "      <th></th>\n",
       "      <th>Unnamed: 0</th>\n",
       "      <th>id</th>\n",
       "      <th>mb_used</th>\n",
       "      <th>session_date</th>\n",
       "      <th>user_id</th>\n",
       "      <th>month_session</th>\n",
       "      <th>city</th>\n",
       "      <th>tariff</th>\n",
       "    </tr>\n",
       "  </thead>\n",
       "  <tbody>\n",
       "    <tr>\n",
       "      <th>0</th>\n",
       "      <td>0</td>\n",
       "      <td>1000_0</td>\n",
       "      <td>112.95</td>\n",
       "      <td>2018-11-25</td>\n",
       "      <td>1000</td>\n",
       "      <td>11</td>\n",
       "      <td>Краснодар</td>\n",
       "      <td>ultra</td>\n",
       "    </tr>\n",
       "    <tr>\n",
       "      <th>1</th>\n",
       "      <td>1</td>\n",
       "      <td>1000_1</td>\n",
       "      <td>1052.81</td>\n",
       "      <td>2018-09-07</td>\n",
       "      <td>1000</td>\n",
       "      <td>9</td>\n",
       "      <td>Краснодар</td>\n",
       "      <td>ultra</td>\n",
       "    </tr>\n",
       "    <tr>\n",
       "      <th>2</th>\n",
       "      <td>2</td>\n",
       "      <td>1000_2</td>\n",
       "      <td>1197.26</td>\n",
       "      <td>2018-06-25</td>\n",
       "      <td>1000</td>\n",
       "      <td>6</td>\n",
       "      <td>Краснодар</td>\n",
       "      <td>ultra</td>\n",
       "    </tr>\n",
       "    <tr>\n",
       "      <th>3</th>\n",
       "      <td>3</td>\n",
       "      <td>1000_3</td>\n",
       "      <td>550.27</td>\n",
       "      <td>2018-08-22</td>\n",
       "      <td>1000</td>\n",
       "      <td>8</td>\n",
       "      <td>Краснодар</td>\n",
       "      <td>ultra</td>\n",
       "    </tr>\n",
       "    <tr>\n",
       "      <th>4</th>\n",
       "      <td>4</td>\n",
       "      <td>1000_4</td>\n",
       "      <td>302.56</td>\n",
       "      <td>2018-09-24</td>\n",
       "      <td>1000</td>\n",
       "      <td>9</td>\n",
       "      <td>Краснодар</td>\n",
       "      <td>ultra</td>\n",
       "    </tr>\n",
       "  </tbody>\n",
       "</table>\n",
       "</div>"
      ],
      "text/plain": [
       "   Unnamed: 0      id  mb_used session_date  user_id  month_session  \\\n",
       "0           0  1000_0   112.95   2018-11-25     1000             11   \n",
       "1           1  1000_1  1052.81   2018-09-07     1000              9   \n",
       "2           2  1000_2  1197.26   2018-06-25     1000              6   \n",
       "3           3  1000_3   550.27   2018-08-22     1000              8   \n",
       "4           4  1000_4   302.56   2018-09-24     1000              9   \n",
       "\n",
       "        city tariff  \n",
       "0  Краснодар  ultra  \n",
       "1  Краснодар  ultra  \n",
       "2  Краснодар  ultra  \n",
       "3  Краснодар  ultra  \n",
       "4  Краснодар  ultra  "
      ]
     },
     "metadata": {},
     "output_type": "display_data"
    }
   ],
   "source": [
    "display(df_internet_all.head())"
   ]
  },
  {
   "cell_type": "markdown",
   "metadata": {},
   "source": [
    "**Для каждого тприфного плана провдем анализ израсходованного интернет-трафика в месяц**"
   ]
  },
  {
   "cell_type": "markdown",
   "metadata": {},
   "source": [
    "Сравним объем израсходованного интернет-трафика для тарфов `ultra` и `smart`"
   ]
  },
  {
   "cell_type": "code",
   "execution_count": 37,
   "metadata": {},
   "outputs": [
    {
     "data": {
      "image/png": "[encoded data removed]",
      "text/plain": [
       "<Figure size 720x504 with 2 Axes>"
      ]
     },
     "metadata": {
      "needs_background": "light"
     },
     "output_type": "display_data"
    }
   ],
   "source": [
    "# Для тарифного плана ultra определим объем израсходованного интернет-трафика в месяц\n",
    "# и выведим значение на тепловую карту\n",
    "df_internet_all_ultra_count = df_internet_all[df_internet_all['tariff'] == 'ultra'].pivot_table(index='user_id', columns='month_session', values='mb_used', aggfunc='sum')\n",
    "df_internet_all_ultra_count = df_internet_all_ultra_count.fillna(0)\n",
    "\n",
    "plt.figure(figsize=(10, 7))\n",
    "heatmap = sms.heatmap(df_internet_all_ultra_count)\n",
    "heatmap.set_title('df_internet_all_ultra_count')\n",
    "plt.show()"
   ]
  },
  {
   "cell_type": "code",
   "execution_count": 38,
   "metadata": {},
   "outputs": [
    {
     "data": {
      "image/png": "[encoded data removed]",
      "text/plain": [
       "<Figure size 720x504 with 2 Axes>"
      ]
     },
     "metadata": {
      "needs_background": "light"
     },
     "output_type": "display_data"
    }
   ],
   "source": [
    "# Для тарифного плана smart определим объем израсходованного интернет-трафикай в месяц\n",
    "# и выведим значение на тепловую карту\n",
    "df_internet_all_smart_count = df_internet_all[df_internet_all['tariff'] == 'smart'].pivot_table(index='user_id', columns='month_session', values='mb_used', aggfunc='sum')\n",
    "df_internet_all_smart_count = df_internet_all_smart_count.fillna(0)\n",
    "\n",
    "plt.figure(figsize=(10, 7))\n",
    "heatmap = sms.heatmap(df_internet_all_smart_count)\n",
    "heatmap.set_title('df_internet_all_smart_count')\n",
    "plt.show()"
   ]
  },
  {
   "cell_type": "markdown",
   "metadata": {},
   "source": [
    "### Выводы по подготовке данных <a id='2f'></a>\n",
    "​\n",
    "В результате подготовки, данные приведены к нужным типам. Введены дополнительные категории: месяц получения услуги, проведено округления длительности вызова в большую сторону.\n",
    "​\n",
    "Для каждого абонента подсчитаны следующий показатели:\n",
    "- количество совершенных вызовов и израсходованных минут по месяцам;\n",
    "- количество отправленных сообщений по месяцам;\n",
    "- объем израсходованного интернет-трафика по месяцам;\n",
    "​\n",
    "На основании выделенных показателей построены тепловые карты, которые позволяют сделать предварительные выводы:\n",
    "- Средняя длительность вызовов на всех тарифных планах примерно одинаковая, при этом, на тарифном плане `ultra` количество вызовов больше, что может свидетельствовать о бОльшем объеме голосового трафика на тарифном плане `ultra`\n",
    "- На тарифном плане `ultra` больше количество сообщений и больше объем интернет-трафика, что может свидетельствовать о более высоких расходах абонентов на тарифном плане `ultra`"
   ]
  },
  {
   "cell_type": "markdown",
   "metadata": {},
   "source": [
    "## Анализ данных <a id='3'></a>"
   ]
  },
  {
   "cell_type": "markdown",
   "metadata": {},
   "source": [
    "Создадим функции для построения гисторгамм"
   ]
  },
  {
   "cell_type": "code",
   "execution_count": 39,
   "metadata": {},
   "outputs": [],
   "source": [
    "# Создадим функцию для расчета границ потроения гистрграммы\n",
    "def range_lim (s):\n",
    "    q1 = s.quantile(0.25)\n",
    "    q3 = s.quantile(0.75)\n",
    "    iqr = q3-q1\n",
    "    low  = q1-1.5*iqr\n",
    "    high = q3+1.5*iqr\n",
    "    return (int(low), int(high))\n",
    "\n",
    "# Напишем функцию для построенимя типовых гимтограмм с учетом границ\n",
    "def hist_pattern(df, bi, title):\n",
    "    df.hist(bins=bi, range=(range_lim(df)), figsize=(10,7))\n",
    "    plt.title(title)\n",
    "    return plt.show()\n",
    "\n",
    "# Напишем функцию для построенимя двойных гимтограмм без учет границ\n",
    "def hist_pattern_dabl(df_1, df_2, bi, label, title):\n",
    "    plt.figure(figsize=(10, 7))\n",
    "    plt.hist([df_1, df_2], bins=bi, label=label)\n",
    "    plt.legend()\n",
    "    plt.title(title)\n",
    "    return plt.show()"
   ]
  },
  {
   "cell_type": "markdown",
   "metadata": {},
   "source": [
    "### Расчет статистических показателей для голосового трафика <a id='3.1'></a>"
   ]
  },
  {
   "cell_type": "markdown",
   "metadata": {},
   "source": [
    "Проведем группировку количества и длительности **вызовов** для каждого тарифного плана. Расчитаем показатели среднего значения, дисперсии и стандартного отклонения "
   ]
  },
  {
   "cell_type": "code",
   "execution_count": 40,
   "metadata": {
    "scrolled": true
   },
   "outputs": [
    {
     "data": {
      "text/html": [
       "<div>\n",
       "<style scoped>\n",
       "    .dataframe tbody tr th:only-of-type {\n",
       "        vertical-align: middle;\n",
       "    }\n",
       "\n",
       "    .dataframe tbody tr th {\n",
       "        vertical-align: top;\n",
       "    }\n",
       "\n",
       "    .dataframe thead th {\n",
       "        text-align: right;\n",
       "    }\n",
       "</style>\n",
       "<table border=\"1\" class=\"dataframe\">\n",
       "  <thead>\n",
       "    <tr style=\"text-align: right;\">\n",
       "      <th></th>\n",
       "      <th></th>\n",
       "      <th>sum</th>\n",
       "      <th>count</th>\n",
       "    </tr>\n",
       "    <tr>\n",
       "      <th>month_call</th>\n",
       "      <th>user_id</th>\n",
       "      <th></th>\n",
       "      <th></th>\n",
       "    </tr>\n",
       "  </thead>\n",
       "  <tbody>\n",
       "    <tr>\n",
       "      <th rowspan=\"5\" valign=\"top\">1</th>\n",
       "      <th>1120</th>\n",
       "      <td>52.72</td>\n",
       "      <td>4</td>\n",
       "    </tr>\n",
       "    <tr>\n",
       "      <th>1126</th>\n",
       "      <td>258.44</td>\n",
       "      <td>28</td>\n",
       "    </tr>\n",
       "    <tr>\n",
       "      <th>1168</th>\n",
       "      <td>264.41</td>\n",
       "      <td>31</td>\n",
       "    </tr>\n",
       "    <tr>\n",
       "      <th>1254</th>\n",
       "      <td>439.01</td>\n",
       "      <td>50</td>\n",
       "    </tr>\n",
       "    <tr>\n",
       "      <th>1375</th>\n",
       "      <td>802.11</td>\n",
       "      <td>96</td>\n",
       "    </tr>\n",
       "  </tbody>\n",
       "</table>\n",
       "</div>"
      ],
      "text/plain": [
       "                       sum  count\n",
       "month_call user_id               \n",
       "1          1120      52.72      4\n",
       "           1126     258.44     28\n",
       "           1168     264.41     31\n",
       "           1254     439.01     50\n",
       "           1375     802.11     96"
      ]
     },
     "metadata": {},
     "output_type": "display_data"
    }
   ],
   "source": [
    "# Сгруппируем удельные показатели вызовов для тарифного плана ultra\n",
    "df_calls_all_ultra_all = df_calls_all[df_calls_all['tariff'] == 'ultra'].groupby(['month_call', 'user_id']).agg({'duration':['sum', 'count']})\n",
    "df_calls_all_ultra_all.columns = ['sum', 'count']\n",
    "display(df_calls_all_ultra_all.head())"
   ]
  },
  {
   "cell_type": "code",
   "execution_count": 41,
   "metadata": {
    "scrolled": false
   },
   "outputs": [
    {
     "data": {
      "text/html": [
       "<div>\n",
       "<style scoped>\n",
       "    .dataframe tbody tr th:only-of-type {\n",
       "        vertical-align: middle;\n",
       "    }\n",
       "\n",
       "    .dataframe tbody tr th {\n",
       "        vertical-align: top;\n",
       "    }\n",
       "\n",
       "    .dataframe thead th {\n",
       "        text-align: right;\n",
       "    }\n",
       "</style>\n",
       "<table border=\"1\" class=\"dataframe\">\n",
       "  <thead>\n",
       "    <tr style=\"text-align: right;\">\n",
       "      <th></th>\n",
       "      <th></th>\n",
       "      <th>sum</th>\n",
       "      <th>count</th>\n",
       "    </tr>\n",
       "    <tr>\n",
       "      <th>month_call</th>\n",
       "      <th>user_id</th>\n",
       "      <th></th>\n",
       "      <th></th>\n",
       "    </tr>\n",
       "  </thead>\n",
       "  <tbody>\n",
       "    <tr>\n",
       "      <th rowspan=\"5\" valign=\"top\">1</th>\n",
       "      <th>1005</th>\n",
       "      <td>90.93</td>\n",
       "      <td>11</td>\n",
       "    </tr>\n",
       "    <tr>\n",
       "      <th>1032</th>\n",
       "      <td>359.16</td>\n",
       "      <td>44</td>\n",
       "    </tr>\n",
       "    <tr>\n",
       "      <th>1045</th>\n",
       "      <td>8.33</td>\n",
       "      <td>1</td>\n",
       "    </tr>\n",
       "    <tr>\n",
       "      <th>1055</th>\n",
       "      <td>527.95</td>\n",
       "      <td>47</td>\n",
       "    </tr>\n",
       "    <tr>\n",
       "      <th>1071</th>\n",
       "      <td>183.96</td>\n",
       "      <td>18</td>\n",
       "    </tr>\n",
       "  </tbody>\n",
       "</table>\n",
       "</div>"
      ],
      "text/plain": [
       "                       sum  count\n",
       "month_call user_id               \n",
       "1          1005      90.93     11\n",
       "           1032     359.16     44\n",
       "           1045       8.33      1\n",
       "           1055     527.95     47\n",
       "           1071     183.96     18"
      ]
     },
     "metadata": {},
     "output_type": "display_data"
    }
   ],
   "source": [
    "# Сгруппируем удельные показатели вызовов для тарифного плана smart\n",
    "df_calls_all_smart_all = df_calls_all[df_calls_all['tariff'] == 'smart'].groupby(['month_call', 'user_id']).agg({'duration':['sum', 'count']})\n",
    "df_calls_all_smart_all.columns = ['sum', 'count']\n",
    "display(df_calls_all_smart_all.head())"
   ]
  },
  {
   "cell_type": "code",
   "execution_count": 42,
   "metadata": {
    "scrolled": true
   },
   "outputs": [
    {
     "data": {
      "image/png": "[encoded data removed]",
      "text/plain": [
       "<Figure size 720x504 with 1 Axes>"
      ]
     },
     "metadata": {
      "needs_background": "light"
     },
     "output_type": "display_data"
    }
   ],
   "source": [
    "# Построим двойную гистограмму для длятельности звонков по обоим тарифным планам\n",
    "hist_pattern_dabl(df_calls_all_ultra_all['sum'], df_calls_all_smart_all['sum'], 100, ['ultra', 'smart'], 'calls_sum')"
   ]
  },
  {
   "cell_type": "code",
   "execution_count": 43,
   "metadata": {
    "scrolled": false
   },
   "outputs": [
    {
     "data": {
      "image/png": "[encoded data removed]",
      "text/plain": [
       "<Figure size 720x504 with 1 Axes>"
      ]
     },
     "metadata": {
      "needs_background": "light"
     },
     "output_type": "display_data"
    }
   ],
   "source": [
    "# Построим гистограмму для длятельности звонков тарифа ultra\n",
    "hist_pattern(df_calls_all_ultra_all['sum'], 100, 'calls_sum_ultra')"
   ]
  },
  {
   "cell_type": "code",
   "execution_count": 44,
   "metadata": {
    "scrolled": true
   },
   "outputs": [
    {
     "data": {
      "image/png": "[encoded data removed]",
      "text/plain": [
       "<Figure size 720x504 with 1 Axes>"
      ]
     },
     "metadata": {
      "needs_background": "light"
     },
     "output_type": "display_data"
    }
   ],
   "source": [
    "# Построим гистограмму для длятельности звонкои тарифа smart\n",
    "hist_pattern(df_calls_all_smart_all['sum'], 100, 'calls_sum_smart')"
   ]
  },
  {
   "cell_type": "code",
   "execution_count": 45,
   "metadata": {},
   "outputs": [
    {
     "data": {
      "image/png": "[encoded data removed]",
      "text/plain": [
       "<Figure size 720x504 with 1 Axes>"
      ]
     },
     "metadata": {
      "needs_background": "light"
     },
     "output_type": "display_data"
    }
   ],
   "source": [
    "# Построим двойную гистограмму для количества звонков по обоим тарифным планам\n",
    "hist_pattern_dabl(df_calls_all_ultra_all['count'], df_calls_all_smart_all['count'], 100, ['ultra', 'smart'], 'calls_count')"
   ]
  },
  {
   "cell_type": "code",
   "execution_count": 46,
   "metadata": {
    "scrolled": true
   },
   "outputs": [
    {
     "data": {
      "image/png": "[encoded data removed]",
      "text/plain": [
       "<Figure size 720x504 with 1 Axes>"
      ]
     },
     "metadata": {
      "needs_background": "light"
     },
     "output_type": "display_data"
    }
   ],
   "source": [
    "# Построим гистограмму для количества звонков тарифа ultra\n",
    "hist_pattern(df_calls_all_ultra_all['count'], 100, 'calls_count_ultra')"
   ]
  },
  {
   "cell_type": "code",
   "execution_count": 47,
   "metadata": {},
   "outputs": [
    {
     "data": {
      "image/png": "[encoded data removed]",
      "text/plain": [
       "<Figure size 720x504 with 1 Axes>"
      ]
     },
     "metadata": {
      "needs_background": "light"
     },
     "output_type": "display_data"
    }
   ],
   "source": [
    "# Построим гистограмму для колтчества звонков тарифа smart\n",
    "hist_pattern(df_calls_all_smart_all['count'], 100, 'calls_count_smart')"
   ]
  },
  {
   "cell_type": "code",
   "execution_count": 48,
   "metadata": {},
   "outputs": [],
   "source": [
    "# Создадим cписки для записи значений показателей\n",
    "tp_ultra_cell_count = []\n",
    "tp_smart_cell_count = []\n",
    "tp_ultra_cell_sum = []\n",
    "tp_smart_cell_sum = []"
   ]
  },
  {
   "cell_type": "code",
   "execution_count": 49,
   "metadata": {},
   "outputs": [],
   "source": [
    "# Рассчиаем показатели количества вызовов для ТП ultra\n",
    "tp_ultra_cell_count.append(df_calls_all_ultra_all['count'].mean())\n",
    "tp_ultra_cell_count.append(np.var(df_calls_all_ultra_all['count'], ddof=1))\n",
    "tp_ultra_cell_count.append(np.std(df_calls_all_ultra_all['count'], ddof=1))"
   ]
  },
  {
   "cell_type": "code",
   "execution_count": 50,
   "metadata": {},
   "outputs": [],
   "source": [
    "# Рассчиаем показатели количества вызовов для ТП smart\n",
    "tp_smart_cell_count.append(df_calls_all_smart_all['count'].mean())\n",
    "tp_smart_cell_count.append(np.var(df_calls_all_smart_all['count'], ddof=1))\n",
    "tp_smart_cell_count.append(np.std(df_calls_all_smart_all['count'], ddof=1))"
   ]
  },
  {
   "cell_type": "code",
   "execution_count": 51,
   "metadata": {},
   "outputs": [],
   "source": [
    "# Рассчиаем показатели длительности вызовов для ТП ultra\n",
    "tp_ultra_cell_sum.append(df_calls_all_ultra_all['sum'].mean())\n",
    "tp_ultra_cell_sum.append(np.var(df_calls_all_ultra_all['sum'], ddof=1))\n",
    "tp_ultra_cell_sum.append(np.std(df_calls_all_ultra_all['sum'], ddof=1))"
   ]
  },
  {
   "cell_type": "code",
   "execution_count": 52,
   "metadata": {},
   "outputs": [],
   "source": [
    "# Рассчиаем показатели длительности вызовов для ТП smart\n",
    "tp_smart_cell_sum.append(df_calls_all_smart_all['sum'].mean())\n",
    "tp_smart_cell_sum.append(np.var(df_calls_all_smart_all['sum'], ddof=1))\n",
    "tp_smart_cell_sum.append(np.std(df_calls_all_smart_all['sum'], ddof=1))"
   ]
  },
  {
   "cell_type": "markdown",
   "metadata": {},
   "source": [
    "### Расчет статистических показателей для сообщений <a id='3.2'></a>"
   ]
  },
  {
   "cell_type": "markdown",
   "metadata": {},
   "source": [
    "Проведем группировку количества отправленных за месяц **сообщений** для каждого тарифного плана. Расчитаем показатели среднего значения, дисперсии и стандартного отклонения "
   ]
  },
  {
   "cell_type": "code",
   "execution_count": 53,
   "metadata": {},
   "outputs": [
    {
     "data": {
      "text/html": [
       "<div>\n",
       "<style scoped>\n",
       "    .dataframe tbody tr th:only-of-type {\n",
       "        vertical-align: middle;\n",
       "    }\n",
       "\n",
       "    .dataframe tbody tr th {\n",
       "        vertical-align: top;\n",
       "    }\n",
       "\n",
       "    .dataframe thead th {\n",
       "        text-align: right;\n",
       "    }\n",
       "</style>\n",
       "<table border=\"1\" class=\"dataframe\">\n",
       "  <thead>\n",
       "    <tr style=\"text-align: right;\">\n",
       "      <th></th>\n",
       "      <th></th>\n",
       "      <th>count</th>\n",
       "    </tr>\n",
       "    <tr>\n",
       "      <th>month_messag</th>\n",
       "      <th>user_id</th>\n",
       "      <th></th>\n",
       "    </tr>\n",
       "  </thead>\n",
       "  <tbody>\n",
       "    <tr>\n",
       "      <th rowspan=\"5\" valign=\"top\">1</th>\n",
       "      <th>1126</th>\n",
       "      <td>4</td>\n",
       "    </tr>\n",
       "    <tr>\n",
       "      <th>1168</th>\n",
       "      <td>14</td>\n",
       "    </tr>\n",
       "    <tr>\n",
       "      <th>1375</th>\n",
       "      <td>75</td>\n",
       "    </tr>\n",
       "    <tr>\n",
       "      <th>1381</th>\n",
       "      <td>32</td>\n",
       "    </tr>\n",
       "    <tr>\n",
       "      <th>1385</th>\n",
       "      <td>72</td>\n",
       "    </tr>\n",
       "  </tbody>\n",
       "</table>\n",
       "</div>"
      ],
      "text/plain": [
       "                      count\n",
       "month_messag user_id       \n",
       "1            1126         4\n",
       "             1168        14\n",
       "             1375        75\n",
       "             1381        32\n",
       "             1385        72"
      ]
     },
     "metadata": {},
     "output_type": "display_data"
    }
   ],
   "source": [
    "# Сгруппируем удельные показатели отправленных за месяц сообщений для тарифного плана ultra\n",
    "df_messages_all_ultra_all = df_messages_all[df_messages_all['tariff'] == 'ultra'].groupby(['month_messag', 'user_id']).agg({'city':['count']})\n",
    "df_messages_all_ultra_all.columns = ['count']\n",
    "display(df_messages_all_ultra_all.head())"
   ]
  },
  {
   "cell_type": "code",
   "execution_count": 54,
   "metadata": {},
   "outputs": [
    {
     "data": {
      "image/png": "[encoded data removed]",
      "text/plain": [
       "<Figure size 720x504 with 1 Axes>"
      ]
     },
     "metadata": {
      "needs_background": "light"
     },
     "output_type": "display_data"
    }
   ],
   "source": [
    "# Построим гистограмму для колтчества сообщений\n",
    "hist_pattern(df_messages_all_ultra_all['count'], 100, 'messages_count_ultra')"
   ]
  },
  {
   "cell_type": "code",
   "execution_count": 55,
   "metadata": {},
   "outputs": [
    {
     "data": {
      "text/html": [
       "<div>\n",
       "<style scoped>\n",
       "    .dataframe tbody tr th:only-of-type {\n",
       "        vertical-align: middle;\n",
       "    }\n",
       "\n",
       "    .dataframe tbody tr th {\n",
       "        vertical-align: top;\n",
       "    }\n",
       "\n",
       "    .dataframe thead th {\n",
       "        text-align: right;\n",
       "    }\n",
       "</style>\n",
       "<table border=\"1\" class=\"dataframe\">\n",
       "  <thead>\n",
       "    <tr style=\"text-align: right;\">\n",
       "      <th></th>\n",
       "      <th></th>\n",
       "      <th>count</th>\n",
       "    </tr>\n",
       "    <tr>\n",
       "      <th>month_messag</th>\n",
       "      <th>user_id</th>\n",
       "      <th></th>\n",
       "    </tr>\n",
       "  </thead>\n",
       "  <tbody>\n",
       "    <tr>\n",
       "      <th rowspan=\"5\" valign=\"top\">1</th>\n",
       "      <th>1005</th>\n",
       "      <td>7</td>\n",
       "    </tr>\n",
       "    <tr>\n",
       "      <th>1032</th>\n",
       "      <td>38</td>\n",
       "    </tr>\n",
       "    <tr>\n",
       "      <th>1045</th>\n",
       "      <td>5</td>\n",
       "    </tr>\n",
       "    <tr>\n",
       "      <th>1055</th>\n",
       "      <td>30</td>\n",
       "    </tr>\n",
       "    <tr>\n",
       "      <th>1071</th>\n",
       "      <td>16</td>\n",
       "    </tr>\n",
       "  </tbody>\n",
       "</table>\n",
       "</div>"
      ],
      "text/plain": [
       "                      count\n",
       "month_messag user_id       \n",
       "1            1005         7\n",
       "             1032        38\n",
       "             1045         5\n",
       "             1055        30\n",
       "             1071        16"
      ]
     },
     "metadata": {},
     "output_type": "display_data"
    }
   ],
   "source": [
    "# Сгруппируем удельные показатели отправленных за месяц сообщений для тарифного плана smart\n",
    "df_messages_all_smart_all = df_messages_all[df_messages_all['tariff'] == 'smart'].groupby(['month_messag', 'user_id']).agg({'city':['count']})\n",
    "df_messages_all_smart_all.columns = ['count']\n",
    "display(df_messages_all_smart_all.head())"
   ]
  },
  {
   "cell_type": "code",
   "execution_count": 56,
   "metadata": {
    "scrolled": true
   },
   "outputs": [
    {
     "data": {
      "image/png": "[encoded data removed]",
      "text/plain": [
       "<Figure size 720x504 with 1 Axes>"
      ]
     },
     "metadata": {
      "needs_background": "light"
     },
     "output_type": "display_data"
    }
   ],
   "source": [
    "# Построим гистограмму для колтчества сообщений\n",
    "hist_pattern(df_messages_all_smart_all['count'], 100, 'messages_count_smart')"
   ]
  },
  {
   "cell_type": "code",
   "execution_count": 57,
   "metadata": {},
   "outputs": [
    {
     "data": {
      "image/png": "[encoded data removed]",
      "text/plain": [
       "<Figure size 720x504 with 1 Axes>"
      ]
     },
     "metadata": {
      "needs_background": "light"
     },
     "output_type": "display_data"
    }
   ],
   "source": [
    "# Построим двойную гистограмму для количества сообщений по обоим тарифным планам\n",
    "hist_pattern_dabl(df_messages_all_ultra_all['count'], df_messages_all_smart_all['count'], 100, ['ultra', 'smart'], 'messages_count')"
   ]
  },
  {
   "cell_type": "code",
   "execution_count": 58,
   "metadata": {},
   "outputs": [],
   "source": [
    "# Создадим cписки для записи значений показателей\n",
    "tp_ultra_messages = []\n",
    "tp_smart_messages = []"
   ]
  },
  {
   "cell_type": "code",
   "execution_count": 59,
   "metadata": {},
   "outputs": [],
   "source": [
    "# Рассчиаем показатели количества отправленных за месяц сообщений для ТП ultra\n",
    "tp_ultra_messages.append(df_messages_all_ultra_all['count'].mean())\n",
    "tp_ultra_messages.append(np.var(df_messages_all_ultra_all['count'], ddof=1))\n",
    "tp_ultra_messages.append(np.std(df_messages_all_ultra_all['count'], ddof=1))"
   ]
  },
  {
   "cell_type": "code",
   "execution_count": 60,
   "metadata": {},
   "outputs": [],
   "source": [
    "# Рассчиаем показатели количества отправленных за месяц сообщений для ТП smart\n",
    "tp_smart_messages.append(df_messages_all_smart_all['count'].mean())\n",
    "tp_smart_messages.append(np.var(df_messages_all_smart_all['count'], ddof=1))\n",
    "tp_smart_messages.append(np.std(df_messages_all_smart_all['count'], ddof=1))"
   ]
  },
  {
   "cell_type": "markdown",
   "metadata": {},
   "source": [
    "### Расчет статистических показателей для интернет трафика <a id='3.3'></a>"
   ]
  },
  {
   "cell_type": "markdown",
   "metadata": {},
   "source": [
    "Проведем группировку объема израсходованного интернет-трафика за месяц для каждого тарифного плана. Расчитаем показатели среднего значения, дисперсии и стандартного отклонения"
   ]
  },
  {
   "cell_type": "code",
   "execution_count": 61,
   "metadata": {},
   "outputs": [
    {
     "data": {
      "text/html": [
       "<div>\n",
       "<style scoped>\n",
       "    .dataframe tbody tr th:only-of-type {\n",
       "        vertical-align: middle;\n",
       "    }\n",
       "\n",
       "    .dataframe tbody tr th {\n",
       "        vertical-align: top;\n",
       "    }\n",
       "\n",
       "    .dataframe thead th {\n",
       "        text-align: right;\n",
       "    }\n",
       "</style>\n",
       "<table border=\"1\" class=\"dataframe\">\n",
       "  <thead>\n",
       "    <tr style=\"text-align: right;\">\n",
       "      <th></th>\n",
       "      <th></th>\n",
       "      <th>sum</th>\n",
       "      <th>sum_gb</th>\n",
       "    </tr>\n",
       "    <tr>\n",
       "      <th>month_session</th>\n",
       "      <th>user_id</th>\n",
       "      <th></th>\n",
       "      <th></th>\n",
       "    </tr>\n",
       "  </thead>\n",
       "  <tbody>\n",
       "    <tr>\n",
       "      <th rowspan=\"5\" valign=\"top\">1</th>\n",
       "      <th>1120</th>\n",
       "      <td>656.75</td>\n",
       "      <td>0.641357</td>\n",
       "    </tr>\n",
       "    <tr>\n",
       "      <th>1126</th>\n",
       "      <td>16363.03</td>\n",
       "      <td>15.979521</td>\n",
       "    </tr>\n",
       "    <tr>\n",
       "      <th>1168</th>\n",
       "      <td>8152.07</td>\n",
       "      <td>7.961006</td>\n",
       "    </tr>\n",
       "    <tr>\n",
       "      <th>1254</th>\n",
       "      <td>19685.01</td>\n",
       "      <td>19.223643</td>\n",
       "    </tr>\n",
       "    <tr>\n",
       "      <th>1375</th>\n",
       "      <td>14550.66</td>\n",
       "      <td>14.209629</td>\n",
       "    </tr>\n",
       "  </tbody>\n",
       "</table>\n",
       "</div>"
      ],
      "text/plain": [
       "                            sum     sum_gb\n",
       "month_session user_id                     \n",
       "1             1120       656.75   0.641357\n",
       "              1126     16363.03  15.979521\n",
       "              1168      8152.07   7.961006\n",
       "              1254     19685.01  19.223643\n",
       "              1375     14550.66  14.209629"
      ]
     },
     "metadata": {},
     "output_type": "display_data"
    }
   ],
   "source": [
    "# Сгруппируем показатели объема израсходованного интернет-трафика за месяц для тарифного плана ultra\n",
    "df_internet_all_ultra_all = df_internet_all[df_internet_all['tariff'] == 'ultra'].groupby(['month_session', 'user_id']).agg({'mb_used':['sum']})\n",
    "df_internet_all_ultra_all.columns = ['sum']\n",
    "df_internet_all_ultra_all['sum_gb'] = df_internet_all_ultra_all['sum'] / 1024\n",
    "display(df_internet_all_ultra_all.head())"
   ]
  },
  {
   "cell_type": "code",
   "execution_count": 62,
   "metadata": {},
   "outputs": [
    {
     "data": {
      "image/png": "[encoded data removed]",
      "text/plain": [
       "<Figure size 720x504 with 1 Axes>"
      ]
     },
     "metadata": {
      "needs_background": "light"
     },
     "output_type": "display_data"
    }
   ],
   "source": [
    "# Построим гистограмму для объема трафика\n",
    "hist_pattern(df_internet_all_ultra_all['sum_gb'], 100, 'internet_gb_ultra')"
   ]
  },
  {
   "cell_type": "code",
   "execution_count": 63,
   "metadata": {},
   "outputs": [
    {
     "data": {
      "text/html": [
       "<div>\n",
       "<style scoped>\n",
       "    .dataframe tbody tr th:only-of-type {\n",
       "        vertical-align: middle;\n",
       "    }\n",
       "\n",
       "    .dataframe tbody tr th {\n",
       "        vertical-align: top;\n",
       "    }\n",
       "\n",
       "    .dataframe thead th {\n",
       "        text-align: right;\n",
       "    }\n",
       "</style>\n",
       "<table border=\"1\" class=\"dataframe\">\n",
       "  <thead>\n",
       "    <tr style=\"text-align: right;\">\n",
       "      <th></th>\n",
       "      <th></th>\n",
       "      <th>sum</th>\n",
       "      <th>sum_gb</th>\n",
       "    </tr>\n",
       "    <tr>\n",
       "      <th>month_session</th>\n",
       "      <th>user_id</th>\n",
       "      <th></th>\n",
       "      <th></th>\n",
       "    </tr>\n",
       "  </thead>\n",
       "  <tbody>\n",
       "    <tr>\n",
       "      <th rowspan=\"5\" valign=\"top\">1</th>\n",
       "      <th>1005</th>\n",
       "      <td>2727.97</td>\n",
       "      <td>2.664033</td>\n",
       "    </tr>\n",
       "    <tr>\n",
       "      <th>1032</th>\n",
       "      <td>24127.69</td>\n",
       "      <td>23.562197</td>\n",
       "    </tr>\n",
       "    <tr>\n",
       "      <th>1045</th>\n",
       "      <td>2346.71</td>\n",
       "      <td>2.291709</td>\n",
       "    </tr>\n",
       "    <tr>\n",
       "      <th>1055</th>\n",
       "      <td>17090.88</td>\n",
       "      <td>16.690313</td>\n",
       "    </tr>\n",
       "    <tr>\n",
       "      <th>1071</th>\n",
       "      <td>15604.34</td>\n",
       "      <td>15.238613</td>\n",
       "    </tr>\n",
       "  </tbody>\n",
       "</table>\n",
       "</div>"
      ],
      "text/plain": [
       "                            sum     sum_gb\n",
       "month_session user_id                     \n",
       "1             1005      2727.97   2.664033\n",
       "              1032     24127.69  23.562197\n",
       "              1045      2346.71   2.291709\n",
       "              1055     17090.88  16.690313\n",
       "              1071     15604.34  15.238613"
      ]
     },
     "metadata": {},
     "output_type": "display_data"
    }
   ],
   "source": [
    "# Сгруппируем показатели объема израсходованного интернет-трафика за месяц сообщений для тарифного плана smart\n",
    "df_internet_all_smart_all = df_internet_all[df_internet_all['tariff'] == 'smart'].groupby(['month_session', 'user_id']).agg({'mb_used':['sum']})\n",
    "df_internet_all_smart_all.columns = ['sum']\n",
    "df_internet_all_smart_all['sum_gb'] = df_internet_all_smart_all['sum'] / 1024\n",
    "display(df_internet_all_smart_all.head())"
   ]
  },
  {
   "cell_type": "code",
   "execution_count": 64,
   "metadata": {
    "scrolled": true
   },
   "outputs": [
    {
     "data": {
      "image/png": "[encoded data removed]",
      "text/plain": [
       "<Figure size 720x504 with 1 Axes>"
      ]
     },
     "metadata": {
      "needs_background": "light"
     },
     "output_type": "display_data"
    }
   ],
   "source": [
    "# Построим гистограмму для объема трафика\n",
    "hist_pattern(df_internet_all_smart_all['sum_gb'], 100, 'internet_gb_smart')"
   ]
  },
  {
   "cell_type": "code",
   "execution_count": 65,
   "metadata": {},
   "outputs": [
    {
     "data": {
      "image/png": "[encoded data removed]",
      "text/plain": [
       "<Figure size 720x504 with 1 Axes>"
      ]
     },
     "metadata": {
      "needs_background": "light"
     },
     "output_type": "display_data"
    }
   ],
   "source": [
    "# Построим двойную гистограмму для объема трафика по обоим тарифным планам\n",
    "hist_pattern_dabl(df_internet_all_ultra_all['sum_gb'], df_internet_all_smart_all['sum_gb'], 100, ['ultra', 'smart'], 'internet_count')"
   ]
  },
  {
   "cell_type": "code",
   "execution_count": 66,
   "metadata": {},
   "outputs": [],
   "source": [
    "# Создадим cписки для записи значений показателей\n",
    "tp_ultra_internet = []\n",
    "tp_smart_internet = []"
   ]
  },
  {
   "cell_type": "code",
   "execution_count": 67,
   "metadata": {},
   "outputs": [],
   "source": [
    "# Рассчиаем показатели объема израсходованного интернет-трафика за месяц сообщений для ТП ultra\n",
    "tp_ultra_internet.append(df_internet_all_ultra_all['sum_gb'].mean())\n",
    "tp_ultra_internet.append(np.var(df_internet_all_ultra_all['sum_gb'], ddof=1))\n",
    "tp_ultra_internet.append(np.std(df_internet_all_ultra_all['sum_gb'], ddof=1))"
   ]
  },
  {
   "cell_type": "code",
   "execution_count": 68,
   "metadata": {},
   "outputs": [],
   "source": [
    "# Рассчиаем показатели объема израсходованного интернет-трафика за месяц сообщений для ТП smart\n",
    "tp_smart_internet.append(df_internet_all_smart_all['sum_gb'].mean())\n",
    "tp_smart_internet.append(np.var(df_internet_all_smart_all['sum_gb'], ddof=1))\n",
    "tp_smart_internet.append(np.std(df_internet_all_smart_all['sum_gb'], ddof=1))"
   ]
  },
  {
   "cell_type": "markdown",
   "metadata": {},
   "source": [
    "### Сведение показателей среднего количества, дисперсии и стандартного отклонения в общую таблицу <a id='3.4'></a>"
   ]
  },
  {
   "cell_type": "markdown",
   "metadata": {},
   "source": [
    "Выведем все статистические показатели в одну таблицу"
   ]
  },
  {
   "cell_type": "code",
   "execution_count": 69,
   "metadata": {},
   "outputs": [
    {
     "data": {
      "text/html": [
       "<div>\n",
       "<style scoped>\n",
       "    .dataframe tbody tr th:only-of-type {\n",
       "        vertical-align: middle;\n",
       "    }\n",
       "\n",
       "    .dataframe tbody tr th {\n",
       "        vertical-align: top;\n",
       "    }\n",
       "\n",
       "    .dataframe thead th {\n",
       "        text-align: right;\n",
       "    }\n",
       "</style>\n",
       "<table border=\"1\" class=\"dataframe\">\n",
       "  <thead>\n",
       "    <tr style=\"text-align: right;\">\n",
       "      <th></th>\n",
       "      <th>indicator</th>\n",
       "      <th>ultra_cell_count</th>\n",
       "      <th>smart_cell_count</th>\n",
       "      <th>ultra_cell_sum</th>\n",
       "      <th>smart_cell_sum</th>\n",
       "      <th>ultra_messages</th>\n",
       "      <th>smart_messages</th>\n",
       "      <th>ultra_internet</th>\n",
       "      <th>snart_internet</th>\n",
       "    </tr>\n",
       "  </thead>\n",
       "  <tbody>\n",
       "    <tr>\n",
       "      <th>0</th>\n",
       "      <td>mean</td>\n",
       "      <td>61.613516</td>\n",
       "      <td>47.116614</td>\n",
       "      <td>517.013939</td>\n",
       "      <td>395.847744</td>\n",
       "      <td>61.161006</td>\n",
       "      <td>38.716441</td>\n",
       "      <td>19.207505</td>\n",
       "      <td>15.835607</td>\n",
       "    </tr>\n",
       "    <tr>\n",
       "      <th>1</th>\n",
       "      <td>variance</td>\n",
       "      <td>1168.901212</td>\n",
       "      <td>436.270629</td>\n",
       "      <td>83232.298905</td>\n",
       "      <td>31940.462096</td>\n",
       "      <td>2109.659183</td>\n",
       "      <td>717.594201</td>\n",
       "      <td>94.284295</td>\n",
       "      <td>32.768203</td>\n",
       "    </tr>\n",
       "    <tr>\n",
       "      <th>2</th>\n",
       "      <td>std</td>\n",
       "      <td>34.189197</td>\n",
       "      <td>20.887092</td>\n",
       "      <td>288.500085</td>\n",
       "      <td>178.718947</td>\n",
       "      <td>45.931026</td>\n",
       "      <td>26.787949</td>\n",
       "      <td>9.710010</td>\n",
       "      <td>5.724352</td>\n",
       "    </tr>\n",
       "  </tbody>\n",
       "</table>\n",
       "</div>"
      ],
      "text/plain": [
       "  indicator  ultra_cell_count  smart_cell_count  ultra_cell_sum  \\\n",
       "0      mean         61.613516         47.116614      517.013939   \n",
       "1  variance       1168.901212        436.270629    83232.298905   \n",
       "2       std         34.189197         20.887092      288.500085   \n",
       "\n",
       "   smart_cell_sum  ultra_messages  smart_messages  ultra_internet  \\\n",
       "0      395.847744       61.161006       38.716441       19.207505   \n",
       "1    31940.462096     2109.659183      717.594201       94.284295   \n",
       "2      178.718947       45.931026       26.787949        9.710010   \n",
       "\n",
       "   snart_internet  \n",
       "0       15.835607  \n",
       "1       32.768203  \n",
       "2        5.724352  "
      ]
     },
     "metadata": {},
     "output_type": "display_data"
    }
   ],
   "source": [
    "# Выведем все статистические показатели в одну таблицу\n",
    "df_stat = pd.DataFrame({\n",
    "    'indicator': ['mean', 'variance', 'std'], \n",
    "    'ultra_cell_count': tp_ultra_cell_count, \n",
    "    'smart_cell_count': tp_smart_cell_count,\n",
    "    'ultra_cell_sum': tp_ultra_cell_sum,\n",
    "    'smart_cell_sum': tp_smart_cell_sum,\n",
    "    'ultra_messages': tp_ultra_messages,\n",
    "    'smart_messages': tp_smart_messages,\n",
    "    'ultra_internet': tp_ultra_internet,\n",
    "    'snart_internet': tp_smart_internet\n",
    "})\n",
    "display(df_stat)"
   ]
  },
  {
   "cell_type": "markdown",
   "metadata": {},
   "source": [
    "### Объединение таблиц и расчет расходов абонентов <a id='3.5'></a>"
   ]
  },
  {
   "cell_type": "markdown",
   "metadata": {},
   "source": [
    "**Создание таблицы вызовов каждого абонента в месяц**\n",
    "1. Сгруппировать по ID-номеру абонента и месяцу использования тарифного плана\n",
    "2. Рассчитать данные о сумме использованных минут каждым абонентом за месяц"
   ]
  },
  {
   "cell_type": "code",
   "execution_count": 70,
   "metadata": {},
   "outputs": [],
   "source": [
    "# Рассчитаем данные о сумме использованных минут каждым абонентом за месяц\n",
    "df_calls_all_short = df_calls_all.groupby(['user_id', 'month_call', 'tariff', 'city'])['duration_up'].sum().reset_index()"
   ]
  },
  {
   "cell_type": "code",
   "execution_count": 71,
   "metadata": {},
   "outputs": [],
   "source": [
    "# Изменим название итогового столбца\n",
    "df_calls_all_short.columns = ['user_id', 'month_call', 'tariff', 'city', 'all_call']\n",
    "\n",
    "# В итоговом столбце изменим тип данных на int\n",
    "df_calls_all_short['all_call'] = df_calls_all_short['all_call'].astype('int')"
   ]
  },
  {
   "cell_type": "code",
   "execution_count": 72,
   "metadata": {},
   "outputs": [
    {
     "data": {
      "text/plain": [
       "0"
      ]
     },
     "execution_count": 72,
     "metadata": {},
     "output_type": "execute_result"
    }
   ],
   "source": [
    "# Проверить на наличие дубликатов\n",
    "df_calls_all_short.duplicated().sum()"
   ]
  },
  {
   "cell_type": "code",
   "execution_count": 73,
   "metadata": {},
   "outputs": [
    {
     "data": {
      "text/html": [
       "<div>\n",
       "<style scoped>\n",
       "    .dataframe tbody tr th:only-of-type {\n",
       "        vertical-align: middle;\n",
       "    }\n",
       "\n",
       "    .dataframe tbody tr th {\n",
       "        vertical-align: top;\n",
       "    }\n",
       "\n",
       "    .dataframe thead th {\n",
       "        text-align: right;\n",
       "    }\n",
       "</style>\n",
       "<table border=\"1\" class=\"dataframe\">\n",
       "  <thead>\n",
       "    <tr style=\"text-align: right;\">\n",
       "      <th></th>\n",
       "      <th>user_id</th>\n",
       "      <th>month_call</th>\n",
       "      <th>tariff</th>\n",
       "      <th>city</th>\n",
       "      <th>all_call</th>\n",
       "    </tr>\n",
       "  </thead>\n",
       "  <tbody>\n",
       "    <tr>\n",
       "      <th>0</th>\n",
       "      <td>1000</td>\n",
       "      <td>5</td>\n",
       "      <td>ultra</td>\n",
       "      <td>Краснодар</td>\n",
       "      <td>159</td>\n",
       "    </tr>\n",
       "    <tr>\n",
       "      <th>1</th>\n",
       "      <td>1000</td>\n",
       "      <td>6</td>\n",
       "      <td>ultra</td>\n",
       "      <td>Краснодар</td>\n",
       "      <td>172</td>\n",
       "    </tr>\n",
       "    <tr>\n",
       "      <th>2</th>\n",
       "      <td>1000</td>\n",
       "      <td>7</td>\n",
       "      <td>ultra</td>\n",
       "      <td>Краснодар</td>\n",
       "      <td>340</td>\n",
       "    </tr>\n",
       "    <tr>\n",
       "      <th>3</th>\n",
       "      <td>1000</td>\n",
       "      <td>8</td>\n",
       "      <td>ultra</td>\n",
       "      <td>Краснодар</td>\n",
       "      <td>408</td>\n",
       "    </tr>\n",
       "    <tr>\n",
       "      <th>4</th>\n",
       "      <td>1000</td>\n",
       "      <td>9</td>\n",
       "      <td>ultra</td>\n",
       "      <td>Краснодар</td>\n",
       "      <td>466</td>\n",
       "    </tr>\n",
       "  </tbody>\n",
       "</table>\n",
       "</div>"
      ],
      "text/plain": [
       "   user_id  month_call tariff       city  all_call\n",
       "0     1000           5  ultra  Краснодар       159\n",
       "1     1000           6  ultra  Краснодар       172\n",
       "2     1000           7  ultra  Краснодар       340\n",
       "3     1000           8  ultra  Краснодар       408\n",
       "4     1000           9  ultra  Краснодар       466"
      ]
     },
     "metadata": {},
     "output_type": "display_data"
    }
   ],
   "source": [
    "display(df_calls_all_short.head())"
   ]
  },
  {
   "cell_type": "code",
   "execution_count": 74,
   "metadata": {},
   "outputs": [
    {
     "name": "stdout",
     "output_type": "stream",
     "text": [
      "<class 'pandas.core.frame.DataFrame'>\n",
      "RangeIndex: 3168 entries, 0 to 3167\n",
      "Data columns (total 5 columns):\n",
      " #   Column      Non-Null Count  Dtype \n",
      "---  ------      --------------  ----- \n",
      " 0   user_id     3168 non-null   int64 \n",
      " 1   month_call  3168 non-null   int64 \n",
      " 2   tariff      3168 non-null   object\n",
      " 3   city        3168 non-null   object\n",
      " 4   all_call    3168 non-null   int64 \n",
      "dtypes: int64(3), object(2)\n",
      "memory usage: 123.9+ KB\n"
     ]
    }
   ],
   "source": [
    "df_calls_all_short.info()"
   ]
  },
  {
   "cell_type": "markdown",
   "metadata": {},
   "source": [
    "**Создание таблицы сообщений каждого абонента в месяц**\n",
    "1. Сгруппировать по ID-номеру абонента и месяцу использования тарифного плана\n",
    "2. Рассчитать данные о количестве сообщений каждым абонентом за месяц"
   ]
  },
  {
   "cell_type": "code",
   "execution_count": 75,
   "metadata": {},
   "outputs": [],
   "source": [
    "# Рассчитаем данные о количестве сообщений каждым абонентом за месяц\n",
    "df_messages_all_short = df_messages_all.groupby(['user_id', 'month_messag', 'tariff'])['city'].count().reset_index()"
   ]
  },
  {
   "cell_type": "code",
   "execution_count": 76,
   "metadata": {},
   "outputs": [],
   "source": [
    "# Изменим название итогового столбца\n",
    "df_messages_all_short.columns = ['user_id', 'month_messag', 'tariff', 'all_messag']\n",
    "\n",
    "# В итоговом столбце изменим тип данных на int\n",
    "df_messages_all_short['all_messag'] = df_messages_all_short['all_messag'].astype('int')"
   ]
  },
  {
   "cell_type": "code",
   "execution_count": 77,
   "metadata": {},
   "outputs": [
    {
     "data": {
      "text/plain": [
       "0"
      ]
     },
     "execution_count": 77,
     "metadata": {},
     "output_type": "execute_result"
    }
   ],
   "source": [
    "# Проверить на наличие дубликатов\n",
    "df_messages_all_short.duplicated().sum()"
   ]
  },
  {
   "cell_type": "code",
   "execution_count": 78,
   "metadata": {},
   "outputs": [
    {
     "data": {
      "text/html": [
       "<div>\n",
       "<style scoped>\n",
       "    .dataframe tbody tr th:only-of-type {\n",
       "        vertical-align: middle;\n",
       "    }\n",
       "\n",
       "    .dataframe tbody tr th {\n",
       "        vertical-align: top;\n",
       "    }\n",
       "\n",
       "    .dataframe thead th {\n",
       "        text-align: right;\n",
       "    }\n",
       "</style>\n",
       "<table border=\"1\" class=\"dataframe\">\n",
       "  <thead>\n",
       "    <tr style=\"text-align: right;\">\n",
       "      <th></th>\n",
       "      <th>user_id</th>\n",
       "      <th>month_messag</th>\n",
       "      <th>tariff</th>\n",
       "      <th>all_messag</th>\n",
       "    </tr>\n",
       "  </thead>\n",
       "  <tbody>\n",
       "    <tr>\n",
       "      <th>0</th>\n",
       "      <td>1000</td>\n",
       "      <td>5</td>\n",
       "      <td>ultra</td>\n",
       "      <td>22</td>\n",
       "    </tr>\n",
       "    <tr>\n",
       "      <th>1</th>\n",
       "      <td>1000</td>\n",
       "      <td>6</td>\n",
       "      <td>ultra</td>\n",
       "      <td>60</td>\n",
       "    </tr>\n",
       "    <tr>\n",
       "      <th>2</th>\n",
       "      <td>1000</td>\n",
       "      <td>7</td>\n",
       "      <td>ultra</td>\n",
       "      <td>75</td>\n",
       "    </tr>\n",
       "    <tr>\n",
       "      <th>3</th>\n",
       "      <td>1000</td>\n",
       "      <td>8</td>\n",
       "      <td>ultra</td>\n",
       "      <td>81</td>\n",
       "    </tr>\n",
       "    <tr>\n",
       "      <th>4</th>\n",
       "      <td>1000</td>\n",
       "      <td>9</td>\n",
       "      <td>ultra</td>\n",
       "      <td>57</td>\n",
       "    </tr>\n",
       "  </tbody>\n",
       "</table>\n",
       "</div>"
      ],
      "text/plain": [
       "   user_id  month_messag tariff  all_messag\n",
       "0     1000             5  ultra          22\n",
       "1     1000             6  ultra          60\n",
       "2     1000             7  ultra          75\n",
       "3     1000             8  ultra          81\n",
       "4     1000             9  ultra          57"
      ]
     },
     "metadata": {},
     "output_type": "display_data"
    }
   ],
   "source": [
    "display(df_messages_all_short.head())"
   ]
  },
  {
   "cell_type": "code",
   "execution_count": 79,
   "metadata": {},
   "outputs": [
    {
     "name": "stdout",
     "output_type": "stream",
     "text": [
      "<class 'pandas.core.frame.DataFrame'>\n",
      "RangeIndex: 2717 entries, 0 to 2716\n",
      "Data columns (total 4 columns):\n",
      " #   Column        Non-Null Count  Dtype \n",
      "---  ------        --------------  ----- \n",
      " 0   user_id       2717 non-null   int64 \n",
      " 1   month_messag  2717 non-null   int64 \n",
      " 2   tariff        2717 non-null   object\n",
      " 3   all_messag    2717 non-null   int64 \n",
      "dtypes: int64(3), object(1)\n",
      "memory usage: 85.0+ KB\n"
     ]
    }
   ],
   "source": [
    "df_messages_all_short.info()"
   ]
  },
  {
   "cell_type": "markdown",
   "metadata": {},
   "source": [
    "**Создание таблицы объема израсходованного интернет-трафика каждого абонента в месяц**\n",
    "1. Сгруппировать по ID-номеру абонента и месяцу использования тарифного плана\n",
    "2. Рассчитать данные об объеме израсходованного интернет-трафика каждым абонентом за месяц"
   ]
  },
  {
   "cell_type": "code",
   "execution_count": 80,
   "metadata": {},
   "outputs": [],
   "source": [
    "# Рассчитаем данные об объеме израсходованного интернет-трафика каждым абонентом за месяц\n",
    "df_internet_all_short = df_internet_all.groupby(['user_id', 'month_session', 'tariff', 'city'])['mb_used'].sum().reset_index()"
   ]
  },
  {
   "cell_type": "code",
   "execution_count": 81,
   "metadata": {},
   "outputs": [],
   "source": [
    "# Изменим название итогового столбца\n",
    "df_internet_all_short.columns = ['user_id', 'month_session', 'tariff', 'city', 'all_session']\n",
    "\n",
    "# В итоговом столбце изменим тип данных на int\n",
    "df_internet_all_short['all_session'] = df_internet_all_short['all_session'].astype('int')"
   ]
  },
  {
   "cell_type": "code",
   "execution_count": 82,
   "metadata": {},
   "outputs": [
    {
     "data": {
      "text/plain": [
       "0"
      ]
     },
     "execution_count": 82,
     "metadata": {},
     "output_type": "execute_result"
    }
   ],
   "source": [
    "# Проверить на наличие дубликатов\n",
    "df_internet_all_short.duplicated().sum()"
   ]
  },
  {
   "cell_type": "code",
   "execution_count": 83,
   "metadata": {},
   "outputs": [
    {
     "data": {
      "text/html": [
       "<div>\n",
       "<style scoped>\n",
       "    .dataframe tbody tr th:only-of-type {\n",
       "        vertical-align: middle;\n",
       "    }\n",
       "\n",
       "    .dataframe tbody tr th {\n",
       "        vertical-align: top;\n",
       "    }\n",
       "\n",
       "    .dataframe thead th {\n",
       "        text-align: right;\n",
       "    }\n",
       "</style>\n",
       "<table border=\"1\" class=\"dataframe\">\n",
       "  <thead>\n",
       "    <tr style=\"text-align: right;\">\n",
       "      <th></th>\n",
       "      <th>user_id</th>\n",
       "      <th>month_session</th>\n",
       "      <th>tariff</th>\n",
       "      <th>city</th>\n",
       "      <th>all_session</th>\n",
       "    </tr>\n",
       "  </thead>\n",
       "  <tbody>\n",
       "    <tr>\n",
       "      <th>0</th>\n",
       "      <td>1000</td>\n",
       "      <td>5</td>\n",
       "      <td>ultra</td>\n",
       "      <td>Краснодар</td>\n",
       "      <td>2253</td>\n",
       "    </tr>\n",
       "    <tr>\n",
       "      <th>1</th>\n",
       "      <td>1000</td>\n",
       "      <td>6</td>\n",
       "      <td>ultra</td>\n",
       "      <td>Краснодар</td>\n",
       "      <td>23233</td>\n",
       "    </tr>\n",
       "    <tr>\n",
       "      <th>2</th>\n",
       "      <td>1000</td>\n",
       "      <td>7</td>\n",
       "      <td>ultra</td>\n",
       "      <td>Краснодар</td>\n",
       "      <td>14003</td>\n",
       "    </tr>\n",
       "    <tr>\n",
       "      <th>3</th>\n",
       "      <td>1000</td>\n",
       "      <td>8</td>\n",
       "      <td>ultra</td>\n",
       "      <td>Краснодар</td>\n",
       "      <td>14055</td>\n",
       "    </tr>\n",
       "    <tr>\n",
       "      <th>4</th>\n",
       "      <td>1000</td>\n",
       "      <td>9</td>\n",
       "      <td>ultra</td>\n",
       "      <td>Краснодар</td>\n",
       "      <td>14568</td>\n",
       "    </tr>\n",
       "  </tbody>\n",
       "</table>\n",
       "</div>"
      ],
      "text/plain": [
       "   user_id  month_session tariff       city  all_session\n",
       "0     1000              5  ultra  Краснодар         2253\n",
       "1     1000              6  ultra  Краснодар        23233\n",
       "2     1000              7  ultra  Краснодар        14003\n",
       "3     1000              8  ultra  Краснодар        14055\n",
       "4     1000              9  ultra  Краснодар        14568"
      ]
     },
     "metadata": {},
     "output_type": "display_data"
    }
   ],
   "source": [
    "display(df_internet_all_short.head())"
   ]
  },
  {
   "cell_type": "code",
   "execution_count": 84,
   "metadata": {},
   "outputs": [
    {
     "name": "stdout",
     "output_type": "stream",
     "text": [
      "<class 'pandas.core.frame.DataFrame'>\n",
      "RangeIndex: 3203 entries, 0 to 3202\n",
      "Data columns (total 5 columns):\n",
      " #   Column         Non-Null Count  Dtype \n",
      "---  ------         --------------  ----- \n",
      " 0   user_id        3203 non-null   int64 \n",
      " 1   month_session  3203 non-null   int64 \n",
      " 2   tariff         3203 non-null   object\n",
      " 3   city           3203 non-null   object\n",
      " 4   all_session    3203 non-null   int64 \n",
      "dtypes: int64(3), object(2)\n",
      "memory usage: 125.2+ KB\n"
     ]
    }
   ],
   "source": [
    "df_internet_all_short.info()"
   ]
  },
  {
   "cell_type": "markdown",
   "metadata": {},
   "source": [
    "**Объединение таблиц вызовов, сообщений и объема израсходованного интернет-трафика.**"
   ]
  },
  {
   "cell_type": "code",
   "execution_count": 85,
   "metadata": {},
   "outputs": [],
   "source": [
    "# Удалим лишние столбцы (tariff и city)\n",
    "df_calls_all_short.drop(['tariff', 'city'], axis=1, inplace=True)\n",
    "df_messages_all_short.drop(['tariff'], axis=1, inplace=True)\n",
    "df_internet_all_short.drop(['tariff', 'city'], axis=1, inplace=True)\n",
    "\n",
    "# Подготовим таблицу df_users\n",
    "df_users_short = df_users.loc[:, ['user_id', 'tariff', 'city']]\n",
    "\n",
    "# Унифицируем название столбцов\n",
    "df_calls_all_short.columns = ['user_id', 'month', 'calls']\n",
    "df_messages_all_short.columns = ['user_id', 'month', 'messags']\n",
    "df_internet_all_short.columns = ['user_id', 'month', 'sessions']"
   ]
  },
  {
   "cell_type": "code",
   "execution_count": 86,
   "metadata": {
    "scrolled": true
   },
   "outputs": [],
   "source": [
    "#№ Объединим все таблицы по столбцу conc\n",
    "df_all_short_1 = df_calls_all_short.merge(df_messages_all_short, on=['user_id', 'month'], how='outer')\n",
    "df_all_short_2 = df_all_short_1.merge(df_internet_all_short, on=['user_id', 'month'], how='outer')\n",
    "df_all_short = df_all_short_2.merge(df_users_short, on='user_id', how='left')"
   ]
  },
  {
   "cell_type": "code",
   "execution_count": 87,
   "metadata": {},
   "outputs": [],
   "source": [
    "# Заменим все пропуски на 0\n",
    "df_all_short = df_all_short.fillna(0)"
   ]
  },
  {
   "cell_type": "code",
   "execution_count": 88,
   "metadata": {
    "scrolled": true
   },
   "outputs": [
    {
     "data": {
      "text/html": [
       "<div>\n",
       "<style scoped>\n",
       "    .dataframe tbody tr th:only-of-type {\n",
       "        vertical-align: middle;\n",
       "    }\n",
       "\n",
       "    .dataframe tbody tr th {\n",
       "        vertical-align: top;\n",
       "    }\n",
       "\n",
       "    .dataframe thead th {\n",
       "        text-align: right;\n",
       "    }\n",
       "</style>\n",
       "<table border=\"1\" class=\"dataframe\">\n",
       "  <thead>\n",
       "    <tr style=\"text-align: right;\">\n",
       "      <th></th>\n",
       "      <th>user_id</th>\n",
       "      <th>month</th>\n",
       "      <th>calls</th>\n",
       "      <th>messags</th>\n",
       "      <th>sessions</th>\n",
       "      <th>tariff</th>\n",
       "      <th>city</th>\n",
       "    </tr>\n",
       "  </thead>\n",
       "  <tbody>\n",
       "    <tr>\n",
       "      <th>0</th>\n",
       "      <td>1000</td>\n",
       "      <td>5</td>\n",
       "      <td>159.0</td>\n",
       "      <td>22.0</td>\n",
       "      <td>2253.0</td>\n",
       "      <td>ultra</td>\n",
       "      <td>Краснодар</td>\n",
       "    </tr>\n",
       "    <tr>\n",
       "      <th>1</th>\n",
       "      <td>1000</td>\n",
       "      <td>6</td>\n",
       "      <td>172.0</td>\n",
       "      <td>60.0</td>\n",
       "      <td>23233.0</td>\n",
       "      <td>ultra</td>\n",
       "      <td>Краснодар</td>\n",
       "    </tr>\n",
       "    <tr>\n",
       "      <th>2</th>\n",
       "      <td>1000</td>\n",
       "      <td>7</td>\n",
       "      <td>340.0</td>\n",
       "      <td>75.0</td>\n",
       "      <td>14003.0</td>\n",
       "      <td>ultra</td>\n",
       "      <td>Краснодар</td>\n",
       "    </tr>\n",
       "    <tr>\n",
       "      <th>3</th>\n",
       "      <td>1000</td>\n",
       "      <td>8</td>\n",
       "      <td>408.0</td>\n",
       "      <td>81.0</td>\n",
       "      <td>14055.0</td>\n",
       "      <td>ultra</td>\n",
       "      <td>Краснодар</td>\n",
       "    </tr>\n",
       "    <tr>\n",
       "      <th>4</th>\n",
       "      <td>1000</td>\n",
       "      <td>9</td>\n",
       "      <td>466.0</td>\n",
       "      <td>57.0</td>\n",
       "      <td>14568.0</td>\n",
       "      <td>ultra</td>\n",
       "      <td>Краснодар</td>\n",
       "    </tr>\n",
       "  </tbody>\n",
       "</table>\n",
       "</div>"
      ],
      "text/plain": [
       "   user_id  month  calls  messags  sessions tariff       city\n",
       "0     1000      5  159.0     22.0    2253.0  ultra  Краснодар\n",
       "1     1000      6  172.0     60.0   23233.0  ultra  Краснодар\n",
       "2     1000      7  340.0     75.0   14003.0  ultra  Краснодар\n",
       "3     1000      8  408.0     81.0   14055.0  ultra  Краснодар\n",
       "4     1000      9  466.0     57.0   14568.0  ultra  Краснодар"
      ]
     },
     "metadata": {},
     "output_type": "display_data"
    }
   ],
   "source": [
    "display(df_all_short.head())"
   ]
  },
  {
   "cell_type": "code",
   "execution_count": 89,
   "metadata": {
    "scrolled": true
   },
   "outputs": [
    {
     "name": "stdout",
     "output_type": "stream",
     "text": [
      "<class 'pandas.core.frame.DataFrame'>\n",
      "Int64Index: 3214 entries, 0 to 3213\n",
      "Data columns (total 7 columns):\n",
      " #   Column    Non-Null Count  Dtype  \n",
      "---  ------    --------------  -----  \n",
      " 0   user_id   3214 non-null   int64  \n",
      " 1   month     3214 non-null   int64  \n",
      " 2   calls     3214 non-null   float64\n",
      " 3   messags   3214 non-null   float64\n",
      " 4   sessions  3214 non-null   float64\n",
      " 5   tariff    3214 non-null   object \n",
      " 6   city      3214 non-null   object \n",
      "dtypes: float64(3), int64(2), object(2)\n",
      "memory usage: 200.9+ KB\n"
     ]
    }
   ],
   "source": [
    "df_all_short.info()"
   ]
  },
  {
   "cell_type": "code",
   "execution_count": 90,
   "metadata": {},
   "outputs": [
    {
     "data": {
      "text/html": [
       "<div>\n",
       "<style scoped>\n",
       "    .dataframe tbody tr th:only-of-type {\n",
       "        vertical-align: middle;\n",
       "    }\n",
       "\n",
       "    .dataframe tbody tr th {\n",
       "        vertical-align: top;\n",
       "    }\n",
       "\n",
       "    .dataframe thead th {\n",
       "        text-align: right;\n",
       "    }\n",
       "</style>\n",
       "<table border=\"1\" class=\"dataframe\">\n",
       "  <thead>\n",
       "    <tr style=\"text-align: right;\">\n",
       "      <th></th>\n",
       "      <th>messages_included</th>\n",
       "      <th>minutes_included</th>\n",
       "      <th>rub_monthly_fee</th>\n",
       "      <th>rub_per_gb</th>\n",
       "      <th>rub_per_message</th>\n",
       "      <th>rub_per_minute</th>\n",
       "      <th>tariff</th>\n",
       "      <th>gb_per_month_included</th>\n",
       "    </tr>\n",
       "  </thead>\n",
       "  <tbody>\n",
       "    <tr>\n",
       "      <th>0</th>\n",
       "      <td>50</td>\n",
       "      <td>500</td>\n",
       "      <td>550</td>\n",
       "      <td>200</td>\n",
       "      <td>3</td>\n",
       "      <td>3</td>\n",
       "      <td>smart</td>\n",
       "      <td>15</td>\n",
       "    </tr>\n",
       "    <tr>\n",
       "      <th>1</th>\n",
       "      <td>1000</td>\n",
       "      <td>3000</td>\n",
       "      <td>1950</td>\n",
       "      <td>150</td>\n",
       "      <td>1</td>\n",
       "      <td>1</td>\n",
       "      <td>ultra</td>\n",
       "      <td>30</td>\n",
       "    </tr>\n",
       "  </tbody>\n",
       "</table>\n",
       "</div>"
      ],
      "text/plain": [
       "   messages_included  minutes_included  rub_monthly_fee  rub_per_gb  \\\n",
       "0                 50               500              550         200   \n",
       "1               1000              3000             1950         150   \n",
       "\n",
       "   rub_per_message  rub_per_minute tariff  gb_per_month_included  \n",
       "0                3               3  smart                     15  \n",
       "1                1               1  ultra                     30  "
      ]
     },
     "metadata": {},
     "output_type": "display_data"
    }
   ],
   "source": [
    "# Подготовим таблицу tariffs\n",
    "df_tariffs['gb_per_month_included'] = df_tariffs['mb_per_month_included'] / 1024\n",
    "df_tariffs['gb_per_month_included'] = df_tariffs['gb_per_month_included'].astype('int')\n",
    "df_tariffs.drop(['mb_per_month_included'], axis=1, inplace=True)\n",
    "df_tariffs = df_tariffs.rename(columns={'tariff_name': 'tariff'})\n",
    "display(df_tariffs.head())"
   ]
  },
  {
   "cell_type": "code",
   "execution_count": 91,
   "metadata": {},
   "outputs": [
    {
     "data": {
      "text/html": [
       "<div>\n",
       "<style scoped>\n",
       "    .dataframe tbody tr th:only-of-type {\n",
       "        vertical-align: middle;\n",
       "    }\n",
       "\n",
       "    .dataframe tbody tr th {\n",
       "        vertical-align: top;\n",
       "    }\n",
       "\n",
       "    .dataframe thead th {\n",
       "        text-align: right;\n",
       "    }\n",
       "</style>\n",
       "<table border=\"1\" class=\"dataframe\">\n",
       "  <thead>\n",
       "    <tr style=\"text-align: right;\">\n",
       "      <th></th>\n",
       "      <th>user_id</th>\n",
       "      <th>month</th>\n",
       "      <th>calls</th>\n",
       "      <th>messags</th>\n",
       "      <th>sessions</th>\n",
       "      <th>tariff</th>\n",
       "      <th>city</th>\n",
       "      <th>messages_included</th>\n",
       "      <th>minutes_included</th>\n",
       "      <th>rub_monthly_fee</th>\n",
       "      <th>rub_per_gb</th>\n",
       "      <th>rub_per_message</th>\n",
       "      <th>rub_per_minute</th>\n",
       "      <th>gb_per_month_included</th>\n",
       "    </tr>\n",
       "  </thead>\n",
       "  <tbody>\n",
       "    <tr>\n",
       "      <th>0</th>\n",
       "      <td>1000</td>\n",
       "      <td>5</td>\n",
       "      <td>159.0</td>\n",
       "      <td>22.0</td>\n",
       "      <td>2253.0</td>\n",
       "      <td>ultra</td>\n",
       "      <td>Краснодар</td>\n",
       "      <td>1000</td>\n",
       "      <td>3000</td>\n",
       "      <td>1950</td>\n",
       "      <td>150</td>\n",
       "      <td>1</td>\n",
       "      <td>1</td>\n",
       "      <td>30</td>\n",
       "    </tr>\n",
       "    <tr>\n",
       "      <th>1</th>\n",
       "      <td>1000</td>\n",
       "      <td>6</td>\n",
       "      <td>172.0</td>\n",
       "      <td>60.0</td>\n",
       "      <td>23233.0</td>\n",
       "      <td>ultra</td>\n",
       "      <td>Краснодар</td>\n",
       "      <td>1000</td>\n",
       "      <td>3000</td>\n",
       "      <td>1950</td>\n",
       "      <td>150</td>\n",
       "      <td>1</td>\n",
       "      <td>1</td>\n",
       "      <td>30</td>\n",
       "    </tr>\n",
       "    <tr>\n",
       "      <th>2</th>\n",
       "      <td>1000</td>\n",
       "      <td>7</td>\n",
       "      <td>340.0</td>\n",
       "      <td>75.0</td>\n",
       "      <td>14003.0</td>\n",
       "      <td>ultra</td>\n",
       "      <td>Краснодар</td>\n",
       "      <td>1000</td>\n",
       "      <td>3000</td>\n",
       "      <td>1950</td>\n",
       "      <td>150</td>\n",
       "      <td>1</td>\n",
       "      <td>1</td>\n",
       "      <td>30</td>\n",
       "    </tr>\n",
       "    <tr>\n",
       "      <th>3</th>\n",
       "      <td>1000</td>\n",
       "      <td>8</td>\n",
       "      <td>408.0</td>\n",
       "      <td>81.0</td>\n",
       "      <td>14055.0</td>\n",
       "      <td>ultra</td>\n",
       "      <td>Краснодар</td>\n",
       "      <td>1000</td>\n",
       "      <td>3000</td>\n",
       "      <td>1950</td>\n",
       "      <td>150</td>\n",
       "      <td>1</td>\n",
       "      <td>1</td>\n",
       "      <td>30</td>\n",
       "    </tr>\n",
       "    <tr>\n",
       "      <th>4</th>\n",
       "      <td>1000</td>\n",
       "      <td>9</td>\n",
       "      <td>466.0</td>\n",
       "      <td>57.0</td>\n",
       "      <td>14568.0</td>\n",
       "      <td>ultra</td>\n",
       "      <td>Краснодар</td>\n",
       "      <td>1000</td>\n",
       "      <td>3000</td>\n",
       "      <td>1950</td>\n",
       "      <td>150</td>\n",
       "      <td>1</td>\n",
       "      <td>1</td>\n",
       "      <td>30</td>\n",
       "    </tr>\n",
       "  </tbody>\n",
       "</table>\n",
       "</div>"
      ],
      "text/plain": [
       "   user_id  month  calls  messags  sessions tariff       city  \\\n",
       "0     1000      5  159.0     22.0    2253.0  ultra  Краснодар   \n",
       "1     1000      6  172.0     60.0   23233.0  ultra  Краснодар   \n",
       "2     1000      7  340.0     75.0   14003.0  ultra  Краснодар   \n",
       "3     1000      8  408.0     81.0   14055.0  ultra  Краснодар   \n",
       "4     1000      9  466.0     57.0   14568.0  ultra  Краснодар   \n",
       "\n",
       "   messages_included  minutes_included  rub_monthly_fee  rub_per_gb  \\\n",
       "0               1000              3000             1950         150   \n",
       "1               1000              3000             1950         150   \n",
       "2               1000              3000             1950         150   \n",
       "3               1000              3000             1950         150   \n",
       "4               1000              3000             1950         150   \n",
       "\n",
       "   rub_per_message  rub_per_minute  gb_per_month_included  \n",
       "0                1               1                     30  \n",
       "1                1               1                     30  \n",
       "2                1               1                     30  \n",
       "3                1               1                     30  \n",
       "4                1               1                     30  "
      ]
     },
     "execution_count": 91,
     "metadata": {},
     "output_type": "execute_result"
    }
   ],
   "source": [
    "# Объединим таблицы df_all_short и df_tariffs\n",
    "df_all_short_tariffs = df_all_short.merge(df_tariffs, on='tariff',how='left')\n",
    "df_all_short_tariffs.head()"
   ]
  },
  {
   "cell_type": "code",
   "execution_count": 92,
   "metadata": {},
   "outputs": [],
   "source": [
    "# Создадим функцию для определения перерасхода минут, сообщений и интернета\n",
    "def no_limit (f, t):\n",
    "    if (f - t) <= 0:\n",
    "        return 0\n",
    "    else:\n",
    "        return (f - t)"
   ]
  },
  {
   "cell_type": "code",
   "execution_count": 93,
   "metadata": {},
   "outputs": [],
   "source": [
    "# Создадим столлбцы с указанием перерасхода минут, сообщений и интернета\n",
    "df_all_short_tariffs['calls_no_lim'] = df_all_short_tariffs.apply(lambda x: no_limit(x.calls, x.minutes_included), axis=1)\n",
    "df_all_short_tariffs['messags_no_lim'] = df_all_short_tariffs.apply(lambda x: no_limit(x.messags, x.messages_included), axis=1)\n",
    "df_all_short_tariffs['sessions_no_lim'] = df_all_short_tariffs.apply(lambda x: no_limit(x.sessions, x.gb_per_month_included), axis=1)"
   ]
  },
  {
   "cell_type": "code",
   "execution_count": 94,
   "metadata": {},
   "outputs": [],
   "source": [
    "# Рассчитаем месячные расходы каждого абонента\n",
    "df_all_short_tariffs['user_cost'] = df_all_short_tariffs['rub_monthly_fee'] + (\n",
    "    (df_all_short_tariffs['calls_no_lim'] * df_all_short_tariffs['rub_per_minute']) +\n",
    "    (df_all_short_tariffs['messags_no_lim'] * df_all_short_tariffs['rub_per_message']) +\n",
    "    (df_all_short_tariffs['sessions_no_lim'] * df_all_short_tariffs['rub_per_gb'])\n",
    ")\n",
    "\n",
    "# Заменим тип данных в основных чтобцах на int\n",
    "df_all_short_tariffs['user_cost'] = df_all_short_tariffs['user_cost'].astype('int')\n",
    "df_all_short_tariffs['calls'] = df_all_short_tariffs['calls'].astype('int')\n",
    "df_all_short_tariffs['messags'] = df_all_short_tariffs['messags'].astype('int')\n",
    "df_all_short_tariffs['sessions'] = df_all_short_tariffs['sessions'].astype('int')"
   ]
  },
  {
   "cell_type": "code",
   "execution_count": 95,
   "metadata": {},
   "outputs": [],
   "source": [
    "# Убкрем лишние столбцы\n",
    "df_all_short_tariffs = df_all_short_tariffs.loc[:, ['calls', 'messags', 'sessions', 'user_id', 'month', 'city', 'tariff', 'user_cost']]"
   ]
  },
  {
   "cell_type": "code",
   "execution_count": 96,
   "metadata": {},
   "outputs": [
    {
     "data": {
      "text/html": [
       "<div>\n",
       "<style scoped>\n",
       "    .dataframe tbody tr th:only-of-type {\n",
       "        vertical-align: middle;\n",
       "    }\n",
       "\n",
       "    .dataframe tbody tr th {\n",
       "        vertical-align: top;\n",
       "    }\n",
       "\n",
       "    .dataframe thead th {\n",
       "        text-align: right;\n",
       "    }\n",
       "</style>\n",
       "<table border=\"1\" class=\"dataframe\">\n",
       "  <thead>\n",
       "    <tr style=\"text-align: right;\">\n",
       "      <th></th>\n",
       "      <th>calls</th>\n",
       "      <th>messags</th>\n",
       "      <th>sessions</th>\n",
       "      <th>user_id</th>\n",
       "      <th>month</th>\n",
       "      <th>city</th>\n",
       "      <th>tariff</th>\n",
       "      <th>user_cost</th>\n",
       "    </tr>\n",
       "  </thead>\n",
       "  <tbody>\n",
       "    <tr>\n",
       "      <th>0</th>\n",
       "      <td>159</td>\n",
       "      <td>22</td>\n",
       "      <td>2253</td>\n",
       "      <td>1000</td>\n",
       "      <td>5</td>\n",
       "      <td>Краснодар</td>\n",
       "      <td>ultra</td>\n",
       "      <td>335400</td>\n",
       "    </tr>\n",
       "    <tr>\n",
       "      <th>1</th>\n",
       "      <td>172</td>\n",
       "      <td>60</td>\n",
       "      <td>23233</td>\n",
       "      <td>1000</td>\n",
       "      <td>6</td>\n",
       "      <td>Краснодар</td>\n",
       "      <td>ultra</td>\n",
       "      <td>3482400</td>\n",
       "    </tr>\n",
       "    <tr>\n",
       "      <th>2</th>\n",
       "      <td>340</td>\n",
       "      <td>75</td>\n",
       "      <td>14003</td>\n",
       "      <td>1000</td>\n",
       "      <td>7</td>\n",
       "      <td>Краснодар</td>\n",
       "      <td>ultra</td>\n",
       "      <td>2097900</td>\n",
       "    </tr>\n",
       "    <tr>\n",
       "      <th>3</th>\n",
       "      <td>408</td>\n",
       "      <td>81</td>\n",
       "      <td>14055</td>\n",
       "      <td>1000</td>\n",
       "      <td>8</td>\n",
       "      <td>Краснодар</td>\n",
       "      <td>ultra</td>\n",
       "      <td>2105700</td>\n",
       "    </tr>\n",
       "    <tr>\n",
       "      <th>4</th>\n",
       "      <td>466</td>\n",
       "      <td>57</td>\n",
       "      <td>14568</td>\n",
       "      <td>1000</td>\n",
       "      <td>9</td>\n",
       "      <td>Краснодар</td>\n",
       "      <td>ultra</td>\n",
       "      <td>2182650</td>\n",
       "    </tr>\n",
       "  </tbody>\n",
       "</table>\n",
       "</div>"
      ],
      "text/plain": [
       "   calls  messags  sessions  user_id  month       city tariff  user_cost\n",
       "0    159       22      2253     1000      5  Краснодар  ultra     335400\n",
       "1    172       60     23233     1000      6  Краснодар  ultra    3482400\n",
       "2    340       75     14003     1000      7  Краснодар  ultra    2097900\n",
       "3    408       81     14055     1000      8  Краснодар  ultra    2105700\n",
       "4    466       57     14568     1000      9  Краснодар  ultra    2182650"
      ]
     },
     "metadata": {},
     "output_type": "display_data"
    }
   ],
   "source": [
    "display(df_all_short_tariffs.head())"
   ]
  },
  {
   "cell_type": "markdown",
   "metadata": {},
   "source": [
    "### Сведение статистических показателей среднемесячных расходов абонентов <a id='3.6'></a>"
   ]
  },
  {
   "cell_type": "markdown",
   "metadata": {},
   "source": [
    "Сформируем статистические показатели расходов в одной таблице "
   ]
  },
  {
   "cell_type": "code",
   "execution_count": 97,
   "metadata": {},
   "outputs": [],
   "source": [
    "# Создадим cписки для записи значений показателей\n",
    "tp_ultra_cost = []\n",
    "tp_smart_cost = []\n",
    "tp_msc_cost = []\n",
    "tp_reg_cost = []\n",
    "\n",
    "# Выделем расходы по тарифам\n",
    "df_all_short_tariffs_ultra = df_all_short_tariffs.loc[df_all_short_tariffs['tariff'] == 'ultra']\n",
    "df_all_short_tariffs_smart = df_all_short_tariffs.loc[df_all_short_tariffs['tariff'] == 'smart']\n",
    "\n",
    "# Выделем расходы по городам\n",
    "df_all_short_city_msc = df_all_short_tariffs.loc[df_all_short_tariffs['city'] == 'Москва']\n",
    "df_all_short_city_reg = df_all_short_tariffs.loc[df_all_short_tariffs['city'] != 'Москва']"
   ]
  },
  {
   "cell_type": "code",
   "execution_count": 98,
   "metadata": {},
   "outputs": [],
   "source": [
    "# Рассчиаем показатели расходов за месяц для ТП ultra\n",
    "tp_ultra_cost.append(df_all_short_tariffs_ultra['user_cost'].mean())\n",
    "tp_ultra_cost.append(np.var(df_all_short_tariffs_ultra['user_cost'], ddof=1))\n",
    "tp_ultra_cost.append(np.std(df_all_short_tariffs_ultra['user_cost'], ddof=1))"
   ]
  },
  {
   "cell_type": "code",
   "execution_count": 99,
   "metadata": {},
   "outputs": [],
   "source": [
    "# Рассчиаем показатели расходов за месяц для ТП smart\n",
    "tp_smart_cost.append(df_all_short_tariffs_smart['user_cost'].mean())\n",
    "tp_smart_cost.append(np.var(df_all_short_tariffs_smart['user_cost'], ddof=1))\n",
    "tp_smart_cost.append(np.std(df_all_short_tariffs_smart['user_cost'], ddof=1))"
   ]
  },
  {
   "cell_type": "code",
   "execution_count": 100,
   "metadata": {},
   "outputs": [],
   "source": [
    "# Рассчиаем показатели расходов за месяц для Москвы\n",
    "tp_msc_cost.append(df_all_short_city_msc['user_cost'].mean())\n",
    "tp_msc_cost.append(np.var(df_all_short_city_msc['user_cost'], ddof=1))\n",
    "tp_msc_cost.append(np.std(df_all_short_city_msc['user_cost'], ddof=1))"
   ]
  },
  {
   "cell_type": "code",
   "execution_count": 101,
   "metadata": {},
   "outputs": [],
   "source": [
    "# Рассчиаем показатели расходов за месяц для регионов\n",
    "tp_reg_cost.append(df_all_short_city_reg['user_cost'].mean())\n",
    "tp_reg_cost.append(np.var(df_all_short_city_reg['user_cost'], ddof=1))\n",
    "tp_reg_cost.append(np.std(df_all_short_city_reg['user_cost'], ddof=1))"
   ]
  },
  {
   "cell_type": "code",
   "execution_count": 102,
   "metadata": {},
   "outputs": [
    {
     "data": {
      "text/html": [
       "<div>\n",
       "<style scoped>\n",
       "    .dataframe tbody tr th:only-of-type {\n",
       "        vertical-align: middle;\n",
       "    }\n",
       "\n",
       "    .dataframe tbody tr th {\n",
       "        vertical-align: top;\n",
       "    }\n",
       "\n",
       "    .dataframe thead th {\n",
       "        text-align: right;\n",
       "    }\n",
       "</style>\n",
       "<table border=\"1\" class=\"dataframe\">\n",
       "  <thead>\n",
       "    <tr style=\"text-align: right;\">\n",
       "      <th></th>\n",
       "      <th>indicator</th>\n",
       "      <th>ultra_cost</th>\n",
       "      <th>smart_cost</th>\n",
       "      <th>msc_cost</th>\n",
       "      <th>reg_cost</th>\n",
       "    </tr>\n",
       "  </thead>\n",
       "  <tbody>\n",
       "    <tr>\n",
       "      <th>0</th>\n",
       "      <td>mean</td>\n",
       "      <td>2.917749e+06</td>\n",
       "      <td>3.239271e+06</td>\n",
       "      <td>3.198058e+06</td>\n",
       "      <td>3.127277e+06</td>\n",
       "    </tr>\n",
       "    <tr>\n",
       "      <th>1</th>\n",
       "      <td>variance</td>\n",
       "      <td>2.289106e+12</td>\n",
       "      <td>1.378601e+12</td>\n",
       "      <td>1.586273e+12</td>\n",
       "      <td>1.700429e+12</td>\n",
       "    </tr>\n",
       "    <tr>\n",
       "      <th>2</th>\n",
       "      <td>std</td>\n",
       "      <td>1.512979e+06</td>\n",
       "      <td>1.174138e+06</td>\n",
       "      <td>1.259473e+06</td>\n",
       "      <td>1.304005e+06</td>\n",
       "    </tr>\n",
       "  </tbody>\n",
       "</table>\n",
       "</div>"
      ],
      "text/plain": [
       "  indicator    ultra_cost    smart_cost      msc_cost      reg_cost\n",
       "0      mean  2.917749e+06  3.239271e+06  3.198058e+06  3.127277e+06\n",
       "1  variance  2.289106e+12  1.378601e+12  1.586273e+12  1.700429e+12\n",
       "2       std  1.512979e+06  1.174138e+06  1.259473e+06  1.304005e+06"
      ]
     },
     "metadata": {},
     "output_type": "display_data"
    }
   ],
   "source": [
    "# Выведем статистические показатели по расходам в одну таблицу\n",
    "df_stat_cost = pd.DataFrame({\n",
    "    'indicator': ['mean', 'variance', 'std'], \n",
    "    'ultra_cost': tp_ultra_cost, \n",
    "    'smart_cost': tp_smart_cost,\n",
    "    'msc_cost': tp_msc_cost,\n",
    "    'reg_cost': tp_reg_cost\n",
    "})\n",
    "display(df_stat_cost)"
   ]
  },
  {
   "cell_type": "code",
   "execution_count": 103,
   "metadata": {},
   "outputs": [
    {
     "data": {
      "image/png": "[encoded data removed]",
      "text/plain": [
       "<Figure size 720x504 with 1 Axes>"
      ]
     },
     "metadata": {
      "needs_background": "light"
     },
     "output_type": "display_data"
    }
   ],
   "source": [
    "# Построим гистограмму для расходов абонентов\n",
    "df_all_short_tariffs_ultra['user_cost'].hist(bins=100, range=(0, 5000), figsize=(10,7))\n",
    "plt.title('user_cost_ultra')\n",
    "plt.show()"
   ]
  },
  {
   "cell_type": "code",
   "execution_count": 104,
   "metadata": {},
   "outputs": [
    {
     "data": {
      "image/png": "[encoded data removed]",
      "text/plain": [
       "<Figure size 720x504 with 1 Axes>"
      ]
     },
     "metadata": {
      "needs_background": "light"
     },
     "output_type": "display_data"
    }
   ],
   "source": [
    "# Построим гистограмму для расходов абонентов\n",
    "hist_pattern(df_all_short_tariffs_smart['user_cost'], 100, 'user_cost_smart')"
   ]
  },
  {
   "cell_type": "markdown",
   "metadata": {},
   "source": [
    "### Выводы по анализу данных <a id='3f'></a>"
   ]
  },
  {
   "cell_type": "markdown",
   "metadata": {},
   "source": [
    "Сравнительный анализ среднемесячных показателей голосового трафика абонентов рассматриваемых тарифных планов показал, что на тарифном плане `ultra` средний звонок имеет длительность от 8 до 9 минут. При этом, абоненты тарифного плана `ultra` совершают от 50 до 75 вызовов в месяц. На тарифном плане `smart` средний звонок имеет примерно сопоставимую длительность - от 8 до 9 минут. Однако, абоненты тарифного плана `smart` совершают меньшее количество вызовов - от 40 до 60 в месяц. Данный факт говорит о меньшем объеме потребляемого голосового трафика абонентов тарифного плана `smart` по сравнению с абонентами тарифного плана `ultra`.\n",
    "\n",
    "Сравнительный анализ среднемесячных показателей количества отправленных сообщений абонентов рассматриваемых тарифных планов показал, что на тарифном плане `ultra` средний абонент отправляет до 50 сообщений в месяц. В тоже время, на тарифном плане `smart` средний абонент отправляет до 30 сообщений в месяц. Данный факт показывает более высокую активность абонентов тарифного плана `ultra` при потреблении услуг отправки сообщений.\n",
    "\n",
    "Сравнительный анализ среднемесячных показателей потребления интернет трафика абонентов рассматриваемых тарифных планов показал, что на тарифном плане `ultra` средний абонент скачивает за месяц от 15ГБ до  22ГБ интернет трафика. В тоже время, на тарифном плане `smart` средний абонент скачивает за месяц от 15ГБ до  18ГБ интернет трафика. Данный факт показывает более высокую активность абонентов тарифного плана `ultra` при потреблении интернет трафика.\n",
    "\n",
    "Однако, учитывая условия тарифных планов, даже выявленное сниженное потребление услуг на тарифном плане `smart`, ведет к превышению бесплатного порогиа и дополнительным расходам абонентов. Так, абоненты тарифного плана `ultra` в месяц в среднем расходуют 2091 р, что на 7% выше размера абонентской платы. В тоже время абоненты тарифного плана smart в месяц в среднем расходуют 1407 р, что на 155% выше размера абонентской платы. Это нивелирует различия в суммах расходов абонентов рассматриваемых тарифных планов, что требует дальнейшего уточнения посредством статистического анализа."
   ]
  },
  {
   "cell_type": "markdown",
   "metadata": {},
   "source": [
    "## Проверка гипотез <a id='4'></a>"
   ]
  },
  {
   "cell_type": "markdown",
   "metadata": {},
   "source": [
    "1. Проверить статистическую гипотезу о сопоставимости выручки различных тарифных планов\n",
    "2. Проверить статистическую гипотезу о сопоставимости расходов на мобильную связь абонентов различных регионов."
   ]
  },
  {
   "cell_type": "markdown",
   "metadata": {},
   "source": [
    "### Проверка статистической гипотезы о сопоставимости выручки различных тарифных планов <a id='4.1'></a>"
   ]
  },
  {
   "cell_type": "code",
   "execution_count": 105,
   "metadata": {},
   "outputs": [],
   "source": [
    "hip_1_null = 'Нет ни какого различия между средней выручкой абонентов тарифа «Ультра» и тарифа «Смарт»'\n",
    "hip_1_alt = 'Существует различие между средней выручкой абонентов тарифов «Ультра» и «Смарт»'"
   ]
  },
  {
   "cell_type": "code",
   "execution_count": 106,
   "metadata": {},
   "outputs": [
    {
     "name": "stdout",
     "output_type": "stream",
     "text": [
      "p-значение: 3.79907143173015e-09\n",
      "Альтернативная гипотеза: Существует различие между средней выручкой абонентов тарифов «Ультра» и «Смарт»\n"
     ]
    }
   ],
   "source": [
    "ser_1 = df_all_short_tariffs_ultra['user_cost']\n",
    "ser_2 = df_all_short_tariffs_smart['user_cost']\n",
    "\n",
    "alpha = .05 # если p-value окажется меньше него - отвегнем нулевую гипотезу\n",
    "results = st.ttest_ind(ser_1, ser_2, equal_var=False)\n",
    "\n",
    "print('p-значение:', results.pvalue)\n",
    "\n",
    "if results.pvalue > alpha:\n",
    "    print('Нулевая гипотеза:', hip_1_null)\n",
    "else:\n",
    "    print('Альтернативная гипотеза:', hip_1_alt) "
   ]
  },
  {
   "cell_type": "markdown",
   "metadata": {},
   "source": [
    "### Проверка статистической гипотезы о сопоставимости расходов на мобильную связь абонентов различных регионов. <a id='4.2'></a>"
   ]
  },
  {
   "cell_type": "code",
   "execution_count": 107,
   "metadata": {},
   "outputs": [],
   "source": [
    "hip_2_null = 'Между средней выручкой абоентов из Москвы и абонентов из других регионов нет ни какого различия'\n",
    "hip_2_alt = 'Существуют различия между средней выручкой абоентов из Москвы и абонентов из других регионов'"
   ]
  },
  {
   "cell_type": "code",
   "execution_count": 108,
   "metadata": {},
   "outputs": [
    {
     "name": "stdout",
     "output_type": "stream",
     "text": [
      "p-значение: 0.21466139636678014\n",
      "Нулевая гипотеза: Между средней выручкой абоентов из Москвы и абонентов из других регионов нет ни какого различия\n"
     ]
    }
   ],
   "source": [
    "ser_3 = df_all_short_city_msc['user_cost']\n",
    "ser_4 = df_all_short_city_reg['user_cost']\n",
    "\n",
    "alpha = .05 # если p-value окажется меньше него - отвегнем нулевую гипотезу\n",
    "results = st.ttest_ind(ser_3, ser_4, equal_var=False)\n",
    "\n",
    "print('p-значение:', results.pvalue)\n",
    "\n",
    "if results.pvalue > alpha:\n",
    "    print('Нулевая гипотеза:', hip_2_null)\n",
    "else:\n",
    "    print('Альтернативная гипотеза:', hip_2_alt) "
   ]
  },
  {
   "cell_type": "markdown",
   "metadata": {},
   "source": [
    "### Выводы по проверке гипотез <a id='4f'></a>"
   ]
  },
  {
   "cell_type": "markdown",
   "metadata": {},
   "source": [
    "Для уточнения различий между тарифными планами, была сформулирована статистическая гипотеза о сопоставимости выручки различных тарифных планов. Сравнительный параметр для оценки р-значения был выбран 0,05. В результате выявлено существенное различие в расходах абонентов тарифных планов `ultra` и `smart`.\n",
    "\n",
    "Для уточнения различий между потреблением московских и региональных абонентов, была сформулирована статистическая гипотеза сопоставимости расходов на мобильную связь абонентов различных регионов. Сравнительный параметр для оценки р-значения был выбран 0,05. В результате существенного различия в расходах абонентов различных регионов не выявлено.\n",
    "\n",
    "Следовательно, структура потребления абонентов различается от выбора тарифного плана, а не от региона проживания"
   ]
  },
  {
   "cell_type": "markdown",
   "metadata": {},
   "source": [
    "## Общий вывод <a id='5'></a>"
   ]
  },
  {
   "cell_type": "markdown",
   "metadata": {},
   "source": [
    "В результате проведенного исследования:\n",
    "\n",
    "- Проведен сравнительный анализ среднемесячных расходов абонентов на услуги мобильной связи для различных тарифных планов\n",
    "- Проведен сравнительный анализ среднемесячных показателей голосового трафика абонентов рассматриваемых тарифных планов\n",
    "- Проведен сравнительный анализ среднемесячных показателей потребления услуг по отправке сообщений и по передачи данных абонентов рассматриваемых тарифных планов\n",
    "- Проверены статистические гипотезы о сопоставимости выручки различных тарифных планов и о сопоставимости расходов на мобильную связь абонентов различных регионов.\n",
    "\n",
    "На основании показателей среднемесячного потребления услуг сделаны выводы о бОльшем объеме голосового трафика на тарифном плане `ultra`, о бОльшкм количестве сообщений и объеме интернет-трафика, что свидетельствует о более высоких расходах абонентов на тарифном плане `ultra`\n",
    "\n",
    "Однако, учитывая условия тарифных планов, даже выявленное сниженное потребление услуг на тарифном плане `smart`, ведет к превышению бесплатного порога и дополнительным расходам абонентов. Так, абоненты тарифного плана `ultra` в месяц в среднем расходуют 2091 р, что на 7% выше размера абонентской платы. В тоже время абоненты тарифного плана `smart` в месяц в среднем расходуют 1407 р, что на 155% выше размера абонентской платы. Это нивелирует различия в суммах расходов абонентов рассматриваемых тарифных планов, что требует дальнейшего уточнения посредством статистического анализа\n",
    "\n",
    "Проверка статистической гипотезы о сопоставимости выручки различных тарифных планов выявила существенное различие в расходах абонентов тарифных планов `ultra` и `smart`.\n",
    "\n",
    "Проверка статистической гипотезы сопоставимости расходов на мобильную связь абонентов различных регионов не выявила существенного различия в расходах абонентов различных регионов.\n",
    "\n",
    "**Структура потребления абонентов различается от выбора тарифного плана, а не от региона проживания**\n",
    "\n",
    "Поскольку среднее превышение фактических расходов абонентов относительно размера абонентской планы на тарифном плане `ultra` значительно меньше (7% против 155%), можно говорить о том, что, абоненты тарифного плана `ultra` как правило не используют предоплаченные услуги, что говорит о более высокой маржинальности данного тарифа.\n",
    "\n",
    "**Более эффективным тарифным планом можно признать тарифный план ultra**"
   ]
  }
 ],
 "metadata": {
  "ExecuteTimeLog": [
   {
    "duration": 166,
    "start_time": "2022-04-01T20:00:27.825Z"
   },
   {
    "duration": 67,
    "start_time": "2022-04-03T10:40:09.806Z"
   },
   {
    "duration": 1693,
    "start_time": "2022-04-03T10:40:13.133Z"
   },
   {
    "duration": 462,
    "start_time": "2022-04-03T10:40:14.829Z"
   },
   {
    "duration": 1887,
    "start_time": "2022-04-03T12:42:59.040Z"
   },
   {
    "duration": 486,
    "start_time": "2022-04-03T12:43:00.930Z"
   },
   {
    "duration": 21,
    "start_time": "2022-04-03T12:43:01.418Z"
   },
   {
    "duration": 13,
    "start_time": "2022-04-03T12:43:01.442Z"
   },
   {
    "duration": 10,
    "start_time": "2022-04-03T12:43:01.481Z"
   },
   {
    "duration": 31,
    "start_time": "2022-04-03T12:43:01.494Z"
   },
   {
    "duration": 21,
    "start_time": "2022-04-03T12:43:01.528Z"
   },
   {
    "duration": 20,
    "start_time": "2022-04-03T12:43:01.551Z"
   },
   {
    "duration": 23,
    "start_time": "2022-04-03T12:43:01.574Z"
   },
   {
    "duration": 37,
    "start_time": "2022-04-03T12:43:01.601Z"
   },
   {
    "duration": 24,
    "start_time": "2022-04-03T12:43:01.640Z"
   },
   {
    "duration": 33,
    "start_time": "2022-04-03T12:43:01.683Z"
   },
   {
    "duration": 14,
    "start_time": "2022-04-03T12:43:01.719Z"
   },
   {
    "duration": 28,
    "start_time": "2022-04-03T12:43:01.736Z"
   },
   {
    "duration": 119,
    "start_time": "2022-04-03T12:43:01.766Z"
   },
   {
    "duration": 49,
    "start_time": "2022-04-03T12:43:01.887Z"
   },
   {
    "duration": 78,
    "start_time": "2022-04-03T12:43:01.938Z"
   },
   {
    "duration": 10,
    "start_time": "2022-04-03T12:43:02.018Z"
   },
   {
    "duration": 32,
    "start_time": "2022-04-03T12:43:02.030Z"
   },
   {
    "duration": 45,
    "start_time": "2022-04-03T12:43:02.065Z"
   },
   {
    "duration": 13,
    "start_time": "2022-04-03T12:43:02.112Z"
   },
   {
    "duration": 33,
    "start_time": "2022-04-03T12:43:02.128Z"
   },
   {
    "duration": 24,
    "start_time": "2022-04-03T12:43:02.163Z"
   },
   {
    "duration": 30,
    "start_time": "2022-04-03T12:43:02.189Z"
   },
   {
    "duration": 13,
    "start_time": "2022-04-03T12:43:02.221Z"
   },
   {
    "duration": 201,
    "start_time": "2022-04-03T12:43:02.237Z"
   },
   {
    "duration": 82,
    "start_time": "2022-04-03T12:43:02.440Z"
   },
   {
    "duration": 28,
    "start_time": "2022-04-03T12:43:02.530Z"
   },
   {
    "duration": 30,
    "start_time": "2022-04-03T12:43:02.561Z"
   },
   {
    "duration": 997,
    "start_time": "2022-04-03T12:43:02.594Z"
   },
   {
    "duration": 1033,
    "start_time": "2022-04-03T12:43:03.594Z"
   },
   {
    "duration": 877,
    "start_time": "2022-04-03T12:43:04.629Z"
   },
   {
    "duration": 919,
    "start_time": "2022-04-03T12:43:05.508Z"
   },
   {
    "duration": 87,
    "start_time": "2022-04-03T12:43:06.430Z"
   },
   {
    "duration": 38,
    "start_time": "2022-04-03T12:43:06.520Z"
   },
   {
    "duration": 26,
    "start_time": "2022-04-03T12:43:06.560Z"
   },
   {
    "duration": 861,
    "start_time": "2022-04-03T12:43:06.588Z"
   },
   {
    "duration": 986,
    "start_time": "2022-04-03T12:43:07.451Z"
   },
   {
    "duration": 117,
    "start_time": "2022-04-03T12:43:08.439Z"
   },
   {
    "duration": 64,
    "start_time": "2022-04-03T12:43:08.558Z"
   },
   {
    "duration": 15,
    "start_time": "2022-04-03T12:43:08.625Z"
   },
   {
    "duration": 872,
    "start_time": "2022-04-03T12:43:08.643Z"
   },
   {
    "duration": 938,
    "start_time": "2022-04-03T12:43:09.517Z"
   },
   {
    "duration": 6,
    "start_time": "2022-04-03T12:43:10.457Z"
   },
   {
    "duration": 54,
    "start_time": "2022-04-03T12:43:10.464Z"
   },
   {
    "duration": 424,
    "start_time": "2022-04-03T12:43:10.520Z"
   },
   {
    "duration": 403,
    "start_time": "2022-04-03T12:43:10.946Z"
   },
   {
    "duration": 63,
    "start_time": "2022-04-03T12:43:11.352Z"
   },
   {
    "duration": 494,
    "start_time": "2022-04-03T12:43:11.417Z"
   },
   {
    "duration": 398,
    "start_time": "2022-04-03T12:43:11.913Z"
   },
   {
    "duration": 4,
    "start_time": "2022-04-03T12:43:12.314Z"
   },
   {
    "duration": 18,
    "start_time": "2022-04-03T12:43:12.320Z"
   },
   {
    "duration": 9,
    "start_time": "2022-04-03T12:43:12.340Z"
   },
   {
    "duration": 8,
    "start_time": "2022-04-03T12:43:12.352Z"
   },
   {
    "duration": 19,
    "start_time": "2022-04-03T12:43:12.363Z"
   },
   {
    "duration": 37,
    "start_time": "2022-04-03T12:43:12.385Z"
   },
   {
    "duration": 399,
    "start_time": "2022-04-03T12:43:12.424Z"
   },
   {
    "duration": 42,
    "start_time": "2022-04-03T12:43:12.826Z"
   },
   {
    "duration": 428,
    "start_time": "2022-04-03T12:43:12.883Z"
   },
   {
    "duration": 4,
    "start_time": "2022-04-03T12:43:13.313Z"
   },
   {
    "duration": 7,
    "start_time": "2022-04-03T12:43:13.319Z"
   },
   {
    "duration": 8,
    "start_time": "2022-04-03T12:43:13.329Z"
   },
   {
    "duration": 80,
    "start_time": "2022-04-03T12:43:13.339Z"
   },
   {
    "duration": 378,
    "start_time": "2022-04-03T12:43:13.421Z"
   },
   {
    "duration": 56,
    "start_time": "2022-04-03T12:43:13.802Z"
   },
   {
    "duration": 383,
    "start_time": "2022-04-03T12:43:13.882Z"
   },
   {
    "duration": 4,
    "start_time": "2022-04-03T12:43:14.267Z"
   },
   {
    "duration": 16,
    "start_time": "2022-04-03T12:43:14.273Z"
   },
   {
    "duration": 19,
    "start_time": "2022-04-03T12:43:14.291Z"
   },
   {
    "duration": 27,
    "start_time": "2022-04-03T12:43:14.312Z"
   },
   {
    "duration": 302,
    "start_time": "2022-04-03T12:43:14.341Z"
   },
   {
    "duration": 45,
    "start_time": "2022-04-03T12:43:14.645Z"
   },
   {
    "duration": 66,
    "start_time": "2022-04-03T12:43:14.692Z"
   },
   {
    "duration": 28,
    "start_time": "2022-04-03T12:43:14.760Z"
   },
   {
    "duration": 121,
    "start_time": "2022-04-03T12:43:14.791Z"
   },
   {
    "duration": 20,
    "start_time": "2022-04-03T12:43:14.915Z"
   },
   {
    "duration": 238,
    "start_time": "2022-04-03T12:43:14.937Z"
   },
   {
    "duration": 31,
    "start_time": "2022-04-03T12:43:15.181Z"
   },
   {
    "duration": 44,
    "start_time": "2022-04-03T12:43:15.214Z"
   },
   {
    "duration": 25,
    "start_time": "2022-04-03T12:43:15.261Z"
   },
   {
    "duration": 12,
    "start_time": "2022-04-03T12:43:15.288Z"
   },
   {
    "duration": 35,
    "start_time": "2022-04-03T12:43:15.312Z"
   },
   {
    "duration": 283,
    "start_time": "2022-04-03T12:43:15.349Z"
   },
   {
    "duration": 62,
    "start_time": "2022-04-03T12:43:15.634Z"
   },
   {
    "duration": 55,
    "start_time": "2022-04-03T12:43:15.698Z"
   },
   {
    "duration": 29,
    "start_time": "2022-04-03T12:43:15.755Z"
   },
   {
    "duration": 13,
    "start_time": "2022-04-03T12:43:15.786Z"
   },
   {
    "duration": 17,
    "start_time": "2022-04-03T12:43:15.801Z"
   },
   {
    "duration": 68,
    "start_time": "2022-04-03T12:43:15.820Z"
   },
   {
    "duration": 27,
    "start_time": "2022-04-03T12:43:15.890Z"
   },
   {
    "duration": 7,
    "start_time": "2022-04-03T12:43:15.919Z"
   },
   {
    "duration": 4,
    "start_time": "2022-04-03T12:43:15.928Z"
   },
   {
    "duration": 104,
    "start_time": "2022-04-03T12:43:15.935Z"
   },
   {
    "duration": 75,
    "start_time": "2022-04-03T12:43:16.042Z"
   },
   {
    "duration": 76,
    "start_time": "2022-04-03T12:43:16.119Z"
   },
   {
    "duration": 67,
    "start_time": "2022-04-03T12:43:16.198Z"
   },
   {
    "duration": 42,
    "start_time": "2022-04-03T12:43:16.267Z"
   },
   {
    "duration": 21,
    "start_time": "2022-04-03T12:43:16.312Z"
   },
   {
    "duration": 15,
    "start_time": "2022-04-03T12:43:16.336Z"
   },
   {
    "duration": 44,
    "start_time": "2022-04-03T12:43:16.354Z"
   },
   {
    "duration": 24,
    "start_time": "2022-04-03T12:43:16.401Z"
   },
   {
    "duration": 5,
    "start_time": "2022-04-03T12:43:16.428Z"
   },
   {
    "duration": 233,
    "start_time": "2022-04-03T12:43:16.436Z"
   },
   {
    "duration": 18,
    "start_time": "2022-04-03T12:43:16.672Z"
   },
   {
    "duration": 14,
    "start_time": "2022-04-03T12:43:16.692Z"
   },
   {
    "duration": 14,
    "start_time": "2022-04-03T12:43:16.708Z"
   },
   {
    "duration": 12,
    "start_time": "2022-04-03T12:43:16.725Z"
   },
   {
    "duration": 8,
    "start_time": "2022-04-03T12:43:16.740Z"
   },
   {
    "duration": 32,
    "start_time": "2022-04-03T12:43:16.751Z"
   },
   {
    "duration": 18,
    "start_time": "2022-04-03T12:43:16.785Z"
   },
   {
    "duration": 10,
    "start_time": "2022-04-03T12:43:16.805Z"
   },
   {
    "duration": 17,
    "start_time": "2022-04-03T12:43:16.817Z"
   },
   {
    "duration": 396,
    "start_time": "2022-04-03T12:43:16.836Z"
   },
   {
    "duration": 386,
    "start_time": "2022-04-03T12:43:17.234Z"
   },
   {
    "duration": 3,
    "start_time": "2022-04-03T12:43:17.623Z"
   },
   {
    "duration": 13,
    "start_time": "2022-04-03T12:43:17.629Z"
   },
   {
    "duration": 7,
    "start_time": "2022-04-03T12:43:17.644Z"
   },
   {
    "duration": 31,
    "start_time": "2022-04-03T12:43:17.654Z"
   },
   {
    "duration": 1326,
    "start_time": "2022-04-13T19:12:24.920Z"
   },
   {
    "duration": 364,
    "start_time": "2022-04-13T19:12:26.247Z"
   },
   {
    "duration": 12,
    "start_time": "2022-04-13T19:12:26.613Z"
   },
   {
    "duration": 7,
    "start_time": "2022-04-13T19:12:26.627Z"
   },
   {
    "duration": 11,
    "start_time": "2022-04-13T19:12:26.635Z"
   },
   {
    "duration": 10,
    "start_time": "2022-04-13T19:12:26.648Z"
   },
   {
    "duration": 9,
    "start_time": "2022-04-13T19:12:26.659Z"
   },
   {
    "duration": 15,
    "start_time": "2022-04-13T19:12:26.670Z"
   },
   {
    "duration": 14,
    "start_time": "2022-04-13T19:12:26.686Z"
   },
   {
    "duration": 23,
    "start_time": "2022-04-13T19:12:26.703Z"
   },
   {
    "duration": 16,
    "start_time": "2022-04-13T19:12:26.727Z"
   },
   {
    "duration": 19,
    "start_time": "2022-04-13T19:12:26.744Z"
   },
   {
    "duration": 9,
    "start_time": "2022-04-13T19:12:26.764Z"
   },
   {
    "duration": 13,
    "start_time": "2022-04-13T19:12:26.800Z"
   },
   {
    "duration": 45,
    "start_time": "2022-04-13T19:12:26.814Z"
   },
   {
    "duration": 46,
    "start_time": "2022-04-13T19:12:26.861Z"
   },
   {
    "duration": 37,
    "start_time": "2022-04-13T19:12:26.909Z"
   },
   {
    "duration": 9,
    "start_time": "2022-04-13T19:12:26.947Z"
   },
   {
    "duration": 22,
    "start_time": "2022-04-13T19:12:26.957Z"
   },
   {
    "duration": 46,
    "start_time": "2022-04-13T19:12:26.981Z"
   },
   {
    "duration": 8,
    "start_time": "2022-04-13T19:12:27.028Z"
   },
   {
    "duration": 15,
    "start_time": "2022-04-13T19:12:27.038Z"
   },
   {
    "duration": 7,
    "start_time": "2022-04-13T19:12:27.055Z"
   },
   {
    "duration": 38,
    "start_time": "2022-04-13T19:12:27.063Z"
   },
   {
    "duration": 8,
    "start_time": "2022-04-13T19:12:27.103Z"
   },
   {
    "duration": 119,
    "start_time": "2022-04-13T19:12:27.112Z"
   },
   {
    "duration": 43,
    "start_time": "2022-04-13T19:12:27.232Z"
   },
   {
    "duration": 26,
    "start_time": "2022-04-13T19:12:27.279Z"
   },
   {
    "duration": 10,
    "start_time": "2022-04-13T19:12:27.307Z"
   },
   {
    "duration": 647,
    "start_time": "2022-04-13T19:12:27.318Z"
   },
   {
    "duration": 628,
    "start_time": "2022-04-13T19:12:27.967Z"
   },
   {
    "duration": 567,
    "start_time": "2022-04-13T19:12:28.599Z"
   },
   {
    "duration": 621,
    "start_time": "2022-04-13T19:12:29.168Z"
   },
   {
    "duration": 54,
    "start_time": "2022-04-13T19:12:29.791Z"
   },
   {
    "duration": 25,
    "start_time": "2022-04-13T19:12:29.846Z"
   },
   {
    "duration": 9,
    "start_time": "2022-04-13T19:12:29.873Z"
   },
   {
    "duration": 554,
    "start_time": "2022-04-13T19:12:29.884Z"
   },
   {
    "duration": 646,
    "start_time": "2022-04-13T19:12:30.440Z"
   },
   {
    "duration": 71,
    "start_time": "2022-04-13T19:12:31.088Z"
   },
   {
    "duration": 40,
    "start_time": "2022-04-13T19:12:31.160Z"
   },
   {
    "duration": 10,
    "start_time": "2022-04-13T19:12:31.202Z"
   },
   {
    "duration": 564,
    "start_time": "2022-04-13T19:12:31.213Z"
   },
   {
    "duration": 617,
    "start_time": "2022-04-13T19:12:31.778Z"
   },
   {
    "duration": 4,
    "start_time": "2022-04-13T19:12:32.399Z"
   },
   {
    "duration": 31,
    "start_time": "2022-04-13T19:12:32.404Z"
   },
   {
    "duration": 224,
    "start_time": "2022-04-13T19:12:32.437Z"
   },
   {
    "duration": 215,
    "start_time": "2022-04-13T19:12:32.662Z"
   },
   {
    "duration": 40,
    "start_time": "2022-04-13T19:12:32.878Z"
   },
   {
    "duration": 292,
    "start_time": "2022-04-13T19:12:32.920Z"
   },
   {
    "duration": 210,
    "start_time": "2022-04-13T19:12:33.214Z"
   },
   {
    "duration": 2,
    "start_time": "2022-04-13T19:12:33.426Z"
   },
   {
    "duration": 9,
    "start_time": "2022-04-13T19:12:33.430Z"
   },
   {
    "duration": 8,
    "start_time": "2022-04-13T19:12:33.440Z"
   },
   {
    "duration": 8,
    "start_time": "2022-04-13T19:12:33.449Z"
   },
   {
    "duration": 5,
    "start_time": "2022-04-13T19:12:33.458Z"
   },
   {
    "duration": 40,
    "start_time": "2022-04-13T19:12:33.465Z"
   },
   {
    "duration": 201,
    "start_time": "2022-04-13T19:12:33.506Z"
   },
   {
    "duration": 25,
    "start_time": "2022-04-13T19:12:33.709Z"
   },
   {
    "duration": 225,
    "start_time": "2022-04-13T19:12:33.735Z"
   },
   {
    "duration": 3,
    "start_time": "2022-04-13T19:12:33.961Z"
   },
   {
    "duration": 7,
    "start_time": "2022-04-13T19:12:33.965Z"
   },
   {
    "duration": 6,
    "start_time": "2022-04-13T19:12:33.973Z"
   },
   {
    "duration": 38,
    "start_time": "2022-04-13T19:12:33.980Z"
   },
   {
    "duration": 198,
    "start_time": "2022-04-13T19:12:34.019Z"
   },
   {
    "duration": 30,
    "start_time": "2022-04-13T19:12:34.218Z"
   },
   {
    "duration": 214,
    "start_time": "2022-04-13T19:12:34.250Z"
   },
   {
    "duration": 3,
    "start_time": "2022-04-13T19:12:34.465Z"
   },
   {
    "duration": 6,
    "start_time": "2022-04-13T19:12:34.470Z"
   },
   {
    "duration": 6,
    "start_time": "2022-04-13T19:12:34.477Z"
   },
   {
    "duration": 25,
    "start_time": "2022-04-13T19:12:34.484Z"
   },
   {
    "duration": 203,
    "start_time": "2022-04-13T19:12:34.511Z"
   },
   {
    "duration": 20,
    "start_time": "2022-04-13T19:12:34.716Z"
   },
   {
    "duration": 39,
    "start_time": "2022-04-13T19:12:34.737Z"
   },
   {
    "duration": 23,
    "start_time": "2022-04-13T19:12:34.778Z"
   },
   {
    "duration": 104,
    "start_time": "2022-04-13T19:12:34.802Z"
   },
   {
    "duration": 14,
    "start_time": "2022-04-13T19:12:34.908Z"
   },
   {
    "duration": 153,
    "start_time": "2022-04-13T19:12:34.923Z"
   },
   {
    "duration": 25,
    "start_time": "2022-04-13T19:12:35.078Z"
   },
   {
    "duration": 28,
    "start_time": "2022-04-13T19:12:35.104Z"
   },
   {
    "duration": 5,
    "start_time": "2022-04-13T19:12:35.134Z"
   },
   {
    "duration": 7,
    "start_time": "2022-04-13T19:12:35.141Z"
   },
   {
    "duration": 9,
    "start_time": "2022-04-13T19:12:35.154Z"
   },
   {
    "duration": 246,
    "start_time": "2022-04-13T19:12:35.164Z"
   },
   {
    "duration": 45,
    "start_time": "2022-04-13T19:12:35.412Z"
   },
   {
    "duration": 70,
    "start_time": "2022-04-13T19:12:35.459Z"
   },
   {
    "duration": 7,
    "start_time": "2022-04-13T19:12:35.531Z"
   },
   {
    "duration": 10,
    "start_time": "2022-04-13T19:12:35.540Z"
   },
   {
    "duration": 12,
    "start_time": "2022-04-13T19:12:35.552Z"
   },
   {
    "duration": 60,
    "start_time": "2022-04-13T19:12:35.566Z"
   },
   {
    "duration": 23,
    "start_time": "2022-04-13T19:12:35.628Z"
   },
   {
    "duration": 5,
    "start_time": "2022-04-13T19:12:35.652Z"
   },
   {
    "duration": 3,
    "start_time": "2022-04-13T19:12:35.660Z"
   },
   {
    "duration": 88,
    "start_time": "2022-04-13T19:12:35.665Z"
   },
   {
    "duration": 49,
    "start_time": "2022-04-13T19:12:35.756Z"
   },
   {
    "duration": 40,
    "start_time": "2022-04-13T19:12:35.807Z"
   },
   {
    "duration": 54,
    "start_time": "2022-04-13T19:12:35.849Z"
   },
   {
    "duration": 17,
    "start_time": "2022-04-13T19:12:35.905Z"
   },
   {
    "duration": 12,
    "start_time": "2022-04-13T19:12:35.923Z"
   },
   {
    "duration": 13,
    "start_time": "2022-04-13T19:12:35.937Z"
   },
   {
    "duration": 13,
    "start_time": "2022-04-13T19:12:35.951Z"
   },
   {
    "duration": 38,
    "start_time": "2022-04-13T19:12:35.966Z"
   },
   {
    "duration": 3,
    "start_time": "2022-04-13T19:12:36.006Z"
   },
   {
    "duration": 123,
    "start_time": "2022-04-13T19:12:36.010Z"
   },
   {
    "duration": 8,
    "start_time": "2022-04-13T19:12:36.134Z"
   },
   {
    "duration": 9,
    "start_time": "2022-04-13T19:12:36.144Z"
   },
   {
    "duration": 10,
    "start_time": "2022-04-13T19:12:36.154Z"
   },
   {
    "duration": 10,
    "start_time": "2022-04-13T19:12:36.166Z"
   },
   {
    "duration": 4,
    "start_time": "2022-04-13T19:12:36.177Z"
   },
   {
    "duration": 18,
    "start_time": "2022-04-13T19:12:36.183Z"
   },
   {
    "duration": 3,
    "start_time": "2022-04-13T19:12:36.203Z"
   },
   {
    "duration": 7,
    "start_time": "2022-04-13T19:12:36.208Z"
   },
   {
    "duration": 9,
    "start_time": "2022-04-13T19:12:36.217Z"
   },
   {
    "duration": 217,
    "start_time": "2022-04-13T19:12:36.228Z"
   },
   {
    "duration": 202,
    "start_time": "2022-04-13T19:12:36.447Z"
   },
   {
    "duration": 2,
    "start_time": "2022-04-13T19:12:36.650Z"
   },
   {
    "duration": 9,
    "start_time": "2022-04-13T19:12:36.654Z"
   },
   {
    "duration": 3,
    "start_time": "2022-04-13T19:12:36.665Z"
   },
   {
    "duration": 8,
    "start_time": "2022-04-13T19:12:36.669Z"
   },
   {
    "duration": 19,
    "start_time": "2022-04-13T19:30:53.090Z"
   },
   {
    "duration": 3,
    "start_time": "2022-04-13T19:31:15.275Z"
   },
   {
    "duration": 425,
    "start_time": "2022-04-13T19:31:15.280Z"
   },
   {
    "duration": 9,
    "start_time": "2022-04-13T19:31:15.707Z"
   },
   {
    "duration": 9,
    "start_time": "2022-04-13T19:31:15.717Z"
   },
   {
    "duration": 7,
    "start_time": "2022-04-13T19:31:15.728Z"
   },
   {
    "duration": 9,
    "start_time": "2022-04-13T19:31:15.737Z"
   },
   {
    "duration": 8,
    "start_time": "2022-04-13T19:31:15.747Z"
   },
   {
    "duration": 12,
    "start_time": "2022-04-13T19:31:15.756Z"
   },
   {
    "duration": 8,
    "start_time": "2022-04-13T19:31:15.770Z"
   },
   {
    "duration": 44,
    "start_time": "2022-04-13T19:31:15.779Z"
   },
   {
    "duration": 19,
    "start_time": "2022-04-13T19:31:15.825Z"
   },
   {
    "duration": 19,
    "start_time": "2022-04-13T19:31:15.846Z"
   },
   {
    "duration": 9,
    "start_time": "2022-04-13T19:31:15.867Z"
   },
   {
    "duration": 11,
    "start_time": "2022-04-13T19:31:15.900Z"
   },
   {
    "duration": 46,
    "start_time": "2022-04-13T19:31:15.913Z"
   },
   {
    "duration": 45,
    "start_time": "2022-04-13T19:31:15.962Z"
   },
   {
    "duration": 34,
    "start_time": "2022-04-13T19:31:16.009Z"
   },
   {
    "duration": 6,
    "start_time": "2022-04-13T19:31:16.045Z"
   },
   {
    "duration": 12,
    "start_time": "2022-04-13T19:31:16.052Z"
   },
   {
    "duration": 44,
    "start_time": "2022-04-13T19:31:16.066Z"
   },
   {
    "duration": 8,
    "start_time": "2022-04-13T19:31:16.112Z"
   },
   {
    "duration": 17,
    "start_time": "2022-04-13T19:31:16.121Z"
   },
   {
    "duration": 7,
    "start_time": "2022-04-13T19:31:16.140Z"
   },
   {
    "duration": 23,
    "start_time": "2022-04-13T19:31:16.148Z"
   },
   {
    "duration": 28,
    "start_time": "2022-04-13T19:31:16.172Z"
   },
   {
    "duration": 105,
    "start_time": "2022-04-13T19:31:16.202Z"
   },
   {
    "duration": 7,
    "start_time": "2022-04-13T19:31:16.308Z"
   },
   {
    "duration": 43,
    "start_time": "2022-04-13T19:31:16.316Z"
   },
   {
    "duration": 17,
    "start_time": "2022-04-13T19:31:16.363Z"
   },
   {
    "duration": 42,
    "start_time": "2022-04-13T19:31:16.382Z"
   },
   {
    "duration": 10,
    "start_time": "2022-04-13T19:31:16.426Z"
   },
   {
    "duration": 606,
    "start_time": "2022-04-13T19:31:16.438Z"
   },
   {
    "duration": 628,
    "start_time": "2022-04-13T19:31:17.046Z"
   },
   {
    "duration": 575,
    "start_time": "2022-04-13T19:31:17.676Z"
   },
   {
    "duration": 677,
    "start_time": "2022-04-13T19:31:18.252Z"
   },
   {
    "duration": 57,
    "start_time": "2022-04-13T19:31:18.931Z"
   },
   {
    "duration": 34,
    "start_time": "2022-04-13T19:31:18.990Z"
   },
   {
    "duration": 9,
    "start_time": "2022-04-13T19:31:19.026Z"
   },
   {
    "duration": 571,
    "start_time": "2022-04-13T19:31:19.037Z"
   },
   {
    "duration": 567,
    "start_time": "2022-04-13T19:31:19.609Z"
   },
   {
    "duration": 85,
    "start_time": "2022-04-13T19:31:20.177Z"
   },
   {
    "duration": 47,
    "start_time": "2022-04-13T19:31:20.264Z"
   },
   {
    "duration": 11,
    "start_time": "2022-04-13T19:31:20.312Z"
   },
   {
    "duration": 577,
    "start_time": "2022-04-13T19:31:20.324Z"
   },
   {
    "duration": 600,
    "start_time": "2022-04-13T19:31:20.903Z"
   },
   {
    "duration": 4,
    "start_time": "2022-04-13T19:31:21.504Z"
   },
   {
    "duration": 29,
    "start_time": "2022-04-13T19:31:21.510Z"
   },
   {
    "duration": 221,
    "start_time": "2022-04-13T19:31:21.541Z"
   },
   {
    "duration": 287,
    "start_time": "2022-04-13T19:31:21.764Z"
   },
   {
    "duration": 32,
    "start_time": "2022-04-13T19:31:22.053Z"
   },
   {
    "duration": 229,
    "start_time": "2022-04-13T19:31:22.086Z"
   },
   {
    "duration": 212,
    "start_time": "2022-04-13T19:31:22.317Z"
   },
   {
    "duration": 3,
    "start_time": "2022-04-13T19:31:22.530Z"
   },
   {
    "duration": 8,
    "start_time": "2022-04-13T19:31:22.534Z"
   },
   {
    "duration": 5,
    "start_time": "2022-04-13T19:31:22.544Z"
   },
   {
    "duration": 5,
    "start_time": "2022-04-13T19:31:22.550Z"
   },
   {
    "duration": 6,
    "start_time": "2022-04-13T19:31:22.556Z"
   },
   {
    "duration": 40,
    "start_time": "2022-04-13T19:31:22.563Z"
   },
   {
    "duration": 205,
    "start_time": "2022-04-13T19:31:22.605Z"
   },
   {
    "duration": 27,
    "start_time": "2022-04-13T19:31:22.812Z"
   },
   {
    "duration": 222,
    "start_time": "2022-04-13T19:31:22.841Z"
   },
   {
    "duration": 3,
    "start_time": "2022-04-13T19:31:23.065Z"
   },
   {
    "duration": 6,
    "start_time": "2022-04-13T19:31:23.069Z"
   },
   {
    "duration": 9,
    "start_time": "2022-04-13T19:31:23.076Z"
   },
   {
    "duration": 36,
    "start_time": "2022-04-13T19:31:23.087Z"
   },
   {
    "duration": 291,
    "start_time": "2022-04-13T19:31:23.124Z"
   },
   {
    "duration": 31,
    "start_time": "2022-04-13T19:31:23.416Z"
   },
   {
    "duration": 213,
    "start_time": "2022-04-13T19:31:23.448Z"
   },
   {
    "duration": 3,
    "start_time": "2022-04-13T19:31:23.662Z"
   },
   {
    "duration": 8,
    "start_time": "2022-04-13T19:31:23.667Z"
   },
   {
    "duration": 6,
    "start_time": "2022-04-13T19:31:23.676Z"
   },
   {
    "duration": 30,
    "start_time": "2022-04-13T19:31:23.683Z"
   },
   {
    "duration": 196,
    "start_time": "2022-04-13T19:31:23.715Z"
   },
   {
    "duration": 21,
    "start_time": "2022-04-13T19:31:23.913Z"
   },
   {
    "duration": 40,
    "start_time": "2022-04-13T19:31:23.936Z"
   },
   {
    "duration": 6,
    "start_time": "2022-04-13T19:31:23.977Z"
   },
   {
    "duration": 7,
    "start_time": "2022-04-13T19:31:24.001Z"
   },
   {
    "duration": 10,
    "start_time": "2022-04-13T19:31:24.010Z"
   },
   {
    "duration": 156,
    "start_time": "2022-04-13T19:31:24.022Z"
   },
   {
    "duration": 26,
    "start_time": "2022-04-13T19:31:24.179Z"
   },
   {
    "duration": 29,
    "start_time": "2022-04-13T19:31:24.206Z"
   },
   {
    "duration": 6,
    "start_time": "2022-04-13T19:31:24.237Z"
   },
   {
    "duration": 7,
    "start_time": "2022-04-13T19:31:24.248Z"
   },
   {
    "duration": 10,
    "start_time": "2022-04-13T19:31:24.256Z"
   },
   {
    "duration": 200,
    "start_time": "2022-04-13T19:31:24.267Z"
   },
   {
    "duration": 35,
    "start_time": "2022-04-13T19:31:24.469Z"
   },
   {
    "duration": 37,
    "start_time": "2022-04-13T19:31:24.506Z"
   },
   {
    "duration": 6,
    "start_time": "2022-04-13T19:31:24.545Z"
   },
   {
    "duration": 11,
    "start_time": "2022-04-13T19:31:24.552Z"
   },
   {
    "duration": 11,
    "start_time": "2022-04-13T19:31:24.564Z"
   },
   {
    "duration": 45,
    "start_time": "2022-04-13T19:31:24.576Z"
   },
   {
    "duration": 16,
    "start_time": "2022-04-13T19:31:24.622Z"
   },
   {
    "duration": 5,
    "start_time": "2022-04-13T19:31:24.639Z"
   },
   {
    "duration": 5,
    "start_time": "2022-04-13T19:31:24.645Z"
   },
   {
    "duration": 60,
    "start_time": "2022-04-13T19:31:24.651Z"
   },
   {
    "duration": 39,
    "start_time": "2022-04-13T19:31:24.712Z"
   },
   {
    "duration": 48,
    "start_time": "2022-04-13T19:31:24.752Z"
   },
   {
    "duration": 39,
    "start_time": "2022-04-13T19:31:24.801Z"
   },
   {
    "duration": 18,
    "start_time": "2022-04-13T19:31:24.841Z"
   },
   {
    "duration": 14,
    "start_time": "2022-04-13T19:31:24.860Z"
   },
   {
    "duration": 26,
    "start_time": "2022-04-13T19:31:24.876Z"
   },
   {
    "duration": 13,
    "start_time": "2022-04-13T19:31:24.904Z"
   },
   {
    "duration": 19,
    "start_time": "2022-04-13T19:31:24.919Z"
   },
   {
    "duration": 2,
    "start_time": "2022-04-13T19:31:24.940Z"
   },
   {
    "duration": 132,
    "start_time": "2022-04-13T19:31:24.944Z"
   },
   {
    "duration": 8,
    "start_time": "2022-04-13T19:31:25.078Z"
   },
   {
    "duration": 15,
    "start_time": "2022-04-13T19:31:25.087Z"
   },
   {
    "duration": 10,
    "start_time": "2022-04-13T19:31:25.104Z"
   },
   {
    "duration": 9,
    "start_time": "2022-04-13T19:31:25.115Z"
   },
   {
    "duration": 6,
    "start_time": "2022-04-13T19:31:25.125Z"
   },
   {
    "duration": 8,
    "start_time": "2022-04-13T19:31:25.133Z"
   },
   {
    "duration": 5,
    "start_time": "2022-04-13T19:31:25.143Z"
   },
   {
    "duration": 5,
    "start_time": "2022-04-13T19:31:25.150Z"
   },
   {
    "duration": 10,
    "start_time": "2022-04-13T19:31:25.157Z"
   },
   {
    "duration": 232,
    "start_time": "2022-04-13T19:31:25.168Z"
   },
   {
    "duration": 214,
    "start_time": "2022-04-13T19:31:25.401Z"
   },
   {
    "duration": 3,
    "start_time": "2022-04-13T19:31:25.616Z"
   },
   {
    "duration": 14,
    "start_time": "2022-04-13T19:31:25.620Z"
   },
   {
    "duration": 7,
    "start_time": "2022-04-13T19:31:25.636Z"
   },
   {
    "duration": 9,
    "start_time": "2022-04-13T19:31:25.644Z"
   },
   {
    "duration": 3,
    "start_time": "2022-04-13T19:31:56.839Z"
   },
   {
    "duration": 383,
    "start_time": "2022-04-13T19:31:56.844Z"
   },
   {
    "duration": 9,
    "start_time": "2022-04-13T19:31:57.228Z"
   },
   {
    "duration": 9,
    "start_time": "2022-04-13T19:31:57.238Z"
   },
   {
    "duration": 6,
    "start_time": "2022-04-13T19:31:57.249Z"
   },
   {
    "duration": 8,
    "start_time": "2022-04-13T19:31:57.257Z"
   },
   {
    "duration": 9,
    "start_time": "2022-04-13T19:31:57.267Z"
   },
   {
    "duration": 12,
    "start_time": "2022-04-13T19:31:57.278Z"
   },
   {
    "duration": 5,
    "start_time": "2022-04-13T19:31:57.300Z"
   },
   {
    "duration": 26,
    "start_time": "2022-04-13T19:31:57.307Z"
   },
   {
    "duration": 19,
    "start_time": "2022-04-13T19:31:57.336Z"
   },
   {
    "duration": 45,
    "start_time": "2022-04-13T19:31:57.356Z"
   },
   {
    "duration": 10,
    "start_time": "2022-04-13T19:31:57.403Z"
   },
   {
    "duration": 14,
    "start_time": "2022-04-13T19:31:57.415Z"
   },
   {
    "duration": 45,
    "start_time": "2022-04-13T19:31:57.430Z"
   },
   {
    "duration": 51,
    "start_time": "2022-04-13T19:31:57.477Z"
   },
   {
    "duration": 36,
    "start_time": "2022-04-13T19:31:57.530Z"
   },
   {
    "duration": 6,
    "start_time": "2022-04-13T19:31:57.568Z"
   },
   {
    "duration": 33,
    "start_time": "2022-04-13T19:31:57.575Z"
   },
   {
    "duration": 22,
    "start_time": "2022-04-13T19:31:57.610Z"
   },
   {
    "duration": 7,
    "start_time": "2022-04-13T19:31:57.634Z"
   },
   {
    "duration": 16,
    "start_time": "2022-04-13T19:31:57.642Z"
   },
   {
    "duration": 7,
    "start_time": "2022-04-13T19:31:57.659Z"
   },
   {
    "duration": 41,
    "start_time": "2022-04-13T19:31:57.667Z"
   },
   {
    "duration": 9,
    "start_time": "2022-04-13T19:31:57.709Z"
   },
   {
    "duration": 110,
    "start_time": "2022-04-13T19:31:57.719Z"
   },
   {
    "duration": 7,
    "start_time": "2022-04-13T19:31:57.831Z"
   },
   {
    "duration": 20,
    "start_time": "2022-04-13T19:32:01.331Z"
   },
   {
    "duration": 6,
    "start_time": "2022-04-13T19:32:20.330Z"
   },
   {
    "duration": 5,
    "start_time": "2022-04-13T19:32:28.238Z"
   },
   {
    "duration": 5,
    "start_time": "2022-04-13T19:32:34.575Z"
   },
   {
    "duration": 5,
    "start_time": "2022-04-13T19:32:51.898Z"
   },
   {
    "duration": 22,
    "start_time": "2022-04-13T19:37:27.749Z"
   },
   {
    "duration": 29,
    "start_time": "2022-04-13T19:37:38.126Z"
   },
   {
    "duration": 45,
    "start_time": "2022-04-13T19:37:46.400Z"
   },
   {
    "duration": 15,
    "start_time": "2022-04-13T19:37:53.078Z"
   },
   {
    "duration": 24,
    "start_time": "2022-04-13T19:38:39.204Z"
   },
   {
    "duration": 12,
    "start_time": "2022-04-13T19:38:39.927Z"
   },
   {
    "duration": 18,
    "start_time": "2022-04-13T19:41:07.097Z"
   },
   {
    "duration": 213,
    "start_time": "2022-04-13T19:48:06.947Z"
   },
   {
    "duration": 3,
    "start_time": "2022-04-13T19:52:16.076Z"
   },
   {
    "duration": 442,
    "start_time": "2022-04-13T19:52:16.081Z"
   },
   {
    "duration": 9,
    "start_time": "2022-04-13T19:52:16.524Z"
   },
   {
    "duration": 10,
    "start_time": "2022-04-13T19:52:16.535Z"
   },
   {
    "duration": 6,
    "start_time": "2022-04-13T19:52:16.546Z"
   },
   {
    "duration": 8,
    "start_time": "2022-04-13T19:52:16.554Z"
   },
   {
    "duration": 8,
    "start_time": "2022-04-13T19:52:16.564Z"
   },
   {
    "duration": 11,
    "start_time": "2022-04-13T19:52:16.573Z"
   },
   {
    "duration": 17,
    "start_time": "2022-04-13T19:52:16.585Z"
   },
   {
    "duration": 24,
    "start_time": "2022-04-13T19:52:16.603Z"
   },
   {
    "duration": 16,
    "start_time": "2022-04-13T19:52:16.629Z"
   },
   {
    "duration": 20,
    "start_time": "2022-04-13T19:52:16.647Z"
   },
   {
    "duration": 33,
    "start_time": "2022-04-13T19:52:16.669Z"
   },
   {
    "duration": 20,
    "start_time": "2022-04-13T19:52:16.704Z"
   },
   {
    "duration": 47,
    "start_time": "2022-04-13T19:52:16.725Z"
   },
   {
    "duration": 42,
    "start_time": "2022-04-13T19:52:16.773Z"
   },
   {
    "duration": 38,
    "start_time": "2022-04-13T19:52:16.816Z"
   },
   {
    "duration": 6,
    "start_time": "2022-04-13T19:52:16.856Z"
   },
   {
    "duration": 11,
    "start_time": "2022-04-13T19:52:16.864Z"
   },
   {
    "duration": 45,
    "start_time": "2022-04-13T19:52:16.877Z"
   },
   {
    "duration": 9,
    "start_time": "2022-04-13T19:52:16.924Z"
   },
   {
    "duration": 16,
    "start_time": "2022-04-13T19:52:16.935Z"
   },
   {
    "duration": 7,
    "start_time": "2022-04-13T19:52:16.953Z"
   },
   {
    "duration": 41,
    "start_time": "2022-04-13T19:52:16.962Z"
   },
   {
    "duration": 8,
    "start_time": "2022-04-13T19:52:17.005Z"
   },
   {
    "duration": 117,
    "start_time": "2022-04-13T19:52:17.015Z"
   },
   {
    "duration": 7,
    "start_time": "2022-04-13T19:52:17.133Z"
   },
   {
    "duration": 58,
    "start_time": "2022-04-13T19:52:17.142Z"
   },
   {
    "duration": 22,
    "start_time": "2022-04-13T19:52:17.204Z"
   },
   {
    "duration": 11,
    "start_time": "2022-04-13T19:52:17.228Z"
   },
   {
    "duration": 611,
    "start_time": "2022-04-13T19:52:17.240Z"
   },
   {
    "duration": 645,
    "start_time": "2022-04-13T19:52:17.853Z"
   },
   {
    "duration": 667,
    "start_time": "2022-04-13T19:52:18.500Z"
   },
   {
    "duration": 618,
    "start_time": "2022-04-13T19:52:19.168Z"
   },
   {
    "duration": 58,
    "start_time": "2022-04-13T19:52:19.788Z"
   },
   {
    "duration": 26,
    "start_time": "2022-04-13T19:52:19.847Z"
   },
   {
    "duration": 9,
    "start_time": "2022-04-13T19:52:19.875Z"
   },
   {
    "duration": 542,
    "start_time": "2022-04-13T19:52:19.900Z"
   },
   {
    "duration": 756,
    "start_time": "2022-04-13T19:52:20.444Z"
   },
   {
    "duration": 64,
    "start_time": "2022-04-13T19:52:21.202Z"
   },
   {
    "duration": 48,
    "start_time": "2022-04-13T19:52:21.267Z"
   },
   {
    "duration": 10,
    "start_time": "2022-04-13T19:52:21.317Z"
   },
   {
    "duration": 604,
    "start_time": "2022-04-13T19:52:21.328Z"
   },
   {
    "duration": 746,
    "start_time": "2022-04-13T19:52:21.934Z"
   },
   {
    "duration": 4,
    "start_time": "2022-04-13T19:52:22.681Z"
   },
   {
    "duration": 37,
    "start_time": "2022-04-13T19:52:22.687Z"
   },
   {
    "duration": 421,
    "start_time": "2022-04-13T19:52:46.991Z"
   },
   {
    "duration": 441,
    "start_time": "2022-04-13T19:52:59.701Z"
   },
   {
    "duration": 4,
    "start_time": "2022-04-13T19:53:16.836Z"
   },
   {
    "duration": 386,
    "start_time": "2022-04-13T19:53:25.178Z"
   },
   {
    "duration": 4,
    "start_time": "2022-04-13T19:53:54.107Z"
   },
   {
    "duration": 300,
    "start_time": "2022-04-13T19:53:56.822Z"
   },
   {
    "duration": 32,
    "start_time": "2022-04-13T19:55:28.862Z"
   },
   {
    "duration": 12,
    "start_time": "2022-04-13T19:55:35.867Z"
   },
   {
    "duration": 12,
    "start_time": "2022-04-13T19:55:48.748Z"
   },
   {
    "duration": 12,
    "start_time": "2022-04-13T19:55:54.154Z"
   },
   {
    "duration": 89,
    "start_time": "2022-04-13T19:56:16.273Z"
   },
   {
    "duration": 6,
    "start_time": "2022-04-13T19:56:41.290Z"
   },
   {
    "duration": 30,
    "start_time": "2022-04-13T19:56:43.748Z"
   },
   {
    "duration": 231,
    "start_time": "2022-04-13T19:56:44.383Z"
   },
   {
    "duration": 208,
    "start_time": "2022-04-13T19:56:47.947Z"
   },
   {
    "duration": 205,
    "start_time": "2022-04-13T19:56:52.278Z"
   },
   {
    "duration": 4,
    "start_time": "2022-04-13T19:57:22.891Z"
   },
   {
    "duration": 30,
    "start_time": "2022-04-13T20:03:30.857Z"
   },
   {
    "duration": 305,
    "start_time": "2022-04-13T20:03:31.901Z"
   },
   {
    "duration": 215,
    "start_time": "2022-04-13T20:03:44.531Z"
   },
   {
    "duration": 28,
    "start_time": "2022-04-13T20:03:48.380Z"
   },
   {
    "duration": 260,
    "start_time": "2022-04-13T20:03:51.695Z"
   },
   {
    "duration": 12,
    "start_time": "2022-04-13T20:06:00.921Z"
   },
   {
    "duration": 160,
    "start_time": "2022-04-13T20:07:28.530Z"
   },
   {
    "duration": 210,
    "start_time": "2022-04-13T20:07:33.151Z"
   },
   {
    "duration": 18,
    "start_time": "2022-04-13T20:12:17.812Z"
   },
   {
    "duration": 14,
    "start_time": "2022-04-13T20:14:12.939Z"
   },
   {
    "duration": 3,
    "start_time": "2022-04-13T20:14:32.315Z"
   },
   {
    "duration": 387,
    "start_time": "2022-04-13T20:14:32.320Z"
   },
   {
    "duration": 9,
    "start_time": "2022-04-13T20:14:32.709Z"
   },
   {
    "duration": 10,
    "start_time": "2022-04-13T20:14:32.720Z"
   },
   {
    "duration": 8,
    "start_time": "2022-04-13T20:14:32.732Z"
   },
   {
    "duration": 9,
    "start_time": "2022-04-13T20:14:32.741Z"
   },
   {
    "duration": 11,
    "start_time": "2022-04-13T20:14:32.752Z"
   },
   {
    "duration": 14,
    "start_time": "2022-04-13T20:14:32.764Z"
   },
   {
    "duration": 24,
    "start_time": "2022-04-13T20:14:32.779Z"
   },
   {
    "duration": 33,
    "start_time": "2022-04-13T20:14:32.804Z"
   },
   {
    "duration": 22,
    "start_time": "2022-04-13T20:14:32.840Z"
   },
   {
    "duration": 19,
    "start_time": "2022-04-13T20:14:32.864Z"
   },
   {
    "duration": 9,
    "start_time": "2022-04-13T20:14:32.899Z"
   },
   {
    "duration": 16,
    "start_time": "2022-04-13T20:14:32.910Z"
   },
   {
    "duration": 53,
    "start_time": "2022-04-13T20:14:32.928Z"
   },
   {
    "duration": 45,
    "start_time": "2022-04-13T20:14:32.983Z"
   },
   {
    "duration": 34,
    "start_time": "2022-04-13T20:14:33.029Z"
   },
   {
    "duration": 7,
    "start_time": "2022-04-13T20:14:33.065Z"
   },
   {
    "duration": 34,
    "start_time": "2022-04-13T20:14:33.073Z"
   },
   {
    "duration": 21,
    "start_time": "2022-04-13T20:14:33.109Z"
   },
   {
    "duration": 8,
    "start_time": "2022-04-13T20:14:33.132Z"
   },
   {
    "duration": 16,
    "start_time": "2022-04-13T20:14:33.141Z"
   },
   {
    "duration": 7,
    "start_time": "2022-04-13T20:14:33.159Z"
   },
   {
    "duration": 44,
    "start_time": "2022-04-13T20:14:33.168Z"
   },
   {
    "duration": 8,
    "start_time": "2022-04-13T20:14:33.214Z"
   },
   {
    "duration": 135,
    "start_time": "2022-04-13T20:14:33.224Z"
   },
   {
    "duration": 9,
    "start_time": "2022-04-13T20:14:33.361Z"
   },
   {
    "duration": 55,
    "start_time": "2022-04-13T20:14:33.372Z"
   },
   {
    "duration": 29,
    "start_time": "2022-04-13T20:14:33.433Z"
   },
   {
    "duration": 17,
    "start_time": "2022-04-13T20:14:33.464Z"
   },
   {
    "duration": 588,
    "start_time": "2022-04-13T20:14:33.482Z"
   },
   {
    "duration": 705,
    "start_time": "2022-04-13T20:14:34.071Z"
   },
   {
    "duration": 622,
    "start_time": "2022-04-13T20:14:34.778Z"
   },
   {
    "duration": 669,
    "start_time": "2022-04-13T20:14:35.402Z"
   },
   {
    "duration": 65,
    "start_time": "2022-04-13T20:14:36.072Z"
   },
   {
    "duration": 27,
    "start_time": "2022-04-13T20:14:36.139Z"
   },
   {
    "duration": 9,
    "start_time": "2022-04-13T20:14:36.167Z"
   },
   {
    "duration": 572,
    "start_time": "2022-04-13T20:14:36.178Z"
   },
   {
    "duration": 631,
    "start_time": "2022-04-13T20:14:36.751Z"
   },
   {
    "duration": 65,
    "start_time": "2022-04-13T20:14:37.383Z"
   },
   {
    "duration": 33,
    "start_time": "2022-04-13T20:14:37.449Z"
   },
   {
    "duration": 22,
    "start_time": "2022-04-13T20:14:37.483Z"
   },
   {
    "duration": 566,
    "start_time": "2022-04-13T20:14:37.507Z"
   },
   {
    "duration": 703,
    "start_time": "2022-04-13T20:14:38.074Z"
   },
   {
    "duration": 4,
    "start_time": "2022-04-13T20:14:38.779Z"
   },
   {
    "duration": 29,
    "start_time": "2022-04-13T20:14:38.799Z"
   },
   {
    "duration": 226,
    "start_time": "2022-04-13T20:14:38.829Z"
   },
   {
    "duration": 225,
    "start_time": "2022-04-13T20:14:39.057Z"
   },
   {
    "duration": 37,
    "start_time": "2022-04-13T20:14:39.284Z"
   },
   {
    "duration": 230,
    "start_time": "2022-04-13T20:14:39.322Z"
   },
   {
    "duration": 215,
    "start_time": "2022-04-13T20:14:39.553Z"
   },
   {
    "duration": 2,
    "start_time": "2022-04-13T20:14:39.770Z"
   },
   {
    "duration": 15,
    "start_time": "2022-04-13T20:14:39.773Z"
   },
   {
    "duration": 3,
    "start_time": "2022-04-13T20:14:39.800Z"
   },
   {
    "duration": 5,
    "start_time": "2022-04-13T20:14:39.805Z"
   },
   {
    "duration": 5,
    "start_time": "2022-04-13T20:14:39.812Z"
   },
   {
    "duration": 6,
    "start_time": "2022-04-13T20:14:39.819Z"
   },
   {
    "duration": 28,
    "start_time": "2022-04-13T20:14:39.826Z"
   },
   {
    "duration": 306,
    "start_time": "2022-04-13T20:14:39.855Z"
   },
   {
    "duration": 27,
    "start_time": "2022-04-13T20:14:40.162Z"
   },
   {
    "duration": 232,
    "start_time": "2022-04-13T20:14:40.190Z"
   },
   {
    "duration": 3,
    "start_time": "2022-04-13T20:14:40.423Z"
   },
   {
    "duration": 8,
    "start_time": "2022-04-13T20:14:40.427Z"
   },
   {
    "duration": 5,
    "start_time": "2022-04-13T20:14:40.437Z"
   },
   {
    "duration": 26,
    "start_time": "2022-04-13T20:14:40.443Z"
   },
   {
    "duration": 212,
    "start_time": "2022-04-13T20:14:40.470Z"
   },
   {
    "duration": 37,
    "start_time": "2022-04-13T20:14:40.684Z"
   },
   {
    "duration": 213,
    "start_time": "2022-04-13T20:14:40.723Z"
   },
   {
    "duration": 3,
    "start_time": "2022-04-13T20:14:40.937Z"
   },
   {
    "duration": 22,
    "start_time": "2022-04-13T20:14:40.941Z"
   },
   {
    "duration": 20,
    "start_time": "2022-04-13T20:14:40.964Z"
   },
   {
    "duration": 30,
    "start_time": "2022-04-13T20:14:40.985Z"
   },
   {
    "duration": 211,
    "start_time": "2022-04-13T20:14:41.016Z"
   },
   {
    "duration": 21,
    "start_time": "2022-04-13T20:14:45.590Z"
   },
   {
    "duration": 18,
    "start_time": "2022-04-13T20:15:00.163Z"
   },
   {
    "duration": 21,
    "start_time": "2022-04-13T20:15:24.966Z"
   },
   {
    "duration": 100,
    "start_time": "2022-04-13T20:15:54.311Z"
   },
   {
    "duration": 13,
    "start_time": "2022-04-13T20:16:30.449Z"
   },
   {
    "duration": 42,
    "start_time": "2022-04-13T20:16:47.921Z"
   },
   {
    "duration": 38,
    "start_time": "2022-04-13T20:17:00.754Z"
   },
   {
    "duration": 7,
    "start_time": "2022-04-13T20:17:02.589Z"
   },
   {
    "duration": 18,
    "start_time": "2022-04-13T20:17:24.401Z"
   },
   {
    "duration": 14,
    "start_time": "2022-04-13T20:18:01.673Z"
   },
   {
    "duration": 8,
    "start_time": "2022-04-13T20:18:10.629Z"
   },
   {
    "duration": 3,
    "start_time": "2022-04-13T20:19:44.386Z"
   },
   {
    "duration": 409,
    "start_time": "2022-04-13T20:19:44.392Z"
   },
   {
    "duration": 9,
    "start_time": "2022-04-13T20:19:44.803Z"
   },
   {
    "duration": 11,
    "start_time": "2022-04-13T20:19:44.814Z"
   },
   {
    "duration": 9,
    "start_time": "2022-04-13T20:19:44.828Z"
   },
   {
    "duration": 9,
    "start_time": "2022-04-13T20:19:44.839Z"
   },
   {
    "duration": 10,
    "start_time": "2022-04-13T20:19:44.850Z"
   },
   {
    "duration": 13,
    "start_time": "2022-04-13T20:19:44.861Z"
   },
   {
    "duration": 8,
    "start_time": "2022-04-13T20:19:44.900Z"
   },
   {
    "duration": 31,
    "start_time": "2022-04-13T20:19:44.911Z"
   },
   {
    "duration": 32,
    "start_time": "2022-04-13T20:19:44.946Z"
   },
   {
    "duration": 58,
    "start_time": "2022-04-13T20:19:44.980Z"
   },
   {
    "duration": 14,
    "start_time": "2022-04-13T20:19:45.040Z"
   },
   {
    "duration": 21,
    "start_time": "2022-04-13T20:19:45.056Z"
   },
   {
    "duration": 98,
    "start_time": "2022-04-13T20:19:45.079Z"
   },
   {
    "duration": 66,
    "start_time": "2022-04-13T20:19:45.179Z"
   },
   {
    "duration": 37,
    "start_time": "2022-04-13T20:19:45.247Z"
   },
   {
    "duration": 7,
    "start_time": "2022-04-13T20:19:45.299Z"
   },
   {
    "duration": 12,
    "start_time": "2022-04-13T20:19:45.308Z"
   },
   {
    "duration": 23,
    "start_time": "2022-04-13T20:19:45.322Z"
   },
   {
    "duration": 8,
    "start_time": "2022-04-13T20:19:45.346Z"
   },
   {
    "duration": 16,
    "start_time": "2022-04-13T20:19:45.356Z"
   },
   {
    "duration": 10,
    "start_time": "2022-04-13T20:19:45.401Z"
   },
   {
    "duration": 23,
    "start_time": "2022-04-13T20:19:45.413Z"
   },
   {
    "duration": 10,
    "start_time": "2022-04-13T20:19:45.437Z"
   },
   {
    "duration": 131,
    "start_time": "2022-04-13T20:19:45.448Z"
   },
   {
    "duration": 8,
    "start_time": "2022-04-13T20:19:45.580Z"
   },
   {
    "duration": 54,
    "start_time": "2022-04-13T20:19:45.590Z"
   },
   {
    "duration": 22,
    "start_time": "2022-04-13T20:19:45.650Z"
   },
   {
    "duration": 12,
    "start_time": "2022-04-13T20:19:45.674Z"
   },
   {
    "duration": 668,
    "start_time": "2022-04-13T20:19:45.700Z"
   },
   {
    "duration": 621,
    "start_time": "2022-04-13T20:19:46.370Z"
   },
   {
    "duration": 670,
    "start_time": "2022-04-13T20:19:46.992Z"
   },
   {
    "duration": 730,
    "start_time": "2022-04-13T20:19:47.664Z"
   },
   {
    "duration": 55,
    "start_time": "2022-04-13T20:19:48.400Z"
   },
   {
    "duration": 31,
    "start_time": "2022-04-13T20:19:48.457Z"
   },
   {
    "duration": 10,
    "start_time": "2022-04-13T20:19:48.500Z"
   },
   {
    "duration": 542,
    "start_time": "2022-04-13T20:19:48.512Z"
   },
   {
    "duration": 621,
    "start_time": "2022-04-13T20:19:49.056Z"
   },
   {
    "duration": 85,
    "start_time": "2022-04-13T20:19:49.679Z"
   },
   {
    "duration": 40,
    "start_time": "2022-04-13T20:19:49.765Z"
   },
   {
    "duration": 11,
    "start_time": "2022-04-13T20:19:49.807Z"
   },
   {
    "duration": 613,
    "start_time": "2022-04-13T20:19:49.820Z"
   },
   {
    "duration": 1008,
    "start_time": "2022-04-13T20:19:50.434Z"
   },
   {
    "duration": 5,
    "start_time": "2022-04-13T20:19:51.444Z"
   },
   {
    "duration": 54,
    "start_time": "2022-04-13T20:19:51.451Z"
   },
   {
    "duration": 367,
    "start_time": "2022-04-13T20:19:51.507Z"
   },
   {
    "duration": 241,
    "start_time": "2022-04-13T20:19:51.876Z"
   },
   {
    "duration": 50,
    "start_time": "2022-04-13T20:19:52.119Z"
   },
   {
    "duration": 355,
    "start_time": "2022-04-13T20:19:52.171Z"
   },
   {
    "duration": 355,
    "start_time": "2022-04-13T20:19:52.528Z"
   },
   {
    "duration": 3,
    "start_time": "2022-04-13T20:19:52.885Z"
   },
   {
    "duration": 29,
    "start_time": "2022-04-13T20:19:52.890Z"
   },
   {
    "duration": 5,
    "start_time": "2022-04-13T20:19:52.921Z"
   },
   {
    "duration": 9,
    "start_time": "2022-04-13T20:19:52.928Z"
   },
   {
    "duration": 7,
    "start_time": "2022-04-13T20:19:52.939Z"
   },
   {
    "duration": 9,
    "start_time": "2022-04-13T20:19:52.948Z"
   },
   {
    "duration": 46,
    "start_time": "2022-04-13T20:19:52.959Z"
   },
   {
    "duration": 250,
    "start_time": "2022-04-13T20:19:53.007Z"
   },
   {
    "duration": 45,
    "start_time": "2022-04-13T20:19:53.259Z"
   },
   {
    "duration": 345,
    "start_time": "2022-04-13T20:19:53.306Z"
   },
   {
    "duration": 3,
    "start_time": "2022-04-13T20:19:53.652Z"
   },
   {
    "duration": 10,
    "start_time": "2022-04-13T20:19:53.656Z"
   },
   {
    "duration": 8,
    "start_time": "2022-04-13T20:19:53.668Z"
   },
   {
    "duration": 41,
    "start_time": "2022-04-13T20:19:53.678Z"
   },
   {
    "duration": 214,
    "start_time": "2022-04-13T20:19:53.721Z"
   },
   {
    "duration": 45,
    "start_time": "2022-04-13T20:19:53.937Z"
   },
   {
    "duration": 247,
    "start_time": "2022-04-13T20:19:53.984Z"
   },
   {
    "duration": 3,
    "start_time": "2022-04-13T20:19:54.233Z"
   },
   {
    "duration": 7,
    "start_time": "2022-04-13T20:19:54.238Z"
   },
   {
    "duration": 8,
    "start_time": "2022-04-13T20:19:54.247Z"
   },
   {
    "duration": 24,
    "start_time": "2022-04-13T20:19:54.257Z"
   },
   {
    "duration": 373,
    "start_time": "2022-04-13T20:19:54.282Z"
   },
   {
    "duration": 30,
    "start_time": "2022-04-13T20:19:54.656Z"
   },
   {
    "duration": 82,
    "start_time": "2022-04-13T20:20:11.198Z"
   },
   {
    "duration": 45,
    "start_time": "2022-04-13T20:20:37.906Z"
   },
   {
    "duration": 53,
    "start_time": "2022-04-13T20:21:05.771Z"
   },
   {
    "duration": 42,
    "start_time": "2022-04-13T20:21:12.300Z"
   },
   {
    "duration": 23,
    "start_time": "2022-04-13T20:21:44.334Z"
   },
   {
    "duration": 126,
    "start_time": "2022-04-14T07:13:02.297Z"
   },
   {
    "duration": 2273,
    "start_time": "2022-04-14T07:17:41.726Z"
   },
   {
    "duration": 482,
    "start_time": "2022-04-14T07:17:44.002Z"
   },
   {
    "duration": 23,
    "start_time": "2022-04-14T07:17:44.487Z"
   },
   {
    "duration": 13,
    "start_time": "2022-04-14T07:17:44.513Z"
   },
   {
    "duration": 38,
    "start_time": "2022-04-14T07:17:44.529Z"
   },
   {
    "duration": 14,
    "start_time": "2022-04-14T07:17:44.569Z"
   },
   {
    "duration": 13,
    "start_time": "2022-04-14T07:17:44.585Z"
   },
   {
    "duration": 19,
    "start_time": "2022-04-14T07:17:44.600Z"
   },
   {
    "duration": 53,
    "start_time": "2022-04-14T07:17:44.621Z"
   },
   {
    "duration": 34,
    "start_time": "2022-04-14T07:17:44.678Z"
   },
   {
    "duration": 25,
    "start_time": "2022-04-14T07:17:44.714Z"
   },
   {
    "duration": 42,
    "start_time": "2022-04-14T07:17:44.741Z"
   },
   {
    "duration": 20,
    "start_time": "2022-04-14T07:17:44.785Z"
   },
   {
    "duration": 33,
    "start_time": "2022-04-14T07:17:44.807Z"
   },
   {
    "duration": 85,
    "start_time": "2022-04-14T07:17:44.842Z"
   },
   {
    "duration": 69,
    "start_time": "2022-04-14T07:17:44.929Z"
   },
   {
    "duration": 72,
    "start_time": "2022-04-14T07:17:45.000Z"
   },
   {
    "duration": 9,
    "start_time": "2022-04-14T07:17:45.074Z"
   },
   {
    "duration": 71,
    "start_time": "2022-04-14T07:17:45.085Z"
   },
   {
    "duration": 54,
    "start_time": "2022-04-14T07:17:45.159Z"
   },
   {
    "duration": 22,
    "start_time": "2022-04-14T07:17:45.216Z"
   },
   {
    "duration": 51,
    "start_time": "2022-04-14T07:17:45.241Z"
   },
   {
    "duration": 11,
    "start_time": "2022-04-14T07:17:45.294Z"
   },
   {
    "duration": 36,
    "start_time": "2022-04-14T07:17:45.307Z"
   },
   {
    "duration": 19,
    "start_time": "2022-04-14T07:17:45.345Z"
   },
   {
    "duration": 184,
    "start_time": "2022-04-14T07:17:45.366Z"
   },
   {
    "duration": 16,
    "start_time": "2022-04-14T07:17:45.552Z"
   },
   {
    "duration": 57,
    "start_time": "2022-04-14T07:17:45.576Z"
   },
   {
    "duration": 49,
    "start_time": "2022-04-14T07:17:45.636Z"
   },
   {
    "duration": 18,
    "start_time": "2022-04-14T07:17:45.688Z"
   },
   {
    "duration": 998,
    "start_time": "2022-04-14T07:17:45.708Z"
   },
   {
    "duration": 1024,
    "start_time": "2022-04-14T07:17:46.709Z"
   },
   {
    "duration": 982,
    "start_time": "2022-04-14T07:17:47.736Z"
   },
   {
    "duration": 1063,
    "start_time": "2022-04-14T07:17:48.721Z"
   },
   {
    "duration": 91,
    "start_time": "2022-04-14T07:17:49.786Z"
   },
   {
    "duration": 38,
    "start_time": "2022-04-14T07:17:49.879Z"
   },
   {
    "duration": 32,
    "start_time": "2022-04-14T07:17:49.919Z"
   },
   {
    "duration": 918,
    "start_time": "2022-04-14T07:17:49.955Z"
   },
   {
    "duration": 1082,
    "start_time": "2022-04-14T07:17:50.875Z"
   },
   {
    "duration": 108,
    "start_time": "2022-04-14T07:17:51.959Z"
   },
   {
    "duration": 50,
    "start_time": "2022-04-14T07:17:52.070Z"
   },
   {
    "duration": 43,
    "start_time": "2022-04-14T07:17:52.122Z"
   },
   {
    "duration": 1000,
    "start_time": "2022-04-14T07:17:52.167Z"
   },
   {
    "duration": 1062,
    "start_time": "2022-04-14T07:17:53.170Z"
   },
   {
    "duration": 5,
    "start_time": "2022-04-14T07:17:54.234Z"
   },
   {
    "duration": 47,
    "start_time": "2022-04-14T07:18:12.353Z"
   },
   {
    "duration": 6,
    "start_time": "2022-04-14T07:18:29.430Z"
   },
   {
    "duration": 6,
    "start_time": "2022-04-14T07:18:55.414Z"
   },
   {
    "duration": 8,
    "start_time": "2022-04-14T07:19:00.015Z"
   },
   {
    "duration": 19,
    "start_time": "2022-04-14T07:19:21.598Z"
   },
   {
    "duration": 8,
    "start_time": "2022-04-14T07:19:34.834Z"
   },
   {
    "duration": 8,
    "start_time": "2022-04-14T07:19:57.904Z"
   },
   {
    "duration": 10,
    "start_time": "2022-04-14T07:20:08.686Z"
   },
   {
    "duration": 30,
    "start_time": "2022-04-14T07:24:34.930Z"
   },
   {
    "duration": 431,
    "start_time": "2022-04-14T07:33:22.877Z"
   },
   {
    "duration": 415,
    "start_time": "2022-04-14T07:37:06.677Z"
   },
   {
    "duration": 53,
    "start_time": "2022-04-14T07:37:09.696Z"
   },
   {
    "duration": 507,
    "start_time": "2022-04-14T07:37:11.782Z"
   },
   {
    "duration": 425,
    "start_time": "2022-04-14T07:37:12.966Z"
   },
   {
    "duration": 4,
    "start_time": "2022-04-14T07:37:22.064Z"
   },
   {
    "duration": 21,
    "start_time": "2022-04-14T07:37:23.852Z"
   },
   {
    "duration": 6,
    "start_time": "2022-04-14T07:37:27.503Z"
   },
   {
    "duration": 6,
    "start_time": "2022-04-14T07:37:30.079Z"
   },
   {
    "duration": 6,
    "start_time": "2022-04-14T07:37:30.743Z"
   },
   {
    "duration": 6,
    "start_time": "2022-04-14T07:37:31.318Z"
   },
   {
    "duration": 16,
    "start_time": "2022-04-14T07:38:47.569Z"
   },
   {
    "duration": 20,
    "start_time": "2022-04-14T07:39:00.569Z"
   },
   {
    "duration": 20,
    "start_time": "2022-04-14T07:39:08.741Z"
   },
   {
    "duration": 111,
    "start_time": "2022-04-14T07:40:16.130Z"
   },
   {
    "duration": 12,
    "start_time": "2022-04-14T07:40:19.365Z"
   },
   {
    "duration": 13,
    "start_time": "2022-04-14T07:40:29.321Z"
   },
   {
    "duration": 23,
    "start_time": "2022-04-14T07:41:56.117Z"
   },
   {
    "duration": 91,
    "start_time": "2022-04-14T07:42:13.518Z"
   },
   {
    "duration": 15,
    "start_time": "2022-04-14T07:42:18.205Z"
   },
   {
    "duration": 22,
    "start_time": "2022-04-14T07:42:22.290Z"
   },
   {
    "duration": 8,
    "start_time": "2022-04-14T07:42:47.420Z"
   },
   {
    "duration": 8,
    "start_time": "2022-04-14T07:43:01.020Z"
   },
   {
    "duration": 9,
    "start_time": "2022-04-14T07:43:04.287Z"
   },
   {
    "duration": 8,
    "start_time": "2022-04-14T07:43:06.778Z"
   },
   {
    "duration": 9,
    "start_time": "2022-04-14T07:43:10.163Z"
   },
   {
    "duration": 11,
    "start_time": "2022-04-14T07:43:16.966Z"
   },
   {
    "duration": 9,
    "start_time": "2022-04-14T07:43:21.815Z"
   },
   {
    "duration": 8,
    "start_time": "2022-04-14T07:43:28.143Z"
   },
   {
    "duration": 28,
    "start_time": "2022-04-14T07:44:25.830Z"
   },
   {
    "duration": 14,
    "start_time": "2022-04-14T07:44:49.553Z"
   },
   {
    "duration": 19,
    "start_time": "2022-04-14T07:51:31.402Z"
   },
   {
    "duration": 28,
    "start_time": "2022-04-14T07:51:34.922Z"
   },
   {
    "duration": 22,
    "start_time": "2022-04-14T07:51:39.287Z"
   },
   {
    "duration": 150,
    "start_time": "2022-04-14T07:51:44.200Z"
   },
   {
    "duration": 19,
    "start_time": "2022-04-14T07:51:48.699Z"
   },
   {
    "duration": 35,
    "start_time": "2022-04-14T07:54:37.681Z"
   },
   {
    "duration": 395,
    "start_time": "2022-04-14T07:54:38.645Z"
   },
   {
    "duration": 47,
    "start_time": "2022-04-14T07:54:40.424Z"
   },
   {
    "duration": 431,
    "start_time": "2022-04-14T07:54:41.842Z"
   },
   {
    "duration": 3,
    "start_time": "2022-04-14T07:54:42.373Z"
   },
   {
    "duration": 6,
    "start_time": "2022-04-14T07:54:42.709Z"
   },
   {
    "duration": 5,
    "start_time": "2022-04-14T07:54:43.565Z"
   },
   {
    "duration": 40,
    "start_time": "2022-04-14T07:54:46.253Z"
   },
   {
    "duration": 394,
    "start_time": "2022-04-14T07:54:48.439Z"
   },
   {
    "duration": 55,
    "start_time": "2022-04-14T07:54:48.913Z"
   },
   {
    "duration": 404,
    "start_time": "2022-04-14T07:54:51.896Z"
   },
   {
    "duration": 4,
    "start_time": "2022-04-14T07:54:54.888Z"
   },
   {
    "duration": 7,
    "start_time": "2022-04-14T07:54:55.073Z"
   },
   {
    "duration": 7,
    "start_time": "2022-04-14T07:54:55.313Z"
   },
   {
    "duration": 19,
    "start_time": "2022-04-14T07:54:57.687Z"
   },
   {
    "duration": 342,
    "start_time": "2022-04-14T07:55:04.889Z"
   },
   {
    "duration": 41,
    "start_time": "2022-04-14T07:55:05.974Z"
   },
   {
    "duration": 32,
    "start_time": "2022-04-14T07:55:38.400Z"
   },
   {
    "duration": 19,
    "start_time": "2022-04-14T07:56:02.365Z"
   },
   {
    "duration": 26,
    "start_time": "2022-04-14T07:56:07.138Z"
   },
   {
    "duration": 19,
    "start_time": "2022-04-14T07:56:10.707Z"
   },
   {
    "duration": 20,
    "start_time": "2022-04-14T07:56:21.762Z"
   },
   {
    "duration": 60,
    "start_time": "2022-04-14T07:57:30.114Z"
   },
   {
    "duration": 19,
    "start_time": "2022-04-14T07:57:39.849Z"
   },
   {
    "duration": 15,
    "start_time": "2022-04-14T07:58:22.261Z"
   },
   {
    "duration": 36,
    "start_time": "2022-04-14T07:58:23.595Z"
   },
   {
    "duration": 336,
    "start_time": "2022-04-14T07:58:25.913Z"
   },
   {
    "duration": 35,
    "start_time": "2022-04-14T07:58:26.920Z"
   },
   {
    "duration": 52,
    "start_time": "2022-04-14T07:58:28.707Z"
   },
   {
    "duration": 9,
    "start_time": "2022-04-14T07:58:30.029Z"
   },
   {
    "duration": 17,
    "start_time": "2022-04-14T07:58:30.565Z"
   },
   {
    "duration": 16,
    "start_time": "2022-04-14T07:58:31.089Z"
   },
   {
    "duration": 305,
    "start_time": "2022-04-14T07:58:52.394Z"
   },
   {
    "duration": 49,
    "start_time": "2022-04-14T07:58:53.214Z"
   },
   {
    "duration": 57,
    "start_time": "2022-04-14T07:58:54.774Z"
   },
   {
    "duration": 10,
    "start_time": "2022-04-14T07:58:55.437Z"
   },
   {
    "duration": 12,
    "start_time": "2022-04-14T07:58:57.302Z"
   },
   {
    "duration": 64,
    "start_time": "2022-04-14T07:59:35.517Z"
   },
   {
    "duration": 10,
    "start_time": "2022-04-14T07:59:37.182Z"
   },
   {
    "duration": 12,
    "start_time": "2022-04-14T07:59:39.835Z"
   },
   {
    "duration": 124,
    "start_time": "2022-04-14T07:59:43.138Z"
   },
   {
    "duration": 21,
    "start_time": "2022-04-14T07:59:46.266Z"
   },
   {
    "duration": 12,
    "start_time": "2022-04-14T07:59:57.986Z"
   },
   {
    "duration": 15,
    "start_time": "2022-04-14T08:00:01.223Z"
   },
   {
    "duration": 15,
    "start_time": "2022-04-14T08:00:40.931Z"
   },
   {
    "duration": 136,
    "start_time": "2022-04-14T08:07:10.161Z"
   },
   {
    "duration": 31,
    "start_time": "2022-04-14T08:07:26.341Z"
   },
   {
    "duration": 63,
    "start_time": "2022-04-14T08:09:14.098Z"
   },
   {
    "duration": 61,
    "start_time": "2022-04-14T08:11:17.357Z"
   },
   {
    "duration": 90,
    "start_time": "2022-04-14T08:11:37.371Z"
   },
   {
    "duration": 23,
    "start_time": "2022-04-14T08:19:25.887Z"
   },
   {
    "duration": 51,
    "start_time": "2022-04-14T08:19:27.147Z"
   },
   {
    "duration": 118,
    "start_time": "2022-04-14T08:21:03.132Z"
   },
   {
    "duration": 119,
    "start_time": "2022-04-14T08:21:03.709Z"
   },
   {
    "duration": 28,
    "start_time": "2022-04-14T08:38:40.469Z"
   },
   {
    "duration": 36,
    "start_time": "2022-04-14T08:46:20.066Z"
   },
   {
    "duration": 17,
    "start_time": "2022-04-14T08:49:56.139Z"
   },
   {
    "duration": 41,
    "start_time": "2022-04-14T08:50:34.451Z"
   },
   {
    "duration": 92,
    "start_time": "2022-04-14T08:50:57.144Z"
   },
   {
    "duration": 25,
    "start_time": "2022-04-14T08:51:01.896Z"
   },
   {
    "duration": 99,
    "start_time": "2022-04-14T08:51:14.003Z"
   },
   {
    "duration": 73,
    "start_time": "2022-04-14T08:51:17.200Z"
   },
   {
    "duration": 116,
    "start_time": "2022-04-14T08:51:49.981Z"
   },
   {
    "duration": 131,
    "start_time": "2022-04-14T08:52:26.351Z"
   },
   {
    "duration": 131,
    "start_time": "2022-04-14T08:52:39.785Z"
   },
   {
    "duration": 92,
    "start_time": "2022-04-14T08:53:30.966Z"
   },
   {
    "duration": 136,
    "start_time": "2022-04-14T08:54:53.867Z"
   },
   {
    "duration": 15,
    "start_time": "2022-04-14T08:55:34.065Z"
   },
   {
    "duration": 6,
    "start_time": "2022-04-14T09:11:51.388Z"
   },
   {
    "duration": 4,
    "start_time": "2022-04-14T09:11:53.518Z"
   },
   {
    "duration": 74,
    "start_time": "2022-04-14T09:12:01.226Z"
   },
   {
    "duration": 72,
    "start_time": "2022-04-14T09:12:02.314Z"
   },
   {
    "duration": 72,
    "start_time": "2022-04-14T09:12:02.829Z"
   },
   {
    "duration": 73,
    "start_time": "2022-04-14T09:12:03.451Z"
   },
   {
    "duration": 29,
    "start_time": "2022-04-14T09:12:04.081Z"
   },
   {
    "duration": 19,
    "start_time": "2022-04-14T09:12:53.394Z"
   },
   {
    "duration": 15,
    "start_time": "2022-04-14T09:12:58.192Z"
   },
   {
    "duration": 16,
    "start_time": "2022-04-14T09:13:02.880Z"
   },
   {
    "duration": 24,
    "start_time": "2022-04-14T09:13:08.506Z"
   },
   {
    "duration": 4,
    "start_time": "2022-04-14T09:13:09.551Z"
   },
   {
    "duration": 202,
    "start_time": "2022-04-14T09:14:02.778Z"
   },
   {
    "duration": 12,
    "start_time": "2022-04-14T09:14:03.247Z"
   },
   {
    "duration": 6,
    "start_time": "2022-04-14T09:14:04.332Z"
   },
   {
    "duration": 13,
    "start_time": "2022-04-14T09:14:07.044Z"
   },
   {
    "duration": 10,
    "start_time": "2022-04-14T09:14:17.214Z"
   },
   {
    "duration": 6,
    "start_time": "2022-04-14T09:14:18.015Z"
   },
   {
    "duration": 5,
    "start_time": "2022-04-14T09:14:18.641Z"
   },
   {
    "duration": 5,
    "start_time": "2022-04-14T09:14:20.634Z"
   },
   {
    "duration": 5,
    "start_time": "2022-04-14T09:14:21.185Z"
   },
   {
    "duration": 14,
    "start_time": "2022-04-14T09:14:21.755Z"
   },
   {
    "duration": 411,
    "start_time": "2022-04-14T09:14:26.533Z"
   },
   {
    "duration": 389,
    "start_time": "2022-04-14T09:14:27.090Z"
   },
   {
    "duration": 3,
    "start_time": "2022-04-14T09:17:11.933Z"
   },
   {
    "duration": 8,
    "start_time": "2022-04-14T09:17:12.445Z"
   },
   {
    "duration": 4,
    "start_time": "2022-04-14T09:17:15.300Z"
   },
   {
    "duration": 8,
    "start_time": "2022-04-14T09:17:15.719Z"
   },
   {
    "duration": 1337,
    "start_time": "2022-04-18T18:28:48.225Z"
   },
   {
    "duration": 379,
    "start_time": "2022-04-18T18:28:49.564Z"
   },
   {
    "duration": 13,
    "start_time": "2022-04-18T18:28:49.945Z"
   },
   {
    "duration": 7,
    "start_time": "2022-04-18T18:28:49.960Z"
   },
   {
    "duration": 12,
    "start_time": "2022-04-18T18:28:49.968Z"
   },
   {
    "duration": 8,
    "start_time": "2022-04-18T18:28:49.982Z"
   },
   {
    "duration": 9,
    "start_time": "2022-04-18T18:28:49.991Z"
   },
   {
    "duration": 24,
    "start_time": "2022-04-18T18:28:50.002Z"
   },
   {
    "duration": 7,
    "start_time": "2022-04-18T18:28:50.028Z"
   },
   {
    "duration": 24,
    "start_time": "2022-04-18T18:28:50.037Z"
   },
   {
    "duration": 18,
    "start_time": "2022-04-18T18:28:50.063Z"
   },
   {
    "duration": 46,
    "start_time": "2022-04-18T18:28:50.082Z"
   },
   {
    "duration": 8,
    "start_time": "2022-04-18T18:28:50.130Z"
   },
   {
    "duration": 17,
    "start_time": "2022-04-18T18:28:50.140Z"
   },
   {
    "duration": 75,
    "start_time": "2022-04-18T18:28:50.159Z"
   },
   {
    "duration": 29,
    "start_time": "2022-04-18T18:28:50.236Z"
   },
   {
    "duration": 35,
    "start_time": "2022-04-18T18:28:50.266Z"
   },
   {
    "duration": 23,
    "start_time": "2022-04-18T18:28:50.302Z"
   },
   {
    "duration": 16,
    "start_time": "2022-04-18T18:28:50.327Z"
   },
   {
    "duration": 25,
    "start_time": "2022-04-18T18:28:50.345Z"
   },
   {
    "duration": 8,
    "start_time": "2022-04-18T18:28:50.371Z"
   },
   {
    "duration": 16,
    "start_time": "2022-04-18T18:28:50.381Z"
   },
   {
    "duration": 24,
    "start_time": "2022-04-18T18:28:50.399Z"
   },
   {
    "duration": 18,
    "start_time": "2022-04-18T18:28:50.425Z"
   },
   {
    "duration": 9,
    "start_time": "2022-04-18T18:28:50.444Z"
   },
   {
    "duration": 140,
    "start_time": "2022-04-18T18:28:50.454Z"
   },
   {
    "duration": 12,
    "start_time": "2022-04-18T18:28:50.595Z"
   },
   {
    "duration": 45,
    "start_time": "2022-04-18T18:28:50.611Z"
   },
   {
    "duration": 19,
    "start_time": "2022-04-18T18:28:50.658Z"
   },
   {
    "duration": 11,
    "start_time": "2022-04-18T18:28:50.679Z"
   },
   {
    "duration": 659,
    "start_time": "2022-04-18T18:28:50.691Z"
   },
   {
    "duration": 641,
    "start_time": "2022-04-18T18:28:51.351Z"
   },
   {
    "duration": 609,
    "start_time": "2022-04-18T18:28:51.994Z"
   },
   {
    "duration": 614,
    "start_time": "2022-04-18T18:28:52.604Z"
   },
   {
    "duration": 49,
    "start_time": "2022-04-18T18:28:53.222Z"
   },
   {
    "duration": 27,
    "start_time": "2022-04-18T18:28:53.273Z"
   },
   {
    "duration": 23,
    "start_time": "2022-04-18T18:28:53.301Z"
   },
   {
    "duration": 575,
    "start_time": "2022-04-18T18:28:53.325Z"
   },
   {
    "duration": 715,
    "start_time": "2022-04-18T18:28:53.902Z"
   },
   {
    "duration": 64,
    "start_time": "2022-04-18T18:28:54.619Z"
   },
   {
    "duration": 45,
    "start_time": "2022-04-18T18:28:54.685Z"
   },
   {
    "duration": 11,
    "start_time": "2022-04-18T18:28:54.731Z"
   },
   {
    "duration": 592,
    "start_time": "2022-04-18T18:28:54.743Z"
   },
   {
    "duration": 635,
    "start_time": "2022-04-18T18:28:55.336Z"
   },
   {
    "duration": 4,
    "start_time": "2022-04-18T18:28:55.973Z"
   },
   {
    "duration": 39,
    "start_time": "2022-04-18T18:28:55.978Z"
   },
   {
    "duration": 238,
    "start_time": "2022-04-18T18:28:56.018Z"
   },
   {
    "duration": 354,
    "start_time": "2022-04-18T18:28:56.258Z"
   },
   {
    "duration": 38,
    "start_time": "2022-04-18T18:28:56.614Z"
   },
   {
    "duration": 336,
    "start_time": "2022-04-18T18:28:56.654Z"
   },
   {
    "duration": 236,
    "start_time": "2022-04-18T18:28:56.992Z"
   },
   {
    "duration": 3,
    "start_time": "2022-04-18T18:28:57.230Z"
   },
   {
    "duration": 9,
    "start_time": "2022-04-18T18:28:57.235Z"
   },
   {
    "duration": 7,
    "start_time": "2022-04-18T18:28:57.245Z"
   },
   {
    "duration": 5,
    "start_time": "2022-04-18T18:28:57.254Z"
   },
   {
    "duration": 7,
    "start_time": "2022-04-18T18:28:57.261Z"
   },
   {
    "duration": 30,
    "start_time": "2022-04-18T18:28:57.269Z"
   },
   {
    "duration": 228,
    "start_time": "2022-04-18T18:28:57.323Z"
   },
   {
    "duration": 30,
    "start_time": "2022-04-18T18:28:57.553Z"
   },
   {
    "duration": 256,
    "start_time": "2022-04-18T18:28:57.585Z"
   },
   {
    "duration": 2,
    "start_time": "2022-04-18T18:28:57.843Z"
   },
   {
    "duration": 6,
    "start_time": "2022-04-18T18:28:57.846Z"
   },
   {
    "duration": 6,
    "start_time": "2022-04-18T18:28:57.853Z"
   },
   {
    "duration": 25,
    "start_time": "2022-04-18T18:28:57.861Z"
   },
   {
    "duration": 230,
    "start_time": "2022-04-18T18:28:57.888Z"
   },
   {
    "duration": 32,
    "start_time": "2022-04-18T18:28:58.119Z"
   },
   {
    "duration": 232,
    "start_time": "2022-04-18T18:28:58.153Z"
   },
   {
    "duration": 2,
    "start_time": "2022-04-18T18:28:58.387Z"
   },
   {
    "duration": 7,
    "start_time": "2022-04-18T18:28:58.391Z"
   },
   {
    "duration": 8,
    "start_time": "2022-04-18T18:28:58.400Z"
   },
   {
    "duration": 20,
    "start_time": "2022-04-18T18:28:58.410Z"
   },
   {
    "duration": 232,
    "start_time": "2022-04-18T18:28:58.432Z"
   },
   {
    "duration": 25,
    "start_time": "2022-04-18T18:28:58.665Z"
   },
   {
    "duration": 57,
    "start_time": "2022-04-18T18:28:58.691Z"
   },
   {
    "duration": 7,
    "start_time": "2022-04-18T18:28:58.750Z"
   },
   {
    "duration": 112,
    "start_time": "2022-04-18T18:28:58.758Z"
   },
   {
    "duration": 12,
    "start_time": "2022-04-18T18:28:58.871Z"
   },
   {
    "duration": 165,
    "start_time": "2022-04-18T18:28:58.885Z"
   },
   {
    "duration": 25,
    "start_time": "2022-04-18T18:28:59.051Z"
   },
   {
    "duration": 44,
    "start_time": "2022-04-18T18:28:59.078Z"
   },
   {
    "duration": 7,
    "start_time": "2022-04-18T18:28:59.124Z"
   },
   {
    "duration": 8,
    "start_time": "2022-04-18T18:28:59.137Z"
   },
   {
    "duration": 13,
    "start_time": "2022-04-18T18:28:59.147Z"
   },
   {
    "duration": 291,
    "start_time": "2022-04-18T18:28:59.162Z"
   },
   {
    "duration": 31,
    "start_time": "2022-04-18T18:28:59.455Z"
   },
   {
    "duration": 50,
    "start_time": "2022-04-18T18:28:59.488Z"
   },
   {
    "duration": 6,
    "start_time": "2022-04-18T18:28:59.540Z"
   },
   {
    "duration": 8,
    "start_time": "2022-04-18T18:28:59.548Z"
   },
   {
    "duration": 12,
    "start_time": "2022-04-18T18:28:59.557Z"
   },
   {
    "duration": 33,
    "start_time": "2022-04-18T18:28:59.570Z"
   },
   {
    "duration": 17,
    "start_time": "2022-04-18T18:28:59.621Z"
   },
   {
    "duration": 5,
    "start_time": "2022-04-18T18:28:59.639Z"
   },
   {
    "duration": 5,
    "start_time": "2022-04-18T18:28:59.645Z"
   },
   {
    "duration": 47,
    "start_time": "2022-04-18T18:28:59.651Z"
   },
   {
    "duration": 62,
    "start_time": "2022-04-18T18:28:59.700Z"
   },
   {
    "duration": 42,
    "start_time": "2022-04-18T18:28:59.764Z"
   },
   {
    "duration": 52,
    "start_time": "2022-04-18T18:28:59.807Z"
   },
   {
    "duration": 18,
    "start_time": "2022-04-18T18:28:59.861Z"
   },
   {
    "duration": 13,
    "start_time": "2022-04-18T18:28:59.881Z"
   },
   {
    "duration": 35,
    "start_time": "2022-04-18T18:28:59.896Z"
   },
   {
    "duration": 11,
    "start_time": "2022-04-18T18:28:59.933Z"
   },
   {
    "duration": 16,
    "start_time": "2022-04-18T18:28:59.946Z"
   },
   {
    "duration": 2,
    "start_time": "2022-04-18T18:28:59.964Z"
   },
   {
    "duration": 138,
    "start_time": "2022-04-18T18:28:59.968Z"
   },
   {
    "duration": 16,
    "start_time": "2022-04-18T18:29:00.108Z"
   },
   {
    "duration": 17,
    "start_time": "2022-04-18T18:29:00.126Z"
   },
   {
    "duration": 15,
    "start_time": "2022-04-18T18:29:00.144Z"
   },
   {
    "duration": 19,
    "start_time": "2022-04-18T18:29:00.160Z"
   },
   {
    "duration": 18,
    "start_time": "2022-04-18T18:29:00.181Z"
   },
   {
    "duration": 22,
    "start_time": "2022-04-18T18:29:00.201Z"
   },
   {
    "duration": 13,
    "start_time": "2022-04-18T18:29:00.224Z"
   },
   {
    "duration": 10,
    "start_time": "2022-04-18T18:29:00.238Z"
   },
   {
    "duration": 21,
    "start_time": "2022-04-18T18:29:00.249Z"
   },
   {
    "duration": 236,
    "start_time": "2022-04-18T18:29:00.272Z"
   },
   {
    "duration": 230,
    "start_time": "2022-04-18T18:29:00.509Z"
   },
   {
    "duration": 3,
    "start_time": "2022-04-18T18:29:00.741Z"
   },
   {
    "duration": 20,
    "start_time": "2022-04-18T18:29:00.745Z"
   },
   {
    "duration": 16,
    "start_time": "2022-04-18T18:29:00.766Z"
   },
   {
    "duration": 14,
    "start_time": "2022-04-18T18:29:00.783Z"
   },
   {
    "duration": 3,
    "start_time": "2022-04-18T18:47:01.754Z"
   },
   {
    "duration": 424,
    "start_time": "2022-04-18T18:47:01.769Z"
   },
   {
    "duration": 10,
    "start_time": "2022-04-18T18:47:02.195Z"
   },
   {
    "duration": 9,
    "start_time": "2022-04-18T18:47:02.207Z"
   },
   {
    "duration": 17,
    "start_time": "2022-04-18T18:47:02.218Z"
   },
   {
    "duration": 9,
    "start_time": "2022-04-18T18:47:02.237Z"
   },
   {
    "duration": 8,
    "start_time": "2022-04-18T18:47:02.248Z"
   },
   {
    "duration": 11,
    "start_time": "2022-04-18T18:47:02.258Z"
   },
   {
    "duration": 6,
    "start_time": "2022-04-18T18:47:02.270Z"
   },
   {
    "duration": 59,
    "start_time": "2022-04-18T18:47:02.277Z"
   },
   {
    "duration": 22,
    "start_time": "2022-04-18T18:47:02.339Z"
   },
   {
    "duration": 24,
    "start_time": "2022-04-18T18:47:02.363Z"
   },
   {
    "duration": 34,
    "start_time": "2022-04-18T18:47:02.389Z"
   },
   {
    "duration": 16,
    "start_time": "2022-04-18T18:47:02.431Z"
   },
   {
    "duration": 47,
    "start_time": "2022-04-18T18:47:02.449Z"
   },
   {
    "duration": 52,
    "start_time": "2022-04-18T18:47:02.497Z"
   },
   {
    "duration": 37,
    "start_time": "2022-04-18T18:47:02.551Z"
   },
   {
    "duration": 44,
    "start_time": "2022-04-18T18:47:02.590Z"
   },
   {
    "duration": 9,
    "start_time": "2022-04-18T18:47:02.636Z"
   },
   {
    "duration": 27,
    "start_time": "2022-04-18T18:47:02.647Z"
   },
   {
    "duration": 12,
    "start_time": "2022-04-18T18:47:02.675Z"
   },
   {
    "duration": 32,
    "start_time": "2022-04-18T18:47:02.689Z"
   },
   {
    "duration": 10,
    "start_time": "2022-04-18T18:47:02.723Z"
   },
   {
    "duration": 113,
    "start_time": "2022-04-18T18:47:02.734Z"
   },
   {
    "duration": 96,
    "start_time": "2022-04-18T18:48:22.735Z"
   },
   {
    "duration": 11,
    "start_time": "2022-04-18T18:48:23.708Z"
   },
   {
    "duration": 106,
    "start_time": "2022-04-18T18:50:00.323Z"
   },
   {
    "duration": 22,
    "start_time": "2022-04-18T18:50:06.336Z"
   },
   {
    "duration": 12,
    "start_time": "2022-04-18T18:50:07.834Z"
   },
   {
    "duration": 675,
    "start_time": "2022-04-18T18:50:46.852Z"
   },
   {
    "duration": 639,
    "start_time": "2022-04-18T18:50:52.405Z"
   },
   {
    "duration": 642,
    "start_time": "2022-04-18T18:51:02.674Z"
   },
   {
    "duration": 737,
    "start_time": "2022-04-18T18:51:04.687Z"
   },
   {
    "duration": 48,
    "start_time": "2022-04-18T18:52:45.540Z"
   },
   {
    "duration": 9,
    "start_time": "2022-04-18T18:52:53.648Z"
   },
   {
    "duration": 649,
    "start_time": "2022-04-18T18:53:11.779Z"
   },
   {
    "duration": 738,
    "start_time": "2022-04-18T18:53:18.725Z"
   },
   {
    "duration": 70,
    "start_time": "2022-04-18T18:54:53.333Z"
   },
   {
    "duration": 10,
    "start_time": "2022-04-18T18:55:08.146Z"
   },
   {
    "duration": 660,
    "start_time": "2022-04-18T18:55:23.741Z"
   },
   {
    "duration": 675,
    "start_time": "2022-04-18T18:55:28.543Z"
   },
   {
    "duration": 30,
    "start_time": "2022-04-18T19:02:50.478Z"
   },
   {
    "duration": 228,
    "start_time": "2022-04-18T19:03:20.950Z"
   },
   {
    "duration": 40,
    "start_time": "2022-04-18T19:05:09.983Z"
   },
   {
    "duration": 287,
    "start_time": "2022-04-18T19:05:35.828Z"
   },
   {
    "duration": 6,
    "start_time": "2022-04-18T20:06:20.739Z"
   },
   {
    "duration": 31,
    "start_time": "2022-04-18T20:10:13.266Z"
   },
   {
    "duration": 37,
    "start_time": "2022-04-18T20:10:14.681Z"
   },
   {
    "duration": 378,
    "start_time": "2022-04-18T20:15:49.754Z"
   },
   {
    "duration": 206,
    "start_time": "2022-04-18T20:16:50.100Z"
   },
   {
    "duration": 213,
    "start_time": "2022-04-18T20:17:36.774Z"
   },
   {
    "duration": 499,
    "start_time": "2022-04-18T20:19:21.019Z"
   },
   {
    "duration": 214,
    "start_time": "2022-04-18T20:19:56.946Z"
   },
   {
    "duration": 229,
    "start_time": "2022-04-18T20:20:08.201Z"
   },
   {
    "duration": 396,
    "start_time": "2022-04-18T20:27:04.343Z"
   },
   {
    "duration": 475,
    "start_time": "2022-04-18T20:28:52.719Z"
   },
   {
    "duration": 33,
    "start_time": "2022-04-18T20:43:21.795Z"
   },
   {
    "duration": 7,
    "start_time": "2022-04-18T20:44:11.203Z"
   },
   {
    "duration": 8,
    "start_time": "2022-04-18T20:44:13.013Z"
   },
   {
    "duration": 11,
    "start_time": "2022-04-18T20:44:19.804Z"
   },
   {
    "duration": 2794,
    "start_time": "2022-04-18T20:50:07.415Z"
   },
   {
    "duration": 0,
    "start_time": "2022-04-18T20:50:10.211Z"
   },
   {
    "duration": 5,
    "start_time": "2022-04-18T20:51:09.083Z"
   },
   {
    "duration": 8,
    "start_time": "2022-04-18T20:52:08.990Z"
   },
   {
    "duration": 5,
    "start_time": "2022-04-18T20:54:16.102Z"
   },
   {
    "duration": 5,
    "start_time": "2022-04-18T20:54:26.412Z"
   },
   {
    "duration": 3,
    "start_time": "2022-04-18T20:55:00.232Z"
   },
   {
    "duration": 397,
    "start_time": "2022-04-18T20:55:00.242Z"
   },
   {
    "duration": 11,
    "start_time": "2022-04-18T20:55:00.640Z"
   },
   {
    "duration": 23,
    "start_time": "2022-04-18T20:55:00.653Z"
   },
   {
    "duration": 12,
    "start_time": "2022-04-18T20:55:00.678Z"
   },
   {
    "duration": 11,
    "start_time": "2022-04-18T20:55:00.692Z"
   },
   {
    "duration": 11,
    "start_time": "2022-04-18T20:55:00.704Z"
   },
   {
    "duration": 18,
    "start_time": "2022-04-18T20:55:00.716Z"
   },
   {
    "duration": 7,
    "start_time": "2022-04-18T20:55:00.736Z"
   },
   {
    "duration": 151,
    "start_time": "2022-04-18T20:55:00.744Z"
   },
   {
    "duration": 26,
    "start_time": "2022-04-18T20:55:00.897Z"
   },
   {
    "duration": 20,
    "start_time": "2022-04-18T20:55:00.925Z"
   },
   {
    "duration": 9,
    "start_time": "2022-04-18T20:55:00.947Z"
   },
   {
    "duration": 16,
    "start_time": "2022-04-18T20:55:00.957Z"
   },
   {
    "duration": 79,
    "start_time": "2022-04-18T20:55:00.974Z"
   },
   {
    "duration": 31,
    "start_time": "2022-04-18T20:55:01.055Z"
   },
   {
    "duration": 61,
    "start_time": "2022-04-18T20:55:01.088Z"
   },
   {
    "duration": 22,
    "start_time": "2022-04-18T20:55:01.151Z"
   },
   {
    "duration": 8,
    "start_time": "2022-04-18T20:55:01.175Z"
   },
   {
    "duration": 39,
    "start_time": "2022-04-18T20:55:01.185Z"
   },
   {
    "duration": 8,
    "start_time": "2022-04-18T20:55:01.225Z"
   },
   {
    "duration": 28,
    "start_time": "2022-04-18T20:55:01.234Z"
   },
   {
    "duration": 11,
    "start_time": "2022-04-18T20:55:01.264Z"
   },
   {
    "duration": 117,
    "start_time": "2022-04-18T20:55:01.277Z"
   },
   {
    "duration": 20,
    "start_time": "2022-04-18T20:55:01.396Z"
   },
   {
    "duration": 10,
    "start_time": "2022-04-18T20:55:01.422Z"
   },
   {
    "duration": 623,
    "start_time": "2022-04-18T20:55:01.433Z"
   },
   {
    "duration": 667,
    "start_time": "2022-04-18T20:55:02.057Z"
   },
   {
    "duration": 612,
    "start_time": "2022-04-18T20:55:02.729Z"
   },
   {
    "duration": 640,
    "start_time": "2022-04-18T20:55:03.343Z"
   },
   {
    "duration": 73,
    "start_time": "2022-04-18T20:55:03.985Z"
   },
   {
    "duration": 10,
    "start_time": "2022-04-18T20:55:04.060Z"
   },
   {
    "duration": 620,
    "start_time": "2022-04-18T20:55:04.072Z"
   },
   {
    "duration": 771,
    "start_time": "2022-04-18T20:55:04.694Z"
   },
   {
    "duration": 72,
    "start_time": "2022-04-18T20:55:05.467Z"
   },
   {
    "duration": 11,
    "start_time": "2022-04-18T20:55:05.541Z"
   },
   {
    "duration": 721,
    "start_time": "2022-04-18T20:55:05.554Z"
   },
   {
    "duration": 673,
    "start_time": "2022-04-18T20:55:06.276Z"
   },
   {
    "duration": 5,
    "start_time": "2022-04-18T20:55:06.950Z"
   },
   {
    "duration": 41,
    "start_time": "2022-04-18T20:55:06.957Z"
   },
   {
    "duration": 41,
    "start_time": "2022-04-18T20:55:07.000Z"
   },
   {
    "duration": 394,
    "start_time": "2022-04-18T20:55:07.043Z"
   },
   {
    "duration": 219,
    "start_time": "2022-04-18T20:55:07.438Z"
   },
   {
    "duration": 306,
    "start_time": "2022-04-18T20:55:07.659Z"
   },
   {
    "duration": 374,
    "start_time": "2022-04-18T20:55:07.966Z"
   },
   {
    "duration": 232,
    "start_time": "2022-04-18T20:55:08.341Z"
   },
   {
    "duration": 239,
    "start_time": "2022-04-18T20:55:08.574Z"
   },
   {
    "duration": 3,
    "start_time": "2022-04-18T20:55:08.822Z"
   },
   {
    "duration": 6,
    "start_time": "2022-04-18T20:55:08.826Z"
   },
   {
    "duration": 5,
    "start_time": "2022-04-18T20:55:08.834Z"
   },
   {
    "duration": 2525,
    "start_time": "2022-04-18T20:55:08.840Z"
   },
   {
    "duration": 0,
    "start_time": "2022-04-18T20:55:11.367Z"
   },
   {
    "duration": 0,
    "start_time": "2022-04-18T20:55:11.368Z"
   },
   {
    "duration": 0,
    "start_time": "2022-04-18T20:55:11.369Z"
   },
   {
    "duration": 0,
    "start_time": "2022-04-18T20:55:11.370Z"
   },
   {
    "duration": 0,
    "start_time": "2022-04-18T20:55:11.371Z"
   },
   {
    "duration": 0,
    "start_time": "2022-04-18T20:55:11.372Z"
   },
   {
    "duration": 0,
    "start_time": "2022-04-18T20:55:11.372Z"
   },
   {
    "duration": 0,
    "start_time": "2022-04-18T20:55:11.373Z"
   },
   {
    "duration": 0,
    "start_time": "2022-04-18T20:55:11.374Z"
   },
   {
    "duration": 0,
    "start_time": "2022-04-18T20:55:11.375Z"
   },
   {
    "duration": 0,
    "start_time": "2022-04-18T20:55:11.376Z"
   },
   {
    "duration": 0,
    "start_time": "2022-04-18T20:55:11.377Z"
   },
   {
    "duration": 0,
    "start_time": "2022-04-18T20:55:11.379Z"
   },
   {
    "duration": 0,
    "start_time": "2022-04-18T20:55:11.380Z"
   },
   {
    "duration": 0,
    "start_time": "2022-04-18T20:55:11.381Z"
   },
   {
    "duration": 0,
    "start_time": "2022-04-18T20:55:11.383Z"
   },
   {
    "duration": 0,
    "start_time": "2022-04-18T20:55:11.384Z"
   },
   {
    "duration": 0,
    "start_time": "2022-04-18T20:55:11.385Z"
   },
   {
    "duration": 0,
    "start_time": "2022-04-18T20:55:11.386Z"
   },
   {
    "duration": 2,
    "start_time": "2022-04-18T20:56:48.602Z"
   },
   {
    "duration": 4,
    "start_time": "2022-04-18T20:57:32.509Z"
   },
   {
    "duration": 5,
    "start_time": "2022-04-18T20:57:48.075Z"
   },
   {
    "duration": 24,
    "start_time": "2022-04-18T20:57:55.691Z"
   },
   {
    "duration": 3,
    "start_time": "2022-04-18T20:59:19.023Z"
   },
   {
    "duration": 419,
    "start_time": "2022-04-18T20:59:19.039Z"
   },
   {
    "duration": 11,
    "start_time": "2022-04-18T20:59:19.459Z"
   },
   {
    "duration": 9,
    "start_time": "2022-04-18T20:59:19.472Z"
   },
   {
    "duration": 8,
    "start_time": "2022-04-18T20:59:19.484Z"
   },
   {
    "duration": 10,
    "start_time": "2022-04-18T20:59:19.494Z"
   },
   {
    "duration": 23,
    "start_time": "2022-04-18T20:59:19.506Z"
   },
   {
    "duration": 12,
    "start_time": "2022-04-18T20:59:19.531Z"
   },
   {
    "duration": 7,
    "start_time": "2022-04-18T20:59:19.545Z"
   },
   {
    "duration": 27,
    "start_time": "2022-04-18T20:59:19.554Z"
   },
   {
    "duration": 51,
    "start_time": "2022-04-18T20:59:19.585Z"
   },
   {
    "duration": 23,
    "start_time": "2022-04-18T20:59:19.638Z"
   },
   {
    "duration": 11,
    "start_time": "2022-04-18T20:59:19.662Z"
   },
   {
    "duration": 15,
    "start_time": "2022-04-18T20:59:19.675Z"
   },
   {
    "duration": 52,
    "start_time": "2022-04-18T20:59:19.723Z"
   },
   {
    "duration": 57,
    "start_time": "2022-04-18T20:59:19.776Z"
   },
   {
    "duration": 38,
    "start_time": "2022-04-18T20:59:19.835Z"
   },
   {
    "duration": 48,
    "start_time": "2022-04-18T20:59:19.875Z"
   },
   {
    "duration": 9,
    "start_time": "2022-04-18T20:59:19.924Z"
   },
   {
    "duration": 20,
    "start_time": "2022-04-18T20:59:19.935Z"
   },
   {
    "duration": 8,
    "start_time": "2022-04-18T20:59:19.957Z"
   },
   {
    "duration": 21,
    "start_time": "2022-04-18T20:59:19.967Z"
   },
   {
    "duration": 35,
    "start_time": "2022-04-18T20:59:19.989Z"
   },
   {
    "duration": 122,
    "start_time": "2022-04-18T20:59:20.026Z"
   },
   {
    "duration": 23,
    "start_time": "2022-04-18T20:59:20.150Z"
   },
   {
    "duration": 11,
    "start_time": "2022-04-18T20:59:20.175Z"
   },
   {
    "duration": 663,
    "start_time": "2022-04-18T20:59:20.187Z"
   },
   {
    "duration": 797,
    "start_time": "2022-04-18T20:59:20.855Z"
   },
   {
    "duration": 656,
    "start_time": "2022-04-18T20:59:21.653Z"
   },
   {
    "duration": 634,
    "start_time": "2022-04-18T20:59:22.310Z"
   },
   {
    "duration": 51,
    "start_time": "2022-04-18T20:59:22.946Z"
   },
   {
    "duration": 25,
    "start_time": "2022-04-18T20:59:22.999Z"
   },
   {
    "duration": 605,
    "start_time": "2022-04-18T20:59:23.026Z"
   },
   {
    "duration": 668,
    "start_time": "2022-04-18T20:59:23.633Z"
   },
   {
    "duration": 78,
    "start_time": "2022-04-18T20:59:24.303Z"
   },
   {
    "duration": 10,
    "start_time": "2022-04-18T20:59:24.383Z"
   },
   {
    "duration": 634,
    "start_time": "2022-04-18T20:59:24.395Z"
   },
   {
    "duration": 708,
    "start_time": "2022-04-18T20:59:25.031Z"
   },
   {
    "duration": 6,
    "start_time": "2022-04-18T20:59:25.740Z"
   },
   {
    "duration": 31,
    "start_time": "2022-04-18T20:59:25.747Z"
   },
   {
    "duration": 55,
    "start_time": "2022-04-18T20:59:25.780Z"
   },
   {
    "duration": 418,
    "start_time": "2022-04-18T20:59:25.837Z"
   },
   {
    "duration": 276,
    "start_time": "2022-04-18T20:59:26.257Z"
   },
   {
    "duration": 216,
    "start_time": "2022-04-18T20:59:26.535Z"
   },
   {
    "duration": 472,
    "start_time": "2022-04-18T20:59:26.753Z"
   },
   {
    "duration": 246,
    "start_time": "2022-04-18T20:59:27.226Z"
   },
   {
    "duration": 251,
    "start_time": "2022-04-18T20:59:27.474Z"
   },
   {
    "duration": 2,
    "start_time": "2022-04-18T20:59:27.727Z"
   },
   {
    "duration": 7,
    "start_time": "2022-04-18T20:59:27.731Z"
   },
   {
    "duration": 8,
    "start_time": "2022-04-18T20:59:27.739Z"
   },
   {
    "duration": 5,
    "start_time": "2022-04-18T20:59:27.748Z"
   },
   {
    "duration": 6,
    "start_time": "2022-04-18T20:59:27.754Z"
   },
   {
    "duration": 26,
    "start_time": "2022-04-18T20:59:27.761Z"
   },
   {
    "duration": 256,
    "start_time": "2022-04-18T20:59:27.789Z"
   },
   {
    "duration": 32,
    "start_time": "2022-04-18T20:59:28.046Z"
   },
   {
    "duration": 245,
    "start_time": "2022-04-18T20:59:28.080Z"
   },
   {
    "duration": 484,
    "start_time": "2022-04-18T20:59:28.326Z"
   },
   {
    "duration": 2,
    "start_time": "2022-04-18T20:59:28.812Z"
   },
   {
    "duration": 4,
    "start_time": "2022-04-18T20:59:28.822Z"
   },
   {
    "duration": 6,
    "start_time": "2022-04-18T20:59:28.827Z"
   },
   {
    "duration": 29,
    "start_time": "2022-04-18T20:59:28.834Z"
   },
   {
    "duration": 244,
    "start_time": "2022-04-18T20:59:28.865Z"
   },
   {
    "duration": 41,
    "start_time": "2022-04-18T20:59:29.111Z"
   },
   {
    "duration": 237,
    "start_time": "2022-04-18T20:59:29.154Z"
   },
   {
    "duration": 377,
    "start_time": "2022-04-18T20:59:29.393Z"
   },
   {
    "duration": 3,
    "start_time": "2022-04-18T20:59:29.772Z"
   },
   {
    "duration": 5,
    "start_time": "2022-04-18T20:59:29.777Z"
   },
   {
    "duration": 7,
    "start_time": "2022-04-18T20:59:29.784Z"
   },
   {
    "duration": 31,
    "start_time": "2022-04-18T20:59:29.793Z"
   },
   {
    "duration": 0,
    "start_time": "2022-04-18T20:59:29.825Z"
   },
   {
    "duration": 13,
    "start_time": "2022-04-18T21:00:24.598Z"
   },
   {
    "duration": 4,
    "start_time": "2022-04-18T21:01:50.061Z"
   },
   {
    "duration": 4,
    "start_time": "2022-04-18T21:01:59.996Z"
   },
   {
    "duration": 12,
    "start_time": "2022-04-18T21:02:08.996Z"
   },
   {
    "duration": 32,
    "start_time": "2022-04-18T21:02:26.216Z"
   },
   {
    "duration": 6,
    "start_time": "2022-04-18T21:02:33.938Z"
   },
   {
    "duration": 5,
    "start_time": "2022-04-18T21:03:05.341Z"
   },
   {
    "duration": 9,
    "start_time": "2022-04-18T21:04:09.339Z"
   },
   {
    "duration": 5,
    "start_time": "2022-04-18T21:05:17.274Z"
   },
   {
    "duration": 4,
    "start_time": "2022-04-18T21:05:27.491Z"
   },
   {
    "duration": 6,
    "start_time": "2022-04-18T21:05:29.540Z"
   },
   {
    "duration": 8,
    "start_time": "2022-04-18T21:05:31.462Z"
   },
   {
    "duration": 10,
    "start_time": "2022-04-18T21:05:37.561Z"
   },
   {
    "duration": 38,
    "start_time": "2022-04-18T21:13:19.906Z"
   },
   {
    "duration": 20,
    "start_time": "2022-04-18T21:13:53.603Z"
   },
   {
    "duration": 7,
    "start_time": "2022-04-18T21:14:30.921Z"
   },
   {
    "duration": 4,
    "start_time": "2022-04-18T21:16:54.947Z"
   },
   {
    "duration": 7,
    "start_time": "2022-04-18T21:16:56.735Z"
   },
   {
    "duration": 6,
    "start_time": "2022-04-18T21:17:16.311Z"
   },
   {
    "duration": 7,
    "start_time": "2022-04-18T21:17:18.593Z"
   },
   {
    "duration": 10,
    "start_time": "2022-04-18T21:17:22.074Z"
   },
   {
    "duration": 12,
    "start_time": "2022-04-18T21:20:47.584Z"
   },
   {
    "duration": 31,
    "start_time": "2022-04-18T21:21:21.635Z"
   },
   {
    "duration": 8,
    "start_time": "2022-04-18T21:23:31.847Z"
   },
   {
    "duration": 2626,
    "start_time": "2022-04-18T21:23:33.325Z"
   },
   {
    "duration": 3,
    "start_time": "2022-04-18T21:24:03.338Z"
   },
   {
    "duration": 7,
    "start_time": "2022-04-18T21:24:38.379Z"
   },
   {
    "duration": 8,
    "start_time": "2022-04-18T21:24:43.415Z"
   },
   {
    "duration": 10,
    "start_time": "2022-04-18T21:24:55.888Z"
   },
   {
    "duration": 11,
    "start_time": "2022-04-18T21:29:52.235Z"
   },
   {
    "duration": 8,
    "start_time": "2022-04-18T21:30:02.247Z"
   },
   {
    "duration": 5,
    "start_time": "2022-04-18T21:31:09.536Z"
   },
   {
    "duration": 6,
    "start_time": "2022-04-18T21:31:15.061Z"
   },
   {
    "duration": 7,
    "start_time": "2022-04-18T21:31:47.622Z"
   },
   {
    "duration": 14,
    "start_time": "2022-04-18T21:32:36.629Z"
   },
   {
    "duration": 5,
    "start_time": "2022-04-18T21:32:56.585Z"
   },
   {
    "duration": 7,
    "start_time": "2022-04-18T21:32:58.187Z"
   },
   {
    "duration": 8,
    "start_time": "2022-04-18T21:33:53.918Z"
   },
   {
    "duration": 4,
    "start_time": "2022-04-18T21:34:00.717Z"
   },
   {
    "duration": 7,
    "start_time": "2022-04-18T21:34:01.908Z"
   },
   {
    "duration": 6,
    "start_time": "2022-04-18T21:38:49.965Z"
   },
   {
    "duration": 6,
    "start_time": "2022-04-18T21:40:39.765Z"
   },
   {
    "duration": 7,
    "start_time": "2022-04-18T21:40:45.193Z"
   },
   {
    "duration": 2,
    "start_time": "2022-04-18T21:41:37.605Z"
   },
   {
    "duration": 401,
    "start_time": "2022-04-18T21:41:37.619Z"
   },
   {
    "duration": 10,
    "start_time": "2022-04-18T21:41:38.023Z"
   },
   {
    "duration": 9,
    "start_time": "2022-04-18T21:41:38.035Z"
   },
   {
    "duration": 7,
    "start_time": "2022-04-18T21:41:38.046Z"
   },
   {
    "duration": 10,
    "start_time": "2022-04-18T21:41:38.055Z"
   },
   {
    "duration": 9,
    "start_time": "2022-04-18T21:41:38.066Z"
   },
   {
    "duration": 12,
    "start_time": "2022-04-18T21:41:38.076Z"
   },
   {
    "duration": 39,
    "start_time": "2022-04-18T21:41:38.089Z"
   },
   {
    "duration": 31,
    "start_time": "2022-04-18T21:41:38.129Z"
   },
   {
    "duration": 22,
    "start_time": "2022-04-18T21:41:38.162Z"
   },
   {
    "duration": 46,
    "start_time": "2022-04-18T21:41:38.185Z"
   },
   {
    "duration": 10,
    "start_time": "2022-04-18T21:41:38.233Z"
   },
   {
    "duration": 16,
    "start_time": "2022-04-18T21:41:38.244Z"
   },
   {
    "duration": 75,
    "start_time": "2022-04-18T21:41:38.262Z"
   },
   {
    "duration": 35,
    "start_time": "2022-04-18T21:41:38.339Z"
   },
   {
    "duration": 52,
    "start_time": "2022-04-18T21:41:38.376Z"
   },
   {
    "duration": 22,
    "start_time": "2022-04-18T21:41:38.430Z"
   },
   {
    "duration": 8,
    "start_time": "2022-04-18T21:41:38.454Z"
   },
   {
    "duration": 31,
    "start_time": "2022-04-18T21:41:38.463Z"
   },
   {
    "duration": 8,
    "start_time": "2022-04-18T21:41:38.496Z"
   },
   {
    "duration": 36,
    "start_time": "2022-04-18T21:41:38.505Z"
   },
   {
    "duration": 9,
    "start_time": "2022-04-18T21:41:38.543Z"
   },
   {
    "duration": 124,
    "start_time": "2022-04-18T21:41:38.553Z"
   },
   {
    "duration": 24,
    "start_time": "2022-04-18T21:41:38.679Z"
   },
   {
    "duration": 19,
    "start_time": "2022-04-18T21:41:38.705Z"
   },
   {
    "duration": 636,
    "start_time": "2022-04-18T21:41:38.725Z"
   },
   {
    "duration": 843,
    "start_time": "2022-04-18T21:41:39.362Z"
   },
   {
    "duration": 640,
    "start_time": "2022-04-18T21:41:40.209Z"
   },
   {
    "duration": 648,
    "start_time": "2022-04-18T21:41:40.850Z"
   },
   {
    "duration": 62,
    "start_time": "2022-04-18T21:41:41.500Z"
   },
   {
    "duration": 8,
    "start_time": "2022-04-18T21:41:41.564Z"
   },
   {
    "duration": 611,
    "start_time": "2022-04-18T21:41:41.574Z"
   },
   {
    "duration": 641,
    "start_time": "2022-04-18T21:41:42.187Z"
   },
   {
    "duration": 71,
    "start_time": "2022-04-18T21:41:42.830Z"
   },
   {
    "duration": 23,
    "start_time": "2022-04-18T21:41:42.903Z"
   },
   {
    "duration": 679,
    "start_time": "2022-04-18T21:41:42.927Z"
   },
   {
    "duration": 724,
    "start_time": "2022-04-18T21:41:43.607Z"
   },
   {
    "duration": 6,
    "start_time": "2022-04-18T21:41:44.332Z"
   },
   {
    "duration": 29,
    "start_time": "2022-04-18T21:41:44.339Z"
   },
   {
    "duration": 54,
    "start_time": "2022-04-18T21:41:44.370Z"
   },
   {
    "duration": 388,
    "start_time": "2022-04-18T21:41:44.425Z"
   },
   {
    "duration": 215,
    "start_time": "2022-04-18T21:41:44.822Z"
   },
   {
    "duration": 214,
    "start_time": "2022-04-18T21:41:45.038Z"
   },
   {
    "duration": 474,
    "start_time": "2022-04-18T21:41:45.253Z"
   },
   {
    "duration": 323,
    "start_time": "2022-04-18T21:41:45.728Z"
   },
   {
    "duration": 228,
    "start_time": "2022-04-18T21:41:46.053Z"
   },
   {
    "duration": 3,
    "start_time": "2022-04-18T21:41:46.283Z"
   },
   {
    "duration": 6,
    "start_time": "2022-04-18T21:41:46.288Z"
   },
   {
    "duration": 7,
    "start_time": "2022-04-18T21:41:46.295Z"
   },
   {
    "duration": 19,
    "start_time": "2022-04-18T21:41:46.303Z"
   },
   {
    "duration": 4,
    "start_time": "2022-04-18T21:41:46.324Z"
   },
   {
    "duration": 25,
    "start_time": "2022-04-18T21:41:46.329Z"
   },
   {
    "duration": 231,
    "start_time": "2022-04-18T21:41:46.356Z"
   },
   {
    "duration": 38,
    "start_time": "2022-04-18T21:41:46.589Z"
   },
   {
    "duration": 225,
    "start_time": "2022-04-18T21:41:46.629Z"
   },
   {
    "duration": 498,
    "start_time": "2022-04-18T21:41:46.856Z"
   },
   {
    "duration": 3,
    "start_time": "2022-04-18T21:41:47.356Z"
   },
   {
    "duration": 6,
    "start_time": "2022-04-18T21:41:47.360Z"
   },
   {
    "duration": 5,
    "start_time": "2022-04-18T21:41:47.367Z"
   },
   {
    "duration": 26,
    "start_time": "2022-04-18T21:41:47.374Z"
   },
   {
    "duration": 230,
    "start_time": "2022-04-18T21:41:47.422Z"
   },
   {
    "duration": 36,
    "start_time": "2022-04-18T21:41:47.654Z"
   },
   {
    "duration": 246,
    "start_time": "2022-04-18T21:41:47.692Z"
   },
   {
    "duration": 378,
    "start_time": "2022-04-18T21:41:47.940Z"
   },
   {
    "duration": 3,
    "start_time": "2022-04-18T21:41:48.322Z"
   },
   {
    "duration": 11,
    "start_time": "2022-04-18T21:41:48.327Z"
   },
   {
    "duration": 23,
    "start_time": "2022-04-18T21:41:48.340Z"
   },
   {
    "duration": 44,
    "start_time": "2022-04-18T21:41:48.364Z"
   },
   {
    "duration": 46,
    "start_time": "2022-04-18T21:41:48.409Z"
   },
   {
    "duration": 5,
    "start_time": "2022-04-18T21:41:48.457Z"
   },
   {
    "duration": 24,
    "start_time": "2022-04-18T21:41:48.463Z"
   },
   {
    "duration": 28,
    "start_time": "2022-04-18T21:41:48.489Z"
   },
   {
    "duration": 38,
    "start_time": "2022-04-18T21:41:48.519Z"
   },
   {
    "duration": 45,
    "start_time": "2022-04-18T21:41:48.558Z"
   },
   {
    "duration": 4,
    "start_time": "2022-04-18T21:41:48.605Z"
   },
   {
    "duration": 19,
    "start_time": "2022-04-18T21:41:48.611Z"
   },
   {
    "duration": 19,
    "start_time": "2022-04-18T21:41:48.632Z"
   },
   {
    "duration": 17,
    "start_time": "2022-04-18T21:41:48.653Z"
   },
   {
    "duration": 41,
    "start_time": "2022-04-18T21:41:48.671Z"
   },
   {
    "duration": 4,
    "start_time": "2022-04-18T21:41:48.714Z"
   },
   {
    "duration": 11,
    "start_time": "2022-04-18T21:41:48.719Z"
   },
   {
    "duration": 15,
    "start_time": "2022-04-18T21:41:48.735Z"
   },
   {
    "duration": 39,
    "start_time": "2022-04-18T21:41:48.751Z"
   },
   {
    "duration": 8,
    "start_time": "2022-04-18T21:42:09.313Z"
   },
   {
    "duration": 8,
    "start_time": "2022-04-18T21:42:11.845Z"
   },
   {
    "duration": 8,
    "start_time": "2022-04-18T21:42:17.780Z"
   },
   {
    "duration": 8,
    "start_time": "2022-04-18T21:42:20.259Z"
   },
   {
    "duration": 19,
    "start_time": "2022-04-18T21:44:17.956Z"
   },
   {
    "duration": 10,
    "start_time": "2022-04-18T21:46:57.231Z"
   },
   {
    "duration": 5,
    "start_time": "2022-04-18T21:50:27.770Z"
   },
   {
    "duration": 23,
    "start_time": "2022-04-18T21:51:14.021Z"
   },
   {
    "duration": 11,
    "start_time": "2022-04-18T21:52:52.519Z"
   },
   {
    "duration": 30,
    "start_time": "2022-04-18T21:53:22.689Z"
   },
   {
    "duration": 14,
    "start_time": "2022-04-18T21:53:56.876Z"
   },
   {
    "duration": 20,
    "start_time": "2022-04-18T21:54:07.431Z"
   },
   {
    "duration": 5,
    "start_time": "2022-04-18T21:54:41.078Z"
   },
   {
    "duration": 18,
    "start_time": "2022-04-18T21:54:42.466Z"
   },
   {
    "duration": 10,
    "start_time": "2022-04-18T21:54:48.102Z"
   },
   {
    "duration": 11,
    "start_time": "2022-04-18T21:54:54.761Z"
   },
   {
    "duration": 14,
    "start_time": "2022-04-18T21:59:04.260Z"
   },
   {
    "duration": 3,
    "start_time": "2022-04-18T21:59:09.800Z"
   },
   {
    "duration": 428,
    "start_time": "2022-04-18T21:59:09.808Z"
   },
   {
    "duration": 9,
    "start_time": "2022-04-18T21:59:10.238Z"
   },
   {
    "duration": 8,
    "start_time": "2022-04-18T21:59:10.249Z"
   },
   {
    "duration": 8,
    "start_time": "2022-04-18T21:59:10.259Z"
   },
   {
    "duration": 8,
    "start_time": "2022-04-18T21:59:10.268Z"
   },
   {
    "duration": 7,
    "start_time": "2022-04-18T21:59:10.278Z"
   },
   {
    "duration": 10,
    "start_time": "2022-04-18T21:59:10.287Z"
   },
   {
    "duration": 27,
    "start_time": "2022-04-18T21:59:10.298Z"
   },
   {
    "duration": 28,
    "start_time": "2022-04-18T21:59:10.326Z"
   },
   {
    "duration": 22,
    "start_time": "2022-04-18T21:59:10.357Z"
   },
   {
    "duration": 46,
    "start_time": "2022-04-18T21:59:10.381Z"
   },
   {
    "duration": 9,
    "start_time": "2022-04-18T21:59:10.428Z"
   },
   {
    "duration": 18,
    "start_time": "2022-04-18T21:59:10.439Z"
   },
   {
    "duration": 73,
    "start_time": "2022-04-18T21:59:10.459Z"
   },
   {
    "duration": 33,
    "start_time": "2022-04-18T21:59:10.534Z"
   },
   {
    "duration": 55,
    "start_time": "2022-04-18T21:59:10.568Z"
   },
   {
    "duration": 22,
    "start_time": "2022-04-18T21:59:10.624Z"
   },
   {
    "duration": 8,
    "start_time": "2022-04-18T21:59:10.648Z"
   },
   {
    "duration": 17,
    "start_time": "2022-04-18T21:59:10.657Z"
   },
   {
    "duration": 7,
    "start_time": "2022-04-18T21:59:10.675Z"
   },
   {
    "duration": 44,
    "start_time": "2022-04-18T21:59:10.684Z"
   },
   {
    "duration": 9,
    "start_time": "2022-04-18T21:59:10.729Z"
   },
   {
    "duration": 128,
    "start_time": "2022-04-18T21:59:10.739Z"
   },
   {
    "duration": 23,
    "start_time": "2022-04-18T21:59:10.869Z"
   },
   {
    "duration": 29,
    "start_time": "2022-04-18T21:59:10.894Z"
   },
   {
    "duration": 658,
    "start_time": "2022-04-18T21:59:10.925Z"
   },
   {
    "duration": 766,
    "start_time": "2022-04-18T21:59:11.585Z"
   },
   {
    "duration": 650,
    "start_time": "2022-04-18T21:59:12.355Z"
   },
   {
    "duration": 632,
    "start_time": "2022-04-18T21:59:13.007Z"
   },
   {
    "duration": 56,
    "start_time": "2022-04-18T21:59:13.641Z"
   },
   {
    "duration": 25,
    "start_time": "2022-04-18T21:59:13.699Z"
   },
   {
    "duration": 708,
    "start_time": "2022-04-18T21:59:13.726Z"
   },
   {
    "duration": 676,
    "start_time": "2022-04-18T21:59:14.436Z"
   },
   {
    "duration": 90,
    "start_time": "2022-04-18T21:59:15.114Z"
   },
   {
    "duration": 16,
    "start_time": "2022-04-18T21:59:15.206Z"
   },
   {
    "duration": 677,
    "start_time": "2022-04-18T21:59:15.224Z"
   },
   {
    "duration": 759,
    "start_time": "2022-04-18T21:59:15.904Z"
   },
   {
    "duration": 5,
    "start_time": "2022-04-18T21:59:16.664Z"
   },
   {
    "duration": 31,
    "start_time": "2022-04-18T21:59:16.671Z"
   },
   {
    "duration": 52,
    "start_time": "2022-04-18T21:59:16.703Z"
   },
   {
    "duration": 413,
    "start_time": "2022-04-18T21:59:16.756Z"
   },
   {
    "duration": 236,
    "start_time": "2022-04-18T21:59:17.171Z"
   },
   {
    "duration": 230,
    "start_time": "2022-04-18T21:59:17.410Z"
   },
   {
    "duration": 508,
    "start_time": "2022-04-18T21:59:17.643Z"
   },
   {
    "duration": 241,
    "start_time": "2022-04-18T21:59:18.154Z"
   },
   {
    "duration": 235,
    "start_time": "2022-04-18T21:59:18.397Z"
   },
   {
    "duration": 2,
    "start_time": "2022-04-18T21:59:18.634Z"
   },
   {
    "duration": 5,
    "start_time": "2022-04-18T21:59:18.638Z"
   },
   {
    "duration": 11,
    "start_time": "2022-04-18T21:59:18.644Z"
   },
   {
    "duration": 5,
    "start_time": "2022-04-18T21:59:18.656Z"
   },
   {
    "duration": 5,
    "start_time": "2022-04-18T21:59:18.663Z"
   },
   {
    "duration": 30,
    "start_time": "2022-04-18T21:59:18.670Z"
   },
   {
    "duration": 245,
    "start_time": "2022-04-18T21:59:18.702Z"
   },
   {
    "duration": 31,
    "start_time": "2022-04-18T21:59:18.949Z"
   },
   {
    "duration": 250,
    "start_time": "2022-04-18T21:59:18.982Z"
   },
   {
    "duration": 521,
    "start_time": "2022-04-18T21:59:19.234Z"
   },
   {
    "duration": 3,
    "start_time": "2022-04-18T21:59:19.756Z"
   },
   {
    "duration": 16,
    "start_time": "2022-04-18T21:59:19.761Z"
   },
   {
    "duration": 5,
    "start_time": "2022-04-18T21:59:19.778Z"
   },
   {
    "duration": 39,
    "start_time": "2022-04-18T21:59:19.785Z"
   },
   {
    "duration": 238,
    "start_time": "2022-04-18T21:59:19.825Z"
   },
   {
    "duration": 38,
    "start_time": "2022-04-18T21:59:20.064Z"
   },
   {
    "duration": 252,
    "start_time": "2022-04-18T21:59:20.103Z"
   },
   {
    "duration": 402,
    "start_time": "2022-04-18T21:59:20.357Z"
   },
   {
    "duration": 3,
    "start_time": "2022-04-18T21:59:20.760Z"
   },
   {
    "duration": 7,
    "start_time": "2022-04-18T21:59:20.764Z"
   },
   {
    "duration": 8,
    "start_time": "2022-04-18T21:59:20.772Z"
   },
   {
    "duration": 13,
    "start_time": "2022-04-18T21:59:20.781Z"
   },
   {
    "duration": 52,
    "start_time": "2022-04-18T21:59:20.796Z"
   },
   {
    "duration": 4,
    "start_time": "2022-04-18T21:59:20.850Z"
   },
   {
    "duration": 9,
    "start_time": "2022-04-18T21:59:20.855Z"
   },
   {
    "duration": 8,
    "start_time": "2022-04-18T21:59:20.865Z"
   },
   {
    "duration": 19,
    "start_time": "2022-04-18T21:59:20.874Z"
   },
   {
    "duration": 40,
    "start_time": "2022-04-18T21:59:20.895Z"
   },
   {
    "duration": 4,
    "start_time": "2022-04-18T21:59:20.936Z"
   },
   {
    "duration": 8,
    "start_time": "2022-04-18T21:59:20.942Z"
   },
   {
    "duration": 10,
    "start_time": "2022-04-18T21:59:20.951Z"
   },
   {
    "duration": 12,
    "start_time": "2022-04-18T21:59:20.963Z"
   },
   {
    "duration": 50,
    "start_time": "2022-04-18T21:59:20.977Z"
   },
   {
    "duration": 3,
    "start_time": "2022-04-18T21:59:21.029Z"
   },
   {
    "duration": 7,
    "start_time": "2022-04-18T21:59:21.034Z"
   },
   {
    "duration": 7,
    "start_time": "2022-04-18T21:59:21.048Z"
   },
   {
    "duration": 18,
    "start_time": "2022-04-18T21:59:21.057Z"
   },
   {
    "duration": 11,
    "start_time": "2022-04-18T21:59:21.077Z"
   },
   {
    "duration": 37,
    "start_time": "2022-04-18T21:59:21.090Z"
   },
   {
    "duration": 5,
    "start_time": "2022-04-18T21:59:21.129Z"
   },
   {
    "duration": 11,
    "start_time": "2022-04-18T21:59:21.135Z"
   },
   {
    "duration": 13,
    "start_time": "2022-04-18T21:59:21.148Z"
   },
   {
    "duration": 17,
    "start_time": "2022-04-18T21:59:21.162Z"
   },
   {
    "duration": 1,
    "start_time": "2022-04-18T21:59:21.180Z"
   },
   {
    "duration": 0,
    "start_time": "2022-04-18T21:59:21.182Z"
   },
   {
    "duration": 0,
    "start_time": "2022-04-18T21:59:21.183Z"
   },
   {
    "duration": 0,
    "start_time": "2022-04-18T21:59:21.183Z"
   },
   {
    "duration": 0,
    "start_time": "2022-04-18T21:59:21.185Z"
   },
   {
    "duration": 0,
    "start_time": "2022-04-18T21:59:21.186Z"
   },
   {
    "duration": 0,
    "start_time": "2022-04-18T21:59:21.187Z"
   },
   {
    "duration": 0,
    "start_time": "2022-04-18T21:59:21.187Z"
   },
   {
    "duration": 0,
    "start_time": "2022-04-18T21:59:21.223Z"
   },
   {
    "duration": 0,
    "start_time": "2022-04-18T21:59:21.224Z"
   },
   {
    "duration": 0,
    "start_time": "2022-04-18T21:59:21.225Z"
   },
   {
    "duration": 0,
    "start_time": "2022-04-18T21:59:21.226Z"
   },
   {
    "duration": 0,
    "start_time": "2022-04-18T21:59:21.227Z"
   },
   {
    "duration": 0,
    "start_time": "2022-04-18T21:59:21.228Z"
   },
   {
    "duration": 0,
    "start_time": "2022-04-18T21:59:21.229Z"
   },
   {
    "duration": 0,
    "start_time": "2022-04-18T21:59:21.230Z"
   },
   {
    "duration": 0,
    "start_time": "2022-04-18T21:59:21.231Z"
   },
   {
    "duration": 0,
    "start_time": "2022-04-18T21:59:21.232Z"
   },
   {
    "duration": 0,
    "start_time": "2022-04-18T21:59:21.233Z"
   },
   {
    "duration": 0,
    "start_time": "2022-04-18T21:59:21.234Z"
   },
   {
    "duration": 12,
    "start_time": "2022-04-18T22:00:34.142Z"
   },
   {
    "duration": 16,
    "start_time": "2022-04-18T22:00:40.619Z"
   },
   {
    "duration": 3,
    "start_time": "2022-04-18T22:00:54.910Z"
   },
   {
    "duration": 132,
    "start_time": "2022-04-18T22:00:56.729Z"
   },
   {
    "duration": 10,
    "start_time": "2022-04-18T22:01:02.416Z"
   },
   {
    "duration": 5,
    "start_time": "2022-04-18T22:01:04.468Z"
   },
   {
    "duration": 10,
    "start_time": "2022-04-18T22:01:06.333Z"
   },
   {
    "duration": 8,
    "start_time": "2022-04-18T22:01:30.478Z"
   },
   {
    "duration": 4,
    "start_time": "2022-04-18T22:01:31.679Z"
   },
   {
    "duration": 4,
    "start_time": "2022-04-18T22:01:32.774Z"
   },
   {
    "duration": 5,
    "start_time": "2022-04-18T22:01:33.541Z"
   },
   {
    "duration": 5,
    "start_time": "2022-04-18T22:01:34.349Z"
   },
   {
    "duration": 10,
    "start_time": "2022-04-18T22:01:35.910Z"
   },
   {
    "duration": 209,
    "start_time": "2022-04-18T22:01:37.776Z"
   },
   {
    "duration": 330,
    "start_time": "2022-04-18T22:01:43.510Z"
   },
   {
    "duration": 3,
    "start_time": "2022-04-18T22:01:56.573Z"
   },
   {
    "duration": 5,
    "start_time": "2022-04-18T22:01:57.438Z"
   },
   {
    "duration": 2,
    "start_time": "2022-04-18T22:01:59.812Z"
   },
   {
    "duration": 5,
    "start_time": "2022-04-18T22:02:00.444Z"
   },
   {
    "duration": 3,
    "start_time": "2022-04-18T22:17:47.024Z"
   },
   {
    "duration": 4,
    "start_time": "2022-04-18T22:25:52.696Z"
   },
   {
    "duration": 5,
    "start_time": "2022-04-18T22:30:04.818Z"
   },
   {
    "duration": 3,
    "start_time": "2022-04-18T22:33:19.271Z"
   },
   {
    "duration": 3,
    "start_time": "2022-04-18T22:33:59.757Z"
   },
   {
    "duration": 11,
    "start_time": "2022-04-18T22:36:46.063Z"
   },
   {
    "duration": 2,
    "start_time": "2022-04-18T22:37:01.620Z"
   },
   {
    "duration": 4,
    "start_time": "2022-04-18T22:37:03.318Z"
   },
   {
    "duration": 3,
    "start_time": "2022-04-18T22:40:15.542Z"
   },
   {
    "duration": 425,
    "start_time": "2022-04-18T22:40:15.556Z"
   },
   {
    "duration": 10,
    "start_time": "2022-04-18T22:40:15.983Z"
   },
   {
    "duration": 18,
    "start_time": "2022-04-18T22:40:15.995Z"
   },
   {
    "duration": 21,
    "start_time": "2022-04-18T22:40:16.015Z"
   },
   {
    "duration": 21,
    "start_time": "2022-04-18T22:40:16.037Z"
   },
   {
    "duration": 8,
    "start_time": "2022-04-18T22:40:16.060Z"
   },
   {
    "duration": 11,
    "start_time": "2022-04-18T22:40:16.069Z"
   },
   {
    "duration": 6,
    "start_time": "2022-04-18T22:40:16.081Z"
   },
   {
    "duration": 43,
    "start_time": "2022-04-18T22:40:16.088Z"
   },
   {
    "duration": 25,
    "start_time": "2022-04-18T22:40:16.134Z"
   },
   {
    "duration": 22,
    "start_time": "2022-04-18T22:40:16.161Z"
   },
   {
    "duration": 9,
    "start_time": "2022-04-18T22:40:16.184Z"
   },
   {
    "duration": 14,
    "start_time": "2022-04-18T22:40:16.223Z"
   },
   {
    "duration": 59,
    "start_time": "2022-04-18T22:40:16.239Z"
   },
   {
    "duration": 57,
    "start_time": "2022-04-18T22:40:16.299Z"
   },
   {
    "duration": 37,
    "start_time": "2022-04-18T22:40:16.357Z"
   },
   {
    "duration": 48,
    "start_time": "2022-04-18T22:40:16.396Z"
   },
   {
    "duration": 10,
    "start_time": "2022-04-18T22:40:16.445Z"
   },
   {
    "duration": 18,
    "start_time": "2022-04-18T22:40:16.456Z"
   },
   {
    "duration": 8,
    "start_time": "2022-04-18T22:40:16.475Z"
   },
   {
    "duration": 48,
    "start_time": "2022-04-18T22:40:16.485Z"
   },
   {
    "duration": 10,
    "start_time": "2022-04-18T22:40:16.534Z"
   },
   {
    "duration": 128,
    "start_time": "2022-04-18T22:40:16.546Z"
   },
   {
    "duration": 26,
    "start_time": "2022-04-18T22:40:16.676Z"
   },
   {
    "duration": 27,
    "start_time": "2022-04-18T22:40:16.704Z"
   },
   {
    "duration": 661,
    "start_time": "2022-04-18T22:40:16.733Z"
   },
   {
    "duration": 667,
    "start_time": "2022-04-18T22:40:17.396Z"
   },
   {
    "duration": 700,
    "start_time": "2022-04-18T22:40:18.067Z"
   },
   {
    "duration": 690,
    "start_time": "2022-04-18T22:40:18.768Z"
   },
   {
    "duration": 68,
    "start_time": "2022-04-18T22:40:19.459Z"
   },
   {
    "duration": 9,
    "start_time": "2022-04-18T22:40:19.528Z"
   },
   {
    "duration": 607,
    "start_time": "2022-04-18T22:40:19.538Z"
   },
   {
    "duration": 827,
    "start_time": "2022-04-18T22:40:20.147Z"
   },
   {
    "duration": 86,
    "start_time": "2022-04-18T22:40:20.976Z"
   },
   {
    "duration": 10,
    "start_time": "2022-04-18T22:40:21.064Z"
   },
   {
    "duration": 676,
    "start_time": "2022-04-18T22:40:21.076Z"
   },
   {
    "duration": 706,
    "start_time": "2022-04-18T22:40:21.754Z"
   },
   {
    "duration": 5,
    "start_time": "2022-04-18T22:40:22.461Z"
   },
   {
    "duration": 31,
    "start_time": "2022-04-18T22:40:22.468Z"
   },
   {
    "duration": 47,
    "start_time": "2022-04-18T22:40:22.501Z"
   },
   {
    "duration": 410,
    "start_time": "2022-04-18T22:40:22.550Z"
   },
   {
    "duration": 228,
    "start_time": "2022-04-18T22:40:22.961Z"
   },
   {
    "duration": 323,
    "start_time": "2022-04-18T22:40:23.190Z"
   },
   {
    "duration": 380,
    "start_time": "2022-04-18T22:40:23.515Z"
   },
   {
    "duration": 234,
    "start_time": "2022-04-18T22:40:23.897Z"
   },
   {
    "duration": 235,
    "start_time": "2022-04-18T22:40:24.132Z"
   },
   {
    "duration": 2,
    "start_time": "2022-04-18T22:40:24.369Z"
   },
   {
    "duration": 10,
    "start_time": "2022-04-18T22:40:24.373Z"
   },
   {
    "duration": 26,
    "start_time": "2022-04-18T22:40:24.385Z"
   },
   {
    "duration": 19,
    "start_time": "2022-04-18T22:40:24.413Z"
   },
   {
    "duration": 21,
    "start_time": "2022-04-18T22:40:24.434Z"
   },
   {
    "duration": 41,
    "start_time": "2022-04-18T22:40:24.457Z"
   },
   {
    "duration": 211,
    "start_time": "2022-04-18T22:40:24.499Z"
   },
   {
    "duration": 32,
    "start_time": "2022-04-18T22:40:24.711Z"
   },
   {
    "duration": 336,
    "start_time": "2022-04-18T22:40:24.745Z"
   },
   {
    "duration": 397,
    "start_time": "2022-04-18T22:40:25.083Z"
   },
   {
    "duration": 3,
    "start_time": "2022-04-18T22:40:25.482Z"
   },
   {
    "duration": 40,
    "start_time": "2022-04-18T22:40:25.487Z"
   },
   {
    "duration": 25,
    "start_time": "2022-04-18T22:40:25.529Z"
   },
   {
    "duration": 40,
    "start_time": "2022-04-18T22:40:25.555Z"
   },
   {
    "duration": 228,
    "start_time": "2022-04-18T22:40:25.597Z"
   },
   {
    "duration": 35,
    "start_time": "2022-04-18T22:40:25.826Z"
   },
   {
    "duration": 242,
    "start_time": "2022-04-18T22:40:25.863Z"
   },
   {
    "duration": 498,
    "start_time": "2022-04-18T22:40:26.106Z"
   },
   {
    "duration": 3,
    "start_time": "2022-04-18T22:40:26.605Z"
   },
   {
    "duration": 14,
    "start_time": "2022-04-18T22:40:26.622Z"
   },
   {
    "duration": 25,
    "start_time": "2022-04-18T22:40:26.637Z"
   },
   {
    "duration": 27,
    "start_time": "2022-04-18T22:40:26.664Z"
   },
   {
    "duration": 39,
    "start_time": "2022-04-18T22:40:26.693Z"
   },
   {
    "duration": 4,
    "start_time": "2022-04-18T22:40:26.733Z"
   },
   {
    "duration": 16,
    "start_time": "2022-04-18T22:40:26.739Z"
   },
   {
    "duration": 13,
    "start_time": "2022-04-18T22:40:26.757Z"
   },
   {
    "duration": 35,
    "start_time": "2022-04-18T22:40:26.771Z"
   },
   {
    "duration": 30,
    "start_time": "2022-04-18T22:40:26.808Z"
   },
   {
    "duration": 4,
    "start_time": "2022-04-18T22:40:26.840Z"
   },
   {
    "duration": 36,
    "start_time": "2022-04-18T22:40:26.845Z"
   },
   {
    "duration": 12,
    "start_time": "2022-04-18T22:40:26.883Z"
   },
   {
    "duration": 30,
    "start_time": "2022-04-18T22:40:26.896Z"
   },
   {
    "duration": 37,
    "start_time": "2022-04-18T22:40:26.928Z"
   },
   {
    "duration": 4,
    "start_time": "2022-04-18T22:40:26.967Z"
   },
   {
    "duration": 18,
    "start_time": "2022-04-18T22:40:26.972Z"
   },
   {
    "duration": 7,
    "start_time": "2022-04-18T22:40:26.997Z"
   },
   {
    "duration": 28,
    "start_time": "2022-04-18T22:40:27.006Z"
   },
   {
    "duration": 18,
    "start_time": "2022-04-18T22:40:27.036Z"
   },
   {
    "duration": 23,
    "start_time": "2022-04-18T22:40:27.056Z"
   },
   {
    "duration": 8,
    "start_time": "2022-04-18T22:40:27.081Z"
   },
   {
    "duration": 21,
    "start_time": "2022-04-18T22:40:27.090Z"
   },
   {
    "duration": 22,
    "start_time": "2022-04-18T22:40:27.113Z"
   },
   {
    "duration": 11,
    "start_time": "2022-04-18T22:40:27.137Z"
   },
   {
    "duration": 28,
    "start_time": "2022-04-18T22:40:27.150Z"
   },
   {
    "duration": 3,
    "start_time": "2022-04-18T22:40:27.180Z"
   },
   {
    "duration": 152,
    "start_time": "2022-04-18T22:40:27.184Z"
   },
   {
    "duration": 10,
    "start_time": "2022-04-18T22:40:27.337Z"
   },
   {
    "duration": 21,
    "start_time": "2022-04-18T22:40:27.349Z"
   },
   {
    "duration": 14,
    "start_time": "2022-04-18T22:40:27.372Z"
   },
   {
    "duration": 18,
    "start_time": "2022-04-18T22:40:27.388Z"
   },
   {
    "duration": 37,
    "start_time": "2022-04-18T22:40:27.407Z"
   },
   {
    "duration": 9,
    "start_time": "2022-04-18T22:40:27.446Z"
   },
   {
    "duration": 15,
    "start_time": "2022-04-18T22:40:27.457Z"
   },
   {
    "duration": 23,
    "start_time": "2022-04-18T22:40:27.474Z"
   },
   {
    "duration": 27,
    "start_time": "2022-04-18T22:40:27.499Z"
   },
   {
    "duration": 237,
    "start_time": "2022-04-18T22:40:27.528Z"
   },
   {
    "duration": 217,
    "start_time": "2022-04-18T22:40:27.766Z"
   },
   {
    "duration": 2,
    "start_time": "2022-04-18T22:40:27.985Z"
   },
   {
    "duration": 30,
    "start_time": "2022-04-18T22:40:27.988Z"
   },
   {
    "duration": 21,
    "start_time": "2022-04-18T22:40:28.019Z"
   },
   {
    "duration": 21,
    "start_time": "2022-04-18T22:40:28.042Z"
   },
   {
    "duration": 1937,
    "start_time": "2022-04-19T17:05:58.488Z"
   },
   {
    "duration": 529,
    "start_time": "2022-04-19T17:06:00.428Z"
   },
   {
    "duration": 32,
    "start_time": "2022-04-19T17:06:00.959Z"
   },
   {
    "duration": 13,
    "start_time": "2022-04-19T17:06:00.994Z"
   },
   {
    "duration": 19,
    "start_time": "2022-04-19T17:06:01.009Z"
   },
   {
    "duration": 13,
    "start_time": "2022-04-19T17:06:01.031Z"
   },
   {
    "duration": 40,
    "start_time": "2022-04-19T17:06:01.047Z"
   },
   {
    "duration": 33,
    "start_time": "2022-04-19T17:06:01.090Z"
   },
   {
    "duration": 12,
    "start_time": "2022-04-19T17:06:01.125Z"
   },
   {
    "duration": 46,
    "start_time": "2022-04-19T17:06:01.140Z"
   },
   {
    "duration": 29,
    "start_time": "2022-04-19T17:06:01.189Z"
   },
   {
    "duration": 30,
    "start_time": "2022-04-19T17:06:01.220Z"
   },
   {
    "duration": 42,
    "start_time": "2022-04-19T17:06:01.252Z"
   },
   {
    "duration": 22,
    "start_time": "2022-04-19T17:06:01.297Z"
   },
   {
    "duration": 110,
    "start_time": "2022-04-19T17:06:01.322Z"
   },
   {
    "duration": 63,
    "start_time": "2022-04-19T17:06:01.435Z"
   },
   {
    "duration": 58,
    "start_time": "2022-04-19T17:06:01.500Z"
   },
   {
    "duration": 52,
    "start_time": "2022-04-19T17:06:01.560Z"
   },
   {
    "duration": 14,
    "start_time": "2022-04-19T17:06:01.614Z"
   },
   {
    "duration": 41,
    "start_time": "2022-04-19T17:06:01.630Z"
   },
   {
    "duration": 37,
    "start_time": "2022-04-19T17:06:01.673Z"
   },
   {
    "duration": 41,
    "start_time": "2022-04-19T17:06:01.712Z"
   },
   {
    "duration": 15,
    "start_time": "2022-04-19T17:06:01.755Z"
   },
   {
    "duration": 213,
    "start_time": "2022-04-19T17:06:01.772Z"
   },
   {
    "duration": 50,
    "start_time": "2022-04-19T17:06:01.988Z"
   },
   {
    "duration": 55,
    "start_time": "2022-04-19T17:06:02.040Z"
   },
   {
    "duration": 1110,
    "start_time": "2022-04-19T17:06:02.098Z"
   },
   {
    "duration": 1029,
    "start_time": "2022-04-19T17:06:03.215Z"
   },
   {
    "duration": 1032,
    "start_time": "2022-04-19T17:06:04.246Z"
   },
   {
    "duration": 1067,
    "start_time": "2022-04-19T17:06:05.280Z"
   },
   {
    "duration": 109,
    "start_time": "2022-04-19T17:06:06.350Z"
   },
   {
    "duration": 19,
    "start_time": "2022-04-19T17:06:06.462Z"
   },
   {
    "duration": 1100,
    "start_time": "2022-04-19T17:06:06.486Z"
   },
   {
    "duration": 1263,
    "start_time": "2022-04-19T17:06:07.590Z"
   },
   {
    "duration": 123,
    "start_time": "2022-04-19T17:06:08.856Z"
   },
   {
    "duration": 19,
    "start_time": "2022-04-19T17:06:08.982Z"
   },
   {
    "duration": 1025,
    "start_time": "2022-04-19T17:06:09.004Z"
   },
   {
    "duration": 1024,
    "start_time": "2022-04-19T17:06:10.031Z"
   },
   {
    "duration": 9,
    "start_time": "2022-04-19T17:06:11.058Z"
   },
   {
    "duration": 63,
    "start_time": "2022-04-19T17:06:11.069Z"
   },
   {
    "duration": 84,
    "start_time": "2022-04-19T17:06:11.134Z"
   },
   {
    "duration": 791,
    "start_time": "2022-04-19T17:06:11.220Z"
   },
   {
    "duration": 453,
    "start_time": "2022-04-19T17:06:12.014Z"
   },
   {
    "duration": 535,
    "start_time": "2022-04-19T17:06:12.470Z"
   },
   {
    "duration": 742,
    "start_time": "2022-04-19T17:06:13.007Z"
   },
   {
    "duration": 443,
    "start_time": "2022-04-19T17:06:13.752Z"
   },
   {
    "duration": 435,
    "start_time": "2022-04-19T17:06:14.197Z"
   },
   {
    "duration": 4,
    "start_time": "2022-04-19T17:06:14.634Z"
   },
   {
    "duration": 15,
    "start_time": "2022-04-19T17:06:14.640Z"
   },
   {
    "duration": 8,
    "start_time": "2022-04-19T17:06:14.657Z"
   },
   {
    "duration": 21,
    "start_time": "2022-04-19T17:06:14.668Z"
   },
   {
    "duration": 15,
    "start_time": "2022-04-19T17:06:14.692Z"
   },
   {
    "duration": 48,
    "start_time": "2022-04-19T17:06:14.709Z"
   },
   {
    "duration": 438,
    "start_time": "2022-04-19T17:06:14.759Z"
   },
   {
    "duration": 46,
    "start_time": "2022-04-19T17:06:15.200Z"
   },
   {
    "duration": 565,
    "start_time": "2022-04-19T17:06:15.248Z"
   },
   {
    "duration": 737,
    "start_time": "2022-04-19T17:06:15.815Z"
   },
   {
    "duration": 4,
    "start_time": "2022-04-19T17:06:16.554Z"
   },
   {
    "duration": 29,
    "start_time": "2022-04-19T17:06:16.560Z"
   },
   {
    "duration": 15,
    "start_time": "2022-04-19T17:06:16.592Z"
   },
   {
    "duration": 43,
    "start_time": "2022-04-19T17:06:16.610Z"
   },
   {
    "duration": 458,
    "start_time": "2022-04-19T17:06:16.655Z"
   },
   {
    "duration": 58,
    "start_time": "2022-04-19T17:06:17.115Z"
   },
   {
    "duration": 446,
    "start_time": "2022-04-19T17:06:17.182Z"
   },
   {
    "duration": 862,
    "start_time": "2022-04-19T17:06:17.631Z"
   },
   {
    "duration": 4,
    "start_time": "2022-04-19T17:06:18.502Z"
   },
   {
    "duration": 10,
    "start_time": "2022-04-19T17:06:18.508Z"
   },
   {
    "duration": 15,
    "start_time": "2022-04-19T17:06:18.520Z"
   },
   {
    "duration": 19,
    "start_time": "2022-04-19T17:06:18.537Z"
   },
   {
    "duration": 72,
    "start_time": "2022-04-19T17:06:18.558Z"
   },
   {
    "duration": 5,
    "start_time": "2022-04-19T17:06:18.633Z"
   },
   {
    "duration": 14,
    "start_time": "2022-04-19T17:06:18.640Z"
   },
   {
    "duration": 30,
    "start_time": "2022-04-19T17:06:18.656Z"
   },
   {
    "duration": 26,
    "start_time": "2022-04-19T17:06:18.688Z"
   },
   {
    "duration": 37,
    "start_time": "2022-04-19T17:06:18.716Z"
   },
   {
    "duration": 5,
    "start_time": "2022-04-19T17:06:18.756Z"
   },
   {
    "duration": 29,
    "start_time": "2022-04-19T17:06:18.763Z"
   },
   {
    "duration": 16,
    "start_time": "2022-04-19T17:06:18.795Z"
   },
   {
    "duration": 40,
    "start_time": "2022-04-19T17:06:18.813Z"
   },
   {
    "duration": 53,
    "start_time": "2022-04-19T17:06:18.855Z"
   },
   {
    "duration": 5,
    "start_time": "2022-04-19T17:06:18.910Z"
   },
   {
    "duration": 10,
    "start_time": "2022-04-19T17:06:18.925Z"
   },
   {
    "duration": 11,
    "start_time": "2022-04-19T17:06:18.937Z"
   },
   {
    "duration": 45,
    "start_time": "2022-04-19T17:06:18.950Z"
   },
   {
    "duration": 16,
    "start_time": "2022-04-19T17:06:18.998Z"
   },
   {
    "duration": 22,
    "start_time": "2022-04-19T17:06:19.016Z"
   },
   {
    "duration": 6,
    "start_time": "2022-04-19T17:06:19.040Z"
   },
   {
    "duration": 49,
    "start_time": "2022-04-19T17:06:19.049Z"
   },
   {
    "duration": 21,
    "start_time": "2022-04-19T17:06:19.101Z"
   },
   {
    "duration": 22,
    "start_time": "2022-04-19T17:06:19.125Z"
   },
   {
    "duration": 56,
    "start_time": "2022-04-19T17:06:19.149Z"
   },
   {
    "duration": 4,
    "start_time": "2022-04-19T17:06:19.207Z"
   },
   {
    "duration": 283,
    "start_time": "2022-04-19T17:06:19.213Z"
   },
   {
    "duration": 13,
    "start_time": "2022-04-19T17:06:19.498Z"
   },
   {
    "duration": 10,
    "start_time": "2022-04-19T17:06:19.513Z"
   },
   {
    "duration": 15,
    "start_time": "2022-04-19T17:06:19.525Z"
   },
   {
    "duration": 13,
    "start_time": "2022-04-19T17:06:19.542Z"
   },
   {
    "duration": 7,
    "start_time": "2022-04-19T17:06:19.581Z"
   },
   {
    "duration": 16,
    "start_time": "2022-04-19T17:06:19.592Z"
   },
   {
    "duration": 8,
    "start_time": "2022-04-19T17:06:19.610Z"
   },
   {
    "duration": 9,
    "start_time": "2022-04-19T17:06:19.620Z"
   },
   {
    "duration": 16,
    "start_time": "2022-04-19T17:06:19.631Z"
   },
   {
    "duration": 436,
    "start_time": "2022-04-19T17:06:19.649Z"
   },
   {
    "duration": 433,
    "start_time": "2022-04-19T17:06:20.088Z"
   },
   {
    "duration": 5,
    "start_time": "2022-04-19T17:06:20.524Z"
   },
   {
    "duration": 11,
    "start_time": "2022-04-19T17:06:20.531Z"
   },
   {
    "duration": 4,
    "start_time": "2022-04-19T17:06:20.545Z"
   },
   {
    "duration": 42,
    "start_time": "2022-04-19T17:06:20.552Z"
   }
  ],
  "kernelspec": {
   "display_name": "Python 3",
   "language": "python",
   "name": "python3"
  },
  "language_info": {
   "codemirror_mode": {
    "name": "ipython",
    "version": 3
   },
   "file_extension": ".py",
   "mimetype": "text/x-python",
   "name": "python",
   "nbconvert_exporter": "python",
   "pygments_lexer": "ipython3",
   "version": "3.7.3"
  },
  "toc": {
   "base_numbering": 1,
   "nav_menu": {},
   "number_sections": true,
   "sideBar": true,
   "skip_h1_title": true,
   "title_cell": "Table of Contents",
   "title_sidebar": "Contents",
   "toc_cell": false,
   "toc_position": {},
   "toc_section_display": true,
   "toc_window_display": false
  }
 },
 "nbformat": 4,
 "nbformat_minor": 2
}
