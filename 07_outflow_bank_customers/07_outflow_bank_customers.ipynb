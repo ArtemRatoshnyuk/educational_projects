{
 "cells": [
  {
   "cell_type": "markdown",
   "metadata": {
    "toc": true
   },
   "source": [
    "<h1>Содержание<span class=\"tocSkip\"></span></h1>\n",
    "<div class=\"toc\"><ul class=\"toc-item\"><li><span><a href=\"#Подготовка-данных\" data-toc-modified-id=\"Подготовка-данных-1\"><span class=\"toc-item-num\">1&nbsp;&nbsp;</span>Подготовка данных</a></span></li><li><span><a href=\"#Исследование-задачи\" data-toc-modified-id=\"Исследование-задачи-2\"><span class=\"toc-item-num\">2&nbsp;&nbsp;</span>Исследование задачи</a></span></li><li><span><a href=\"#Борьба-с-дисбалансом\" data-toc-modified-id=\"Борьба-с-дисбалансом-3\"><span class=\"toc-item-num\">3&nbsp;&nbsp;</span>Борьба с дисбалансом</a></span></li><li><span><a href=\"#Тестирование-модели\" data-toc-modified-id=\"Тестирование-модели-4\"><span class=\"toc-item-num\">4&nbsp;&nbsp;</span>Тестирование модели</a></span></li><li><span><a href=\"#Чек-лист-готовности-проекта\" data-toc-modified-id=\"Чек-лист-готовности-проекта-5\"><span class=\"toc-item-num\">5&nbsp;&nbsp;</span>Чек-лист готовности проекта</a></span></li></ul></div>"
   ]
  },
  {
   "cell_type": "markdown",
   "metadata": {},
   "source": [
    "# Отток клиентов"
   ]
  },
  {
   "cell_type": "markdown",
   "metadata": {},
   "source": [
    "Из «Бета-Банка» стали уходить клиенты. Каждый месяц. Немного, но заметно. Банковские маркетологи посчитали: сохранять текущих клиентов дешевле, чем привлекать новых.\n",
    "\n",
    "Нужно спрогнозировать, уйдёт клиент из банка в ближайшее время или нет. Вам предоставлены исторические данные о поведении клиентов и расторжении договоров с банком. \n",
    "\n",
    "Постройте модель с предельно большим значением *F1*-меры. Чтобы сдать проект успешно, нужно довести метрику до 0.59. Проверьте *F1*-меру на тестовой выборке самостоятельно.\n",
    "\n",
    "Дополнительно измеряйте *AUC-ROC*, сравнивайте её значение с *F1*-мерой.\n",
    "\n",
    "Источник данных: [https://www.kaggle.com/barelydedicated/bank-customer-churn-modeling](https://www.kaggle.com/barelydedicated/bank-customer-churn-modeling)"
   ]
  },
  {
   "cell_type": "markdown",
   "metadata": {},
   "source": [
    "**Заказчик.** «Бета-Банк»\n",
    "\n",
    "***Цель Заказчика.** Построить систему прогнозирования ухода клиента из банка.\n",
    "\n",
    "**Цель исследования.** Для сокращения оттока клиентов построить модель со значением метрики F1-меры не менее 0.59. \n",
    "\n",
    "**Задачи:**\n",
    "\n",
    "- Загрузить и подготовить данные.\n",
    "- Исследовать баланс классов, обучить модель без учёта дисбаланса. \n",
    "- Улучшить качество модели, учитывая дисбаланс классов. Обучить разные модели и найти лучшую.\n",
    "- Провести финальное тестирование.\n",
    "\n",
    "\n",
    "**Входные данные от Заказчика.** Файл в формате .csv с указанием различных параметров поведения клиентов банка.\n",
    "\n",
    "**Ожидаемый результат.** Построена модель с уровнем метрики F1-меры не менее 0.59"
   ]
  },
  {
   "cell_type": "markdown",
   "metadata": {},
   "source": [
    "## Подготовка данных"
   ]
  },
  {
   "cell_type": "markdown",
   "metadata": {},
   "source": [
    "1. Открыть таблицу \n",
    "2. Изучить структуру данных по десяти первым строкам\n",
    "3. Изучить структуру данных методом `info()`\n",
    "4. Выявить пропуски и дубликаты"
   ]
  },
  {
   "cell_type": "markdown",
   "metadata": {},
   "source": [
    "**Описание данных**\n",
    "\n",
    "**Признаки**\n",
    "\n",
    "- `RowNumber` — индекс строки в данных\n",
    "- `CustomerId` — уникальный идентификатор клиента\n",
    "- `Surname` — фамилия\n",
    "- `CreditScore` — кредитный рейтинг\n",
    "- `Geography` — страна проживания\n",
    "- `Gender` — пол\n",
    "- `Age` — возраст\n",
    "- `Tenure` — сколько лет человек является клиентом банка\n",
    "- `Balance` — баланс на счёте\n",
    "- `NumOfProducts` — количество продуктов банка, используемых клиентом\n",
    "- `HasCrCard` — наличие кредитной карты\n",
    "- `IsActiveMember` — активность клиента\n",
    "- `EstimatedSalary` — предполагаемая зарплата\n",
    "\n",
    "\n",
    "**Целевой признак**\n",
    "\n",
    "- `Exited` — факт ухода клиента"
   ]
  },
  {
   "cell_type": "code",
   "execution_count": 46,
   "metadata": {},
   "outputs": [],
   "source": [
    "# Импотрт библиотек\n",
    "import pandas as pd\n",
    "import numpy as np\n",
    "import seaborn as sns\n",
    "import matplotlib.pyplot as plt\n",
    "\n",
    "from sklearn.tree import DecisionTreeClassifier\n",
    "from sklearn.tree import DecisionTreeRegressor\n",
    "\n",
    "from sklearn.ensemble import RandomForestClassifier\n",
    "from sklearn.ensemble import RandomForestRegressor\n",
    "\n",
    "from sklearn.linear_model import LogisticRegression\n",
    "from sklearn.linear_model import LinearRegression\n",
    "\n",
    "from sklearn.model_selection import train_test_split\n",
    "from sklearn.preprocessing import StandardScaler # стандартизация\n",
    "from sklearn.utils import shuffle # перемешивание\n",
    "from sklearn.dummy import DummyClassifier # Наивная модель\n",
    "\n",
    "from sklearn.metrics import accuracy_score\n",
    "from sklearn.metrics import mean_squared_error\n",
    "from sklearn.metrics import mean_absolute_error\n",
    "\n",
    "from sklearn.metrics import confusion_matrix # матрица \"правда / ложь\"\n",
    "from sklearn.metrics import precision_score\n",
    "from sklearn.metrics import recall_score\n",
    "from sklearn.metrics import f1_score\n",
    "from sklearn.metrics import r2_score\n",
    "\n",
    "from sklearn.metrics import precision_recall_curve\n",
    "from sklearn.metrics import roc_curve # график\n",
    "from sklearn.metrics import roc_auc_score # площадь фигуры по графику"
   ]
  },
  {
   "cell_type": "code",
   "execution_count": 47,
   "metadata": {},
   "outputs": [
    {
     "data": {
      "text/html": [
       "<div>\n",
       "<style scoped>\n",
       "    .dataframe tbody tr th:only-of-type {\n",
       "        vertical-align: middle;\n",
       "    }\n",
       "\n",
       "    .dataframe tbody tr th {\n",
       "        vertical-align: top;\n",
       "    }\n",
       "\n",
       "    .dataframe thead th {\n",
       "        text-align: right;\n",
       "    }\n",
       "</style>\n",
       "<table border=\"1\" class=\"dataframe\">\n",
       "  <thead>\n",
       "    <tr style=\"text-align: right;\">\n",
       "      <th></th>\n",
       "      <th>RowNumber</th>\n",
       "      <th>CustomerId</th>\n",
       "      <th>Surname</th>\n",
       "      <th>CreditScore</th>\n",
       "      <th>Geography</th>\n",
       "      <th>Gender</th>\n",
       "      <th>Age</th>\n",
       "      <th>Tenure</th>\n",
       "      <th>Balance</th>\n",
       "      <th>NumOfProducts</th>\n",
       "      <th>HasCrCard</th>\n",
       "      <th>IsActiveMember</th>\n",
       "      <th>EstimatedSalary</th>\n",
       "      <th>Exited</th>\n",
       "    </tr>\n",
       "  </thead>\n",
       "  <tbody>\n",
       "    <tr>\n",
       "      <th>0</th>\n",
       "      <td>1</td>\n",
       "      <td>15634602</td>\n",
       "      <td>Hargrave</td>\n",
       "      <td>619</td>\n",
       "      <td>France</td>\n",
       "      <td>Female</td>\n",
       "      <td>42</td>\n",
       "      <td>2.0</td>\n",
       "      <td>0.00</td>\n",
       "      <td>1</td>\n",
       "      <td>1</td>\n",
       "      <td>1</td>\n",
       "      <td>101348.88</td>\n",
       "      <td>1</td>\n",
       "    </tr>\n",
       "    <tr>\n",
       "      <th>1</th>\n",
       "      <td>2</td>\n",
       "      <td>15647311</td>\n",
       "      <td>Hill</td>\n",
       "      <td>608</td>\n",
       "      <td>Spain</td>\n",
       "      <td>Female</td>\n",
       "      <td>41</td>\n",
       "      <td>1.0</td>\n",
       "      <td>83807.86</td>\n",
       "      <td>1</td>\n",
       "      <td>0</td>\n",
       "      <td>1</td>\n",
       "      <td>112542.58</td>\n",
       "      <td>0</td>\n",
       "    </tr>\n",
       "    <tr>\n",
       "      <th>2</th>\n",
       "      <td>3</td>\n",
       "      <td>15619304</td>\n",
       "      <td>Onio</td>\n",
       "      <td>502</td>\n",
       "      <td>France</td>\n",
       "      <td>Female</td>\n",
       "      <td>42</td>\n",
       "      <td>8.0</td>\n",
       "      <td>159660.80</td>\n",
       "      <td>3</td>\n",
       "      <td>1</td>\n",
       "      <td>0</td>\n",
       "      <td>113931.57</td>\n",
       "      <td>1</td>\n",
       "    </tr>\n",
       "    <tr>\n",
       "      <th>3</th>\n",
       "      <td>4</td>\n",
       "      <td>15701354</td>\n",
       "      <td>Boni</td>\n",
       "      <td>699</td>\n",
       "      <td>France</td>\n",
       "      <td>Female</td>\n",
       "      <td>39</td>\n",
       "      <td>1.0</td>\n",
       "      <td>0.00</td>\n",
       "      <td>2</td>\n",
       "      <td>0</td>\n",
       "      <td>0</td>\n",
       "      <td>93826.63</td>\n",
       "      <td>0</td>\n",
       "    </tr>\n",
       "    <tr>\n",
       "      <th>4</th>\n",
       "      <td>5</td>\n",
       "      <td>15737888</td>\n",
       "      <td>Mitchell</td>\n",
       "      <td>850</td>\n",
       "      <td>Spain</td>\n",
       "      <td>Female</td>\n",
       "      <td>43</td>\n",
       "      <td>2.0</td>\n",
       "      <td>125510.82</td>\n",
       "      <td>1</td>\n",
       "      <td>1</td>\n",
       "      <td>1</td>\n",
       "      <td>79084.10</td>\n",
       "      <td>0</td>\n",
       "    </tr>\n",
       "  </tbody>\n",
       "</table>\n",
       "</div>"
      ],
      "text/plain": [
       "   RowNumber  CustomerId   Surname  CreditScore Geography  Gender  Age  \\\n",
       "0          1    15634602  Hargrave          619    France  Female   42   \n",
       "1          2    15647311      Hill          608     Spain  Female   41   \n",
       "2          3    15619304      Onio          502    France  Female   42   \n",
       "3          4    15701354      Boni          699    France  Female   39   \n",
       "4          5    15737888  Mitchell          850     Spain  Female   43   \n",
       "\n",
       "   Tenure    Balance  NumOfProducts  HasCrCard  IsActiveMember  \\\n",
       "0     2.0       0.00              1          1               1   \n",
       "1     1.0   83807.86              1          0               1   \n",
       "2     8.0  159660.80              3          1               0   \n",
       "3     1.0       0.00              2          0               0   \n",
       "4     2.0  125510.82              1          1               1   \n",
       "\n",
       "   EstimatedSalary  Exited  \n",
       "0        101348.88       1  \n",
       "1        112542.58       0  \n",
       "2        113931.57       1  \n",
       "3         93826.63       0  \n",
       "4         79084.10       0  "
      ]
     },
     "metadata": {},
     "output_type": "display_data"
    }
   ],
   "source": [
    "df = pd.read_csv('/datasets/Churn.csv')\n",
    "display(df.head())"
   ]
  },
  {
   "cell_type": "code",
   "execution_count": 48,
   "metadata": {},
   "outputs": [
    {
     "name": "stdout",
     "output_type": "stream",
     "text": [
      "<class 'pandas.core.frame.DataFrame'>\n",
      "RangeIndex: 10000 entries, 0 to 9999\n",
      "Data columns (total 14 columns):\n",
      " #   Column           Non-Null Count  Dtype  \n",
      "---  ------           --------------  -----  \n",
      " 0   RowNumber        10000 non-null  int64  \n",
      " 1   CustomerId       10000 non-null  int64  \n",
      " 2   Surname          10000 non-null  object \n",
      " 3   CreditScore      10000 non-null  int64  \n",
      " 4   Geography        10000 non-null  object \n",
      " 5   Gender           10000 non-null  object \n",
      " 6   Age              10000 non-null  int64  \n",
      " 7   Tenure           9091 non-null   float64\n",
      " 8   Balance          10000 non-null  float64\n",
      " 9   NumOfProducts    10000 non-null  int64  \n",
      " 10  HasCrCard        10000 non-null  int64  \n",
      " 11  IsActiveMember   10000 non-null  int64  \n",
      " 12  EstimatedSalary  10000 non-null  float64\n",
      " 13  Exited           10000 non-null  int64  \n",
      "dtypes: float64(3), int64(8), object(3)\n",
      "memory usage: 1.1+ MB\n"
     ]
    }
   ],
   "source": [
    "df.info()"
   ]
  },
  {
   "cell_type": "code",
   "execution_count": 49,
   "metadata": {},
   "outputs": [
    {
     "name": "stdout",
     "output_type": "stream",
     "text": [
      "RowNumber            0\n",
      "CustomerId           0\n",
      "Surname              0\n",
      "CreditScore          0\n",
      "Geography            0\n",
      "Gender               0\n",
      "Age                  0\n",
      "Tenure             909\n",
      "Balance              0\n",
      "NumOfProducts        0\n",
      "HasCrCard            0\n",
      "IsActiveMember       0\n",
      "EstimatedSalary      0\n",
      "Exited               0\n",
      "dtype: int64\n"
     ]
    }
   ],
   "source": [
    "print(df.isna().sum())"
   ]
  },
  {
   "cell_type": "code",
   "execution_count": 50,
   "metadata": {},
   "outputs": [
    {
     "name": "stdout",
     "output_type": "stream",
     "text": [
      "0\n"
     ]
    }
   ],
   "source": [
    "print(df.duplicated().sum())"
   ]
  },
  {
   "cell_type": "code",
   "execution_count": 51,
   "metadata": {},
   "outputs": [
    {
     "data": {
      "text/html": [
       "<div>\n",
       "<style scoped>\n",
       "    .dataframe tbody tr th:only-of-type {\n",
       "        vertical-align: middle;\n",
       "    }\n",
       "\n",
       "    .dataframe tbody tr th {\n",
       "        vertical-align: top;\n",
       "    }\n",
       "\n",
       "    .dataframe thead th {\n",
       "        text-align: right;\n",
       "    }\n",
       "</style>\n",
       "<table border=\"1\" class=\"dataframe\">\n",
       "  <thead>\n",
       "    <tr style=\"text-align: right;\">\n",
       "      <th></th>\n",
       "      <th>columns</th>\n",
       "      <th>values</th>\n",
       "    </tr>\n",
       "  </thead>\n",
       "  <tbody>\n",
       "    <tr>\n",
       "      <th>0</th>\n",
       "      <td>RowNumber</td>\n",
       "      <td>10000</td>\n",
       "    </tr>\n",
       "    <tr>\n",
       "      <th>1</th>\n",
       "      <td>CustomerId</td>\n",
       "      <td>10000</td>\n",
       "    </tr>\n",
       "    <tr>\n",
       "      <th>2</th>\n",
       "      <td>Surname</td>\n",
       "      <td>2932</td>\n",
       "    </tr>\n",
       "    <tr>\n",
       "      <th>3</th>\n",
       "      <td>CreditScore</td>\n",
       "      <td>460</td>\n",
       "    </tr>\n",
       "    <tr>\n",
       "      <th>4</th>\n",
       "      <td>Geography</td>\n",
       "      <td>3</td>\n",
       "    </tr>\n",
       "    <tr>\n",
       "      <th>5</th>\n",
       "      <td>Gender</td>\n",
       "      <td>2</td>\n",
       "    </tr>\n",
       "    <tr>\n",
       "      <th>6</th>\n",
       "      <td>Age</td>\n",
       "      <td>70</td>\n",
       "    </tr>\n",
       "    <tr>\n",
       "      <th>7</th>\n",
       "      <td>Tenure</td>\n",
       "      <td>12</td>\n",
       "    </tr>\n",
       "    <tr>\n",
       "      <th>8</th>\n",
       "      <td>Balance</td>\n",
       "      <td>6382</td>\n",
       "    </tr>\n",
       "    <tr>\n",
       "      <th>9</th>\n",
       "      <td>NumOfProducts</td>\n",
       "      <td>4</td>\n",
       "    </tr>\n",
       "    <tr>\n",
       "      <th>10</th>\n",
       "      <td>HasCrCard</td>\n",
       "      <td>2</td>\n",
       "    </tr>\n",
       "    <tr>\n",
       "      <th>11</th>\n",
       "      <td>IsActiveMember</td>\n",
       "      <td>2</td>\n",
       "    </tr>\n",
       "    <tr>\n",
       "      <th>12</th>\n",
       "      <td>EstimatedSalary</td>\n",
       "      <td>9999</td>\n",
       "    </tr>\n",
       "    <tr>\n",
       "      <th>13</th>\n",
       "      <td>Exited</td>\n",
       "      <td>2</td>\n",
       "    </tr>\n",
       "  </tbody>\n",
       "</table>\n",
       "</div>"
      ],
      "text/plain": [
       "            columns  values\n",
       "0         RowNumber   10000\n",
       "1        CustomerId   10000\n",
       "2           Surname    2932\n",
       "3       CreditScore     460\n",
       "4         Geography       3\n",
       "5            Gender       2\n",
       "6               Age      70\n",
       "7            Tenure      12\n",
       "8           Balance    6382\n",
       "9     NumOfProducts       4\n",
       "10        HasCrCard       2\n",
       "11   IsActiveMember       2\n",
       "12  EstimatedSalary    9999\n",
       "13           Exited       2"
      ]
     },
     "metadata": {},
     "output_type": "display_data"
    }
   ],
   "source": [
    "columns_new = [i for i in list(df.columns)]\n",
    "columns_unique = [len(df[i].unique()) for i in list(df.columns)]\n",
    "\n",
    "df_unique = pd.DataFrame({\n",
    "    'columns': columns_new,\n",
    "    'values': columns_unique\n",
    "})\n",
    "\n",
    "display(df_unique)"
   ]
  },
  {
   "cell_type": "markdown",
   "metadata": {},
   "source": [
    "**Порядок изменения подготовки данных**\n",
    "\n",
    "1.\tИзменить названия столбцов, перевести в нижний регистр\n",
    "2.\tЗаполнить пропуски в столбце `Tenure` медианным значением ** \n",
    "3.\tРазделить таблицу на признаки и целевые результаты. При разделении, из признаков удалить столбцы `RowNumber`, `CustomerId`, `Surname`***\n",
    "4.\tВыполнить прямое кодирование для `Geography`, `Gender`\n",
    "5.\tРазделить исходные данные на обучающую, валидационную и тестовую выборки в соотношении 0.6:0.2:0.2\n",
    "6. Стандартизировать данные\n",
    "\n",
    "** В таблице более 900 пропусков, что составляет около 9% объема данных. Удалив эти столбцы, мы значительно снизим обучаемость модели. Заполнив пропуски, мы также снизим точность прогнозирования, но в меньшей степени. Это связано с тем, что качество данных будет снижен в одном из 11 параметров, что приведет к общему снижению точности модели менее 1%. Заполнив пропуски средним значением, мы рискуем сместить данные в сторону выбросов. Медианное значение лишено данного недостатка\n",
    "\n",
    "*** В рамках решения задачи прогнозирования поведения потребителей нет смысла в их персонализации. С другой стороны, излишняя детализация данных сужает возможности обучения модели за счет чрезмерной кластеризации. Поэтому для решения текущей задачи, нам не потребуется информация о фамилии клиента, его ID и номера сделки.\n",
    "\n"
   ]
  },
  {
   "cell_type": "code",
   "execution_count": 52,
   "metadata": {},
   "outputs": [],
   "source": [
    "# Введем константу\n",
    "RANDOM_STATE = 12345"
   ]
  },
  {
   "cell_type": "code",
   "execution_count": 53,
   "metadata": {},
   "outputs": [
    {
     "name": "stdout",
     "output_type": "stream",
     "text": [
      "Index(['rownumber', 'customerid', 'surname', 'creditscore', 'geography',\n",
      "       'gender', 'age', 'tenure', 'balance', 'numofproducts', 'hascrcard',\n",
      "       'isactivemember', 'estimatedsalary', 'exited'],\n",
      "      dtype='object')\n"
     ]
    }
   ],
   "source": [
    "# Приведем названия столбцов в нижний регистр\n",
    "df.columns = map(str.lower, df.columns)\n",
    "print(df.columns)"
   ]
  },
  {
   "cell_type": "code",
   "execution_count": 54,
   "metadata": {},
   "outputs": [
    {
     "name": "stdout",
     "output_type": "stream",
     "text": [
      "Пропусков  0\n"
     ]
    }
   ],
   "source": [
    "# Заполним пропуски в столбце tenure медианным значением\n",
    "df['tenure'] = df['tenure'].fillna(df['tenure'].median())\n",
    "print('Пропусков ', df['tenure'].isna().sum())"
   ]
  },
  {
   "cell_type": "code",
   "execution_count": 55,
   "metadata": {},
   "outputs": [
    {
     "data": {
      "text/html": [
       "<div>\n",
       "<style scoped>\n",
       "    .dataframe tbody tr th:only-of-type {\n",
       "        vertical-align: middle;\n",
       "    }\n",
       "\n",
       "    .dataframe tbody tr th {\n",
       "        vertical-align: top;\n",
       "    }\n",
       "\n",
       "    .dataframe thead th {\n",
       "        text-align: right;\n",
       "    }\n",
       "</style>\n",
       "<table border=\"1\" class=\"dataframe\">\n",
       "  <thead>\n",
       "    <tr style=\"text-align: right;\">\n",
       "      <th></th>\n",
       "      <th>creditscore</th>\n",
       "      <th>age</th>\n",
       "      <th>tenure</th>\n",
       "      <th>balance</th>\n",
       "      <th>numofproducts</th>\n",
       "      <th>hascrcard</th>\n",
       "      <th>isactivemember</th>\n",
       "      <th>estimatedsalary</th>\n",
       "      <th>geography_germany</th>\n",
       "      <th>geography_spain</th>\n",
       "      <th>gender_male</th>\n",
       "    </tr>\n",
       "  </thead>\n",
       "  <tbody>\n",
       "    <tr>\n",
       "      <th>0</th>\n",
       "      <td>619</td>\n",
       "      <td>42</td>\n",
       "      <td>2.0</td>\n",
       "      <td>0.00</td>\n",
       "      <td>1</td>\n",
       "      <td>1</td>\n",
       "      <td>1</td>\n",
       "      <td>101348.88</td>\n",
       "      <td>0</td>\n",
       "      <td>0</td>\n",
       "      <td>0</td>\n",
       "    </tr>\n",
       "    <tr>\n",
       "      <th>1</th>\n",
       "      <td>608</td>\n",
       "      <td>41</td>\n",
       "      <td>1.0</td>\n",
       "      <td>83807.86</td>\n",
       "      <td>1</td>\n",
       "      <td>0</td>\n",
       "      <td>1</td>\n",
       "      <td>112542.58</td>\n",
       "      <td>0</td>\n",
       "      <td>1</td>\n",
       "      <td>0</td>\n",
       "    </tr>\n",
       "    <tr>\n",
       "      <th>2</th>\n",
       "      <td>502</td>\n",
       "      <td>42</td>\n",
       "      <td>8.0</td>\n",
       "      <td>159660.80</td>\n",
       "      <td>3</td>\n",
       "      <td>1</td>\n",
       "      <td>0</td>\n",
       "      <td>113931.57</td>\n",
       "      <td>0</td>\n",
       "      <td>0</td>\n",
       "      <td>0</td>\n",
       "    </tr>\n",
       "    <tr>\n",
       "      <th>3</th>\n",
       "      <td>699</td>\n",
       "      <td>39</td>\n",
       "      <td>1.0</td>\n",
       "      <td>0.00</td>\n",
       "      <td>2</td>\n",
       "      <td>0</td>\n",
       "      <td>0</td>\n",
       "      <td>93826.63</td>\n",
       "      <td>0</td>\n",
       "      <td>0</td>\n",
       "      <td>0</td>\n",
       "    </tr>\n",
       "    <tr>\n",
       "      <th>4</th>\n",
       "      <td>850</td>\n",
       "      <td>43</td>\n",
       "      <td>2.0</td>\n",
       "      <td>125510.82</td>\n",
       "      <td>1</td>\n",
       "      <td>1</td>\n",
       "      <td>1</td>\n",
       "      <td>79084.10</td>\n",
       "      <td>0</td>\n",
       "      <td>1</td>\n",
       "      <td>0</td>\n",
       "    </tr>\n",
       "  </tbody>\n",
       "</table>\n",
       "</div>"
      ],
      "text/plain": [
       "   creditscore  age  tenure    balance  numofproducts  hascrcard  \\\n",
       "0          619   42     2.0       0.00              1          1   \n",
       "1          608   41     1.0   83807.86              1          0   \n",
       "2          502   42     8.0  159660.80              3          1   \n",
       "3          699   39     1.0       0.00              2          0   \n",
       "4          850   43     2.0  125510.82              1          1   \n",
       "\n",
       "   isactivemember  estimatedsalary  geography_germany  geography_spain  \\\n",
       "0               1        101348.88                  0                0   \n",
       "1               1        112542.58                  0                1   \n",
       "2               0        113931.57                  0                0   \n",
       "3               0         93826.63                  0                0   \n",
       "4               1         79084.10                  0                1   \n",
       "\n",
       "   gender_male  \n",
       "0            0  \n",
       "1            0  \n",
       "2            0  \n",
       "3            0  \n",
       "4            0  "
      ]
     },
     "metadata": {},
     "output_type": "display_data"
    }
   ],
   "source": [
    "# Разделим таблицу на признаки и целевые результаты\n",
    "features = df.drop(['rownumber', 'customerid', 'surname', 'exited'], axis=1)\n",
    "target = df['exited']\n",
    "\n",
    "# Выполним прямое кодирование\n",
    "features = pd.get_dummies(features, drop_first=True)\n",
    "\n",
    "# Приведем названия новых столбцов в нижний регистр\n",
    "features.columns = map(str.lower, features.columns)\n",
    "\n",
    "display(features.head())"
   ]
  },
  {
   "cell_type": "code",
   "execution_count": 56,
   "metadata": {
    "scrolled": true
   },
   "outputs": [
    {
     "name": "stdout",
     "output_type": "stream",
     "text": [
      "features_train - 6000 строк\n",
      "features_valid - 2000 строк\n",
      "features_test - 2000 строк\n"
     ]
    }
   ],
   "source": [
    "# Разделим исходные данные на обучающую, валидационную и тестовую выборки\n",
    "\n",
    "features_train, features_long, target_train, target_long = train_test_split(features, target, \n",
    "                                                                           test_size=.4,\n",
    "                                                                           stratify=target,\n",
    "                                                                           random_state=RANDOM_STATE)\n",
    "features_valid, features_test, target_valid, target_test = train_test_split(features_long, target_long,\n",
    "                                                                           test_size=.5,\n",
    "                                                                           stratify=target_long,\n",
    "                                                                           random_state=RANDOM_STATE)\n",
    "print(f'features_train - {features_train.shape[0]} строк')\n",
    "print(f'features_valid - {features_valid.shape[0]} строк')\n",
    "print(f'features_test - {features_test.shape[0]} строк')"
   ]
  },
  {
   "cell_type": "code",
   "execution_count": 57,
   "metadata": {},
   "outputs": [
    {
     "data": {
      "text/html": [
       "<div>\n",
       "<style scoped>\n",
       "    .dataframe tbody tr th:only-of-type {\n",
       "        vertical-align: middle;\n",
       "    }\n",
       "\n",
       "    .dataframe tbody tr th {\n",
       "        vertical-align: top;\n",
       "    }\n",
       "\n",
       "    .dataframe thead th {\n",
       "        text-align: right;\n",
       "    }\n",
       "</style>\n",
       "<table border=\"1\" class=\"dataframe\">\n",
       "  <thead>\n",
       "    <tr style=\"text-align: right;\">\n",
       "      <th></th>\n",
       "      <th>creditscore</th>\n",
       "      <th>age</th>\n",
       "      <th>tenure</th>\n",
       "      <th>balance</th>\n",
       "      <th>numofproducts</th>\n",
       "      <th>hascrcard</th>\n",
       "      <th>isactivemember</th>\n",
       "      <th>estimatedsalary</th>\n",
       "      <th>geography_germany</th>\n",
       "      <th>geography_spain</th>\n",
       "      <th>gender_male</th>\n",
       "    </tr>\n",
       "  </thead>\n",
       "  <tbody>\n",
       "    <tr>\n",
       "      <th>2837</th>\n",
       "      <td>-1.040434</td>\n",
       "      <td>0.953312</td>\n",
       "      <td>0.360600</td>\n",
       "      <td>0.774657</td>\n",
       "      <td>-0.914708</td>\n",
       "      <td>0</td>\n",
       "      <td>1</td>\n",
       "      <td>-0.119110</td>\n",
       "      <td>1</td>\n",
       "      <td>0</td>\n",
       "      <td>0</td>\n",
       "    </tr>\n",
       "    <tr>\n",
       "      <th>9925</th>\n",
       "      <td>0.454006</td>\n",
       "      <td>-0.095244</td>\n",
       "      <td>-0.002786</td>\n",
       "      <td>1.910540</td>\n",
       "      <td>-0.914708</td>\n",
       "      <td>1</td>\n",
       "      <td>1</td>\n",
       "      <td>-0.258658</td>\n",
       "      <td>0</td>\n",
       "      <td>0</td>\n",
       "      <td>0</td>\n",
       "    </tr>\n",
       "    <tr>\n",
       "      <th>8746</th>\n",
       "      <td>0.103585</td>\n",
       "      <td>-0.476537</td>\n",
       "      <td>1.087371</td>\n",
       "      <td>0.481608</td>\n",
       "      <td>0.820981</td>\n",
       "      <td>0</td>\n",
       "      <td>1</td>\n",
       "      <td>1.422836</td>\n",
       "      <td>0</td>\n",
       "      <td>0</td>\n",
       "      <td>1</td>\n",
       "    </tr>\n",
       "    <tr>\n",
       "      <th>660</th>\n",
       "      <td>-0.184996</td>\n",
       "      <td>0.190726</td>\n",
       "      <td>-0.002786</td>\n",
       "      <td>0.088439</td>\n",
       "      <td>-0.914708</td>\n",
       "      <td>1</td>\n",
       "      <td>1</td>\n",
       "      <td>-1.160427</td>\n",
       "      <td>1</td>\n",
       "      <td>0</td>\n",
       "      <td>0</td>\n",
       "    </tr>\n",
       "    <tr>\n",
       "      <th>3610</th>\n",
       "      <td>-0.720933</td>\n",
       "      <td>1.620574</td>\n",
       "      <td>-1.456328</td>\n",
       "      <td>0.879129</td>\n",
       "      <td>-0.914708</td>\n",
       "      <td>1</td>\n",
       "      <td>0</td>\n",
       "      <td>0.113236</td>\n",
       "      <td>0</td>\n",
       "      <td>0</td>\n",
       "      <td>0</td>\n",
       "    </tr>\n",
       "  </tbody>\n",
       "</table>\n",
       "</div>"
      ],
      "text/plain": [
       "      creditscore       age    tenure   balance  numofproducts  hascrcard  \\\n",
       "2837    -1.040434  0.953312  0.360600  0.774657      -0.914708          0   \n",
       "9925     0.454006 -0.095244 -0.002786  1.910540      -0.914708          1   \n",
       "8746     0.103585 -0.476537  1.087371  0.481608       0.820981          0   \n",
       "660     -0.184996  0.190726 -0.002786  0.088439      -0.914708          1   \n",
       "3610    -0.720933  1.620574 -1.456328  0.879129      -0.914708          1   \n",
       "\n",
       "      isactivemember  estimatedsalary  geography_germany  geography_spain  \\\n",
       "2837               1        -0.119110                  1                0   \n",
       "9925               1        -0.258658                  0                0   \n",
       "8746               1         1.422836                  0                0   \n",
       "660                1        -1.160427                  1                0   \n",
       "3610               0         0.113236                  0                0   \n",
       "\n",
       "      gender_male  \n",
       "2837            0  \n",
       "9925            0  \n",
       "8746            1  \n",
       "660             0  \n",
       "3610            0  "
      ]
     },
     "metadata": {},
     "output_type": "display_data"
    }
   ],
   "source": [
    "# Стандартизируем данные\n",
    "numeric = ['creditscore', 'age', 'tenure', 'balance', 'numofproducts', 'estimatedsalary']\n",
    "\n",
    "pd.options.mode.chained_assignment = None\n",
    "scaler = StandardScaler()\n",
    "scaler.fit(features_train[numeric])\n",
    "\n",
    "features_train[numeric] = scaler.transform(features_train[numeric])\n",
    "features_valid[numeric] = scaler.transform(features_valid[numeric])\n",
    "features_test[numeric] = scaler.transform(features_test[numeric])\n",
    "\n",
    "display(features_train.head())"
   ]
  },
  {
   "cell_type": "markdown",
   "metadata": {},
   "source": [
    "## Исследование задачи"
   ]
  },
  {
   "cell_type": "markdown",
   "metadata": {},
   "source": [
    "1. Исследовать баланс классов \n",
    "2. Обучить модель без учёта дисбаланса"
   ]
  },
  {
   "cell_type": "code",
   "execution_count": 58,
   "metadata": {
    "scrolled": true
   },
   "outputs": [
    {
     "name": "stdout",
     "output_type": "stream",
     "text": [
      "Соотношение классов в относительном выражении:\n",
      "0    0.796333\n",
      "1    0.203667\n",
      "Name: exited, dtype: float64\n"
     ]
    }
   ],
   "source": [
    "print('Соотношение классов в относительном выражении:') \n",
    "print(target_train.value_counts(normalize=True))"
   ]
  },
  {
   "cell_type": "code",
   "execution_count": 59,
   "metadata": {},
   "outputs": [
    {
     "name": "stdout",
     "output_type": "stream",
     "text": [
      "На модели логистической регрессии значение F1 = 0.3046\n",
      "На модели логистической регрессии значение AUC-ROC = 0.5848\n",
      "На модели логистической регрессии значение accuracy = 0.8105\n"
     ]
    }
   ],
   "source": [
    "# Обучим модель методом логистической регрессии\n",
    "model_regres = LogisticRegression()\n",
    "model_regres.fit(features_train, target_train)\n",
    "predict_valid = model_regres.predict(features_valid)\n",
    "f1_valid = f1_score(target_valid, predict_valid)\n",
    "auc_roc_valid = roc_auc_score(target_valid, predict_valid)\n",
    "accuracy_valid = accuracy_score(target_valid, predict_valid)\n",
    "print(f'На модели логистической регрессии значение F1 = {f1_valid:.4f}')\n",
    "print(f'На модели логистической регрессии значение AUC-ROC = {auc_roc_valid:.4f}')\n",
    "print(f'На модели логистической регрессии значение accuracy = {accuracy_valid:.4f}')"
   ]
  },
  {
   "cell_type": "code",
   "execution_count": 60,
   "metadata": {},
   "outputs": [
    {
     "name": "stdout",
     "output_type": "stream",
     "text": [
      "На константной модели значение accuracy = 0.7960\n",
      "Результат наивного алгоритма = 0.7963\n"
     ]
    }
   ],
   "source": [
    "# Создадим константную модель\n",
    "target_valid_const = pd.Series(0, index=target_valid.index)\n",
    "accuracy_valid_conct = accuracy_score(target_valid, target_valid_const)\n",
    "print(f'На константной модели значение accuracy = {accuracy_valid_conct:.4f}')\n",
    "\n",
    "#Проверка \"наивным\" алгоритмом\n",
    "naive_model = DummyClassifier(strategy=\"most_frequent\", random_state=RANDOM_STATE)\n",
    "naive_model.fit(features_train, target_train)\n",
    "naive_valid = naive_model.score(features_train, target_train)\n",
    "print(f'Результат наивного алгоритма = {naive_valid:.4f}')"
   ]
  },
  {
   "cell_type": "code",
   "execution_count": 61,
   "metadata": {
    "scrolled": false
   },
   "outputs": [],
   "source": [
    "# Создадим функцию для построения ROC-кривой\n",
    "def auc_figure(features, target, model):\n",
    "    predict_proba_valid = model.predict_proba(features)\n",
    "    predict_proba_one_valid = predict_proba_valid[:, 1]\n",
    "    fpr, tpr, tresholds = roc_curve(target, predict_proba_one_valid)\n",
    "    \n",
    "    plt.figure\n",
    "    plt.plot(fpr, tpr)\n",
    "    plt.plot([0, 1], [0, 1], linestyle = '--')\n",
    "    plt.xlim([0, 1])\n",
    "    plt.ylim([0, 1])\n",
    "    plt.xlabel('False Positive Rate')\n",
    "    plt.ylabel('True Positive Rate')\n",
    "    plt.title('ROC-кривая')\n",
    "    return plt.show"
   ]
  },
  {
   "cell_type": "code",
   "execution_count": 62,
   "metadata": {},
   "outputs": [
    {
     "data": {
      "text/plain": [
       "<function matplotlib.pyplot.show(close=None, block=None)>"
      ]
     },
     "execution_count": 62,
     "metadata": {},
     "output_type": "execute_result"
    },
    {
     "data": {
      "image/png": "[encoded data removed]",
      "text/plain": [
       "<Figure size 432x288 with 1 Axes>"
      ]
     },
     "metadata": {
      "needs_background": "light"
     },
     "output_type": "display_data"
    }
   ],
   "source": [
    "# Построим ROC-кривую\n",
    "auc_figure(features_valid, target_valid, model_regres)"
   ]
  },
  {
   "cell_type": "markdown",
   "metadata": {},
   "source": [
    "**Выводы**\n",
    "\n",
    "Модель, обученная методом логистической регрессии, показала низкий уровень значения F1 – 0.33, что не достигает целевого уровня. Не смотря на высокое значение показателя AUC-ROC – 0.59, что говорит о хорошей подготовке данных, текущий уровень модели еще недостаточный.\n",
    "\n",
    "Недостаточность точности предсказаний модели подтверждается еще и тем фактором, что значение ее accuracy составляет 0.8, что соответствует значению accuracy константной модели 0.79 и значению наивного алгоритма – 0.8.\n",
    "\n",
    "Учитывая соотношение классов модели 0.8:0.2, можно с увереннсотью говорить, что модели явно не хватает точности предсказания\n",
    "\n",
    "Таким образом, сейчас требуется снижение дисбаланса данных и использования иных способов построения прогноза"
   ]
  },
  {
   "cell_type": "markdown",
   "metadata": {},
   "source": [
    "## Борьба с дисбалансом"
   ]
  },
  {
   "cell_type": "markdown",
   "metadata": {},
   "source": [
    "Устранить дисбаланс методами:\n",
    "- Взвешивания классов\n",
    "- Повышение выборки\n",
    "- Понижения выборки\n",
    "\n",
    "По каждому методу построить модель линейной регрессии, решающего дерева и случайного леса с различными гиперпараметрами\n",
    "\n",
    "Выбрать лучшую модель для финального тестирования"
   ]
  },
  {
   "cell_type": "code",
   "execution_count": 63,
   "metadata": {},
   "outputs": [],
   "source": [
    "# Создадим списки для фиксации лучших моделией и значений их метрик F1\n",
    "best_model_all = []\n",
    "best_result_f1_all = []"
   ]
  },
  {
   "cell_type": "markdown",
   "metadata": {},
   "source": [
    "**Дерево решений** Обучим модели на параметре `max_depth` от 5 до 10 **с использованием взвешивания классов**\n",
    "\n",
    "Проверим методом `F1` и `AUC-ROC` на валидационной выборке. Лучшую модель сохраним для дальнейшего сравнения на тестовой выборке"
   ]
  },
  {
   "cell_type": "code",
   "execution_count": 64,
   "metadata": {},
   "outputs": [
    {
     "name": "stdout",
     "output_type": "stream",
     "text": [
      "При глубине 5 значение F1 0.5546\n",
      "При глубине 6 значение F1 0.5759\n",
      "При глубине 7 значение F1 0.5725\n",
      "При глубине 8 значение F1 0.5479\n",
      "При глубине 9 значение F1 0.5405\n",
      "При глубине 10 значение F1 0.5350\n",
      "Лучший результат F1 0.5759 у модели с глубиной 6\n",
      "Лучший результат AUC-ROC 0.7677\n"
     ]
    }
   ],
   "source": [
    "best_model_tree_balans = None\n",
    "best_result_tree_balans = 0\n",
    "best_depth_tree_balans = 0\n",
    "best_auc_roc_tree_balans = 0\n",
    "\n",
    "for depth in range(5, 11):\n",
    "    model = DecisionTreeClassifier(max_depth=depth, random_state=RANDOM_STATE, class_weight='balanced')\n",
    "    model.fit(features_train, target_train)\n",
    "    predict_valid = model.predict(features_valid)\n",
    "    f1_valid = f1_score(target_valid, predict_valid)\n",
    "    auc_roc_valid = roc_auc_score(target_valid, predict_valid)\n",
    "    print(f'При глубине {depth} значение F1 {f1_valid:.4f}')\n",
    "    if best_result_tree_balans < f1_valid:\n",
    "        best_result_tree_balans = f1_valid\n",
    "        best_depth_tree_balans = depth\n",
    "        best_model_tree_balans = model\n",
    "        best_auc_roc_tree_balans = auc_roc_valid\n",
    "\n",
    "best_model_all.append(best_model_tree_balans)\n",
    "best_result_f1_all.append(best_result_tree_balans)\n",
    "print(f'Лучший результат F1 {best_result_tree_balans:.4f} у модели с глубиной {best_depth_tree_balans}')\n",
    "print(f'Лучший результат AUC-ROC {best_auc_roc_tree_balans:.4f}')\n"
   ]
  },
  {
   "cell_type": "code",
   "execution_count": 65,
   "metadata": {},
   "outputs": [
    {
     "data": {
      "text/plain": [
       "<function matplotlib.pyplot.show(close=None, block=None)>"
      ]
     },
     "execution_count": 65,
     "metadata": {},
     "output_type": "execute_result"
    },
    {
     "data": {
      "image/png": "[encoded data removed]",
      "text/plain": [
       "<Figure size 432x288 with 1 Axes>"
      ]
     },
     "metadata": {
      "needs_background": "light"
     },
     "output_type": "display_data"
    }
   ],
   "source": [
    "# Построим ROC-кривую\n",
    "auc_figure(features_valid, target_valid, best_model_tree_balans)"
   ]
  },
  {
   "cell_type": "markdown",
   "metadata": {},
   "source": [
    "**Случайный лес**\n",
    "\n",
    "Обучим модели **с использованием взвешивания классов** со следующими гиперпараметрами:\n",
    "\n",
    "- с максимальной глубиной от 5 до 10\n",
    "- для дучщей модели по максимальной глкбине - с количеством деревьев: от 50 до 150 с шагом 50,\n",
    "\n",
    "Проверим методом `F1` на валидационной выборке. Лучшую модель проверим методом `AUC-ROC` и сохраним для дальнейшего сравнения на тестовой выборке"
   ]
  },
  {
   "cell_type": "code",
   "execution_count": 66,
   "metadata": {
    "scrolled": true
   },
   "outputs": [
    {
     "name": "stdout",
     "output_type": "stream",
     "text": [
      "При глубине 5 и числе деревьев 20 значение F1 0.6177\n",
      "При глубине 6 и числе деревьев 20 значение F1 0.6178\n",
      "При глубине 7 и числе деревьев 20 значение F1 0.6251\n",
      "При глубине 8 и числе деревьев 20 значение F1 0.6359\n",
      "При глубине 9 и числе деревьев 20 значение F1 0.6486\n",
      "При глубине 10 и числе деревьев 20 значение F1 0.6331\n",
      "При глубине 9 и числе деревьев 50 значение F1 0.6371\n",
      "При глубине 9 и числе деревьев 100 значение F1 0.6397\n",
      "При глубине 9 и числе деревьев 150 значение F1 0.6349\n",
      "Лучший результат F1 0.6486 у модели с глубиной 9 и числом деревьев 20\n",
      "Лучший результат AUC-ROC 0.7926\n"
     ]
    }
   ],
   "source": [
    "best_model_forest_balans = None\n",
    "best_result_forest_balans = 0\n",
    "best_est_forest_balans = 0\n",
    "best_depth_forest_balans = 0\n",
    "best_auc_roc_forest_balans = 0\n",
    "\n",
    "# Определим лучшую модель меняя мксимальную глубину\n",
    "for depth in range(5, 11):\n",
    "    model = RandomForestClassifier(random_state=RANDOM_STATE,\n",
    "                                   n_estimators=20, \n",
    "                                   max_depth=depth, \n",
    "                                   class_weight='balanced')\n",
    "    model.fit(features_train, target_train)\n",
    "    predict_valid = model.predict(features_valid)\n",
    "    f1_valid = f1_score(target_valid, predict_valid)\n",
    "    auc_roc_valid = roc_auc_score(target_valid, predict_valid)\n",
    "    print(f'При глубине {depth} и числе деревьев {20} значение F1 {f1_valid:.4f}')\n",
    "    if best_result_forest_balans < f1_valid:\n",
    "        best_result_forest_balans = f1_valid\n",
    "        best_depth_forest_balans = depth\n",
    "        best_est_forest_balans = 20\n",
    "        best_model_forest_balans = model\n",
    "        best_auc_roc_forest_balans = auc_roc_valid\n",
    "\n",
    "# Улучшим модель меняя число деревьев\n",
    "for est in range(50, 151, 50):\n",
    "    model = RandomForestClassifier(random_state=RANDOM_STATE,\n",
    "                                   n_estimators=est, \n",
    "                                   max_depth=best_depth_forest_balans, \n",
    "                                   class_weight='balanced')\n",
    "    model.fit(features_train, target_train)\n",
    "    predict_valid = model.predict(features_valid)\n",
    "    f1_valid = f1_score(target_valid, predict_valid)\n",
    "    auc_roc_valid = roc_auc_score(target_valid, predict_valid)\n",
    "    print(f'При глубине {best_depth_forest_balans} и числе деревьев {est} значение F1 {f1_valid:.4f}')\n",
    "    if best_result_forest_balans < f1_valid:\n",
    "        best_result_forest_balans = f1_valid\n",
    "        best_est_forest_balans = est\n",
    "        best_model_forest_balans = model\n",
    "        best_auc_roc_forest_balans = auc_roc_valid\n",
    "\n",
    "best_model_all.append(best_model_forest_balans)\n",
    "best_result_f1_all.append(best_result_forest_balans)\n",
    "print(f'Лучший результат F1 {best_result_forest_balans:.4f} \\\n",
    "у модели с глубиной {best_depth_forest_balans} и числом деревьев {best_est_forest_balans}')\n",
    "print(f'Лучший результат AUC-ROC {best_auc_roc_forest_balans:.4f}')"
   ]
  },
  {
   "cell_type": "code",
   "execution_count": 67,
   "metadata": {},
   "outputs": [
    {
     "data": {
      "text/plain": [
       "<function matplotlib.pyplot.show(close=None, block=None)>"
      ]
     },
     "execution_count": 67,
     "metadata": {},
     "output_type": "execute_result"
    },
    {
     "data": {
      "image/png": "[encoded data removed]",
      "text/plain": [
       "<Figure size 432x288 with 1 Axes>"
      ]
     },
     "metadata": {
      "needs_background": "light"
     },
     "output_type": "display_data"
    }
   ],
   "source": [
    "# Построим ROC-кривую\n",
    "auc_figure(features_valid, target_valid, best_model_forest_balans)"
   ]
  },
  {
   "cell_type": "markdown",
   "metadata": {},
   "source": [
    "**Логистическая регрессия** Обучим модель **с использованием взвешивания классов**\n",
    "\n",
    "Проверим методом `F1` и `AUC-ROC` на валидационной выборке. Модель сохраним для дальнейшего сравнения на тестовой выборке"
   ]
  },
  {
   "cell_type": "code",
   "execution_count": 68,
   "metadata": {},
   "outputs": [
    {
     "name": "stdout",
     "output_type": "stream",
     "text": [
      "На модели логистической регрессии с балансом классов значение F1 = 0.5285\n",
      "На модели логистической регрессии с балансом классов значение AUC-ROC = 0.7338\n"
     ]
    }
   ],
   "source": [
    "model_regres_balans = LogisticRegression(class_weight='balanced')\n",
    "model_regres_balans.fit(features_train, target_train)\n",
    "predict_valid_regres_balans = model_regres_balans.predict(features_valid)\n",
    "f1_valid_regres_balans = f1_score(target_valid, predict_valid_regres_balans)\n",
    "auc_roc_regres_balans = roc_auc_score(target_valid, predict_valid_regres_balans)\n",
    "\n",
    "print(f'На модели логистической регрессии с балансом классов значение F1 = {f1_valid_regres_balans:.4f}')\n",
    "print(f'На модели логистической регрессии с балансом классов значение AUC-ROC = {auc_roc_regres_balans:.4f}')\n",
    "best_model_all.append(model_regres_balans)\n",
    "best_result_f1_all.append(f1_valid_regres_balans)"
   ]
  },
  {
   "cell_type": "code",
   "execution_count": 69,
   "metadata": {},
   "outputs": [
    {
     "data": {
      "text/plain": [
       "<function matplotlib.pyplot.show(close=None, block=None)>"
      ]
     },
     "execution_count": 69,
     "metadata": {},
     "output_type": "execute_result"
    },
    {
     "data": {
      "image/png": "[encoded data removed]",
      "text/plain": [
       "<Figure size 432x288 with 1 Axes>"
      ]
     },
     "metadata": {
      "needs_background": "light"
     },
     "output_type": "display_data"
    }
   ],
   "source": [
    "# Построим ROC-кривую\n",
    "auc_figure(features_valid, target_valid, model_regres_balans)"
   ]
  },
  {
   "cell_type": "markdown",
   "metadata": {},
   "source": [
    "У лучшей модели решающего дерева значение `F1` составляет 0.5964.  \n",
    "\n",
    "У модели логистической регрессии значение `F1` составляет 0.4889.\n",
    "\n",
    "У лучшей модели случайного леса значение `F1` составляет 0.6265.\n",
    "\n",
    "С учетом того факта, что значение `F1` у модели случайного леса стабильно выше, то в дальнейшем устранении дисбаланса будет использована только эта модель "
   ]
  },
  {
   "cell_type": "markdown",
   "metadata": {},
   "source": [
    "**Увеличение выборки**\n",
    "\n",
    "Учитывая текущее соотношение целевого признака `zero-0.8 : one-0.2`, **увеличим количество положительных признаков в четыре раза**\n",
    "\n",
    "Обучим модели методом **Случайный лес** со следующими гиперпараметрами:\n",
    "\n",
    "- с максимальной глубиной от 5 до 10\n",
    "- для дучщей модели по максимальной глкбине - с количеством деревьев: от 50 до 150 с шагом 50,\n",
    "\n",
    "Проверим методом `F1` на валидационной выборке. Лучшую модель проверим методом `AUC-ROC` и сохраним для дальнейшего сравнения на тестовой выборке"
   ]
  },
  {
   "cell_type": "code",
   "execution_count": 70,
   "metadata": {
    "scrolled": true
   },
   "outputs": [
    {
     "name": "stdout",
     "output_type": "stream",
     "text": [
      "features_upsampled (9666, 11)\n",
      "target_upsampled (9666,)\n"
     ]
    }
   ],
   "source": [
    "# Разделим выборку\n",
    "features_one = features_train[target_train==1]\n",
    "features_zero = features_train[target_train==0]\n",
    "target_one = target_train[target_train==1]\n",
    "target_zero = target_train[target_train==0]\n",
    "\n",
    "# Увеличим положительный класс и объединим таблицы\n",
    "one_height = 4\n",
    "features_upsampled = pd.concat([features_zero] + [features_one] * one_height)\n",
    "target_upsampled = pd.concat([target_zero] + [target_one] * one_height)\n",
    "\n",
    "# Перемешаем данные\n",
    "features_upsampled = shuffle(features_upsampled, random_state=RANDOM_STATE)\n",
    "target_upsampled = shuffle(target_upsampled, random_state=RANDOM_STATE)\n",
    "\n",
    "print('features_upsampled', features_upsampled.shape)\n",
    "print('target_upsampled', target_upsampled.shape)"
   ]
  },
  {
   "cell_type": "code",
   "execution_count": 71,
   "metadata": {
    "scrolled": true
   },
   "outputs": [
    {
     "name": "stdout",
     "output_type": "stream",
     "text": [
      "При глубине 5 и числе деревьев 20 значение F1 0.6101\n",
      "При глубине 6 и числе деревьев 20 значение F1 0.6225\n",
      "При глубине 7 и числе деревьев 20 значение F1 0.6306\n",
      "При глубине 8 и числе деревьев 20 значение F1 0.6383\n",
      "При глубине 9 и числе деревьев 20 значение F1 0.6222\n",
      "При глубине 10 и числе деревьев 20 значение F1 0.6393\n",
      "При глубине 9 и числе деревьев 50 значение F1 0.6333\n",
      "При глубине 9 и числе деревьев 100 значение F1 0.6374\n",
      "При глубине 9 и числе деревьев 150 значение F1 0.6429\n",
      "Лучший результат F1 0.6429 у модели с глубиной 10 и числом деревьев 150\n",
      "Лучший результат AUC-ROC 0.7952\n"
     ]
    }
   ],
   "source": [
    "best_model_forest_height = None\n",
    "best_result_forest_height = 0\n",
    "best_est_forest_height = 0\n",
    "best_depth_forest_height = 0\n",
    "best_auc_roc_forest_height = 0\n",
    "\n",
    "# Определим лучшую модель меняя мксимальную глубину\n",
    "for depth in range(5, 11):\n",
    "    model = RandomForestClassifier(random_state=RANDOM_STATE,\n",
    "                                   n_estimators=20, \n",
    "                                   max_depth=depth)\n",
    "    model.fit(features_upsampled, target_upsampled)\n",
    "    predict_valid = model.predict(features_valid)\n",
    "    f1_valid = f1_score(target_valid, predict_valid)\n",
    "    auc_roc_valid = roc_auc_score(target_valid, predict_valid)\n",
    "    print(f'При глубине {depth} и числе деревьев {20} значение F1 {f1_valid:.4f}')\n",
    "    if best_result_forest_height < f1_valid:\n",
    "        best_result_forest_height = f1_valid\n",
    "        best_depth_forest_height = depth\n",
    "        best_est_forest_height = 20\n",
    "        best_model_forest_height = model\n",
    "        best_auc_roc_forest_height = auc_roc_valid\n",
    "\n",
    "# Улучшим модель меняя число деревьев\n",
    "for est in range(50, 151, 50):\n",
    "    model = RandomForestClassifier(random_state=RANDOM_STATE,\n",
    "                                   n_estimators=est, \n",
    "                                   max_depth=best_depth_forest_balans)\n",
    "    model.fit(features_upsampled, target_upsampled)\n",
    "    predict_valid = model.predict(features_valid)\n",
    "    f1_valid = f1_score(target_valid, predict_valid)\n",
    "    auc_roc_valid = roc_auc_score(target_valid, predict_valid)\n",
    "    print(f'При глубине {best_depth_forest_balans} и числе деревьев {est} значение F1 {f1_valid:.4f}')\n",
    "    if best_result_forest_height < f1_valid:\n",
    "        best_result_forest_height = f1_valid\n",
    "        best_est_forest_height = est\n",
    "        best_model_forest_height = model\n",
    "        best_auc_roc_forest_height = auc_roc_valid\n",
    "\n",
    "best_model_all.append(best_model_forest_height)\n",
    "best_result_f1_all.append(best_result_forest_height)\n",
    "print(f'Лучший результат F1 {best_result_forest_height:.4f} \\\n",
    "у модели с глубиной {best_depth_forest_height} и числом деревьев {best_est_forest_height}')\n",
    "print(f'Лучший результат AUC-ROC {best_auc_roc_forest_height:.4f}')"
   ]
  },
  {
   "cell_type": "code",
   "execution_count": 72,
   "metadata": {},
   "outputs": [
    {
     "data": {
      "text/plain": [
       "<function matplotlib.pyplot.show(close=None, block=None)>"
      ]
     },
     "execution_count": 72,
     "metadata": {},
     "output_type": "execute_result"
    },
    {
     "data": {
      "image/png": "[encoded data removed]",
      "text/plain": [
       "<Figure size 432x288 with 1 Axes>"
      ]
     },
     "metadata": {
      "needs_background": "light"
     },
     "output_type": "display_data"
    }
   ],
   "source": [
    "# Построим ROC-кривую\n",
    "auc_figure(features_valid, target_valid, best_model_forest_height)"
   ]
  },
  {
   "cell_type": "markdown",
   "metadata": {},
   "source": [
    "**Уменьшение выборки**\n",
    "\n",
    "Учитывая текущее соотношение целевого признака `zero-0.8 : one-0.2`, **уменьшим количество отрицательных признаков в четыре раза**\n",
    "\n",
    "Обучим модели методом **Случайный лес** со следующими гиперпараметрами:\n",
    "\n",
    "- с максимальной глубиной от 5 до 10\n",
    "- для дучщей модели по максимальной глкбине - с количеством деревьев: от 50 до 150 с шагом 50,\n",
    "\n",
    "Проверим методом `F1` на валидационной выборке. Лучшую модель проверим методом `AUC-ROC` и сохраним для дальнейшего сравнения на тестовой выборке"
   ]
  },
  {
   "cell_type": "code",
   "execution_count": 73,
   "metadata": {},
   "outputs": [
    {
     "name": "stdout",
     "output_type": "stream",
     "text": [
      "features_downsampled (2416, 11)\n",
      "target_downsampled (2416,)\n"
     ]
    }
   ],
   "source": [
    "# Уменьшим выборку используя уже разделенные таблицы\n",
    "zero_down = 0.25\n",
    "features_downsampled = pd.concat([features_zero.sample(frac=zero_down, random_state=RANDOM_STATE)] + [features_one])\n",
    "target_downsampled = pd.concat([target_zero.sample(frac=zero_down, random_state=RANDOM_STATE)] + [target_one])\n",
    "\n",
    "# Перемешаем данные\n",
    "features_downsampled, target_downsampled = shuffle(features_downsampled, \n",
    "                                                   target_downsampled,\n",
    "                                                   random_state=RANDOM_STATE)\n",
    "\n",
    "print('features_downsampled', features_downsampled.shape)\n",
    "print('target_downsampled', target_downsampled.shape)"
   ]
  },
  {
   "cell_type": "code",
   "execution_count": 74,
   "metadata": {
    "scrolled": true
   },
   "outputs": [
    {
     "name": "stdout",
     "output_type": "stream",
     "text": [
      "При глубине 5 и числе деревьев 20 значение F1 0.6246\n",
      "При глубине 6 и числе деревьев 20 значение F1 0.6325\n",
      "При глубине 7 и числе деревьев 20 значение F1 0.6362\n",
      "При глубине 8 и числе деревьев 20 значение F1 0.6050\n",
      "При глубине 9 и числе деревьев 20 значение F1 0.6047\n",
      "При глубине 10 и числе деревьев 20 значение F1 0.5958\n",
      "При глубине 7 и числе деревьев 50 значение F1 0.6157\n",
      "При глубине 7 и числе деревьев 100 значение F1 0.6237\n",
      "При глубине 7 и числе деревьев 150 значение F1 0.6250\n",
      "Лучший результат F1 0.6362 у модели с глубиной 7 и числом деревьев 20\n",
      "Лучший результат AUC-ROC 0.8087\n"
     ]
    }
   ],
   "source": [
    "best_model_forest_down = None\n",
    "best_result_forest_down = 0\n",
    "best_est_forest_down = 0\n",
    "best_depth_forest_down = 0\n",
    "best_auc_roc_forest_down = 0\n",
    "\n",
    "# Определим лучшую модель меняя мксимальную глубину\n",
    "for depth in range(5, 11):\n",
    "    model = RandomForestClassifier(random_state=RANDOM_STATE,\n",
    "                                   n_estimators=20, \n",
    "                                   max_depth=depth)\n",
    "    model.fit(features_downsampled, target_downsampled)\n",
    "    predict_valid = model.predict(features_valid)\n",
    "    f1_valid = f1_score(target_valid, predict_valid)\n",
    "    auc_roc_valid = roc_auc_score(target_valid, predict_valid)\n",
    "    print(f'При глубине {depth} и числе деревьев {20} значение F1 {f1_valid:.4f}')\n",
    "    if best_result_forest_down < f1_valid:\n",
    "        best_result_forest_down = f1_valid\n",
    "        best_depth_forest_down = depth\n",
    "        best_est_forest_down = 20\n",
    "        best_model_forest_down = model\n",
    "        best_auc_roc_forest_down = auc_roc_valid\n",
    "\n",
    "# Улучшим модель меняя число деревьев\n",
    "for est in range(50, 151, 50):\n",
    "    model = RandomForestClassifier(random_state=RANDOM_STATE,\n",
    "                                   n_estimators=est, \n",
    "                                   max_depth=best_depth_forest_balans)\n",
    "    model.fit(features_downsampled, target_downsampled)\n",
    "    predict_valid = model.predict(features_valid)\n",
    "    f1_valid = f1_score(target_valid, predict_valid)\n",
    "    auc_roc_valid = roc_auc_score(target_valid, predict_valid)\n",
    "    print(f'При глубине {best_depth_forest_down} и числе деревьев {est} значение F1 {f1_valid:.4f}')\n",
    "    if best_result_forest_down < f1_valid:\n",
    "        best_result_forest_down = f1_valid\n",
    "        best_est_forest_down = est\n",
    "        best_model_forest_down = model\n",
    "        best_auc_roc_forest_down = auc_roc_valid\n",
    "\n",
    "best_model_all.append(best_model_forest_down)\n",
    "best_result_f1_all.append(best_result_forest_down)\n",
    "print(f'Лучший результат F1 {best_result_forest_down:.4f} \\\n",
    "у модели с глубиной {best_depth_forest_down} и числом деревьев {best_est_forest_down}')\n",
    "print(f'Лучший результат AUC-ROC {best_auc_roc_forest_down:.4f}')"
   ]
  },
  {
   "cell_type": "code",
   "execution_count": 75,
   "metadata": {},
   "outputs": [
    {
     "data": {
      "text/plain": [
       "<function matplotlib.pyplot.show(close=None, block=None)>"
      ]
     },
     "execution_count": 75,
     "metadata": {},
     "output_type": "execute_result"
    },
    {
     "data": {
      "image/png": "[encoded data removed]",
      "text/plain": [
       "<Figure size 432x288 with 1 Axes>"
      ]
     },
     "metadata": {
      "needs_background": "light"
     },
     "output_type": "display_data"
    }
   ],
   "source": [
    "# Построим ROC-кривую\n",
    "auc_figure(features_valid, target_valid, best_model_forest_down)"
   ]
  },
  {
   "cell_type": "code",
   "execution_count": 76,
   "metadata": {},
   "outputs": [
    {
     "name": "stdout",
     "output_type": "stream",
     "text": [
      "Лучшее значение F1 0.6486 у модели RandomForestClassifier(class_weight='balanced', max_depth=9, n_estimators=20,\n",
      "                       random_state=12345)\n"
     ]
    }
   ],
   "source": [
    "f1_for_test = 0\n",
    "model_for_test = None\n",
    "for i in range(len(best_result_f1_all)):\n",
    "    if f1_for_test < best_result_f1_all[i]:\n",
    "        f1_for_test = best_result_f1_all[i]\n",
    "        model_for_test = best_model_all[i]\n",
    "print(f'Лучшее значение F1 {f1_for_test:.4f} у модели {model_for_test}')"
   ]
  },
  {
   "cell_type": "markdown",
   "metadata": {},
   "source": [
    "**Выводы**\n",
    "\n",
    "Для повышения сбалансированности модели применено:\n",
    "\n",
    "1. **Взвешивание классов**. На данном параметре исследована метрика `F1` для моделей `Логистической регрессии`, `Решающего дерева` и `Случайного леса`. Значение `F1` у модели `Случайного леса` стабильно выше остальных моделей, что дало основание использовать в дальнейшем только эту модель. У лучшей модели `Случайного леса` значение `F1` составляет **0.6265**.\n",
    "\n",
    "2. **Увеличение выборки**. Учитывая текущее соотношение целевого признака `zero-0.8 : one-0.2`, было увеличено количество положительных признаков в четыре раза. У лучшей модели `Случайного леса` при увеличенной выборке значение `F1` составляет **0.6222**.\n",
    "\n",
    "3. **Уменьшение выборки**. Учитывая текущее соотношение целевого признака `zero-0.8 : one-0.2`, уменьшено количество отрицательных признаков в четыре раза. У лучшей модели `Случайного леса` при уменьшенной выборке значение `F1` составляет **0.6073**.\n",
    "\n",
    "Таким образом, лучший показатель у модели `Случайного леса` с взвешенными классами. Она и будет использована при проверке на тестовой выборке"
   ]
  },
  {
   "cell_type": "markdown",
   "metadata": {},
   "source": [
    "## Тестирование модели"
   ]
  },
  {
   "cell_type": "code",
   "execution_count": 77,
   "metadata": {},
   "outputs": [
    {
     "name": "stdout",
     "output_type": "stream",
     "text": [
      "На тестовой выборке у лучшей модели RandomForestClassifier(class_weight='balanced', max_depth=9, n_estimators=20,\n",
      "                       random_state=12345) F1 составляет: 0.6129\n",
      "Результат AUC-ROC 0.7635\n"
     ]
    }
   ],
   "source": [
    "# Проверим модель model_for_test на тестовой выборке\n",
    "predict_test = model_for_test.predict(features_test)\n",
    "f1_test = f1_score(target_test, predict_test)\n",
    "auc_roc_test = roc_auc_score(target_test, predict_test)\n",
    "print(F'На тестовой выборке у лучшей модели {model_for_test} \\\n",
    "F1 составляет: {f1_test:.4f}')\n",
    "print(f'Результат AUC-ROC {auc_roc_test:.4f}')"
   ]
  },
  {
   "cell_type": "code",
   "execution_count": 78,
   "metadata": {},
   "outputs": [
    {
     "data": {
      "text/plain": [
       "<function matplotlib.pyplot.show(close=None, block=None)>"
      ]
     },
     "execution_count": 78,
     "metadata": {},
     "output_type": "execute_result"
    },
    {
     "data": {
      "image/png": "[encoded data removed]",
      "text/plain": [
       "<Figure size 432x288 with 1 Axes>"
      ]
     },
     "metadata": {
      "needs_background": "light"
     },
     "output_type": "display_data"
    }
   ],
   "source": [
    "# Построим ROC-кривую\n",
    "auc_figure(features_test, target_test, model_for_test)"
   ]
  },
  {
   "cell_type": "markdown",
   "metadata": {},
   "source": [
    "Улучшим качество модели дополнительным обучением"
   ]
  },
  {
   "cell_type": "code",
   "execution_count": 79,
   "metadata": {},
   "outputs": [
    {
     "name": "stdout",
     "output_type": "stream",
     "text": [
      "В выборке features_train_all 8000 строк\n"
     ]
    }
   ],
   "source": [
    "# Объединим обучающюю и валидационную выборки\n",
    "target_train_all = pd.concat([target_train, target_valid], sort=False, axis=0)\n",
    "features_train_all = features_train.append(features_valid, sort=False)\n",
    "print(f'В выборке features_train_all {features_train_all.shape[0]} строк')"
   ]
  },
  {
   "cell_type": "code",
   "execution_count": 80,
   "metadata": {},
   "outputs": [
    {
     "name": "stdout",
     "output_type": "stream",
     "text": [
      "На тестовой выборке у улучшеной модели RandomForestClassifier(class_weight='balanced', max_depth=9, n_estimators=20,\n",
      "                       random_state=12345) accuracy составляет: 0.5952\n",
      "Результат AUC-ROC 0.7550\n"
     ]
    }
   ],
   "source": [
    "# Обучим модель еще раз на объедтненной выборке\n",
    "model_for_test.fit(features_train_all, target_train_all)\n",
    "predict_forest_all = model_for_test.predict(features_test)\n",
    "f1_test_all = f1_score(target_test, predict_forest_all)\n",
    "auc_roc_test_all = roc_auc_score(target_test, predict_forest_all)\n",
    "\n",
    "print(F'На тестовой выборке у улучшеной модели {model_for_test} \\\n",
    "accuracy составляет: {f1_test_all:.4f}')\n",
    "print(f'Результат AUC-ROC {auc_roc_test_all:.4f}')"
   ]
  },
  {
   "cell_type": "code",
   "execution_count": 81,
   "metadata": {},
   "outputs": [
    {
     "data": {
      "text/plain": [
       "<function matplotlib.pyplot.show(close=None, block=None)>"
      ]
     },
     "execution_count": 81,
     "metadata": {},
     "output_type": "execute_result"
    },
    {
     "data": {
      "image/png": "[encoded data removed]",
      "text/plain": [
       "<Figure size 432x288 with 1 Axes>"
      ]
     },
     "metadata": {
      "needs_background": "light"
     },
     "output_type": "display_data"
    }
   ],
   "source": [
    "# Построим ROC-кривую\n",
    "auc_figure(features_test, target_test, model_for_test)"
   ]
  },
  {
   "cell_type": "markdown",
   "metadata": {},
   "source": [
    "**Выводы**\n",
    "\n",
    "На тестовой выборке модель `Случайного леса` с взвешенными классами показала значение `F1` 0.6094. Значение `AUC-ROC` составило 0.7625\n",
    "\n",
    "Для улучшения качества модели, была объединена обучающая и валидационная выборки и модель обучена повторно на новой выборке. После обучения проверка на тестовой выборке показало рост значения `F1`, которое составило 0.6190, а значение `AUC-ROC` составило 0.7718.\n",
    "\n",
    "Таким образом, ожидаемый результат достигнут, построена модель с уровнем метрики `F1-меры` более 0.59"
   ]
  },
  {
   "cell_type": "code",
   "execution_count": null,
   "metadata": {},
   "outputs": [],
   "source": []
  }
 ],
 "metadata": {
  "ExecuteTimeLog": [
   {
    "duration": 1723,
    "start_time": "2022-05-12T20:43:12.008Z"
   },
   {
    "duration": 208,
    "start_time": "2022-05-12T20:43:13.733Z"
   },
   {
    "duration": 0,
    "start_time": "2022-05-12T20:43:13.943Z"
   },
   {
    "duration": 0,
    "start_time": "2022-05-12T20:43:13.944Z"
   },
   {
    "duration": 0,
    "start_time": "2022-05-12T20:43:13.946Z"
   },
   {
    "duration": 0,
    "start_time": "2022-05-12T20:43:13.947Z"
   },
   {
    "duration": 0,
    "start_time": "2022-05-12T20:43:13.948Z"
   },
   {
    "duration": 0,
    "start_time": "2022-05-12T20:43:13.949Z"
   },
   {
    "duration": 0,
    "start_time": "2022-05-12T20:43:13.951Z"
   },
   {
    "duration": 0,
    "start_time": "2022-05-12T20:43:13.952Z"
   },
   {
    "duration": 0,
    "start_time": "2022-05-12T20:43:13.953Z"
   },
   {
    "duration": 0,
    "start_time": "2022-05-12T20:43:13.954Z"
   },
   {
    "duration": 0,
    "start_time": "2022-05-12T20:43:13.955Z"
   },
   {
    "duration": 0,
    "start_time": "2022-05-12T20:43:13.956Z"
   },
   {
    "duration": 0,
    "start_time": "2022-05-12T20:43:13.957Z"
   },
   {
    "duration": 0,
    "start_time": "2022-05-12T20:43:13.958Z"
   },
   {
    "duration": 0,
    "start_time": "2022-05-12T20:43:13.959Z"
   },
   {
    "duration": 0,
    "start_time": "2022-05-12T20:43:13.960Z"
   },
   {
    "duration": 0,
    "start_time": "2022-05-12T20:43:13.961Z"
   },
   {
    "duration": 0,
    "start_time": "2022-05-12T20:43:13.962Z"
   },
   {
    "duration": 0,
    "start_time": "2022-05-12T20:43:13.963Z"
   },
   {
    "duration": 0,
    "start_time": "2022-05-12T20:43:13.964Z"
   },
   {
    "duration": 0,
    "start_time": "2022-05-12T20:43:13.965Z"
   },
   {
    "duration": 0,
    "start_time": "2022-05-12T20:43:13.966Z"
   },
   {
    "duration": 0,
    "start_time": "2022-05-12T20:43:13.967Z"
   },
   {
    "duration": 0,
    "start_time": "2022-05-12T20:43:13.968Z"
   },
   {
    "duration": 0,
    "start_time": "2022-05-12T20:43:13.969Z"
   },
   {
    "duration": 0,
    "start_time": "2022-05-12T20:43:13.970Z"
   },
   {
    "duration": 0,
    "start_time": "2022-05-12T20:43:13.971Z"
   },
   {
    "duration": 0,
    "start_time": "2022-05-12T20:43:13.972Z"
   },
   {
    "duration": 0,
    "start_time": "2022-05-12T20:43:13.973Z"
   },
   {
    "duration": 0,
    "start_time": "2022-05-12T20:43:13.974Z"
   },
   {
    "duration": 0,
    "start_time": "2022-05-12T20:43:13.975Z"
   },
   {
    "duration": 0,
    "start_time": "2022-05-12T20:43:13.976Z"
   },
   {
    "duration": 0,
    "start_time": "2022-05-12T20:43:13.995Z"
   },
   {
    "duration": 99,
    "start_time": "2022-05-12T20:45:27.371Z"
   },
   {
    "duration": 5,
    "start_time": "2022-05-12T20:45:32.936Z"
   },
   {
    "duration": 37,
    "start_time": "2022-05-12T20:45:32.946Z"
   },
   {
    "duration": 17,
    "start_time": "2022-05-12T20:45:32.985Z"
   },
   {
    "duration": 32,
    "start_time": "2022-05-12T20:45:33.003Z"
   },
   {
    "duration": 10,
    "start_time": "2022-05-12T20:45:33.037Z"
   },
   {
    "duration": 9,
    "start_time": "2022-05-12T20:45:33.049Z"
   },
   {
    "duration": 4,
    "start_time": "2022-05-12T20:45:33.060Z"
   },
   {
    "duration": 11,
    "start_time": "2022-05-12T20:45:33.065Z"
   },
   {
    "duration": 45,
    "start_time": "2022-05-12T20:45:33.077Z"
   },
   {
    "duration": 19,
    "start_time": "2022-05-12T20:45:33.129Z"
   },
   {
    "duration": 50,
    "start_time": "2022-05-12T20:45:33.151Z"
   },
   {
    "duration": 8,
    "start_time": "2022-05-12T20:45:33.204Z"
   },
   {
    "duration": 898,
    "start_time": "2022-05-12T20:45:33.213Z"
   },
   {
    "duration": 23,
    "start_time": "2022-05-12T20:45:34.112Z"
   },
   {
    "duration": 41,
    "start_time": "2022-05-12T20:45:34.190Z"
   },
   {
    "duration": 278,
    "start_time": "2022-05-12T20:45:34.233Z"
   },
   {
    "duration": 5,
    "start_time": "2022-05-12T20:45:34.513Z"
   },
   {
    "duration": 168,
    "start_time": "2022-05-12T20:45:34.519Z"
   },
   {
    "duration": 149,
    "start_time": "2022-05-12T20:45:34.689Z"
   },
   {
    "duration": 2235,
    "start_time": "2022-05-12T20:45:34.840Z"
   },
   {
    "duration": 188,
    "start_time": "2022-05-12T20:45:37.077Z"
   },
   {
    "duration": 828,
    "start_time": "2022-05-12T20:45:37.267Z"
   },
   {
    "duration": 302,
    "start_time": "2022-05-12T20:45:38.100Z"
   },
   {
    "duration": 24,
    "start_time": "2022-05-12T20:45:38.403Z"
   },
   {
    "duration": 3156,
    "start_time": "2022-05-12T20:45:38.429Z"
   },
   {
    "duration": 165,
    "start_time": "2022-05-12T20:45:41.589Z"
   },
   {
    "duration": 11,
    "start_time": "2022-05-12T20:45:41.756Z"
   },
   {
    "duration": 1423,
    "start_time": "2022-05-12T20:45:41.769Z"
   },
   {
    "duration": 171,
    "start_time": "2022-05-12T20:45:43.194Z"
   },
   {
    "duration": 7,
    "start_time": "2022-05-12T20:45:43.367Z"
   },
   {
    "duration": 70,
    "start_time": "2022-05-12T20:45:43.393Z"
   },
   {
    "duration": 187,
    "start_time": "2022-05-12T20:45:43.464Z"
   },
   {
    "duration": 6,
    "start_time": "2022-05-12T20:45:43.653Z"
   },
   {
    "duration": 1001,
    "start_time": "2022-05-12T20:45:43.660Z"
   },
   {
    "duration": 200,
    "start_time": "2022-05-12T20:45:44.663Z"
   },
   {
    "duration": 1994,
    "start_time": "2022-05-13T15:51:04.445Z"
   },
   {
    "duration": 46,
    "start_time": "2022-05-13T15:51:06.441Z"
   },
   {
    "duration": 15,
    "start_time": "2022-05-13T15:51:06.488Z"
   },
   {
    "duration": 22,
    "start_time": "2022-05-13T15:51:06.505Z"
   },
   {
    "duration": 14,
    "start_time": "2022-05-13T15:51:06.528Z"
   },
   {
    "duration": 10,
    "start_time": "2022-05-13T15:51:06.544Z"
   },
   {
    "duration": 175,
    "start_time": "2022-05-13T15:56:49.780Z"
   },
   {
    "duration": 152,
    "start_time": "2022-05-13T15:57:48.053Z"
   },
   {
    "duration": 169,
    "start_time": "2022-05-13T15:58:22.410Z"
   },
   {
    "duration": 175,
    "start_time": "2022-05-13T15:58:33.178Z"
   },
   {
    "duration": 108,
    "start_time": "2022-05-13T15:58:53.834Z"
   },
   {
    "duration": 3,
    "start_time": "2022-05-13T15:59:10.457Z"
   },
   {
    "duration": 4,
    "start_time": "2022-05-13T15:59:34.020Z"
   },
   {
    "duration": 9,
    "start_time": "2022-05-13T16:00:17.299Z"
   },
   {
    "duration": 166,
    "start_time": "2022-05-13T16:02:57.082Z"
   },
   {
    "duration": 15,
    "start_time": "2022-05-13T16:05:52.920Z"
   },
   {
    "duration": 17,
    "start_time": "2022-05-13T16:06:02.311Z"
   },
   {
    "duration": 11,
    "start_time": "2022-05-13T16:33:08.137Z"
   },
   {
    "duration": 6,
    "start_time": "2022-05-13T16:33:41.174Z"
   },
   {
    "duration": 80,
    "start_time": "2022-05-13T16:33:41.182Z"
   },
   {
    "duration": 13,
    "start_time": "2022-05-13T16:33:41.264Z"
   },
   {
    "duration": 25,
    "start_time": "2022-05-13T16:33:41.279Z"
   },
   {
    "duration": 14,
    "start_time": "2022-05-13T16:33:41.307Z"
   },
   {
    "duration": 33,
    "start_time": "2022-05-13T16:33:41.323Z"
   },
   {
    "duration": 5,
    "start_time": "2022-05-13T16:33:41.358Z"
   },
   {
    "duration": 29,
    "start_time": "2022-05-13T16:33:41.364Z"
   },
   {
    "duration": 32,
    "start_time": "2022-05-13T16:33:41.394Z"
   },
   {
    "duration": 21,
    "start_time": "2022-05-13T16:34:00.550Z"
   },
   {
    "duration": 18,
    "start_time": "2022-05-13T16:42:38.215Z"
   },
   {
    "duration": 6,
    "start_time": "2022-05-13T16:42:52.554Z"
   },
   {
    "duration": 103,
    "start_time": "2022-05-13T16:42:52.567Z"
   },
   {
    "duration": 15,
    "start_time": "2022-05-13T16:42:52.672Z"
   },
   {
    "duration": 23,
    "start_time": "2022-05-13T16:42:52.689Z"
   },
   {
    "duration": 40,
    "start_time": "2022-05-13T16:42:52.714Z"
   },
   {
    "duration": 42,
    "start_time": "2022-05-13T16:42:52.756Z"
   },
   {
    "duration": 14,
    "start_time": "2022-05-13T16:42:52.800Z"
   },
   {
    "duration": 36,
    "start_time": "2022-05-13T16:42:52.817Z"
   },
   {
    "duration": 43,
    "start_time": "2022-05-13T16:42:52.855Z"
   },
   {
    "duration": 20,
    "start_time": "2022-05-13T16:42:55.543Z"
   },
   {
    "duration": 17,
    "start_time": "2022-05-13T16:42:58.158Z"
   },
   {
    "duration": 10,
    "start_time": "2022-05-13T16:43:22.584Z"
   },
   {
    "duration": 11,
    "start_time": "2022-05-13T16:44:30.333Z"
   },
   {
    "duration": 13,
    "start_time": "2022-05-13T16:44:52.187Z"
   },
   {
    "duration": 2,
    "start_time": "2022-05-13T16:48:20.890Z"
   },
   {
    "duration": 12,
    "start_time": "2022-05-13T16:49:01.707Z"
   },
   {
    "duration": 5,
    "start_time": "2022-05-13T16:56:41.114Z"
   },
   {
    "duration": 63,
    "start_time": "2022-05-13T16:56:41.121Z"
   },
   {
    "duration": 13,
    "start_time": "2022-05-13T16:56:41.185Z"
   },
   {
    "duration": 7,
    "start_time": "2022-05-13T16:56:41.200Z"
   },
   {
    "duration": 16,
    "start_time": "2022-05-13T16:56:41.209Z"
   },
   {
    "duration": 13,
    "start_time": "2022-05-13T16:56:41.227Z"
   },
   {
    "duration": 2,
    "start_time": "2022-05-13T16:56:41.242Z"
   },
   {
    "duration": 6,
    "start_time": "2022-05-13T16:56:41.246Z"
   },
   {
    "duration": 15,
    "start_time": "2022-05-13T16:56:41.254Z"
   },
   {
    "duration": 59,
    "start_time": "2022-05-13T16:56:41.271Z"
   },
   {
    "duration": 18,
    "start_time": "2022-05-13T16:56:41.332Z"
   },
   {
    "duration": 73,
    "start_time": "2022-05-13T16:56:41.352Z"
   },
   {
    "duration": 47,
    "start_time": "2022-05-13T16:56:41.427Z"
   },
   {
    "duration": 756,
    "start_time": "2022-05-13T16:56:41.477Z"
   },
   {
    "duration": 8,
    "start_time": "2022-05-13T16:56:42.323Z"
   },
   {
    "duration": 4,
    "start_time": "2022-05-13T16:56:42.333Z"
   },
   {
    "duration": 308,
    "start_time": "2022-05-13T16:56:42.339Z"
   },
   {
    "duration": 3,
    "start_time": "2022-05-13T16:56:42.649Z"
   },
   {
    "duration": 166,
    "start_time": "2022-05-13T16:56:42.653Z"
   },
   {
    "duration": 128,
    "start_time": "2022-05-13T16:56:42.820Z"
   },
   {
    "duration": 2295,
    "start_time": "2022-05-13T16:56:42.949Z"
   },
   {
    "duration": 135,
    "start_time": "2022-05-13T16:56:45.246Z"
   },
   {
    "duration": 242,
    "start_time": "2022-05-13T16:56:45.382Z"
   },
   {
    "duration": 349,
    "start_time": "2022-05-13T16:56:45.626Z"
   },
   {
    "duration": 14,
    "start_time": "2022-05-13T16:56:45.977Z"
   },
   {
    "duration": 3204,
    "start_time": "2022-05-13T16:56:45.993Z"
   },
   {
    "duration": 179,
    "start_time": "2022-05-13T16:56:49.199Z"
   },
   {
    "duration": 10,
    "start_time": "2022-05-13T16:56:49.380Z"
   },
   {
    "duration": 1370,
    "start_time": "2022-05-13T16:56:49.392Z"
   },
   {
    "duration": 133,
    "start_time": "2022-05-13T16:56:50.764Z"
   },
   {
    "duration": 6,
    "start_time": "2022-05-13T16:56:50.898Z"
   },
   {
    "duration": 34,
    "start_time": "2022-05-13T16:56:50.905Z"
   },
   {
    "duration": 134,
    "start_time": "2022-05-13T16:56:50.940Z"
   },
   {
    "duration": 6,
    "start_time": "2022-05-13T16:56:51.076Z"
   },
   {
    "duration": 155,
    "start_time": "2022-05-13T16:56:51.084Z"
   },
   {
    "duration": 135,
    "start_time": "2022-05-13T16:56:51.240Z"
   }
  ],
  "kernelspec": {
   "display_name": "Python 3",
   "language": "python",
   "name": "python3"
  },
  "language_info": {
   "codemirror_mode": {
    "name": "ipython",
    "version": 3
   },
   "file_extension": ".py",
   "mimetype": "text/x-python",
   "name": "python",
   "nbconvert_exporter": "python",
   "pygments_lexer": "ipython3",
   "version": "3.7.3"
  },
  "toc": {
   "base_numbering": 1,
   "nav_menu": {},
   "number_sections": true,
   "sideBar": true,
   "skip_h1_title": true,
   "title_cell": "Содержание",
   "title_sidebar": "Contents",
   "toc_cell": true,
   "toc_position": {
    "height": "calc(100% - 180px)",
    "left": "10px",
    "top": "150px",
    "width": "165px"
   },
   "toc_section_display": true,
   "toc_window_display": true
  }
 },
 "nbformat": 4,
 "nbformat_minor": 2
}
