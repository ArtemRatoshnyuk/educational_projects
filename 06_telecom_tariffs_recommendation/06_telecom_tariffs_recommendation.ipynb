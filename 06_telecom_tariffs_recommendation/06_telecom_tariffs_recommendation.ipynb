{
 "cells": [
  {
   "cell_type": "markdown",
   "metadata": {},
   "source": [
    "# Рекомендация тарифов"
   ]
  },
  {
   "cell_type": "markdown",
   "metadata": {},
   "source": [
    "В вашем распоряжении данные о поведении клиентов, которые уже перешли на эти тарифы (из проекта курса «Статистический анализ данных»). Нужно построить модель для задачи классификации, которая выберет подходящий тариф. Предобработка данных не понадобится — вы её уже сделали.\n",
    "\n",
    "Постройте модель с максимально большим значением *accuracy*. Чтобы сдать проект успешно, нужно довести долю правильных ответов по крайней мере до 0.75. Проверьте *accuracy* на тестовой выборке самостоятельно."
   ]
  },
  {
   "cell_type": "markdown",
   "metadata": {},
   "source": [
    "**Содержание**\n",
    "\n",
    "**[1. Обзор данных](#1)**\n",
    "\n",
    "**[2. Деление исходных данных на обучающую, валидационную и тестовую выборки](#2)**\n",
    "\n",
    "**[3. Исследование качества разных моделей](#3)**\n",
    "\n",
    "**[4. Проверка качества модели на тестовой выборке](#4)**\n",
    "\n",
    "**[5. Проверка модели на вменяемость](#5)**\n",
    "\n",
    "**[Общие выводы](#6)**\n",
    "\n",
    "**[Чек-лист готовности проекта](#7)**\n"
   ]
  },
  {
   "cell_type": "markdown",
   "metadata": {},
   "source": [
    "**Заказчик.** Оператор мобильной связи «Мегалайн»\n",
    "\n",
    "***Цель Заказчика.** Построить систему, способную проанализировать поведение клиентов и предложить пользователям новый тариф: «Смарт» или «Ультра».\n",
    "\n",
    "**Цель исследования.** Построить модель для задачи классификации с максимально большим значением accuracy, которая выберет подходящий тариф. \n",
    "\n",
    "**Задачи:**\n",
    "\n",
    "- Разделить исходные данные на обучающую, валидационную и тестовую выборки.\n",
    "\n",
    "- Исследовать качество разных моделей, меняя гиперпараметры.\n",
    "\n",
    "- Проверить качество модели на тестовой выборке.\n",
    "\n",
    "- Проверить модели на вменяемость\n",
    "\n",
    "**Входные данные от Заказчика.** Файл в формате .csv с указанием тарифного плана и ежемесячной статистикой голосовых вызовов, сообщений, интернет-трафика абонентов.\n",
    "\n",
    "**Ожидаемый результат.** Построена модель с долей правильных ответов более 0.75"
   ]
  },
  {
   "cell_type": "markdown",
   "metadata": {},
   "source": [
    "## Открытие и изучение файла. Обзор данных <a id='1'></a>"
   ]
  },
  {
   "cell_type": "markdown",
   "metadata": {},
   "source": [
    "1. Открыть таблицы \n",
    "2. Изучить структуру данных по десяти первым строкам\n",
    "3. Изучить структуру данных методом `info()`"
   ]
  },
  {
   "cell_type": "markdown",
   "metadata": {},
   "source": [
    "**Описание данных**\n",
    "\n",
    "Каждый объект в наборе данных — это информация о поведении одного пользователя за месяц\n",
    "\n",
    "**Таблица**:\n",
    "\n",
    "- `сalls` — количество звонков,\n",
    "- `minutes` — суммарная длительность звонков в минутах,\n",
    "- `messages` — количество sms-сообщений,\n",
    "- `mb_used` — израсходованный интернет-трафик в Мб,\n",
    "- `is_ultra` — каким тарифом пользовался в течение месяца («Ультра» — 1, «Смарт» — 0)."
   ]
  },
  {
   "cell_type": "code",
   "execution_count": 1,
   "metadata": {},
   "outputs": [],
   "source": [
    "# Импотрт библиотек\n",
    "import pandas as pd\n",
    "import numpy as np\n",
    "import seaborn as sns\n",
    "import matplotlib.pyplot as plt\n",
    "\n",
    "from sklearn.tree import DecisionTreeClassifier\n",
    "from sklearn.tree import DecisionTreeRegressor\n",
    "\n",
    "from sklearn.ensemble import RandomForestClassifier\n",
    "from sklearn.ensemble import RandomForestRegressor\n",
    "\n",
    "from sklearn.linear_model import LogisticRegression\n",
    "from sklearn.linear_model import LinearRegression\n",
    "\n",
    "from sklearn.model_selection import train_test_split\n",
    "from sklearn.metrics import accuracy_score\n",
    "from sklearn.metrics import mean_squared_error\n",
    "\n",
    "from sklearn.metrics import average_precision_score\n",
    "from sklearn.metrics import recall_score"
   ]
  },
  {
   "cell_type": "code",
   "execution_count": 2,
   "metadata": {},
   "outputs": [
    {
     "data": {
      "text/html": [
       "<div>\n",
       "<style scoped>\n",
       "    .dataframe tbody tr th:only-of-type {\n",
       "        vertical-align: middle;\n",
       "    }\n",
       "\n",
       "    .dataframe tbody tr th {\n",
       "        vertical-align: top;\n",
       "    }\n",
       "\n",
       "    .dataframe thead th {\n",
       "        text-align: right;\n",
       "    }\n",
       "</style>\n",
       "<table border=\"1\" class=\"dataframe\">\n",
       "  <thead>\n",
       "    <tr style=\"text-align: right;\">\n",
       "      <th></th>\n",
       "      <th>calls</th>\n",
       "      <th>minutes</th>\n",
       "      <th>messages</th>\n",
       "      <th>mb_used</th>\n",
       "      <th>is_ultra</th>\n",
       "    </tr>\n",
       "  </thead>\n",
       "  <tbody>\n",
       "    <tr>\n",
       "      <th>0</th>\n",
       "      <td>40.0</td>\n",
       "      <td>311.90</td>\n",
       "      <td>83.0</td>\n",
       "      <td>19915.42</td>\n",
       "      <td>0</td>\n",
       "    </tr>\n",
       "    <tr>\n",
       "      <th>1</th>\n",
       "      <td>85.0</td>\n",
       "      <td>516.75</td>\n",
       "      <td>56.0</td>\n",
       "      <td>22696.96</td>\n",
       "      <td>0</td>\n",
       "    </tr>\n",
       "    <tr>\n",
       "      <th>2</th>\n",
       "      <td>77.0</td>\n",
       "      <td>467.66</td>\n",
       "      <td>86.0</td>\n",
       "      <td>21060.45</td>\n",
       "      <td>0</td>\n",
       "    </tr>\n",
       "    <tr>\n",
       "      <th>3</th>\n",
       "      <td>106.0</td>\n",
       "      <td>745.53</td>\n",
       "      <td>81.0</td>\n",
       "      <td>8437.39</td>\n",
       "      <td>1</td>\n",
       "    </tr>\n",
       "    <tr>\n",
       "      <th>4</th>\n",
       "      <td>66.0</td>\n",
       "      <td>418.74</td>\n",
       "      <td>1.0</td>\n",
       "      <td>14502.75</td>\n",
       "      <td>0</td>\n",
       "    </tr>\n",
       "  </tbody>\n",
       "</table>\n",
       "</div>"
      ],
      "text/plain": [
       "   calls  minutes  messages   mb_used  is_ultra\n",
       "0   40.0   311.90      83.0  19915.42         0\n",
       "1   85.0   516.75      56.0  22696.96         0\n",
       "2   77.0   467.66      86.0  21060.45         0\n",
       "3  106.0   745.53      81.0   8437.39         1\n",
       "4   66.0   418.74       1.0  14502.75         0"
      ]
     },
     "execution_count": 2,
     "metadata": {},
     "output_type": "execute_result"
    }
   ],
   "source": [
    "# Прочитаем файл\n",
    "df = pd.read_csv('/datasets/users_behavior.csv')\n",
    "df.head()"
   ]
  },
  {
   "cell_type": "code",
   "execution_count": 3,
   "metadata": {
    "scrolled": true
   },
   "outputs": [
    {
     "name": "stdout",
     "output_type": "stream",
     "text": [
      "<class 'pandas.core.frame.DataFrame'>\n",
      "RangeIndex: 3214 entries, 0 to 3213\n",
      "Data columns (total 5 columns):\n",
      " #   Column    Non-Null Count  Dtype  \n",
      "---  ------    --------------  -----  \n",
      " 0   calls     3214 non-null   float64\n",
      " 1   minutes   3214 non-null   float64\n",
      " 2   messages  3214 non-null   float64\n",
      " 3   mb_used   3214 non-null   float64\n",
      " 4   is_ultra  3214 non-null   int64  \n",
      "dtypes: float64(4), int64(1)\n",
      "memory usage: 125.7 KB\n"
     ]
    }
   ],
   "source": [
    "df.info()"
   ]
  },
  {
   "cell_type": "markdown",
   "metadata": {},
   "source": [
    "### Вывод по обзору данных\n",
    "В представленном файле 5 столбцов и 3214 строк. Все объекты имеют числовой тип. Пропусков данных нет. Предобработка данных не требуется.\n",
    "\n",
    "Столбец is_ultra содержит целевой признак. Это будет использовано при последующем делении дата сета"
   ]
  },
  {
   "cell_type": "markdown",
   "metadata": {},
   "source": [
    "## Деление исходных данных на обучающую, валидационную и тестовую выборки <a id='2'></a>"
   ]
  },
  {
   "cell_type": "code",
   "execution_count": 4,
   "metadata": {},
   "outputs": [],
   "source": [
    "# Извлечем целевой признак в переменную target, а остальные признаки в features\n",
    "features = df.drop('is_ultra', axis=1)\n",
    "target = df['is_ultra']"
   ]
  },
  {
   "cell_type": "code",
   "execution_count": 5,
   "metadata": {},
   "outputs": [],
   "source": [
    "# Отделим 40% данных для валидационной и тестовых выборок\n",
    "features_train, features_valid_test, target_train, target_valid_test = (\n",
    "    train_test_split(features, target, \n",
    "                     test_size=0.4, random_state=12345)\n",
    ")\n",
    "\n",
    "# Отделим 50% полученных данных от выборок features_valid_test и target_valid_test для разделения на валидационную и тестовую выборки\n",
    "features_valid, features_test, target_valid, target_test = (\n",
    "    train_test_split(features_valid_test, target_valid_test, \n",
    "                     test_size=0.5, random_state=12345)\n",
    ")"
   ]
  },
  {
   "cell_type": "code",
   "execution_count": 6,
   "metadata": {},
   "outputs": [
    {
     "name": "stdout",
     "output_type": "stream",
     "text": [
      "features_train - 1928 строк\n",
      "features_valid - 643 строк\n",
      "features_test - 643 строк\n"
     ]
    }
   ],
   "source": [
    "print(f'features_train - {features_train.shape[0]} строк')\n",
    "print(f'features_valid - {features_valid.shape[0]} строк')\n",
    "print(f'features_test - {features_test.shape[0]} строк')"
   ]
  },
  {
   "cell_type": "markdown",
   "metadata": {},
   "source": [
    "## Исследование качества разных моделей <a id='3'></a>"
   ]
  },
  {
   "cell_type": "markdown",
   "metadata": {},
   "source": [
    "**Дерево решений**\n",
    "\n",
    "Обучим модели на параметре `max_depth` от 1 до 10\n",
    "\n",
    "Проверим методом `accuracy` на валидационной выборке\n",
    "\n",
    "Лучшую модель сохраним для дальнейшего сравнения на тестовой выборке"
   ]
  },
  {
   "cell_type": "code",
   "execution_count": 7,
   "metadata": {},
   "outputs": [
    {
     "name": "stdout",
     "output_type": "stream",
     "text": [
      "При глубине дерева 1 точность составляет 75.4277%\n",
      "При глубине дерева 2 точность составляет 78.2271%\n",
      "При глубине дерева 3 точность составляет 78.5381%\n",
      "При глубине дерева 4 точность составляет 77.9160%\n",
      "При глубине дерева 5 точность составляет 77.9160%\n",
      "При глубине дерева 6 точность составляет 78.3826%\n",
      "При глубине дерева 7 точность составляет 78.2271%\n",
      "При глубине дерева 8 точность составляет 77.9160%\n",
      "При глубине дерева 9 точность составляет 78.2271%\n",
      "При глубине дерева 10 точность составляет 77.4495%\n",
      "accuracy наилучшей модели на валидационной выборке: 78.5381% глубина дерева: 3\n"
     ]
    }
   ],
   "source": [
    "best_model_tree = None\n",
    "best_result_tree = 0\n",
    "best_depth_tree = 0\n",
    "\n",
    "for depth in range(1, 11):\n",
    "    model_tree = DecisionTreeClassifier(random_state=12345, max_depth=depth)\n",
    "    model_tree.fit(features_train, target_train)\n",
    "    predication_tree = model_tree.predict(features_valid)\n",
    "    result = accuracy_score(target_valid, predication_tree)\n",
    "    print(f'При глубине дерева {depth} точность составляет {result:.4%}')\n",
    "    if result > best_result_tree:\n",
    "        best_model_tree = model_tree\n",
    "        best_result_tree = result\n",
    "        best_depth_tree = depth\n",
    "\n",
    "print(f'accuracy наилучшей модели на валидационной выборке: {best_result_tree:.4%} глубина дерева: {best_depth_tree}')"
   ]
  },
  {
   "cell_type": "markdown",
   "metadata": {},
   "source": [
    "**Случайный лес**\n",
    "\n",
    "Обучим модели со следующими гиперпараметрами:\n",
    "- с количеством деревьев: от 10 до 50 с шагом 5,\n",
    "- с максимальной глубиной от 1 до 10\n",
    "\n",
    "Проверим методом `accuracy` на валидационной выборке\n",
    "\n",
    "Лучшую модель сохраним для дальнейшего сравнения на тестовой выборке"
   ]
  },
  {
   "cell_type": "code",
   "execution_count": 8,
   "metadata": {
    "scrolled": true
   },
   "outputs": [
    {
     "name": "stdout",
     "output_type": "stream",
     "text": [
      "accuracy наилучшей модели на валидационной выборке: 0.7931570762052877 Количество деревьев: 50 Максимальная глубина: 10\n"
     ]
    }
   ],
   "source": [
    "best_model_forest = None\n",
    "best_result_forest = 0\n",
    "best_est_forest = 0\n",
    "best_depth_forest = 0\n",
    "\n",
    "for est in range(10, 51, 5):\n",
    "    for depth in range(1, 11):\n",
    "        model_forest = RandomForestClassifier(random_state=12345, n_estimators=est, max_depth=depth)\n",
    "        model_forest.fit(features_train, target_train)\n",
    "        predication_forest = model_forest.predict(features_valid)\n",
    "        result = accuracy_score(target_valid, predication_forest)\n",
    "        if result > best_result_tree:\n",
    "            best_model_forest = model_forest\n",
    "            best_result_forest = result\n",
    "            best_est_forest = est\n",
    "            best_depth_forest = depth\n",
    "            \n",
    "print(\"accuracy наилучшей модели на валидационной выборке:\", best_result_forest, \"Количество деревьев:\", best_est_forest, \"Максимальная глубина:\", best_depth_forest)"
   ]
  },
  {
   "cell_type": "markdown",
   "metadata": {},
   "source": [
    "**Логистическая регрессия**\n",
    "\n",
    "Обучим модели на параметре `max_iter` от 100 до 1000 с шагом 100\n",
    "\n",
    "Проверим методом `accuracy` на валидационной выборке\n",
    "\n",
    "Лучшую модель сохраним для дальнейшего сравнения на тестовой выборке"
   ]
  },
  {
   "cell_type": "code",
   "execution_count": 9,
   "metadata": {},
   "outputs": [
    {
     "name": "stdout",
     "output_type": "stream",
     "text": [
      "При максимальном количестве итераций 100 точность составляет 71.0731%\n",
      "При максимальном количестве итераций 200 точность составляет 71.0731%\n",
      "При максимальном количестве итераций 300 точность составляет 71.0731%\n",
      "При максимальном количестве итераций 400 точность составляет 71.0731%\n",
      "При максимальном количестве итераций 500 точность составляет 71.0731%\n",
      "При максимальном количестве итераций 600 точность составляет 71.0731%\n",
      "При максимальном количестве итераций 700 точность составляет 71.0731%\n",
      "При максимальном количестве итераций 800 точность составляет 71.0731%\n",
      "При максимальном количестве итераций 900 точность составляет 71.0731%\n",
      "При максимальном количестве итераций 1000 точность составляет 71.0731%\n",
      "accuracy наилучшей модели на валидационной выборке 71.0731%, Максимальное количество итераций обучения: 100\n"
     ]
    }
   ],
   "source": [
    "best_model_reg = None\n",
    "best_result_reg = 0\n",
    "best_iter_reg = 0\n",
    "\n",
    "for best_iter in range(100, 1001, 100):\n",
    "    model_reg = LogisticRegression(random_state=12345, solver='lbfgs', max_iter=best_iter)\n",
    "    model_reg.fit(features_train, target_train)\n",
    "    predication_reg = model_reg.predict(features_valid)\n",
    "    result = accuracy_score(target_valid, predication_reg)\n",
    "    print(f'При максимальном количестве итераций {best_iter} точность составляет {result:.4%}')\n",
    "    if result > best_result_reg:\n",
    "        best_model_reg = model_reg\n",
    "        best_result_reg = result\n",
    "        best_depth_reg = best_iter\n",
    "\n",
    "print(f'accuracy наилучшей модели на валидационной выборке {best_result_reg:.4%}, Максимальное количество итераций обучения: {best_depth_reg}')"
   ]
  },
  {
   "cell_type": "markdown",
   "metadata": {},
   "source": [
    "### Выводы по исследованию качества моделей\n",
    "\n",
    "В рамках обучения моделей использовано три метода: `Дерево решений`, `Случайный лес` и `Логистическая регрессия`. Для выбора наиболее эффективного метода, в каждом из них использован различный набор гиперпараметров.\n",
    "\n",
    "Для метода `Дерево решений` использован перебор гиперпараметра `max_depth` в диапазоне от 1 до 10. \n",
    "\n",
    "Для метода `Случайный лес` использован последовательный перебор двух гиперпараметров - `max_depth` в диапазоне от 1 до 10 и `n_estimators` в диапазоне от 10 до 50 с шагом 5.\n",
    "\n",
    "Для метода `Логистическая регрессия` использован перебор гиперпараметра `max_iter` в диапазоне от 100 до 1000 с шагом 100.\n",
    "\n",
    "Обучающая выборка составляет 60% генеральной совокупности. Все 120 обученных моделей были проверены на валидационной выборке методом `accuracy`. Валидационная выборка составляет 20% генеральной совокупности.\n",
    "\n",
    "Наилучший показатель точности ответов 79.3% на валидационной выборке показала модель `Случайного леса` с гипрепараметрами максимальной глубины `max_depth` равной **10** и количеством деревьев `n_estimators` равным **50**."
   ]
  },
  {
   "cell_type": "markdown",
   "metadata": {},
   "source": [
    "## Проверка качества модели на тестовой выборке <a id='4'></a>\n",
    "\n",
    "Проверим методом `accuracy` лучшую модель `best_model_forest` с полученными параметрами на тестовой выборке"
   ]
  },
  {
   "cell_type": "code",
   "execution_count": 10,
   "metadata": {},
   "outputs": [
    {
     "name": "stdout",
     "output_type": "stream",
     "text": [
      "На тестовой выборке у лучшей модели RandomForestClassifier(max_depth=10, n_estimators=50, random_state=12345) accuracy составляет: 80.0933%\n"
     ]
    }
   ],
   "source": [
    "# Проверим модель best_model_forest на тестовой выборке\n",
    "predication_test = best_model_forest.predict(features_test)\n",
    "result_test = accuracy_score(target_test, predication_test)\n",
    "print(F'На тестовой выборке у лучшей модели {best_model_forest} \\\n",
    "accuracy составляет: {result_test:.4%}')"
   ]
  },
  {
   "cell_type": "code",
   "execution_count": 11,
   "metadata": {},
   "outputs": [
    {
     "name": "stdout",
     "output_type": "stream",
     "text": [
      "В выборке features_train_all 2571 строк\n"
     ]
    }
   ],
   "source": [
    "# Объединим обучающюю и валидационную выборки\n",
    "target_train_all = pd.concat([target_train, target_valid], sort=False, axis=0)\n",
    "features_train_all = features_train.append(features_valid, sort=False)\n",
    "print(f'В выборке features_train_all {features_train_all.shape[0]} строк')"
   ]
  },
  {
   "cell_type": "code",
   "execution_count": 12,
   "metadata": {},
   "outputs": [
    {
     "name": "stdout",
     "output_type": "stream",
     "text": [
      "На тестовой выборке у улучшеной модели RandomForestClassifier(max_depth=10, n_estimators=50, random_state=12345) accuracy составляет: 80.0933%\n"
     ]
    }
   ],
   "source": [
    "# Обучим модель еще раз н аобъедтненной выборке\n",
    "best_model_forest.fit(features_train_all, target_train_all)\n",
    "predication_forest_all = best_model_forest.predict(features_test)\n",
    "result_test_all = accuracy_score(target_test, predication_forest_all)\n",
    "print(F'На тестовой выборке у улучшеной модели {best_model_forest} \\\n",
    "accuracy составляет: {result_test_all:.4%}')"
   ]
  },
  {
   "cell_type": "markdown",
   "metadata": {},
   "source": [
    "### Вывод по проверке качества моделей на тестовой выборке\n",
    "\n",
    "Полученные в предыдущем шаге модели протестированы методом `accuracy` на тестовой выборке. Тестовая выборка составляет 20% генеральной совокупности.\n",
    "\n",
    "Протестировано три модели. Наилучший показатель точности ответов 80.1% подтвердила модель `Случайного леса` с гипрепараметрами максимальной глубины `max_depth` равной **10** и количеством деревьев `n_estimators` равным **50**."
   ]
  },
  {
   "cell_type": "markdown",
   "metadata": {},
   "source": [
    "## Проверка модели на адекватность (вменяемость) <a id='5'></a>\n",
    "\n",
    "Методом `precision` и `recall` проверим отобранные модели на тестовой выборке\n",
    "\n",
    "Сравним полученный результат с проверкой методом `accuracy`"
   ]
  },
  {
   "cell_type": "code",
   "execution_count": 13,
   "metadata": {},
   "outputs": [],
   "source": [
    "# Создадим списки результатов проверки моделей методоми precision и recall\n",
    "model_list = [best_model_tree, best_model_forest, best_model_reg]\n",
    "result_accuracy_list = [best_result_tree, best_result_forest, best_result_reg]\n",
    "result_precision_list = []\n",
    "result_recall_list = []\n",
    "\n",
    "# Проверим все модели на тестовой выборке методом precision\n",
    "for models in model_list:\n",
    "    predication_test = models.predict(features_test)\n",
    "    result = average_precision_score(target_test, predication_test)\n",
    "    result_precision_list.append(result)\n",
    "\n",
    "# Проверим все модели на тестовой выборке методом recall\n",
    "for models in model_list:\n",
    "    predication_test = models.predict(features_test)\n",
    "    result = recall_score(target_test, predication_test)\n",
    "    result_recall_list.append(result)\n",
    "    \n",
    "#<img src=\"http://s3.amazonaws.com/pix.iemoji.com/images/emoji/apple/ios-12/256/waving-hand.png\" align=left width=44, heigth=44>\n",
    "#<div class=\"alert alert-info\">\n",
    "#<b> Заключительный комментарий</b>\n",
    "\n",
    "#В целом мне все понравилось: твоя работа выполнена на хорошем уровне с минимальными помарками.\n",
    "#Также работа выглядит аккуратной и хорошо оформленной.\n",
    "#Вижу, что тебе дается python, и инструментарий Pandas.\n",
    "\n",
    "#Ошибки, которые нужно обязательно исправить (красные комментарии):\n",
    "    \n",
    "#   -  Вывести название колонок в датафрейме до переименования\n",
    "#   -  при подсчете количества прослушиваний по городам и дням недели нужно переписать группировку так, чтобы в качестве результата получать колонку, а не таблицу\n",
    "#   -  \n",
    "     \n",
    "#Жду твоих исправлений :)\n",
    "#</div>)\n"
   ]
  },
  {
   "cell_type": "code",
   "execution_count": 14,
   "metadata": {},
   "outputs": [
    {
     "data": {
      "text/html": [
       "<div>\n",
       "<style scoped>\n",
       "    .dataframe tbody tr th:only-of-type {\n",
       "        vertical-align: middle;\n",
       "    }\n",
       "\n",
       "    .dataframe tbody tr th {\n",
       "        vertical-align: top;\n",
       "    }\n",
       "\n",
       "    .dataframe thead th {\n",
       "        text-align: right;\n",
       "    }\n",
       "</style>\n",
       "<table border=\"1\" class=\"dataframe\">\n",
       "  <thead>\n",
       "    <tr style=\"text-align: right;\">\n",
       "      <th></th>\n",
       "      <th>indicanor</th>\n",
       "      <th>model</th>\n",
       "      <th>accuracy</th>\n",
       "      <th>precision</th>\n",
       "      <th>recall</th>\n",
       "    </tr>\n",
       "  </thead>\n",
       "  <tbody>\n",
       "    <tr>\n",
       "      <th>0</th>\n",
       "      <td>tree</td>\n",
       "      <td>DecisionTreeClassifier(max_depth=3, random_sta...</td>\n",
       "      <td>0.785381</td>\n",
       "      <td>0.51192</td>\n",
       "      <td>0.458128</td>\n",
       "    </tr>\n",
       "    <tr>\n",
       "      <th>1</th>\n",
       "      <td>forest</td>\n",
       "      <td>(DecisionTreeClassifier(max_depth=10, max_feat...</td>\n",
       "      <td>0.793157</td>\n",
       "      <td>0.55547</td>\n",
       "      <td>0.536946</td>\n",
       "    </tr>\n",
       "    <tr>\n",
       "      <th>2</th>\n",
       "      <td>regression</td>\n",
       "      <td>LogisticRegression(random_state=12345)</td>\n",
       "      <td>0.710731</td>\n",
       "      <td>0.32297</td>\n",
       "      <td>0.039409</td>\n",
       "    </tr>\n",
       "  </tbody>\n",
       "</table>\n",
       "</div>"
      ],
      "text/plain": [
       "    indicanor                                              model  accuracy  \\\n",
       "0        tree  DecisionTreeClassifier(max_depth=3, random_sta...  0.785381   \n",
       "1      forest  (DecisionTreeClassifier(max_depth=10, max_feat...  0.793157   \n",
       "2  regression             LogisticRegression(random_state=12345)  0.710731   \n",
       "\n",
       "   precision    recall  \n",
       "0    0.51192  0.458128  \n",
       "1    0.55547  0.536946  \n",
       "2    0.32297  0.039409  "
      ]
     },
     "metadata": {},
     "output_type": "display_data"
    }
   ],
   "source": [
    "# Выведем полученные данные в таблицу\n",
    "result_model = pd.DataFrame({\n",
    "    'indicanor': ['tree', 'forest', 'regression'],\n",
    "    'model': model_list, \n",
    "    'accuracy': result_accuracy_list,\n",
    "    'precision': result_precision_list,\n",
    "    'recall': result_recall_list\n",
    "})\n",
    "\n",
    "display(result_model)"
   ]
  },
  {
   "cell_type": "markdown",
   "metadata": {},
   "source": [
    "### Вывод по проверке модели на вменяемость\n",
    "\n",
    "Для проверки моделей на вменяемость, отобранные модели проверены методами `precision` и `recall` на тестовой выборке. Тестовая выборка не менялась и составляет 20% генеральной совокупности.\n",
    "\n",
    "Поскольку у нас всего два целевых варианта, то методы `recall` и `accuracy` показали одинаковые значения. Действительно, не важно какую часть тарифов `ultra` модель определила, как `ultra` (`recall`) или какую часть тарифов `ultra` модель определила, как верный ответ (`accuracy`).\n",
    "\n",
    "Однако, `precision` показал довольно низкие значения – от 35.3% (у модели `Логистическая регрессия`) до 55,6% (у модели `Случайный лес`). Это говорит о высокой частоте ошибок, когда выбранные моделью тарифы `ultra`, действительно являются тарифом `ultra`.\n",
    "\n",
    "Таким образом, созданные модели не склонны к совершению ошибок 2-го рода, но очень часто могут совершать ошибки 1-го рода, когда тариф на самом деле `ultra`, но модель его таким не считает.\n",
    "\n",
    "На лучшей модели `Случайный лес` значение показателя `precision` 55,6% против значения `accuracy` 80,1%, очевидно, говорит о ее недостаточной точности. Однако, тот факт, что значение `precision` меньше значения `accuracy` подтверждает вменяемость построенной модели."
   ]
  },
  {
   "cell_type": "code",
   "execution_count": 15,
   "metadata": {},
   "outputs": [
    {
     "name": "stdout",
     "output_type": "stream",
     "text": [
      "0.6924273858921162\n"
     ]
    }
   ],
   "source": [
    "from sklearn.dummy import DummyClassifier\n",
    "\n",
    "naive_model = DummyClassifier(strategy=\"most_frequent\", random_state=12345)\n",
    "naive_model.fit(features_train, target_train)\n",
    "print(naive_model.score(features_train, target_train))"
   ]
  },
  {
   "cell_type": "markdown",
   "metadata": {},
   "source": [
    "## Общие выводы <a id='6'></a>\n",
    "\n",
    "В рамках построения системы, способной проанализировать поведение клиентов и предложить пользователям новый тариф: `«Смарт»` или `«Ультра»`, обучены 120 моделей с использованием трех методов: `Дерево решений`, `Случайный лес` и `Логистическая регрессия`. \n",
    "\n",
    "Для задачи классификации с максимально большим значением `accuracy` при выборе наиболее эффективного метода, были использованы различные наборы гиперпараметров.\n",
    "\n",
    "Обучающая выборка составила 60% генеральной совокупности. Все 120 обученных моделей были проверены на валидационной выборке методом `accuracy`, которая составила 20% генеральной совокупности.\n",
    "\n",
    "Наилучший показатель точности ответов 79.3% на валидационной выборке показала модель `Случайного леса` с гипрепараметрами максимальной глубины `max_depth` равной **10** и количеством деревьев `n_estimators` равным **50**.\n",
    "\n",
    "При тестировании трех лучших моделей на тестовой выборке, которая составила 20% генеральной совокупности, наилучший показатель точности ответов 80.1% подтвердила модель `Случайного леса`.\n",
    "\n",
    "Для проверки моделей на вменяемость, отобранные модели проверены методами `precision` и `recall` на тестовой выборке. Тестовая выборка не менялась и составляет 20% генеральной совокупности.\n",
    "\n",
    "`precision` показал довольно низкие значения – от 35.3% (у модели `Логистическая регрессия`) до 55,6% (у модели `Случайный лес`), что говорит о высокой частоте ошибок 1-го рода, когда тариф на самом деле `ultra`, но модель его таким не считает.\n",
    "\n",
    "На лучшей модели `Случайный лес` значение показателя `precision` 55,6% против значения `accuracy` 80,1%, очевидно, говорит о ее недостаточной точности. Однако, тот факт, что значение `precision` меньше значения `accuracy` подтверждает вменяемость построенной модели.\n",
    "\n",
    "Таким образом поставленная цель достигнута и построена модель с долей правильных ответов более 75%"
   ]
  },
  {
   "cell_type": "markdown",
   "metadata": {},
   "source": [
    "## Чек-лист готовности проекта <a id='7'></a>"
   ]
  },
  {
   "cell_type": "markdown",
   "metadata": {},
   "source": [
    "Поставьте 'x' в выполненных пунктах. Далее нажмите Shift+Enter."
   ]
  },
  {
   "cell_type": "markdown",
   "metadata": {},
   "source": [
    "- [x] Jupyter Notebook открыт\n",
    "- [x] Весь код исполняется без ошибок\n",
    "- [x] Ячейки с кодом расположены в порядке исполнения\n",
    "- [x] Выполнено задание 1: данные загружены и изучены\n",
    "- [x] Выполнено задание 2: данные разбиты на три выборки\n",
    "- [x] Выполнено задание 3: проведено исследование моделей\n",
    "    - [x] Рассмотрено больше одной модели\n",
    "    - [x] Рассмотрено хотя бы 3 значения гипепараметров для какой-нибудь модели\n",
    "    - [x] Написаны выводы по результатам исследования\n",
    "- [x] Выполнено задание 3: Проведено тестирование\n",
    "- [x] Удалось достичь accuracy не меньше 0.75\n"
   ]
  },
  {
   "cell_type": "code",
   "execution_count": null,
   "metadata": {},
   "outputs": [],
   "source": []
  }
 ],
 "metadata": {
  "ExecuteTimeLog": [
   {
    "duration": 2302,
    "start_time": "2022-04-30T20:20:48.316Z"
   },
   {
    "duration": 32,
    "start_time": "2022-04-30T20:20:50.621Z"
   },
   {
    "duration": 16,
    "start_time": "2022-04-30T20:20:50.655Z"
   },
   {
    "duration": 9,
    "start_time": "2022-04-30T20:20:50.674Z"
   },
   {
    "duration": 10,
    "start_time": "2022-04-30T20:20:50.686Z"
   },
   {
    "duration": 125,
    "start_time": "2022-04-30T20:20:50.698Z"
   },
   {
    "duration": 9240,
    "start_time": "2022-04-30T20:20:50.825Z"
   },
   {
    "duration": 268,
    "start_time": "2022-04-30T20:21:00.067Z"
   },
   {
    "duration": 41,
    "start_time": "2022-04-30T20:21:00.337Z"
   },
   {
    "duration": 48,
    "start_time": "2022-04-30T20:21:00.381Z"
   },
   {
    "duration": 79,
    "start_time": "2022-04-30T20:21:00.431Z"
   },
   {
    "duration": 142,
    "start_time": "2022-04-30T21:44:26.226Z"
   },
   {
    "duration": 2214,
    "start_time": "2022-04-30T21:44:37.639Z"
   },
   {
    "duration": 40,
    "start_time": "2022-04-30T21:44:39.856Z"
   },
   {
    "duration": 18,
    "start_time": "2022-04-30T21:44:39.899Z"
   },
   {
    "duration": 7,
    "start_time": "2022-04-30T21:44:39.921Z"
   },
   {
    "duration": 12,
    "start_time": "2022-04-30T21:44:39.930Z"
   },
   {
    "duration": 154,
    "start_time": "2022-04-30T21:44:39.944Z"
   },
   {
    "duration": 10567,
    "start_time": "2022-04-30T21:44:40.101Z"
   },
   {
    "duration": 308,
    "start_time": "2022-04-30T21:44:50.670Z"
   },
   {
    "duration": 47,
    "start_time": "2022-04-30T21:44:50.981Z"
   },
   {
    "duration": 80,
    "start_time": "2022-04-30T21:44:51.032Z"
   },
   {
    "duration": 48,
    "start_time": "2022-04-30T21:44:51.114Z"
   },
   {
    "duration": 80,
    "start_time": "2022-04-30T21:44:51.164Z"
   },
   {
    "duration": 48,
    "start_time": "2022-04-30T21:46:27.902Z"
   },
   {
    "duration": 82,
    "start_time": "2022-04-30T21:46:28.397Z"
   },
   {
    "duration": 2881,
    "start_time": "2022-05-01T10:38:31.456Z"
   },
   {
    "duration": 41,
    "start_time": "2022-05-01T10:38:34.340Z"
   },
   {
    "duration": 17,
    "start_time": "2022-05-01T10:38:34.384Z"
   },
   {
    "duration": 10,
    "start_time": "2022-05-01T10:38:34.404Z"
   },
   {
    "duration": 16,
    "start_time": "2022-05-01T10:38:34.416Z"
   },
   {
    "duration": 6,
    "start_time": "2022-05-01T10:38:37.942Z"
   },
   {
    "duration": 5,
    "start_time": "2022-05-01T10:39:10.329Z"
   },
   {
    "duration": 5,
    "start_time": "2022-05-01T10:39:59.311Z"
   },
   {
    "duration": 6,
    "start_time": "2022-05-01T10:41:01.052Z"
   },
   {
    "duration": 5,
    "start_time": "2022-05-01T10:41:32.495Z"
   },
   {
    "duration": 4,
    "start_time": "2022-05-01T10:41:45.982Z"
   },
   {
    "duration": 5,
    "start_time": "2022-05-01T10:41:55.877Z"
   },
   {
    "duration": 4,
    "start_time": "2022-05-01T10:42:26.488Z"
   },
   {
    "duration": 5,
    "start_time": "2022-05-01T10:43:14.778Z"
   },
   {
    "duration": 105,
    "start_time": "2022-05-01T10:48:48.668Z"
   },
   {
    "duration": 177,
    "start_time": "2022-05-01T10:50:18.889Z"
   },
   {
    "duration": 108,
    "start_time": "2022-05-01T10:50:54.389Z"
   },
   {
    "duration": 119,
    "start_time": "2022-05-01T10:51:13.152Z"
   },
   {
    "duration": 151,
    "start_time": "2022-05-01T18:25:53.297Z"
   },
   {
    "duration": 2349,
    "start_time": "2022-05-01T18:26:11.746Z"
   },
   {
    "duration": 44,
    "start_time": "2022-05-01T18:26:14.098Z"
   },
   {
    "duration": 16,
    "start_time": "2022-05-01T18:26:14.144Z"
   },
   {
    "duration": 10,
    "start_time": "2022-05-01T18:26:14.163Z"
   },
   {
    "duration": 12,
    "start_time": "2022-05-01T18:26:14.175Z"
   },
   {
    "duration": 6,
    "start_time": "2022-05-01T18:26:14.189Z"
   },
   {
    "duration": 121,
    "start_time": "2022-05-01T18:26:14.225Z"
   },
   {
    "duration": 10066,
    "start_time": "2022-05-01T18:26:14.348Z"
   },
   {
    "duration": 146,
    "start_time": "2022-05-01T18:26:24.417Z"
   },
   {
    "duration": 142,
    "start_time": "2022-05-01T18:26:31.909Z"
   },
   {
    "duration": 293,
    "start_time": "2022-05-01T18:27:28.712Z"
   },
   {
    "duration": 175,
    "start_time": "2022-05-01T18:40:58.271Z"
   },
   {
    "duration": 23,
    "start_time": "2022-05-01T18:41:21.531Z"
   },
   {
    "duration": 19,
    "start_time": "2022-05-01T19:02:31.984Z"
   },
   {
    "duration": 13,
    "start_time": "2022-05-01T19:02:46.907Z"
   },
   {
    "duration": 18,
    "start_time": "2022-05-01T19:03:09.465Z"
   },
   {
    "duration": 15,
    "start_time": "2022-05-01T19:04:32.447Z"
   },
   {
    "duration": 14,
    "start_time": "2022-05-01T19:05:10.067Z"
   },
   {
    "duration": 18,
    "start_time": "2022-05-01T19:05:26.802Z"
   },
   {
    "duration": 18,
    "start_time": "2022-05-01T19:05:46.578Z"
   },
   {
    "duration": 16,
    "start_time": "2022-05-01T19:10:14.330Z"
   },
   {
    "duration": 16,
    "start_time": "2022-05-01T19:12:32.837Z"
   },
   {
    "duration": 9,
    "start_time": "2022-05-01T19:12:57.116Z"
   },
   {
    "duration": 20,
    "start_time": "2022-05-01T19:14:18.504Z"
   },
   {
    "duration": 23,
    "start_time": "2022-05-01T19:14:50.707Z"
   },
   {
    "duration": 8,
    "start_time": "2022-05-01T19:15:13.038Z"
   },
   {
    "duration": 297,
    "start_time": "2022-05-01T19:21:06.014Z"
   },
   {
    "duration": 14,
    "start_time": "2022-05-01T19:43:14.209Z"
   },
   {
    "duration": 12,
    "start_time": "2022-05-01T19:43:34.435Z"
   },
   {
    "duration": 8,
    "start_time": "2022-05-01T19:43:55.852Z"
   },
   {
    "duration": 192,
    "start_time": "2022-05-01T19:50:03.101Z"
   },
   {
    "duration": 134,
    "start_time": "2022-05-01T19:50:50.565Z"
   },
   {
    "duration": 16,
    "start_time": "2022-05-01T19:52:06.463Z"
   },
   {
    "duration": 54,
    "start_time": "2022-05-01T19:53:08.383Z"
   },
   {
    "duration": 14,
    "start_time": "2022-05-01T19:53:12.494Z"
   },
   {
    "duration": 211,
    "start_time": "2022-05-01T19:55:57.161Z"
   },
   {
    "duration": 13,
    "start_time": "2022-05-01T19:56:15.552Z"
   },
   {
    "duration": 52,
    "start_time": "2022-05-01T19:56:42.176Z"
   },
   {
    "duration": 68,
    "start_time": "2022-05-01T19:56:45.580Z"
   },
   {
    "duration": 6,
    "start_time": "2022-05-01T19:59:11.114Z"
   },
   {
    "duration": 42,
    "start_time": "2022-05-01T19:59:11.125Z"
   },
   {
    "duration": 15,
    "start_time": "2022-05-01T19:59:11.170Z"
   },
   {
    "duration": 7,
    "start_time": "2022-05-01T19:59:11.188Z"
   },
   {
    "duration": 10,
    "start_time": "2022-05-01T19:59:11.198Z"
   },
   {
    "duration": 19,
    "start_time": "2022-05-01T19:59:11.211Z"
   },
   {
    "duration": 127,
    "start_time": "2022-05-01T19:59:11.232Z"
   },
   {
    "duration": 10268,
    "start_time": "2022-05-01T19:59:11.361Z"
   },
   {
    "duration": 319,
    "start_time": "2022-05-01T19:59:21.632Z"
   },
   {
    "duration": 23,
    "start_time": "2022-05-01T19:59:21.953Z"
   },
   {
    "duration": 7,
    "start_time": "2022-05-01T19:59:21.978Z"
   },
   {
    "duration": 328,
    "start_time": "2022-05-01T19:59:21.988Z"
   },
   {
    "duration": 79,
    "start_time": "2022-05-01T19:59:22.325Z"
   },
   {
    "duration": 100,
    "start_time": "2022-05-01T19:59:22.407Z"
   },
   {
    "duration": 16,
    "start_time": "2022-05-01T19:59:22.509Z"
   },
   {
    "duration": 1716,
    "start_time": "2022-05-02T17:30:42.980Z"
   },
   {
    "duration": 32,
    "start_time": "2022-05-02T17:30:44.699Z"
   },
   {
    "duration": 15,
    "start_time": "2022-05-02T17:30:44.733Z"
   },
   {
    "duration": 23,
    "start_time": "2022-05-02T17:30:44.751Z"
   },
   {
    "duration": 9,
    "start_time": "2022-05-02T17:30:44.776Z"
   },
   {
    "duration": 6,
    "start_time": "2022-05-02T17:30:44.787Z"
   },
   {
    "duration": 95,
    "start_time": "2022-05-02T17:30:44.794Z"
   },
   {
    "duration": 8557,
    "start_time": "2022-05-02T17:30:44.891Z"
   },
   {
    "duration": 256,
    "start_time": "2022-05-02T17:30:53.451Z"
   },
   {
    "duration": 18,
    "start_time": "2022-05-02T17:30:53.710Z"
   },
   {
    "duration": 22,
    "start_time": "2022-05-02T17:30:53.730Z"
   },
   {
    "duration": 194,
    "start_time": "2022-05-02T17:30:53.755Z"
   },
   {
    "duration": 36,
    "start_time": "2022-05-02T17:30:53.950Z"
   },
   {
    "duration": 35,
    "start_time": "2022-05-02T17:30:53.987Z"
   },
   {
    "duration": 25,
    "start_time": "2022-05-02T17:30:54.023Z"
   },
   {
    "duration": 1564,
    "start_time": "2022-05-02T17:31:55.828Z"
   },
   {
    "duration": 27,
    "start_time": "2022-05-02T17:31:57.394Z"
   },
   {
    "duration": 10,
    "start_time": "2022-05-02T17:31:57.422Z"
   },
   {
    "duration": 5,
    "start_time": "2022-05-02T17:31:57.434Z"
   },
   {
    "duration": 9,
    "start_time": "2022-05-02T17:31:57.442Z"
   },
   {
    "duration": 21,
    "start_time": "2022-05-02T17:31:57.453Z"
   },
   {
    "duration": 64,
    "start_time": "2022-05-02T17:31:57.476Z"
   },
   {
    "duration": 8544,
    "start_time": "2022-05-02T17:31:57.542Z"
   },
   {
    "duration": 234,
    "start_time": "2022-05-02T17:32:06.088Z"
   },
   {
    "duration": 36,
    "start_time": "2022-05-02T17:32:06.324Z"
   },
   {
    "duration": 6,
    "start_time": "2022-05-02T17:32:06.364Z"
   },
   {
    "duration": 188,
    "start_time": "2022-05-02T17:32:06.372Z"
   },
   {
    "duration": 30,
    "start_time": "2022-05-02T17:32:06.562Z"
   },
   {
    "duration": 28,
    "start_time": "2022-05-02T17:32:06.595Z"
   },
   {
    "duration": 27,
    "start_time": "2022-05-02T17:32:06.625Z"
   },
   {
    "duration": 1809,
    "start_time": "2022-05-02T17:32:47.312Z"
   },
   {
    "duration": 34,
    "start_time": "2022-05-02T17:32:49.123Z"
   },
   {
    "duration": 11,
    "start_time": "2022-05-02T17:32:49.159Z"
   },
   {
    "duration": 4,
    "start_time": "2022-05-02T17:32:49.173Z"
   },
   {
    "duration": 8,
    "start_time": "2022-05-02T17:32:49.178Z"
   },
   {
    "duration": 4,
    "start_time": "2022-05-02T17:32:49.187Z"
   },
   {
    "duration": 125,
    "start_time": "2022-05-02T17:32:49.192Z"
   },
   {
    "duration": 8681,
    "start_time": "2022-05-02T17:32:49.319Z"
   },
   {
    "duration": 262,
    "start_time": "2022-05-02T17:32:58.002Z"
   },
   {
    "duration": 16,
    "start_time": "2022-05-02T17:32:58.267Z"
   },
   {
    "duration": 5,
    "start_time": "2022-05-02T17:32:58.285Z"
   },
   {
    "duration": 221,
    "start_time": "2022-05-02T17:32:58.291Z"
   },
   {
    "duration": 44,
    "start_time": "2022-05-02T17:32:58.513Z"
   },
   {
    "duration": 39,
    "start_time": "2022-05-02T17:32:58.559Z"
   },
   {
    "duration": 5,
    "start_time": "2022-05-02T17:32:58.600Z"
   }
  ],
  "kernelspec": {
   "display_name": "Python 3",
   "language": "python",
   "name": "python3"
  },
  "language_info": {
   "codemirror_mode": {
    "name": "ipython",
    "version": 3
   },
   "file_extension": ".py",
   "mimetype": "text/x-python",
   "name": "python",
   "nbconvert_exporter": "python",
   "pygments_lexer": "ipython3",
   "version": "3.7.3"
  },
  "toc": {
   "base_numbering": 1,
   "nav_menu": {},
   "number_sections": true,
   "sideBar": true,
   "skip_h1_title": true,
   "title_cell": "Table of Contents",
   "title_sidebar": "Contents",
   "toc_cell": false,
   "toc_position": {},
   "toc_section_display": true,
   "toc_window_display": false
  }
 },
 "nbformat": 4,
 "nbformat_minor": 2
}
