{
 "cells": [
  {
   "cell_type": "markdown",
   "metadata": {},
   "source": [
    "# Анализ игр"
   ]
  },
  {
   "cell_type": "markdown",
   "metadata": {},
   "source": [
    "**Содержание**\n",
    "\n",
    "\n",
    "\n",
    "**[1. Обзор данных](#1)**\n",
    "\n",
    "**[Общие выводы по качеству имеющихся данных](#1f)**\n",
    "\n",
    "\n",
    "\n",
    "**[2. Подготовка данных](#2)**\n",
    "\n",
    "**[2.1. Замена названий столбцов](#2.1)**\n",
    "\n",
    "**[2.2. Обработка некорректных значеней в столбце User_Score](#2.2)**\n",
    "\n",
    "**[2.3. Обработка пропуски](#2.3)**\n",
    "\n",
    "**[2.4. Приведение данных к нужным типам](#2.4)**\n",
    "\n",
    "**[2.5. Подсчет суммарных продаж по всем регионам](#2.5)**\n",
    "\n",
    "**[Общие выводы по подготовке данных](#2f)**\n",
    "\n",
    "\n",
    "\n",
    "**[3. Исследовательский анализ](#3)**\n",
    "\n",
    "**[3.1. Анализ игр](#3.1)**\n",
    "\n",
    "**[3.2. Анализ платформ](#3.2)**\n",
    "\n",
    "**[3.3. Определение глубины ретроспективного периода](#3.3)**\n",
    "\n",
    "**[3.4. Анализ динамики продаж](#3.4)**\n",
    "\n",
    "**[3.5. Анализ влияния оценок](#3.5)**\n",
    "\n",
    "**[3.6. Анализ жанров](#3.6)**\n",
    "\n",
    "**[Общие выводы по исследовательскому анализу](#3f)**\n",
    "\n",
    "\n",
    "\n",
    "**[4. Составление портрета пользователя каждого региона](#4)**\n",
    "\n",
    "**[4.1. Определение пяти наиболее продаваемых платформ и жанров в разрезе по регионам](#4.1)**\n",
    "\n",
    "**[4.2. Определение продаваемости игр каждой возрастной категории по регионам](#4.2)**\n",
    "\n",
    "**[4.3. Определение пяти наиболее продаваемых платформ и жанров в разрезе по регионам для каждой возрастной категории](#4.3)**\n",
    "\n",
    "**[4.4. Выявление влияния рейтинга ESRB на продажи в каждом регионе](#4.4)**\n",
    "\n",
    "**[Общие выводы по составлению портрета пользователя](#4f)**\n",
    "\n",
    "\n",
    "\n",
    "**[5. Проверка гипотез](#5)**\n",
    "\n",
    "**[5.1. Проверка гипотезы о сопоставимости средних пользовательских рейтингов платформ XOne и PC](#5.1)**\n",
    "\n",
    "**[5.2. Проверка гипотезы о сопоставимости средних пользовательских рейтингов жанров Action и Sports](#5.2)**\n",
    "\n",
    "**[Общие выводы по проверке гипотез](#5f)**\n",
    "\n",
    "\n",
    "\n",
    "**[6. Общие выводы](#6)**"
   ]
  },
  {
   "cell_type": "markdown",
   "metadata": {},
   "source": [
    "**Заказчик** — интернет-магазин «Стримчик» (продаёт компьютерных игр по всему миру)\n",
    "\n",
    "**Цель Заказчика.** Выявление закономерностей, определяющих успешность игры для планирования рекламных кампаний\n",
    "\n",
    "**Цель исследования.** Выявить потенциально популярный продукт.\n",
    "\n",
    "**Задачи**\n",
    "- Определить динамику выпуска игр по годам. Уточнить глубину ретроспективного периода\n",
    "- Выявить динамику изменения продаж по платформам. Определить платформы с наибольшими суммарными продажами, построить их распределение по годам. Уточнить характерный срок появления новых и исчезновения старых платформ\n",
    "- Сформировать ретроспективный ряд (по ранее определенной глубине), достаточный для построения прогноза на 2017 год\n",
    "- Выявить лидирующие по продажам платформы. Построить график «ящик с усами» по глобальным продажам игр в разбивке по платформам\n",
    "- Выявить зависимость влияния отзывов пользователей на продажи внутри одной популярной платформы. Построить диаграмму рассеяния и посчитать корреляцию между отзывами и продажами. Соотнести выводы с продажами игр на других платформах\n",
    "- Обозначить общее распределение игр по жанрам. Выявить наиболее прибыльные жанры\n",
    "- Составить портрет пользователя каждого региона определив пристрастия возрстных категорий к платформам и жанрам\n",
    "- Проверить гипотезу о сопоставимости средних пользовательских рейтингов платформ Xbox One и PC\n",
    "- Проверить гипотезу о сопоставимости средних пользовательских рейтингов жанров Action и Sports\n",
    "\n",
    "**Входные данные от Заказчика.** Файл в формате .csv со статистикой о о продажах игр.\n",
    "\n",
    "**Ожидаемый результат.** Выявлены закономерности, определяющих успешность игры и определен потенциально популярный продукт\n"
   ]
  },
  {
   "cell_type": "markdown",
   "metadata": {},
   "source": [
    "## Обзор данных <a id='1'></a>\n",
    "\n",
    "1. Открыть таблицу \n",
    "2. Изучить структуру данных по пяти первым строкам\n",
    "3. Проверить уникальность данных\n",
    "4. Изучить структуру данных методом `info()`"
   ]
  },
  {
   "cell_type": "markdown",
   "metadata": {},
   "source": [
    "**Описание данных**\n",
    "\n",
    "**Таблица `games`**\n",
    "\n",
    "- `Name` — название игры\n",
    "- `Platform` — платформа\n",
    "- `Year_of_Release` — год выпуска\n",
    "- `Genre` — жанр игры\n",
    "- `NA_sales` — продажи в Северной Америке (миллионы проданных копий)\n",
    "- `EU_sales` — продажи в Европе (миллионы проданных копий)\n",
    "- `JP_sales` — продажи в Японии (миллионы проданных копий)\n",
    "- `Other_sales` — продажи в других странах (миллионы проданных копий)\n",
    "- `Critic_Score` — оценка критиков (максимум 100)\n",
    "- `User_Score` — оценка пользователей (максимум 10)\n",
    "- `Rating` — рейтинг от организации ESRB\n",
    "\n",
    "*Данные за 2016 год могут быть неполными*"
   ]
  },
  {
   "cell_type": "code",
   "execution_count": 1,
   "metadata": {},
   "outputs": [],
   "source": [
    "# Импотрт библиотек\n",
    "import pandas as pd\n",
    "import numpy as np\n",
    "import seaborn as sns\n",
    "import matplotlib.pyplot as plt\n",
    "from scipy import stats as st"
   ]
  },
  {
   "cell_type": "code",
   "execution_count": 2,
   "metadata": {},
   "outputs": [
    {
     "data": {
      "text/html": [
       "<div>\n",
       "<style scoped>\n",
       "    .dataframe tbody tr th:only-of-type {\n",
       "        vertical-align: middle;\n",
       "    }\n",
       "\n",
       "    .dataframe tbody tr th {\n",
       "        vertical-align: top;\n",
       "    }\n",
       "\n",
       "    .dataframe thead th {\n",
       "        text-align: right;\n",
       "    }\n",
       "</style>\n",
       "<table border=\"1\" class=\"dataframe\">\n",
       "  <thead>\n",
       "    <tr style=\"text-align: right;\">\n",
       "      <th></th>\n",
       "      <th>Name</th>\n",
       "      <th>Platform</th>\n",
       "      <th>Year_of_Release</th>\n",
       "      <th>Genre</th>\n",
       "      <th>NA_sales</th>\n",
       "      <th>EU_sales</th>\n",
       "      <th>JP_sales</th>\n",
       "      <th>Other_sales</th>\n",
       "      <th>Critic_Score</th>\n",
       "      <th>User_Score</th>\n",
       "      <th>Rating</th>\n",
       "    </tr>\n",
       "  </thead>\n",
       "  <tbody>\n",
       "    <tr>\n",
       "      <th>0</th>\n",
       "      <td>Wii Sports</td>\n",
       "      <td>Wii</td>\n",
       "      <td>2006.0</td>\n",
       "      <td>Sports</td>\n",
       "      <td>41.36</td>\n",
       "      <td>28.96</td>\n",
       "      <td>3.77</td>\n",
       "      <td>8.45</td>\n",
       "      <td>76.0</td>\n",
       "      <td>8</td>\n",
       "      <td>E</td>\n",
       "    </tr>\n",
       "    <tr>\n",
       "      <th>1</th>\n",
       "      <td>Super Mario Bros.</td>\n",
       "      <td>NES</td>\n",
       "      <td>1985.0</td>\n",
       "      <td>Platform</td>\n",
       "      <td>29.08</td>\n",
       "      <td>3.58</td>\n",
       "      <td>6.81</td>\n",
       "      <td>0.77</td>\n",
       "      <td>NaN</td>\n",
       "      <td>NaN</td>\n",
       "      <td>NaN</td>\n",
       "    </tr>\n",
       "    <tr>\n",
       "      <th>2</th>\n",
       "      <td>Mario Kart Wii</td>\n",
       "      <td>Wii</td>\n",
       "      <td>2008.0</td>\n",
       "      <td>Racing</td>\n",
       "      <td>15.68</td>\n",
       "      <td>12.76</td>\n",
       "      <td>3.79</td>\n",
       "      <td>3.29</td>\n",
       "      <td>82.0</td>\n",
       "      <td>8.3</td>\n",
       "      <td>E</td>\n",
       "    </tr>\n",
       "    <tr>\n",
       "      <th>3</th>\n",
       "      <td>Wii Sports Resort</td>\n",
       "      <td>Wii</td>\n",
       "      <td>2009.0</td>\n",
       "      <td>Sports</td>\n",
       "      <td>15.61</td>\n",
       "      <td>10.93</td>\n",
       "      <td>3.28</td>\n",
       "      <td>2.95</td>\n",
       "      <td>80.0</td>\n",
       "      <td>8</td>\n",
       "      <td>E</td>\n",
       "    </tr>\n",
       "    <tr>\n",
       "      <th>4</th>\n",
       "      <td>Pokemon Red/Pokemon Blue</td>\n",
       "      <td>GB</td>\n",
       "      <td>1996.0</td>\n",
       "      <td>Role-Playing</td>\n",
       "      <td>11.27</td>\n",
       "      <td>8.89</td>\n",
       "      <td>10.22</td>\n",
       "      <td>1.00</td>\n",
       "      <td>NaN</td>\n",
       "      <td>NaN</td>\n",
       "      <td>NaN</td>\n",
       "    </tr>\n",
       "  </tbody>\n",
       "</table>\n",
       "</div>"
      ],
      "text/plain": [
       "                       Name Platform  Year_of_Release         Genre  NA_sales  \\\n",
       "0                Wii Sports      Wii           2006.0        Sports     41.36   \n",
       "1         Super Mario Bros.      NES           1985.0      Platform     29.08   \n",
       "2            Mario Kart Wii      Wii           2008.0        Racing     15.68   \n",
       "3         Wii Sports Resort      Wii           2009.0        Sports     15.61   \n",
       "4  Pokemon Red/Pokemon Blue       GB           1996.0  Role-Playing     11.27   \n",
       "\n",
       "   EU_sales  JP_sales  Other_sales  Critic_Score User_Score Rating  \n",
       "0     28.96      3.77         8.45          76.0          8      E  \n",
       "1      3.58      6.81         0.77           NaN        NaN    NaN  \n",
       "2     12.76      3.79         3.29          82.0        8.3      E  \n",
       "3     10.93      3.28         2.95          80.0          8      E  \n",
       "4      8.89     10.22         1.00           NaN        NaN    NaN  "
      ]
     },
     "metadata": {},
     "output_type": "display_data"
    }
   ],
   "source": [
    "# Прочитаем файл\n",
    "df = pd.read_csv('/datasets/games.csv')\n",
    "display(df.head())"
   ]
  },
  {
   "cell_type": "code",
   "execution_count": 3,
   "metadata": {
    "scrolled": true
   },
   "outputs": [
    {
     "data": {
      "text/plain": [
       "array(['2600', '3DO', '3DS', 'DC', 'DS', 'GB', 'GBA', 'GC', 'GEN', 'GG',\n",
       "       'N64', 'NES', 'NG', 'PC', 'PCFX', 'PS', 'PS2', 'PS3', 'PS4', 'PSP',\n",
       "       'PSV', 'SAT', 'SCD', 'SNES', 'TG16', 'WS', 'Wii', 'WiiU', 'X360',\n",
       "       'XB', 'XOne'], dtype=object)"
      ]
     },
     "execution_count": 3,
     "metadata": {},
     "output_type": "execute_result"
    }
   ],
   "source": [
    "# Проверим уникальность платформ\n",
    "df['Platform'].sort_values().unique()"
   ]
  },
  {
   "cell_type": "code",
   "execution_count": 4,
   "metadata": {},
   "outputs": [
    {
     "data": {
      "text/plain": [
       "array(['Action', 'Adventure', 'Fighting', 'Misc', 'Platform', 'Puzzle',\n",
       "       'Racing', 'Role-Playing', 'Shooter', 'Simulation', 'Sports',\n",
       "       'Strategy', nan], dtype=object)"
      ]
     },
     "execution_count": 4,
     "metadata": {},
     "output_type": "execute_result"
    }
   ],
   "source": [
    "# Проверим уникальность жанров\n",
    "df['Genre'].sort_values().unique()"
   ]
  },
  {
   "cell_type": "code",
   "execution_count": 5,
   "metadata": {
    "scrolled": true
   },
   "outputs": [
    {
     "data": {
      "text/plain": [
       "array(['0', '0.2', '0.3', '0.5', '0.6', '0.7', '0.9', '1', '1.1', '1.2',\n",
       "       '1.3', '1.4', '1.5', '1.6', '1.7', '1.8', '1.9', '2', '2.1', '2.2',\n",
       "       '2.3', '2.4', '2.5', '2.6', '2.7', '2.8', '2.9', '3', '3.1', '3.2',\n",
       "       '3.3', '3.4', '3.5', '3.6', '3.7', '3.8', '3.9', '4', '4.1', '4.2',\n",
       "       '4.3', '4.4', '4.5', '4.6', '4.7', '4.8', '4.9', '5', '5.1', '5.2',\n",
       "       '5.3', '5.4', '5.5', '5.6', '5.7', '5.8', '5.9', '6', '6.1', '6.2',\n",
       "       '6.3', '6.4', '6.5', '6.6', '6.7', '6.8', '6.9', '7', '7.1', '7.2',\n",
       "       '7.3', '7.4', '7.5', '7.6', '7.7', '7.8', '7.9', '8', '8.1', '8.2',\n",
       "       '8.3', '8.4', '8.5', '8.6', '8.7', '8.8', '8.9', '9', '9.1', '9.2',\n",
       "       '9.3', '9.4', '9.5', '9.6', '9.7', 'tbd', nan], dtype=object)"
      ]
     },
     "execution_count": 5,
     "metadata": {},
     "output_type": "execute_result"
    }
   ],
   "source": [
    "# Проверим уникальность оценок пользователей\n",
    "df['User_Score'].sort_values().unique()"
   ]
  },
  {
   "cell_type": "code",
   "execution_count": 6,
   "metadata": {},
   "outputs": [
    {
     "data": {
      "text/plain": [
       "array(['AO', 'E', 'E10+', 'EC', 'K-A', 'M', 'RP', 'T', nan], dtype=object)"
      ]
     },
     "execution_count": 6,
     "metadata": {},
     "output_type": "execute_result"
    }
   ],
   "source": [
    "# Проверим уникальность рейтинга ESRB\n",
    "df['Rating'].sort_values().unique()"
   ]
  },
  {
   "cell_type": "code",
   "execution_count": 7,
   "metadata": {},
   "outputs": [
    {
     "data": {
      "text/plain": [
       "0"
      ]
     },
     "execution_count": 7,
     "metadata": {},
     "output_type": "execute_result"
    }
   ],
   "source": [
    "# Проверим присутсвие явных дубликатов\n",
    "df.duplicated().sum()"
   ]
  },
  {
   "cell_type": "code",
   "execution_count": 8,
   "metadata": {
    "scrolled": true
   },
   "outputs": [
    {
     "name": "stdout",
     "output_type": "stream",
     "text": [
      "<class 'pandas.core.frame.DataFrame'>\n",
      "RangeIndex: 16715 entries, 0 to 16714\n",
      "Data columns (total 11 columns):\n",
      " #   Column           Non-Null Count  Dtype  \n",
      "---  ------           --------------  -----  \n",
      " 0   Name             16713 non-null  object \n",
      " 1   Platform         16715 non-null  object \n",
      " 2   Year_of_Release  16446 non-null  float64\n",
      " 3   Genre            16713 non-null  object \n",
      " 4   NA_sales         16715 non-null  float64\n",
      " 5   EU_sales         16715 non-null  float64\n",
      " 6   JP_sales         16715 non-null  float64\n",
      " 7   Other_sales      16715 non-null  float64\n",
      " 8   Critic_Score     8137 non-null   float64\n",
      " 9   User_Score       10014 non-null  object \n",
      " 10  Rating           9949 non-null   object \n",
      "dtypes: float64(6), object(5)\n",
      "memory usage: 1.4+ MB\n"
     ]
    }
   ],
   "source": [
    "df.info()"
   ]
  },
  {
   "cell_type": "markdown",
   "metadata": {},
   "source": [
    "### Общие выводы по качеству имеющихся данных <a id='1f'></a>\n",
    "\n",
    "Предоставлена таблица `games`\n",
    "\n",
    "1. Таблица содержит 10 столбцов и 16 715 строк\n",
    "2. Заголовки столбцов не корректны и требуют замены регистра\n",
    "3. Столбцы `Name`, `Year_of_Release`, `Genre` содержат незначительное количество пропусков, которые не могут быть заменены. Строки с пропусками в данных столбцах должны быть удалены\n",
    "4. Столбцы `Critic_Score`, `User_Score` содержат значимое количество пропусков, которые нельзя ни чем заменить. Эти строки не будут учитываться при анализе влияния оценок. Удалять их нет необходимости\n",
    "5. Столбец `Rating` содержит значимое значение `K-A`, которое было в 1998 году заменено на `E`. Еого надо заменить. Кроме того, столбец содержит большое количество пропусков, что говорит об отсутствии рейтинга. Эти значения надо заменить на `not`\n",
    "6. В столбцах `Year_of_Release` и `User_Score` не корректный тип данных. Необходимо `Year_of_Release` заменить на `int`, а `User_Score` заменить на `float`\n",
    "7. В столбцах явных и неявных дубликатов нет\n",
    "8. Столбц `User_Score` содержит некорректное занчение `tbd`"
   ]
  },
  {
   "cell_type": "markdown",
   "metadata": {},
   "source": [
    "## Подготовка данных <a id='2'></a>\n",
    "\n",
    "1. Заменить названия столбцов\n",
    "2. Обработать некорректное значение в столбце `User_Score`\n",
    "3. Обработать пропуски\n",
    "4. Привести данные к нужным типам\n",
    "5. Посчитать суммарные продажи по всем регионам"
   ]
  },
  {
   "cell_type": "markdown",
   "metadata": {},
   "source": [
    "### Замена названий столбцов <a id='2.1'></a>"
   ]
  },
  {
   "cell_type": "code",
   "execution_count": 9,
   "metadata": {},
   "outputs": [],
   "source": [
    "# Приведем названия столбцов к нижнему регистру\n",
    "df.columns=['name', \n",
    "            'platform', \n",
    "            'year_of_release', \n",
    "            'genre',\n",
    "            'na_sales', \n",
    "            'eu_sales', \n",
    "            'jp_sales', \n",
    "            'other_sales', \n",
    "            'critic_score', \n",
    "            'user_score', \n",
    "            'rating'\n",
    "]"
   ]
  },
  {
   "cell_type": "markdown",
   "metadata": {},
   "source": [
    "### Обработка некорректных значеней в столбце User_Score <a id='2.2'></a>"
   ]
  },
  {
   "cell_type": "code",
   "execution_count": 10,
   "metadata": {
    "scrolled": true
   },
   "outputs": [
    {
     "data": {
      "text/plain": [
       "(2424, 11)"
      ]
     },
     "execution_count": 10,
     "metadata": {},
     "output_type": "execute_result"
    }
   ],
   "source": [
    "# Определим коичество некорректных значений\n",
    "df.loc[df['user_score'] == 'tbd'].shape"
   ]
  },
  {
   "cell_type": "markdown",
   "metadata": {},
   "source": [
    "Столбец `user_score` содержит значения `tbd` в 2424 строках. **\"To be determined\"** определяется как **\"будет определено позже\"**. Следовательно, пользователь еще не определился с оценкой игры. Установим `None`"
   ]
  },
  {
   "cell_type": "code",
   "execution_count": 11,
   "metadata": {},
   "outputs": [],
   "source": [
    "# Заменим в столбце user_score значение tbd на None\n",
    "df.loc[(df['user_score'] == 'tbd'), 'user_score'] = None"
   ]
  },
  {
   "cell_type": "markdown",
   "metadata": {},
   "source": [
    "### Обработка пропуски <a id='2.3'></a>"
   ]
  },
  {
   "cell_type": "code",
   "execution_count": 12,
   "metadata": {
    "scrolled": true
   },
   "outputs": [
    {
     "data": {
      "text/plain": [
       "name                  0\n",
       "platform              0\n",
       "year_of_release       0\n",
       "genre                 0\n",
       "na_sales              0\n",
       "eu_sales              0\n",
       "jp_sales              0\n",
       "other_sales           0\n",
       "critic_score       8461\n",
       "user_score         8981\n",
       "rating                0\n",
       "dtype: int64"
      ]
     },
     "execution_count": 12,
     "metadata": {},
     "output_type": "execute_result"
    }
   ],
   "source": [
    "# Удалим пропуски по стобцам name, year_of_release, genre\n",
    "df = df.dropna(subset=['name', 'year_of_release', 'genre'])\n",
    "\n",
    "# Пропуски столбца 'Rating' заменим на 0\n",
    "df['rating'] = df['rating'].fillna(0)\n",
    "\n",
    "# В столбце 'Rating' нулевые значения замененим на `not`\n",
    "df.loc[df['rating'] == 0, 'rating'] = 'not'\n",
    "\n",
    "# В столбце 'Rating' значение 'K-A' замененим на 'E'\n",
    "df.loc[df['rating'] == 'K-A', 'rating'] = 'E'\n",
    "\n",
    "# Проверим результат методом isna\n",
    "df.isna().sum()"
   ]
  },
  {
   "cell_type": "markdown",
   "metadata": {},
   "source": [
    "### Приведение данных к нужным типам <a id='2.4'></a>\n",
    "\n",
    "Для упрощения работы с параметром `year_of_release` необходимо привести его значения к цельно численному типу. Работа с параметром `user_score` будет возможна при переводе его в числовой формат. Поскольку это параметр имеет дробные значения, то необходимо привести к типу `float`"
   ]
  },
  {
   "cell_type": "code",
   "execution_count": 13,
   "metadata": {},
   "outputs": [
    {
     "name": "stdout",
     "output_type": "stream",
     "text": [
      "<class 'pandas.core.frame.DataFrame'>\n",
      "Int64Index: 16444 entries, 0 to 16714\n",
      "Data columns (total 11 columns):\n",
      " #   Column           Non-Null Count  Dtype  \n",
      "---  ------           --------------  -----  \n",
      " 0   name             16444 non-null  object \n",
      " 1   platform         16444 non-null  object \n",
      " 2   year_of_release  16444 non-null  int64  \n",
      " 3   genre            16444 non-null  object \n",
      " 4   na_sales         16444 non-null  float64\n",
      " 5   eu_sales         16444 non-null  float64\n",
      " 6   jp_sales         16444 non-null  float64\n",
      " 7   other_sales      16444 non-null  float64\n",
      " 8   critic_score     7983 non-null   float64\n",
      " 9   user_score       7463 non-null   float64\n",
      " 10  rating           16444 non-null  object \n",
      "dtypes: float64(6), int64(1), object(4)\n",
      "memory usage: 1.5+ MB\n"
     ]
    }
   ],
   "source": [
    "# В столбце year_of_release установим тип данных int\n",
    "df['year_of_release'] = df['year_of_release'].astype('int')\n",
    "\n",
    "# В столбце user_score установим тип данных float\n",
    "df['user_score'] = df['user_score'].astype('float')\n",
    "\n",
    "# Проверим результат методом info\n",
    "df.info()"
   ]
  },
  {
   "cell_type": "markdown",
   "metadata": {},
   "source": [
    "### Подсчет суммарных продаж по всем регионам <a id='2.5'></a>"
   ]
  },
  {
   "cell_type": "code",
   "execution_count": 14,
   "metadata": {},
   "outputs": [
    {
     "data": {
      "text/html": [
       "<div>\n",
       "<style scoped>\n",
       "    .dataframe tbody tr th:only-of-type {\n",
       "        vertical-align: middle;\n",
       "    }\n",
       "\n",
       "    .dataframe tbody tr th {\n",
       "        vertical-align: top;\n",
       "    }\n",
       "\n",
       "    .dataframe thead th {\n",
       "        text-align: right;\n",
       "    }\n",
       "</style>\n",
       "<table border=\"1\" class=\"dataframe\">\n",
       "  <thead>\n",
       "    <tr style=\"text-align: right;\">\n",
       "      <th></th>\n",
       "      <th>name</th>\n",
       "      <th>platform</th>\n",
       "      <th>year_of_release</th>\n",
       "      <th>genre</th>\n",
       "      <th>na_sales</th>\n",
       "      <th>eu_sales</th>\n",
       "      <th>jp_sales</th>\n",
       "      <th>other_sales</th>\n",
       "      <th>critic_score</th>\n",
       "      <th>user_score</th>\n",
       "      <th>rating</th>\n",
       "      <th>all_sales</th>\n",
       "    </tr>\n",
       "  </thead>\n",
       "  <tbody>\n",
       "    <tr>\n",
       "      <th>0</th>\n",
       "      <td>Wii Sports</td>\n",
       "      <td>Wii</td>\n",
       "      <td>2006</td>\n",
       "      <td>Sports</td>\n",
       "      <td>41.36</td>\n",
       "      <td>28.96</td>\n",
       "      <td>3.77</td>\n",
       "      <td>8.45</td>\n",
       "      <td>76.0</td>\n",
       "      <td>8.0</td>\n",
       "      <td>E</td>\n",
       "      <td>82.54</td>\n",
       "    </tr>\n",
       "    <tr>\n",
       "      <th>1</th>\n",
       "      <td>Super Mario Bros.</td>\n",
       "      <td>NES</td>\n",
       "      <td>1985</td>\n",
       "      <td>Platform</td>\n",
       "      <td>29.08</td>\n",
       "      <td>3.58</td>\n",
       "      <td>6.81</td>\n",
       "      <td>0.77</td>\n",
       "      <td>NaN</td>\n",
       "      <td>NaN</td>\n",
       "      <td>not</td>\n",
       "      <td>40.24</td>\n",
       "    </tr>\n",
       "    <tr>\n",
       "      <th>2</th>\n",
       "      <td>Mario Kart Wii</td>\n",
       "      <td>Wii</td>\n",
       "      <td>2008</td>\n",
       "      <td>Racing</td>\n",
       "      <td>15.68</td>\n",
       "      <td>12.76</td>\n",
       "      <td>3.79</td>\n",
       "      <td>3.29</td>\n",
       "      <td>82.0</td>\n",
       "      <td>8.3</td>\n",
       "      <td>E</td>\n",
       "      <td>35.52</td>\n",
       "    </tr>\n",
       "    <tr>\n",
       "      <th>3</th>\n",
       "      <td>Wii Sports Resort</td>\n",
       "      <td>Wii</td>\n",
       "      <td>2009</td>\n",
       "      <td>Sports</td>\n",
       "      <td>15.61</td>\n",
       "      <td>10.93</td>\n",
       "      <td>3.28</td>\n",
       "      <td>2.95</td>\n",
       "      <td>80.0</td>\n",
       "      <td>8.0</td>\n",
       "      <td>E</td>\n",
       "      <td>32.77</td>\n",
       "    </tr>\n",
       "    <tr>\n",
       "      <th>4</th>\n",
       "      <td>Pokemon Red/Pokemon Blue</td>\n",
       "      <td>GB</td>\n",
       "      <td>1996</td>\n",
       "      <td>Role-Playing</td>\n",
       "      <td>11.27</td>\n",
       "      <td>8.89</td>\n",
       "      <td>10.22</td>\n",
       "      <td>1.00</td>\n",
       "      <td>NaN</td>\n",
       "      <td>NaN</td>\n",
       "      <td>not</td>\n",
       "      <td>31.38</td>\n",
       "    </tr>\n",
       "  </tbody>\n",
       "</table>\n",
       "</div>"
      ],
      "text/plain": [
       "                       name platform  year_of_release         genre  na_sales  \\\n",
       "0                Wii Sports      Wii             2006        Sports     41.36   \n",
       "1         Super Mario Bros.      NES             1985      Platform     29.08   \n",
       "2            Mario Kart Wii      Wii             2008        Racing     15.68   \n",
       "3         Wii Sports Resort      Wii             2009        Sports     15.61   \n",
       "4  Pokemon Red/Pokemon Blue       GB             1996  Role-Playing     11.27   \n",
       "\n",
       "   eu_sales  jp_sales  other_sales  critic_score  user_score rating  all_sales  \n",
       "0     28.96      3.77         8.45          76.0         8.0      E      82.54  \n",
       "1      3.58      6.81         0.77           NaN         NaN    not      40.24  \n",
       "2     12.76      3.79         3.29          82.0         8.3      E      35.52  \n",
       "3     10.93      3.28         2.95          80.0         8.0      E      32.77  \n",
       "4      8.89     10.22         1.00           NaN         NaN    not      31.38  "
      ]
     },
     "metadata": {},
     "output_type": "display_data"
    }
   ],
   "source": [
    "# Создадим новый столбец all_sales, в котором суммируем продажи всех регионов\n",
    "df['all_sales'] = df['na_sales'] + df['eu_sales'] + df['jp_sales'] + df['other_sales']\n",
    "display(df.head())"
   ]
  },
  {
   "cell_type": "markdown",
   "metadata": {},
   "source": [
    "### Общие выводы по подготовке данных <a id='2f'></a>\n",
    "\n",
    "В процессе предобработки данных, названия столбцов приведены к нижнему регистру\n",
    "\n",
    "Выявлено, что столбец `user_score` содержит значения `tbd` в 2424 строках. `tbd`   означает \"To be determined\", что идентифицируется как \"будет определено позже\". Следовательно, пользователь еще не определился с оценкой игры. Таким образом, принято решение о том, корректной заменой будет медианное значение. В результате в столбце `user_score` значение `tbd` заменено на медианное\n",
    "\n",
    "Удалены пропуски по столбцам `name`, `year_of_release`, `genre`\n",
    "\n",
    "В столбце `Rating` значение `K-A` замененим на `E`, а нулевые значения замененим на `not`\n",
    "\n",
    "Для упрощения работы с параметром `year_of_release` его значения приведены к цельно численному типу. Значения параметра `user_score` привелениы к числовому формату типа `float`. \n",
    "\n",
    "Создан новый столбец `all_sales`, в котором суммированы продажи всех регионов"
   ]
  },
  {
   "cell_type": "markdown",
   "metadata": {},
   "source": [
    "## Исследовательский анализ <a id='3'></a>\n",
    "\n",
    "1. Анализ игр\n",
    "    - Определить количество выпущенных игр по годам. \n",
    "    - Определить глубину ретроспективного периода для последующего анализа\n",
    "\n",
    "\n",
    "2. Анализ платформ\n",
    "    - Определить объем продаж по платформам. \n",
    "    - Выделить платформы с наибольшими суммарными продажами, построить их распределение по годам. \n",
    "    - Найти характерный срок появления новых и исчезновения старых платформ\n",
    "\n",
    "\n",
    "3. Определение глубины ретроспективного периода\n",
    "    - Сформировать ретроспективный ряд (по ранее определенной глубине), достаточный для построения прогноза на 2017 год\n",
    "\n",
    "\n",
    "4. Анализ динамики продаж\n",
    "    - Выявить лидирующие по продажам платформы. \n",
    "    - Определить динамику продаж платформ по годам. \n",
    "    - Выявить потенциально прибыльные платформы. \n",
    "    - Построить график «ящик с усами» по глобальным продажам игр в разбивке по платформам\n",
    "\n",
    "\n",
    "5. Анализ влияния оценок\n",
    "    - Выявить зависимость влияния отзывов пользователей и критиков на продажи внутри одной популярной платформы. \n",
    "    - Построить диаграмму рассеяния и посчитать корреляцию между отзывами и продажами. \n",
    "    - Соотнести выводы с продажами игр на других платформах\n",
    "\n",
    "\n",
    "6. Анализ жанров\n",
    "    - Обозначить общее распределение игр по жанрам. \n",
    "    - Выявить наиболее прибыльные жанры. \n",
    "    - Соотнести популярность жанров с их продажами"
   ]
  },
  {
   "cell_type": "markdown",
   "metadata": {},
   "source": [
    "### Анализ игр <a id='3.1'></a>\n",
    "\n",
    "- Определить количество выпущенных игр по годам.\n",
    "- Определить глубину ретроспективного периода для последующего анализа"
   ]
  },
  {
   "cell_type": "code",
   "execution_count": 15,
   "metadata": {
    "scrolled": true
   },
   "outputs": [
    {
     "data": {
      "text/html": [
       "<div>\n",
       "<style scoped>\n",
       "    .dataframe tbody tr th:only-of-type {\n",
       "        vertical-align: middle;\n",
       "    }\n",
       "\n",
       "    .dataframe tbody tr th {\n",
       "        vertical-align: top;\n",
       "    }\n",
       "\n",
       "    .dataframe thead th {\n",
       "        text-align: right;\n",
       "    }\n",
       "</style>\n",
       "<table border=\"1\" class=\"dataframe\">\n",
       "  <thead>\n",
       "    <tr style=\"text-align: right;\">\n",
       "      <th>year_of_release</th>\n",
       "      <th>1980</th>\n",
       "      <th>1981</th>\n",
       "      <th>1982</th>\n",
       "      <th>1983</th>\n",
       "      <th>1984</th>\n",
       "      <th>1985</th>\n",
       "      <th>1986</th>\n",
       "      <th>1987</th>\n",
       "      <th>1988</th>\n",
       "      <th>1989</th>\n",
       "      <th>...</th>\n",
       "      <th>2007</th>\n",
       "      <th>2008</th>\n",
       "      <th>2009</th>\n",
       "      <th>2010</th>\n",
       "      <th>2011</th>\n",
       "      <th>2012</th>\n",
       "      <th>2013</th>\n",
       "      <th>2014</th>\n",
       "      <th>2015</th>\n",
       "      <th>2016</th>\n",
       "    </tr>\n",
       "    <tr>\n",
       "      <th>name</th>\n",
       "      <th></th>\n",
       "      <th></th>\n",
       "      <th></th>\n",
       "      <th></th>\n",
       "      <th></th>\n",
       "      <th></th>\n",
       "      <th></th>\n",
       "      <th></th>\n",
       "      <th></th>\n",
       "      <th></th>\n",
       "      <th></th>\n",
       "      <th></th>\n",
       "      <th></th>\n",
       "      <th></th>\n",
       "      <th></th>\n",
       "      <th></th>\n",
       "      <th></th>\n",
       "      <th></th>\n",
       "      <th></th>\n",
       "      <th></th>\n",
       "      <th></th>\n",
       "    </tr>\n",
       "  </thead>\n",
       "  <tbody>\n",
       "    <tr>\n",
       "      <th>Beyblade Burst</th>\n",
       "      <td>NaN</td>\n",
       "      <td>NaN</td>\n",
       "      <td>NaN</td>\n",
       "      <td>NaN</td>\n",
       "      <td>NaN</td>\n",
       "      <td>NaN</td>\n",
       "      <td>NaN</td>\n",
       "      <td>NaN</td>\n",
       "      <td>NaN</td>\n",
       "      <td>NaN</td>\n",
       "      <td>...</td>\n",
       "      <td>NaN</td>\n",
       "      <td>NaN</td>\n",
       "      <td>NaN</td>\n",
       "      <td>NaN</td>\n",
       "      <td>NaN</td>\n",
       "      <td>NaN</td>\n",
       "      <td>NaN</td>\n",
       "      <td>NaN</td>\n",
       "      <td>NaN</td>\n",
       "      <td>1.0</td>\n",
       "    </tr>\n",
       "    <tr>\n",
       "      <th>Fire Emblem Fates</th>\n",
       "      <td>NaN</td>\n",
       "      <td>NaN</td>\n",
       "      <td>NaN</td>\n",
       "      <td>NaN</td>\n",
       "      <td>NaN</td>\n",
       "      <td>NaN</td>\n",
       "      <td>NaN</td>\n",
       "      <td>NaN</td>\n",
       "      <td>NaN</td>\n",
       "      <td>NaN</td>\n",
       "      <td>...</td>\n",
       "      <td>NaN</td>\n",
       "      <td>NaN</td>\n",
       "      <td>NaN</td>\n",
       "      <td>NaN</td>\n",
       "      <td>NaN</td>\n",
       "      <td>NaN</td>\n",
       "      <td>NaN</td>\n",
       "      <td>NaN</td>\n",
       "      <td>1.0</td>\n",
       "      <td>NaN</td>\n",
       "    </tr>\n",
       "    <tr>\n",
       "      <th>Frozen: Olaf's Quest</th>\n",
       "      <td>NaN</td>\n",
       "      <td>NaN</td>\n",
       "      <td>NaN</td>\n",
       "      <td>NaN</td>\n",
       "      <td>NaN</td>\n",
       "      <td>NaN</td>\n",
       "      <td>NaN</td>\n",
       "      <td>NaN</td>\n",
       "      <td>NaN</td>\n",
       "      <td>NaN</td>\n",
       "      <td>...</td>\n",
       "      <td>NaN</td>\n",
       "      <td>NaN</td>\n",
       "      <td>NaN</td>\n",
       "      <td>NaN</td>\n",
       "      <td>NaN</td>\n",
       "      <td>NaN</td>\n",
       "      <td>2.0</td>\n",
       "      <td>NaN</td>\n",
       "      <td>NaN</td>\n",
       "      <td>NaN</td>\n",
       "    </tr>\n",
       "    <tr>\n",
       "      <th>Haikyu!! Cross Team Match!</th>\n",
       "      <td>NaN</td>\n",
       "      <td>NaN</td>\n",
       "      <td>NaN</td>\n",
       "      <td>NaN</td>\n",
       "      <td>NaN</td>\n",
       "      <td>NaN</td>\n",
       "      <td>NaN</td>\n",
       "      <td>NaN</td>\n",
       "      <td>NaN</td>\n",
       "      <td>NaN</td>\n",
       "      <td>...</td>\n",
       "      <td>NaN</td>\n",
       "      <td>NaN</td>\n",
       "      <td>NaN</td>\n",
       "      <td>NaN</td>\n",
       "      <td>NaN</td>\n",
       "      <td>NaN</td>\n",
       "      <td>NaN</td>\n",
       "      <td>NaN</td>\n",
       "      <td>NaN</td>\n",
       "      <td>1.0</td>\n",
       "    </tr>\n",
       "    <tr>\n",
       "      <th>Tales of Xillia 2</th>\n",
       "      <td>NaN</td>\n",
       "      <td>NaN</td>\n",
       "      <td>NaN</td>\n",
       "      <td>NaN</td>\n",
       "      <td>NaN</td>\n",
       "      <td>NaN</td>\n",
       "      <td>NaN</td>\n",
       "      <td>NaN</td>\n",
       "      <td>NaN</td>\n",
       "      <td>NaN</td>\n",
       "      <td>...</td>\n",
       "      <td>NaN</td>\n",
       "      <td>NaN</td>\n",
       "      <td>NaN</td>\n",
       "      <td>NaN</td>\n",
       "      <td>NaN</td>\n",
       "      <td>1.0</td>\n",
       "      <td>NaN</td>\n",
       "      <td>NaN</td>\n",
       "      <td>NaN</td>\n",
       "      <td>NaN</td>\n",
       "    </tr>\n",
       "  </tbody>\n",
       "</table>\n",
       "<p>5 rows × 37 columns</p>\n",
       "</div>"
      ],
      "text/plain": [
       "year_of_release              1980  1981  1982  1983  1984  1985  1986  1987  \\\n",
       "name                                                                          \n",
       " Beyblade Burst               NaN   NaN   NaN   NaN   NaN   NaN   NaN   NaN   \n",
       " Fire Emblem Fates            NaN   NaN   NaN   NaN   NaN   NaN   NaN   NaN   \n",
       " Frozen: Olaf's Quest         NaN   NaN   NaN   NaN   NaN   NaN   NaN   NaN   \n",
       " Haikyu!! Cross Team Match!   NaN   NaN   NaN   NaN   NaN   NaN   NaN   NaN   \n",
       " Tales of Xillia 2            NaN   NaN   NaN   NaN   NaN   NaN   NaN   NaN   \n",
       "\n",
       "year_of_release              1988  1989  ...  2007  2008  2009  2010  2011  \\\n",
       "name                                     ...                                 \n",
       " Beyblade Burst               NaN   NaN  ...   NaN   NaN   NaN   NaN   NaN   \n",
       " Fire Emblem Fates            NaN   NaN  ...   NaN   NaN   NaN   NaN   NaN   \n",
       " Frozen: Olaf's Quest         NaN   NaN  ...   NaN   NaN   NaN   NaN   NaN   \n",
       " Haikyu!! Cross Team Match!   NaN   NaN  ...   NaN   NaN   NaN   NaN   NaN   \n",
       " Tales of Xillia 2            NaN   NaN  ...   NaN   NaN   NaN   NaN   NaN   \n",
       "\n",
       "year_of_release              2012  2013  2014  2015  2016  \n",
       "name                                                       \n",
       " Beyblade Burst               NaN   NaN   NaN   NaN   1.0  \n",
       " Fire Emblem Fates            NaN   NaN   NaN   1.0   NaN  \n",
       " Frozen: Olaf's Quest         NaN   2.0   NaN   NaN   NaN  \n",
       " Haikyu!! Cross Team Match!   NaN   NaN   NaN   NaN   1.0  \n",
       " Tales of Xillia 2            1.0   NaN   NaN   NaN   NaN  \n",
       "\n",
       "[5 rows x 37 columns]"
      ]
     },
     "metadata": {},
     "output_type": "display_data"
    }
   ],
   "source": [
    "# Определим количество выпущенных игр по годам\n",
    "df_year = df.pivot_table(index='name', columns='year_of_release', values='genre', aggfunc='count')\n",
    "display(df_year.head())"
   ]
  },
  {
   "cell_type": "code",
   "execution_count": 16,
   "metadata": {},
   "outputs": [
    {
     "data": {
      "image/png": "[encoded data removed]",
      "text/plain": [
       "<Figure size 720x504 with 2 Axes>"
      ]
     },
     "metadata": {
      "needs_background": "light"
     },
     "output_type": "display_data"
    }
   ],
   "source": [
    "# Постороим тепловую карту\n",
    "plt.figure(figsize=(10, 7))\n",
    "heatmap = sns.heatmap(df_year)\n",
    "heatmap.set_title('sales_dames_year')\n",
    "plt.show()"
   ]
  },
  {
   "cell_type": "markdown",
   "metadata": {},
   "source": [
    "Постороим график выпуска игр в количестве по годам (без учета платформ)"
   ]
  },
  {
   "cell_type": "code",
   "execution_count": 17,
   "metadata": {
    "scrolled": true
   },
   "outputs": [
    {
     "data": {
      "image/png": "[encoded data removed]",
      "text/plain": [
       "<Figure size 504x360 with 1 Axes>"
      ]
     },
     "metadata": {
      "needs_background": "light"
     },
     "output_type": "display_data"
    }
   ],
   "source": [
    "# Подготовим таблицу\n",
    "df_year_game = df.loc[:, ['name', 'year_of_release']]\n",
    "df_year_game = df_year_game.drop_duplicates().reset_index(drop=True)\n",
    "\n",
    "# Проведем группировку\n",
    "df_year_game_all = df_year_game.pivot_table(index='year_of_release', values='name', aggfunc='count')\n",
    "\n",
    "# Постороим график количества игр\n",
    "df_year_game_all.plot(figsize=(7, 5), title='sales_year')\n",
    "plt.show()"
   ]
  },
  {
   "cell_type": "code",
   "execution_count": 18,
   "metadata": {},
   "outputs": [
    {
     "name": "stdout",
     "output_type": "stream",
     "text": [
      "С 2002 по 2011 выпущено  63 % от всех игр\n"
     ]
    }
   ],
   "source": [
    "# Вычимслим долю от всего числа игр в самые активные годы\n",
    "df_year_game_all['all'] = df_year_game_all['name'].sum()\n",
    "df_year_game_all['perc_all'] = (df_year_game_all['name'] / df_year_game_all['all']) * 100\n",
    "print('С 2002 по 2011 выпущено ', int(df_year_game_all.loc[2002:2011, 'perc_all'].sum()), '% от всех игр')"
   ]
  },
  {
   "cell_type": "markdown",
   "metadata": {},
   "source": [
    "Проведенный анализ общих продаж платформ показывает, что наибольшие продажи происходили в период **с 2002 по 2011 годы**. Этот период и будет наиболее удачным для прогнозирования"
   ]
  },
  {
   "cell_type": "markdown",
   "metadata": {},
   "source": [
    "### Анализ платформ <a id='3.2'></a>\n",
    "\n",
    "- Определить объем продаж по платформам.\n",
    "- Выделить платформы с наибольшими суммарными продажами, построить их распределение по годам.\n",
    "- Найти характерный срок появления новых и исчезновения старых платформ"
   ]
  },
  {
   "cell_type": "code",
   "execution_count": 19,
   "metadata": {},
   "outputs": [
    {
     "data": {
      "text/plain": [
       "platform\n",
       "PS2     1233.56\n",
       "X360     961.24\n",
       "PS3      931.34\n",
       "Wii      891.18\n",
       "DS       802.78\n",
       "PS       727.58\n",
       "PS4      314.14\n",
       "GBA      312.88\n",
       "PSP      289.53\n",
       "3DS      257.81\n",
       "PC       255.76\n",
       "GB       254.43\n",
       "XB       251.57\n",
       "NES      251.05\n",
       "N64      218.01\n",
       "SNES     200.04\n",
       "GC       196.73\n",
       "XOne     159.32\n",
       "2600      86.48\n",
       "WiiU      82.19\n",
       "PSV       53.81\n",
       "SAT       33.59\n",
       "GEN       28.35\n",
       "DC        15.95\n",
       "SCD        1.86\n",
       "NG         1.44\n",
       "WS         1.42\n",
       "TG16       0.16\n",
       "3DO        0.10\n",
       "GG         0.04\n",
       "PCFX       0.03\n",
       "Name: all_sales, dtype: float64"
      ]
     },
     "metadata": {},
     "output_type": "display_data"
    }
   ],
   "source": [
    "#Определим объем продаж по платформам\n",
    "df_platform = df.groupby('platform')['all_sales'].sum().sort_values(ascending=False)\n",
    "display(df_platform)"
   ]
  },
  {
   "cell_type": "code",
   "execution_count": 20,
   "metadata": {
    "scrolled": true
   },
   "outputs": [
    {
     "data": {
      "text/html": [
       "<div>\n",
       "<style scoped>\n",
       "    .dataframe tbody tr th:only-of-type {\n",
       "        vertical-align: middle;\n",
       "    }\n",
       "\n",
       "    .dataframe tbody tr th {\n",
       "        vertical-align: top;\n",
       "    }\n",
       "\n",
       "    .dataframe thead th {\n",
       "        text-align: right;\n",
       "    }\n",
       "</style>\n",
       "<table border=\"1\" class=\"dataframe\">\n",
       "  <thead>\n",
       "    <tr style=\"text-align: right;\">\n",
       "      <th>year_of_release</th>\n",
       "      <th>1985</th>\n",
       "      <th>1994</th>\n",
       "      <th>1995</th>\n",
       "      <th>1996</th>\n",
       "      <th>1997</th>\n",
       "      <th>1998</th>\n",
       "      <th>1999</th>\n",
       "      <th>2000</th>\n",
       "      <th>2001</th>\n",
       "      <th>2002</th>\n",
       "      <th>...</th>\n",
       "      <th>2007</th>\n",
       "      <th>2008</th>\n",
       "      <th>2009</th>\n",
       "      <th>2010</th>\n",
       "      <th>2011</th>\n",
       "      <th>2012</th>\n",
       "      <th>2013</th>\n",
       "      <th>2014</th>\n",
       "      <th>2015</th>\n",
       "      <th>2016</th>\n",
       "    </tr>\n",
       "    <tr>\n",
       "      <th>platform</th>\n",
       "      <th></th>\n",
       "      <th></th>\n",
       "      <th></th>\n",
       "      <th></th>\n",
       "      <th></th>\n",
       "      <th></th>\n",
       "      <th></th>\n",
       "      <th></th>\n",
       "      <th></th>\n",
       "      <th></th>\n",
       "      <th></th>\n",
       "      <th></th>\n",
       "      <th></th>\n",
       "      <th></th>\n",
       "      <th></th>\n",
       "      <th></th>\n",
       "      <th></th>\n",
       "      <th></th>\n",
       "      <th></th>\n",
       "      <th></th>\n",
       "      <th></th>\n",
       "    </tr>\n",
       "  </thead>\n",
       "  <tbody>\n",
       "    <tr>\n",
       "      <th>DS</th>\n",
       "      <td>0.02</td>\n",
       "      <td>NaN</td>\n",
       "      <td>NaN</td>\n",
       "      <td>NaN</td>\n",
       "      <td>NaN</td>\n",
       "      <td>NaN</td>\n",
       "      <td>NaN</td>\n",
       "      <td>NaN</td>\n",
       "      <td>NaN</td>\n",
       "      <td>NaN</td>\n",
       "      <td>...</td>\n",
       "      <td>146.94</td>\n",
       "      <td>145.31</td>\n",
       "      <td>119.54</td>\n",
       "      <td>85.02</td>\n",
       "      <td>26.18</td>\n",
       "      <td>11.01</td>\n",
       "      <td>1.54</td>\n",
       "      <td>NaN</td>\n",
       "      <td>NaN</td>\n",
       "      <td>NaN</td>\n",
       "    </tr>\n",
       "    <tr>\n",
       "      <th>PS</th>\n",
       "      <td>NaN</td>\n",
       "      <td>6.03</td>\n",
       "      <td>35.96</td>\n",
       "      <td>94.7</td>\n",
       "      <td>136.17</td>\n",
       "      <td>169.49</td>\n",
       "      <td>144.53</td>\n",
       "      <td>96.37</td>\n",
       "      <td>35.59</td>\n",
       "      <td>6.67</td>\n",
       "      <td>...</td>\n",
       "      <td>NaN</td>\n",
       "      <td>NaN</td>\n",
       "      <td>NaN</td>\n",
       "      <td>NaN</td>\n",
       "      <td>NaN</td>\n",
       "      <td>NaN</td>\n",
       "      <td>NaN</td>\n",
       "      <td>NaN</td>\n",
       "      <td>NaN</td>\n",
       "      <td>NaN</td>\n",
       "    </tr>\n",
       "    <tr>\n",
       "      <th>PS2</th>\n",
       "      <td>NaN</td>\n",
       "      <td>NaN</td>\n",
       "      <td>NaN</td>\n",
       "      <td>NaN</td>\n",
       "      <td>NaN</td>\n",
       "      <td>NaN</td>\n",
       "      <td>NaN</td>\n",
       "      <td>39.17</td>\n",
       "      <td>166.43</td>\n",
       "      <td>205.38</td>\n",
       "      <td>...</td>\n",
       "      <td>75.99</td>\n",
       "      <td>53.90</td>\n",
       "      <td>26.40</td>\n",
       "      <td>5.64</td>\n",
       "      <td>0.45</td>\n",
       "      <td>NaN</td>\n",
       "      <td>NaN</td>\n",
       "      <td>NaN</td>\n",
       "      <td>NaN</td>\n",
       "      <td>NaN</td>\n",
       "    </tr>\n",
       "    <tr>\n",
       "      <th>PS3</th>\n",
       "      <td>NaN</td>\n",
       "      <td>NaN</td>\n",
       "      <td>NaN</td>\n",
       "      <td>NaN</td>\n",
       "      <td>NaN</td>\n",
       "      <td>NaN</td>\n",
       "      <td>NaN</td>\n",
       "      <td>NaN</td>\n",
       "      <td>NaN</td>\n",
       "      <td>NaN</td>\n",
       "      <td>...</td>\n",
       "      <td>73.19</td>\n",
       "      <td>118.52</td>\n",
       "      <td>130.93</td>\n",
       "      <td>142.17</td>\n",
       "      <td>156.78</td>\n",
       "      <td>107.36</td>\n",
       "      <td>113.25</td>\n",
       "      <td>47.76</td>\n",
       "      <td>16.82</td>\n",
       "      <td>3.60</td>\n",
       "    </tr>\n",
       "    <tr>\n",
       "      <th>Wii</th>\n",
       "      <td>NaN</td>\n",
       "      <td>NaN</td>\n",
       "      <td>NaN</td>\n",
       "      <td>NaN</td>\n",
       "      <td>NaN</td>\n",
       "      <td>NaN</td>\n",
       "      <td>NaN</td>\n",
       "      <td>NaN</td>\n",
       "      <td>NaN</td>\n",
       "      <td>NaN</td>\n",
       "      <td>...</td>\n",
       "      <td>152.77</td>\n",
       "      <td>171.32</td>\n",
       "      <td>206.97</td>\n",
       "      <td>127.95</td>\n",
       "      <td>59.65</td>\n",
       "      <td>21.71</td>\n",
       "      <td>8.59</td>\n",
       "      <td>3.75</td>\n",
       "      <td>1.14</td>\n",
       "      <td>0.18</td>\n",
       "    </tr>\n",
       "    <tr>\n",
       "      <th>X360</th>\n",
       "      <td>NaN</td>\n",
       "      <td>NaN</td>\n",
       "      <td>NaN</td>\n",
       "      <td>NaN</td>\n",
       "      <td>NaN</td>\n",
       "      <td>NaN</td>\n",
       "      <td>NaN</td>\n",
       "      <td>NaN</td>\n",
       "      <td>NaN</td>\n",
       "      <td>NaN</td>\n",
       "      <td>...</td>\n",
       "      <td>95.41</td>\n",
       "      <td>135.26</td>\n",
       "      <td>120.29</td>\n",
       "      <td>170.03</td>\n",
       "      <td>143.84</td>\n",
       "      <td>99.74</td>\n",
       "      <td>88.58</td>\n",
       "      <td>34.74</td>\n",
       "      <td>11.96</td>\n",
       "      <td>1.52</td>\n",
       "    </tr>\n",
       "  </tbody>\n",
       "</table>\n",
       "<p>6 rows × 24 columns</p>\n",
       "</div>"
      ],
      "text/plain": [
       "year_of_release  1985  1994   1995  1996    1997    1998    1999   2000  \\\n",
       "platform                                                                  \n",
       "DS               0.02   NaN    NaN   NaN     NaN     NaN     NaN    NaN   \n",
       "PS                NaN  6.03  35.96  94.7  136.17  169.49  144.53  96.37   \n",
       "PS2               NaN   NaN    NaN   NaN     NaN     NaN     NaN  39.17   \n",
       "PS3               NaN   NaN    NaN   NaN     NaN     NaN     NaN    NaN   \n",
       "Wii               NaN   NaN    NaN   NaN     NaN     NaN     NaN    NaN   \n",
       "X360              NaN   NaN    NaN   NaN     NaN     NaN     NaN    NaN   \n",
       "\n",
       "year_of_release    2001    2002  ...    2007    2008    2009    2010    2011  \\\n",
       "platform                         ...                                           \n",
       "DS                  NaN     NaN  ...  146.94  145.31  119.54   85.02   26.18   \n",
       "PS                35.59    6.67  ...     NaN     NaN     NaN     NaN     NaN   \n",
       "PS2              166.43  205.38  ...   75.99   53.90   26.40    5.64    0.45   \n",
       "PS3                 NaN     NaN  ...   73.19  118.52  130.93  142.17  156.78   \n",
       "Wii                 NaN     NaN  ...  152.77  171.32  206.97  127.95   59.65   \n",
       "X360                NaN     NaN  ...   95.41  135.26  120.29  170.03  143.84   \n",
       "\n",
       "year_of_release    2012    2013   2014   2015  2016  \n",
       "platform                                             \n",
       "DS                11.01    1.54    NaN    NaN   NaN  \n",
       "PS                  NaN     NaN    NaN    NaN   NaN  \n",
       "PS2                 NaN     NaN    NaN    NaN   NaN  \n",
       "PS3              107.36  113.25  47.76  16.82  3.60  \n",
       "Wii               21.71    8.59   3.75   1.14  0.18  \n",
       "X360              99.74   88.58  34.74  11.96  1.52  \n",
       "\n",
       "[6 rows x 24 columns]"
      ]
     },
     "metadata": {},
     "output_type": "display_data"
    }
   ],
   "source": [
    "# Платформы с наибольшими суммарными продажами: PS2, X360, PS3, Wii, DS, PS\n",
    "# построить распределение их продаж по годам\n",
    "\n",
    "# Создадим список наиболее продаваемых платформ\n",
    "platform_top = ['PS2', 'X360', 'PS3', 'Wii', 'DS', 'PS']\n",
    "\n",
    "# Сделаем срез данных методом query\n",
    "df_platform_top = df.query('platform in @platform_top')\n",
    "\n",
    "# Сформируем сводную таблицу\n",
    "df_platform_top_pivot = df_platform_top.pivot_table(index='platform', columns='year_of_release', values='all_sales', aggfunc='sum')\n",
    "display(df_platform_top_pivot)"
   ]
  },
  {
   "cell_type": "code",
   "execution_count": 21,
   "metadata": {
    "scrolled": true
   },
   "outputs": [
    {
     "data": {
      "image/png": "[encoded data removed]",
      "text/plain": [
       "<Figure size 720x504 with 2 Axes>"
      ]
     },
     "metadata": {
      "needs_background": "light"
     },
     "output_type": "display_data"
    }
   ],
   "source": [
    "# Построим тепловую карту\n",
    "plt.figure(figsize=(10, 7))\n",
    "heatmap = sns.heatmap(df_platform_top_pivot)\n",
    "heatmap.set_title=('platform_top')\n",
    "plt.show()"
   ]
  },
  {
   "cell_type": "markdown",
   "metadata": {},
   "source": [
    "Срок жизни платформы - от 10 до 12 лет\n",
    "\n",
    "Максимальных продаж как правило достигает на 3-й год и держит этот уровень от 3 до 5 лет\n",
    "\n",
    "Указанный ранее интервал с 2002 по 2011 гг., говорит о пересечение в это период пиковых продаж нескольких платформ. \n",
    "\n",
    "Однако, для прогнозирования продаж на 2017 год необходимо учесть и последние годы. Поскольку, 2016 год еще не имеет полных данных о продажах, то для прогноза возьмем период **с 2002 по 2015 годы**"
   ]
  },
  {
   "cell_type": "markdown",
   "metadata": {},
   "source": [
    "**Уточним глубину ретроспективного периода**"
   ]
  },
  {
   "cell_type": "code",
   "execution_count": 22,
   "metadata": {
    "scrolled": true
   },
   "outputs": [
    {
     "data": {
      "image/png": "[encoded data removed]",
      "text/plain": [
       "<Figure size 720x504 with 2 Axes>"
      ]
     },
     "metadata": {
      "needs_background": "light"
     },
     "output_type": "display_data"
    }
   ],
   "source": [
    "# Сводная табюлица по всем платформам\n",
    "df_platform_all_pivot = df.pivot_table(index='platform', columns='year_of_release', values='all_sales', aggfunc='sum')\n",
    "\n",
    "# Построим тепловую карту\n",
    "plt.figure(figsize=(10, 7))\n",
    "heatmap = sns.heatmap(df_platform_all_pivot)\n",
    "heatmap.set_title=('platform_all')\n",
    "plt.show()"
   ]
  },
  {
   "cell_type": "code",
   "execution_count": 23,
   "metadata": {
    "scrolled": true
   },
   "outputs": [
    {
     "data": {
      "image/png": "[encoded data removed]",
      "text/plain": [
       "<Figure size 720x504 with 1 Axes>"
      ]
     },
     "metadata": {
      "needs_background": "light"
     },
     "output_type": "display_data"
    }
   ],
   "source": [
    "# График продаж\n",
    "platform_list = df['platform'].unique()\n",
    "for i in platform_list:\n",
    "    df.loc[df['platform'] == i].groupby('year_of_release')['all_sales'].sum().plot(legend={i}, figsize=(10, 7)).legend(platform_list)"
   ]
  },
  {
   "cell_type": "code",
   "execution_count": 24,
   "metadata": {
    "scrolled": true
   },
   "outputs": [
    {
     "name": "stdout",
     "output_type": "stream",
     "text": [
      "Средний срок жизненного цикла платформы 7.67741935483871\n",
      "Медианный срок жизненного цикла платформы 7.0\n"
     ]
    }
   ],
   "source": [
    "df_platform_year_sale = df.loc[:, ['platform', 'year_of_release']]\n",
    "df_platform_year_sale = df_platform_year_sale.drop_duplicates().reset_index(drop=True)\n",
    "df_platform_year_sale_count = df_platform_year_sale.groupby('platform')['year_of_release'].count()\n",
    "print('Средний срок жизненного цикла платформы', df_platform_year_sale_count.mean())\n",
    "print('Медианный срок жизненного цикла платформы', df_platform_year_sale_count.median())"
   ]
  },
  {
   "cell_type": "code",
   "execution_count": 25,
   "metadata": {},
   "outputs": [
    {
     "name": "stdout",
     "output_type": "stream",
     "text": [
      "С 2013 по 2016 выпущено  10 % от всех игр\n"
     ]
    }
   ],
   "source": [
    "# Вычимслим долю от всего числа игр в актуальные годы\n",
    "print('С 2013 по 2016 выпущено ', int(df_year_game_all.loc[2013:2016, 'perc_all'].sum()), '% от всех игр')"
   ]
  },
  {
   "cell_type": "markdown",
   "metadata": {},
   "source": [
    "Уточненные данные показали, что срок жизненного цикла платформы составляет 7 лет (по медиане) и 7,6 лет (по среднему).\n",
    "\n",
    "Как утверждалось ранее, максимальных продаж платформа достигает на 3-5 годы. На основании расчетных денных это срок можно уточнить до 3.5-3.8 лет. Т.о., для прогнозирования пика продаж, необходимо принять ретроспективный период равный 4 годам – **с 2013 по 2016 гг**."
   ]
  },
  {
   "cell_type": "markdown",
   "metadata": {},
   "source": [
    "### Определение глубины ретроспективного периода <a id='3.3'></a>\n",
    "\n",
    "- Сформировать ретроспективный ряд (по ранее определенной глубине), достаточный для построения прогноза на 2017 год"
   ]
  },
  {
   "cell_type": "code",
   "execution_count": 26,
   "metadata": {},
   "outputs": [
    {
     "data": {
      "text/html": [
       "<div>\n",
       "<style scoped>\n",
       "    .dataframe tbody tr th:only-of-type {\n",
       "        vertical-align: middle;\n",
       "    }\n",
       "\n",
       "    .dataframe tbody tr th {\n",
       "        vertical-align: top;\n",
       "    }\n",
       "\n",
       "    .dataframe thead th {\n",
       "        text-align: right;\n",
       "    }\n",
       "</style>\n",
       "<table border=\"1\" class=\"dataframe\">\n",
       "  <thead>\n",
       "    <tr style=\"text-align: right;\">\n",
       "      <th></th>\n",
       "      <th>name</th>\n",
       "      <th>platform</th>\n",
       "      <th>year_of_release</th>\n",
       "      <th>genre</th>\n",
       "      <th>na_sales</th>\n",
       "      <th>eu_sales</th>\n",
       "      <th>jp_sales</th>\n",
       "      <th>other_sales</th>\n",
       "      <th>critic_score</th>\n",
       "      <th>user_score</th>\n",
       "      <th>rating</th>\n",
       "      <th>all_sales</th>\n",
       "    </tr>\n",
       "  </thead>\n",
       "  <tbody>\n",
       "    <tr>\n",
       "      <th>16</th>\n",
       "      <td>Grand Theft Auto V</td>\n",
       "      <td>PS3</td>\n",
       "      <td>2013</td>\n",
       "      <td>Action</td>\n",
       "      <td>7.02</td>\n",
       "      <td>9.09</td>\n",
       "      <td>0.98</td>\n",
       "      <td>3.96</td>\n",
       "      <td>97.0</td>\n",
       "      <td>8.2</td>\n",
       "      <td>M</td>\n",
       "      <td>21.05</td>\n",
       "    </tr>\n",
       "    <tr>\n",
       "      <th>23</th>\n",
       "      <td>Grand Theft Auto V</td>\n",
       "      <td>X360</td>\n",
       "      <td>2013</td>\n",
       "      <td>Action</td>\n",
       "      <td>9.66</td>\n",
       "      <td>5.14</td>\n",
       "      <td>0.06</td>\n",
       "      <td>1.41</td>\n",
       "      <td>97.0</td>\n",
       "      <td>8.1</td>\n",
       "      <td>M</td>\n",
       "      <td>16.27</td>\n",
       "    </tr>\n",
       "    <tr>\n",
       "      <th>31</th>\n",
       "      <td>Call of Duty: Black Ops 3</td>\n",
       "      <td>PS4</td>\n",
       "      <td>2015</td>\n",
       "      <td>Shooter</td>\n",
       "      <td>6.03</td>\n",
       "      <td>5.86</td>\n",
       "      <td>0.36</td>\n",
       "      <td>2.38</td>\n",
       "      <td>NaN</td>\n",
       "      <td>NaN</td>\n",
       "      <td>not</td>\n",
       "      <td>14.63</td>\n",
       "    </tr>\n",
       "    <tr>\n",
       "      <th>33</th>\n",
       "      <td>Pokemon X/Pokemon Y</td>\n",
       "      <td>3DS</td>\n",
       "      <td>2013</td>\n",
       "      <td>Role-Playing</td>\n",
       "      <td>5.28</td>\n",
       "      <td>4.19</td>\n",
       "      <td>4.35</td>\n",
       "      <td>0.78</td>\n",
       "      <td>NaN</td>\n",
       "      <td>NaN</td>\n",
       "      <td>not</td>\n",
       "      <td>14.60</td>\n",
       "    </tr>\n",
       "    <tr>\n",
       "      <th>42</th>\n",
       "      <td>Grand Theft Auto V</td>\n",
       "      <td>PS4</td>\n",
       "      <td>2014</td>\n",
       "      <td>Action</td>\n",
       "      <td>3.96</td>\n",
       "      <td>6.31</td>\n",
       "      <td>0.38</td>\n",
       "      <td>1.97</td>\n",
       "      <td>97.0</td>\n",
       "      <td>8.3</td>\n",
       "      <td>M</td>\n",
       "      <td>12.62</td>\n",
       "    </tr>\n",
       "  </tbody>\n",
       "</table>\n",
       "</div>"
      ],
      "text/plain": [
       "                         name platform  year_of_release         genre  \\\n",
       "16         Grand Theft Auto V      PS3             2013        Action   \n",
       "23         Grand Theft Auto V     X360             2013        Action   \n",
       "31  Call of Duty: Black Ops 3      PS4             2015       Shooter   \n",
       "33        Pokemon X/Pokemon Y      3DS             2013  Role-Playing   \n",
       "42         Grand Theft Auto V      PS4             2014        Action   \n",
       "\n",
       "    na_sales  eu_sales  jp_sales  other_sales  critic_score  user_score  \\\n",
       "16      7.02      9.09      0.98         3.96          97.0         8.2   \n",
       "23      9.66      5.14      0.06         1.41          97.0         8.1   \n",
       "31      6.03      5.86      0.36         2.38           NaN         NaN   \n",
       "33      5.28      4.19      4.35         0.78           NaN         NaN   \n",
       "42      3.96      6.31      0.38         1.97          97.0         8.3   \n",
       "\n",
       "   rating  all_sales  \n",
       "16      M      21.05  \n",
       "23      M      16.27  \n",
       "31    not      14.63  \n",
       "33    not      14.60  \n",
       "42      M      12.62  "
      ]
     },
     "metadata": {},
     "output_type": "display_data"
    }
   ],
   "source": [
    "# Методом query сделаем срез продаж для прогноза (с 2002 по 2015 годы)\n",
    "# Создадим список годов (с 2002 по 2015)\n",
    "start = 2013\n",
    "fin = 2016\n",
    "years = []\n",
    "for i in range(start, fin+1, 1):\n",
    "    years.append(i)\n",
    "\n",
    "# Сделаем срез данных методом query\n",
    "df_fores = df.query('year_of_release in @years')\n",
    "display(df_fores.head())"
   ]
  },
  {
   "cell_type": "markdown",
   "metadata": {},
   "source": [
    "### Анализ динамики продаж <a id='3.4'></a>\n",
    "\n",
    "- Выявить лидирующие по продажам платформы.\n",
    "- Определить динамику продаж платформ по годам.\n",
    "- Выявить потенциально прибыльные платформы.\n",
    "- Построить график «ящик с усами» по глобальным продажам игр в разбивке по платформам"
   ]
  },
  {
   "cell_type": "code",
   "execution_count": 27,
   "metadata": {
    "scrolled": false
   },
   "outputs": [
    {
     "data": {
      "image/png": "[encoded data removed]",
      "text/plain": [
       "<Figure size 648x360 with 2 Axes>"
      ]
     },
     "metadata": {
      "needs_background": "light"
     },
     "output_type": "display_data"
    }
   ],
   "source": [
    "# Выявим лидирующие по продажам платформы\n",
    "# С поморщью тепловой карты определим динамику продаж платформ по годам\n",
    "\n",
    "df_fores_pivot = df_fores.pivot_table(index='platform', columns='year_of_release', values='all_sales', aggfunc='sum')\n",
    "plt.figure(figsize=(9, 5))\n",
    "heatmap = sns.heatmap(df_fores_pivot)\n",
    "heatmap.set_title=('platform_sales')\n",
    "plt.show()"
   ]
  },
  {
   "cell_type": "code",
   "execution_count": 28,
   "metadata": {
    "scrolled": true
   },
   "outputs": [
    {
     "data": {
      "image/png": "[encoded data removed]",
      "text/plain": [
       "<Figure size 720x504 with 1 Axes>"
      ]
     },
     "metadata": {
      "needs_background": "light"
     },
     "output_type": "display_data"
    }
   ],
   "source": [
    "# График продаж\n",
    "platform_list_top = df_fores['platform'].unique()\n",
    "for i in platform_list_top:\n",
    "    df_fores.loc[df_fores['platform'] == i].groupby('year_of_release')['all_sales'].sum().plot(legend={i}, figsize=(10, 7)).legend(platform_list_top)"
   ]
  },
  {
   "cell_type": "markdown",
   "metadata": {},
   "source": [
    "График `heatmap` показал, что по состоянию на 2016 год, потенциально прибыльными являются платформы `PS4` и `XOne`. Также «темной лошадкой» можно считать платформу `WiiU` – на момент 2016 года нет четкого поднимания, будет она приказывать рост или нет. Однако, ее также можно считать потенциально перспективной.\n",
    "\n",
    "Построим диаграмму размаха для всех платформ за период и для двух наиболее перспективных"
   ]
  },
  {
   "cell_type": "code",
   "execution_count": 29,
   "metadata": {
    "scrolled": true
   },
   "outputs": [
    {
     "data": {
      "image/png": "[encoded data removed]",
      "text/plain": [
       "<Figure size 432x288 with 1 Axes>"
      ]
     },
     "metadata": {
      "needs_background": "light"
     },
     "output_type": "display_data"
    }
   ],
   "source": [
    "# Построим диаграмму размаха по глобальным продажам игр в разбивке по платформам\n",
    "# Без ограничений по оси OY\n",
    "df_fores.loc[:, ['platform', 'all_sales']].boxplot()\n",
    "plt.show()"
   ]
  },
  {
   "cell_type": "code",
   "execution_count": 30,
   "metadata": {
    "scrolled": false
   },
   "outputs": [
    {
     "data": {
      "image/png": "[encoded data removed]",
      "text/plain": [
       "<Figure size 576x360 with 1 Axes>"
      ]
     },
     "metadata": {
      "needs_background": "light"
     },
     "output_type": "display_data"
    }
   ],
   "source": [
    "# В связи с значительными выбросами, введем оганичения по оси OY\n",
    "plt.figure(figsize=(8, 5))\n",
    "plt.ylim(0, 3)\n",
    "df_fores.loc[:, ['platform', 'all_sales']].boxplot()\n",
    "plt.show()"
   ]
  },
  {
   "cell_type": "markdown",
   "metadata": {},
   "source": [
    "Построим диаграмму размаха для двух самых **актуальных** платформ за уточненный период"
   ]
  },
  {
   "cell_type": "code",
   "execution_count": 31,
   "metadata": {
    "scrolled": true
   },
   "outputs": [
    {
     "data": {
      "image/png": "[encoded data removed]",
      "text/plain": [
       "<Figure size 432x288 with 1 Axes>"
      ]
     },
     "metadata": {
      "needs_background": "light"
     },
     "output_type": "display_data"
    }
   ],
   "source": [
    "# Диаграмма размаха по глобальным продажам игр в разбивке по платформам\n",
    "#  Для двух наиболее перпективных платформ \n",
    "#  Без ограничений по оси OY\n",
    "platform_short = ['PS4', 'XOne']\n",
    "df_fores_short = df_fores.query('platform in @platform_short')\n",
    "df_fores_short.loc[:, ['platform', 'all_sales']].boxplot()\n",
    "plt.show()"
   ]
  },
  {
   "cell_type": "code",
   "execution_count": 32,
   "metadata": {},
   "outputs": [
    {
     "data": {
      "image/png": "[encoded data removed]",
      "text/plain": [
       "<Figure size 576x432 with 1 Axes>"
      ]
     },
     "metadata": {
      "needs_background": "light"
     },
     "output_type": "display_data"
    }
   ],
   "source": [
    "# В связи с значительными выбросами, введем оганичения по оси OY\n",
    "plt.figure(figsize=(8, 6))\n",
    "plt.ylim(0, 3)\n",
    "df_fores_short.loc[:, ['platform', 'all_sales']].boxplot()\n",
    "plt.show()"
   ]
  },
  {
   "cell_type": "code",
   "execution_count": 33,
   "metadata": {
    "scrolled": true
   },
   "outputs": [
    {
     "name": "stdout",
     "output_type": "stream",
     "text": [
      "min = 0.01\n",
      "q1 = 0.060000000000000005\n",
      "median = 0.21\n",
      "q3 = 0.73\n",
      "high = 1.735\n",
      "max = 14.63\n",
      "Исходное количество значений 2233\n",
      "Количество значений больше верхнего размаха 79\n",
      "Доля больших значений 3.54%\n"
     ]
    }
   ],
   "source": [
    "# Рассчитаем основные показатели графика\n",
    "min_df = round(df_fores_short.loc[:, ['platform', 'all_sales']]['all_sales'].min(), 2)\n",
    "max_df = round(df_fores_short.loc[:, ['platform', 'all_sales']]['all_sales'].max(), 2)\n",
    "q1 = df_fores_short.loc[:, ['platform', 'all_sales']]['all_sales'].quantile(0.25)\n",
    "med = round(df_fores_short.loc[:, ['platform', 'all_sales']]['all_sales'].median(), 2)\n",
    "q3 = df_fores_short.loc[:, ['platform', 'all_sales']]['all_sales'].quantile(0.75)\n",
    "iqr = q3-q1\n",
    "low  = round(q1-1.5*iqr, 3)\n",
    "high = round(q3+1.5*iqr, 3)\n",
    "\n",
    "print('min =', min_df)\n",
    "print('q1 =', q1)\n",
    "print('median =', med)\n",
    "print('q3 =', q3)\n",
    "print('high =', high)\n",
    "print('max =', max_df)\n",
    "\n",
    "df_fores_high = df_fores_short.loc[:, ['platform', 'year_of_release', 'all_sales']]\n",
    "df_fores_high = df_fores_high.query('all_sales > @high')\n",
    "\n",
    "print('Исходное количество значений', df_fores.shape[0])\n",
    "print('Количество значений больше верхнего размаха', df_fores_high.shape[0])\n",
    "print(f'Доля больших значений {df_fores_high.shape[0] / df_fores.shape[0]:.2%}')"
   ]
  },
  {
   "cell_type": "markdown",
   "metadata": {},
   "source": [
    "Диаграмма размаха показала очень сильный разброс данных, несмотря на то, что для ее построения был взят период с наибольшими объемами проданных копий и наиболее актуальные платформы. Медианное значение графика составляет 21 тыс. копий в год, при том, что максимальное – более 14.6 млн. копий.\n",
    "\n",
    "Значение первого квартиля составляет 6 тыс. копий в год, значение третьего квартиля – 73 тыс. копий в год. С учетом медианного значения 21 тыс., можно говорить, о том, что подавляющее большинство игр обеих платформ имеют крайне незначительные годовые продажи. \n",
    "\n",
    "Значимые продажи, за рамками верхнего размаха (79 копий в год), составляют немногим больше 3.5%.  Это может говорить о значимой волатильности продаж игр даже на актуальных платформах, что может быть следствием сочетания высокого уровня конкуренции рынка, ошибок прогнозирования и отбора продукта, нестабильности продукта и пр.\n"
   ]
  },
  {
   "cell_type": "markdown",
   "metadata": {},
   "source": [
    "### Анализ влияния оценок <a id='3.5'></a>\n",
    "\n",
    "- Выявить зависимость влияния отзывов пользователей и критиков на продажи внутри одной популярной платформы.\n",
    "- Построить диаграмму рассеяния и посчитать корреляцию между отзывами и продажами.\n",
    "- Соотнести выводы с продажами игр на других платформах"
   ]
  },
  {
   "cell_type": "code",
   "execution_count": 34,
   "metadata": {},
   "outputs": [
    {
     "data": {
      "text/html": [
       "<div>\n",
       "<style scoped>\n",
       "    .dataframe tbody tr th:only-of-type {\n",
       "        vertical-align: middle;\n",
       "    }\n",
       "\n",
       "    .dataframe tbody tr th {\n",
       "        vertical-align: top;\n",
       "    }\n",
       "\n",
       "    .dataframe thead th {\n",
       "        text-align: right;\n",
       "    }\n",
       "</style>\n",
       "<table border=\"1\" class=\"dataframe\">\n",
       "  <thead>\n",
       "    <tr style=\"text-align: right;\">\n",
       "      <th></th>\n",
       "      <th>name</th>\n",
       "      <th>platform</th>\n",
       "      <th>year_of_release</th>\n",
       "      <th>genre</th>\n",
       "      <th>na_sales</th>\n",
       "      <th>eu_sales</th>\n",
       "      <th>jp_sales</th>\n",
       "      <th>other_sales</th>\n",
       "      <th>critic_score</th>\n",
       "      <th>user_score</th>\n",
       "      <th>rating</th>\n",
       "      <th>all_sales</th>\n",
       "    </tr>\n",
       "  </thead>\n",
       "  <tbody>\n",
       "    <tr>\n",
       "      <th>42</th>\n",
       "      <td>Grand Theft Auto V</td>\n",
       "      <td>PS4</td>\n",
       "      <td>2014</td>\n",
       "      <td>Action</td>\n",
       "      <td>3.96</td>\n",
       "      <td>6.31</td>\n",
       "      <td>0.38</td>\n",
       "      <td>1.97</td>\n",
       "      <td>97.0</td>\n",
       "      <td>8.3</td>\n",
       "      <td>M</td>\n",
       "      <td>12.62</td>\n",
       "    </tr>\n",
       "    <tr>\n",
       "      <th>77</th>\n",
       "      <td>FIFA 16</td>\n",
       "      <td>PS4</td>\n",
       "      <td>2015</td>\n",
       "      <td>Sports</td>\n",
       "      <td>1.12</td>\n",
       "      <td>6.12</td>\n",
       "      <td>0.06</td>\n",
       "      <td>1.28</td>\n",
       "      <td>82.0</td>\n",
       "      <td>4.3</td>\n",
       "      <td>E</td>\n",
       "      <td>8.58</td>\n",
       "    </tr>\n",
       "    <tr>\n",
       "      <th>92</th>\n",
       "      <td>Call of Duty: Advanced Warfare</td>\n",
       "      <td>PS4</td>\n",
       "      <td>2014</td>\n",
       "      <td>Shooter</td>\n",
       "      <td>2.81</td>\n",
       "      <td>3.48</td>\n",
       "      <td>0.14</td>\n",
       "      <td>1.23</td>\n",
       "      <td>83.0</td>\n",
       "      <td>5.7</td>\n",
       "      <td>M</td>\n",
       "      <td>7.66</td>\n",
       "    </tr>\n",
       "    <tr>\n",
       "      <th>94</th>\n",
       "      <td>FIFA 17</td>\n",
       "      <td>PS4</td>\n",
       "      <td>2016</td>\n",
       "      <td>Sports</td>\n",
       "      <td>0.66</td>\n",
       "      <td>5.75</td>\n",
       "      <td>0.08</td>\n",
       "      <td>1.11</td>\n",
       "      <td>85.0</td>\n",
       "      <td>5.0</td>\n",
       "      <td>E</td>\n",
       "      <td>7.60</td>\n",
       "    </tr>\n",
       "    <tr>\n",
       "      <th>105</th>\n",
       "      <td>Fallout 4</td>\n",
       "      <td>PS4</td>\n",
       "      <td>2015</td>\n",
       "      <td>Role-Playing</td>\n",
       "      <td>2.53</td>\n",
       "      <td>3.27</td>\n",
       "      <td>0.24</td>\n",
       "      <td>1.13</td>\n",
       "      <td>87.0</td>\n",
       "      <td>6.5</td>\n",
       "      <td>M</td>\n",
       "      <td>7.17</td>\n",
       "    </tr>\n",
       "  </tbody>\n",
       "</table>\n",
       "</div>"
      ],
      "text/plain": [
       "                               name platform  year_of_release         genre  \\\n",
       "42               Grand Theft Auto V      PS4             2014        Action   \n",
       "77                          FIFA 16      PS4             2015        Sports   \n",
       "92   Call of Duty: Advanced Warfare      PS4             2014       Shooter   \n",
       "94                          FIFA 17      PS4             2016        Sports   \n",
       "105                       Fallout 4      PS4             2015  Role-Playing   \n",
       "\n",
       "     na_sales  eu_sales  jp_sales  other_sales  critic_score  user_score  \\\n",
       "42       3.96      6.31      0.38         1.97          97.0         8.3   \n",
       "77       1.12      6.12      0.06         1.28          82.0         4.3   \n",
       "92       2.81      3.48      0.14         1.23          83.0         5.7   \n",
       "94       0.66      5.75      0.08         1.11          85.0         5.0   \n",
       "105      2.53      3.27      0.24         1.13          87.0         6.5   \n",
       "\n",
       "    rating  all_sales  \n",
       "42       M      12.62  \n",
       "77       E       8.58  \n",
       "92       M       7.66  \n",
       "94       E       7.60  \n",
       "105      M       7.17  "
      ]
     },
     "metadata": {},
     "output_type": "display_data"
    }
   ],
   "source": [
    "# Сделаем срез с непустыми значениями оценоки\n",
    "df_PS4 = df.dropna(subset=['critic_score', 'user_score'])\n",
    "\n",
    "# Сделаем срез по самой популярной платформе - PS4\n",
    "df_PS4 = df_PS4.loc[df_PS4['platform'] == 'PS4']\n",
    "display(df_PS4.head())"
   ]
  },
  {
   "cell_type": "code",
   "execution_count": 35,
   "metadata": {
    "scrolled": true
   },
   "outputs": [
    {
     "data": {
      "image/png": "[encoded data removed]",
      "text/plain": [
       "<Figure size 720x504 with 1 Axes>"
      ]
     },
     "metadata": {
      "needs_background": "light"
     },
     "output_type": "display_data"
    },
    {
     "name": "stdout",
     "output_type": "stream",
     "text": [
      "Коэффициент корреляции продаж от оценок критиков составляет 0.4059\n"
     ]
    }
   ],
   "source": [
    "# Построим диаграмму рассеяния зависимости оценок критиков и продажами\n",
    "df_PS4.plot(kind='scatter', x='critic_score', y='all_sales', title='sales_vs_critic_score', figsize=(10, 7))\n",
    "plt.show()\n",
    "\n",
    "# Посчитаем корреляцию между оценками критиков и продажами\n",
    "print('Коэффициент корреляции продаж от оценок критиков составляет', round(df_PS4['critic_score'].corr(df_PS4['all_sales']), 4))"
   ]
  },
  {
   "cell_type": "code",
   "execution_count": 36,
   "metadata": {
    "scrolled": true
   },
   "outputs": [
    {
     "data": {
      "image/png": "[encoded data removed]",
      "text/plain": [
       "<Figure size 720x504 with 1 Axes>"
      ]
     },
     "metadata": {
      "needs_background": "light"
     },
     "output_type": "display_data"
    },
    {
     "name": "stdout",
     "output_type": "stream",
     "text": [
      "Коэффициент корреляции продаж от отзывов пользователей составляет -0.0336\n"
     ]
    }
   ],
   "source": [
    "# Построим диаграмму рассеяния зависимости отзывами пользователей и продажами\n",
    "df_PS4.plot(kind='scatter', x='user_score', y='all_sales', title='sales_vs_user_score', figsize=(10, 7))\n",
    "plt.show()\n",
    "\n",
    "# Посчитаем корреляцию между отзывами пользователей и продажами\n",
    "print('Коэффициент корреляции продаж от отзывов пользователей составляет', round(df_PS4['all_sales'].corr(df_PS4['user_score']), 4))"
   ]
  },
  {
   "cell_type": "markdown",
   "metadata": {},
   "source": [
    "Для определения степени влияния оценок критиков и отзывов пользователей на продажи был произведен срез с непустыми значениями оценок и отзывов. Для выявления зависимости была принята наиболее популярная платформа - `PS4`\n",
    "\n",
    "Анализ не выявил зависимости объема продаж ни от оценок критиков (коэффициент корреляции продаж от оценок критиков составляет 0.4059), ни от отзывов пользователей (коэффициент корреляции продаж от отзывов пользователей составляет -0.0336). \n",
    "\n",
    "Данный результат позволяет сделать вывод о том, что на продажи не влияют ни оценки критиков, ни отзывы пользователей. "
   ]
  },
  {
   "cell_type": "markdown",
   "metadata": {},
   "source": [
    "### Анализ жанров <a id='3.6'></a>\n",
    "\n",
    "- Обозначить общее распределение игр по жанрам.\n",
    "- Выявить наиболее прибыльные жанры.\n",
    "- Соотнести популярность жанров с их продажами"
   ]
  },
  {
   "cell_type": "code",
   "execution_count": 37,
   "metadata": {},
   "outputs": [
    {
     "data": {
      "text/plain": [
       "genre\n",
       "Action          766\n",
       "Adventure       245\n",
       "Fighting         80\n",
       "Misc            155\n",
       "Platform         74\n",
       "Puzzle           17\n",
       "Racing           85\n",
       "Role-Playing    292\n",
       "Shooter         187\n",
       "Simulation       62\n",
       "Sports          214\n",
       "Strategy         56\n",
       "Name: name, dtype: int64"
      ]
     },
     "metadata": {},
     "output_type": "display_data"
    },
    {
     "data": {
      "image/png": "[encoded data removed]",
      "text/plain": [
       "<Figure size 720x504 with 1 Axes>"
      ]
     },
     "metadata": {
      "needs_background": "light"
     },
     "output_type": "display_data"
    }
   ],
   "source": [
    "# Выявим количество игр в каждом жанре\n",
    "df_fores_genre = df_fores.groupby('genre')['name'].count()\n",
    "display(df_fores_genre)\n",
    "\n",
    "# Пострим график\n",
    "df_fores_genre.plot(kind='bar', title='game_genre', figsize=(10, 7))\n",
    "plt.show()"
   ]
  },
  {
   "cell_type": "code",
   "execution_count": 38,
   "metadata": {},
   "outputs": [
    {
     "data": {
      "text/plain": [
       "genre\n",
       "Action          321.87\n",
       "Adventure        23.64\n",
       "Fighting         35.31\n",
       "Misc             62.82\n",
       "Platform         42.63\n",
       "Puzzle            3.17\n",
       "Racing           39.89\n",
       "Role-Playing    145.89\n",
       "Shooter         232.98\n",
       "Simulation       21.76\n",
       "Sports          150.65\n",
       "Strategy         10.08\n",
       "Name: all_sales, dtype: float64"
      ]
     },
     "metadata": {},
     "output_type": "display_data"
    },
    {
     "data": {
      "image/png": "[encoded data removed]",
      "text/plain": [
       "<Figure size 720x504 with 1 Axes>"
      ]
     },
     "metadata": {
      "needs_background": "light"
     },
     "output_type": "display_data"
    }
   ],
   "source": [
    "# Определим объем продаж в каждом жанре\n",
    "df_fores_sales_genre = df_fores.groupby('genre')['all_sales'].sum()\n",
    "display(df_fores_sales_genre)\n",
    "\n",
    "# Пострим грвфик\n",
    "df_fores_sales_genre.plot(kind='bar', title='sales_genre', figsize=(10, 7))\n",
    "plt.show()"
   ]
  },
  {
   "cell_type": "code",
   "execution_count": 39,
   "metadata": {},
   "outputs": [
    {
     "data": {
      "text/html": [
       "<div>\n",
       "<style scoped>\n",
       "    .dataframe tbody tr th:only-of-type {\n",
       "        vertical-align: middle;\n",
       "    }\n",
       "\n",
       "    .dataframe tbody tr th {\n",
       "        vertical-align: top;\n",
       "    }\n",
       "\n",
       "    .dataframe thead th {\n",
       "        text-align: right;\n",
       "    }\n",
       "</style>\n",
       "<table border=\"1\" class=\"dataframe\">\n",
       "  <thead>\n",
       "    <tr style=\"text-align: right;\">\n",
       "      <th></th>\n",
       "      <th>name_count</th>\n",
       "      <th>all_sales_sum</th>\n",
       "    </tr>\n",
       "    <tr>\n",
       "      <th>genre</th>\n",
       "      <th></th>\n",
       "      <th></th>\n",
       "    </tr>\n",
       "  </thead>\n",
       "  <tbody>\n",
       "    <tr>\n",
       "      <th>Action</th>\n",
       "      <td>766</td>\n",
       "      <td>321.87</td>\n",
       "    </tr>\n",
       "    <tr>\n",
       "      <th>Adventure</th>\n",
       "      <td>245</td>\n",
       "      <td>23.64</td>\n",
       "    </tr>\n",
       "    <tr>\n",
       "      <th>Fighting</th>\n",
       "      <td>80</td>\n",
       "      <td>35.31</td>\n",
       "    </tr>\n",
       "    <tr>\n",
       "      <th>Misc</th>\n",
       "      <td>155</td>\n",
       "      <td>62.82</td>\n",
       "    </tr>\n",
       "    <tr>\n",
       "      <th>Platform</th>\n",
       "      <td>74</td>\n",
       "      <td>42.63</td>\n",
       "    </tr>\n",
       "    <tr>\n",
       "      <th>Puzzle</th>\n",
       "      <td>17</td>\n",
       "      <td>3.17</td>\n",
       "    </tr>\n",
       "    <tr>\n",
       "      <th>Racing</th>\n",
       "      <td>85</td>\n",
       "      <td>39.89</td>\n",
       "    </tr>\n",
       "    <tr>\n",
       "      <th>Role-Playing</th>\n",
       "      <td>292</td>\n",
       "      <td>145.89</td>\n",
       "    </tr>\n",
       "    <tr>\n",
       "      <th>Shooter</th>\n",
       "      <td>187</td>\n",
       "      <td>232.98</td>\n",
       "    </tr>\n",
       "    <tr>\n",
       "      <th>Simulation</th>\n",
       "      <td>62</td>\n",
       "      <td>21.76</td>\n",
       "    </tr>\n",
       "    <tr>\n",
       "      <th>Sports</th>\n",
       "      <td>214</td>\n",
       "      <td>150.65</td>\n",
       "    </tr>\n",
       "    <tr>\n",
       "      <th>Strategy</th>\n",
       "      <td>56</td>\n",
       "      <td>10.08</td>\n",
       "    </tr>\n",
       "  </tbody>\n",
       "</table>\n",
       "</div>"
      ],
      "text/plain": [
       "              name_count  all_sales_sum\n",
       "genre                                  \n",
       "Action               766         321.87\n",
       "Adventure            245          23.64\n",
       "Fighting              80          35.31\n",
       "Misc                 155          62.82\n",
       "Platform              74          42.63\n",
       "Puzzle                17           3.17\n",
       "Racing                85          39.89\n",
       "Role-Playing         292         145.89\n",
       "Shooter              187         232.98\n",
       "Simulation            62          21.76\n",
       "Sports               214         150.65\n",
       "Strategy              56          10.08"
      ]
     },
     "metadata": {},
     "output_type": "display_data"
    },
    {
     "name": "stdout",
     "output_type": "stream",
     "text": [
      "Коэффициент корреляции составляет 0.8417\n"
     ]
    },
    {
     "data": {
      "image/png": "[encoded data removed]",
      "text/plain": [
       "<Figure size 720x504 with 1 Axes>"
      ]
     },
     "metadata": {
      "needs_background": "light"
     },
     "output_type": "display_data"
    }
   ],
   "source": [
    "# Соотнесем популярность жанров с их продажами\n",
    "# Сгруппируем жанры и определим по каждому жанру его частотность и продажи\n",
    "df_fores_corr = df_fores.groupby('genre').agg({'name': ['count'], 'all_sales': ['sum']})\n",
    "df_fores_corr.columns=['name_count', 'all_sales_sum']\n",
    "display(df_fores_corr)\n",
    "\n",
    "# Корреляция продаж по жанрам от количекство игр по жанрам\n",
    "k_fores_corr = df_fores_corr['name_count'].corr(df_fores_corr['all_sales_sum'])\n",
    "print(f'Коэффициент корреляции составляет {k_fores_corr:.4f}')\n",
    "\n",
    "# Постриим график методом scatter\n",
    "df_fores_corr.plot(kind='scatter', x='name_count', y='all_sales_sum', title='genre_corr', figsize=(10, 7))\n",
    "plt.show()"
   ]
  },
  {
   "cell_type": "markdown",
   "metadata": {},
   "source": [
    "Группировка жанров по количеству игр показала, что наиболее популярным (с наибольшим количеством игр) является жанр `Action` – 766 игр. На втором месте по популярности с сильным отстававшим `Role-Playing` – 292 игры. \n",
    "\n",
    "Группировка жанров по объему продаж показала, что лидирует также `Action` – 321.87 млн. копий, на втором месте жанр `Shooter` – 232.98 млн. копий.\n",
    "\n",
    "Соотнесение популярности жанров с объемами их продаж показало значимый уровень корреляции - 0.8417. Это наглядно показано на графике рассеивания."
   ]
  },
  {
   "cell_type": "markdown",
   "metadata": {},
   "source": [
    "### Общие выводы по исследовательскому анализу <a id='3f'></a>"
   ]
  },
  {
   "cell_type": "code",
   "execution_count": 40,
   "metadata": {},
   "outputs": [
    {
     "data": {
      "text/html": [
       "<div>\n",
       "<style scoped>\n",
       "    .dataframe tbody tr th:only-of-type {\n",
       "        vertical-align: middle;\n",
       "    }\n",
       "\n",
       "    .dataframe tbody tr th {\n",
       "        vertical-align: top;\n",
       "    }\n",
       "\n",
       "    .dataframe thead th {\n",
       "        text-align: right;\n",
       "    }\n",
       "</style>\n",
       "<table border=\"1\" class=\"dataframe\">\n",
       "  <thead>\n",
       "    <tr style=\"text-align: right;\">\n",
       "      <th>platform</th>\n",
       "      <th>PS4</th>\n",
       "      <th>WiiU</th>\n",
       "      <th>XOne</th>\n",
       "    </tr>\n",
       "    <tr>\n",
       "      <th>genre</th>\n",
       "      <th></th>\n",
       "      <th></th>\n",
       "      <th></th>\n",
       "    </tr>\n",
       "  </thead>\n",
       "  <tbody>\n",
       "    <tr>\n",
       "      <th>Action</th>\n",
       "      <td>96.10</td>\n",
       "      <td>14.75</td>\n",
       "      <td>37.31</td>\n",
       "    </tr>\n",
       "    <tr>\n",
       "      <th>Adventure</th>\n",
       "      <td>6.34</td>\n",
       "      <td>0.17</td>\n",
       "      <td>2.68</td>\n",
       "    </tr>\n",
       "    <tr>\n",
       "      <th>Fighting</th>\n",
       "      <td>8.65</td>\n",
       "      <td>6.09</td>\n",
       "      <td>2.45</td>\n",
       "    </tr>\n",
       "    <tr>\n",
       "      <th>Misc</th>\n",
       "      <td>8.19</td>\n",
       "      <td>7.38</td>\n",
       "      <td>7.43</td>\n",
       "    </tr>\n",
       "    <tr>\n",
       "      <th>Platform</th>\n",
       "      <td>7.69</td>\n",
       "      <td>16.27</td>\n",
       "      <td>0.93</td>\n",
       "    </tr>\n",
       "    <tr>\n",
       "      <th>Puzzle</th>\n",
       "      <td>0.02</td>\n",
       "      <td>1.32</td>\n",
       "      <td>NaN</td>\n",
       "    </tr>\n",
       "    <tr>\n",
       "      <th>Racing</th>\n",
       "      <td>12.14</td>\n",
       "      <td>7.36</td>\n",
       "      <td>9.79</td>\n",
       "    </tr>\n",
       "    <tr>\n",
       "      <th>Role-Playing</th>\n",
       "      <td>28.99</td>\n",
       "      <td>1.93</td>\n",
       "      <td>10.55</td>\n",
       "    </tr>\n",
       "    <tr>\n",
       "      <th>Shooter</th>\n",
       "      <td>88.56</td>\n",
       "      <td>5.48</td>\n",
       "      <td>60.33</td>\n",
       "    </tr>\n",
       "    <tr>\n",
       "      <th>Simulation</th>\n",
       "      <td>1.23</td>\n",
       "      <td>0.20</td>\n",
       "      <td>0.69</td>\n",
       "    </tr>\n",
       "    <tr>\n",
       "      <th>Sports</th>\n",
       "      <td>55.61</td>\n",
       "      <td>2.46</td>\n",
       "      <td>26.74</td>\n",
       "    </tr>\n",
       "    <tr>\n",
       "      <th>Strategy</th>\n",
       "      <td>0.62</td>\n",
       "      <td>1.22</td>\n",
       "      <td>0.42</td>\n",
       "    </tr>\n",
       "  </tbody>\n",
       "</table>\n",
       "</div>"
      ],
      "text/plain": [
       "platform        PS4   WiiU   XOne\n",
       "genre                            \n",
       "Action        96.10  14.75  37.31\n",
       "Adventure      6.34   0.17   2.68\n",
       "Fighting       8.65   6.09   2.45\n",
       "Misc           8.19   7.38   7.43\n",
       "Platform       7.69  16.27   0.93\n",
       "Puzzle         0.02   1.32    NaN\n",
       "Racing        12.14   7.36   9.79\n",
       "Role-Playing  28.99   1.93  10.55\n",
       "Shooter       88.56   5.48  60.33\n",
       "Simulation     1.23   0.20   0.69\n",
       "Sports        55.61   2.46  26.74\n",
       "Strategy       0.62   1.22   0.42"
      ]
     },
     "metadata": {},
     "output_type": "display_data"
    },
    {
     "data": {
      "image/png": "[encoded data removed]",
      "text/plain": [
       "<Figure size 720x504 with 2 Axes>"
      ]
     },
     "metadata": {
      "needs_background": "light"
     },
     "output_type": "display_data"
    }
   ],
   "source": [
    "# Определим наиболее перспективные направления\n",
    "platf_top = ['PS4', 'XOne', 'WiiU']\n",
    "df_fores_pr = df_fores.query('platform in @platf_top')\n",
    "df_fores_pr_pivot = df_fores_pr.pivot_table(index='genre', columns='platform', values='all_sales', aggfunc='sum')\n",
    "display(df_fores_pr_pivot)\n",
    "\n",
    "# Построим график методом heatmap\n",
    "plt.figure(figsize=(10, 7))\n",
    "heatmap = sns.heatmap(df_fores_pr_pivot)\n",
    "heatmap.set_title=('platform_top')\n",
    "plt.show()"
   ]
  },
  {
   "cell_type": "markdown",
   "metadata": {},
   "source": [
    "Проведенный анализ общих продаж платформ показал, что наибольшие продажи происходили в период с 2002 по 2011 годы. Однако, для прогнозирования продаж на 2017 год этот период не подходит в связи с коротким жизненным циклом платформ. \n",
    "\n",
    "Анализ платформ показал, что срок их жизненного цикла составляет 7 лет. Максимальных продаж платформа достигает через 3.5-3.8 лет.\n",
    "\n",
    "Таким образом, для прогнозирования пика продаж, необходимо принять ретроспективный период равный 4 годам – с 2013 по 2016 гг.\n",
    "\n",
    "Анализ динамики продаж показал, что по состоянию на 2016 год, потенциально прибыльными являются платформы `PS4` и `XOne`. Также «темной лошадкой» можно считать платформу `WiiU` – на момент 2016 года нет четкого поднимания, будет она приказывать рост или нет. Однако, ее также можно считать потенциально перспективной.\n",
    "\n",
    "Исследование диаграммы размаха за актульный период показало очень сильный разброс данных, несмотря на то, что для ее построения был взят период с наибольшими объемами проданных копий. Значение первого квартиля составляет 6 тыс. копий в год, значение третьего квартиля – 73 тыс. копий в год. С учетом медианного значения 21 тыс., можно говорить, о том, что подавляющее большинство игр обеих платформ имеют крайне незначительные годовые продажи.\n",
    "\n",
    "В тоже время, 3,5% продаж находятся за рамками верхнего размаха (79 копий в год). Это может говорить о значимой волатильности продаж игр даже на актуальных платформах, что может быть следствием сочетания высокого уровня конкуренции рынка, ошибок прогнозирования и отбора продукта, нестабильности продукта и пр.\n",
    "\n",
    "Анализ влияния на уровень продаж оценок и отзывов, на примере наиболее популярной платформы - `PS4` показал то, что на продажи не влияют ни оценки критиков, ни отзывы пользователей.\n",
    "\n",
    "Анализ жанров показал, что при группировке жанров по количеству игр, наиболее популярным является жанр `Action`. На втором месте по популярности с сильным отстававшим `Role-Playing`. Группировка жанров по объему продаж показала, что лидирует также `Action`, а на втором месте жанр `Shooter`. Соотнесение популярности жанров с объемами их продаж показало значимый уровень корреляции - 0.8417.\n",
    "\n",
    "Учитывая все сказанное выше, можно сделать вывод о том, что наиболее эффективным будет в 2017 году акцент на три платформы^\n",
    "`PS4`, `WiiU`, `XOne` по следующим жанрам: `Action`, `Role-Playing`, `Shooter`"
   ]
  },
  {
   "cell_type": "markdown",
   "metadata": {},
   "source": [
    "## Составление портрета пользователя каждого региона <a id='4'></a>\n",
    "\n",
    "1. Определить пять наиболее продаваемых платформ и пять наиболее продаваемых жанров в разрезе по регионам\n",
    "2. Определить продаваемость игр каждой возрастной категории по регионам\n",
    "3. Определить пять наиболее продаваемых платформ и пять наиболее продаваемых жанров в разрезе по регионам для каждой возрастной категории\n",
    "4. Выявить влияние рейтинга ESRB на продажи в каждом регионе"
   ]
  },
  {
   "cell_type": "markdown",
   "metadata": {},
   "source": [
    "### Определение пяти наиболее продаваемых платформ и жанров в разрезе по регионам <a id='4.1'></a>"
   ]
  },
  {
   "cell_type": "code",
   "execution_count": 41,
   "metadata": {
    "scrolled": true
   },
   "outputs": [],
   "source": [
    "# Создадим списки рейтингов платформ\n",
    "platform_na_sales =list(df_fores.groupby('platform')['na_sales'].sum().sort_values(ascending=False).index[0:5])\n",
    "platform_eu_sales = list(df_fores.groupby('platform')['eu_sales'].sum().sort_values(ascending=False).index[0:5])\n",
    "platform_jp_sales = list(df_fores.groupby('platform')['jp_sales'].sum().sort_values(ascending=False).index[0:5])\n",
    "platform_other_sales = list(df_fores.groupby('platform')['other_sales'].sum().sort_values(ascending=False).index[0:5])\n",
    "\n",
    "# Создадим списки рейтингов жанров\n",
    "genre_na_sales = list(df_fores.groupby('genre')['na_sales'].sum().sort_values(ascending=False).index[0:5])\n",
    "genre_eu_sales = list(df_fores.groupby('genre')['eu_sales'].sum().sort_values(ascending=False).index[0:5])\n",
    "genre_jp_sales = list(df_fores.groupby('genre')['jp_sales'].sum().sort_values(ascending=False).index[0:5])\n",
    "genre_other_sales = list(df_fores.groupby('genre')['other_sales'].sum().sort_values(ascending=False).index[0:5])"
   ]
  },
  {
   "cell_type": "code",
   "execution_count": 42,
   "metadata": {},
   "outputs": [
    {
     "data": {
      "text/html": [
       "<div>\n",
       "<style scoped>\n",
       "    .dataframe tbody tr th:only-of-type {\n",
       "        vertical-align: middle;\n",
       "    }\n",
       "\n",
       "    .dataframe tbody tr th {\n",
       "        vertical-align: top;\n",
       "    }\n",
       "\n",
       "    .dataframe thead th {\n",
       "        text-align: right;\n",
       "    }\n",
       "</style>\n",
       "<table border=\"1\" class=\"dataframe\">\n",
       "  <thead>\n",
       "    <tr style=\"text-align: right;\">\n",
       "      <th></th>\n",
       "      <th>indicator</th>\n",
       "      <th>platform_na</th>\n",
       "      <th>platform_eu</th>\n",
       "      <th>platform_jp</th>\n",
       "      <th>platform_other</th>\n",
       "      <th>genre_na</th>\n",
       "      <th>genre_eu</th>\n",
       "      <th>genre_jp</th>\n",
       "      <th>genre_other</th>\n",
       "    </tr>\n",
       "  </thead>\n",
       "  <tbody>\n",
       "    <tr>\n",
       "      <th>0</th>\n",
       "      <td>1</td>\n",
       "      <td>PS4</td>\n",
       "      <td>PS4</td>\n",
       "      <td>3DS</td>\n",
       "      <td>PS4</td>\n",
       "      <td>Action</td>\n",
       "      <td>Action</td>\n",
       "      <td>Role-Playing</td>\n",
       "      <td>Action</td>\n",
       "    </tr>\n",
       "    <tr>\n",
       "      <th>1</th>\n",
       "      <td>2</td>\n",
       "      <td>XOne</td>\n",
       "      <td>PS3</td>\n",
       "      <td>PS3</td>\n",
       "      <td>PS3</td>\n",
       "      <td>Shooter</td>\n",
       "      <td>Shooter</td>\n",
       "      <td>Action</td>\n",
       "      <td>Shooter</td>\n",
       "    </tr>\n",
       "    <tr>\n",
       "      <th>2</th>\n",
       "      <td>3</td>\n",
       "      <td>X360</td>\n",
       "      <td>XOne</td>\n",
       "      <td>PSV</td>\n",
       "      <td>XOne</td>\n",
       "      <td>Sports</td>\n",
       "      <td>Sports</td>\n",
       "      <td>Misc</td>\n",
       "      <td>Sports</td>\n",
       "    </tr>\n",
       "    <tr>\n",
       "      <th>3</th>\n",
       "      <td>4</td>\n",
       "      <td>PS3</td>\n",
       "      <td>X360</td>\n",
       "      <td>PS4</td>\n",
       "      <td>X360</td>\n",
       "      <td>Role-Playing</td>\n",
       "      <td>Role-Playing</td>\n",
       "      <td>Fighting</td>\n",
       "      <td>Role-Playing</td>\n",
       "    </tr>\n",
       "    <tr>\n",
       "      <th>4</th>\n",
       "      <td>5</td>\n",
       "      <td>3DS</td>\n",
       "      <td>3DS</td>\n",
       "      <td>WiiU</td>\n",
       "      <td>3DS</td>\n",
       "      <td>Misc</td>\n",
       "      <td>Racing</td>\n",
       "      <td>Shooter</td>\n",
       "      <td>Misc</td>\n",
       "    </tr>\n",
       "  </tbody>\n",
       "</table>\n",
       "</div>"
      ],
      "text/plain": [
       "  indicator platform_na platform_eu platform_jp platform_other      genre_na  \\\n",
       "0         1         PS4         PS4         3DS            PS4        Action   \n",
       "1         2        XOne         PS3         PS3            PS3       Shooter   \n",
       "2         3        X360        XOne         PSV           XOne        Sports   \n",
       "3         4         PS3        X360         PS4           X360  Role-Playing   \n",
       "4         5         3DS         3DS        WiiU            3DS          Misc   \n",
       "\n",
       "       genre_eu      genre_jp   genre_other  \n",
       "0        Action  Role-Playing        Action  \n",
       "1       Shooter        Action       Shooter  \n",
       "2        Sports          Misc        Sports  \n",
       "3  Role-Playing      Fighting  Role-Playing  \n",
       "4        Racing       Shooter          Misc  "
      ]
     },
     "metadata": {},
     "output_type": "display_data"
    }
   ],
   "source": [
    "# Определим пять наиболее продаваемых платформ и жанров в разрезе по регионам\n",
    "top_sales = pd.DataFrame({\n",
    "    'indicator': ['1', '2', '3', '4', '5'], \n",
    "    'platform_na': platform_na_sales, \n",
    "    'platform_eu': platform_eu_sales,\n",
    "    'platform_jp': platform_jp_sales,\n",
    "    'platform_other': platform_other_sales,\n",
    "    'genre_na': genre_na_sales,\n",
    "    'genre_eu': genre_eu_sales,\n",
    "    'genre_jp': genre_jp_sales,\n",
    "    'genre_other': genre_other_sales\n",
    "})\n",
    "display(top_sales)"
   ]
  },
  {
   "cell_type": "markdown",
   "metadata": {},
   "source": [
    "### Определение продаваемости игр каждой возрастной категории по регионам <a id='4.2'></a>"
   ]
  },
  {
   "cell_type": "code",
   "execution_count": 43,
   "metadata": {},
   "outputs": [
    {
     "name": "stdout",
     "output_type": "stream",
     "text": [
      "rating\n",
      "M       371.68\n",
      "not     276.84\n",
      "E       200.16\n",
      "T       126.62\n",
      "E10+    115.39\n",
      "Name: all_sales, dtype: float64\n"
     ]
    }
   ],
   "source": [
    "# Сформируем таблицу продаваемости игр каждой возрастной категории\n",
    "print(df_fores.groupby('rating')['all_sales'].sum().sort_values(ascending=False))"
   ]
  },
  {
   "cell_type": "code",
   "execution_count": 44,
   "metadata": {},
   "outputs": [
    {
     "data": {
      "text/html": [
       "<div>\n",
       "<style scoped>\n",
       "    .dataframe tbody tr th:only-of-type {\n",
       "        vertical-align: middle;\n",
       "    }\n",
       "\n",
       "    .dataframe tbody tr th {\n",
       "        vertical-align: top;\n",
       "    }\n",
       "\n",
       "    .dataframe thead th {\n",
       "        text-align: right;\n",
       "    }\n",
       "</style>\n",
       "<table border=\"1\" class=\"dataframe\">\n",
       "  <thead>\n",
       "    <tr style=\"text-align: right;\">\n",
       "      <th></th>\n",
       "      <th>na_sales</th>\n",
       "      <th>eu_sales</th>\n",
       "      <th>jp_sales</th>\n",
       "      <th>other_sales</th>\n",
       "    </tr>\n",
       "    <tr>\n",
       "      <th>rating</th>\n",
       "      <th></th>\n",
       "      <th></th>\n",
       "      <th></th>\n",
       "      <th></th>\n",
       "    </tr>\n",
       "  </thead>\n",
       "  <tbody>\n",
       "    <tr>\n",
       "      <th>E</th>\n",
       "      <td>79.05</td>\n",
       "      <td>83.36</td>\n",
       "      <td>15.14</td>\n",
       "      <td>22.61</td>\n",
       "    </tr>\n",
       "    <tr>\n",
       "      <th>E10+</th>\n",
       "      <td>54.24</td>\n",
       "      <td>42.69</td>\n",
       "      <td>5.89</td>\n",
       "      <td>12.57</td>\n",
       "    </tr>\n",
       "    <tr>\n",
       "      <th>M</th>\n",
       "      <td>165.21</td>\n",
       "      <td>145.32</td>\n",
       "      <td>14.11</td>\n",
       "      <td>47.04</td>\n",
       "    </tr>\n",
       "    <tr>\n",
       "      <th>T</th>\n",
       "      <td>49.79</td>\n",
       "      <td>41.95</td>\n",
       "      <td>20.59</td>\n",
       "      <td>14.29</td>\n",
       "    </tr>\n",
       "    <tr>\n",
       "      <th>not</th>\n",
       "      <td>89.42</td>\n",
       "      <td>78.91</td>\n",
       "      <td>85.05</td>\n",
       "      <td>23.46</td>\n",
       "    </tr>\n",
       "  </tbody>\n",
       "</table>\n",
       "</div>"
      ],
      "text/plain": [
       "        na_sales  eu_sales  jp_sales  other_sales\n",
       "rating                                           \n",
       "E          79.05     83.36     15.14        22.61\n",
       "E10+       54.24     42.69      5.89        12.57\n",
       "M         165.21    145.32     14.11        47.04\n",
       "T          49.79     41.95     20.59        14.29\n",
       "not        89.42     78.91     85.05        23.46"
      ]
     },
     "metadata": {},
     "output_type": "display_data"
    },
    {
     "data": {
      "image/png": "[encoded data removed]",
      "text/plain": [
       "<Figure size 720x504 with 2 Axes>"
      ]
     },
     "metadata": {
      "needs_background": "light"
     },
     "output_type": "display_data"
    }
   ],
   "source": [
    "# Сформируем таблицу продаваемости игр каждой возрастной категории по регионам\n",
    "df_sale_rating = df_fores.groupby('rating').agg({'na_sales': 'sum', 'eu_sales': 'sum', 'jp_sales': 'sum', 'other_sales': 'sum'})\n",
    "display(df_sale_rating)\n",
    "\n",
    "# Потроим графмк методом heatmap\n",
    "plt.figure(figsize=(10, 7))\n",
    "heatmap = sns.heatmap(df_sale_rating)\n",
    "heatmap.slim_title = 'sale_rating'\n",
    "plt.show()"
   ]
  },
  {
   "cell_type": "markdown",
   "metadata": {},
   "source": [
    "Наиболее продаваемы игры в возрастных категориях `E`, `T` и `M` (категорию `not` не рассматриваем, поскольку мы не знаем к какой возрастной группе она принадлежит)\n",
    "\n",
    "В разрезах регионов можно сказать, что интерес представляет в Северной Америке и Европе - `E`, `M`. По Японии явное лидерство у категории `not`, что может быть связано с отсутствием требования присваивать категорию, либо со слишком длительными процедурами. По другим странам продажи крайне низкие.\n",
    "\n",
    "Тем не менее, для формирования портрета потребителя в каждом регионе, необходимо сделать срезы указанных возрастных категорий по всем регионам"
   ]
  },
  {
   "cell_type": "markdown",
   "metadata": {},
   "source": [
    "### Определение пяти наиболее продаваемых платформ и жанров в разрезе по регионам для каждой возрастной категории <a id='4.3'></a>"
   ]
  },
  {
   "cell_type": "code",
   "execution_count": 45,
   "metadata": {},
   "outputs": [
    {
     "data": {
      "text/html": [
       "<div>\n",
       "<style scoped>\n",
       "    .dataframe tbody tr th:only-of-type {\n",
       "        vertical-align: middle;\n",
       "    }\n",
       "\n",
       "    .dataframe tbody tr th {\n",
       "        vertical-align: top;\n",
       "    }\n",
       "\n",
       "    .dataframe thead th {\n",
       "        text-align: right;\n",
       "    }\n",
       "</style>\n",
       "<table border=\"1\" class=\"dataframe\">\n",
       "  <thead>\n",
       "    <tr style=\"text-align: right;\">\n",
       "      <th></th>\n",
       "      <th>indicator</th>\n",
       "      <th>e_platf_na</th>\n",
       "      <th>t_platf_na</th>\n",
       "      <th>m_platf_na</th>\n",
       "      <th>e_genre_na</th>\n",
       "      <th>t_genre_na</th>\n",
       "      <th>m_genre_na</th>\n",
       "    </tr>\n",
       "  </thead>\n",
       "  <tbody>\n",
       "    <tr>\n",
       "      <th>0</th>\n",
       "      <td>1</td>\n",
       "      <td>PS4</td>\n",
       "      <td>PS4</td>\n",
       "      <td>XOne</td>\n",
       "      <td>Sports</td>\n",
       "      <td>Shooter</td>\n",
       "      <td>Action</td>\n",
       "    </tr>\n",
       "    <tr>\n",
       "      <th>1</th>\n",
       "      <td>2</td>\n",
       "      <td>XOne</td>\n",
       "      <td>XOne</td>\n",
       "      <td>PS4</td>\n",
       "      <td>Platform</td>\n",
       "      <td>Action</td>\n",
       "      <td>Shooter</td>\n",
       "    </tr>\n",
       "    <tr>\n",
       "      <th>2</th>\n",
       "      <td>3</td>\n",
       "      <td>X360</td>\n",
       "      <td>PS3</td>\n",
       "      <td>X360</td>\n",
       "      <td>Racing</td>\n",
       "      <td>Role-Playing</td>\n",
       "      <td>Role-Playing</td>\n",
       "    </tr>\n",
       "    <tr>\n",
       "      <th>3</th>\n",
       "      <td>4</td>\n",
       "      <td>WiiU</td>\n",
       "      <td>X360</td>\n",
       "      <td>PS3</td>\n",
       "      <td>Action</td>\n",
       "      <td>Sports</td>\n",
       "      <td>Adventure</td>\n",
       "    </tr>\n",
       "    <tr>\n",
       "      <th>4</th>\n",
       "      <td>5</td>\n",
       "      <td>PS3</td>\n",
       "      <td>PC</td>\n",
       "      <td>PC</td>\n",
       "      <td>Misc</td>\n",
       "      <td>Fighting</td>\n",
       "      <td>Fighting</td>\n",
       "    </tr>\n",
       "  </tbody>\n",
       "</table>\n",
       "</div>"
      ],
      "text/plain": [
       "  indicator e_platf_na t_platf_na m_platf_na e_genre_na    t_genre_na  \\\n",
       "0         1        PS4        PS4       XOne     Sports       Shooter   \n",
       "1         2       XOne       XOne        PS4   Platform        Action   \n",
       "2         3       X360        PS3       X360     Racing  Role-Playing   \n",
       "3         4       WiiU       X360        PS3     Action        Sports   \n",
       "4         5        PS3         PC         PC       Misc      Fighting   \n",
       "\n",
       "     m_genre_na  \n",
       "0        Action  \n",
       "1       Shooter  \n",
       "2  Role-Playing  \n",
       "3     Adventure  \n",
       "4      Fighting  "
      ]
     },
     "metadata": {},
     "output_type": "display_data"
    }
   ],
   "source": [
    "# Создадим списки рейтингов платформ для Северной Америки\n",
    "e_platform_na_sales =list(df_fores.loc[df['rating']=='E'].groupby('platform')['na_sales'].sum().sort_values(ascending=False).index[0:5])\n",
    "t_platform_na_sales =list(df_fores.loc[df['rating']=='T'].groupby('platform')['na_sales'].sum().sort_values(ascending=False).index[0:5])\n",
    "m_platform_na_sales =list(df_fores.loc[df['rating']=='M'].groupby('platform')['na_sales'].sum().sort_values(ascending=False).index[0:5])\n",
    "\n",
    "# Создадим списки жанров платформ для Северной Америки\n",
    "e_genre_na_sales =list(df_fores.loc[df['rating']=='E'].groupby('genre')['na_sales'].sum().sort_values(ascending=False).index[0:5])\n",
    "t_genre_na_sales =list(df_fores.loc[df['rating']=='T'].groupby('genre')['na_sales'].sum().sort_values(ascending=False).index[0:5])\n",
    "m_genre_na_sales =list(df_fores.loc[df['rating']=='M'].groupby('genre')['na_sales'].sum().sort_values(ascending=False).index[0:5])\n",
    "\n",
    "# Определим пять наиболее продаваемых платформ и жанров за 2013-2016 гг в разрезе по регионам\n",
    "top_sales_na = pd.DataFrame({\n",
    "    'indicator': ['1', '2', '3', '4', '5'], \n",
    "    'e_platf_na': e_platform_na_sales, \n",
    "    't_platf_na': t_platform_na_sales,\n",
    "    'm_platf_na': m_platform_na_sales,\n",
    "    'e_genre_na': e_genre_na_sales,\n",
    "    't_genre_na': t_genre_na_sales,\n",
    "    'm_genre_na': m_genre_na_sales,\n",
    "})\n",
    "display(top_sales_na)"
   ]
  },
  {
   "cell_type": "code",
   "execution_count": 46,
   "metadata": {},
   "outputs": [
    {
     "data": {
      "text/html": [
       "<div>\n",
       "<style scoped>\n",
       "    .dataframe tbody tr th:only-of-type {\n",
       "        vertical-align: middle;\n",
       "    }\n",
       "\n",
       "    .dataframe tbody tr th {\n",
       "        vertical-align: top;\n",
       "    }\n",
       "\n",
       "    .dataframe thead th {\n",
       "        text-align: right;\n",
       "    }\n",
       "</style>\n",
       "<table border=\"1\" class=\"dataframe\">\n",
       "  <thead>\n",
       "    <tr style=\"text-align: right;\">\n",
       "      <th></th>\n",
       "      <th>indicator</th>\n",
       "      <th>e_platf_eu</th>\n",
       "      <th>t_platf_eu</th>\n",
       "      <th>m_platf_eu</th>\n",
       "      <th>e_genre_eu</th>\n",
       "      <th>t_genre_eu</th>\n",
       "      <th>m_genre_eu</th>\n",
       "    </tr>\n",
       "  </thead>\n",
       "  <tbody>\n",
       "    <tr>\n",
       "      <th>0</th>\n",
       "      <td>1</td>\n",
       "      <td>PS4</td>\n",
       "      <td>PS4</td>\n",
       "      <td>PS4</td>\n",
       "      <td>Sports</td>\n",
       "      <td>Shooter</td>\n",
       "      <td>Action</td>\n",
       "    </tr>\n",
       "    <tr>\n",
       "      <th>1</th>\n",
       "      <td>2</td>\n",
       "      <td>PS3</td>\n",
       "      <td>PS3</td>\n",
       "      <td>PS3</td>\n",
       "      <td>Racing</td>\n",
       "      <td>Action</td>\n",
       "      <td>Shooter</td>\n",
       "    </tr>\n",
       "    <tr>\n",
       "      <th>2</th>\n",
       "      <td>3</td>\n",
       "      <td>XOne</td>\n",
       "      <td>PC</td>\n",
       "      <td>XOne</td>\n",
       "      <td>Platform</td>\n",
       "      <td>Sports</td>\n",
       "      <td>Role-Playing</td>\n",
       "    </tr>\n",
       "    <tr>\n",
       "      <th>3</th>\n",
       "      <td>4</td>\n",
       "      <td>WiiU</td>\n",
       "      <td>XOne</td>\n",
       "      <td>X360</td>\n",
       "      <td>Action</td>\n",
       "      <td>Fighting</td>\n",
       "      <td>Adventure</td>\n",
       "    </tr>\n",
       "    <tr>\n",
       "      <th>4</th>\n",
       "      <td>5</td>\n",
       "      <td>X360</td>\n",
       "      <td>X360</td>\n",
       "      <td>PC</td>\n",
       "      <td>Simulation</td>\n",
       "      <td>Role-Playing</td>\n",
       "      <td>Fighting</td>\n",
       "    </tr>\n",
       "  </tbody>\n",
       "</table>\n",
       "</div>"
      ],
      "text/plain": [
       "  indicator e_platf_eu t_platf_eu m_platf_eu  e_genre_eu    t_genre_eu  \\\n",
       "0         1        PS4        PS4        PS4      Sports       Shooter   \n",
       "1         2        PS3        PS3        PS3      Racing        Action   \n",
       "2         3       XOne         PC       XOne    Platform        Sports   \n",
       "3         4       WiiU       XOne       X360      Action      Fighting   \n",
       "4         5       X360       X360         PC  Simulation  Role-Playing   \n",
       "\n",
       "     m_genre_eu  \n",
       "0        Action  \n",
       "1       Shooter  \n",
       "2  Role-Playing  \n",
       "3     Adventure  \n",
       "4      Fighting  "
      ]
     },
     "metadata": {},
     "output_type": "display_data"
    }
   ],
   "source": [
    "# Создадим списки рейтингов платформ для Европы\n",
    "e_platform_eu_sales =list(df_fores.loc[df['rating']=='E'].groupby('platform')['eu_sales'].sum().sort_values(ascending=False).index[0:5])\n",
    "t_platform_eu_sales =list(df_fores.loc[df['rating']=='T'].groupby('platform')['eu_sales'].sum().sort_values(ascending=False).index[0:5])\n",
    "m_platform_eu_sales =list(df_fores.loc[df['rating']=='M'].groupby('platform')['eu_sales'].sum().sort_values(ascending=False).index[0:5])\n",
    "\n",
    "# Создадим списки жанров платформ для Европы\n",
    "e_genre_eu_sales =list(df_fores.loc[df['rating']=='E'].groupby('genre')['eu_sales'].sum().sort_values(ascending=False).index[0:5])\n",
    "t_genre_eu_sales =list(df_fores.loc[df['rating']=='T'].groupby('genre')['eu_sales'].sum().sort_values(ascending=False).index[0:5])\n",
    "m_genre_eu_sales =list(df_fores.loc[df['rating']=='M'].groupby('genre')['eu_sales'].sum().sort_values(ascending=False).index[0:5])\n",
    "\n",
    "# Определим пять наиболее продаваемых платформ и жанров в разрезе по регионам\n",
    "top_sales_eu = pd.DataFrame({\n",
    "    'indicator': ['1', '2', '3', '4', '5'], \n",
    "    'e_platf_eu': e_platform_eu_sales, \n",
    "    't_platf_eu': t_platform_eu_sales,\n",
    "    'm_platf_eu': m_platform_eu_sales,\n",
    "    'e_genre_eu': e_genre_eu_sales,\n",
    "    't_genre_eu': t_genre_eu_sales,\n",
    "    'm_genre_eu': m_genre_eu_sales,\n",
    "})\n",
    "display(top_sales_eu)"
   ]
  },
  {
   "cell_type": "code",
   "execution_count": 47,
   "metadata": {
    "scrolled": true
   },
   "outputs": [
    {
     "data": {
      "text/html": [
       "<div>\n",
       "<style scoped>\n",
       "    .dataframe tbody tr th:only-of-type {\n",
       "        vertical-align: middle;\n",
       "    }\n",
       "\n",
       "    .dataframe tbody tr th {\n",
       "        vertical-align: top;\n",
       "    }\n",
       "\n",
       "    .dataframe thead th {\n",
       "        text-align: right;\n",
       "    }\n",
       "</style>\n",
       "<table border=\"1\" class=\"dataframe\">\n",
       "  <thead>\n",
       "    <tr style=\"text-align: right;\">\n",
       "      <th></th>\n",
       "      <th>indicator</th>\n",
       "      <th>e_platf_jp</th>\n",
       "      <th>t_platf_jp</th>\n",
       "      <th>m_platf_jp</th>\n",
       "      <th>e_genre_jp</th>\n",
       "      <th>t_genre_jp</th>\n",
       "      <th>m_genre_jp</th>\n",
       "    </tr>\n",
       "  </thead>\n",
       "  <tbody>\n",
       "    <tr>\n",
       "      <th>0</th>\n",
       "      <td>1</td>\n",
       "      <td>3DS</td>\n",
       "      <td>PS3</td>\n",
       "      <td>PS3</td>\n",
       "      <td>Platform</td>\n",
       "      <td>Role-Playing</td>\n",
       "      <td>Action</td>\n",
       "    </tr>\n",
       "    <tr>\n",
       "      <th>1</th>\n",
       "      <td>2</td>\n",
       "      <td>WiiU</td>\n",
       "      <td>PSV</td>\n",
       "      <td>PS4</td>\n",
       "      <td>Action</td>\n",
       "      <td>Action</td>\n",
       "      <td>Shooter</td>\n",
       "    </tr>\n",
       "    <tr>\n",
       "      <th>2</th>\n",
       "      <td>3</td>\n",
       "      <td>PS3</td>\n",
       "      <td>3DS</td>\n",
       "      <td>PSV</td>\n",
       "      <td>Sports</td>\n",
       "      <td>Fighting</td>\n",
       "      <td>Role-Playing</td>\n",
       "    </tr>\n",
       "    <tr>\n",
       "      <th>3</th>\n",
       "      <td>4</td>\n",
       "      <td>PS4</td>\n",
       "      <td>PS4</td>\n",
       "      <td>3DS</td>\n",
       "      <td>Misc</td>\n",
       "      <td>Misc</td>\n",
       "      <td>Adventure</td>\n",
       "    </tr>\n",
       "    <tr>\n",
       "      <th>4</th>\n",
       "      <td>5</td>\n",
       "      <td>PSP</td>\n",
       "      <td>WiiU</td>\n",
       "      <td>X360</td>\n",
       "      <td>Racing</td>\n",
       "      <td>Shooter</td>\n",
       "      <td>Misc</td>\n",
       "    </tr>\n",
       "  </tbody>\n",
       "</table>\n",
       "</div>"
      ],
      "text/plain": [
       "  indicator e_platf_jp t_platf_jp m_platf_jp e_genre_jp    t_genre_jp  \\\n",
       "0         1        3DS        PS3        PS3   Platform  Role-Playing   \n",
       "1         2       WiiU        PSV        PS4     Action        Action   \n",
       "2         3        PS3        3DS        PSV     Sports      Fighting   \n",
       "3         4        PS4        PS4        3DS       Misc          Misc   \n",
       "4         5        PSP       WiiU       X360     Racing       Shooter   \n",
       "\n",
       "     m_genre_jp  \n",
       "0        Action  \n",
       "1       Shooter  \n",
       "2  Role-Playing  \n",
       "3     Adventure  \n",
       "4          Misc  "
      ]
     },
     "metadata": {},
     "output_type": "display_data"
    }
   ],
   "source": [
    "# Создадим списки рейтингов платформ для Японии\n",
    "e_platform_jp_sales =list(df_fores.loc[df['rating']=='E'].groupby('platform')['jp_sales'].sum().sort_values(ascending=False).index[0:5])\n",
    "t_platform_jp_sales =list(df_fores.loc[df['rating']=='T'].groupby('platform')['jp_sales'].sum().sort_values(ascending=False).index[0:5])\n",
    "m_platform_jp_sales =list(df_fores.loc[df['rating']=='M'].groupby('platform')['jp_sales'].sum().sort_values(ascending=False).index[0:5])\n",
    "# Создадим списки жанров платформ для Японии\n",
    "e_genre_jp_sales =list(df_fores.loc[df['rating']=='E'].groupby('genre')['jp_sales'].sum().sort_values(ascending=False).index[0:5])\n",
    "t_genre_jp_sales =list(df_fores.loc[df['rating']=='T'].groupby('genre')['jp_sales'].sum().sort_values(ascending=False).index[0:5])\n",
    "m_genre_jp_sales =list(df_fores.loc[df['rating']=='M'].groupby('genre')['jp_sales'].sum().sort_values(ascending=False).index[0:5])\n",
    "\n",
    "# Определим пять наиболее продаваемых платформ и жанров в разрезе по регионам\n",
    "top_sales_jp = pd.DataFrame({\n",
    "    'indicator': ['1', '2', '3', '4', '5'], \n",
    "    'e_platf_jp': e_platform_jp_sales, \n",
    "    't_platf_jp': t_platform_jp_sales,\n",
    "    'm_platf_jp': m_platform_jp_sales,\n",
    "    'e_genre_jp': e_genre_jp_sales,\n",
    "    't_genre_jp': t_genre_jp_sales,\n",
    "    'm_genre_jp': m_genre_jp_sales,\n",
    "})\n",
    "display(top_sales_jp)"
   ]
  },
  {
   "cell_type": "code",
   "execution_count": 48,
   "metadata": {},
   "outputs": [
    {
     "data": {
      "text/html": [
       "<div>\n",
       "<style scoped>\n",
       "    .dataframe tbody tr th:only-of-type {\n",
       "        vertical-align: middle;\n",
       "    }\n",
       "\n",
       "    .dataframe tbody tr th {\n",
       "        vertical-align: top;\n",
       "    }\n",
       "\n",
       "    .dataframe thead th {\n",
       "        text-align: right;\n",
       "    }\n",
       "</style>\n",
       "<table border=\"1\" class=\"dataframe\">\n",
       "  <thead>\n",
       "    <tr style=\"text-align: right;\">\n",
       "      <th></th>\n",
       "      <th>indicator</th>\n",
       "      <th>e_platf_other</th>\n",
       "      <th>t_platf_other</th>\n",
       "      <th>m_platf_other</th>\n",
       "      <th>e_genre_other</th>\n",
       "      <th>t_genre_other</th>\n",
       "      <th>m_genre_other</th>\n",
       "    </tr>\n",
       "  </thead>\n",
       "  <tbody>\n",
       "    <tr>\n",
       "      <th>0</th>\n",
       "      <td>1</td>\n",
       "      <td>PS4</td>\n",
       "      <td>PS4</td>\n",
       "      <td>PS4</td>\n",
       "      <td>Sports</td>\n",
       "      <td>Shooter</td>\n",
       "      <td>Action</td>\n",
       "    </tr>\n",
       "    <tr>\n",
       "      <th>1</th>\n",
       "      <td>2</td>\n",
       "      <td>PS3</td>\n",
       "      <td>PS3</td>\n",
       "      <td>PS3</td>\n",
       "      <td>Racing</td>\n",
       "      <td>Action</td>\n",
       "      <td>Shooter</td>\n",
       "    </tr>\n",
       "    <tr>\n",
       "      <th>2</th>\n",
       "      <td>3</td>\n",
       "      <td>XOne</td>\n",
       "      <td>XOne</td>\n",
       "      <td>XOne</td>\n",
       "      <td>Platform</td>\n",
       "      <td>Role-Playing</td>\n",
       "      <td>Role-Playing</td>\n",
       "    </tr>\n",
       "    <tr>\n",
       "      <th>3</th>\n",
       "      <td>4</td>\n",
       "      <td>X360</td>\n",
       "      <td>X360</td>\n",
       "      <td>X360</td>\n",
       "      <td>Action</td>\n",
       "      <td>Sports</td>\n",
       "      <td>Adventure</td>\n",
       "    </tr>\n",
       "    <tr>\n",
       "      <th>4</th>\n",
       "      <td>5</td>\n",
       "      <td>WiiU</td>\n",
       "      <td>PSV</td>\n",
       "      <td>PC</td>\n",
       "      <td>Misc</td>\n",
       "      <td>Fighting</td>\n",
       "      <td>Fighting</td>\n",
       "    </tr>\n",
       "  </tbody>\n",
       "</table>\n",
       "</div>"
      ],
      "text/plain": [
       "  indicator e_platf_other t_platf_other m_platf_other e_genre_other  \\\n",
       "0         1           PS4           PS4           PS4        Sports   \n",
       "1         2           PS3           PS3           PS3        Racing   \n",
       "2         3          XOne          XOne          XOne      Platform   \n",
       "3         4          X360          X360          X360        Action   \n",
       "4         5          WiiU           PSV            PC          Misc   \n",
       "\n",
       "  t_genre_other m_genre_other  \n",
       "0       Shooter        Action  \n",
       "1        Action       Shooter  \n",
       "2  Role-Playing  Role-Playing  \n",
       "3        Sports     Adventure  \n",
       "4      Fighting      Fighting  "
      ]
     },
     "metadata": {},
     "output_type": "display_data"
    }
   ],
   "source": [
    "# Создадим списки рейтингов платформ для Других стран\n",
    "e_platform_other_sales =list(df_fores.loc[df['rating']=='E'].groupby('platform')['other_sales'].sum().sort_values(ascending=False).index[0:5])\n",
    "t_platform_other_sales =list(df_fores.loc[df['rating']=='T'].groupby('platform')['other_sales'].sum().sort_values(ascending=False).index[0:5])\n",
    "m_platform_other_sales =list(df_fores.loc[df['rating']=='M'].groupby('platform')['other_sales'].sum().sort_values(ascending=False).index[0:5])\n",
    "# Создадим списки жанров платформ для Других стран\n",
    "e_genre_other_sales =list(df_fores.loc[df['rating']=='E'].groupby('genre')['other_sales'].sum().sort_values(ascending=False).index[0:5])\n",
    "t_genre_other_sales =list(df_fores.loc[df['rating']=='T'].groupby('genre')['other_sales'].sum().sort_values(ascending=False).index[0:5])\n",
    "m_genre_other_sales =list(df_fores.loc[df['rating']=='M'].groupby('genre')['other_sales'].sum().sort_values(ascending=False).index[0:5])\n",
    "\n",
    "# Определим пять наиболее продаваемых платформ и жанров в разрезе по регионам\n",
    "top_sales_other = pd.DataFrame({\n",
    "    'indicator': ['1', '2', '3', '4', '5'], \n",
    "    'e_platf_other': e_platform_other_sales, \n",
    "    't_platf_other': t_platform_other_sales,\n",
    "    'm_platf_other': m_platform_other_sales,\n",
    "    'e_genre_other': e_genre_other_sales,\n",
    "    't_genre_other': t_genre_other_sales,\n",
    "    'm_genre_other': m_genre_other_sales,\n",
    "})\n",
    "display(top_sales_other)"
   ]
  },
  {
   "cell_type": "markdown",
   "metadata": {},
   "source": [
    "### Выявление влияния рейтинга ESRB на продажи в каждом регионе <a id='4.4'></a>"
   ]
  },
  {
   "cell_type": "code",
   "execution_count": 49,
   "metadata": {},
   "outputs": [
    {
     "data": {
      "image/png": "[encoded data removed]",
      "text/plain": [
       "<Figure size 504x360 with 1 Axes>"
      ]
     },
     "metadata": {
      "needs_background": "light"
     },
     "output_type": "display_data"
    },
    {
     "data": {
      "image/png": "[encoded data removed]",
      "text/plain": [
       "<Figure size 504x360 with 1 Axes>"
      ]
     },
     "metadata": {
      "needs_background": "light"
     },
     "output_type": "display_data"
    },
    {
     "data": {
      "image/png": "[encoded data removed]",
      "text/plain": [
       "<Figure size 504x360 with 1 Axes>"
      ]
     },
     "metadata": {
      "needs_background": "light"
     },
     "output_type": "display_data"
    },
    {
     "data": {
      "image/png": "[encoded data removed]",
      "text/plain": [
       "<Figure size 504x360 with 1 Axes>"
      ]
     },
     "metadata": {
      "needs_background": "light"
     },
     "output_type": "display_data"
    }
   ],
   "source": [
    "# Пострим графики продаж по рейтингам\n",
    "regions = ['na_sales', 'eu_sales', 'jp_sales', 'other_sales']\n",
    "name_title = ['na_rating_sales', 'eu_rating_sales', 'jp_rating_sales', 'other_rating_sales']\n",
    "\n",
    "for i in range(len(regions)):\n",
    "    df_sale_rating[f'{regions[i]}'].plot(kind='bar', title=name_title[i], figsize=(7, 5))\n",
    "    plt.show()"
   ]
  },
  {
   "cell_type": "markdown",
   "metadata": {},
   "source": [
    "### Общие выводы по составлению портрета пользователя <a id='4f'></a>\n",
    "\n",
    "По результатам анализа пяти наиболее продаваемых платформ в рамках актуального периода по регионам, можно сделать вывод, что структура потребления в Северной Америке очень похожа на структуру потребления в Европе. Все пять строк (в разном порядке), как на американском рынке, так и на европейском занимают платформы `PS4` `XOne`, `X360`, `PS3`, `3DS`. В тоже время, на японском рынке в продажах лидирует платформа `3DS`– которая замыкает «топ 5» лидеров продаж американского и европейского рынка. Кроме того, в «топ 5» лидеров продаж японского рынка водят платформы `PSV` и `WiiU` – которые вообще не являются в лидерах на других рынках.\n",
    "\n",
    "Таким образом, у американских и европейских пользователей схожие предпочтения относительно игровых платформ. Японские пользователи чаще предпочитают другие платформы (`3DS `, `PSV` и `WiiU` ) не пользующиеся популярностью в остальных регионах.\n",
    "\n",
    "Относительно жанров ситуация схожая. Как и в платформах американские и европейские потребители предпочитают `Action`, `Sports`, `Shooter`, `Role-Playing`. Далее начинаются различия: американцы предпочитают `Misc`, а европейцы – `Racing`. В Японии, как и в Америке с Европой в топ-5 предпочтений входят `Action`, `Shooter`. Но лидирует у японцев жанр `Role-Playing`. Кроме того, в Японии в лидеры не попал жанр `Sports`, но вместо этого в топ-5 вошел жанр `Fighting`.\n",
    "\n",
    "Т.о., при очевидной схожести потребления игр как в разрезе по платформам, так и по жанрам есть отличия лидеров на японском рынке. Японцы, в отличии от американцев с европейчами, предпочитают игры жанра `Role-Playing` на платформе `3DS`. Кроме того, вместо жанра `Sports`, в Японии предпочитают жанр `Fighting`.\n",
    "\n",
    "В разрезе категорий, по всем регионам, основные продажи приходятся на `M` (взрослые), `E` (для всех), `T` (подростки). В региональном разрезе, если на американском и европейском рынках одинаковая ситуация – лидирует категория `М`, а за ней идет `E`,  то в Японии основные продажи приходятся на категорию `not`.\n",
    "\n",
    "Учитывая жанровую особенность, можно говорить о том, что в Японии в меньшей степени склонны к жестким жанрам для взрослой категории, отдавая предпочтение более гуманным жанрам для подростков или без возрастных ограничений. \n",
    "\n",
    "На американском рынке в категории для всех потребители предпочитают `Sports` на платформе `PS4`, подростки – ` Shooter ` на ` PS4`, взрослые – Action  на ` XOne`. В Европе точно такие же предпочтения, с той лишь разницей, что взрослые предпочитают платформу `PS4`.\n",
    "\n",
    "Совершенно иные жанровые предпочтения в Японии. В категории для всех японцы предпочитают `Platform` на платформе ` 3DS`, подростки – `Role-Playing` на `PS3`, взрослые – `Action` на `PS3`.\n",
    "\n",
    "Анализ влияния рейтинга показал, что категория `M` (для взрослых) имеет значительно более высокий уровень продаж на любом рынке (кроме японского), относительно остальных категорий. То есть, чем выше охват взрослой аудитории, тем выше вероятность роста объема продаж. Остальные категории имеют сбыт, соотносящийся с региональными предпочтениями, и не имеют прямого влияния на продажи.\n",
    "\n",
    "Таким образом, для увеличения продаж необходимо предлагать игры для максимально широкого круга потребителей, в первую очередь, в категории `М`, далее в категории `Е` и без указания категорий `not`"
   ]
  },
  {
   "cell_type": "markdown",
   "metadata": {},
   "source": [
    "## Проверка гипотез <a id='5'></a>\n",
    "\n",
    "1. Проверить гипотезу о сопоставимости средних пользовательских рейтингов платформ XOne и PC\n",
    "2. Проверить гипотезу о сопоставимости средних пользовательских рейтингов жанров Action и Sports"
   ]
  },
  {
   "cell_type": "markdown",
   "metadata": {},
   "source": [
    "### Проверка гипотезы о сопоставимости средних пользовательских рейтингов платформ XOne и PC <a id='5.1'></a>"
   ]
  },
  {
   "cell_type": "code",
   "execution_count": 50,
   "metadata": {
    "scrolled": true
   },
   "outputs": [
    {
     "name": "stdout",
     "output_type": "stream",
     "text": [
      "p-значение: 0.14759594013430463\n",
      "Принимаем нулевую гипотезу: Нет ни какого различия между средними пользовательскими рейтингами платформ XOne и PC\n"
     ]
    }
   ],
   "source": [
    "# Проверим гипотезу о сопоставимости средних пользовательских рейтингов платформ XOne и PC \n",
    "hip_1_0 = 'Нет ни какого различия между средними пользовательскими рейтингами платформ XOne и PC'\n",
    "hip_1_a = 'Существуют различия между средними пользовательскими рейтингами платформ XOne и PC'\n",
    "\n",
    "ser_1 = df_fores.loc[(df_fores['platform'] == 'XOne') & (df_fores['user_score'].isna() == False), 'user_score']\n",
    "ser_2 = df_fores.loc[(df_fores['platform'] == 'PC') & (df_fores['user_score'].isna() == False), 'user_score']\n",
    "\n",
    "alpha = .05 # если p-value окажется меньше него - отвегнем нулевую гипотезу\n",
    "results = st.ttest_ind(ser_1, ser_2, equal_var=False)\n",
    "print('p-значение:', results.pvalue)\n",
    "\n",
    "if results.pvalue > alpha:\n",
    "    print('Принимаем нулевую гипотезу:', hip_1_0)\n",
    "else:\n",
    "    print('Ответгаем нулевую гипотезу:', hip_1_a) "
   ]
  },
  {
   "cell_type": "code",
   "execution_count": 51,
   "metadata": {
    "scrolled": false
   },
   "outputs": [
    {
     "data": {
      "image/png": "[encoded data removed]",
      "text/plain": [
       "<Figure size 504x360 with 1 Axes>"
      ]
     },
     "metadata": {
      "needs_background": "light"
     },
     "output_type": "display_data"
    }
   ],
   "source": [
    "# Визуализируем проверку гипотезы о сопоставимости средних пользовательских рейтингов платформ XOne и PC \n",
    "plt.figure(figsize=(7, 5))\n",
    "sns.kdeplot(data=ser_1, label='XOne')\n",
    "sns.kdeplot(data=ser_2, label='PC')\n",
    "plt.xlabel(\"Test results\")\n",
    "plt.title('XOne_vs_PC')\n",
    "plt.legend()\n",
    "plt.show()"
   ]
  },
  {
   "cell_type": "markdown",
   "metadata": {},
   "source": [
    "### Проверка гипотезы о сопоставимости средних пользовательских рейтингов жанров Action и Sports <a id='5.2'></a>"
   ]
  },
  {
   "cell_type": "code",
   "execution_count": 52,
   "metadata": {
    "scrolled": true
   },
   "outputs": [
    {
     "name": "stdout",
     "output_type": "stream",
     "text": [
      "p-значение: 1.4460039700704315e-20\n",
      "Ответгаем нулевую гипотезу: Существуют различия между средними пользовательскими рейтингами жанров Action и Sports\n"
     ]
    }
   ],
   "source": [
    "# Проверим гипотезу о сопоставимости средних пользовательских рейтингов жанров Action и Sports\n",
    "hip_2_0 = 'Нет ни какого различия между средними пользовательскими рейтингами жанров Action и Sports'\n",
    "hip_2_a = 'Существуют различия между средними пользовательскими рейтингами жанров Action и Sports'\n",
    "\n",
    "ser_3 = df_fores.loc[(df_fores['genre'] == 'Action') & (df_fores['user_score'].isna() == False), 'user_score']\n",
    "ser_4 = df_fores.loc[(df_fores['genre'] == 'Sports') & (df_fores['user_score'].isna() == False), 'user_score']\n",
    "\n",
    "alpha = .05 # если p-value окажется меньше него - отвегнем нулевую гипотезу\n",
    "results = st.ttest_ind(ser_3, ser_4, equal_var=False)\n",
    "print('p-значение:', results.pvalue)\n",
    "\n",
    "if results.pvalue > alpha:\n",
    "    print('Принимаем нулевую гипотезу:', hip_2_0)\n",
    "else:\n",
    "    print('Ответгаем нулевую гипотезу:', hip_2_a)"
   ]
  },
  {
   "cell_type": "code",
   "execution_count": 53,
   "metadata": {
    "scrolled": true
   },
   "outputs": [
    {
     "data": {
      "image/png": "[encoded data removed]",
      "text/plain": [
       "<Figure size 504x360 with 1 Axes>"
      ]
     },
     "metadata": {
      "needs_background": "light"
     },
     "output_type": "display_data"
    }
   ],
   "source": [
    "# Визуализируем проверку гипотезы о сопоставимости средних пользовательских рейтингов жанров Action и Sports\n",
    "plt.figure(figsize=(7, 5))\n",
    "sns.kdeplot(data=ser_3, label='Action')\n",
    "sns.kdeplot(data=ser_4, label='Sports')\n",
    "plt.xlabel(\"Test results\")\n",
    "plt.title('Action_vs_Sports')\n",
    "plt.legend()\n",
    "plt.show()"
   ]
  },
  {
   "cell_type": "markdown",
   "metadata": {},
   "source": [
    "### Общие выводы по проверке гипотез <a id='5f'></a>\n",
    "\n",
    "Для уточнения различий между платформами `XOne` и `PC`, была сформулирована статистическая гипотеза о сопоставимости по ним средних пользовательских оценок. Сравнительный параметр для оценки р-значения был выбран 0,05. В результате не выявлено различий в пользовательских оценках по этим платформам.\n",
    "\n",
    "Для уточнения различий между жанрами `Action` и `Sports`, также была сформулирована статистическая гипотеза о сопоставимости по ним средних пользовательских оценок. Сравнительный параметр для оценки р-значения был выбран 0,05. В результате отвеогнута нулевая гипотеза и сопоставимость пользовательских оценок по этим жанрам не подтверждена.\n",
    "\n",
    "Следовательно, можно предположить, что жанры имеют более существенные различия в представлениях пользователей, нежели платформы. Это может быть объяснено высокой волатильности продаж платформ, как следствие множественности факторов, влияющих на восприятие платформы пользователем. Для жанров напротив, крайне важны пользовательские предпочтения и их оценки"
   ]
  },
  {
   "cell_type": "markdown",
   "metadata": {},
   "source": [
    "## Общие выводы <a id='6'></a>\n",
    "\n",
    "Однако, для прогнозирования продаж на 2017 год этот период не подходит в связи с коротким жизненным циклом платформ.\n",
    "\n",
    "Анализ платформ показал, что срок их жизненного цикла составляет 7 лет. Максимальных продаж платформа достигает через 3.5-3.8 лет. \n",
    "\n",
    "Таким образом, для прогнозирования пика продаж, необходимо принять ретроспективный период равный 4 годам – с 2013 по 2016 гг.\n",
    "\n",
    "Анализ динамики продаж показал, что по состоянию на 2016 год, потенциально прибыльными являются платформы `PS4` и `XOne`. Также «темной лошадкой» можно считать платформу `WiiU` – на момент 2016 года нет четкого поднимания, будет она приказывать рост или нет. Однако, ее также можно считать потенциально перспективной.\n",
    "\n",
    "Подавляющее большинство платформ имеют крайне незначительные годовые продажи. В тоже время, 3,5% продаж показывают аномально высокие результаты, что может говорить о довольно значимой волатильности продаж платформ, что может быть следствием сочетания высокого уровня конкуренции рынка, ошибок прогнозирования и отбора продукта, нестабильности продукта и пр. Такое положение дел показывает важность развития платформ на базе более точных прогнозов.\n",
    "\n",
    "Также надо отметить, что анализ влияния на уровень продаж оценок и отзывов, на примере наиболее популярной платформы - `PS4` показал то, что на продажи не влияют ни оценки критиков, ни отзывы пользователей.\n",
    "\n",
    "Анализ жанров показал, что при группировке жанров по количеству игр, наиболее популярным является жанр `Action`. На втором месте по популярности с сильным отстававшим `Role-Playing`. Группировка жанров по объему продаж показала, что лидирует также `Action`, а на втором месте жанр `Shooter`. Соотнесение популярности жанров с объемами их продаж показало значимый уровень корреляции - 0.8417.\n",
    "\n",
    "Учитывая все сказанное выше, можно сделать вывод о том, что наиболее эффективным будет в 2017 году акцент на три платформы^ `PS4`, `WiiU`, `XOne` по следующим жанрам: `Action`, `Role-Playing`, `Shooter`\n",
    "\n",
    "По результатам анализа пяти наиболее продаваемых платформ по регионам, можно сделать вывод, что структура потребления в Северной Америке очень похожа на структуру потребления в Европе –  `PS4` `XOne`, `X360`, `PS3`, `3DS`. В тоже время, на японском рынке в продажах лидирует платформа `3DS` – которая замыкает «топ 5» лидеров продаж американского и европейского рынка. Кроме того, в «топ 5» лидеров продаж японского рынка водят платформы `PSV` и `WiiU` – которые вообще не являются в лидерах на других рынках.\n",
    "\n",
    "Относительно жанров ситуация схожая. Как и в платформах американские и европейские потребители предпочитают `Action`, `Sports`, `Shooter`, `Role-Playing`. В Японии хотя и входят в топ-5 предпочтений `Action`, `Shooter`, но лидирует жанр `Role-Playing`. Кроме того, в Японии в лидеры не попал жанр `Sports`, но вместо этого в топ-5 вошел жанр `Fighting`.\n",
    "\n",
    "В разрезе категорий, по всем регионам, основные продажи приходятся на `M` (взрослые), `E` (для всех), `T` (подростки). В региональном разрезе, если на американском и европейском рынках одинаковая ситуация – лидирует категория `М`, а за ней идет `E`, то в Японии основные продажи приходятся на категорию `not`.\n",
    "\n",
    "Учитывая жанровую особенность, можно говорить о том, что в Японии в меньшей степени склонны к жестким жанрам для взрослой категории, отдавая предпочтение более гуманным жанрам для подростков или без возрастных ограничений.\n",
    "\n",
    "На американском рынке в категории для всех потребители предпочитают `Sports` на платформе `PS4`, подростки – `Shooter` на `PS4`, взрослые – `Action` на `XOne`. В Европе точно такие же предпочтения, с той лишь разницей, что взрослые предпочитают платформу `PS4`.\n",
    "\n",
    "Совершенно иные жанровые предпочтения в Японии. В категории для всех японцы предпочитают `Platform` на платформе `3DS`, подростки – `Role-Playing` на `PS3`, взрослые – `Action` на `PS3`.\n",
    "\n",
    "Анализ влияния рейтинга показал, что категория `M` (для взрослых) имеет значительно более высокий уровень продаж на любом рынке (кроме японского), относительно остальных категорий. То есть, чем выше охват взрослой аудитории, тем выше вероятность роста объема продаж. Остальные категории имеют сбыт, соотносящийся с региональными предпочтениями, и не имеют прямого влияния на продажи.\n",
    "\n",
    "Таким образом, для увеличения продаж необходимо предлагать игры для максимально широкого круга потребителей, в первую очередь, в категории `М`, далее в категории `Е` и без указания категорий `not`.\n",
    "\n",
    "Для уточнения различий между платформами `XOne` и `PC`, была сформулирована проверена и принята статистическая гипотеза о сопоставимости по ним средних пользовательских оценок. Различий между средними пользовательскими рейтингами платформ XOne и PC не выявлено. \n",
    "\n",
    "Для выявления различий между жанрами `Action` и `Sports`, также была сформулирована и отвергнута статистическая гипотеза, что нет ни какого различия между средними пользовательскими рейтингами жанров `Action` и `Sports`. Таким образом, существуют различия между средними пользовательскими рейтингами жанров `Action` и `Sports`.\n",
    "\n",
    "Следовательно, можно предположить, что жанры имеют более существенные различия в представлениях пользователей, нежели платформы. Это может быть объяснено высокой волатильности продаж платформ, как следствие множественности факторов, влияющих на восприятие платформы пользователем. Для жанров напротив, крайне важны пользовательские предпочтения и их оценки.\n",
    "\n",
    "**Резюме**\n",
    "\n",
    "Учитывая все сказанное выше можно утверждать, что в 2017 году потенциально популярными будут платформы `PS4` и `XOne`. Для американского и европейского рынков необходимо предложить на этих платформах игры в жанрах `Action` (`Т`), `Shooter` (`М`), `Sports` (`Е`), для японского рынка – в жанрах `Platform` (`Е`), `Role-Playing` (`Т`), `Action` (`М`). В тоже время, максимально расширить предложения в категории `Е`. При продвижении основной упор сделать на жанры через формирование положительного мнения у пользователей."
   ]
  },
  {
   "cell_type": "code",
   "execution_count": null,
   "metadata": {},
   "outputs": [],
   "source": []
  }
 ],
 "metadata": {
  "ExecuteTimeLog": [
   {
    "duration": 1372,
    "start_time": "2022-04-20T18:29:20.119Z"
   },
   {
    "duration": 61,
    "start_time": "2022-04-20T18:29:21.493Z"
   },
   {
    "duration": 3,
    "start_time": "2022-04-20T18:29:26.972Z"
   },
   {
    "duration": 45,
    "start_time": "2022-04-20T18:29:26.986Z"
   },
   {
    "duration": 12,
    "start_time": "2022-04-20T18:29:27.033Z"
   },
   {
    "duration": 12,
    "start_time": "2022-04-20T18:29:27.046Z"
   },
   {
    "duration": 11,
    "start_time": "2022-04-20T18:29:27.060Z"
   },
   {
    "duration": 39,
    "start_time": "2022-04-20T18:29:27.072Z"
   },
   {
    "duration": 16,
    "start_time": "2022-04-20T18:29:27.113Z"
   },
   {
    "duration": 16,
    "start_time": "2022-04-20T18:29:27.130Z"
   },
   {
    "duration": 3,
    "start_time": "2022-04-20T18:29:27.148Z"
   },
   {
    "duration": 8,
    "start_time": "2022-04-20T18:29:27.153Z"
   },
   {
    "duration": 48,
    "start_time": "2022-04-20T18:29:27.162Z"
   },
   {
    "duration": 24,
    "start_time": "2022-04-20T18:29:27.211Z"
   },
   {
    "duration": 24,
    "start_time": "2022-04-20T18:29:27.237Z"
   },
   {
    "duration": 46,
    "start_time": "2022-04-20T18:29:27.263Z"
   },
   {
    "duration": 57,
    "start_time": "2022-04-20T18:29:27.311Z"
   },
   {
    "duration": 1585,
    "start_time": "2022-04-20T18:29:27.370Z"
   },
   {
    "duration": 171,
    "start_time": "2022-04-20T18:29:28.958Z"
   },
   {
    "duration": 7,
    "start_time": "2022-04-20T18:29:29.130Z"
   },
   {
    "duration": 13,
    "start_time": "2022-04-20T18:29:29.138Z"
   },
   {
    "duration": 36,
    "start_time": "2022-04-20T18:29:29.152Z"
   },
   {
    "duration": 415,
    "start_time": "2022-04-20T18:29:29.208Z"
   },
   {
    "duration": 17,
    "start_time": "2022-04-20T18:29:29.625Z"
   },
   {
    "duration": 426,
    "start_time": "2022-04-20T18:29:29.644Z"
   },
   {
    "duration": 105,
    "start_time": "2022-04-20T18:29:30.072Z"
   },
   {
    "duration": 123,
    "start_time": "2022-04-20T18:29:30.179Z"
   },
   {
    "duration": 108,
    "start_time": "2022-04-20T18:29:30.307Z"
   },
   {
    "duration": 20,
    "start_time": "2022-04-20T18:29:30.416Z"
   },
   {
    "duration": 172,
    "start_time": "2022-04-20T18:29:30.438Z"
   },
   {
    "duration": 166,
    "start_time": "2022-04-20T18:29:30.612Z"
   },
   {
    "duration": 188,
    "start_time": "2022-04-20T18:29:30.780Z"
   },
   {
    "duration": 191,
    "start_time": "2022-04-20T18:29:30.970Z"
   },
   {
    "duration": 170,
    "start_time": "2022-04-20T18:29:31.163Z"
   },
   {
    "duration": 363,
    "start_time": "2022-04-20T18:29:31.335Z"
   },
   {
    "duration": 27,
    "start_time": "2022-04-20T18:29:31.699Z"
   },
   {
    "duration": 12,
    "start_time": "2022-04-20T18:29:31.727Z"
   },
   {
    "duration": 8,
    "start_time": "2022-04-20T18:29:31.741Z"
   },
   {
    "duration": 348,
    "start_time": "2022-04-20T18:29:31.751Z"
   },
   {
    "duration": 39,
    "start_time": "2022-04-20T18:29:32.101Z"
   },
   {
    "duration": 34,
    "start_time": "2022-04-20T18:29:32.145Z"
   },
   {
    "duration": 60,
    "start_time": "2022-04-20T18:29:32.180Z"
   },
   {
    "duration": 34,
    "start_time": "2022-04-20T18:29:32.243Z"
   },
   {
    "duration": 173,
    "start_time": "2022-04-20T18:29:32.278Z"
   },
   {
    "duration": 159,
    "start_time": "2022-04-20T18:29:32.453Z"
   },
   {
    "duration": 159,
    "start_time": "2022-04-20T18:29:32.613Z"
   },
   {
    "duration": 146,
    "start_time": "2022-04-20T18:29:32.774Z"
   },
   {
    "duration": 11,
    "start_time": "2022-04-20T18:29:32.921Z"
   },
   {
    "duration": 271,
    "start_time": "2022-04-20T18:29:32.933Z"
   },
   {
    "duration": 10,
    "start_time": "2022-04-20T18:29:33.207Z"
   },
   {
    "duration": 180,
    "start_time": "2022-04-20T18:29:33.219Z"
   },
   {
    "duration": 1210,
    "start_time": "2022-04-28T15:22:02.037Z"
   },
   {
    "duration": 58,
    "start_time": "2022-04-28T15:22:03.249Z"
   },
   {
    "duration": 14,
    "start_time": "2022-04-28T15:22:03.309Z"
   },
   {
    "duration": 14,
    "start_time": "2022-04-28T15:22:03.325Z"
   },
   {
    "duration": 12,
    "start_time": "2022-04-28T15:22:03.341Z"
   },
   {
    "duration": 11,
    "start_time": "2022-04-28T15:22:03.355Z"
   },
   {
    "duration": 49,
    "start_time": "2022-04-28T15:22:03.368Z"
   },
   {
    "duration": 16,
    "start_time": "2022-04-28T15:22:03.419Z"
   },
   {
    "duration": 3,
    "start_time": "2022-04-28T15:22:03.436Z"
   },
   {
    "duration": 13,
    "start_time": "2022-04-28T15:22:03.442Z"
   },
   {
    "duration": 12,
    "start_time": "2022-04-28T15:22:03.456Z"
   },
   {
    "duration": 53,
    "start_time": "2022-04-28T15:22:03.469Z"
   },
   {
    "duration": 17,
    "start_time": "2022-04-28T15:22:03.523Z"
   },
   {
    "duration": 18,
    "start_time": "2022-04-28T15:22:03.541Z"
   },
   {
    "duration": 82,
    "start_time": "2022-04-28T15:22:03.561Z"
   },
   {
    "duration": 1611,
    "start_time": "2022-04-28T15:22:03.645Z"
   },
   {
    "duration": 206,
    "start_time": "2022-04-28T15:22:05.258Z"
   },
   {
    "duration": 8,
    "start_time": "2022-04-28T15:22:05.465Z"
   },
   {
    "duration": 10,
    "start_time": "2022-04-28T15:22:05.475Z"
   },
   {
    "duration": 56,
    "start_time": "2022-04-28T15:22:05.487Z"
   },
   {
    "duration": 423,
    "start_time": "2022-04-28T15:22:05.545Z"
   },
   {
    "duration": 19,
    "start_time": "2022-04-28T15:22:05.969Z"
   },
   {
    "duration": 455,
    "start_time": "2022-04-28T15:22:05.990Z"
   },
   {
    "duration": 109,
    "start_time": "2022-04-28T15:22:06.447Z"
   },
   {
    "duration": 134,
    "start_time": "2022-04-28T15:22:06.557Z"
   },
   {
    "duration": 97,
    "start_time": "2022-04-28T15:22:06.693Z"
   },
   {
    "duration": 32,
    "start_time": "2022-04-28T15:22:06.792Z"
   },
   {
    "duration": 180,
    "start_time": "2022-04-28T15:22:06.828Z"
   },
   {
    "duration": 165,
    "start_time": "2022-04-28T15:22:07.010Z"
   },
   {
    "duration": 201,
    "start_time": "2022-04-28T15:22:07.178Z"
   },
   {
    "duration": 202,
    "start_time": "2022-04-28T15:22:07.382Z"
   },
   {
    "duration": 175,
    "start_time": "2022-04-28T15:22:07.586Z"
   },
   {
    "duration": 393,
    "start_time": "2022-04-28T15:22:07.763Z"
   },
   {
    "duration": 22,
    "start_time": "2022-04-28T15:22:08.157Z"
   },
   {
    "duration": 12,
    "start_time": "2022-04-28T15:22:08.181Z"
   },
   {
    "duration": 6,
    "start_time": "2022-04-28T15:22:08.208Z"
   },
   {
    "duration": 313,
    "start_time": "2022-04-28T15:22:08.216Z"
   },
   {
    "duration": 33,
    "start_time": "2022-04-28T15:22:08.531Z"
   },
   {
    "duration": 49,
    "start_time": "2022-04-28T15:22:08.566Z"
   },
   {
    "duration": 33,
    "start_time": "2022-04-28T15:22:08.617Z"
   },
   {
    "duration": 33,
    "start_time": "2022-04-28T15:22:08.651Z"
   },
   {
    "duration": 185,
    "start_time": "2022-04-28T15:22:08.686Z"
   },
   {
    "duration": 168,
    "start_time": "2022-04-28T15:22:08.873Z"
   },
   {
    "duration": 179,
    "start_time": "2022-04-28T15:22:09.043Z"
   },
   {
    "duration": 161,
    "start_time": "2022-04-28T15:22:09.223Z"
   },
   {
    "duration": 11,
    "start_time": "2022-04-28T15:22:09.386Z"
   },
   {
    "duration": 281,
    "start_time": "2022-04-28T15:22:09.408Z"
   },
   {
    "duration": 21,
    "start_time": "2022-04-28T15:22:09.690Z"
   },
   {
    "duration": 229,
    "start_time": "2022-04-28T15:22:09.713Z"
   },
   {
    "duration": 228,
    "start_time": "2022-04-28T19:37:08.493Z"
   },
   {
    "duration": 11,
    "start_time": "2022-04-28T19:39:37.248Z"
   },
   {
    "duration": 1262,
    "start_time": "2022-04-29T18:41:50.736Z"
   },
   {
    "duration": 52,
    "start_time": "2022-04-29T18:41:52.000Z"
   },
   {
    "duration": 14,
    "start_time": "2022-04-29T18:41:52.054Z"
   },
   {
    "duration": 14,
    "start_time": "2022-04-29T18:41:52.070Z"
   },
   {
    "duration": 11,
    "start_time": "2022-04-29T18:41:52.086Z"
   },
   {
    "duration": 11,
    "start_time": "2022-04-29T18:41:52.099Z"
   },
   {
    "duration": 48,
    "start_time": "2022-04-29T18:41:52.111Z"
   },
   {
    "duration": 13,
    "start_time": "2022-04-29T18:41:52.161Z"
   },
   {
    "duration": 2,
    "start_time": "2022-04-29T18:41:52.176Z"
   },
   {
    "duration": 6,
    "start_time": "2022-04-29T18:41:52.181Z"
   },
   {
    "duration": 12,
    "start_time": "2022-04-29T18:41:52.189Z"
   },
   {
    "duration": 15,
    "start_time": "2022-04-29T18:44:21.204Z"
   },
   {
    "duration": 5,
    "start_time": "2022-04-29T18:45:05.584Z"
   },
   {
    "duration": 5,
    "start_time": "2022-04-29T18:46:02.978Z"
   },
   {
    "duration": 9,
    "start_time": "2022-04-29T18:46:04.246Z"
   },
   {
    "duration": 4,
    "start_time": "2022-04-29T18:46:06.184Z"
   },
   {
    "duration": 166,
    "start_time": "2022-04-29T19:33:09.884Z"
   },
   {
    "duration": 162,
    "start_time": "2022-04-29T19:33:49.725Z"
   },
   {
    "duration": 9,
    "start_time": "2022-04-29T19:39:47.342Z"
   },
   {
    "duration": 4,
    "start_time": "2022-04-29T19:40:15.528Z"
   },
   {
    "duration": 9,
    "start_time": "2022-04-29T19:40:28.560Z"
   },
   {
    "duration": 9,
    "start_time": "2022-04-29T19:40:49.945Z"
   },
   {
    "duration": 95,
    "start_time": "2022-04-29T19:42:27.434Z"
   },
   {
    "duration": 15,
    "start_time": "2022-04-29T19:42:41.510Z"
   },
   {
    "duration": 7,
    "start_time": "2022-04-29T19:44:46.124Z"
   },
   {
    "duration": 133,
    "start_time": "2022-04-29T19:45:54.940Z"
   },
   {
    "duration": 3,
    "start_time": "2022-04-29T19:51:29.590Z"
   },
   {
    "duration": 43,
    "start_time": "2022-04-29T19:51:29.600Z"
   },
   {
    "duration": 12,
    "start_time": "2022-04-29T19:51:29.644Z"
   },
   {
    "duration": 12,
    "start_time": "2022-04-29T19:51:29.658Z"
   },
   {
    "duration": 13,
    "start_time": "2022-04-29T19:51:29.671Z"
   },
   {
    "duration": 10,
    "start_time": "2022-04-29T19:51:29.685Z"
   },
   {
    "duration": 15,
    "start_time": "2022-04-29T19:51:29.697Z"
   },
   {
    "duration": 41,
    "start_time": "2022-04-29T19:51:29.713Z"
   },
   {
    "duration": 6,
    "start_time": "2022-04-29T19:51:29.756Z"
   },
   {
    "duration": 7,
    "start_time": "2022-04-29T19:51:29.763Z"
   },
   {
    "duration": 4,
    "start_time": "2022-04-29T19:51:29.772Z"
   },
   {
    "duration": 18,
    "start_time": "2022-04-29T19:51:29.781Z"
   },
   {
    "duration": 15,
    "start_time": "2022-04-29T19:51:29.801Z"
   },
   {
    "duration": 42,
    "start_time": "2022-04-29T19:51:29.818Z"
   },
   {
    "duration": 49,
    "start_time": "2022-04-29T19:51:29.862Z"
   },
   {
    "duration": 1399,
    "start_time": "2022-04-29T19:51:29.913Z"
   },
   {
    "duration": 133,
    "start_time": "2022-04-29T19:51:31.314Z"
   },
   {
    "duration": 127,
    "start_time": "2022-04-29T19:51:59.951Z"
   },
   {
    "duration": 188,
    "start_time": "2022-04-29T19:52:12.750Z"
   },
   {
    "duration": 11,
    "start_time": "2022-04-29T20:07:34.322Z"
   },
   {
    "duration": 28,
    "start_time": "2022-04-29T20:09:20.569Z"
   },
   {
    "duration": 832,
    "start_time": "2022-04-29T20:10:20.008Z"
   },
   {
    "duration": 10,
    "start_time": "2022-04-29T20:11:26.750Z"
   },
   {
    "duration": 19,
    "start_time": "2022-04-29T20:27:23.397Z"
   },
   {
    "duration": 97,
    "start_time": "2022-04-29T20:33:35.120Z"
   },
   {
    "duration": 77,
    "start_time": "2022-04-29T20:34:55.948Z"
   },
   {
    "duration": 16,
    "start_time": "2022-04-29T20:40:31.857Z"
   },
   {
    "duration": 17,
    "start_time": "2022-04-29T20:42:12.119Z"
   },
   {
    "duration": 15,
    "start_time": "2022-04-29T20:44:15.537Z"
   },
   {
    "duration": 1032,
    "start_time": "2022-04-29T20:47:45.267Z"
   },
   {
    "duration": 1216,
    "start_time": "2022-04-29T20:49:47.003Z"
   },
   {
    "duration": 9,
    "start_time": "2022-04-29T20:54:48.914Z"
   },
   {
    "duration": 18,
    "start_time": "2022-04-29T21:08:48.188Z"
   },
   {
    "duration": 293,
    "start_time": "2022-04-29T21:08:54.529Z"
   },
   {
    "duration": 288,
    "start_time": "2022-04-29T21:09:14.637Z"
   },
   {
    "duration": 274,
    "start_time": "2022-04-29T21:09:23.093Z"
   },
   {
    "duration": 253,
    "start_time": "2022-04-29T21:09:31.777Z"
   },
   {
    "duration": 75,
    "start_time": "2022-04-29T21:11:49.594Z"
   },
   {
    "duration": 99,
    "start_time": "2022-04-29T21:12:01.339Z"
   },
   {
    "duration": 26,
    "start_time": "2022-04-29T21:12:11.249Z"
   },
   {
    "duration": 7,
    "start_time": "2022-04-29T21:25:04.554Z"
   },
   {
    "duration": 7,
    "start_time": "2022-04-29T21:25:42.597Z"
   },
   {
    "duration": 336,
    "start_time": "2022-04-29T21:30:19.091Z"
   },
   {
    "duration": 75,
    "start_time": "2022-04-29T21:37:24.116Z"
   },
   {
    "duration": 201,
    "start_time": "2022-04-29T21:42:25.510Z"
   },
   {
    "duration": 95,
    "start_time": "2022-04-29T21:43:11.254Z"
   },
   {
    "duration": 88,
    "start_time": "2022-04-29T21:43:25.713Z"
   },
   {
    "duration": 100,
    "start_time": "2022-04-29T21:44:34.676Z"
   },
   {
    "duration": 18,
    "start_time": "2022-04-29T21:49:10.956Z"
   },
   {
    "duration": 3,
    "start_time": "2022-04-29T22:00:19.614Z"
   },
   {
    "duration": 40,
    "start_time": "2022-04-29T22:00:19.627Z"
   },
   {
    "duration": 13,
    "start_time": "2022-04-29T22:00:19.669Z"
   },
   {
    "duration": 14,
    "start_time": "2022-04-29T22:00:19.683Z"
   },
   {
    "duration": 10,
    "start_time": "2022-04-29T22:00:19.698Z"
   },
   {
    "duration": 10,
    "start_time": "2022-04-29T22:00:19.710Z"
   },
   {
    "duration": 40,
    "start_time": "2022-04-29T22:00:19.721Z"
   },
   {
    "duration": 13,
    "start_time": "2022-04-29T22:00:19.762Z"
   },
   {
    "duration": 3,
    "start_time": "2022-04-29T22:00:19.818Z"
   },
   {
    "duration": 11,
    "start_time": "2022-04-29T22:00:19.823Z"
   },
   {
    "duration": 5,
    "start_time": "2022-04-29T22:00:19.836Z"
   },
   {
    "duration": 21,
    "start_time": "2022-04-29T22:00:19.842Z"
   },
   {
    "duration": 14,
    "start_time": "2022-04-29T22:00:19.865Z"
   },
   {
    "duration": 14,
    "start_time": "2022-04-29T22:00:19.881Z"
   },
   {
    "duration": 64,
    "start_time": "2022-04-29T22:00:19.896Z"
   },
   {
    "duration": 1322,
    "start_time": "2022-04-29T22:00:19.962Z"
   },
   {
    "duration": 129,
    "start_time": "2022-04-29T22:00:21.286Z"
   },
   {
    "duration": 6,
    "start_time": "2022-04-29T22:00:21.416Z"
   },
   {
    "duration": 11,
    "start_time": "2022-04-29T22:00:21.424Z"
   },
   {
    "duration": 40,
    "start_time": "2022-04-29T22:00:21.436Z"
   },
   {
    "duration": 352,
    "start_time": "2022-04-29T22:00:21.479Z"
   },
   {
    "duration": 736,
    "start_time": "2022-04-29T22:00:21.832Z"
   },
   {
    "duration": 1143,
    "start_time": "2022-04-29T22:00:22.569Z"
   },
   {
    "duration": 10,
    "start_time": "2022-04-29T22:00:23.713Z"
   },
   {
    "duration": 33,
    "start_time": "2022-04-29T22:00:23.724Z"
   },
   {
    "duration": 280,
    "start_time": "2022-04-29T22:00:23.758Z"
   },
   {
    "duration": 345,
    "start_time": "2022-04-29T22:00:24.039Z"
   },
   {
    "duration": 86,
    "start_time": "2022-04-29T22:00:24.386Z"
   },
   {
    "duration": 205,
    "start_time": "2022-04-29T22:00:24.473Z"
   },
   {
    "duration": 89,
    "start_time": "2022-04-29T22:00:24.679Z"
   },
   {
    "duration": 95,
    "start_time": "2022-04-29T22:00:24.770Z"
   },
   {
    "duration": 16,
    "start_time": "2022-04-29T22:00:24.867Z"
   },
   {
    "duration": 9,
    "start_time": "2022-04-29T22:08:24.148Z"
   },
   {
    "duration": 4,
    "start_time": "2022-04-29T22:09:34.775Z"
   },
   {
    "duration": 3,
    "start_time": "2022-04-29T22:09:56.724Z"
   },
   {
    "duration": 3,
    "start_time": "2022-04-29T22:10:12.278Z"
   },
   {
    "duration": 8,
    "start_time": "2022-04-29T22:10:52.708Z"
   },
   {
    "duration": 1959,
    "start_time": "2022-04-30T07:06:31.928Z"
   },
   {
    "duration": 80,
    "start_time": "2022-04-30T07:06:33.890Z"
   },
   {
    "duration": 20,
    "start_time": "2022-04-30T07:06:33.972Z"
   },
   {
    "duration": 38,
    "start_time": "2022-04-30T07:06:33.995Z"
   },
   {
    "duration": 18,
    "start_time": "2022-04-30T07:06:34.035Z"
   },
   {
    "duration": 15,
    "start_time": "2022-04-30T07:06:34.056Z"
   },
   {
    "duration": 58,
    "start_time": "2022-04-30T07:06:34.074Z"
   },
   {
    "duration": 22,
    "start_time": "2022-04-30T07:06:34.135Z"
   },
   {
    "duration": 7,
    "start_time": "2022-04-30T07:06:34.160Z"
   },
   {
    "duration": 12,
    "start_time": "2022-04-30T07:06:34.173Z"
   },
   {
    "duration": 47,
    "start_time": "2022-04-30T07:06:34.188Z"
   },
   {
    "duration": 58,
    "start_time": "2022-04-30T07:06:34.238Z"
   },
   {
    "duration": 52,
    "start_time": "2022-04-30T07:06:34.298Z"
   },
   {
    "duration": 39,
    "start_time": "2022-04-30T07:06:34.353Z"
   },
   {
    "duration": 106,
    "start_time": "2022-04-30T07:06:34.395Z"
   },
   {
    "duration": 2206,
    "start_time": "2022-04-30T07:06:34.503Z"
   },
   {
    "duration": 222,
    "start_time": "2022-04-30T07:06:36.712Z"
   },
   {
    "duration": 157,
    "start_time": "2022-04-30T07:06:36.937Z"
   },
   {
    "duration": 0,
    "start_time": "2022-04-30T07:06:37.098Z"
   },
   {
    "duration": 0,
    "start_time": "2022-04-30T07:06:37.100Z"
   },
   {
    "duration": 0,
    "start_time": "2022-04-30T07:06:37.101Z"
   },
   {
    "duration": 0,
    "start_time": "2022-04-30T07:06:37.103Z"
   },
   {
    "duration": 0,
    "start_time": "2022-04-30T07:06:37.131Z"
   },
   {
    "duration": 0,
    "start_time": "2022-04-30T07:06:37.132Z"
   },
   {
    "duration": 0,
    "start_time": "2022-04-30T07:06:37.134Z"
   },
   {
    "duration": 1,
    "start_time": "2022-04-30T07:06:37.135Z"
   },
   {
    "duration": 0,
    "start_time": "2022-04-30T07:06:37.137Z"
   },
   {
    "duration": 0,
    "start_time": "2022-04-30T07:06:37.139Z"
   },
   {
    "duration": 0,
    "start_time": "2022-04-30T07:06:37.141Z"
   },
   {
    "duration": 0,
    "start_time": "2022-04-30T07:06:37.142Z"
   },
   {
    "duration": 0,
    "start_time": "2022-04-30T07:06:37.143Z"
   },
   {
    "duration": 0,
    "start_time": "2022-04-30T07:06:37.145Z"
   },
   {
    "duration": 0,
    "start_time": "2022-04-30T07:06:37.146Z"
   },
   {
    "duration": 0,
    "start_time": "2022-04-30T07:06:37.148Z"
   },
   {
    "duration": 0,
    "start_time": "2022-04-30T07:06:37.149Z"
   },
   {
    "duration": 0,
    "start_time": "2022-04-30T07:06:37.150Z"
   },
   {
    "duration": 0,
    "start_time": "2022-04-30T07:06:37.152Z"
   },
   {
    "duration": 0,
    "start_time": "2022-04-30T07:06:37.153Z"
   },
   {
    "duration": 0,
    "start_time": "2022-04-30T07:06:37.155Z"
   },
   {
    "duration": 0,
    "start_time": "2022-04-30T07:06:37.156Z"
   },
   {
    "duration": 0,
    "start_time": "2022-04-30T07:06:37.157Z"
   },
   {
    "duration": 0,
    "start_time": "2022-04-30T07:06:37.158Z"
   },
   {
    "duration": 0,
    "start_time": "2022-04-30T07:06:37.159Z"
   },
   {
    "duration": 0,
    "start_time": "2022-04-30T07:06:37.161Z"
   },
   {
    "duration": 0,
    "start_time": "2022-04-30T07:06:37.162Z"
   },
   {
    "duration": 0,
    "start_time": "2022-04-30T07:06:37.164Z"
   },
   {
    "duration": 0,
    "start_time": "2022-04-30T07:06:37.165Z"
   },
   {
    "duration": 1650,
    "start_time": "2022-04-30T07:11:30.494Z"
   },
   {
    "duration": 25,
    "start_time": "2022-04-30T07:12:35.276Z"
   },
   {
    "duration": 9,
    "start_time": "2022-04-30T07:12:42.416Z"
   },
   {
    "duration": 10,
    "start_time": "2022-04-30T07:24:54.618Z"
   },
   {
    "duration": 7,
    "start_time": "2022-04-30T07:26:26.519Z"
   },
   {
    "duration": 1778,
    "start_time": "2022-04-30T07:27:16.226Z"
   },
   {
    "duration": 10,
    "start_time": "2022-04-30T07:29:00.600Z"
   },
   {
    "duration": 7,
    "start_time": "2022-04-30T07:30:52.867Z"
   },
   {
    "duration": 13,
    "start_time": "2022-04-30T07:31:00.328Z"
   },
   {
    "duration": 12,
    "start_time": "2022-04-30T07:50:57.018Z"
   },
   {
    "duration": 11,
    "start_time": "2022-04-30T07:51:23.168Z"
   },
   {
    "duration": 18,
    "start_time": "2022-04-30T07:51:36.143Z"
   },
   {
    "duration": 1591,
    "start_time": "2022-04-30T07:52:00.724Z"
   },
   {
    "duration": 21,
    "start_time": "2022-04-30T07:52:50.599Z"
   },
   {
    "duration": 7,
    "start_time": "2022-04-30T07:53:10.990Z"
   },
   {
    "duration": 1683,
    "start_time": "2022-04-30T07:53:57.093Z"
   },
   {
    "duration": 12,
    "start_time": "2022-04-30T07:54:04.400Z"
   },
   {
    "duration": 20,
    "start_time": "2022-04-30T07:55:28.691Z"
   },
   {
    "duration": 17,
    "start_time": "2022-04-30T07:55:51.243Z"
   },
   {
    "duration": 268,
    "start_time": "2022-04-30T07:56:39.713Z"
   },
   {
    "duration": 1713,
    "start_time": "2022-04-30T07:57:26.935Z"
   },
   {
    "duration": 6,
    "start_time": "2022-04-30T07:57:36.736Z"
   },
   {
    "duration": 96,
    "start_time": "2022-04-30T07:57:36.747Z"
   },
   {
    "duration": 20,
    "start_time": "2022-04-30T07:57:36.846Z"
   },
   {
    "duration": 20,
    "start_time": "2022-04-30T07:57:36.868Z"
   },
   {
    "duration": 59,
    "start_time": "2022-04-30T07:57:36.891Z"
   },
   {
    "duration": 15,
    "start_time": "2022-04-30T07:57:36.953Z"
   },
   {
    "duration": 33,
    "start_time": "2022-04-30T07:57:36.971Z"
   },
   {
    "duration": 32,
    "start_time": "2022-04-30T07:57:37.007Z"
   },
   {
    "duration": 6,
    "start_time": "2022-04-30T07:57:37.043Z"
   },
   {
    "duration": 22,
    "start_time": "2022-04-30T07:57:37.052Z"
   },
   {
    "duration": 18,
    "start_time": "2022-04-30T07:57:37.079Z"
   },
   {
    "duration": 38,
    "start_time": "2022-04-30T07:57:37.126Z"
   },
   {
    "duration": 24,
    "start_time": "2022-04-30T07:57:37.167Z"
   },
   {
    "duration": 54,
    "start_time": "2022-04-30T07:57:37.194Z"
   },
   {
    "duration": 97,
    "start_time": "2022-04-30T07:57:37.250Z"
   },
   {
    "duration": 2094,
    "start_time": "2022-04-30T07:57:37.350Z"
   },
   {
    "duration": 337,
    "start_time": "2022-04-30T07:57:39.447Z"
   },
   {
    "duration": 1556,
    "start_time": "2022-04-30T07:57:47.264Z"
   },
   {
    "duration": 244,
    "start_time": "2022-04-30T07:58:08.442Z"
   },
   {
    "duration": 10,
    "start_time": "2022-04-30T07:58:21.059Z"
   },
   {
    "duration": 6,
    "start_time": "2022-04-30T08:00:27.690Z"
   },
   {
    "duration": 4,
    "start_time": "2022-04-30T08:01:19.397Z"
   },
   {
    "duration": 66,
    "start_time": "2022-04-30T08:01:19.408Z"
   },
   {
    "duration": 19,
    "start_time": "2022-04-30T08:01:19.477Z"
   },
   {
    "duration": 40,
    "start_time": "2022-04-30T08:01:19.498Z"
   },
   {
    "duration": 16,
    "start_time": "2022-04-30T08:01:19.542Z"
   },
   {
    "duration": 14,
    "start_time": "2022-04-30T08:01:19.560Z"
   },
   {
    "duration": 59,
    "start_time": "2022-04-30T08:01:19.577Z"
   },
   {
    "duration": 20,
    "start_time": "2022-04-30T08:01:19.638Z"
   },
   {
    "duration": 17,
    "start_time": "2022-04-30T08:01:19.661Z"
   },
   {
    "duration": 22,
    "start_time": "2022-04-30T08:01:19.680Z"
   },
   {
    "duration": 7,
    "start_time": "2022-04-30T08:01:19.724Z"
   },
   {
    "duration": 38,
    "start_time": "2022-04-30T08:01:19.733Z"
   },
   {
    "duration": 51,
    "start_time": "2022-04-30T08:01:19.774Z"
   },
   {
    "duration": 25,
    "start_time": "2022-04-30T08:01:19.827Z"
   },
   {
    "duration": 114,
    "start_time": "2022-04-30T08:01:19.855Z"
   },
   {
    "duration": 2562,
    "start_time": "2022-04-30T08:01:19.972Z"
   },
   {
    "duration": 268,
    "start_time": "2022-04-30T08:01:22.536Z"
   },
   {
    "duration": 19,
    "start_time": "2022-04-30T08:01:22.807Z"
   },
   {
    "duration": 21,
    "start_time": "2022-04-30T08:01:22.829Z"
   },
   {
    "duration": 72,
    "start_time": "2022-04-30T08:01:22.853Z"
   },
   {
    "duration": 816,
    "start_time": "2022-04-30T08:01:22.927Z"
   },
   {
    "duration": 1291,
    "start_time": "2022-04-30T08:01:23.745Z"
   },
   {
    "duration": 2403,
    "start_time": "2022-04-30T08:01:25.041Z"
   },
   {
    "duration": 14,
    "start_time": "2022-04-30T08:01:27.447Z"
   },
   {
    "duration": 6,
    "start_time": "2022-04-30T08:01:27.464Z"
   },
   {
    "duration": 61,
    "start_time": "2022-04-30T08:01:27.473Z"
   },
   {
    "duration": 640,
    "start_time": "2022-04-30T08:01:27.537Z"
   },
   {
    "duration": 792,
    "start_time": "2022-04-30T08:01:28.180Z"
   },
   {
    "duration": 167,
    "start_time": "2022-04-30T08:01:28.974Z"
   },
   {
    "duration": 194,
    "start_time": "2022-04-30T08:01:29.144Z"
   },
   {
    "duration": 183,
    "start_time": "2022-04-30T08:01:29.341Z"
   },
   {
    "duration": 201,
    "start_time": "2022-04-30T08:01:29.526Z"
   },
   {
    "duration": 27,
    "start_time": "2022-04-30T08:01:29.729Z"
   },
   {
    "duration": 29,
    "start_time": "2022-04-30T08:01:29.759Z"
   },
   {
    "duration": 311,
    "start_time": "2022-04-30T08:01:29.790Z"
   },
   {
    "duration": 287,
    "start_time": "2022-04-30T08:01:30.104Z"
   },
   {
    "duration": 335,
    "start_time": "2022-04-30T08:01:30.393Z"
   },
   {
    "duration": 311,
    "start_time": "2022-04-30T08:01:30.730Z"
   },
   {
    "duration": 314,
    "start_time": "2022-04-30T08:01:31.043Z"
   },
   {
    "duration": 705,
    "start_time": "2022-04-30T08:01:31.359Z"
   },
   {
    "duration": 37,
    "start_time": "2022-04-30T08:01:32.067Z"
   },
   {
    "duration": 143,
    "start_time": "2022-04-30T08:01:32.107Z"
   },
   {
    "duration": 0,
    "start_time": "2022-04-30T08:01:32.253Z"
   },
   {
    "duration": 0,
    "start_time": "2022-04-30T08:01:32.255Z"
   },
   {
    "duration": 0,
    "start_time": "2022-04-30T08:01:32.256Z"
   },
   {
    "duration": 0,
    "start_time": "2022-04-30T08:01:32.258Z"
   },
   {
    "duration": 0,
    "start_time": "2022-04-30T08:01:32.260Z"
   },
   {
    "duration": 0,
    "start_time": "2022-04-30T08:01:32.261Z"
   },
   {
    "duration": 142,
    "start_time": "2022-04-30T08:05:01.452Z"
   },
   {
    "duration": 21,
    "start_time": "2022-04-30T08:05:28.088Z"
   },
   {
    "duration": 4,
    "start_time": "2022-04-30T08:07:01.265Z"
   },
   {
    "duration": 92,
    "start_time": "2022-04-30T08:07:01.280Z"
   },
   {
    "duration": 19,
    "start_time": "2022-04-30T08:07:01.374Z"
   },
   {
    "duration": 42,
    "start_time": "2022-04-30T08:07:01.395Z"
   },
   {
    "duration": 22,
    "start_time": "2022-04-30T08:07:01.441Z"
   },
   {
    "duration": 27,
    "start_time": "2022-04-30T08:07:01.465Z"
   },
   {
    "duration": 51,
    "start_time": "2022-04-30T08:07:01.494Z"
   },
   {
    "duration": 21,
    "start_time": "2022-04-30T08:07:01.548Z"
   },
   {
    "duration": 5,
    "start_time": "2022-04-30T08:07:01.571Z"
   },
   {
    "duration": 48,
    "start_time": "2022-04-30T08:07:01.578Z"
   },
   {
    "duration": 7,
    "start_time": "2022-04-30T08:07:01.630Z"
   },
   {
    "duration": 47,
    "start_time": "2022-04-30T08:07:01.640Z"
   },
   {
    "duration": 48,
    "start_time": "2022-04-30T08:07:01.690Z"
   },
   {
    "duration": 26,
    "start_time": "2022-04-30T08:07:01.740Z"
   },
   {
    "duration": 108,
    "start_time": "2022-04-30T08:07:01.768Z"
   },
   {
    "duration": 2188,
    "start_time": "2022-04-30T08:07:01.878Z"
   },
   {
    "duration": 265,
    "start_time": "2022-04-30T08:07:04.068Z"
   },
   {
    "duration": 11,
    "start_time": "2022-04-30T08:07:04.335Z"
   },
   {
    "duration": 17,
    "start_time": "2022-04-30T08:07:04.349Z"
   },
   {
    "duration": 85,
    "start_time": "2022-04-30T08:07:04.369Z"
   },
   {
    "duration": 660,
    "start_time": "2022-04-30T08:07:04.457Z"
   },
   {
    "duration": 1264,
    "start_time": "2022-04-30T08:07:05.124Z"
   },
   {
    "duration": 3275,
    "start_time": "2022-04-30T08:07:06.390Z"
   },
   {
    "duration": 17,
    "start_time": "2022-04-30T08:07:09.668Z"
   },
   {
    "duration": 7,
    "start_time": "2022-04-30T08:07:09.687Z"
   },
   {
    "duration": 30,
    "start_time": "2022-04-30T08:07:09.728Z"
   },
   {
    "duration": 487,
    "start_time": "2022-04-30T08:07:09.761Z"
   },
   {
    "duration": 634,
    "start_time": "2022-04-30T08:07:10.250Z"
   },
   {
    "duration": 164,
    "start_time": "2022-04-30T08:07:10.887Z"
   },
   {
    "duration": 178,
    "start_time": "2022-04-30T08:07:11.054Z"
   },
   {
    "duration": 186,
    "start_time": "2022-04-30T08:07:11.235Z"
   },
   {
    "duration": 191,
    "start_time": "2022-04-30T08:07:11.425Z"
   },
   {
    "duration": 28,
    "start_time": "2022-04-30T08:07:11.618Z"
   },
   {
    "duration": 30,
    "start_time": "2022-04-30T08:07:11.648Z"
   },
   {
    "duration": 298,
    "start_time": "2022-04-30T08:07:11.681Z"
   },
   {
    "duration": 281,
    "start_time": "2022-04-30T08:07:11.982Z"
   },
   {
    "duration": 420,
    "start_time": "2022-04-30T08:07:12.266Z"
   },
   {
    "duration": 448,
    "start_time": "2022-04-30T08:07:12.688Z"
   },
   {
    "duration": 312,
    "start_time": "2022-04-30T08:07:13.139Z"
   },
   {
    "duration": 493,
    "start_time": "2022-04-30T08:07:13.454Z"
   },
   {
    "duration": 34,
    "start_time": "2022-04-30T08:07:13.949Z"
   },
   {
    "duration": 41,
    "start_time": "2022-04-30T08:07:13.985Z"
   },
   {
    "duration": 15,
    "start_time": "2022-04-30T08:07:14.029Z"
   },
   {
    "duration": 499,
    "start_time": "2022-04-30T08:07:14.047Z"
   },
   {
    "duration": 145,
    "start_time": "2022-04-30T08:07:14.548Z"
   },
   {
    "duration": 0,
    "start_time": "2022-04-30T08:07:14.695Z"
   },
   {
    "duration": 0,
    "start_time": "2022-04-30T08:07:14.696Z"
   },
   {
    "duration": 0,
    "start_time": "2022-04-30T08:07:14.698Z"
   },
   {
    "duration": 80,
    "start_time": "2022-04-30T08:08:33.792Z"
   },
   {
    "duration": 49,
    "start_time": "2022-04-30T08:08:39.905Z"
   },
   {
    "duration": 48,
    "start_time": "2022-04-30T08:08:41.203Z"
   },
   {
    "duration": 48,
    "start_time": "2022-04-30T08:08:57.961Z"
   },
   {
    "duration": 985,
    "start_time": "2022-04-30T08:09:28.167Z"
   },
   {
    "duration": 963,
    "start_time": "2022-04-30T08:10:12.795Z"
   },
   {
    "duration": 262,
    "start_time": "2022-04-30T08:16:25.333Z"
   },
   {
    "duration": 256,
    "start_time": "2022-04-30T08:16:44.937Z"
   },
   {
    "duration": 28,
    "start_time": "2022-04-30T08:19:39.303Z"
   },
   {
    "duration": 268,
    "start_time": "2022-04-30T08:20:45.212Z"
   },
   {
    "duration": 263,
    "start_time": "2022-04-30T08:21:36.704Z"
   },
   {
    "duration": 36,
    "start_time": "2022-04-30T08:38:50.261Z"
   },
   {
    "duration": 5,
    "start_time": "2022-04-30T08:40:09.532Z"
   },
   {
    "duration": 69,
    "start_time": "2022-04-30T08:40:09.545Z"
   },
   {
    "duration": 25,
    "start_time": "2022-04-30T08:40:09.617Z"
   },
   {
    "duration": 21,
    "start_time": "2022-04-30T08:40:09.645Z"
   },
   {
    "duration": 17,
    "start_time": "2022-04-30T08:40:09.669Z"
   },
   {
    "duration": 14,
    "start_time": "2022-04-30T08:40:09.724Z"
   },
   {
    "duration": 23,
    "start_time": "2022-04-30T08:40:09.741Z"
   },
   {
    "duration": 58,
    "start_time": "2022-04-30T08:40:09.767Z"
   },
   {
    "duration": 5,
    "start_time": "2022-04-30T08:40:09.827Z"
   },
   {
    "duration": 35,
    "start_time": "2022-04-30T08:40:09.835Z"
   },
   {
    "duration": 9,
    "start_time": "2022-04-30T08:40:09.872Z"
   },
   {
    "duration": 48,
    "start_time": "2022-04-30T08:40:09.884Z"
   },
   {
    "duration": 35,
    "start_time": "2022-04-30T08:40:09.934Z"
   },
   {
    "duration": 55,
    "start_time": "2022-04-30T08:40:09.972Z"
   },
   {
    "duration": 95,
    "start_time": "2022-04-30T08:40:10.029Z"
   },
   {
    "duration": 2155,
    "start_time": "2022-04-30T08:40:10.128Z"
   },
   {
    "duration": 248,
    "start_time": "2022-04-30T08:40:12.287Z"
   },
   {
    "duration": 10,
    "start_time": "2022-04-30T08:40:12.538Z"
   },
   {
    "duration": 17,
    "start_time": "2022-04-30T08:40:12.551Z"
   },
   {
    "duration": 84,
    "start_time": "2022-04-30T08:40:12.571Z"
   },
   {
    "duration": 630,
    "start_time": "2022-04-30T08:40:12.658Z"
   },
   {
    "duration": 1303,
    "start_time": "2022-04-30T08:40:13.290Z"
   },
   {
    "duration": 1916,
    "start_time": "2022-04-30T08:40:14.595Z"
   },
   {
    "duration": 23,
    "start_time": "2022-04-30T08:40:16.514Z"
   },
   {
    "duration": 37,
    "start_time": "2022-04-30T08:40:16.539Z"
   },
   {
    "duration": 54,
    "start_time": "2022-04-30T08:40:16.578Z"
   },
   {
    "duration": 442,
    "start_time": "2022-04-30T08:40:16.634Z"
   },
   {
    "duration": 653,
    "start_time": "2022-04-30T08:40:17.079Z"
   },
   {
    "duration": 313,
    "start_time": "2022-04-30T08:40:17.736Z"
   },
   {
    "duration": 194,
    "start_time": "2022-04-30T08:40:18.052Z"
   },
   {
    "duration": 185,
    "start_time": "2022-04-30T08:40:18.252Z"
   },
   {
    "duration": 199,
    "start_time": "2022-04-30T08:40:18.439Z"
   },
   {
    "duration": 35,
    "start_time": "2022-04-30T08:40:18.640Z"
   },
   {
    "duration": 59,
    "start_time": "2022-04-30T08:40:18.677Z"
   },
   {
    "duration": 294,
    "start_time": "2022-04-30T08:40:18.738Z"
   },
   {
    "duration": 282,
    "start_time": "2022-04-30T08:40:19.034Z"
   },
   {
    "duration": 316,
    "start_time": "2022-04-30T08:40:19.318Z"
   },
   {
    "duration": 303,
    "start_time": "2022-04-30T08:40:19.636Z"
   },
   {
    "duration": 287,
    "start_time": "2022-04-30T08:40:19.942Z"
   },
   {
    "duration": 535,
    "start_time": "2022-04-30T08:40:20.231Z"
   },
   {
    "duration": 33,
    "start_time": "2022-04-30T08:40:20.768Z"
   },
   {
    "duration": 22,
    "start_time": "2022-04-30T08:40:31.955Z"
   },
   {
    "duration": 5,
    "start_time": "2022-04-30T08:41:35.476Z"
   },
   {
    "duration": 6,
    "start_time": "2022-04-30T08:41:58.153Z"
   },
   {
    "duration": 46,
    "start_time": "2022-04-30T08:42:34.559Z"
   },
   {
    "duration": 7,
    "start_time": "2022-04-30T08:42:35.602Z"
   },
   {
    "duration": 5,
    "start_time": "2022-04-30T08:42:36.931Z"
   },
   {
    "duration": 34,
    "start_time": "2022-04-30T08:44:25.646Z"
   },
   {
    "duration": 22,
    "start_time": "2022-04-30T08:52:41.883Z"
   },
   {
    "duration": 21,
    "start_time": "2022-04-30T08:53:39.894Z"
   },
   {
    "duration": 20,
    "start_time": "2022-04-30T08:53:48.944Z"
   },
   {
    "duration": 8,
    "start_time": "2022-04-30T09:45:14.246Z"
   },
   {
    "duration": 420,
    "start_time": "2022-04-30T09:46:04.622Z"
   },
   {
    "duration": 213,
    "start_time": "2022-04-30T09:59:31.422Z"
   },
   {
    "duration": 47,
    "start_time": "2022-04-30T10:27:27.550Z"
   },
   {
    "duration": 47,
    "start_time": "2022-04-30T10:27:54.257Z"
   },
   {
    "duration": 54,
    "start_time": "2022-04-30T10:28:17.303Z"
   },
   {
    "duration": 51,
    "start_time": "2022-04-30T10:28:24.200Z"
   },
   {
    "duration": 51,
    "start_time": "2022-04-30T10:29:10.974Z"
   },
   {
    "duration": 48,
    "start_time": "2022-04-30T10:36:04.296Z"
   },
   {
    "duration": 828,
    "start_time": "2022-04-30T10:39:20.841Z"
   },
   {
    "duration": 14,
    "start_time": "2022-04-30T10:45:51.601Z"
   },
   {
    "duration": 12,
    "start_time": "2022-04-30T10:47:07.173Z"
   },
   {
    "duration": 321,
    "start_time": "2022-04-30T10:48:56.251Z"
   },
   {
    "duration": 211,
    "start_time": "2022-04-30T10:49:22.792Z"
   },
   {
    "duration": 205,
    "start_time": "2022-04-30T10:49:39.561Z"
   },
   {
    "duration": 210,
    "start_time": "2022-04-30T10:50:07.090Z"
   },
   {
    "duration": 972,
    "start_time": "2022-04-30T10:50:54.013Z"
   },
   {
    "duration": 900,
    "start_time": "2022-04-30T10:51:17.659Z"
   },
   {
    "duration": 857,
    "start_time": "2022-04-30T10:51:38.527Z"
   },
   {
    "duration": 779,
    "start_time": "2022-04-30T10:52:00.448Z"
   },
   {
    "duration": 912,
    "start_time": "2022-04-30T10:52:25.108Z"
   },
   {
    "duration": 12,
    "start_time": "2022-04-30T11:02:15.370Z"
   },
   {
    "duration": 11,
    "start_time": "2022-04-30T11:07:08.896Z"
   },
   {
    "duration": 270,
    "start_time": "2022-04-30T11:07:14.177Z"
   },
   {
    "duration": 266,
    "start_time": "2022-04-30T11:07:28.036Z"
   },
   {
    "duration": 4,
    "start_time": "2022-04-30T13:48:20.461Z"
   },
   {
    "duration": 65,
    "start_time": "2022-04-30T13:48:20.471Z"
   },
   {
    "duration": 18,
    "start_time": "2022-04-30T13:48:20.538Z"
   },
   {
    "duration": 18,
    "start_time": "2022-04-30T13:48:20.558Z"
   },
   {
    "duration": 48,
    "start_time": "2022-04-30T13:48:20.579Z"
   },
   {
    "duration": 16,
    "start_time": "2022-04-30T13:48:20.629Z"
   },
   {
    "duration": 37,
    "start_time": "2022-04-30T13:48:20.647Z"
   },
   {
    "duration": 60,
    "start_time": "2022-04-30T13:48:20.687Z"
   },
   {
    "duration": 5,
    "start_time": "2022-04-30T13:48:20.750Z"
   },
   {
    "duration": 16,
    "start_time": "2022-04-30T13:48:20.761Z"
   },
   {
    "duration": 46,
    "start_time": "2022-04-30T13:48:20.780Z"
   },
   {
    "duration": 36,
    "start_time": "2022-04-30T13:48:20.829Z"
   },
   {
    "duration": 24,
    "start_time": "2022-04-30T13:48:20.867Z"
   },
   {
    "duration": 56,
    "start_time": "2022-04-30T13:48:20.894Z"
   },
   {
    "duration": 109,
    "start_time": "2022-04-30T13:48:20.953Z"
   },
   {
    "duration": 2171,
    "start_time": "2022-04-30T13:48:21.064Z"
   },
   {
    "duration": 263,
    "start_time": "2022-04-30T13:48:23.238Z"
   },
   {
    "duration": 20,
    "start_time": "2022-04-30T13:48:23.504Z"
   },
   {
    "duration": 12,
    "start_time": "2022-04-30T13:48:23.527Z"
   },
   {
    "duration": 82,
    "start_time": "2022-04-30T13:48:23.542Z"
   },
   {
    "duration": 609,
    "start_time": "2022-04-30T13:48:23.630Z"
   },
   {
    "duration": 1385,
    "start_time": "2022-04-30T13:48:24.242Z"
   },
   {
    "duration": 1934,
    "start_time": "2022-04-30T13:48:25.631Z"
   },
   {
    "duration": 15,
    "start_time": "2022-04-30T13:48:27.569Z"
   },
   {
    "duration": 18,
    "start_time": "2022-04-30T13:48:27.586Z"
   },
   {
    "duration": 27,
    "start_time": "2022-04-30T13:48:27.625Z"
   },
   {
    "duration": 469,
    "start_time": "2022-04-30T13:48:27.655Z"
   },
   {
    "duration": 654,
    "start_time": "2022-04-30T13:48:28.126Z"
   },
   {
    "duration": 283,
    "start_time": "2022-04-30T13:48:28.783Z"
   },
   {
    "duration": 178,
    "start_time": "2022-04-30T13:48:29.068Z"
   },
   {
    "duration": 187,
    "start_time": "2022-04-30T13:48:29.249Z"
   },
   {
    "duration": 202,
    "start_time": "2022-04-30T13:48:29.438Z"
   },
   {
    "duration": 27,
    "start_time": "2022-04-30T13:48:29.642Z"
   },
   {
    "duration": 53,
    "start_time": "2022-04-30T13:48:29.671Z"
   },
   {
    "duration": 298,
    "start_time": "2022-04-30T13:48:29.727Z"
   },
   {
    "duration": 283,
    "start_time": "2022-04-30T13:48:30.028Z"
   },
   {
    "duration": 322,
    "start_time": "2022-04-30T13:48:30.313Z"
   },
   {
    "duration": 309,
    "start_time": "2022-04-30T13:48:30.637Z"
   },
   {
    "duration": 303,
    "start_time": "2022-04-30T13:48:30.948Z"
   },
   {
    "duration": 523,
    "start_time": "2022-04-30T13:48:31.253Z"
   },
   {
    "duration": 22,
    "start_time": "2022-04-30T13:48:31.778Z"
   },
   {
    "duration": 34,
    "start_time": "2022-04-30T13:48:31.803Z"
   },
   {
    "duration": 25,
    "start_time": "2022-04-30T13:48:31.839Z"
   },
   {
    "duration": 462,
    "start_time": "2022-04-30T13:48:31.867Z"
   },
   {
    "duration": 149,
    "start_time": "2022-04-30T13:48:32.331Z"
   },
   {
    "duration": 66,
    "start_time": "2022-04-30T13:48:32.482Z"
   },
   {
    "duration": 46,
    "start_time": "2022-04-30T13:48:32.551Z"
   },
   {
    "duration": 69,
    "start_time": "2022-04-30T13:48:32.600Z"
   },
   {
    "duration": 824,
    "start_time": "2022-04-30T13:48:32.671Z"
   },
   {
    "duration": 27,
    "start_time": "2022-04-30T13:48:33.498Z"
   },
   {
    "duration": 287,
    "start_time": "2022-04-30T13:48:33.528Z"
   },
   {
    "duration": 15,
    "start_time": "2022-04-30T13:48:33.818Z"
   },
   {
    "duration": 320,
    "start_time": "2022-04-30T13:48:33.841Z"
   },
   {
    "duration": 1218,
    "start_time": "2022-04-30T15:58:29.769Z"
   },
   {
    "duration": 62,
    "start_time": "2022-04-30T15:58:30.989Z"
   },
   {
    "duration": 13,
    "start_time": "2022-04-30T15:58:31.052Z"
   },
   {
    "duration": 19,
    "start_time": "2022-04-30T15:58:31.067Z"
   },
   {
    "duration": 27,
    "start_time": "2022-04-30T15:58:31.087Z"
   },
   {
    "duration": 10,
    "start_time": "2022-04-30T15:58:31.116Z"
   },
   {
    "duration": 17,
    "start_time": "2022-04-30T15:58:31.128Z"
   },
   {
    "duration": 14,
    "start_time": "2022-04-30T15:58:31.147Z"
   },
   {
    "duration": 3,
    "start_time": "2022-04-30T15:58:31.163Z"
   },
   {
    "duration": 40,
    "start_time": "2022-04-30T15:58:31.169Z"
   },
   {
    "duration": 25,
    "start_time": "2022-04-30T15:58:31.211Z"
   },
   {
    "duration": 29,
    "start_time": "2022-04-30T15:58:31.238Z"
   },
   {
    "duration": 18,
    "start_time": "2022-04-30T15:58:31.268Z"
   },
   {
    "duration": 21,
    "start_time": "2022-04-30T15:58:31.288Z"
   },
   {
    "duration": 58,
    "start_time": "2022-04-30T15:58:31.310Z"
   },
   {
    "duration": 1541,
    "start_time": "2022-04-30T15:58:31.370Z"
   },
   {
    "duration": 170,
    "start_time": "2022-04-30T15:58:32.912Z"
   },
   {
    "duration": 7,
    "start_time": "2022-04-30T15:58:33.083Z"
   },
   {
    "duration": 8,
    "start_time": "2022-04-30T15:58:33.107Z"
   },
   {
    "duration": 37,
    "start_time": "2022-04-30T15:58:33.117Z"
   },
   {
    "duration": 466,
    "start_time": "2022-04-30T15:58:33.156Z"
   },
   {
    "duration": 841,
    "start_time": "2022-04-30T15:58:33.623Z"
   },
   {
    "duration": 1310,
    "start_time": "2022-04-30T15:58:34.465Z"
   },
   {
    "duration": 11,
    "start_time": "2022-04-30T15:58:35.776Z"
   },
   {
    "duration": 20,
    "start_time": "2022-04-30T15:58:35.788Z"
   },
   {
    "duration": 18,
    "start_time": "2022-04-30T15:58:35.809Z"
   },
   {
    "duration": 301,
    "start_time": "2022-04-30T15:58:35.829Z"
   },
   {
    "duration": 395,
    "start_time": "2022-04-30T15:58:36.134Z"
   },
   {
    "duration": 108,
    "start_time": "2022-04-30T15:58:36.531Z"
   },
   {
    "duration": 114,
    "start_time": "2022-04-30T15:58:36.640Z"
   },
   {
    "duration": 120,
    "start_time": "2022-04-30T15:58:36.756Z"
   },
   {
    "duration": 212,
    "start_time": "2022-04-30T15:58:36.878Z"
   },
   {
    "duration": 26,
    "start_time": "2022-04-30T15:58:37.092Z"
   },
   {
    "duration": 19,
    "start_time": "2022-04-30T15:58:37.120Z"
   },
   {
    "duration": 185,
    "start_time": "2022-04-30T15:58:37.141Z"
   },
   {
    "duration": 167,
    "start_time": "2022-04-30T15:58:37.328Z"
   },
   {
    "duration": 192,
    "start_time": "2022-04-30T15:58:37.497Z"
   },
   {
    "duration": 180,
    "start_time": "2022-04-30T15:58:37.691Z"
   },
   {
    "duration": 183,
    "start_time": "2022-04-30T15:58:37.873Z"
   },
   {
    "duration": 363,
    "start_time": "2022-04-30T15:58:38.058Z"
   },
   {
    "duration": 17,
    "start_time": "2022-04-30T15:58:38.423Z"
   },
   {
    "duration": 13,
    "start_time": "2022-04-30T15:58:38.441Z"
   },
   {
    "duration": 14,
    "start_time": "2022-04-30T15:58:38.456Z"
   },
   {
    "duration": 323,
    "start_time": "2022-04-30T15:58:38.472Z"
   },
   {
    "duration": 40,
    "start_time": "2022-04-30T15:58:38.796Z"
   },
   {
    "duration": 32,
    "start_time": "2022-04-30T15:58:38.838Z"
   },
   {
    "duration": 52,
    "start_time": "2022-04-30T15:58:38.871Z"
   },
   {
    "duration": 31,
    "start_time": "2022-04-30T15:58:38.925Z"
   },
   {
    "duration": 116,
    "start_time": "2022-04-30T15:58:38.958Z"
   },
   {
    "duration": 0,
    "start_time": "2022-04-30T15:58:39.076Z"
   },
   {
    "duration": 0,
    "start_time": "2022-04-30T15:58:39.077Z"
   },
   {
    "duration": 0,
    "start_time": "2022-04-30T15:58:39.079Z"
   },
   {
    "duration": 0,
    "start_time": "2022-04-30T15:58:39.080Z"
   },
   {
    "duration": 1129,
    "start_time": "2022-04-30T15:59:08.449Z"
   },
   {
    "duration": 53,
    "start_time": "2022-04-30T15:59:09.580Z"
   },
   {
    "duration": 14,
    "start_time": "2022-04-30T15:59:09.634Z"
   },
   {
    "duration": 15,
    "start_time": "2022-04-30T15:59:09.650Z"
   },
   {
    "duration": 13,
    "start_time": "2022-04-30T15:59:09.667Z"
   },
   {
    "duration": 12,
    "start_time": "2022-04-30T15:59:09.708Z"
   },
   {
    "duration": 24,
    "start_time": "2022-04-30T15:59:09.722Z"
   },
   {
    "duration": 15,
    "start_time": "2022-04-30T15:59:09.747Z"
   },
   {
    "duration": 7,
    "start_time": "2022-04-30T15:59:09.764Z"
   },
   {
    "duration": 8,
    "start_time": "2022-04-30T15:59:09.774Z"
   },
   {
    "duration": 5,
    "start_time": "2022-04-30T15:59:09.808Z"
   },
   {
    "duration": 25,
    "start_time": "2022-04-30T15:59:09.815Z"
   },
   {
    "duration": 18,
    "start_time": "2022-04-30T15:59:09.842Z"
   },
   {
    "duration": 17,
    "start_time": "2022-04-30T15:59:09.862Z"
   },
   {
    "duration": 60,
    "start_time": "2022-04-30T15:59:09.908Z"
   },
   {
    "duration": 1605,
    "start_time": "2022-04-30T15:59:09.970Z"
   },
   {
    "duration": 172,
    "start_time": "2022-04-30T15:59:11.577Z"
   },
   {
    "duration": 7,
    "start_time": "2022-04-30T15:59:11.751Z"
   },
   {
    "duration": 13,
    "start_time": "2022-04-30T15:59:11.759Z"
   },
   {
    "duration": 56,
    "start_time": "2022-04-30T15:59:11.773Z"
   },
   {
    "duration": 419,
    "start_time": "2022-04-30T15:59:11.831Z"
   },
   {
    "duration": 915,
    "start_time": "2022-04-30T15:59:12.252Z"
   },
   {
    "duration": 1361,
    "start_time": "2022-04-30T15:59:13.169Z"
   },
   {
    "duration": 11,
    "start_time": "2022-04-30T15:59:14.531Z"
   },
   {
    "duration": 4,
    "start_time": "2022-04-30T15:59:14.544Z"
   },
   {
    "duration": 19,
    "start_time": "2022-04-30T15:59:14.550Z"
   },
   {
    "duration": 355,
    "start_time": "2022-04-30T15:59:14.571Z"
   },
   {
    "duration": 433,
    "start_time": "2022-04-30T15:59:14.930Z"
   },
   {
    "duration": 107,
    "start_time": "2022-04-30T15:59:15.364Z"
   },
   {
    "duration": 122,
    "start_time": "2022-04-30T15:59:15.473Z"
   },
   {
    "duration": 119,
    "start_time": "2022-04-30T15:59:15.597Z"
   },
   {
    "duration": 237,
    "start_time": "2022-04-30T15:59:15.717Z"
   },
   {
    "duration": 19,
    "start_time": "2022-04-30T15:59:15.955Z"
   },
   {
    "duration": 37,
    "start_time": "2022-04-30T15:59:15.976Z"
   },
   {
    "duration": 179,
    "start_time": "2022-04-30T15:59:16.015Z"
   },
   {
    "duration": 218,
    "start_time": "2022-04-30T15:59:16.196Z"
   },
   {
    "duration": 207,
    "start_time": "2022-04-30T15:59:16.416Z"
   },
   {
    "duration": 199,
    "start_time": "2022-04-30T15:59:16.625Z"
   },
   {
    "duration": 191,
    "start_time": "2022-04-30T15:59:16.826Z"
   },
   {
    "duration": 337,
    "start_time": "2022-04-30T15:59:17.019Z"
   },
   {
    "duration": 17,
    "start_time": "2022-04-30T15:59:17.358Z"
   },
   {
    "duration": 13,
    "start_time": "2022-04-30T15:59:17.377Z"
   },
   {
    "duration": 7,
    "start_time": "2022-04-30T15:59:17.408Z"
   },
   {
    "duration": 305,
    "start_time": "2022-04-30T15:59:17.416Z"
   },
   {
    "duration": 33,
    "start_time": "2022-04-30T15:59:17.722Z"
   },
   {
    "duration": 33,
    "start_time": "2022-04-30T15:59:17.756Z"
   },
   {
    "duration": 34,
    "start_time": "2022-04-30T15:59:17.808Z"
   },
   {
    "duration": 34,
    "start_time": "2022-04-30T15:59:17.844Z"
   },
   {
    "duration": 637,
    "start_time": "2022-04-30T15:59:17.879Z"
   },
   {
    "duration": 10,
    "start_time": "2022-04-30T15:59:18.518Z"
   },
   {
    "duration": 193,
    "start_time": "2022-04-30T15:59:18.529Z"
   },
   {
    "duration": 9,
    "start_time": "2022-04-30T15:59:18.723Z"
   },
   {
    "duration": 210,
    "start_time": "2022-04-30T15:59:18.734Z"
   }
  ],
  "kernelspec": {
   "display_name": "Python 3",
   "language": "python",
   "name": "python3"
  },
  "language_info": {
   "codemirror_mode": {
    "name": "ipython",
    "version": 3
   },
   "file_extension": ".py",
   "mimetype": "text/x-python",
   "name": "python",
   "nbconvert_exporter": "python",
   "pygments_lexer": "ipython3",
   "version": "3.7.3"
  },
  "toc": {
   "base_numbering": 1,
   "nav_menu": {},
   "number_sections": true,
   "sideBar": true,
   "skip_h1_title": true,
   "title_cell": "Table of Contents",
   "title_sidebar": "Contents",
   "toc_cell": false,
   "toc_position": {},
   "toc_section_display": true,
   "toc_window_display": false
  }
 },
 "nbformat": 4,
 "nbformat_minor": 2
}
